{
 "cells": [
  {
   "cell_type": "code",
   "execution_count": 1,
   "metadata": {},
   "outputs": [
    {
     "data": {
      "text/html": [
       "        <script type=\"text/javascript\">\n",
       "        window.PlotlyConfig = {MathJaxConfig: 'local'};\n",
       "        if (window.MathJax) {MathJax.Hub.Config({SVG: {font: \"STIX-Web\"}});}\n",
       "        if (typeof require !== 'undefined') {\n",
       "        require.undef(\"plotly\");\n",
       "        requirejs.config({\n",
       "            paths: {\n",
       "                'plotly': ['https://cdn.plot.ly/plotly-latest.min']\n",
       "            }\n",
       "        });\n",
       "        require(['plotly'], function(Plotly) {\n",
       "            window._Plotly = Plotly;\n",
       "        });\n",
       "        }\n",
       "        </script>\n",
       "        "
      ]
     },
     "metadata": {},
     "output_type": "display_data"
    }
   ],
   "source": [
    "import json\n",
    "from collections import defaultdict\n",
    "\n",
    "from plotly.offline import init_notebook_mode, iplot\n",
    "from IPython.display import display, clear_output\n",
    "import ipywidgets as widgets\n",
    "import plotly.graph_objs as go\n",
    "import plotly\n",
    "import numpy as np\n",
    "import numpy.linalg as nla\n",
    "\n",
    "import sim_lib.util as util\n",
    "\n",
    "init_notebook_mode(connected=True)"
   ]
  },
  {
   "cell_type": "code",
   "execution_count": 2,
   "metadata": {},
   "outputs": [],
   "source": [
    "kgrid_data = {}\n",
    "with open('kgrid_data/kgrid_data.json', 'r') as kd:\n",
    "    kgrid_data = json.loads(kd.read())"
   ]
  },
  {
   "cell_type": "code",
   "execution_count": 3,
   "metadata": {},
   "outputs": [],
   "source": [
    "class StrategyVis:\n",
    "    def __init__(self, data):\n",
    "        \n",
    "        self.data = data\n",
    "        self._pm = '' # powerlaw mode\n",
    "\n",
    "        plaw_modes = list(self.data.keys())\n",
    "        r_vals = list(self.data[plaw_modes[0]].keys())\n",
    "        p_vals = list(self.data[plaw_modes[0]][r_vals[0]].keys())\n",
    "        \n",
    "        # Welfare by p\n",
    "        self.by_p_header = widgets.HTML(\n",
    "                            value=\"<b>Average welfare by p</b>\",\n",
    "                            placeholder='Some HTML',\n",
    "                            description='')\n",
    "        self.by_p_r = widgets.SelectMultiple(\n",
    "                                    options=r_vals,\n",
    "                                    description='Resources per vertex',\n",
    "                                    disabled=False)\n",
    "        \n",
    "        # Welfare by epoch\n",
    "        self.by_epoch_header = widgets.HTML(\n",
    "                            value=\"<b>Average welfare by epoch</b>\",\n",
    "                            placeholder='Some HTML',\n",
    "                            description='')\n",
    "        self.by_epoch_p = widgets.SelectMultiple(\n",
    "                                    options=p_vals,\n",
    "                                    description='Prob info trans',\n",
    "                                    disabled=False)\n",
    "        self.by_epoch_r = widgets.Select(\n",
    "                                    options=r_vals,\n",
    "                                    description='Resources per vertex',\n",
    "                                    disabled=False)\n",
    "\n",
    "        # Degree vs util transfer\n",
    "        self.degree_tf_header = widgets.HTML(\n",
    "                            value=\"<b>Utility transfered by degree</b>\",\n",
    "                            placeholder='Some HTML',\n",
    "                            description='')\n",
    "        self.degree_tf_p = widgets.Select(\n",
    "                                    options=p_vals,\n",
    "                                    description='Prob info trans',\n",
    "                                    disabled=False)\n",
    "        self.degree_tf_r = widgets.Select(\n",
    "                                    options=r_vals,\n",
    "                                    description='Resources per vertex',\n",
    "                                    disabled=False)\n",
    "        \n",
    "        # Gain per interaction initiated\n",
    "        self.int_gain_header = widgets.HTML(\n",
    "                            value=\"<b>Gain / Interactions Initiated</b>\",\n",
    "                            placeholder='Some HTML',\n",
    "                            description='')\n",
    "        self.int_gain_r = widgets.SelectMultiple(\n",
    "                                    options=r_vals,\n",
    "                                    description='Resources per vertex',\n",
    "                                    disabled=False)\n",
    "        \n",
    "        self.general_header = widgets.HTML(\n",
    "                            value=\"<b>General settings</b>\",\n",
    "                            placeholder='Some HTML',\n",
    "                            description='')\n",
    "        self.strategy = widgets.SelectMultiple(\n",
    "                                    options=['mwu', 'se_mwu', 'unif', 'rr'],\n",
    "                                    description='Neighbor allocation strategy',\n",
    "                                    disabled=False)\n",
    "        self.plot_selection = widgets.SelectMultiple(\n",
    "                                    options=['by_p', 'by_epoch', 'gain', 'degree_tf'],\n",
    "                                    description='Plots to render',\n",
    "                                    disabled=False)\n",
    "        self.plaw_r = widgets.ToggleButton(\n",
    "                                    value=False,\n",
    "                                    description='Powerlaw r',\n",
    "                                    disabled=False,\n",
    "                                    button_style='',\n",
    "                                    tooltip='Powerlaw distributed resources')\n",
    "        self.plaw_ut = widgets.ToggleButton(\n",
    "                                    value=False,\n",
    "                                    description='Powerlaw ut',\n",
    "                                    disabled=False,\n",
    "                                    button_style='',\n",
    "                                    tooltip='Powerlaw distributed utilities')\n",
    "\n",
    "        # Update button\n",
    "        self.plot_button = widgets.Button(\n",
    "                                    description='Plot',\n",
    "                                    disabled=False,\n",
    "                                    button_style='',\n",
    "                                    tooltip='Plots by selected parameters')\n",
    "        self.plot_button.on_click(self.plot)\n",
    "        \n",
    "        self.visuals = [self.by_p_header, self.by_p_r,\n",
    "                        self.by_epoch_header, self.by_epoch_p, self.by_epoch_r,\n",
    "                        self.int_gain_header, self.int_gain_r,\n",
    "                        self.degree_tf_header, self.degree_tf_p, self.degree_tf_r,\n",
    "                        self.general_header, self.strategy, self.plot_selection, self.plaw_r, self.plaw_ut,\n",
    "                        self.plot_button]\n",
    "        \n",
    "        self.render_visuals()\n",
    "        \n",
    "    def render_visuals(self):\n",
    "\n",
    "        # Render widgets\n",
    "        for vis in self.visuals:\n",
    "            display(vis)\n",
    "\n",
    "    def plot(self, button):\n",
    "        \n",
    "        # Reset widgets\n",
    "        clear_output()\n",
    "        self.render_visuals()\n",
    "        \n",
    "        by_p_r = self.by_p_r.value\n",
    "        \n",
    "        by_epoch_p = self.by_epoch_p.value\n",
    "        by_epoch_r = self.by_epoch_r.value\n",
    "        \n",
    "        int_gain_r = self.int_gain_r.value\n",
    "        \n",
    "        degree_tf_p = self.degree_tf_p.value\n",
    "        degree_tf_r = self.degree_tf_r.value\n",
    "        \n",
    "        strategies = self.strategy.value\n",
    "        plaw_r = self.plaw_r.value\n",
    "        plaw_ut = self.plaw_ut.value\n",
    "        plots = self.plot_selection.value\n",
    "        \n",
    "        if plaw_r and not plaw_ut:\n",
    "            self._pm = 'plaw_r'\n",
    "        elif not plaw_r and plaw_ut:\n",
    "            self._pm = 'plaw_ut'\n",
    "        elif plaw_r and plaw_ut:\n",
    "            self._pm = 'plaw_both'\n",
    "        else:\n",
    "            self._pm = 'no_plaw'\n",
    "        \n",
    "        by_p = {}\n",
    "        by_epoch = {}\n",
    "        by_gain = {}\n",
    "        degree_tf = {}\n",
    "        \n",
    "        for strat in strategies:\n",
    "            # plot by p\n",
    "            if 'by_p' in plots:\n",
    "                by_p_uts = self.plot_by_p(self.data, by_p_r, strat)\n",
    "                by_p[strat] = by_p_uts\n",
    "            \n",
    "            # plot by epoch\n",
    "            if 'by_epoch' in plots:\n",
    "                by_epoch_uts = self.plot_by_epoch(self.data, by_epoch_r, by_epoch_p, strat)\n",
    "                by_epoch[strat] = by_epoch_uts\n",
    "            \n",
    "            # plot by interactions initiated over actual path length\n",
    "            if 'gain' in plots:\n",
    "                gain_ratios = self.plot_int_gain_ratios(self.data, int_gain_r, strat)\n",
    "                by_gain[strat] = gain_ratios\n",
    "                \n",
    "            if 'degree_tf' in plots:\n",
    "                degree_transfers = self.plot_degree_tf(self.data, degree_tf_p, degree_tf_r, strat)\n",
    "                degree_tf[strat] = degree_transfers\n",
    "                \n",
    "        #Create chart comparing all strategies\n",
    "        if 'by_p' in plots and len(strategies) > 1:\n",
    "            self.render_plot_by_p(by_p)\n",
    "        if 'by_epoch' in plots and len(strategies) > 1:\n",
    "            self.render_plot_by_epoch(by_epoch, by_epoch_r)\n",
    "        if 'gain' in plots and len(strategies) > 1:\n",
    "            self.render_plot_int_gain_ratios(by_gain)\n",
    "        if 'degree_tf' in plots and len(strategies) > 1:\n",
    "            self.render_plot_degree_tf(degree_tf, degree_tf_p, degree_tf_r)\n",
    "            \n",
    "    def plot_by_p(self, data, by_p_r, strat):\n",
    "        by_p_utils = []\n",
    "        for r in by_p_r:\n",
    "            r_utils = []\n",
    "            for p, p_data in data[self._pm][r].items():\n",
    "                r_utils.append((p, [ sum(uts[-1]) / len(uts[-1])\n",
    "                                    for uts in p_data['utils'][strat] ]))\n",
    "            by_p_utils.append((r, r_utils))\n",
    "\n",
    "        self.render_plot_by_p({strat : by_p_utils})\n",
    "        return by_p_utils\n",
    "        \n",
    "    def render_plot_by_p(self, plot_data):        \n",
    "        fig = go.Figure()\n",
    "\n",
    "        colors = plotly.colors.DEFAULT_PLOTLY_COLORS\n",
    "        \n",
    "        comparison = (len(plot_data) > 1)\n",
    "        \n",
    "        i_idx = 0\n",
    "        for strat, utils in plot_data.items():\n",
    "            for j_idx, r_data in enumerate(utils):\n",
    "                color = colors[(i_idx + j_idx) % len(colors)]\n",
    "\n",
    "                r_val, r_utils = r_data\n",
    "\n",
    "                #Add averages trace\n",
    "                p_vals = [ p for (p, uts) in r_utils ]\n",
    "                ut_vals = [ np.average(uts) for (p, uts) in r_utils ]\n",
    "\n",
    "                #Error bars\n",
    "                std_vals = [ np.std(uts) for (p, uts) in r_utils ]\n",
    "\n",
    "                strat_name = f' strat={strat}' if comparison else ''\n",
    "                fig.add_trace(go.Scatter(x=p_vals,\n",
    "                    y=ut_vals, mode='lines+markers', hoverinfo='skip',\n",
    "                    name=f'avg social welfare rate (r={r_val}{strat_name})', marker=dict(color=color),\n",
    "                    error_y=dict(type='data', array=std_vals, visible=True)))\n",
    "\n",
    "                #Add individual points trace\n",
    "                indiv_p_vals = []\n",
    "                indiv_ut_vals = []\n",
    "                for (p, uts) in r_utils:\n",
    "                    indiv_ut_vals.extend(uts)\n",
    "                    indiv_p_vals.extend([p] * len(uts))\n",
    "                fig.add_trace(go.Scatter(x=indiv_p_vals,\n",
    "                    y=indiv_ut_vals, mode='markers', hoverinfo='skip', opacity=0.3,\n",
    "                    marker=dict(color=color), name=f'social welfare per iter (r={r_val}{strat_name})'))\n",
    "            i_idx += 1\n",
    "\n",
    "        fig.layout.update(showlegend=False)\n",
    "        strat_name = 'Comparison'\n",
    "        if not comparison:\n",
    "            strat_name = list(plot_data.keys())[0]\n",
    "        plot_title = f'Average Social Welfare vs p ({strat_name})'\n",
    "        fig.layout.update(title=plot_title, showlegend=True,\n",
    "            xaxis=dict(title='p'), yaxis=dict(title='avg social welfare'),\n",
    "            plot_bgcolor='rgba(0,0,0,0)')\n",
    "\n",
    "        iplot(fig)\n",
    "        \n",
    "    def plot_by_epoch(self, data, by_epoch_r, by_epoch_p, strat):\n",
    "        by_epoch_utils = []\n",
    "        epoch_r_data = data[self._pm][by_epoch_r]\n",
    "        for p in by_epoch_p:\n",
    "            p_utils = []\n",
    "            epoch_p_utils = epoch_r_data[p]['utils'][strat]\n",
    "            for it_uts in epoch_p_utils:\n",
    "                p_utils.append([(ep, sum(ep_uts) / len(ep_uts)) for ep, ep_uts in enumerate(it_uts)])\n",
    "            by_epoch_utils.append((p, p_utils))\n",
    "\n",
    "        self.render_plot_by_epoch({strat : by_epoch_utils}, by_epoch_r)\n",
    "        return by_epoch_utils\n",
    "            \n",
    "    def render_plot_by_epoch(self, plot_data, r_val):\n",
    "        fig = go.Figure()\n",
    "\n",
    "        colors = plotly.colors.DEFAULT_PLOTLY_COLORS\n",
    "        \n",
    "        comparison = (len(plot_data) > 1)\n",
    "        \n",
    "        i_idx = 0\n",
    "        for strat, utils in plot_data.items():\n",
    "            for j_idx, p_data in enumerate(utils):\n",
    "                color = colors[(i_idx + j_idx)  % len(colors)]\n",
    "\n",
    "                p_val, p_utils = p_data\n",
    "\n",
    "                #Add averages trace\n",
    "                ep_uts = defaultdict(lambda : [])\n",
    "                for ut_per_ep in p_utils:\n",
    "                    for (ep, ut) in ut_per_ep:\n",
    "                        ep_uts[ep].append(ut)\n",
    "\n",
    "                ep_vals = sorted(list(ep_uts.keys()))\n",
    "                ut_vals = [ np.average(ep_uts[ep]) for ep in ep_vals ]\n",
    "                std_vals = [ np.std(ep_uts[ep]) for ep in ep_vals ]\n",
    "                \n",
    "                strat_name = f' strat={strat}' if comparison else ''\n",
    "                fig.add_trace(go.Scatter(x=ep_vals,\n",
    "                    y=ut_vals, mode='lines+markers', hoverinfo='skip',\n",
    "                    name=f'avg social welfare rate (p={p_val}{strat_name})', marker=dict(color=color),\n",
    "                    error_y=dict(type='data', array=std_vals, visible=True)))\n",
    "\n",
    "                #Add individual points trace\n",
    "                indiv_ep_vals = []\n",
    "                indiv_ut_vals = []\n",
    "                for ep in ep_vals:\n",
    "                    uts = ep_uts[ep]\n",
    "                    indiv_ut_vals.extend(uts)\n",
    "                    indiv_ep_vals.extend([ep] * len(uts))\n",
    "                fig.add_trace(go.Scatter(x=indiv_ep_vals,\n",
    "                    y=indiv_ut_vals, mode='markers', hoverinfo='skip', opacity=0.3,\n",
    "                    marker=dict(color=color), name=f'social welfare per iter (p={p_val}{strat_name})'))\n",
    "            i_idx += 1\n",
    "\n",
    "        fig.layout.update(showlegend=False)\n",
    "        strat_name = 'Comparison'\n",
    "        if not comparison:\n",
    "            strat_name = list(plot_data.keys())[0]\n",
    "        plot_title = f\"Average Social Welfare vs Epoch # (r={r_val} {strat_name})\"\n",
    "        fig.layout.update(title=plot_title, showlegend=True,\n",
    "            xaxis=dict(title='Epoch #'), yaxis=dict(title='avg social welfare'),\n",
    "            plot_bgcolor='rgba(0,0,0,0)')\n",
    "        fig.update_xaxes(range=[0, int(r_val) // 2])\n",
    "\n",
    "        iplot(fig)\n",
    "        \n",
    "    def plot_int_gain_ratios(self, data, int_gain_r, strat):\n",
    "        int_gain_ratios = []\n",
    "        for r in int_gain_r:\n",
    "            r_ratios = []\n",
    "            for p, p_data in data[self._pm][r].items():\n",
    "                p_ratios = []\n",
    "                ser_graphs = data[self._pm][r][p]['graphs'][strat] \n",
    "                for idx, fsg in enumerate(ser_graphs):\n",
    "                    isg = data[self._pm][r][p]['init_graphs'][idx]\n",
    "                    init_g = util.json_to_graph(isg)\n",
    "                    final_g = util.json_to_graph(fsg)\n",
    "                    init_uts = { v.vnum : v.utility for v in init_g.vertices }\n",
    "                    final_uts = { v.vnum : v.utility for v in final_g.vertices }\n",
    "                    init_prov = { v.vnum : v.provider for v in init_g.vertices }\n",
    "                    final_prov = { v.vnum : v.provider for v in final_g.vertices }\n",
    "                    ratios = []\n",
    "                    for v in final_g.vertices:\n",
    "                        gain = final_uts[v.vnum] - init_uts[v.vnum]\n",
    "                        if v.init_ints == 0 or gain == 0:\n",
    "                            continue\n",
    "                        ratios.append(gain / v.init_ints)\n",
    "                    p_ratios.append(np.average(ratios))\n",
    "                r_ratios.append((p, p_ratios))\n",
    "            int_gain_ratios.append((r, r_ratios))\n",
    "\n",
    "        self.render_plot_int_gain_ratios({strat : int_gain_ratios})\n",
    "        return int_gain_ratios\n",
    "        \n",
    "    def render_plot_int_gain_ratios(self, plot_data):\n",
    "        fig = go.Figure()\n",
    "\n",
    "        colors = plotly.colors.DEFAULT_PLOTLY_COLORS\n",
    "        \n",
    "        comparison = (len(plot_data) > 1)\n",
    "        \n",
    "        i_idx = 0\n",
    "        for strat, ratios in plot_data.items():\n",
    "            for j_idx, r_data in enumerate(ratios):\n",
    "                color = colors[(i_idx + j_idx) % len(colors)]\n",
    "\n",
    "                r_val, r_ratios = r_data\n",
    "\n",
    "                #Add averages trace\n",
    "                p_vals = [ p for (p, ratios) in r_ratios ]\n",
    "                ratio_vals = [ np.average(ratios) for (p, ratios) in r_ratios ]\n",
    "\n",
    "                #Error bars\n",
    "                std_vals = [ np.std(ratios) for (p, ratios) in r_ratios ]\n",
    "\n",
    "                strat_name = f' strat={strat}' if comparison else ''\n",
    "                fig.add_trace(go.Scatter(x=p_vals,\n",
    "                    y=ratio_vals, mode='lines+markers', hoverinfo='skip',\n",
    "                    name=f'Gain / Interactions initiated (r={r_val}{strat_name})', marker=dict(color=color),\n",
    "                    error_y=dict(type='data', array=std_vals, visible=True)))\n",
    "\n",
    "                #Add individual points trace\n",
    "                indiv_p_vals = []\n",
    "                indiv_ratio_vals = []\n",
    "                for (p, ratios) in r_ratios:\n",
    "                    indiv_ratio_vals.extend(ratios)\n",
    "                    indiv_p_vals.extend([p] * len(ratios))\n",
    "                fig.add_trace(go.Scatter(x=indiv_p_vals,\n",
    "                    y=indiv_ratio_vals, mode='markers', hoverinfo='skip', opacity=0.3,\n",
    "                    marker=dict(color=color), name=f'ratio per iter (r={r_val}{strat_name})'))\n",
    "            i_idx += 1\n",
    "\n",
    "        fig.layout.update(showlegend=False)\n",
    "        strat_name = 'Comparison'\n",
    "        if not comparison:\n",
    "            strat_name = list(plot_data.keys())[0]\n",
    "        plot_title = f\"Gain / Interactions initiated vs p ({strat_name})\"\n",
    "        fig.layout.update(title=plot_title, showlegend=True,\n",
    "            xaxis=dict(title='p'), yaxis=dict(title='gain / interactions initiated'),\n",
    "            plot_bgcolor='rgba(0,0,0,0)')\n",
    "\n",
    "        iplot(fig)\n",
    "        \n",
    "    def plot_degree_tf(self, data, degree_tf_p, degree_tf_r, strat):\n",
    "        in_transfers = [] # gains\n",
    "        out_transfers = []\n",
    "        sim_data = data[self._pm][degree_tf_r][degree_tf_p]\n",
    "        \n",
    "        for idx, fsg in enumerate(sim_data['graphs'][strat]):\n",
    "            \n",
    "            # Add dicts for mapping degree : transfer lists\n",
    "            in_transfers.append(defaultdict(lambda : []))\n",
    "            out_transfers.append(defaultdict(lambda : []))\n",
    "            \n",
    "            isg = sim_data['init_graphs'][idx]\n",
    "            init_g = util.json_to_graph(isg)\n",
    "            final_g = util.json_to_graph(fsg)\n",
    "            init_uts = { v.vnum : v.utility for v in init_g.vertices }\n",
    "            final_uts = { v.vnum : v.utility for v in final_g.vertices }\n",
    "            init_prov = { v.vnum : v.provider for v in init_g.vertices }\n",
    "            final_prov = { v.vnum : v.provider for v in final_g.vertices }\n",
    "            for v in final_g.vertices:\n",
    "                gain = final_uts[v.vnum] - init_uts[v.vnum]\n",
    "                if v.init_ints == 0 or gain == 0:\n",
    "                    continue\n",
    "                in_transfers[idx][v.degree].append(gain)\n",
    "                \n",
    "            # Neighborhoods don't change now so construct static from init graph\n",
    "            nbor_map = { v.vnum : [ nbor.vnum for nbor in v.nbors ] for v in init_g.vertices }\n",
    "            vnum_map = { v.vnum : v for v in init_g.vertices }\n",
    "            \n",
    "            iter_out_tfs = defaultdict(lambda : 0)\n",
    "            ut_map = sim_data['maps'][strat][idx]\n",
    "            \n",
    "            for vtx in ut_map: # Uses vnum to represent vtx\n",
    "                nbors = nbor_map[int(vtx)]\n",
    "                vtx_out_tfs = 0\n",
    "                for nbor in nbors:\n",
    "                    nbor = str(nbor)\n",
    "                    if len(ut_map[nbor]['from']) < 2: # no gains in util\n",
    "                        continue\n",
    "                        \n",
    "                    if ut_map[nbor]['from'][-2] != int(vtx):\n",
    "                        continue\n",
    "                    nbor_cur_ut = ut_map[nbor]['ut']\n",
    "                    nbor_prev_ut = init_uts[int(nbor)]\n",
    "                    vtx_out_tfs += (nbor_cur_ut - nbor_prev_ut)\n",
    "                iter_out_tfs[vtx] += vtx_out_tfs\n",
    "                \n",
    "            for vtx, tfs in iter_out_tfs.items():\n",
    "                out_transfers[idx][vnum_map[int(vtx)].degree].append(tfs)\n",
    "                \n",
    "        for itf_dict in in_transfers:\n",
    "            for deg, tfs in itf_dict.items():\n",
    "                itf_dict[deg] = np.average(tfs)\n",
    "        for otf_dict in out_transfers:\n",
    "            for deg, tfs in otf_dict.items():\n",
    "                otf_dict[deg] = np.average(tfs)\n",
    "\n",
    "        self.render_plot_degree_tf({strat : (in_transfers, out_transfers)}, degree_tf_p, degree_tf_r)\n",
    "        return (in_transfers, out_transfers)\n",
    "    \n",
    "    def render_plot_degree_tf(self, plot_data, p_val, r_val):\n",
    "        fig = go.Figure()\n",
    "\n",
    "        colors = plotly.colors.DEFAULT_PLOTLY_COLORS\n",
    "        \n",
    "        comparison = (len(plot_data) > 1)\n",
    "        \n",
    "        i_idx = 0\n",
    "        for strat, transfers in plot_data.items():\n",
    "            in_color = colors[(i_idx) % len(colors)]\n",
    "            out_color = colors[(i_idx + 1) % len(colors)]\n",
    "\n",
    "            in_tfs, out_tfs = transfers\n",
    "\n",
    "            for direction, color, tfs in [('In', in_color, in_tfs), ('Out', out_color, out_tfs)]:\n",
    "                tf_degs = np.array([ list(tf.keys()) for tf in tfs ])\n",
    "                tf_degs = np.unique(np.hstack(tf_degs))\n",
    "\n",
    "                tf_full = defaultdict(lambda : []) # Map of all degrees to all transfers\n",
    "                for tf_dict in tfs:\n",
    "                    for deg, tf_val in tf_dict.items():\n",
    "                        tf_full[deg].append(tf_val)\n",
    "\n",
    "                tf_avgs = [ np.average(tf_full[deg]) for deg in tf_degs ]\n",
    "                #Error bars\n",
    "                tf_std_vals = [ np.std(tf_vals) for (deg, tf_vals) in tf_full.items() ]\n",
    "\n",
    "                strat_name = f' strat={strat}' if comparison else ''\n",
    "                fig.add_trace(go.Scatter(x=tf_degs,\n",
    "                    y=tf_avgs, mode='lines+markers', hoverinfo='skip',\n",
    "                    name=f'{direction} transfers (r={r_val}{strat_name})', marker=dict(color=color),\n",
    "                    error_y=dict(type='data', array=tf_std_vals, visible=True)))\n",
    "\n",
    "                #Add individual points trace\n",
    "                indiv_tf_degs = []\n",
    "                indiv_tf_vals = []\n",
    "                for (deg, tf_vals) in tf_full.items():\n",
    "                    indiv_tf_vals.extend(tf_vals)\n",
    "                    indiv_tf_degs.extend([deg] * len(tf_vals))\n",
    "                fig.add_trace(go.Scatter(x=indiv_tf_degs,\n",
    "                    y=indiv_tf_vals, mode='markers', hoverinfo='skip', opacity=0.3,\n",
    "                    marker=dict(color=color), name=f'{direction} transfers per iter (r={r_val}{strat_name})'))\n",
    "            i_idx += 2\n",
    "\n",
    "        fig.layout.update(showlegend=False)\n",
    "        strat_name = 'Comparison'\n",
    "        if not comparison:\n",
    "            strat_name = list(plot_data.keys())[0]\n",
    "        plot_title = f\"Degree vs Utility transfers ({strat_name})\"\n",
    "        fig.layout.update(title=plot_title, showlegend=True,\n",
    "            xaxis=dict(title='degree'), yaxis=dict(title='utility transfered'),\n",
    "            plot_bgcolor='rgba(0,0,0,0)')\n",
    "\n",
    "        iplot(fig)"
   ]
  },
  {
   "cell_type": "code",
   "execution_count": 4,
   "metadata": {
    "scrolled": false
   },
   "outputs": [
    {
     "data": {
      "application/vnd.jupyter.widget-view+json": {
       "model_id": "10f2f087c3c9432ba5759baeb2140302",
       "version_major": 2,
       "version_minor": 0
      },
      "text/plain": [
       "HTML(value='<b>Average welfare by p</b>', placeholder='Some HTML')"
      ]
     },
     "metadata": {},
     "output_type": "display_data"
    },
    {
     "data": {
      "application/vnd.jupyter.widget-view+json": {
       "model_id": "3f1a21ec40254824a58295eb6d963eec",
       "version_major": 2,
       "version_minor": 0
      },
      "text/plain": [
       "SelectMultiple(description='Resources per vertex', options=('128', '64', '32', '16', '8', '4', '2'), value=())"
      ]
     },
     "metadata": {},
     "output_type": "display_data"
    },
    {
     "data": {
      "application/vnd.jupyter.widget-view+json": {
       "model_id": "457f3163d14e4d628d2467d34b9df753",
       "version_major": 2,
       "version_minor": 0
      },
      "text/plain": [
       "HTML(value='<b>Average welfare by epoch</b>', placeholder='Some HTML')"
      ]
     },
     "metadata": {},
     "output_type": "display_data"
    },
    {
     "data": {
      "application/vnd.jupyter.widget-view+json": {
       "model_id": "4a344617f65540d7bf7ca3a4f4b9ebd4",
       "version_major": 2,
       "version_minor": 0
      },
      "text/plain": [
       "SelectMultiple(description='Prob info trans', options=('1.0', '0.9', '0.8', '0.7', '0.6', '0.5', '0.4', '0.3',…"
      ]
     },
     "metadata": {},
     "output_type": "display_data"
    },
    {
     "data": {
      "application/vnd.jupyter.widget-view+json": {
       "model_id": "440b527220754ac29c8c558c560267f9",
       "version_major": 2,
       "version_minor": 0
      },
      "text/plain": [
       "Select(description='Resources per vertex', options=('128', '64', '32', '16', '8', '4', '2'), value='128')"
      ]
     },
     "metadata": {},
     "output_type": "display_data"
    },
    {
     "data": {
      "application/vnd.jupyter.widget-view+json": {
       "model_id": "6fec4cf87e354381b2e21fb8ab938b95",
       "version_major": 2,
       "version_minor": 0
      },
      "text/plain": [
       "HTML(value='<b>Gain / Interactions Initiated</b>', placeholder='Some HTML')"
      ]
     },
     "metadata": {},
     "output_type": "display_data"
    },
    {
     "data": {
      "application/vnd.jupyter.widget-view+json": {
       "model_id": "b548547aeb8b4c04babfbd2eed18e08d",
       "version_major": 2,
       "version_minor": 0
      },
      "text/plain": [
       "SelectMultiple(description='Resources per vertex', options=('128', '64', '32', '16', '8', '4', '2'), value=())"
      ]
     },
     "metadata": {},
     "output_type": "display_data"
    },
    {
     "data": {
      "application/vnd.jupyter.widget-view+json": {
       "model_id": "e7b2fa9a62c644ba91afbfffe2d11da8",
       "version_major": 2,
       "version_minor": 0
      },
      "text/plain": [
       "HTML(value='<b>Utility transfered by degree</b>', placeholder='Some HTML')"
      ]
     },
     "metadata": {},
     "output_type": "display_data"
    },
    {
     "data": {
      "application/vnd.jupyter.widget-view+json": {
       "model_id": "ccfe430d88e9419dbbba243da4c7e912",
       "version_major": 2,
       "version_minor": 0
      },
      "text/plain": [
       "Select(description='Prob info trans', options=('1.0', '0.9', '0.8', '0.7', '0.6', '0.5', '0.4', '0.3', '0.2', …"
      ]
     },
     "metadata": {},
     "output_type": "display_data"
    },
    {
     "data": {
      "application/vnd.jupyter.widget-view+json": {
       "model_id": "d0d0bf2c64294d5ebea8879ea5242bce",
       "version_major": 2,
       "version_minor": 0
      },
      "text/plain": [
       "Select(description='Resources per vertex', options=('128', '64', '32', '16', '8', '4', '2'), value='128')"
      ]
     },
     "metadata": {},
     "output_type": "display_data"
    },
    {
     "data": {
      "application/vnd.jupyter.widget-view+json": {
       "model_id": "78cf2ca77a3649cb81f2dda5fd396417",
       "version_major": 2,
       "version_minor": 0
      },
      "text/plain": [
       "HTML(value='<b>General settings</b>', placeholder='Some HTML')"
      ]
     },
     "metadata": {},
     "output_type": "display_data"
    },
    {
     "data": {
      "application/vnd.jupyter.widget-view+json": {
       "model_id": "aa1e3afa270442c18c4ba7db3d1f20f5",
       "version_major": 2,
       "version_minor": 0
      },
      "text/plain": [
       "SelectMultiple(description='Neighbor allocation strategy', options=('mwu', 'se_mwu', 'unif', 'rr'), value=())"
      ]
     },
     "metadata": {},
     "output_type": "display_data"
    },
    {
     "data": {
      "application/vnd.jupyter.widget-view+json": {
       "model_id": "2a40eab91b9b4266b475d48fbd535b70",
       "version_major": 2,
       "version_minor": 0
      },
      "text/plain": [
       "SelectMultiple(description='Plots to render', options=('by_p', 'by_epoch', 'gain', 'degree_tf'), value=())"
      ]
     },
     "metadata": {},
     "output_type": "display_data"
    },
    {
     "data": {
      "application/vnd.jupyter.widget-view+json": {
       "model_id": "39dfe819398e4d0abfa247cbf0481123",
       "version_major": 2,
       "version_minor": 0
      },
      "text/plain": [
       "ToggleButton(value=False, description='Powerlaw r', tooltip='Powerlaw distributed resources')"
      ]
     },
     "metadata": {},
     "output_type": "display_data"
    },
    {
     "data": {
      "application/vnd.jupyter.widget-view+json": {
       "model_id": "23d3cd4deb3b434b8bf993ce30912dbd",
       "version_major": 2,
       "version_minor": 0
      },
      "text/plain": [
       "ToggleButton(value=False, description='Powerlaw ut', tooltip='Powerlaw distributed utilities')"
      ]
     },
     "metadata": {},
     "output_type": "display_data"
    },
    {
     "data": {
      "application/vnd.jupyter.widget-view+json": {
       "model_id": "95d566776f0d4816a531d73d04b2b854",
       "version_major": 2,
       "version_minor": 0
      },
      "text/plain": [
       "Button(description='Plot', style=ButtonStyle(), tooltip='Plots by selected parameters')"
      ]
     },
     "metadata": {},
     "output_type": "display_data"
    }
   ],
   "source": [
    "vis = StrategyVis(kgrid_data)"
   ]
  },
  {
   "cell_type": "code",
   "execution_count": null,
   "metadata": {
    "scrolled": true
   },
   "outputs": [],
   "source": []
  }
 ],
 "metadata": {
  "kernelspec": {
   "display_name": "Python 3",
   "language": "python",
   "name": "python3"
  },
  "language_info": {
   "codemirror_mode": {
    "name": "ipython",
    "version": 3
   },
   "file_extension": ".py",
   "mimetype": "text/x-python",
   "name": "python",
   "nbconvert_exporter": "python",
   "pygments_lexer": "ipython3",
   "version": "3.6.2"
  }
 },
 "nbformat": 4,
 "nbformat_minor": 2
}
