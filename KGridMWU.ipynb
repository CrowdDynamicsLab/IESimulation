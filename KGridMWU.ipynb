{
 "cells": [
  {
   "cell_type": "code",
   "execution_count": 1,
   "metadata": {},
   "outputs": [
    {
     "data": {
      "text/html": [
       "        <script type=\"text/javascript\">\n",
       "        window.PlotlyConfig = {MathJaxConfig: 'local'};\n",
       "        if (window.MathJax) {MathJax.Hub.Config({SVG: {font: \"STIX-Web\"}});}\n",
       "        if (typeof require !== 'undefined') {\n",
       "        require.undef(\"plotly\");\n",
       "        requirejs.config({\n",
       "            paths: {\n",
       "                'plotly': ['https://cdn.plot.ly/plotly-latest.min']\n",
       "            }\n",
       "        });\n",
       "        require(['plotly'], function(Plotly) {\n",
       "            window._Plotly = Plotly;\n",
       "        });\n",
       "        }\n",
       "        </script>\n",
       "        "
      ]
     },
     "metadata": {},
     "output_type": "display_data"
    }
   ],
   "source": [
    "import json\n",
    "from collections import defaultdict\n",
    "\n",
    "from plotly.offline import init_notebook_mode, iplot\n",
    "from IPython.display import display, clear_output\n",
    "import ipywidgets as widgets\n",
    "import plotly.graph_objs as go\n",
    "import plotly\n",
    "import numpy as np\n",
    "import numpy.linalg as nla\n",
    "\n",
    "import sim_lib.util as util\n",
    "\n",
    "init_notebook_mode(connected=True)"
   ]
  },
  {
   "cell_type": "code",
   "execution_count": 2,
   "metadata": {},
   "outputs": [],
   "source": [
    "kgrid_plaw_data = None\n",
    "with open('data/kgrid_plaw_data.json', 'r') as kpd:\n",
    "    kgrid_plaw_data = json.loads(kpd.read())\n",
    "\n",
    "kgrid_data = None\n",
    "with open('data/kgrid_data.json', 'r') as kd:\n",
    "    kgrid_data = json.loads(kd.read())"
   ]
  },
  {
   "cell_type": "code",
   "execution_count": 5,
   "metadata": {},
   "outputs": [],
   "source": [
    "class StrategyVis:\n",
    "    def __init__(self, data, plaw_data):\n",
    "        \n",
    "        self.data = data\n",
    "        self.plaw_data = plaw_data\n",
    "\n",
    "        r_vals = list(self.data.keys())\n",
    "        r_vals.remove('plaw')\n",
    "        p_vals = list(self.data[r_vals[0]].keys())\n",
    "        \n",
    "        # Welfare by p\n",
    "        self.by_p_header = widgets.HTML(\n",
    "                            value=\"<b>Average welfare by p</b>\",\n",
    "                            placeholder='Some HTML',\n",
    "                            description='')\n",
    "        self.by_p_r = widgets.SelectMultiple(\n",
    "                                    options=r_vals,\n",
    "                                    description='Resources per vertex',\n",
    "                                    disabled=False)\n",
    "        \n",
    "        # Welfare by epoch\n",
    "        self.by_epoch_header = widgets.HTML(\n",
    "                            value=\"<b>Average welfare by epoch</b>\",\n",
    "                            placeholder='Some HTML',\n",
    "                            description='')\n",
    "        self.by_epoch_p = widgets.SelectMultiple(\n",
    "                                    options=p_vals,\n",
    "                                    description='Prob info trans',\n",
    "                                    disabled=False)\n",
    "        self.by_epoch_r = widgets.Select(\n",
    "                                    options=r_vals,\n",
    "                                    description='Resources per vertex',\n",
    "                                    disabled=False)\n",
    "\n",
    "        # Gain per interaction initiated\n",
    "        self.int_gain_header = widgets.HTML(\n",
    "                            value=\"<b>Gain / Interactions Initiated</b>\",\n",
    "                            placeholder='Some HTML',\n",
    "                            description='')\n",
    "        self.int_gain_r = widgets.SelectMultiple(\n",
    "                                    options=r_vals,\n",
    "                                    description='Resources per vertex',\n",
    "                                    disabled=False)\n",
    "        \n",
    "        self.general_header = widgets.HTML(\n",
    "                            value=\"<b>General settings</b>\",\n",
    "                            placeholder='Some HTML',\n",
    "                            description='')\n",
    "        self.strategy = widgets.SelectMultiple(\n",
    "                                    options=['mwu', 'se_mwu', 'even'],\n",
    "                                    description='Neighbor allocation strategy',\n",
    "                                    disabled=False)\n",
    "        self.powerlaw = widgets.ToggleButton(\n",
    "                                    value=False,\n",
    "                                    description='Powerlaw',\n",
    "                                    disabled=False,\n",
    "                                    button_style='',\n",
    "                                    tooltip='Powerlaw distributed resources')\n",
    "\n",
    "        # Update button\n",
    "        self.plot_button = widgets.Button(\n",
    "                                    description='Plot',\n",
    "                                    disabled=False,\n",
    "                                    button_style='',\n",
    "                                    tooltip='Plots by selected parameters')\n",
    "        self.plot_button.on_click(self.plot)\n",
    "        \n",
    "        self.visuals = [self.by_p_header, self.by_p_r,\n",
    "                        self.by_epoch_header, self.by_epoch_p, self.by_epoch_r,\n",
    "                        self.int_gain_header, self.int_gain_r,\n",
    "                        self.general_header, self.strategy, self.powerlaw,\n",
    "                        self.plot_button]\n",
    "        \n",
    "        self.render_visuals()\n",
    "        \n",
    "    def render_visuals(self):\n",
    "\n",
    "        # Render widgets\n",
    "        for vis in self.visuals:\n",
    "            display(vis)\n",
    "\n",
    "    def plot(self, button):\n",
    "        \n",
    "        # Reset widgets\n",
    "        clear_output()\n",
    "        self.render_visuals()\n",
    "        \n",
    "        by_p_r = self.by_p_r.value\n",
    "        \n",
    "        by_epoch_p = self.by_epoch_p.value\n",
    "        by_epoch_r = self.by_epoch_r.value\n",
    "        \n",
    "        int_gain_r = self.int_gain_r.value\n",
    "        \n",
    "        strategies = self.strategy.value\n",
    "        powerlaw = self.powerlaw.value\n",
    "        \n",
    "        data = self.data if not powerlaw else self.plaw_data\n",
    "        \n",
    "        for strat in strategies:\n",
    "            # plot by p\n",
    "            by_p_utils = []\n",
    "            for r in by_p_r:\n",
    "                r_utils = []\n",
    "                for p, p_data in data[r].items():\n",
    "                    r_utils.append((p, [ sum(uts[-1]) / len(uts[-1]) for uts in p_data['utils'][strat] ]))\n",
    "                by_p_utils.append((r, r_utils))\n",
    "            \n",
    "            if by_p_r:\n",
    "                self.plot_by_p(by_p_utils, strat)\n",
    "            \n",
    "            # plot by epoch\n",
    "            by_epoch_utils = []\n",
    "            epoch_r_data = data[by_epoch_r]\n",
    "            for p in by_epoch_p:\n",
    "                p_utils = []\n",
    "                epoch_p_utils = epoch_r_data[p]['utils'][strat]\n",
    "                for it_uts in epoch_p_utils:\n",
    "                    p_utils.append([(ep, sum(ep_uts) / len(ep_uts)) for ep, ep_uts in enumerate(it_uts)])\n",
    "                by_epoch_utils.append((p, p_utils))\n",
    "                \n",
    "            if by_epoch_p:\n",
    "                self.plot_by_epoch(by_epoch_utils, strat, by_epoch_r)\n",
    "            \n",
    "            # plot by interactions initiated over actual path length\n",
    "            int_gain_ratios = []\n",
    "            for r in int_gain_r:\n",
    "                r_ratios = []\n",
    "                for p, p_data in data[r].items():\n",
    "                    p_ratios = []\n",
    "                    ser_graphs = data[r][p]['graphs'][strat] \n",
    "                    for isg, fsg in ser_graphs:\n",
    "                        init_g = util.json_to_graph(isg)\n",
    "                        final_g = util.json_to_graph(fsg)\n",
    "                        init_uts = { v.vnum : v.utility for v in init_g.vertices }\n",
    "                        final_uts = { v.vnum : v.utility for v in final_g.vertices }\n",
    "                        init_prov = { v.vnum : v.provider for v in init_g.vertices }\n",
    "                        final_prov = { v.vnum : v.provider for v in final_g.vertices }\n",
    "                        ratios = []\n",
    "                        for v in final_g.vertices:\n",
    "                            gain = final_uts[v.vnum] - init_uts[v.vnum]\n",
    "                            if v.init_ints == 0 or gain == 0:\n",
    "                                continue\n",
    "                            ratios.append(gain / v.init_ints)\n",
    "                        p_ratios.append(np.average(ratios))\n",
    "                    r_ratios.append((p, p_ratios))\n",
    "                int_gain_ratios.append((r, r_ratios))\n",
    "                \n",
    "            if int_gain_r:\n",
    "                self.plot_int_gain_ratios(int_gain_ratios, strat)\n",
    "            \n",
    "    def plot_by_p(self, utils, strat):\n",
    "        fig = go.Figure()\n",
    "\n",
    "        colors = plotly.colors.DEFAULT_PLOTLY_COLORS\n",
    "        \n",
    "        for idx, r_data in enumerate(utils):\n",
    "            color = colors[idx]\n",
    "            \n",
    "            r_val, r_utils = r_data\n",
    "\n",
    "            #Add averages trace\n",
    "            p_vals = [ p for (p, uts) in r_utils ]\n",
    "            ut_vals = [ np.average(uts) for (p, uts) in r_utils ]\n",
    "            \n",
    "            #Error bars\n",
    "            std_vals = [ np.std(uts) for (p, uts) in r_utils ]\n",
    "            \n",
    "            fig.add_trace(go.Scatter(x=p_vals,\n",
    "                y=ut_vals, mode='lines+markers', hoverinfo='skip',\n",
    "                name=f'avg social welfare rate (r={r_val})', marker=dict(color=color),\n",
    "                error_y=dict(type='data', array=std_vals, visible=True)))\n",
    "\n",
    "            #Add individual points trace\n",
    "            indiv_p_vals = []\n",
    "            indiv_ut_vals = []\n",
    "            for (p, uts) in r_utils:\n",
    "                indiv_ut_vals.extend(uts)\n",
    "                indiv_p_vals.extend([p] * len(uts))\n",
    "            fig.add_trace(go.Scatter(x=indiv_p_vals,\n",
    "                y=indiv_ut_vals, mode='markers', hoverinfo='skip', opacity=0.7,\n",
    "                marker=dict(color=color), name=f'social welfare per iter (r={r_val})'))\n",
    "\n",
    "        fig.layout.update(showlegend=False)\n",
    "        plot_title = f\"Average Social Welfare vs p ({strat})\"\n",
    "        fig.layout.update(title=plot_title, showlegend=True,\n",
    "            xaxis=dict(title='p'), yaxis=dict(title='avg social welfare'),\n",
    "            plot_bgcolor='rgba(0,0,0,0)')\n",
    "\n",
    "        iplot(fig)\n",
    "            \n",
    "    def plot_by_epoch(self, utils, strat, r_val):\n",
    "        fig = go.Figure()\n",
    "\n",
    "        colors = plotly.colors.DEFAULT_PLOTLY_COLORS\n",
    "        \n",
    "        for idx, p_data in enumerate(utils):\n",
    "            color = colors[idx]\n",
    "            \n",
    "            p_val, p_utils = p_data\n",
    "\n",
    "            #Add averages trace\n",
    "            ep_uts = defaultdict(lambda : [])\n",
    "            for ut_per_ep in p_utils:\n",
    "                for (ep, ut) in ut_per_ep:\n",
    "                    ep_uts[ep].append(ut)\n",
    "            \n",
    "            ep_vals = sorted(list(ep_uts.keys()))\n",
    "            ut_vals = [ np.average(ep_uts[ep]) for ep in ep_vals ]\n",
    "            std_vals = [ np.std(ep_uts[ep]) for ep in ep_vals ]\n",
    "            fig.add_trace(go.Scatter(x=ep_vals,\n",
    "                y=ut_vals, mode='lines+markers', hoverinfo='skip',\n",
    "                name=f'avg social welfare rate (p={p_val})', marker=dict(color=color),\n",
    "                error_y=dict(type='data', array=std_vals, visible=True)))\n",
    "\n",
    "            #Add individual points trace\n",
    "            indiv_ep_vals = []\n",
    "            indiv_ut_vals = []\n",
    "            for ep in ep_vals:\n",
    "                uts = ep_uts[ep]\n",
    "                indiv_ut_vals.extend(uts)\n",
    "                indiv_ep_vals.extend([ep] * len(uts))\n",
    "            fig.add_trace(go.Scatter(x=indiv_ep_vals,\n",
    "                y=indiv_ut_vals, mode='markers', hoverinfo='skip', opacity=0.7,\n",
    "                marker=dict(color=color), name=f'social welfare per iter (p={p_val})'))\n",
    "\n",
    "        fig.layout.update(showlegend=False)\n",
    "        plot_title = f\"Average Social Welfare vs Epoch # (r={r_val} {strat})\"\n",
    "        fig.layout.update(title=plot_title, showlegend=True,\n",
    "            xaxis=dict(title='Epoch #'), yaxis=dict(title='avg social welfare'),\n",
    "            plot_bgcolor='rgba(0,0,0,0)')\n",
    "\n",
    "        iplot(fig)\n",
    "        \n",
    "    def plot_int_gain_ratios(self, ratios, strat):\n",
    "        fig = go.Figure()\n",
    "\n",
    "        colors = plotly.colors.DEFAULT_PLOTLY_COLORS\n",
    "        \n",
    "        for idx, r_data in enumerate(ratios):\n",
    "            color = colors[idx]\n",
    "            \n",
    "            r_val, r_ratios = r_data\n",
    "\n",
    "            #Add averages trace\n",
    "            p_vals = [ p for (p, ratios) in r_ratios ]\n",
    "            ratio_vals = [ np.average(ratios) for (p, ratios) in r_ratios ]\n",
    "            \n",
    "            #Error bars\n",
    "            std_vals = [ np.std(ratios) for (p, ratios) in r_ratios ]\n",
    "            \n",
    "            fig.add_trace(go.Scatter(x=p_vals,\n",
    "                y=ratio_vals, mode='lines+markers', hoverinfo='skip',\n",
    "                name=f'Gain / Interactions initiated (r={r_val})', marker=dict(color=color),\n",
    "                error_y=dict(type='data', array=std_vals, visible=True)))\n",
    "\n",
    "            #Add individual points trace\n",
    "            indiv_p_vals = []\n",
    "            indiv_ratio_vals = []\n",
    "            for (p, ratios) in r_ratios:\n",
    "                indiv_ratio_vals.extend(ratios)\n",
    "                indiv_p_vals.extend([p] * len(ratios))\n",
    "            fig.add_trace(go.Scatter(x=indiv_p_vals,\n",
    "                y=indiv_ratio_vals, mode='markers', hoverinfo='skip', opacity=0.7,\n",
    "                marker=dict(color=color), name=f'ratio per iter (r={r_val})'))\n",
    "\n",
    "        fig.layout.update(showlegend=False)\n",
    "        plot_title = f\"Gain / Interactions initiated vs p ({strat})\"\n",
    "        fig.layout.update(title=plot_title, showlegend=True,\n",
    "            xaxis=dict(title='p'), yaxis=dict(title='gain / interactions initiated'),\n",
    "            plot_bgcolor='rgba(0,0,0,0)')\n",
    "\n",
    "        iplot(fig)"
   ]
  },
  {
   "cell_type": "code",
   "execution_count": 6,
   "metadata": {
    "scrolled": false
   },
   "outputs": [
    {
     "data": {
      "application/vnd.jupyter.widget-view+json": {
       "model_id": "c80e25c9523f4fafba0839e85130972c",
       "version_major": 2,
       "version_minor": 0
      },
      "text/plain": [
       "HTML(value='<b>Average welfare by p</b>', placeholder='Some HTML')"
      ]
     },
     "metadata": {},
     "output_type": "display_data"
    },
    {
     "data": {
      "application/vnd.jupyter.widget-view+json": {
       "model_id": "5462190d4d21480ea04e0166296e2fe8",
       "version_major": 2,
       "version_minor": 0
      },
      "text/plain": [
       "SelectMultiple(description='Resources per vertex', options=('128', '64', '32', '16', '8', '4', '2'), value=())"
      ]
     },
     "metadata": {},
     "output_type": "display_data"
    },
    {
     "data": {
      "application/vnd.jupyter.widget-view+json": {
       "model_id": "851f484c89e44e389ebceb6b90acc6b0",
       "version_major": 2,
       "version_minor": 0
      },
      "text/plain": [
       "HTML(value='<b>Average welfare by epoch</b>', placeholder='Some HTML')"
      ]
     },
     "metadata": {},
     "output_type": "display_data"
    },
    {
     "data": {
      "application/vnd.jupyter.widget-view+json": {
       "model_id": "d8a9c9dcba9f4c8c940d729c901e002d",
       "version_major": 2,
       "version_minor": 0
      },
      "text/plain": [
       "SelectMultiple(description='Prob info trans', options=('1.0', '0.9', '0.8', '0.7', '0.6', '0.5', '0.4', '0.3',…"
      ]
     },
     "metadata": {},
     "output_type": "display_data"
    },
    {
     "data": {
      "application/vnd.jupyter.widget-view+json": {
       "model_id": "de514031f4cc46679e97273184abaee2",
       "version_major": 2,
       "version_minor": 0
      },
      "text/plain": [
       "Select(description='Resources per vertex', options=('128', '64', '32', '16', '8', '4', '2'), value='128')"
      ]
     },
     "metadata": {},
     "output_type": "display_data"
    },
    {
     "data": {
      "application/vnd.jupyter.widget-view+json": {
       "model_id": "988eb96ef7d9443da5fd28747357bc83",
       "version_major": 2,
       "version_minor": 0
      },
      "text/plain": [
       "HTML(value='<b>Gain / Interactions Initiated</b>', placeholder='Some HTML')"
      ]
     },
     "metadata": {},
     "output_type": "display_data"
    },
    {
     "data": {
      "application/vnd.jupyter.widget-view+json": {
       "model_id": "2ad1cf53b2ec435b9899c4746597f615",
       "version_major": 2,
       "version_minor": 0
      },
      "text/plain": [
       "SelectMultiple(description='Resources per vertex', index=(1, 2, 3, 4, 5, 6), options=('128', '64', '32', '16',…"
      ]
     },
     "metadata": {},
     "output_type": "display_data"
    },
    {
     "data": {
      "application/vnd.jupyter.widget-view+json": {
       "model_id": "9576b323052b46e795046f966659c095",
       "version_major": 2,
       "version_minor": 0
      },
      "text/plain": [
       "HTML(value='<b>General settings</b>', placeholder='Some HTML')"
      ]
     },
     "metadata": {},
     "output_type": "display_data"
    },
    {
     "data": {
      "application/vnd.jupyter.widget-view+json": {
       "model_id": "eda14fbfec8b4c24a87c960a85b0460e",
       "version_major": 2,
       "version_minor": 0
      },
      "text/plain": [
       "SelectMultiple(description='Neighbor allocation strategy', index=(0, 2), options=('mwu', 'se_mwu', 'even'), va…"
      ]
     },
     "metadata": {},
     "output_type": "display_data"
    },
    {
     "data": {
      "application/vnd.jupyter.widget-view+json": {
       "model_id": "5fb7199e4d7346e0a4ffc22d008257c1",
       "version_major": 2,
       "version_minor": 0
      },
      "text/plain": [
       "ToggleButton(value=False, description='Powerlaw', tooltip='Powerlaw distributed resources')"
      ]
     },
     "metadata": {},
     "output_type": "display_data"
    },
    {
     "data": {
      "application/vnd.jupyter.widget-view+json": {
       "model_id": "a58d2dfed2f443f9b7c78d0e3347033d",
       "version_major": 2,
       "version_minor": 0
      },
      "text/plain": [
       "Button(description='Plot', style=ButtonStyle(), tooltip='Plots by selected parameters')"
      ]
     },
     "metadata": {},
     "output_type": "display_data"
    },
    {
     "data": {
      "application/vnd.plotly.v1+json": {
       "config": {
        "linkText": "Export to plot.ly",
        "plotlyServerURL": "https://plot.ly",
        "showLink": false
       },
       "data": [
        {
         "error_y": {
          "array": [
           0.01973909527445613,
           0.02507124508881848,
           0.008598947360217489,
           0.012546076490047046,
           0.01487380081740551,
           0.010028775695141883,
           0.009495824421914219,
           0.00828483363907555,
           0.0033612063470508844,
           0.0008114641818340461
          ],
          "type": "data",
          "visible": true
         },
         "hoverinfo": "skip",
         "marker": {
          "color": "rgb(31, 119, 180)"
         },
         "mode": "lines+markers",
         "name": "Gain / Interactions initiated (r=64)",
         "type": "scatter",
         "x": [
          "1.0",
          "0.9",
          "0.8",
          "0.7",
          "0.6",
          "0.5",
          "0.4",
          "0.3",
          "0.2",
          "0.1"
         ],
         "y": [
          0.11619929347405951,
          0.1085005905147669,
          0.09313689976956441,
          0.0691731498525325,
          0.0674797888134567,
          0.05821843189338764,
          0.04494195964975573,
          0.032499163851680085,
          0.02259265968959739,
          0.01709801241638975
         ]
        },
        {
         "hoverinfo": "skip",
         "marker": {
          "color": "rgb(31, 119, 180)"
         },
         "mode": "markers",
         "name": "ratio per iter (r=64)",
         "opacity": 0.7,
         "type": "scatter",
         "x": [
          "1.0",
          "1.0",
          "1.0",
          "1.0",
          "1.0",
          "1.0",
          "1.0",
          "1.0",
          "1.0",
          "1.0",
          "0.9",
          "0.9",
          "0.9",
          "0.9",
          "0.9",
          "0.9",
          "0.9",
          "0.9",
          "0.9",
          "0.9",
          "0.8",
          "0.8",
          "0.8",
          "0.8",
          "0.8",
          "0.8",
          "0.8",
          "0.8",
          "0.8",
          "0.8",
          "0.7",
          "0.7",
          "0.7",
          "0.7",
          "0.7",
          "0.7",
          "0.7",
          "0.7",
          "0.7",
          "0.7",
          "0.6",
          "0.6",
          "0.6",
          "0.6",
          "0.6",
          "0.6",
          "0.6",
          "0.6",
          "0.6",
          "0.6",
          "0.5",
          "0.5",
          "0.5",
          "0.5",
          "0.5",
          "0.5",
          "0.5",
          "0.5",
          "0.5",
          "0.5",
          "0.4",
          "0.4",
          "0.4",
          "0.4",
          "0.4",
          "0.4",
          "0.4",
          "0.4",
          "0.4",
          "0.4",
          "0.3",
          "0.3",
          "0.3",
          "0.3",
          "0.3",
          "0.3",
          "0.3",
          "0.3",
          "0.3",
          "0.3",
          "0.2",
          "0.2",
          "0.2",
          "0.2",
          "0.2",
          "0.2",
          "0.2",
          "0.2",
          "0.2",
          "0.2",
          "0.1",
          "0.1",
          "0.1",
          "0.1",
          "0.1",
          "0.1",
          "0.1",
          "0.1",
          "0.1",
          "0.1"
         ],
         "y": [
          0.10611735330836453,
          0.09777777777777778,
          0.11162196679438058,
          0.14865689865689866,
          0.11485943775100402,
          0.1111111111111111,
          0.08930041152263375,
          0.11310861423220973,
          0.15633074935400515,
          0.11310861423220973,
          0.07475678443420379,
          0.11513002364066195,
          0.06186114429842029,
          0.11407407407407406,
          0.08687489332650623,
          0.12803030303030302,
          0.1401808785529716,
          0.11456790123456789,
          0.14022757697456492,
          0.10930232558139533,
          0.08858166922683051,
          0.11209876543209876,
          0.08780690803162715,
          0.0882716049382716,
          0.09800249687890139,
          0.07811663991439273,
          0.0890652557319224,
          0.09621578099838969,
          0.09465020576131687,
          0.098559670781893,
          0.07678110003691399,
          0.07611832611832613,
          0.06673052362707536,
          0.04970760233918128,
          0.06291042815865515,
          0.0986267166042447,
          0.06899641577060932,
          0.05691358024691358,
          0.07065217391304347,
          0.06429463171036205,
          0.06213097155126142,
          0.06712962962962964,
          0.05898345153664302,
          0.0570644718792867,
          0.051340996168582356,
          0.06975308641975309,
          0.07310744810744811,
          0.0835613939062215,
          0.10142118863049099,
          0.0503052503052503,
          0.04770531400966184,
          0.05657305657305658,
          0.0609143942477276,
          0.049062049062049064,
          0.0683641975308642,
          0.04100529100529101,
          0.07341269841269842,
          0.05782556750298684,
          0.056179775280898875,
          0.07114197530864198,
          0.05106005106005106,
          0.03649691358024691,
          0.04789067142008318,
          0.05852713178294573,
          0.06325426550145652,
          0.0434374466632531,
          0.035855003940110326,
          0.034373699542238866,
          0.03797360578969774,
          0.04055080721747389,
          0.023589936633414903,
          0.023944549464398245,
          0.028546099290780134,
          0.024468085106382972,
          0.027188236926064643,
          0.04941860465116278,
          0.03894425987449243,
          0.039753086419753086,
          0.030297374642279457,
          0.03884140550807218,
          0.018594131178560614,
          0.030118030118030124,
          0.0220959595959596,
          0.023429951690821255,
          0.02073489071125005,
          0.02159097257136473,
          0.02610616896331182,
          0.02293591344153142,
          0.01785163414765281,
          0.022468944477491485,
          0.01616107151787947,
          0.018386070334415718,
          0.01580259501869933,
          0.01697484148564052,
          0.017057275573682692,
          0.016390054091666998,
          0.017202035761749425,
          0.017204532229038626,
          0.017380983957298465,
          0.01842066419382623
         ]
        },
        {
         "error_y": {
          "array": [
           0.02246425184097848,
           0.015158479225656411,
           0.016319986481218723,
           0.021856713406895635,
           0.008806875056192797,
           0.012815943736910208,
           0.00892735101385509,
           0.0028959809878309254,
           0.0019657122168525755,
           0.002032262942831907
          ],
          "type": "data",
          "visible": true
         },
         "hoverinfo": "skip",
         "marker": {
          "color": "rgb(255, 127, 14)"
         },
         "mode": "lines+markers",
         "name": "Gain / Interactions initiated (r=32)",
         "type": "scatter",
         "x": [
          "1.0",
          "0.9",
          "0.8",
          "0.7",
          "0.6",
          "0.5",
          "0.4",
          "0.3",
          "0.2",
          "0.1"
         ],
         "y": [
          0.1382893115922476,
          0.10524022663845001,
          0.08672017715594474,
          0.089582428800271,
          0.06016220284872503,
          0.05569447838568039,
          0.04566364711704932,
          0.037512264519665314,
          0.03324223325890431,
          0.031917814387691805
         ]
        },
        {
         "hoverinfo": "skip",
         "marker": {
          "color": "rgb(255, 127, 14)"
         },
         "mode": "markers",
         "name": "ratio per iter (r=32)",
         "opacity": 0.7,
         "type": "scatter",
         "x": [
          "1.0",
          "1.0",
          "1.0",
          "1.0",
          "1.0",
          "1.0",
          "1.0",
          "1.0",
          "1.0",
          "1.0",
          "0.9",
          "0.9",
          "0.9",
          "0.9",
          "0.9",
          "0.9",
          "0.9",
          "0.9",
          "0.9",
          "0.9",
          "0.8",
          "0.8",
          "0.8",
          "0.8",
          "0.8",
          "0.8",
          "0.8",
          "0.8",
          "0.8",
          "0.8",
          "0.7",
          "0.7",
          "0.7",
          "0.7",
          "0.7",
          "0.7",
          "0.7",
          "0.7",
          "0.7",
          "0.7",
          "0.6",
          "0.6",
          "0.6",
          "0.6",
          "0.6",
          "0.6",
          "0.6",
          "0.6",
          "0.6",
          "0.6",
          "0.5",
          "0.5",
          "0.5",
          "0.5",
          "0.5",
          "0.5",
          "0.5",
          "0.5",
          "0.5",
          "0.5",
          "0.4",
          "0.4",
          "0.4",
          "0.4",
          "0.4",
          "0.4",
          "0.4",
          "0.4",
          "0.4",
          "0.4",
          "0.3",
          "0.3",
          "0.3",
          "0.3",
          "0.3",
          "0.3",
          "0.3",
          "0.3",
          "0.3",
          "0.3",
          "0.2",
          "0.2",
          "0.2",
          "0.2",
          "0.2",
          "0.2",
          "0.2",
          "0.2",
          "0.2",
          "0.2",
          "0.1",
          "0.1",
          "0.1",
          "0.1",
          "0.1",
          "0.1",
          "0.1",
          "0.1",
          "0.1",
          "0.1"
         ],
         "y": [
          0.19520697167755993,
          0.14144316730523626,
          0.10842490842490843,
          0.14056224899598393,
          0.14041514041514042,
          0.11565113500597368,
          0.1401373283395755,
          0.11935286935286935,
          0.14281045751633986,
          0.1388888888888889,
          0.09090909090909091,
          0.14583333333333334,
          0.10962962962962963,
          0.09637952559300876,
          0.1051851851851852,
          0.10702426564495526,
          0.10839506172839505,
          0.10411985018726592,
          0.09418558343289526,
          0.09074074074074073,
          0.10636704119850188,
          0.12172284644194757,
          0.08756038647342995,
          0.06853864734299518,
          0.0923845193508115,
          0.07223113964686999,
          0.0683641975308642,
          0.09048821548821549,
          0.08372579801151231,
          0.07581898007429921,
          0.13755020080321287,
          0.09113607990012484,
          0.08155446086480567,
          0.06717995169082126,
          0.11902937420178798,
          0.06574074074074074,
          0.08006279434850863,
          0.08970929195648297,
          0.07043650793650794,
          0.09342488555971702,
          0.061462324393358886,
          0.05469135802469136,
          0.05130023640661938,
          0.05596707818930041,
          0.06102693602693603,
          0.08297258297258298,
          0.06763285024154589,
          0.054212454212454214,
          0.05756358768406962,
          0.0547926203356915,
          0.07563025210084032,
          0.04733380314775664,
          0.04416763791763792,
          0.07336956521739131,
          0.037218045112781956,
          0.05724637681159419,
          0.0626886145404664,
          0.04754534593244271,
          0.04423868312757202,
          0.06750645994832043,
          0.032004307099183754,
          0.036440048402414,
          0.06002415458937198,
          0.05157065157065157,
          0.041275223093404916,
          0.05643939393939394,
          0.04619341563786009,
          0.03480567895461512,
          0.04680134680134681,
          0.051082251082251104,
          0.034379798442298444,
          0.03696217803360661,
          0.04115499230441759,
          0.03589063830660469,
          0.04143079143079143,
          0.03523232579083643,
          0.036795743938601085,
          0.03373438383716688,
          0.03728982951205174,
          0.042251963600278206,
          0.03439054028134488,
          0.031420229590544226,
          0.03176529648003779,
          0.03725949975949976,
          0.034422290672290676,
          0.033043106131341426,
          0.030411951105228423,
          0.031234897204824502,
          0.03389819943128767,
          0.034576321932643775,
          0.03371641585927299,
          0.034538506760728976,
          0.029698310948310953,
          0.034584111422346714,
          0.02922283496732026,
          0.03279275154275154,
          0.03016955574500331,
          0.030185707323865222,
          0.030556487070571573,
          0.03371346223674655
         ]
        },
        {
         "error_y": {
          "array": [
           0.020902420193627237,
           0.020055226826606452,
           0.02200019396802549,
           0.009019590067548874,
           0.004957438254468164,
           0.006331640363423387,
           0.003130942518538305,
           0.0038898120127416522,
           0.0020721287706556564,
           0.004400413211577138
          ],
          "type": "data",
          "visible": true
         },
         "hoverinfo": "skip",
         "marker": {
          "color": "rgb(44, 160, 44)"
         },
         "mode": "lines+markers",
         "name": "Gain / Interactions initiated (r=16)",
         "type": "scatter",
         "x": [
          "1.0",
          "0.9",
          "0.8",
          "0.7",
          "0.6",
          "0.5",
          "0.4",
          "0.3",
          "0.2",
          "0.1"
         ],
         "y": [
          0.11872431815032165,
          0.09842830981340193,
          0.09786901626617142,
          0.07383776452807514,
          0.07004544353597168,
          0.06731323410977544,
          0.06648916793843648,
          0.06442101041282451,
          0.059566853328231084,
          0.05635203595673741
         ]
        },
        {
         "hoverinfo": "skip",
         "marker": {
          "color": "rgb(44, 160, 44)"
         },
         "mode": "markers",
         "name": "ratio per iter (r=16)",
         "opacity": 0.7,
         "type": "scatter",
         "x": [
          "1.0",
          "1.0",
          "1.0",
          "1.0",
          "1.0",
          "1.0",
          "1.0",
          "1.0",
          "1.0",
          "1.0",
          "0.9",
          "0.9",
          "0.9",
          "0.9",
          "0.9",
          "0.9",
          "0.9",
          "0.9",
          "0.9",
          "0.9",
          "0.8",
          "0.8",
          "0.8",
          "0.8",
          "0.8",
          "0.8",
          "0.8",
          "0.8",
          "0.8",
          "0.8",
          "0.7",
          "0.7",
          "0.7",
          "0.7",
          "0.7",
          "0.7",
          "0.7",
          "0.7",
          "0.7",
          "0.7",
          "0.6",
          "0.6",
          "0.6",
          "0.6",
          "0.6",
          "0.6",
          "0.6",
          "0.6",
          "0.6",
          "0.6",
          "0.5",
          "0.5",
          "0.5",
          "0.5",
          "0.5",
          "0.5",
          "0.5",
          "0.5",
          "0.5",
          "0.5",
          "0.4",
          "0.4",
          "0.4",
          "0.4",
          "0.4",
          "0.4",
          "0.4",
          "0.4",
          "0.4",
          "0.4",
          "0.3",
          "0.3",
          "0.3",
          "0.3",
          "0.3",
          "0.3",
          "0.3",
          "0.3",
          "0.3",
          "0.3",
          "0.2",
          "0.2",
          "0.2",
          "0.2",
          "0.2",
          "0.2",
          "0.2",
          "0.2",
          "0.2",
          "0.2",
          "0.1",
          "0.1",
          "0.1",
          "0.1",
          "0.1",
          "0.1",
          "0.1",
          "0.1",
          "0.1",
          "0.1"
         ],
         "y": [
          0.1108695652173913,
          0.09523809523809525,
          0.1045893719806763,
          0.1451310861423221,
          0.13331342094782953,
          0.15225035161744022,
          0.0930809930809931,
          0.11506172839506171,
          0.13947990543735225,
          0.09822866344605474,
          0.13383838383838384,
          0.0857956857956858,
          0.10681818181818184,
          0.09869759869759867,
          0.08189168301527852,
          0.11333333333333333,
          0.08041759117027934,
          0.061563051146384475,
          0.10622710622710622,
          0.11570048309178743,
          0.14625167336010708,
          0.07470572498662387,
          0.0871604938271605,
          0.08869188337273445,
          0.08913857677902622,
          0.0933806146572104,
          0.13352272727272727,
          0.07953761214630779,
          0.09594771241830065,
          0.09035314384151592,
          0.061161147771634665,
          0.07548500881834215,
          0.07797121237981453,
          0.07063060731538993,
          0.06313557731997449,
          0.06484665882814031,
          0.08806100217864923,
          0.07387057387057387,
          0.08883009994121106,
          0.07438575685702123,
          0.06395578665693609,
          0.0689594356261023,
          0.06951960076960076,
          0.06812169312169312,
          0.06476878500688026,
          0.06993097366660585,
          0.07195151962593825,
          0.07226829558290233,
          0.08283160007297936,
          0.06814674523007856,
          0.06238487164413092,
          0.07985929414500842,
          0.06438876008164399,
          0.06450617283950617,
          0.0646834778040452,
          0.07937116098035638,
          0.06251252605419272,
          0.06530902959474388,
          0.06763067179733846,
          0.062486376156788155,
          0.0647256405683372,
          0.06359739368998629,
          0.06511986792994545,
          0.07203907203907203,
          0.06070693709582598,
          0.07038139329805997,
          0.06830004161464835,
          0.06682618948536552,
          0.06756691280500804,
          0.06562823085811592,
          0.06451326805732938,
          0.062492126480221705,
          0.06281253242037556,
          0.05884239217572551,
          0.062326420563968456,
          0.07178577009800637,
          0.07047325102880657,
          0.06060728266012819,
          0.0663868942638784,
          0.06397016637980493,
          0.0574538197345215,
          0.058479532163742694,
          0.059154308567454114,
          0.058173878379357835,
          0.05964893464893466,
          0.06428329830156315,
          0.059985032024505704,
          0.05992750635607779,
          0.05678515537670467,
          0.06177706772944869,
          0.05464157113462669,
          0.05641639371798101,
          0.05592730919528305,
          0.05906247958717093,
          0.06751910640799529,
          0.05766163833539719,
          0.05482933914306463,
          0.04997550460513423,
          0.05344895159709975,
          0.05403806584362139
         ]
        },
        {
         "error_y": {
          "array": [
           0.013442893980517762,
           0.009340111223057172,
           0.005983847704628306,
           0.00780399398932719,
           0.006263553859862263,
           0.008463666769573764,
           0.007172067106504236,
           0.005967154889920687,
           0.011055735405074854,
           0.010056391549114215
          ],
          "type": "data",
          "visible": true
         },
         "hoverinfo": "skip",
         "marker": {
          "color": "rgb(214, 39, 40)"
         },
         "mode": "lines+markers",
         "name": "Gain / Interactions initiated (r=8)",
         "type": "scatter",
         "x": [
          "1.0",
          "0.9",
          "0.8",
          "0.7",
          "0.6",
          "0.5",
          "0.4",
          "0.3",
          "0.2",
          "0.1"
         ],
         "y": [
          0.1391307593323568,
          0.13331499334449612,
          0.12673267120318837,
          0.12875976417234072,
          0.12404590175585768,
          0.11985735668529365,
          0.11963833247504238,
          0.10549467933843967,
          0.10678097841082812,
          0.10991325545380352
         ]
        },
        {
         "hoverinfo": "skip",
         "marker": {
          "color": "rgb(214, 39, 40)"
         },
         "mode": "markers",
         "name": "ratio per iter (r=8)",
         "opacity": 0.7,
         "type": "scatter",
         "x": [
          "1.0",
          "1.0",
          "1.0",
          "1.0",
          "1.0",
          "1.0",
          "1.0",
          "1.0",
          "1.0",
          "1.0",
          "0.9",
          "0.9",
          "0.9",
          "0.9",
          "0.9",
          "0.9",
          "0.9",
          "0.9",
          "0.9",
          "0.9",
          "0.8",
          "0.8",
          "0.8",
          "0.8",
          "0.8",
          "0.8",
          "0.8",
          "0.8",
          "0.8",
          "0.8",
          "0.7",
          "0.7",
          "0.7",
          "0.7",
          "0.7",
          "0.7",
          "0.7",
          "0.7",
          "0.7",
          "0.7",
          "0.6",
          "0.6",
          "0.6",
          "0.6",
          "0.6",
          "0.6",
          "0.6",
          "0.6",
          "0.6",
          "0.6",
          "0.5",
          "0.5",
          "0.5",
          "0.5",
          "0.5",
          "0.5",
          "0.5",
          "0.5",
          "0.5",
          "0.5",
          "0.4",
          "0.4",
          "0.4",
          "0.4",
          "0.4",
          "0.4",
          "0.4",
          "0.4",
          "0.4",
          "0.4",
          "0.3",
          "0.3",
          "0.3",
          "0.3",
          "0.3",
          "0.3",
          "0.3",
          "0.3",
          "0.3",
          "0.3",
          "0.2",
          "0.2",
          "0.2",
          "0.2",
          "0.2",
          "0.2",
          "0.2",
          "0.2",
          "0.2",
          "0.2",
          "0.1",
          "0.1",
          "0.1",
          "0.1",
          "0.1",
          "0.1",
          "0.1",
          "0.1",
          "0.1",
          "0.1"
         ],
         "y": [
          0.14110305958132044,
          0.17445286195286197,
          0.1312962962962963,
          0.1250099561927519,
          0.13677536231884058,
          0.1351213282247765,
          0.13456119162640903,
          0.150462962962963,
          0.1311069496462755,
          0.13141762452107278,
          0.12252747252747254,
          0.13846317581949763,
          0.1297690163281561,
          0.12482702482702483,
          0.13419753086419756,
          0.13716475095785438,
          0.12411568872243031,
          0.15568475452196384,
          0.1284979423868313,
          0.137902576489533,
          0.12640382317801674,
          0.1313374485596708,
          0.13618561089825457,
          0.11470714900947458,
          0.12566137566137567,
          0.1247181964573269,
          0.12440699126092385,
          0.1239952718676123,
          0.13560789049919483,
          0.1243029546400333,
          0.12253086419753087,
          0.1292181069958848,
          0.13098765432098763,
          0.12899243329350854,
          0.13512058570198102,
          0.12058322690506597,
          0.12297979797979798,
          0.1474882928905917,
          0.120216049382716,
          0.12948063005534272,
          0.13307790549169857,
          0.12026748971193414,
          0.13125836680053546,
          0.12809706257982117,
          0.12328364950316167,
          0.11219135802469134,
          0.12926777352064708,
          0.12328976034858385,
          0.12333333333333332,
          0.11639231824417011,
          0.12804878048780488,
          0.11823361823361822,
          0.1136574074074074,
          0.11673441734417343,
          0.12130772748056701,
          0.12051467051467048,
          0.13499361430395912,
          0.11933677863910419,
          0.12446941323345817,
          0.10127713920817367,
          0.11062378167641325,
          0.10973936899862827,
          0.12183356195701875,
          0.12862745098039213,
          0.12000962000961998,
          0.1284407864654778,
          0.11522131887985546,
          0.12603748326639894,
          0.12518993352326688,
          0.11066001899335233,
          0.09598242310106714,
          0.1036522633744856,
          0.11652846876727473,
          0.1000272331154684,
          0.0995230078563412,
          0.10629122272957889,
          0.10293209876543209,
          0.11204972095383053,
          0.10851851851851851,
          0.10944183620239957,
          0.11728395061728393,
          0.12751786874593893,
          0.10072016460905349,
          0.0970951343500363,
          0.09303840877914951,
          0.10135214579659022,
          0.09968612680477087,
          0.11722222222222223,
          0.11626543209876543,
          0.09762833008447042,
          0.12543859649122804,
          0.10722673893405599,
          0.1225396825396825,
          0.12105820105820107,
          0.11347381864623243,
          0.1038231780167264,
          0.09994708994708994,
          0.09475308641975308,
          0.09994026284348864,
          0.11093189964157707
         ]
        },
        {
         "error_y": {
          "array": [
           0.025438683494643767,
           0.015607766375924684,
           0.01618168795316182,
           0.02185580646145881,
           0.019030857412319042,
           0.023406895057328136,
           0.020006982932683777,
           0.010273169852308046,
           0.03127184032325078,
           0.019685545175317398
          ],
          "type": "data",
          "visible": true
         },
         "hoverinfo": "skip",
         "marker": {
          "color": "rgb(148, 103, 189)"
         },
         "mode": "lines+markers",
         "name": "Gain / Interactions initiated (r=4)",
         "type": "scatter",
         "x": [
          "1.0",
          "0.9",
          "0.8",
          "0.7",
          "0.6",
          "0.5",
          "0.4",
          "0.3",
          "0.2",
          "0.1"
         ],
         "y": [
          0.24543677336894007,
          0.23476951449704236,
          0.2487360765894256,
          0.22503027546363324,
          0.21598189304133425,
          0.218180575500947,
          0.21912633657398795,
          0.205295182376891,
          0.1939150232468045,
          0.1875304528275306
         ]
        },
        {
         "hoverinfo": "skip",
         "marker": {
          "color": "rgb(148, 103, 189)"
         },
         "mode": "markers",
         "name": "ratio per iter (r=4)",
         "opacity": 0.7,
         "type": "scatter",
         "x": [
          "1.0",
          "1.0",
          "1.0",
          "1.0",
          "1.0",
          "1.0",
          "1.0",
          "1.0",
          "1.0",
          "1.0",
          "0.9",
          "0.9",
          "0.9",
          "0.9",
          "0.9",
          "0.9",
          "0.9",
          "0.9",
          "0.9",
          "0.9",
          "0.8",
          "0.8",
          "0.8",
          "0.8",
          "0.8",
          "0.8",
          "0.8",
          "0.8",
          "0.8",
          "0.8",
          "0.7",
          "0.7",
          "0.7",
          "0.7",
          "0.7",
          "0.7",
          "0.7",
          "0.7",
          "0.7",
          "0.7",
          "0.6",
          "0.6",
          "0.6",
          "0.6",
          "0.6",
          "0.6",
          "0.6",
          "0.6",
          "0.6",
          "0.6",
          "0.5",
          "0.5",
          "0.5",
          "0.5",
          "0.5",
          "0.5",
          "0.5",
          "0.5",
          "0.5",
          "0.5",
          "0.4",
          "0.4",
          "0.4",
          "0.4",
          "0.4",
          "0.4",
          "0.4",
          "0.4",
          "0.4",
          "0.4",
          "0.3",
          "0.3",
          "0.3",
          "0.3",
          "0.3",
          "0.3",
          "0.3",
          "0.3",
          "0.3",
          "0.3",
          "0.2",
          "0.2",
          "0.2",
          "0.2",
          "0.2",
          "0.2",
          "0.2",
          "0.2",
          "0.2",
          "0.2",
          "0.1",
          "0.1",
          "0.1",
          "0.1",
          "0.1",
          "0.1",
          "0.1",
          "0.1",
          "0.1",
          "0.1"
         ],
         "y": [
          0.195679012345679,
          0.2502153316106805,
          0.22888056595921763,
          0.2773569023569023,
          0.24390243902439024,
          0.24575163398692806,
          0.24606215410813118,
          0.25925925925925924,
          0.28791887125220456,
          0.21934156378600822,
          0.251896474788041,
          0.21141975308641983,
          0.23148148148148148,
          0.2520833333333333,
          0.23258377425044094,
          0.250903342366757,
          0.21220043572984745,
          0.2350762527233116,
          0.2190214906264289,
          0.25102880658436216,
          0.24889770723104057,
          0.26804368471035134,
          0.2609001406469761,
          0.2804938271604938,
          0.2323633156966491,
          0.25097465886939574,
          0.24727668845315906,
          0.23721340388007053,
          0.23400673400673402,
          0.2271906052393857,
          0.2577160493827161,
          0.25038051750380513,
          0.20768870135958745,
          0.21921921921921922,
          0.25857338820301784,
          0.20567901234567904,
          0.2047184170471842,
          0.23269980506822616,
          0.19986449864498645,
          0.21376314586191128,
          0.21101966163694558,
          0.22436929683306495,
          0.22636815920398012,
          0.17736045905059988,
          0.2034567901234568,
          0.20445445445445443,
          0.2342201356285863,
          0.22612085769980508,
          0.24849849849849845,
          0.20395061728395059,
          0.21739130434782608,
          0.24273504273504273,
          0.19664902998236333,
          0.18357487922705312,
          0.26141975308641974,
          0.1857463524130191,
          0.22306397306397308,
          0.21336553945249595,
          0.23161189358372455,
          0.2262479871175523,
          0.20662768031189083,
          0.1813022700119474,
          0.22092267706302793,
          0.2222222222222222,
          0.23190883190883188,
          0.18821548821548817,
          0.237491877842755,
          0.22670250896057348,
          0.24747474747474743,
          0.22839506172839508,
          0.20233196159122077,
          0.2025925925925926,
          0.21866096866096862,
          0.19191919191919188,
          0.20515613652868553,
          0.2,
          0.22294843863471317,
          0.21779388083735904,
          0.19426974143955278,
          0.19727891156462585,
          0.16872427983539093,
          0.19523809523809524,
          0.18467078189300412,
          0.17479674796747965,
          0.2621527777777778,
          0.2015669515669516,
          0.2104377104377104,
          0.14367816091954022,
          0.1751751751751752,
          0.22270955165692005,
          0.18350168350168347,
          0.17222222222222217,
          0.17429193899782133,
          0.17361111111111113,
          0.2037037037037037,
          0.20502645502645503,
          0.16578483245149914,
          0.2330246913580247,
          0.18861454046639228,
          0.17552334943639292
         ]
        },
        {
         "error_y": {
          "array": [
           0.028939732584259217,
           0.02153107136451784,
           0.030595215127196825,
           0.031935101850280825,
           0.04674429228696443,
           0.028890809881609796,
           0.029405615403318246,
           0.036532795241954,
           0.07184133357738785,
           0.06551410157708058
          ],
          "type": "data",
          "visible": true
         },
         "hoverinfo": "skip",
         "marker": {
          "color": "rgb(140, 86, 75)"
         },
         "mode": "lines+markers",
         "name": "Gain / Interactions initiated (r=2)",
         "type": "scatter",
         "x": [
          "1.0",
          "0.9",
          "0.8",
          "0.7",
          "0.6",
          "0.5",
          "0.4",
          "0.3",
          "0.2",
          "0.1"
         ],
         "y": [
          0.3792105077022583,
          0.3717380234137231,
          0.3720895157913617,
          0.3728717334708494,
          0.34527027364578877,
          0.3417029822079885,
          0.32418973916727184,
          0.32328581558709024,
          0.31752389812916126,
          0.3104118566618566
         ]
        },
        {
         "hoverinfo": "skip",
         "marker": {
          "color": "rgb(140, 86, 75)"
         },
         "mode": "markers",
         "name": "ratio per iter (r=2)",
         "opacity": 0.7,
         "type": "scatter",
         "x": [
          "1.0",
          "1.0",
          "1.0",
          "1.0",
          "1.0",
          "1.0",
          "1.0",
          "1.0",
          "1.0",
          "1.0",
          "0.9",
          "0.9",
          "0.9",
          "0.9",
          "0.9",
          "0.9",
          "0.9",
          "0.9",
          "0.9",
          "0.9",
          "0.8",
          "0.8",
          "0.8",
          "0.8",
          "0.8",
          "0.8",
          "0.8",
          "0.8",
          "0.8",
          "0.8",
          "0.7",
          "0.7",
          "0.7",
          "0.7",
          "0.7",
          "0.7",
          "0.7",
          "0.7",
          "0.7",
          "0.7",
          "0.6",
          "0.6",
          "0.6",
          "0.6",
          "0.6",
          "0.6",
          "0.6",
          "0.6",
          "0.6",
          "0.6",
          "0.5",
          "0.5",
          "0.5",
          "0.5",
          "0.5",
          "0.5",
          "0.5",
          "0.5",
          "0.5",
          "0.5",
          "0.4",
          "0.4",
          "0.4",
          "0.4",
          "0.4",
          "0.4",
          "0.4",
          "0.4",
          "0.4",
          "0.4",
          "0.3",
          "0.3",
          "0.3",
          "0.3",
          "0.3",
          "0.3",
          "0.3",
          "0.3",
          "0.3",
          "0.3",
          "0.2",
          "0.2",
          "0.2",
          "0.2",
          "0.2",
          "0.2",
          "0.2",
          "0.2",
          "0.2",
          "0.2",
          "0.1",
          "0.1",
          "0.1",
          "0.1",
          "0.1",
          "0.1",
          "0.1",
          "0.1",
          "0.1",
          "0.1"
         ],
         "y": [
          0.3993558776167472,
          0.38447971781305107,
          0.429519071310116,
          0.3367521367521368,
          0.3541666666666667,
          0.3512544802867384,
          0.4119047619047619,
          0.4008547008547009,
          0.3675213675213675,
          0.35629629629629633,
          0.33905228758169936,
          0.3451730418943533,
          0.39108187134502925,
          0.3771043771043771,
          0.355392156862745,
          0.414983164983165,
          0.36612021857923494,
          0.38592592592592595,
          0.3779149519890261,
          0.3646322378716745,
          0.38973063973063965,
          0.35802469135802467,
          0.3545751633986928,
          0.37106918238993714,
          0.314516129032258,
          0.3880070546737213,
          0.33422939068100355,
          0.3930041152263375,
          0.39473684210526316,
          0.42300194931773877,
          0.40575396825396826,
          0.42894056847545214,
          0.327683615819209,
          0.38888888888888895,
          0.3769063180827887,
          0.36217948717948717,
          0.33660130718954245,
          0.3782505910165484,
          0.39300411522633744,
          0.33050847457627125,
          0.42995169082125606,
          0.3020833333333333,
          0.3647798742138365,
          0.29292929292929293,
          0.31646825396825395,
          0.3333333333333333,
          0.3176100628930817,
          0.313953488372093,
          0.3531746031746032,
          0.42841880341880334,
          0.30330330330330324,
          0.3550724637681159,
          0.3093434343434343,
          0.3306233062330623,
          0.3319088319088319,
          0.30797101449275366,
          0.39814814814814814,
          0.3631436314363144,
          0.35317460317460314,
          0.36434108527131776,
          0.35648148148148145,
          0.38611111111111107,
          0.33169934640522875,
          0.2987987987987987,
          0.3415637860082304,
          0.27904040404040403,
          0.31076388888888884,
          0.3042929292929292,
          0.3208333333333333,
          0.3123123123123124,
          0.36200716845878134,
          0.29259259259259257,
          0.3022875816993465,
          0.3768115942028985,
          0.30357142857142855,
          0.3592592592592593,
          0.2544802867383512,
          0.30158730158730157,
          0.3486111111111111,
          0.3316498316498316,
          0.2622222222222222,
          0.2904040404040404,
          0.41161616161616155,
          0.4185185185185185,
          0.39417989417989424,
          0.28654970760233917,
          0.356060606060606,
          0.2805555555555555,
          0.18148148148148147,
          0.2936507936507936,
          0.23412698412698413,
          0.3333333333333333,
          0.31481481481481477,
          0.24747474747474743,
          0.47777777777777775,
          0.2944444444444444,
          0.29166666666666663,
          0.35353535353535354,
          0.2847222222222222,
          0.2722222222222222
         ]
        }
       ],
       "layout": {
        "plot_bgcolor": "rgba(0,0,0,0)",
        "showlegend": true,
        "template": {
         "data": {
          "bar": [
           {
            "error_x": {
             "color": "#2a3f5f"
            },
            "error_y": {
             "color": "#2a3f5f"
            },
            "marker": {
             "line": {
              "color": "#E5ECF6",
              "width": 0.5
             }
            },
            "type": "bar"
           }
          ],
          "barpolar": [
           {
            "marker": {
             "line": {
              "color": "#E5ECF6",
              "width": 0.5
             }
            },
            "type": "barpolar"
           }
          ],
          "carpet": [
           {
            "aaxis": {
             "endlinecolor": "#2a3f5f",
             "gridcolor": "white",
             "linecolor": "white",
             "minorgridcolor": "white",
             "startlinecolor": "#2a3f5f"
            },
            "baxis": {
             "endlinecolor": "#2a3f5f",
             "gridcolor": "white",
             "linecolor": "white",
             "minorgridcolor": "white",
             "startlinecolor": "#2a3f5f"
            },
            "type": "carpet"
           }
          ],
          "choropleth": [
           {
            "colorbar": {
             "outlinewidth": 0,
             "ticks": ""
            },
            "type": "choropleth"
           }
          ],
          "contour": [
           {
            "colorbar": {
             "outlinewidth": 0,
             "ticks": ""
            },
            "colorscale": [
             [
              0,
              "#0d0887"
             ],
             [
              0.1111111111111111,
              "#46039f"
             ],
             [
              0.2222222222222222,
              "#7201a8"
             ],
             [
              0.3333333333333333,
              "#9c179e"
             ],
             [
              0.4444444444444444,
              "#bd3786"
             ],
             [
              0.5555555555555556,
              "#d8576b"
             ],
             [
              0.6666666666666666,
              "#ed7953"
             ],
             [
              0.7777777777777778,
              "#fb9f3a"
             ],
             [
              0.8888888888888888,
              "#fdca26"
             ],
             [
              1,
              "#f0f921"
             ]
            ],
            "type": "contour"
           }
          ],
          "contourcarpet": [
           {
            "colorbar": {
             "outlinewidth": 0,
             "ticks": ""
            },
            "type": "contourcarpet"
           }
          ],
          "heatmap": [
           {
            "colorbar": {
             "outlinewidth": 0,
             "ticks": ""
            },
            "colorscale": [
             [
              0,
              "#0d0887"
             ],
             [
              0.1111111111111111,
              "#46039f"
             ],
             [
              0.2222222222222222,
              "#7201a8"
             ],
             [
              0.3333333333333333,
              "#9c179e"
             ],
             [
              0.4444444444444444,
              "#bd3786"
             ],
             [
              0.5555555555555556,
              "#d8576b"
             ],
             [
              0.6666666666666666,
              "#ed7953"
             ],
             [
              0.7777777777777778,
              "#fb9f3a"
             ],
             [
              0.8888888888888888,
              "#fdca26"
             ],
             [
              1,
              "#f0f921"
             ]
            ],
            "type": "heatmap"
           }
          ],
          "heatmapgl": [
           {
            "colorbar": {
             "outlinewidth": 0,
             "ticks": ""
            },
            "colorscale": [
             [
              0,
              "#0d0887"
             ],
             [
              0.1111111111111111,
              "#46039f"
             ],
             [
              0.2222222222222222,
              "#7201a8"
             ],
             [
              0.3333333333333333,
              "#9c179e"
             ],
             [
              0.4444444444444444,
              "#bd3786"
             ],
             [
              0.5555555555555556,
              "#d8576b"
             ],
             [
              0.6666666666666666,
              "#ed7953"
             ],
             [
              0.7777777777777778,
              "#fb9f3a"
             ],
             [
              0.8888888888888888,
              "#fdca26"
             ],
             [
              1,
              "#f0f921"
             ]
            ],
            "type": "heatmapgl"
           }
          ],
          "histogram": [
           {
            "marker": {
             "colorbar": {
              "outlinewidth": 0,
              "ticks": ""
             }
            },
            "type": "histogram"
           }
          ],
          "histogram2d": [
           {
            "colorbar": {
             "outlinewidth": 0,
             "ticks": ""
            },
            "colorscale": [
             [
              0,
              "#0d0887"
             ],
             [
              0.1111111111111111,
              "#46039f"
             ],
             [
              0.2222222222222222,
              "#7201a8"
             ],
             [
              0.3333333333333333,
              "#9c179e"
             ],
             [
              0.4444444444444444,
              "#bd3786"
             ],
             [
              0.5555555555555556,
              "#d8576b"
             ],
             [
              0.6666666666666666,
              "#ed7953"
             ],
             [
              0.7777777777777778,
              "#fb9f3a"
             ],
             [
              0.8888888888888888,
              "#fdca26"
             ],
             [
              1,
              "#f0f921"
             ]
            ],
            "type": "histogram2d"
           }
          ],
          "histogram2dcontour": [
           {
            "colorbar": {
             "outlinewidth": 0,
             "ticks": ""
            },
            "colorscale": [
             [
              0,
              "#0d0887"
             ],
             [
              0.1111111111111111,
              "#46039f"
             ],
             [
              0.2222222222222222,
              "#7201a8"
             ],
             [
              0.3333333333333333,
              "#9c179e"
             ],
             [
              0.4444444444444444,
              "#bd3786"
             ],
             [
              0.5555555555555556,
              "#d8576b"
             ],
             [
              0.6666666666666666,
              "#ed7953"
             ],
             [
              0.7777777777777778,
              "#fb9f3a"
             ],
             [
              0.8888888888888888,
              "#fdca26"
             ],
             [
              1,
              "#f0f921"
             ]
            ],
            "type": "histogram2dcontour"
           }
          ],
          "mesh3d": [
           {
            "colorbar": {
             "outlinewidth": 0,
             "ticks": ""
            },
            "type": "mesh3d"
           }
          ],
          "parcoords": [
           {
            "line": {
             "colorbar": {
              "outlinewidth": 0,
              "ticks": ""
             }
            },
            "type": "parcoords"
           }
          ],
          "pie": [
           {
            "automargin": true,
            "type": "pie"
           }
          ],
          "scatter": [
           {
            "marker": {
             "colorbar": {
              "outlinewidth": 0,
              "ticks": ""
             }
            },
            "type": "scatter"
           }
          ],
          "scatter3d": [
           {
            "line": {
             "colorbar": {
              "outlinewidth": 0,
              "ticks": ""
             }
            },
            "marker": {
             "colorbar": {
              "outlinewidth": 0,
              "ticks": ""
             }
            },
            "type": "scatter3d"
           }
          ],
          "scattercarpet": [
           {
            "marker": {
             "colorbar": {
              "outlinewidth": 0,
              "ticks": ""
             }
            },
            "type": "scattercarpet"
           }
          ],
          "scattergeo": [
           {
            "marker": {
             "colorbar": {
              "outlinewidth": 0,
              "ticks": ""
             }
            },
            "type": "scattergeo"
           }
          ],
          "scattergl": [
           {
            "marker": {
             "colorbar": {
              "outlinewidth": 0,
              "ticks": ""
             }
            },
            "type": "scattergl"
           }
          ],
          "scattermapbox": [
           {
            "marker": {
             "colorbar": {
              "outlinewidth": 0,
              "ticks": ""
             }
            },
            "type": "scattermapbox"
           }
          ],
          "scatterpolar": [
           {
            "marker": {
             "colorbar": {
              "outlinewidth": 0,
              "ticks": ""
             }
            },
            "type": "scatterpolar"
           }
          ],
          "scatterpolargl": [
           {
            "marker": {
             "colorbar": {
              "outlinewidth": 0,
              "ticks": ""
             }
            },
            "type": "scatterpolargl"
           }
          ],
          "scatterternary": [
           {
            "marker": {
             "colorbar": {
              "outlinewidth": 0,
              "ticks": ""
             }
            },
            "type": "scatterternary"
           }
          ],
          "surface": [
           {
            "colorbar": {
             "outlinewidth": 0,
             "ticks": ""
            },
            "colorscale": [
             [
              0,
              "#0d0887"
             ],
             [
              0.1111111111111111,
              "#46039f"
             ],
             [
              0.2222222222222222,
              "#7201a8"
             ],
             [
              0.3333333333333333,
              "#9c179e"
             ],
             [
              0.4444444444444444,
              "#bd3786"
             ],
             [
              0.5555555555555556,
              "#d8576b"
             ],
             [
              0.6666666666666666,
              "#ed7953"
             ],
             [
              0.7777777777777778,
              "#fb9f3a"
             ],
             [
              0.8888888888888888,
              "#fdca26"
             ],
             [
              1,
              "#f0f921"
             ]
            ],
            "type": "surface"
           }
          ],
          "table": [
           {
            "cells": {
             "fill": {
              "color": "#EBF0F8"
             },
             "line": {
              "color": "white"
             }
            },
            "header": {
             "fill": {
              "color": "#C8D4E3"
             },
             "line": {
              "color": "white"
             }
            },
            "type": "table"
           }
          ]
         },
         "layout": {
          "annotationdefaults": {
           "arrowcolor": "#2a3f5f",
           "arrowhead": 0,
           "arrowwidth": 1
          },
          "coloraxis": {
           "colorbar": {
            "outlinewidth": 0,
            "ticks": ""
           }
          },
          "colorscale": {
           "diverging": [
            [
             0,
             "#8e0152"
            ],
            [
             0.1,
             "#c51b7d"
            ],
            [
             0.2,
             "#de77ae"
            ],
            [
             0.3,
             "#f1b6da"
            ],
            [
             0.4,
             "#fde0ef"
            ],
            [
             0.5,
             "#f7f7f7"
            ],
            [
             0.6,
             "#e6f5d0"
            ],
            [
             0.7,
             "#b8e186"
            ],
            [
             0.8,
             "#7fbc41"
            ],
            [
             0.9,
             "#4d9221"
            ],
            [
             1,
             "#276419"
            ]
           ],
           "sequential": [
            [
             0,
             "#0d0887"
            ],
            [
             0.1111111111111111,
             "#46039f"
            ],
            [
             0.2222222222222222,
             "#7201a8"
            ],
            [
             0.3333333333333333,
             "#9c179e"
            ],
            [
             0.4444444444444444,
             "#bd3786"
            ],
            [
             0.5555555555555556,
             "#d8576b"
            ],
            [
             0.6666666666666666,
             "#ed7953"
            ],
            [
             0.7777777777777778,
             "#fb9f3a"
            ],
            [
             0.8888888888888888,
             "#fdca26"
            ],
            [
             1,
             "#f0f921"
            ]
           ],
           "sequentialminus": [
            [
             0,
             "#0d0887"
            ],
            [
             0.1111111111111111,
             "#46039f"
            ],
            [
             0.2222222222222222,
             "#7201a8"
            ],
            [
             0.3333333333333333,
             "#9c179e"
            ],
            [
             0.4444444444444444,
             "#bd3786"
            ],
            [
             0.5555555555555556,
             "#d8576b"
            ],
            [
             0.6666666666666666,
             "#ed7953"
            ],
            [
             0.7777777777777778,
             "#fb9f3a"
            ],
            [
             0.8888888888888888,
             "#fdca26"
            ],
            [
             1,
             "#f0f921"
            ]
           ]
          },
          "colorway": [
           "#636efa",
           "#EF553B",
           "#00cc96",
           "#ab63fa",
           "#FFA15A",
           "#19d3f3",
           "#FF6692",
           "#B6E880",
           "#FF97FF",
           "#FECB52"
          ],
          "font": {
           "color": "#2a3f5f"
          },
          "geo": {
           "bgcolor": "white",
           "lakecolor": "white",
           "landcolor": "#E5ECF6",
           "showlakes": true,
           "showland": true,
           "subunitcolor": "white"
          },
          "hoverlabel": {
           "align": "left"
          },
          "hovermode": "closest",
          "mapbox": {
           "style": "light"
          },
          "paper_bgcolor": "white",
          "plot_bgcolor": "#E5ECF6",
          "polar": {
           "angularaxis": {
            "gridcolor": "white",
            "linecolor": "white",
            "ticks": ""
           },
           "bgcolor": "#E5ECF6",
           "radialaxis": {
            "gridcolor": "white",
            "linecolor": "white",
            "ticks": ""
           }
          },
          "scene": {
           "xaxis": {
            "backgroundcolor": "#E5ECF6",
            "gridcolor": "white",
            "gridwidth": 2,
            "linecolor": "white",
            "showbackground": true,
            "ticks": "",
            "zerolinecolor": "white"
           },
           "yaxis": {
            "backgroundcolor": "#E5ECF6",
            "gridcolor": "white",
            "gridwidth": 2,
            "linecolor": "white",
            "showbackground": true,
            "ticks": "",
            "zerolinecolor": "white"
           },
           "zaxis": {
            "backgroundcolor": "#E5ECF6",
            "gridcolor": "white",
            "gridwidth": 2,
            "linecolor": "white",
            "showbackground": true,
            "ticks": "",
            "zerolinecolor": "white"
           }
          },
          "shapedefaults": {
           "line": {
            "color": "#2a3f5f"
           }
          },
          "ternary": {
           "aaxis": {
            "gridcolor": "white",
            "linecolor": "white",
            "ticks": ""
           },
           "baxis": {
            "gridcolor": "white",
            "linecolor": "white",
            "ticks": ""
           },
           "bgcolor": "#E5ECF6",
           "caxis": {
            "gridcolor": "white",
            "linecolor": "white",
            "ticks": ""
           }
          },
          "title": {
           "x": 0.05
          },
          "xaxis": {
           "automargin": true,
           "gridcolor": "white",
           "linecolor": "white",
           "ticks": "",
           "title": {
            "standoff": 15
           },
           "zerolinecolor": "white",
           "zerolinewidth": 2
          },
          "yaxis": {
           "automargin": true,
           "gridcolor": "white",
           "linecolor": "white",
           "ticks": "",
           "title": {
            "standoff": 15
           },
           "zerolinecolor": "white",
           "zerolinewidth": 2
          }
         }
        },
        "title": {
         "text": "Gain / Interactions initiated vs p (mwu)"
        },
        "xaxis": {
         "title": {
          "text": "p"
         }
        },
        "yaxis": {
         "title": {
          "text": "gain / interactions initiated"
         }
        }
       }
      },
      "text/html": [
       "<div>\n",
       "        \n",
       "        \n",
       "            <div id=\"3fe0579d-cc11-4587-8135-435cb19645aa\" class=\"plotly-graph-div\" style=\"height:525px; width:100%;\"></div>\n",
       "            <script type=\"text/javascript\">\n",
       "                require([\"plotly\"], function(Plotly) {\n",
       "                    window.PLOTLYENV=window.PLOTLYENV || {};\n",
       "                    \n",
       "                if (document.getElementById(\"3fe0579d-cc11-4587-8135-435cb19645aa\")) {\n",
       "                    Plotly.newPlot(\n",
       "                        '3fe0579d-cc11-4587-8135-435cb19645aa',\n",
       "                        [{\"error_y\": {\"array\": [0.01973909527445613, 0.02507124508881848, 0.008598947360217489, 0.012546076490047046, 0.01487380081740551, 0.010028775695141883, 0.009495824421914219, 0.00828483363907555, 0.0033612063470508844, 0.0008114641818340461], \"type\": \"data\", \"visible\": true}, \"hoverinfo\": \"skip\", \"marker\": {\"color\": \"rgb(31, 119, 180)\"}, \"mode\": \"lines+markers\", \"name\": \"Gain / Interactions initiated (r=64)\", \"type\": \"scatter\", \"x\": [\"1.0\", \"0.9\", \"0.8\", \"0.7\", \"0.6\", \"0.5\", \"0.4\", \"0.3\", \"0.2\", \"0.1\"], \"y\": [0.11619929347405951, 0.1085005905147669, 0.09313689976956441, 0.0691731498525325, 0.0674797888134567, 0.05821843189338764, 0.04494195964975573, 0.032499163851680085, 0.02259265968959739, 0.01709801241638975]}, {\"hoverinfo\": \"skip\", \"marker\": {\"color\": \"rgb(31, 119, 180)\"}, \"mode\": \"markers\", \"name\": \"ratio per iter (r=64)\", \"opacity\": 0.7, \"type\": \"scatter\", \"x\": [\"1.0\", \"1.0\", \"1.0\", \"1.0\", \"1.0\", \"1.0\", \"1.0\", \"1.0\", \"1.0\", \"1.0\", \"0.9\", \"0.9\", \"0.9\", \"0.9\", \"0.9\", \"0.9\", \"0.9\", \"0.9\", \"0.9\", \"0.9\", \"0.8\", \"0.8\", \"0.8\", \"0.8\", \"0.8\", \"0.8\", \"0.8\", \"0.8\", \"0.8\", \"0.8\", \"0.7\", \"0.7\", \"0.7\", \"0.7\", \"0.7\", \"0.7\", \"0.7\", \"0.7\", \"0.7\", \"0.7\", \"0.6\", \"0.6\", \"0.6\", \"0.6\", \"0.6\", \"0.6\", \"0.6\", \"0.6\", \"0.6\", \"0.6\", \"0.5\", \"0.5\", \"0.5\", \"0.5\", \"0.5\", \"0.5\", \"0.5\", \"0.5\", \"0.5\", \"0.5\", \"0.4\", \"0.4\", \"0.4\", \"0.4\", \"0.4\", \"0.4\", \"0.4\", \"0.4\", \"0.4\", \"0.4\", \"0.3\", \"0.3\", \"0.3\", \"0.3\", \"0.3\", \"0.3\", \"0.3\", \"0.3\", \"0.3\", \"0.3\", \"0.2\", \"0.2\", \"0.2\", \"0.2\", \"0.2\", \"0.2\", \"0.2\", \"0.2\", \"0.2\", \"0.2\", \"0.1\", \"0.1\", \"0.1\", \"0.1\", \"0.1\", \"0.1\", \"0.1\", \"0.1\", \"0.1\", \"0.1\"], \"y\": [0.10611735330836453, 0.09777777777777778, 0.11162196679438058, 0.14865689865689866, 0.11485943775100402, 0.1111111111111111, 0.08930041152263375, 0.11310861423220973, 0.15633074935400515, 0.11310861423220973, 0.07475678443420379, 0.11513002364066195, 0.06186114429842029, 0.11407407407407406, 0.08687489332650623, 0.12803030303030302, 0.1401808785529716, 0.11456790123456789, 0.14022757697456492, 0.10930232558139533, 0.08858166922683051, 0.11209876543209876, 0.08780690803162715, 0.0882716049382716, 0.09800249687890139, 0.07811663991439273, 0.0890652557319224, 0.09621578099838969, 0.09465020576131687, 0.098559670781893, 0.07678110003691399, 0.07611832611832613, 0.06673052362707536, 0.04970760233918128, 0.06291042815865515, 0.0986267166042447, 0.06899641577060932, 0.05691358024691358, 0.07065217391304347, 0.06429463171036205, 0.06213097155126142, 0.06712962962962964, 0.05898345153664302, 0.0570644718792867, 0.051340996168582356, 0.06975308641975309, 0.07310744810744811, 0.0835613939062215, 0.10142118863049099, 0.0503052503052503, 0.04770531400966184, 0.05657305657305658, 0.0609143942477276, 0.049062049062049064, 0.0683641975308642, 0.04100529100529101, 0.07341269841269842, 0.05782556750298684, 0.056179775280898875, 0.07114197530864198, 0.05106005106005106, 0.03649691358024691, 0.04789067142008318, 0.05852713178294573, 0.06325426550145652, 0.0434374466632531, 0.035855003940110326, 0.034373699542238866, 0.03797360578969774, 0.04055080721747389, 0.023589936633414903, 0.023944549464398245, 0.028546099290780134, 0.024468085106382972, 0.027188236926064643, 0.04941860465116278, 0.03894425987449243, 0.039753086419753086, 0.030297374642279457, 0.03884140550807218, 0.018594131178560614, 0.030118030118030124, 0.0220959595959596, 0.023429951690821255, 0.02073489071125005, 0.02159097257136473, 0.02610616896331182, 0.02293591344153142, 0.01785163414765281, 0.022468944477491485, 0.01616107151787947, 0.018386070334415718, 0.01580259501869933, 0.01697484148564052, 0.017057275573682692, 0.016390054091666998, 0.017202035761749425, 0.017204532229038626, 0.017380983957298465, 0.01842066419382623]}, {\"error_y\": {\"array\": [0.02246425184097848, 0.015158479225656411, 0.016319986481218723, 0.021856713406895635, 0.008806875056192797, 0.012815943736910208, 0.00892735101385509, 0.0028959809878309254, 0.0019657122168525755, 0.002032262942831907], \"type\": \"data\", \"visible\": true}, \"hoverinfo\": \"skip\", \"marker\": {\"color\": \"rgb(255, 127, 14)\"}, \"mode\": \"lines+markers\", \"name\": \"Gain / Interactions initiated (r=32)\", \"type\": \"scatter\", \"x\": [\"1.0\", \"0.9\", \"0.8\", \"0.7\", \"0.6\", \"0.5\", \"0.4\", \"0.3\", \"0.2\", \"0.1\"], \"y\": [0.1382893115922476, 0.10524022663845001, 0.08672017715594474, 0.089582428800271, 0.06016220284872503, 0.05569447838568039, 0.04566364711704932, 0.037512264519665314, 0.03324223325890431, 0.031917814387691805]}, {\"hoverinfo\": \"skip\", \"marker\": {\"color\": \"rgb(255, 127, 14)\"}, \"mode\": \"markers\", \"name\": \"ratio per iter (r=32)\", \"opacity\": 0.7, \"type\": \"scatter\", \"x\": [\"1.0\", \"1.0\", \"1.0\", \"1.0\", \"1.0\", \"1.0\", \"1.0\", \"1.0\", \"1.0\", \"1.0\", \"0.9\", \"0.9\", \"0.9\", \"0.9\", \"0.9\", \"0.9\", \"0.9\", \"0.9\", \"0.9\", \"0.9\", \"0.8\", \"0.8\", \"0.8\", \"0.8\", \"0.8\", \"0.8\", \"0.8\", \"0.8\", \"0.8\", \"0.8\", \"0.7\", \"0.7\", \"0.7\", \"0.7\", \"0.7\", \"0.7\", \"0.7\", \"0.7\", \"0.7\", \"0.7\", \"0.6\", \"0.6\", \"0.6\", \"0.6\", \"0.6\", \"0.6\", \"0.6\", \"0.6\", \"0.6\", \"0.6\", \"0.5\", \"0.5\", \"0.5\", \"0.5\", \"0.5\", \"0.5\", \"0.5\", \"0.5\", \"0.5\", \"0.5\", \"0.4\", \"0.4\", \"0.4\", \"0.4\", \"0.4\", \"0.4\", \"0.4\", \"0.4\", \"0.4\", \"0.4\", \"0.3\", \"0.3\", \"0.3\", \"0.3\", \"0.3\", \"0.3\", \"0.3\", \"0.3\", \"0.3\", \"0.3\", \"0.2\", \"0.2\", \"0.2\", \"0.2\", \"0.2\", \"0.2\", \"0.2\", \"0.2\", \"0.2\", \"0.2\", \"0.1\", \"0.1\", \"0.1\", \"0.1\", \"0.1\", \"0.1\", \"0.1\", \"0.1\", \"0.1\", \"0.1\"], \"y\": [0.19520697167755993, 0.14144316730523626, 0.10842490842490843, 0.14056224899598393, 0.14041514041514042, 0.11565113500597368, 0.1401373283395755, 0.11935286935286935, 0.14281045751633986, 0.1388888888888889, 0.09090909090909091, 0.14583333333333334, 0.10962962962962963, 0.09637952559300876, 0.1051851851851852, 0.10702426564495526, 0.10839506172839505, 0.10411985018726592, 0.09418558343289526, 0.09074074074074073, 0.10636704119850188, 0.12172284644194757, 0.08756038647342995, 0.06853864734299518, 0.0923845193508115, 0.07223113964686999, 0.0683641975308642, 0.09048821548821549, 0.08372579801151231, 0.07581898007429921, 0.13755020080321287, 0.09113607990012484, 0.08155446086480567, 0.06717995169082126, 0.11902937420178798, 0.06574074074074074, 0.08006279434850863, 0.08970929195648297, 0.07043650793650794, 0.09342488555971702, 0.061462324393358886, 0.05469135802469136, 0.05130023640661938, 0.05596707818930041, 0.06102693602693603, 0.08297258297258298, 0.06763285024154589, 0.054212454212454214, 0.05756358768406962, 0.0547926203356915, 0.07563025210084032, 0.04733380314775664, 0.04416763791763792, 0.07336956521739131, 0.037218045112781956, 0.05724637681159419, 0.0626886145404664, 0.04754534593244271, 0.04423868312757202, 0.06750645994832043, 0.032004307099183754, 0.036440048402414, 0.06002415458937198, 0.05157065157065157, 0.041275223093404916, 0.05643939393939394, 0.04619341563786009, 0.03480567895461512, 0.04680134680134681, 0.051082251082251104, 0.034379798442298444, 0.03696217803360661, 0.04115499230441759, 0.03589063830660469, 0.04143079143079143, 0.03523232579083643, 0.036795743938601085, 0.03373438383716688, 0.03728982951205174, 0.042251963600278206, 0.03439054028134488, 0.031420229590544226, 0.03176529648003779, 0.03725949975949976, 0.034422290672290676, 0.033043106131341426, 0.030411951105228423, 0.031234897204824502, 0.03389819943128767, 0.034576321932643775, 0.03371641585927299, 0.034538506760728976, 0.029698310948310953, 0.034584111422346714, 0.02922283496732026, 0.03279275154275154, 0.03016955574500331, 0.030185707323865222, 0.030556487070571573, 0.03371346223674655]}, {\"error_y\": {\"array\": [0.020902420193627237, 0.020055226826606452, 0.02200019396802549, 0.009019590067548874, 0.004957438254468164, 0.006331640363423387, 0.003130942518538305, 0.0038898120127416522, 0.0020721287706556564, 0.004400413211577138], \"type\": \"data\", \"visible\": true}, \"hoverinfo\": \"skip\", \"marker\": {\"color\": \"rgb(44, 160, 44)\"}, \"mode\": \"lines+markers\", \"name\": \"Gain / Interactions initiated (r=16)\", \"type\": \"scatter\", \"x\": [\"1.0\", \"0.9\", \"0.8\", \"0.7\", \"0.6\", \"0.5\", \"0.4\", \"0.3\", \"0.2\", \"0.1\"], \"y\": [0.11872431815032165, 0.09842830981340193, 0.09786901626617142, 0.07383776452807514, 0.07004544353597168, 0.06731323410977544, 0.06648916793843648, 0.06442101041282451, 0.059566853328231084, 0.05635203595673741]}, {\"hoverinfo\": \"skip\", \"marker\": {\"color\": \"rgb(44, 160, 44)\"}, \"mode\": \"markers\", \"name\": \"ratio per iter (r=16)\", \"opacity\": 0.7, \"type\": \"scatter\", \"x\": [\"1.0\", \"1.0\", \"1.0\", \"1.0\", \"1.0\", \"1.0\", \"1.0\", \"1.0\", \"1.0\", \"1.0\", \"0.9\", \"0.9\", \"0.9\", \"0.9\", \"0.9\", \"0.9\", \"0.9\", \"0.9\", \"0.9\", \"0.9\", \"0.8\", \"0.8\", \"0.8\", \"0.8\", \"0.8\", \"0.8\", \"0.8\", \"0.8\", \"0.8\", \"0.8\", \"0.7\", \"0.7\", \"0.7\", \"0.7\", \"0.7\", \"0.7\", \"0.7\", \"0.7\", \"0.7\", \"0.7\", \"0.6\", \"0.6\", \"0.6\", \"0.6\", \"0.6\", \"0.6\", \"0.6\", \"0.6\", \"0.6\", \"0.6\", \"0.5\", \"0.5\", \"0.5\", \"0.5\", \"0.5\", \"0.5\", \"0.5\", \"0.5\", \"0.5\", \"0.5\", \"0.4\", \"0.4\", \"0.4\", \"0.4\", \"0.4\", \"0.4\", \"0.4\", \"0.4\", \"0.4\", \"0.4\", \"0.3\", \"0.3\", \"0.3\", \"0.3\", \"0.3\", \"0.3\", \"0.3\", \"0.3\", \"0.3\", \"0.3\", \"0.2\", \"0.2\", \"0.2\", \"0.2\", \"0.2\", \"0.2\", \"0.2\", \"0.2\", \"0.2\", \"0.2\", \"0.1\", \"0.1\", \"0.1\", \"0.1\", \"0.1\", \"0.1\", \"0.1\", \"0.1\", \"0.1\", \"0.1\"], \"y\": [0.1108695652173913, 0.09523809523809525, 0.1045893719806763, 0.1451310861423221, 0.13331342094782953, 0.15225035161744022, 0.0930809930809931, 0.11506172839506171, 0.13947990543735225, 0.09822866344605474, 0.13383838383838384, 0.0857956857956858, 0.10681818181818184, 0.09869759869759867, 0.08189168301527852, 0.11333333333333333, 0.08041759117027934, 0.061563051146384475, 0.10622710622710622, 0.11570048309178743, 0.14625167336010708, 0.07470572498662387, 0.0871604938271605, 0.08869188337273445, 0.08913857677902622, 0.0933806146572104, 0.13352272727272727, 0.07953761214630779, 0.09594771241830065, 0.09035314384151592, 0.061161147771634665, 0.07548500881834215, 0.07797121237981453, 0.07063060731538993, 0.06313557731997449, 0.06484665882814031, 0.08806100217864923, 0.07387057387057387, 0.08883009994121106, 0.07438575685702123, 0.06395578665693609, 0.0689594356261023, 0.06951960076960076, 0.06812169312169312, 0.06476878500688026, 0.06993097366660585, 0.07195151962593825, 0.07226829558290233, 0.08283160007297936, 0.06814674523007856, 0.06238487164413092, 0.07985929414500842, 0.06438876008164399, 0.06450617283950617, 0.0646834778040452, 0.07937116098035638, 0.06251252605419272, 0.06530902959474388, 0.06763067179733846, 0.062486376156788155, 0.0647256405683372, 0.06359739368998629, 0.06511986792994545, 0.07203907203907203, 0.06070693709582598, 0.07038139329805997, 0.06830004161464835, 0.06682618948536552, 0.06756691280500804, 0.06562823085811592, 0.06451326805732938, 0.062492126480221705, 0.06281253242037556, 0.05884239217572551, 0.062326420563968456, 0.07178577009800637, 0.07047325102880657, 0.06060728266012819, 0.0663868942638784, 0.06397016637980493, 0.0574538197345215, 0.058479532163742694, 0.059154308567454114, 0.058173878379357835, 0.05964893464893466, 0.06428329830156315, 0.059985032024505704, 0.05992750635607779, 0.05678515537670467, 0.06177706772944869, 0.05464157113462669, 0.05641639371798101, 0.05592730919528305, 0.05906247958717093, 0.06751910640799529, 0.05766163833539719, 0.05482933914306463, 0.04997550460513423, 0.05344895159709975, 0.05403806584362139]}, {\"error_y\": {\"array\": [0.013442893980517762, 0.009340111223057172, 0.005983847704628306, 0.00780399398932719, 0.006263553859862263, 0.008463666769573764, 0.007172067106504236, 0.005967154889920687, 0.011055735405074854, 0.010056391549114215], \"type\": \"data\", \"visible\": true}, \"hoverinfo\": \"skip\", \"marker\": {\"color\": \"rgb(214, 39, 40)\"}, \"mode\": \"lines+markers\", \"name\": \"Gain / Interactions initiated (r=8)\", \"type\": \"scatter\", \"x\": [\"1.0\", \"0.9\", \"0.8\", \"0.7\", \"0.6\", \"0.5\", \"0.4\", \"0.3\", \"0.2\", \"0.1\"], \"y\": [0.1391307593323568, 0.13331499334449612, 0.12673267120318837, 0.12875976417234072, 0.12404590175585768, 0.11985735668529365, 0.11963833247504238, 0.10549467933843967, 0.10678097841082812, 0.10991325545380352]}, {\"hoverinfo\": \"skip\", \"marker\": {\"color\": \"rgb(214, 39, 40)\"}, \"mode\": \"markers\", \"name\": \"ratio per iter (r=8)\", \"opacity\": 0.7, \"type\": \"scatter\", \"x\": [\"1.0\", \"1.0\", \"1.0\", \"1.0\", \"1.0\", \"1.0\", \"1.0\", \"1.0\", \"1.0\", \"1.0\", \"0.9\", \"0.9\", \"0.9\", \"0.9\", \"0.9\", \"0.9\", \"0.9\", \"0.9\", \"0.9\", \"0.9\", \"0.8\", \"0.8\", \"0.8\", \"0.8\", \"0.8\", \"0.8\", \"0.8\", \"0.8\", \"0.8\", \"0.8\", \"0.7\", \"0.7\", \"0.7\", \"0.7\", \"0.7\", \"0.7\", \"0.7\", \"0.7\", \"0.7\", \"0.7\", \"0.6\", \"0.6\", \"0.6\", \"0.6\", \"0.6\", \"0.6\", \"0.6\", \"0.6\", \"0.6\", \"0.6\", \"0.5\", \"0.5\", \"0.5\", \"0.5\", \"0.5\", \"0.5\", \"0.5\", \"0.5\", \"0.5\", \"0.5\", \"0.4\", \"0.4\", \"0.4\", \"0.4\", \"0.4\", \"0.4\", \"0.4\", \"0.4\", \"0.4\", \"0.4\", \"0.3\", \"0.3\", \"0.3\", \"0.3\", \"0.3\", \"0.3\", \"0.3\", \"0.3\", \"0.3\", \"0.3\", \"0.2\", \"0.2\", \"0.2\", \"0.2\", \"0.2\", \"0.2\", \"0.2\", \"0.2\", \"0.2\", \"0.2\", \"0.1\", \"0.1\", \"0.1\", \"0.1\", \"0.1\", \"0.1\", \"0.1\", \"0.1\", \"0.1\", \"0.1\"], \"y\": [0.14110305958132044, 0.17445286195286197, 0.1312962962962963, 0.1250099561927519, 0.13677536231884058, 0.1351213282247765, 0.13456119162640903, 0.150462962962963, 0.1311069496462755, 0.13141762452107278, 0.12252747252747254, 0.13846317581949763, 0.1297690163281561, 0.12482702482702483, 0.13419753086419756, 0.13716475095785438, 0.12411568872243031, 0.15568475452196384, 0.1284979423868313, 0.137902576489533, 0.12640382317801674, 0.1313374485596708, 0.13618561089825457, 0.11470714900947458, 0.12566137566137567, 0.1247181964573269, 0.12440699126092385, 0.1239952718676123, 0.13560789049919483, 0.1243029546400333, 0.12253086419753087, 0.1292181069958848, 0.13098765432098763, 0.12899243329350854, 0.13512058570198102, 0.12058322690506597, 0.12297979797979798, 0.1474882928905917, 0.120216049382716, 0.12948063005534272, 0.13307790549169857, 0.12026748971193414, 0.13125836680053546, 0.12809706257982117, 0.12328364950316167, 0.11219135802469134, 0.12926777352064708, 0.12328976034858385, 0.12333333333333332, 0.11639231824417011, 0.12804878048780488, 0.11823361823361822, 0.1136574074074074, 0.11673441734417343, 0.12130772748056701, 0.12051467051467048, 0.13499361430395912, 0.11933677863910419, 0.12446941323345817, 0.10127713920817367, 0.11062378167641325, 0.10973936899862827, 0.12183356195701875, 0.12862745098039213, 0.12000962000961998, 0.1284407864654778, 0.11522131887985546, 0.12603748326639894, 0.12518993352326688, 0.11066001899335233, 0.09598242310106714, 0.1036522633744856, 0.11652846876727473, 0.1000272331154684, 0.0995230078563412, 0.10629122272957889, 0.10293209876543209, 0.11204972095383053, 0.10851851851851851, 0.10944183620239957, 0.11728395061728393, 0.12751786874593893, 0.10072016460905349, 0.0970951343500363, 0.09303840877914951, 0.10135214579659022, 0.09968612680477087, 0.11722222222222223, 0.11626543209876543, 0.09762833008447042, 0.12543859649122804, 0.10722673893405599, 0.1225396825396825, 0.12105820105820107, 0.11347381864623243, 0.1038231780167264, 0.09994708994708994, 0.09475308641975308, 0.09994026284348864, 0.11093189964157707]}, {\"error_y\": {\"array\": [0.025438683494643767, 0.015607766375924684, 0.01618168795316182, 0.02185580646145881, 0.019030857412319042, 0.023406895057328136, 0.020006982932683777, 0.010273169852308046, 0.03127184032325078, 0.019685545175317398], \"type\": \"data\", \"visible\": true}, \"hoverinfo\": \"skip\", \"marker\": {\"color\": \"rgb(148, 103, 189)\"}, \"mode\": \"lines+markers\", \"name\": \"Gain / Interactions initiated (r=4)\", \"type\": \"scatter\", \"x\": [\"1.0\", \"0.9\", \"0.8\", \"0.7\", \"0.6\", \"0.5\", \"0.4\", \"0.3\", \"0.2\", \"0.1\"], \"y\": [0.24543677336894007, 0.23476951449704236, 0.2487360765894256, 0.22503027546363324, 0.21598189304133425, 0.218180575500947, 0.21912633657398795, 0.205295182376891, 0.1939150232468045, 0.1875304528275306]}, {\"hoverinfo\": \"skip\", \"marker\": {\"color\": \"rgb(148, 103, 189)\"}, \"mode\": \"markers\", \"name\": \"ratio per iter (r=4)\", \"opacity\": 0.7, \"type\": \"scatter\", \"x\": [\"1.0\", \"1.0\", \"1.0\", \"1.0\", \"1.0\", \"1.0\", \"1.0\", \"1.0\", \"1.0\", \"1.0\", \"0.9\", \"0.9\", \"0.9\", \"0.9\", \"0.9\", \"0.9\", \"0.9\", \"0.9\", \"0.9\", \"0.9\", \"0.8\", \"0.8\", \"0.8\", \"0.8\", \"0.8\", \"0.8\", \"0.8\", \"0.8\", \"0.8\", \"0.8\", \"0.7\", \"0.7\", \"0.7\", \"0.7\", \"0.7\", \"0.7\", \"0.7\", \"0.7\", \"0.7\", \"0.7\", \"0.6\", \"0.6\", \"0.6\", \"0.6\", \"0.6\", \"0.6\", \"0.6\", \"0.6\", \"0.6\", \"0.6\", \"0.5\", \"0.5\", \"0.5\", \"0.5\", \"0.5\", \"0.5\", \"0.5\", \"0.5\", \"0.5\", \"0.5\", \"0.4\", \"0.4\", \"0.4\", \"0.4\", \"0.4\", \"0.4\", \"0.4\", \"0.4\", \"0.4\", \"0.4\", \"0.3\", \"0.3\", \"0.3\", \"0.3\", \"0.3\", \"0.3\", \"0.3\", \"0.3\", \"0.3\", \"0.3\", \"0.2\", \"0.2\", \"0.2\", \"0.2\", \"0.2\", \"0.2\", \"0.2\", \"0.2\", \"0.2\", \"0.2\", \"0.1\", \"0.1\", \"0.1\", \"0.1\", \"0.1\", \"0.1\", \"0.1\", \"0.1\", \"0.1\", \"0.1\"], \"y\": [0.195679012345679, 0.2502153316106805, 0.22888056595921763, 0.2773569023569023, 0.24390243902439024, 0.24575163398692806, 0.24606215410813118, 0.25925925925925924, 0.28791887125220456, 0.21934156378600822, 0.251896474788041, 0.21141975308641983, 0.23148148148148148, 0.2520833333333333, 0.23258377425044094, 0.250903342366757, 0.21220043572984745, 0.2350762527233116, 0.2190214906264289, 0.25102880658436216, 0.24889770723104057, 0.26804368471035134, 0.2609001406469761, 0.2804938271604938, 0.2323633156966491, 0.25097465886939574, 0.24727668845315906, 0.23721340388007053, 0.23400673400673402, 0.2271906052393857, 0.2577160493827161, 0.25038051750380513, 0.20768870135958745, 0.21921921921921922, 0.25857338820301784, 0.20567901234567904, 0.2047184170471842, 0.23269980506822616, 0.19986449864498645, 0.21376314586191128, 0.21101966163694558, 0.22436929683306495, 0.22636815920398012, 0.17736045905059988, 0.2034567901234568, 0.20445445445445443, 0.2342201356285863, 0.22612085769980508, 0.24849849849849845, 0.20395061728395059, 0.21739130434782608, 0.24273504273504273, 0.19664902998236333, 0.18357487922705312, 0.26141975308641974, 0.1857463524130191, 0.22306397306397308, 0.21336553945249595, 0.23161189358372455, 0.2262479871175523, 0.20662768031189083, 0.1813022700119474, 0.22092267706302793, 0.2222222222222222, 0.23190883190883188, 0.18821548821548817, 0.237491877842755, 0.22670250896057348, 0.24747474747474743, 0.22839506172839508, 0.20233196159122077, 0.2025925925925926, 0.21866096866096862, 0.19191919191919188, 0.20515613652868553, 0.2, 0.22294843863471317, 0.21779388083735904, 0.19426974143955278, 0.19727891156462585, 0.16872427983539093, 0.19523809523809524, 0.18467078189300412, 0.17479674796747965, 0.2621527777777778, 0.2015669515669516, 0.2104377104377104, 0.14367816091954022, 0.1751751751751752, 0.22270955165692005, 0.18350168350168347, 0.17222222222222217, 0.17429193899782133, 0.17361111111111113, 0.2037037037037037, 0.20502645502645503, 0.16578483245149914, 0.2330246913580247, 0.18861454046639228, 0.17552334943639292]}, {\"error_y\": {\"array\": [0.028939732584259217, 0.02153107136451784, 0.030595215127196825, 0.031935101850280825, 0.04674429228696443, 0.028890809881609796, 0.029405615403318246, 0.036532795241954, 0.07184133357738785, 0.06551410157708058], \"type\": \"data\", \"visible\": true}, \"hoverinfo\": \"skip\", \"marker\": {\"color\": \"rgb(140, 86, 75)\"}, \"mode\": \"lines+markers\", \"name\": \"Gain / Interactions initiated (r=2)\", \"type\": \"scatter\", \"x\": [\"1.0\", \"0.9\", \"0.8\", \"0.7\", \"0.6\", \"0.5\", \"0.4\", \"0.3\", \"0.2\", \"0.1\"], \"y\": [0.3792105077022583, 0.3717380234137231, 0.3720895157913617, 0.3728717334708494, 0.34527027364578877, 0.3417029822079885, 0.32418973916727184, 0.32328581558709024, 0.31752389812916126, 0.3104118566618566]}, {\"hoverinfo\": \"skip\", \"marker\": {\"color\": \"rgb(140, 86, 75)\"}, \"mode\": \"markers\", \"name\": \"ratio per iter (r=2)\", \"opacity\": 0.7, \"type\": \"scatter\", \"x\": [\"1.0\", \"1.0\", \"1.0\", \"1.0\", \"1.0\", \"1.0\", \"1.0\", \"1.0\", \"1.0\", \"1.0\", \"0.9\", \"0.9\", \"0.9\", \"0.9\", \"0.9\", \"0.9\", \"0.9\", \"0.9\", \"0.9\", \"0.9\", \"0.8\", \"0.8\", \"0.8\", \"0.8\", \"0.8\", \"0.8\", \"0.8\", \"0.8\", \"0.8\", \"0.8\", \"0.7\", \"0.7\", \"0.7\", \"0.7\", \"0.7\", \"0.7\", \"0.7\", \"0.7\", \"0.7\", \"0.7\", \"0.6\", \"0.6\", \"0.6\", \"0.6\", \"0.6\", \"0.6\", \"0.6\", \"0.6\", \"0.6\", \"0.6\", \"0.5\", \"0.5\", \"0.5\", \"0.5\", \"0.5\", \"0.5\", \"0.5\", \"0.5\", \"0.5\", \"0.5\", \"0.4\", \"0.4\", \"0.4\", \"0.4\", \"0.4\", \"0.4\", \"0.4\", \"0.4\", \"0.4\", \"0.4\", \"0.3\", \"0.3\", \"0.3\", \"0.3\", \"0.3\", \"0.3\", \"0.3\", \"0.3\", \"0.3\", \"0.3\", \"0.2\", \"0.2\", \"0.2\", \"0.2\", \"0.2\", \"0.2\", \"0.2\", \"0.2\", \"0.2\", \"0.2\", \"0.1\", \"0.1\", \"0.1\", \"0.1\", \"0.1\", \"0.1\", \"0.1\", \"0.1\", \"0.1\", \"0.1\"], \"y\": [0.3993558776167472, 0.38447971781305107, 0.429519071310116, 0.3367521367521368, 0.3541666666666667, 0.3512544802867384, 0.4119047619047619, 0.4008547008547009, 0.3675213675213675, 0.35629629629629633, 0.33905228758169936, 0.3451730418943533, 0.39108187134502925, 0.3771043771043771, 0.355392156862745, 0.414983164983165, 0.36612021857923494, 0.38592592592592595, 0.3779149519890261, 0.3646322378716745, 0.38973063973063965, 0.35802469135802467, 0.3545751633986928, 0.37106918238993714, 0.314516129032258, 0.3880070546737213, 0.33422939068100355, 0.3930041152263375, 0.39473684210526316, 0.42300194931773877, 0.40575396825396826, 0.42894056847545214, 0.327683615819209, 0.38888888888888895, 0.3769063180827887, 0.36217948717948717, 0.33660130718954245, 0.3782505910165484, 0.39300411522633744, 0.33050847457627125, 0.42995169082125606, 0.3020833333333333, 0.3647798742138365, 0.29292929292929293, 0.31646825396825395, 0.3333333333333333, 0.3176100628930817, 0.313953488372093, 0.3531746031746032, 0.42841880341880334, 0.30330330330330324, 0.3550724637681159, 0.3093434343434343, 0.3306233062330623, 0.3319088319088319, 0.30797101449275366, 0.39814814814814814, 0.3631436314363144, 0.35317460317460314, 0.36434108527131776, 0.35648148148148145, 0.38611111111111107, 0.33169934640522875, 0.2987987987987987, 0.3415637860082304, 0.27904040404040403, 0.31076388888888884, 0.3042929292929292, 0.3208333333333333, 0.3123123123123124, 0.36200716845878134, 0.29259259259259257, 0.3022875816993465, 0.3768115942028985, 0.30357142857142855, 0.3592592592592593, 0.2544802867383512, 0.30158730158730157, 0.3486111111111111, 0.3316498316498316, 0.2622222222222222, 0.2904040404040404, 0.41161616161616155, 0.4185185185185185, 0.39417989417989424, 0.28654970760233917, 0.356060606060606, 0.2805555555555555, 0.18148148148148147, 0.2936507936507936, 0.23412698412698413, 0.3333333333333333, 0.31481481481481477, 0.24747474747474743, 0.47777777777777775, 0.2944444444444444, 0.29166666666666663, 0.35353535353535354, 0.2847222222222222, 0.2722222222222222]}],\n",
       "                        {\"plot_bgcolor\": \"rgba(0,0,0,0)\", \"showlegend\": true, \"template\": {\"data\": {\"bar\": [{\"error_x\": {\"color\": \"#2a3f5f\"}, \"error_y\": {\"color\": \"#2a3f5f\"}, \"marker\": {\"line\": {\"color\": \"#E5ECF6\", \"width\": 0.5}}, \"type\": \"bar\"}], \"barpolar\": [{\"marker\": {\"line\": {\"color\": \"#E5ECF6\", \"width\": 0.5}}, \"type\": \"barpolar\"}], \"carpet\": [{\"aaxis\": {\"endlinecolor\": \"#2a3f5f\", \"gridcolor\": \"white\", \"linecolor\": \"white\", \"minorgridcolor\": \"white\", \"startlinecolor\": \"#2a3f5f\"}, \"baxis\": {\"endlinecolor\": \"#2a3f5f\", \"gridcolor\": \"white\", \"linecolor\": \"white\", \"minorgridcolor\": \"white\", \"startlinecolor\": \"#2a3f5f\"}, \"type\": \"carpet\"}], \"choropleth\": [{\"colorbar\": {\"outlinewidth\": 0, \"ticks\": \"\"}, \"type\": \"choropleth\"}], \"contour\": [{\"colorbar\": {\"outlinewidth\": 0, \"ticks\": \"\"}, \"colorscale\": [[0.0, \"#0d0887\"], [0.1111111111111111, \"#46039f\"], [0.2222222222222222, \"#7201a8\"], [0.3333333333333333, \"#9c179e\"], [0.4444444444444444, \"#bd3786\"], [0.5555555555555556, \"#d8576b\"], [0.6666666666666666, \"#ed7953\"], [0.7777777777777778, \"#fb9f3a\"], [0.8888888888888888, \"#fdca26\"], [1.0, \"#f0f921\"]], \"type\": \"contour\"}], \"contourcarpet\": [{\"colorbar\": {\"outlinewidth\": 0, \"ticks\": \"\"}, \"type\": \"contourcarpet\"}], \"heatmap\": [{\"colorbar\": {\"outlinewidth\": 0, \"ticks\": \"\"}, \"colorscale\": [[0.0, \"#0d0887\"], [0.1111111111111111, \"#46039f\"], [0.2222222222222222, \"#7201a8\"], [0.3333333333333333, \"#9c179e\"], [0.4444444444444444, \"#bd3786\"], [0.5555555555555556, \"#d8576b\"], [0.6666666666666666, \"#ed7953\"], [0.7777777777777778, \"#fb9f3a\"], [0.8888888888888888, \"#fdca26\"], [1.0, \"#f0f921\"]], \"type\": \"heatmap\"}], \"heatmapgl\": [{\"colorbar\": {\"outlinewidth\": 0, \"ticks\": \"\"}, \"colorscale\": [[0.0, \"#0d0887\"], [0.1111111111111111, \"#46039f\"], [0.2222222222222222, \"#7201a8\"], [0.3333333333333333, \"#9c179e\"], [0.4444444444444444, \"#bd3786\"], [0.5555555555555556, \"#d8576b\"], [0.6666666666666666, \"#ed7953\"], [0.7777777777777778, \"#fb9f3a\"], [0.8888888888888888, \"#fdca26\"], [1.0, \"#f0f921\"]], \"type\": \"heatmapgl\"}], \"histogram\": [{\"marker\": {\"colorbar\": {\"outlinewidth\": 0, \"ticks\": \"\"}}, \"type\": \"histogram\"}], \"histogram2d\": [{\"colorbar\": {\"outlinewidth\": 0, \"ticks\": \"\"}, \"colorscale\": [[0.0, \"#0d0887\"], [0.1111111111111111, \"#46039f\"], [0.2222222222222222, \"#7201a8\"], [0.3333333333333333, \"#9c179e\"], [0.4444444444444444, \"#bd3786\"], [0.5555555555555556, \"#d8576b\"], [0.6666666666666666, \"#ed7953\"], [0.7777777777777778, \"#fb9f3a\"], [0.8888888888888888, \"#fdca26\"], [1.0, \"#f0f921\"]], \"type\": \"histogram2d\"}], \"histogram2dcontour\": [{\"colorbar\": {\"outlinewidth\": 0, \"ticks\": \"\"}, \"colorscale\": [[0.0, \"#0d0887\"], [0.1111111111111111, \"#46039f\"], [0.2222222222222222, \"#7201a8\"], [0.3333333333333333, \"#9c179e\"], [0.4444444444444444, \"#bd3786\"], [0.5555555555555556, \"#d8576b\"], [0.6666666666666666, \"#ed7953\"], [0.7777777777777778, \"#fb9f3a\"], [0.8888888888888888, \"#fdca26\"], [1.0, \"#f0f921\"]], \"type\": \"histogram2dcontour\"}], \"mesh3d\": [{\"colorbar\": {\"outlinewidth\": 0, \"ticks\": \"\"}, \"type\": \"mesh3d\"}], \"parcoords\": [{\"line\": {\"colorbar\": {\"outlinewidth\": 0, \"ticks\": \"\"}}, \"type\": \"parcoords\"}], \"pie\": [{\"automargin\": true, \"type\": \"pie\"}], \"scatter\": [{\"marker\": {\"colorbar\": {\"outlinewidth\": 0, \"ticks\": \"\"}}, \"type\": \"scatter\"}], \"scatter3d\": [{\"line\": {\"colorbar\": {\"outlinewidth\": 0, \"ticks\": \"\"}}, \"marker\": {\"colorbar\": {\"outlinewidth\": 0, \"ticks\": \"\"}}, \"type\": \"scatter3d\"}], \"scattercarpet\": [{\"marker\": {\"colorbar\": {\"outlinewidth\": 0, \"ticks\": \"\"}}, \"type\": \"scattercarpet\"}], \"scattergeo\": [{\"marker\": {\"colorbar\": {\"outlinewidth\": 0, \"ticks\": \"\"}}, \"type\": \"scattergeo\"}], \"scattergl\": [{\"marker\": {\"colorbar\": {\"outlinewidth\": 0, \"ticks\": \"\"}}, \"type\": \"scattergl\"}], \"scattermapbox\": [{\"marker\": {\"colorbar\": {\"outlinewidth\": 0, \"ticks\": \"\"}}, \"type\": \"scattermapbox\"}], \"scatterpolar\": [{\"marker\": {\"colorbar\": {\"outlinewidth\": 0, \"ticks\": \"\"}}, \"type\": \"scatterpolar\"}], \"scatterpolargl\": [{\"marker\": {\"colorbar\": {\"outlinewidth\": 0, \"ticks\": \"\"}}, \"type\": \"scatterpolargl\"}], \"scatterternary\": [{\"marker\": {\"colorbar\": {\"outlinewidth\": 0, \"ticks\": \"\"}}, \"type\": \"scatterternary\"}], \"surface\": [{\"colorbar\": {\"outlinewidth\": 0, \"ticks\": \"\"}, \"colorscale\": [[0.0, \"#0d0887\"], [0.1111111111111111, \"#46039f\"], [0.2222222222222222, \"#7201a8\"], [0.3333333333333333, \"#9c179e\"], [0.4444444444444444, \"#bd3786\"], [0.5555555555555556, \"#d8576b\"], [0.6666666666666666, \"#ed7953\"], [0.7777777777777778, \"#fb9f3a\"], [0.8888888888888888, \"#fdca26\"], [1.0, \"#f0f921\"]], \"type\": \"surface\"}], \"table\": [{\"cells\": {\"fill\": {\"color\": \"#EBF0F8\"}, \"line\": {\"color\": \"white\"}}, \"header\": {\"fill\": {\"color\": \"#C8D4E3\"}, \"line\": {\"color\": \"white\"}}, \"type\": \"table\"}]}, \"layout\": {\"annotationdefaults\": {\"arrowcolor\": \"#2a3f5f\", \"arrowhead\": 0, \"arrowwidth\": 1}, \"coloraxis\": {\"colorbar\": {\"outlinewidth\": 0, \"ticks\": \"\"}}, \"colorscale\": {\"diverging\": [[0, \"#8e0152\"], [0.1, \"#c51b7d\"], [0.2, \"#de77ae\"], [0.3, \"#f1b6da\"], [0.4, \"#fde0ef\"], [0.5, \"#f7f7f7\"], [0.6, \"#e6f5d0\"], [0.7, \"#b8e186\"], [0.8, \"#7fbc41\"], [0.9, \"#4d9221\"], [1, \"#276419\"]], \"sequential\": [[0.0, \"#0d0887\"], [0.1111111111111111, \"#46039f\"], [0.2222222222222222, \"#7201a8\"], [0.3333333333333333, \"#9c179e\"], [0.4444444444444444, \"#bd3786\"], [0.5555555555555556, \"#d8576b\"], [0.6666666666666666, \"#ed7953\"], [0.7777777777777778, \"#fb9f3a\"], [0.8888888888888888, \"#fdca26\"], [1.0, \"#f0f921\"]], \"sequentialminus\": [[0.0, \"#0d0887\"], [0.1111111111111111, \"#46039f\"], [0.2222222222222222, \"#7201a8\"], [0.3333333333333333, \"#9c179e\"], [0.4444444444444444, \"#bd3786\"], [0.5555555555555556, \"#d8576b\"], [0.6666666666666666, \"#ed7953\"], [0.7777777777777778, \"#fb9f3a\"], [0.8888888888888888, \"#fdca26\"], [1.0, \"#f0f921\"]]}, \"colorway\": [\"#636efa\", \"#EF553B\", \"#00cc96\", \"#ab63fa\", \"#FFA15A\", \"#19d3f3\", \"#FF6692\", \"#B6E880\", \"#FF97FF\", \"#FECB52\"], \"font\": {\"color\": \"#2a3f5f\"}, \"geo\": {\"bgcolor\": \"white\", \"lakecolor\": \"white\", \"landcolor\": \"#E5ECF6\", \"showlakes\": true, \"showland\": true, \"subunitcolor\": \"white\"}, \"hoverlabel\": {\"align\": \"left\"}, \"hovermode\": \"closest\", \"mapbox\": {\"style\": \"light\"}, \"paper_bgcolor\": \"white\", \"plot_bgcolor\": \"#E5ECF6\", \"polar\": {\"angularaxis\": {\"gridcolor\": \"white\", \"linecolor\": \"white\", \"ticks\": \"\"}, \"bgcolor\": \"#E5ECF6\", \"radialaxis\": {\"gridcolor\": \"white\", \"linecolor\": \"white\", \"ticks\": \"\"}}, \"scene\": {\"xaxis\": {\"backgroundcolor\": \"#E5ECF6\", \"gridcolor\": \"white\", \"gridwidth\": 2, \"linecolor\": \"white\", \"showbackground\": true, \"ticks\": \"\", \"zerolinecolor\": \"white\"}, \"yaxis\": {\"backgroundcolor\": \"#E5ECF6\", \"gridcolor\": \"white\", \"gridwidth\": 2, \"linecolor\": \"white\", \"showbackground\": true, \"ticks\": \"\", \"zerolinecolor\": \"white\"}, \"zaxis\": {\"backgroundcolor\": \"#E5ECF6\", \"gridcolor\": \"white\", \"gridwidth\": 2, \"linecolor\": \"white\", \"showbackground\": true, \"ticks\": \"\", \"zerolinecolor\": \"white\"}}, \"shapedefaults\": {\"line\": {\"color\": \"#2a3f5f\"}}, \"ternary\": {\"aaxis\": {\"gridcolor\": \"white\", \"linecolor\": \"white\", \"ticks\": \"\"}, \"baxis\": {\"gridcolor\": \"white\", \"linecolor\": \"white\", \"ticks\": \"\"}, \"bgcolor\": \"#E5ECF6\", \"caxis\": {\"gridcolor\": \"white\", \"linecolor\": \"white\", \"ticks\": \"\"}}, \"title\": {\"x\": 0.05}, \"xaxis\": {\"automargin\": true, \"gridcolor\": \"white\", \"linecolor\": \"white\", \"ticks\": \"\", \"title\": {\"standoff\": 15}, \"zerolinecolor\": \"white\", \"zerolinewidth\": 2}, \"yaxis\": {\"automargin\": true, \"gridcolor\": \"white\", \"linecolor\": \"white\", \"ticks\": \"\", \"title\": {\"standoff\": 15}, \"zerolinecolor\": \"white\", \"zerolinewidth\": 2}}}, \"title\": {\"text\": \"Gain / Interactions initiated vs p (mwu)\"}, \"xaxis\": {\"title\": {\"text\": \"p\"}}, \"yaxis\": {\"title\": {\"text\": \"gain / interactions initiated\"}}},\n",
       "                        {\"responsive\": true}\n",
       "                    ).then(function(){\n",
       "                            \n",
       "var gd = document.getElementById('3fe0579d-cc11-4587-8135-435cb19645aa');\n",
       "var x = new MutationObserver(function (mutations, observer) {{\n",
       "        var display = window.getComputedStyle(gd).display;\n",
       "        if (!display || display === 'none') {{\n",
       "            console.log([gd, 'removed!']);\n",
       "            Plotly.purge(gd);\n",
       "            observer.disconnect();\n",
       "        }}\n",
       "}});\n",
       "\n",
       "// Listen for the removal of the full notebook cells\n",
       "var notebookContainer = gd.closest('#notebook-container');\n",
       "if (notebookContainer) {{\n",
       "    x.observe(notebookContainer, {childList: true});\n",
       "}}\n",
       "\n",
       "// Listen for the clearing of the current output cell\n",
       "var outputEl = gd.closest('.output');\n",
       "if (outputEl) {{\n",
       "    x.observe(outputEl, {childList: true});\n",
       "}}\n",
       "\n",
       "                        })\n",
       "                };\n",
       "                });\n",
       "            </script>\n",
       "        </div>"
      ]
     },
     "metadata": {},
     "output_type": "display_data"
    },
    {
     "name": "stderr",
     "output_type": "stream",
     "text": [
      "/usr/local/lib/python3.6/dist-packages/numpy/lib/function_base.py:356: RuntimeWarning:\n",
      "\n",
      "Mean of empty slice.\n",
      "\n",
      "/usr/local/lib/python3.6/dist-packages/numpy/core/_methods.py:85: RuntimeWarning:\n",
      "\n",
      "invalid value encountered in double_scalars\n",
      "\n"
     ]
    },
    {
     "data": {
      "application/vnd.plotly.v1+json": {
       "config": {
        "linkText": "Export to plot.ly",
        "plotlyServerURL": "https://plot.ly",
        "showLink": false
       },
       "data": [
        {
         "error_y": {
          "array": [
           0.026847195640829633,
           0.021609973674094268,
           0.017115960442954867,
           0.015636763000472825,
           0.01653329752389747,
           0.01372358392509997,
           0.01104687099572375,
           0.006187161656974092,
           0.0018773965151486077,
           0.0025866360130982567
          ],
          "type": "data",
          "visible": true
         },
         "hoverinfo": "skip",
         "marker": {
          "color": "rgb(31, 119, 180)"
         },
         "mode": "lines+markers",
         "name": "Gain / Interactions initiated (r=64)",
         "type": "scatter",
         "x": [
          "1.0",
          "0.9",
          "0.8",
          "0.7",
          "0.6",
          "0.5",
          "0.4",
          "0.3",
          "0.2",
          "0.1"
         ],
         "y": [
          0.13833462746695108,
          0.13114486389555177,
          0.1174384345977288,
          0.08464258976182086,
          0.08344898336868997,
          0.06543671738778392,
          0.0572120830274207,
          0.039457407391936206,
          0.03633242824002506,
          0.03253369574896912
         ]
        },
        {
         "hoverinfo": "skip",
         "marker": {
          "color": "rgb(31, 119, 180)"
         },
         "mode": "markers",
         "name": "ratio per iter (r=64)",
         "opacity": 0.7,
         "type": "scatter",
         "x": [
          "1.0",
          "1.0",
          "1.0",
          "1.0",
          "1.0",
          "1.0",
          "1.0",
          "1.0",
          "1.0",
          "1.0",
          "0.9",
          "0.9",
          "0.9",
          "0.9",
          "0.9",
          "0.9",
          "0.9",
          "0.9",
          "0.9",
          "0.9",
          "0.8",
          "0.8",
          "0.8",
          "0.8",
          "0.8",
          "0.8",
          "0.8",
          "0.8",
          "0.8",
          "0.8",
          "0.7",
          "0.7",
          "0.7",
          "0.7",
          "0.7",
          "0.7",
          "0.7",
          "0.7",
          "0.7",
          "0.7",
          "0.6",
          "0.6",
          "0.6",
          "0.6",
          "0.6",
          "0.6",
          "0.6",
          "0.6",
          "0.6",
          "0.6",
          "0.5",
          "0.5",
          "0.5",
          "0.5",
          "0.5",
          "0.5",
          "0.5",
          "0.5",
          "0.5",
          "0.5",
          "0.4",
          "0.4",
          "0.4",
          "0.4",
          "0.4",
          "0.4",
          "0.4",
          "0.4",
          "0.4",
          "0.4",
          "0.3",
          "0.3",
          "0.3",
          "0.3",
          "0.3",
          "0.3",
          "0.3",
          "0.3",
          "0.3",
          "0.3",
          "0.2",
          "0.2",
          "0.2",
          "0.2",
          "0.2",
          "0.2",
          "0.2",
          "0.2",
          "0.2",
          "0.2",
          "0.1",
          "0.1",
          "0.1",
          "0.1",
          "0.1",
          "0.1",
          "0.1",
          "0.1",
          "0.1",
          "0.1"
         ],
         "y": [
          0.1768622555139409,
          0.12222222222222222,
          0.11162196679438056,
          0.09910459910459911,
          0.14357429718875506,
          0.1851851851851852,
          0.13395061728395063,
          0.11310861423220973,
          0.15633074935400518,
          0.14138576779026216,
          0.13082437275985664,
          0.14391252955082745,
          0.0795357569551118,
          0.1425925925925926,
          0.12162485065710871,
          0.16003787878787878,
          0.14018087855297157,
          0.14320987654320988,
          0.14022757697456492,
          0.10930232558139533,
          0.10334528076463562,
          0.14012345679012345,
          0.10536828963795257,
          0.08827160493827162,
          0.14700374531835206,
          0.1093632958801498,
          0.13359788359788358,
          0.11545893719806763,
          0.11358024691358024,
          0.11827160493827157,
          0.08957795004306632,
          0.10656565656565659,
          0.10676883780332053,
          0.062134502923976605,
          0.08088483620398515,
          0.08453718566078118,
          0.07885304659498207,
          0.09485596707818932,
          0.056521739130434775,
          0.08572617561381607,
          0.09319645732689211,
          0.06712962962962964,
          0.09830575256107171,
          0.08559670781893004,
          0.08556832694763729,
          0.05580246913580247,
          0.0731074481074481,
          0.11698595146871005,
          0.08693244739756366,
          0.07186464329321472,
          0.04770531400966183,
          0.07273678702250132,
          0.04983904983904984,
          0.06746031746031746,
          0.04971941638608304,
          0.09567901234567901,
          0.07341269841269842,
          0.0642506305588743,
          0.06242197253433209,
          0.07114197530864197,
          0.05106005106005106,
          0.05308641975308643,
          0.0658496732026144,
          0.05320648343904157,
          0.05692883895131086,
          0.060812425328554354,
          0.04142419833909196,
          0.06445068664169788,
          0.08137201240649514,
          0.04393004115226338,
          0.035169241924251624,
          0.0363058740776132,
          0.03567162275258416,
          0.03182197270755771,
          0.03503861930828223,
          0.053911205073995765,
          0.03909570188639956,
          0.042825487269931725,
          0.03883086968193351,
          0.045903479236812574,
          0.037693019351067183,
          0.034491966382250584,
          0.03403455299830129,
          0.0369924438898224,
          0.03759223729499074,
          0.037470992419089307,
          0.03455100863189098,
          0.0375525130733464,
          0.033582539464892404,
          0.03936300889459931,
          0.02948627715784578,
          0.035420188504837,
          0.028550831657449306,
          0.032579325436468284,
          0.03524117604999958,
          0.03181039645112616,
          0.030119543303056134,
          0.03321001398343446,
          0.03202386988837466,
          0.036895335057099764
         ]
        },
        {
         "error_y": {
          "array": [
           0.030521809806800276,
           0.016785986297123235,
           0.016610317855253798,
           0.020336061757003296,
           0.012577559243344002,
           0.0061791996827091815,
           0.0033136401412144846,
           0.0033689603383769556,
           0.004293206085100977,
           0.004963044142365636
          ],
          "type": "data",
          "visible": true
         },
         "hoverinfo": "skip",
         "marker": {
          "color": "rgb(255, 127, 14)"
         },
         "mode": "lines+markers",
         "name": "Gain / Interactions initiated (r=32)",
         "type": "scatter",
         "x": [
          "1.0",
          "0.9",
          "0.8",
          "0.7",
          "0.6",
          "0.5",
          "0.4",
          "0.3",
          "0.2",
          "0.1"
         ],
         "y": [
          0.1597759290378717,
          0.12770774274920477,
          0.1016576995328377,
          0.10587329082335269,
          0.08054957197802833,
          0.07871189338620069,
          0.07124135424850793,
          0.07066760399550576,
          0.0652232351583387,
          0.06047274654097275
         ]
        },
        {
         "hoverinfo": "skip",
         "marker": {
          "color": "rgb(255, 127, 14)"
         },
         "mode": "markers",
         "name": "ratio per iter (r=32)",
         "opacity": 0.7,
         "type": "scatter",
         "x": [
          "1.0",
          "1.0",
          "1.0",
          "1.0",
          "1.0",
          "1.0",
          "1.0",
          "1.0",
          "1.0",
          "1.0",
          "0.9",
          "0.9",
          "0.9",
          "0.9",
          "0.9",
          "0.9",
          "0.9",
          "0.9",
          "0.9",
          "0.9",
          "0.8",
          "0.8",
          "0.8",
          "0.8",
          "0.8",
          "0.8",
          "0.8",
          "0.8",
          "0.8",
          "0.8",
          "0.7",
          "0.7",
          "0.7",
          "0.7",
          "0.7",
          "0.7",
          "0.7",
          "0.7",
          "0.7",
          "0.7",
          "0.6",
          "0.6",
          "0.6",
          "0.6",
          "0.6",
          "0.6",
          "0.6",
          "0.6",
          "0.6",
          "0.6",
          "0.5",
          "0.5",
          "0.5",
          "0.5",
          "0.5",
          "0.5",
          "0.5",
          "0.5",
          "0.5",
          "0.5",
          "0.4",
          "0.4",
          "0.4",
          "0.4",
          "0.4",
          "0.4",
          "0.4",
          "0.4",
          "0.4",
          "0.4",
          "0.3",
          "0.3",
          "0.3",
          "0.3",
          "0.3",
          "0.3",
          "0.3",
          "0.3",
          "0.3",
          "0.3",
          "0.2",
          "0.2",
          "0.2",
          "0.2",
          "0.2",
          "0.2",
          "0.2",
          "0.2",
          "0.2",
          "0.2",
          "0.1",
          "0.1",
          "0.1",
          "0.1",
          "0.1",
          "0.1",
          "0.1",
          "0.1",
          "0.1",
          "0.1"
         ],
         "y": [
          0.1952069716775599,
          0.188590889740315,
          0.13553113553113552,
          0.14056224899598393,
          0.14041514041514042,
          0.11565113500597368,
          0.18684977111943402,
          0.11935286935286937,
          0.1904139433551198,
          0.1851851851851852,
          0.13636363636363635,
          0.14583333333333334,
          0.13703703703703704,
          0.12047440699126094,
          0.08765432098765433,
          0.1337803320561941,
          0.10839506172839507,
          0.1301498127340824,
          0.14127837514934288,
          0.1361111111111111,
          0.10636704119850185,
          0.09737827715355807,
          0.10507246376811595,
          0.09138486312399355,
          0.0923845193508115,
          0.07300398311634268,
          0.1367283950617284,
          0.10858585858585858,
          0.11721611721611722,
          0.0884554767533491,
          0.13755020080321284,
          0.07838416265382557,
          0.11417624521072793,
          0.08957326892109503,
          0.11902937420178798,
          0.08765432098765433,
          0.09340659340659342,
          0.10466084061589681,
          0.14087301587301587,
          0.09342488555971702,
          0.08194976585781183,
          0.0911522633744856,
          0.0669232428984202,
          0.066820987654321,
          0.10984848484848485,
          0.08300264550264552,
          0.07097031488417256,
          0.07770800627943485,
          0.08634538152610444,
          0.07077462695440223,
          0.07569249922191099,
          0.0867786391042205,
          0.0745350328683662,
          0.0776670692431562,
          0.07484212322922,
          0.07489360478490914,
          0.09403292181069958,
          0.07458847736625514,
          0.07598471487360377,
          0.07810385135966533,
          0.06745304959590674,
          0.0740640532307199,
          0.07668038408779149,
          0.07426303854875284,
          0.07025112233445568,
          0.06954327069269599,
          0.07185445727112394,
          0.0680408583186361,
          0.06614269308067758,
          0.07412061532431904,
          0.07009388940761489,
          0.07281144781144781,
          0.06716723726527649,
          0.07039892977392978,
          0.07472232720248592,
          0.0636461188670024,
          0.06963233525733527,
          0.07096560846560848,
          0.07606079468824566,
          0.07117735121611089,
          0.067717519106408,
          0.06569069069069068,
          0.07221859824599551,
          0.06740385856239514,
          0.06900352733686067,
          0.06466287716287716,
          0.05866774319155272,
          0.06252868981179484,
          0.0666802333469,
          0.05765861412791238,
          0.06116029032695701,
          0.06884605694129503,
          0.056997721928277484,
          0.0635344593677927,
          0.05491335020320527,
          0.06472578347578348,
          0.06474565134695853,
          0.051612353695687015,
          0.05755767915631861,
          0.060634118967452286
         ]
        },
        {
         "error_y": {
          "array": [
           0.017170790916015626,
           0.006846996768311118,
           0.008330318100646933,
           0.008501002927738909,
           0.007464687210058485,
           0.004362836622592014,
           0.008645441783614535,
           0.007316203317780182,
           0.006696835759401461,
           0.013706748549904143
          ],
          "type": "data",
          "visible": true
         },
         "hoverinfo": "skip",
         "marker": {
          "color": "rgb(44, 160, 44)"
         },
         "mode": "lines+markers",
         "name": "Gain / Interactions initiated (r=16)",
         "type": "scatter",
         "x": [
          "1.0",
          "0.9",
          "0.8",
          "0.7",
          "0.6",
          "0.5",
          "0.4",
          "0.3",
          "0.2",
          "0.1"
         ],
         "y": [
          0.15472352482421445,
          0.14523024544128796,
          0.1429065753484295,
          0.14369279531260543,
          0.14509544377038805,
          0.13777163446474655,
          0.14047819771794645,
          0.134581300259342,
          0.12223500593876166,
          0.11801451283513446
         ]
        },
        {
         "hoverinfo": "skip",
         "marker": {
          "color": "rgb(44, 160, 44)"
         },
         "mode": "markers",
         "name": "ratio per iter (r=16)",
         "opacity": 0.7,
         "type": "scatter",
         "x": [
          "1.0",
          "1.0",
          "1.0",
          "1.0",
          "1.0",
          "1.0",
          "1.0",
          "1.0",
          "1.0",
          "1.0",
          "0.9",
          "0.9",
          "0.9",
          "0.9",
          "0.9",
          "0.9",
          "0.9",
          "0.9",
          "0.9",
          "0.9",
          "0.8",
          "0.8",
          "0.8",
          "0.8",
          "0.8",
          "0.8",
          "0.8",
          "0.8",
          "0.8",
          "0.8",
          "0.7",
          "0.7",
          "0.7",
          "0.7",
          "0.7",
          "0.7",
          "0.7",
          "0.7",
          "0.7",
          "0.7",
          "0.6",
          "0.6",
          "0.6",
          "0.6",
          "0.6",
          "0.6",
          "0.6",
          "0.6",
          "0.6",
          "0.6",
          "0.5",
          "0.5",
          "0.5",
          "0.5",
          "0.5",
          "0.5",
          "0.5",
          "0.5",
          "0.5",
          "0.5",
          "0.4",
          "0.4",
          "0.4",
          "0.4",
          "0.4",
          "0.4",
          "0.4",
          "0.4",
          "0.4",
          "0.4",
          "0.3",
          "0.3",
          "0.3",
          "0.3",
          "0.3",
          "0.3",
          "0.3",
          "0.3",
          "0.3",
          "0.3",
          "0.2",
          "0.2",
          "0.2",
          "0.2",
          "0.2",
          "0.2",
          "0.2",
          "0.2",
          "0.2",
          "0.2",
          "0.1",
          "0.1",
          "0.1",
          "0.1",
          "0.1",
          "0.1",
          "0.1",
          "0.1",
          "0.1",
          "0.1"
         ],
         "y": [
          0.1476046698872786,
          0.15024420024420024,
          0.13951288244766505,
          0.15886392009987513,
          0.1405416168857029,
          0.2030004688232536,
          0.1510989010989011,
          0.1511111111111111,
          0.14704491725768323,
          0.15821256038647344,
          0.1434132996632997,
          0.13761316872427984,
          0.1444654882154882,
          0.1561050061050061,
          0.1480441115272576,
          0.14960016835016834,
          0.1447463768115942,
          0.13412982875348467,
          0.1389917695473251,
          0.15519323671497584,
          0.15818830879071843,
          0.1503953391593841,
          0.13641975308641976,
          0.14206924315619968,
          0.14051186017478154,
          0.14731379731379732,
          0.1443392255892256,
          0.14006919006919008,
          0.12494422132976352,
          0.1448148148148148,
          0.1371618809821057,
          0.1345959595959596,
          0.13412401165210153,
          0.14239879414298018,
          0.1368742368742369,
          0.14873075322513526,
          0.13875661375661374,
          0.14979423868312758,
          0.15851019558884727,
          0.15598126862494677,
          0.13518518518518516,
          0.1378884631758195,
          0.1622523686477175,
          0.14709876543209877,
          0.14215686274509803,
          0.14437321937321937,
          0.1411596119929453,
          0.1399346405228758,
          0.1505131637661758,
          0.1503921568627451,
          0.130630055342699,
          0.1343947606142728,
          0.1461401160196341,
          0.14051211705532693,
          0.13507495590828927,
          0.14062782294489615,
          0.13678555098308187,
          0.14254742547425472,
          0.13483796296296297,
          0.1361655773420479,
          0.12641677822400713,
          0.14451659451659454,
          0.13135464231354643,
          0.14199817101051668,
          0.13550617283950617,
          0.155281207133059,
          0.15358796296296298,
          0.14069716775599125,
          0.1348148148148148,
          0.1406084656084656,
          0.13866777224986182,
          0.1278285134449518,
          0.12643585614600109,
          0.12834138486312402,
          0.13153439153439153,
          0.15170717592592592,
          0.13814333814333815,
          0.13308823529411762,
          0.13004422332780544,
          0.14002211166390272,
          0.12215099715099714,
          0.11413580246913581,
          0.1197831978319783,
          0.1188808373590982,
          0.12766666666666665,
          0.12235690235690237,
          0.11805555555555555,
          0.1384554767533491,
          0.11548148148148149,
          0.1253831417624521,
          0.14962962962962964,
          0.09675925925925925,
          0.11039094650205762,
          0.1163679808841099,
          0.12569444444444444,
          0.11044973544973545,
          0.10939643347050752,
          0.1162309368191721,
          0.13069584736251405,
          0.11452991452991454
         ]
        },
        {
         "error_y": {
          "array": [
           0.01846696330295005,
           0.015671494359664386,
           0.0160066605407046,
           0.015094471365382698,
           0.017288518739157578,
           0.0210468160565095,
           0.03185817785225496,
           0.02364215613064633,
           0.04092527658175493,
           0.05539109401916632
          ],
          "type": "data",
          "visible": true
         },
         "hoverinfo": "skip",
         "marker": {
          "color": "rgb(214, 39, 40)"
         },
         "mode": "lines+markers",
         "name": "Gain / Interactions initiated (r=8)",
         "type": "scatter",
         "x": [
          "1.0",
          "0.9",
          "0.8",
          "0.7",
          "0.6",
          "0.5",
          "0.4",
          "0.3",
          "0.2",
          "0.1"
         ],
         "y": [
          0.3123462059858106,
          0.3101617027406577,
          0.28898960532419515,
          0.2853373017019799,
          0.27910581744360957,
          0.26352343715665405,
          0.27241886909005075,
          0.2427960375070743,
          0.24793827047055483,
          0.231726838263216
         ]
        },
        {
         "hoverinfo": "skip",
         "marker": {
          "color": "rgb(214, 39, 40)"
         },
         "mode": "markers",
         "name": "ratio per iter (r=8)",
         "opacity": 0.7,
         "type": "scatter",
         "x": [
          "1.0",
          "1.0",
          "1.0",
          "1.0",
          "1.0",
          "1.0",
          "1.0",
          "1.0",
          "1.0",
          "1.0",
          "0.9",
          "0.9",
          "0.9",
          "0.9",
          "0.9",
          "0.9",
          "0.9",
          "0.9",
          "0.9",
          "0.9",
          "0.8",
          "0.8",
          "0.8",
          "0.8",
          "0.8",
          "0.8",
          "0.8",
          "0.8",
          "0.8",
          "0.8",
          "0.7",
          "0.7",
          "0.7",
          "0.7",
          "0.7",
          "0.7",
          "0.7",
          "0.7",
          "0.7",
          "0.7",
          "0.6",
          "0.6",
          "0.6",
          "0.6",
          "0.6",
          "0.6",
          "0.6",
          "0.6",
          "0.6",
          "0.6",
          "0.5",
          "0.5",
          "0.5",
          "0.5",
          "0.5",
          "0.5",
          "0.5",
          "0.5",
          "0.5",
          "0.5",
          "0.4",
          "0.4",
          "0.4",
          "0.4",
          "0.4",
          "0.4",
          "0.4",
          "0.4",
          "0.4",
          "0.4",
          "0.3",
          "0.3",
          "0.3",
          "0.3",
          "0.3",
          "0.3",
          "0.3",
          "0.3",
          "0.3",
          "0.3",
          "0.2",
          "0.2",
          "0.2",
          "0.2",
          "0.2",
          "0.2",
          "0.2",
          "0.2",
          "0.2",
          "0.2",
          "0.1",
          "0.1",
          "0.1",
          "0.1",
          "0.1",
          "0.1",
          "0.1",
          "0.1",
          "0.1",
          "0.1"
         ],
         "y": [
          0.34701178451178455,
          0.3008182601205857,
          0.29246487867177523,
          0.2843763303533419,
          0.3393674573449854,
          0.31102693602693604,
          0.3084967320261438,
          0.32213608957795004,
          0.31285403050108934,
          0.3049095607235142,
          0.3034511784511784,
          0.3267841011743451,
          0.3261784511784512,
          0.2873491468997087,
          0.29960317460317465,
          0.2947344935296742,
          0.2994579945799458,
          0.3376242095754291,
          0.32098765432098764,
          0.3054466230936819,
          0.2901987353206866,
          0.27572016460905346,
          0.312890812890813,
          0.26990740740740743,
          0.31240981240981236,
          0.2777777777777778,
          0.28039215686274516,
          0.2688701359587436,
          0.3035334184759472,
          0.2981956315289649,
          0.2621693121693121,
          0.29329329329329334,
          0.2898027898027898,
          0.2629142300194932,
          0.2865622032288699,
          0.29226020892687565,
          0.27368927368927365,
          0.3122999542752629,
          0.2802802802802803,
          0.30010147133434806,
          0.2552334943639291,
          0.273023023023023,
          0.2848583877995643,
          0.29320987654320985,
          0.2951566951566951,
          0.27530864197530863,
          0.3088158581116327,
          0.27015250544662317,
          0.28571428571428564,
          0.24958540630182424,
          0.2878217200251098,
          0.27611940298507465,
          0.2675791733762748,
          0.2650635710337203,
          0.263142174432497,
          0.26851851851851855,
          0.2858024691358025,
          0.26375661375661374,
          0.24765063571033719,
          0.20978009259259256,
          0.2437169312169312,
          0.25925925925925924,
          0.2745098039215686,
          0.24344135802469136,
          0.31026640675763484,
          0.33122895622895626,
          0.2670940170940171,
          0.24715099715099711,
          0.31082062454611475,
          0.23670033670033672,
          0.20082304526748965,
          0.22537431048069345,
          0.2765432098765432,
          0.26828110161443497,
          0.21791559000861327,
          0.2664141414141414,
          0.23246650906225375,
          0.24798711755233493,
          0.2318672839506173,
          0.26028806584362135,
          0.2865226337448559,
          0.3450617283950617,
          0.2317317317317317,
          0.2152777777777778,
          0.2636165577342048,
          0.2652329749103942,
          0.2078189300411522,
          0.22569444444444442,
          0.22916666666666669,
          0.20925925925925926,
          0.18518518518518517,
          0.19259259259259257,
          0.3218694885361552,
          0.14682539682539683,
          0.2855750487329434,
          0.22592592592592592,
          0.2013888888888889,
          0.19135802469135801,
          0.26262626262626265,
          0.303921568627451
         ]
        },
        {
         "error_y": {
          "array": [
           0.03355712848423878,
           0.029015293009245005,
           0.036604474708354304,
           0.032733294245410556,
           0.02957715419071763,
           0.054667942295232,
           0.05021968122846651,
           0.05281408180567586,
           0.07374079407664619,
           0.04684979473294656
          ],
          "type": "data",
          "visible": true
         },
         "hoverinfo": "skip",
         "marker": {
          "color": "rgb(148, 103, 189)"
         },
         "mode": "lines+markers",
         "name": "Gain / Interactions initiated (r=4)",
         "type": "scatter",
         "x": [
          "1.0",
          "0.9",
          "0.8",
          "0.7",
          "0.6",
          "0.5",
          "0.4",
          "0.3",
          "0.2",
          "0.1"
         ],
         "y": [
          0.4630984163063319,
          0.4474930308840161,
          0.4536015580243974,
          0.44121690837920663,
          0.41887716477790005,
          0.4129397006124397,
          0.4059330421615945,
          0.3908144738627194,
          0.41224585599585595,
          0.35495149911816576
         ]
        },
        {
         "hoverinfo": "skip",
         "marker": {
          "color": "rgb(148, 103, 189)"
         },
         "mode": "markers",
         "name": "ratio per iter (r=4)",
         "opacity": 0.7,
         "type": "scatter",
         "x": [
          "1.0",
          "1.0",
          "1.0",
          "1.0",
          "1.0",
          "1.0",
          "1.0",
          "1.0",
          "1.0",
          "1.0",
          "0.9",
          "0.9",
          "0.9",
          "0.9",
          "0.9",
          "0.9",
          "0.9",
          "0.9",
          "0.9",
          "0.9",
          "0.8",
          "0.8",
          "0.8",
          "0.8",
          "0.8",
          "0.8",
          "0.8",
          "0.8",
          "0.8",
          "0.8",
          "0.7",
          "0.7",
          "0.7",
          "0.7",
          "0.7",
          "0.7",
          "0.7",
          "0.7",
          "0.7",
          "0.7",
          "0.6",
          "0.6",
          "0.6",
          "0.6",
          "0.6",
          "0.6",
          "0.6",
          "0.6",
          "0.6",
          "0.6",
          "0.5",
          "0.5",
          "0.5",
          "0.5",
          "0.5",
          "0.5",
          "0.5",
          "0.5",
          "0.5",
          "0.5",
          "0.4",
          "0.4",
          "0.4",
          "0.4",
          "0.4",
          "0.4",
          "0.4",
          "0.4",
          "0.4",
          "0.4",
          "0.3",
          "0.3",
          "0.3",
          "0.3",
          "0.3",
          "0.3",
          "0.3",
          "0.3",
          "0.3",
          "0.3",
          "0.2",
          "0.2",
          "0.2",
          "0.2",
          "0.2",
          "0.2",
          "0.2",
          "0.2",
          "0.2",
          "0.2",
          "0.1",
          "0.1",
          "0.1",
          "0.1",
          "0.1",
          "0.1",
          "0.1",
          "0.1",
          "0.1",
          "0.1"
         ],
         "y": [
          0.39571150097465885,
          0.4803418803418803,
          0.5064814814814815,
          0.4333333333333333,
          0.4763205828779599,
          0.4871031746031746,
          0.43486590038314177,
          0.46759259259259256,
          0.5047892720306514,
          0.4444444444444444,
          0.5000000000000001,
          0.4220085470085469,
          0.47542735042735046,
          0.4371069182389937,
          0.4660493827160493,
          0.4383838383838383,
          0.42727272727272725,
          0.3971193415637859,
          0.4382716049382716,
          0.4732905982905982,
          0.505787037037037,
          0.5047281323877069,
          0.4444444444444444,
          0.4122222222222222,
          0.4278959810874705,
          0.4903381642512077,
          0.45138888888888884,
          0.4647435897435897,
          0.44444444444444436,
          0.3900226757369614,
          0.45865633074935397,
          0.471604938271605,
          0.4197530864197531,
          0.47916666666666663,
          0.46783625730994144,
          0.3735224586288415,
          0.40780141843971623,
          0.4698067632850241,
          0.42222222222222217,
          0.44179894179894175,
          0.4579579579579578,
          0.38461538461538447,
          0.43874643874643876,
          0.4270833333333333,
          0.4222222222222222,
          0.36111111111111105,
          0.4116809116809117,
          0.45312499999999994,
          0.43843843843843844,
          0.39379084967320255,
          0.3908730158730158,
          0.445906432748538,
          0.43486590038314177,
          0.3400673400673401,
          0.5267489711934156,
          0.4032258064516129,
          0.4006734006734006,
          0.46953405017921146,
          0.34761904761904755,
          0.36988304093567254,
          0.346743295019157,
          0.4516908212560386,
          0.4111111111111111,
          0.47089947089947093,
          0.3222222222222222,
          0.41111111111111104,
          0.4685185185185185,
          0.3415637860082304,
          0.4188034188034188,
          0.4166666666666666,
          0.3809523809523809,
          0.3958333333333333,
          0.4660493827160493,
          0.3859649122807017,
          0.36111111111111105,
          0.4282407407407407,
          0.3680555555555555,
          0.46296296296296297,
          0.38675213675213677,
          0.2722222222222222,
          0.3504273504273504,
          0.4126984126984127,
          0.4074074074074074,
          0.3680555555555555,
          0.4401709401709401,
          0.3611111111111111,
          0.39285714285714285,
          0.3434343434343435,
          0.4351851851851851,
          0.6111111111111112,
          0.25925925925925924,
          0.4047619047619047,
          0.3271604938271605,
          0.4027777777777777,
          0.4111111111111111,
          0.33333333333333337,
          0.30555555555555547,
          0.3555555555555555,
          0.38888888888888884,
          0.36111111111111116
         ]
        },
        {
         "error_y": {
          "array": [
           0.07612538337959301,
           0.07871070772934396,
           0.0733274202671577,
           0.12052818598070839,
           0.05457304336262582,
           0.12764633604465167,
           0.17121529616422582,
           null,
           null,
           null
          ],
          "type": "data",
          "visible": true
         },
         "hoverinfo": "skip",
         "marker": {
          "color": "rgb(140, 86, 75)"
         },
         "mode": "lines+markers",
         "name": "Gain / Interactions initiated (r=2)",
         "type": "scatter",
         "x": [
          "1.0",
          "0.9",
          "0.8",
          "0.7",
          "0.6",
          "0.5",
          "0.4",
          "0.3",
          "0.2",
          "0.1"
         ],
         "y": [
          0.3917837717837718,
          0.40239898989898987,
          0.3996825396825397,
          0.47834215167548494,
          0.40143738977072313,
          0.39944444444444444,
          0.4022222222222222,
          null,
          null,
          null
         ]
        },
        {
         "hoverinfo": "skip",
         "marker": {
          "color": "rgb(140, 86, 75)"
         },
         "mode": "markers",
         "name": "ratio per iter (r=2)",
         "opacity": 0.7,
         "type": "scatter",
         "x": [
          "1.0",
          "1.0",
          "1.0",
          "1.0",
          "1.0",
          "1.0",
          "1.0",
          "1.0",
          "1.0",
          "1.0",
          "0.9",
          "0.9",
          "0.9",
          "0.9",
          "0.9",
          "0.9",
          "0.9",
          "0.9",
          "0.9",
          "0.9",
          "0.8",
          "0.8",
          "0.8",
          "0.8",
          "0.8",
          "0.8",
          "0.8",
          "0.8",
          "0.8",
          "0.8",
          "0.7",
          "0.7",
          "0.7",
          "0.7",
          "0.7",
          "0.7",
          "0.7",
          "0.7",
          "0.7",
          "0.7",
          "0.6",
          "0.6",
          "0.6",
          "0.6",
          "0.6",
          "0.6",
          "0.6",
          "0.6",
          "0.6",
          "0.6",
          "0.5",
          "0.5",
          "0.5",
          "0.5",
          "0.5",
          "0.5",
          "0.5",
          "0.5",
          "0.5",
          "0.5",
          "0.4",
          "0.4",
          "0.4",
          "0.4",
          "0.4",
          "0.4",
          "0.4",
          "0.4",
          "0.4",
          "0.4",
          "0.3",
          "0.3",
          "0.3",
          "0.3",
          "0.3",
          "0.3",
          "0.3",
          "0.3",
          "0.3",
          "0.3",
          "0.2",
          "0.2",
          "0.2",
          "0.2",
          "0.2",
          "0.2",
          "0.2",
          "0.2",
          "0.2",
          "0.2",
          "0.1",
          "0.1",
          "0.1",
          "0.1",
          "0.1",
          "0.1",
          "0.1",
          "0.1",
          "0.1",
          "0.1"
         ],
         "y": [
          0.5,
          0.4567901234567901,
          0.35555555555555557,
          0.5185185185185186,
          0.2820512820512821,
          0.28888888888888886,
          0.36507936507936506,
          0.40404040404040403,
          0.35802469135802467,
          0.3888888888888889,
          0.3333333333333333,
          0.3434343434343434,
          0.48148148148148145,
          0.36111111111111105,
          0.5308641975308642,
          0.3333333333333333,
          0.32098765432098764,
          0.48888888888888893,
          0.34444444444444444,
          0.48611111111111105,
          0.35555555555555557,
          0.380952380952381,
          0.380952380952381,
          0.28395061728395066,
          0.5079365079365079,
          0.3492063492063492,
          0.4111111111111111,
          0.5,
          0.33333333333333337,
          0.4938271604938272,
          0.6296296296296297,
          0.5416666666666666,
          0.6111111111111112,
          0.49206349206349215,
          0.5802469135802469,
          0.3148148148148148,
          0.5694444444444444,
          0.4,
          0.3333333333333333,
          0.3111111111111111,
          0.38095238095238093,
          0.3809523809523809,
          0.4444444444444445,
          0.5238095238095238,
          0.36111111111111105,
          0.36507936507936506,
          0.40740740740740744,
          0.43209876543209874,
          0.40740740740740744,
          0.31111111111111117,
          0.4444444444444444,
          0.5277777777777778,
          0.4444444444444444,
          0.5111111111111112,
          0.5111111111111111,
          0.2222222222222222,
          0.4444444444444445,
          0.11111111111111113,
          0.3703703703703704,
          0.40740740740740744,
          0.5555555555555556,
          0.6296296296296295,
          0.611111111111111,
          0.31111111111111117,
          0.14814814814814814,
          0.4444444444444444,
          0.3777777777777778,
          0.5,
          0.3333333333333333,
          0.1111111111111111,
          0.48148148148148145,
          0.19444444444444445,
          0.2222222222222222,
          0.6666666666666666,
          0.2222222222222222,
          0.5925925925925924,
          null,
          0.2777777777777778,
          0.2777777777777778,
          0.3333333333333333,
          0.1851851851851852,
          0.4444444444444445,
          0.16666666666666663,
          0.5555555555555556,
          0.5555555555555556,
          0.6666666666666667,
          0.7037037037037036,
          null,
          0.5555555555555556,
          0.16666666666666674,
          null,
          0.5,
          null,
          null,
          0.33333333333333337,
          0.5185185185185186,
          0.16666666666666666,
          0.49999999999999994,
          null,
          null
         ]
        }
       ],
       "layout": {
        "plot_bgcolor": "rgba(0,0,0,0)",
        "showlegend": true,
        "template": {
         "data": {
          "bar": [
           {
            "error_x": {
             "color": "#2a3f5f"
            },
            "error_y": {
             "color": "#2a3f5f"
            },
            "marker": {
             "line": {
              "color": "#E5ECF6",
              "width": 0.5
             }
            },
            "type": "bar"
           }
          ],
          "barpolar": [
           {
            "marker": {
             "line": {
              "color": "#E5ECF6",
              "width": 0.5
             }
            },
            "type": "barpolar"
           }
          ],
          "carpet": [
           {
            "aaxis": {
             "endlinecolor": "#2a3f5f",
             "gridcolor": "white",
             "linecolor": "white",
             "minorgridcolor": "white",
             "startlinecolor": "#2a3f5f"
            },
            "baxis": {
             "endlinecolor": "#2a3f5f",
             "gridcolor": "white",
             "linecolor": "white",
             "minorgridcolor": "white",
             "startlinecolor": "#2a3f5f"
            },
            "type": "carpet"
           }
          ],
          "choropleth": [
           {
            "colorbar": {
             "outlinewidth": 0,
             "ticks": ""
            },
            "type": "choropleth"
           }
          ],
          "contour": [
           {
            "colorbar": {
             "outlinewidth": 0,
             "ticks": ""
            },
            "colorscale": [
             [
              0,
              "#0d0887"
             ],
             [
              0.1111111111111111,
              "#46039f"
             ],
             [
              0.2222222222222222,
              "#7201a8"
             ],
             [
              0.3333333333333333,
              "#9c179e"
             ],
             [
              0.4444444444444444,
              "#bd3786"
             ],
             [
              0.5555555555555556,
              "#d8576b"
             ],
             [
              0.6666666666666666,
              "#ed7953"
             ],
             [
              0.7777777777777778,
              "#fb9f3a"
             ],
             [
              0.8888888888888888,
              "#fdca26"
             ],
             [
              1,
              "#f0f921"
             ]
            ],
            "type": "contour"
           }
          ],
          "contourcarpet": [
           {
            "colorbar": {
             "outlinewidth": 0,
             "ticks": ""
            },
            "type": "contourcarpet"
           }
          ],
          "heatmap": [
           {
            "colorbar": {
             "outlinewidth": 0,
             "ticks": ""
            },
            "colorscale": [
             [
              0,
              "#0d0887"
             ],
             [
              0.1111111111111111,
              "#46039f"
             ],
             [
              0.2222222222222222,
              "#7201a8"
             ],
             [
              0.3333333333333333,
              "#9c179e"
             ],
             [
              0.4444444444444444,
              "#bd3786"
             ],
             [
              0.5555555555555556,
              "#d8576b"
             ],
             [
              0.6666666666666666,
              "#ed7953"
             ],
             [
              0.7777777777777778,
              "#fb9f3a"
             ],
             [
              0.8888888888888888,
              "#fdca26"
             ],
             [
              1,
              "#f0f921"
             ]
            ],
            "type": "heatmap"
           }
          ],
          "heatmapgl": [
           {
            "colorbar": {
             "outlinewidth": 0,
             "ticks": ""
            },
            "colorscale": [
             [
              0,
              "#0d0887"
             ],
             [
              0.1111111111111111,
              "#46039f"
             ],
             [
              0.2222222222222222,
              "#7201a8"
             ],
             [
              0.3333333333333333,
              "#9c179e"
             ],
             [
              0.4444444444444444,
              "#bd3786"
             ],
             [
              0.5555555555555556,
              "#d8576b"
             ],
             [
              0.6666666666666666,
              "#ed7953"
             ],
             [
              0.7777777777777778,
              "#fb9f3a"
             ],
             [
              0.8888888888888888,
              "#fdca26"
             ],
             [
              1,
              "#f0f921"
             ]
            ],
            "type": "heatmapgl"
           }
          ],
          "histogram": [
           {
            "marker": {
             "colorbar": {
              "outlinewidth": 0,
              "ticks": ""
             }
            },
            "type": "histogram"
           }
          ],
          "histogram2d": [
           {
            "colorbar": {
             "outlinewidth": 0,
             "ticks": ""
            },
            "colorscale": [
             [
              0,
              "#0d0887"
             ],
             [
              0.1111111111111111,
              "#46039f"
             ],
             [
              0.2222222222222222,
              "#7201a8"
             ],
             [
              0.3333333333333333,
              "#9c179e"
             ],
             [
              0.4444444444444444,
              "#bd3786"
             ],
             [
              0.5555555555555556,
              "#d8576b"
             ],
             [
              0.6666666666666666,
              "#ed7953"
             ],
             [
              0.7777777777777778,
              "#fb9f3a"
             ],
             [
              0.8888888888888888,
              "#fdca26"
             ],
             [
              1,
              "#f0f921"
             ]
            ],
            "type": "histogram2d"
           }
          ],
          "histogram2dcontour": [
           {
            "colorbar": {
             "outlinewidth": 0,
             "ticks": ""
            },
            "colorscale": [
             [
              0,
              "#0d0887"
             ],
             [
              0.1111111111111111,
              "#46039f"
             ],
             [
              0.2222222222222222,
              "#7201a8"
             ],
             [
              0.3333333333333333,
              "#9c179e"
             ],
             [
              0.4444444444444444,
              "#bd3786"
             ],
             [
              0.5555555555555556,
              "#d8576b"
             ],
             [
              0.6666666666666666,
              "#ed7953"
             ],
             [
              0.7777777777777778,
              "#fb9f3a"
             ],
             [
              0.8888888888888888,
              "#fdca26"
             ],
             [
              1,
              "#f0f921"
             ]
            ],
            "type": "histogram2dcontour"
           }
          ],
          "mesh3d": [
           {
            "colorbar": {
             "outlinewidth": 0,
             "ticks": ""
            },
            "type": "mesh3d"
           }
          ],
          "parcoords": [
           {
            "line": {
             "colorbar": {
              "outlinewidth": 0,
              "ticks": ""
             }
            },
            "type": "parcoords"
           }
          ],
          "pie": [
           {
            "automargin": true,
            "type": "pie"
           }
          ],
          "scatter": [
           {
            "marker": {
             "colorbar": {
              "outlinewidth": 0,
              "ticks": ""
             }
            },
            "type": "scatter"
           }
          ],
          "scatter3d": [
           {
            "line": {
             "colorbar": {
              "outlinewidth": 0,
              "ticks": ""
             }
            },
            "marker": {
             "colorbar": {
              "outlinewidth": 0,
              "ticks": ""
             }
            },
            "type": "scatter3d"
           }
          ],
          "scattercarpet": [
           {
            "marker": {
             "colorbar": {
              "outlinewidth": 0,
              "ticks": ""
             }
            },
            "type": "scattercarpet"
           }
          ],
          "scattergeo": [
           {
            "marker": {
             "colorbar": {
              "outlinewidth": 0,
              "ticks": ""
             }
            },
            "type": "scattergeo"
           }
          ],
          "scattergl": [
           {
            "marker": {
             "colorbar": {
              "outlinewidth": 0,
              "ticks": ""
             }
            },
            "type": "scattergl"
           }
          ],
          "scattermapbox": [
           {
            "marker": {
             "colorbar": {
              "outlinewidth": 0,
              "ticks": ""
             }
            },
            "type": "scattermapbox"
           }
          ],
          "scatterpolar": [
           {
            "marker": {
             "colorbar": {
              "outlinewidth": 0,
              "ticks": ""
             }
            },
            "type": "scatterpolar"
           }
          ],
          "scatterpolargl": [
           {
            "marker": {
             "colorbar": {
              "outlinewidth": 0,
              "ticks": ""
             }
            },
            "type": "scatterpolargl"
           }
          ],
          "scatterternary": [
           {
            "marker": {
             "colorbar": {
              "outlinewidth": 0,
              "ticks": ""
             }
            },
            "type": "scatterternary"
           }
          ],
          "surface": [
           {
            "colorbar": {
             "outlinewidth": 0,
             "ticks": ""
            },
            "colorscale": [
             [
              0,
              "#0d0887"
             ],
             [
              0.1111111111111111,
              "#46039f"
             ],
             [
              0.2222222222222222,
              "#7201a8"
             ],
             [
              0.3333333333333333,
              "#9c179e"
             ],
             [
              0.4444444444444444,
              "#bd3786"
             ],
             [
              0.5555555555555556,
              "#d8576b"
             ],
             [
              0.6666666666666666,
              "#ed7953"
             ],
             [
              0.7777777777777778,
              "#fb9f3a"
             ],
             [
              0.8888888888888888,
              "#fdca26"
             ],
             [
              1,
              "#f0f921"
             ]
            ],
            "type": "surface"
           }
          ],
          "table": [
           {
            "cells": {
             "fill": {
              "color": "#EBF0F8"
             },
             "line": {
              "color": "white"
             }
            },
            "header": {
             "fill": {
              "color": "#C8D4E3"
             },
             "line": {
              "color": "white"
             }
            },
            "type": "table"
           }
          ]
         },
         "layout": {
          "annotationdefaults": {
           "arrowcolor": "#2a3f5f",
           "arrowhead": 0,
           "arrowwidth": 1
          },
          "coloraxis": {
           "colorbar": {
            "outlinewidth": 0,
            "ticks": ""
           }
          },
          "colorscale": {
           "diverging": [
            [
             0,
             "#8e0152"
            ],
            [
             0.1,
             "#c51b7d"
            ],
            [
             0.2,
             "#de77ae"
            ],
            [
             0.3,
             "#f1b6da"
            ],
            [
             0.4,
             "#fde0ef"
            ],
            [
             0.5,
             "#f7f7f7"
            ],
            [
             0.6,
             "#e6f5d0"
            ],
            [
             0.7,
             "#b8e186"
            ],
            [
             0.8,
             "#7fbc41"
            ],
            [
             0.9,
             "#4d9221"
            ],
            [
             1,
             "#276419"
            ]
           ],
           "sequential": [
            [
             0,
             "#0d0887"
            ],
            [
             0.1111111111111111,
             "#46039f"
            ],
            [
             0.2222222222222222,
             "#7201a8"
            ],
            [
             0.3333333333333333,
             "#9c179e"
            ],
            [
             0.4444444444444444,
             "#bd3786"
            ],
            [
             0.5555555555555556,
             "#d8576b"
            ],
            [
             0.6666666666666666,
             "#ed7953"
            ],
            [
             0.7777777777777778,
             "#fb9f3a"
            ],
            [
             0.8888888888888888,
             "#fdca26"
            ],
            [
             1,
             "#f0f921"
            ]
           ],
           "sequentialminus": [
            [
             0,
             "#0d0887"
            ],
            [
             0.1111111111111111,
             "#46039f"
            ],
            [
             0.2222222222222222,
             "#7201a8"
            ],
            [
             0.3333333333333333,
             "#9c179e"
            ],
            [
             0.4444444444444444,
             "#bd3786"
            ],
            [
             0.5555555555555556,
             "#d8576b"
            ],
            [
             0.6666666666666666,
             "#ed7953"
            ],
            [
             0.7777777777777778,
             "#fb9f3a"
            ],
            [
             0.8888888888888888,
             "#fdca26"
            ],
            [
             1,
             "#f0f921"
            ]
           ]
          },
          "colorway": [
           "#636efa",
           "#EF553B",
           "#00cc96",
           "#ab63fa",
           "#FFA15A",
           "#19d3f3",
           "#FF6692",
           "#B6E880",
           "#FF97FF",
           "#FECB52"
          ],
          "font": {
           "color": "#2a3f5f"
          },
          "geo": {
           "bgcolor": "white",
           "lakecolor": "white",
           "landcolor": "#E5ECF6",
           "showlakes": true,
           "showland": true,
           "subunitcolor": "white"
          },
          "hoverlabel": {
           "align": "left"
          },
          "hovermode": "closest",
          "mapbox": {
           "style": "light"
          },
          "paper_bgcolor": "white",
          "plot_bgcolor": "#E5ECF6",
          "polar": {
           "angularaxis": {
            "gridcolor": "white",
            "linecolor": "white",
            "ticks": ""
           },
           "bgcolor": "#E5ECF6",
           "radialaxis": {
            "gridcolor": "white",
            "linecolor": "white",
            "ticks": ""
           }
          },
          "scene": {
           "xaxis": {
            "backgroundcolor": "#E5ECF6",
            "gridcolor": "white",
            "gridwidth": 2,
            "linecolor": "white",
            "showbackground": true,
            "ticks": "",
            "zerolinecolor": "white"
           },
           "yaxis": {
            "backgroundcolor": "#E5ECF6",
            "gridcolor": "white",
            "gridwidth": 2,
            "linecolor": "white",
            "showbackground": true,
            "ticks": "",
            "zerolinecolor": "white"
           },
           "zaxis": {
            "backgroundcolor": "#E5ECF6",
            "gridcolor": "white",
            "gridwidth": 2,
            "linecolor": "white",
            "showbackground": true,
            "ticks": "",
            "zerolinecolor": "white"
           }
          },
          "shapedefaults": {
           "line": {
            "color": "#2a3f5f"
           }
          },
          "ternary": {
           "aaxis": {
            "gridcolor": "white",
            "linecolor": "white",
            "ticks": ""
           },
           "baxis": {
            "gridcolor": "white",
            "linecolor": "white",
            "ticks": ""
           },
           "bgcolor": "#E5ECF6",
           "caxis": {
            "gridcolor": "white",
            "linecolor": "white",
            "ticks": ""
           }
          },
          "title": {
           "x": 0.05
          },
          "xaxis": {
           "automargin": true,
           "gridcolor": "white",
           "linecolor": "white",
           "ticks": "",
           "title": {
            "standoff": 15
           },
           "zerolinecolor": "white",
           "zerolinewidth": 2
          },
          "yaxis": {
           "automargin": true,
           "gridcolor": "white",
           "linecolor": "white",
           "ticks": "",
           "title": {
            "standoff": 15
           },
           "zerolinecolor": "white",
           "zerolinewidth": 2
          }
         }
        },
        "title": {
         "text": "Gain / Interactions initiated vs p (even)"
        },
        "xaxis": {
         "title": {
          "text": "p"
         }
        },
        "yaxis": {
         "title": {
          "text": "gain / interactions initiated"
         }
        }
       }
      },
      "text/html": [
       "<div>\n",
       "        \n",
       "        \n",
       "            <div id=\"ae303841-72dc-4f3c-ac95-1d97a817c127\" class=\"plotly-graph-div\" style=\"height:525px; width:100%;\"></div>\n",
       "            <script type=\"text/javascript\">\n",
       "                require([\"plotly\"], function(Plotly) {\n",
       "                    window.PLOTLYENV=window.PLOTLYENV || {};\n",
       "                    \n",
       "                if (document.getElementById(\"ae303841-72dc-4f3c-ac95-1d97a817c127\")) {\n",
       "                    Plotly.newPlot(\n",
       "                        'ae303841-72dc-4f3c-ac95-1d97a817c127',\n",
       "                        [{\"error_y\": {\"array\": [0.026847195640829633, 0.021609973674094268, 0.017115960442954867, 0.015636763000472825, 0.01653329752389747, 0.01372358392509997, 0.01104687099572375, 0.006187161656974092, 0.0018773965151486077, 0.0025866360130982567], \"type\": \"data\", \"visible\": true}, \"hoverinfo\": \"skip\", \"marker\": {\"color\": \"rgb(31, 119, 180)\"}, \"mode\": \"lines+markers\", \"name\": \"Gain / Interactions initiated (r=64)\", \"type\": \"scatter\", \"x\": [\"1.0\", \"0.9\", \"0.8\", \"0.7\", \"0.6\", \"0.5\", \"0.4\", \"0.3\", \"0.2\", \"0.1\"], \"y\": [0.13833462746695108, 0.13114486389555177, 0.1174384345977288, 0.08464258976182086, 0.08344898336868997, 0.06543671738778392, 0.0572120830274207, 0.039457407391936206, 0.03633242824002506, 0.03253369574896912]}, {\"hoverinfo\": \"skip\", \"marker\": {\"color\": \"rgb(31, 119, 180)\"}, \"mode\": \"markers\", \"name\": \"ratio per iter (r=64)\", \"opacity\": 0.7, \"type\": \"scatter\", \"x\": [\"1.0\", \"1.0\", \"1.0\", \"1.0\", \"1.0\", \"1.0\", \"1.0\", \"1.0\", \"1.0\", \"1.0\", \"0.9\", \"0.9\", \"0.9\", \"0.9\", \"0.9\", \"0.9\", \"0.9\", \"0.9\", \"0.9\", \"0.9\", \"0.8\", \"0.8\", \"0.8\", \"0.8\", \"0.8\", \"0.8\", \"0.8\", \"0.8\", \"0.8\", \"0.8\", \"0.7\", \"0.7\", \"0.7\", \"0.7\", \"0.7\", \"0.7\", \"0.7\", \"0.7\", \"0.7\", \"0.7\", \"0.6\", \"0.6\", \"0.6\", \"0.6\", \"0.6\", \"0.6\", \"0.6\", \"0.6\", \"0.6\", \"0.6\", \"0.5\", \"0.5\", \"0.5\", \"0.5\", \"0.5\", \"0.5\", \"0.5\", \"0.5\", \"0.5\", \"0.5\", \"0.4\", \"0.4\", \"0.4\", \"0.4\", \"0.4\", \"0.4\", \"0.4\", \"0.4\", \"0.4\", \"0.4\", \"0.3\", \"0.3\", \"0.3\", \"0.3\", \"0.3\", \"0.3\", \"0.3\", \"0.3\", \"0.3\", \"0.3\", \"0.2\", \"0.2\", \"0.2\", \"0.2\", \"0.2\", \"0.2\", \"0.2\", \"0.2\", \"0.2\", \"0.2\", \"0.1\", \"0.1\", \"0.1\", \"0.1\", \"0.1\", \"0.1\", \"0.1\", \"0.1\", \"0.1\", \"0.1\"], \"y\": [0.1768622555139409, 0.12222222222222222, 0.11162196679438056, 0.09910459910459911, 0.14357429718875506, 0.1851851851851852, 0.13395061728395063, 0.11310861423220973, 0.15633074935400518, 0.14138576779026216, 0.13082437275985664, 0.14391252955082745, 0.0795357569551118, 0.1425925925925926, 0.12162485065710871, 0.16003787878787878, 0.14018087855297157, 0.14320987654320988, 0.14022757697456492, 0.10930232558139533, 0.10334528076463562, 0.14012345679012345, 0.10536828963795257, 0.08827160493827162, 0.14700374531835206, 0.1093632958801498, 0.13359788359788358, 0.11545893719806763, 0.11358024691358024, 0.11827160493827157, 0.08957795004306632, 0.10656565656565659, 0.10676883780332053, 0.062134502923976605, 0.08088483620398515, 0.08453718566078118, 0.07885304659498207, 0.09485596707818932, 0.056521739130434775, 0.08572617561381607, 0.09319645732689211, 0.06712962962962964, 0.09830575256107171, 0.08559670781893004, 0.08556832694763729, 0.05580246913580247, 0.0731074481074481, 0.11698595146871005, 0.08693244739756366, 0.07186464329321472, 0.04770531400966183, 0.07273678702250132, 0.04983904983904984, 0.06746031746031746, 0.04971941638608304, 0.09567901234567901, 0.07341269841269842, 0.0642506305588743, 0.06242197253433209, 0.07114197530864197, 0.05106005106005106, 0.05308641975308643, 0.0658496732026144, 0.05320648343904157, 0.05692883895131086, 0.060812425328554354, 0.04142419833909196, 0.06445068664169788, 0.08137201240649514, 0.04393004115226338, 0.035169241924251624, 0.0363058740776132, 0.03567162275258416, 0.03182197270755771, 0.03503861930828223, 0.053911205073995765, 0.03909570188639956, 0.042825487269931725, 0.03883086968193351, 0.045903479236812574, 0.037693019351067183, 0.034491966382250584, 0.03403455299830129, 0.0369924438898224, 0.03759223729499074, 0.037470992419089307, 0.03455100863189098, 0.0375525130733464, 0.033582539464892404, 0.03936300889459931, 0.02948627715784578, 0.035420188504837, 0.028550831657449306, 0.032579325436468284, 0.03524117604999958, 0.03181039645112616, 0.030119543303056134, 0.03321001398343446, 0.03202386988837466, 0.036895335057099764]}, {\"error_y\": {\"array\": [0.030521809806800276, 0.016785986297123235, 0.016610317855253798, 0.020336061757003296, 0.012577559243344002, 0.0061791996827091815, 0.0033136401412144846, 0.0033689603383769556, 0.004293206085100977, 0.004963044142365636], \"type\": \"data\", \"visible\": true}, \"hoverinfo\": \"skip\", \"marker\": {\"color\": \"rgb(255, 127, 14)\"}, \"mode\": \"lines+markers\", \"name\": \"Gain / Interactions initiated (r=32)\", \"type\": \"scatter\", \"x\": [\"1.0\", \"0.9\", \"0.8\", \"0.7\", \"0.6\", \"0.5\", \"0.4\", \"0.3\", \"0.2\", \"0.1\"], \"y\": [0.1597759290378717, 0.12770774274920477, 0.1016576995328377, 0.10587329082335269, 0.08054957197802833, 0.07871189338620069, 0.07124135424850793, 0.07066760399550576, 0.0652232351583387, 0.06047274654097275]}, {\"hoverinfo\": \"skip\", \"marker\": {\"color\": \"rgb(255, 127, 14)\"}, \"mode\": \"markers\", \"name\": \"ratio per iter (r=32)\", \"opacity\": 0.7, \"type\": \"scatter\", \"x\": [\"1.0\", \"1.0\", \"1.0\", \"1.0\", \"1.0\", \"1.0\", \"1.0\", \"1.0\", \"1.0\", \"1.0\", \"0.9\", \"0.9\", \"0.9\", \"0.9\", \"0.9\", \"0.9\", \"0.9\", \"0.9\", \"0.9\", \"0.9\", \"0.8\", \"0.8\", \"0.8\", \"0.8\", \"0.8\", \"0.8\", \"0.8\", \"0.8\", \"0.8\", \"0.8\", \"0.7\", \"0.7\", \"0.7\", \"0.7\", \"0.7\", \"0.7\", \"0.7\", \"0.7\", \"0.7\", \"0.7\", \"0.6\", \"0.6\", \"0.6\", \"0.6\", \"0.6\", \"0.6\", \"0.6\", \"0.6\", \"0.6\", \"0.6\", \"0.5\", \"0.5\", \"0.5\", \"0.5\", \"0.5\", \"0.5\", \"0.5\", \"0.5\", \"0.5\", \"0.5\", \"0.4\", \"0.4\", \"0.4\", \"0.4\", \"0.4\", \"0.4\", \"0.4\", \"0.4\", \"0.4\", \"0.4\", \"0.3\", \"0.3\", \"0.3\", \"0.3\", \"0.3\", \"0.3\", \"0.3\", \"0.3\", \"0.3\", \"0.3\", \"0.2\", \"0.2\", \"0.2\", \"0.2\", \"0.2\", \"0.2\", \"0.2\", \"0.2\", \"0.2\", \"0.2\", \"0.1\", \"0.1\", \"0.1\", \"0.1\", \"0.1\", \"0.1\", \"0.1\", \"0.1\", \"0.1\", \"0.1\"], \"y\": [0.1952069716775599, 0.188590889740315, 0.13553113553113552, 0.14056224899598393, 0.14041514041514042, 0.11565113500597368, 0.18684977111943402, 0.11935286935286937, 0.1904139433551198, 0.1851851851851852, 0.13636363636363635, 0.14583333333333334, 0.13703703703703704, 0.12047440699126094, 0.08765432098765433, 0.1337803320561941, 0.10839506172839507, 0.1301498127340824, 0.14127837514934288, 0.1361111111111111, 0.10636704119850185, 0.09737827715355807, 0.10507246376811595, 0.09138486312399355, 0.0923845193508115, 0.07300398311634268, 0.1367283950617284, 0.10858585858585858, 0.11721611721611722, 0.0884554767533491, 0.13755020080321284, 0.07838416265382557, 0.11417624521072793, 0.08957326892109503, 0.11902937420178798, 0.08765432098765433, 0.09340659340659342, 0.10466084061589681, 0.14087301587301587, 0.09342488555971702, 0.08194976585781183, 0.0911522633744856, 0.0669232428984202, 0.066820987654321, 0.10984848484848485, 0.08300264550264552, 0.07097031488417256, 0.07770800627943485, 0.08634538152610444, 0.07077462695440223, 0.07569249922191099, 0.0867786391042205, 0.0745350328683662, 0.0776670692431562, 0.07484212322922, 0.07489360478490914, 0.09403292181069958, 0.07458847736625514, 0.07598471487360377, 0.07810385135966533, 0.06745304959590674, 0.0740640532307199, 0.07668038408779149, 0.07426303854875284, 0.07025112233445568, 0.06954327069269599, 0.07185445727112394, 0.0680408583186361, 0.06614269308067758, 0.07412061532431904, 0.07009388940761489, 0.07281144781144781, 0.06716723726527649, 0.07039892977392978, 0.07472232720248592, 0.0636461188670024, 0.06963233525733527, 0.07096560846560848, 0.07606079468824566, 0.07117735121611089, 0.067717519106408, 0.06569069069069068, 0.07221859824599551, 0.06740385856239514, 0.06900352733686067, 0.06466287716287716, 0.05866774319155272, 0.06252868981179484, 0.0666802333469, 0.05765861412791238, 0.06116029032695701, 0.06884605694129503, 0.056997721928277484, 0.0635344593677927, 0.05491335020320527, 0.06472578347578348, 0.06474565134695853, 0.051612353695687015, 0.05755767915631861, 0.060634118967452286]}, {\"error_y\": {\"array\": [0.017170790916015626, 0.006846996768311118, 0.008330318100646933, 0.008501002927738909, 0.007464687210058485, 0.004362836622592014, 0.008645441783614535, 0.007316203317780182, 0.006696835759401461, 0.013706748549904143], \"type\": \"data\", \"visible\": true}, \"hoverinfo\": \"skip\", \"marker\": {\"color\": \"rgb(44, 160, 44)\"}, \"mode\": \"lines+markers\", \"name\": \"Gain / Interactions initiated (r=16)\", \"type\": \"scatter\", \"x\": [\"1.0\", \"0.9\", \"0.8\", \"0.7\", \"0.6\", \"0.5\", \"0.4\", \"0.3\", \"0.2\", \"0.1\"], \"y\": [0.15472352482421445, 0.14523024544128796, 0.1429065753484295, 0.14369279531260543, 0.14509544377038805, 0.13777163446474655, 0.14047819771794645, 0.134581300259342, 0.12223500593876166, 0.11801451283513446]}, {\"hoverinfo\": \"skip\", \"marker\": {\"color\": \"rgb(44, 160, 44)\"}, \"mode\": \"markers\", \"name\": \"ratio per iter (r=16)\", \"opacity\": 0.7, \"type\": \"scatter\", \"x\": [\"1.0\", \"1.0\", \"1.0\", \"1.0\", \"1.0\", \"1.0\", \"1.0\", \"1.0\", \"1.0\", \"1.0\", \"0.9\", \"0.9\", \"0.9\", \"0.9\", \"0.9\", \"0.9\", \"0.9\", \"0.9\", \"0.9\", \"0.9\", \"0.8\", \"0.8\", \"0.8\", \"0.8\", \"0.8\", \"0.8\", \"0.8\", \"0.8\", \"0.8\", \"0.8\", \"0.7\", \"0.7\", \"0.7\", \"0.7\", \"0.7\", \"0.7\", \"0.7\", \"0.7\", \"0.7\", \"0.7\", \"0.6\", \"0.6\", \"0.6\", \"0.6\", \"0.6\", \"0.6\", \"0.6\", \"0.6\", \"0.6\", \"0.6\", \"0.5\", \"0.5\", \"0.5\", \"0.5\", \"0.5\", \"0.5\", \"0.5\", \"0.5\", \"0.5\", \"0.5\", \"0.4\", \"0.4\", \"0.4\", \"0.4\", \"0.4\", \"0.4\", \"0.4\", \"0.4\", \"0.4\", \"0.4\", \"0.3\", \"0.3\", \"0.3\", \"0.3\", \"0.3\", \"0.3\", \"0.3\", \"0.3\", \"0.3\", \"0.3\", \"0.2\", \"0.2\", \"0.2\", \"0.2\", \"0.2\", \"0.2\", \"0.2\", \"0.2\", \"0.2\", \"0.2\", \"0.1\", \"0.1\", \"0.1\", \"0.1\", \"0.1\", \"0.1\", \"0.1\", \"0.1\", \"0.1\", \"0.1\"], \"y\": [0.1476046698872786, 0.15024420024420024, 0.13951288244766505, 0.15886392009987513, 0.1405416168857029, 0.2030004688232536, 0.1510989010989011, 0.1511111111111111, 0.14704491725768323, 0.15821256038647344, 0.1434132996632997, 0.13761316872427984, 0.1444654882154882, 0.1561050061050061, 0.1480441115272576, 0.14960016835016834, 0.1447463768115942, 0.13412982875348467, 0.1389917695473251, 0.15519323671497584, 0.15818830879071843, 0.1503953391593841, 0.13641975308641976, 0.14206924315619968, 0.14051186017478154, 0.14731379731379732, 0.1443392255892256, 0.14006919006919008, 0.12494422132976352, 0.1448148148148148, 0.1371618809821057, 0.1345959595959596, 0.13412401165210153, 0.14239879414298018, 0.1368742368742369, 0.14873075322513526, 0.13875661375661374, 0.14979423868312758, 0.15851019558884727, 0.15598126862494677, 0.13518518518518516, 0.1378884631758195, 0.1622523686477175, 0.14709876543209877, 0.14215686274509803, 0.14437321937321937, 0.1411596119929453, 0.1399346405228758, 0.1505131637661758, 0.1503921568627451, 0.130630055342699, 0.1343947606142728, 0.1461401160196341, 0.14051211705532693, 0.13507495590828927, 0.14062782294489615, 0.13678555098308187, 0.14254742547425472, 0.13483796296296297, 0.1361655773420479, 0.12641677822400713, 0.14451659451659454, 0.13135464231354643, 0.14199817101051668, 0.13550617283950617, 0.155281207133059, 0.15358796296296298, 0.14069716775599125, 0.1348148148148148, 0.1406084656084656, 0.13866777224986182, 0.1278285134449518, 0.12643585614600109, 0.12834138486312402, 0.13153439153439153, 0.15170717592592592, 0.13814333814333815, 0.13308823529411762, 0.13004422332780544, 0.14002211166390272, 0.12215099715099714, 0.11413580246913581, 0.1197831978319783, 0.1188808373590982, 0.12766666666666665, 0.12235690235690237, 0.11805555555555555, 0.1384554767533491, 0.11548148148148149, 0.1253831417624521, 0.14962962962962964, 0.09675925925925925, 0.11039094650205762, 0.1163679808841099, 0.12569444444444444, 0.11044973544973545, 0.10939643347050752, 0.1162309368191721, 0.13069584736251405, 0.11452991452991454]}, {\"error_y\": {\"array\": [0.01846696330295005, 0.015671494359664386, 0.0160066605407046, 0.015094471365382698, 0.017288518739157578, 0.0210468160565095, 0.03185817785225496, 0.02364215613064633, 0.04092527658175493, 0.05539109401916632], \"type\": \"data\", \"visible\": true}, \"hoverinfo\": \"skip\", \"marker\": {\"color\": \"rgb(214, 39, 40)\"}, \"mode\": \"lines+markers\", \"name\": \"Gain / Interactions initiated (r=8)\", \"type\": \"scatter\", \"x\": [\"1.0\", \"0.9\", \"0.8\", \"0.7\", \"0.6\", \"0.5\", \"0.4\", \"0.3\", \"0.2\", \"0.1\"], \"y\": [0.3123462059858106, 0.3101617027406577, 0.28898960532419515, 0.2853373017019799, 0.27910581744360957, 0.26352343715665405, 0.27241886909005075, 0.2427960375070743, 0.24793827047055483, 0.231726838263216]}, {\"hoverinfo\": \"skip\", \"marker\": {\"color\": \"rgb(214, 39, 40)\"}, \"mode\": \"markers\", \"name\": \"ratio per iter (r=8)\", \"opacity\": 0.7, \"type\": \"scatter\", \"x\": [\"1.0\", \"1.0\", \"1.0\", \"1.0\", \"1.0\", \"1.0\", \"1.0\", \"1.0\", \"1.0\", \"1.0\", \"0.9\", \"0.9\", \"0.9\", \"0.9\", \"0.9\", \"0.9\", \"0.9\", \"0.9\", \"0.9\", \"0.9\", \"0.8\", \"0.8\", \"0.8\", \"0.8\", \"0.8\", \"0.8\", \"0.8\", \"0.8\", \"0.8\", \"0.8\", \"0.7\", \"0.7\", \"0.7\", \"0.7\", \"0.7\", \"0.7\", \"0.7\", \"0.7\", \"0.7\", \"0.7\", \"0.6\", \"0.6\", \"0.6\", \"0.6\", \"0.6\", \"0.6\", \"0.6\", \"0.6\", \"0.6\", \"0.6\", \"0.5\", \"0.5\", \"0.5\", \"0.5\", \"0.5\", \"0.5\", \"0.5\", \"0.5\", \"0.5\", \"0.5\", \"0.4\", \"0.4\", \"0.4\", \"0.4\", \"0.4\", \"0.4\", \"0.4\", \"0.4\", \"0.4\", \"0.4\", \"0.3\", \"0.3\", \"0.3\", \"0.3\", \"0.3\", \"0.3\", \"0.3\", \"0.3\", \"0.3\", \"0.3\", \"0.2\", \"0.2\", \"0.2\", \"0.2\", \"0.2\", \"0.2\", \"0.2\", \"0.2\", \"0.2\", \"0.2\", \"0.1\", \"0.1\", \"0.1\", \"0.1\", \"0.1\", \"0.1\", \"0.1\", \"0.1\", \"0.1\", \"0.1\"], \"y\": [0.34701178451178455, 0.3008182601205857, 0.29246487867177523, 0.2843763303533419, 0.3393674573449854, 0.31102693602693604, 0.3084967320261438, 0.32213608957795004, 0.31285403050108934, 0.3049095607235142, 0.3034511784511784, 0.3267841011743451, 0.3261784511784512, 0.2873491468997087, 0.29960317460317465, 0.2947344935296742, 0.2994579945799458, 0.3376242095754291, 0.32098765432098764, 0.3054466230936819, 0.2901987353206866, 0.27572016460905346, 0.312890812890813, 0.26990740740740743, 0.31240981240981236, 0.2777777777777778, 0.28039215686274516, 0.2688701359587436, 0.3035334184759472, 0.2981956315289649, 0.2621693121693121, 0.29329329329329334, 0.2898027898027898, 0.2629142300194932, 0.2865622032288699, 0.29226020892687565, 0.27368927368927365, 0.3122999542752629, 0.2802802802802803, 0.30010147133434806, 0.2552334943639291, 0.273023023023023, 0.2848583877995643, 0.29320987654320985, 0.2951566951566951, 0.27530864197530863, 0.3088158581116327, 0.27015250544662317, 0.28571428571428564, 0.24958540630182424, 0.2878217200251098, 0.27611940298507465, 0.2675791733762748, 0.2650635710337203, 0.263142174432497, 0.26851851851851855, 0.2858024691358025, 0.26375661375661374, 0.24765063571033719, 0.20978009259259256, 0.2437169312169312, 0.25925925925925924, 0.2745098039215686, 0.24344135802469136, 0.31026640675763484, 0.33122895622895626, 0.2670940170940171, 0.24715099715099711, 0.31082062454611475, 0.23670033670033672, 0.20082304526748965, 0.22537431048069345, 0.2765432098765432, 0.26828110161443497, 0.21791559000861327, 0.2664141414141414, 0.23246650906225375, 0.24798711755233493, 0.2318672839506173, 0.26028806584362135, 0.2865226337448559, 0.3450617283950617, 0.2317317317317317, 0.2152777777777778, 0.2636165577342048, 0.2652329749103942, 0.2078189300411522, 0.22569444444444442, 0.22916666666666669, 0.20925925925925926, 0.18518518518518517, 0.19259259259259257, 0.3218694885361552, 0.14682539682539683, 0.2855750487329434, 0.22592592592592592, 0.2013888888888889, 0.19135802469135801, 0.26262626262626265, 0.303921568627451]}, {\"error_y\": {\"array\": [0.03355712848423878, 0.029015293009245005, 0.036604474708354304, 0.032733294245410556, 0.02957715419071763, 0.054667942295232, 0.05021968122846651, 0.05281408180567586, 0.07374079407664619, 0.04684979473294656], \"type\": \"data\", \"visible\": true}, \"hoverinfo\": \"skip\", \"marker\": {\"color\": \"rgb(148, 103, 189)\"}, \"mode\": \"lines+markers\", \"name\": \"Gain / Interactions initiated (r=4)\", \"type\": \"scatter\", \"x\": [\"1.0\", \"0.9\", \"0.8\", \"0.7\", \"0.6\", \"0.5\", \"0.4\", \"0.3\", \"0.2\", \"0.1\"], \"y\": [0.4630984163063319, 0.4474930308840161, 0.4536015580243974, 0.44121690837920663, 0.41887716477790005, 0.4129397006124397, 0.4059330421615945, 0.3908144738627194, 0.41224585599585595, 0.35495149911816576]}, {\"hoverinfo\": \"skip\", \"marker\": {\"color\": \"rgb(148, 103, 189)\"}, \"mode\": \"markers\", \"name\": \"ratio per iter (r=4)\", \"opacity\": 0.7, \"type\": \"scatter\", \"x\": [\"1.0\", \"1.0\", \"1.0\", \"1.0\", \"1.0\", \"1.0\", \"1.0\", \"1.0\", \"1.0\", \"1.0\", \"0.9\", \"0.9\", \"0.9\", \"0.9\", \"0.9\", \"0.9\", \"0.9\", \"0.9\", \"0.9\", \"0.9\", \"0.8\", \"0.8\", \"0.8\", \"0.8\", \"0.8\", \"0.8\", \"0.8\", \"0.8\", \"0.8\", \"0.8\", \"0.7\", \"0.7\", \"0.7\", \"0.7\", \"0.7\", \"0.7\", \"0.7\", \"0.7\", \"0.7\", \"0.7\", \"0.6\", \"0.6\", \"0.6\", \"0.6\", \"0.6\", \"0.6\", \"0.6\", \"0.6\", \"0.6\", \"0.6\", \"0.5\", \"0.5\", \"0.5\", \"0.5\", \"0.5\", \"0.5\", \"0.5\", \"0.5\", \"0.5\", \"0.5\", \"0.4\", \"0.4\", \"0.4\", \"0.4\", \"0.4\", \"0.4\", \"0.4\", \"0.4\", \"0.4\", \"0.4\", \"0.3\", \"0.3\", \"0.3\", \"0.3\", \"0.3\", \"0.3\", \"0.3\", \"0.3\", \"0.3\", \"0.3\", \"0.2\", \"0.2\", \"0.2\", \"0.2\", \"0.2\", \"0.2\", \"0.2\", \"0.2\", \"0.2\", \"0.2\", \"0.1\", \"0.1\", \"0.1\", \"0.1\", \"0.1\", \"0.1\", \"0.1\", \"0.1\", \"0.1\", \"0.1\"], \"y\": [0.39571150097465885, 0.4803418803418803, 0.5064814814814815, 0.4333333333333333, 0.4763205828779599, 0.4871031746031746, 0.43486590038314177, 0.46759259259259256, 0.5047892720306514, 0.4444444444444444, 0.5000000000000001, 0.4220085470085469, 0.47542735042735046, 0.4371069182389937, 0.4660493827160493, 0.4383838383838383, 0.42727272727272725, 0.3971193415637859, 0.4382716049382716, 0.4732905982905982, 0.505787037037037, 0.5047281323877069, 0.4444444444444444, 0.4122222222222222, 0.4278959810874705, 0.4903381642512077, 0.45138888888888884, 0.4647435897435897, 0.44444444444444436, 0.3900226757369614, 0.45865633074935397, 0.471604938271605, 0.4197530864197531, 0.47916666666666663, 0.46783625730994144, 0.3735224586288415, 0.40780141843971623, 0.4698067632850241, 0.42222222222222217, 0.44179894179894175, 0.4579579579579578, 0.38461538461538447, 0.43874643874643876, 0.4270833333333333, 0.4222222222222222, 0.36111111111111105, 0.4116809116809117, 0.45312499999999994, 0.43843843843843844, 0.39379084967320255, 0.3908730158730158, 0.445906432748538, 0.43486590038314177, 0.3400673400673401, 0.5267489711934156, 0.4032258064516129, 0.4006734006734006, 0.46953405017921146, 0.34761904761904755, 0.36988304093567254, 0.346743295019157, 0.4516908212560386, 0.4111111111111111, 0.47089947089947093, 0.3222222222222222, 0.41111111111111104, 0.4685185185185185, 0.3415637860082304, 0.4188034188034188, 0.4166666666666666, 0.3809523809523809, 0.3958333333333333, 0.4660493827160493, 0.3859649122807017, 0.36111111111111105, 0.4282407407407407, 0.3680555555555555, 0.46296296296296297, 0.38675213675213677, 0.2722222222222222, 0.3504273504273504, 0.4126984126984127, 0.4074074074074074, 0.3680555555555555, 0.4401709401709401, 0.3611111111111111, 0.39285714285714285, 0.3434343434343435, 0.4351851851851851, 0.6111111111111112, 0.25925925925925924, 0.4047619047619047, 0.3271604938271605, 0.4027777777777777, 0.4111111111111111, 0.33333333333333337, 0.30555555555555547, 0.3555555555555555, 0.38888888888888884, 0.36111111111111116]}, {\"error_y\": {\"array\": [0.07612538337959301, 0.07871070772934396, 0.0733274202671577, 0.12052818598070839, 0.05457304336262582, 0.12764633604465167, 0.17121529616422582, null, null, null], \"type\": \"data\", \"visible\": true}, \"hoverinfo\": \"skip\", \"marker\": {\"color\": \"rgb(140, 86, 75)\"}, \"mode\": \"lines+markers\", \"name\": \"Gain / Interactions initiated (r=2)\", \"type\": \"scatter\", \"x\": [\"1.0\", \"0.9\", \"0.8\", \"0.7\", \"0.6\", \"0.5\", \"0.4\", \"0.3\", \"0.2\", \"0.1\"], \"y\": [0.3917837717837718, 0.40239898989898987, 0.3996825396825397, 0.47834215167548494, 0.40143738977072313, 0.39944444444444444, 0.4022222222222222, null, null, null]}, {\"hoverinfo\": \"skip\", \"marker\": {\"color\": \"rgb(140, 86, 75)\"}, \"mode\": \"markers\", \"name\": \"ratio per iter (r=2)\", \"opacity\": 0.7, \"type\": \"scatter\", \"x\": [\"1.0\", \"1.0\", \"1.0\", \"1.0\", \"1.0\", \"1.0\", \"1.0\", \"1.0\", \"1.0\", \"1.0\", \"0.9\", \"0.9\", \"0.9\", \"0.9\", \"0.9\", \"0.9\", \"0.9\", \"0.9\", \"0.9\", \"0.9\", \"0.8\", \"0.8\", \"0.8\", \"0.8\", \"0.8\", \"0.8\", \"0.8\", \"0.8\", \"0.8\", \"0.8\", \"0.7\", \"0.7\", \"0.7\", \"0.7\", \"0.7\", \"0.7\", \"0.7\", \"0.7\", \"0.7\", \"0.7\", \"0.6\", \"0.6\", \"0.6\", \"0.6\", \"0.6\", \"0.6\", \"0.6\", \"0.6\", \"0.6\", \"0.6\", \"0.5\", \"0.5\", \"0.5\", \"0.5\", \"0.5\", \"0.5\", \"0.5\", \"0.5\", \"0.5\", \"0.5\", \"0.4\", \"0.4\", \"0.4\", \"0.4\", \"0.4\", \"0.4\", \"0.4\", \"0.4\", \"0.4\", \"0.4\", \"0.3\", \"0.3\", \"0.3\", \"0.3\", \"0.3\", \"0.3\", \"0.3\", \"0.3\", \"0.3\", \"0.3\", \"0.2\", \"0.2\", \"0.2\", \"0.2\", \"0.2\", \"0.2\", \"0.2\", \"0.2\", \"0.2\", \"0.2\", \"0.1\", \"0.1\", \"0.1\", \"0.1\", \"0.1\", \"0.1\", \"0.1\", \"0.1\", \"0.1\", \"0.1\"], \"y\": [0.5, 0.4567901234567901, 0.35555555555555557, 0.5185185185185186, 0.2820512820512821, 0.28888888888888886, 0.36507936507936506, 0.40404040404040403, 0.35802469135802467, 0.3888888888888889, 0.3333333333333333, 0.3434343434343434, 0.48148148148148145, 0.36111111111111105, 0.5308641975308642, 0.3333333333333333, 0.32098765432098764, 0.48888888888888893, 0.34444444444444444, 0.48611111111111105, 0.35555555555555557, 0.380952380952381, 0.380952380952381, 0.28395061728395066, 0.5079365079365079, 0.3492063492063492, 0.4111111111111111, 0.5, 0.33333333333333337, 0.4938271604938272, 0.6296296296296297, 0.5416666666666666, 0.6111111111111112, 0.49206349206349215, 0.5802469135802469, 0.3148148148148148, 0.5694444444444444, 0.4, 0.3333333333333333, 0.3111111111111111, 0.38095238095238093, 0.3809523809523809, 0.4444444444444445, 0.5238095238095238, 0.36111111111111105, 0.36507936507936506, 0.40740740740740744, 0.43209876543209874, 0.40740740740740744, 0.31111111111111117, 0.4444444444444444, 0.5277777777777778, 0.4444444444444444, 0.5111111111111112, 0.5111111111111111, 0.2222222222222222, 0.4444444444444445, 0.11111111111111113, 0.3703703703703704, 0.40740740740740744, 0.5555555555555556, 0.6296296296296295, 0.611111111111111, 0.31111111111111117, 0.14814814814814814, 0.4444444444444444, 0.3777777777777778, 0.5, 0.3333333333333333, 0.1111111111111111, 0.48148148148148145, 0.19444444444444445, 0.2222222222222222, 0.6666666666666666, 0.2222222222222222, 0.5925925925925924, null, 0.2777777777777778, 0.2777777777777778, 0.3333333333333333, 0.1851851851851852, 0.4444444444444445, 0.16666666666666663, 0.5555555555555556, 0.5555555555555556, 0.6666666666666667, 0.7037037037037036, null, 0.5555555555555556, 0.16666666666666674, null, 0.5, null, null, 0.33333333333333337, 0.5185185185185186, 0.16666666666666666, 0.49999999999999994, null, null]}],\n",
       "                        {\"plot_bgcolor\": \"rgba(0,0,0,0)\", \"showlegend\": true, \"template\": {\"data\": {\"bar\": [{\"error_x\": {\"color\": \"#2a3f5f\"}, \"error_y\": {\"color\": \"#2a3f5f\"}, \"marker\": {\"line\": {\"color\": \"#E5ECF6\", \"width\": 0.5}}, \"type\": \"bar\"}], \"barpolar\": [{\"marker\": {\"line\": {\"color\": \"#E5ECF6\", \"width\": 0.5}}, \"type\": \"barpolar\"}], \"carpet\": [{\"aaxis\": {\"endlinecolor\": \"#2a3f5f\", \"gridcolor\": \"white\", \"linecolor\": \"white\", \"minorgridcolor\": \"white\", \"startlinecolor\": \"#2a3f5f\"}, \"baxis\": {\"endlinecolor\": \"#2a3f5f\", \"gridcolor\": \"white\", \"linecolor\": \"white\", \"minorgridcolor\": \"white\", \"startlinecolor\": \"#2a3f5f\"}, \"type\": \"carpet\"}], \"choropleth\": [{\"colorbar\": {\"outlinewidth\": 0, \"ticks\": \"\"}, \"type\": \"choropleth\"}], \"contour\": [{\"colorbar\": {\"outlinewidth\": 0, \"ticks\": \"\"}, \"colorscale\": [[0.0, \"#0d0887\"], [0.1111111111111111, \"#46039f\"], [0.2222222222222222, \"#7201a8\"], [0.3333333333333333, \"#9c179e\"], [0.4444444444444444, \"#bd3786\"], [0.5555555555555556, \"#d8576b\"], [0.6666666666666666, \"#ed7953\"], [0.7777777777777778, \"#fb9f3a\"], [0.8888888888888888, \"#fdca26\"], [1.0, \"#f0f921\"]], \"type\": \"contour\"}], \"contourcarpet\": [{\"colorbar\": {\"outlinewidth\": 0, \"ticks\": \"\"}, \"type\": \"contourcarpet\"}], \"heatmap\": [{\"colorbar\": {\"outlinewidth\": 0, \"ticks\": \"\"}, \"colorscale\": [[0.0, \"#0d0887\"], [0.1111111111111111, \"#46039f\"], [0.2222222222222222, \"#7201a8\"], [0.3333333333333333, \"#9c179e\"], [0.4444444444444444, \"#bd3786\"], [0.5555555555555556, \"#d8576b\"], [0.6666666666666666, \"#ed7953\"], [0.7777777777777778, \"#fb9f3a\"], [0.8888888888888888, \"#fdca26\"], [1.0, \"#f0f921\"]], \"type\": \"heatmap\"}], \"heatmapgl\": [{\"colorbar\": {\"outlinewidth\": 0, \"ticks\": \"\"}, \"colorscale\": [[0.0, \"#0d0887\"], [0.1111111111111111, \"#46039f\"], [0.2222222222222222, \"#7201a8\"], [0.3333333333333333, \"#9c179e\"], [0.4444444444444444, \"#bd3786\"], [0.5555555555555556, \"#d8576b\"], [0.6666666666666666, \"#ed7953\"], [0.7777777777777778, \"#fb9f3a\"], [0.8888888888888888, \"#fdca26\"], [1.0, \"#f0f921\"]], \"type\": \"heatmapgl\"}], \"histogram\": [{\"marker\": {\"colorbar\": {\"outlinewidth\": 0, \"ticks\": \"\"}}, \"type\": \"histogram\"}], \"histogram2d\": [{\"colorbar\": {\"outlinewidth\": 0, \"ticks\": \"\"}, \"colorscale\": [[0.0, \"#0d0887\"], [0.1111111111111111, \"#46039f\"], [0.2222222222222222, \"#7201a8\"], [0.3333333333333333, \"#9c179e\"], [0.4444444444444444, \"#bd3786\"], [0.5555555555555556, \"#d8576b\"], [0.6666666666666666, \"#ed7953\"], [0.7777777777777778, \"#fb9f3a\"], [0.8888888888888888, \"#fdca26\"], [1.0, \"#f0f921\"]], \"type\": \"histogram2d\"}], \"histogram2dcontour\": [{\"colorbar\": {\"outlinewidth\": 0, \"ticks\": \"\"}, \"colorscale\": [[0.0, \"#0d0887\"], [0.1111111111111111, \"#46039f\"], [0.2222222222222222, \"#7201a8\"], [0.3333333333333333, \"#9c179e\"], [0.4444444444444444, \"#bd3786\"], [0.5555555555555556, \"#d8576b\"], [0.6666666666666666, \"#ed7953\"], [0.7777777777777778, \"#fb9f3a\"], [0.8888888888888888, \"#fdca26\"], [1.0, \"#f0f921\"]], \"type\": \"histogram2dcontour\"}], \"mesh3d\": [{\"colorbar\": {\"outlinewidth\": 0, \"ticks\": \"\"}, \"type\": \"mesh3d\"}], \"parcoords\": [{\"line\": {\"colorbar\": {\"outlinewidth\": 0, \"ticks\": \"\"}}, \"type\": \"parcoords\"}], \"pie\": [{\"automargin\": true, \"type\": \"pie\"}], \"scatter\": [{\"marker\": {\"colorbar\": {\"outlinewidth\": 0, \"ticks\": \"\"}}, \"type\": \"scatter\"}], \"scatter3d\": [{\"line\": {\"colorbar\": {\"outlinewidth\": 0, \"ticks\": \"\"}}, \"marker\": {\"colorbar\": {\"outlinewidth\": 0, \"ticks\": \"\"}}, \"type\": \"scatter3d\"}], \"scattercarpet\": [{\"marker\": {\"colorbar\": {\"outlinewidth\": 0, \"ticks\": \"\"}}, \"type\": \"scattercarpet\"}], \"scattergeo\": [{\"marker\": {\"colorbar\": {\"outlinewidth\": 0, \"ticks\": \"\"}}, \"type\": \"scattergeo\"}], \"scattergl\": [{\"marker\": {\"colorbar\": {\"outlinewidth\": 0, \"ticks\": \"\"}}, \"type\": \"scattergl\"}], \"scattermapbox\": [{\"marker\": {\"colorbar\": {\"outlinewidth\": 0, \"ticks\": \"\"}}, \"type\": \"scattermapbox\"}], \"scatterpolar\": [{\"marker\": {\"colorbar\": {\"outlinewidth\": 0, \"ticks\": \"\"}}, \"type\": \"scatterpolar\"}], \"scatterpolargl\": [{\"marker\": {\"colorbar\": {\"outlinewidth\": 0, \"ticks\": \"\"}}, \"type\": \"scatterpolargl\"}], \"scatterternary\": [{\"marker\": {\"colorbar\": {\"outlinewidth\": 0, \"ticks\": \"\"}}, \"type\": \"scatterternary\"}], \"surface\": [{\"colorbar\": {\"outlinewidth\": 0, \"ticks\": \"\"}, \"colorscale\": [[0.0, \"#0d0887\"], [0.1111111111111111, \"#46039f\"], [0.2222222222222222, \"#7201a8\"], [0.3333333333333333, \"#9c179e\"], [0.4444444444444444, \"#bd3786\"], [0.5555555555555556, \"#d8576b\"], [0.6666666666666666, \"#ed7953\"], [0.7777777777777778, \"#fb9f3a\"], [0.8888888888888888, \"#fdca26\"], [1.0, \"#f0f921\"]], \"type\": \"surface\"}], \"table\": [{\"cells\": {\"fill\": {\"color\": \"#EBF0F8\"}, \"line\": {\"color\": \"white\"}}, \"header\": {\"fill\": {\"color\": \"#C8D4E3\"}, \"line\": {\"color\": \"white\"}}, \"type\": \"table\"}]}, \"layout\": {\"annotationdefaults\": {\"arrowcolor\": \"#2a3f5f\", \"arrowhead\": 0, \"arrowwidth\": 1}, \"coloraxis\": {\"colorbar\": {\"outlinewidth\": 0, \"ticks\": \"\"}}, \"colorscale\": {\"diverging\": [[0, \"#8e0152\"], [0.1, \"#c51b7d\"], [0.2, \"#de77ae\"], [0.3, \"#f1b6da\"], [0.4, \"#fde0ef\"], [0.5, \"#f7f7f7\"], [0.6, \"#e6f5d0\"], [0.7, \"#b8e186\"], [0.8, \"#7fbc41\"], [0.9, \"#4d9221\"], [1, \"#276419\"]], \"sequential\": [[0.0, \"#0d0887\"], [0.1111111111111111, \"#46039f\"], [0.2222222222222222, \"#7201a8\"], [0.3333333333333333, \"#9c179e\"], [0.4444444444444444, \"#bd3786\"], [0.5555555555555556, \"#d8576b\"], [0.6666666666666666, \"#ed7953\"], [0.7777777777777778, \"#fb9f3a\"], [0.8888888888888888, \"#fdca26\"], [1.0, \"#f0f921\"]], \"sequentialminus\": [[0.0, \"#0d0887\"], [0.1111111111111111, \"#46039f\"], [0.2222222222222222, \"#7201a8\"], [0.3333333333333333, \"#9c179e\"], [0.4444444444444444, \"#bd3786\"], [0.5555555555555556, \"#d8576b\"], [0.6666666666666666, \"#ed7953\"], [0.7777777777777778, \"#fb9f3a\"], [0.8888888888888888, \"#fdca26\"], [1.0, \"#f0f921\"]]}, \"colorway\": [\"#636efa\", \"#EF553B\", \"#00cc96\", \"#ab63fa\", \"#FFA15A\", \"#19d3f3\", \"#FF6692\", \"#B6E880\", \"#FF97FF\", \"#FECB52\"], \"font\": {\"color\": \"#2a3f5f\"}, \"geo\": {\"bgcolor\": \"white\", \"lakecolor\": \"white\", \"landcolor\": \"#E5ECF6\", \"showlakes\": true, \"showland\": true, \"subunitcolor\": \"white\"}, \"hoverlabel\": {\"align\": \"left\"}, \"hovermode\": \"closest\", \"mapbox\": {\"style\": \"light\"}, \"paper_bgcolor\": \"white\", \"plot_bgcolor\": \"#E5ECF6\", \"polar\": {\"angularaxis\": {\"gridcolor\": \"white\", \"linecolor\": \"white\", \"ticks\": \"\"}, \"bgcolor\": \"#E5ECF6\", \"radialaxis\": {\"gridcolor\": \"white\", \"linecolor\": \"white\", \"ticks\": \"\"}}, \"scene\": {\"xaxis\": {\"backgroundcolor\": \"#E5ECF6\", \"gridcolor\": \"white\", \"gridwidth\": 2, \"linecolor\": \"white\", \"showbackground\": true, \"ticks\": \"\", \"zerolinecolor\": \"white\"}, \"yaxis\": {\"backgroundcolor\": \"#E5ECF6\", \"gridcolor\": \"white\", \"gridwidth\": 2, \"linecolor\": \"white\", \"showbackground\": true, \"ticks\": \"\", \"zerolinecolor\": \"white\"}, \"zaxis\": {\"backgroundcolor\": \"#E5ECF6\", \"gridcolor\": \"white\", \"gridwidth\": 2, \"linecolor\": \"white\", \"showbackground\": true, \"ticks\": \"\", \"zerolinecolor\": \"white\"}}, \"shapedefaults\": {\"line\": {\"color\": \"#2a3f5f\"}}, \"ternary\": {\"aaxis\": {\"gridcolor\": \"white\", \"linecolor\": \"white\", \"ticks\": \"\"}, \"baxis\": {\"gridcolor\": \"white\", \"linecolor\": \"white\", \"ticks\": \"\"}, \"bgcolor\": \"#E5ECF6\", \"caxis\": {\"gridcolor\": \"white\", \"linecolor\": \"white\", \"ticks\": \"\"}}, \"title\": {\"x\": 0.05}, \"xaxis\": {\"automargin\": true, \"gridcolor\": \"white\", \"linecolor\": \"white\", \"ticks\": \"\", \"title\": {\"standoff\": 15}, \"zerolinecolor\": \"white\", \"zerolinewidth\": 2}, \"yaxis\": {\"automargin\": true, \"gridcolor\": \"white\", \"linecolor\": \"white\", \"ticks\": \"\", \"title\": {\"standoff\": 15}, \"zerolinecolor\": \"white\", \"zerolinewidth\": 2}}}, \"title\": {\"text\": \"Gain / Interactions initiated vs p (even)\"}, \"xaxis\": {\"title\": {\"text\": \"p\"}}, \"yaxis\": {\"title\": {\"text\": \"gain / interactions initiated\"}}},\n",
       "                        {\"responsive\": true}\n",
       "                    ).then(function(){\n",
       "                            \n",
       "var gd = document.getElementById('ae303841-72dc-4f3c-ac95-1d97a817c127');\n",
       "var x = new MutationObserver(function (mutations, observer) {{\n",
       "        var display = window.getComputedStyle(gd).display;\n",
       "        if (!display || display === 'none') {{\n",
       "            console.log([gd, 'removed!']);\n",
       "            Plotly.purge(gd);\n",
       "            observer.disconnect();\n",
       "        }}\n",
       "}});\n",
       "\n",
       "// Listen for the removal of the full notebook cells\n",
       "var notebookContainer = gd.closest('#notebook-container');\n",
       "if (notebookContainer) {{\n",
       "    x.observe(notebookContainer, {childList: true});\n",
       "}}\n",
       "\n",
       "// Listen for the clearing of the current output cell\n",
       "var outputEl = gd.closest('.output');\n",
       "if (outputEl) {{\n",
       "    x.observe(outputEl, {childList: true});\n",
       "}}\n",
       "\n",
       "                        })\n",
       "                };\n",
       "                });\n",
       "            </script>\n",
       "        </div>"
      ]
     },
     "metadata": {},
     "output_type": "display_data"
    }
   ],
   "source": [
    "vis = StrategyVis(kgrid_data, kgrid_plaw_data)"
   ]
  },
  {
   "cell_type": "code",
   "execution_count": null,
   "metadata": {
    "scrolled": true
   },
   "outputs": [],
   "source": []
  }
 ],
 "metadata": {
  "kernelspec": {
   "display_name": "Python 3",
   "language": "python",
   "name": "python3"
  },
  "language_info": {
   "codemirror_mode": {
    "name": "ipython",
    "version": 3
   },
   "file_extension": ".py",
   "mimetype": "text/x-python",
   "name": "python",
   "nbconvert_exporter": "python",
   "pygments_lexer": "ipython3",
   "version": "3.6.2"
  }
 },
 "nbformat": 4,
 "nbformat_minor": 2
}
