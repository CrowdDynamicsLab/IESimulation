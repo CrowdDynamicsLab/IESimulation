{
 "cells": [
  {
   "cell_type": "code",
   "execution_count": 1,
   "metadata": {},
   "outputs": [
    {
     "data": {
      "text/html": [
       "        <script type=\"text/javascript\">\n",
       "        window.PlotlyConfig = {MathJaxConfig: 'local'};\n",
       "        if (window.MathJax) {MathJax.Hub.Config({SVG: {font: \"STIX-Web\"}});}\n",
       "        if (typeof require !== 'undefined') {\n",
       "        require.undef(\"plotly\");\n",
       "        requirejs.config({\n",
       "            paths: {\n",
       "                'plotly': ['https://cdn.plot.ly/plotly-latest.min']\n",
       "            }\n",
       "        });\n",
       "        require(['plotly'], function(Plotly) {\n",
       "            window._Plotly = Plotly;\n",
       "        });\n",
       "        }\n",
       "        </script>\n",
       "        "
      ]
     },
     "metadata": {},
     "output_type": "display_data"
    }
   ],
   "source": [
    "import json\n",
    "from collections import defaultdict\n",
    "\n",
    "from plotly.offline import init_notebook_mode, iplot\n",
    "from IPython.display import display, clear_output\n",
    "import ipywidgets as widgets\n",
    "import plotly.graph_objs as go\n",
    "import plotly\n",
    "import numpy as np\n",
    "import numpy.linalg as nla\n",
    "\n",
    "import sim_lib.util as util\n",
    "\n",
    "init_notebook_mode(connected=True)"
   ]
  },
  {
   "cell_type": "code",
   "execution_count": 2,
   "metadata": {},
   "outputs": [],
   "source": [
    "kgrid_plaw_data = None\n",
    "with open('data/kgrid_plaw_data.json', 'r') as kpd:\n",
    "    kgrid_plaw_data = json.loads(kpd.read())\n",
    "\n",
    "kgrid_data = None\n",
    "with open('data/kgrid_data.json', 'r') as kd:\n",
    "    kgrid_data = json.loads(kd.read())"
   ]
  },
  {
   "cell_type": "code",
   "execution_count": 23,
   "metadata": {},
   "outputs": [],
   "source": [
    "class StrategyVis:\n",
    "    def __init__(self, data, plaw_data):\n",
    "        \n",
    "        self.data = data\n",
    "        self.plaw_data = plaw_data\n",
    "\n",
    "        r_vals = list(self.data.keys())\n",
    "        r_vals.remove('plaw')\n",
    "        p_vals = list(self.data[r_vals[0]].keys())\n",
    "        \n",
    "        # Welfare by p\n",
    "        self.by_p_header = widgets.HTML(\n",
    "                            value=\"<b>Average welfare by p</b>\",\n",
    "                            placeholder='Some HTML',\n",
    "                            description='')\n",
    "        self.by_p_r = widgets.SelectMultiple(\n",
    "                                    options=r_vals,\n",
    "                                    description='Resources per vertex',\n",
    "                                    disabled=False)\n",
    "        \n",
    "        # Welfare by epoch\n",
    "        self.by_epoch_header = widgets.HTML(\n",
    "                            value=\"<b>Average welfare by epoch</b>\",\n",
    "                            placeholder='Some HTML',\n",
    "                            description='')\n",
    "        self.by_epoch_p = widgets.SelectMultiple(\n",
    "                                    options=p_vals,\n",
    "                                    description='Prob info trans',\n",
    "                                    disabled=False)\n",
    "        self.by_epoch_r = widgets.Select(\n",
    "                                    options=r_vals,\n",
    "                                    description='Resources per vertex',\n",
    "                                    disabled=False)\n",
    "\n",
    "        # Gain per interaction initiated\n",
    "        self.int_gain_header = widgets.HTML(\n",
    "                            value=\"<b>Gain / Interactions Initiated</b>\",\n",
    "                            placeholder='Some HTML',\n",
    "                            description='')\n",
    "        self.int_gain_r = widgets.SelectMultiple(\n",
    "                                    options=r_vals,\n",
    "                                    description='Resources per vertex',\n",
    "                                    disabled=False)\n",
    "        \n",
    "        self.general_header = widgets.HTML(\n",
    "                            value=\"<b>General settings</b>\",\n",
    "                            placeholder='Some HTML',\n",
    "                            description='')\n",
    "        self.strategy = widgets.SelectMultiple(\n",
    "                                    options=['mwu', 'se_mwu', 'unif', 'rr'],\n",
    "                                    description='Neighbor allocation strategy',\n",
    "                                    disabled=False)\n",
    "        self.plot_selection = widgets.SelectMultiple(\n",
    "                                    options=['by_p', 'by_epoch', 'gain'],\n",
    "                                    description='Plots to render',\n",
    "                                    disabled=False)\n",
    "        self.powerlaw = widgets.ToggleButton(\n",
    "                                    value=False,\n",
    "                                    description='Powerlaw',\n",
    "                                    disabled=False,\n",
    "                                    button_style='',\n",
    "                                    tooltip='Powerlaw distributed resources')\n",
    "\n",
    "        # Update button\n",
    "        self.plot_button = widgets.Button(\n",
    "                                    description='Plot',\n",
    "                                    disabled=False,\n",
    "                                    button_style='',\n",
    "                                    tooltip='Plots by selected parameters')\n",
    "        self.plot_button.on_click(self.plot)\n",
    "        \n",
    "        self.visuals = [self.by_p_header, self.by_p_r,\n",
    "                        self.by_epoch_header, self.by_epoch_p, self.by_epoch_r,\n",
    "                        self.int_gain_header, self.int_gain_r,\n",
    "                        self.general_header, self.strategy, self.plot_selection, self.powerlaw,\n",
    "                        self.plot_button]\n",
    "        \n",
    "        self.render_visuals()\n",
    "        \n",
    "    def render_visuals(self):\n",
    "\n",
    "        # Render widgets\n",
    "        for vis in self.visuals:\n",
    "            display(vis)\n",
    "\n",
    "    def plot(self, button):\n",
    "        \n",
    "        # Reset widgets\n",
    "        clear_output()\n",
    "        self.render_visuals()\n",
    "        \n",
    "        by_p_r = self.by_p_r.value\n",
    "        \n",
    "        by_epoch_p = self.by_epoch_p.value\n",
    "        by_epoch_r = self.by_epoch_r.value\n",
    "        \n",
    "        int_gain_r = self.int_gain_r.value\n",
    "        \n",
    "        strategies = self.strategy.value\n",
    "        powerlaw = self.powerlaw.value\n",
    "        plots = self.plot_selection.value\n",
    "        \n",
    "        data = self.data if not powerlaw else self.plaw_data\n",
    "        \n",
    "        by_p = {}\n",
    "        by_epoch = {}\n",
    "        by_gain = {}\n",
    "        \n",
    "        for strat in strategies:\n",
    "            # plot by p\n",
    "            if 'by_p' in plots:\n",
    "                by_p_uts = self.plot_by_p(data, by_p_r, strat)\n",
    "                by_p[strat] = by_p_uts\n",
    "            \n",
    "            # plot by epoch\n",
    "            if 'by_epoch' in plots:\n",
    "                by_epoch_uts = self.plot_by_epoch(data, by_epoch_r, by_epoch_p, strat)\n",
    "                by_epoch[strat] = by_epoch_uts\n",
    "            \n",
    "            # plot by interactions initiated over actual path length\n",
    "            if 'gain' in plots:\n",
    "                gain_ratios = self.plot_int_gain_ratios(data, int_gain_r, strat)\n",
    "                by_gain[strat] = gain_ratios\n",
    "                \n",
    "        #Create chart comparing all strategies\n",
    "        if 'by_p' in plots:\n",
    "            self.render_plot_by_p(by_p)\n",
    "        if 'by_epoch' in plots:\n",
    "            self.render_plot_by_epoch(by_epoch, by_epoch_r)\n",
    "        if 'gain' in plots:\n",
    "            self.render_plot_int_gain_ratios(by_gain)\n",
    "            \n",
    "    def plot_by_p(self, data, by_p_r, strat):\n",
    "        by_p_utils = []\n",
    "        for r in by_p_r:\n",
    "            r_utils = []\n",
    "            for p, p_data in data[r].items():\n",
    "                r_utils.append((p, [ sum(uts[-1]) / len(uts[-1]) for uts in p_data['utils'][strat] ]))\n",
    "            by_p_utils.append((r, r_utils))\n",
    "\n",
    "        self.render_plot_by_p({strat : by_p_utils})\n",
    "        return by_p_utils\n",
    "        \n",
    "    def render_plot_by_p(self, plot_data):        \n",
    "        fig = go.Figure()\n",
    "\n",
    "        colors = plotly.colors.DEFAULT_PLOTLY_COLORS\n",
    "        \n",
    "        comparison = (len(plot_data) > 1)\n",
    "        \n",
    "        i_idx = 0\n",
    "        for strat, utils in plot_data.items():\n",
    "            for j_idx, r_data in enumerate(utils):\n",
    "                color = colors[(i_idx + j_idx) % len(colors)]\n",
    "\n",
    "                r_val, r_utils = r_data\n",
    "\n",
    "                #Add averages trace\n",
    "                p_vals = [ p for (p, uts) in r_utils ]\n",
    "                ut_vals = [ np.average(uts) for (p, uts) in r_utils ]\n",
    "\n",
    "                #Error bars\n",
    "                std_vals = [ np.std(uts) for (p, uts) in r_utils ]\n",
    "\n",
    "                strat_name = f' strat={strat}' if comparison else ''\n",
    "                fig.add_trace(go.Scatter(x=p_vals,\n",
    "                    y=ut_vals, mode='lines+markers', hoverinfo='skip',\n",
    "                    name=f'avg social welfare rate (r={r_val}{strat_name})', marker=dict(color=color),\n",
    "                    error_y=dict(type='data', array=std_vals, visible=True)))\n",
    "\n",
    "                #Add individual points trace\n",
    "                indiv_p_vals = []\n",
    "                indiv_ut_vals = []\n",
    "                for (p, uts) in r_utils:\n",
    "                    indiv_ut_vals.extend(uts)\n",
    "                    indiv_p_vals.extend([p] * len(uts))\n",
    "                fig.add_trace(go.Scatter(x=indiv_p_vals,\n",
    "                    y=indiv_ut_vals, mode='markers', hoverinfo='skip', opacity=0.3,\n",
    "                    marker=dict(color=color), name=f'social welfare per iter (r={r_val}{strat_name})'))\n",
    "            i_idx += 1\n",
    "\n",
    "        fig.layout.update(showlegend=False)\n",
    "        strat_name = 'Comparison'\n",
    "        if not comparison:\n",
    "            strat_name = list(plot_data.keys())[0]\n",
    "        plot_title = f'Average Social Welfare vs p ({strat_name})'\n",
    "        fig.layout.update(title=plot_title, showlegend=True,\n",
    "            xaxis=dict(title='p'), yaxis=dict(title='avg social welfare'),\n",
    "            plot_bgcolor='rgba(0,0,0,0)')\n",
    "\n",
    "        iplot(fig)\n",
    "        \n",
    "    def plot_by_epoch(self, data, by_epoch_r, by_epoch_p, strat):\n",
    "        by_epoch_utils = []\n",
    "        epoch_r_data = data[by_epoch_r]\n",
    "        for p in by_epoch_p:\n",
    "            p_utils = []\n",
    "            epoch_p_utils = epoch_r_data[p]['utils'][strat]\n",
    "            for it_uts in epoch_p_utils:\n",
    "                p_utils.append([(ep, sum(ep_uts) / len(ep_uts)) for ep, ep_uts in enumerate(it_uts)])\n",
    "            by_epoch_utils.append((p, p_utils))\n",
    "\n",
    "        self.render_plot_by_epoch({strat : by_epoch_utils}, by_epoch_r)\n",
    "        return by_epoch_utils\n",
    "            \n",
    "    def render_plot_by_epoch(self, plot_data, r_val):\n",
    "        fig = go.Figure()\n",
    "\n",
    "        colors = plotly.colors.DEFAULT_PLOTLY_COLORS\n",
    "        \n",
    "        comparison = (len(plot_data) > 1)\n",
    "        \n",
    "        i_idx = 0\n",
    "        for strat, utils in plot_data.items():\n",
    "            for j_idx, p_data in enumerate(utils):\n",
    "                color = colors[(i_idx + j_idx)  % len(colors)]\n",
    "\n",
    "                p_val, p_utils = p_data\n",
    "\n",
    "                #Add averages trace\n",
    "                ep_uts = defaultdict(lambda : [])\n",
    "                for ut_per_ep in p_utils:\n",
    "                    for (ep, ut) in ut_per_ep:\n",
    "                        ep_uts[ep].append(ut)\n",
    "\n",
    "                ep_vals = sorted(list(ep_uts.keys()))\n",
    "                ut_vals = [ np.average(ep_uts[ep]) for ep in ep_vals ]\n",
    "                std_vals = [ np.std(ep_uts[ep]) for ep in ep_vals ]\n",
    "                \n",
    "                strat_name = f' strat={strat}' if comparison else ''\n",
    "                fig.add_trace(go.Scatter(x=ep_vals,\n",
    "                    y=ut_vals, mode='lines+markers', hoverinfo='skip',\n",
    "                    name=f'avg social welfare rate (p={p_val}{strat_name})', marker=dict(color=color),\n",
    "                    error_y=dict(type='data', array=std_vals, visible=True)))\n",
    "\n",
    "                #Add individual points trace\n",
    "                indiv_ep_vals = []\n",
    "                indiv_ut_vals = []\n",
    "                for ep in ep_vals:\n",
    "                    uts = ep_uts[ep]\n",
    "                    indiv_ut_vals.extend(uts)\n",
    "                    indiv_ep_vals.extend([ep] * len(uts))\n",
    "                fig.add_trace(go.Scatter(x=indiv_ep_vals,\n",
    "                    y=indiv_ut_vals, mode='markers', hoverinfo='skip', opacity=0.3,\n",
    "                    marker=dict(color=color), name=f'social welfare per iter (p={p_val}{strat_name})'))\n",
    "            i_idx += 1\n",
    "\n",
    "        fig.layout.update(showlegend=False)\n",
    "        strat_name = 'Comparison'\n",
    "        if not comparison:\n",
    "            strat_name = list(plot_data.keys())[0]\n",
    "        plot_title = f\"Average Social Welfare vs Epoch # (r={r_val} {strat_name})\"\n",
    "        fig.layout.update(title=plot_title, showlegend=True,\n",
    "            xaxis=dict(title='Epoch #'), yaxis=dict(title='avg social welfare'),\n",
    "            plot_bgcolor='rgba(0,0,0,0)')\n",
    "        fig.update_xaxes(range=[0, int(r_val) // 2])\n",
    "\n",
    "        iplot(fig)\n",
    "        \n",
    "    def plot_int_gain_ratios(self, data, int_gain_r, strat):\n",
    "        int_gain_ratios = []\n",
    "        for r in int_gain_r:\n",
    "            r_ratios = []\n",
    "            for p, p_data in data[r].items():\n",
    "                p_ratios = []\n",
    "                ser_graphs = data[r][p]['graphs'][strat] \n",
    "                for idx, fsg in enumerate(ser_graphs):\n",
    "                    isg = data[r][p]['init_graphs'][idx]\n",
    "                    init_g = util.json_to_graph(isg)\n",
    "                    final_g = util.json_to_graph(fsg)\n",
    "                    init_uts = { v.vnum : v.utility for v in init_g.vertices }\n",
    "                    final_uts = { v.vnum : v.utility for v in final_g.vertices }\n",
    "                    init_prov = { v.vnum : v.provider for v in init_g.vertices }\n",
    "                    final_prov = { v.vnum : v.provider for v in final_g.vertices }\n",
    "                    ratios = []\n",
    "                    for v in final_g.vertices:\n",
    "                        gain = final_uts[v.vnum] - init_uts[v.vnum]\n",
    "                        if v.init_ints == 0 or gain == 0:\n",
    "                            continue\n",
    "                        ratios.append(gain / v.init_ints)\n",
    "                    p_ratios.append(np.average(ratios))\n",
    "                r_ratios.append((p, p_ratios))\n",
    "            int_gain_ratios.append((r, r_ratios))\n",
    "\n",
    "        self.render_plot_int_gain_ratios({strat : int_gain_ratios})\n",
    "        return int_gain_ratios\n",
    "        \n",
    "    def render_plot_int_gain_ratios(self, plot_data):\n",
    "        fig = go.Figure()\n",
    "\n",
    "        colors = plotly.colors.DEFAULT_PLOTLY_COLORS\n",
    "        \n",
    "        comparison = (len(plot_data) > 1)\n",
    "        \n",
    "        i_idx = 0\n",
    "        for strat, ratios in plot_data.items():\n",
    "            for j_idx, r_data in enumerate(ratios):\n",
    "                color = colors[(i_idx + j_idx) % len(colors)]\n",
    "\n",
    "                r_val, r_ratios = r_data\n",
    "\n",
    "                #Add averages trace\n",
    "                p_vals = [ p for (p, ratios) in r_ratios ]\n",
    "                ratio_vals = [ np.average(ratios) for (p, ratios) in r_ratios ]\n",
    "\n",
    "                #Error bars\n",
    "                std_vals = [ np.std(ratios) for (p, ratios) in r_ratios ]\n",
    "\n",
    "                strat_name = f' strat={strat}' if comparison else ''\n",
    "                fig.add_trace(go.Scatter(x=p_vals,\n",
    "                    y=ratio_vals, mode='lines+markers', hoverinfo='skip',\n",
    "                    name=f'Gain / Interactions initiated (r={r_val}{strat_name})', marker=dict(color=color),\n",
    "                    error_y=dict(type='data', array=std_vals, visible=True)))\n",
    "\n",
    "                #Add individual points trace\n",
    "                indiv_p_vals = []\n",
    "                indiv_ratio_vals = []\n",
    "                for (p, ratios) in r_ratios:\n",
    "                    indiv_ratio_vals.extend(ratios)\n",
    "                    indiv_p_vals.extend([p] * len(ratios))\n",
    "                fig.add_trace(go.Scatter(x=indiv_p_vals,\n",
    "                    y=indiv_ratio_vals, mode='markers', hoverinfo='skip', opacity=0.3,\n",
    "                    marker=dict(color=color), name=f'ratio per iter (r={r_val}{strat_name})'))\n",
    "            i_idx += 1\n",
    "\n",
    "        fig.layout.update(showlegend=False)\n",
    "        strat_name = 'Comparison'\n",
    "        if not comparison:\n",
    "            strat_name = list(plot_data.keys())[0]\n",
    "        plot_title = f\"Gain / Interactions initiated vs p ({strat_name})\"\n",
    "        fig.layout.update(title=plot_title, showlegend=True,\n",
    "            xaxis=dict(title='p'), yaxis=dict(title='gain / interactions initiated'),\n",
    "            plot_bgcolor='rgba(0,0,0,0)')\n",
    "\n",
    "        iplot(fig)"
   ]
  },
  {
   "cell_type": "code",
   "execution_count": 24,
   "metadata": {
    "scrolled": false
   },
   "outputs": [
    {
     "data": {
      "application/vnd.jupyter.widget-view+json": {
       "model_id": "cc0f7cd447204bbba0bb22b5cecf4ce3",
       "version_major": 2,
       "version_minor": 0
      },
      "text/plain": [
       "HTML(value='<b>Average welfare by p</b>', placeholder='Some HTML')"
      ]
     },
     "metadata": {},
     "output_type": "display_data"
    },
    {
     "data": {
      "application/vnd.jupyter.widget-view+json": {
       "model_id": "022e66c7f45741639122ce7880260de5",
       "version_major": 2,
       "version_minor": 0
      },
      "text/plain": [
       "SelectMultiple(description='Resources per vertex', options=('128', '64', '32', '16', '8', '4', '2'), value=())"
      ]
     },
     "metadata": {},
     "output_type": "display_data"
    },
    {
     "data": {
      "application/vnd.jupyter.widget-view+json": {
       "model_id": "8b186eb2d38c402f96e8cd6d7c1dfab4",
       "version_major": 2,
       "version_minor": 0
      },
      "text/plain": [
       "HTML(value='<b>Average welfare by epoch</b>', placeholder='Some HTML')"
      ]
     },
     "metadata": {},
     "output_type": "display_data"
    },
    {
     "data": {
      "application/vnd.jupyter.widget-view+json": {
       "model_id": "4913d37617a6458eaee76e8e7e39b729",
       "version_major": 2,
       "version_minor": 0
      },
      "text/plain": [
       "SelectMultiple(description='Prob info trans', options=('1.0', '0.9', '0.8', '0.7', '0.6', '0.5', '0.4', '0.3',…"
      ]
     },
     "metadata": {},
     "output_type": "display_data"
    },
    {
     "data": {
      "application/vnd.jupyter.widget-view+json": {
       "model_id": "f36536389d5849198c6a5b6475fe7473",
       "version_major": 2,
       "version_minor": 0
      },
      "text/plain": [
       "Select(description='Resources per vertex', options=('128', '64', '32', '16', '8', '4', '2'), value='128')"
      ]
     },
     "metadata": {},
     "output_type": "display_data"
    },
    {
     "data": {
      "application/vnd.jupyter.widget-view+json": {
       "model_id": "fad1c79bc8ee4bf2b536bb1cb88bd77f",
       "version_major": 2,
       "version_minor": 0
      },
      "text/plain": [
       "HTML(value='<b>Gain / Interactions Initiated</b>', placeholder='Some HTML')"
      ]
     },
     "metadata": {},
     "output_type": "display_data"
    },
    {
     "data": {
      "application/vnd.jupyter.widget-view+json": {
       "model_id": "e911069a39104b42bf12f4dee8e281fb",
       "version_major": 2,
       "version_minor": 0
      },
      "text/plain": [
       "SelectMultiple(description='Resources per vertex', index=(3, 4), options=('128', '64', '32', '16', '8', '4', '…"
      ]
     },
     "metadata": {},
     "output_type": "display_data"
    },
    {
     "data": {
      "application/vnd.jupyter.widget-view+json": {
       "model_id": "d79dc3efbbc845eb80719c0144721805",
       "version_major": 2,
       "version_minor": 0
      },
      "text/plain": [
       "HTML(value='<b>General settings</b>', placeholder='Some HTML')"
      ]
     },
     "metadata": {},
     "output_type": "display_data"
    },
    {
     "data": {
      "application/vnd.jupyter.widget-view+json": {
       "model_id": "047731e1f7d74bd8ae3f4594d875498a",
       "version_major": 2,
       "version_minor": 0
      },
      "text/plain": [
       "SelectMultiple(description='Neighbor allocation strategy', index=(0, 1, 2, 3), options=('mwu', 'se_mwu', 'unif…"
      ]
     },
     "metadata": {},
     "output_type": "display_data"
    },
    {
     "data": {
      "application/vnd.jupyter.widget-view+json": {
       "model_id": "6e75bdd205d04db7afb5a59d2371541a",
       "version_major": 2,
       "version_minor": 0
      },
      "text/plain": [
       "SelectMultiple(description='Plots to render', index=(2,), options=('by_p', 'by_epoch', 'gain'), value=('gain',…"
      ]
     },
     "metadata": {},
     "output_type": "display_data"
    },
    {
     "data": {
      "application/vnd.jupyter.widget-view+json": {
       "model_id": "9ed239606a0a4bf4a3de73083b6e31ab",
       "version_major": 2,
       "version_minor": 0
      },
      "text/plain": [
       "ToggleButton(value=False, description='Powerlaw', tooltip='Powerlaw distributed resources')"
      ]
     },
     "metadata": {},
     "output_type": "display_data"
    },
    {
     "data": {
      "application/vnd.jupyter.widget-view+json": {
       "model_id": "707030393ebb495ea4ee311be578edcf",
       "version_major": 2,
       "version_minor": 0
      },
      "text/plain": [
       "Button(description='Plot', style=ButtonStyle(), tooltip='Plots by selected parameters')"
      ]
     },
     "metadata": {},
     "output_type": "display_data"
    },
    {
     "data": {
      "application/vnd.plotly.v1+json": {
       "config": {
        "linkText": "Export to plot.ly",
        "plotlyServerURL": "https://plot.ly",
        "showLink": false
       },
       "data": [
        {
         "error_y": {
          "array": [
           0.023718629921116903,
           0.017525885872469806,
           0.012917509883833705,
           0.010712598892142102,
           0.008633002746715683,
           0.0030264043082923815,
           0.007107559034169287,
           0.0029359515628701294,
           0.004397540932925715,
           0.005938062980123822
          ],
          "type": "data",
          "visible": true
         },
         "hoverinfo": "skip",
         "marker": {
          "color": "rgb(31, 119, 180)"
         },
         "mode": "lines+markers",
         "name": "Gain / Interactions initiated (r=16)",
         "type": "scatter",
         "x": [
          "1.0",
          "0.9",
          "0.8",
          "0.7",
          "0.6",
          "0.5",
          "0.4",
          "0.3",
          "0.2",
          "0.1"
         ],
         "y": [
          0.13194476789039195,
          0.10492142159064866,
          0.09644514535291838,
          0.08395406200310629,
          0.07814057341779572,
          0.07729443101553643,
          0.07551383539653776,
          0.07497161120841489,
          0.06990042530398133,
          0.06387693326996922
         ]
        },
        {
         "hoverinfo": "skip",
         "marker": {
          "color": "rgb(31, 119, 180)"
         },
         "mode": "markers",
         "name": "ratio per iter (r=16)",
         "opacity": 0.3,
         "type": "scatter",
         "x": [
          "1.0",
          "1.0",
          "1.0",
          "1.0",
          "1.0",
          "1.0",
          "1.0",
          "1.0",
          "1.0",
          "1.0",
          "0.9",
          "0.9",
          "0.9",
          "0.9",
          "0.9",
          "0.9",
          "0.9",
          "0.9",
          "0.9",
          "0.9",
          "0.8",
          "0.8",
          "0.8",
          "0.8",
          "0.8",
          "0.8",
          "0.8",
          "0.8",
          "0.8",
          "0.8",
          "0.7",
          "0.7",
          "0.7",
          "0.7",
          "0.7",
          "0.7",
          "0.7",
          "0.7",
          "0.7",
          "0.7",
          "0.6",
          "0.6",
          "0.6",
          "0.6",
          "0.6",
          "0.6",
          "0.6",
          "0.6",
          "0.6",
          "0.6",
          "0.5",
          "0.5",
          "0.5",
          "0.5",
          "0.5",
          "0.5",
          "0.5",
          "0.5",
          "0.5",
          "0.5",
          "0.4",
          "0.4",
          "0.4",
          "0.4",
          "0.4",
          "0.4",
          "0.4",
          "0.4",
          "0.4",
          "0.4",
          "0.3",
          "0.3",
          "0.3",
          "0.3",
          "0.3",
          "0.3",
          "0.3",
          "0.3",
          "0.3",
          "0.3",
          "0.2",
          "0.2",
          "0.2",
          "0.2",
          "0.2",
          "0.2",
          "0.2",
          "0.2",
          "0.2",
          "0.2",
          "0.1",
          "0.1",
          "0.1",
          "0.1",
          "0.1",
          "0.1",
          "0.1",
          "0.1",
          "0.1",
          "0.1"
         ],
         "y": [
          0.13068181818181818,
          0.1115942028985507,
          0.14390896921017404,
          0.11910112359550562,
          0.1581439393939394,
          0.1741622574955908,
          0.13950617283950617,
          0.1180878552971576,
          0.08568456096545984,
          0.13857677902621723,
          0.1434108527131783,
          0.11161048689138577,
          0.12878787878787878,
          0.08482676224611709,
          0.1009557945041816,
          0.10032206119162643,
          0.09050925925925928,
          0.10396825396825396,
          0.08981481481481479,
          0.09500805152979065,
          0.09669454400637198,
          0.07713920817369092,
          0.11046511627906974,
          0.10808080808080808,
          0.10533170533170534,
          0.0924223073648361,
          0.11234567901234567,
          0.08682818156502364,
          0.07404500261643118,
          0.10109890109890109,
          0.11094082588335466,
          0.086709224752703,
          0.07738095238095238,
          0.07481907194550871,
          0.08535164377861007,
          0.08648758648758649,
          0.08573806551334642,
          0.07975494291283763,
          0.08439444153729869,
          0.06796386483886484,
          0.06969710480946437,
          0.07443077105998455,
          0.08201666362585905,
          0.09451303155006859,
          0.08318380492293535,
          0.07713293650793653,
          0.07943641876226146,
          0.0857583774250441,
          0.06172104644326867,
          0.07351557907113464,
          0.07145863395863396,
          0.079057462778393,
          0.08341331364587178,
          0.0788894833838654,
          0.07738822024536311,
          0.07634977527450645,
          0.07650171179582944,
          0.07567810010338746,
          0.07484252960443435,
          0.07936507936507936,
          0.06686285000891741,
          0.07381981187536743,
          0.06598432055749129,
          0.07575474634298163,
          0.08673681707389573,
          0.08248868489832345,
          0.07256581494386372,
          0.07614279561953982,
          0.06885148695493523,
          0.08593102569006184,
          0.0729129923574368,
          0.07568146808653138,
          0.07184523809523809,
          0.07413419913419914,
          0.07372763920382967,
          0.0753171415822018,
          0.08259130210349722,
          0.07562830687830688,
          0.07185443283004259,
          0.07602339181286549,
          0.06411908197622483,
          0.07177666388192702,
          0.07625948930296755,
          0.06730571016285301,
          0.07315215648548981,
          0.07030034235916588,
          0.06337264844209288,
          0.06653104279686557,
          0.07657053431701318,
          0.06961658331521345,
          0.05593348450491307,
          0.05947819740923189,
          0.06646825396825395,
          0.06273291925465838,
          0.0742133110554163,
          0.06743332253536335,
          0.058989080265676015,
          0.07173828881145954,
          0.06531422092646581,
          0.05646825396825395
         ]
        },
        {
         "error_y": {
          "array": [
           0.009379244870377812,
           0.008489249198509402,
           0.006625194624353072,
           0.006002481012273199,
           0.0100169613294253,
           0.004788269328133152,
           0.008180081393441225,
           0.013295479435650336,
           0.01248345989651305,
           0.013525376359414464
          ],
          "type": "data",
          "visible": true
         },
         "hoverinfo": "skip",
         "marker": {
          "color": "rgb(255, 127, 14)"
         },
         "mode": "lines+markers",
         "name": "Gain / Interactions initiated (r=8)",
         "type": "scatter",
         "x": [
          "1.0",
          "0.9",
          "0.8",
          "0.7",
          "0.6",
          "0.5",
          "0.4",
          "0.3",
          "0.2",
          "0.1"
         ],
         "y": [
          0.14668699047288308,
          0.14701789432943238,
          0.14523639893796803,
          0.14725217149983297,
          0.14557291691768642,
          0.14054050664115447,
          0.1316476186396952,
          0.13115938521611764,
          0.12816835660018844,
          0.11942448006786241
         ]
        },
        {
         "hoverinfo": "skip",
         "marker": {
          "color": "rgb(255, 127, 14)"
         },
         "mode": "markers",
         "name": "ratio per iter (r=8)",
         "opacity": 0.3,
         "type": "scatter",
         "x": [
          "1.0",
          "1.0",
          "1.0",
          "1.0",
          "1.0",
          "1.0",
          "1.0",
          "1.0",
          "1.0",
          "1.0",
          "0.9",
          "0.9",
          "0.9",
          "0.9",
          "0.9",
          "0.9",
          "0.9",
          "0.9",
          "0.9",
          "0.9",
          "0.8",
          "0.8",
          "0.8",
          "0.8",
          "0.8",
          "0.8",
          "0.8",
          "0.8",
          "0.8",
          "0.8",
          "0.7",
          "0.7",
          "0.7",
          "0.7",
          "0.7",
          "0.7",
          "0.7",
          "0.7",
          "0.7",
          "0.7",
          "0.6",
          "0.6",
          "0.6",
          "0.6",
          "0.6",
          "0.6",
          "0.6",
          "0.6",
          "0.6",
          "0.6",
          "0.5",
          "0.5",
          "0.5",
          "0.5",
          "0.5",
          "0.5",
          "0.5",
          "0.5",
          "0.5",
          "0.5",
          "0.4",
          "0.4",
          "0.4",
          "0.4",
          "0.4",
          "0.4",
          "0.4",
          "0.4",
          "0.4",
          "0.4",
          "0.3",
          "0.3",
          "0.3",
          "0.3",
          "0.3",
          "0.3",
          "0.3",
          "0.3",
          "0.3",
          "0.3",
          "0.2",
          "0.2",
          "0.2",
          "0.2",
          "0.2",
          "0.2",
          "0.2",
          "0.2",
          "0.2",
          "0.2",
          "0.1",
          "0.1",
          "0.1",
          "0.1",
          "0.1",
          "0.1",
          "0.1",
          "0.1",
          "0.1",
          "0.1"
         ],
         "y": [
          0.14875864875864875,
          0.15401234567901234,
          0.148253367003367,
          0.15384615384615385,
          0.13991769547325106,
          0.15123456790123457,
          0.16136079900124844,
          0.12699915824915828,
          0.1368081564710778,
          0.14567901234567904,
          0.1416881998277347,
          0.1483539094650206,
          0.15540824915824916,
          0.14163614163614166,
          0.15781440781440784,
          0.1531803542673108,
          0.1278409090909091,
          0.1544238683127572,
          0.1465201465201465,
          0.1433127572016461,
          0.14543075684380033,
          0.15288065843621398,
          0.13383838383838384,
          0.14302832244008715,
          0.14908447773616312,
          0.15411522633744854,
          0.14450686641697877,
          0.13920454545454544,
          0.13755144032921812,
          0.15272331154684096,
          0.14643719806763283,
          0.15189346650020807,
          0.143351182507809,
          0.14498910675381263,
          0.15277777777777776,
          0.15700040700040702,
          0.13569223985890652,
          0.1525807722616233,
          0.14193899782135078,
          0.14586056644880174,
          0.1636904761904762,
          0.138668430335097,
          0.1360999553770638,
          0.14585934248855595,
          0.125599128540305,
          0.14583333333333334,
          0.14849108367626887,
          0.1531502767134951,
          0.1443287037037037,
          0.1540084388185654,
          0.14016203703703703,
          0.1423611111111111,
          0.13090277777777778,
          0.14334705075445814,
          0.1360566448801743,
          0.1351120857699805,
          0.14247685185185183,
          0.1450980392156863,
          0.14741161616161616,
          0.14247685185185185,
          0.1420987654320988,
          0.13477366255144033,
          0.13058278867102396,
          0.13760288065843623,
          0.14069264069264073,
          0.11903021442495124,
          0.11658841940532083,
          0.1356285863328117,
          0.13310185185185186,
          0.12637637637637636,
          0.14030131826741996,
          0.14297385620915032,
          0.1388888888888889,
          0.12210648148148148,
          0.11409796893667862,
          0.1225071225071225,
          0.13369809203142538,
          0.11923326835607537,
          0.1192901234567901,
          0.1584967320261438,
          0.13061465721040189,
          0.10518518518518519,
          0.13337273443656422,
          0.133179012345679,
          0.13166666666666665,
          0.12678062678062677,
          0.11434108527131784,
          0.15432098765432098,
          0.13220164609053497,
          0.12002096436058698,
          0.14066951566951566,
          0.12654320987654322,
          0.1003086419753086,
          0.10866013071895424,
          0.1429398148148148,
          0.11210317460317462,
          0.11825396825396824,
          0.10576923076923075,
          0.12457912457912457,
          0.11441798941798942
         ]
        }
       ],
       "layout": {
        "plot_bgcolor": "rgba(0,0,0,0)",
        "showlegend": true,
        "template": {
         "data": {
          "bar": [
           {
            "error_x": {
             "color": "#2a3f5f"
            },
            "error_y": {
             "color": "#2a3f5f"
            },
            "marker": {
             "line": {
              "color": "#E5ECF6",
              "width": 0.5
             }
            },
            "type": "bar"
           }
          ],
          "barpolar": [
           {
            "marker": {
             "line": {
              "color": "#E5ECF6",
              "width": 0.5
             }
            },
            "type": "barpolar"
           }
          ],
          "carpet": [
           {
            "aaxis": {
             "endlinecolor": "#2a3f5f",
             "gridcolor": "white",
             "linecolor": "white",
             "minorgridcolor": "white",
             "startlinecolor": "#2a3f5f"
            },
            "baxis": {
             "endlinecolor": "#2a3f5f",
             "gridcolor": "white",
             "linecolor": "white",
             "minorgridcolor": "white",
             "startlinecolor": "#2a3f5f"
            },
            "type": "carpet"
           }
          ],
          "choropleth": [
           {
            "colorbar": {
             "outlinewidth": 0,
             "ticks": ""
            },
            "type": "choropleth"
           }
          ],
          "contour": [
           {
            "colorbar": {
             "outlinewidth": 0,
             "ticks": ""
            },
            "colorscale": [
             [
              0,
              "#0d0887"
             ],
             [
              0.1111111111111111,
              "#46039f"
             ],
             [
              0.2222222222222222,
              "#7201a8"
             ],
             [
              0.3333333333333333,
              "#9c179e"
             ],
             [
              0.4444444444444444,
              "#bd3786"
             ],
             [
              0.5555555555555556,
              "#d8576b"
             ],
             [
              0.6666666666666666,
              "#ed7953"
             ],
             [
              0.7777777777777778,
              "#fb9f3a"
             ],
             [
              0.8888888888888888,
              "#fdca26"
             ],
             [
              1,
              "#f0f921"
             ]
            ],
            "type": "contour"
           }
          ],
          "contourcarpet": [
           {
            "colorbar": {
             "outlinewidth": 0,
             "ticks": ""
            },
            "type": "contourcarpet"
           }
          ],
          "heatmap": [
           {
            "colorbar": {
             "outlinewidth": 0,
             "ticks": ""
            },
            "colorscale": [
             [
              0,
              "#0d0887"
             ],
             [
              0.1111111111111111,
              "#46039f"
             ],
             [
              0.2222222222222222,
              "#7201a8"
             ],
             [
              0.3333333333333333,
              "#9c179e"
             ],
             [
              0.4444444444444444,
              "#bd3786"
             ],
             [
              0.5555555555555556,
              "#d8576b"
             ],
             [
              0.6666666666666666,
              "#ed7953"
             ],
             [
              0.7777777777777778,
              "#fb9f3a"
             ],
             [
              0.8888888888888888,
              "#fdca26"
             ],
             [
              1,
              "#f0f921"
             ]
            ],
            "type": "heatmap"
           }
          ],
          "heatmapgl": [
           {
            "colorbar": {
             "outlinewidth": 0,
             "ticks": ""
            },
            "colorscale": [
             [
              0,
              "#0d0887"
             ],
             [
              0.1111111111111111,
              "#46039f"
             ],
             [
              0.2222222222222222,
              "#7201a8"
             ],
             [
              0.3333333333333333,
              "#9c179e"
             ],
             [
              0.4444444444444444,
              "#bd3786"
             ],
             [
              0.5555555555555556,
              "#d8576b"
             ],
             [
              0.6666666666666666,
              "#ed7953"
             ],
             [
              0.7777777777777778,
              "#fb9f3a"
             ],
             [
              0.8888888888888888,
              "#fdca26"
             ],
             [
              1,
              "#f0f921"
             ]
            ],
            "type": "heatmapgl"
           }
          ],
          "histogram": [
           {
            "marker": {
             "colorbar": {
              "outlinewidth": 0,
              "ticks": ""
             }
            },
            "type": "histogram"
           }
          ],
          "histogram2d": [
           {
            "colorbar": {
             "outlinewidth": 0,
             "ticks": ""
            },
            "colorscale": [
             [
              0,
              "#0d0887"
             ],
             [
              0.1111111111111111,
              "#46039f"
             ],
             [
              0.2222222222222222,
              "#7201a8"
             ],
             [
              0.3333333333333333,
              "#9c179e"
             ],
             [
              0.4444444444444444,
              "#bd3786"
             ],
             [
              0.5555555555555556,
              "#d8576b"
             ],
             [
              0.6666666666666666,
              "#ed7953"
             ],
             [
              0.7777777777777778,
              "#fb9f3a"
             ],
             [
              0.8888888888888888,
              "#fdca26"
             ],
             [
              1,
              "#f0f921"
             ]
            ],
            "type": "histogram2d"
           }
          ],
          "histogram2dcontour": [
           {
            "colorbar": {
             "outlinewidth": 0,
             "ticks": ""
            },
            "colorscale": [
             [
              0,
              "#0d0887"
             ],
             [
              0.1111111111111111,
              "#46039f"
             ],
             [
              0.2222222222222222,
              "#7201a8"
             ],
             [
              0.3333333333333333,
              "#9c179e"
             ],
             [
              0.4444444444444444,
              "#bd3786"
             ],
             [
              0.5555555555555556,
              "#d8576b"
             ],
             [
              0.6666666666666666,
              "#ed7953"
             ],
             [
              0.7777777777777778,
              "#fb9f3a"
             ],
             [
              0.8888888888888888,
              "#fdca26"
             ],
             [
              1,
              "#f0f921"
             ]
            ],
            "type": "histogram2dcontour"
           }
          ],
          "mesh3d": [
           {
            "colorbar": {
             "outlinewidth": 0,
             "ticks": ""
            },
            "type": "mesh3d"
           }
          ],
          "parcoords": [
           {
            "line": {
             "colorbar": {
              "outlinewidth": 0,
              "ticks": ""
             }
            },
            "type": "parcoords"
           }
          ],
          "pie": [
           {
            "automargin": true,
            "type": "pie"
           }
          ],
          "scatter": [
           {
            "marker": {
             "colorbar": {
              "outlinewidth": 0,
              "ticks": ""
             }
            },
            "type": "scatter"
           }
          ],
          "scatter3d": [
           {
            "line": {
             "colorbar": {
              "outlinewidth": 0,
              "ticks": ""
             }
            },
            "marker": {
             "colorbar": {
              "outlinewidth": 0,
              "ticks": ""
             }
            },
            "type": "scatter3d"
           }
          ],
          "scattercarpet": [
           {
            "marker": {
             "colorbar": {
              "outlinewidth": 0,
              "ticks": ""
             }
            },
            "type": "scattercarpet"
           }
          ],
          "scattergeo": [
           {
            "marker": {
             "colorbar": {
              "outlinewidth": 0,
              "ticks": ""
             }
            },
            "type": "scattergeo"
           }
          ],
          "scattergl": [
           {
            "marker": {
             "colorbar": {
              "outlinewidth": 0,
              "ticks": ""
             }
            },
            "type": "scattergl"
           }
          ],
          "scattermapbox": [
           {
            "marker": {
             "colorbar": {
              "outlinewidth": 0,
              "ticks": ""
             }
            },
            "type": "scattermapbox"
           }
          ],
          "scatterpolar": [
           {
            "marker": {
             "colorbar": {
              "outlinewidth": 0,
              "ticks": ""
             }
            },
            "type": "scatterpolar"
           }
          ],
          "scatterpolargl": [
           {
            "marker": {
             "colorbar": {
              "outlinewidth": 0,
              "ticks": ""
             }
            },
            "type": "scatterpolargl"
           }
          ],
          "scatterternary": [
           {
            "marker": {
             "colorbar": {
              "outlinewidth": 0,
              "ticks": ""
             }
            },
            "type": "scatterternary"
           }
          ],
          "surface": [
           {
            "colorbar": {
             "outlinewidth": 0,
             "ticks": ""
            },
            "colorscale": [
             [
              0,
              "#0d0887"
             ],
             [
              0.1111111111111111,
              "#46039f"
             ],
             [
              0.2222222222222222,
              "#7201a8"
             ],
             [
              0.3333333333333333,
              "#9c179e"
             ],
             [
              0.4444444444444444,
              "#bd3786"
             ],
             [
              0.5555555555555556,
              "#d8576b"
             ],
             [
              0.6666666666666666,
              "#ed7953"
             ],
             [
              0.7777777777777778,
              "#fb9f3a"
             ],
             [
              0.8888888888888888,
              "#fdca26"
             ],
             [
              1,
              "#f0f921"
             ]
            ],
            "type": "surface"
           }
          ],
          "table": [
           {
            "cells": {
             "fill": {
              "color": "#EBF0F8"
             },
             "line": {
              "color": "white"
             }
            },
            "header": {
             "fill": {
              "color": "#C8D4E3"
             },
             "line": {
              "color": "white"
             }
            },
            "type": "table"
           }
          ]
         },
         "layout": {
          "annotationdefaults": {
           "arrowcolor": "#2a3f5f",
           "arrowhead": 0,
           "arrowwidth": 1
          },
          "coloraxis": {
           "colorbar": {
            "outlinewidth": 0,
            "ticks": ""
           }
          },
          "colorscale": {
           "diverging": [
            [
             0,
             "#8e0152"
            ],
            [
             0.1,
             "#c51b7d"
            ],
            [
             0.2,
             "#de77ae"
            ],
            [
             0.3,
             "#f1b6da"
            ],
            [
             0.4,
             "#fde0ef"
            ],
            [
             0.5,
             "#f7f7f7"
            ],
            [
             0.6,
             "#e6f5d0"
            ],
            [
             0.7,
             "#b8e186"
            ],
            [
             0.8,
             "#7fbc41"
            ],
            [
             0.9,
             "#4d9221"
            ],
            [
             1,
             "#276419"
            ]
           ],
           "sequential": [
            [
             0,
             "#0d0887"
            ],
            [
             0.1111111111111111,
             "#46039f"
            ],
            [
             0.2222222222222222,
             "#7201a8"
            ],
            [
             0.3333333333333333,
             "#9c179e"
            ],
            [
             0.4444444444444444,
             "#bd3786"
            ],
            [
             0.5555555555555556,
             "#d8576b"
            ],
            [
             0.6666666666666666,
             "#ed7953"
            ],
            [
             0.7777777777777778,
             "#fb9f3a"
            ],
            [
             0.8888888888888888,
             "#fdca26"
            ],
            [
             1,
             "#f0f921"
            ]
           ],
           "sequentialminus": [
            [
             0,
             "#0d0887"
            ],
            [
             0.1111111111111111,
             "#46039f"
            ],
            [
             0.2222222222222222,
             "#7201a8"
            ],
            [
             0.3333333333333333,
             "#9c179e"
            ],
            [
             0.4444444444444444,
             "#bd3786"
            ],
            [
             0.5555555555555556,
             "#d8576b"
            ],
            [
             0.6666666666666666,
             "#ed7953"
            ],
            [
             0.7777777777777778,
             "#fb9f3a"
            ],
            [
             0.8888888888888888,
             "#fdca26"
            ],
            [
             1,
             "#f0f921"
            ]
           ]
          },
          "colorway": [
           "#636efa",
           "#EF553B",
           "#00cc96",
           "#ab63fa",
           "#FFA15A",
           "#19d3f3",
           "#FF6692",
           "#B6E880",
           "#FF97FF",
           "#FECB52"
          ],
          "font": {
           "color": "#2a3f5f"
          },
          "geo": {
           "bgcolor": "white",
           "lakecolor": "white",
           "landcolor": "#E5ECF6",
           "showlakes": true,
           "showland": true,
           "subunitcolor": "white"
          },
          "hoverlabel": {
           "align": "left"
          },
          "hovermode": "closest",
          "mapbox": {
           "style": "light"
          },
          "paper_bgcolor": "white",
          "plot_bgcolor": "#E5ECF6",
          "polar": {
           "angularaxis": {
            "gridcolor": "white",
            "linecolor": "white",
            "ticks": ""
           },
           "bgcolor": "#E5ECF6",
           "radialaxis": {
            "gridcolor": "white",
            "linecolor": "white",
            "ticks": ""
           }
          },
          "scene": {
           "xaxis": {
            "backgroundcolor": "#E5ECF6",
            "gridcolor": "white",
            "gridwidth": 2,
            "linecolor": "white",
            "showbackground": true,
            "ticks": "",
            "zerolinecolor": "white"
           },
           "yaxis": {
            "backgroundcolor": "#E5ECF6",
            "gridcolor": "white",
            "gridwidth": 2,
            "linecolor": "white",
            "showbackground": true,
            "ticks": "",
            "zerolinecolor": "white"
           },
           "zaxis": {
            "backgroundcolor": "#E5ECF6",
            "gridcolor": "white",
            "gridwidth": 2,
            "linecolor": "white",
            "showbackground": true,
            "ticks": "",
            "zerolinecolor": "white"
           }
          },
          "shapedefaults": {
           "line": {
            "color": "#2a3f5f"
           }
          },
          "ternary": {
           "aaxis": {
            "gridcolor": "white",
            "linecolor": "white",
            "ticks": ""
           },
           "baxis": {
            "gridcolor": "white",
            "linecolor": "white",
            "ticks": ""
           },
           "bgcolor": "#E5ECF6",
           "caxis": {
            "gridcolor": "white",
            "linecolor": "white",
            "ticks": ""
           }
          },
          "title": {
           "x": 0.05
          },
          "xaxis": {
           "automargin": true,
           "gridcolor": "white",
           "linecolor": "white",
           "ticks": "",
           "title": {
            "standoff": 15
           },
           "zerolinecolor": "white",
           "zerolinewidth": 2
          },
          "yaxis": {
           "automargin": true,
           "gridcolor": "white",
           "linecolor": "white",
           "ticks": "",
           "title": {
            "standoff": 15
           },
           "zerolinecolor": "white",
           "zerolinewidth": 2
          }
         }
        },
        "title": {
         "text": "Gain / Interactions initiated vs p (mwu)"
        },
        "xaxis": {
         "title": {
          "text": "p"
         }
        },
        "yaxis": {
         "title": {
          "text": "gain / interactions initiated"
         }
        }
       }
      },
      "text/html": [
       "<div>\n",
       "        \n",
       "        \n",
       "            <div id=\"7442cdd2-8277-4627-a362-ddd3d9043170\" class=\"plotly-graph-div\" style=\"height:525px; width:100%;\"></div>\n",
       "            <script type=\"text/javascript\">\n",
       "                require([\"plotly\"], function(Plotly) {\n",
       "                    window.PLOTLYENV=window.PLOTLYENV || {};\n",
       "                    \n",
       "                if (document.getElementById(\"7442cdd2-8277-4627-a362-ddd3d9043170\")) {\n",
       "                    Plotly.newPlot(\n",
       "                        '7442cdd2-8277-4627-a362-ddd3d9043170',\n",
       "                        [{\"error_y\": {\"array\": [0.023718629921116903, 0.017525885872469806, 0.012917509883833705, 0.010712598892142102, 0.008633002746715683, 0.0030264043082923815, 0.007107559034169287, 0.0029359515628701294, 0.004397540932925715, 0.005938062980123822], \"type\": \"data\", \"visible\": true}, \"hoverinfo\": \"skip\", \"marker\": {\"color\": \"rgb(31, 119, 180)\"}, \"mode\": \"lines+markers\", \"name\": \"Gain / Interactions initiated (r=16)\", \"type\": \"scatter\", \"x\": [\"1.0\", \"0.9\", \"0.8\", \"0.7\", \"0.6\", \"0.5\", \"0.4\", \"0.3\", \"0.2\", \"0.1\"], \"y\": [0.13194476789039195, 0.10492142159064866, 0.09644514535291838, 0.08395406200310629, 0.07814057341779572, 0.07729443101553643, 0.07551383539653776, 0.07497161120841489, 0.06990042530398133, 0.06387693326996922]}, {\"hoverinfo\": \"skip\", \"marker\": {\"color\": \"rgb(31, 119, 180)\"}, \"mode\": \"markers\", \"name\": \"ratio per iter (r=16)\", \"opacity\": 0.3, \"type\": \"scatter\", \"x\": [\"1.0\", \"1.0\", \"1.0\", \"1.0\", \"1.0\", \"1.0\", \"1.0\", \"1.0\", \"1.0\", \"1.0\", \"0.9\", \"0.9\", \"0.9\", \"0.9\", \"0.9\", \"0.9\", \"0.9\", \"0.9\", \"0.9\", \"0.9\", \"0.8\", \"0.8\", \"0.8\", \"0.8\", \"0.8\", \"0.8\", \"0.8\", \"0.8\", \"0.8\", \"0.8\", \"0.7\", \"0.7\", \"0.7\", \"0.7\", \"0.7\", \"0.7\", \"0.7\", \"0.7\", \"0.7\", \"0.7\", \"0.6\", \"0.6\", \"0.6\", \"0.6\", \"0.6\", \"0.6\", \"0.6\", \"0.6\", \"0.6\", \"0.6\", \"0.5\", \"0.5\", \"0.5\", \"0.5\", \"0.5\", \"0.5\", \"0.5\", \"0.5\", \"0.5\", \"0.5\", \"0.4\", \"0.4\", \"0.4\", \"0.4\", \"0.4\", \"0.4\", \"0.4\", \"0.4\", \"0.4\", \"0.4\", \"0.3\", \"0.3\", \"0.3\", \"0.3\", \"0.3\", \"0.3\", \"0.3\", \"0.3\", \"0.3\", \"0.3\", \"0.2\", \"0.2\", \"0.2\", \"0.2\", \"0.2\", \"0.2\", \"0.2\", \"0.2\", \"0.2\", \"0.2\", \"0.1\", \"0.1\", \"0.1\", \"0.1\", \"0.1\", \"0.1\", \"0.1\", \"0.1\", \"0.1\", \"0.1\"], \"y\": [0.13068181818181818, 0.1115942028985507, 0.14390896921017404, 0.11910112359550562, 0.1581439393939394, 0.1741622574955908, 0.13950617283950617, 0.1180878552971576, 0.08568456096545984, 0.13857677902621723, 0.1434108527131783, 0.11161048689138577, 0.12878787878787878, 0.08482676224611709, 0.1009557945041816, 0.10032206119162643, 0.09050925925925928, 0.10396825396825396, 0.08981481481481479, 0.09500805152979065, 0.09669454400637198, 0.07713920817369092, 0.11046511627906974, 0.10808080808080808, 0.10533170533170534, 0.0924223073648361, 0.11234567901234567, 0.08682818156502364, 0.07404500261643118, 0.10109890109890109, 0.11094082588335466, 0.086709224752703, 0.07738095238095238, 0.07481907194550871, 0.08535164377861007, 0.08648758648758649, 0.08573806551334642, 0.07975494291283763, 0.08439444153729869, 0.06796386483886484, 0.06969710480946437, 0.07443077105998455, 0.08201666362585905, 0.09451303155006859, 0.08318380492293535, 0.07713293650793653, 0.07943641876226146, 0.0857583774250441, 0.06172104644326867, 0.07351557907113464, 0.07145863395863396, 0.079057462778393, 0.08341331364587178, 0.0788894833838654, 0.07738822024536311, 0.07634977527450645, 0.07650171179582944, 0.07567810010338746, 0.07484252960443435, 0.07936507936507936, 0.06686285000891741, 0.07381981187536743, 0.06598432055749129, 0.07575474634298163, 0.08673681707389573, 0.08248868489832345, 0.07256581494386372, 0.07614279561953982, 0.06885148695493523, 0.08593102569006184, 0.0729129923574368, 0.07568146808653138, 0.07184523809523809, 0.07413419913419914, 0.07372763920382967, 0.0753171415822018, 0.08259130210349722, 0.07562830687830688, 0.07185443283004259, 0.07602339181286549, 0.06411908197622483, 0.07177666388192702, 0.07625948930296755, 0.06730571016285301, 0.07315215648548981, 0.07030034235916588, 0.06337264844209288, 0.06653104279686557, 0.07657053431701318, 0.06961658331521345, 0.05593348450491307, 0.05947819740923189, 0.06646825396825395, 0.06273291925465838, 0.0742133110554163, 0.06743332253536335, 0.058989080265676015, 0.07173828881145954, 0.06531422092646581, 0.05646825396825395]}, {\"error_y\": {\"array\": [0.009379244870377812, 0.008489249198509402, 0.006625194624353072, 0.006002481012273199, 0.0100169613294253, 0.004788269328133152, 0.008180081393441225, 0.013295479435650336, 0.01248345989651305, 0.013525376359414464], \"type\": \"data\", \"visible\": true}, \"hoverinfo\": \"skip\", \"marker\": {\"color\": \"rgb(255, 127, 14)\"}, \"mode\": \"lines+markers\", \"name\": \"Gain / Interactions initiated (r=8)\", \"type\": \"scatter\", \"x\": [\"1.0\", \"0.9\", \"0.8\", \"0.7\", \"0.6\", \"0.5\", \"0.4\", \"0.3\", \"0.2\", \"0.1\"], \"y\": [0.14668699047288308, 0.14701789432943238, 0.14523639893796803, 0.14725217149983297, 0.14557291691768642, 0.14054050664115447, 0.1316476186396952, 0.13115938521611764, 0.12816835660018844, 0.11942448006786241]}, {\"hoverinfo\": \"skip\", \"marker\": {\"color\": \"rgb(255, 127, 14)\"}, \"mode\": \"markers\", \"name\": \"ratio per iter (r=8)\", \"opacity\": 0.3, \"type\": \"scatter\", \"x\": [\"1.0\", \"1.0\", \"1.0\", \"1.0\", \"1.0\", \"1.0\", \"1.0\", \"1.0\", \"1.0\", \"1.0\", \"0.9\", \"0.9\", \"0.9\", \"0.9\", \"0.9\", \"0.9\", \"0.9\", \"0.9\", \"0.9\", \"0.9\", \"0.8\", \"0.8\", \"0.8\", \"0.8\", \"0.8\", \"0.8\", \"0.8\", \"0.8\", \"0.8\", \"0.8\", \"0.7\", \"0.7\", \"0.7\", \"0.7\", \"0.7\", \"0.7\", \"0.7\", \"0.7\", \"0.7\", \"0.7\", \"0.6\", \"0.6\", \"0.6\", \"0.6\", \"0.6\", \"0.6\", \"0.6\", \"0.6\", \"0.6\", \"0.6\", \"0.5\", \"0.5\", \"0.5\", \"0.5\", \"0.5\", \"0.5\", \"0.5\", \"0.5\", \"0.5\", \"0.5\", \"0.4\", \"0.4\", \"0.4\", \"0.4\", \"0.4\", \"0.4\", \"0.4\", \"0.4\", \"0.4\", \"0.4\", \"0.3\", \"0.3\", \"0.3\", \"0.3\", \"0.3\", \"0.3\", \"0.3\", \"0.3\", \"0.3\", \"0.3\", \"0.2\", \"0.2\", \"0.2\", \"0.2\", \"0.2\", \"0.2\", \"0.2\", \"0.2\", \"0.2\", \"0.2\", \"0.1\", \"0.1\", \"0.1\", \"0.1\", \"0.1\", \"0.1\", \"0.1\", \"0.1\", \"0.1\", \"0.1\"], \"y\": [0.14875864875864875, 0.15401234567901234, 0.148253367003367, 0.15384615384615385, 0.13991769547325106, 0.15123456790123457, 0.16136079900124844, 0.12699915824915828, 0.1368081564710778, 0.14567901234567904, 0.1416881998277347, 0.1483539094650206, 0.15540824915824916, 0.14163614163614166, 0.15781440781440784, 0.1531803542673108, 0.1278409090909091, 0.1544238683127572, 0.1465201465201465, 0.1433127572016461, 0.14543075684380033, 0.15288065843621398, 0.13383838383838384, 0.14302832244008715, 0.14908447773616312, 0.15411522633744854, 0.14450686641697877, 0.13920454545454544, 0.13755144032921812, 0.15272331154684096, 0.14643719806763283, 0.15189346650020807, 0.143351182507809, 0.14498910675381263, 0.15277777777777776, 0.15700040700040702, 0.13569223985890652, 0.1525807722616233, 0.14193899782135078, 0.14586056644880174, 0.1636904761904762, 0.138668430335097, 0.1360999553770638, 0.14585934248855595, 0.125599128540305, 0.14583333333333334, 0.14849108367626887, 0.1531502767134951, 0.1443287037037037, 0.1540084388185654, 0.14016203703703703, 0.1423611111111111, 0.13090277777777778, 0.14334705075445814, 0.1360566448801743, 0.1351120857699805, 0.14247685185185183, 0.1450980392156863, 0.14741161616161616, 0.14247685185185185, 0.1420987654320988, 0.13477366255144033, 0.13058278867102396, 0.13760288065843623, 0.14069264069264073, 0.11903021442495124, 0.11658841940532083, 0.1356285863328117, 0.13310185185185186, 0.12637637637637636, 0.14030131826741996, 0.14297385620915032, 0.1388888888888889, 0.12210648148148148, 0.11409796893667862, 0.1225071225071225, 0.13369809203142538, 0.11923326835607537, 0.1192901234567901, 0.1584967320261438, 0.13061465721040189, 0.10518518518518519, 0.13337273443656422, 0.133179012345679, 0.13166666666666665, 0.12678062678062677, 0.11434108527131784, 0.15432098765432098, 0.13220164609053497, 0.12002096436058698, 0.14066951566951566, 0.12654320987654322, 0.1003086419753086, 0.10866013071895424, 0.1429398148148148, 0.11210317460317462, 0.11825396825396824, 0.10576923076923075, 0.12457912457912457, 0.11441798941798942]}],\n",
       "                        {\"plot_bgcolor\": \"rgba(0,0,0,0)\", \"showlegend\": true, \"template\": {\"data\": {\"bar\": [{\"error_x\": {\"color\": \"#2a3f5f\"}, \"error_y\": {\"color\": \"#2a3f5f\"}, \"marker\": {\"line\": {\"color\": \"#E5ECF6\", \"width\": 0.5}}, \"type\": \"bar\"}], \"barpolar\": [{\"marker\": {\"line\": {\"color\": \"#E5ECF6\", \"width\": 0.5}}, \"type\": \"barpolar\"}], \"carpet\": [{\"aaxis\": {\"endlinecolor\": \"#2a3f5f\", \"gridcolor\": \"white\", \"linecolor\": \"white\", \"minorgridcolor\": \"white\", \"startlinecolor\": \"#2a3f5f\"}, \"baxis\": {\"endlinecolor\": \"#2a3f5f\", \"gridcolor\": \"white\", \"linecolor\": \"white\", \"minorgridcolor\": \"white\", \"startlinecolor\": \"#2a3f5f\"}, \"type\": \"carpet\"}], \"choropleth\": [{\"colorbar\": {\"outlinewidth\": 0, \"ticks\": \"\"}, \"type\": \"choropleth\"}], \"contour\": [{\"colorbar\": {\"outlinewidth\": 0, \"ticks\": \"\"}, \"colorscale\": [[0.0, \"#0d0887\"], [0.1111111111111111, \"#46039f\"], [0.2222222222222222, \"#7201a8\"], [0.3333333333333333, \"#9c179e\"], [0.4444444444444444, \"#bd3786\"], [0.5555555555555556, \"#d8576b\"], [0.6666666666666666, \"#ed7953\"], [0.7777777777777778, \"#fb9f3a\"], [0.8888888888888888, \"#fdca26\"], [1.0, \"#f0f921\"]], \"type\": \"contour\"}], \"contourcarpet\": [{\"colorbar\": {\"outlinewidth\": 0, \"ticks\": \"\"}, \"type\": \"contourcarpet\"}], \"heatmap\": [{\"colorbar\": {\"outlinewidth\": 0, \"ticks\": \"\"}, \"colorscale\": [[0.0, \"#0d0887\"], [0.1111111111111111, \"#46039f\"], [0.2222222222222222, \"#7201a8\"], [0.3333333333333333, \"#9c179e\"], [0.4444444444444444, \"#bd3786\"], [0.5555555555555556, \"#d8576b\"], [0.6666666666666666, \"#ed7953\"], [0.7777777777777778, \"#fb9f3a\"], [0.8888888888888888, \"#fdca26\"], [1.0, \"#f0f921\"]], \"type\": \"heatmap\"}], \"heatmapgl\": [{\"colorbar\": {\"outlinewidth\": 0, \"ticks\": \"\"}, \"colorscale\": [[0.0, \"#0d0887\"], [0.1111111111111111, \"#46039f\"], [0.2222222222222222, \"#7201a8\"], [0.3333333333333333, \"#9c179e\"], [0.4444444444444444, \"#bd3786\"], [0.5555555555555556, \"#d8576b\"], [0.6666666666666666, \"#ed7953\"], [0.7777777777777778, \"#fb9f3a\"], [0.8888888888888888, \"#fdca26\"], [1.0, \"#f0f921\"]], \"type\": \"heatmapgl\"}], \"histogram\": [{\"marker\": {\"colorbar\": {\"outlinewidth\": 0, \"ticks\": \"\"}}, \"type\": \"histogram\"}], \"histogram2d\": [{\"colorbar\": {\"outlinewidth\": 0, \"ticks\": \"\"}, \"colorscale\": [[0.0, \"#0d0887\"], [0.1111111111111111, \"#46039f\"], [0.2222222222222222, \"#7201a8\"], [0.3333333333333333, \"#9c179e\"], [0.4444444444444444, \"#bd3786\"], [0.5555555555555556, \"#d8576b\"], [0.6666666666666666, \"#ed7953\"], [0.7777777777777778, \"#fb9f3a\"], [0.8888888888888888, \"#fdca26\"], [1.0, \"#f0f921\"]], \"type\": \"histogram2d\"}], \"histogram2dcontour\": [{\"colorbar\": {\"outlinewidth\": 0, \"ticks\": \"\"}, \"colorscale\": [[0.0, \"#0d0887\"], [0.1111111111111111, \"#46039f\"], [0.2222222222222222, \"#7201a8\"], [0.3333333333333333, \"#9c179e\"], [0.4444444444444444, \"#bd3786\"], [0.5555555555555556, \"#d8576b\"], [0.6666666666666666, \"#ed7953\"], [0.7777777777777778, \"#fb9f3a\"], [0.8888888888888888, \"#fdca26\"], [1.0, \"#f0f921\"]], \"type\": \"histogram2dcontour\"}], \"mesh3d\": [{\"colorbar\": {\"outlinewidth\": 0, \"ticks\": \"\"}, \"type\": \"mesh3d\"}], \"parcoords\": [{\"line\": {\"colorbar\": {\"outlinewidth\": 0, \"ticks\": \"\"}}, \"type\": \"parcoords\"}], \"pie\": [{\"automargin\": true, \"type\": \"pie\"}], \"scatter\": [{\"marker\": {\"colorbar\": {\"outlinewidth\": 0, \"ticks\": \"\"}}, \"type\": \"scatter\"}], \"scatter3d\": [{\"line\": {\"colorbar\": {\"outlinewidth\": 0, \"ticks\": \"\"}}, \"marker\": {\"colorbar\": {\"outlinewidth\": 0, \"ticks\": \"\"}}, \"type\": \"scatter3d\"}], \"scattercarpet\": [{\"marker\": {\"colorbar\": {\"outlinewidth\": 0, \"ticks\": \"\"}}, \"type\": \"scattercarpet\"}], \"scattergeo\": [{\"marker\": {\"colorbar\": {\"outlinewidth\": 0, \"ticks\": \"\"}}, \"type\": \"scattergeo\"}], \"scattergl\": [{\"marker\": {\"colorbar\": {\"outlinewidth\": 0, \"ticks\": \"\"}}, \"type\": \"scattergl\"}], \"scattermapbox\": [{\"marker\": {\"colorbar\": {\"outlinewidth\": 0, \"ticks\": \"\"}}, \"type\": \"scattermapbox\"}], \"scatterpolar\": [{\"marker\": {\"colorbar\": {\"outlinewidth\": 0, \"ticks\": \"\"}}, \"type\": \"scatterpolar\"}], \"scatterpolargl\": [{\"marker\": {\"colorbar\": {\"outlinewidth\": 0, \"ticks\": \"\"}}, \"type\": \"scatterpolargl\"}], \"scatterternary\": [{\"marker\": {\"colorbar\": {\"outlinewidth\": 0, \"ticks\": \"\"}}, \"type\": \"scatterternary\"}], \"surface\": [{\"colorbar\": {\"outlinewidth\": 0, \"ticks\": \"\"}, \"colorscale\": [[0.0, \"#0d0887\"], [0.1111111111111111, \"#46039f\"], [0.2222222222222222, \"#7201a8\"], [0.3333333333333333, \"#9c179e\"], [0.4444444444444444, \"#bd3786\"], [0.5555555555555556, \"#d8576b\"], [0.6666666666666666, \"#ed7953\"], [0.7777777777777778, \"#fb9f3a\"], [0.8888888888888888, \"#fdca26\"], [1.0, \"#f0f921\"]], \"type\": \"surface\"}], \"table\": [{\"cells\": {\"fill\": {\"color\": \"#EBF0F8\"}, \"line\": {\"color\": \"white\"}}, \"header\": {\"fill\": {\"color\": \"#C8D4E3\"}, \"line\": {\"color\": \"white\"}}, \"type\": \"table\"}]}, \"layout\": {\"annotationdefaults\": {\"arrowcolor\": \"#2a3f5f\", \"arrowhead\": 0, \"arrowwidth\": 1}, \"coloraxis\": {\"colorbar\": {\"outlinewidth\": 0, \"ticks\": \"\"}}, \"colorscale\": {\"diverging\": [[0, \"#8e0152\"], [0.1, \"#c51b7d\"], [0.2, \"#de77ae\"], [0.3, \"#f1b6da\"], [0.4, \"#fde0ef\"], [0.5, \"#f7f7f7\"], [0.6, \"#e6f5d0\"], [0.7, \"#b8e186\"], [0.8, \"#7fbc41\"], [0.9, \"#4d9221\"], [1, \"#276419\"]], \"sequential\": [[0.0, \"#0d0887\"], [0.1111111111111111, \"#46039f\"], [0.2222222222222222, \"#7201a8\"], [0.3333333333333333, \"#9c179e\"], [0.4444444444444444, \"#bd3786\"], [0.5555555555555556, \"#d8576b\"], [0.6666666666666666, \"#ed7953\"], [0.7777777777777778, \"#fb9f3a\"], [0.8888888888888888, \"#fdca26\"], [1.0, \"#f0f921\"]], \"sequentialminus\": [[0.0, \"#0d0887\"], [0.1111111111111111, \"#46039f\"], [0.2222222222222222, \"#7201a8\"], [0.3333333333333333, \"#9c179e\"], [0.4444444444444444, \"#bd3786\"], [0.5555555555555556, \"#d8576b\"], [0.6666666666666666, \"#ed7953\"], [0.7777777777777778, \"#fb9f3a\"], [0.8888888888888888, \"#fdca26\"], [1.0, \"#f0f921\"]]}, \"colorway\": [\"#636efa\", \"#EF553B\", \"#00cc96\", \"#ab63fa\", \"#FFA15A\", \"#19d3f3\", \"#FF6692\", \"#B6E880\", \"#FF97FF\", \"#FECB52\"], \"font\": {\"color\": \"#2a3f5f\"}, \"geo\": {\"bgcolor\": \"white\", \"lakecolor\": \"white\", \"landcolor\": \"#E5ECF6\", \"showlakes\": true, \"showland\": true, \"subunitcolor\": \"white\"}, \"hoverlabel\": {\"align\": \"left\"}, \"hovermode\": \"closest\", \"mapbox\": {\"style\": \"light\"}, \"paper_bgcolor\": \"white\", \"plot_bgcolor\": \"#E5ECF6\", \"polar\": {\"angularaxis\": {\"gridcolor\": \"white\", \"linecolor\": \"white\", \"ticks\": \"\"}, \"bgcolor\": \"#E5ECF6\", \"radialaxis\": {\"gridcolor\": \"white\", \"linecolor\": \"white\", \"ticks\": \"\"}}, \"scene\": {\"xaxis\": {\"backgroundcolor\": \"#E5ECF6\", \"gridcolor\": \"white\", \"gridwidth\": 2, \"linecolor\": \"white\", \"showbackground\": true, \"ticks\": \"\", \"zerolinecolor\": \"white\"}, \"yaxis\": {\"backgroundcolor\": \"#E5ECF6\", \"gridcolor\": \"white\", \"gridwidth\": 2, \"linecolor\": \"white\", \"showbackground\": true, \"ticks\": \"\", \"zerolinecolor\": \"white\"}, \"zaxis\": {\"backgroundcolor\": \"#E5ECF6\", \"gridcolor\": \"white\", \"gridwidth\": 2, \"linecolor\": \"white\", \"showbackground\": true, \"ticks\": \"\", \"zerolinecolor\": \"white\"}}, \"shapedefaults\": {\"line\": {\"color\": \"#2a3f5f\"}}, \"ternary\": {\"aaxis\": {\"gridcolor\": \"white\", \"linecolor\": \"white\", \"ticks\": \"\"}, \"baxis\": {\"gridcolor\": \"white\", \"linecolor\": \"white\", \"ticks\": \"\"}, \"bgcolor\": \"#E5ECF6\", \"caxis\": {\"gridcolor\": \"white\", \"linecolor\": \"white\", \"ticks\": \"\"}}, \"title\": {\"x\": 0.05}, \"xaxis\": {\"automargin\": true, \"gridcolor\": \"white\", \"linecolor\": \"white\", \"ticks\": \"\", \"title\": {\"standoff\": 15}, \"zerolinecolor\": \"white\", \"zerolinewidth\": 2}, \"yaxis\": {\"automargin\": true, \"gridcolor\": \"white\", \"linecolor\": \"white\", \"ticks\": \"\", \"title\": {\"standoff\": 15}, \"zerolinecolor\": \"white\", \"zerolinewidth\": 2}}}, \"title\": {\"text\": \"Gain / Interactions initiated vs p (mwu)\"}, \"xaxis\": {\"title\": {\"text\": \"p\"}}, \"yaxis\": {\"title\": {\"text\": \"gain / interactions initiated\"}}},\n",
       "                        {\"responsive\": true}\n",
       "                    ).then(function(){\n",
       "                            \n",
       "var gd = document.getElementById('7442cdd2-8277-4627-a362-ddd3d9043170');\n",
       "var x = new MutationObserver(function (mutations, observer) {{\n",
       "        var display = window.getComputedStyle(gd).display;\n",
       "        if (!display || display === 'none') {{\n",
       "            console.log([gd, 'removed!']);\n",
       "            Plotly.purge(gd);\n",
       "            observer.disconnect();\n",
       "        }}\n",
       "}});\n",
       "\n",
       "// Listen for the removal of the full notebook cells\n",
       "var notebookContainer = gd.closest('#notebook-container');\n",
       "if (notebookContainer) {{\n",
       "    x.observe(notebookContainer, {childList: true});\n",
       "}}\n",
       "\n",
       "// Listen for the clearing of the current output cell\n",
       "var outputEl = gd.closest('.output');\n",
       "if (outputEl) {{\n",
       "    x.observe(outputEl, {childList: true});\n",
       "}}\n",
       "\n",
       "                        })\n",
       "                };\n",
       "                });\n",
       "            </script>\n",
       "        </div>"
      ]
     },
     "metadata": {},
     "output_type": "display_data"
    },
    {
     "data": {
      "application/vnd.plotly.v1+json": {
       "config": {
        "linkText": "Export to plot.ly",
        "plotlyServerURL": "https://plot.ly",
        "showLink": false
       },
       "data": [
        {
         "error_y": {
          "array": [
           0.031178929390787303,
           0.015513524885076683,
           0.020340116902769056,
           0.01372545494252362,
           0.010375554895049701,
           0.005190351074541017,
           0.009068570944397142,
           0.008950370614733702,
           0.005786154886507074,
           0.005581921482706752
          ],
          "type": "data",
          "visible": true
         },
         "hoverinfo": "skip",
         "marker": {
          "color": "rgb(31, 119, 180)"
         },
         "mode": "lines+markers",
         "name": "Gain / Interactions initiated (r=16)",
         "type": "scatter",
         "x": [
          "1.0",
          "0.9",
          "0.8",
          "0.7",
          "0.6",
          "0.5",
          "0.4",
          "0.3",
          "0.2",
          "0.1"
         ],
         "y": [
          0.1389714179887805,
          0.10030050057844361,
          0.09707422755856235,
          0.09333240245482112,
          0.0836331117747,
          0.0812993354834249,
          0.08217891058872386,
          0.07708514821030119,
          0.07479451635819565,
          0.06722983828627496
         ]
        },
        {
         "hoverinfo": "skip",
         "marker": {
          "color": "rgb(31, 119, 180)"
         },
         "mode": "markers",
         "name": "ratio per iter (r=16)",
         "opacity": 0.3,
         "type": "scatter",
         "x": [
          "1.0",
          "1.0",
          "1.0",
          "1.0",
          "1.0",
          "1.0",
          "1.0",
          "1.0",
          "1.0",
          "1.0",
          "0.9",
          "0.9",
          "0.9",
          "0.9",
          "0.9",
          "0.9",
          "0.9",
          "0.9",
          "0.9",
          "0.9",
          "0.8",
          "0.8",
          "0.8",
          "0.8",
          "0.8",
          "0.8",
          "0.8",
          "0.8",
          "0.8",
          "0.8",
          "0.7",
          "0.7",
          "0.7",
          "0.7",
          "0.7",
          "0.7",
          "0.7",
          "0.7",
          "0.7",
          "0.7",
          "0.6",
          "0.6",
          "0.6",
          "0.6",
          "0.6",
          "0.6",
          "0.6",
          "0.6",
          "0.6",
          "0.6",
          "0.5",
          "0.5",
          "0.5",
          "0.5",
          "0.5",
          "0.5",
          "0.5",
          "0.5",
          "0.5",
          "0.5",
          "0.4",
          "0.4",
          "0.4",
          "0.4",
          "0.4",
          "0.4",
          "0.4",
          "0.4",
          "0.4",
          "0.4",
          "0.3",
          "0.3",
          "0.3",
          "0.3",
          "0.3",
          "0.3",
          "0.3",
          "0.3",
          "0.3",
          "0.3",
          "0.2",
          "0.2",
          "0.2",
          "0.2",
          "0.2",
          "0.2",
          "0.2",
          "0.2",
          "0.2",
          "0.2",
          "0.1",
          "0.1",
          "0.1",
          "0.1",
          "0.1",
          "0.1",
          "0.1",
          "0.1",
          "0.1",
          "0.1"
         ],
         "y": [
          0.16372053872053874,
          0.1196256038647343,
          0.19918699186991867,
          0.16158967956720768,
          0.11751743626743627,
          0.1377204585537919,
          0.12487654320987654,
          0.13488372093023257,
          0.07788825476091395,
          0.1527049521431544,
          0.1277777777777778,
          0.12369954223886809,
          0.09849987974987974,
          0.07588657525933512,
          0.09780394834158274,
          0.09577294685990335,
          0.0873236331569665,
          0.11007495590828925,
          0.10050034506556246,
          0.085665401426271,
          0.1291517323775388,
          0.0862172388335179,
          0.10463578196136335,
          0.10582912457912458,
          0.13176347462061747,
          0.0739037888463176,
          0.08263766411914561,
          0.0830474333983106,
          0.10257573114715973,
          0.07098030570252793,
          0.09865089501104826,
          0.08715157963346369,
          0.0926948051948052,
          0.08961020946039673,
          0.07743495234131939,
          0.08589307517878947,
          0.12161286487129183,
          0.08009236053095703,
          0.08545264259549974,
          0.11473063973063975,
          0.08141063749677982,
          0.0868061748211561,
          0.09402177218269171,
          0.10973936899862827,
          0.07613137453562988,
          0.08139830848164183,
          0.0776494659453461,
          0.07324368018812463,
          0.07678473446991965,
          0.07914560062708212,
          0.07711740420073754,
          0.07435861773211172,
          0.08586379208984574,
          0.07779230800064134,
          0.08465755437977661,
          0.08428348547396167,
          0.07368574828414187,
          0.0814879950296617,
          0.08298219332355879,
          0.0907642563198119,
          0.06672012617705503,
          0.08829754123871769,
          0.07021795458009451,
          0.08221490945068183,
          0.08644997324772605,
          0.08978309029122038,
          0.08388801794151587,
          0.08679022481704474,
          0.07150808565537246,
          0.09591918248780991,
          0.08508355916892503,
          0.08714274408718854,
          0.0658709650957713,
          0.07127644104388291,
          0.08095348324514992,
          0.07028180520244012,
          0.0942859375348827,
          0.07712051734273956,
          0.0684760015117158,
          0.07036002787031594,
          0.07243471977268273,
          0.08994157848324516,
          0.07388579055245723,
          0.06976736964999875,
          0.07713022190634129,
          0.0709156810872497,
          0.07148672136594841,
          0.07881495048161716,
          0.0737795414462081,
          0.0697885888362079,
          0.07148526077097506,
          0.06446118129791599,
          0.07141754850088183,
          0.062466196355085254,
          0.056380560454634535,
          0.06620604900746743,
          0.07146927146927148,
          0.07577735603097924,
          0.07044801012192316,
          0.06218694885361551
         ]
        },
        {
         "error_y": {
          "array": [
           0.012663391723075663,
           0.009121276454682962,
           0.008440346163474987,
           0.010650007221477197,
           0.00932145748051906,
           0.010793424734517776,
           0.011143268235066605,
           0.008015554376006496,
           0.01720673195690038,
           0.01311418996059446
          ],
          "type": "data",
          "visible": true
         },
         "hoverinfo": "skip",
         "marker": {
          "color": "rgb(255, 127, 14)"
         },
         "mode": "lines+markers",
         "name": "Gain / Interactions initiated (r=8)",
         "type": "scatter",
         "x": [
          "1.0",
          "0.9",
          "0.8",
          "0.7",
          "0.6",
          "0.5",
          "0.4",
          "0.3",
          "0.2",
          "0.1"
         ],
         "y": [
          0.15351526792205522,
          0.15031773509733187,
          0.14733484547729134,
          0.14913439211343246,
          0.14221419521455292,
          0.14777507163965603,
          0.14313561050047796,
          0.1343361823470499,
          0.13296154351247885,
          0.12946596810984792
         ]
        },
        {
         "hoverinfo": "skip",
         "marker": {
          "color": "rgb(255, 127, 14)"
         },
         "mode": "markers",
         "name": "ratio per iter (r=8)",
         "opacity": 0.3,
         "type": "scatter",
         "x": [
          "1.0",
          "1.0",
          "1.0",
          "1.0",
          "1.0",
          "1.0",
          "1.0",
          "1.0",
          "1.0",
          "1.0",
          "0.9",
          "0.9",
          "0.9",
          "0.9",
          "0.9",
          "0.9",
          "0.9",
          "0.9",
          "0.9",
          "0.9",
          "0.8",
          "0.8",
          "0.8",
          "0.8",
          "0.8",
          "0.8",
          "0.8",
          "0.8",
          "0.8",
          "0.8",
          "0.7",
          "0.7",
          "0.7",
          "0.7",
          "0.7",
          "0.7",
          "0.7",
          "0.7",
          "0.7",
          "0.7",
          "0.6",
          "0.6",
          "0.6",
          "0.6",
          "0.6",
          "0.6",
          "0.6",
          "0.6",
          "0.6",
          "0.6",
          "0.5",
          "0.5",
          "0.5",
          "0.5",
          "0.5",
          "0.5",
          "0.5",
          "0.5",
          "0.5",
          "0.5",
          "0.4",
          "0.4",
          "0.4",
          "0.4",
          "0.4",
          "0.4",
          "0.4",
          "0.4",
          "0.4",
          "0.4",
          "0.3",
          "0.3",
          "0.3",
          "0.3",
          "0.3",
          "0.3",
          "0.3",
          "0.3",
          "0.3",
          "0.3",
          "0.2",
          "0.2",
          "0.2",
          "0.2",
          "0.2",
          "0.2",
          "0.2",
          "0.2",
          "0.2",
          "0.2",
          "0.1",
          "0.1",
          "0.1",
          "0.1",
          "0.1",
          "0.1",
          "0.1",
          "0.1",
          "0.1",
          "0.1"
         ],
         "y": [
          0.13650205761316872,
          0.1633127572016461,
          0.15014565126924678,
          0.1693747510951812,
          0.1460493827160494,
          0.15457641549595572,
          0.16720164609053498,
          0.1333543771043771,
          0.1690595089471494,
          0.1455761316872428,
          0.14631782945736432,
          0.16658343736995423,
          0.13992003367003367,
          0.15489711934156378,
          0.1559259259259259,
          0.144775828460039,
          0.13897211818560132,
          0.16397119341563787,
          0.14415954415954416,
          0.14765432098765433,
          0.15065120065120066,
          0.16121514773200166,
          0.1275925925925926,
          0.1456364410387399,
          0.15002104377104378,
          0.147979797979798,
          0.1475514403292181,
          0.14393004115226338,
          0.14273662551440328,
          0.1560341240116521,
          0.1285230352303523,
          0.13767489711934155,
          0.16183006535947714,
          0.14796965640339133,
          0.15015073212747632,
          0.16321265085310027,
          0.15459841864336243,
          0.14696054750402573,
          0.14074074074074075,
          0.1596831771530567,
          0.14669312169312168,
          0.1411065386374028,
          0.12319223985890652,
          0.13350168350168348,
          0.14931657848324514,
          0.1550632911392405,
          0.13335564480142792,
          0.14612200435729847,
          0.14156862745098037,
          0.15222222222222223,
          0.14201388888888888,
          0.1548696844993141,
          0.1251187084520418,
          0.15333333333333332,
          0.14695121951219514,
          0.141951566951567,
          0.16052631578947368,
          0.13945147679324896,
          0.16415180612711477,
          0.14938271604938272,
          0.16123136123136123,
          0.14427609427609428,
          0.1329307568438003,
          0.15312327252625757,
          0.14968701095461656,
          0.12975308641975308,
          0.13636136136136134,
          0.1572072072072072,
          0.12822944896115626,
          0.1385565052231719,
          0.1419459141681364,
          0.13202792956891318,
          0.13783068783068783,
          0.13070757324488666,
          0.1266602809706258,
          0.14547325102880657,
          0.12325440194292653,
          0.12587587587587587,
          0.13214483139856273,
          0.14744107744107743,
          0.1356902356902357,
          0.1102469135802469,
          0.10769789397240374,
          0.17080610021786494,
          0.13340740740740742,
          0.14629629629629626,
          0.13752620545073374,
          0.13743961352657003,
          0.12143874643874643,
          0.1290660225442834,
          0.13863168724279837,
          0.125,
          0.12369093231162195,
          0.14129629629629623,
          0.10354497354497354,
          0.15066872427983535,
          0.13639846743295017,
          0.12690058479532162,
          0.1345679012345679,
          0.11396011396011395
         ]
        }
       ],
       "layout": {
        "plot_bgcolor": "rgba(0,0,0,0)",
        "showlegend": true,
        "template": {
         "data": {
          "bar": [
           {
            "error_x": {
             "color": "#2a3f5f"
            },
            "error_y": {
             "color": "#2a3f5f"
            },
            "marker": {
             "line": {
              "color": "#E5ECF6",
              "width": 0.5
             }
            },
            "type": "bar"
           }
          ],
          "barpolar": [
           {
            "marker": {
             "line": {
              "color": "#E5ECF6",
              "width": 0.5
             }
            },
            "type": "barpolar"
           }
          ],
          "carpet": [
           {
            "aaxis": {
             "endlinecolor": "#2a3f5f",
             "gridcolor": "white",
             "linecolor": "white",
             "minorgridcolor": "white",
             "startlinecolor": "#2a3f5f"
            },
            "baxis": {
             "endlinecolor": "#2a3f5f",
             "gridcolor": "white",
             "linecolor": "white",
             "minorgridcolor": "white",
             "startlinecolor": "#2a3f5f"
            },
            "type": "carpet"
           }
          ],
          "choropleth": [
           {
            "colorbar": {
             "outlinewidth": 0,
             "ticks": ""
            },
            "type": "choropleth"
           }
          ],
          "contour": [
           {
            "colorbar": {
             "outlinewidth": 0,
             "ticks": ""
            },
            "colorscale": [
             [
              0,
              "#0d0887"
             ],
             [
              0.1111111111111111,
              "#46039f"
             ],
             [
              0.2222222222222222,
              "#7201a8"
             ],
             [
              0.3333333333333333,
              "#9c179e"
             ],
             [
              0.4444444444444444,
              "#bd3786"
             ],
             [
              0.5555555555555556,
              "#d8576b"
             ],
             [
              0.6666666666666666,
              "#ed7953"
             ],
             [
              0.7777777777777778,
              "#fb9f3a"
             ],
             [
              0.8888888888888888,
              "#fdca26"
             ],
             [
              1,
              "#f0f921"
             ]
            ],
            "type": "contour"
           }
          ],
          "contourcarpet": [
           {
            "colorbar": {
             "outlinewidth": 0,
             "ticks": ""
            },
            "type": "contourcarpet"
           }
          ],
          "heatmap": [
           {
            "colorbar": {
             "outlinewidth": 0,
             "ticks": ""
            },
            "colorscale": [
             [
              0,
              "#0d0887"
             ],
             [
              0.1111111111111111,
              "#46039f"
             ],
             [
              0.2222222222222222,
              "#7201a8"
             ],
             [
              0.3333333333333333,
              "#9c179e"
             ],
             [
              0.4444444444444444,
              "#bd3786"
             ],
             [
              0.5555555555555556,
              "#d8576b"
             ],
             [
              0.6666666666666666,
              "#ed7953"
             ],
             [
              0.7777777777777778,
              "#fb9f3a"
             ],
             [
              0.8888888888888888,
              "#fdca26"
             ],
             [
              1,
              "#f0f921"
             ]
            ],
            "type": "heatmap"
           }
          ],
          "heatmapgl": [
           {
            "colorbar": {
             "outlinewidth": 0,
             "ticks": ""
            },
            "colorscale": [
             [
              0,
              "#0d0887"
             ],
             [
              0.1111111111111111,
              "#46039f"
             ],
             [
              0.2222222222222222,
              "#7201a8"
             ],
             [
              0.3333333333333333,
              "#9c179e"
             ],
             [
              0.4444444444444444,
              "#bd3786"
             ],
             [
              0.5555555555555556,
              "#d8576b"
             ],
             [
              0.6666666666666666,
              "#ed7953"
             ],
             [
              0.7777777777777778,
              "#fb9f3a"
             ],
             [
              0.8888888888888888,
              "#fdca26"
             ],
             [
              1,
              "#f0f921"
             ]
            ],
            "type": "heatmapgl"
           }
          ],
          "histogram": [
           {
            "marker": {
             "colorbar": {
              "outlinewidth": 0,
              "ticks": ""
             }
            },
            "type": "histogram"
           }
          ],
          "histogram2d": [
           {
            "colorbar": {
             "outlinewidth": 0,
             "ticks": ""
            },
            "colorscale": [
             [
              0,
              "#0d0887"
             ],
             [
              0.1111111111111111,
              "#46039f"
             ],
             [
              0.2222222222222222,
              "#7201a8"
             ],
             [
              0.3333333333333333,
              "#9c179e"
             ],
             [
              0.4444444444444444,
              "#bd3786"
             ],
             [
              0.5555555555555556,
              "#d8576b"
             ],
             [
              0.6666666666666666,
              "#ed7953"
             ],
             [
              0.7777777777777778,
              "#fb9f3a"
             ],
             [
              0.8888888888888888,
              "#fdca26"
             ],
             [
              1,
              "#f0f921"
             ]
            ],
            "type": "histogram2d"
           }
          ],
          "histogram2dcontour": [
           {
            "colorbar": {
             "outlinewidth": 0,
             "ticks": ""
            },
            "colorscale": [
             [
              0,
              "#0d0887"
             ],
             [
              0.1111111111111111,
              "#46039f"
             ],
             [
              0.2222222222222222,
              "#7201a8"
             ],
             [
              0.3333333333333333,
              "#9c179e"
             ],
             [
              0.4444444444444444,
              "#bd3786"
             ],
             [
              0.5555555555555556,
              "#d8576b"
             ],
             [
              0.6666666666666666,
              "#ed7953"
             ],
             [
              0.7777777777777778,
              "#fb9f3a"
             ],
             [
              0.8888888888888888,
              "#fdca26"
             ],
             [
              1,
              "#f0f921"
             ]
            ],
            "type": "histogram2dcontour"
           }
          ],
          "mesh3d": [
           {
            "colorbar": {
             "outlinewidth": 0,
             "ticks": ""
            },
            "type": "mesh3d"
           }
          ],
          "parcoords": [
           {
            "line": {
             "colorbar": {
              "outlinewidth": 0,
              "ticks": ""
             }
            },
            "type": "parcoords"
           }
          ],
          "pie": [
           {
            "automargin": true,
            "type": "pie"
           }
          ],
          "scatter": [
           {
            "marker": {
             "colorbar": {
              "outlinewidth": 0,
              "ticks": ""
             }
            },
            "type": "scatter"
           }
          ],
          "scatter3d": [
           {
            "line": {
             "colorbar": {
              "outlinewidth": 0,
              "ticks": ""
             }
            },
            "marker": {
             "colorbar": {
              "outlinewidth": 0,
              "ticks": ""
             }
            },
            "type": "scatter3d"
           }
          ],
          "scattercarpet": [
           {
            "marker": {
             "colorbar": {
              "outlinewidth": 0,
              "ticks": ""
             }
            },
            "type": "scattercarpet"
           }
          ],
          "scattergeo": [
           {
            "marker": {
             "colorbar": {
              "outlinewidth": 0,
              "ticks": ""
             }
            },
            "type": "scattergeo"
           }
          ],
          "scattergl": [
           {
            "marker": {
             "colorbar": {
              "outlinewidth": 0,
              "ticks": ""
             }
            },
            "type": "scattergl"
           }
          ],
          "scattermapbox": [
           {
            "marker": {
             "colorbar": {
              "outlinewidth": 0,
              "ticks": ""
             }
            },
            "type": "scattermapbox"
           }
          ],
          "scatterpolar": [
           {
            "marker": {
             "colorbar": {
              "outlinewidth": 0,
              "ticks": ""
             }
            },
            "type": "scatterpolar"
           }
          ],
          "scatterpolargl": [
           {
            "marker": {
             "colorbar": {
              "outlinewidth": 0,
              "ticks": ""
             }
            },
            "type": "scatterpolargl"
           }
          ],
          "scatterternary": [
           {
            "marker": {
             "colorbar": {
              "outlinewidth": 0,
              "ticks": ""
             }
            },
            "type": "scatterternary"
           }
          ],
          "surface": [
           {
            "colorbar": {
             "outlinewidth": 0,
             "ticks": ""
            },
            "colorscale": [
             [
              0,
              "#0d0887"
             ],
             [
              0.1111111111111111,
              "#46039f"
             ],
             [
              0.2222222222222222,
              "#7201a8"
             ],
             [
              0.3333333333333333,
              "#9c179e"
             ],
             [
              0.4444444444444444,
              "#bd3786"
             ],
             [
              0.5555555555555556,
              "#d8576b"
             ],
             [
              0.6666666666666666,
              "#ed7953"
             ],
             [
              0.7777777777777778,
              "#fb9f3a"
             ],
             [
              0.8888888888888888,
              "#fdca26"
             ],
             [
              1,
              "#f0f921"
             ]
            ],
            "type": "surface"
           }
          ],
          "table": [
           {
            "cells": {
             "fill": {
              "color": "#EBF0F8"
             },
             "line": {
              "color": "white"
             }
            },
            "header": {
             "fill": {
              "color": "#C8D4E3"
             },
             "line": {
              "color": "white"
             }
            },
            "type": "table"
           }
          ]
         },
         "layout": {
          "annotationdefaults": {
           "arrowcolor": "#2a3f5f",
           "arrowhead": 0,
           "arrowwidth": 1
          },
          "coloraxis": {
           "colorbar": {
            "outlinewidth": 0,
            "ticks": ""
           }
          },
          "colorscale": {
           "diverging": [
            [
             0,
             "#8e0152"
            ],
            [
             0.1,
             "#c51b7d"
            ],
            [
             0.2,
             "#de77ae"
            ],
            [
             0.3,
             "#f1b6da"
            ],
            [
             0.4,
             "#fde0ef"
            ],
            [
             0.5,
             "#f7f7f7"
            ],
            [
             0.6,
             "#e6f5d0"
            ],
            [
             0.7,
             "#b8e186"
            ],
            [
             0.8,
             "#7fbc41"
            ],
            [
             0.9,
             "#4d9221"
            ],
            [
             1,
             "#276419"
            ]
           ],
           "sequential": [
            [
             0,
             "#0d0887"
            ],
            [
             0.1111111111111111,
             "#46039f"
            ],
            [
             0.2222222222222222,
             "#7201a8"
            ],
            [
             0.3333333333333333,
             "#9c179e"
            ],
            [
             0.4444444444444444,
             "#bd3786"
            ],
            [
             0.5555555555555556,
             "#d8576b"
            ],
            [
             0.6666666666666666,
             "#ed7953"
            ],
            [
             0.7777777777777778,
             "#fb9f3a"
            ],
            [
             0.8888888888888888,
             "#fdca26"
            ],
            [
             1,
             "#f0f921"
            ]
           ],
           "sequentialminus": [
            [
             0,
             "#0d0887"
            ],
            [
             0.1111111111111111,
             "#46039f"
            ],
            [
             0.2222222222222222,
             "#7201a8"
            ],
            [
             0.3333333333333333,
             "#9c179e"
            ],
            [
             0.4444444444444444,
             "#bd3786"
            ],
            [
             0.5555555555555556,
             "#d8576b"
            ],
            [
             0.6666666666666666,
             "#ed7953"
            ],
            [
             0.7777777777777778,
             "#fb9f3a"
            ],
            [
             0.8888888888888888,
             "#fdca26"
            ],
            [
             1,
             "#f0f921"
            ]
           ]
          },
          "colorway": [
           "#636efa",
           "#EF553B",
           "#00cc96",
           "#ab63fa",
           "#FFA15A",
           "#19d3f3",
           "#FF6692",
           "#B6E880",
           "#FF97FF",
           "#FECB52"
          ],
          "font": {
           "color": "#2a3f5f"
          },
          "geo": {
           "bgcolor": "white",
           "lakecolor": "white",
           "landcolor": "#E5ECF6",
           "showlakes": true,
           "showland": true,
           "subunitcolor": "white"
          },
          "hoverlabel": {
           "align": "left"
          },
          "hovermode": "closest",
          "mapbox": {
           "style": "light"
          },
          "paper_bgcolor": "white",
          "plot_bgcolor": "#E5ECF6",
          "polar": {
           "angularaxis": {
            "gridcolor": "white",
            "linecolor": "white",
            "ticks": ""
           },
           "bgcolor": "#E5ECF6",
           "radialaxis": {
            "gridcolor": "white",
            "linecolor": "white",
            "ticks": ""
           }
          },
          "scene": {
           "xaxis": {
            "backgroundcolor": "#E5ECF6",
            "gridcolor": "white",
            "gridwidth": 2,
            "linecolor": "white",
            "showbackground": true,
            "ticks": "",
            "zerolinecolor": "white"
           },
           "yaxis": {
            "backgroundcolor": "#E5ECF6",
            "gridcolor": "white",
            "gridwidth": 2,
            "linecolor": "white",
            "showbackground": true,
            "ticks": "",
            "zerolinecolor": "white"
           },
           "zaxis": {
            "backgroundcolor": "#E5ECF6",
            "gridcolor": "white",
            "gridwidth": 2,
            "linecolor": "white",
            "showbackground": true,
            "ticks": "",
            "zerolinecolor": "white"
           }
          },
          "shapedefaults": {
           "line": {
            "color": "#2a3f5f"
           }
          },
          "ternary": {
           "aaxis": {
            "gridcolor": "white",
            "linecolor": "white",
            "ticks": ""
           },
           "baxis": {
            "gridcolor": "white",
            "linecolor": "white",
            "ticks": ""
           },
           "bgcolor": "#E5ECF6",
           "caxis": {
            "gridcolor": "white",
            "linecolor": "white",
            "ticks": ""
           }
          },
          "title": {
           "x": 0.05
          },
          "xaxis": {
           "automargin": true,
           "gridcolor": "white",
           "linecolor": "white",
           "ticks": "",
           "title": {
            "standoff": 15
           },
           "zerolinecolor": "white",
           "zerolinewidth": 2
          },
          "yaxis": {
           "automargin": true,
           "gridcolor": "white",
           "linecolor": "white",
           "ticks": "",
           "title": {
            "standoff": 15
           },
           "zerolinecolor": "white",
           "zerolinewidth": 2
          }
         }
        },
        "title": {
         "text": "Gain / Interactions initiated vs p (se_mwu)"
        },
        "xaxis": {
         "title": {
          "text": "p"
         }
        },
        "yaxis": {
         "title": {
          "text": "gain / interactions initiated"
         }
        }
       }
      },
      "text/html": [
       "<div>\n",
       "        \n",
       "        \n",
       "            <div id=\"411f17bd-64cf-4502-bc09-205ad820b24d\" class=\"plotly-graph-div\" style=\"height:525px; width:100%;\"></div>\n",
       "            <script type=\"text/javascript\">\n",
       "                require([\"plotly\"], function(Plotly) {\n",
       "                    window.PLOTLYENV=window.PLOTLYENV || {};\n",
       "                    \n",
       "                if (document.getElementById(\"411f17bd-64cf-4502-bc09-205ad820b24d\")) {\n",
       "                    Plotly.newPlot(\n",
       "                        '411f17bd-64cf-4502-bc09-205ad820b24d',\n",
       "                        [{\"error_y\": {\"array\": [0.031178929390787303, 0.015513524885076683, 0.020340116902769056, 0.01372545494252362, 0.010375554895049701, 0.005190351074541017, 0.009068570944397142, 0.008950370614733702, 0.005786154886507074, 0.005581921482706752], \"type\": \"data\", \"visible\": true}, \"hoverinfo\": \"skip\", \"marker\": {\"color\": \"rgb(31, 119, 180)\"}, \"mode\": \"lines+markers\", \"name\": \"Gain / Interactions initiated (r=16)\", \"type\": \"scatter\", \"x\": [\"1.0\", \"0.9\", \"0.8\", \"0.7\", \"0.6\", \"0.5\", \"0.4\", \"0.3\", \"0.2\", \"0.1\"], \"y\": [0.1389714179887805, 0.10030050057844361, 0.09707422755856235, 0.09333240245482112, 0.0836331117747, 0.0812993354834249, 0.08217891058872386, 0.07708514821030119, 0.07479451635819565, 0.06722983828627496]}, {\"hoverinfo\": \"skip\", \"marker\": {\"color\": \"rgb(31, 119, 180)\"}, \"mode\": \"markers\", \"name\": \"ratio per iter (r=16)\", \"opacity\": 0.3, \"type\": \"scatter\", \"x\": [\"1.0\", \"1.0\", \"1.0\", \"1.0\", \"1.0\", \"1.0\", \"1.0\", \"1.0\", \"1.0\", \"1.0\", \"0.9\", \"0.9\", \"0.9\", \"0.9\", \"0.9\", \"0.9\", \"0.9\", \"0.9\", \"0.9\", \"0.9\", \"0.8\", \"0.8\", \"0.8\", \"0.8\", \"0.8\", \"0.8\", \"0.8\", \"0.8\", \"0.8\", \"0.8\", \"0.7\", \"0.7\", \"0.7\", \"0.7\", \"0.7\", \"0.7\", \"0.7\", \"0.7\", \"0.7\", \"0.7\", \"0.6\", \"0.6\", \"0.6\", \"0.6\", \"0.6\", \"0.6\", \"0.6\", \"0.6\", \"0.6\", \"0.6\", \"0.5\", \"0.5\", \"0.5\", \"0.5\", \"0.5\", \"0.5\", \"0.5\", \"0.5\", \"0.5\", \"0.5\", \"0.4\", \"0.4\", \"0.4\", \"0.4\", \"0.4\", \"0.4\", \"0.4\", \"0.4\", \"0.4\", \"0.4\", \"0.3\", \"0.3\", \"0.3\", \"0.3\", \"0.3\", \"0.3\", \"0.3\", \"0.3\", \"0.3\", \"0.3\", \"0.2\", \"0.2\", \"0.2\", \"0.2\", \"0.2\", \"0.2\", \"0.2\", \"0.2\", \"0.2\", \"0.2\", \"0.1\", \"0.1\", \"0.1\", \"0.1\", \"0.1\", \"0.1\", \"0.1\", \"0.1\", \"0.1\", \"0.1\"], \"y\": [0.16372053872053874, 0.1196256038647343, 0.19918699186991867, 0.16158967956720768, 0.11751743626743627, 0.1377204585537919, 0.12487654320987654, 0.13488372093023257, 0.07788825476091395, 0.1527049521431544, 0.1277777777777778, 0.12369954223886809, 0.09849987974987974, 0.07588657525933512, 0.09780394834158274, 0.09577294685990335, 0.0873236331569665, 0.11007495590828925, 0.10050034506556246, 0.085665401426271, 0.1291517323775388, 0.0862172388335179, 0.10463578196136335, 0.10582912457912458, 0.13176347462061747, 0.0739037888463176, 0.08263766411914561, 0.0830474333983106, 0.10257573114715973, 0.07098030570252793, 0.09865089501104826, 0.08715157963346369, 0.0926948051948052, 0.08961020946039673, 0.07743495234131939, 0.08589307517878947, 0.12161286487129183, 0.08009236053095703, 0.08545264259549974, 0.11473063973063975, 0.08141063749677982, 0.0868061748211561, 0.09402177218269171, 0.10973936899862827, 0.07613137453562988, 0.08139830848164183, 0.0776494659453461, 0.07324368018812463, 0.07678473446991965, 0.07914560062708212, 0.07711740420073754, 0.07435861773211172, 0.08586379208984574, 0.07779230800064134, 0.08465755437977661, 0.08428348547396167, 0.07368574828414187, 0.0814879950296617, 0.08298219332355879, 0.0907642563198119, 0.06672012617705503, 0.08829754123871769, 0.07021795458009451, 0.08221490945068183, 0.08644997324772605, 0.08978309029122038, 0.08388801794151587, 0.08679022481704474, 0.07150808565537246, 0.09591918248780991, 0.08508355916892503, 0.08714274408718854, 0.0658709650957713, 0.07127644104388291, 0.08095348324514992, 0.07028180520244012, 0.0942859375348827, 0.07712051734273956, 0.0684760015117158, 0.07036002787031594, 0.07243471977268273, 0.08994157848324516, 0.07388579055245723, 0.06976736964999875, 0.07713022190634129, 0.0709156810872497, 0.07148672136594841, 0.07881495048161716, 0.0737795414462081, 0.0697885888362079, 0.07148526077097506, 0.06446118129791599, 0.07141754850088183, 0.062466196355085254, 0.056380560454634535, 0.06620604900746743, 0.07146927146927148, 0.07577735603097924, 0.07044801012192316, 0.06218694885361551]}, {\"error_y\": {\"array\": [0.012663391723075663, 0.009121276454682962, 0.008440346163474987, 0.010650007221477197, 0.00932145748051906, 0.010793424734517776, 0.011143268235066605, 0.008015554376006496, 0.01720673195690038, 0.01311418996059446], \"type\": \"data\", \"visible\": true}, \"hoverinfo\": \"skip\", \"marker\": {\"color\": \"rgb(255, 127, 14)\"}, \"mode\": \"lines+markers\", \"name\": \"Gain / Interactions initiated (r=8)\", \"type\": \"scatter\", \"x\": [\"1.0\", \"0.9\", \"0.8\", \"0.7\", \"0.6\", \"0.5\", \"0.4\", \"0.3\", \"0.2\", \"0.1\"], \"y\": [0.15351526792205522, 0.15031773509733187, 0.14733484547729134, 0.14913439211343246, 0.14221419521455292, 0.14777507163965603, 0.14313561050047796, 0.1343361823470499, 0.13296154351247885, 0.12946596810984792]}, {\"hoverinfo\": \"skip\", \"marker\": {\"color\": \"rgb(255, 127, 14)\"}, \"mode\": \"markers\", \"name\": \"ratio per iter (r=8)\", \"opacity\": 0.3, \"type\": \"scatter\", \"x\": [\"1.0\", \"1.0\", \"1.0\", \"1.0\", \"1.0\", \"1.0\", \"1.0\", \"1.0\", \"1.0\", \"1.0\", \"0.9\", \"0.9\", \"0.9\", \"0.9\", \"0.9\", \"0.9\", \"0.9\", \"0.9\", \"0.9\", \"0.9\", \"0.8\", \"0.8\", \"0.8\", \"0.8\", \"0.8\", \"0.8\", \"0.8\", \"0.8\", \"0.8\", \"0.8\", \"0.7\", \"0.7\", \"0.7\", \"0.7\", \"0.7\", \"0.7\", \"0.7\", \"0.7\", \"0.7\", \"0.7\", \"0.6\", \"0.6\", \"0.6\", \"0.6\", \"0.6\", \"0.6\", \"0.6\", \"0.6\", \"0.6\", \"0.6\", \"0.5\", \"0.5\", \"0.5\", \"0.5\", \"0.5\", \"0.5\", \"0.5\", \"0.5\", \"0.5\", \"0.5\", \"0.4\", \"0.4\", \"0.4\", \"0.4\", \"0.4\", \"0.4\", \"0.4\", \"0.4\", \"0.4\", \"0.4\", \"0.3\", \"0.3\", \"0.3\", \"0.3\", \"0.3\", \"0.3\", \"0.3\", \"0.3\", \"0.3\", \"0.3\", \"0.2\", \"0.2\", \"0.2\", \"0.2\", \"0.2\", \"0.2\", \"0.2\", \"0.2\", \"0.2\", \"0.2\", \"0.1\", \"0.1\", \"0.1\", \"0.1\", \"0.1\", \"0.1\", \"0.1\", \"0.1\", \"0.1\", \"0.1\"], \"y\": [0.13650205761316872, 0.1633127572016461, 0.15014565126924678, 0.1693747510951812, 0.1460493827160494, 0.15457641549595572, 0.16720164609053498, 0.1333543771043771, 0.1690595089471494, 0.1455761316872428, 0.14631782945736432, 0.16658343736995423, 0.13992003367003367, 0.15489711934156378, 0.1559259259259259, 0.144775828460039, 0.13897211818560132, 0.16397119341563787, 0.14415954415954416, 0.14765432098765433, 0.15065120065120066, 0.16121514773200166, 0.1275925925925926, 0.1456364410387399, 0.15002104377104378, 0.147979797979798, 0.1475514403292181, 0.14393004115226338, 0.14273662551440328, 0.1560341240116521, 0.1285230352303523, 0.13767489711934155, 0.16183006535947714, 0.14796965640339133, 0.15015073212747632, 0.16321265085310027, 0.15459841864336243, 0.14696054750402573, 0.14074074074074075, 0.1596831771530567, 0.14669312169312168, 0.1411065386374028, 0.12319223985890652, 0.13350168350168348, 0.14931657848324514, 0.1550632911392405, 0.13335564480142792, 0.14612200435729847, 0.14156862745098037, 0.15222222222222223, 0.14201388888888888, 0.1548696844993141, 0.1251187084520418, 0.15333333333333332, 0.14695121951219514, 0.141951566951567, 0.16052631578947368, 0.13945147679324896, 0.16415180612711477, 0.14938271604938272, 0.16123136123136123, 0.14427609427609428, 0.1329307568438003, 0.15312327252625757, 0.14968701095461656, 0.12975308641975308, 0.13636136136136134, 0.1572072072072072, 0.12822944896115626, 0.1385565052231719, 0.1419459141681364, 0.13202792956891318, 0.13783068783068783, 0.13070757324488666, 0.1266602809706258, 0.14547325102880657, 0.12325440194292653, 0.12587587587587587, 0.13214483139856273, 0.14744107744107743, 0.1356902356902357, 0.1102469135802469, 0.10769789397240374, 0.17080610021786494, 0.13340740740740742, 0.14629629629629626, 0.13752620545073374, 0.13743961352657003, 0.12143874643874643, 0.1290660225442834, 0.13863168724279837, 0.125, 0.12369093231162195, 0.14129629629629623, 0.10354497354497354, 0.15066872427983535, 0.13639846743295017, 0.12690058479532162, 0.1345679012345679, 0.11396011396011395]}],\n",
       "                        {\"plot_bgcolor\": \"rgba(0,0,0,0)\", \"showlegend\": true, \"template\": {\"data\": {\"bar\": [{\"error_x\": {\"color\": \"#2a3f5f\"}, \"error_y\": {\"color\": \"#2a3f5f\"}, \"marker\": {\"line\": {\"color\": \"#E5ECF6\", \"width\": 0.5}}, \"type\": \"bar\"}], \"barpolar\": [{\"marker\": {\"line\": {\"color\": \"#E5ECF6\", \"width\": 0.5}}, \"type\": \"barpolar\"}], \"carpet\": [{\"aaxis\": {\"endlinecolor\": \"#2a3f5f\", \"gridcolor\": \"white\", \"linecolor\": \"white\", \"minorgridcolor\": \"white\", \"startlinecolor\": \"#2a3f5f\"}, \"baxis\": {\"endlinecolor\": \"#2a3f5f\", \"gridcolor\": \"white\", \"linecolor\": \"white\", \"minorgridcolor\": \"white\", \"startlinecolor\": \"#2a3f5f\"}, \"type\": \"carpet\"}], \"choropleth\": [{\"colorbar\": {\"outlinewidth\": 0, \"ticks\": \"\"}, \"type\": \"choropleth\"}], \"contour\": [{\"colorbar\": {\"outlinewidth\": 0, \"ticks\": \"\"}, \"colorscale\": [[0.0, \"#0d0887\"], [0.1111111111111111, \"#46039f\"], [0.2222222222222222, \"#7201a8\"], [0.3333333333333333, \"#9c179e\"], [0.4444444444444444, \"#bd3786\"], [0.5555555555555556, \"#d8576b\"], [0.6666666666666666, \"#ed7953\"], [0.7777777777777778, \"#fb9f3a\"], [0.8888888888888888, \"#fdca26\"], [1.0, \"#f0f921\"]], \"type\": \"contour\"}], \"contourcarpet\": [{\"colorbar\": {\"outlinewidth\": 0, \"ticks\": \"\"}, \"type\": \"contourcarpet\"}], \"heatmap\": [{\"colorbar\": {\"outlinewidth\": 0, \"ticks\": \"\"}, \"colorscale\": [[0.0, \"#0d0887\"], [0.1111111111111111, \"#46039f\"], [0.2222222222222222, \"#7201a8\"], [0.3333333333333333, \"#9c179e\"], [0.4444444444444444, \"#bd3786\"], [0.5555555555555556, \"#d8576b\"], [0.6666666666666666, \"#ed7953\"], [0.7777777777777778, \"#fb9f3a\"], [0.8888888888888888, \"#fdca26\"], [1.0, \"#f0f921\"]], \"type\": \"heatmap\"}], \"heatmapgl\": [{\"colorbar\": {\"outlinewidth\": 0, \"ticks\": \"\"}, \"colorscale\": [[0.0, \"#0d0887\"], [0.1111111111111111, \"#46039f\"], [0.2222222222222222, \"#7201a8\"], [0.3333333333333333, \"#9c179e\"], [0.4444444444444444, \"#bd3786\"], [0.5555555555555556, \"#d8576b\"], [0.6666666666666666, \"#ed7953\"], [0.7777777777777778, \"#fb9f3a\"], [0.8888888888888888, \"#fdca26\"], [1.0, \"#f0f921\"]], \"type\": \"heatmapgl\"}], \"histogram\": [{\"marker\": {\"colorbar\": {\"outlinewidth\": 0, \"ticks\": \"\"}}, \"type\": \"histogram\"}], \"histogram2d\": [{\"colorbar\": {\"outlinewidth\": 0, \"ticks\": \"\"}, \"colorscale\": [[0.0, \"#0d0887\"], [0.1111111111111111, \"#46039f\"], [0.2222222222222222, \"#7201a8\"], [0.3333333333333333, \"#9c179e\"], [0.4444444444444444, \"#bd3786\"], [0.5555555555555556, \"#d8576b\"], [0.6666666666666666, \"#ed7953\"], [0.7777777777777778, \"#fb9f3a\"], [0.8888888888888888, \"#fdca26\"], [1.0, \"#f0f921\"]], \"type\": \"histogram2d\"}], \"histogram2dcontour\": [{\"colorbar\": {\"outlinewidth\": 0, \"ticks\": \"\"}, \"colorscale\": [[0.0, \"#0d0887\"], [0.1111111111111111, \"#46039f\"], [0.2222222222222222, \"#7201a8\"], [0.3333333333333333, \"#9c179e\"], [0.4444444444444444, \"#bd3786\"], [0.5555555555555556, \"#d8576b\"], [0.6666666666666666, \"#ed7953\"], [0.7777777777777778, \"#fb9f3a\"], [0.8888888888888888, \"#fdca26\"], [1.0, \"#f0f921\"]], \"type\": \"histogram2dcontour\"}], \"mesh3d\": [{\"colorbar\": {\"outlinewidth\": 0, \"ticks\": \"\"}, \"type\": \"mesh3d\"}], \"parcoords\": [{\"line\": {\"colorbar\": {\"outlinewidth\": 0, \"ticks\": \"\"}}, \"type\": \"parcoords\"}], \"pie\": [{\"automargin\": true, \"type\": \"pie\"}], \"scatter\": [{\"marker\": {\"colorbar\": {\"outlinewidth\": 0, \"ticks\": \"\"}}, \"type\": \"scatter\"}], \"scatter3d\": [{\"line\": {\"colorbar\": {\"outlinewidth\": 0, \"ticks\": \"\"}}, \"marker\": {\"colorbar\": {\"outlinewidth\": 0, \"ticks\": \"\"}}, \"type\": \"scatter3d\"}], \"scattercarpet\": [{\"marker\": {\"colorbar\": {\"outlinewidth\": 0, \"ticks\": \"\"}}, \"type\": \"scattercarpet\"}], \"scattergeo\": [{\"marker\": {\"colorbar\": {\"outlinewidth\": 0, \"ticks\": \"\"}}, \"type\": \"scattergeo\"}], \"scattergl\": [{\"marker\": {\"colorbar\": {\"outlinewidth\": 0, \"ticks\": \"\"}}, \"type\": \"scattergl\"}], \"scattermapbox\": [{\"marker\": {\"colorbar\": {\"outlinewidth\": 0, \"ticks\": \"\"}}, \"type\": \"scattermapbox\"}], \"scatterpolar\": [{\"marker\": {\"colorbar\": {\"outlinewidth\": 0, \"ticks\": \"\"}}, \"type\": \"scatterpolar\"}], \"scatterpolargl\": [{\"marker\": {\"colorbar\": {\"outlinewidth\": 0, \"ticks\": \"\"}}, \"type\": \"scatterpolargl\"}], \"scatterternary\": [{\"marker\": {\"colorbar\": {\"outlinewidth\": 0, \"ticks\": \"\"}}, \"type\": \"scatterternary\"}], \"surface\": [{\"colorbar\": {\"outlinewidth\": 0, \"ticks\": \"\"}, \"colorscale\": [[0.0, \"#0d0887\"], [0.1111111111111111, \"#46039f\"], [0.2222222222222222, \"#7201a8\"], [0.3333333333333333, \"#9c179e\"], [0.4444444444444444, \"#bd3786\"], [0.5555555555555556, \"#d8576b\"], [0.6666666666666666, \"#ed7953\"], [0.7777777777777778, \"#fb9f3a\"], [0.8888888888888888, \"#fdca26\"], [1.0, \"#f0f921\"]], \"type\": \"surface\"}], \"table\": [{\"cells\": {\"fill\": {\"color\": \"#EBF0F8\"}, \"line\": {\"color\": \"white\"}}, \"header\": {\"fill\": {\"color\": \"#C8D4E3\"}, \"line\": {\"color\": \"white\"}}, \"type\": \"table\"}]}, \"layout\": {\"annotationdefaults\": {\"arrowcolor\": \"#2a3f5f\", \"arrowhead\": 0, \"arrowwidth\": 1}, \"coloraxis\": {\"colorbar\": {\"outlinewidth\": 0, \"ticks\": \"\"}}, \"colorscale\": {\"diverging\": [[0, \"#8e0152\"], [0.1, \"#c51b7d\"], [0.2, \"#de77ae\"], [0.3, \"#f1b6da\"], [0.4, \"#fde0ef\"], [0.5, \"#f7f7f7\"], [0.6, \"#e6f5d0\"], [0.7, \"#b8e186\"], [0.8, \"#7fbc41\"], [0.9, \"#4d9221\"], [1, \"#276419\"]], \"sequential\": [[0.0, \"#0d0887\"], [0.1111111111111111, \"#46039f\"], [0.2222222222222222, \"#7201a8\"], [0.3333333333333333, \"#9c179e\"], [0.4444444444444444, \"#bd3786\"], [0.5555555555555556, \"#d8576b\"], [0.6666666666666666, \"#ed7953\"], [0.7777777777777778, \"#fb9f3a\"], [0.8888888888888888, \"#fdca26\"], [1.0, \"#f0f921\"]], \"sequentialminus\": [[0.0, \"#0d0887\"], [0.1111111111111111, \"#46039f\"], [0.2222222222222222, \"#7201a8\"], [0.3333333333333333, \"#9c179e\"], [0.4444444444444444, \"#bd3786\"], [0.5555555555555556, \"#d8576b\"], [0.6666666666666666, \"#ed7953\"], [0.7777777777777778, \"#fb9f3a\"], [0.8888888888888888, \"#fdca26\"], [1.0, \"#f0f921\"]]}, \"colorway\": [\"#636efa\", \"#EF553B\", \"#00cc96\", \"#ab63fa\", \"#FFA15A\", \"#19d3f3\", \"#FF6692\", \"#B6E880\", \"#FF97FF\", \"#FECB52\"], \"font\": {\"color\": \"#2a3f5f\"}, \"geo\": {\"bgcolor\": \"white\", \"lakecolor\": \"white\", \"landcolor\": \"#E5ECF6\", \"showlakes\": true, \"showland\": true, \"subunitcolor\": \"white\"}, \"hoverlabel\": {\"align\": \"left\"}, \"hovermode\": \"closest\", \"mapbox\": {\"style\": \"light\"}, \"paper_bgcolor\": \"white\", \"plot_bgcolor\": \"#E5ECF6\", \"polar\": {\"angularaxis\": {\"gridcolor\": \"white\", \"linecolor\": \"white\", \"ticks\": \"\"}, \"bgcolor\": \"#E5ECF6\", \"radialaxis\": {\"gridcolor\": \"white\", \"linecolor\": \"white\", \"ticks\": \"\"}}, \"scene\": {\"xaxis\": {\"backgroundcolor\": \"#E5ECF6\", \"gridcolor\": \"white\", \"gridwidth\": 2, \"linecolor\": \"white\", \"showbackground\": true, \"ticks\": \"\", \"zerolinecolor\": \"white\"}, \"yaxis\": {\"backgroundcolor\": \"#E5ECF6\", \"gridcolor\": \"white\", \"gridwidth\": 2, \"linecolor\": \"white\", \"showbackground\": true, \"ticks\": \"\", \"zerolinecolor\": \"white\"}, \"zaxis\": {\"backgroundcolor\": \"#E5ECF6\", \"gridcolor\": \"white\", \"gridwidth\": 2, \"linecolor\": \"white\", \"showbackground\": true, \"ticks\": \"\", \"zerolinecolor\": \"white\"}}, \"shapedefaults\": {\"line\": {\"color\": \"#2a3f5f\"}}, \"ternary\": {\"aaxis\": {\"gridcolor\": \"white\", \"linecolor\": \"white\", \"ticks\": \"\"}, \"baxis\": {\"gridcolor\": \"white\", \"linecolor\": \"white\", \"ticks\": \"\"}, \"bgcolor\": \"#E5ECF6\", \"caxis\": {\"gridcolor\": \"white\", \"linecolor\": \"white\", \"ticks\": \"\"}}, \"title\": {\"x\": 0.05}, \"xaxis\": {\"automargin\": true, \"gridcolor\": \"white\", \"linecolor\": \"white\", \"ticks\": \"\", \"title\": {\"standoff\": 15}, \"zerolinecolor\": \"white\", \"zerolinewidth\": 2}, \"yaxis\": {\"automargin\": true, \"gridcolor\": \"white\", \"linecolor\": \"white\", \"ticks\": \"\", \"title\": {\"standoff\": 15}, \"zerolinecolor\": \"white\", \"zerolinewidth\": 2}}}, \"title\": {\"text\": \"Gain / Interactions initiated vs p (se_mwu)\"}, \"xaxis\": {\"title\": {\"text\": \"p\"}}, \"yaxis\": {\"title\": {\"text\": \"gain / interactions initiated\"}}},\n",
       "                        {\"responsive\": true}\n",
       "                    ).then(function(){\n",
       "                            \n",
       "var gd = document.getElementById('411f17bd-64cf-4502-bc09-205ad820b24d');\n",
       "var x = new MutationObserver(function (mutations, observer) {{\n",
       "        var display = window.getComputedStyle(gd).display;\n",
       "        if (!display || display === 'none') {{\n",
       "            console.log([gd, 'removed!']);\n",
       "            Plotly.purge(gd);\n",
       "            observer.disconnect();\n",
       "        }}\n",
       "}});\n",
       "\n",
       "// Listen for the removal of the full notebook cells\n",
       "var notebookContainer = gd.closest('#notebook-container');\n",
       "if (notebookContainer) {{\n",
       "    x.observe(notebookContainer, {childList: true});\n",
       "}}\n",
       "\n",
       "// Listen for the clearing of the current output cell\n",
       "var outputEl = gd.closest('.output');\n",
       "if (outputEl) {{\n",
       "    x.observe(outputEl, {childList: true});\n",
       "}}\n",
       "\n",
       "                        })\n",
       "                };\n",
       "                });\n",
       "            </script>\n",
       "        </div>"
      ]
     },
     "metadata": {},
     "output_type": "display_data"
    },
    {
     "data": {
      "application/vnd.plotly.v1+json": {
       "config": {
        "linkText": "Export to plot.ly",
        "plotlyServerURL": "https://plot.ly",
        "showLink": false
       },
       "data": [
        {
         "error_y": {
          "array": [
           0.03685323149646797,
           0.018252545523483595,
           0.014587736321595567,
           0.00988864930386192,
           0.006814085651774424,
           0.003238681503577311,
           0.005235987694354146,
           0.005479765758404523,
           0.005333924985018804,
           0.005355296013671725
          ],
          "type": "data",
          "visible": true
         },
         "hoverinfo": "skip",
         "marker": {
          "color": "rgb(31, 119, 180)"
         },
         "mode": "lines+markers",
         "name": "Gain / Interactions initiated (r=16)",
         "type": "scatter",
         "x": [
          "1.0",
          "0.9",
          "0.8",
          "0.7",
          "0.6",
          "0.5",
          "0.4",
          "0.3",
          "0.2",
          "0.1"
         ],
         "y": [
          0.13609998319312094,
          0.1072028544459708,
          0.09570146251907594,
          0.08820076738274113,
          0.0819435130261272,
          0.08091480907177978,
          0.08252173967566455,
          0.0793481922839923,
          0.07164006690859334,
          0.06897953924627061
         ]
        },
        {
         "hoverinfo": "skip",
         "marker": {
          "color": "rgb(31, 119, 180)"
         },
         "mode": "markers",
         "name": "ratio per iter (r=16)",
         "opacity": 0.3,
         "type": "scatter",
         "x": [
          "1.0",
          "1.0",
          "1.0",
          "1.0",
          "1.0",
          "1.0",
          "1.0",
          "1.0",
          "1.0",
          "1.0",
          "0.9",
          "0.9",
          "0.9",
          "0.9",
          "0.9",
          "0.9",
          "0.9",
          "0.9",
          "0.9",
          "0.9",
          "0.8",
          "0.8",
          "0.8",
          "0.8",
          "0.8",
          "0.8",
          "0.8",
          "0.8",
          "0.8",
          "0.8",
          "0.7",
          "0.7",
          "0.7",
          "0.7",
          "0.7",
          "0.7",
          "0.7",
          "0.7",
          "0.7",
          "0.7",
          "0.6",
          "0.6",
          "0.6",
          "0.6",
          "0.6",
          "0.6",
          "0.6",
          "0.6",
          "0.6",
          "0.6",
          "0.5",
          "0.5",
          "0.5",
          "0.5",
          "0.5",
          "0.5",
          "0.5",
          "0.5",
          "0.5",
          "0.5",
          "0.4",
          "0.4",
          "0.4",
          "0.4",
          "0.4",
          "0.4",
          "0.4",
          "0.4",
          "0.4",
          "0.4",
          "0.3",
          "0.3",
          "0.3",
          "0.3",
          "0.3",
          "0.3",
          "0.3",
          "0.3",
          "0.3",
          "0.3",
          "0.2",
          "0.2",
          "0.2",
          "0.2",
          "0.2",
          "0.2",
          "0.2",
          "0.2",
          "0.2",
          "0.2",
          "0.1",
          "0.1",
          "0.1",
          "0.1",
          "0.1",
          "0.1",
          "0.1",
          "0.1",
          "0.1",
          "0.1"
         ],
         "y": [
          0.13068181818181818,
          0.11159420289855071,
          0.1918786256135654,
          0.19850187265917604,
          0.15814393939393942,
          0.10449735449735449,
          0.09349794238683129,
          0.14760981912144702,
          0.08601747815230963,
          0.1385767790262172,
          0.1434108527131783,
          0.09338327091136081,
          0.12878787878787878,
          0.0854042214257268,
          0.1016726403823178,
          0.11980676328502415,
          0.09104938271604938,
          0.08725749559082893,
          0.10772946859903382,
          0.11352657004830916,
          0.09772998805256869,
          0.10727969348659,
          0.11085271317829455,
          0.1080808080808081,
          0.09201697773126344,
          0.07934531411542904,
          0.07990152851263964,
          0.1202923976608187,
          0.07722542008256295,
          0.08428978428978429,
          0.11136653895274584,
          0.08975730388773867,
          0.08966450216450217,
          0.09575530586766544,
          0.07181350692586648,
          0.08863887435316008,
          0.0868557160691992,
          0.08292806484295845,
          0.08567939996511426,
          0.0795484607984608,
          0.07913059163059163,
          0.08629689079127281,
          0.08034878063613697,
          0.09497027892089621,
          0.0855397951142632,
          0.09049122174122175,
          0.07789915383548343,
          0.07733056185437139,
          0.07196342305037957,
          0.07546443268665491,
          0.08109668109668111,
          0.07895082236167507,
          0.08524055617078874,
          0.07857604282022887,
          0.07827160493827161,
          0.08151636723065295,
          0.07571272953625896,
          0.08506493506493507,
          0.07911785084404134,
          0.08560050065426408,
          0.07454304954304955,
          0.0855713677552758,
          0.07517146776406035,
          0.07926169190537007,
          0.089246632996633,
          0.08172522442185363,
          0.08073882832918976,
          0.08695398055863171,
          0.08133208839091191,
          0.09067306509166974,
          0.07833800186741363,
          0.08179232804232804,
          0.069187675070028,
          0.08052479389688691,
          0.07954994581500606,
          0.08276731881383044,
          0.09091384153112547,
          0.08077816492450639,
          0.0747092179581631,
          0.07492063492063492,
          0.06959183673469387,
          0.07873851294903926,
          0.06959325396825397,
          0.0658823310231761,
          0.07928310604366942,
          0.06865671641791044,
          0.0687245207737011,
          0.07548500881834215,
          0.07722144413320882,
          0.06322393822393821,
          0.06816783560969607,
          0.06527147896195516,
          0.0779320987654321,
          0.06876055386693684,
          0.0604035929617325,
          0.07117419617419617,
          0.06427238423362455,
          0.07289829512051735,
          0.07645502645502644,
          0.06445993031358883
         ]
        },
        {
         "error_y": {
          "array": [
           0.011205033885015087,
           0.00862208801621762,
           0.00747469034312833,
           0.008693106610323218,
           0.012729944768682186,
           0.006678691985329352,
           0.010630496842063871,
           0.012294728611376595,
           0.00837034069622219,
           0.01477213915443943
          ],
          "type": "data",
          "visible": true
         },
         "hoverinfo": "skip",
         "marker": {
          "color": "rgb(255, 127, 14)"
         },
         "mode": "lines+markers",
         "name": "Gain / Interactions initiated (r=8)",
         "type": "scatter",
         "x": [
          "1.0",
          "0.9",
          "0.8",
          "0.7",
          "0.6",
          "0.5",
          "0.4",
          "0.3",
          "0.2",
          "0.1"
         ],
         "y": [
          0.16852842609708055,
          0.16546248062034302,
          0.15951837010424985,
          0.1719081766934366,
          0.1673891750020268,
          0.1563511402331158,
          0.15450922026631325,
          0.14910551588168103,
          0.13908076412024545,
          0.13171482588762
         ]
        },
        {
         "hoverinfo": "skip",
         "marker": {
          "color": "rgb(255, 127, 14)"
         },
         "mode": "markers",
         "name": "ratio per iter (r=8)",
         "opacity": 0.3,
         "type": "scatter",
         "x": [
          "1.0",
          "1.0",
          "1.0",
          "1.0",
          "1.0",
          "1.0",
          "1.0",
          "1.0",
          "1.0",
          "1.0",
          "0.9",
          "0.9",
          "0.9",
          "0.9",
          "0.9",
          "0.9",
          "0.9",
          "0.9",
          "0.9",
          "0.9",
          "0.8",
          "0.8",
          "0.8",
          "0.8",
          "0.8",
          "0.8",
          "0.8",
          "0.8",
          "0.8",
          "0.8",
          "0.7",
          "0.7",
          "0.7",
          "0.7",
          "0.7",
          "0.7",
          "0.7",
          "0.7",
          "0.7",
          "0.7",
          "0.6",
          "0.6",
          "0.6",
          "0.6",
          "0.6",
          "0.6",
          "0.6",
          "0.6",
          "0.6",
          "0.6",
          "0.5",
          "0.5",
          "0.5",
          "0.5",
          "0.5",
          "0.5",
          "0.5",
          "0.5",
          "0.5",
          "0.5",
          "0.4",
          "0.4",
          "0.4",
          "0.4",
          "0.4",
          "0.4",
          "0.4",
          "0.4",
          "0.4",
          "0.4",
          "0.3",
          "0.3",
          "0.3",
          "0.3",
          "0.3",
          "0.3",
          "0.3",
          "0.3",
          "0.3",
          "0.3",
          "0.2",
          "0.2",
          "0.2",
          "0.2",
          "0.2",
          "0.2",
          "0.2",
          "0.2",
          "0.2",
          "0.2",
          "0.1",
          "0.1",
          "0.1",
          "0.1",
          "0.1",
          "0.1",
          "0.1",
          "0.1",
          "0.1",
          "0.1"
         ],
         "y": [
          0.1748971193415638,
          0.17750420875420875,
          0.16687473990844778,
          0.18035855003940113,
          0.1602483164983165,
          0.17350589225589227,
          0.18352059925093636,
          0.14474244359301833,
          0.15883838383838383,
          0.1647940074906367,
          0.15762273901808788,
          0.17185592185592186,
          0.17094508301404854,
          0.16508838383838384,
          0.1692675821889305,
          0.1724412584627638,
          0.14983164983164984,
          0.17242798353909466,
          0.1734839234839235,
          0.15166028097062578,
          0.16337448559670784,
          0.16375364128173117,
          0.14804858622062925,
          0.15977605512489235,
          0.16666666666666669,
          0.16675381263616557,
          0.1479468599033816,
          0.15709876543209877,
          0.15229885057471265,
          0.1694659776055125,
          0.16498316498316498,
          0.1808216262239251,
          0.16881998277347116,
          0.1614858906525573,
          0.18028455284552847,
          0.1873219373219373,
          0.1614987080103359,
          0.17915590008613266,
          0.16721781305114639,
          0.16749219098616688,
          0.18794091710758382,
          0.15808491418247514,
          0.15138331102186525,
          0.17067183462532298,
          0.15068342151675482,
          0.1672312556458898,
          0.16701828410689173,
          0.16765873015873012,
          0.16255144032921812,
          0.19066764132553604,
          0.15536315536315531,
          0.15898825654923218,
          0.15,
          0.15557992202729046,
          0.15896921017402946,
          0.14494741655235482,
          0.16115799343647444,
          0.15029358626919603,
          0.17043895747599452,
          0.15777290448343076,
          0.1648662551440329,
          0.16456228956228955,
          0.14291465378421903,
          0.15781625781625783,
          0.15363060428849903,
          0.128003003003003,
          0.15930999492643327,
          0.15616362631288006,
          0.16096866096866097,
          0.15685685685685685,
          0.15250544662309365,
          0.15081369248035917,
          0.15097300690521032,
          0.12866224433388612,
          0.15307646356033452,
          0.13325281803542674,
          0.15012143290831814,
          0.17167577413479052,
          0.13780864197530862,
          0.1621656378600823,
          0.13928289992119777,
          0.137037037037037,
          0.12962962962962962,
          0.15338164251207728,
          0.12446167097329891,
          0.1525252525252525,
          0.13681027966742254,
          0.14010721247563349,
          0.1397119341563786,
          0.13786008230452673,
          0.13425925925925927,
          0.14166666666666664,
          0.13212250712250712,
          0.11284722222222224,
          0.14798474945533768,
          0.146011396011396,
          0.14506172839506173,
          0.1280864197530864,
          0.1299019607843137,
          0.09920634920634921
         ]
        }
       ],
       "layout": {
        "plot_bgcolor": "rgba(0,0,0,0)",
        "showlegend": true,
        "template": {
         "data": {
          "bar": [
           {
            "error_x": {
             "color": "#2a3f5f"
            },
            "error_y": {
             "color": "#2a3f5f"
            },
            "marker": {
             "line": {
              "color": "#E5ECF6",
              "width": 0.5
             }
            },
            "type": "bar"
           }
          ],
          "barpolar": [
           {
            "marker": {
             "line": {
              "color": "#E5ECF6",
              "width": 0.5
             }
            },
            "type": "barpolar"
           }
          ],
          "carpet": [
           {
            "aaxis": {
             "endlinecolor": "#2a3f5f",
             "gridcolor": "white",
             "linecolor": "white",
             "minorgridcolor": "white",
             "startlinecolor": "#2a3f5f"
            },
            "baxis": {
             "endlinecolor": "#2a3f5f",
             "gridcolor": "white",
             "linecolor": "white",
             "minorgridcolor": "white",
             "startlinecolor": "#2a3f5f"
            },
            "type": "carpet"
           }
          ],
          "choropleth": [
           {
            "colorbar": {
             "outlinewidth": 0,
             "ticks": ""
            },
            "type": "choropleth"
           }
          ],
          "contour": [
           {
            "colorbar": {
             "outlinewidth": 0,
             "ticks": ""
            },
            "colorscale": [
             [
              0,
              "#0d0887"
             ],
             [
              0.1111111111111111,
              "#46039f"
             ],
             [
              0.2222222222222222,
              "#7201a8"
             ],
             [
              0.3333333333333333,
              "#9c179e"
             ],
             [
              0.4444444444444444,
              "#bd3786"
             ],
             [
              0.5555555555555556,
              "#d8576b"
             ],
             [
              0.6666666666666666,
              "#ed7953"
             ],
             [
              0.7777777777777778,
              "#fb9f3a"
             ],
             [
              0.8888888888888888,
              "#fdca26"
             ],
             [
              1,
              "#f0f921"
             ]
            ],
            "type": "contour"
           }
          ],
          "contourcarpet": [
           {
            "colorbar": {
             "outlinewidth": 0,
             "ticks": ""
            },
            "type": "contourcarpet"
           }
          ],
          "heatmap": [
           {
            "colorbar": {
             "outlinewidth": 0,
             "ticks": ""
            },
            "colorscale": [
             [
              0,
              "#0d0887"
             ],
             [
              0.1111111111111111,
              "#46039f"
             ],
             [
              0.2222222222222222,
              "#7201a8"
             ],
             [
              0.3333333333333333,
              "#9c179e"
             ],
             [
              0.4444444444444444,
              "#bd3786"
             ],
             [
              0.5555555555555556,
              "#d8576b"
             ],
             [
              0.6666666666666666,
              "#ed7953"
             ],
             [
              0.7777777777777778,
              "#fb9f3a"
             ],
             [
              0.8888888888888888,
              "#fdca26"
             ],
             [
              1,
              "#f0f921"
             ]
            ],
            "type": "heatmap"
           }
          ],
          "heatmapgl": [
           {
            "colorbar": {
             "outlinewidth": 0,
             "ticks": ""
            },
            "colorscale": [
             [
              0,
              "#0d0887"
             ],
             [
              0.1111111111111111,
              "#46039f"
             ],
             [
              0.2222222222222222,
              "#7201a8"
             ],
             [
              0.3333333333333333,
              "#9c179e"
             ],
             [
              0.4444444444444444,
              "#bd3786"
             ],
             [
              0.5555555555555556,
              "#d8576b"
             ],
             [
              0.6666666666666666,
              "#ed7953"
             ],
             [
              0.7777777777777778,
              "#fb9f3a"
             ],
             [
              0.8888888888888888,
              "#fdca26"
             ],
             [
              1,
              "#f0f921"
             ]
            ],
            "type": "heatmapgl"
           }
          ],
          "histogram": [
           {
            "marker": {
             "colorbar": {
              "outlinewidth": 0,
              "ticks": ""
             }
            },
            "type": "histogram"
           }
          ],
          "histogram2d": [
           {
            "colorbar": {
             "outlinewidth": 0,
             "ticks": ""
            },
            "colorscale": [
             [
              0,
              "#0d0887"
             ],
             [
              0.1111111111111111,
              "#46039f"
             ],
             [
              0.2222222222222222,
              "#7201a8"
             ],
             [
              0.3333333333333333,
              "#9c179e"
             ],
             [
              0.4444444444444444,
              "#bd3786"
             ],
             [
              0.5555555555555556,
              "#d8576b"
             ],
             [
              0.6666666666666666,
              "#ed7953"
             ],
             [
              0.7777777777777778,
              "#fb9f3a"
             ],
             [
              0.8888888888888888,
              "#fdca26"
             ],
             [
              1,
              "#f0f921"
             ]
            ],
            "type": "histogram2d"
           }
          ],
          "histogram2dcontour": [
           {
            "colorbar": {
             "outlinewidth": 0,
             "ticks": ""
            },
            "colorscale": [
             [
              0,
              "#0d0887"
             ],
             [
              0.1111111111111111,
              "#46039f"
             ],
             [
              0.2222222222222222,
              "#7201a8"
             ],
             [
              0.3333333333333333,
              "#9c179e"
             ],
             [
              0.4444444444444444,
              "#bd3786"
             ],
             [
              0.5555555555555556,
              "#d8576b"
             ],
             [
              0.6666666666666666,
              "#ed7953"
             ],
             [
              0.7777777777777778,
              "#fb9f3a"
             ],
             [
              0.8888888888888888,
              "#fdca26"
             ],
             [
              1,
              "#f0f921"
             ]
            ],
            "type": "histogram2dcontour"
           }
          ],
          "mesh3d": [
           {
            "colorbar": {
             "outlinewidth": 0,
             "ticks": ""
            },
            "type": "mesh3d"
           }
          ],
          "parcoords": [
           {
            "line": {
             "colorbar": {
              "outlinewidth": 0,
              "ticks": ""
             }
            },
            "type": "parcoords"
           }
          ],
          "pie": [
           {
            "automargin": true,
            "type": "pie"
           }
          ],
          "scatter": [
           {
            "marker": {
             "colorbar": {
              "outlinewidth": 0,
              "ticks": ""
             }
            },
            "type": "scatter"
           }
          ],
          "scatter3d": [
           {
            "line": {
             "colorbar": {
              "outlinewidth": 0,
              "ticks": ""
             }
            },
            "marker": {
             "colorbar": {
              "outlinewidth": 0,
              "ticks": ""
             }
            },
            "type": "scatter3d"
           }
          ],
          "scattercarpet": [
           {
            "marker": {
             "colorbar": {
              "outlinewidth": 0,
              "ticks": ""
             }
            },
            "type": "scattercarpet"
           }
          ],
          "scattergeo": [
           {
            "marker": {
             "colorbar": {
              "outlinewidth": 0,
              "ticks": ""
             }
            },
            "type": "scattergeo"
           }
          ],
          "scattergl": [
           {
            "marker": {
             "colorbar": {
              "outlinewidth": 0,
              "ticks": ""
             }
            },
            "type": "scattergl"
           }
          ],
          "scattermapbox": [
           {
            "marker": {
             "colorbar": {
              "outlinewidth": 0,
              "ticks": ""
             }
            },
            "type": "scattermapbox"
           }
          ],
          "scatterpolar": [
           {
            "marker": {
             "colorbar": {
              "outlinewidth": 0,
              "ticks": ""
             }
            },
            "type": "scatterpolar"
           }
          ],
          "scatterpolargl": [
           {
            "marker": {
             "colorbar": {
              "outlinewidth": 0,
              "ticks": ""
             }
            },
            "type": "scatterpolargl"
           }
          ],
          "scatterternary": [
           {
            "marker": {
             "colorbar": {
              "outlinewidth": 0,
              "ticks": ""
             }
            },
            "type": "scatterternary"
           }
          ],
          "surface": [
           {
            "colorbar": {
             "outlinewidth": 0,
             "ticks": ""
            },
            "colorscale": [
             [
              0,
              "#0d0887"
             ],
             [
              0.1111111111111111,
              "#46039f"
             ],
             [
              0.2222222222222222,
              "#7201a8"
             ],
             [
              0.3333333333333333,
              "#9c179e"
             ],
             [
              0.4444444444444444,
              "#bd3786"
             ],
             [
              0.5555555555555556,
              "#d8576b"
             ],
             [
              0.6666666666666666,
              "#ed7953"
             ],
             [
              0.7777777777777778,
              "#fb9f3a"
             ],
             [
              0.8888888888888888,
              "#fdca26"
             ],
             [
              1,
              "#f0f921"
             ]
            ],
            "type": "surface"
           }
          ],
          "table": [
           {
            "cells": {
             "fill": {
              "color": "#EBF0F8"
             },
             "line": {
              "color": "white"
             }
            },
            "header": {
             "fill": {
              "color": "#C8D4E3"
             },
             "line": {
              "color": "white"
             }
            },
            "type": "table"
           }
          ]
         },
         "layout": {
          "annotationdefaults": {
           "arrowcolor": "#2a3f5f",
           "arrowhead": 0,
           "arrowwidth": 1
          },
          "coloraxis": {
           "colorbar": {
            "outlinewidth": 0,
            "ticks": ""
           }
          },
          "colorscale": {
           "diverging": [
            [
             0,
             "#8e0152"
            ],
            [
             0.1,
             "#c51b7d"
            ],
            [
             0.2,
             "#de77ae"
            ],
            [
             0.3,
             "#f1b6da"
            ],
            [
             0.4,
             "#fde0ef"
            ],
            [
             0.5,
             "#f7f7f7"
            ],
            [
             0.6,
             "#e6f5d0"
            ],
            [
             0.7,
             "#b8e186"
            ],
            [
             0.8,
             "#7fbc41"
            ],
            [
             0.9,
             "#4d9221"
            ],
            [
             1,
             "#276419"
            ]
           ],
           "sequential": [
            [
             0,
             "#0d0887"
            ],
            [
             0.1111111111111111,
             "#46039f"
            ],
            [
             0.2222222222222222,
             "#7201a8"
            ],
            [
             0.3333333333333333,
             "#9c179e"
            ],
            [
             0.4444444444444444,
             "#bd3786"
            ],
            [
             0.5555555555555556,
             "#d8576b"
            ],
            [
             0.6666666666666666,
             "#ed7953"
            ],
            [
             0.7777777777777778,
             "#fb9f3a"
            ],
            [
             0.8888888888888888,
             "#fdca26"
            ],
            [
             1,
             "#f0f921"
            ]
           ],
           "sequentialminus": [
            [
             0,
             "#0d0887"
            ],
            [
             0.1111111111111111,
             "#46039f"
            ],
            [
             0.2222222222222222,
             "#7201a8"
            ],
            [
             0.3333333333333333,
             "#9c179e"
            ],
            [
             0.4444444444444444,
             "#bd3786"
            ],
            [
             0.5555555555555556,
             "#d8576b"
            ],
            [
             0.6666666666666666,
             "#ed7953"
            ],
            [
             0.7777777777777778,
             "#fb9f3a"
            ],
            [
             0.8888888888888888,
             "#fdca26"
            ],
            [
             1,
             "#f0f921"
            ]
           ]
          },
          "colorway": [
           "#636efa",
           "#EF553B",
           "#00cc96",
           "#ab63fa",
           "#FFA15A",
           "#19d3f3",
           "#FF6692",
           "#B6E880",
           "#FF97FF",
           "#FECB52"
          ],
          "font": {
           "color": "#2a3f5f"
          },
          "geo": {
           "bgcolor": "white",
           "lakecolor": "white",
           "landcolor": "#E5ECF6",
           "showlakes": true,
           "showland": true,
           "subunitcolor": "white"
          },
          "hoverlabel": {
           "align": "left"
          },
          "hovermode": "closest",
          "mapbox": {
           "style": "light"
          },
          "paper_bgcolor": "white",
          "plot_bgcolor": "#E5ECF6",
          "polar": {
           "angularaxis": {
            "gridcolor": "white",
            "linecolor": "white",
            "ticks": ""
           },
           "bgcolor": "#E5ECF6",
           "radialaxis": {
            "gridcolor": "white",
            "linecolor": "white",
            "ticks": ""
           }
          },
          "scene": {
           "xaxis": {
            "backgroundcolor": "#E5ECF6",
            "gridcolor": "white",
            "gridwidth": 2,
            "linecolor": "white",
            "showbackground": true,
            "ticks": "",
            "zerolinecolor": "white"
           },
           "yaxis": {
            "backgroundcolor": "#E5ECF6",
            "gridcolor": "white",
            "gridwidth": 2,
            "linecolor": "white",
            "showbackground": true,
            "ticks": "",
            "zerolinecolor": "white"
           },
           "zaxis": {
            "backgroundcolor": "#E5ECF6",
            "gridcolor": "white",
            "gridwidth": 2,
            "linecolor": "white",
            "showbackground": true,
            "ticks": "",
            "zerolinecolor": "white"
           }
          },
          "shapedefaults": {
           "line": {
            "color": "#2a3f5f"
           }
          },
          "ternary": {
           "aaxis": {
            "gridcolor": "white",
            "linecolor": "white",
            "ticks": ""
           },
           "baxis": {
            "gridcolor": "white",
            "linecolor": "white",
            "ticks": ""
           },
           "bgcolor": "#E5ECF6",
           "caxis": {
            "gridcolor": "white",
            "linecolor": "white",
            "ticks": ""
           }
          },
          "title": {
           "x": 0.05
          },
          "xaxis": {
           "automargin": true,
           "gridcolor": "white",
           "linecolor": "white",
           "ticks": "",
           "title": {
            "standoff": 15
           },
           "zerolinecolor": "white",
           "zerolinewidth": 2
          },
          "yaxis": {
           "automargin": true,
           "gridcolor": "white",
           "linecolor": "white",
           "ticks": "",
           "title": {
            "standoff": 15
           },
           "zerolinecolor": "white",
           "zerolinewidth": 2
          }
         }
        },
        "title": {
         "text": "Gain / Interactions initiated vs p (unif)"
        },
        "xaxis": {
         "title": {
          "text": "p"
         }
        },
        "yaxis": {
         "title": {
          "text": "gain / interactions initiated"
         }
        }
       }
      },
      "text/html": [
       "<div>\n",
       "        \n",
       "        \n",
       "            <div id=\"6ab44537-22a2-4d9b-b27c-60c02c1eec48\" class=\"plotly-graph-div\" style=\"height:525px; width:100%;\"></div>\n",
       "            <script type=\"text/javascript\">\n",
       "                require([\"plotly\"], function(Plotly) {\n",
       "                    window.PLOTLYENV=window.PLOTLYENV || {};\n",
       "                    \n",
       "                if (document.getElementById(\"6ab44537-22a2-4d9b-b27c-60c02c1eec48\")) {\n",
       "                    Plotly.newPlot(\n",
       "                        '6ab44537-22a2-4d9b-b27c-60c02c1eec48',\n",
       "                        [{\"error_y\": {\"array\": [0.03685323149646797, 0.018252545523483595, 0.014587736321595567, 0.00988864930386192, 0.006814085651774424, 0.003238681503577311, 0.005235987694354146, 0.005479765758404523, 0.005333924985018804, 0.005355296013671725], \"type\": \"data\", \"visible\": true}, \"hoverinfo\": \"skip\", \"marker\": {\"color\": \"rgb(31, 119, 180)\"}, \"mode\": \"lines+markers\", \"name\": \"Gain / Interactions initiated (r=16)\", \"type\": \"scatter\", \"x\": [\"1.0\", \"0.9\", \"0.8\", \"0.7\", \"0.6\", \"0.5\", \"0.4\", \"0.3\", \"0.2\", \"0.1\"], \"y\": [0.13609998319312094, 0.1072028544459708, 0.09570146251907594, 0.08820076738274113, 0.0819435130261272, 0.08091480907177978, 0.08252173967566455, 0.0793481922839923, 0.07164006690859334, 0.06897953924627061]}, {\"hoverinfo\": \"skip\", \"marker\": {\"color\": \"rgb(31, 119, 180)\"}, \"mode\": \"markers\", \"name\": \"ratio per iter (r=16)\", \"opacity\": 0.3, \"type\": \"scatter\", \"x\": [\"1.0\", \"1.0\", \"1.0\", \"1.0\", \"1.0\", \"1.0\", \"1.0\", \"1.0\", \"1.0\", \"1.0\", \"0.9\", \"0.9\", \"0.9\", \"0.9\", \"0.9\", \"0.9\", \"0.9\", \"0.9\", \"0.9\", \"0.9\", \"0.8\", \"0.8\", \"0.8\", \"0.8\", \"0.8\", \"0.8\", \"0.8\", \"0.8\", \"0.8\", \"0.8\", \"0.7\", \"0.7\", \"0.7\", \"0.7\", \"0.7\", \"0.7\", \"0.7\", \"0.7\", \"0.7\", \"0.7\", \"0.6\", \"0.6\", \"0.6\", \"0.6\", \"0.6\", \"0.6\", \"0.6\", \"0.6\", \"0.6\", \"0.6\", \"0.5\", \"0.5\", \"0.5\", \"0.5\", \"0.5\", \"0.5\", \"0.5\", \"0.5\", \"0.5\", \"0.5\", \"0.4\", \"0.4\", \"0.4\", \"0.4\", \"0.4\", \"0.4\", \"0.4\", \"0.4\", \"0.4\", \"0.4\", \"0.3\", \"0.3\", \"0.3\", \"0.3\", \"0.3\", \"0.3\", \"0.3\", \"0.3\", \"0.3\", \"0.3\", \"0.2\", \"0.2\", \"0.2\", \"0.2\", \"0.2\", \"0.2\", \"0.2\", \"0.2\", \"0.2\", \"0.2\", \"0.1\", \"0.1\", \"0.1\", \"0.1\", \"0.1\", \"0.1\", \"0.1\", \"0.1\", \"0.1\", \"0.1\"], \"y\": [0.13068181818181818, 0.11159420289855071, 0.1918786256135654, 0.19850187265917604, 0.15814393939393942, 0.10449735449735449, 0.09349794238683129, 0.14760981912144702, 0.08601747815230963, 0.1385767790262172, 0.1434108527131783, 0.09338327091136081, 0.12878787878787878, 0.0854042214257268, 0.1016726403823178, 0.11980676328502415, 0.09104938271604938, 0.08725749559082893, 0.10772946859903382, 0.11352657004830916, 0.09772998805256869, 0.10727969348659, 0.11085271317829455, 0.1080808080808081, 0.09201697773126344, 0.07934531411542904, 0.07990152851263964, 0.1202923976608187, 0.07722542008256295, 0.08428978428978429, 0.11136653895274584, 0.08975730388773867, 0.08966450216450217, 0.09575530586766544, 0.07181350692586648, 0.08863887435316008, 0.0868557160691992, 0.08292806484295845, 0.08567939996511426, 0.0795484607984608, 0.07913059163059163, 0.08629689079127281, 0.08034878063613697, 0.09497027892089621, 0.0855397951142632, 0.09049122174122175, 0.07789915383548343, 0.07733056185437139, 0.07196342305037957, 0.07546443268665491, 0.08109668109668111, 0.07895082236167507, 0.08524055617078874, 0.07857604282022887, 0.07827160493827161, 0.08151636723065295, 0.07571272953625896, 0.08506493506493507, 0.07911785084404134, 0.08560050065426408, 0.07454304954304955, 0.0855713677552758, 0.07517146776406035, 0.07926169190537007, 0.089246632996633, 0.08172522442185363, 0.08073882832918976, 0.08695398055863171, 0.08133208839091191, 0.09067306509166974, 0.07833800186741363, 0.08179232804232804, 0.069187675070028, 0.08052479389688691, 0.07954994581500606, 0.08276731881383044, 0.09091384153112547, 0.08077816492450639, 0.0747092179581631, 0.07492063492063492, 0.06959183673469387, 0.07873851294903926, 0.06959325396825397, 0.0658823310231761, 0.07928310604366942, 0.06865671641791044, 0.0687245207737011, 0.07548500881834215, 0.07722144413320882, 0.06322393822393821, 0.06816783560969607, 0.06527147896195516, 0.0779320987654321, 0.06876055386693684, 0.0604035929617325, 0.07117419617419617, 0.06427238423362455, 0.07289829512051735, 0.07645502645502644, 0.06445993031358883]}, {\"error_y\": {\"array\": [0.011205033885015087, 0.00862208801621762, 0.00747469034312833, 0.008693106610323218, 0.012729944768682186, 0.006678691985329352, 0.010630496842063871, 0.012294728611376595, 0.00837034069622219, 0.01477213915443943], \"type\": \"data\", \"visible\": true}, \"hoverinfo\": \"skip\", \"marker\": {\"color\": \"rgb(255, 127, 14)\"}, \"mode\": \"lines+markers\", \"name\": \"Gain / Interactions initiated (r=8)\", \"type\": \"scatter\", \"x\": [\"1.0\", \"0.9\", \"0.8\", \"0.7\", \"0.6\", \"0.5\", \"0.4\", \"0.3\", \"0.2\", \"0.1\"], \"y\": [0.16852842609708055, 0.16546248062034302, 0.15951837010424985, 0.1719081766934366, 0.1673891750020268, 0.1563511402331158, 0.15450922026631325, 0.14910551588168103, 0.13908076412024545, 0.13171482588762]}, {\"hoverinfo\": \"skip\", \"marker\": {\"color\": \"rgb(255, 127, 14)\"}, \"mode\": \"markers\", \"name\": \"ratio per iter (r=8)\", \"opacity\": 0.3, \"type\": \"scatter\", \"x\": [\"1.0\", \"1.0\", \"1.0\", \"1.0\", \"1.0\", \"1.0\", \"1.0\", \"1.0\", \"1.0\", \"1.0\", \"0.9\", \"0.9\", \"0.9\", \"0.9\", \"0.9\", \"0.9\", \"0.9\", \"0.9\", \"0.9\", \"0.9\", \"0.8\", \"0.8\", \"0.8\", \"0.8\", \"0.8\", \"0.8\", \"0.8\", \"0.8\", \"0.8\", \"0.8\", \"0.7\", \"0.7\", \"0.7\", \"0.7\", \"0.7\", \"0.7\", \"0.7\", \"0.7\", \"0.7\", \"0.7\", \"0.6\", \"0.6\", \"0.6\", \"0.6\", \"0.6\", \"0.6\", \"0.6\", \"0.6\", \"0.6\", \"0.6\", \"0.5\", \"0.5\", \"0.5\", \"0.5\", \"0.5\", \"0.5\", \"0.5\", \"0.5\", \"0.5\", \"0.5\", \"0.4\", \"0.4\", \"0.4\", \"0.4\", \"0.4\", \"0.4\", \"0.4\", \"0.4\", \"0.4\", \"0.4\", \"0.3\", \"0.3\", \"0.3\", \"0.3\", \"0.3\", \"0.3\", \"0.3\", \"0.3\", \"0.3\", \"0.3\", \"0.2\", \"0.2\", \"0.2\", \"0.2\", \"0.2\", \"0.2\", \"0.2\", \"0.2\", \"0.2\", \"0.2\", \"0.1\", \"0.1\", \"0.1\", \"0.1\", \"0.1\", \"0.1\", \"0.1\", \"0.1\", \"0.1\", \"0.1\"], \"y\": [0.1748971193415638, 0.17750420875420875, 0.16687473990844778, 0.18035855003940113, 0.1602483164983165, 0.17350589225589227, 0.18352059925093636, 0.14474244359301833, 0.15883838383838383, 0.1647940074906367, 0.15762273901808788, 0.17185592185592186, 0.17094508301404854, 0.16508838383838384, 0.1692675821889305, 0.1724412584627638, 0.14983164983164984, 0.17242798353909466, 0.1734839234839235, 0.15166028097062578, 0.16337448559670784, 0.16375364128173117, 0.14804858622062925, 0.15977605512489235, 0.16666666666666669, 0.16675381263616557, 0.1479468599033816, 0.15709876543209877, 0.15229885057471265, 0.1694659776055125, 0.16498316498316498, 0.1808216262239251, 0.16881998277347116, 0.1614858906525573, 0.18028455284552847, 0.1873219373219373, 0.1614987080103359, 0.17915590008613266, 0.16721781305114639, 0.16749219098616688, 0.18794091710758382, 0.15808491418247514, 0.15138331102186525, 0.17067183462532298, 0.15068342151675482, 0.1672312556458898, 0.16701828410689173, 0.16765873015873012, 0.16255144032921812, 0.19066764132553604, 0.15536315536315531, 0.15898825654923218, 0.15, 0.15557992202729046, 0.15896921017402946, 0.14494741655235482, 0.16115799343647444, 0.15029358626919603, 0.17043895747599452, 0.15777290448343076, 0.1648662551440329, 0.16456228956228955, 0.14291465378421903, 0.15781625781625783, 0.15363060428849903, 0.128003003003003, 0.15930999492643327, 0.15616362631288006, 0.16096866096866097, 0.15685685685685685, 0.15250544662309365, 0.15081369248035917, 0.15097300690521032, 0.12866224433388612, 0.15307646356033452, 0.13325281803542674, 0.15012143290831814, 0.17167577413479052, 0.13780864197530862, 0.1621656378600823, 0.13928289992119777, 0.137037037037037, 0.12962962962962962, 0.15338164251207728, 0.12446167097329891, 0.1525252525252525, 0.13681027966742254, 0.14010721247563349, 0.1397119341563786, 0.13786008230452673, 0.13425925925925927, 0.14166666666666664, 0.13212250712250712, 0.11284722222222224, 0.14798474945533768, 0.146011396011396, 0.14506172839506173, 0.1280864197530864, 0.1299019607843137, 0.09920634920634921]}],\n",
       "                        {\"plot_bgcolor\": \"rgba(0,0,0,0)\", \"showlegend\": true, \"template\": {\"data\": {\"bar\": [{\"error_x\": {\"color\": \"#2a3f5f\"}, \"error_y\": {\"color\": \"#2a3f5f\"}, \"marker\": {\"line\": {\"color\": \"#E5ECF6\", \"width\": 0.5}}, \"type\": \"bar\"}], \"barpolar\": [{\"marker\": {\"line\": {\"color\": \"#E5ECF6\", \"width\": 0.5}}, \"type\": \"barpolar\"}], \"carpet\": [{\"aaxis\": {\"endlinecolor\": \"#2a3f5f\", \"gridcolor\": \"white\", \"linecolor\": \"white\", \"minorgridcolor\": \"white\", \"startlinecolor\": \"#2a3f5f\"}, \"baxis\": {\"endlinecolor\": \"#2a3f5f\", \"gridcolor\": \"white\", \"linecolor\": \"white\", \"minorgridcolor\": \"white\", \"startlinecolor\": \"#2a3f5f\"}, \"type\": \"carpet\"}], \"choropleth\": [{\"colorbar\": {\"outlinewidth\": 0, \"ticks\": \"\"}, \"type\": \"choropleth\"}], \"contour\": [{\"colorbar\": {\"outlinewidth\": 0, \"ticks\": \"\"}, \"colorscale\": [[0.0, \"#0d0887\"], [0.1111111111111111, \"#46039f\"], [0.2222222222222222, \"#7201a8\"], [0.3333333333333333, \"#9c179e\"], [0.4444444444444444, \"#bd3786\"], [0.5555555555555556, \"#d8576b\"], [0.6666666666666666, \"#ed7953\"], [0.7777777777777778, \"#fb9f3a\"], [0.8888888888888888, \"#fdca26\"], [1.0, \"#f0f921\"]], \"type\": \"contour\"}], \"contourcarpet\": [{\"colorbar\": {\"outlinewidth\": 0, \"ticks\": \"\"}, \"type\": \"contourcarpet\"}], \"heatmap\": [{\"colorbar\": {\"outlinewidth\": 0, \"ticks\": \"\"}, \"colorscale\": [[0.0, \"#0d0887\"], [0.1111111111111111, \"#46039f\"], [0.2222222222222222, \"#7201a8\"], [0.3333333333333333, \"#9c179e\"], [0.4444444444444444, \"#bd3786\"], [0.5555555555555556, \"#d8576b\"], [0.6666666666666666, \"#ed7953\"], [0.7777777777777778, \"#fb9f3a\"], [0.8888888888888888, \"#fdca26\"], [1.0, \"#f0f921\"]], \"type\": \"heatmap\"}], \"heatmapgl\": [{\"colorbar\": {\"outlinewidth\": 0, \"ticks\": \"\"}, \"colorscale\": [[0.0, \"#0d0887\"], [0.1111111111111111, \"#46039f\"], [0.2222222222222222, \"#7201a8\"], [0.3333333333333333, \"#9c179e\"], [0.4444444444444444, \"#bd3786\"], [0.5555555555555556, \"#d8576b\"], [0.6666666666666666, \"#ed7953\"], [0.7777777777777778, \"#fb9f3a\"], [0.8888888888888888, \"#fdca26\"], [1.0, \"#f0f921\"]], \"type\": \"heatmapgl\"}], \"histogram\": [{\"marker\": {\"colorbar\": {\"outlinewidth\": 0, \"ticks\": \"\"}}, \"type\": \"histogram\"}], \"histogram2d\": [{\"colorbar\": {\"outlinewidth\": 0, \"ticks\": \"\"}, \"colorscale\": [[0.0, \"#0d0887\"], [0.1111111111111111, \"#46039f\"], [0.2222222222222222, \"#7201a8\"], [0.3333333333333333, \"#9c179e\"], [0.4444444444444444, \"#bd3786\"], [0.5555555555555556, \"#d8576b\"], [0.6666666666666666, \"#ed7953\"], [0.7777777777777778, \"#fb9f3a\"], [0.8888888888888888, \"#fdca26\"], [1.0, \"#f0f921\"]], \"type\": \"histogram2d\"}], \"histogram2dcontour\": [{\"colorbar\": {\"outlinewidth\": 0, \"ticks\": \"\"}, \"colorscale\": [[0.0, \"#0d0887\"], [0.1111111111111111, \"#46039f\"], [0.2222222222222222, \"#7201a8\"], [0.3333333333333333, \"#9c179e\"], [0.4444444444444444, \"#bd3786\"], [0.5555555555555556, \"#d8576b\"], [0.6666666666666666, \"#ed7953\"], [0.7777777777777778, \"#fb9f3a\"], [0.8888888888888888, \"#fdca26\"], [1.0, \"#f0f921\"]], \"type\": \"histogram2dcontour\"}], \"mesh3d\": [{\"colorbar\": {\"outlinewidth\": 0, \"ticks\": \"\"}, \"type\": \"mesh3d\"}], \"parcoords\": [{\"line\": {\"colorbar\": {\"outlinewidth\": 0, \"ticks\": \"\"}}, \"type\": \"parcoords\"}], \"pie\": [{\"automargin\": true, \"type\": \"pie\"}], \"scatter\": [{\"marker\": {\"colorbar\": {\"outlinewidth\": 0, \"ticks\": \"\"}}, \"type\": \"scatter\"}], \"scatter3d\": [{\"line\": {\"colorbar\": {\"outlinewidth\": 0, \"ticks\": \"\"}}, \"marker\": {\"colorbar\": {\"outlinewidth\": 0, \"ticks\": \"\"}}, \"type\": \"scatter3d\"}], \"scattercarpet\": [{\"marker\": {\"colorbar\": {\"outlinewidth\": 0, \"ticks\": \"\"}}, \"type\": \"scattercarpet\"}], \"scattergeo\": [{\"marker\": {\"colorbar\": {\"outlinewidth\": 0, \"ticks\": \"\"}}, \"type\": \"scattergeo\"}], \"scattergl\": [{\"marker\": {\"colorbar\": {\"outlinewidth\": 0, \"ticks\": \"\"}}, \"type\": \"scattergl\"}], \"scattermapbox\": [{\"marker\": {\"colorbar\": {\"outlinewidth\": 0, \"ticks\": \"\"}}, \"type\": \"scattermapbox\"}], \"scatterpolar\": [{\"marker\": {\"colorbar\": {\"outlinewidth\": 0, \"ticks\": \"\"}}, \"type\": \"scatterpolar\"}], \"scatterpolargl\": [{\"marker\": {\"colorbar\": {\"outlinewidth\": 0, \"ticks\": \"\"}}, \"type\": \"scatterpolargl\"}], \"scatterternary\": [{\"marker\": {\"colorbar\": {\"outlinewidth\": 0, \"ticks\": \"\"}}, \"type\": \"scatterternary\"}], \"surface\": [{\"colorbar\": {\"outlinewidth\": 0, \"ticks\": \"\"}, \"colorscale\": [[0.0, \"#0d0887\"], [0.1111111111111111, \"#46039f\"], [0.2222222222222222, \"#7201a8\"], [0.3333333333333333, \"#9c179e\"], [0.4444444444444444, \"#bd3786\"], [0.5555555555555556, \"#d8576b\"], [0.6666666666666666, \"#ed7953\"], [0.7777777777777778, \"#fb9f3a\"], [0.8888888888888888, \"#fdca26\"], [1.0, \"#f0f921\"]], \"type\": \"surface\"}], \"table\": [{\"cells\": {\"fill\": {\"color\": \"#EBF0F8\"}, \"line\": {\"color\": \"white\"}}, \"header\": {\"fill\": {\"color\": \"#C8D4E3\"}, \"line\": {\"color\": \"white\"}}, \"type\": \"table\"}]}, \"layout\": {\"annotationdefaults\": {\"arrowcolor\": \"#2a3f5f\", \"arrowhead\": 0, \"arrowwidth\": 1}, \"coloraxis\": {\"colorbar\": {\"outlinewidth\": 0, \"ticks\": \"\"}}, \"colorscale\": {\"diverging\": [[0, \"#8e0152\"], [0.1, \"#c51b7d\"], [0.2, \"#de77ae\"], [0.3, \"#f1b6da\"], [0.4, \"#fde0ef\"], [0.5, \"#f7f7f7\"], [0.6, \"#e6f5d0\"], [0.7, \"#b8e186\"], [0.8, \"#7fbc41\"], [0.9, \"#4d9221\"], [1, \"#276419\"]], \"sequential\": [[0.0, \"#0d0887\"], [0.1111111111111111, \"#46039f\"], [0.2222222222222222, \"#7201a8\"], [0.3333333333333333, \"#9c179e\"], [0.4444444444444444, \"#bd3786\"], [0.5555555555555556, \"#d8576b\"], [0.6666666666666666, \"#ed7953\"], [0.7777777777777778, \"#fb9f3a\"], [0.8888888888888888, \"#fdca26\"], [1.0, \"#f0f921\"]], \"sequentialminus\": [[0.0, \"#0d0887\"], [0.1111111111111111, \"#46039f\"], [0.2222222222222222, \"#7201a8\"], [0.3333333333333333, \"#9c179e\"], [0.4444444444444444, \"#bd3786\"], [0.5555555555555556, \"#d8576b\"], [0.6666666666666666, \"#ed7953\"], [0.7777777777777778, \"#fb9f3a\"], [0.8888888888888888, \"#fdca26\"], [1.0, \"#f0f921\"]]}, \"colorway\": [\"#636efa\", \"#EF553B\", \"#00cc96\", \"#ab63fa\", \"#FFA15A\", \"#19d3f3\", \"#FF6692\", \"#B6E880\", \"#FF97FF\", \"#FECB52\"], \"font\": {\"color\": \"#2a3f5f\"}, \"geo\": {\"bgcolor\": \"white\", \"lakecolor\": \"white\", \"landcolor\": \"#E5ECF6\", \"showlakes\": true, \"showland\": true, \"subunitcolor\": \"white\"}, \"hoverlabel\": {\"align\": \"left\"}, \"hovermode\": \"closest\", \"mapbox\": {\"style\": \"light\"}, \"paper_bgcolor\": \"white\", \"plot_bgcolor\": \"#E5ECF6\", \"polar\": {\"angularaxis\": {\"gridcolor\": \"white\", \"linecolor\": \"white\", \"ticks\": \"\"}, \"bgcolor\": \"#E5ECF6\", \"radialaxis\": {\"gridcolor\": \"white\", \"linecolor\": \"white\", \"ticks\": \"\"}}, \"scene\": {\"xaxis\": {\"backgroundcolor\": \"#E5ECF6\", \"gridcolor\": \"white\", \"gridwidth\": 2, \"linecolor\": \"white\", \"showbackground\": true, \"ticks\": \"\", \"zerolinecolor\": \"white\"}, \"yaxis\": {\"backgroundcolor\": \"#E5ECF6\", \"gridcolor\": \"white\", \"gridwidth\": 2, \"linecolor\": \"white\", \"showbackground\": true, \"ticks\": \"\", \"zerolinecolor\": \"white\"}, \"zaxis\": {\"backgroundcolor\": \"#E5ECF6\", \"gridcolor\": \"white\", \"gridwidth\": 2, \"linecolor\": \"white\", \"showbackground\": true, \"ticks\": \"\", \"zerolinecolor\": \"white\"}}, \"shapedefaults\": {\"line\": {\"color\": \"#2a3f5f\"}}, \"ternary\": {\"aaxis\": {\"gridcolor\": \"white\", \"linecolor\": \"white\", \"ticks\": \"\"}, \"baxis\": {\"gridcolor\": \"white\", \"linecolor\": \"white\", \"ticks\": \"\"}, \"bgcolor\": \"#E5ECF6\", \"caxis\": {\"gridcolor\": \"white\", \"linecolor\": \"white\", \"ticks\": \"\"}}, \"title\": {\"x\": 0.05}, \"xaxis\": {\"automargin\": true, \"gridcolor\": \"white\", \"linecolor\": \"white\", \"ticks\": \"\", \"title\": {\"standoff\": 15}, \"zerolinecolor\": \"white\", \"zerolinewidth\": 2}, \"yaxis\": {\"automargin\": true, \"gridcolor\": \"white\", \"linecolor\": \"white\", \"ticks\": \"\", \"title\": {\"standoff\": 15}, \"zerolinecolor\": \"white\", \"zerolinewidth\": 2}}}, \"title\": {\"text\": \"Gain / Interactions initiated vs p (unif)\"}, \"xaxis\": {\"title\": {\"text\": \"p\"}}, \"yaxis\": {\"title\": {\"text\": \"gain / interactions initiated\"}}},\n",
       "                        {\"responsive\": true}\n",
       "                    ).then(function(){\n",
       "                            \n",
       "var gd = document.getElementById('6ab44537-22a2-4d9b-b27c-60c02c1eec48');\n",
       "var x = new MutationObserver(function (mutations, observer) {{\n",
       "        var display = window.getComputedStyle(gd).display;\n",
       "        if (!display || display === 'none') {{\n",
       "            console.log([gd, 'removed!']);\n",
       "            Plotly.purge(gd);\n",
       "            observer.disconnect();\n",
       "        }}\n",
       "}});\n",
       "\n",
       "// Listen for the removal of the full notebook cells\n",
       "var notebookContainer = gd.closest('#notebook-container');\n",
       "if (notebookContainer) {{\n",
       "    x.observe(notebookContainer, {childList: true});\n",
       "}}\n",
       "\n",
       "// Listen for the clearing of the current output cell\n",
       "var outputEl = gd.closest('.output');\n",
       "if (outputEl) {{\n",
       "    x.observe(outputEl, {childList: true});\n",
       "}}\n",
       "\n",
       "                        })\n",
       "                };\n",
       "                });\n",
       "            </script>\n",
       "        </div>"
      ]
     },
     "metadata": {},
     "output_type": "display_data"
    },
    {
     "data": {
      "application/vnd.plotly.v1+json": {
       "config": {
        "linkText": "Export to plot.ly",
        "plotlyServerURL": "https://plot.ly",
        "showLink": false
       },
       "data": [
        {
         "error_y": {
          "array": [
           0.031867844680513645,
           0.016137006014849787,
           0.009046521728927892,
           0.012868560542211693,
           0.00879841670481088,
           0.007266839015916412,
           0.006095812255942299,
           0.00668516545751153,
           0.004402800300659189,
           0.008398318105182743
          ],
          "type": "data",
          "visible": true
         },
         "hoverinfo": "skip",
         "marker": {
          "color": "rgb(31, 119, 180)"
         },
         "mode": "lines+markers",
         "name": "Gain / Interactions initiated (r=16)",
         "type": "scatter",
         "x": [
          "1.0",
          "0.9",
          "0.8",
          "0.7",
          "0.6",
          "0.5",
          "0.4",
          "0.3",
          "0.2",
          "0.1"
         ],
         "y": [
          0.15395496214859924,
          0.11497128770125686,
          0.10839015934697158,
          0.0935660674212265,
          0.08272013249755825,
          0.0834701781164556,
          0.08211300232883971,
          0.07991485413242438,
          0.07230640450047594,
          0.0653629971516711
         ]
        },
        {
         "hoverinfo": "skip",
         "marker": {
          "color": "rgb(31, 119, 180)"
         },
         "mode": "markers",
         "name": "ratio per iter (r=16)",
         "opacity": 0.3,
         "type": "scatter",
         "x": [
          "1.0",
          "1.0",
          "1.0",
          "1.0",
          "1.0",
          "1.0",
          "1.0",
          "1.0",
          "1.0",
          "1.0",
          "0.9",
          "0.9",
          "0.9",
          "0.9",
          "0.9",
          "0.9",
          "0.9",
          "0.9",
          "0.9",
          "0.9",
          "0.8",
          "0.8",
          "0.8",
          "0.8",
          "0.8",
          "0.8",
          "0.8",
          "0.8",
          "0.8",
          "0.8",
          "0.7",
          "0.7",
          "0.7",
          "0.7",
          "0.7",
          "0.7",
          "0.7",
          "0.7",
          "0.7",
          "0.7",
          "0.6",
          "0.6",
          "0.6",
          "0.6",
          "0.6",
          "0.6",
          "0.6",
          "0.6",
          "0.6",
          "0.6",
          "0.5",
          "0.5",
          "0.5",
          "0.5",
          "0.5",
          "0.5",
          "0.5",
          "0.5",
          "0.5",
          "0.5",
          "0.4",
          "0.4",
          "0.4",
          "0.4",
          "0.4",
          "0.4",
          "0.4",
          "0.4",
          "0.4",
          "0.4",
          "0.3",
          "0.3",
          "0.3",
          "0.3",
          "0.3",
          "0.3",
          "0.3",
          "0.3",
          "0.3",
          "0.3",
          "0.2",
          "0.2",
          "0.2",
          "0.2",
          "0.2",
          "0.2",
          "0.2",
          "0.2",
          "0.2",
          "0.2",
          "0.1",
          "0.1",
          "0.1",
          "0.1",
          "0.1",
          "0.1",
          "0.1",
          "0.1",
          "0.1",
          "0.1"
         ],
         "y": [
          0.17424242424242428,
          0.11159420289855071,
          0.19187862561356536,
          0.19850187265917604,
          0.1581439393939394,
          0.13062169312169314,
          0.1860082304526749,
          0.14760981912144705,
          0.10237203495630463,
          0.13857677902621723,
          0.14341085271317827,
          0.1395131086142322,
          0.12878787878787878,
          0.10179211469534048,
          0.10075667064914373,
          0.11980676328502415,
          0.10873842592592592,
          0.10396825396825396,
          0.1077294685990338,
          0.09520933977455719,
          0.11565113500597368,
          0.10727969348659003,
          0.11033591731266147,
          0.1080808080808081,
          0.12576312576312573,
          0.11091954022988504,
          0.11234567901234567,
          0.08961849067112224,
          0.10280830280830279,
          0.10109890109890109,
          0.11102596849723283,
          0.08733609385783299,
          0.08795695045695046,
          0.09575530586766541,
          0.08555971702039118,
          0.1199023199023199,
          0.09779442363712026,
          0.09259259259259259,
          0.08467934182219897,
          0.07305796055796056,
          0.07697372332203793,
          0.08525652458236728,
          0.08028492367572826,
          0.09442158207590307,
          0.08376674546887312,
          0.09987373737373738,
          0.07701682420783545,
          0.08602292768959437,
          0.06912813434552564,
          0.07445620223398002,
          0.07652867965367965,
          0.07973832082359214,
          0.09534883720930233,
          0.0785238689733072,
          0.07854791299235744,
          0.08242672849414423,
          0.07514005602240896,
          0.09638047138047137,
          0.08962962962962961,
          0.0824372759856631,
          0.0748857623857624,
          0.08254562748944771,
          0.0720724166507299,
          0.07927894672080721,
          0.09041606541606542,
          0.08636978248089358,
          0.07904634410658506,
          0.08245149911816578,
          0.08131536852467083,
          0.0927482103952692,
          0.08442775258251449,
          0.07226800976800976,
          0.0771677559912854,
          0.07353222413463378,
          0.08920505871725386,
          0.08202993934701251,
          0.09107714416356393,
          0.08194444444444444,
          0.070267131242741,
          0.07722908093278463,
          0.07244008714596949,
          0.07938743572546386,
          0.0744268077601411,
          0.07684641588751179,
          0.06874682902080162,
          0.06520786092214663,
          0.07286780383795309,
          0.07683135852149935,
          0.06779651675485009,
          0.0685129294284224,
          0.055943754313319535,
          0.05458553791887123,
          0.07468033509700175,
          0.07172006662747404,
          0.06400519978106184,
          0.06392272671342437,
          0.06257423604362379,
          0.08146997929606624,
          0.06884864107086328,
          0.05587949465500485
         ]
        },
        {
         "error_y": {
          "array": [
           0.010032504838743518,
           0.009863404611218946,
           0.006053884524059881,
           0.008560683133237271,
           0.010363119362797575,
           0.007132058330121432,
           0.007735172056212047,
           0.007261817184095521,
           0.010393186338019774,
           0.01991798658711414
          ],
          "type": "data",
          "visible": true
         },
         "hoverinfo": "skip",
         "marker": {
          "color": "rgb(255, 127, 14)"
         },
         "mode": "lines+markers",
         "name": "Gain / Interactions initiated (r=8)",
         "type": "scatter",
         "x": [
          "1.0",
          "0.9",
          "0.8",
          "0.7",
          "0.6",
          "0.5",
          "0.4",
          "0.3",
          "0.2",
          "0.1"
         ],
         "y": [
          0.16957040270825235,
          0.1662522798105149,
          0.1625538407759703,
          0.17044911968601037,
          0.16453543934096992,
          0.16147542886638516,
          0.151835831057819,
          0.14708809273916196,
          0.13348984374563075,
          0.13061268391725425
         ]
        },
        {
         "hoverinfo": "skip",
         "marker": {
          "color": "rgb(255, 127, 14)"
         },
         "mode": "markers",
         "name": "ratio per iter (r=8)",
         "opacity": 0.3,
         "type": "scatter",
         "x": [
          "1.0",
          "1.0",
          "1.0",
          "1.0",
          "1.0",
          "1.0",
          "1.0",
          "1.0",
          "1.0",
          "1.0",
          "0.9",
          "0.9",
          "0.9",
          "0.9",
          "0.9",
          "0.9",
          "0.9",
          "0.9",
          "0.9",
          "0.9",
          "0.8",
          "0.8",
          "0.8",
          "0.8",
          "0.8",
          "0.8",
          "0.8",
          "0.8",
          "0.8",
          "0.8",
          "0.7",
          "0.7",
          "0.7",
          "0.7",
          "0.7",
          "0.7",
          "0.7",
          "0.7",
          "0.7",
          "0.7",
          "0.6",
          "0.6",
          "0.6",
          "0.6",
          "0.6",
          "0.6",
          "0.6",
          "0.6",
          "0.6",
          "0.6",
          "0.5",
          "0.5",
          "0.5",
          "0.5",
          "0.5",
          "0.5",
          "0.5",
          "0.5",
          "0.5",
          "0.5",
          "0.4",
          "0.4",
          "0.4",
          "0.4",
          "0.4",
          "0.4",
          "0.4",
          "0.4",
          "0.4",
          "0.4",
          "0.3",
          "0.3",
          "0.3",
          "0.3",
          "0.3",
          "0.3",
          "0.3",
          "0.3",
          "0.3",
          "0.3",
          "0.2",
          "0.2",
          "0.2",
          "0.2",
          "0.2",
          "0.2",
          "0.2",
          "0.2",
          "0.2",
          "0.2",
          "0.1",
          "0.1",
          "0.1",
          "0.1",
          "0.1",
          "0.1",
          "0.1",
          "0.1",
          "0.1",
          "0.1"
         ],
         "y": [
          0.16615226337448558,
          0.17769454848106533,
          0.16604244694132334,
          0.17760047281323876,
          0.15803162713275073,
          0.17234848484848483,
          0.17696629213483145,
          0.14720117845117847,
          0.1818560133166875,
          0.17181069958847736,
          0.1521164021164021,
          0.17012617012617012,
          0.16898680289484885,
          0.1682946682946683,
          0.16910866910866915,
          0.17417153996101367,
          0.14762205387205388,
          0.1811868686868687,
          0.17266992266992268,
          0.15823970037453183,
          0.1637793707686181,
          0.16748066748066748,
          0.14941520467836258,
          0.1607744107744108,
          0.16795865633074933,
          0.1689922480620155,
          0.16003898635477581,
          0.1581439393939394,
          0.1589506172839506,
          0.17000430663221358,
          0.1699346405228758,
          0.17228464419475653,
          0.16085271317829455,
          0.1607744107744108,
          0.1777777777777778,
          0.18833943833943834,
          0.16368667518092805,
          0.17924718196457332,
          0.16708754208754212,
          0.1645061728395062,
          0.17464878671775222,
          0.1574074074074074,
          0.1498015873015873,
          0.16604938271604938,
          0.15064502704952143,
          0.16964285714285715,
          0.15841142347166445,
          0.1705597643097643,
          0.16346593507087334,
          0.1847222222222222,
          0.1578380706287683,
          0.15300361336946702,
          0.15534979423868314,
          0.15963431786216592,
          0.1665564373897707,
          0.15557841792409693,
          0.1730681298582533,
          0.15632515632515634,
          0.17403150276713494,
          0.16336884830035514,
          0.16014606155451222,
          0.1631335282651072,
          0.14497354497354495,
          0.15910910910910914,
          0.140625,
          0.14375,
          0.15492957746478872,
          0.1560254284134881,
          0.1529029029029029,
          0.14276315789473684,
          0.15856481481481483,
          0.1532921810699589,
          0.1527065527065527,
          0.14404978749241043,
          0.14250578703703703,
          0.14575866188769418,
          0.1496964177292046,
          0.14800785634118968,
          0.13020833333333331,
          0.14609053497942387,
          0.13742690058479531,
          0.12012670565302144,
          0.1500342935528121,
          0.14463734567901235,
          0.11747685185185186,
          0.1331236897274633,
          0.1287477954144621,
          0.14533011272141708,
          0.13277428371767994,
          0.12522045855379188,
          0.14403292181069957,
          0.14912280701754388,
          0.11553945249597423,
          0.1547619047619048,
          0.1507716049382716,
          0.11507936507936505,
          0.10370370370370369,
          0.10343915343915344,
          0.150462962962963,
          0.11921296296296297
         ]
        }
       ],
       "layout": {
        "plot_bgcolor": "rgba(0,0,0,0)",
        "showlegend": true,
        "template": {
         "data": {
          "bar": [
           {
            "error_x": {
             "color": "#2a3f5f"
            },
            "error_y": {
             "color": "#2a3f5f"
            },
            "marker": {
             "line": {
              "color": "#E5ECF6",
              "width": 0.5
             }
            },
            "type": "bar"
           }
          ],
          "barpolar": [
           {
            "marker": {
             "line": {
              "color": "#E5ECF6",
              "width": 0.5
             }
            },
            "type": "barpolar"
           }
          ],
          "carpet": [
           {
            "aaxis": {
             "endlinecolor": "#2a3f5f",
             "gridcolor": "white",
             "linecolor": "white",
             "minorgridcolor": "white",
             "startlinecolor": "#2a3f5f"
            },
            "baxis": {
             "endlinecolor": "#2a3f5f",
             "gridcolor": "white",
             "linecolor": "white",
             "minorgridcolor": "white",
             "startlinecolor": "#2a3f5f"
            },
            "type": "carpet"
           }
          ],
          "choropleth": [
           {
            "colorbar": {
             "outlinewidth": 0,
             "ticks": ""
            },
            "type": "choropleth"
           }
          ],
          "contour": [
           {
            "colorbar": {
             "outlinewidth": 0,
             "ticks": ""
            },
            "colorscale": [
             [
              0,
              "#0d0887"
             ],
             [
              0.1111111111111111,
              "#46039f"
             ],
             [
              0.2222222222222222,
              "#7201a8"
             ],
             [
              0.3333333333333333,
              "#9c179e"
             ],
             [
              0.4444444444444444,
              "#bd3786"
             ],
             [
              0.5555555555555556,
              "#d8576b"
             ],
             [
              0.6666666666666666,
              "#ed7953"
             ],
             [
              0.7777777777777778,
              "#fb9f3a"
             ],
             [
              0.8888888888888888,
              "#fdca26"
             ],
             [
              1,
              "#f0f921"
             ]
            ],
            "type": "contour"
           }
          ],
          "contourcarpet": [
           {
            "colorbar": {
             "outlinewidth": 0,
             "ticks": ""
            },
            "type": "contourcarpet"
           }
          ],
          "heatmap": [
           {
            "colorbar": {
             "outlinewidth": 0,
             "ticks": ""
            },
            "colorscale": [
             [
              0,
              "#0d0887"
             ],
             [
              0.1111111111111111,
              "#46039f"
             ],
             [
              0.2222222222222222,
              "#7201a8"
             ],
             [
              0.3333333333333333,
              "#9c179e"
             ],
             [
              0.4444444444444444,
              "#bd3786"
             ],
             [
              0.5555555555555556,
              "#d8576b"
             ],
             [
              0.6666666666666666,
              "#ed7953"
             ],
             [
              0.7777777777777778,
              "#fb9f3a"
             ],
             [
              0.8888888888888888,
              "#fdca26"
             ],
             [
              1,
              "#f0f921"
             ]
            ],
            "type": "heatmap"
           }
          ],
          "heatmapgl": [
           {
            "colorbar": {
             "outlinewidth": 0,
             "ticks": ""
            },
            "colorscale": [
             [
              0,
              "#0d0887"
             ],
             [
              0.1111111111111111,
              "#46039f"
             ],
             [
              0.2222222222222222,
              "#7201a8"
             ],
             [
              0.3333333333333333,
              "#9c179e"
             ],
             [
              0.4444444444444444,
              "#bd3786"
             ],
             [
              0.5555555555555556,
              "#d8576b"
             ],
             [
              0.6666666666666666,
              "#ed7953"
             ],
             [
              0.7777777777777778,
              "#fb9f3a"
             ],
             [
              0.8888888888888888,
              "#fdca26"
             ],
             [
              1,
              "#f0f921"
             ]
            ],
            "type": "heatmapgl"
           }
          ],
          "histogram": [
           {
            "marker": {
             "colorbar": {
              "outlinewidth": 0,
              "ticks": ""
             }
            },
            "type": "histogram"
           }
          ],
          "histogram2d": [
           {
            "colorbar": {
             "outlinewidth": 0,
             "ticks": ""
            },
            "colorscale": [
             [
              0,
              "#0d0887"
             ],
             [
              0.1111111111111111,
              "#46039f"
             ],
             [
              0.2222222222222222,
              "#7201a8"
             ],
             [
              0.3333333333333333,
              "#9c179e"
             ],
             [
              0.4444444444444444,
              "#bd3786"
             ],
             [
              0.5555555555555556,
              "#d8576b"
             ],
             [
              0.6666666666666666,
              "#ed7953"
             ],
             [
              0.7777777777777778,
              "#fb9f3a"
             ],
             [
              0.8888888888888888,
              "#fdca26"
             ],
             [
              1,
              "#f0f921"
             ]
            ],
            "type": "histogram2d"
           }
          ],
          "histogram2dcontour": [
           {
            "colorbar": {
             "outlinewidth": 0,
             "ticks": ""
            },
            "colorscale": [
             [
              0,
              "#0d0887"
             ],
             [
              0.1111111111111111,
              "#46039f"
             ],
             [
              0.2222222222222222,
              "#7201a8"
             ],
             [
              0.3333333333333333,
              "#9c179e"
             ],
             [
              0.4444444444444444,
              "#bd3786"
             ],
             [
              0.5555555555555556,
              "#d8576b"
             ],
             [
              0.6666666666666666,
              "#ed7953"
             ],
             [
              0.7777777777777778,
              "#fb9f3a"
             ],
             [
              0.8888888888888888,
              "#fdca26"
             ],
             [
              1,
              "#f0f921"
             ]
            ],
            "type": "histogram2dcontour"
           }
          ],
          "mesh3d": [
           {
            "colorbar": {
             "outlinewidth": 0,
             "ticks": ""
            },
            "type": "mesh3d"
           }
          ],
          "parcoords": [
           {
            "line": {
             "colorbar": {
              "outlinewidth": 0,
              "ticks": ""
             }
            },
            "type": "parcoords"
           }
          ],
          "pie": [
           {
            "automargin": true,
            "type": "pie"
           }
          ],
          "scatter": [
           {
            "marker": {
             "colorbar": {
              "outlinewidth": 0,
              "ticks": ""
             }
            },
            "type": "scatter"
           }
          ],
          "scatter3d": [
           {
            "line": {
             "colorbar": {
              "outlinewidth": 0,
              "ticks": ""
             }
            },
            "marker": {
             "colorbar": {
              "outlinewidth": 0,
              "ticks": ""
             }
            },
            "type": "scatter3d"
           }
          ],
          "scattercarpet": [
           {
            "marker": {
             "colorbar": {
              "outlinewidth": 0,
              "ticks": ""
             }
            },
            "type": "scattercarpet"
           }
          ],
          "scattergeo": [
           {
            "marker": {
             "colorbar": {
              "outlinewidth": 0,
              "ticks": ""
             }
            },
            "type": "scattergeo"
           }
          ],
          "scattergl": [
           {
            "marker": {
             "colorbar": {
              "outlinewidth": 0,
              "ticks": ""
             }
            },
            "type": "scattergl"
           }
          ],
          "scattermapbox": [
           {
            "marker": {
             "colorbar": {
              "outlinewidth": 0,
              "ticks": ""
             }
            },
            "type": "scattermapbox"
           }
          ],
          "scatterpolar": [
           {
            "marker": {
             "colorbar": {
              "outlinewidth": 0,
              "ticks": ""
             }
            },
            "type": "scatterpolar"
           }
          ],
          "scatterpolargl": [
           {
            "marker": {
             "colorbar": {
              "outlinewidth": 0,
              "ticks": ""
             }
            },
            "type": "scatterpolargl"
           }
          ],
          "scatterternary": [
           {
            "marker": {
             "colorbar": {
              "outlinewidth": 0,
              "ticks": ""
             }
            },
            "type": "scatterternary"
           }
          ],
          "surface": [
           {
            "colorbar": {
             "outlinewidth": 0,
             "ticks": ""
            },
            "colorscale": [
             [
              0,
              "#0d0887"
             ],
             [
              0.1111111111111111,
              "#46039f"
             ],
             [
              0.2222222222222222,
              "#7201a8"
             ],
             [
              0.3333333333333333,
              "#9c179e"
             ],
             [
              0.4444444444444444,
              "#bd3786"
             ],
             [
              0.5555555555555556,
              "#d8576b"
             ],
             [
              0.6666666666666666,
              "#ed7953"
             ],
             [
              0.7777777777777778,
              "#fb9f3a"
             ],
             [
              0.8888888888888888,
              "#fdca26"
             ],
             [
              1,
              "#f0f921"
             ]
            ],
            "type": "surface"
           }
          ],
          "table": [
           {
            "cells": {
             "fill": {
              "color": "#EBF0F8"
             },
             "line": {
              "color": "white"
             }
            },
            "header": {
             "fill": {
              "color": "#C8D4E3"
             },
             "line": {
              "color": "white"
             }
            },
            "type": "table"
           }
          ]
         },
         "layout": {
          "annotationdefaults": {
           "arrowcolor": "#2a3f5f",
           "arrowhead": 0,
           "arrowwidth": 1
          },
          "coloraxis": {
           "colorbar": {
            "outlinewidth": 0,
            "ticks": ""
           }
          },
          "colorscale": {
           "diverging": [
            [
             0,
             "#8e0152"
            ],
            [
             0.1,
             "#c51b7d"
            ],
            [
             0.2,
             "#de77ae"
            ],
            [
             0.3,
             "#f1b6da"
            ],
            [
             0.4,
             "#fde0ef"
            ],
            [
             0.5,
             "#f7f7f7"
            ],
            [
             0.6,
             "#e6f5d0"
            ],
            [
             0.7,
             "#b8e186"
            ],
            [
             0.8,
             "#7fbc41"
            ],
            [
             0.9,
             "#4d9221"
            ],
            [
             1,
             "#276419"
            ]
           ],
           "sequential": [
            [
             0,
             "#0d0887"
            ],
            [
             0.1111111111111111,
             "#46039f"
            ],
            [
             0.2222222222222222,
             "#7201a8"
            ],
            [
             0.3333333333333333,
             "#9c179e"
            ],
            [
             0.4444444444444444,
             "#bd3786"
            ],
            [
             0.5555555555555556,
             "#d8576b"
            ],
            [
             0.6666666666666666,
             "#ed7953"
            ],
            [
             0.7777777777777778,
             "#fb9f3a"
            ],
            [
             0.8888888888888888,
             "#fdca26"
            ],
            [
             1,
             "#f0f921"
            ]
           ],
           "sequentialminus": [
            [
             0,
             "#0d0887"
            ],
            [
             0.1111111111111111,
             "#46039f"
            ],
            [
             0.2222222222222222,
             "#7201a8"
            ],
            [
             0.3333333333333333,
             "#9c179e"
            ],
            [
             0.4444444444444444,
             "#bd3786"
            ],
            [
             0.5555555555555556,
             "#d8576b"
            ],
            [
             0.6666666666666666,
             "#ed7953"
            ],
            [
             0.7777777777777778,
             "#fb9f3a"
            ],
            [
             0.8888888888888888,
             "#fdca26"
            ],
            [
             1,
             "#f0f921"
            ]
           ]
          },
          "colorway": [
           "#636efa",
           "#EF553B",
           "#00cc96",
           "#ab63fa",
           "#FFA15A",
           "#19d3f3",
           "#FF6692",
           "#B6E880",
           "#FF97FF",
           "#FECB52"
          ],
          "font": {
           "color": "#2a3f5f"
          },
          "geo": {
           "bgcolor": "white",
           "lakecolor": "white",
           "landcolor": "#E5ECF6",
           "showlakes": true,
           "showland": true,
           "subunitcolor": "white"
          },
          "hoverlabel": {
           "align": "left"
          },
          "hovermode": "closest",
          "mapbox": {
           "style": "light"
          },
          "paper_bgcolor": "white",
          "plot_bgcolor": "#E5ECF6",
          "polar": {
           "angularaxis": {
            "gridcolor": "white",
            "linecolor": "white",
            "ticks": ""
           },
           "bgcolor": "#E5ECF6",
           "radialaxis": {
            "gridcolor": "white",
            "linecolor": "white",
            "ticks": ""
           }
          },
          "scene": {
           "xaxis": {
            "backgroundcolor": "#E5ECF6",
            "gridcolor": "white",
            "gridwidth": 2,
            "linecolor": "white",
            "showbackground": true,
            "ticks": "",
            "zerolinecolor": "white"
           },
           "yaxis": {
            "backgroundcolor": "#E5ECF6",
            "gridcolor": "white",
            "gridwidth": 2,
            "linecolor": "white",
            "showbackground": true,
            "ticks": "",
            "zerolinecolor": "white"
           },
           "zaxis": {
            "backgroundcolor": "#E5ECF6",
            "gridcolor": "white",
            "gridwidth": 2,
            "linecolor": "white",
            "showbackground": true,
            "ticks": "",
            "zerolinecolor": "white"
           }
          },
          "shapedefaults": {
           "line": {
            "color": "#2a3f5f"
           }
          },
          "ternary": {
           "aaxis": {
            "gridcolor": "white",
            "linecolor": "white",
            "ticks": ""
           },
           "baxis": {
            "gridcolor": "white",
            "linecolor": "white",
            "ticks": ""
           },
           "bgcolor": "#E5ECF6",
           "caxis": {
            "gridcolor": "white",
            "linecolor": "white",
            "ticks": ""
           }
          },
          "title": {
           "x": 0.05
          },
          "xaxis": {
           "automargin": true,
           "gridcolor": "white",
           "linecolor": "white",
           "ticks": "",
           "title": {
            "standoff": 15
           },
           "zerolinecolor": "white",
           "zerolinewidth": 2
          },
          "yaxis": {
           "automargin": true,
           "gridcolor": "white",
           "linecolor": "white",
           "ticks": "",
           "title": {
            "standoff": 15
           },
           "zerolinecolor": "white",
           "zerolinewidth": 2
          }
         }
        },
        "title": {
         "text": "Gain / Interactions initiated vs p (rr)"
        },
        "xaxis": {
         "title": {
          "text": "p"
         }
        },
        "yaxis": {
         "title": {
          "text": "gain / interactions initiated"
         }
        }
       }
      },
      "text/html": [
       "<div>\n",
       "        \n",
       "        \n",
       "            <div id=\"999cf6a0-f8ce-4eb3-a346-12ba5c75a5e5\" class=\"plotly-graph-div\" style=\"height:525px; width:100%;\"></div>\n",
       "            <script type=\"text/javascript\">\n",
       "                require([\"plotly\"], function(Plotly) {\n",
       "                    window.PLOTLYENV=window.PLOTLYENV || {};\n",
       "                    \n",
       "                if (document.getElementById(\"999cf6a0-f8ce-4eb3-a346-12ba5c75a5e5\")) {\n",
       "                    Plotly.newPlot(\n",
       "                        '999cf6a0-f8ce-4eb3-a346-12ba5c75a5e5',\n",
       "                        [{\"error_y\": {\"array\": [0.031867844680513645, 0.016137006014849787, 0.009046521728927892, 0.012868560542211693, 0.00879841670481088, 0.007266839015916412, 0.006095812255942299, 0.00668516545751153, 0.004402800300659189, 0.008398318105182743], \"type\": \"data\", \"visible\": true}, \"hoverinfo\": \"skip\", \"marker\": {\"color\": \"rgb(31, 119, 180)\"}, \"mode\": \"lines+markers\", \"name\": \"Gain / Interactions initiated (r=16)\", \"type\": \"scatter\", \"x\": [\"1.0\", \"0.9\", \"0.8\", \"0.7\", \"0.6\", \"0.5\", \"0.4\", \"0.3\", \"0.2\", \"0.1\"], \"y\": [0.15395496214859924, 0.11497128770125686, 0.10839015934697158, 0.0935660674212265, 0.08272013249755825, 0.0834701781164556, 0.08211300232883971, 0.07991485413242438, 0.07230640450047594, 0.0653629971516711]}, {\"hoverinfo\": \"skip\", \"marker\": {\"color\": \"rgb(31, 119, 180)\"}, \"mode\": \"markers\", \"name\": \"ratio per iter (r=16)\", \"opacity\": 0.3, \"type\": \"scatter\", \"x\": [\"1.0\", \"1.0\", \"1.0\", \"1.0\", \"1.0\", \"1.0\", \"1.0\", \"1.0\", \"1.0\", \"1.0\", \"0.9\", \"0.9\", \"0.9\", \"0.9\", \"0.9\", \"0.9\", \"0.9\", \"0.9\", \"0.9\", \"0.9\", \"0.8\", \"0.8\", \"0.8\", \"0.8\", \"0.8\", \"0.8\", \"0.8\", \"0.8\", \"0.8\", \"0.8\", \"0.7\", \"0.7\", \"0.7\", \"0.7\", \"0.7\", \"0.7\", \"0.7\", \"0.7\", \"0.7\", \"0.7\", \"0.6\", \"0.6\", \"0.6\", \"0.6\", \"0.6\", \"0.6\", \"0.6\", \"0.6\", \"0.6\", \"0.6\", \"0.5\", \"0.5\", \"0.5\", \"0.5\", \"0.5\", \"0.5\", \"0.5\", \"0.5\", \"0.5\", \"0.5\", \"0.4\", \"0.4\", \"0.4\", \"0.4\", \"0.4\", \"0.4\", \"0.4\", \"0.4\", \"0.4\", \"0.4\", \"0.3\", \"0.3\", \"0.3\", \"0.3\", \"0.3\", \"0.3\", \"0.3\", \"0.3\", \"0.3\", \"0.3\", \"0.2\", \"0.2\", \"0.2\", \"0.2\", \"0.2\", \"0.2\", \"0.2\", \"0.2\", \"0.2\", \"0.2\", \"0.1\", \"0.1\", \"0.1\", \"0.1\", \"0.1\", \"0.1\", \"0.1\", \"0.1\", \"0.1\", \"0.1\"], \"y\": [0.17424242424242428, 0.11159420289855071, 0.19187862561356536, 0.19850187265917604, 0.1581439393939394, 0.13062169312169314, 0.1860082304526749, 0.14760981912144705, 0.10237203495630463, 0.13857677902621723, 0.14341085271317827, 0.1395131086142322, 0.12878787878787878, 0.10179211469534048, 0.10075667064914373, 0.11980676328502415, 0.10873842592592592, 0.10396825396825396, 0.1077294685990338, 0.09520933977455719, 0.11565113500597368, 0.10727969348659003, 0.11033591731266147, 0.1080808080808081, 0.12576312576312573, 0.11091954022988504, 0.11234567901234567, 0.08961849067112224, 0.10280830280830279, 0.10109890109890109, 0.11102596849723283, 0.08733609385783299, 0.08795695045695046, 0.09575530586766541, 0.08555971702039118, 0.1199023199023199, 0.09779442363712026, 0.09259259259259259, 0.08467934182219897, 0.07305796055796056, 0.07697372332203793, 0.08525652458236728, 0.08028492367572826, 0.09442158207590307, 0.08376674546887312, 0.09987373737373738, 0.07701682420783545, 0.08602292768959437, 0.06912813434552564, 0.07445620223398002, 0.07652867965367965, 0.07973832082359214, 0.09534883720930233, 0.0785238689733072, 0.07854791299235744, 0.08242672849414423, 0.07514005602240896, 0.09638047138047137, 0.08962962962962961, 0.0824372759856631, 0.0748857623857624, 0.08254562748944771, 0.0720724166507299, 0.07927894672080721, 0.09041606541606542, 0.08636978248089358, 0.07904634410658506, 0.08245149911816578, 0.08131536852467083, 0.0927482103952692, 0.08442775258251449, 0.07226800976800976, 0.0771677559912854, 0.07353222413463378, 0.08920505871725386, 0.08202993934701251, 0.09107714416356393, 0.08194444444444444, 0.070267131242741, 0.07722908093278463, 0.07244008714596949, 0.07938743572546386, 0.0744268077601411, 0.07684641588751179, 0.06874682902080162, 0.06520786092214663, 0.07286780383795309, 0.07683135852149935, 0.06779651675485009, 0.0685129294284224, 0.055943754313319535, 0.05458553791887123, 0.07468033509700175, 0.07172006662747404, 0.06400519978106184, 0.06392272671342437, 0.06257423604362379, 0.08146997929606624, 0.06884864107086328, 0.05587949465500485]}, {\"error_y\": {\"array\": [0.010032504838743518, 0.009863404611218946, 0.006053884524059881, 0.008560683133237271, 0.010363119362797575, 0.007132058330121432, 0.007735172056212047, 0.007261817184095521, 0.010393186338019774, 0.01991798658711414], \"type\": \"data\", \"visible\": true}, \"hoverinfo\": \"skip\", \"marker\": {\"color\": \"rgb(255, 127, 14)\"}, \"mode\": \"lines+markers\", \"name\": \"Gain / Interactions initiated (r=8)\", \"type\": \"scatter\", \"x\": [\"1.0\", \"0.9\", \"0.8\", \"0.7\", \"0.6\", \"0.5\", \"0.4\", \"0.3\", \"0.2\", \"0.1\"], \"y\": [0.16957040270825235, 0.1662522798105149, 0.1625538407759703, 0.17044911968601037, 0.16453543934096992, 0.16147542886638516, 0.151835831057819, 0.14708809273916196, 0.13348984374563075, 0.13061268391725425]}, {\"hoverinfo\": \"skip\", \"marker\": {\"color\": \"rgb(255, 127, 14)\"}, \"mode\": \"markers\", \"name\": \"ratio per iter (r=8)\", \"opacity\": 0.3, \"type\": \"scatter\", \"x\": [\"1.0\", \"1.0\", \"1.0\", \"1.0\", \"1.0\", \"1.0\", \"1.0\", \"1.0\", \"1.0\", \"1.0\", \"0.9\", \"0.9\", \"0.9\", \"0.9\", \"0.9\", \"0.9\", \"0.9\", \"0.9\", \"0.9\", \"0.9\", \"0.8\", \"0.8\", \"0.8\", \"0.8\", \"0.8\", \"0.8\", \"0.8\", \"0.8\", \"0.8\", \"0.8\", \"0.7\", \"0.7\", \"0.7\", \"0.7\", \"0.7\", \"0.7\", \"0.7\", \"0.7\", \"0.7\", \"0.7\", \"0.6\", \"0.6\", \"0.6\", \"0.6\", \"0.6\", \"0.6\", \"0.6\", \"0.6\", \"0.6\", \"0.6\", \"0.5\", \"0.5\", \"0.5\", \"0.5\", \"0.5\", \"0.5\", \"0.5\", \"0.5\", \"0.5\", \"0.5\", \"0.4\", \"0.4\", \"0.4\", \"0.4\", \"0.4\", \"0.4\", \"0.4\", \"0.4\", \"0.4\", \"0.4\", \"0.3\", \"0.3\", \"0.3\", \"0.3\", \"0.3\", \"0.3\", \"0.3\", \"0.3\", \"0.3\", \"0.3\", \"0.2\", \"0.2\", \"0.2\", \"0.2\", \"0.2\", \"0.2\", \"0.2\", \"0.2\", \"0.2\", \"0.2\", \"0.1\", \"0.1\", \"0.1\", \"0.1\", \"0.1\", \"0.1\", \"0.1\", \"0.1\", \"0.1\", \"0.1\"], \"y\": [0.16615226337448558, 0.17769454848106533, 0.16604244694132334, 0.17760047281323876, 0.15803162713275073, 0.17234848484848483, 0.17696629213483145, 0.14720117845117847, 0.1818560133166875, 0.17181069958847736, 0.1521164021164021, 0.17012617012617012, 0.16898680289484885, 0.1682946682946683, 0.16910866910866915, 0.17417153996101367, 0.14762205387205388, 0.1811868686868687, 0.17266992266992268, 0.15823970037453183, 0.1637793707686181, 0.16748066748066748, 0.14941520467836258, 0.1607744107744108, 0.16795865633074933, 0.1689922480620155, 0.16003898635477581, 0.1581439393939394, 0.1589506172839506, 0.17000430663221358, 0.1699346405228758, 0.17228464419475653, 0.16085271317829455, 0.1607744107744108, 0.1777777777777778, 0.18833943833943834, 0.16368667518092805, 0.17924718196457332, 0.16708754208754212, 0.1645061728395062, 0.17464878671775222, 0.1574074074074074, 0.1498015873015873, 0.16604938271604938, 0.15064502704952143, 0.16964285714285715, 0.15841142347166445, 0.1705597643097643, 0.16346593507087334, 0.1847222222222222, 0.1578380706287683, 0.15300361336946702, 0.15534979423868314, 0.15963431786216592, 0.1665564373897707, 0.15557841792409693, 0.1730681298582533, 0.15632515632515634, 0.17403150276713494, 0.16336884830035514, 0.16014606155451222, 0.1631335282651072, 0.14497354497354495, 0.15910910910910914, 0.140625, 0.14375, 0.15492957746478872, 0.1560254284134881, 0.1529029029029029, 0.14276315789473684, 0.15856481481481483, 0.1532921810699589, 0.1527065527065527, 0.14404978749241043, 0.14250578703703703, 0.14575866188769418, 0.1496964177292046, 0.14800785634118968, 0.13020833333333331, 0.14609053497942387, 0.13742690058479531, 0.12012670565302144, 0.1500342935528121, 0.14463734567901235, 0.11747685185185186, 0.1331236897274633, 0.1287477954144621, 0.14533011272141708, 0.13277428371767994, 0.12522045855379188, 0.14403292181069957, 0.14912280701754388, 0.11553945249597423, 0.1547619047619048, 0.1507716049382716, 0.11507936507936505, 0.10370370370370369, 0.10343915343915344, 0.150462962962963, 0.11921296296296297]}],\n",
       "                        {\"plot_bgcolor\": \"rgba(0,0,0,0)\", \"showlegend\": true, \"template\": {\"data\": {\"bar\": [{\"error_x\": {\"color\": \"#2a3f5f\"}, \"error_y\": {\"color\": \"#2a3f5f\"}, \"marker\": {\"line\": {\"color\": \"#E5ECF6\", \"width\": 0.5}}, \"type\": \"bar\"}], \"barpolar\": [{\"marker\": {\"line\": {\"color\": \"#E5ECF6\", \"width\": 0.5}}, \"type\": \"barpolar\"}], \"carpet\": [{\"aaxis\": {\"endlinecolor\": \"#2a3f5f\", \"gridcolor\": \"white\", \"linecolor\": \"white\", \"minorgridcolor\": \"white\", \"startlinecolor\": \"#2a3f5f\"}, \"baxis\": {\"endlinecolor\": \"#2a3f5f\", \"gridcolor\": \"white\", \"linecolor\": \"white\", \"minorgridcolor\": \"white\", \"startlinecolor\": \"#2a3f5f\"}, \"type\": \"carpet\"}], \"choropleth\": [{\"colorbar\": {\"outlinewidth\": 0, \"ticks\": \"\"}, \"type\": \"choropleth\"}], \"contour\": [{\"colorbar\": {\"outlinewidth\": 0, \"ticks\": \"\"}, \"colorscale\": [[0.0, \"#0d0887\"], [0.1111111111111111, \"#46039f\"], [0.2222222222222222, \"#7201a8\"], [0.3333333333333333, \"#9c179e\"], [0.4444444444444444, \"#bd3786\"], [0.5555555555555556, \"#d8576b\"], [0.6666666666666666, \"#ed7953\"], [0.7777777777777778, \"#fb9f3a\"], [0.8888888888888888, \"#fdca26\"], [1.0, \"#f0f921\"]], \"type\": \"contour\"}], \"contourcarpet\": [{\"colorbar\": {\"outlinewidth\": 0, \"ticks\": \"\"}, \"type\": \"contourcarpet\"}], \"heatmap\": [{\"colorbar\": {\"outlinewidth\": 0, \"ticks\": \"\"}, \"colorscale\": [[0.0, \"#0d0887\"], [0.1111111111111111, \"#46039f\"], [0.2222222222222222, \"#7201a8\"], [0.3333333333333333, \"#9c179e\"], [0.4444444444444444, \"#bd3786\"], [0.5555555555555556, \"#d8576b\"], [0.6666666666666666, \"#ed7953\"], [0.7777777777777778, \"#fb9f3a\"], [0.8888888888888888, \"#fdca26\"], [1.0, \"#f0f921\"]], \"type\": \"heatmap\"}], \"heatmapgl\": [{\"colorbar\": {\"outlinewidth\": 0, \"ticks\": \"\"}, \"colorscale\": [[0.0, \"#0d0887\"], [0.1111111111111111, \"#46039f\"], [0.2222222222222222, \"#7201a8\"], [0.3333333333333333, \"#9c179e\"], [0.4444444444444444, \"#bd3786\"], [0.5555555555555556, \"#d8576b\"], [0.6666666666666666, \"#ed7953\"], [0.7777777777777778, \"#fb9f3a\"], [0.8888888888888888, \"#fdca26\"], [1.0, \"#f0f921\"]], \"type\": \"heatmapgl\"}], \"histogram\": [{\"marker\": {\"colorbar\": {\"outlinewidth\": 0, \"ticks\": \"\"}}, \"type\": \"histogram\"}], \"histogram2d\": [{\"colorbar\": {\"outlinewidth\": 0, \"ticks\": \"\"}, \"colorscale\": [[0.0, \"#0d0887\"], [0.1111111111111111, \"#46039f\"], [0.2222222222222222, \"#7201a8\"], [0.3333333333333333, \"#9c179e\"], [0.4444444444444444, \"#bd3786\"], [0.5555555555555556, \"#d8576b\"], [0.6666666666666666, \"#ed7953\"], [0.7777777777777778, \"#fb9f3a\"], [0.8888888888888888, \"#fdca26\"], [1.0, \"#f0f921\"]], \"type\": \"histogram2d\"}], \"histogram2dcontour\": [{\"colorbar\": {\"outlinewidth\": 0, \"ticks\": \"\"}, \"colorscale\": [[0.0, \"#0d0887\"], [0.1111111111111111, \"#46039f\"], [0.2222222222222222, \"#7201a8\"], [0.3333333333333333, \"#9c179e\"], [0.4444444444444444, \"#bd3786\"], [0.5555555555555556, \"#d8576b\"], [0.6666666666666666, \"#ed7953\"], [0.7777777777777778, \"#fb9f3a\"], [0.8888888888888888, \"#fdca26\"], [1.0, \"#f0f921\"]], \"type\": \"histogram2dcontour\"}], \"mesh3d\": [{\"colorbar\": {\"outlinewidth\": 0, \"ticks\": \"\"}, \"type\": \"mesh3d\"}], \"parcoords\": [{\"line\": {\"colorbar\": {\"outlinewidth\": 0, \"ticks\": \"\"}}, \"type\": \"parcoords\"}], \"pie\": [{\"automargin\": true, \"type\": \"pie\"}], \"scatter\": [{\"marker\": {\"colorbar\": {\"outlinewidth\": 0, \"ticks\": \"\"}}, \"type\": \"scatter\"}], \"scatter3d\": [{\"line\": {\"colorbar\": {\"outlinewidth\": 0, \"ticks\": \"\"}}, \"marker\": {\"colorbar\": {\"outlinewidth\": 0, \"ticks\": \"\"}}, \"type\": \"scatter3d\"}], \"scattercarpet\": [{\"marker\": {\"colorbar\": {\"outlinewidth\": 0, \"ticks\": \"\"}}, \"type\": \"scattercarpet\"}], \"scattergeo\": [{\"marker\": {\"colorbar\": {\"outlinewidth\": 0, \"ticks\": \"\"}}, \"type\": \"scattergeo\"}], \"scattergl\": [{\"marker\": {\"colorbar\": {\"outlinewidth\": 0, \"ticks\": \"\"}}, \"type\": \"scattergl\"}], \"scattermapbox\": [{\"marker\": {\"colorbar\": {\"outlinewidth\": 0, \"ticks\": \"\"}}, \"type\": \"scattermapbox\"}], \"scatterpolar\": [{\"marker\": {\"colorbar\": {\"outlinewidth\": 0, \"ticks\": \"\"}}, \"type\": \"scatterpolar\"}], \"scatterpolargl\": [{\"marker\": {\"colorbar\": {\"outlinewidth\": 0, \"ticks\": \"\"}}, \"type\": \"scatterpolargl\"}], \"scatterternary\": [{\"marker\": {\"colorbar\": {\"outlinewidth\": 0, \"ticks\": \"\"}}, \"type\": \"scatterternary\"}], \"surface\": [{\"colorbar\": {\"outlinewidth\": 0, \"ticks\": \"\"}, \"colorscale\": [[0.0, \"#0d0887\"], [0.1111111111111111, \"#46039f\"], [0.2222222222222222, \"#7201a8\"], [0.3333333333333333, \"#9c179e\"], [0.4444444444444444, \"#bd3786\"], [0.5555555555555556, \"#d8576b\"], [0.6666666666666666, \"#ed7953\"], [0.7777777777777778, \"#fb9f3a\"], [0.8888888888888888, \"#fdca26\"], [1.0, \"#f0f921\"]], \"type\": \"surface\"}], \"table\": [{\"cells\": {\"fill\": {\"color\": \"#EBF0F8\"}, \"line\": {\"color\": \"white\"}}, \"header\": {\"fill\": {\"color\": \"#C8D4E3\"}, \"line\": {\"color\": \"white\"}}, \"type\": \"table\"}]}, \"layout\": {\"annotationdefaults\": {\"arrowcolor\": \"#2a3f5f\", \"arrowhead\": 0, \"arrowwidth\": 1}, \"coloraxis\": {\"colorbar\": {\"outlinewidth\": 0, \"ticks\": \"\"}}, \"colorscale\": {\"diverging\": [[0, \"#8e0152\"], [0.1, \"#c51b7d\"], [0.2, \"#de77ae\"], [0.3, \"#f1b6da\"], [0.4, \"#fde0ef\"], [0.5, \"#f7f7f7\"], [0.6, \"#e6f5d0\"], [0.7, \"#b8e186\"], [0.8, \"#7fbc41\"], [0.9, \"#4d9221\"], [1, \"#276419\"]], \"sequential\": [[0.0, \"#0d0887\"], [0.1111111111111111, \"#46039f\"], [0.2222222222222222, \"#7201a8\"], [0.3333333333333333, \"#9c179e\"], [0.4444444444444444, \"#bd3786\"], [0.5555555555555556, \"#d8576b\"], [0.6666666666666666, \"#ed7953\"], [0.7777777777777778, \"#fb9f3a\"], [0.8888888888888888, \"#fdca26\"], [1.0, \"#f0f921\"]], \"sequentialminus\": [[0.0, \"#0d0887\"], [0.1111111111111111, \"#46039f\"], [0.2222222222222222, \"#7201a8\"], [0.3333333333333333, \"#9c179e\"], [0.4444444444444444, \"#bd3786\"], [0.5555555555555556, \"#d8576b\"], [0.6666666666666666, \"#ed7953\"], [0.7777777777777778, \"#fb9f3a\"], [0.8888888888888888, \"#fdca26\"], [1.0, \"#f0f921\"]]}, \"colorway\": [\"#636efa\", \"#EF553B\", \"#00cc96\", \"#ab63fa\", \"#FFA15A\", \"#19d3f3\", \"#FF6692\", \"#B6E880\", \"#FF97FF\", \"#FECB52\"], \"font\": {\"color\": \"#2a3f5f\"}, \"geo\": {\"bgcolor\": \"white\", \"lakecolor\": \"white\", \"landcolor\": \"#E5ECF6\", \"showlakes\": true, \"showland\": true, \"subunitcolor\": \"white\"}, \"hoverlabel\": {\"align\": \"left\"}, \"hovermode\": \"closest\", \"mapbox\": {\"style\": \"light\"}, \"paper_bgcolor\": \"white\", \"plot_bgcolor\": \"#E5ECF6\", \"polar\": {\"angularaxis\": {\"gridcolor\": \"white\", \"linecolor\": \"white\", \"ticks\": \"\"}, \"bgcolor\": \"#E5ECF6\", \"radialaxis\": {\"gridcolor\": \"white\", \"linecolor\": \"white\", \"ticks\": \"\"}}, \"scene\": {\"xaxis\": {\"backgroundcolor\": \"#E5ECF6\", \"gridcolor\": \"white\", \"gridwidth\": 2, \"linecolor\": \"white\", \"showbackground\": true, \"ticks\": \"\", \"zerolinecolor\": \"white\"}, \"yaxis\": {\"backgroundcolor\": \"#E5ECF6\", \"gridcolor\": \"white\", \"gridwidth\": 2, \"linecolor\": \"white\", \"showbackground\": true, \"ticks\": \"\", \"zerolinecolor\": \"white\"}, \"zaxis\": {\"backgroundcolor\": \"#E5ECF6\", \"gridcolor\": \"white\", \"gridwidth\": 2, \"linecolor\": \"white\", \"showbackground\": true, \"ticks\": \"\", \"zerolinecolor\": \"white\"}}, \"shapedefaults\": {\"line\": {\"color\": \"#2a3f5f\"}}, \"ternary\": {\"aaxis\": {\"gridcolor\": \"white\", \"linecolor\": \"white\", \"ticks\": \"\"}, \"baxis\": {\"gridcolor\": \"white\", \"linecolor\": \"white\", \"ticks\": \"\"}, \"bgcolor\": \"#E5ECF6\", \"caxis\": {\"gridcolor\": \"white\", \"linecolor\": \"white\", \"ticks\": \"\"}}, \"title\": {\"x\": 0.05}, \"xaxis\": {\"automargin\": true, \"gridcolor\": \"white\", \"linecolor\": \"white\", \"ticks\": \"\", \"title\": {\"standoff\": 15}, \"zerolinecolor\": \"white\", \"zerolinewidth\": 2}, \"yaxis\": {\"automargin\": true, \"gridcolor\": \"white\", \"linecolor\": \"white\", \"ticks\": \"\", \"title\": {\"standoff\": 15}, \"zerolinecolor\": \"white\", \"zerolinewidth\": 2}}}, \"title\": {\"text\": \"Gain / Interactions initiated vs p (rr)\"}, \"xaxis\": {\"title\": {\"text\": \"p\"}}, \"yaxis\": {\"title\": {\"text\": \"gain / interactions initiated\"}}},\n",
       "                        {\"responsive\": true}\n",
       "                    ).then(function(){\n",
       "                            \n",
       "var gd = document.getElementById('999cf6a0-f8ce-4eb3-a346-12ba5c75a5e5');\n",
       "var x = new MutationObserver(function (mutations, observer) {{\n",
       "        var display = window.getComputedStyle(gd).display;\n",
       "        if (!display || display === 'none') {{\n",
       "            console.log([gd, 'removed!']);\n",
       "            Plotly.purge(gd);\n",
       "            observer.disconnect();\n",
       "        }}\n",
       "}});\n",
       "\n",
       "// Listen for the removal of the full notebook cells\n",
       "var notebookContainer = gd.closest('#notebook-container');\n",
       "if (notebookContainer) {{\n",
       "    x.observe(notebookContainer, {childList: true});\n",
       "}}\n",
       "\n",
       "// Listen for the clearing of the current output cell\n",
       "var outputEl = gd.closest('.output');\n",
       "if (outputEl) {{\n",
       "    x.observe(outputEl, {childList: true});\n",
       "}}\n",
       "\n",
       "                        })\n",
       "                };\n",
       "                });\n",
       "            </script>\n",
       "        </div>"
      ]
     },
     "metadata": {},
     "output_type": "display_data"
    },
    {
     "data": {
      "application/vnd.plotly.v1+json": {
       "config": {
        "linkText": "Export to plot.ly",
        "plotlyServerURL": "https://plot.ly",
        "showLink": false
       },
       "data": [
        {
         "error_y": {
          "array": [
           0.023718629921116903,
           0.017525885872469806,
           0.012917509883833705,
           0.010712598892142102,
           0.008633002746715683,
           0.0030264043082923815,
           0.007107559034169287,
           0.0029359515628701294,
           0.004397540932925715,
           0.005938062980123822
          ],
          "type": "data",
          "visible": true
         },
         "hoverinfo": "skip",
         "marker": {
          "color": "rgb(31, 119, 180)"
         },
         "mode": "lines+markers",
         "name": "Gain / Interactions initiated (r=16 strat=mwu)",
         "type": "scatter",
         "x": [
          "1.0",
          "0.9",
          "0.8",
          "0.7",
          "0.6",
          "0.5",
          "0.4",
          "0.3",
          "0.2",
          "0.1"
         ],
         "y": [
          0.13194476789039195,
          0.10492142159064866,
          0.09644514535291838,
          0.08395406200310629,
          0.07814057341779572,
          0.07729443101553643,
          0.07551383539653776,
          0.07497161120841489,
          0.06990042530398133,
          0.06387693326996922
         ]
        },
        {
         "hoverinfo": "skip",
         "marker": {
          "color": "rgb(31, 119, 180)"
         },
         "mode": "markers",
         "name": "ratio per iter (r=16 strat=mwu)",
         "opacity": 0.3,
         "type": "scatter",
         "x": [
          "1.0",
          "1.0",
          "1.0",
          "1.0",
          "1.0",
          "1.0",
          "1.0",
          "1.0",
          "1.0",
          "1.0",
          "0.9",
          "0.9",
          "0.9",
          "0.9",
          "0.9",
          "0.9",
          "0.9",
          "0.9",
          "0.9",
          "0.9",
          "0.8",
          "0.8",
          "0.8",
          "0.8",
          "0.8",
          "0.8",
          "0.8",
          "0.8",
          "0.8",
          "0.8",
          "0.7",
          "0.7",
          "0.7",
          "0.7",
          "0.7",
          "0.7",
          "0.7",
          "0.7",
          "0.7",
          "0.7",
          "0.6",
          "0.6",
          "0.6",
          "0.6",
          "0.6",
          "0.6",
          "0.6",
          "0.6",
          "0.6",
          "0.6",
          "0.5",
          "0.5",
          "0.5",
          "0.5",
          "0.5",
          "0.5",
          "0.5",
          "0.5",
          "0.5",
          "0.5",
          "0.4",
          "0.4",
          "0.4",
          "0.4",
          "0.4",
          "0.4",
          "0.4",
          "0.4",
          "0.4",
          "0.4",
          "0.3",
          "0.3",
          "0.3",
          "0.3",
          "0.3",
          "0.3",
          "0.3",
          "0.3",
          "0.3",
          "0.3",
          "0.2",
          "0.2",
          "0.2",
          "0.2",
          "0.2",
          "0.2",
          "0.2",
          "0.2",
          "0.2",
          "0.2",
          "0.1",
          "0.1",
          "0.1",
          "0.1",
          "0.1",
          "0.1",
          "0.1",
          "0.1",
          "0.1",
          "0.1"
         ],
         "y": [
          0.13068181818181818,
          0.1115942028985507,
          0.14390896921017404,
          0.11910112359550562,
          0.1581439393939394,
          0.1741622574955908,
          0.13950617283950617,
          0.1180878552971576,
          0.08568456096545984,
          0.13857677902621723,
          0.1434108527131783,
          0.11161048689138577,
          0.12878787878787878,
          0.08482676224611709,
          0.1009557945041816,
          0.10032206119162643,
          0.09050925925925928,
          0.10396825396825396,
          0.08981481481481479,
          0.09500805152979065,
          0.09669454400637198,
          0.07713920817369092,
          0.11046511627906974,
          0.10808080808080808,
          0.10533170533170534,
          0.0924223073648361,
          0.11234567901234567,
          0.08682818156502364,
          0.07404500261643118,
          0.10109890109890109,
          0.11094082588335466,
          0.086709224752703,
          0.07738095238095238,
          0.07481907194550871,
          0.08535164377861007,
          0.08648758648758649,
          0.08573806551334642,
          0.07975494291283763,
          0.08439444153729869,
          0.06796386483886484,
          0.06969710480946437,
          0.07443077105998455,
          0.08201666362585905,
          0.09451303155006859,
          0.08318380492293535,
          0.07713293650793653,
          0.07943641876226146,
          0.0857583774250441,
          0.06172104644326867,
          0.07351557907113464,
          0.07145863395863396,
          0.079057462778393,
          0.08341331364587178,
          0.0788894833838654,
          0.07738822024536311,
          0.07634977527450645,
          0.07650171179582944,
          0.07567810010338746,
          0.07484252960443435,
          0.07936507936507936,
          0.06686285000891741,
          0.07381981187536743,
          0.06598432055749129,
          0.07575474634298163,
          0.08673681707389573,
          0.08248868489832345,
          0.07256581494386372,
          0.07614279561953982,
          0.06885148695493523,
          0.08593102569006184,
          0.0729129923574368,
          0.07568146808653138,
          0.07184523809523809,
          0.07413419913419914,
          0.07372763920382967,
          0.0753171415822018,
          0.08259130210349722,
          0.07562830687830688,
          0.07185443283004259,
          0.07602339181286549,
          0.06411908197622483,
          0.07177666388192702,
          0.07625948930296755,
          0.06730571016285301,
          0.07315215648548981,
          0.07030034235916588,
          0.06337264844209288,
          0.06653104279686557,
          0.07657053431701318,
          0.06961658331521345,
          0.05593348450491307,
          0.05947819740923189,
          0.06646825396825395,
          0.06273291925465838,
          0.0742133110554163,
          0.06743332253536335,
          0.058989080265676015,
          0.07173828881145954,
          0.06531422092646581,
          0.05646825396825395
         ]
        },
        {
         "error_y": {
          "array": [
           0.009379244870377812,
           0.008489249198509402,
           0.006625194624353072,
           0.006002481012273199,
           0.0100169613294253,
           0.004788269328133152,
           0.008180081393441225,
           0.013295479435650336,
           0.01248345989651305,
           0.013525376359414464
          ],
          "type": "data",
          "visible": true
         },
         "hoverinfo": "skip",
         "marker": {
          "color": "rgb(255, 127, 14)"
         },
         "mode": "lines+markers",
         "name": "Gain / Interactions initiated (r=8 strat=mwu)",
         "type": "scatter",
         "x": [
          "1.0",
          "0.9",
          "0.8",
          "0.7",
          "0.6",
          "0.5",
          "0.4",
          "0.3",
          "0.2",
          "0.1"
         ],
         "y": [
          0.14668699047288308,
          0.14701789432943238,
          0.14523639893796803,
          0.14725217149983297,
          0.14557291691768642,
          0.14054050664115447,
          0.1316476186396952,
          0.13115938521611764,
          0.12816835660018844,
          0.11942448006786241
         ]
        },
        {
         "hoverinfo": "skip",
         "marker": {
          "color": "rgb(255, 127, 14)"
         },
         "mode": "markers",
         "name": "ratio per iter (r=8 strat=mwu)",
         "opacity": 0.3,
         "type": "scatter",
         "x": [
          "1.0",
          "1.0",
          "1.0",
          "1.0",
          "1.0",
          "1.0",
          "1.0",
          "1.0",
          "1.0",
          "1.0",
          "0.9",
          "0.9",
          "0.9",
          "0.9",
          "0.9",
          "0.9",
          "0.9",
          "0.9",
          "0.9",
          "0.9",
          "0.8",
          "0.8",
          "0.8",
          "0.8",
          "0.8",
          "0.8",
          "0.8",
          "0.8",
          "0.8",
          "0.8",
          "0.7",
          "0.7",
          "0.7",
          "0.7",
          "0.7",
          "0.7",
          "0.7",
          "0.7",
          "0.7",
          "0.7",
          "0.6",
          "0.6",
          "0.6",
          "0.6",
          "0.6",
          "0.6",
          "0.6",
          "0.6",
          "0.6",
          "0.6",
          "0.5",
          "0.5",
          "0.5",
          "0.5",
          "0.5",
          "0.5",
          "0.5",
          "0.5",
          "0.5",
          "0.5",
          "0.4",
          "0.4",
          "0.4",
          "0.4",
          "0.4",
          "0.4",
          "0.4",
          "0.4",
          "0.4",
          "0.4",
          "0.3",
          "0.3",
          "0.3",
          "0.3",
          "0.3",
          "0.3",
          "0.3",
          "0.3",
          "0.3",
          "0.3",
          "0.2",
          "0.2",
          "0.2",
          "0.2",
          "0.2",
          "0.2",
          "0.2",
          "0.2",
          "0.2",
          "0.2",
          "0.1",
          "0.1",
          "0.1",
          "0.1",
          "0.1",
          "0.1",
          "0.1",
          "0.1",
          "0.1",
          "0.1"
         ],
         "y": [
          0.14875864875864875,
          0.15401234567901234,
          0.148253367003367,
          0.15384615384615385,
          0.13991769547325106,
          0.15123456790123457,
          0.16136079900124844,
          0.12699915824915828,
          0.1368081564710778,
          0.14567901234567904,
          0.1416881998277347,
          0.1483539094650206,
          0.15540824915824916,
          0.14163614163614166,
          0.15781440781440784,
          0.1531803542673108,
          0.1278409090909091,
          0.1544238683127572,
          0.1465201465201465,
          0.1433127572016461,
          0.14543075684380033,
          0.15288065843621398,
          0.13383838383838384,
          0.14302832244008715,
          0.14908447773616312,
          0.15411522633744854,
          0.14450686641697877,
          0.13920454545454544,
          0.13755144032921812,
          0.15272331154684096,
          0.14643719806763283,
          0.15189346650020807,
          0.143351182507809,
          0.14498910675381263,
          0.15277777777777776,
          0.15700040700040702,
          0.13569223985890652,
          0.1525807722616233,
          0.14193899782135078,
          0.14586056644880174,
          0.1636904761904762,
          0.138668430335097,
          0.1360999553770638,
          0.14585934248855595,
          0.125599128540305,
          0.14583333333333334,
          0.14849108367626887,
          0.1531502767134951,
          0.1443287037037037,
          0.1540084388185654,
          0.14016203703703703,
          0.1423611111111111,
          0.13090277777777778,
          0.14334705075445814,
          0.1360566448801743,
          0.1351120857699805,
          0.14247685185185183,
          0.1450980392156863,
          0.14741161616161616,
          0.14247685185185185,
          0.1420987654320988,
          0.13477366255144033,
          0.13058278867102396,
          0.13760288065843623,
          0.14069264069264073,
          0.11903021442495124,
          0.11658841940532083,
          0.1356285863328117,
          0.13310185185185186,
          0.12637637637637636,
          0.14030131826741996,
          0.14297385620915032,
          0.1388888888888889,
          0.12210648148148148,
          0.11409796893667862,
          0.1225071225071225,
          0.13369809203142538,
          0.11923326835607537,
          0.1192901234567901,
          0.1584967320261438,
          0.13061465721040189,
          0.10518518518518519,
          0.13337273443656422,
          0.133179012345679,
          0.13166666666666665,
          0.12678062678062677,
          0.11434108527131784,
          0.15432098765432098,
          0.13220164609053497,
          0.12002096436058698,
          0.14066951566951566,
          0.12654320987654322,
          0.1003086419753086,
          0.10866013071895424,
          0.1429398148148148,
          0.11210317460317462,
          0.11825396825396824,
          0.10576923076923075,
          0.12457912457912457,
          0.11441798941798942
         ]
        },
        {
         "error_y": {
          "array": [
           0.031178929390787303,
           0.015513524885076683,
           0.020340116902769056,
           0.01372545494252362,
           0.010375554895049701,
           0.005190351074541017,
           0.009068570944397142,
           0.008950370614733702,
           0.005786154886507074,
           0.005581921482706752
          ],
          "type": "data",
          "visible": true
         },
         "hoverinfo": "skip",
         "marker": {
          "color": "rgb(255, 127, 14)"
         },
         "mode": "lines+markers",
         "name": "Gain / Interactions initiated (r=16 strat=se_mwu)",
         "type": "scatter",
         "x": [
          "1.0",
          "0.9",
          "0.8",
          "0.7",
          "0.6",
          "0.5",
          "0.4",
          "0.3",
          "0.2",
          "0.1"
         ],
         "y": [
          0.1389714179887805,
          0.10030050057844361,
          0.09707422755856235,
          0.09333240245482112,
          0.0836331117747,
          0.0812993354834249,
          0.08217891058872386,
          0.07708514821030119,
          0.07479451635819565,
          0.06722983828627496
         ]
        },
        {
         "hoverinfo": "skip",
         "marker": {
          "color": "rgb(255, 127, 14)"
         },
         "mode": "markers",
         "name": "ratio per iter (r=16 strat=se_mwu)",
         "opacity": 0.3,
         "type": "scatter",
         "x": [
          "1.0",
          "1.0",
          "1.0",
          "1.0",
          "1.0",
          "1.0",
          "1.0",
          "1.0",
          "1.0",
          "1.0",
          "0.9",
          "0.9",
          "0.9",
          "0.9",
          "0.9",
          "0.9",
          "0.9",
          "0.9",
          "0.9",
          "0.9",
          "0.8",
          "0.8",
          "0.8",
          "0.8",
          "0.8",
          "0.8",
          "0.8",
          "0.8",
          "0.8",
          "0.8",
          "0.7",
          "0.7",
          "0.7",
          "0.7",
          "0.7",
          "0.7",
          "0.7",
          "0.7",
          "0.7",
          "0.7",
          "0.6",
          "0.6",
          "0.6",
          "0.6",
          "0.6",
          "0.6",
          "0.6",
          "0.6",
          "0.6",
          "0.6",
          "0.5",
          "0.5",
          "0.5",
          "0.5",
          "0.5",
          "0.5",
          "0.5",
          "0.5",
          "0.5",
          "0.5",
          "0.4",
          "0.4",
          "0.4",
          "0.4",
          "0.4",
          "0.4",
          "0.4",
          "0.4",
          "0.4",
          "0.4",
          "0.3",
          "0.3",
          "0.3",
          "0.3",
          "0.3",
          "0.3",
          "0.3",
          "0.3",
          "0.3",
          "0.3",
          "0.2",
          "0.2",
          "0.2",
          "0.2",
          "0.2",
          "0.2",
          "0.2",
          "0.2",
          "0.2",
          "0.2",
          "0.1",
          "0.1",
          "0.1",
          "0.1",
          "0.1",
          "0.1",
          "0.1",
          "0.1",
          "0.1",
          "0.1"
         ],
         "y": [
          0.16372053872053874,
          0.1196256038647343,
          0.19918699186991867,
          0.16158967956720768,
          0.11751743626743627,
          0.1377204585537919,
          0.12487654320987654,
          0.13488372093023257,
          0.07788825476091395,
          0.1527049521431544,
          0.1277777777777778,
          0.12369954223886809,
          0.09849987974987974,
          0.07588657525933512,
          0.09780394834158274,
          0.09577294685990335,
          0.0873236331569665,
          0.11007495590828925,
          0.10050034506556246,
          0.085665401426271,
          0.1291517323775388,
          0.0862172388335179,
          0.10463578196136335,
          0.10582912457912458,
          0.13176347462061747,
          0.0739037888463176,
          0.08263766411914561,
          0.0830474333983106,
          0.10257573114715973,
          0.07098030570252793,
          0.09865089501104826,
          0.08715157963346369,
          0.0926948051948052,
          0.08961020946039673,
          0.07743495234131939,
          0.08589307517878947,
          0.12161286487129183,
          0.08009236053095703,
          0.08545264259549974,
          0.11473063973063975,
          0.08141063749677982,
          0.0868061748211561,
          0.09402177218269171,
          0.10973936899862827,
          0.07613137453562988,
          0.08139830848164183,
          0.0776494659453461,
          0.07324368018812463,
          0.07678473446991965,
          0.07914560062708212,
          0.07711740420073754,
          0.07435861773211172,
          0.08586379208984574,
          0.07779230800064134,
          0.08465755437977661,
          0.08428348547396167,
          0.07368574828414187,
          0.0814879950296617,
          0.08298219332355879,
          0.0907642563198119,
          0.06672012617705503,
          0.08829754123871769,
          0.07021795458009451,
          0.08221490945068183,
          0.08644997324772605,
          0.08978309029122038,
          0.08388801794151587,
          0.08679022481704474,
          0.07150808565537246,
          0.09591918248780991,
          0.08508355916892503,
          0.08714274408718854,
          0.0658709650957713,
          0.07127644104388291,
          0.08095348324514992,
          0.07028180520244012,
          0.0942859375348827,
          0.07712051734273956,
          0.0684760015117158,
          0.07036002787031594,
          0.07243471977268273,
          0.08994157848324516,
          0.07388579055245723,
          0.06976736964999875,
          0.07713022190634129,
          0.0709156810872497,
          0.07148672136594841,
          0.07881495048161716,
          0.0737795414462081,
          0.0697885888362079,
          0.07148526077097506,
          0.06446118129791599,
          0.07141754850088183,
          0.062466196355085254,
          0.056380560454634535,
          0.06620604900746743,
          0.07146927146927148,
          0.07577735603097924,
          0.07044801012192316,
          0.06218694885361551
         ]
        },
        {
         "error_y": {
          "array": [
           0.012663391723075663,
           0.009121276454682962,
           0.008440346163474987,
           0.010650007221477197,
           0.00932145748051906,
           0.010793424734517776,
           0.011143268235066605,
           0.008015554376006496,
           0.01720673195690038,
           0.01311418996059446
          ],
          "type": "data",
          "visible": true
         },
         "hoverinfo": "skip",
         "marker": {
          "color": "rgb(44, 160, 44)"
         },
         "mode": "lines+markers",
         "name": "Gain / Interactions initiated (r=8 strat=se_mwu)",
         "type": "scatter",
         "x": [
          "1.0",
          "0.9",
          "0.8",
          "0.7",
          "0.6",
          "0.5",
          "0.4",
          "0.3",
          "0.2",
          "0.1"
         ],
         "y": [
          0.15351526792205522,
          0.15031773509733187,
          0.14733484547729134,
          0.14913439211343246,
          0.14221419521455292,
          0.14777507163965603,
          0.14313561050047796,
          0.1343361823470499,
          0.13296154351247885,
          0.12946596810984792
         ]
        },
        {
         "hoverinfo": "skip",
         "marker": {
          "color": "rgb(44, 160, 44)"
         },
         "mode": "markers",
         "name": "ratio per iter (r=8 strat=se_mwu)",
         "opacity": 0.3,
         "type": "scatter",
         "x": [
          "1.0",
          "1.0",
          "1.0",
          "1.0",
          "1.0",
          "1.0",
          "1.0",
          "1.0",
          "1.0",
          "1.0",
          "0.9",
          "0.9",
          "0.9",
          "0.9",
          "0.9",
          "0.9",
          "0.9",
          "0.9",
          "0.9",
          "0.9",
          "0.8",
          "0.8",
          "0.8",
          "0.8",
          "0.8",
          "0.8",
          "0.8",
          "0.8",
          "0.8",
          "0.8",
          "0.7",
          "0.7",
          "0.7",
          "0.7",
          "0.7",
          "0.7",
          "0.7",
          "0.7",
          "0.7",
          "0.7",
          "0.6",
          "0.6",
          "0.6",
          "0.6",
          "0.6",
          "0.6",
          "0.6",
          "0.6",
          "0.6",
          "0.6",
          "0.5",
          "0.5",
          "0.5",
          "0.5",
          "0.5",
          "0.5",
          "0.5",
          "0.5",
          "0.5",
          "0.5",
          "0.4",
          "0.4",
          "0.4",
          "0.4",
          "0.4",
          "0.4",
          "0.4",
          "0.4",
          "0.4",
          "0.4",
          "0.3",
          "0.3",
          "0.3",
          "0.3",
          "0.3",
          "0.3",
          "0.3",
          "0.3",
          "0.3",
          "0.3",
          "0.2",
          "0.2",
          "0.2",
          "0.2",
          "0.2",
          "0.2",
          "0.2",
          "0.2",
          "0.2",
          "0.2",
          "0.1",
          "0.1",
          "0.1",
          "0.1",
          "0.1",
          "0.1",
          "0.1",
          "0.1",
          "0.1",
          "0.1"
         ],
         "y": [
          0.13650205761316872,
          0.1633127572016461,
          0.15014565126924678,
          0.1693747510951812,
          0.1460493827160494,
          0.15457641549595572,
          0.16720164609053498,
          0.1333543771043771,
          0.1690595089471494,
          0.1455761316872428,
          0.14631782945736432,
          0.16658343736995423,
          0.13992003367003367,
          0.15489711934156378,
          0.1559259259259259,
          0.144775828460039,
          0.13897211818560132,
          0.16397119341563787,
          0.14415954415954416,
          0.14765432098765433,
          0.15065120065120066,
          0.16121514773200166,
          0.1275925925925926,
          0.1456364410387399,
          0.15002104377104378,
          0.147979797979798,
          0.1475514403292181,
          0.14393004115226338,
          0.14273662551440328,
          0.1560341240116521,
          0.1285230352303523,
          0.13767489711934155,
          0.16183006535947714,
          0.14796965640339133,
          0.15015073212747632,
          0.16321265085310027,
          0.15459841864336243,
          0.14696054750402573,
          0.14074074074074075,
          0.1596831771530567,
          0.14669312169312168,
          0.1411065386374028,
          0.12319223985890652,
          0.13350168350168348,
          0.14931657848324514,
          0.1550632911392405,
          0.13335564480142792,
          0.14612200435729847,
          0.14156862745098037,
          0.15222222222222223,
          0.14201388888888888,
          0.1548696844993141,
          0.1251187084520418,
          0.15333333333333332,
          0.14695121951219514,
          0.141951566951567,
          0.16052631578947368,
          0.13945147679324896,
          0.16415180612711477,
          0.14938271604938272,
          0.16123136123136123,
          0.14427609427609428,
          0.1329307568438003,
          0.15312327252625757,
          0.14968701095461656,
          0.12975308641975308,
          0.13636136136136134,
          0.1572072072072072,
          0.12822944896115626,
          0.1385565052231719,
          0.1419459141681364,
          0.13202792956891318,
          0.13783068783068783,
          0.13070757324488666,
          0.1266602809706258,
          0.14547325102880657,
          0.12325440194292653,
          0.12587587587587587,
          0.13214483139856273,
          0.14744107744107743,
          0.1356902356902357,
          0.1102469135802469,
          0.10769789397240374,
          0.17080610021786494,
          0.13340740740740742,
          0.14629629629629626,
          0.13752620545073374,
          0.13743961352657003,
          0.12143874643874643,
          0.1290660225442834,
          0.13863168724279837,
          0.125,
          0.12369093231162195,
          0.14129629629629623,
          0.10354497354497354,
          0.15066872427983535,
          0.13639846743295017,
          0.12690058479532162,
          0.1345679012345679,
          0.11396011396011395
         ]
        },
        {
         "error_y": {
          "array": [
           0.03685323149646797,
           0.018252545523483595,
           0.014587736321595567,
           0.00988864930386192,
           0.006814085651774424,
           0.003238681503577311,
           0.005235987694354146,
           0.005479765758404523,
           0.005333924985018804,
           0.005355296013671725
          ],
          "type": "data",
          "visible": true
         },
         "hoverinfo": "skip",
         "marker": {
          "color": "rgb(44, 160, 44)"
         },
         "mode": "lines+markers",
         "name": "Gain / Interactions initiated (r=16 strat=unif)",
         "type": "scatter",
         "x": [
          "1.0",
          "0.9",
          "0.8",
          "0.7",
          "0.6",
          "0.5",
          "0.4",
          "0.3",
          "0.2",
          "0.1"
         ],
         "y": [
          0.13609998319312094,
          0.1072028544459708,
          0.09570146251907594,
          0.08820076738274113,
          0.0819435130261272,
          0.08091480907177978,
          0.08252173967566455,
          0.0793481922839923,
          0.07164006690859334,
          0.06897953924627061
         ]
        },
        {
         "hoverinfo": "skip",
         "marker": {
          "color": "rgb(44, 160, 44)"
         },
         "mode": "markers",
         "name": "ratio per iter (r=16 strat=unif)",
         "opacity": 0.3,
         "type": "scatter",
         "x": [
          "1.0",
          "1.0",
          "1.0",
          "1.0",
          "1.0",
          "1.0",
          "1.0",
          "1.0",
          "1.0",
          "1.0",
          "0.9",
          "0.9",
          "0.9",
          "0.9",
          "0.9",
          "0.9",
          "0.9",
          "0.9",
          "0.9",
          "0.9",
          "0.8",
          "0.8",
          "0.8",
          "0.8",
          "0.8",
          "0.8",
          "0.8",
          "0.8",
          "0.8",
          "0.8",
          "0.7",
          "0.7",
          "0.7",
          "0.7",
          "0.7",
          "0.7",
          "0.7",
          "0.7",
          "0.7",
          "0.7",
          "0.6",
          "0.6",
          "0.6",
          "0.6",
          "0.6",
          "0.6",
          "0.6",
          "0.6",
          "0.6",
          "0.6",
          "0.5",
          "0.5",
          "0.5",
          "0.5",
          "0.5",
          "0.5",
          "0.5",
          "0.5",
          "0.5",
          "0.5",
          "0.4",
          "0.4",
          "0.4",
          "0.4",
          "0.4",
          "0.4",
          "0.4",
          "0.4",
          "0.4",
          "0.4",
          "0.3",
          "0.3",
          "0.3",
          "0.3",
          "0.3",
          "0.3",
          "0.3",
          "0.3",
          "0.3",
          "0.3",
          "0.2",
          "0.2",
          "0.2",
          "0.2",
          "0.2",
          "0.2",
          "0.2",
          "0.2",
          "0.2",
          "0.2",
          "0.1",
          "0.1",
          "0.1",
          "0.1",
          "0.1",
          "0.1",
          "0.1",
          "0.1",
          "0.1",
          "0.1"
         ],
         "y": [
          0.13068181818181818,
          0.11159420289855071,
          0.1918786256135654,
          0.19850187265917604,
          0.15814393939393942,
          0.10449735449735449,
          0.09349794238683129,
          0.14760981912144702,
          0.08601747815230963,
          0.1385767790262172,
          0.1434108527131783,
          0.09338327091136081,
          0.12878787878787878,
          0.0854042214257268,
          0.1016726403823178,
          0.11980676328502415,
          0.09104938271604938,
          0.08725749559082893,
          0.10772946859903382,
          0.11352657004830916,
          0.09772998805256869,
          0.10727969348659,
          0.11085271317829455,
          0.1080808080808081,
          0.09201697773126344,
          0.07934531411542904,
          0.07990152851263964,
          0.1202923976608187,
          0.07722542008256295,
          0.08428978428978429,
          0.11136653895274584,
          0.08975730388773867,
          0.08966450216450217,
          0.09575530586766544,
          0.07181350692586648,
          0.08863887435316008,
          0.0868557160691992,
          0.08292806484295845,
          0.08567939996511426,
          0.0795484607984608,
          0.07913059163059163,
          0.08629689079127281,
          0.08034878063613697,
          0.09497027892089621,
          0.0855397951142632,
          0.09049122174122175,
          0.07789915383548343,
          0.07733056185437139,
          0.07196342305037957,
          0.07546443268665491,
          0.08109668109668111,
          0.07895082236167507,
          0.08524055617078874,
          0.07857604282022887,
          0.07827160493827161,
          0.08151636723065295,
          0.07571272953625896,
          0.08506493506493507,
          0.07911785084404134,
          0.08560050065426408,
          0.07454304954304955,
          0.0855713677552758,
          0.07517146776406035,
          0.07926169190537007,
          0.089246632996633,
          0.08172522442185363,
          0.08073882832918976,
          0.08695398055863171,
          0.08133208839091191,
          0.09067306509166974,
          0.07833800186741363,
          0.08179232804232804,
          0.069187675070028,
          0.08052479389688691,
          0.07954994581500606,
          0.08276731881383044,
          0.09091384153112547,
          0.08077816492450639,
          0.0747092179581631,
          0.07492063492063492,
          0.06959183673469387,
          0.07873851294903926,
          0.06959325396825397,
          0.0658823310231761,
          0.07928310604366942,
          0.06865671641791044,
          0.0687245207737011,
          0.07548500881834215,
          0.07722144413320882,
          0.06322393822393821,
          0.06816783560969607,
          0.06527147896195516,
          0.0779320987654321,
          0.06876055386693684,
          0.0604035929617325,
          0.07117419617419617,
          0.06427238423362455,
          0.07289829512051735,
          0.07645502645502644,
          0.06445993031358883
         ]
        },
        {
         "error_y": {
          "array": [
           0.011205033885015087,
           0.00862208801621762,
           0.00747469034312833,
           0.008693106610323218,
           0.012729944768682186,
           0.006678691985329352,
           0.010630496842063871,
           0.012294728611376595,
           0.00837034069622219,
           0.01477213915443943
          ],
          "type": "data",
          "visible": true
         },
         "hoverinfo": "skip",
         "marker": {
          "color": "rgb(214, 39, 40)"
         },
         "mode": "lines+markers",
         "name": "Gain / Interactions initiated (r=8 strat=unif)",
         "type": "scatter",
         "x": [
          "1.0",
          "0.9",
          "0.8",
          "0.7",
          "0.6",
          "0.5",
          "0.4",
          "0.3",
          "0.2",
          "0.1"
         ],
         "y": [
          0.16852842609708055,
          0.16546248062034302,
          0.15951837010424985,
          0.1719081766934366,
          0.1673891750020268,
          0.1563511402331158,
          0.15450922026631325,
          0.14910551588168103,
          0.13908076412024545,
          0.13171482588762
         ]
        },
        {
         "hoverinfo": "skip",
         "marker": {
          "color": "rgb(214, 39, 40)"
         },
         "mode": "markers",
         "name": "ratio per iter (r=8 strat=unif)",
         "opacity": 0.3,
         "type": "scatter",
         "x": [
          "1.0",
          "1.0",
          "1.0",
          "1.0",
          "1.0",
          "1.0",
          "1.0",
          "1.0",
          "1.0",
          "1.0",
          "0.9",
          "0.9",
          "0.9",
          "0.9",
          "0.9",
          "0.9",
          "0.9",
          "0.9",
          "0.9",
          "0.9",
          "0.8",
          "0.8",
          "0.8",
          "0.8",
          "0.8",
          "0.8",
          "0.8",
          "0.8",
          "0.8",
          "0.8",
          "0.7",
          "0.7",
          "0.7",
          "0.7",
          "0.7",
          "0.7",
          "0.7",
          "0.7",
          "0.7",
          "0.7",
          "0.6",
          "0.6",
          "0.6",
          "0.6",
          "0.6",
          "0.6",
          "0.6",
          "0.6",
          "0.6",
          "0.6",
          "0.5",
          "0.5",
          "0.5",
          "0.5",
          "0.5",
          "0.5",
          "0.5",
          "0.5",
          "0.5",
          "0.5",
          "0.4",
          "0.4",
          "0.4",
          "0.4",
          "0.4",
          "0.4",
          "0.4",
          "0.4",
          "0.4",
          "0.4",
          "0.3",
          "0.3",
          "0.3",
          "0.3",
          "0.3",
          "0.3",
          "0.3",
          "0.3",
          "0.3",
          "0.3",
          "0.2",
          "0.2",
          "0.2",
          "0.2",
          "0.2",
          "0.2",
          "0.2",
          "0.2",
          "0.2",
          "0.2",
          "0.1",
          "0.1",
          "0.1",
          "0.1",
          "0.1",
          "0.1",
          "0.1",
          "0.1",
          "0.1",
          "0.1"
         ],
         "y": [
          0.1748971193415638,
          0.17750420875420875,
          0.16687473990844778,
          0.18035855003940113,
          0.1602483164983165,
          0.17350589225589227,
          0.18352059925093636,
          0.14474244359301833,
          0.15883838383838383,
          0.1647940074906367,
          0.15762273901808788,
          0.17185592185592186,
          0.17094508301404854,
          0.16508838383838384,
          0.1692675821889305,
          0.1724412584627638,
          0.14983164983164984,
          0.17242798353909466,
          0.1734839234839235,
          0.15166028097062578,
          0.16337448559670784,
          0.16375364128173117,
          0.14804858622062925,
          0.15977605512489235,
          0.16666666666666669,
          0.16675381263616557,
          0.1479468599033816,
          0.15709876543209877,
          0.15229885057471265,
          0.1694659776055125,
          0.16498316498316498,
          0.1808216262239251,
          0.16881998277347116,
          0.1614858906525573,
          0.18028455284552847,
          0.1873219373219373,
          0.1614987080103359,
          0.17915590008613266,
          0.16721781305114639,
          0.16749219098616688,
          0.18794091710758382,
          0.15808491418247514,
          0.15138331102186525,
          0.17067183462532298,
          0.15068342151675482,
          0.1672312556458898,
          0.16701828410689173,
          0.16765873015873012,
          0.16255144032921812,
          0.19066764132553604,
          0.15536315536315531,
          0.15898825654923218,
          0.15,
          0.15557992202729046,
          0.15896921017402946,
          0.14494741655235482,
          0.16115799343647444,
          0.15029358626919603,
          0.17043895747599452,
          0.15777290448343076,
          0.1648662551440329,
          0.16456228956228955,
          0.14291465378421903,
          0.15781625781625783,
          0.15363060428849903,
          0.128003003003003,
          0.15930999492643327,
          0.15616362631288006,
          0.16096866096866097,
          0.15685685685685685,
          0.15250544662309365,
          0.15081369248035917,
          0.15097300690521032,
          0.12866224433388612,
          0.15307646356033452,
          0.13325281803542674,
          0.15012143290831814,
          0.17167577413479052,
          0.13780864197530862,
          0.1621656378600823,
          0.13928289992119777,
          0.137037037037037,
          0.12962962962962962,
          0.15338164251207728,
          0.12446167097329891,
          0.1525252525252525,
          0.13681027966742254,
          0.14010721247563349,
          0.1397119341563786,
          0.13786008230452673,
          0.13425925925925927,
          0.14166666666666664,
          0.13212250712250712,
          0.11284722222222224,
          0.14798474945533768,
          0.146011396011396,
          0.14506172839506173,
          0.1280864197530864,
          0.1299019607843137,
          0.09920634920634921
         ]
        },
        {
         "error_y": {
          "array": [
           0.031867844680513645,
           0.016137006014849787,
           0.009046521728927892,
           0.012868560542211693,
           0.00879841670481088,
           0.007266839015916412,
           0.006095812255942299,
           0.00668516545751153,
           0.004402800300659189,
           0.008398318105182743
          ],
          "type": "data",
          "visible": true
         },
         "hoverinfo": "skip",
         "marker": {
          "color": "rgb(214, 39, 40)"
         },
         "mode": "lines+markers",
         "name": "Gain / Interactions initiated (r=16 strat=rr)",
         "type": "scatter",
         "x": [
          "1.0",
          "0.9",
          "0.8",
          "0.7",
          "0.6",
          "0.5",
          "0.4",
          "0.3",
          "0.2",
          "0.1"
         ],
         "y": [
          0.15395496214859924,
          0.11497128770125686,
          0.10839015934697158,
          0.0935660674212265,
          0.08272013249755825,
          0.0834701781164556,
          0.08211300232883971,
          0.07991485413242438,
          0.07230640450047594,
          0.0653629971516711
         ]
        },
        {
         "hoverinfo": "skip",
         "marker": {
          "color": "rgb(214, 39, 40)"
         },
         "mode": "markers",
         "name": "ratio per iter (r=16 strat=rr)",
         "opacity": 0.3,
         "type": "scatter",
         "x": [
          "1.0",
          "1.0",
          "1.0",
          "1.0",
          "1.0",
          "1.0",
          "1.0",
          "1.0",
          "1.0",
          "1.0",
          "0.9",
          "0.9",
          "0.9",
          "0.9",
          "0.9",
          "0.9",
          "0.9",
          "0.9",
          "0.9",
          "0.9",
          "0.8",
          "0.8",
          "0.8",
          "0.8",
          "0.8",
          "0.8",
          "0.8",
          "0.8",
          "0.8",
          "0.8",
          "0.7",
          "0.7",
          "0.7",
          "0.7",
          "0.7",
          "0.7",
          "0.7",
          "0.7",
          "0.7",
          "0.7",
          "0.6",
          "0.6",
          "0.6",
          "0.6",
          "0.6",
          "0.6",
          "0.6",
          "0.6",
          "0.6",
          "0.6",
          "0.5",
          "0.5",
          "0.5",
          "0.5",
          "0.5",
          "0.5",
          "0.5",
          "0.5",
          "0.5",
          "0.5",
          "0.4",
          "0.4",
          "0.4",
          "0.4",
          "0.4",
          "0.4",
          "0.4",
          "0.4",
          "0.4",
          "0.4",
          "0.3",
          "0.3",
          "0.3",
          "0.3",
          "0.3",
          "0.3",
          "0.3",
          "0.3",
          "0.3",
          "0.3",
          "0.2",
          "0.2",
          "0.2",
          "0.2",
          "0.2",
          "0.2",
          "0.2",
          "0.2",
          "0.2",
          "0.2",
          "0.1",
          "0.1",
          "0.1",
          "0.1",
          "0.1",
          "0.1",
          "0.1",
          "0.1",
          "0.1",
          "0.1"
         ],
         "y": [
          0.17424242424242428,
          0.11159420289855071,
          0.19187862561356536,
          0.19850187265917604,
          0.1581439393939394,
          0.13062169312169314,
          0.1860082304526749,
          0.14760981912144705,
          0.10237203495630463,
          0.13857677902621723,
          0.14341085271317827,
          0.1395131086142322,
          0.12878787878787878,
          0.10179211469534048,
          0.10075667064914373,
          0.11980676328502415,
          0.10873842592592592,
          0.10396825396825396,
          0.1077294685990338,
          0.09520933977455719,
          0.11565113500597368,
          0.10727969348659003,
          0.11033591731266147,
          0.1080808080808081,
          0.12576312576312573,
          0.11091954022988504,
          0.11234567901234567,
          0.08961849067112224,
          0.10280830280830279,
          0.10109890109890109,
          0.11102596849723283,
          0.08733609385783299,
          0.08795695045695046,
          0.09575530586766541,
          0.08555971702039118,
          0.1199023199023199,
          0.09779442363712026,
          0.09259259259259259,
          0.08467934182219897,
          0.07305796055796056,
          0.07697372332203793,
          0.08525652458236728,
          0.08028492367572826,
          0.09442158207590307,
          0.08376674546887312,
          0.09987373737373738,
          0.07701682420783545,
          0.08602292768959437,
          0.06912813434552564,
          0.07445620223398002,
          0.07652867965367965,
          0.07973832082359214,
          0.09534883720930233,
          0.0785238689733072,
          0.07854791299235744,
          0.08242672849414423,
          0.07514005602240896,
          0.09638047138047137,
          0.08962962962962961,
          0.0824372759856631,
          0.0748857623857624,
          0.08254562748944771,
          0.0720724166507299,
          0.07927894672080721,
          0.09041606541606542,
          0.08636978248089358,
          0.07904634410658506,
          0.08245149911816578,
          0.08131536852467083,
          0.0927482103952692,
          0.08442775258251449,
          0.07226800976800976,
          0.0771677559912854,
          0.07353222413463378,
          0.08920505871725386,
          0.08202993934701251,
          0.09107714416356393,
          0.08194444444444444,
          0.070267131242741,
          0.07722908093278463,
          0.07244008714596949,
          0.07938743572546386,
          0.0744268077601411,
          0.07684641588751179,
          0.06874682902080162,
          0.06520786092214663,
          0.07286780383795309,
          0.07683135852149935,
          0.06779651675485009,
          0.0685129294284224,
          0.055943754313319535,
          0.05458553791887123,
          0.07468033509700175,
          0.07172006662747404,
          0.06400519978106184,
          0.06392272671342437,
          0.06257423604362379,
          0.08146997929606624,
          0.06884864107086328,
          0.05587949465500485
         ]
        },
        {
         "error_y": {
          "array": [
           0.010032504838743518,
           0.009863404611218946,
           0.006053884524059881,
           0.008560683133237271,
           0.010363119362797575,
           0.007132058330121432,
           0.007735172056212047,
           0.007261817184095521,
           0.010393186338019774,
           0.01991798658711414
          ],
          "type": "data",
          "visible": true
         },
         "hoverinfo": "skip",
         "marker": {
          "color": "rgb(148, 103, 189)"
         },
         "mode": "lines+markers",
         "name": "Gain / Interactions initiated (r=8 strat=rr)",
         "type": "scatter",
         "x": [
          "1.0",
          "0.9",
          "0.8",
          "0.7",
          "0.6",
          "0.5",
          "0.4",
          "0.3",
          "0.2",
          "0.1"
         ],
         "y": [
          0.16957040270825235,
          0.1662522798105149,
          0.1625538407759703,
          0.17044911968601037,
          0.16453543934096992,
          0.16147542886638516,
          0.151835831057819,
          0.14708809273916196,
          0.13348984374563075,
          0.13061268391725425
         ]
        },
        {
         "hoverinfo": "skip",
         "marker": {
          "color": "rgb(148, 103, 189)"
         },
         "mode": "markers",
         "name": "ratio per iter (r=8 strat=rr)",
         "opacity": 0.3,
         "type": "scatter",
         "x": [
          "1.0",
          "1.0",
          "1.0",
          "1.0",
          "1.0",
          "1.0",
          "1.0",
          "1.0",
          "1.0",
          "1.0",
          "0.9",
          "0.9",
          "0.9",
          "0.9",
          "0.9",
          "0.9",
          "0.9",
          "0.9",
          "0.9",
          "0.9",
          "0.8",
          "0.8",
          "0.8",
          "0.8",
          "0.8",
          "0.8",
          "0.8",
          "0.8",
          "0.8",
          "0.8",
          "0.7",
          "0.7",
          "0.7",
          "0.7",
          "0.7",
          "0.7",
          "0.7",
          "0.7",
          "0.7",
          "0.7",
          "0.6",
          "0.6",
          "0.6",
          "0.6",
          "0.6",
          "0.6",
          "0.6",
          "0.6",
          "0.6",
          "0.6",
          "0.5",
          "0.5",
          "0.5",
          "0.5",
          "0.5",
          "0.5",
          "0.5",
          "0.5",
          "0.5",
          "0.5",
          "0.4",
          "0.4",
          "0.4",
          "0.4",
          "0.4",
          "0.4",
          "0.4",
          "0.4",
          "0.4",
          "0.4",
          "0.3",
          "0.3",
          "0.3",
          "0.3",
          "0.3",
          "0.3",
          "0.3",
          "0.3",
          "0.3",
          "0.3",
          "0.2",
          "0.2",
          "0.2",
          "0.2",
          "0.2",
          "0.2",
          "0.2",
          "0.2",
          "0.2",
          "0.2",
          "0.1",
          "0.1",
          "0.1",
          "0.1",
          "0.1",
          "0.1",
          "0.1",
          "0.1",
          "0.1",
          "0.1"
         ],
         "y": [
          0.16615226337448558,
          0.17769454848106533,
          0.16604244694132334,
          0.17760047281323876,
          0.15803162713275073,
          0.17234848484848483,
          0.17696629213483145,
          0.14720117845117847,
          0.1818560133166875,
          0.17181069958847736,
          0.1521164021164021,
          0.17012617012617012,
          0.16898680289484885,
          0.1682946682946683,
          0.16910866910866915,
          0.17417153996101367,
          0.14762205387205388,
          0.1811868686868687,
          0.17266992266992268,
          0.15823970037453183,
          0.1637793707686181,
          0.16748066748066748,
          0.14941520467836258,
          0.1607744107744108,
          0.16795865633074933,
          0.1689922480620155,
          0.16003898635477581,
          0.1581439393939394,
          0.1589506172839506,
          0.17000430663221358,
          0.1699346405228758,
          0.17228464419475653,
          0.16085271317829455,
          0.1607744107744108,
          0.1777777777777778,
          0.18833943833943834,
          0.16368667518092805,
          0.17924718196457332,
          0.16708754208754212,
          0.1645061728395062,
          0.17464878671775222,
          0.1574074074074074,
          0.1498015873015873,
          0.16604938271604938,
          0.15064502704952143,
          0.16964285714285715,
          0.15841142347166445,
          0.1705597643097643,
          0.16346593507087334,
          0.1847222222222222,
          0.1578380706287683,
          0.15300361336946702,
          0.15534979423868314,
          0.15963431786216592,
          0.1665564373897707,
          0.15557841792409693,
          0.1730681298582533,
          0.15632515632515634,
          0.17403150276713494,
          0.16336884830035514,
          0.16014606155451222,
          0.1631335282651072,
          0.14497354497354495,
          0.15910910910910914,
          0.140625,
          0.14375,
          0.15492957746478872,
          0.1560254284134881,
          0.1529029029029029,
          0.14276315789473684,
          0.15856481481481483,
          0.1532921810699589,
          0.1527065527065527,
          0.14404978749241043,
          0.14250578703703703,
          0.14575866188769418,
          0.1496964177292046,
          0.14800785634118968,
          0.13020833333333331,
          0.14609053497942387,
          0.13742690058479531,
          0.12012670565302144,
          0.1500342935528121,
          0.14463734567901235,
          0.11747685185185186,
          0.1331236897274633,
          0.1287477954144621,
          0.14533011272141708,
          0.13277428371767994,
          0.12522045855379188,
          0.14403292181069957,
          0.14912280701754388,
          0.11553945249597423,
          0.1547619047619048,
          0.1507716049382716,
          0.11507936507936505,
          0.10370370370370369,
          0.10343915343915344,
          0.150462962962963,
          0.11921296296296297
         ]
        }
       ],
       "layout": {
        "plot_bgcolor": "rgba(0,0,0,0)",
        "showlegend": true,
        "template": {
         "data": {
          "bar": [
           {
            "error_x": {
             "color": "#2a3f5f"
            },
            "error_y": {
             "color": "#2a3f5f"
            },
            "marker": {
             "line": {
              "color": "#E5ECF6",
              "width": 0.5
             }
            },
            "type": "bar"
           }
          ],
          "barpolar": [
           {
            "marker": {
             "line": {
              "color": "#E5ECF6",
              "width": 0.5
             }
            },
            "type": "barpolar"
           }
          ],
          "carpet": [
           {
            "aaxis": {
             "endlinecolor": "#2a3f5f",
             "gridcolor": "white",
             "linecolor": "white",
             "minorgridcolor": "white",
             "startlinecolor": "#2a3f5f"
            },
            "baxis": {
             "endlinecolor": "#2a3f5f",
             "gridcolor": "white",
             "linecolor": "white",
             "minorgridcolor": "white",
             "startlinecolor": "#2a3f5f"
            },
            "type": "carpet"
           }
          ],
          "choropleth": [
           {
            "colorbar": {
             "outlinewidth": 0,
             "ticks": ""
            },
            "type": "choropleth"
           }
          ],
          "contour": [
           {
            "colorbar": {
             "outlinewidth": 0,
             "ticks": ""
            },
            "colorscale": [
             [
              0,
              "#0d0887"
             ],
             [
              0.1111111111111111,
              "#46039f"
             ],
             [
              0.2222222222222222,
              "#7201a8"
             ],
             [
              0.3333333333333333,
              "#9c179e"
             ],
             [
              0.4444444444444444,
              "#bd3786"
             ],
             [
              0.5555555555555556,
              "#d8576b"
             ],
             [
              0.6666666666666666,
              "#ed7953"
             ],
             [
              0.7777777777777778,
              "#fb9f3a"
             ],
             [
              0.8888888888888888,
              "#fdca26"
             ],
             [
              1,
              "#f0f921"
             ]
            ],
            "type": "contour"
           }
          ],
          "contourcarpet": [
           {
            "colorbar": {
             "outlinewidth": 0,
             "ticks": ""
            },
            "type": "contourcarpet"
           }
          ],
          "heatmap": [
           {
            "colorbar": {
             "outlinewidth": 0,
             "ticks": ""
            },
            "colorscale": [
             [
              0,
              "#0d0887"
             ],
             [
              0.1111111111111111,
              "#46039f"
             ],
             [
              0.2222222222222222,
              "#7201a8"
             ],
             [
              0.3333333333333333,
              "#9c179e"
             ],
             [
              0.4444444444444444,
              "#bd3786"
             ],
             [
              0.5555555555555556,
              "#d8576b"
             ],
             [
              0.6666666666666666,
              "#ed7953"
             ],
             [
              0.7777777777777778,
              "#fb9f3a"
             ],
             [
              0.8888888888888888,
              "#fdca26"
             ],
             [
              1,
              "#f0f921"
             ]
            ],
            "type": "heatmap"
           }
          ],
          "heatmapgl": [
           {
            "colorbar": {
             "outlinewidth": 0,
             "ticks": ""
            },
            "colorscale": [
             [
              0,
              "#0d0887"
             ],
             [
              0.1111111111111111,
              "#46039f"
             ],
             [
              0.2222222222222222,
              "#7201a8"
             ],
             [
              0.3333333333333333,
              "#9c179e"
             ],
             [
              0.4444444444444444,
              "#bd3786"
             ],
             [
              0.5555555555555556,
              "#d8576b"
             ],
             [
              0.6666666666666666,
              "#ed7953"
             ],
             [
              0.7777777777777778,
              "#fb9f3a"
             ],
             [
              0.8888888888888888,
              "#fdca26"
             ],
             [
              1,
              "#f0f921"
             ]
            ],
            "type": "heatmapgl"
           }
          ],
          "histogram": [
           {
            "marker": {
             "colorbar": {
              "outlinewidth": 0,
              "ticks": ""
             }
            },
            "type": "histogram"
           }
          ],
          "histogram2d": [
           {
            "colorbar": {
             "outlinewidth": 0,
             "ticks": ""
            },
            "colorscale": [
             [
              0,
              "#0d0887"
             ],
             [
              0.1111111111111111,
              "#46039f"
             ],
             [
              0.2222222222222222,
              "#7201a8"
             ],
             [
              0.3333333333333333,
              "#9c179e"
             ],
             [
              0.4444444444444444,
              "#bd3786"
             ],
             [
              0.5555555555555556,
              "#d8576b"
             ],
             [
              0.6666666666666666,
              "#ed7953"
             ],
             [
              0.7777777777777778,
              "#fb9f3a"
             ],
             [
              0.8888888888888888,
              "#fdca26"
             ],
             [
              1,
              "#f0f921"
             ]
            ],
            "type": "histogram2d"
           }
          ],
          "histogram2dcontour": [
           {
            "colorbar": {
             "outlinewidth": 0,
             "ticks": ""
            },
            "colorscale": [
             [
              0,
              "#0d0887"
             ],
             [
              0.1111111111111111,
              "#46039f"
             ],
             [
              0.2222222222222222,
              "#7201a8"
             ],
             [
              0.3333333333333333,
              "#9c179e"
             ],
             [
              0.4444444444444444,
              "#bd3786"
             ],
             [
              0.5555555555555556,
              "#d8576b"
             ],
             [
              0.6666666666666666,
              "#ed7953"
             ],
             [
              0.7777777777777778,
              "#fb9f3a"
             ],
             [
              0.8888888888888888,
              "#fdca26"
             ],
             [
              1,
              "#f0f921"
             ]
            ],
            "type": "histogram2dcontour"
           }
          ],
          "mesh3d": [
           {
            "colorbar": {
             "outlinewidth": 0,
             "ticks": ""
            },
            "type": "mesh3d"
           }
          ],
          "parcoords": [
           {
            "line": {
             "colorbar": {
              "outlinewidth": 0,
              "ticks": ""
             }
            },
            "type": "parcoords"
           }
          ],
          "pie": [
           {
            "automargin": true,
            "type": "pie"
           }
          ],
          "scatter": [
           {
            "marker": {
             "colorbar": {
              "outlinewidth": 0,
              "ticks": ""
             }
            },
            "type": "scatter"
           }
          ],
          "scatter3d": [
           {
            "line": {
             "colorbar": {
              "outlinewidth": 0,
              "ticks": ""
             }
            },
            "marker": {
             "colorbar": {
              "outlinewidth": 0,
              "ticks": ""
             }
            },
            "type": "scatter3d"
           }
          ],
          "scattercarpet": [
           {
            "marker": {
             "colorbar": {
              "outlinewidth": 0,
              "ticks": ""
             }
            },
            "type": "scattercarpet"
           }
          ],
          "scattergeo": [
           {
            "marker": {
             "colorbar": {
              "outlinewidth": 0,
              "ticks": ""
             }
            },
            "type": "scattergeo"
           }
          ],
          "scattergl": [
           {
            "marker": {
             "colorbar": {
              "outlinewidth": 0,
              "ticks": ""
             }
            },
            "type": "scattergl"
           }
          ],
          "scattermapbox": [
           {
            "marker": {
             "colorbar": {
              "outlinewidth": 0,
              "ticks": ""
             }
            },
            "type": "scattermapbox"
           }
          ],
          "scatterpolar": [
           {
            "marker": {
             "colorbar": {
              "outlinewidth": 0,
              "ticks": ""
             }
            },
            "type": "scatterpolar"
           }
          ],
          "scatterpolargl": [
           {
            "marker": {
             "colorbar": {
              "outlinewidth": 0,
              "ticks": ""
             }
            },
            "type": "scatterpolargl"
           }
          ],
          "scatterternary": [
           {
            "marker": {
             "colorbar": {
              "outlinewidth": 0,
              "ticks": ""
             }
            },
            "type": "scatterternary"
           }
          ],
          "surface": [
           {
            "colorbar": {
             "outlinewidth": 0,
             "ticks": ""
            },
            "colorscale": [
             [
              0,
              "#0d0887"
             ],
             [
              0.1111111111111111,
              "#46039f"
             ],
             [
              0.2222222222222222,
              "#7201a8"
             ],
             [
              0.3333333333333333,
              "#9c179e"
             ],
             [
              0.4444444444444444,
              "#bd3786"
             ],
             [
              0.5555555555555556,
              "#d8576b"
             ],
             [
              0.6666666666666666,
              "#ed7953"
             ],
             [
              0.7777777777777778,
              "#fb9f3a"
             ],
             [
              0.8888888888888888,
              "#fdca26"
             ],
             [
              1,
              "#f0f921"
             ]
            ],
            "type": "surface"
           }
          ],
          "table": [
           {
            "cells": {
             "fill": {
              "color": "#EBF0F8"
             },
             "line": {
              "color": "white"
             }
            },
            "header": {
             "fill": {
              "color": "#C8D4E3"
             },
             "line": {
              "color": "white"
             }
            },
            "type": "table"
           }
          ]
         },
         "layout": {
          "annotationdefaults": {
           "arrowcolor": "#2a3f5f",
           "arrowhead": 0,
           "arrowwidth": 1
          },
          "coloraxis": {
           "colorbar": {
            "outlinewidth": 0,
            "ticks": ""
           }
          },
          "colorscale": {
           "diverging": [
            [
             0,
             "#8e0152"
            ],
            [
             0.1,
             "#c51b7d"
            ],
            [
             0.2,
             "#de77ae"
            ],
            [
             0.3,
             "#f1b6da"
            ],
            [
             0.4,
             "#fde0ef"
            ],
            [
             0.5,
             "#f7f7f7"
            ],
            [
             0.6,
             "#e6f5d0"
            ],
            [
             0.7,
             "#b8e186"
            ],
            [
             0.8,
             "#7fbc41"
            ],
            [
             0.9,
             "#4d9221"
            ],
            [
             1,
             "#276419"
            ]
           ],
           "sequential": [
            [
             0,
             "#0d0887"
            ],
            [
             0.1111111111111111,
             "#46039f"
            ],
            [
             0.2222222222222222,
             "#7201a8"
            ],
            [
             0.3333333333333333,
             "#9c179e"
            ],
            [
             0.4444444444444444,
             "#bd3786"
            ],
            [
             0.5555555555555556,
             "#d8576b"
            ],
            [
             0.6666666666666666,
             "#ed7953"
            ],
            [
             0.7777777777777778,
             "#fb9f3a"
            ],
            [
             0.8888888888888888,
             "#fdca26"
            ],
            [
             1,
             "#f0f921"
            ]
           ],
           "sequentialminus": [
            [
             0,
             "#0d0887"
            ],
            [
             0.1111111111111111,
             "#46039f"
            ],
            [
             0.2222222222222222,
             "#7201a8"
            ],
            [
             0.3333333333333333,
             "#9c179e"
            ],
            [
             0.4444444444444444,
             "#bd3786"
            ],
            [
             0.5555555555555556,
             "#d8576b"
            ],
            [
             0.6666666666666666,
             "#ed7953"
            ],
            [
             0.7777777777777778,
             "#fb9f3a"
            ],
            [
             0.8888888888888888,
             "#fdca26"
            ],
            [
             1,
             "#f0f921"
            ]
           ]
          },
          "colorway": [
           "#636efa",
           "#EF553B",
           "#00cc96",
           "#ab63fa",
           "#FFA15A",
           "#19d3f3",
           "#FF6692",
           "#B6E880",
           "#FF97FF",
           "#FECB52"
          ],
          "font": {
           "color": "#2a3f5f"
          },
          "geo": {
           "bgcolor": "white",
           "lakecolor": "white",
           "landcolor": "#E5ECF6",
           "showlakes": true,
           "showland": true,
           "subunitcolor": "white"
          },
          "hoverlabel": {
           "align": "left"
          },
          "hovermode": "closest",
          "mapbox": {
           "style": "light"
          },
          "paper_bgcolor": "white",
          "plot_bgcolor": "#E5ECF6",
          "polar": {
           "angularaxis": {
            "gridcolor": "white",
            "linecolor": "white",
            "ticks": ""
           },
           "bgcolor": "#E5ECF6",
           "radialaxis": {
            "gridcolor": "white",
            "linecolor": "white",
            "ticks": ""
           }
          },
          "scene": {
           "xaxis": {
            "backgroundcolor": "#E5ECF6",
            "gridcolor": "white",
            "gridwidth": 2,
            "linecolor": "white",
            "showbackground": true,
            "ticks": "",
            "zerolinecolor": "white"
           },
           "yaxis": {
            "backgroundcolor": "#E5ECF6",
            "gridcolor": "white",
            "gridwidth": 2,
            "linecolor": "white",
            "showbackground": true,
            "ticks": "",
            "zerolinecolor": "white"
           },
           "zaxis": {
            "backgroundcolor": "#E5ECF6",
            "gridcolor": "white",
            "gridwidth": 2,
            "linecolor": "white",
            "showbackground": true,
            "ticks": "",
            "zerolinecolor": "white"
           }
          },
          "shapedefaults": {
           "line": {
            "color": "#2a3f5f"
           }
          },
          "ternary": {
           "aaxis": {
            "gridcolor": "white",
            "linecolor": "white",
            "ticks": ""
           },
           "baxis": {
            "gridcolor": "white",
            "linecolor": "white",
            "ticks": ""
           },
           "bgcolor": "#E5ECF6",
           "caxis": {
            "gridcolor": "white",
            "linecolor": "white",
            "ticks": ""
           }
          },
          "title": {
           "x": 0.05
          },
          "xaxis": {
           "automargin": true,
           "gridcolor": "white",
           "linecolor": "white",
           "ticks": "",
           "title": {
            "standoff": 15
           },
           "zerolinecolor": "white",
           "zerolinewidth": 2
          },
          "yaxis": {
           "automargin": true,
           "gridcolor": "white",
           "linecolor": "white",
           "ticks": "",
           "title": {
            "standoff": 15
           },
           "zerolinecolor": "white",
           "zerolinewidth": 2
          }
         }
        },
        "title": {
         "text": "Gain / Interactions initiated vs p (Comparison)"
        },
        "xaxis": {
         "title": {
          "text": "p"
         }
        },
        "yaxis": {
         "title": {
          "text": "gain / interactions initiated"
         }
        }
       }
      },
      "text/html": [
       "<div>\n",
       "        \n",
       "        \n",
       "            <div id=\"50f4bbb0-2cf8-430c-90bc-41a08c752b66\" class=\"plotly-graph-div\" style=\"height:525px; width:100%;\"></div>\n",
       "            <script type=\"text/javascript\">\n",
       "                require([\"plotly\"], function(Plotly) {\n",
       "                    window.PLOTLYENV=window.PLOTLYENV || {};\n",
       "                    \n",
       "                if (document.getElementById(\"50f4bbb0-2cf8-430c-90bc-41a08c752b66\")) {\n",
       "                    Plotly.newPlot(\n",
       "                        '50f4bbb0-2cf8-430c-90bc-41a08c752b66',\n",
       "                        [{\"error_y\": {\"array\": [0.023718629921116903, 0.017525885872469806, 0.012917509883833705, 0.010712598892142102, 0.008633002746715683, 0.0030264043082923815, 0.007107559034169287, 0.0029359515628701294, 0.004397540932925715, 0.005938062980123822], \"type\": \"data\", \"visible\": true}, \"hoverinfo\": \"skip\", \"marker\": {\"color\": \"rgb(31, 119, 180)\"}, \"mode\": \"lines+markers\", \"name\": \"Gain / Interactions initiated (r=16 strat=mwu)\", \"type\": \"scatter\", \"x\": [\"1.0\", \"0.9\", \"0.8\", \"0.7\", \"0.6\", \"0.5\", \"0.4\", \"0.3\", \"0.2\", \"0.1\"], \"y\": [0.13194476789039195, 0.10492142159064866, 0.09644514535291838, 0.08395406200310629, 0.07814057341779572, 0.07729443101553643, 0.07551383539653776, 0.07497161120841489, 0.06990042530398133, 0.06387693326996922]}, {\"hoverinfo\": \"skip\", \"marker\": {\"color\": \"rgb(31, 119, 180)\"}, \"mode\": \"markers\", \"name\": \"ratio per iter (r=16 strat=mwu)\", \"opacity\": 0.3, \"type\": \"scatter\", \"x\": [\"1.0\", \"1.0\", \"1.0\", \"1.0\", \"1.0\", \"1.0\", \"1.0\", \"1.0\", \"1.0\", \"1.0\", \"0.9\", \"0.9\", \"0.9\", \"0.9\", \"0.9\", \"0.9\", \"0.9\", \"0.9\", \"0.9\", \"0.9\", \"0.8\", \"0.8\", \"0.8\", \"0.8\", \"0.8\", \"0.8\", \"0.8\", \"0.8\", \"0.8\", \"0.8\", \"0.7\", \"0.7\", \"0.7\", \"0.7\", \"0.7\", \"0.7\", \"0.7\", \"0.7\", \"0.7\", \"0.7\", \"0.6\", \"0.6\", \"0.6\", \"0.6\", \"0.6\", \"0.6\", \"0.6\", \"0.6\", \"0.6\", \"0.6\", \"0.5\", \"0.5\", \"0.5\", \"0.5\", \"0.5\", \"0.5\", \"0.5\", \"0.5\", \"0.5\", \"0.5\", \"0.4\", \"0.4\", \"0.4\", \"0.4\", \"0.4\", \"0.4\", \"0.4\", \"0.4\", \"0.4\", \"0.4\", \"0.3\", \"0.3\", \"0.3\", \"0.3\", \"0.3\", \"0.3\", \"0.3\", \"0.3\", \"0.3\", \"0.3\", \"0.2\", \"0.2\", \"0.2\", \"0.2\", \"0.2\", \"0.2\", \"0.2\", \"0.2\", \"0.2\", \"0.2\", \"0.1\", \"0.1\", \"0.1\", \"0.1\", \"0.1\", \"0.1\", \"0.1\", \"0.1\", \"0.1\", \"0.1\"], \"y\": [0.13068181818181818, 0.1115942028985507, 0.14390896921017404, 0.11910112359550562, 0.1581439393939394, 0.1741622574955908, 0.13950617283950617, 0.1180878552971576, 0.08568456096545984, 0.13857677902621723, 0.1434108527131783, 0.11161048689138577, 0.12878787878787878, 0.08482676224611709, 0.1009557945041816, 0.10032206119162643, 0.09050925925925928, 0.10396825396825396, 0.08981481481481479, 0.09500805152979065, 0.09669454400637198, 0.07713920817369092, 0.11046511627906974, 0.10808080808080808, 0.10533170533170534, 0.0924223073648361, 0.11234567901234567, 0.08682818156502364, 0.07404500261643118, 0.10109890109890109, 0.11094082588335466, 0.086709224752703, 0.07738095238095238, 0.07481907194550871, 0.08535164377861007, 0.08648758648758649, 0.08573806551334642, 0.07975494291283763, 0.08439444153729869, 0.06796386483886484, 0.06969710480946437, 0.07443077105998455, 0.08201666362585905, 0.09451303155006859, 0.08318380492293535, 0.07713293650793653, 0.07943641876226146, 0.0857583774250441, 0.06172104644326867, 0.07351557907113464, 0.07145863395863396, 0.079057462778393, 0.08341331364587178, 0.0788894833838654, 0.07738822024536311, 0.07634977527450645, 0.07650171179582944, 0.07567810010338746, 0.07484252960443435, 0.07936507936507936, 0.06686285000891741, 0.07381981187536743, 0.06598432055749129, 0.07575474634298163, 0.08673681707389573, 0.08248868489832345, 0.07256581494386372, 0.07614279561953982, 0.06885148695493523, 0.08593102569006184, 0.0729129923574368, 0.07568146808653138, 0.07184523809523809, 0.07413419913419914, 0.07372763920382967, 0.0753171415822018, 0.08259130210349722, 0.07562830687830688, 0.07185443283004259, 0.07602339181286549, 0.06411908197622483, 0.07177666388192702, 0.07625948930296755, 0.06730571016285301, 0.07315215648548981, 0.07030034235916588, 0.06337264844209288, 0.06653104279686557, 0.07657053431701318, 0.06961658331521345, 0.05593348450491307, 0.05947819740923189, 0.06646825396825395, 0.06273291925465838, 0.0742133110554163, 0.06743332253536335, 0.058989080265676015, 0.07173828881145954, 0.06531422092646581, 0.05646825396825395]}, {\"error_y\": {\"array\": [0.009379244870377812, 0.008489249198509402, 0.006625194624353072, 0.006002481012273199, 0.0100169613294253, 0.004788269328133152, 0.008180081393441225, 0.013295479435650336, 0.01248345989651305, 0.013525376359414464], \"type\": \"data\", \"visible\": true}, \"hoverinfo\": \"skip\", \"marker\": {\"color\": \"rgb(255, 127, 14)\"}, \"mode\": \"lines+markers\", \"name\": \"Gain / Interactions initiated (r=8 strat=mwu)\", \"type\": \"scatter\", \"x\": [\"1.0\", \"0.9\", \"0.8\", \"0.7\", \"0.6\", \"0.5\", \"0.4\", \"0.3\", \"0.2\", \"0.1\"], \"y\": [0.14668699047288308, 0.14701789432943238, 0.14523639893796803, 0.14725217149983297, 0.14557291691768642, 0.14054050664115447, 0.1316476186396952, 0.13115938521611764, 0.12816835660018844, 0.11942448006786241]}, {\"hoverinfo\": \"skip\", \"marker\": {\"color\": \"rgb(255, 127, 14)\"}, \"mode\": \"markers\", \"name\": \"ratio per iter (r=8 strat=mwu)\", \"opacity\": 0.3, \"type\": \"scatter\", \"x\": [\"1.0\", \"1.0\", \"1.0\", \"1.0\", \"1.0\", \"1.0\", \"1.0\", \"1.0\", \"1.0\", \"1.0\", \"0.9\", \"0.9\", \"0.9\", \"0.9\", \"0.9\", \"0.9\", \"0.9\", \"0.9\", \"0.9\", \"0.9\", \"0.8\", \"0.8\", \"0.8\", \"0.8\", \"0.8\", \"0.8\", \"0.8\", \"0.8\", \"0.8\", \"0.8\", \"0.7\", \"0.7\", \"0.7\", \"0.7\", \"0.7\", \"0.7\", \"0.7\", \"0.7\", \"0.7\", \"0.7\", \"0.6\", \"0.6\", \"0.6\", \"0.6\", \"0.6\", \"0.6\", \"0.6\", \"0.6\", \"0.6\", \"0.6\", \"0.5\", \"0.5\", \"0.5\", \"0.5\", \"0.5\", \"0.5\", \"0.5\", \"0.5\", \"0.5\", \"0.5\", \"0.4\", \"0.4\", \"0.4\", \"0.4\", \"0.4\", \"0.4\", \"0.4\", \"0.4\", \"0.4\", \"0.4\", \"0.3\", \"0.3\", \"0.3\", \"0.3\", \"0.3\", \"0.3\", \"0.3\", \"0.3\", \"0.3\", \"0.3\", \"0.2\", \"0.2\", \"0.2\", \"0.2\", \"0.2\", \"0.2\", \"0.2\", \"0.2\", \"0.2\", \"0.2\", \"0.1\", \"0.1\", \"0.1\", \"0.1\", \"0.1\", \"0.1\", \"0.1\", \"0.1\", \"0.1\", \"0.1\"], \"y\": [0.14875864875864875, 0.15401234567901234, 0.148253367003367, 0.15384615384615385, 0.13991769547325106, 0.15123456790123457, 0.16136079900124844, 0.12699915824915828, 0.1368081564710778, 0.14567901234567904, 0.1416881998277347, 0.1483539094650206, 0.15540824915824916, 0.14163614163614166, 0.15781440781440784, 0.1531803542673108, 0.1278409090909091, 0.1544238683127572, 0.1465201465201465, 0.1433127572016461, 0.14543075684380033, 0.15288065843621398, 0.13383838383838384, 0.14302832244008715, 0.14908447773616312, 0.15411522633744854, 0.14450686641697877, 0.13920454545454544, 0.13755144032921812, 0.15272331154684096, 0.14643719806763283, 0.15189346650020807, 0.143351182507809, 0.14498910675381263, 0.15277777777777776, 0.15700040700040702, 0.13569223985890652, 0.1525807722616233, 0.14193899782135078, 0.14586056644880174, 0.1636904761904762, 0.138668430335097, 0.1360999553770638, 0.14585934248855595, 0.125599128540305, 0.14583333333333334, 0.14849108367626887, 0.1531502767134951, 0.1443287037037037, 0.1540084388185654, 0.14016203703703703, 0.1423611111111111, 0.13090277777777778, 0.14334705075445814, 0.1360566448801743, 0.1351120857699805, 0.14247685185185183, 0.1450980392156863, 0.14741161616161616, 0.14247685185185185, 0.1420987654320988, 0.13477366255144033, 0.13058278867102396, 0.13760288065843623, 0.14069264069264073, 0.11903021442495124, 0.11658841940532083, 0.1356285863328117, 0.13310185185185186, 0.12637637637637636, 0.14030131826741996, 0.14297385620915032, 0.1388888888888889, 0.12210648148148148, 0.11409796893667862, 0.1225071225071225, 0.13369809203142538, 0.11923326835607537, 0.1192901234567901, 0.1584967320261438, 0.13061465721040189, 0.10518518518518519, 0.13337273443656422, 0.133179012345679, 0.13166666666666665, 0.12678062678062677, 0.11434108527131784, 0.15432098765432098, 0.13220164609053497, 0.12002096436058698, 0.14066951566951566, 0.12654320987654322, 0.1003086419753086, 0.10866013071895424, 0.1429398148148148, 0.11210317460317462, 0.11825396825396824, 0.10576923076923075, 0.12457912457912457, 0.11441798941798942]}, {\"error_y\": {\"array\": [0.031178929390787303, 0.015513524885076683, 0.020340116902769056, 0.01372545494252362, 0.010375554895049701, 0.005190351074541017, 0.009068570944397142, 0.008950370614733702, 0.005786154886507074, 0.005581921482706752], \"type\": \"data\", \"visible\": true}, \"hoverinfo\": \"skip\", \"marker\": {\"color\": \"rgb(255, 127, 14)\"}, \"mode\": \"lines+markers\", \"name\": \"Gain / Interactions initiated (r=16 strat=se_mwu)\", \"type\": \"scatter\", \"x\": [\"1.0\", \"0.9\", \"0.8\", \"0.7\", \"0.6\", \"0.5\", \"0.4\", \"0.3\", \"0.2\", \"0.1\"], \"y\": [0.1389714179887805, 0.10030050057844361, 0.09707422755856235, 0.09333240245482112, 0.0836331117747, 0.0812993354834249, 0.08217891058872386, 0.07708514821030119, 0.07479451635819565, 0.06722983828627496]}, {\"hoverinfo\": \"skip\", \"marker\": {\"color\": \"rgb(255, 127, 14)\"}, \"mode\": \"markers\", \"name\": \"ratio per iter (r=16 strat=se_mwu)\", \"opacity\": 0.3, \"type\": \"scatter\", \"x\": [\"1.0\", \"1.0\", \"1.0\", \"1.0\", \"1.0\", \"1.0\", \"1.0\", \"1.0\", \"1.0\", \"1.0\", \"0.9\", \"0.9\", \"0.9\", \"0.9\", \"0.9\", \"0.9\", \"0.9\", \"0.9\", \"0.9\", \"0.9\", \"0.8\", \"0.8\", \"0.8\", \"0.8\", \"0.8\", \"0.8\", \"0.8\", \"0.8\", \"0.8\", \"0.8\", \"0.7\", \"0.7\", \"0.7\", \"0.7\", \"0.7\", \"0.7\", \"0.7\", \"0.7\", \"0.7\", \"0.7\", \"0.6\", \"0.6\", \"0.6\", \"0.6\", \"0.6\", \"0.6\", \"0.6\", \"0.6\", \"0.6\", \"0.6\", \"0.5\", \"0.5\", \"0.5\", \"0.5\", \"0.5\", \"0.5\", \"0.5\", \"0.5\", \"0.5\", \"0.5\", \"0.4\", \"0.4\", \"0.4\", \"0.4\", \"0.4\", \"0.4\", \"0.4\", \"0.4\", \"0.4\", \"0.4\", \"0.3\", \"0.3\", \"0.3\", \"0.3\", \"0.3\", \"0.3\", \"0.3\", \"0.3\", \"0.3\", \"0.3\", \"0.2\", \"0.2\", \"0.2\", \"0.2\", \"0.2\", \"0.2\", \"0.2\", \"0.2\", \"0.2\", \"0.2\", \"0.1\", \"0.1\", \"0.1\", \"0.1\", \"0.1\", \"0.1\", \"0.1\", \"0.1\", \"0.1\", \"0.1\"], \"y\": [0.16372053872053874, 0.1196256038647343, 0.19918699186991867, 0.16158967956720768, 0.11751743626743627, 0.1377204585537919, 0.12487654320987654, 0.13488372093023257, 0.07788825476091395, 0.1527049521431544, 0.1277777777777778, 0.12369954223886809, 0.09849987974987974, 0.07588657525933512, 0.09780394834158274, 0.09577294685990335, 0.0873236331569665, 0.11007495590828925, 0.10050034506556246, 0.085665401426271, 0.1291517323775388, 0.0862172388335179, 0.10463578196136335, 0.10582912457912458, 0.13176347462061747, 0.0739037888463176, 0.08263766411914561, 0.0830474333983106, 0.10257573114715973, 0.07098030570252793, 0.09865089501104826, 0.08715157963346369, 0.0926948051948052, 0.08961020946039673, 0.07743495234131939, 0.08589307517878947, 0.12161286487129183, 0.08009236053095703, 0.08545264259549974, 0.11473063973063975, 0.08141063749677982, 0.0868061748211561, 0.09402177218269171, 0.10973936899862827, 0.07613137453562988, 0.08139830848164183, 0.0776494659453461, 0.07324368018812463, 0.07678473446991965, 0.07914560062708212, 0.07711740420073754, 0.07435861773211172, 0.08586379208984574, 0.07779230800064134, 0.08465755437977661, 0.08428348547396167, 0.07368574828414187, 0.0814879950296617, 0.08298219332355879, 0.0907642563198119, 0.06672012617705503, 0.08829754123871769, 0.07021795458009451, 0.08221490945068183, 0.08644997324772605, 0.08978309029122038, 0.08388801794151587, 0.08679022481704474, 0.07150808565537246, 0.09591918248780991, 0.08508355916892503, 0.08714274408718854, 0.0658709650957713, 0.07127644104388291, 0.08095348324514992, 0.07028180520244012, 0.0942859375348827, 0.07712051734273956, 0.0684760015117158, 0.07036002787031594, 0.07243471977268273, 0.08994157848324516, 0.07388579055245723, 0.06976736964999875, 0.07713022190634129, 0.0709156810872497, 0.07148672136594841, 0.07881495048161716, 0.0737795414462081, 0.0697885888362079, 0.07148526077097506, 0.06446118129791599, 0.07141754850088183, 0.062466196355085254, 0.056380560454634535, 0.06620604900746743, 0.07146927146927148, 0.07577735603097924, 0.07044801012192316, 0.06218694885361551]}, {\"error_y\": {\"array\": [0.012663391723075663, 0.009121276454682962, 0.008440346163474987, 0.010650007221477197, 0.00932145748051906, 0.010793424734517776, 0.011143268235066605, 0.008015554376006496, 0.01720673195690038, 0.01311418996059446], \"type\": \"data\", \"visible\": true}, \"hoverinfo\": \"skip\", \"marker\": {\"color\": \"rgb(44, 160, 44)\"}, \"mode\": \"lines+markers\", \"name\": \"Gain / Interactions initiated (r=8 strat=se_mwu)\", \"type\": \"scatter\", \"x\": [\"1.0\", \"0.9\", \"0.8\", \"0.7\", \"0.6\", \"0.5\", \"0.4\", \"0.3\", \"0.2\", \"0.1\"], \"y\": [0.15351526792205522, 0.15031773509733187, 0.14733484547729134, 0.14913439211343246, 0.14221419521455292, 0.14777507163965603, 0.14313561050047796, 0.1343361823470499, 0.13296154351247885, 0.12946596810984792]}, {\"hoverinfo\": \"skip\", \"marker\": {\"color\": \"rgb(44, 160, 44)\"}, \"mode\": \"markers\", \"name\": \"ratio per iter (r=8 strat=se_mwu)\", \"opacity\": 0.3, \"type\": \"scatter\", \"x\": [\"1.0\", \"1.0\", \"1.0\", \"1.0\", \"1.0\", \"1.0\", \"1.0\", \"1.0\", \"1.0\", \"1.0\", \"0.9\", \"0.9\", \"0.9\", \"0.9\", \"0.9\", \"0.9\", \"0.9\", \"0.9\", \"0.9\", \"0.9\", \"0.8\", \"0.8\", \"0.8\", \"0.8\", \"0.8\", \"0.8\", \"0.8\", \"0.8\", \"0.8\", \"0.8\", \"0.7\", \"0.7\", \"0.7\", \"0.7\", \"0.7\", \"0.7\", \"0.7\", \"0.7\", \"0.7\", \"0.7\", \"0.6\", \"0.6\", \"0.6\", \"0.6\", \"0.6\", \"0.6\", \"0.6\", \"0.6\", \"0.6\", \"0.6\", \"0.5\", \"0.5\", \"0.5\", \"0.5\", \"0.5\", \"0.5\", \"0.5\", \"0.5\", \"0.5\", \"0.5\", \"0.4\", \"0.4\", \"0.4\", \"0.4\", \"0.4\", \"0.4\", \"0.4\", \"0.4\", \"0.4\", \"0.4\", \"0.3\", \"0.3\", \"0.3\", \"0.3\", \"0.3\", \"0.3\", \"0.3\", \"0.3\", \"0.3\", \"0.3\", \"0.2\", \"0.2\", \"0.2\", \"0.2\", \"0.2\", \"0.2\", \"0.2\", \"0.2\", \"0.2\", \"0.2\", \"0.1\", \"0.1\", \"0.1\", \"0.1\", \"0.1\", \"0.1\", \"0.1\", \"0.1\", \"0.1\", \"0.1\"], \"y\": [0.13650205761316872, 0.1633127572016461, 0.15014565126924678, 0.1693747510951812, 0.1460493827160494, 0.15457641549595572, 0.16720164609053498, 0.1333543771043771, 0.1690595089471494, 0.1455761316872428, 0.14631782945736432, 0.16658343736995423, 0.13992003367003367, 0.15489711934156378, 0.1559259259259259, 0.144775828460039, 0.13897211818560132, 0.16397119341563787, 0.14415954415954416, 0.14765432098765433, 0.15065120065120066, 0.16121514773200166, 0.1275925925925926, 0.1456364410387399, 0.15002104377104378, 0.147979797979798, 0.1475514403292181, 0.14393004115226338, 0.14273662551440328, 0.1560341240116521, 0.1285230352303523, 0.13767489711934155, 0.16183006535947714, 0.14796965640339133, 0.15015073212747632, 0.16321265085310027, 0.15459841864336243, 0.14696054750402573, 0.14074074074074075, 0.1596831771530567, 0.14669312169312168, 0.1411065386374028, 0.12319223985890652, 0.13350168350168348, 0.14931657848324514, 0.1550632911392405, 0.13335564480142792, 0.14612200435729847, 0.14156862745098037, 0.15222222222222223, 0.14201388888888888, 0.1548696844993141, 0.1251187084520418, 0.15333333333333332, 0.14695121951219514, 0.141951566951567, 0.16052631578947368, 0.13945147679324896, 0.16415180612711477, 0.14938271604938272, 0.16123136123136123, 0.14427609427609428, 0.1329307568438003, 0.15312327252625757, 0.14968701095461656, 0.12975308641975308, 0.13636136136136134, 0.1572072072072072, 0.12822944896115626, 0.1385565052231719, 0.1419459141681364, 0.13202792956891318, 0.13783068783068783, 0.13070757324488666, 0.1266602809706258, 0.14547325102880657, 0.12325440194292653, 0.12587587587587587, 0.13214483139856273, 0.14744107744107743, 0.1356902356902357, 0.1102469135802469, 0.10769789397240374, 0.17080610021786494, 0.13340740740740742, 0.14629629629629626, 0.13752620545073374, 0.13743961352657003, 0.12143874643874643, 0.1290660225442834, 0.13863168724279837, 0.125, 0.12369093231162195, 0.14129629629629623, 0.10354497354497354, 0.15066872427983535, 0.13639846743295017, 0.12690058479532162, 0.1345679012345679, 0.11396011396011395]}, {\"error_y\": {\"array\": [0.03685323149646797, 0.018252545523483595, 0.014587736321595567, 0.00988864930386192, 0.006814085651774424, 0.003238681503577311, 0.005235987694354146, 0.005479765758404523, 0.005333924985018804, 0.005355296013671725], \"type\": \"data\", \"visible\": true}, \"hoverinfo\": \"skip\", \"marker\": {\"color\": \"rgb(44, 160, 44)\"}, \"mode\": \"lines+markers\", \"name\": \"Gain / Interactions initiated (r=16 strat=unif)\", \"type\": \"scatter\", \"x\": [\"1.0\", \"0.9\", \"0.8\", \"0.7\", \"0.6\", \"0.5\", \"0.4\", \"0.3\", \"0.2\", \"0.1\"], \"y\": [0.13609998319312094, 0.1072028544459708, 0.09570146251907594, 0.08820076738274113, 0.0819435130261272, 0.08091480907177978, 0.08252173967566455, 0.0793481922839923, 0.07164006690859334, 0.06897953924627061]}, {\"hoverinfo\": \"skip\", \"marker\": {\"color\": \"rgb(44, 160, 44)\"}, \"mode\": \"markers\", \"name\": \"ratio per iter (r=16 strat=unif)\", \"opacity\": 0.3, \"type\": \"scatter\", \"x\": [\"1.0\", \"1.0\", \"1.0\", \"1.0\", \"1.0\", \"1.0\", \"1.0\", \"1.0\", \"1.0\", \"1.0\", \"0.9\", \"0.9\", \"0.9\", \"0.9\", \"0.9\", \"0.9\", \"0.9\", \"0.9\", \"0.9\", \"0.9\", \"0.8\", \"0.8\", \"0.8\", \"0.8\", \"0.8\", \"0.8\", \"0.8\", \"0.8\", \"0.8\", \"0.8\", \"0.7\", \"0.7\", \"0.7\", \"0.7\", \"0.7\", \"0.7\", \"0.7\", \"0.7\", \"0.7\", \"0.7\", \"0.6\", \"0.6\", \"0.6\", \"0.6\", \"0.6\", \"0.6\", \"0.6\", \"0.6\", \"0.6\", \"0.6\", \"0.5\", \"0.5\", \"0.5\", \"0.5\", \"0.5\", \"0.5\", \"0.5\", \"0.5\", \"0.5\", \"0.5\", \"0.4\", \"0.4\", \"0.4\", \"0.4\", \"0.4\", \"0.4\", \"0.4\", \"0.4\", \"0.4\", \"0.4\", \"0.3\", \"0.3\", \"0.3\", \"0.3\", \"0.3\", \"0.3\", \"0.3\", \"0.3\", \"0.3\", \"0.3\", \"0.2\", \"0.2\", \"0.2\", \"0.2\", \"0.2\", \"0.2\", \"0.2\", \"0.2\", \"0.2\", \"0.2\", \"0.1\", \"0.1\", \"0.1\", \"0.1\", \"0.1\", \"0.1\", \"0.1\", \"0.1\", \"0.1\", \"0.1\"], \"y\": [0.13068181818181818, 0.11159420289855071, 0.1918786256135654, 0.19850187265917604, 0.15814393939393942, 0.10449735449735449, 0.09349794238683129, 0.14760981912144702, 0.08601747815230963, 0.1385767790262172, 0.1434108527131783, 0.09338327091136081, 0.12878787878787878, 0.0854042214257268, 0.1016726403823178, 0.11980676328502415, 0.09104938271604938, 0.08725749559082893, 0.10772946859903382, 0.11352657004830916, 0.09772998805256869, 0.10727969348659, 0.11085271317829455, 0.1080808080808081, 0.09201697773126344, 0.07934531411542904, 0.07990152851263964, 0.1202923976608187, 0.07722542008256295, 0.08428978428978429, 0.11136653895274584, 0.08975730388773867, 0.08966450216450217, 0.09575530586766544, 0.07181350692586648, 0.08863887435316008, 0.0868557160691992, 0.08292806484295845, 0.08567939996511426, 0.0795484607984608, 0.07913059163059163, 0.08629689079127281, 0.08034878063613697, 0.09497027892089621, 0.0855397951142632, 0.09049122174122175, 0.07789915383548343, 0.07733056185437139, 0.07196342305037957, 0.07546443268665491, 0.08109668109668111, 0.07895082236167507, 0.08524055617078874, 0.07857604282022887, 0.07827160493827161, 0.08151636723065295, 0.07571272953625896, 0.08506493506493507, 0.07911785084404134, 0.08560050065426408, 0.07454304954304955, 0.0855713677552758, 0.07517146776406035, 0.07926169190537007, 0.089246632996633, 0.08172522442185363, 0.08073882832918976, 0.08695398055863171, 0.08133208839091191, 0.09067306509166974, 0.07833800186741363, 0.08179232804232804, 0.069187675070028, 0.08052479389688691, 0.07954994581500606, 0.08276731881383044, 0.09091384153112547, 0.08077816492450639, 0.0747092179581631, 0.07492063492063492, 0.06959183673469387, 0.07873851294903926, 0.06959325396825397, 0.0658823310231761, 0.07928310604366942, 0.06865671641791044, 0.0687245207737011, 0.07548500881834215, 0.07722144413320882, 0.06322393822393821, 0.06816783560969607, 0.06527147896195516, 0.0779320987654321, 0.06876055386693684, 0.0604035929617325, 0.07117419617419617, 0.06427238423362455, 0.07289829512051735, 0.07645502645502644, 0.06445993031358883]}, {\"error_y\": {\"array\": [0.011205033885015087, 0.00862208801621762, 0.00747469034312833, 0.008693106610323218, 0.012729944768682186, 0.006678691985329352, 0.010630496842063871, 0.012294728611376595, 0.00837034069622219, 0.01477213915443943], \"type\": \"data\", \"visible\": true}, \"hoverinfo\": \"skip\", \"marker\": {\"color\": \"rgb(214, 39, 40)\"}, \"mode\": \"lines+markers\", \"name\": \"Gain / Interactions initiated (r=8 strat=unif)\", \"type\": \"scatter\", \"x\": [\"1.0\", \"0.9\", \"0.8\", \"0.7\", \"0.6\", \"0.5\", \"0.4\", \"0.3\", \"0.2\", \"0.1\"], \"y\": [0.16852842609708055, 0.16546248062034302, 0.15951837010424985, 0.1719081766934366, 0.1673891750020268, 0.1563511402331158, 0.15450922026631325, 0.14910551588168103, 0.13908076412024545, 0.13171482588762]}, {\"hoverinfo\": \"skip\", \"marker\": {\"color\": \"rgb(214, 39, 40)\"}, \"mode\": \"markers\", \"name\": \"ratio per iter (r=8 strat=unif)\", \"opacity\": 0.3, \"type\": \"scatter\", \"x\": [\"1.0\", \"1.0\", \"1.0\", \"1.0\", \"1.0\", \"1.0\", \"1.0\", \"1.0\", \"1.0\", \"1.0\", \"0.9\", \"0.9\", \"0.9\", \"0.9\", \"0.9\", \"0.9\", \"0.9\", \"0.9\", \"0.9\", \"0.9\", \"0.8\", \"0.8\", \"0.8\", \"0.8\", \"0.8\", \"0.8\", \"0.8\", \"0.8\", \"0.8\", \"0.8\", \"0.7\", \"0.7\", \"0.7\", \"0.7\", \"0.7\", \"0.7\", \"0.7\", \"0.7\", \"0.7\", \"0.7\", \"0.6\", \"0.6\", \"0.6\", \"0.6\", \"0.6\", \"0.6\", \"0.6\", \"0.6\", \"0.6\", \"0.6\", \"0.5\", \"0.5\", \"0.5\", \"0.5\", \"0.5\", \"0.5\", \"0.5\", \"0.5\", \"0.5\", \"0.5\", \"0.4\", \"0.4\", \"0.4\", \"0.4\", \"0.4\", \"0.4\", \"0.4\", \"0.4\", \"0.4\", \"0.4\", \"0.3\", \"0.3\", \"0.3\", \"0.3\", \"0.3\", \"0.3\", \"0.3\", \"0.3\", \"0.3\", \"0.3\", \"0.2\", \"0.2\", \"0.2\", \"0.2\", \"0.2\", \"0.2\", \"0.2\", \"0.2\", \"0.2\", \"0.2\", \"0.1\", \"0.1\", \"0.1\", \"0.1\", \"0.1\", \"0.1\", \"0.1\", \"0.1\", \"0.1\", \"0.1\"], \"y\": [0.1748971193415638, 0.17750420875420875, 0.16687473990844778, 0.18035855003940113, 0.1602483164983165, 0.17350589225589227, 0.18352059925093636, 0.14474244359301833, 0.15883838383838383, 0.1647940074906367, 0.15762273901808788, 0.17185592185592186, 0.17094508301404854, 0.16508838383838384, 0.1692675821889305, 0.1724412584627638, 0.14983164983164984, 0.17242798353909466, 0.1734839234839235, 0.15166028097062578, 0.16337448559670784, 0.16375364128173117, 0.14804858622062925, 0.15977605512489235, 0.16666666666666669, 0.16675381263616557, 0.1479468599033816, 0.15709876543209877, 0.15229885057471265, 0.1694659776055125, 0.16498316498316498, 0.1808216262239251, 0.16881998277347116, 0.1614858906525573, 0.18028455284552847, 0.1873219373219373, 0.1614987080103359, 0.17915590008613266, 0.16721781305114639, 0.16749219098616688, 0.18794091710758382, 0.15808491418247514, 0.15138331102186525, 0.17067183462532298, 0.15068342151675482, 0.1672312556458898, 0.16701828410689173, 0.16765873015873012, 0.16255144032921812, 0.19066764132553604, 0.15536315536315531, 0.15898825654923218, 0.15, 0.15557992202729046, 0.15896921017402946, 0.14494741655235482, 0.16115799343647444, 0.15029358626919603, 0.17043895747599452, 0.15777290448343076, 0.1648662551440329, 0.16456228956228955, 0.14291465378421903, 0.15781625781625783, 0.15363060428849903, 0.128003003003003, 0.15930999492643327, 0.15616362631288006, 0.16096866096866097, 0.15685685685685685, 0.15250544662309365, 0.15081369248035917, 0.15097300690521032, 0.12866224433388612, 0.15307646356033452, 0.13325281803542674, 0.15012143290831814, 0.17167577413479052, 0.13780864197530862, 0.1621656378600823, 0.13928289992119777, 0.137037037037037, 0.12962962962962962, 0.15338164251207728, 0.12446167097329891, 0.1525252525252525, 0.13681027966742254, 0.14010721247563349, 0.1397119341563786, 0.13786008230452673, 0.13425925925925927, 0.14166666666666664, 0.13212250712250712, 0.11284722222222224, 0.14798474945533768, 0.146011396011396, 0.14506172839506173, 0.1280864197530864, 0.1299019607843137, 0.09920634920634921]}, {\"error_y\": {\"array\": [0.031867844680513645, 0.016137006014849787, 0.009046521728927892, 0.012868560542211693, 0.00879841670481088, 0.007266839015916412, 0.006095812255942299, 0.00668516545751153, 0.004402800300659189, 0.008398318105182743], \"type\": \"data\", \"visible\": true}, \"hoverinfo\": \"skip\", \"marker\": {\"color\": \"rgb(214, 39, 40)\"}, \"mode\": \"lines+markers\", \"name\": \"Gain / Interactions initiated (r=16 strat=rr)\", \"type\": \"scatter\", \"x\": [\"1.0\", \"0.9\", \"0.8\", \"0.7\", \"0.6\", \"0.5\", \"0.4\", \"0.3\", \"0.2\", \"0.1\"], \"y\": [0.15395496214859924, 0.11497128770125686, 0.10839015934697158, 0.0935660674212265, 0.08272013249755825, 0.0834701781164556, 0.08211300232883971, 0.07991485413242438, 0.07230640450047594, 0.0653629971516711]}, {\"hoverinfo\": \"skip\", \"marker\": {\"color\": \"rgb(214, 39, 40)\"}, \"mode\": \"markers\", \"name\": \"ratio per iter (r=16 strat=rr)\", \"opacity\": 0.3, \"type\": \"scatter\", \"x\": [\"1.0\", \"1.0\", \"1.0\", \"1.0\", \"1.0\", \"1.0\", \"1.0\", \"1.0\", \"1.0\", \"1.0\", \"0.9\", \"0.9\", \"0.9\", \"0.9\", \"0.9\", \"0.9\", \"0.9\", \"0.9\", \"0.9\", \"0.9\", \"0.8\", \"0.8\", \"0.8\", \"0.8\", \"0.8\", \"0.8\", \"0.8\", \"0.8\", \"0.8\", \"0.8\", \"0.7\", \"0.7\", \"0.7\", \"0.7\", \"0.7\", \"0.7\", \"0.7\", \"0.7\", \"0.7\", \"0.7\", \"0.6\", \"0.6\", \"0.6\", \"0.6\", \"0.6\", \"0.6\", \"0.6\", \"0.6\", \"0.6\", \"0.6\", \"0.5\", \"0.5\", \"0.5\", \"0.5\", \"0.5\", \"0.5\", \"0.5\", \"0.5\", \"0.5\", \"0.5\", \"0.4\", \"0.4\", \"0.4\", \"0.4\", \"0.4\", \"0.4\", \"0.4\", \"0.4\", \"0.4\", \"0.4\", \"0.3\", \"0.3\", \"0.3\", \"0.3\", \"0.3\", \"0.3\", \"0.3\", \"0.3\", \"0.3\", \"0.3\", \"0.2\", \"0.2\", \"0.2\", \"0.2\", \"0.2\", \"0.2\", \"0.2\", \"0.2\", \"0.2\", \"0.2\", \"0.1\", \"0.1\", \"0.1\", \"0.1\", \"0.1\", \"0.1\", \"0.1\", \"0.1\", \"0.1\", \"0.1\"], \"y\": [0.17424242424242428, 0.11159420289855071, 0.19187862561356536, 0.19850187265917604, 0.1581439393939394, 0.13062169312169314, 0.1860082304526749, 0.14760981912144705, 0.10237203495630463, 0.13857677902621723, 0.14341085271317827, 0.1395131086142322, 0.12878787878787878, 0.10179211469534048, 0.10075667064914373, 0.11980676328502415, 0.10873842592592592, 0.10396825396825396, 0.1077294685990338, 0.09520933977455719, 0.11565113500597368, 0.10727969348659003, 0.11033591731266147, 0.1080808080808081, 0.12576312576312573, 0.11091954022988504, 0.11234567901234567, 0.08961849067112224, 0.10280830280830279, 0.10109890109890109, 0.11102596849723283, 0.08733609385783299, 0.08795695045695046, 0.09575530586766541, 0.08555971702039118, 0.1199023199023199, 0.09779442363712026, 0.09259259259259259, 0.08467934182219897, 0.07305796055796056, 0.07697372332203793, 0.08525652458236728, 0.08028492367572826, 0.09442158207590307, 0.08376674546887312, 0.09987373737373738, 0.07701682420783545, 0.08602292768959437, 0.06912813434552564, 0.07445620223398002, 0.07652867965367965, 0.07973832082359214, 0.09534883720930233, 0.0785238689733072, 0.07854791299235744, 0.08242672849414423, 0.07514005602240896, 0.09638047138047137, 0.08962962962962961, 0.0824372759856631, 0.0748857623857624, 0.08254562748944771, 0.0720724166507299, 0.07927894672080721, 0.09041606541606542, 0.08636978248089358, 0.07904634410658506, 0.08245149911816578, 0.08131536852467083, 0.0927482103952692, 0.08442775258251449, 0.07226800976800976, 0.0771677559912854, 0.07353222413463378, 0.08920505871725386, 0.08202993934701251, 0.09107714416356393, 0.08194444444444444, 0.070267131242741, 0.07722908093278463, 0.07244008714596949, 0.07938743572546386, 0.0744268077601411, 0.07684641588751179, 0.06874682902080162, 0.06520786092214663, 0.07286780383795309, 0.07683135852149935, 0.06779651675485009, 0.0685129294284224, 0.055943754313319535, 0.05458553791887123, 0.07468033509700175, 0.07172006662747404, 0.06400519978106184, 0.06392272671342437, 0.06257423604362379, 0.08146997929606624, 0.06884864107086328, 0.05587949465500485]}, {\"error_y\": {\"array\": [0.010032504838743518, 0.009863404611218946, 0.006053884524059881, 0.008560683133237271, 0.010363119362797575, 0.007132058330121432, 0.007735172056212047, 0.007261817184095521, 0.010393186338019774, 0.01991798658711414], \"type\": \"data\", \"visible\": true}, \"hoverinfo\": \"skip\", \"marker\": {\"color\": \"rgb(148, 103, 189)\"}, \"mode\": \"lines+markers\", \"name\": \"Gain / Interactions initiated (r=8 strat=rr)\", \"type\": \"scatter\", \"x\": [\"1.0\", \"0.9\", \"0.8\", \"0.7\", \"0.6\", \"0.5\", \"0.4\", \"0.3\", \"0.2\", \"0.1\"], \"y\": [0.16957040270825235, 0.1662522798105149, 0.1625538407759703, 0.17044911968601037, 0.16453543934096992, 0.16147542886638516, 0.151835831057819, 0.14708809273916196, 0.13348984374563075, 0.13061268391725425]}, {\"hoverinfo\": \"skip\", \"marker\": {\"color\": \"rgb(148, 103, 189)\"}, \"mode\": \"markers\", \"name\": \"ratio per iter (r=8 strat=rr)\", \"opacity\": 0.3, \"type\": \"scatter\", \"x\": [\"1.0\", \"1.0\", \"1.0\", \"1.0\", \"1.0\", \"1.0\", \"1.0\", \"1.0\", \"1.0\", \"1.0\", \"0.9\", \"0.9\", \"0.9\", \"0.9\", \"0.9\", \"0.9\", \"0.9\", \"0.9\", \"0.9\", \"0.9\", \"0.8\", \"0.8\", \"0.8\", \"0.8\", \"0.8\", \"0.8\", \"0.8\", \"0.8\", \"0.8\", \"0.8\", \"0.7\", \"0.7\", \"0.7\", \"0.7\", \"0.7\", \"0.7\", \"0.7\", \"0.7\", \"0.7\", \"0.7\", \"0.6\", \"0.6\", \"0.6\", \"0.6\", \"0.6\", \"0.6\", \"0.6\", \"0.6\", \"0.6\", \"0.6\", \"0.5\", \"0.5\", \"0.5\", \"0.5\", \"0.5\", \"0.5\", \"0.5\", \"0.5\", \"0.5\", \"0.5\", \"0.4\", \"0.4\", \"0.4\", \"0.4\", \"0.4\", \"0.4\", \"0.4\", \"0.4\", \"0.4\", \"0.4\", \"0.3\", \"0.3\", \"0.3\", \"0.3\", \"0.3\", \"0.3\", \"0.3\", \"0.3\", \"0.3\", \"0.3\", \"0.2\", \"0.2\", \"0.2\", \"0.2\", \"0.2\", \"0.2\", \"0.2\", \"0.2\", \"0.2\", \"0.2\", \"0.1\", \"0.1\", \"0.1\", \"0.1\", \"0.1\", \"0.1\", \"0.1\", \"0.1\", \"0.1\", \"0.1\"], \"y\": [0.16615226337448558, 0.17769454848106533, 0.16604244694132334, 0.17760047281323876, 0.15803162713275073, 0.17234848484848483, 0.17696629213483145, 0.14720117845117847, 0.1818560133166875, 0.17181069958847736, 0.1521164021164021, 0.17012617012617012, 0.16898680289484885, 0.1682946682946683, 0.16910866910866915, 0.17417153996101367, 0.14762205387205388, 0.1811868686868687, 0.17266992266992268, 0.15823970037453183, 0.1637793707686181, 0.16748066748066748, 0.14941520467836258, 0.1607744107744108, 0.16795865633074933, 0.1689922480620155, 0.16003898635477581, 0.1581439393939394, 0.1589506172839506, 0.17000430663221358, 0.1699346405228758, 0.17228464419475653, 0.16085271317829455, 0.1607744107744108, 0.1777777777777778, 0.18833943833943834, 0.16368667518092805, 0.17924718196457332, 0.16708754208754212, 0.1645061728395062, 0.17464878671775222, 0.1574074074074074, 0.1498015873015873, 0.16604938271604938, 0.15064502704952143, 0.16964285714285715, 0.15841142347166445, 0.1705597643097643, 0.16346593507087334, 0.1847222222222222, 0.1578380706287683, 0.15300361336946702, 0.15534979423868314, 0.15963431786216592, 0.1665564373897707, 0.15557841792409693, 0.1730681298582533, 0.15632515632515634, 0.17403150276713494, 0.16336884830035514, 0.16014606155451222, 0.1631335282651072, 0.14497354497354495, 0.15910910910910914, 0.140625, 0.14375, 0.15492957746478872, 0.1560254284134881, 0.1529029029029029, 0.14276315789473684, 0.15856481481481483, 0.1532921810699589, 0.1527065527065527, 0.14404978749241043, 0.14250578703703703, 0.14575866188769418, 0.1496964177292046, 0.14800785634118968, 0.13020833333333331, 0.14609053497942387, 0.13742690058479531, 0.12012670565302144, 0.1500342935528121, 0.14463734567901235, 0.11747685185185186, 0.1331236897274633, 0.1287477954144621, 0.14533011272141708, 0.13277428371767994, 0.12522045855379188, 0.14403292181069957, 0.14912280701754388, 0.11553945249597423, 0.1547619047619048, 0.1507716049382716, 0.11507936507936505, 0.10370370370370369, 0.10343915343915344, 0.150462962962963, 0.11921296296296297]}],\n",
       "                        {\"plot_bgcolor\": \"rgba(0,0,0,0)\", \"showlegend\": true, \"template\": {\"data\": {\"bar\": [{\"error_x\": {\"color\": \"#2a3f5f\"}, \"error_y\": {\"color\": \"#2a3f5f\"}, \"marker\": {\"line\": {\"color\": \"#E5ECF6\", \"width\": 0.5}}, \"type\": \"bar\"}], \"barpolar\": [{\"marker\": {\"line\": {\"color\": \"#E5ECF6\", \"width\": 0.5}}, \"type\": \"barpolar\"}], \"carpet\": [{\"aaxis\": {\"endlinecolor\": \"#2a3f5f\", \"gridcolor\": \"white\", \"linecolor\": \"white\", \"minorgridcolor\": \"white\", \"startlinecolor\": \"#2a3f5f\"}, \"baxis\": {\"endlinecolor\": \"#2a3f5f\", \"gridcolor\": \"white\", \"linecolor\": \"white\", \"minorgridcolor\": \"white\", \"startlinecolor\": \"#2a3f5f\"}, \"type\": \"carpet\"}], \"choropleth\": [{\"colorbar\": {\"outlinewidth\": 0, \"ticks\": \"\"}, \"type\": \"choropleth\"}], \"contour\": [{\"colorbar\": {\"outlinewidth\": 0, \"ticks\": \"\"}, \"colorscale\": [[0.0, \"#0d0887\"], [0.1111111111111111, \"#46039f\"], [0.2222222222222222, \"#7201a8\"], [0.3333333333333333, \"#9c179e\"], [0.4444444444444444, \"#bd3786\"], [0.5555555555555556, \"#d8576b\"], [0.6666666666666666, \"#ed7953\"], [0.7777777777777778, \"#fb9f3a\"], [0.8888888888888888, \"#fdca26\"], [1.0, \"#f0f921\"]], \"type\": \"contour\"}], \"contourcarpet\": [{\"colorbar\": {\"outlinewidth\": 0, \"ticks\": \"\"}, \"type\": \"contourcarpet\"}], \"heatmap\": [{\"colorbar\": {\"outlinewidth\": 0, \"ticks\": \"\"}, \"colorscale\": [[0.0, \"#0d0887\"], [0.1111111111111111, \"#46039f\"], [0.2222222222222222, \"#7201a8\"], [0.3333333333333333, \"#9c179e\"], [0.4444444444444444, \"#bd3786\"], [0.5555555555555556, \"#d8576b\"], [0.6666666666666666, \"#ed7953\"], [0.7777777777777778, \"#fb9f3a\"], [0.8888888888888888, \"#fdca26\"], [1.0, \"#f0f921\"]], \"type\": \"heatmap\"}], \"heatmapgl\": [{\"colorbar\": {\"outlinewidth\": 0, \"ticks\": \"\"}, \"colorscale\": [[0.0, \"#0d0887\"], [0.1111111111111111, \"#46039f\"], [0.2222222222222222, \"#7201a8\"], [0.3333333333333333, \"#9c179e\"], [0.4444444444444444, \"#bd3786\"], [0.5555555555555556, \"#d8576b\"], [0.6666666666666666, \"#ed7953\"], [0.7777777777777778, \"#fb9f3a\"], [0.8888888888888888, \"#fdca26\"], [1.0, \"#f0f921\"]], \"type\": \"heatmapgl\"}], \"histogram\": [{\"marker\": {\"colorbar\": {\"outlinewidth\": 0, \"ticks\": \"\"}}, \"type\": \"histogram\"}], \"histogram2d\": [{\"colorbar\": {\"outlinewidth\": 0, \"ticks\": \"\"}, \"colorscale\": [[0.0, \"#0d0887\"], [0.1111111111111111, \"#46039f\"], [0.2222222222222222, \"#7201a8\"], [0.3333333333333333, \"#9c179e\"], [0.4444444444444444, \"#bd3786\"], [0.5555555555555556, \"#d8576b\"], [0.6666666666666666, \"#ed7953\"], [0.7777777777777778, \"#fb9f3a\"], [0.8888888888888888, \"#fdca26\"], [1.0, \"#f0f921\"]], \"type\": \"histogram2d\"}], \"histogram2dcontour\": [{\"colorbar\": {\"outlinewidth\": 0, \"ticks\": \"\"}, \"colorscale\": [[0.0, \"#0d0887\"], [0.1111111111111111, \"#46039f\"], [0.2222222222222222, \"#7201a8\"], [0.3333333333333333, \"#9c179e\"], [0.4444444444444444, \"#bd3786\"], [0.5555555555555556, \"#d8576b\"], [0.6666666666666666, \"#ed7953\"], [0.7777777777777778, \"#fb9f3a\"], [0.8888888888888888, \"#fdca26\"], [1.0, \"#f0f921\"]], \"type\": \"histogram2dcontour\"}], \"mesh3d\": [{\"colorbar\": {\"outlinewidth\": 0, \"ticks\": \"\"}, \"type\": \"mesh3d\"}], \"parcoords\": [{\"line\": {\"colorbar\": {\"outlinewidth\": 0, \"ticks\": \"\"}}, \"type\": \"parcoords\"}], \"pie\": [{\"automargin\": true, \"type\": \"pie\"}], \"scatter\": [{\"marker\": {\"colorbar\": {\"outlinewidth\": 0, \"ticks\": \"\"}}, \"type\": \"scatter\"}], \"scatter3d\": [{\"line\": {\"colorbar\": {\"outlinewidth\": 0, \"ticks\": \"\"}}, \"marker\": {\"colorbar\": {\"outlinewidth\": 0, \"ticks\": \"\"}}, \"type\": \"scatter3d\"}], \"scattercarpet\": [{\"marker\": {\"colorbar\": {\"outlinewidth\": 0, \"ticks\": \"\"}}, \"type\": \"scattercarpet\"}], \"scattergeo\": [{\"marker\": {\"colorbar\": {\"outlinewidth\": 0, \"ticks\": \"\"}}, \"type\": \"scattergeo\"}], \"scattergl\": [{\"marker\": {\"colorbar\": {\"outlinewidth\": 0, \"ticks\": \"\"}}, \"type\": \"scattergl\"}], \"scattermapbox\": [{\"marker\": {\"colorbar\": {\"outlinewidth\": 0, \"ticks\": \"\"}}, \"type\": \"scattermapbox\"}], \"scatterpolar\": [{\"marker\": {\"colorbar\": {\"outlinewidth\": 0, \"ticks\": \"\"}}, \"type\": \"scatterpolar\"}], \"scatterpolargl\": [{\"marker\": {\"colorbar\": {\"outlinewidth\": 0, \"ticks\": \"\"}}, \"type\": \"scatterpolargl\"}], \"scatterternary\": [{\"marker\": {\"colorbar\": {\"outlinewidth\": 0, \"ticks\": \"\"}}, \"type\": \"scatterternary\"}], \"surface\": [{\"colorbar\": {\"outlinewidth\": 0, \"ticks\": \"\"}, \"colorscale\": [[0.0, \"#0d0887\"], [0.1111111111111111, \"#46039f\"], [0.2222222222222222, \"#7201a8\"], [0.3333333333333333, \"#9c179e\"], [0.4444444444444444, \"#bd3786\"], [0.5555555555555556, \"#d8576b\"], [0.6666666666666666, \"#ed7953\"], [0.7777777777777778, \"#fb9f3a\"], [0.8888888888888888, \"#fdca26\"], [1.0, \"#f0f921\"]], \"type\": \"surface\"}], \"table\": [{\"cells\": {\"fill\": {\"color\": \"#EBF0F8\"}, \"line\": {\"color\": \"white\"}}, \"header\": {\"fill\": {\"color\": \"#C8D4E3\"}, \"line\": {\"color\": \"white\"}}, \"type\": \"table\"}]}, \"layout\": {\"annotationdefaults\": {\"arrowcolor\": \"#2a3f5f\", \"arrowhead\": 0, \"arrowwidth\": 1}, \"coloraxis\": {\"colorbar\": {\"outlinewidth\": 0, \"ticks\": \"\"}}, \"colorscale\": {\"diverging\": [[0, \"#8e0152\"], [0.1, \"#c51b7d\"], [0.2, \"#de77ae\"], [0.3, \"#f1b6da\"], [0.4, \"#fde0ef\"], [0.5, \"#f7f7f7\"], [0.6, \"#e6f5d0\"], [0.7, \"#b8e186\"], [0.8, \"#7fbc41\"], [0.9, \"#4d9221\"], [1, \"#276419\"]], \"sequential\": [[0.0, \"#0d0887\"], [0.1111111111111111, \"#46039f\"], [0.2222222222222222, \"#7201a8\"], [0.3333333333333333, \"#9c179e\"], [0.4444444444444444, \"#bd3786\"], [0.5555555555555556, \"#d8576b\"], [0.6666666666666666, \"#ed7953\"], [0.7777777777777778, \"#fb9f3a\"], [0.8888888888888888, \"#fdca26\"], [1.0, \"#f0f921\"]], \"sequentialminus\": [[0.0, \"#0d0887\"], [0.1111111111111111, \"#46039f\"], [0.2222222222222222, \"#7201a8\"], [0.3333333333333333, \"#9c179e\"], [0.4444444444444444, \"#bd3786\"], [0.5555555555555556, \"#d8576b\"], [0.6666666666666666, \"#ed7953\"], [0.7777777777777778, \"#fb9f3a\"], [0.8888888888888888, \"#fdca26\"], [1.0, \"#f0f921\"]]}, \"colorway\": [\"#636efa\", \"#EF553B\", \"#00cc96\", \"#ab63fa\", \"#FFA15A\", \"#19d3f3\", \"#FF6692\", \"#B6E880\", \"#FF97FF\", \"#FECB52\"], \"font\": {\"color\": \"#2a3f5f\"}, \"geo\": {\"bgcolor\": \"white\", \"lakecolor\": \"white\", \"landcolor\": \"#E5ECF6\", \"showlakes\": true, \"showland\": true, \"subunitcolor\": \"white\"}, \"hoverlabel\": {\"align\": \"left\"}, \"hovermode\": \"closest\", \"mapbox\": {\"style\": \"light\"}, \"paper_bgcolor\": \"white\", \"plot_bgcolor\": \"#E5ECF6\", \"polar\": {\"angularaxis\": {\"gridcolor\": \"white\", \"linecolor\": \"white\", \"ticks\": \"\"}, \"bgcolor\": \"#E5ECF6\", \"radialaxis\": {\"gridcolor\": \"white\", \"linecolor\": \"white\", \"ticks\": \"\"}}, \"scene\": {\"xaxis\": {\"backgroundcolor\": \"#E5ECF6\", \"gridcolor\": \"white\", \"gridwidth\": 2, \"linecolor\": \"white\", \"showbackground\": true, \"ticks\": \"\", \"zerolinecolor\": \"white\"}, \"yaxis\": {\"backgroundcolor\": \"#E5ECF6\", \"gridcolor\": \"white\", \"gridwidth\": 2, \"linecolor\": \"white\", \"showbackground\": true, \"ticks\": \"\", \"zerolinecolor\": \"white\"}, \"zaxis\": {\"backgroundcolor\": \"#E5ECF6\", \"gridcolor\": \"white\", \"gridwidth\": 2, \"linecolor\": \"white\", \"showbackground\": true, \"ticks\": \"\", \"zerolinecolor\": \"white\"}}, \"shapedefaults\": {\"line\": {\"color\": \"#2a3f5f\"}}, \"ternary\": {\"aaxis\": {\"gridcolor\": \"white\", \"linecolor\": \"white\", \"ticks\": \"\"}, \"baxis\": {\"gridcolor\": \"white\", \"linecolor\": \"white\", \"ticks\": \"\"}, \"bgcolor\": \"#E5ECF6\", \"caxis\": {\"gridcolor\": \"white\", \"linecolor\": \"white\", \"ticks\": \"\"}}, \"title\": {\"x\": 0.05}, \"xaxis\": {\"automargin\": true, \"gridcolor\": \"white\", \"linecolor\": \"white\", \"ticks\": \"\", \"title\": {\"standoff\": 15}, \"zerolinecolor\": \"white\", \"zerolinewidth\": 2}, \"yaxis\": {\"automargin\": true, \"gridcolor\": \"white\", \"linecolor\": \"white\", \"ticks\": \"\", \"title\": {\"standoff\": 15}, \"zerolinecolor\": \"white\", \"zerolinewidth\": 2}}}, \"title\": {\"text\": \"Gain / Interactions initiated vs p (Comparison)\"}, \"xaxis\": {\"title\": {\"text\": \"p\"}}, \"yaxis\": {\"title\": {\"text\": \"gain / interactions initiated\"}}},\n",
       "                        {\"responsive\": true}\n",
       "                    ).then(function(){\n",
       "                            \n",
       "var gd = document.getElementById('50f4bbb0-2cf8-430c-90bc-41a08c752b66');\n",
       "var x = new MutationObserver(function (mutations, observer) {{\n",
       "        var display = window.getComputedStyle(gd).display;\n",
       "        if (!display || display === 'none') {{\n",
       "            console.log([gd, 'removed!']);\n",
       "            Plotly.purge(gd);\n",
       "            observer.disconnect();\n",
       "        }}\n",
       "}});\n",
       "\n",
       "// Listen for the removal of the full notebook cells\n",
       "var notebookContainer = gd.closest('#notebook-container');\n",
       "if (notebookContainer) {{\n",
       "    x.observe(notebookContainer, {childList: true});\n",
       "}}\n",
       "\n",
       "// Listen for the clearing of the current output cell\n",
       "var outputEl = gd.closest('.output');\n",
       "if (outputEl) {{\n",
       "    x.observe(outputEl, {childList: true});\n",
       "}}\n",
       "\n",
       "                        })\n",
       "                };\n",
       "                });\n",
       "            </script>\n",
       "        </div>"
      ]
     },
     "metadata": {},
     "output_type": "display_data"
    }
   ],
   "source": [
    "vis = StrategyVis(kgrid_data, kgrid_plaw_data)"
   ]
  },
  {
   "cell_type": "code",
   "execution_count": null,
   "metadata": {
    "scrolled": true
   },
   "outputs": [],
   "source": []
  }
 ],
 "metadata": {
  "kernelspec": {
   "display_name": "Python 3",
   "language": "python",
   "name": "python3"
  },
  "language_info": {
   "codemirror_mode": {
    "name": "ipython",
    "version": 3
   },
   "file_extension": ".py",
   "mimetype": "text/x-python",
   "name": "python",
   "nbconvert_exporter": "python",
   "pygments_lexer": "ipython3",
   "version": "3.6.2"
  }
 },
 "nbformat": 4,
 "nbformat_minor": 2
}
