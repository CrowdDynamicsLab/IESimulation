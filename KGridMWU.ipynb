{
 "cells": [
  {
   "cell_type": "code",
   "execution_count": 1,
   "metadata": {},
   "outputs": [
    {
     "data": {
      "text/html": [
       "        <script type=\"text/javascript\">\n",
       "        window.PlotlyConfig = {MathJaxConfig: 'local'};\n",
       "        if (window.MathJax) {MathJax.Hub.Config({SVG: {font: \"STIX-Web\"}});}\n",
       "        if (typeof require !== 'undefined') {\n",
       "        require.undef(\"plotly\");\n",
       "        requirejs.config({\n",
       "            paths: {\n",
       "                'plotly': ['https://cdn.plot.ly/plotly-latest.min']\n",
       "            }\n",
       "        });\n",
       "        require(['plotly'], function(Plotly) {\n",
       "            window._Plotly = Plotly;\n",
       "        });\n",
       "        }\n",
       "        </script>\n",
       "        "
      ]
     },
     "metadata": {},
     "output_type": "display_data"
    }
   ],
   "source": [
    "from math import ceil\n",
    "import copy\n",
    "from collections import defaultdict\n",
    "\n",
    "from plotly.offline import init_notebook_mode, iplot\n",
    "import plotly.graph_objs as go\n",
    "import numpy as np\n",
    "import numpy.linalg as nla\n",
    "\n",
    "from sim_lib.simulation import run_simulation\n",
    "from sim_lib.graph_create import kleinberg_grid, reduce_providers_simplest, powerlaw_dist_time\n",
    "from sim_lib.sim_strategies import EvenAlloc, MWU\n",
    "import sim_lib.util as util\n",
    "\n",
    "init_notebook_mode(connected=True)"
   ]
  },
  {
   "cell_type": "code",
   "execution_count": 2,
   "metadata": {},
   "outputs": [],
   "source": [
    "# Constants\n",
    "gl = 10 # grid length\n",
    "regularity = 4\n",
    "\n",
    "# MWU parameters\n",
    "lrate = 0.5"
   ]
  },
  {
   "cell_type": "code",
   "execution_count": 3,
   "metadata": {},
   "outputs": [],
   "source": [
    "def create_kg(p, r):\n",
    "    return kleinberg_grid(gl, gl, r, p)"
   ]
  },
  {
   "cell_type": "code",
   "execution_count": 4,
   "metadata": {},
   "outputs": [],
   "source": [
    "def plot_util_comp(given_utils, r, diam):\n",
    "    fig = go.Figure()\n",
    "    \n",
    "    social_utils, even_utils = given_utils\n",
    "\n",
    "    #Add averages trace\n",
    "    p_vals = [ p for (p, uts) in social_utils ]\n",
    "    ut_vals = [ np.average(uts) for (p, uts) in social_utils ]\n",
    "    fig.add_trace(go.Scatter(x=p_vals,\n",
    "        y=ut_vals, mode='lines+markers', hoverinfo='skip',\n",
    "        name='avg social welfare rate (MWU)', marker=dict(color='Blue')))\n",
    "    \n",
    "    even_p_vals = [ p for (p, uts) in even_utils ]\n",
    "    even_ut_vals = [ np.average(uts) for (p, uts) in even_utils ]\n",
    "    fig.add_trace(go.Scatter(x=even_p_vals,\n",
    "        y=even_ut_vals, mode='lines+markers', hoverinfo='skip',\n",
    "        name='avg social welfare rate (even alloc)',\n",
    "        marker=dict(color='Orange')))\n",
    "    \n",
    "    #Add individual points trace\n",
    "    indiv_p_vals = []\n",
    "    indiv_ut_vals = []\n",
    "    for (p, uts) in social_utils:\n",
    "        indiv_ut_vals.extend(uts)\n",
    "        indiv_p_vals.extend([p] * len(uts))\n",
    "    fig.add_trace(go.Scatter(x=indiv_p_vals,\n",
    "        y=indiv_ut_vals, mode='markers', hoverinfo='skip', opacity=0.7,\n",
    "        marker=dict(color='LightSkyBlue'), name='social welfare per p'))\n",
    "\n",
    "    even_indiv_p_vals = []\n",
    "    even_indiv_ut_vals = []\n",
    "    for (p, uts) in even_utils:\n",
    "        even_indiv_ut_vals.extend(uts)\n",
    "        even_indiv_p_vals.extend([p] * len(uts))\n",
    "    fig.add_trace(go.Scatter(x=even_indiv_p_vals,\n",
    "        y=even_indiv_ut_vals, mode='markers', hoverinfo='skip', opacity=0.7,\n",
    "        marker=dict(color='rgba(244,204,102,1)'),\n",
    "        name='social welfare per p (even alloc)'))\n",
    "\n",
    "\n",
    "    fig.layout.update(showlegend=False)\n",
    "    title_fmt = \"Average Social Welfare (Normalized) vs p (r={0}, diam={1})\"\n",
    "    plot_title = title_fmt.format(r, diam)\n",
    "    fig.layout.update(title=plot_title, showlegend=True,\n",
    "        xaxis=dict(title='p'), yaxis=dict(title='avg social welfare (MWU)'),\n",
    "        plot_bgcolor='rgba(0,0,0,0)')\n",
    "\n",
    "    iplot(fig)"
   ]
  },
  {
   "cell_type": "code",
   "execution_count": null,
   "metadata": {},
   "outputs": [],
   "source": [
    "def plot_dist_ratios(dratio_means, r, diam):\n",
    "    fig = go.Figure()\n",
    "    \n",
    "    dist_names = ['MWU', 'Even']\n",
    "    lcolors = ['Blue', 'darkorange']\n",
    "    mcolors = ['LightSkyBlue', 'orange']\n",
    "    \n",
    "    for idx, dratio_vals in enumerate(dratio_means):\n",
    "        name = dist_names[idx]\n",
    "        lcol = lcolors[idx]\n",
    "        mcol = mcolors[idx]\n",
    "        \n",
    "        #Add averages trace\n",
    "        p_vals = [ p for (p, dratio) in dratio_vals ]\n",
    "        den_avgs = [ np.average(dratio) for (p, dratio) in dratio_vals ]\n",
    "        fig.add_trace(go.Scatter(x=p_vals,\n",
    "            y=den_avgs, mode='lines+markers', hoverinfo='skip',\n",
    "            name=f'avg {name} distance ratio', marker=dict(color=lcol)))\n",
    "\n",
    "        #Add individual points trace\n",
    "        indiv_p_vals = []\n",
    "        indiv_den_vals = []\n",
    "        for (p, dratio) in dratio_vals:\n",
    "            indiv_den_vals.extend(dratio)\n",
    "            indiv_p_vals.extend([p] * len(dratio))\n",
    "        fig.add_trace(go.Scatter(x=indiv_p_vals,\n",
    "            y=indiv_den_vals, mode='markers', hoverinfo='skip', opacity=0.7,\n",
    "            marker=dict(color=mcol), name=f'{name} distance ratio'))\n",
    "\n",
    "    fig.layout.update(showlegend=False)\n",
    "    title_fmt = \"Decentralized Search Distance Optimality Ratio vs p (r={0}, diam={1})\"\n",
    "    plot_title = title_fmt.format(r, diam)\n",
    "    fig.layout.update(title=plot_title, showlegend=True,\n",
    "        xaxis=dict(title='p'), yaxis=dict(title=f'{name} Dist Avg Ratio'),\n",
    "        plot_bgcolor='rgba(0,0,0,0)')\n",
    "\n",
    "    iplot(fig)"
   ]
  },
  {
   "cell_type": "code",
   "execution_count": null,
   "metadata": {},
   "outputs": [],
   "source": [
    "def comp_strat(graph_func, strat, strat_params, plaw_resources=False, simplest=False):\n",
    "    for r in [ 2 ** k for k in range(1, 8) ][::-1]:\n",
    "        social_utils = []\n",
    "        even_utils = []\n",
    "        \n",
    "        mwu_ratios = []\n",
    "        even_ratios = []\n",
    "        \n",
    "        for p in np.linspace(1, 0, 10, endpoint=False):\n",
    "            utils = []\n",
    "            eutils = []\n",
    "            \n",
    "            mwu_ratio_means = []\n",
    "            even_ratio_means = []\n",
    "            \n",
    "            num_iter = 10\n",
    "            for i in range(num_iter):\n",
    "                G = graph_func(p, r)\n",
    "\n",
    "                graph_diam = util.calc_diameter(G)\n",
    "\n",
    "                if simplest:\n",
    "                    reduce_providers_simplest(G)\n",
    "                \n",
    "                #Get opt to find shortest paths later on\n",
    "                opt_seeds = util.opt_vertices(G)\n",
    "                initial_utils = set([ v.utility for v in G.vertices ])\n",
    "                initial_seeds = { ut : [ v for v in G.vertices if v == ut ] \n",
    "                                 for ut in initial_utils }\n",
    "                \n",
    "                if plaw_resources:\n",
    "                    powerlaw_dist_time(G, 2)\n",
    "                    \n",
    "                #Make copy of graph to run even alloc strategy on\n",
    "                G_even = copy.deepcopy(G)\n",
    "\n",
    "                #Initialize strategy\n",
    "                sim_strat = strat(**strat_params)\n",
    "                sim_strat.initialize_model(G)\n",
    "\n",
    "                sim_g, sim_utils, mwu_ut_map = run_simulation(G, sim_strat, True)\n",
    "                \n",
    "                #Initialize even alloc strategy\n",
    "                even_strat = EvenAlloc()\n",
    "                even_strat.initialize_model(G_even)\n",
    "                \n",
    "                sim_g_even, sim_utils_even, even_ut_map = run_simulation(G_even, even_strat, True)\n",
    "\n",
    "                #Get global social welfare at end of simulation normalized by size\n",
    "                utils.append(sum(sim_utils[-1]) / len(G.vertices))\n",
    "                eutils.append(sum(sim_utils_even[-1]) / len(G_even.vertices))\n",
    "                \n",
    "                #Check decentralized search success\n",
    "                unif_weight = defaultdict(lambda : defaultdict(lambda : 1))\n",
    "                \n",
    "                #Get inverse normalized weights\n",
    "                mwu_weight = {}\n",
    "                for vtx in G.vertices:\n",
    "                    mwu_weight[vtx] = {}\n",
    "                    tot_weight = sum(sim_strat.vtx_weights[vtx].values())\n",
    "                    for nbor in vtx.nbors:\n",
    "                        mwu_weight[vtx][nbor] = 1 - (sim_strat.vtx_weights[vtx][nbor] / tot_weight)\n",
    "                \n",
    "                true_apsp, ta_nxt = util.weighted_apsp(G, unif_weight)\n",
    "                mwu_apsp, ma_nxt = util.weighted_apsp(G, mwu_weight)\n",
    "                mwu_el_apsp = util.fw_edge_len(G, ma_nxt)\n",
    "                \n",
    "                #Get error for closest starting opt vertices\n",
    "                mwu_search_ratios = []\n",
    "                even_search_ratios = []\n",
    "                \n",
    "                def vtx_search_ratio(vtx, sim_ut_map):\n",
    "                    num_hops_final = sim_ut_map[vtx]['iter']\n",
    "                    final_ut_source = sim_ut_map[vtx]['from']\n",
    "                    final_ut = sim_ut_map[vtx]['ut']\n",
    "                    \n",
    "                    closest_same_ut_dist = num_hops_final\n",
    "                    closest_same_ut_seed = final_ut_source\n",
    "                    for utx in initial_seeds[final_ut]:\n",
    "                        if num_hops_final == 0:\n",
    "                            break\n",
    "                        if true_apsp[vtx.vnum][utx.vnum] < closest_same_ut_dist:\n",
    "                            closest_same_ut_dist = true_apsp[vtx.vnum][utx.vnum]\n",
    "                            closest_same_ut_seed = utx\n",
    "                    \n",
    "                    # Get relative error of num iters to final vs shortest path to closest vtx giving final\n",
    "                    if closest_same_ut_dist == 0:\n",
    "                        if num_hops_final == 0:\n",
    "                            return 1\n",
    "                        else:\n",
    "                            raise ValueError('Received starting utility from someone other than self')\n",
    "                            \n",
    "                    return num_hops_final / closest_same_ut_dist\n",
    "                \n",
    "                for vtx in G.vertices:\n",
    "                    mwu_search_ratios.append(vtx_search_ratio(vtx, mwu_ut_map))\n",
    "                    \n",
    "                for vtx in G_even.vertices:\n",
    "                    even_search_ratios.append(vtx_search_ratio(vtx, even_ut_map))\n",
    "                    \n",
    "                mwu_mean = np.mean(np.array(mwu_search_ratios))\n",
    "                mwu_ratio_means.append(mwu_mean)\n",
    "                \n",
    "                even_mean = np.mean(np.array(even_search_ratios))\n",
    "                even_ratio_means.append(even_mean)\n",
    "                \n",
    "            social_utils.append((p, utils))\n",
    "            even_utils.append((p, eutils))\n",
    "            \n",
    "            mwu_ratios.append((p, mwu_ratio_means))\n",
    "            even_ratios.append((p, even_ratio_means))\n",
    "\n",
    "        plot_util_comp((social_utils, even_utils), r, graph_diam)\n",
    "        \n",
    "        plot_dist_ratios((mwu_ratios, even_ratios), r, graph_diam)"
   ]
  },
  {
   "cell_type": "markdown",
   "metadata": {},
   "source": [
    "## Evenly distributed resources"
   ]
  },
  {
   "cell_type": "markdown",
   "metadata": {},
   "source": [
    "### One optimal provider"
   ]
  },
  {
   "cell_type": "code",
   "execution_count": null,
   "metadata": {
    "scrolled": false
   },
   "outputs": [],
   "source": [
    "comp_strat(create_kg, MWU, {'lrate' : lrate}, simplest=True)"
   ]
  },
  {
   "cell_type": "markdown",
   "metadata": {},
   "source": [
    "### Independently distributed providers"
   ]
  },
  {
   "cell_type": "code",
   "execution_count": null,
   "metadata": {},
   "outputs": [],
   "source": [
    "comp_strat(create_kg, MWU, {'lrate' : lrate}, simplest=False)"
   ]
  },
  {
   "cell_type": "markdown",
   "metadata": {
    "scrolled": false
   },
   "source": [
    "## Powerlaw distributed resources"
   ]
  },
  {
   "cell_type": "markdown",
   "metadata": {},
   "source": [
    "### One optimal provider"
   ]
  },
  {
   "cell_type": "code",
   "execution_count": null,
   "metadata": {
    "scrolled": false
   },
   "outputs": [],
   "source": [
    "comp_strat(create_kg, MWU, {'lrate' : lrate}, plaw_resources=True, simplest=True)"
   ]
  },
  {
   "cell_type": "markdown",
   "metadata": {},
   "source": [
    "### Independently distributed providers"
   ]
  },
  {
   "cell_type": "code",
   "execution_count": null,
   "metadata": {},
   "outputs": [],
   "source": [
    "comp_strat(create_kg, MWU, {'lrate' : lrate}, plaw_resources=True, simplest=False)"
   ]
  }
 ],
 "metadata": {
  "kernelspec": {
   "display_name": "Python 3",
   "language": "python",
   "name": "python3"
  },
  "language_info": {
   "codemirror_mode": {
    "name": "ipython",
    "version": 3
   },
   "file_extension": ".py",
   "mimetype": "text/x-python",
   "name": "python",
   "nbconvert_exporter": "python",
   "pygments_lexer": "ipython3",
   "version": "3.6.2"
  }
 },
 "nbformat": 4,
 "nbformat_minor": 2
}
