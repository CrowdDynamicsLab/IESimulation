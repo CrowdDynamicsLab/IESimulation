{
 "cells": [
  {
   "cell_type": "code",
   "execution_count": 1,
   "metadata": {},
   "outputs": [
    {
     "data": {
      "text/html": [
       "        <script type=\"text/javascript\">\n",
       "        window.PlotlyConfig = {MathJaxConfig: 'local'};\n",
       "        if (window.MathJax) {MathJax.Hub.Config({SVG: {font: \"STIX-Web\"}});}\n",
       "        if (typeof require !== 'undefined') {\n",
       "        require.undef(\"plotly\");\n",
       "        requirejs.config({\n",
       "            paths: {\n",
       "                'plotly': ['https://cdn.plot.ly/plotly-latest.min']\n",
       "            }\n",
       "        });\n",
       "        require(['plotly'], function(Plotly) {\n",
       "            window._Plotly = Plotly;\n",
       "        });\n",
       "        }\n",
       "        </script>\n",
       "        "
      ]
     },
     "metadata": {},
     "output_type": "display_data"
    }
   ],
   "source": [
    "import json\n",
    "from collections import defaultdict\n",
    "\n",
    "from plotly.offline import init_notebook_mode, iplot\n",
    "from IPython.display import display, clear_output\n",
    "import ipywidgets as widgets\n",
    "import plotly.graph_objs as go\n",
    "import plotly\n",
    "import numpy as np\n",
    "import numpy.linalg as nla\n",
    "\n",
    "import sim_lib.util as util\n",
    "\n",
    "init_notebook_mode(connected=True)"
   ]
  },
  {
   "cell_type": "code",
   "execution_count": 2,
   "metadata": {},
   "outputs": [],
   "source": [
    "kgrid_plaw_data = None\n",
    "with open('data/kgrid_plaw_data.json', 'r') as kpd:\n",
    "    kgrid_plaw_data = json.loads(kpd.read())\n",
    "\n",
    "kgrid_data = None\n",
    "with open('data/kgrid_data.json', 'r') as kd:\n",
    "    kgrid_data = json.loads(kd.read())"
   ]
  },
  {
   "cell_type": "code",
   "execution_count": 77,
   "metadata": {},
   "outputs": [],
   "source": [
    "class StrategyVis:\n",
    "    def __init__(self, data, plaw_data):\n",
    "        \n",
    "        self.data = data\n",
    "        self.plaw_data = plaw_data\n",
    "\n",
    "        r_vals = list(self.data.keys())\n",
    "        r_vals.remove('plaw')\n",
    "        p_vals = list(self.data[r_vals[0]].keys())\n",
    "        \n",
    "        # Welfare by p\n",
    "        self.by_p_header = widgets.HTML(\n",
    "                            value=\"<b>Average welfare by p</b>\",\n",
    "                            placeholder='Some HTML',\n",
    "                            description='')\n",
    "        self.by_p_r = widgets.SelectMultiple(\n",
    "                                    options=r_vals,\n",
    "                                    description='Resources per vertex',\n",
    "                                    disabled=False)\n",
    "        \n",
    "        # Welfare by epoch\n",
    "        self.by_epoch_header = widgets.HTML(\n",
    "                            value=\"<b>Average welfare by epoch</b>\",\n",
    "                            placeholder='Some HTML',\n",
    "                            description='')\n",
    "        self.by_epoch_p = widgets.SelectMultiple(\n",
    "                                    options=p_vals,\n",
    "                                    description='Prob info trans',\n",
    "                                    disabled=False)\n",
    "        self.by_epoch_r = widgets.Select(\n",
    "                                    options=r_vals,\n",
    "                                    description='Resources per vertex',\n",
    "                                    disabled=False)\n",
    "\n",
    "        # Degree vs util transfer\n",
    "        self.degree_tf_header = widgets.HTML(\n",
    "                            value=\"<b>Utility transfered by degree</b>\",\n",
    "                            placeholder='Some HTML',\n",
    "                            description='')\n",
    "        self.degree_tf_p = widgets.Select(\n",
    "                                    options=p_vals,\n",
    "                                    description='Prob info trans',\n",
    "                                    disabled=False)\n",
    "        self.degree_tf_r = widgets.Select(\n",
    "                                    options=r_vals,\n",
    "                                    description='Resources per vertex',\n",
    "                                    disabled=False)\n",
    "        \n",
    "        # Gain per interaction initiated\n",
    "        self.int_gain_header = widgets.HTML(\n",
    "                            value=\"<b>Gain / Interactions Initiated</b>\",\n",
    "                            placeholder='Some HTML',\n",
    "                            description='')\n",
    "        self.int_gain_r = widgets.SelectMultiple(\n",
    "                                    options=r_vals,\n",
    "                                    description='Resources per vertex',\n",
    "                                    disabled=False)\n",
    "        \n",
    "        self.general_header = widgets.HTML(\n",
    "                            value=\"<b>General settings</b>\",\n",
    "                            placeholder='Some HTML',\n",
    "                            description='')\n",
    "        self.strategy = widgets.SelectMultiple(\n",
    "                                    options=['mwu', 'se_mwu', 'unif', 'rr'],\n",
    "                                    description='Neighbor allocation strategy',\n",
    "                                    disabled=False)\n",
    "        self.plot_selection = widgets.SelectMultiple(\n",
    "                                    options=['by_p', 'by_epoch', 'gain', 'degree_tf'],\n",
    "                                    description='Plots to render',\n",
    "                                    disabled=False)\n",
    "        self.powerlaw = widgets.ToggleButton(\n",
    "                                    value=False,\n",
    "                                    description='Powerlaw',\n",
    "                                    disabled=False,\n",
    "                                    button_style='',\n",
    "                                    tooltip='Powerlaw distributed resources')\n",
    "\n",
    "        # Update button\n",
    "        self.plot_button = widgets.Button(\n",
    "                                    description='Plot',\n",
    "                                    disabled=False,\n",
    "                                    button_style='',\n",
    "                                    tooltip='Plots by selected parameters')\n",
    "        self.plot_button.on_click(self.plot)\n",
    "        \n",
    "        self.visuals = [self.by_p_header, self.by_p_r,\n",
    "                        self.by_epoch_header, self.by_epoch_p, self.by_epoch_r,\n",
    "                        self.int_gain_header, self.int_gain_r,\n",
    "                        self.degree_tf_header, self.degree_tf_p, self.degree_tf_r,\n",
    "                        self.general_header, self.strategy, self.plot_selection, self.powerlaw,\n",
    "                        self.plot_button]\n",
    "        \n",
    "        self.render_visuals()\n",
    "        \n",
    "    def render_visuals(self):\n",
    "\n",
    "        # Render widgets\n",
    "        for vis in self.visuals:\n",
    "            display(vis)\n",
    "\n",
    "    def plot(self, button):\n",
    "        \n",
    "        # Reset widgets\n",
    "        clear_output()\n",
    "        self.render_visuals()\n",
    "        \n",
    "        by_p_r = self.by_p_r.value\n",
    "        \n",
    "        by_epoch_p = self.by_epoch_p.value\n",
    "        by_epoch_r = self.by_epoch_r.value\n",
    "        \n",
    "        int_gain_r = self.int_gain_r.value\n",
    "        \n",
    "        degree_tf_p = self.degree_tf_p.value\n",
    "        degree_tf_r = self.degree_tf_r.value\n",
    "        \n",
    "        strategies = self.strategy.value\n",
    "        powerlaw = self.powerlaw.value\n",
    "        plots = self.plot_selection.value\n",
    "        \n",
    "        data = self.data if not powerlaw else self.plaw_data\n",
    "        \n",
    "        by_p = {}\n",
    "        by_epoch = {}\n",
    "        by_gain = {}\n",
    "        degree_tf = {}\n",
    "        \n",
    "        for strat in strategies:\n",
    "            # plot by p\n",
    "            if 'by_p' in plots:\n",
    "                by_p_uts = self.plot_by_p(data, by_p_r, strat)\n",
    "                by_p[strat] = by_p_uts\n",
    "            \n",
    "            # plot by epoch\n",
    "            if 'by_epoch' in plots:\n",
    "                by_epoch_uts = self.plot_by_epoch(data, by_epoch_r, by_epoch_p, strat)\n",
    "                by_epoch[strat] = by_epoch_uts\n",
    "            \n",
    "            # plot by interactions initiated over actual path length\n",
    "            if 'gain' in plots:\n",
    "                gain_ratios = self.plot_int_gain_ratios(data, int_gain_r, strat)\n",
    "                by_gain[strat] = gain_ratios\n",
    "                \n",
    "            if 'degree_tf' in plots:\n",
    "                degree_transfers = self.plot_degree_tf(data, degree_tf_p, degree_tf_r, strat)\n",
    "                degree_tf[strat] = degree_transfers\n",
    "                \n",
    "        #Create chart comparing all strategies\n",
    "        if 'by_p' in plots:\n",
    "            self.render_plot_by_p(by_p)\n",
    "        if 'by_epoch' in plots:\n",
    "            self.render_plot_by_epoch(by_epoch, by_epoch_r)\n",
    "        if 'gain' in plots:\n",
    "            self.render_plot_int_gain_ratios(by_gain)\n",
    "        if 'degree_tf' in plots:\n",
    "            self.render_plot_degree_tf(degree_tf, degree_tf_p, degree_tf_r)\n",
    "            \n",
    "    def plot_by_p(self, data, by_p_r, strat):\n",
    "        by_p_utils = []\n",
    "        for r in by_p_r:\n",
    "            r_utils = []\n",
    "            for p, p_data in data[r].items():\n",
    "                r_utils.append((p, [ sum(uts[-1]) / len(uts[-1]) for uts in p_data['utils'][strat] ]))\n",
    "            by_p_utils.append((r, r_utils))\n",
    "\n",
    "        self.render_plot_by_p({strat : by_p_utils})\n",
    "        return by_p_utils\n",
    "        \n",
    "    def render_plot_by_p(self, plot_data):        \n",
    "        fig = go.Figure()\n",
    "\n",
    "        colors = plotly.colors.DEFAULT_PLOTLY_COLORS\n",
    "        \n",
    "        comparison = (len(plot_data) > 1)\n",
    "        \n",
    "        i_idx = 0\n",
    "        for strat, utils in plot_data.items():\n",
    "            for j_idx, r_data in enumerate(utils):\n",
    "                color = colors[(i_idx + j_idx) % len(colors)]\n",
    "\n",
    "                r_val, r_utils = r_data\n",
    "\n",
    "                #Add averages trace\n",
    "                p_vals = [ p for (p, uts) in r_utils ]\n",
    "                ut_vals = [ np.average(uts) for (p, uts) in r_utils ]\n",
    "\n",
    "                #Error bars\n",
    "                std_vals = [ np.std(uts) for (p, uts) in r_utils ]\n",
    "\n",
    "                strat_name = f' strat={strat}' if comparison else ''\n",
    "                fig.add_trace(go.Scatter(x=p_vals,\n",
    "                    y=ut_vals, mode='lines+markers', hoverinfo='skip',\n",
    "                    name=f'avg social welfare rate (r={r_val}{strat_name})', marker=dict(color=color),\n",
    "                    error_y=dict(type='data', array=std_vals, visible=True)))\n",
    "\n",
    "                #Add individual points trace\n",
    "                indiv_p_vals = []\n",
    "                indiv_ut_vals = []\n",
    "                for (p, uts) in r_utils:\n",
    "                    indiv_ut_vals.extend(uts)\n",
    "                    indiv_p_vals.extend([p] * len(uts))\n",
    "                fig.add_trace(go.Scatter(x=indiv_p_vals,\n",
    "                    y=indiv_ut_vals, mode='markers', hoverinfo='skip', opacity=0.3,\n",
    "                    marker=dict(color=color), name=f'social welfare per iter (r={r_val}{strat_name})'))\n",
    "            i_idx += 1\n",
    "\n",
    "        fig.layout.update(showlegend=False)\n",
    "        strat_name = 'Comparison'\n",
    "        if not comparison:\n",
    "            strat_name = list(plot_data.keys())[0]\n",
    "        plot_title = f'Average Social Welfare vs p ({strat_name})'\n",
    "        fig.layout.update(title=plot_title, showlegend=True,\n",
    "            xaxis=dict(title='p'), yaxis=dict(title='avg social welfare'),\n",
    "            plot_bgcolor='rgba(0,0,0,0)')\n",
    "\n",
    "        iplot(fig)\n",
    "        \n",
    "    def plot_by_epoch(self, data, by_epoch_r, by_epoch_p, strat):\n",
    "        by_epoch_utils = []\n",
    "        epoch_r_data = data[by_epoch_r]\n",
    "        for p in by_epoch_p:\n",
    "            p_utils = []\n",
    "            epoch_p_utils = epoch_r_data[p]['utils'][strat]\n",
    "            for it_uts in epoch_p_utils:\n",
    "                p_utils.append([(ep, sum(ep_uts) / len(ep_uts)) for ep, ep_uts in enumerate(it_uts)])\n",
    "            by_epoch_utils.append((p, p_utils))\n",
    "\n",
    "        self.render_plot_by_epoch({strat : by_epoch_utils}, by_epoch_r)\n",
    "        return by_epoch_utils\n",
    "            \n",
    "    def render_plot_by_epoch(self, plot_data, r_val):\n",
    "        fig = go.Figure()\n",
    "\n",
    "        colors = plotly.colors.DEFAULT_PLOTLY_COLORS\n",
    "        \n",
    "        comparison = (len(plot_data) > 1)\n",
    "        \n",
    "        i_idx = 0\n",
    "        for strat, utils in plot_data.items():\n",
    "            for j_idx, p_data in enumerate(utils):\n",
    "                color = colors[(i_idx + j_idx)  % len(colors)]\n",
    "\n",
    "                p_val, p_utils = p_data\n",
    "\n",
    "                #Add averages trace\n",
    "                ep_uts = defaultdict(lambda : [])\n",
    "                for ut_per_ep in p_utils:\n",
    "                    for (ep, ut) in ut_per_ep:\n",
    "                        ep_uts[ep].append(ut)\n",
    "\n",
    "                ep_vals = sorted(list(ep_uts.keys()))\n",
    "                ut_vals = [ np.average(ep_uts[ep]) for ep in ep_vals ]\n",
    "                std_vals = [ np.std(ep_uts[ep]) for ep in ep_vals ]\n",
    "                \n",
    "                strat_name = f' strat={strat}' if comparison else ''\n",
    "                fig.add_trace(go.Scatter(x=ep_vals,\n",
    "                    y=ut_vals, mode='lines+markers', hoverinfo='skip',\n",
    "                    name=f'avg social welfare rate (p={p_val}{strat_name})', marker=dict(color=color),\n",
    "                    error_y=dict(type='data', array=std_vals, visible=True)))\n",
    "\n",
    "                #Add individual points trace\n",
    "                indiv_ep_vals = []\n",
    "                indiv_ut_vals = []\n",
    "                for ep in ep_vals:\n",
    "                    uts = ep_uts[ep]\n",
    "                    indiv_ut_vals.extend(uts)\n",
    "                    indiv_ep_vals.extend([ep] * len(uts))\n",
    "                fig.add_trace(go.Scatter(x=indiv_ep_vals,\n",
    "                    y=indiv_ut_vals, mode='markers', hoverinfo='skip', opacity=0.3,\n",
    "                    marker=dict(color=color), name=f'social welfare per iter (p={p_val}{strat_name})'))\n",
    "            i_idx += 1\n",
    "\n",
    "        fig.layout.update(showlegend=False)\n",
    "        strat_name = 'Comparison'\n",
    "        if not comparison:\n",
    "            strat_name = list(plot_data.keys())[0]\n",
    "        plot_title = f\"Average Social Welfare vs Epoch # (r={r_val} {strat_name})\"\n",
    "        fig.layout.update(title=plot_title, showlegend=True,\n",
    "            xaxis=dict(title='Epoch #'), yaxis=dict(title='avg social welfare'),\n",
    "            plot_bgcolor='rgba(0,0,0,0)')\n",
    "        fig.update_xaxes(range=[0, int(r_val) // 2])\n",
    "\n",
    "        iplot(fig)\n",
    "        \n",
    "    def plot_int_gain_ratios(self, data, int_gain_r, strat):\n",
    "        int_gain_ratios = []\n",
    "        for r in int_gain_r:\n",
    "            r_ratios = []\n",
    "            for p, p_data in data[r].items():\n",
    "                p_ratios = []\n",
    "                ser_graphs = data[r][p]['graphs'][strat] \n",
    "                for idx, fsg in enumerate(ser_graphs):\n",
    "                    isg = data[r][p]['init_graphs'][idx]\n",
    "                    init_g = util.json_to_graph(isg)\n",
    "                    final_g = util.json_to_graph(fsg)\n",
    "                    init_uts = { v.vnum : v.utility for v in init_g.vertices }\n",
    "                    final_uts = { v.vnum : v.utility for v in final_g.vertices }\n",
    "                    init_prov = { v.vnum : v.provider for v in init_g.vertices }\n",
    "                    final_prov = { v.vnum : v.provider for v in final_g.vertices }\n",
    "                    ratios = []\n",
    "                    for v in final_g.vertices:\n",
    "                        gain = final_uts[v.vnum] - init_uts[v.vnum]\n",
    "                        if v.init_ints == 0 or gain == 0:\n",
    "                            continue\n",
    "                        ratios.append(gain / v.init_ints)\n",
    "                    p_ratios.append(np.average(ratios))\n",
    "                r_ratios.append((p, p_ratios))\n",
    "            int_gain_ratios.append((r, r_ratios))\n",
    "\n",
    "        self.render_plot_int_gain_ratios({strat : int_gain_ratios})\n",
    "        return int_gain_ratios\n",
    "        \n",
    "    def render_plot_int_gain_ratios(self, plot_data):\n",
    "        fig = go.Figure()\n",
    "\n",
    "        colors = plotly.colors.DEFAULT_PLOTLY_COLORS\n",
    "        \n",
    "        comparison = (len(plot_data) > 1)\n",
    "        \n",
    "        i_idx = 0\n",
    "        for strat, ratios in plot_data.items():\n",
    "            for j_idx, r_data in enumerate(ratios):\n",
    "                color = colors[(i_idx + j_idx) % len(colors)]\n",
    "\n",
    "                r_val, r_ratios = r_data\n",
    "\n",
    "                #Add averages trace\n",
    "                p_vals = [ p for (p, ratios) in r_ratios ]\n",
    "                ratio_vals = [ np.average(ratios) for (p, ratios) in r_ratios ]\n",
    "\n",
    "                #Error bars\n",
    "                std_vals = [ np.std(ratios) for (p, ratios) in r_ratios ]\n",
    "\n",
    "                strat_name = f' strat={strat}' if comparison else ''\n",
    "                fig.add_trace(go.Scatter(x=p_vals,\n",
    "                    y=ratio_vals, mode='lines+markers', hoverinfo='skip',\n",
    "                    name=f'Gain / Interactions initiated (r={r_val}{strat_name})', marker=dict(color=color),\n",
    "                    error_y=dict(type='data', array=std_vals, visible=True)))\n",
    "\n",
    "                #Add individual points trace\n",
    "                indiv_p_vals = []\n",
    "                indiv_ratio_vals = []\n",
    "                for (p, ratios) in r_ratios:\n",
    "                    indiv_ratio_vals.extend(ratios)\n",
    "                    indiv_p_vals.extend([p] * len(ratios))\n",
    "                fig.add_trace(go.Scatter(x=indiv_p_vals,\n",
    "                    y=indiv_ratio_vals, mode='markers', hoverinfo='skip', opacity=0.3,\n",
    "                    marker=dict(color=color), name=f'ratio per iter (r={r_val}{strat_name})'))\n",
    "            i_idx += 1\n",
    "\n",
    "        fig.layout.update(showlegend=False)\n",
    "        strat_name = 'Comparison'\n",
    "        if not comparison:\n",
    "            strat_name = list(plot_data.keys())[0]\n",
    "        plot_title = f\"Gain / Interactions initiated vs p ({strat_name})\"\n",
    "        fig.layout.update(title=plot_title, showlegend=True,\n",
    "            xaxis=dict(title='p'), yaxis=dict(title='gain / interactions initiated'),\n",
    "            plot_bgcolor='rgba(0,0,0,0)')\n",
    "\n",
    "        iplot(fig)\n",
    "        \n",
    "    def plot_degree_tf(self, data, degree_tf_p, degree_tf_r, strat):\n",
    "        in_transfers = [] # gains\n",
    "        out_transfers = []\n",
    "        sim_data = data[degree_tf_r][degree_tf_p]\n",
    "        \n",
    "        for idx, fsg in enumerate(sim_data['graphs'][strat]):\n",
    "            \n",
    "            # Add dicts for mapping degree : transfer lists\n",
    "            in_transfers.append(defaultdict(lambda : []))\n",
    "            out_transfers.append(defaultdict(lambda : []))\n",
    "            \n",
    "            isg = sim_data['init_graphs'][idx]\n",
    "            init_g = util.json_to_graph(isg)\n",
    "            final_g = util.json_to_graph(fsg)\n",
    "            init_uts = { v.vnum : v.utility for v in init_g.vertices }\n",
    "            final_uts = { v.vnum : v.utility for v in final_g.vertices }\n",
    "            init_prov = { v.vnum : v.provider for v in init_g.vertices }\n",
    "            final_prov = { v.vnum : v.provider for v in final_g.vertices }\n",
    "            for v in final_g.vertices:\n",
    "                gain = final_uts[v.vnum] - init_uts[v.vnum]\n",
    "                if v.init_ints == 0 or gain == 0:\n",
    "                    continue\n",
    "                in_transfers[idx][v.degree].append(gain)\n",
    "                \n",
    "            # Neighborhoods don't change now so construct static from init graph\n",
    "            nbor_map = { v.vnum : [ nbor.vnum for nbor in v.nbors ] for v in init_g.vertices }\n",
    "            vnum_map = { v.vnum : v for v in init_g.vertices }\n",
    "            \n",
    "            iter_out_tfs = defaultdict(lambda : 0)\n",
    "            ut_map = sim_data['maps'][strat][idx]\n",
    "            \n",
    "            for vtx in ut_map: # Uses vnum to represent vtx\n",
    "                nbors = nbor_map[int(vtx)]\n",
    "                vtx_out_tfs = 0\n",
    "                for nbor in nbors:\n",
    "                    nbor = str(nbor)\n",
    "                    if len(ut_map[nbor]['from']) < 2: # no gains in util\n",
    "                        continue\n",
    "                        \n",
    "                    if ut_map[nbor]['from'][-2] != int(vtx):\n",
    "                        continue\n",
    "                    nbor_cur_ut = ut_map[nbor]['ut']\n",
    "                    nbor_prev_ut = init_uts[int(nbor)]\n",
    "                    vtx_out_tfs += (nbor_cur_ut - nbor_prev_ut)\n",
    "                iter_out_tfs[vtx] += vtx_out_tfs\n",
    "                \n",
    "            for vtx, tfs in iter_out_tfs.items():\n",
    "                out_transfers[idx][vnum_map[int(vtx)].degree].append(tfs)\n",
    "                \n",
    "        for itf_dict in in_transfers:\n",
    "            for deg, tfs in itf_dict.items():\n",
    "                itf_dict[deg] = np.average(tfs)\n",
    "        for otf_dict in out_transfers:\n",
    "            for deg, tfs in otf_dict.items():\n",
    "                otf_dict[deg] = np.average(tfs)\n",
    "\n",
    "        self.render_plot_degree_tf({strat : (in_transfers, out_transfers)}, degree_tf_p, degree_tf_r)\n",
    "        return (in_transfers, out_transfers)\n",
    "    \n",
    "    def render_plot_degree_tf(self, plot_data, p_val, r_val):\n",
    "        fig = go.Figure()\n",
    "\n",
    "        colors = plotly.colors.DEFAULT_PLOTLY_COLORS\n",
    "        \n",
    "        comparison = (len(plot_data) > 1)\n",
    "        \n",
    "        i_idx = 0\n",
    "        for strat, transfers in plot_data.items():\n",
    "            in_color = colors[(i_idx) % len(colors)]\n",
    "            out_color = colors[(i_idx + 1) % len(colors)]\n",
    "\n",
    "            in_tfs, out_tfs = transfers\n",
    "\n",
    "            for direction, color, tfs in [('In', in_color, in_tfs), ('Out', out_color, out_tfs)]:\n",
    "                tf_degs = np.array([ list(tf.keys()) for tf in tfs ])\n",
    "                tf_degs = np.unique(np.hstack(tf_degs))\n",
    "\n",
    "                tf_full = defaultdict(lambda : []) # Map of all degrees to all transfers\n",
    "                for tf_dict in tfs:\n",
    "                    for deg, tf_val in tf_dict.items():\n",
    "                        tf_full[deg].append(tf_val)\n",
    "\n",
    "                tf_avgs = [ np.average(tf_full[deg]) for deg in tf_degs ]\n",
    "                #Error bars\n",
    "                tf_std_vals = [ np.std(tf_vals) for (deg, tf_vals) in tf_full.items() ]\n",
    "\n",
    "                strat_name = f' strat={strat}' if comparison else ''\n",
    "                fig.add_trace(go.Scatter(x=tf_degs,\n",
    "                    y=tf_avgs, mode='lines+markers', hoverinfo='skip',\n",
    "                    name=f'{direction} transfers (r={r_val}{strat_name})', marker=dict(color=color),\n",
    "                    error_y=dict(type='data', array=tf_std_vals, visible=True)))\n",
    "\n",
    "                #Add individual points trace\n",
    "                indiv_tf_degs = []\n",
    "                indiv_tf_vals = []\n",
    "                for (deg, tf_vals) in tf_full.items():\n",
    "                    indiv_tf_vals.extend(tf_vals)\n",
    "                    indiv_tf_degs.extend([deg] * len(tf_vals))\n",
    "                fig.add_trace(go.Scatter(x=indiv_tf_degs,\n",
    "                    y=indiv_tf_vals, mode='markers', hoverinfo='skip', opacity=0.3,\n",
    "                    marker=dict(color=color), name=f'{direction} transfers per iter (r={r_val}{strat_name})'))\n",
    "            i_idx += 2\n",
    "\n",
    "        fig.layout.update(showlegend=False)\n",
    "        strat_name = 'Comparison'\n",
    "        if not comparison:\n",
    "            strat_name = list(plot_data.keys())[0]\n",
    "        plot_title = f\"Degree vs Utility transfers ({strat_name})\"\n",
    "        fig.layout.update(title=plot_title, showlegend=True,\n",
    "            xaxis=dict(title='degree'), yaxis=dict(title='utility transfered'),\n",
    "            plot_bgcolor='rgba(0,0,0,0)')\n",
    "\n",
    "        iplot(fig)"
   ]
  },
  {
   "cell_type": "code",
   "execution_count": 78,
   "metadata": {
    "scrolled": false
   },
   "outputs": [
    {
     "data": {
      "application/vnd.jupyter.widget-view+json": {
       "model_id": "5e994b43269c40ec9b18bf216c03e71c",
       "version_major": 2,
       "version_minor": 0
      },
      "text/plain": [
       "HTML(value='<b>Average welfare by p</b>', placeholder='Some HTML')"
      ]
     },
     "metadata": {},
     "output_type": "display_data"
    },
    {
     "data": {
      "application/vnd.jupyter.widget-view+json": {
       "model_id": "5fb186bffa6147988496b35f52a405d3",
       "version_major": 2,
       "version_minor": 0
      },
      "text/plain": [
       "SelectMultiple(description='Resources per vertex', options=('128', '64', '32', '16', '8', '4', '2'), value=())"
      ]
     },
     "metadata": {},
     "output_type": "display_data"
    },
    {
     "data": {
      "application/vnd.jupyter.widget-view+json": {
       "model_id": "b5477fe4a91743d680132ead350af41e",
       "version_major": 2,
       "version_minor": 0
      },
      "text/plain": [
       "HTML(value='<b>Average welfare by epoch</b>', placeholder='Some HTML')"
      ]
     },
     "metadata": {},
     "output_type": "display_data"
    },
    {
     "data": {
      "application/vnd.jupyter.widget-view+json": {
       "model_id": "eab0509d8b0245e3ad5bc36cecd78c51",
       "version_major": 2,
       "version_minor": 0
      },
      "text/plain": [
       "SelectMultiple(description='Prob info trans', options=('1.0', '0.9', '0.8', '0.7', '0.6', '0.5', '0.4', '0.3',…"
      ]
     },
     "metadata": {},
     "output_type": "display_data"
    },
    {
     "data": {
      "application/vnd.jupyter.widget-view+json": {
       "model_id": "4b41b9d0c1064fb19dfba940356b3999",
       "version_major": 2,
       "version_minor": 0
      },
      "text/plain": [
       "Select(description='Resources per vertex', options=('128', '64', '32', '16', '8', '4', '2'), value='128')"
      ]
     },
     "metadata": {},
     "output_type": "display_data"
    },
    {
     "data": {
      "application/vnd.jupyter.widget-view+json": {
       "model_id": "387ccb606cc64341b4e11430475c2880",
       "version_major": 2,
       "version_minor": 0
      },
      "text/plain": [
       "HTML(value='<b>Gain / Interactions Initiated</b>', placeholder='Some HTML')"
      ]
     },
     "metadata": {},
     "output_type": "display_data"
    },
    {
     "data": {
      "application/vnd.jupyter.widget-view+json": {
       "model_id": "92e08f38c67d4d44ad904aeddd4176cb",
       "version_major": 2,
       "version_minor": 0
      },
      "text/plain": [
       "SelectMultiple(description='Resources per vertex', options=('128', '64', '32', '16', '8', '4', '2'), value=())"
      ]
     },
     "metadata": {},
     "output_type": "display_data"
    },
    {
     "data": {
      "application/vnd.jupyter.widget-view+json": {
       "model_id": "c75259a0d41c4d058c418e2a35aaede8",
       "version_major": 2,
       "version_minor": 0
      },
      "text/plain": [
       "HTML(value='<b>Utility transfered by degree</b>', placeholder='Some HTML')"
      ]
     },
     "metadata": {},
     "output_type": "display_data"
    },
    {
     "data": {
      "application/vnd.jupyter.widget-view+json": {
       "model_id": "7510852720e74074b3f5662f30369c68",
       "version_major": 2,
       "version_minor": 0
      },
      "text/plain": [
       "Select(description='Prob info trans', index=8, options=('1.0', '0.9', '0.8', '0.7', '0.6', '0.5', '0.4', '0.3'…"
      ]
     },
     "metadata": {},
     "output_type": "display_data"
    },
    {
     "data": {
      "application/vnd.jupyter.widget-view+json": {
       "model_id": "8322353024354d47a203ff37208863cb",
       "version_major": 2,
       "version_minor": 0
      },
      "text/plain": [
       "Select(description='Resources per vertex', index=3, options=('128', '64', '32', '16', '8', '4', '2'), value='1…"
      ]
     },
     "metadata": {},
     "output_type": "display_data"
    },
    {
     "data": {
      "application/vnd.jupyter.widget-view+json": {
       "model_id": "e2b785ce02f54fcfadcd138b9170821c",
       "version_major": 2,
       "version_minor": 0
      },
      "text/plain": [
       "HTML(value='<b>General settings</b>', placeholder='Some HTML')"
      ]
     },
     "metadata": {},
     "output_type": "display_data"
    },
    {
     "data": {
      "application/vnd.jupyter.widget-view+json": {
       "model_id": "1cf7cbc4a695411b9f97dd25864bba78",
       "version_major": 2,
       "version_minor": 0
      },
      "text/plain": [
       "SelectMultiple(description='Neighbor allocation strategy', index=(0, 1, 2, 3), options=('mwu', 'se_mwu', 'unif…"
      ]
     },
     "metadata": {},
     "output_type": "display_data"
    },
    {
     "data": {
      "application/vnd.jupyter.widget-view+json": {
       "model_id": "312637fece8c4dad966a280818440fcb",
       "version_major": 2,
       "version_minor": 0
      },
      "text/plain": [
       "SelectMultiple(description='Plots to render', index=(3,), options=('by_p', 'by_epoch', 'gain', 'degree_tf'), v…"
      ]
     },
     "metadata": {},
     "output_type": "display_data"
    },
    {
     "data": {
      "application/vnd.jupyter.widget-view+json": {
       "model_id": "03045196d1744090a27ae49c958c3b39",
       "version_major": 2,
       "version_minor": 0
      },
      "text/plain": [
       "ToggleButton(value=False, description='Powerlaw', tooltip='Powerlaw distributed resources')"
      ]
     },
     "metadata": {},
     "output_type": "display_data"
    },
    {
     "data": {
      "application/vnd.jupyter.widget-view+json": {
       "model_id": "0a9f4b1a89c248349414fdde1540249a",
       "version_major": 2,
       "version_minor": 0
      },
      "text/plain": [
       "Button(description='Plot', style=ButtonStyle(), tooltip='Plots by selected parameters')"
      ]
     },
     "metadata": {},
     "output_type": "display_data"
    },
    {
     "data": {
      "application/vnd.plotly.v1+json": {
       "config": {
        "linkText": "Export to plot.ly",
        "plotlyServerURL": "https://plot.ly",
        "showLink": false
       },
       "data": [
        {
         "error_y": {
          "array": [
           0.02583900063044465,
           0.22698967692182684,
           0.07741436595482465,
           0.052368028374085517,
           0.23193078089210253,
           0.2222222222222222,
           0.10417688363613209
          ],
          "type": "data",
          "visible": true
         },
         "hoverinfo": "skip",
         "marker": {
          "color": "rgb(31, 119, 180)"
         },
         "mode": "lines+markers",
         "name": "In transfers (r=16)",
         "type": "scatter",
         "x": [
          2,
          3,
          4,
          5,
          6,
          7,
          8
         ],
         "y": [
          0.611111111111111,
          0.4734920634920634,
          0.5067929464759787,
          0.4981370169616047,
          0.5377152477152476,
          0.4920634920634921,
          0.5555555555555556
         ]
        },
        {
         "hoverinfo": "skip",
         "marker": {
          "color": "rgb(31, 119, 180)"
         },
         "mode": "markers",
         "name": "In transfers per iter (r=16)",
         "opacity": 0.3,
         "type": "scatter",
         "x": [
          4,
          4,
          4,
          4,
          4,
          4,
          4,
          4,
          4,
          4,
          7,
          7,
          7,
          7,
          7,
          7,
          7,
          3,
          3,
          3,
          3,
          3,
          3,
          3,
          3,
          3,
          3,
          5,
          5,
          5,
          5,
          5,
          5,
          5,
          5,
          5,
          5,
          2,
          2,
          2,
          2,
          2,
          2,
          2,
          8,
          8,
          6,
          6,
          6,
          6,
          6,
          6,
          6,
          6,
          6,
          6
         ],
         "y": [
          0.5523809523809523,
          0.4732510288065844,
          0.5046296296296297,
          0.5211640211640212,
          0.4750957854406129,
          0.47826086956521746,
          0.503267973856209,
          0.5034722222222222,
          0.5440613026819924,
          0.5123456790123455,
          0.4444444444444445,
          0.7222222222222223,
          0.33333333333333337,
          0.8888888888888888,
          0.5555555555555556,
          0.27777777777777785,
          0.2222222222222222,
          0.33333333333333337,
          0.4333333333333333,
          0.494949494949495,
          0.4722222222222222,
          0.5555555555555555,
          0.4166666666666667,
          0.6262626262626262,
          0.4444444444444445,
          0.5238095238095236,
          0.43434343434343425,
          0.4603174603174603,
          0.4977777777777779,
          0.5427350427350427,
          0.5166666666666667,
          0.49999999999999994,
          0.48659003831417624,
          0.391304347826087,
          0.5992063492063491,
          0.523809523809524,
          0.462962962962963,
          0.33333333333333326,
          1,
          0.7777777777777778,
          0.4444444444444444,
          0.33333333333333326,
          0.6666666666666667,
          0.7222222222222222,
          0.7777777777777778,
          0.33333333333333337,
          0.4444444444444445,
          0.5353535353535354,
          0.5714285714285714,
          0.5777777777777777,
          0.603174603174603,
          0.5370370370370371,
          0.7777777777777777,
          0.3777777777777778,
          0.5079365079365079,
          0.4444444444444445
         ]
        },
        {
         "error_y": {
          "array": [
           0.05714895990808713,
           0.4576605357846204,
           0.08908947156958973,
           0.08788053241523971,
           0.35763282087624626,
           0.18852616526815338,
           0.05555555555555558
          ],
          "type": "data",
          "visible": true
         },
         "hoverinfo": "skip",
         "marker": {
          "color": "rgb(255, 127, 14)"
         },
         "mode": "lines+markers",
         "name": "Out transfers (r=16)",
         "type": "scatter",
         "x": [
          2,
          3,
          4,
          5,
          6,
          7,
          8
         ],
         "y": [
          0.3555555555555555,
          0.2934520384442985,
          0.35678518228003797,
          0.3638593192548568,
          0.5039373897707231,
          0.779835390946502,
          0.16666666666666674
         ]
        },
        {
         "hoverinfo": "skip",
         "marker": {
          "color": "rgb(255, 127, 14)"
         },
         "mode": "markers",
         "name": "Out transfers per iter (r=16)",
         "opacity": 0.3,
         "type": "scatter",
         "x": [
          4,
          4,
          4,
          4,
          4,
          4,
          4,
          4,
          4,
          4,
          7,
          7,
          7,
          7,
          7,
          7,
          7,
          7,
          7,
          3,
          3,
          3,
          3,
          3,
          3,
          3,
          3,
          3,
          3,
          5,
          5,
          5,
          5,
          5,
          5,
          5,
          5,
          5,
          5,
          2,
          2,
          2,
          2,
          2,
          2,
          2,
          2,
          2,
          2,
          6,
          6,
          6,
          6,
          6,
          6,
          6,
          6,
          6,
          6,
          8,
          8
         ],
         "y": [
          0.32575757575757575,
          0.45045045045045046,
          0.36666666666666664,
          0.42265795206971674,
          0.35933806146572106,
          0.4045584045584046,
          0.3537414965986395,
          0.2573099415204678,
          0.3495934959349593,
          0.27777777777777773,
          0,
          0.8888888888888888,
          1.4444444444444446,
          0.8518518518518517,
          1,
          0.8888888888888891,
          0.7777777777777777,
          1.1666666666666665,
          0,
          0.29629629629629634,
          0.28888888888888886,
          0.304093567251462,
          0.19191919191919188,
          0.18055555555555555,
          0.17647058823529413,
          0.40740740740740744,
          0.462962962962963,
          0.3148148148148148,
          0.3111111111111111,
          0.45299145299145305,
          0.38047138047138046,
          0.3555555555555555,
          0.3076923076923077,
          0.30303030303030304,
          0.24836601307189538,
          0.2796934865900383,
          0.4575163398692811,
          0.31481481481481477,
          0.5384615384615384,
          0,
          0,
          0.4444444444444444,
          1.1111111111111112,
          0.5555555555555555,
          0,
          0.2222222222222222,
          0,
          0.5555555555555556,
          0.6666666666666666,
          0.6666666666666667,
          0.212962962962963,
          0.3950617283950617,
          0.5277777777777778,
          0.375,
          0.634920634920635,
          0.5555555555555557,
          0.6984126984126985,
          0.7666666666666666,
          0.20634920634920637,
          0.22222222222222232,
          0.11111111111111116
         ]
        }
       ],
       "layout": {
        "plot_bgcolor": "rgba(0,0,0,0)",
        "showlegend": true,
        "template": {
         "data": {
          "bar": [
           {
            "error_x": {
             "color": "#2a3f5f"
            },
            "error_y": {
             "color": "#2a3f5f"
            },
            "marker": {
             "line": {
              "color": "#E5ECF6",
              "width": 0.5
             }
            },
            "type": "bar"
           }
          ],
          "barpolar": [
           {
            "marker": {
             "line": {
              "color": "#E5ECF6",
              "width": 0.5
             }
            },
            "type": "barpolar"
           }
          ],
          "carpet": [
           {
            "aaxis": {
             "endlinecolor": "#2a3f5f",
             "gridcolor": "white",
             "linecolor": "white",
             "minorgridcolor": "white",
             "startlinecolor": "#2a3f5f"
            },
            "baxis": {
             "endlinecolor": "#2a3f5f",
             "gridcolor": "white",
             "linecolor": "white",
             "minorgridcolor": "white",
             "startlinecolor": "#2a3f5f"
            },
            "type": "carpet"
           }
          ],
          "choropleth": [
           {
            "colorbar": {
             "outlinewidth": 0,
             "ticks": ""
            },
            "type": "choropleth"
           }
          ],
          "contour": [
           {
            "colorbar": {
             "outlinewidth": 0,
             "ticks": ""
            },
            "colorscale": [
             [
              0,
              "#0d0887"
             ],
             [
              0.1111111111111111,
              "#46039f"
             ],
             [
              0.2222222222222222,
              "#7201a8"
             ],
             [
              0.3333333333333333,
              "#9c179e"
             ],
             [
              0.4444444444444444,
              "#bd3786"
             ],
             [
              0.5555555555555556,
              "#d8576b"
             ],
             [
              0.6666666666666666,
              "#ed7953"
             ],
             [
              0.7777777777777778,
              "#fb9f3a"
             ],
             [
              0.8888888888888888,
              "#fdca26"
             ],
             [
              1,
              "#f0f921"
             ]
            ],
            "type": "contour"
           }
          ],
          "contourcarpet": [
           {
            "colorbar": {
             "outlinewidth": 0,
             "ticks": ""
            },
            "type": "contourcarpet"
           }
          ],
          "heatmap": [
           {
            "colorbar": {
             "outlinewidth": 0,
             "ticks": ""
            },
            "colorscale": [
             [
              0,
              "#0d0887"
             ],
             [
              0.1111111111111111,
              "#46039f"
             ],
             [
              0.2222222222222222,
              "#7201a8"
             ],
             [
              0.3333333333333333,
              "#9c179e"
             ],
             [
              0.4444444444444444,
              "#bd3786"
             ],
             [
              0.5555555555555556,
              "#d8576b"
             ],
             [
              0.6666666666666666,
              "#ed7953"
             ],
             [
              0.7777777777777778,
              "#fb9f3a"
             ],
             [
              0.8888888888888888,
              "#fdca26"
             ],
             [
              1,
              "#f0f921"
             ]
            ],
            "type": "heatmap"
           }
          ],
          "heatmapgl": [
           {
            "colorbar": {
             "outlinewidth": 0,
             "ticks": ""
            },
            "colorscale": [
             [
              0,
              "#0d0887"
             ],
             [
              0.1111111111111111,
              "#46039f"
             ],
             [
              0.2222222222222222,
              "#7201a8"
             ],
             [
              0.3333333333333333,
              "#9c179e"
             ],
             [
              0.4444444444444444,
              "#bd3786"
             ],
             [
              0.5555555555555556,
              "#d8576b"
             ],
             [
              0.6666666666666666,
              "#ed7953"
             ],
             [
              0.7777777777777778,
              "#fb9f3a"
             ],
             [
              0.8888888888888888,
              "#fdca26"
             ],
             [
              1,
              "#f0f921"
             ]
            ],
            "type": "heatmapgl"
           }
          ],
          "histogram": [
           {
            "marker": {
             "colorbar": {
              "outlinewidth": 0,
              "ticks": ""
             }
            },
            "type": "histogram"
           }
          ],
          "histogram2d": [
           {
            "colorbar": {
             "outlinewidth": 0,
             "ticks": ""
            },
            "colorscale": [
             [
              0,
              "#0d0887"
             ],
             [
              0.1111111111111111,
              "#46039f"
             ],
             [
              0.2222222222222222,
              "#7201a8"
             ],
             [
              0.3333333333333333,
              "#9c179e"
             ],
             [
              0.4444444444444444,
              "#bd3786"
             ],
             [
              0.5555555555555556,
              "#d8576b"
             ],
             [
              0.6666666666666666,
              "#ed7953"
             ],
             [
              0.7777777777777778,
              "#fb9f3a"
             ],
             [
              0.8888888888888888,
              "#fdca26"
             ],
             [
              1,
              "#f0f921"
             ]
            ],
            "type": "histogram2d"
           }
          ],
          "histogram2dcontour": [
           {
            "colorbar": {
             "outlinewidth": 0,
             "ticks": ""
            },
            "colorscale": [
             [
              0,
              "#0d0887"
             ],
             [
              0.1111111111111111,
              "#46039f"
             ],
             [
              0.2222222222222222,
              "#7201a8"
             ],
             [
              0.3333333333333333,
              "#9c179e"
             ],
             [
              0.4444444444444444,
              "#bd3786"
             ],
             [
              0.5555555555555556,
              "#d8576b"
             ],
             [
              0.6666666666666666,
              "#ed7953"
             ],
             [
              0.7777777777777778,
              "#fb9f3a"
             ],
             [
              0.8888888888888888,
              "#fdca26"
             ],
             [
              1,
              "#f0f921"
             ]
            ],
            "type": "histogram2dcontour"
           }
          ],
          "mesh3d": [
           {
            "colorbar": {
             "outlinewidth": 0,
             "ticks": ""
            },
            "type": "mesh3d"
           }
          ],
          "parcoords": [
           {
            "line": {
             "colorbar": {
              "outlinewidth": 0,
              "ticks": ""
             }
            },
            "type": "parcoords"
           }
          ],
          "pie": [
           {
            "automargin": true,
            "type": "pie"
           }
          ],
          "scatter": [
           {
            "marker": {
             "colorbar": {
              "outlinewidth": 0,
              "ticks": ""
             }
            },
            "type": "scatter"
           }
          ],
          "scatter3d": [
           {
            "line": {
             "colorbar": {
              "outlinewidth": 0,
              "ticks": ""
             }
            },
            "marker": {
             "colorbar": {
              "outlinewidth": 0,
              "ticks": ""
             }
            },
            "type": "scatter3d"
           }
          ],
          "scattercarpet": [
           {
            "marker": {
             "colorbar": {
              "outlinewidth": 0,
              "ticks": ""
             }
            },
            "type": "scattercarpet"
           }
          ],
          "scattergeo": [
           {
            "marker": {
             "colorbar": {
              "outlinewidth": 0,
              "ticks": ""
             }
            },
            "type": "scattergeo"
           }
          ],
          "scattergl": [
           {
            "marker": {
             "colorbar": {
              "outlinewidth": 0,
              "ticks": ""
             }
            },
            "type": "scattergl"
           }
          ],
          "scattermapbox": [
           {
            "marker": {
             "colorbar": {
              "outlinewidth": 0,
              "ticks": ""
             }
            },
            "type": "scattermapbox"
           }
          ],
          "scatterpolar": [
           {
            "marker": {
             "colorbar": {
              "outlinewidth": 0,
              "ticks": ""
             }
            },
            "type": "scatterpolar"
           }
          ],
          "scatterpolargl": [
           {
            "marker": {
             "colorbar": {
              "outlinewidth": 0,
              "ticks": ""
             }
            },
            "type": "scatterpolargl"
           }
          ],
          "scatterternary": [
           {
            "marker": {
             "colorbar": {
              "outlinewidth": 0,
              "ticks": ""
             }
            },
            "type": "scatterternary"
           }
          ],
          "surface": [
           {
            "colorbar": {
             "outlinewidth": 0,
             "ticks": ""
            },
            "colorscale": [
             [
              0,
              "#0d0887"
             ],
             [
              0.1111111111111111,
              "#46039f"
             ],
             [
              0.2222222222222222,
              "#7201a8"
             ],
             [
              0.3333333333333333,
              "#9c179e"
             ],
             [
              0.4444444444444444,
              "#bd3786"
             ],
             [
              0.5555555555555556,
              "#d8576b"
             ],
             [
              0.6666666666666666,
              "#ed7953"
             ],
             [
              0.7777777777777778,
              "#fb9f3a"
             ],
             [
              0.8888888888888888,
              "#fdca26"
             ],
             [
              1,
              "#f0f921"
             ]
            ],
            "type": "surface"
           }
          ],
          "table": [
           {
            "cells": {
             "fill": {
              "color": "#EBF0F8"
             },
             "line": {
              "color": "white"
             }
            },
            "header": {
             "fill": {
              "color": "#C8D4E3"
             },
             "line": {
              "color": "white"
             }
            },
            "type": "table"
           }
          ]
         },
         "layout": {
          "annotationdefaults": {
           "arrowcolor": "#2a3f5f",
           "arrowhead": 0,
           "arrowwidth": 1
          },
          "coloraxis": {
           "colorbar": {
            "outlinewidth": 0,
            "ticks": ""
           }
          },
          "colorscale": {
           "diverging": [
            [
             0,
             "#8e0152"
            ],
            [
             0.1,
             "#c51b7d"
            ],
            [
             0.2,
             "#de77ae"
            ],
            [
             0.3,
             "#f1b6da"
            ],
            [
             0.4,
             "#fde0ef"
            ],
            [
             0.5,
             "#f7f7f7"
            ],
            [
             0.6,
             "#e6f5d0"
            ],
            [
             0.7,
             "#b8e186"
            ],
            [
             0.8,
             "#7fbc41"
            ],
            [
             0.9,
             "#4d9221"
            ],
            [
             1,
             "#276419"
            ]
           ],
           "sequential": [
            [
             0,
             "#0d0887"
            ],
            [
             0.1111111111111111,
             "#46039f"
            ],
            [
             0.2222222222222222,
             "#7201a8"
            ],
            [
             0.3333333333333333,
             "#9c179e"
            ],
            [
             0.4444444444444444,
             "#bd3786"
            ],
            [
             0.5555555555555556,
             "#d8576b"
            ],
            [
             0.6666666666666666,
             "#ed7953"
            ],
            [
             0.7777777777777778,
             "#fb9f3a"
            ],
            [
             0.8888888888888888,
             "#fdca26"
            ],
            [
             1,
             "#f0f921"
            ]
           ],
           "sequentialminus": [
            [
             0,
             "#0d0887"
            ],
            [
             0.1111111111111111,
             "#46039f"
            ],
            [
             0.2222222222222222,
             "#7201a8"
            ],
            [
             0.3333333333333333,
             "#9c179e"
            ],
            [
             0.4444444444444444,
             "#bd3786"
            ],
            [
             0.5555555555555556,
             "#d8576b"
            ],
            [
             0.6666666666666666,
             "#ed7953"
            ],
            [
             0.7777777777777778,
             "#fb9f3a"
            ],
            [
             0.8888888888888888,
             "#fdca26"
            ],
            [
             1,
             "#f0f921"
            ]
           ]
          },
          "colorway": [
           "#636efa",
           "#EF553B",
           "#00cc96",
           "#ab63fa",
           "#FFA15A",
           "#19d3f3",
           "#FF6692",
           "#B6E880",
           "#FF97FF",
           "#FECB52"
          ],
          "font": {
           "color": "#2a3f5f"
          },
          "geo": {
           "bgcolor": "white",
           "lakecolor": "white",
           "landcolor": "#E5ECF6",
           "showlakes": true,
           "showland": true,
           "subunitcolor": "white"
          },
          "hoverlabel": {
           "align": "left"
          },
          "hovermode": "closest",
          "mapbox": {
           "style": "light"
          },
          "paper_bgcolor": "white",
          "plot_bgcolor": "#E5ECF6",
          "polar": {
           "angularaxis": {
            "gridcolor": "white",
            "linecolor": "white",
            "ticks": ""
           },
           "bgcolor": "#E5ECF6",
           "radialaxis": {
            "gridcolor": "white",
            "linecolor": "white",
            "ticks": ""
           }
          },
          "scene": {
           "xaxis": {
            "backgroundcolor": "#E5ECF6",
            "gridcolor": "white",
            "gridwidth": 2,
            "linecolor": "white",
            "showbackground": true,
            "ticks": "",
            "zerolinecolor": "white"
           },
           "yaxis": {
            "backgroundcolor": "#E5ECF6",
            "gridcolor": "white",
            "gridwidth": 2,
            "linecolor": "white",
            "showbackground": true,
            "ticks": "",
            "zerolinecolor": "white"
           },
           "zaxis": {
            "backgroundcolor": "#E5ECF6",
            "gridcolor": "white",
            "gridwidth": 2,
            "linecolor": "white",
            "showbackground": true,
            "ticks": "",
            "zerolinecolor": "white"
           }
          },
          "shapedefaults": {
           "line": {
            "color": "#2a3f5f"
           }
          },
          "ternary": {
           "aaxis": {
            "gridcolor": "white",
            "linecolor": "white",
            "ticks": ""
           },
           "baxis": {
            "gridcolor": "white",
            "linecolor": "white",
            "ticks": ""
           },
           "bgcolor": "#E5ECF6",
           "caxis": {
            "gridcolor": "white",
            "linecolor": "white",
            "ticks": ""
           }
          },
          "title": {
           "x": 0.05
          },
          "xaxis": {
           "automargin": true,
           "gridcolor": "white",
           "linecolor": "white",
           "ticks": "",
           "title": {
            "standoff": 15
           },
           "zerolinecolor": "white",
           "zerolinewidth": 2
          },
          "yaxis": {
           "automargin": true,
           "gridcolor": "white",
           "linecolor": "white",
           "ticks": "",
           "title": {
            "standoff": 15
           },
           "zerolinecolor": "white",
           "zerolinewidth": 2
          }
         }
        },
        "title": {
         "text": "Degree vs Utility transfers (mwu)"
        },
        "xaxis": {
         "title": {
          "text": "degree"
         }
        },
        "yaxis": {
         "title": {
          "text": "utility transfered"
         }
        }
       }
      },
      "text/html": [
       "<div>\n",
       "        \n",
       "        \n",
       "            <div id=\"f7a6b8f1-b5df-4801-9206-ed16862a7fec\" class=\"plotly-graph-div\" style=\"height:525px; width:100%;\"></div>\n",
       "            <script type=\"text/javascript\">\n",
       "                require([\"plotly\"], function(Plotly) {\n",
       "                    window.PLOTLYENV=window.PLOTLYENV || {};\n",
       "                    \n",
       "                if (document.getElementById(\"f7a6b8f1-b5df-4801-9206-ed16862a7fec\")) {\n",
       "                    Plotly.newPlot(\n",
       "                        'f7a6b8f1-b5df-4801-9206-ed16862a7fec',\n",
       "                        [{\"error_y\": {\"array\": [0.02583900063044465, 0.22698967692182684, 0.07741436595482465, 0.052368028374085517, 0.23193078089210253, 0.2222222222222222, 0.10417688363613209], \"type\": \"data\", \"visible\": true}, \"hoverinfo\": \"skip\", \"marker\": {\"color\": \"rgb(31, 119, 180)\"}, \"mode\": \"lines+markers\", \"name\": \"In transfers (r=16)\", \"type\": \"scatter\", \"x\": [2, 3, 4, 5, 6, 7, 8], \"y\": [0.611111111111111, 0.4734920634920634, 0.5067929464759787, 0.4981370169616047, 0.5377152477152476, 0.4920634920634921, 0.5555555555555556]}, {\"hoverinfo\": \"skip\", \"marker\": {\"color\": \"rgb(31, 119, 180)\"}, \"mode\": \"markers\", \"name\": \"In transfers per iter (r=16)\", \"opacity\": 0.3, \"type\": \"scatter\", \"x\": [4, 4, 4, 4, 4, 4, 4, 4, 4, 4, 7, 7, 7, 7, 7, 7, 7, 3, 3, 3, 3, 3, 3, 3, 3, 3, 3, 5, 5, 5, 5, 5, 5, 5, 5, 5, 5, 2, 2, 2, 2, 2, 2, 2, 8, 8, 6, 6, 6, 6, 6, 6, 6, 6, 6, 6], \"y\": [0.5523809523809523, 0.4732510288065844, 0.5046296296296297, 0.5211640211640212, 0.4750957854406129, 0.47826086956521746, 0.503267973856209, 0.5034722222222222, 0.5440613026819924, 0.5123456790123455, 0.4444444444444445, 0.7222222222222223, 0.33333333333333337, 0.8888888888888888, 0.5555555555555556, 0.27777777777777785, 0.2222222222222222, 0.33333333333333337, 0.4333333333333333, 0.494949494949495, 0.4722222222222222, 0.5555555555555555, 0.4166666666666667, 0.6262626262626262, 0.4444444444444445, 0.5238095238095236, 0.43434343434343425, 0.4603174603174603, 0.4977777777777779, 0.5427350427350427, 0.5166666666666667, 0.49999999999999994, 0.48659003831417624, 0.391304347826087, 0.5992063492063491, 0.523809523809524, 0.462962962962963, 0.33333333333333326, 1.0, 0.7777777777777778, 0.4444444444444444, 0.33333333333333326, 0.6666666666666667, 0.7222222222222222, 0.7777777777777778, 0.33333333333333337, 0.4444444444444445, 0.5353535353535354, 0.5714285714285714, 0.5777777777777777, 0.603174603174603, 0.5370370370370371, 0.7777777777777777, 0.3777777777777778, 0.5079365079365079, 0.4444444444444445]}, {\"error_y\": {\"array\": [0.05714895990808713, 0.4576605357846204, 0.08908947156958973, 0.08788053241523971, 0.35763282087624626, 0.18852616526815338, 0.05555555555555558], \"type\": \"data\", \"visible\": true}, \"hoverinfo\": \"skip\", \"marker\": {\"color\": \"rgb(255, 127, 14)\"}, \"mode\": \"lines+markers\", \"name\": \"Out transfers (r=16)\", \"type\": \"scatter\", \"x\": [2, 3, 4, 5, 6, 7, 8], \"y\": [0.3555555555555555, 0.2934520384442985, 0.35678518228003797, 0.3638593192548568, 0.5039373897707231, 0.779835390946502, 0.16666666666666674]}, {\"hoverinfo\": \"skip\", \"marker\": {\"color\": \"rgb(255, 127, 14)\"}, \"mode\": \"markers\", \"name\": \"Out transfers per iter (r=16)\", \"opacity\": 0.3, \"type\": \"scatter\", \"x\": [4, 4, 4, 4, 4, 4, 4, 4, 4, 4, 7, 7, 7, 7, 7, 7, 7, 7, 7, 3, 3, 3, 3, 3, 3, 3, 3, 3, 3, 5, 5, 5, 5, 5, 5, 5, 5, 5, 5, 2, 2, 2, 2, 2, 2, 2, 2, 2, 2, 6, 6, 6, 6, 6, 6, 6, 6, 6, 6, 8, 8], \"y\": [0.32575757575757575, 0.45045045045045046, 0.36666666666666664, 0.42265795206971674, 0.35933806146572106, 0.4045584045584046, 0.3537414965986395, 0.2573099415204678, 0.3495934959349593, 0.27777777777777773, 0.0, 0.8888888888888888, 1.4444444444444446, 0.8518518518518517, 1.0, 0.8888888888888891, 0.7777777777777777, 1.1666666666666665, 0.0, 0.29629629629629634, 0.28888888888888886, 0.304093567251462, 0.19191919191919188, 0.18055555555555555, 0.17647058823529413, 0.40740740740740744, 0.462962962962963, 0.3148148148148148, 0.3111111111111111, 0.45299145299145305, 0.38047138047138046, 0.3555555555555555, 0.3076923076923077, 0.30303030303030304, 0.24836601307189538, 0.2796934865900383, 0.4575163398692811, 0.31481481481481477, 0.5384615384615384, 0.0, 0.0, 0.4444444444444444, 1.1111111111111112, 0.5555555555555555, 0.0, 0.2222222222222222, 0.0, 0.5555555555555556, 0.6666666666666666, 0.6666666666666667, 0.212962962962963, 0.3950617283950617, 0.5277777777777778, 0.375, 0.634920634920635, 0.5555555555555557, 0.6984126984126985, 0.7666666666666666, 0.20634920634920637, 0.22222222222222232, 0.11111111111111116]}],\n",
       "                        {\"plot_bgcolor\": \"rgba(0,0,0,0)\", \"showlegend\": true, \"template\": {\"data\": {\"bar\": [{\"error_x\": {\"color\": \"#2a3f5f\"}, \"error_y\": {\"color\": \"#2a3f5f\"}, \"marker\": {\"line\": {\"color\": \"#E5ECF6\", \"width\": 0.5}}, \"type\": \"bar\"}], \"barpolar\": [{\"marker\": {\"line\": {\"color\": \"#E5ECF6\", \"width\": 0.5}}, \"type\": \"barpolar\"}], \"carpet\": [{\"aaxis\": {\"endlinecolor\": \"#2a3f5f\", \"gridcolor\": \"white\", \"linecolor\": \"white\", \"minorgridcolor\": \"white\", \"startlinecolor\": \"#2a3f5f\"}, \"baxis\": {\"endlinecolor\": \"#2a3f5f\", \"gridcolor\": \"white\", \"linecolor\": \"white\", \"minorgridcolor\": \"white\", \"startlinecolor\": \"#2a3f5f\"}, \"type\": \"carpet\"}], \"choropleth\": [{\"colorbar\": {\"outlinewidth\": 0, \"ticks\": \"\"}, \"type\": \"choropleth\"}], \"contour\": [{\"colorbar\": {\"outlinewidth\": 0, \"ticks\": \"\"}, \"colorscale\": [[0.0, \"#0d0887\"], [0.1111111111111111, \"#46039f\"], [0.2222222222222222, \"#7201a8\"], [0.3333333333333333, \"#9c179e\"], [0.4444444444444444, \"#bd3786\"], [0.5555555555555556, \"#d8576b\"], [0.6666666666666666, \"#ed7953\"], [0.7777777777777778, \"#fb9f3a\"], [0.8888888888888888, \"#fdca26\"], [1.0, \"#f0f921\"]], \"type\": \"contour\"}], \"contourcarpet\": [{\"colorbar\": {\"outlinewidth\": 0, \"ticks\": \"\"}, \"type\": \"contourcarpet\"}], \"heatmap\": [{\"colorbar\": {\"outlinewidth\": 0, \"ticks\": \"\"}, \"colorscale\": [[0.0, \"#0d0887\"], [0.1111111111111111, \"#46039f\"], [0.2222222222222222, \"#7201a8\"], [0.3333333333333333, \"#9c179e\"], [0.4444444444444444, \"#bd3786\"], [0.5555555555555556, \"#d8576b\"], [0.6666666666666666, \"#ed7953\"], [0.7777777777777778, \"#fb9f3a\"], [0.8888888888888888, \"#fdca26\"], [1.0, \"#f0f921\"]], \"type\": \"heatmap\"}], \"heatmapgl\": [{\"colorbar\": {\"outlinewidth\": 0, \"ticks\": \"\"}, \"colorscale\": [[0.0, \"#0d0887\"], [0.1111111111111111, \"#46039f\"], [0.2222222222222222, \"#7201a8\"], [0.3333333333333333, \"#9c179e\"], [0.4444444444444444, \"#bd3786\"], [0.5555555555555556, \"#d8576b\"], [0.6666666666666666, \"#ed7953\"], [0.7777777777777778, \"#fb9f3a\"], [0.8888888888888888, \"#fdca26\"], [1.0, \"#f0f921\"]], \"type\": \"heatmapgl\"}], \"histogram\": [{\"marker\": {\"colorbar\": {\"outlinewidth\": 0, \"ticks\": \"\"}}, \"type\": \"histogram\"}], \"histogram2d\": [{\"colorbar\": {\"outlinewidth\": 0, \"ticks\": \"\"}, \"colorscale\": [[0.0, \"#0d0887\"], [0.1111111111111111, \"#46039f\"], [0.2222222222222222, \"#7201a8\"], [0.3333333333333333, \"#9c179e\"], [0.4444444444444444, \"#bd3786\"], [0.5555555555555556, \"#d8576b\"], [0.6666666666666666, \"#ed7953\"], [0.7777777777777778, \"#fb9f3a\"], [0.8888888888888888, \"#fdca26\"], [1.0, \"#f0f921\"]], \"type\": \"histogram2d\"}], \"histogram2dcontour\": [{\"colorbar\": {\"outlinewidth\": 0, \"ticks\": \"\"}, \"colorscale\": [[0.0, \"#0d0887\"], [0.1111111111111111, \"#46039f\"], [0.2222222222222222, \"#7201a8\"], [0.3333333333333333, \"#9c179e\"], [0.4444444444444444, \"#bd3786\"], [0.5555555555555556, \"#d8576b\"], [0.6666666666666666, \"#ed7953\"], [0.7777777777777778, \"#fb9f3a\"], [0.8888888888888888, \"#fdca26\"], [1.0, \"#f0f921\"]], \"type\": \"histogram2dcontour\"}], \"mesh3d\": [{\"colorbar\": {\"outlinewidth\": 0, \"ticks\": \"\"}, \"type\": \"mesh3d\"}], \"parcoords\": [{\"line\": {\"colorbar\": {\"outlinewidth\": 0, \"ticks\": \"\"}}, \"type\": \"parcoords\"}], \"pie\": [{\"automargin\": true, \"type\": \"pie\"}], \"scatter\": [{\"marker\": {\"colorbar\": {\"outlinewidth\": 0, \"ticks\": \"\"}}, \"type\": \"scatter\"}], \"scatter3d\": [{\"line\": {\"colorbar\": {\"outlinewidth\": 0, \"ticks\": \"\"}}, \"marker\": {\"colorbar\": {\"outlinewidth\": 0, \"ticks\": \"\"}}, \"type\": \"scatter3d\"}], \"scattercarpet\": [{\"marker\": {\"colorbar\": {\"outlinewidth\": 0, \"ticks\": \"\"}}, \"type\": \"scattercarpet\"}], \"scattergeo\": [{\"marker\": {\"colorbar\": {\"outlinewidth\": 0, \"ticks\": \"\"}}, \"type\": \"scattergeo\"}], \"scattergl\": [{\"marker\": {\"colorbar\": {\"outlinewidth\": 0, \"ticks\": \"\"}}, \"type\": \"scattergl\"}], \"scattermapbox\": [{\"marker\": {\"colorbar\": {\"outlinewidth\": 0, \"ticks\": \"\"}}, \"type\": \"scattermapbox\"}], \"scatterpolar\": [{\"marker\": {\"colorbar\": {\"outlinewidth\": 0, \"ticks\": \"\"}}, \"type\": \"scatterpolar\"}], \"scatterpolargl\": [{\"marker\": {\"colorbar\": {\"outlinewidth\": 0, \"ticks\": \"\"}}, \"type\": \"scatterpolargl\"}], \"scatterternary\": [{\"marker\": {\"colorbar\": {\"outlinewidth\": 0, \"ticks\": \"\"}}, \"type\": \"scatterternary\"}], \"surface\": [{\"colorbar\": {\"outlinewidth\": 0, \"ticks\": \"\"}, \"colorscale\": [[0.0, \"#0d0887\"], [0.1111111111111111, \"#46039f\"], [0.2222222222222222, \"#7201a8\"], [0.3333333333333333, \"#9c179e\"], [0.4444444444444444, \"#bd3786\"], [0.5555555555555556, \"#d8576b\"], [0.6666666666666666, \"#ed7953\"], [0.7777777777777778, \"#fb9f3a\"], [0.8888888888888888, \"#fdca26\"], [1.0, \"#f0f921\"]], \"type\": \"surface\"}], \"table\": [{\"cells\": {\"fill\": {\"color\": \"#EBF0F8\"}, \"line\": {\"color\": \"white\"}}, \"header\": {\"fill\": {\"color\": \"#C8D4E3\"}, \"line\": {\"color\": \"white\"}}, \"type\": \"table\"}]}, \"layout\": {\"annotationdefaults\": {\"arrowcolor\": \"#2a3f5f\", \"arrowhead\": 0, \"arrowwidth\": 1}, \"coloraxis\": {\"colorbar\": {\"outlinewidth\": 0, \"ticks\": \"\"}}, \"colorscale\": {\"diverging\": [[0, \"#8e0152\"], [0.1, \"#c51b7d\"], [0.2, \"#de77ae\"], [0.3, \"#f1b6da\"], [0.4, \"#fde0ef\"], [0.5, \"#f7f7f7\"], [0.6, \"#e6f5d0\"], [0.7, \"#b8e186\"], [0.8, \"#7fbc41\"], [0.9, \"#4d9221\"], [1, \"#276419\"]], \"sequential\": [[0.0, \"#0d0887\"], [0.1111111111111111, \"#46039f\"], [0.2222222222222222, \"#7201a8\"], [0.3333333333333333, \"#9c179e\"], [0.4444444444444444, \"#bd3786\"], [0.5555555555555556, \"#d8576b\"], [0.6666666666666666, \"#ed7953\"], [0.7777777777777778, \"#fb9f3a\"], [0.8888888888888888, \"#fdca26\"], [1.0, \"#f0f921\"]], \"sequentialminus\": [[0.0, \"#0d0887\"], [0.1111111111111111, \"#46039f\"], [0.2222222222222222, \"#7201a8\"], [0.3333333333333333, \"#9c179e\"], [0.4444444444444444, \"#bd3786\"], [0.5555555555555556, \"#d8576b\"], [0.6666666666666666, \"#ed7953\"], [0.7777777777777778, \"#fb9f3a\"], [0.8888888888888888, \"#fdca26\"], [1.0, \"#f0f921\"]]}, \"colorway\": [\"#636efa\", \"#EF553B\", \"#00cc96\", \"#ab63fa\", \"#FFA15A\", \"#19d3f3\", \"#FF6692\", \"#B6E880\", \"#FF97FF\", \"#FECB52\"], \"font\": {\"color\": \"#2a3f5f\"}, \"geo\": {\"bgcolor\": \"white\", \"lakecolor\": \"white\", \"landcolor\": \"#E5ECF6\", \"showlakes\": true, \"showland\": true, \"subunitcolor\": \"white\"}, \"hoverlabel\": {\"align\": \"left\"}, \"hovermode\": \"closest\", \"mapbox\": {\"style\": \"light\"}, \"paper_bgcolor\": \"white\", \"plot_bgcolor\": \"#E5ECF6\", \"polar\": {\"angularaxis\": {\"gridcolor\": \"white\", \"linecolor\": \"white\", \"ticks\": \"\"}, \"bgcolor\": \"#E5ECF6\", \"radialaxis\": {\"gridcolor\": \"white\", \"linecolor\": \"white\", \"ticks\": \"\"}}, \"scene\": {\"xaxis\": {\"backgroundcolor\": \"#E5ECF6\", \"gridcolor\": \"white\", \"gridwidth\": 2, \"linecolor\": \"white\", \"showbackground\": true, \"ticks\": \"\", \"zerolinecolor\": \"white\"}, \"yaxis\": {\"backgroundcolor\": \"#E5ECF6\", \"gridcolor\": \"white\", \"gridwidth\": 2, \"linecolor\": \"white\", \"showbackground\": true, \"ticks\": \"\", \"zerolinecolor\": \"white\"}, \"zaxis\": {\"backgroundcolor\": \"#E5ECF6\", \"gridcolor\": \"white\", \"gridwidth\": 2, \"linecolor\": \"white\", \"showbackground\": true, \"ticks\": \"\", \"zerolinecolor\": \"white\"}}, \"shapedefaults\": {\"line\": {\"color\": \"#2a3f5f\"}}, \"ternary\": {\"aaxis\": {\"gridcolor\": \"white\", \"linecolor\": \"white\", \"ticks\": \"\"}, \"baxis\": {\"gridcolor\": \"white\", \"linecolor\": \"white\", \"ticks\": \"\"}, \"bgcolor\": \"#E5ECF6\", \"caxis\": {\"gridcolor\": \"white\", \"linecolor\": \"white\", \"ticks\": \"\"}}, \"title\": {\"x\": 0.05}, \"xaxis\": {\"automargin\": true, \"gridcolor\": \"white\", \"linecolor\": \"white\", \"ticks\": \"\", \"title\": {\"standoff\": 15}, \"zerolinecolor\": \"white\", \"zerolinewidth\": 2}, \"yaxis\": {\"automargin\": true, \"gridcolor\": \"white\", \"linecolor\": \"white\", \"ticks\": \"\", \"title\": {\"standoff\": 15}, \"zerolinecolor\": \"white\", \"zerolinewidth\": 2}}}, \"title\": {\"text\": \"Degree vs Utility transfers (mwu)\"}, \"xaxis\": {\"title\": {\"text\": \"degree\"}}, \"yaxis\": {\"title\": {\"text\": \"utility transfered\"}}},\n",
       "                        {\"responsive\": true}\n",
       "                    ).then(function(){\n",
       "                            \n",
       "var gd = document.getElementById('f7a6b8f1-b5df-4801-9206-ed16862a7fec');\n",
       "var x = new MutationObserver(function (mutations, observer) {{\n",
       "        var display = window.getComputedStyle(gd).display;\n",
       "        if (!display || display === 'none') {{\n",
       "            console.log([gd, 'removed!']);\n",
       "            Plotly.purge(gd);\n",
       "            observer.disconnect();\n",
       "        }}\n",
       "}});\n",
       "\n",
       "// Listen for the removal of the full notebook cells\n",
       "var notebookContainer = gd.closest('#notebook-container');\n",
       "if (notebookContainer) {{\n",
       "    x.observe(notebookContainer, {childList: true});\n",
       "}}\n",
       "\n",
       "// Listen for the clearing of the current output cell\n",
       "var outputEl = gd.closest('.output');\n",
       "if (outputEl) {{\n",
       "    x.observe(outputEl, {childList: true});\n",
       "}}\n",
       "\n",
       "                        })\n",
       "                };\n",
       "                });\n",
       "            </script>\n",
       "        </div>"
      ]
     },
     "metadata": {},
     "output_type": "display_data"
    },
    {
     "data": {
      "application/vnd.plotly.v1+json": {
       "config": {
        "linkText": "Export to plot.ly",
        "plotlyServerURL": "https://plot.ly",
        "showLink": false
       },
       "data": [
        {
         "error_y": {
          "array": [
           0.038685680567917234,
           0.11911633035694004,
           0.04995506532625165,
           0.07204452406693475,
           0.29860213882587217,
           0.21994295969128597,
           0
          ],
          "type": "data",
          "visible": true
         },
         "hoverinfo": "skip",
         "marker": {
          "color": "rgb(31, 119, 180)"
         },
         "mode": "lines+markers",
         "name": "In transfers (r=16)",
         "type": "scatter",
         "x": [
          3,
          4,
          5,
          6,
          7,
          8,
          9
         ],
         "y": [
          0.5185185185185185,
          0.4784893501560169,
          0.5144864275298294,
          0.4868279564133843,
          0.5381569664902999,
          0.5052910052910052,
          0.33333333333333337
         ]
        },
        {
         "hoverinfo": "skip",
         "marker": {
          "color": "rgb(31, 119, 180)"
         },
         "mode": "markers",
         "name": "In transfers per iter (r=16)",
         "opacity": 0.3,
         "type": "scatter",
         "x": [
          5,
          5,
          5,
          5,
          5,
          5,
          5,
          5,
          5,
          5,
          7,
          7,
          7,
          7,
          7,
          7,
          7,
          7,
          7,
          7,
          6,
          6,
          6,
          6,
          6,
          6,
          6,
          6,
          6,
          6,
          4,
          4,
          4,
          4,
          4,
          4,
          4,
          4,
          4,
          4,
          3,
          3,
          3,
          3,
          3,
          3,
          8,
          8,
          8,
          8,
          8,
          8,
          8,
          9
         ],
         "y": [
          0.5259259259259259,
          0.5185185185185185,
          0.5231481481481483,
          0.46846846846846846,
          0.5627240143369175,
          0.5072463768115941,
          0.4478114478114478,
          0.5694444444444444,
          0.5478927203065134,
          0.4736842105263159,
          0.4166666666666667,
          0.6777777777777778,
          0.5555555555555556,
          0.5555555555555555,
          0.4920634920634921,
          0.6296296296296297,
          0.7777777777777777,
          0.4000000000000001,
          0.4320987654320988,
          0.4444444444444445,
          0.4202898550724638,
          0.511904761904762,
          0.5674603174603176,
          0.5228758169934641,
          0.4920634920634921,
          0.43295019157088116,
          0.4537037037037037,
          0.54320987654321,
          0.5046296296296297,
          0.4191919191919192,
          0.4722222222222222,
          0.5238095238095238,
          0.3425925925925926,
          0.4305555555555555,
          0.5777777777777778,
          0.4555555555555556,
          0.5972222222222222,
          0.41269841269841273,
          0.4786324786324786,
          0.4938271604938272,
          0.33333333333333326,
          1,
          0.7777777777777778,
          0.11111111111111116,
          0.33333333333333326,
          0.5555555555555556,
          0.5,
          0.7222222222222223,
          0.2592592592592593,
          0.8888888888888888,
          0.5555555555555556,
          0.27777777777777785,
          0.33333333333333337,
          0.33333333333333337
         ]
        },
        {
         "error_y": {
          "array": [
           0.04385458654714296,
           0.18338284679195727,
           0.06326933182741501,
           0.07490444514464391,
           0.13252067157640626,
           0.2777777777777778,
           0.4870679393723177
          ],
          "type": "data",
          "visible": true
         },
         "hoverinfo": "skip",
         "marker": {
          "color": "rgb(255, 127, 14)"
         },
         "mode": "lines+markers",
         "name": "Out transfers (r=16)",
         "type": "scatter",
         "x": [
          2,
          3,
          4,
          5,
          6,
          7,
          8
         ],
         "y": [
          0.05,
          0.23574158336026244,
          0.3163973554877102,
          0.39764248954411224,
          0.5684038800705468,
          0.654320987654321,
          0.2777777777777778
         ]
        },
        {
         "hoverinfo": "skip",
         "marker": {
          "color": "rgb(255, 127, 14)"
         },
         "mode": "markers",
         "name": "Out transfers per iter (r=16)",
         "opacity": 0.3,
         "type": "scatter",
         "x": [
          4,
          4,
          4,
          4,
          4,
          4,
          4,
          4,
          4,
          4,
          6,
          6,
          6,
          6,
          6,
          6,
          6,
          6,
          6,
          6,
          5,
          5,
          5,
          5,
          5,
          5,
          5,
          5,
          5,
          5,
          3,
          3,
          3,
          3,
          3,
          3,
          3,
          3,
          3,
          3,
          2,
          2,
          2,
          2,
          2,
          2,
          2,
          2,
          2,
          2,
          8,
          8,
          7,
          7,
          7,
          7,
          7,
          7,
          7,
          7,
          7
         ],
         "y": [
          0.303030303030303,
          0.3933933933933934,
          0.274074074074074,
          0.31372549019607837,
          0.2718676122931442,
          0.40170940170940167,
          0.31292517006802717,
          0.27485380116959063,
          0.31978319783197834,
          0.2986111111111111,
          0.4555555555555556,
          0.5185185185185185,
          0.4197530864197531,
          0.7361111111111112,
          0.5138888888888888,
          0.19047619047619047,
          0.5925925925925926,
          0.6349206349206351,
          0.8444444444444444,
          0.7777777777777778,
          0.3675213675213675,
          0.4006734006734006,
          0.4916666666666667,
          0.29059829059829057,
          0.5084175084175084,
          0.3464052287581699,
          0.3831417624521073,
          0.3464052287581699,
          0.4185185185185185,
          0.423076923076923,
          0.3259259259259259,
          0.2814814814814815,
          0.2631578947368421,
          0.13131313131313133,
          0.1527777777777778,
          0.18300653594771243,
          0.14814814814814817,
          0.345679012345679,
          0.2222222222222222,
          0.3037037037037037,
          0,
          0,
          0,
          0.4444444444444444,
          0,
          0,
          0.05555555555555558,
          0,
          0,
          0,
          0,
          0.5555555555555556,
          0.5185185185185186,
          0.7222222222222223,
          1.6666666666666667,
          0.8148148148148149,
          0,
          0.6666666666666667,
          1.0555555555555556,
          0.4444444444444444,
          0
         ]
        }
       ],
       "layout": {
        "plot_bgcolor": "rgba(0,0,0,0)",
        "showlegend": true,
        "template": {
         "data": {
          "bar": [
           {
            "error_x": {
             "color": "#2a3f5f"
            },
            "error_y": {
             "color": "#2a3f5f"
            },
            "marker": {
             "line": {
              "color": "#E5ECF6",
              "width": 0.5
             }
            },
            "type": "bar"
           }
          ],
          "barpolar": [
           {
            "marker": {
             "line": {
              "color": "#E5ECF6",
              "width": 0.5
             }
            },
            "type": "barpolar"
           }
          ],
          "carpet": [
           {
            "aaxis": {
             "endlinecolor": "#2a3f5f",
             "gridcolor": "white",
             "linecolor": "white",
             "minorgridcolor": "white",
             "startlinecolor": "#2a3f5f"
            },
            "baxis": {
             "endlinecolor": "#2a3f5f",
             "gridcolor": "white",
             "linecolor": "white",
             "minorgridcolor": "white",
             "startlinecolor": "#2a3f5f"
            },
            "type": "carpet"
           }
          ],
          "choropleth": [
           {
            "colorbar": {
             "outlinewidth": 0,
             "ticks": ""
            },
            "type": "choropleth"
           }
          ],
          "contour": [
           {
            "colorbar": {
             "outlinewidth": 0,
             "ticks": ""
            },
            "colorscale": [
             [
              0,
              "#0d0887"
             ],
             [
              0.1111111111111111,
              "#46039f"
             ],
             [
              0.2222222222222222,
              "#7201a8"
             ],
             [
              0.3333333333333333,
              "#9c179e"
             ],
             [
              0.4444444444444444,
              "#bd3786"
             ],
             [
              0.5555555555555556,
              "#d8576b"
             ],
             [
              0.6666666666666666,
              "#ed7953"
             ],
             [
              0.7777777777777778,
              "#fb9f3a"
             ],
             [
              0.8888888888888888,
              "#fdca26"
             ],
             [
              1,
              "#f0f921"
             ]
            ],
            "type": "contour"
           }
          ],
          "contourcarpet": [
           {
            "colorbar": {
             "outlinewidth": 0,
             "ticks": ""
            },
            "type": "contourcarpet"
           }
          ],
          "heatmap": [
           {
            "colorbar": {
             "outlinewidth": 0,
             "ticks": ""
            },
            "colorscale": [
             [
              0,
              "#0d0887"
             ],
             [
              0.1111111111111111,
              "#46039f"
             ],
             [
              0.2222222222222222,
              "#7201a8"
             ],
             [
              0.3333333333333333,
              "#9c179e"
             ],
             [
              0.4444444444444444,
              "#bd3786"
             ],
             [
              0.5555555555555556,
              "#d8576b"
             ],
             [
              0.6666666666666666,
              "#ed7953"
             ],
             [
              0.7777777777777778,
              "#fb9f3a"
             ],
             [
              0.8888888888888888,
              "#fdca26"
             ],
             [
              1,
              "#f0f921"
             ]
            ],
            "type": "heatmap"
           }
          ],
          "heatmapgl": [
           {
            "colorbar": {
             "outlinewidth": 0,
             "ticks": ""
            },
            "colorscale": [
             [
              0,
              "#0d0887"
             ],
             [
              0.1111111111111111,
              "#46039f"
             ],
             [
              0.2222222222222222,
              "#7201a8"
             ],
             [
              0.3333333333333333,
              "#9c179e"
             ],
             [
              0.4444444444444444,
              "#bd3786"
             ],
             [
              0.5555555555555556,
              "#d8576b"
             ],
             [
              0.6666666666666666,
              "#ed7953"
             ],
             [
              0.7777777777777778,
              "#fb9f3a"
             ],
             [
              0.8888888888888888,
              "#fdca26"
             ],
             [
              1,
              "#f0f921"
             ]
            ],
            "type": "heatmapgl"
           }
          ],
          "histogram": [
           {
            "marker": {
             "colorbar": {
              "outlinewidth": 0,
              "ticks": ""
             }
            },
            "type": "histogram"
           }
          ],
          "histogram2d": [
           {
            "colorbar": {
             "outlinewidth": 0,
             "ticks": ""
            },
            "colorscale": [
             [
              0,
              "#0d0887"
             ],
             [
              0.1111111111111111,
              "#46039f"
             ],
             [
              0.2222222222222222,
              "#7201a8"
             ],
             [
              0.3333333333333333,
              "#9c179e"
             ],
             [
              0.4444444444444444,
              "#bd3786"
             ],
             [
              0.5555555555555556,
              "#d8576b"
             ],
             [
              0.6666666666666666,
              "#ed7953"
             ],
             [
              0.7777777777777778,
              "#fb9f3a"
             ],
             [
              0.8888888888888888,
              "#fdca26"
             ],
             [
              1,
              "#f0f921"
             ]
            ],
            "type": "histogram2d"
           }
          ],
          "histogram2dcontour": [
           {
            "colorbar": {
             "outlinewidth": 0,
             "ticks": ""
            },
            "colorscale": [
             [
              0,
              "#0d0887"
             ],
             [
              0.1111111111111111,
              "#46039f"
             ],
             [
              0.2222222222222222,
              "#7201a8"
             ],
             [
              0.3333333333333333,
              "#9c179e"
             ],
             [
              0.4444444444444444,
              "#bd3786"
             ],
             [
              0.5555555555555556,
              "#d8576b"
             ],
             [
              0.6666666666666666,
              "#ed7953"
             ],
             [
              0.7777777777777778,
              "#fb9f3a"
             ],
             [
              0.8888888888888888,
              "#fdca26"
             ],
             [
              1,
              "#f0f921"
             ]
            ],
            "type": "histogram2dcontour"
           }
          ],
          "mesh3d": [
           {
            "colorbar": {
             "outlinewidth": 0,
             "ticks": ""
            },
            "type": "mesh3d"
           }
          ],
          "parcoords": [
           {
            "line": {
             "colorbar": {
              "outlinewidth": 0,
              "ticks": ""
             }
            },
            "type": "parcoords"
           }
          ],
          "pie": [
           {
            "automargin": true,
            "type": "pie"
           }
          ],
          "scatter": [
           {
            "marker": {
             "colorbar": {
              "outlinewidth": 0,
              "ticks": ""
             }
            },
            "type": "scatter"
           }
          ],
          "scatter3d": [
           {
            "line": {
             "colorbar": {
              "outlinewidth": 0,
              "ticks": ""
             }
            },
            "marker": {
             "colorbar": {
              "outlinewidth": 0,
              "ticks": ""
             }
            },
            "type": "scatter3d"
           }
          ],
          "scattercarpet": [
           {
            "marker": {
             "colorbar": {
              "outlinewidth": 0,
              "ticks": ""
             }
            },
            "type": "scattercarpet"
           }
          ],
          "scattergeo": [
           {
            "marker": {
             "colorbar": {
              "outlinewidth": 0,
              "ticks": ""
             }
            },
            "type": "scattergeo"
           }
          ],
          "scattergl": [
           {
            "marker": {
             "colorbar": {
              "outlinewidth": 0,
              "ticks": ""
             }
            },
            "type": "scattergl"
           }
          ],
          "scattermapbox": [
           {
            "marker": {
             "colorbar": {
              "outlinewidth": 0,
              "ticks": ""
             }
            },
            "type": "scattermapbox"
           }
          ],
          "scatterpolar": [
           {
            "marker": {
             "colorbar": {
              "outlinewidth": 0,
              "ticks": ""
             }
            },
            "type": "scatterpolar"
           }
          ],
          "scatterpolargl": [
           {
            "marker": {
             "colorbar": {
              "outlinewidth": 0,
              "ticks": ""
             }
            },
            "type": "scatterpolargl"
           }
          ],
          "scatterternary": [
           {
            "marker": {
             "colorbar": {
              "outlinewidth": 0,
              "ticks": ""
             }
            },
            "type": "scatterternary"
           }
          ],
          "surface": [
           {
            "colorbar": {
             "outlinewidth": 0,
             "ticks": ""
            },
            "colorscale": [
             [
              0,
              "#0d0887"
             ],
             [
              0.1111111111111111,
              "#46039f"
             ],
             [
              0.2222222222222222,
              "#7201a8"
             ],
             [
              0.3333333333333333,
              "#9c179e"
             ],
             [
              0.4444444444444444,
              "#bd3786"
             ],
             [
              0.5555555555555556,
              "#d8576b"
             ],
             [
              0.6666666666666666,
              "#ed7953"
             ],
             [
              0.7777777777777778,
              "#fb9f3a"
             ],
             [
              0.8888888888888888,
              "#fdca26"
             ],
             [
              1,
              "#f0f921"
             ]
            ],
            "type": "surface"
           }
          ],
          "table": [
           {
            "cells": {
             "fill": {
              "color": "#EBF0F8"
             },
             "line": {
              "color": "white"
             }
            },
            "header": {
             "fill": {
              "color": "#C8D4E3"
             },
             "line": {
              "color": "white"
             }
            },
            "type": "table"
           }
          ]
         },
         "layout": {
          "annotationdefaults": {
           "arrowcolor": "#2a3f5f",
           "arrowhead": 0,
           "arrowwidth": 1
          },
          "coloraxis": {
           "colorbar": {
            "outlinewidth": 0,
            "ticks": ""
           }
          },
          "colorscale": {
           "diverging": [
            [
             0,
             "#8e0152"
            ],
            [
             0.1,
             "#c51b7d"
            ],
            [
             0.2,
             "#de77ae"
            ],
            [
             0.3,
             "#f1b6da"
            ],
            [
             0.4,
             "#fde0ef"
            ],
            [
             0.5,
             "#f7f7f7"
            ],
            [
             0.6,
             "#e6f5d0"
            ],
            [
             0.7,
             "#b8e186"
            ],
            [
             0.8,
             "#7fbc41"
            ],
            [
             0.9,
             "#4d9221"
            ],
            [
             1,
             "#276419"
            ]
           ],
           "sequential": [
            [
             0,
             "#0d0887"
            ],
            [
             0.1111111111111111,
             "#46039f"
            ],
            [
             0.2222222222222222,
             "#7201a8"
            ],
            [
             0.3333333333333333,
             "#9c179e"
            ],
            [
             0.4444444444444444,
             "#bd3786"
            ],
            [
             0.5555555555555556,
             "#d8576b"
            ],
            [
             0.6666666666666666,
             "#ed7953"
            ],
            [
             0.7777777777777778,
             "#fb9f3a"
            ],
            [
             0.8888888888888888,
             "#fdca26"
            ],
            [
             1,
             "#f0f921"
            ]
           ],
           "sequentialminus": [
            [
             0,
             "#0d0887"
            ],
            [
             0.1111111111111111,
             "#46039f"
            ],
            [
             0.2222222222222222,
             "#7201a8"
            ],
            [
             0.3333333333333333,
             "#9c179e"
            ],
            [
             0.4444444444444444,
             "#bd3786"
            ],
            [
             0.5555555555555556,
             "#d8576b"
            ],
            [
             0.6666666666666666,
             "#ed7953"
            ],
            [
             0.7777777777777778,
             "#fb9f3a"
            ],
            [
             0.8888888888888888,
             "#fdca26"
            ],
            [
             1,
             "#f0f921"
            ]
           ]
          },
          "colorway": [
           "#636efa",
           "#EF553B",
           "#00cc96",
           "#ab63fa",
           "#FFA15A",
           "#19d3f3",
           "#FF6692",
           "#B6E880",
           "#FF97FF",
           "#FECB52"
          ],
          "font": {
           "color": "#2a3f5f"
          },
          "geo": {
           "bgcolor": "white",
           "lakecolor": "white",
           "landcolor": "#E5ECF6",
           "showlakes": true,
           "showland": true,
           "subunitcolor": "white"
          },
          "hoverlabel": {
           "align": "left"
          },
          "hovermode": "closest",
          "mapbox": {
           "style": "light"
          },
          "paper_bgcolor": "white",
          "plot_bgcolor": "#E5ECF6",
          "polar": {
           "angularaxis": {
            "gridcolor": "white",
            "linecolor": "white",
            "ticks": ""
           },
           "bgcolor": "#E5ECF6",
           "radialaxis": {
            "gridcolor": "white",
            "linecolor": "white",
            "ticks": ""
           }
          },
          "scene": {
           "xaxis": {
            "backgroundcolor": "#E5ECF6",
            "gridcolor": "white",
            "gridwidth": 2,
            "linecolor": "white",
            "showbackground": true,
            "ticks": "",
            "zerolinecolor": "white"
           },
           "yaxis": {
            "backgroundcolor": "#E5ECF6",
            "gridcolor": "white",
            "gridwidth": 2,
            "linecolor": "white",
            "showbackground": true,
            "ticks": "",
            "zerolinecolor": "white"
           },
           "zaxis": {
            "backgroundcolor": "#E5ECF6",
            "gridcolor": "white",
            "gridwidth": 2,
            "linecolor": "white",
            "showbackground": true,
            "ticks": "",
            "zerolinecolor": "white"
           }
          },
          "shapedefaults": {
           "line": {
            "color": "#2a3f5f"
           }
          },
          "ternary": {
           "aaxis": {
            "gridcolor": "white",
            "linecolor": "white",
            "ticks": ""
           },
           "baxis": {
            "gridcolor": "white",
            "linecolor": "white",
            "ticks": ""
           },
           "bgcolor": "#E5ECF6",
           "caxis": {
            "gridcolor": "white",
            "linecolor": "white",
            "ticks": ""
           }
          },
          "title": {
           "x": 0.05
          },
          "xaxis": {
           "automargin": true,
           "gridcolor": "white",
           "linecolor": "white",
           "ticks": "",
           "title": {
            "standoff": 15
           },
           "zerolinecolor": "white",
           "zerolinewidth": 2
          },
          "yaxis": {
           "automargin": true,
           "gridcolor": "white",
           "linecolor": "white",
           "ticks": "",
           "title": {
            "standoff": 15
           },
           "zerolinecolor": "white",
           "zerolinewidth": 2
          }
         }
        },
        "title": {
         "text": "Degree vs Utility transfers (se_mwu)"
        },
        "xaxis": {
         "title": {
          "text": "degree"
         }
        },
        "yaxis": {
         "title": {
          "text": "utility transfered"
         }
        }
       }
      },
      "text/html": [
       "<div>\n",
       "        \n",
       "        \n",
       "            <div id=\"5ce23dd8-cba1-4817-903f-1b9e7c792984\" class=\"plotly-graph-div\" style=\"height:525px; width:100%;\"></div>\n",
       "            <script type=\"text/javascript\">\n",
       "                require([\"plotly\"], function(Plotly) {\n",
       "                    window.PLOTLYENV=window.PLOTLYENV || {};\n",
       "                    \n",
       "                if (document.getElementById(\"5ce23dd8-cba1-4817-903f-1b9e7c792984\")) {\n",
       "                    Plotly.newPlot(\n",
       "                        '5ce23dd8-cba1-4817-903f-1b9e7c792984',\n",
       "                        [{\"error_y\": {\"array\": [0.038685680567917234, 0.11911633035694004, 0.04995506532625165, 0.07204452406693475, 0.29860213882587217, 0.21994295969128597, 0.0], \"type\": \"data\", \"visible\": true}, \"hoverinfo\": \"skip\", \"marker\": {\"color\": \"rgb(31, 119, 180)\"}, \"mode\": \"lines+markers\", \"name\": \"In transfers (r=16)\", \"type\": \"scatter\", \"x\": [3, 4, 5, 6, 7, 8, 9], \"y\": [0.5185185185185185, 0.4784893501560169, 0.5144864275298294, 0.4868279564133843, 0.5381569664902999, 0.5052910052910052, 0.33333333333333337]}, {\"hoverinfo\": \"skip\", \"marker\": {\"color\": \"rgb(31, 119, 180)\"}, \"mode\": \"markers\", \"name\": \"In transfers per iter (r=16)\", \"opacity\": 0.3, \"type\": \"scatter\", \"x\": [5, 5, 5, 5, 5, 5, 5, 5, 5, 5, 7, 7, 7, 7, 7, 7, 7, 7, 7, 7, 6, 6, 6, 6, 6, 6, 6, 6, 6, 6, 4, 4, 4, 4, 4, 4, 4, 4, 4, 4, 3, 3, 3, 3, 3, 3, 8, 8, 8, 8, 8, 8, 8, 9], \"y\": [0.5259259259259259, 0.5185185185185185, 0.5231481481481483, 0.46846846846846846, 0.5627240143369175, 0.5072463768115941, 0.4478114478114478, 0.5694444444444444, 0.5478927203065134, 0.4736842105263159, 0.4166666666666667, 0.6777777777777778, 0.5555555555555556, 0.5555555555555555, 0.4920634920634921, 0.6296296296296297, 0.7777777777777777, 0.4000000000000001, 0.4320987654320988, 0.4444444444444445, 0.4202898550724638, 0.511904761904762, 0.5674603174603176, 0.5228758169934641, 0.4920634920634921, 0.43295019157088116, 0.4537037037037037, 0.54320987654321, 0.5046296296296297, 0.4191919191919192, 0.4722222222222222, 0.5238095238095238, 0.3425925925925926, 0.4305555555555555, 0.5777777777777778, 0.4555555555555556, 0.5972222222222222, 0.41269841269841273, 0.4786324786324786, 0.4938271604938272, 0.33333333333333326, 1.0, 0.7777777777777778, 0.11111111111111116, 0.33333333333333326, 0.5555555555555556, 0.5, 0.7222222222222223, 0.2592592592592593, 0.8888888888888888, 0.5555555555555556, 0.27777777777777785, 0.33333333333333337, 0.33333333333333337]}, {\"error_y\": {\"array\": [0.04385458654714296, 0.18338284679195727, 0.06326933182741501, 0.07490444514464391, 0.13252067157640626, 0.2777777777777778, 0.4870679393723177], \"type\": \"data\", \"visible\": true}, \"hoverinfo\": \"skip\", \"marker\": {\"color\": \"rgb(255, 127, 14)\"}, \"mode\": \"lines+markers\", \"name\": \"Out transfers (r=16)\", \"type\": \"scatter\", \"x\": [2, 3, 4, 5, 6, 7, 8], \"y\": [0.05, 0.23574158336026244, 0.3163973554877102, 0.39764248954411224, 0.5684038800705468, 0.654320987654321, 0.2777777777777778]}, {\"hoverinfo\": \"skip\", \"marker\": {\"color\": \"rgb(255, 127, 14)\"}, \"mode\": \"markers\", \"name\": \"Out transfers per iter (r=16)\", \"opacity\": 0.3, \"type\": \"scatter\", \"x\": [4, 4, 4, 4, 4, 4, 4, 4, 4, 4, 6, 6, 6, 6, 6, 6, 6, 6, 6, 6, 5, 5, 5, 5, 5, 5, 5, 5, 5, 5, 3, 3, 3, 3, 3, 3, 3, 3, 3, 3, 2, 2, 2, 2, 2, 2, 2, 2, 2, 2, 8, 8, 7, 7, 7, 7, 7, 7, 7, 7, 7], \"y\": [0.303030303030303, 0.3933933933933934, 0.274074074074074, 0.31372549019607837, 0.2718676122931442, 0.40170940170940167, 0.31292517006802717, 0.27485380116959063, 0.31978319783197834, 0.2986111111111111, 0.4555555555555556, 0.5185185185185185, 0.4197530864197531, 0.7361111111111112, 0.5138888888888888, 0.19047619047619047, 0.5925925925925926, 0.6349206349206351, 0.8444444444444444, 0.7777777777777778, 0.3675213675213675, 0.4006734006734006, 0.4916666666666667, 0.29059829059829057, 0.5084175084175084, 0.3464052287581699, 0.3831417624521073, 0.3464052287581699, 0.4185185185185185, 0.423076923076923, 0.3259259259259259, 0.2814814814814815, 0.2631578947368421, 0.13131313131313133, 0.1527777777777778, 0.18300653594771243, 0.14814814814814817, 0.345679012345679, 0.2222222222222222, 0.3037037037037037, 0.0, 0.0, 0.0, 0.4444444444444444, 0.0, 0.0, 0.05555555555555558, 0.0, 0.0, 0.0, 0.0, 0.5555555555555556, 0.5185185185185186, 0.7222222222222223, 1.6666666666666667, 0.8148148148148149, 0.0, 0.6666666666666667, 1.0555555555555556, 0.4444444444444444, 0.0]}],\n",
       "                        {\"plot_bgcolor\": \"rgba(0,0,0,0)\", \"showlegend\": true, \"template\": {\"data\": {\"bar\": [{\"error_x\": {\"color\": \"#2a3f5f\"}, \"error_y\": {\"color\": \"#2a3f5f\"}, \"marker\": {\"line\": {\"color\": \"#E5ECF6\", \"width\": 0.5}}, \"type\": \"bar\"}], \"barpolar\": [{\"marker\": {\"line\": {\"color\": \"#E5ECF6\", \"width\": 0.5}}, \"type\": \"barpolar\"}], \"carpet\": [{\"aaxis\": {\"endlinecolor\": \"#2a3f5f\", \"gridcolor\": \"white\", \"linecolor\": \"white\", \"minorgridcolor\": \"white\", \"startlinecolor\": \"#2a3f5f\"}, \"baxis\": {\"endlinecolor\": \"#2a3f5f\", \"gridcolor\": \"white\", \"linecolor\": \"white\", \"minorgridcolor\": \"white\", \"startlinecolor\": \"#2a3f5f\"}, \"type\": \"carpet\"}], \"choropleth\": [{\"colorbar\": {\"outlinewidth\": 0, \"ticks\": \"\"}, \"type\": \"choropleth\"}], \"contour\": [{\"colorbar\": {\"outlinewidth\": 0, \"ticks\": \"\"}, \"colorscale\": [[0.0, \"#0d0887\"], [0.1111111111111111, \"#46039f\"], [0.2222222222222222, \"#7201a8\"], [0.3333333333333333, \"#9c179e\"], [0.4444444444444444, \"#bd3786\"], [0.5555555555555556, \"#d8576b\"], [0.6666666666666666, \"#ed7953\"], [0.7777777777777778, \"#fb9f3a\"], [0.8888888888888888, \"#fdca26\"], [1.0, \"#f0f921\"]], \"type\": \"contour\"}], \"contourcarpet\": [{\"colorbar\": {\"outlinewidth\": 0, \"ticks\": \"\"}, \"type\": \"contourcarpet\"}], \"heatmap\": [{\"colorbar\": {\"outlinewidth\": 0, \"ticks\": \"\"}, \"colorscale\": [[0.0, \"#0d0887\"], [0.1111111111111111, \"#46039f\"], [0.2222222222222222, \"#7201a8\"], [0.3333333333333333, \"#9c179e\"], [0.4444444444444444, \"#bd3786\"], [0.5555555555555556, \"#d8576b\"], [0.6666666666666666, \"#ed7953\"], [0.7777777777777778, \"#fb9f3a\"], [0.8888888888888888, \"#fdca26\"], [1.0, \"#f0f921\"]], \"type\": \"heatmap\"}], \"heatmapgl\": [{\"colorbar\": {\"outlinewidth\": 0, \"ticks\": \"\"}, \"colorscale\": [[0.0, \"#0d0887\"], [0.1111111111111111, \"#46039f\"], [0.2222222222222222, \"#7201a8\"], [0.3333333333333333, \"#9c179e\"], [0.4444444444444444, \"#bd3786\"], [0.5555555555555556, \"#d8576b\"], [0.6666666666666666, \"#ed7953\"], [0.7777777777777778, \"#fb9f3a\"], [0.8888888888888888, \"#fdca26\"], [1.0, \"#f0f921\"]], \"type\": \"heatmapgl\"}], \"histogram\": [{\"marker\": {\"colorbar\": {\"outlinewidth\": 0, \"ticks\": \"\"}}, \"type\": \"histogram\"}], \"histogram2d\": [{\"colorbar\": {\"outlinewidth\": 0, \"ticks\": \"\"}, \"colorscale\": [[0.0, \"#0d0887\"], [0.1111111111111111, \"#46039f\"], [0.2222222222222222, \"#7201a8\"], [0.3333333333333333, \"#9c179e\"], [0.4444444444444444, \"#bd3786\"], [0.5555555555555556, \"#d8576b\"], [0.6666666666666666, \"#ed7953\"], [0.7777777777777778, \"#fb9f3a\"], [0.8888888888888888, \"#fdca26\"], [1.0, \"#f0f921\"]], \"type\": \"histogram2d\"}], \"histogram2dcontour\": [{\"colorbar\": {\"outlinewidth\": 0, \"ticks\": \"\"}, \"colorscale\": [[0.0, \"#0d0887\"], [0.1111111111111111, \"#46039f\"], [0.2222222222222222, \"#7201a8\"], [0.3333333333333333, \"#9c179e\"], [0.4444444444444444, \"#bd3786\"], [0.5555555555555556, \"#d8576b\"], [0.6666666666666666, \"#ed7953\"], [0.7777777777777778, \"#fb9f3a\"], [0.8888888888888888, \"#fdca26\"], [1.0, \"#f0f921\"]], \"type\": \"histogram2dcontour\"}], \"mesh3d\": [{\"colorbar\": {\"outlinewidth\": 0, \"ticks\": \"\"}, \"type\": \"mesh3d\"}], \"parcoords\": [{\"line\": {\"colorbar\": {\"outlinewidth\": 0, \"ticks\": \"\"}}, \"type\": \"parcoords\"}], \"pie\": [{\"automargin\": true, \"type\": \"pie\"}], \"scatter\": [{\"marker\": {\"colorbar\": {\"outlinewidth\": 0, \"ticks\": \"\"}}, \"type\": \"scatter\"}], \"scatter3d\": [{\"line\": {\"colorbar\": {\"outlinewidth\": 0, \"ticks\": \"\"}}, \"marker\": {\"colorbar\": {\"outlinewidth\": 0, \"ticks\": \"\"}}, \"type\": \"scatter3d\"}], \"scattercarpet\": [{\"marker\": {\"colorbar\": {\"outlinewidth\": 0, \"ticks\": \"\"}}, \"type\": \"scattercarpet\"}], \"scattergeo\": [{\"marker\": {\"colorbar\": {\"outlinewidth\": 0, \"ticks\": \"\"}}, \"type\": \"scattergeo\"}], \"scattergl\": [{\"marker\": {\"colorbar\": {\"outlinewidth\": 0, \"ticks\": \"\"}}, \"type\": \"scattergl\"}], \"scattermapbox\": [{\"marker\": {\"colorbar\": {\"outlinewidth\": 0, \"ticks\": \"\"}}, \"type\": \"scattermapbox\"}], \"scatterpolar\": [{\"marker\": {\"colorbar\": {\"outlinewidth\": 0, \"ticks\": \"\"}}, \"type\": \"scatterpolar\"}], \"scatterpolargl\": [{\"marker\": {\"colorbar\": {\"outlinewidth\": 0, \"ticks\": \"\"}}, \"type\": \"scatterpolargl\"}], \"scatterternary\": [{\"marker\": {\"colorbar\": {\"outlinewidth\": 0, \"ticks\": \"\"}}, \"type\": \"scatterternary\"}], \"surface\": [{\"colorbar\": {\"outlinewidth\": 0, \"ticks\": \"\"}, \"colorscale\": [[0.0, \"#0d0887\"], [0.1111111111111111, \"#46039f\"], [0.2222222222222222, \"#7201a8\"], [0.3333333333333333, \"#9c179e\"], [0.4444444444444444, \"#bd3786\"], [0.5555555555555556, \"#d8576b\"], [0.6666666666666666, \"#ed7953\"], [0.7777777777777778, \"#fb9f3a\"], [0.8888888888888888, \"#fdca26\"], [1.0, \"#f0f921\"]], \"type\": \"surface\"}], \"table\": [{\"cells\": {\"fill\": {\"color\": \"#EBF0F8\"}, \"line\": {\"color\": \"white\"}}, \"header\": {\"fill\": {\"color\": \"#C8D4E3\"}, \"line\": {\"color\": \"white\"}}, \"type\": \"table\"}]}, \"layout\": {\"annotationdefaults\": {\"arrowcolor\": \"#2a3f5f\", \"arrowhead\": 0, \"arrowwidth\": 1}, \"coloraxis\": {\"colorbar\": {\"outlinewidth\": 0, \"ticks\": \"\"}}, \"colorscale\": {\"diverging\": [[0, \"#8e0152\"], [0.1, \"#c51b7d\"], [0.2, \"#de77ae\"], [0.3, \"#f1b6da\"], [0.4, \"#fde0ef\"], [0.5, \"#f7f7f7\"], [0.6, \"#e6f5d0\"], [0.7, \"#b8e186\"], [0.8, \"#7fbc41\"], [0.9, \"#4d9221\"], [1, \"#276419\"]], \"sequential\": [[0.0, \"#0d0887\"], [0.1111111111111111, \"#46039f\"], [0.2222222222222222, \"#7201a8\"], [0.3333333333333333, \"#9c179e\"], [0.4444444444444444, \"#bd3786\"], [0.5555555555555556, \"#d8576b\"], [0.6666666666666666, \"#ed7953\"], [0.7777777777777778, \"#fb9f3a\"], [0.8888888888888888, \"#fdca26\"], [1.0, \"#f0f921\"]], \"sequentialminus\": [[0.0, \"#0d0887\"], [0.1111111111111111, \"#46039f\"], [0.2222222222222222, \"#7201a8\"], [0.3333333333333333, \"#9c179e\"], [0.4444444444444444, \"#bd3786\"], [0.5555555555555556, \"#d8576b\"], [0.6666666666666666, \"#ed7953\"], [0.7777777777777778, \"#fb9f3a\"], [0.8888888888888888, \"#fdca26\"], [1.0, \"#f0f921\"]]}, \"colorway\": [\"#636efa\", \"#EF553B\", \"#00cc96\", \"#ab63fa\", \"#FFA15A\", \"#19d3f3\", \"#FF6692\", \"#B6E880\", \"#FF97FF\", \"#FECB52\"], \"font\": {\"color\": \"#2a3f5f\"}, \"geo\": {\"bgcolor\": \"white\", \"lakecolor\": \"white\", \"landcolor\": \"#E5ECF6\", \"showlakes\": true, \"showland\": true, \"subunitcolor\": \"white\"}, \"hoverlabel\": {\"align\": \"left\"}, \"hovermode\": \"closest\", \"mapbox\": {\"style\": \"light\"}, \"paper_bgcolor\": \"white\", \"plot_bgcolor\": \"#E5ECF6\", \"polar\": {\"angularaxis\": {\"gridcolor\": \"white\", \"linecolor\": \"white\", \"ticks\": \"\"}, \"bgcolor\": \"#E5ECF6\", \"radialaxis\": {\"gridcolor\": \"white\", \"linecolor\": \"white\", \"ticks\": \"\"}}, \"scene\": {\"xaxis\": {\"backgroundcolor\": \"#E5ECF6\", \"gridcolor\": \"white\", \"gridwidth\": 2, \"linecolor\": \"white\", \"showbackground\": true, \"ticks\": \"\", \"zerolinecolor\": \"white\"}, \"yaxis\": {\"backgroundcolor\": \"#E5ECF6\", \"gridcolor\": \"white\", \"gridwidth\": 2, \"linecolor\": \"white\", \"showbackground\": true, \"ticks\": \"\", \"zerolinecolor\": \"white\"}, \"zaxis\": {\"backgroundcolor\": \"#E5ECF6\", \"gridcolor\": \"white\", \"gridwidth\": 2, \"linecolor\": \"white\", \"showbackground\": true, \"ticks\": \"\", \"zerolinecolor\": \"white\"}}, \"shapedefaults\": {\"line\": {\"color\": \"#2a3f5f\"}}, \"ternary\": {\"aaxis\": {\"gridcolor\": \"white\", \"linecolor\": \"white\", \"ticks\": \"\"}, \"baxis\": {\"gridcolor\": \"white\", \"linecolor\": \"white\", \"ticks\": \"\"}, \"bgcolor\": \"#E5ECF6\", \"caxis\": {\"gridcolor\": \"white\", \"linecolor\": \"white\", \"ticks\": \"\"}}, \"title\": {\"x\": 0.05}, \"xaxis\": {\"automargin\": true, \"gridcolor\": \"white\", \"linecolor\": \"white\", \"ticks\": \"\", \"title\": {\"standoff\": 15}, \"zerolinecolor\": \"white\", \"zerolinewidth\": 2}, \"yaxis\": {\"automargin\": true, \"gridcolor\": \"white\", \"linecolor\": \"white\", \"ticks\": \"\", \"title\": {\"standoff\": 15}, \"zerolinecolor\": \"white\", \"zerolinewidth\": 2}}}, \"title\": {\"text\": \"Degree vs Utility transfers (se_mwu)\"}, \"xaxis\": {\"title\": {\"text\": \"degree\"}}, \"yaxis\": {\"title\": {\"text\": \"utility transfered\"}}},\n",
       "                        {\"responsive\": true}\n",
       "                    ).then(function(){\n",
       "                            \n",
       "var gd = document.getElementById('5ce23dd8-cba1-4817-903f-1b9e7c792984');\n",
       "var x = new MutationObserver(function (mutations, observer) {{\n",
       "        var display = window.getComputedStyle(gd).display;\n",
       "        if (!display || display === 'none') {{\n",
       "            console.log([gd, 'removed!']);\n",
       "            Plotly.purge(gd);\n",
       "            observer.disconnect();\n",
       "        }}\n",
       "}});\n",
       "\n",
       "// Listen for the removal of the full notebook cells\n",
       "var notebookContainer = gd.closest('#notebook-container');\n",
       "if (notebookContainer) {{\n",
       "    x.observe(notebookContainer, {childList: true});\n",
       "}}\n",
       "\n",
       "// Listen for the clearing of the current output cell\n",
       "var outputEl = gd.closest('.output');\n",
       "if (outputEl) {{\n",
       "    x.observe(outputEl, {childList: true});\n",
       "}}\n",
       "\n",
       "                        })\n",
       "                };\n",
       "                });\n",
       "            </script>\n",
       "        </div>"
      ]
     },
     "metadata": {},
     "output_type": "display_data"
    },
    {
     "data": {
      "application/vnd.plotly.v1+json": {
       "config": {
        "linkText": "Export to plot.ly",
        "plotlyServerURL": "https://plot.ly",
        "showLink": false
       },
       "data": [
        {
         "error_y": {
          "array": [
           0.12660106445748753,
           0.02853876732909562,
           0.09596098175939212,
           0.047592634609385426,
           0,
           0.3016018050907839,
           0.18859298328700116
          ],
          "type": "data",
          "visible": true
         },
         "hoverinfo": "skip",
         "marker": {
          "color": "rgb(31, 119, 180)"
         },
         "mode": "lines+markers",
         "name": "In transfers (r=16)",
         "type": "scatter",
         "x": [
          2,
          3,
          4,
          5,
          6,
          7,
          8
         ],
         "y": [
          0.5092592592592592,
          0.459313772647106,
          0.4896093421099142,
          0.49624637673990196,
          0.5056926406926407,
          0.4814814814814815,
          0.7777777777777778
         ]
        },
        {
         "hoverinfo": "skip",
         "marker": {
          "color": "rgb(31, 119, 180)"
         },
         "mode": "markers",
         "name": "In transfers per iter (r=16)",
         "opacity": 0.3,
         "type": "scatter",
         "x": [
          6,
          6,
          6,
          6,
          6,
          6,
          6,
          6,
          6,
          6,
          4,
          4,
          4,
          4,
          4,
          4,
          4,
          4,
          4,
          4,
          3,
          3,
          3,
          3,
          3,
          3,
          3,
          3,
          3,
          3,
          5,
          5,
          5,
          5,
          5,
          5,
          5,
          5,
          5,
          5,
          8,
          2,
          2,
          2,
          2,
          2,
          2,
          7,
          7,
          7,
          7,
          7,
          7,
          7
         ],
         "y": [
          0.375,
          0.5656565656565657,
          0.48611111111111105,
          0.4444444444444445,
          0.5714285714285714,
          0.49206349206349204,
          0.7777777777777777,
          0.38888888888888895,
          0.6222222222222223,
          0.33333333333333337,
          0.5158730158730159,
          0.4830917874396135,
          0.470899470899471,
          0.4594594594594595,
          0.5069444444444444,
          0.48,
          0.44781144781144777,
          0.5427350427350427,
          0.5185185185185185,
          0.47076023391812866,
          0.43055555555555547,
          0.48888888888888893,
          0.30303030303030304,
          0.47619047619047616,
          0.5740740740740741,
          0.3580246913580247,
          0.6,
          0.4027777777777778,
          0.5757575757575757,
          0.38383838383838387,
          0.4232804232804232,
          0.5325670498084292,
          0.5072463768115942,
          0.4970760233918128,
          0.5694444444444444,
          0.5138888888888888,
          0.41666666666666674,
          0.5267489711934156,
          0.5252525252525253,
          0.4502923976608188,
          0.7777777777777778,
          0.33333333333333326,
          1,
          0.7777777777777778,
          0.22222222222222232,
          0.16666666666666669,
          0.5555555555555556,
          0.3703703703703704,
          0.5,
          0.44444444444444453,
          0.8888888888888888,
          0.5555555555555556,
          0.27777777777777785,
          0.33333333333333337
         ]
        },
        {
         "error_y": {
          "array": [
           0.0619600003095499,
           0.11961265160488793,
           0.09100512093124555,
           0.06635969499928215,
           0.05555555555555558,
           0.2684163279364366,
           0.624674549891262
          ],
          "type": "data",
          "visible": true
         },
         "hoverinfo": "skip",
         "marker": {
          "color": "rgb(255, 127, 14)"
         },
         "mode": "lines+markers",
         "name": "Out transfers (r=16)",
         "type": "scatter",
         "x": [
          2,
          3,
          4,
          5,
          6,
          7,
          8
         ],
         "y": [
          0.22407407407407404,
          0.25594440274780833,
          0.35247982716950266,
          0.32022024084397305,
          0.45894620811287473,
          0.5905349794238683,
          0.05555555555555558
         ]
        },
        {
         "hoverinfo": "skip",
         "marker": {
          "color": "rgb(255, 127, 14)"
         },
         "mode": "markers",
         "name": "Out transfers per iter (r=16)",
         "opacity": 0.3,
         "type": "scatter",
         "x": [
          4,
          4,
          4,
          4,
          4,
          4,
          4,
          4,
          4,
          4,
          6,
          6,
          6,
          6,
          6,
          6,
          6,
          6,
          6,
          6,
          3,
          3,
          3,
          3,
          3,
          3,
          3,
          3,
          3,
          3,
          5,
          5,
          5,
          5,
          5,
          5,
          5,
          5,
          5,
          5,
          8,
          8,
          2,
          2,
          2,
          2,
          2,
          2,
          2,
          2,
          2,
          2,
          7,
          7,
          7,
          7,
          7,
          7,
          7,
          7,
          7
         ],
         "y": [
          0.2651515151515152,
          0.4984984984984985,
          0.2888888888888889,
          0.363834422657952,
          0.35697399527186763,
          0.40740740740740744,
          0.31746031746031744,
          0.3216374269005848,
          0.35772357723577236,
          0.34722222222222227,
          0.5,
          0.4444444444444444,
          0.3827160493827161,
          0.4305555555555556,
          0.3888888888888889,
          0.4126984126984126,
          0.7777777777777778,
          0.47619047619047616,
          0.3,
          0.4761904761904762,
          0.3037037037037037,
          0.34074074074074073,
          0.2573099415204679,
          0.0707070707070707,
          0.1527777777777778,
          0.21568627450980393,
          0.2148148148148148,
          0.3950617283950617,
          0.3271604938271605,
          0.2814814814814815,
          0.3803418803418804,
          0.2828282828282829,
          0.30277777777777776,
          0.36752136752136744,
          0.42424242424242425,
          0.2581699346405229,
          0.21455938697318006,
          0.29084967320261434,
          0.40740740740740744,
          0.27350427350427353,
          0.11111111111111116,
          0,
          0,
          0,
          0.4444444444444444,
          0,
          0.5555555555555555,
          0,
          0.2777777777777778,
          0,
          0.7777777777777778,
          0.18518518518518515,
          0.25925925925925924,
          0.7222222222222223,
          0,
          0.3333333333333333,
          2.2222222222222223,
          0.11111111111111116,
          0.4444444444444444,
          0.4444444444444445,
          0.7777777777777777
         ]
        }
       ],
       "layout": {
        "plot_bgcolor": "rgba(0,0,0,0)",
        "showlegend": true,
        "template": {
         "data": {
          "bar": [
           {
            "error_x": {
             "color": "#2a3f5f"
            },
            "error_y": {
             "color": "#2a3f5f"
            },
            "marker": {
             "line": {
              "color": "#E5ECF6",
              "width": 0.5
             }
            },
            "type": "bar"
           }
          ],
          "barpolar": [
           {
            "marker": {
             "line": {
              "color": "#E5ECF6",
              "width": 0.5
             }
            },
            "type": "barpolar"
           }
          ],
          "carpet": [
           {
            "aaxis": {
             "endlinecolor": "#2a3f5f",
             "gridcolor": "white",
             "linecolor": "white",
             "minorgridcolor": "white",
             "startlinecolor": "#2a3f5f"
            },
            "baxis": {
             "endlinecolor": "#2a3f5f",
             "gridcolor": "white",
             "linecolor": "white",
             "minorgridcolor": "white",
             "startlinecolor": "#2a3f5f"
            },
            "type": "carpet"
           }
          ],
          "choropleth": [
           {
            "colorbar": {
             "outlinewidth": 0,
             "ticks": ""
            },
            "type": "choropleth"
           }
          ],
          "contour": [
           {
            "colorbar": {
             "outlinewidth": 0,
             "ticks": ""
            },
            "colorscale": [
             [
              0,
              "#0d0887"
             ],
             [
              0.1111111111111111,
              "#46039f"
             ],
             [
              0.2222222222222222,
              "#7201a8"
             ],
             [
              0.3333333333333333,
              "#9c179e"
             ],
             [
              0.4444444444444444,
              "#bd3786"
             ],
             [
              0.5555555555555556,
              "#d8576b"
             ],
             [
              0.6666666666666666,
              "#ed7953"
             ],
             [
              0.7777777777777778,
              "#fb9f3a"
             ],
             [
              0.8888888888888888,
              "#fdca26"
             ],
             [
              1,
              "#f0f921"
             ]
            ],
            "type": "contour"
           }
          ],
          "contourcarpet": [
           {
            "colorbar": {
             "outlinewidth": 0,
             "ticks": ""
            },
            "type": "contourcarpet"
           }
          ],
          "heatmap": [
           {
            "colorbar": {
             "outlinewidth": 0,
             "ticks": ""
            },
            "colorscale": [
             [
              0,
              "#0d0887"
             ],
             [
              0.1111111111111111,
              "#46039f"
             ],
             [
              0.2222222222222222,
              "#7201a8"
             ],
             [
              0.3333333333333333,
              "#9c179e"
             ],
             [
              0.4444444444444444,
              "#bd3786"
             ],
             [
              0.5555555555555556,
              "#d8576b"
             ],
             [
              0.6666666666666666,
              "#ed7953"
             ],
             [
              0.7777777777777778,
              "#fb9f3a"
             ],
             [
              0.8888888888888888,
              "#fdca26"
             ],
             [
              1,
              "#f0f921"
             ]
            ],
            "type": "heatmap"
           }
          ],
          "heatmapgl": [
           {
            "colorbar": {
             "outlinewidth": 0,
             "ticks": ""
            },
            "colorscale": [
             [
              0,
              "#0d0887"
             ],
             [
              0.1111111111111111,
              "#46039f"
             ],
             [
              0.2222222222222222,
              "#7201a8"
             ],
             [
              0.3333333333333333,
              "#9c179e"
             ],
             [
              0.4444444444444444,
              "#bd3786"
             ],
             [
              0.5555555555555556,
              "#d8576b"
             ],
             [
              0.6666666666666666,
              "#ed7953"
             ],
             [
              0.7777777777777778,
              "#fb9f3a"
             ],
             [
              0.8888888888888888,
              "#fdca26"
             ],
             [
              1,
              "#f0f921"
             ]
            ],
            "type": "heatmapgl"
           }
          ],
          "histogram": [
           {
            "marker": {
             "colorbar": {
              "outlinewidth": 0,
              "ticks": ""
             }
            },
            "type": "histogram"
           }
          ],
          "histogram2d": [
           {
            "colorbar": {
             "outlinewidth": 0,
             "ticks": ""
            },
            "colorscale": [
             [
              0,
              "#0d0887"
             ],
             [
              0.1111111111111111,
              "#46039f"
             ],
             [
              0.2222222222222222,
              "#7201a8"
             ],
             [
              0.3333333333333333,
              "#9c179e"
             ],
             [
              0.4444444444444444,
              "#bd3786"
             ],
             [
              0.5555555555555556,
              "#d8576b"
             ],
             [
              0.6666666666666666,
              "#ed7953"
             ],
             [
              0.7777777777777778,
              "#fb9f3a"
             ],
             [
              0.8888888888888888,
              "#fdca26"
             ],
             [
              1,
              "#f0f921"
             ]
            ],
            "type": "histogram2d"
           }
          ],
          "histogram2dcontour": [
           {
            "colorbar": {
             "outlinewidth": 0,
             "ticks": ""
            },
            "colorscale": [
             [
              0,
              "#0d0887"
             ],
             [
              0.1111111111111111,
              "#46039f"
             ],
             [
              0.2222222222222222,
              "#7201a8"
             ],
             [
              0.3333333333333333,
              "#9c179e"
             ],
             [
              0.4444444444444444,
              "#bd3786"
             ],
             [
              0.5555555555555556,
              "#d8576b"
             ],
             [
              0.6666666666666666,
              "#ed7953"
             ],
             [
              0.7777777777777778,
              "#fb9f3a"
             ],
             [
              0.8888888888888888,
              "#fdca26"
             ],
             [
              1,
              "#f0f921"
             ]
            ],
            "type": "histogram2dcontour"
           }
          ],
          "mesh3d": [
           {
            "colorbar": {
             "outlinewidth": 0,
             "ticks": ""
            },
            "type": "mesh3d"
           }
          ],
          "parcoords": [
           {
            "line": {
             "colorbar": {
              "outlinewidth": 0,
              "ticks": ""
             }
            },
            "type": "parcoords"
           }
          ],
          "pie": [
           {
            "automargin": true,
            "type": "pie"
           }
          ],
          "scatter": [
           {
            "marker": {
             "colorbar": {
              "outlinewidth": 0,
              "ticks": ""
             }
            },
            "type": "scatter"
           }
          ],
          "scatter3d": [
           {
            "line": {
             "colorbar": {
              "outlinewidth": 0,
              "ticks": ""
             }
            },
            "marker": {
             "colorbar": {
              "outlinewidth": 0,
              "ticks": ""
             }
            },
            "type": "scatter3d"
           }
          ],
          "scattercarpet": [
           {
            "marker": {
             "colorbar": {
              "outlinewidth": 0,
              "ticks": ""
             }
            },
            "type": "scattercarpet"
           }
          ],
          "scattergeo": [
           {
            "marker": {
             "colorbar": {
              "outlinewidth": 0,
              "ticks": ""
             }
            },
            "type": "scattergeo"
           }
          ],
          "scattergl": [
           {
            "marker": {
             "colorbar": {
              "outlinewidth": 0,
              "ticks": ""
             }
            },
            "type": "scattergl"
           }
          ],
          "scattermapbox": [
           {
            "marker": {
             "colorbar": {
              "outlinewidth": 0,
              "ticks": ""
             }
            },
            "type": "scattermapbox"
           }
          ],
          "scatterpolar": [
           {
            "marker": {
             "colorbar": {
              "outlinewidth": 0,
              "ticks": ""
             }
            },
            "type": "scatterpolar"
           }
          ],
          "scatterpolargl": [
           {
            "marker": {
             "colorbar": {
              "outlinewidth": 0,
              "ticks": ""
             }
            },
            "type": "scatterpolargl"
           }
          ],
          "scatterternary": [
           {
            "marker": {
             "colorbar": {
              "outlinewidth": 0,
              "ticks": ""
             }
            },
            "type": "scatterternary"
           }
          ],
          "surface": [
           {
            "colorbar": {
             "outlinewidth": 0,
             "ticks": ""
            },
            "colorscale": [
             [
              0,
              "#0d0887"
             ],
             [
              0.1111111111111111,
              "#46039f"
             ],
             [
              0.2222222222222222,
              "#7201a8"
             ],
             [
              0.3333333333333333,
              "#9c179e"
             ],
             [
              0.4444444444444444,
              "#bd3786"
             ],
             [
              0.5555555555555556,
              "#d8576b"
             ],
             [
              0.6666666666666666,
              "#ed7953"
             ],
             [
              0.7777777777777778,
              "#fb9f3a"
             ],
             [
              0.8888888888888888,
              "#fdca26"
             ],
             [
              1,
              "#f0f921"
             ]
            ],
            "type": "surface"
           }
          ],
          "table": [
           {
            "cells": {
             "fill": {
              "color": "#EBF0F8"
             },
             "line": {
              "color": "white"
             }
            },
            "header": {
             "fill": {
              "color": "#C8D4E3"
             },
             "line": {
              "color": "white"
             }
            },
            "type": "table"
           }
          ]
         },
         "layout": {
          "annotationdefaults": {
           "arrowcolor": "#2a3f5f",
           "arrowhead": 0,
           "arrowwidth": 1
          },
          "coloraxis": {
           "colorbar": {
            "outlinewidth": 0,
            "ticks": ""
           }
          },
          "colorscale": {
           "diverging": [
            [
             0,
             "#8e0152"
            ],
            [
             0.1,
             "#c51b7d"
            ],
            [
             0.2,
             "#de77ae"
            ],
            [
             0.3,
             "#f1b6da"
            ],
            [
             0.4,
             "#fde0ef"
            ],
            [
             0.5,
             "#f7f7f7"
            ],
            [
             0.6,
             "#e6f5d0"
            ],
            [
             0.7,
             "#b8e186"
            ],
            [
             0.8,
             "#7fbc41"
            ],
            [
             0.9,
             "#4d9221"
            ],
            [
             1,
             "#276419"
            ]
           ],
           "sequential": [
            [
             0,
             "#0d0887"
            ],
            [
             0.1111111111111111,
             "#46039f"
            ],
            [
             0.2222222222222222,
             "#7201a8"
            ],
            [
             0.3333333333333333,
             "#9c179e"
            ],
            [
             0.4444444444444444,
             "#bd3786"
            ],
            [
             0.5555555555555556,
             "#d8576b"
            ],
            [
             0.6666666666666666,
             "#ed7953"
            ],
            [
             0.7777777777777778,
             "#fb9f3a"
            ],
            [
             0.8888888888888888,
             "#fdca26"
            ],
            [
             1,
             "#f0f921"
            ]
           ],
           "sequentialminus": [
            [
             0,
             "#0d0887"
            ],
            [
             0.1111111111111111,
             "#46039f"
            ],
            [
             0.2222222222222222,
             "#7201a8"
            ],
            [
             0.3333333333333333,
             "#9c179e"
            ],
            [
             0.4444444444444444,
             "#bd3786"
            ],
            [
             0.5555555555555556,
             "#d8576b"
            ],
            [
             0.6666666666666666,
             "#ed7953"
            ],
            [
             0.7777777777777778,
             "#fb9f3a"
            ],
            [
             0.8888888888888888,
             "#fdca26"
            ],
            [
             1,
             "#f0f921"
            ]
           ]
          },
          "colorway": [
           "#636efa",
           "#EF553B",
           "#00cc96",
           "#ab63fa",
           "#FFA15A",
           "#19d3f3",
           "#FF6692",
           "#B6E880",
           "#FF97FF",
           "#FECB52"
          ],
          "font": {
           "color": "#2a3f5f"
          },
          "geo": {
           "bgcolor": "white",
           "lakecolor": "white",
           "landcolor": "#E5ECF6",
           "showlakes": true,
           "showland": true,
           "subunitcolor": "white"
          },
          "hoverlabel": {
           "align": "left"
          },
          "hovermode": "closest",
          "mapbox": {
           "style": "light"
          },
          "paper_bgcolor": "white",
          "plot_bgcolor": "#E5ECF6",
          "polar": {
           "angularaxis": {
            "gridcolor": "white",
            "linecolor": "white",
            "ticks": ""
           },
           "bgcolor": "#E5ECF6",
           "radialaxis": {
            "gridcolor": "white",
            "linecolor": "white",
            "ticks": ""
           }
          },
          "scene": {
           "xaxis": {
            "backgroundcolor": "#E5ECF6",
            "gridcolor": "white",
            "gridwidth": 2,
            "linecolor": "white",
            "showbackground": true,
            "ticks": "",
            "zerolinecolor": "white"
           },
           "yaxis": {
            "backgroundcolor": "#E5ECF6",
            "gridcolor": "white",
            "gridwidth": 2,
            "linecolor": "white",
            "showbackground": true,
            "ticks": "",
            "zerolinecolor": "white"
           },
           "zaxis": {
            "backgroundcolor": "#E5ECF6",
            "gridcolor": "white",
            "gridwidth": 2,
            "linecolor": "white",
            "showbackground": true,
            "ticks": "",
            "zerolinecolor": "white"
           }
          },
          "shapedefaults": {
           "line": {
            "color": "#2a3f5f"
           }
          },
          "ternary": {
           "aaxis": {
            "gridcolor": "white",
            "linecolor": "white",
            "ticks": ""
           },
           "baxis": {
            "gridcolor": "white",
            "linecolor": "white",
            "ticks": ""
           },
           "bgcolor": "#E5ECF6",
           "caxis": {
            "gridcolor": "white",
            "linecolor": "white",
            "ticks": ""
           }
          },
          "title": {
           "x": 0.05
          },
          "xaxis": {
           "automargin": true,
           "gridcolor": "white",
           "linecolor": "white",
           "ticks": "",
           "title": {
            "standoff": 15
           },
           "zerolinecolor": "white",
           "zerolinewidth": 2
          },
          "yaxis": {
           "automargin": true,
           "gridcolor": "white",
           "linecolor": "white",
           "ticks": "",
           "title": {
            "standoff": 15
           },
           "zerolinecolor": "white",
           "zerolinewidth": 2
          }
         }
        },
        "title": {
         "text": "Degree vs Utility transfers (unif)"
        },
        "xaxis": {
         "title": {
          "text": "degree"
         }
        },
        "yaxis": {
         "title": {
          "text": "utility transfered"
         }
        }
       }
      },
      "text/html": [
       "<div>\n",
       "        \n",
       "        \n",
       "            <div id=\"a32f77a9-2dfc-4c0d-a749-5551ff593cc2\" class=\"plotly-graph-div\" style=\"height:525px; width:100%;\"></div>\n",
       "            <script type=\"text/javascript\">\n",
       "                require([\"plotly\"], function(Plotly) {\n",
       "                    window.PLOTLYENV=window.PLOTLYENV || {};\n",
       "                    \n",
       "                if (document.getElementById(\"a32f77a9-2dfc-4c0d-a749-5551ff593cc2\")) {\n",
       "                    Plotly.newPlot(\n",
       "                        'a32f77a9-2dfc-4c0d-a749-5551ff593cc2',\n",
       "                        [{\"error_y\": {\"array\": [0.12660106445748753, 0.02853876732909562, 0.09596098175939212, 0.047592634609385426, 0.0, 0.3016018050907839, 0.18859298328700116], \"type\": \"data\", \"visible\": true}, \"hoverinfo\": \"skip\", \"marker\": {\"color\": \"rgb(31, 119, 180)\"}, \"mode\": \"lines+markers\", \"name\": \"In transfers (r=16)\", \"type\": \"scatter\", \"x\": [2, 3, 4, 5, 6, 7, 8], \"y\": [0.5092592592592592, 0.459313772647106, 0.4896093421099142, 0.49624637673990196, 0.5056926406926407, 0.4814814814814815, 0.7777777777777778]}, {\"hoverinfo\": \"skip\", \"marker\": {\"color\": \"rgb(31, 119, 180)\"}, \"mode\": \"markers\", \"name\": \"In transfers per iter (r=16)\", \"opacity\": 0.3, \"type\": \"scatter\", \"x\": [6, 6, 6, 6, 6, 6, 6, 6, 6, 6, 4, 4, 4, 4, 4, 4, 4, 4, 4, 4, 3, 3, 3, 3, 3, 3, 3, 3, 3, 3, 5, 5, 5, 5, 5, 5, 5, 5, 5, 5, 8, 2, 2, 2, 2, 2, 2, 7, 7, 7, 7, 7, 7, 7], \"y\": [0.375, 0.5656565656565657, 0.48611111111111105, 0.4444444444444445, 0.5714285714285714, 0.49206349206349204, 0.7777777777777777, 0.38888888888888895, 0.6222222222222223, 0.33333333333333337, 0.5158730158730159, 0.4830917874396135, 0.470899470899471, 0.4594594594594595, 0.5069444444444444, 0.48, 0.44781144781144777, 0.5427350427350427, 0.5185185185185185, 0.47076023391812866, 0.43055555555555547, 0.48888888888888893, 0.30303030303030304, 0.47619047619047616, 0.5740740740740741, 0.3580246913580247, 0.6, 0.4027777777777778, 0.5757575757575757, 0.38383838383838387, 0.4232804232804232, 0.5325670498084292, 0.5072463768115942, 0.4970760233918128, 0.5694444444444444, 0.5138888888888888, 0.41666666666666674, 0.5267489711934156, 0.5252525252525253, 0.4502923976608188, 0.7777777777777778, 0.33333333333333326, 1.0, 0.7777777777777778, 0.22222222222222232, 0.16666666666666669, 0.5555555555555556, 0.3703703703703704, 0.5, 0.44444444444444453, 0.8888888888888888, 0.5555555555555556, 0.27777777777777785, 0.33333333333333337]}, {\"error_y\": {\"array\": [0.0619600003095499, 0.11961265160488793, 0.09100512093124555, 0.06635969499928215, 0.05555555555555558, 0.2684163279364366, 0.624674549891262], \"type\": \"data\", \"visible\": true}, \"hoverinfo\": \"skip\", \"marker\": {\"color\": \"rgb(255, 127, 14)\"}, \"mode\": \"lines+markers\", \"name\": \"Out transfers (r=16)\", \"type\": \"scatter\", \"x\": [2, 3, 4, 5, 6, 7, 8], \"y\": [0.22407407407407404, 0.25594440274780833, 0.35247982716950266, 0.32022024084397305, 0.45894620811287473, 0.5905349794238683, 0.05555555555555558]}, {\"hoverinfo\": \"skip\", \"marker\": {\"color\": \"rgb(255, 127, 14)\"}, \"mode\": \"markers\", \"name\": \"Out transfers per iter (r=16)\", \"opacity\": 0.3, \"type\": \"scatter\", \"x\": [4, 4, 4, 4, 4, 4, 4, 4, 4, 4, 6, 6, 6, 6, 6, 6, 6, 6, 6, 6, 3, 3, 3, 3, 3, 3, 3, 3, 3, 3, 5, 5, 5, 5, 5, 5, 5, 5, 5, 5, 8, 8, 2, 2, 2, 2, 2, 2, 2, 2, 2, 2, 7, 7, 7, 7, 7, 7, 7, 7, 7], \"y\": [0.2651515151515152, 0.4984984984984985, 0.2888888888888889, 0.363834422657952, 0.35697399527186763, 0.40740740740740744, 0.31746031746031744, 0.3216374269005848, 0.35772357723577236, 0.34722222222222227, 0.5, 0.4444444444444444, 0.3827160493827161, 0.4305555555555556, 0.3888888888888889, 0.4126984126984126, 0.7777777777777778, 0.47619047619047616, 0.3, 0.4761904761904762, 0.3037037037037037, 0.34074074074074073, 0.2573099415204679, 0.0707070707070707, 0.1527777777777778, 0.21568627450980393, 0.2148148148148148, 0.3950617283950617, 0.3271604938271605, 0.2814814814814815, 0.3803418803418804, 0.2828282828282829, 0.30277777777777776, 0.36752136752136744, 0.42424242424242425, 0.2581699346405229, 0.21455938697318006, 0.29084967320261434, 0.40740740740740744, 0.27350427350427353, 0.11111111111111116, 0.0, 0.0, 0.0, 0.4444444444444444, 0.0, 0.5555555555555555, 0.0, 0.2777777777777778, 0.0, 0.7777777777777778, 0.18518518518518515, 0.25925925925925924, 0.7222222222222223, 0.0, 0.3333333333333333, 2.2222222222222223, 0.11111111111111116, 0.4444444444444444, 0.4444444444444445, 0.7777777777777777]}],\n",
       "                        {\"plot_bgcolor\": \"rgba(0,0,0,0)\", \"showlegend\": true, \"template\": {\"data\": {\"bar\": [{\"error_x\": {\"color\": \"#2a3f5f\"}, \"error_y\": {\"color\": \"#2a3f5f\"}, \"marker\": {\"line\": {\"color\": \"#E5ECF6\", \"width\": 0.5}}, \"type\": \"bar\"}], \"barpolar\": [{\"marker\": {\"line\": {\"color\": \"#E5ECF6\", \"width\": 0.5}}, \"type\": \"barpolar\"}], \"carpet\": [{\"aaxis\": {\"endlinecolor\": \"#2a3f5f\", \"gridcolor\": \"white\", \"linecolor\": \"white\", \"minorgridcolor\": \"white\", \"startlinecolor\": \"#2a3f5f\"}, \"baxis\": {\"endlinecolor\": \"#2a3f5f\", \"gridcolor\": \"white\", \"linecolor\": \"white\", \"minorgridcolor\": \"white\", \"startlinecolor\": \"#2a3f5f\"}, \"type\": \"carpet\"}], \"choropleth\": [{\"colorbar\": {\"outlinewidth\": 0, \"ticks\": \"\"}, \"type\": \"choropleth\"}], \"contour\": [{\"colorbar\": {\"outlinewidth\": 0, \"ticks\": \"\"}, \"colorscale\": [[0.0, \"#0d0887\"], [0.1111111111111111, \"#46039f\"], [0.2222222222222222, \"#7201a8\"], [0.3333333333333333, \"#9c179e\"], [0.4444444444444444, \"#bd3786\"], [0.5555555555555556, \"#d8576b\"], [0.6666666666666666, \"#ed7953\"], [0.7777777777777778, \"#fb9f3a\"], [0.8888888888888888, \"#fdca26\"], [1.0, \"#f0f921\"]], \"type\": \"contour\"}], \"contourcarpet\": [{\"colorbar\": {\"outlinewidth\": 0, \"ticks\": \"\"}, \"type\": \"contourcarpet\"}], \"heatmap\": [{\"colorbar\": {\"outlinewidth\": 0, \"ticks\": \"\"}, \"colorscale\": [[0.0, \"#0d0887\"], [0.1111111111111111, \"#46039f\"], [0.2222222222222222, \"#7201a8\"], [0.3333333333333333, \"#9c179e\"], [0.4444444444444444, \"#bd3786\"], [0.5555555555555556, \"#d8576b\"], [0.6666666666666666, \"#ed7953\"], [0.7777777777777778, \"#fb9f3a\"], [0.8888888888888888, \"#fdca26\"], [1.0, \"#f0f921\"]], \"type\": \"heatmap\"}], \"heatmapgl\": [{\"colorbar\": {\"outlinewidth\": 0, \"ticks\": \"\"}, \"colorscale\": [[0.0, \"#0d0887\"], [0.1111111111111111, \"#46039f\"], [0.2222222222222222, \"#7201a8\"], [0.3333333333333333, \"#9c179e\"], [0.4444444444444444, \"#bd3786\"], [0.5555555555555556, \"#d8576b\"], [0.6666666666666666, \"#ed7953\"], [0.7777777777777778, \"#fb9f3a\"], [0.8888888888888888, \"#fdca26\"], [1.0, \"#f0f921\"]], \"type\": \"heatmapgl\"}], \"histogram\": [{\"marker\": {\"colorbar\": {\"outlinewidth\": 0, \"ticks\": \"\"}}, \"type\": \"histogram\"}], \"histogram2d\": [{\"colorbar\": {\"outlinewidth\": 0, \"ticks\": \"\"}, \"colorscale\": [[0.0, \"#0d0887\"], [0.1111111111111111, \"#46039f\"], [0.2222222222222222, \"#7201a8\"], [0.3333333333333333, \"#9c179e\"], [0.4444444444444444, \"#bd3786\"], [0.5555555555555556, \"#d8576b\"], [0.6666666666666666, \"#ed7953\"], [0.7777777777777778, \"#fb9f3a\"], [0.8888888888888888, \"#fdca26\"], [1.0, \"#f0f921\"]], \"type\": \"histogram2d\"}], \"histogram2dcontour\": [{\"colorbar\": {\"outlinewidth\": 0, \"ticks\": \"\"}, \"colorscale\": [[0.0, \"#0d0887\"], [0.1111111111111111, \"#46039f\"], [0.2222222222222222, \"#7201a8\"], [0.3333333333333333, \"#9c179e\"], [0.4444444444444444, \"#bd3786\"], [0.5555555555555556, \"#d8576b\"], [0.6666666666666666, \"#ed7953\"], [0.7777777777777778, \"#fb9f3a\"], [0.8888888888888888, \"#fdca26\"], [1.0, \"#f0f921\"]], \"type\": \"histogram2dcontour\"}], \"mesh3d\": [{\"colorbar\": {\"outlinewidth\": 0, \"ticks\": \"\"}, \"type\": \"mesh3d\"}], \"parcoords\": [{\"line\": {\"colorbar\": {\"outlinewidth\": 0, \"ticks\": \"\"}}, \"type\": \"parcoords\"}], \"pie\": [{\"automargin\": true, \"type\": \"pie\"}], \"scatter\": [{\"marker\": {\"colorbar\": {\"outlinewidth\": 0, \"ticks\": \"\"}}, \"type\": \"scatter\"}], \"scatter3d\": [{\"line\": {\"colorbar\": {\"outlinewidth\": 0, \"ticks\": \"\"}}, \"marker\": {\"colorbar\": {\"outlinewidth\": 0, \"ticks\": \"\"}}, \"type\": \"scatter3d\"}], \"scattercarpet\": [{\"marker\": {\"colorbar\": {\"outlinewidth\": 0, \"ticks\": \"\"}}, \"type\": \"scattercarpet\"}], \"scattergeo\": [{\"marker\": {\"colorbar\": {\"outlinewidth\": 0, \"ticks\": \"\"}}, \"type\": \"scattergeo\"}], \"scattergl\": [{\"marker\": {\"colorbar\": {\"outlinewidth\": 0, \"ticks\": \"\"}}, \"type\": \"scattergl\"}], \"scattermapbox\": [{\"marker\": {\"colorbar\": {\"outlinewidth\": 0, \"ticks\": \"\"}}, \"type\": \"scattermapbox\"}], \"scatterpolar\": [{\"marker\": {\"colorbar\": {\"outlinewidth\": 0, \"ticks\": \"\"}}, \"type\": \"scatterpolar\"}], \"scatterpolargl\": [{\"marker\": {\"colorbar\": {\"outlinewidth\": 0, \"ticks\": \"\"}}, \"type\": \"scatterpolargl\"}], \"scatterternary\": [{\"marker\": {\"colorbar\": {\"outlinewidth\": 0, \"ticks\": \"\"}}, \"type\": \"scatterternary\"}], \"surface\": [{\"colorbar\": {\"outlinewidth\": 0, \"ticks\": \"\"}, \"colorscale\": [[0.0, \"#0d0887\"], [0.1111111111111111, \"#46039f\"], [0.2222222222222222, \"#7201a8\"], [0.3333333333333333, \"#9c179e\"], [0.4444444444444444, \"#bd3786\"], [0.5555555555555556, \"#d8576b\"], [0.6666666666666666, \"#ed7953\"], [0.7777777777777778, \"#fb9f3a\"], [0.8888888888888888, \"#fdca26\"], [1.0, \"#f0f921\"]], \"type\": \"surface\"}], \"table\": [{\"cells\": {\"fill\": {\"color\": \"#EBF0F8\"}, \"line\": {\"color\": \"white\"}}, \"header\": {\"fill\": {\"color\": \"#C8D4E3\"}, \"line\": {\"color\": \"white\"}}, \"type\": \"table\"}]}, \"layout\": {\"annotationdefaults\": {\"arrowcolor\": \"#2a3f5f\", \"arrowhead\": 0, \"arrowwidth\": 1}, \"coloraxis\": {\"colorbar\": {\"outlinewidth\": 0, \"ticks\": \"\"}}, \"colorscale\": {\"diverging\": [[0, \"#8e0152\"], [0.1, \"#c51b7d\"], [0.2, \"#de77ae\"], [0.3, \"#f1b6da\"], [0.4, \"#fde0ef\"], [0.5, \"#f7f7f7\"], [0.6, \"#e6f5d0\"], [0.7, \"#b8e186\"], [0.8, \"#7fbc41\"], [0.9, \"#4d9221\"], [1, \"#276419\"]], \"sequential\": [[0.0, \"#0d0887\"], [0.1111111111111111, \"#46039f\"], [0.2222222222222222, \"#7201a8\"], [0.3333333333333333, \"#9c179e\"], [0.4444444444444444, \"#bd3786\"], [0.5555555555555556, \"#d8576b\"], [0.6666666666666666, \"#ed7953\"], [0.7777777777777778, \"#fb9f3a\"], [0.8888888888888888, \"#fdca26\"], [1.0, \"#f0f921\"]], \"sequentialminus\": [[0.0, \"#0d0887\"], [0.1111111111111111, \"#46039f\"], [0.2222222222222222, \"#7201a8\"], [0.3333333333333333, \"#9c179e\"], [0.4444444444444444, \"#bd3786\"], [0.5555555555555556, \"#d8576b\"], [0.6666666666666666, \"#ed7953\"], [0.7777777777777778, \"#fb9f3a\"], [0.8888888888888888, \"#fdca26\"], [1.0, \"#f0f921\"]]}, \"colorway\": [\"#636efa\", \"#EF553B\", \"#00cc96\", \"#ab63fa\", \"#FFA15A\", \"#19d3f3\", \"#FF6692\", \"#B6E880\", \"#FF97FF\", \"#FECB52\"], \"font\": {\"color\": \"#2a3f5f\"}, \"geo\": {\"bgcolor\": \"white\", \"lakecolor\": \"white\", \"landcolor\": \"#E5ECF6\", \"showlakes\": true, \"showland\": true, \"subunitcolor\": \"white\"}, \"hoverlabel\": {\"align\": \"left\"}, \"hovermode\": \"closest\", \"mapbox\": {\"style\": \"light\"}, \"paper_bgcolor\": \"white\", \"plot_bgcolor\": \"#E5ECF6\", \"polar\": {\"angularaxis\": {\"gridcolor\": \"white\", \"linecolor\": \"white\", \"ticks\": \"\"}, \"bgcolor\": \"#E5ECF6\", \"radialaxis\": {\"gridcolor\": \"white\", \"linecolor\": \"white\", \"ticks\": \"\"}}, \"scene\": {\"xaxis\": {\"backgroundcolor\": \"#E5ECF6\", \"gridcolor\": \"white\", \"gridwidth\": 2, \"linecolor\": \"white\", \"showbackground\": true, \"ticks\": \"\", \"zerolinecolor\": \"white\"}, \"yaxis\": {\"backgroundcolor\": \"#E5ECF6\", \"gridcolor\": \"white\", \"gridwidth\": 2, \"linecolor\": \"white\", \"showbackground\": true, \"ticks\": \"\", \"zerolinecolor\": \"white\"}, \"zaxis\": {\"backgroundcolor\": \"#E5ECF6\", \"gridcolor\": \"white\", \"gridwidth\": 2, \"linecolor\": \"white\", \"showbackground\": true, \"ticks\": \"\", \"zerolinecolor\": \"white\"}}, \"shapedefaults\": {\"line\": {\"color\": \"#2a3f5f\"}}, \"ternary\": {\"aaxis\": {\"gridcolor\": \"white\", \"linecolor\": \"white\", \"ticks\": \"\"}, \"baxis\": {\"gridcolor\": \"white\", \"linecolor\": \"white\", \"ticks\": \"\"}, \"bgcolor\": \"#E5ECF6\", \"caxis\": {\"gridcolor\": \"white\", \"linecolor\": \"white\", \"ticks\": \"\"}}, \"title\": {\"x\": 0.05}, \"xaxis\": {\"automargin\": true, \"gridcolor\": \"white\", \"linecolor\": \"white\", \"ticks\": \"\", \"title\": {\"standoff\": 15}, \"zerolinecolor\": \"white\", \"zerolinewidth\": 2}, \"yaxis\": {\"automargin\": true, \"gridcolor\": \"white\", \"linecolor\": \"white\", \"ticks\": \"\", \"title\": {\"standoff\": 15}, \"zerolinecolor\": \"white\", \"zerolinewidth\": 2}}}, \"title\": {\"text\": \"Degree vs Utility transfers (unif)\"}, \"xaxis\": {\"title\": {\"text\": \"degree\"}}, \"yaxis\": {\"title\": {\"text\": \"utility transfered\"}}},\n",
       "                        {\"responsive\": true}\n",
       "                    ).then(function(){\n",
       "                            \n",
       "var gd = document.getElementById('a32f77a9-2dfc-4c0d-a749-5551ff593cc2');\n",
       "var x = new MutationObserver(function (mutations, observer) {{\n",
       "        var display = window.getComputedStyle(gd).display;\n",
       "        if (!display || display === 'none') {{\n",
       "            console.log([gd, 'removed!']);\n",
       "            Plotly.purge(gd);\n",
       "            observer.disconnect();\n",
       "        }}\n",
       "}});\n",
       "\n",
       "// Listen for the removal of the full notebook cells\n",
       "var notebookContainer = gd.closest('#notebook-container');\n",
       "if (notebookContainer) {{\n",
       "    x.observe(notebookContainer, {childList: true});\n",
       "}}\n",
       "\n",
       "// Listen for the clearing of the current output cell\n",
       "var outputEl = gd.closest('.output');\n",
       "if (outputEl) {{\n",
       "    x.observe(outputEl, {childList: true});\n",
       "}}\n",
       "\n",
       "                        })\n",
       "                };\n",
       "                });\n",
       "            </script>\n",
       "        </div>"
      ]
     },
     "metadata": {},
     "output_type": "display_data"
    },
    {
     "data": {
      "application/vnd.plotly.v1+json": {
       "config": {
        "linkText": "Export to plot.ly",
        "plotlyServerURL": "https://plot.ly",
        "showLink": false
       },
       "data": [
        {
         "error_y": {
          "array": [
           0.03632106222648144,
           0.08461629732199476,
           0.06327615350806104,
           0.2777777777777778,
           0.2071583233895041,
           0.09687835320871298,
           0.2812705578836405
          ],
          "type": "data",
          "visible": true
         },
         "hoverinfo": "skip",
         "marker": {
          "color": "rgb(31, 119, 180)"
         },
         "mode": "lines+markers",
         "name": "In transfers (r=16)",
         "type": "scatter",
         "x": [
          2,
          3,
          4,
          5,
          6,
          7,
          8
         ],
         "y": [
          0.5396825396825397,
          0.4643880810547477,
          0.5036997944698359,
          0.5146870062869301,
          0.5102020202020202,
          0.5030864197530863,
          0.5
         ]
        },
        {
         "hoverinfo": "skip",
         "marker": {
          "color": "rgb(31, 119, 180)"
         },
         "mode": "markers",
         "name": "In transfers per iter (r=16)",
         "opacity": 0.3,
         "type": "scatter",
         "x": [
          4,
          4,
          4,
          4,
          4,
          4,
          4,
          4,
          4,
          4,
          3,
          3,
          3,
          3,
          3,
          3,
          3,
          3,
          3,
          3,
          5,
          5,
          5,
          5,
          5,
          5,
          5,
          5,
          5,
          5,
          8,
          8,
          7,
          7,
          7,
          7,
          7,
          7,
          6,
          6,
          6,
          6,
          6,
          6,
          6,
          6,
          6,
          6,
          2,
          2,
          2,
          2,
          2,
          2,
          2
         ],
         "y": [
          0.5319865319865319,
          0.4589371980676328,
          0.47619047619047616,
          0.5527777777777778,
          0.4738562091503268,
          0.4786324786324786,
          0.5016835016835016,
          0.5733333333333334,
          0.5134099616858236,
          0.4761904761904761,
          0.42857142857142855,
          0.39682539682539686,
          0.40170940170940167,
          0.5555555555555556,
          0.47619047619047616,
          0.358974358974359,
          0.6419753086419753,
          0.4259259259259259,
          0.4126984126984127,
          0.5454545454545454,
          0.46913580246913583,
          0.5925925925925926,
          0.5634920634920635,
          0.6023391812865497,
          0.4444444444444445,
          0.46759259259259256,
          0.5291005291005292,
          0.5854700854700854,
          0.4541062801932366,
          0.4385964912280701,
          0.7777777777777778,
          0.2222222222222222,
          0.4444444444444445,
          0.6111111111111112,
          0.29629629629629634,
          0.8888888888888888,
          0.49999999999999994,
          0.27777777777777785,
          0.46296296296296297,
          0.6464646464646464,
          0.5555555555555555,
          0.462962962962963,
          0.5185185185185185,
          0.5185185185185185,
          0.6666666666666665,
          0.33333333333333337,
          0.5370370370370371,
          0.4,
          0.33333333333333326,
          1,
          0.7777777777777778,
          0.11111111111111116,
          0.33333333333333326,
          0.5555555555555556,
          0.6666666666666666
         ]
        },
        {
         "error_y": {
          "array": [
           0.07277810523312304,
           0.12581155279211345,
           0.0587017591402208,
           0.23421415327924971,
           0.4444444444444444,
           0.6936201478833325,
           0.2903098954409692
          ],
          "type": "data",
          "visible": true
         },
         "hoverinfo": "skip",
         "marker": {
          "color": "rgb(255, 127, 14)"
         },
         "mode": "lines+markers",
         "name": "Out transfers (r=16)",
         "type": "scatter",
         "x": [
          2,
          3,
          4,
          5,
          6,
          7,
          8
         ],
         "y": [
          0.18148148148148147,
          0.3036207882054115,
          0.31562397935196024,
          0.38728473033239763,
          0.49040123456790113,
          0.7304526748971193,
          0.4444444444444444
         ]
        },
        {
         "hoverinfo": "skip",
         "marker": {
          "color": "rgb(255, 127, 14)"
         },
         "mode": "markers",
         "name": "Out transfers per iter (r=16)",
         "opacity": 0.3,
         "type": "scatter",
         "x": [
          4,
          4,
          4,
          4,
          4,
          4,
          4,
          4,
          4,
          4,
          3,
          3,
          3,
          3,
          3,
          3,
          3,
          3,
          3,
          3,
          5,
          5,
          5,
          5,
          5,
          5,
          5,
          5,
          5,
          5,
          6,
          6,
          6,
          6,
          6,
          6,
          6,
          6,
          6,
          6,
          8,
          8,
          7,
          7,
          7,
          7,
          7,
          7,
          7,
          7,
          7,
          2,
          2,
          2,
          2,
          2,
          2,
          2,
          2,
          2,
          2
         ],
         "y": [
          0.24494949494949497,
          0.4084084084084084,
          0.274074074074074,
          0.42919389978213507,
          0.2340425531914893,
          0.30199430199430194,
          0.29024943310657597,
          0.22807017543859648,
          0.41192411924119243,
          0.3333333333333333,
          0.474074074074074,
          0.29629629629629634,
          0.2456140350877193,
          0.19191919191919193,
          0.09722222222222224,
          0.2483660130718955,
          0.47407407407407404,
          0.462962962962963,
          0.19753086419753085,
          0.34814814814814815,
          0.423076923076923,
          0.32996632996632996,
          0.39722222222222225,
          0.3888888888888889,
          0.5117845117845118,
          0.3790849673202614,
          0.42145593869731796,
          0.38888888888888884,
          0.27777777777777773,
          0.35470085470085466,
          0.2111111111111111,
          0.5462962962962963,
          0.5679012345679012,
          0.5833333333333335,
          0.29166666666666663,
          0.23809523809523808,
          0.5925925925925926,
          1.0317460317460316,
          0.5555555555555556,
          0.2857142857142857,
          0,
          0.8888888888888888,
          0.8888888888888888,
          0.8333333333333333,
          2.444444444444444,
          0.40740740740740744,
          0.5555555555555556,
          1,
          0,
          0,
          0.4444444444444444,
          0.11111111111111116,
          0,
          0.4444444444444444,
          0,
          0.9444444444444443,
          0,
          0.05555555555555558,
          0,
          0,
          0.25925925925925924
         ]
        }
       ],
       "layout": {
        "plot_bgcolor": "rgba(0,0,0,0)",
        "showlegend": true,
        "template": {
         "data": {
          "bar": [
           {
            "error_x": {
             "color": "#2a3f5f"
            },
            "error_y": {
             "color": "#2a3f5f"
            },
            "marker": {
             "line": {
              "color": "#E5ECF6",
              "width": 0.5
             }
            },
            "type": "bar"
           }
          ],
          "barpolar": [
           {
            "marker": {
             "line": {
              "color": "#E5ECF6",
              "width": 0.5
             }
            },
            "type": "barpolar"
           }
          ],
          "carpet": [
           {
            "aaxis": {
             "endlinecolor": "#2a3f5f",
             "gridcolor": "white",
             "linecolor": "white",
             "minorgridcolor": "white",
             "startlinecolor": "#2a3f5f"
            },
            "baxis": {
             "endlinecolor": "#2a3f5f",
             "gridcolor": "white",
             "linecolor": "white",
             "minorgridcolor": "white",
             "startlinecolor": "#2a3f5f"
            },
            "type": "carpet"
           }
          ],
          "choropleth": [
           {
            "colorbar": {
             "outlinewidth": 0,
             "ticks": ""
            },
            "type": "choropleth"
           }
          ],
          "contour": [
           {
            "colorbar": {
             "outlinewidth": 0,
             "ticks": ""
            },
            "colorscale": [
             [
              0,
              "#0d0887"
             ],
             [
              0.1111111111111111,
              "#46039f"
             ],
             [
              0.2222222222222222,
              "#7201a8"
             ],
             [
              0.3333333333333333,
              "#9c179e"
             ],
             [
              0.4444444444444444,
              "#bd3786"
             ],
             [
              0.5555555555555556,
              "#d8576b"
             ],
             [
              0.6666666666666666,
              "#ed7953"
             ],
             [
              0.7777777777777778,
              "#fb9f3a"
             ],
             [
              0.8888888888888888,
              "#fdca26"
             ],
             [
              1,
              "#f0f921"
             ]
            ],
            "type": "contour"
           }
          ],
          "contourcarpet": [
           {
            "colorbar": {
             "outlinewidth": 0,
             "ticks": ""
            },
            "type": "contourcarpet"
           }
          ],
          "heatmap": [
           {
            "colorbar": {
             "outlinewidth": 0,
             "ticks": ""
            },
            "colorscale": [
             [
              0,
              "#0d0887"
             ],
             [
              0.1111111111111111,
              "#46039f"
             ],
             [
              0.2222222222222222,
              "#7201a8"
             ],
             [
              0.3333333333333333,
              "#9c179e"
             ],
             [
              0.4444444444444444,
              "#bd3786"
             ],
             [
              0.5555555555555556,
              "#d8576b"
             ],
             [
              0.6666666666666666,
              "#ed7953"
             ],
             [
              0.7777777777777778,
              "#fb9f3a"
             ],
             [
              0.8888888888888888,
              "#fdca26"
             ],
             [
              1,
              "#f0f921"
             ]
            ],
            "type": "heatmap"
           }
          ],
          "heatmapgl": [
           {
            "colorbar": {
             "outlinewidth": 0,
             "ticks": ""
            },
            "colorscale": [
             [
              0,
              "#0d0887"
             ],
             [
              0.1111111111111111,
              "#46039f"
             ],
             [
              0.2222222222222222,
              "#7201a8"
             ],
             [
              0.3333333333333333,
              "#9c179e"
             ],
             [
              0.4444444444444444,
              "#bd3786"
             ],
             [
              0.5555555555555556,
              "#d8576b"
             ],
             [
              0.6666666666666666,
              "#ed7953"
             ],
             [
              0.7777777777777778,
              "#fb9f3a"
             ],
             [
              0.8888888888888888,
              "#fdca26"
             ],
             [
              1,
              "#f0f921"
             ]
            ],
            "type": "heatmapgl"
           }
          ],
          "histogram": [
           {
            "marker": {
             "colorbar": {
              "outlinewidth": 0,
              "ticks": ""
             }
            },
            "type": "histogram"
           }
          ],
          "histogram2d": [
           {
            "colorbar": {
             "outlinewidth": 0,
             "ticks": ""
            },
            "colorscale": [
             [
              0,
              "#0d0887"
             ],
             [
              0.1111111111111111,
              "#46039f"
             ],
             [
              0.2222222222222222,
              "#7201a8"
             ],
             [
              0.3333333333333333,
              "#9c179e"
             ],
             [
              0.4444444444444444,
              "#bd3786"
             ],
             [
              0.5555555555555556,
              "#d8576b"
             ],
             [
              0.6666666666666666,
              "#ed7953"
             ],
             [
              0.7777777777777778,
              "#fb9f3a"
             ],
             [
              0.8888888888888888,
              "#fdca26"
             ],
             [
              1,
              "#f0f921"
             ]
            ],
            "type": "histogram2d"
           }
          ],
          "histogram2dcontour": [
           {
            "colorbar": {
             "outlinewidth": 0,
             "ticks": ""
            },
            "colorscale": [
             [
              0,
              "#0d0887"
             ],
             [
              0.1111111111111111,
              "#46039f"
             ],
             [
              0.2222222222222222,
              "#7201a8"
             ],
             [
              0.3333333333333333,
              "#9c179e"
             ],
             [
              0.4444444444444444,
              "#bd3786"
             ],
             [
              0.5555555555555556,
              "#d8576b"
             ],
             [
              0.6666666666666666,
              "#ed7953"
             ],
             [
              0.7777777777777778,
              "#fb9f3a"
             ],
             [
              0.8888888888888888,
              "#fdca26"
             ],
             [
              1,
              "#f0f921"
             ]
            ],
            "type": "histogram2dcontour"
           }
          ],
          "mesh3d": [
           {
            "colorbar": {
             "outlinewidth": 0,
             "ticks": ""
            },
            "type": "mesh3d"
           }
          ],
          "parcoords": [
           {
            "line": {
             "colorbar": {
              "outlinewidth": 0,
              "ticks": ""
             }
            },
            "type": "parcoords"
           }
          ],
          "pie": [
           {
            "automargin": true,
            "type": "pie"
           }
          ],
          "scatter": [
           {
            "marker": {
             "colorbar": {
              "outlinewidth": 0,
              "ticks": ""
             }
            },
            "type": "scatter"
           }
          ],
          "scatter3d": [
           {
            "line": {
             "colorbar": {
              "outlinewidth": 0,
              "ticks": ""
             }
            },
            "marker": {
             "colorbar": {
              "outlinewidth": 0,
              "ticks": ""
             }
            },
            "type": "scatter3d"
           }
          ],
          "scattercarpet": [
           {
            "marker": {
             "colorbar": {
              "outlinewidth": 0,
              "ticks": ""
             }
            },
            "type": "scattercarpet"
           }
          ],
          "scattergeo": [
           {
            "marker": {
             "colorbar": {
              "outlinewidth": 0,
              "ticks": ""
             }
            },
            "type": "scattergeo"
           }
          ],
          "scattergl": [
           {
            "marker": {
             "colorbar": {
              "outlinewidth": 0,
              "ticks": ""
             }
            },
            "type": "scattergl"
           }
          ],
          "scattermapbox": [
           {
            "marker": {
             "colorbar": {
              "outlinewidth": 0,
              "ticks": ""
             }
            },
            "type": "scattermapbox"
           }
          ],
          "scatterpolar": [
           {
            "marker": {
             "colorbar": {
              "outlinewidth": 0,
              "ticks": ""
             }
            },
            "type": "scatterpolar"
           }
          ],
          "scatterpolargl": [
           {
            "marker": {
             "colorbar": {
              "outlinewidth": 0,
              "ticks": ""
             }
            },
            "type": "scatterpolargl"
           }
          ],
          "scatterternary": [
           {
            "marker": {
             "colorbar": {
              "outlinewidth": 0,
              "ticks": ""
             }
            },
            "type": "scatterternary"
           }
          ],
          "surface": [
           {
            "colorbar": {
             "outlinewidth": 0,
             "ticks": ""
            },
            "colorscale": [
             [
              0,
              "#0d0887"
             ],
             [
              0.1111111111111111,
              "#46039f"
             ],
             [
              0.2222222222222222,
              "#7201a8"
             ],
             [
              0.3333333333333333,
              "#9c179e"
             ],
             [
              0.4444444444444444,
              "#bd3786"
             ],
             [
              0.5555555555555556,
              "#d8576b"
             ],
             [
              0.6666666666666666,
              "#ed7953"
             ],
             [
              0.7777777777777778,
              "#fb9f3a"
             ],
             [
              0.8888888888888888,
              "#fdca26"
             ],
             [
              1,
              "#f0f921"
             ]
            ],
            "type": "surface"
           }
          ],
          "table": [
           {
            "cells": {
             "fill": {
              "color": "#EBF0F8"
             },
             "line": {
              "color": "white"
             }
            },
            "header": {
             "fill": {
              "color": "#C8D4E3"
             },
             "line": {
              "color": "white"
             }
            },
            "type": "table"
           }
          ]
         },
         "layout": {
          "annotationdefaults": {
           "arrowcolor": "#2a3f5f",
           "arrowhead": 0,
           "arrowwidth": 1
          },
          "coloraxis": {
           "colorbar": {
            "outlinewidth": 0,
            "ticks": ""
           }
          },
          "colorscale": {
           "diverging": [
            [
             0,
             "#8e0152"
            ],
            [
             0.1,
             "#c51b7d"
            ],
            [
             0.2,
             "#de77ae"
            ],
            [
             0.3,
             "#f1b6da"
            ],
            [
             0.4,
             "#fde0ef"
            ],
            [
             0.5,
             "#f7f7f7"
            ],
            [
             0.6,
             "#e6f5d0"
            ],
            [
             0.7,
             "#b8e186"
            ],
            [
             0.8,
             "#7fbc41"
            ],
            [
             0.9,
             "#4d9221"
            ],
            [
             1,
             "#276419"
            ]
           ],
           "sequential": [
            [
             0,
             "#0d0887"
            ],
            [
             0.1111111111111111,
             "#46039f"
            ],
            [
             0.2222222222222222,
             "#7201a8"
            ],
            [
             0.3333333333333333,
             "#9c179e"
            ],
            [
             0.4444444444444444,
             "#bd3786"
            ],
            [
             0.5555555555555556,
             "#d8576b"
            ],
            [
             0.6666666666666666,
             "#ed7953"
            ],
            [
             0.7777777777777778,
             "#fb9f3a"
            ],
            [
             0.8888888888888888,
             "#fdca26"
            ],
            [
             1,
             "#f0f921"
            ]
           ],
           "sequentialminus": [
            [
             0,
             "#0d0887"
            ],
            [
             0.1111111111111111,
             "#46039f"
            ],
            [
             0.2222222222222222,
             "#7201a8"
            ],
            [
             0.3333333333333333,
             "#9c179e"
            ],
            [
             0.4444444444444444,
             "#bd3786"
            ],
            [
             0.5555555555555556,
             "#d8576b"
            ],
            [
             0.6666666666666666,
             "#ed7953"
            ],
            [
             0.7777777777777778,
             "#fb9f3a"
            ],
            [
             0.8888888888888888,
             "#fdca26"
            ],
            [
             1,
             "#f0f921"
            ]
           ]
          },
          "colorway": [
           "#636efa",
           "#EF553B",
           "#00cc96",
           "#ab63fa",
           "#FFA15A",
           "#19d3f3",
           "#FF6692",
           "#B6E880",
           "#FF97FF",
           "#FECB52"
          ],
          "font": {
           "color": "#2a3f5f"
          },
          "geo": {
           "bgcolor": "white",
           "lakecolor": "white",
           "landcolor": "#E5ECF6",
           "showlakes": true,
           "showland": true,
           "subunitcolor": "white"
          },
          "hoverlabel": {
           "align": "left"
          },
          "hovermode": "closest",
          "mapbox": {
           "style": "light"
          },
          "paper_bgcolor": "white",
          "plot_bgcolor": "#E5ECF6",
          "polar": {
           "angularaxis": {
            "gridcolor": "white",
            "linecolor": "white",
            "ticks": ""
           },
           "bgcolor": "#E5ECF6",
           "radialaxis": {
            "gridcolor": "white",
            "linecolor": "white",
            "ticks": ""
           }
          },
          "scene": {
           "xaxis": {
            "backgroundcolor": "#E5ECF6",
            "gridcolor": "white",
            "gridwidth": 2,
            "linecolor": "white",
            "showbackground": true,
            "ticks": "",
            "zerolinecolor": "white"
           },
           "yaxis": {
            "backgroundcolor": "#E5ECF6",
            "gridcolor": "white",
            "gridwidth": 2,
            "linecolor": "white",
            "showbackground": true,
            "ticks": "",
            "zerolinecolor": "white"
           },
           "zaxis": {
            "backgroundcolor": "#E5ECF6",
            "gridcolor": "white",
            "gridwidth": 2,
            "linecolor": "white",
            "showbackground": true,
            "ticks": "",
            "zerolinecolor": "white"
           }
          },
          "shapedefaults": {
           "line": {
            "color": "#2a3f5f"
           }
          },
          "ternary": {
           "aaxis": {
            "gridcolor": "white",
            "linecolor": "white",
            "ticks": ""
           },
           "baxis": {
            "gridcolor": "white",
            "linecolor": "white",
            "ticks": ""
           },
           "bgcolor": "#E5ECF6",
           "caxis": {
            "gridcolor": "white",
            "linecolor": "white",
            "ticks": ""
           }
          },
          "title": {
           "x": 0.05
          },
          "xaxis": {
           "automargin": true,
           "gridcolor": "white",
           "linecolor": "white",
           "ticks": "",
           "title": {
            "standoff": 15
           },
           "zerolinecolor": "white",
           "zerolinewidth": 2
          },
          "yaxis": {
           "automargin": true,
           "gridcolor": "white",
           "linecolor": "white",
           "ticks": "",
           "title": {
            "standoff": 15
           },
           "zerolinecolor": "white",
           "zerolinewidth": 2
          }
         }
        },
        "title": {
         "text": "Degree vs Utility transfers (rr)"
        },
        "xaxis": {
         "title": {
          "text": "degree"
         }
        },
        "yaxis": {
         "title": {
          "text": "utility transfered"
         }
        }
       }
      },
      "text/html": [
       "<div>\n",
       "        \n",
       "        \n",
       "            <div id=\"a5e22fc7-30a6-4dec-9b37-6b7ee12df169\" class=\"plotly-graph-div\" style=\"height:525px; width:100%;\"></div>\n",
       "            <script type=\"text/javascript\">\n",
       "                require([\"plotly\"], function(Plotly) {\n",
       "                    window.PLOTLYENV=window.PLOTLYENV || {};\n",
       "                    \n",
       "                if (document.getElementById(\"a5e22fc7-30a6-4dec-9b37-6b7ee12df169\")) {\n",
       "                    Plotly.newPlot(\n",
       "                        'a5e22fc7-30a6-4dec-9b37-6b7ee12df169',\n",
       "                        [{\"error_y\": {\"array\": [0.03632106222648144, 0.08461629732199476, 0.06327615350806104, 0.2777777777777778, 0.2071583233895041, 0.09687835320871298, 0.2812705578836405], \"type\": \"data\", \"visible\": true}, \"hoverinfo\": \"skip\", \"marker\": {\"color\": \"rgb(31, 119, 180)\"}, \"mode\": \"lines+markers\", \"name\": \"In transfers (r=16)\", \"type\": \"scatter\", \"x\": [2, 3, 4, 5, 6, 7, 8], \"y\": [0.5396825396825397, 0.4643880810547477, 0.5036997944698359, 0.5146870062869301, 0.5102020202020202, 0.5030864197530863, 0.5]}, {\"hoverinfo\": \"skip\", \"marker\": {\"color\": \"rgb(31, 119, 180)\"}, \"mode\": \"markers\", \"name\": \"In transfers per iter (r=16)\", \"opacity\": 0.3, \"type\": \"scatter\", \"x\": [4, 4, 4, 4, 4, 4, 4, 4, 4, 4, 3, 3, 3, 3, 3, 3, 3, 3, 3, 3, 5, 5, 5, 5, 5, 5, 5, 5, 5, 5, 8, 8, 7, 7, 7, 7, 7, 7, 6, 6, 6, 6, 6, 6, 6, 6, 6, 6, 2, 2, 2, 2, 2, 2, 2], \"y\": [0.5319865319865319, 0.4589371980676328, 0.47619047619047616, 0.5527777777777778, 0.4738562091503268, 0.4786324786324786, 0.5016835016835016, 0.5733333333333334, 0.5134099616858236, 0.4761904761904761, 0.42857142857142855, 0.39682539682539686, 0.40170940170940167, 0.5555555555555556, 0.47619047619047616, 0.358974358974359, 0.6419753086419753, 0.4259259259259259, 0.4126984126984127, 0.5454545454545454, 0.46913580246913583, 0.5925925925925926, 0.5634920634920635, 0.6023391812865497, 0.4444444444444445, 0.46759259259259256, 0.5291005291005292, 0.5854700854700854, 0.4541062801932366, 0.4385964912280701, 0.7777777777777778, 0.2222222222222222, 0.4444444444444445, 0.6111111111111112, 0.29629629629629634, 0.8888888888888888, 0.49999999999999994, 0.27777777777777785, 0.46296296296296297, 0.6464646464646464, 0.5555555555555555, 0.462962962962963, 0.5185185185185185, 0.5185185185185185, 0.6666666666666665, 0.33333333333333337, 0.5370370370370371, 0.4, 0.33333333333333326, 1.0, 0.7777777777777778, 0.11111111111111116, 0.33333333333333326, 0.5555555555555556, 0.6666666666666666]}, {\"error_y\": {\"array\": [0.07277810523312304, 0.12581155279211345, 0.0587017591402208, 0.23421415327924971, 0.4444444444444444, 0.6936201478833325, 0.2903098954409692], \"type\": \"data\", \"visible\": true}, \"hoverinfo\": \"skip\", \"marker\": {\"color\": \"rgb(255, 127, 14)\"}, \"mode\": \"lines+markers\", \"name\": \"Out transfers (r=16)\", \"type\": \"scatter\", \"x\": [2, 3, 4, 5, 6, 7, 8], \"y\": [0.18148148148148147, 0.3036207882054115, 0.31562397935196024, 0.38728473033239763, 0.49040123456790113, 0.7304526748971193, 0.4444444444444444]}, {\"hoverinfo\": \"skip\", \"marker\": {\"color\": \"rgb(255, 127, 14)\"}, \"mode\": \"markers\", \"name\": \"Out transfers per iter (r=16)\", \"opacity\": 0.3, \"type\": \"scatter\", \"x\": [4, 4, 4, 4, 4, 4, 4, 4, 4, 4, 3, 3, 3, 3, 3, 3, 3, 3, 3, 3, 5, 5, 5, 5, 5, 5, 5, 5, 5, 5, 6, 6, 6, 6, 6, 6, 6, 6, 6, 6, 8, 8, 7, 7, 7, 7, 7, 7, 7, 7, 7, 2, 2, 2, 2, 2, 2, 2, 2, 2, 2], \"y\": [0.24494949494949497, 0.4084084084084084, 0.274074074074074, 0.42919389978213507, 0.2340425531914893, 0.30199430199430194, 0.29024943310657597, 0.22807017543859648, 0.41192411924119243, 0.3333333333333333, 0.474074074074074, 0.29629629629629634, 0.2456140350877193, 0.19191919191919193, 0.09722222222222224, 0.2483660130718955, 0.47407407407407404, 0.462962962962963, 0.19753086419753085, 0.34814814814814815, 0.423076923076923, 0.32996632996632996, 0.39722222222222225, 0.3888888888888889, 0.5117845117845118, 0.3790849673202614, 0.42145593869731796, 0.38888888888888884, 0.27777777777777773, 0.35470085470085466, 0.2111111111111111, 0.5462962962962963, 0.5679012345679012, 0.5833333333333335, 0.29166666666666663, 0.23809523809523808, 0.5925925925925926, 1.0317460317460316, 0.5555555555555556, 0.2857142857142857, 0.0, 0.8888888888888888, 0.8888888888888888, 0.8333333333333333, 2.444444444444444, 0.40740740740740744, 0.5555555555555556, 1.0, 0.0, 0.0, 0.4444444444444444, 0.11111111111111116, 0.0, 0.4444444444444444, 0.0, 0.9444444444444443, 0.0, 0.05555555555555558, 0.0, 0.0, 0.25925925925925924]}],\n",
       "                        {\"plot_bgcolor\": \"rgba(0,0,0,0)\", \"showlegend\": true, \"template\": {\"data\": {\"bar\": [{\"error_x\": {\"color\": \"#2a3f5f\"}, \"error_y\": {\"color\": \"#2a3f5f\"}, \"marker\": {\"line\": {\"color\": \"#E5ECF6\", \"width\": 0.5}}, \"type\": \"bar\"}], \"barpolar\": [{\"marker\": {\"line\": {\"color\": \"#E5ECF6\", \"width\": 0.5}}, \"type\": \"barpolar\"}], \"carpet\": [{\"aaxis\": {\"endlinecolor\": \"#2a3f5f\", \"gridcolor\": \"white\", \"linecolor\": \"white\", \"minorgridcolor\": \"white\", \"startlinecolor\": \"#2a3f5f\"}, \"baxis\": {\"endlinecolor\": \"#2a3f5f\", \"gridcolor\": \"white\", \"linecolor\": \"white\", \"minorgridcolor\": \"white\", \"startlinecolor\": \"#2a3f5f\"}, \"type\": \"carpet\"}], \"choropleth\": [{\"colorbar\": {\"outlinewidth\": 0, \"ticks\": \"\"}, \"type\": \"choropleth\"}], \"contour\": [{\"colorbar\": {\"outlinewidth\": 0, \"ticks\": \"\"}, \"colorscale\": [[0.0, \"#0d0887\"], [0.1111111111111111, \"#46039f\"], [0.2222222222222222, \"#7201a8\"], [0.3333333333333333, \"#9c179e\"], [0.4444444444444444, \"#bd3786\"], [0.5555555555555556, \"#d8576b\"], [0.6666666666666666, \"#ed7953\"], [0.7777777777777778, \"#fb9f3a\"], [0.8888888888888888, \"#fdca26\"], [1.0, \"#f0f921\"]], \"type\": \"contour\"}], \"contourcarpet\": [{\"colorbar\": {\"outlinewidth\": 0, \"ticks\": \"\"}, \"type\": \"contourcarpet\"}], \"heatmap\": [{\"colorbar\": {\"outlinewidth\": 0, \"ticks\": \"\"}, \"colorscale\": [[0.0, \"#0d0887\"], [0.1111111111111111, \"#46039f\"], [0.2222222222222222, \"#7201a8\"], [0.3333333333333333, \"#9c179e\"], [0.4444444444444444, \"#bd3786\"], [0.5555555555555556, \"#d8576b\"], [0.6666666666666666, \"#ed7953\"], [0.7777777777777778, \"#fb9f3a\"], [0.8888888888888888, \"#fdca26\"], [1.0, \"#f0f921\"]], \"type\": \"heatmap\"}], \"heatmapgl\": [{\"colorbar\": {\"outlinewidth\": 0, \"ticks\": \"\"}, \"colorscale\": [[0.0, \"#0d0887\"], [0.1111111111111111, \"#46039f\"], [0.2222222222222222, \"#7201a8\"], [0.3333333333333333, \"#9c179e\"], [0.4444444444444444, \"#bd3786\"], [0.5555555555555556, \"#d8576b\"], [0.6666666666666666, \"#ed7953\"], [0.7777777777777778, \"#fb9f3a\"], [0.8888888888888888, \"#fdca26\"], [1.0, \"#f0f921\"]], \"type\": \"heatmapgl\"}], \"histogram\": [{\"marker\": {\"colorbar\": {\"outlinewidth\": 0, \"ticks\": \"\"}}, \"type\": \"histogram\"}], \"histogram2d\": [{\"colorbar\": {\"outlinewidth\": 0, \"ticks\": \"\"}, \"colorscale\": [[0.0, \"#0d0887\"], [0.1111111111111111, \"#46039f\"], [0.2222222222222222, \"#7201a8\"], [0.3333333333333333, \"#9c179e\"], [0.4444444444444444, \"#bd3786\"], [0.5555555555555556, \"#d8576b\"], [0.6666666666666666, \"#ed7953\"], [0.7777777777777778, \"#fb9f3a\"], [0.8888888888888888, \"#fdca26\"], [1.0, \"#f0f921\"]], \"type\": \"histogram2d\"}], \"histogram2dcontour\": [{\"colorbar\": {\"outlinewidth\": 0, \"ticks\": \"\"}, \"colorscale\": [[0.0, \"#0d0887\"], [0.1111111111111111, \"#46039f\"], [0.2222222222222222, \"#7201a8\"], [0.3333333333333333, \"#9c179e\"], [0.4444444444444444, \"#bd3786\"], [0.5555555555555556, \"#d8576b\"], [0.6666666666666666, \"#ed7953\"], [0.7777777777777778, \"#fb9f3a\"], [0.8888888888888888, \"#fdca26\"], [1.0, \"#f0f921\"]], \"type\": \"histogram2dcontour\"}], \"mesh3d\": [{\"colorbar\": {\"outlinewidth\": 0, \"ticks\": \"\"}, \"type\": \"mesh3d\"}], \"parcoords\": [{\"line\": {\"colorbar\": {\"outlinewidth\": 0, \"ticks\": \"\"}}, \"type\": \"parcoords\"}], \"pie\": [{\"automargin\": true, \"type\": \"pie\"}], \"scatter\": [{\"marker\": {\"colorbar\": {\"outlinewidth\": 0, \"ticks\": \"\"}}, \"type\": \"scatter\"}], \"scatter3d\": [{\"line\": {\"colorbar\": {\"outlinewidth\": 0, \"ticks\": \"\"}}, \"marker\": {\"colorbar\": {\"outlinewidth\": 0, \"ticks\": \"\"}}, \"type\": \"scatter3d\"}], \"scattercarpet\": [{\"marker\": {\"colorbar\": {\"outlinewidth\": 0, \"ticks\": \"\"}}, \"type\": \"scattercarpet\"}], \"scattergeo\": [{\"marker\": {\"colorbar\": {\"outlinewidth\": 0, \"ticks\": \"\"}}, \"type\": \"scattergeo\"}], \"scattergl\": [{\"marker\": {\"colorbar\": {\"outlinewidth\": 0, \"ticks\": \"\"}}, \"type\": \"scattergl\"}], \"scattermapbox\": [{\"marker\": {\"colorbar\": {\"outlinewidth\": 0, \"ticks\": \"\"}}, \"type\": \"scattermapbox\"}], \"scatterpolar\": [{\"marker\": {\"colorbar\": {\"outlinewidth\": 0, \"ticks\": \"\"}}, \"type\": \"scatterpolar\"}], \"scatterpolargl\": [{\"marker\": {\"colorbar\": {\"outlinewidth\": 0, \"ticks\": \"\"}}, \"type\": \"scatterpolargl\"}], \"scatterternary\": [{\"marker\": {\"colorbar\": {\"outlinewidth\": 0, \"ticks\": \"\"}}, \"type\": \"scatterternary\"}], \"surface\": [{\"colorbar\": {\"outlinewidth\": 0, \"ticks\": \"\"}, \"colorscale\": [[0.0, \"#0d0887\"], [0.1111111111111111, \"#46039f\"], [0.2222222222222222, \"#7201a8\"], [0.3333333333333333, \"#9c179e\"], [0.4444444444444444, \"#bd3786\"], [0.5555555555555556, \"#d8576b\"], [0.6666666666666666, \"#ed7953\"], [0.7777777777777778, \"#fb9f3a\"], [0.8888888888888888, \"#fdca26\"], [1.0, \"#f0f921\"]], \"type\": \"surface\"}], \"table\": [{\"cells\": {\"fill\": {\"color\": \"#EBF0F8\"}, \"line\": {\"color\": \"white\"}}, \"header\": {\"fill\": {\"color\": \"#C8D4E3\"}, \"line\": {\"color\": \"white\"}}, \"type\": \"table\"}]}, \"layout\": {\"annotationdefaults\": {\"arrowcolor\": \"#2a3f5f\", \"arrowhead\": 0, \"arrowwidth\": 1}, \"coloraxis\": {\"colorbar\": {\"outlinewidth\": 0, \"ticks\": \"\"}}, \"colorscale\": {\"diverging\": [[0, \"#8e0152\"], [0.1, \"#c51b7d\"], [0.2, \"#de77ae\"], [0.3, \"#f1b6da\"], [0.4, \"#fde0ef\"], [0.5, \"#f7f7f7\"], [0.6, \"#e6f5d0\"], [0.7, \"#b8e186\"], [0.8, \"#7fbc41\"], [0.9, \"#4d9221\"], [1, \"#276419\"]], \"sequential\": [[0.0, \"#0d0887\"], [0.1111111111111111, \"#46039f\"], [0.2222222222222222, \"#7201a8\"], [0.3333333333333333, \"#9c179e\"], [0.4444444444444444, \"#bd3786\"], [0.5555555555555556, \"#d8576b\"], [0.6666666666666666, \"#ed7953\"], [0.7777777777777778, \"#fb9f3a\"], [0.8888888888888888, \"#fdca26\"], [1.0, \"#f0f921\"]], \"sequentialminus\": [[0.0, \"#0d0887\"], [0.1111111111111111, \"#46039f\"], [0.2222222222222222, \"#7201a8\"], [0.3333333333333333, \"#9c179e\"], [0.4444444444444444, \"#bd3786\"], [0.5555555555555556, \"#d8576b\"], [0.6666666666666666, \"#ed7953\"], [0.7777777777777778, \"#fb9f3a\"], [0.8888888888888888, \"#fdca26\"], [1.0, \"#f0f921\"]]}, \"colorway\": [\"#636efa\", \"#EF553B\", \"#00cc96\", \"#ab63fa\", \"#FFA15A\", \"#19d3f3\", \"#FF6692\", \"#B6E880\", \"#FF97FF\", \"#FECB52\"], \"font\": {\"color\": \"#2a3f5f\"}, \"geo\": {\"bgcolor\": \"white\", \"lakecolor\": \"white\", \"landcolor\": \"#E5ECF6\", \"showlakes\": true, \"showland\": true, \"subunitcolor\": \"white\"}, \"hoverlabel\": {\"align\": \"left\"}, \"hovermode\": \"closest\", \"mapbox\": {\"style\": \"light\"}, \"paper_bgcolor\": \"white\", \"plot_bgcolor\": \"#E5ECF6\", \"polar\": {\"angularaxis\": {\"gridcolor\": \"white\", \"linecolor\": \"white\", \"ticks\": \"\"}, \"bgcolor\": \"#E5ECF6\", \"radialaxis\": {\"gridcolor\": \"white\", \"linecolor\": \"white\", \"ticks\": \"\"}}, \"scene\": {\"xaxis\": {\"backgroundcolor\": \"#E5ECF6\", \"gridcolor\": \"white\", \"gridwidth\": 2, \"linecolor\": \"white\", \"showbackground\": true, \"ticks\": \"\", \"zerolinecolor\": \"white\"}, \"yaxis\": {\"backgroundcolor\": \"#E5ECF6\", \"gridcolor\": \"white\", \"gridwidth\": 2, \"linecolor\": \"white\", \"showbackground\": true, \"ticks\": \"\", \"zerolinecolor\": \"white\"}, \"zaxis\": {\"backgroundcolor\": \"#E5ECF6\", \"gridcolor\": \"white\", \"gridwidth\": 2, \"linecolor\": \"white\", \"showbackground\": true, \"ticks\": \"\", \"zerolinecolor\": \"white\"}}, \"shapedefaults\": {\"line\": {\"color\": \"#2a3f5f\"}}, \"ternary\": {\"aaxis\": {\"gridcolor\": \"white\", \"linecolor\": \"white\", \"ticks\": \"\"}, \"baxis\": {\"gridcolor\": \"white\", \"linecolor\": \"white\", \"ticks\": \"\"}, \"bgcolor\": \"#E5ECF6\", \"caxis\": {\"gridcolor\": \"white\", \"linecolor\": \"white\", \"ticks\": \"\"}}, \"title\": {\"x\": 0.05}, \"xaxis\": {\"automargin\": true, \"gridcolor\": \"white\", \"linecolor\": \"white\", \"ticks\": \"\", \"title\": {\"standoff\": 15}, \"zerolinecolor\": \"white\", \"zerolinewidth\": 2}, \"yaxis\": {\"automargin\": true, \"gridcolor\": \"white\", \"linecolor\": \"white\", \"ticks\": \"\", \"title\": {\"standoff\": 15}, \"zerolinecolor\": \"white\", \"zerolinewidth\": 2}}}, \"title\": {\"text\": \"Degree vs Utility transfers (rr)\"}, \"xaxis\": {\"title\": {\"text\": \"degree\"}}, \"yaxis\": {\"title\": {\"text\": \"utility transfered\"}}},\n",
       "                        {\"responsive\": true}\n",
       "                    ).then(function(){\n",
       "                            \n",
       "var gd = document.getElementById('a5e22fc7-30a6-4dec-9b37-6b7ee12df169');\n",
       "var x = new MutationObserver(function (mutations, observer) {{\n",
       "        var display = window.getComputedStyle(gd).display;\n",
       "        if (!display || display === 'none') {{\n",
       "            console.log([gd, 'removed!']);\n",
       "            Plotly.purge(gd);\n",
       "            observer.disconnect();\n",
       "        }}\n",
       "}});\n",
       "\n",
       "// Listen for the removal of the full notebook cells\n",
       "var notebookContainer = gd.closest('#notebook-container');\n",
       "if (notebookContainer) {{\n",
       "    x.observe(notebookContainer, {childList: true});\n",
       "}}\n",
       "\n",
       "// Listen for the clearing of the current output cell\n",
       "var outputEl = gd.closest('.output');\n",
       "if (outputEl) {{\n",
       "    x.observe(outputEl, {childList: true});\n",
       "}}\n",
       "\n",
       "                        })\n",
       "                };\n",
       "                });\n",
       "            </script>\n",
       "        </div>"
      ]
     },
     "metadata": {},
     "output_type": "display_data"
    },
    {
     "data": {
      "application/vnd.plotly.v1+json": {
       "config": {
        "linkText": "Export to plot.ly",
        "plotlyServerURL": "https://plot.ly",
        "showLink": false
       },
       "data": [
        {
         "error_y": {
          "array": [
           0.02583900063044465,
           0.22698967692182684,
           0.07741436595482465,
           0.052368028374085517,
           0.23193078089210253,
           0.2222222222222222,
           0.10417688363613209
          ],
          "type": "data",
          "visible": true
         },
         "hoverinfo": "skip",
         "marker": {
          "color": "rgb(31, 119, 180)"
         },
         "mode": "lines+markers",
         "name": "In transfers (r=16 strat=mwu)",
         "type": "scatter",
         "x": [
          2,
          3,
          4,
          5,
          6,
          7,
          8
         ],
         "y": [
          0.611111111111111,
          0.4734920634920634,
          0.5067929464759787,
          0.4981370169616047,
          0.5377152477152476,
          0.4920634920634921,
          0.5555555555555556
         ]
        },
        {
         "hoverinfo": "skip",
         "marker": {
          "color": "rgb(31, 119, 180)"
         },
         "mode": "markers",
         "name": "In transfers per iter (r=16 strat=mwu)",
         "opacity": 0.3,
         "type": "scatter",
         "x": [
          4,
          4,
          4,
          4,
          4,
          4,
          4,
          4,
          4,
          4,
          7,
          7,
          7,
          7,
          7,
          7,
          7,
          3,
          3,
          3,
          3,
          3,
          3,
          3,
          3,
          3,
          3,
          5,
          5,
          5,
          5,
          5,
          5,
          5,
          5,
          5,
          5,
          2,
          2,
          2,
          2,
          2,
          2,
          2,
          8,
          8,
          6,
          6,
          6,
          6,
          6,
          6,
          6,
          6,
          6,
          6
         ],
         "y": [
          0.5523809523809523,
          0.4732510288065844,
          0.5046296296296297,
          0.5211640211640212,
          0.4750957854406129,
          0.47826086956521746,
          0.503267973856209,
          0.5034722222222222,
          0.5440613026819924,
          0.5123456790123455,
          0.4444444444444445,
          0.7222222222222223,
          0.33333333333333337,
          0.8888888888888888,
          0.5555555555555556,
          0.27777777777777785,
          0.2222222222222222,
          0.33333333333333337,
          0.4333333333333333,
          0.494949494949495,
          0.4722222222222222,
          0.5555555555555555,
          0.4166666666666667,
          0.6262626262626262,
          0.4444444444444445,
          0.5238095238095236,
          0.43434343434343425,
          0.4603174603174603,
          0.4977777777777779,
          0.5427350427350427,
          0.5166666666666667,
          0.49999999999999994,
          0.48659003831417624,
          0.391304347826087,
          0.5992063492063491,
          0.523809523809524,
          0.462962962962963,
          0.33333333333333326,
          1,
          0.7777777777777778,
          0.4444444444444444,
          0.33333333333333326,
          0.6666666666666667,
          0.7222222222222222,
          0.7777777777777778,
          0.33333333333333337,
          0.4444444444444445,
          0.5353535353535354,
          0.5714285714285714,
          0.5777777777777777,
          0.603174603174603,
          0.5370370370370371,
          0.7777777777777777,
          0.3777777777777778,
          0.5079365079365079,
          0.4444444444444445
         ]
        },
        {
         "error_y": {
          "array": [
           0.05714895990808713,
           0.4576605357846204,
           0.08908947156958973,
           0.08788053241523971,
           0.35763282087624626,
           0.18852616526815338,
           0.05555555555555558
          ],
          "type": "data",
          "visible": true
         },
         "hoverinfo": "skip",
         "marker": {
          "color": "rgb(255, 127, 14)"
         },
         "mode": "lines+markers",
         "name": "Out transfers (r=16 strat=mwu)",
         "type": "scatter",
         "x": [
          2,
          3,
          4,
          5,
          6,
          7,
          8
         ],
         "y": [
          0.3555555555555555,
          0.2934520384442985,
          0.35678518228003797,
          0.3638593192548568,
          0.5039373897707231,
          0.779835390946502,
          0.16666666666666674
         ]
        },
        {
         "hoverinfo": "skip",
         "marker": {
          "color": "rgb(255, 127, 14)"
         },
         "mode": "markers",
         "name": "Out transfers per iter (r=16 strat=mwu)",
         "opacity": 0.3,
         "type": "scatter",
         "x": [
          4,
          4,
          4,
          4,
          4,
          4,
          4,
          4,
          4,
          4,
          7,
          7,
          7,
          7,
          7,
          7,
          7,
          7,
          7,
          3,
          3,
          3,
          3,
          3,
          3,
          3,
          3,
          3,
          3,
          5,
          5,
          5,
          5,
          5,
          5,
          5,
          5,
          5,
          5,
          2,
          2,
          2,
          2,
          2,
          2,
          2,
          2,
          2,
          2,
          6,
          6,
          6,
          6,
          6,
          6,
          6,
          6,
          6,
          6,
          8,
          8
         ],
         "y": [
          0.32575757575757575,
          0.45045045045045046,
          0.36666666666666664,
          0.42265795206971674,
          0.35933806146572106,
          0.4045584045584046,
          0.3537414965986395,
          0.2573099415204678,
          0.3495934959349593,
          0.27777777777777773,
          0,
          0.8888888888888888,
          1.4444444444444446,
          0.8518518518518517,
          1,
          0.8888888888888891,
          0.7777777777777777,
          1.1666666666666665,
          0,
          0.29629629629629634,
          0.28888888888888886,
          0.304093567251462,
          0.19191919191919188,
          0.18055555555555555,
          0.17647058823529413,
          0.40740740740740744,
          0.462962962962963,
          0.3148148148148148,
          0.3111111111111111,
          0.45299145299145305,
          0.38047138047138046,
          0.3555555555555555,
          0.3076923076923077,
          0.30303030303030304,
          0.24836601307189538,
          0.2796934865900383,
          0.4575163398692811,
          0.31481481481481477,
          0.5384615384615384,
          0,
          0,
          0.4444444444444444,
          1.1111111111111112,
          0.5555555555555555,
          0,
          0.2222222222222222,
          0,
          0.5555555555555556,
          0.6666666666666666,
          0.6666666666666667,
          0.212962962962963,
          0.3950617283950617,
          0.5277777777777778,
          0.375,
          0.634920634920635,
          0.5555555555555557,
          0.6984126984126985,
          0.7666666666666666,
          0.20634920634920637,
          0.22222222222222232,
          0.11111111111111116
         ]
        },
        {
         "error_y": {
          "array": [
           0.038685680567917234,
           0.11911633035694004,
           0.04995506532625165,
           0.07204452406693475,
           0.29860213882587217,
           0.21994295969128597,
           0
          ],
          "type": "data",
          "visible": true
         },
         "hoverinfo": "skip",
         "marker": {
          "color": "rgb(44, 160, 44)"
         },
         "mode": "lines+markers",
         "name": "In transfers (r=16 strat=se_mwu)",
         "type": "scatter",
         "x": [
          3,
          4,
          5,
          6,
          7,
          8,
          9
         ],
         "y": [
          0.5185185185185185,
          0.4784893501560169,
          0.5144864275298294,
          0.4868279564133843,
          0.5381569664902999,
          0.5052910052910052,
          0.33333333333333337
         ]
        },
        {
         "hoverinfo": "skip",
         "marker": {
          "color": "rgb(44, 160, 44)"
         },
         "mode": "markers",
         "name": "In transfers per iter (r=16 strat=se_mwu)",
         "opacity": 0.3,
         "type": "scatter",
         "x": [
          5,
          5,
          5,
          5,
          5,
          5,
          5,
          5,
          5,
          5,
          7,
          7,
          7,
          7,
          7,
          7,
          7,
          7,
          7,
          7,
          6,
          6,
          6,
          6,
          6,
          6,
          6,
          6,
          6,
          6,
          4,
          4,
          4,
          4,
          4,
          4,
          4,
          4,
          4,
          4,
          3,
          3,
          3,
          3,
          3,
          3,
          8,
          8,
          8,
          8,
          8,
          8,
          8,
          9
         ],
         "y": [
          0.5259259259259259,
          0.5185185185185185,
          0.5231481481481483,
          0.46846846846846846,
          0.5627240143369175,
          0.5072463768115941,
          0.4478114478114478,
          0.5694444444444444,
          0.5478927203065134,
          0.4736842105263159,
          0.4166666666666667,
          0.6777777777777778,
          0.5555555555555556,
          0.5555555555555555,
          0.4920634920634921,
          0.6296296296296297,
          0.7777777777777777,
          0.4000000000000001,
          0.4320987654320988,
          0.4444444444444445,
          0.4202898550724638,
          0.511904761904762,
          0.5674603174603176,
          0.5228758169934641,
          0.4920634920634921,
          0.43295019157088116,
          0.4537037037037037,
          0.54320987654321,
          0.5046296296296297,
          0.4191919191919192,
          0.4722222222222222,
          0.5238095238095238,
          0.3425925925925926,
          0.4305555555555555,
          0.5777777777777778,
          0.4555555555555556,
          0.5972222222222222,
          0.41269841269841273,
          0.4786324786324786,
          0.4938271604938272,
          0.33333333333333326,
          1,
          0.7777777777777778,
          0.11111111111111116,
          0.33333333333333326,
          0.5555555555555556,
          0.5,
          0.7222222222222223,
          0.2592592592592593,
          0.8888888888888888,
          0.5555555555555556,
          0.27777777777777785,
          0.33333333333333337,
          0.33333333333333337
         ]
        },
        {
         "error_y": {
          "array": [
           0.04385458654714296,
           0.18338284679195727,
           0.06326933182741501,
           0.07490444514464391,
           0.13252067157640626,
           0.2777777777777778,
           0.4870679393723177
          ],
          "type": "data",
          "visible": true
         },
         "hoverinfo": "skip",
         "marker": {
          "color": "rgb(214, 39, 40)"
         },
         "mode": "lines+markers",
         "name": "Out transfers (r=16 strat=se_mwu)",
         "type": "scatter",
         "x": [
          2,
          3,
          4,
          5,
          6,
          7,
          8
         ],
         "y": [
          0.05,
          0.23574158336026244,
          0.3163973554877102,
          0.39764248954411224,
          0.5684038800705468,
          0.654320987654321,
          0.2777777777777778
         ]
        },
        {
         "hoverinfo": "skip",
         "marker": {
          "color": "rgb(214, 39, 40)"
         },
         "mode": "markers",
         "name": "Out transfers per iter (r=16 strat=se_mwu)",
         "opacity": 0.3,
         "type": "scatter",
         "x": [
          4,
          4,
          4,
          4,
          4,
          4,
          4,
          4,
          4,
          4,
          6,
          6,
          6,
          6,
          6,
          6,
          6,
          6,
          6,
          6,
          5,
          5,
          5,
          5,
          5,
          5,
          5,
          5,
          5,
          5,
          3,
          3,
          3,
          3,
          3,
          3,
          3,
          3,
          3,
          3,
          2,
          2,
          2,
          2,
          2,
          2,
          2,
          2,
          2,
          2,
          8,
          8,
          7,
          7,
          7,
          7,
          7,
          7,
          7,
          7,
          7
         ],
         "y": [
          0.303030303030303,
          0.3933933933933934,
          0.274074074074074,
          0.31372549019607837,
          0.2718676122931442,
          0.40170940170940167,
          0.31292517006802717,
          0.27485380116959063,
          0.31978319783197834,
          0.2986111111111111,
          0.4555555555555556,
          0.5185185185185185,
          0.4197530864197531,
          0.7361111111111112,
          0.5138888888888888,
          0.19047619047619047,
          0.5925925925925926,
          0.6349206349206351,
          0.8444444444444444,
          0.7777777777777778,
          0.3675213675213675,
          0.4006734006734006,
          0.4916666666666667,
          0.29059829059829057,
          0.5084175084175084,
          0.3464052287581699,
          0.3831417624521073,
          0.3464052287581699,
          0.4185185185185185,
          0.423076923076923,
          0.3259259259259259,
          0.2814814814814815,
          0.2631578947368421,
          0.13131313131313133,
          0.1527777777777778,
          0.18300653594771243,
          0.14814814814814817,
          0.345679012345679,
          0.2222222222222222,
          0.3037037037037037,
          0,
          0,
          0,
          0.4444444444444444,
          0,
          0,
          0.05555555555555558,
          0,
          0,
          0,
          0,
          0.5555555555555556,
          0.5185185185185186,
          0.7222222222222223,
          1.6666666666666667,
          0.8148148148148149,
          0,
          0.6666666666666667,
          1.0555555555555556,
          0.4444444444444444,
          0
         ]
        },
        {
         "error_y": {
          "array": [
           0.12660106445748753,
           0.02853876732909562,
           0.09596098175939212,
           0.047592634609385426,
           0,
           0.3016018050907839,
           0.18859298328700116
          ],
          "type": "data",
          "visible": true
         },
         "hoverinfo": "skip",
         "marker": {
          "color": "rgb(148, 103, 189)"
         },
         "mode": "lines+markers",
         "name": "In transfers (r=16 strat=unif)",
         "type": "scatter",
         "x": [
          2,
          3,
          4,
          5,
          6,
          7,
          8
         ],
         "y": [
          0.5092592592592592,
          0.459313772647106,
          0.4896093421099142,
          0.49624637673990196,
          0.5056926406926407,
          0.4814814814814815,
          0.7777777777777778
         ]
        },
        {
         "hoverinfo": "skip",
         "marker": {
          "color": "rgb(148, 103, 189)"
         },
         "mode": "markers",
         "name": "In transfers per iter (r=16 strat=unif)",
         "opacity": 0.3,
         "type": "scatter",
         "x": [
          6,
          6,
          6,
          6,
          6,
          6,
          6,
          6,
          6,
          6,
          4,
          4,
          4,
          4,
          4,
          4,
          4,
          4,
          4,
          4,
          3,
          3,
          3,
          3,
          3,
          3,
          3,
          3,
          3,
          3,
          5,
          5,
          5,
          5,
          5,
          5,
          5,
          5,
          5,
          5,
          8,
          2,
          2,
          2,
          2,
          2,
          2,
          7,
          7,
          7,
          7,
          7,
          7,
          7
         ],
         "y": [
          0.375,
          0.5656565656565657,
          0.48611111111111105,
          0.4444444444444445,
          0.5714285714285714,
          0.49206349206349204,
          0.7777777777777777,
          0.38888888888888895,
          0.6222222222222223,
          0.33333333333333337,
          0.5158730158730159,
          0.4830917874396135,
          0.470899470899471,
          0.4594594594594595,
          0.5069444444444444,
          0.48,
          0.44781144781144777,
          0.5427350427350427,
          0.5185185185185185,
          0.47076023391812866,
          0.43055555555555547,
          0.48888888888888893,
          0.30303030303030304,
          0.47619047619047616,
          0.5740740740740741,
          0.3580246913580247,
          0.6,
          0.4027777777777778,
          0.5757575757575757,
          0.38383838383838387,
          0.4232804232804232,
          0.5325670498084292,
          0.5072463768115942,
          0.4970760233918128,
          0.5694444444444444,
          0.5138888888888888,
          0.41666666666666674,
          0.5267489711934156,
          0.5252525252525253,
          0.4502923976608188,
          0.7777777777777778,
          0.33333333333333326,
          1,
          0.7777777777777778,
          0.22222222222222232,
          0.16666666666666669,
          0.5555555555555556,
          0.3703703703703704,
          0.5,
          0.44444444444444453,
          0.8888888888888888,
          0.5555555555555556,
          0.27777777777777785,
          0.33333333333333337
         ]
        },
        {
         "error_y": {
          "array": [
           0.0619600003095499,
           0.11961265160488793,
           0.09100512093124555,
           0.06635969499928215,
           0.05555555555555558,
           0.2684163279364366,
           0.624674549891262
          ],
          "type": "data",
          "visible": true
         },
         "hoverinfo": "skip",
         "marker": {
          "color": "rgb(140, 86, 75)"
         },
         "mode": "lines+markers",
         "name": "Out transfers (r=16 strat=unif)",
         "type": "scatter",
         "x": [
          2,
          3,
          4,
          5,
          6,
          7,
          8
         ],
         "y": [
          0.22407407407407404,
          0.25594440274780833,
          0.35247982716950266,
          0.32022024084397305,
          0.45894620811287473,
          0.5905349794238683,
          0.05555555555555558
         ]
        },
        {
         "hoverinfo": "skip",
         "marker": {
          "color": "rgb(140, 86, 75)"
         },
         "mode": "markers",
         "name": "Out transfers per iter (r=16 strat=unif)",
         "opacity": 0.3,
         "type": "scatter",
         "x": [
          4,
          4,
          4,
          4,
          4,
          4,
          4,
          4,
          4,
          4,
          6,
          6,
          6,
          6,
          6,
          6,
          6,
          6,
          6,
          6,
          3,
          3,
          3,
          3,
          3,
          3,
          3,
          3,
          3,
          3,
          5,
          5,
          5,
          5,
          5,
          5,
          5,
          5,
          5,
          5,
          8,
          8,
          2,
          2,
          2,
          2,
          2,
          2,
          2,
          2,
          2,
          2,
          7,
          7,
          7,
          7,
          7,
          7,
          7,
          7,
          7
         ],
         "y": [
          0.2651515151515152,
          0.4984984984984985,
          0.2888888888888889,
          0.363834422657952,
          0.35697399527186763,
          0.40740740740740744,
          0.31746031746031744,
          0.3216374269005848,
          0.35772357723577236,
          0.34722222222222227,
          0.5,
          0.4444444444444444,
          0.3827160493827161,
          0.4305555555555556,
          0.3888888888888889,
          0.4126984126984126,
          0.7777777777777778,
          0.47619047619047616,
          0.3,
          0.4761904761904762,
          0.3037037037037037,
          0.34074074074074073,
          0.2573099415204679,
          0.0707070707070707,
          0.1527777777777778,
          0.21568627450980393,
          0.2148148148148148,
          0.3950617283950617,
          0.3271604938271605,
          0.2814814814814815,
          0.3803418803418804,
          0.2828282828282829,
          0.30277777777777776,
          0.36752136752136744,
          0.42424242424242425,
          0.2581699346405229,
          0.21455938697318006,
          0.29084967320261434,
          0.40740740740740744,
          0.27350427350427353,
          0.11111111111111116,
          0,
          0,
          0,
          0.4444444444444444,
          0,
          0.5555555555555555,
          0,
          0.2777777777777778,
          0,
          0.7777777777777778,
          0.18518518518518515,
          0.25925925925925924,
          0.7222222222222223,
          0,
          0.3333333333333333,
          2.2222222222222223,
          0.11111111111111116,
          0.4444444444444444,
          0.4444444444444445,
          0.7777777777777777
         ]
        },
        {
         "error_y": {
          "array": [
           0.03632106222648144,
           0.08461629732199476,
           0.06327615350806104,
           0.2777777777777778,
           0.2071583233895041,
           0.09687835320871298,
           0.2812705578836405
          ],
          "type": "data",
          "visible": true
         },
         "hoverinfo": "skip",
         "marker": {
          "color": "rgb(227, 119, 194)"
         },
         "mode": "lines+markers",
         "name": "In transfers (r=16 strat=rr)",
         "type": "scatter",
         "x": [
          2,
          3,
          4,
          5,
          6,
          7,
          8
         ],
         "y": [
          0.5396825396825397,
          0.4643880810547477,
          0.5036997944698359,
          0.5146870062869301,
          0.5102020202020202,
          0.5030864197530863,
          0.5
         ]
        },
        {
         "hoverinfo": "skip",
         "marker": {
          "color": "rgb(227, 119, 194)"
         },
         "mode": "markers",
         "name": "In transfers per iter (r=16 strat=rr)",
         "opacity": 0.3,
         "type": "scatter",
         "x": [
          4,
          4,
          4,
          4,
          4,
          4,
          4,
          4,
          4,
          4,
          3,
          3,
          3,
          3,
          3,
          3,
          3,
          3,
          3,
          3,
          5,
          5,
          5,
          5,
          5,
          5,
          5,
          5,
          5,
          5,
          8,
          8,
          7,
          7,
          7,
          7,
          7,
          7,
          6,
          6,
          6,
          6,
          6,
          6,
          6,
          6,
          6,
          6,
          2,
          2,
          2,
          2,
          2,
          2,
          2
         ],
         "y": [
          0.5319865319865319,
          0.4589371980676328,
          0.47619047619047616,
          0.5527777777777778,
          0.4738562091503268,
          0.4786324786324786,
          0.5016835016835016,
          0.5733333333333334,
          0.5134099616858236,
          0.4761904761904761,
          0.42857142857142855,
          0.39682539682539686,
          0.40170940170940167,
          0.5555555555555556,
          0.47619047619047616,
          0.358974358974359,
          0.6419753086419753,
          0.4259259259259259,
          0.4126984126984127,
          0.5454545454545454,
          0.46913580246913583,
          0.5925925925925926,
          0.5634920634920635,
          0.6023391812865497,
          0.4444444444444445,
          0.46759259259259256,
          0.5291005291005292,
          0.5854700854700854,
          0.4541062801932366,
          0.4385964912280701,
          0.7777777777777778,
          0.2222222222222222,
          0.4444444444444445,
          0.6111111111111112,
          0.29629629629629634,
          0.8888888888888888,
          0.49999999999999994,
          0.27777777777777785,
          0.46296296296296297,
          0.6464646464646464,
          0.5555555555555555,
          0.462962962962963,
          0.5185185185185185,
          0.5185185185185185,
          0.6666666666666665,
          0.33333333333333337,
          0.5370370370370371,
          0.4,
          0.33333333333333326,
          1,
          0.7777777777777778,
          0.11111111111111116,
          0.33333333333333326,
          0.5555555555555556,
          0.6666666666666666
         ]
        },
        {
         "error_y": {
          "array": [
           0.07277810523312304,
           0.12581155279211345,
           0.0587017591402208,
           0.23421415327924971,
           0.4444444444444444,
           0.6936201478833325,
           0.2903098954409692
          ],
          "type": "data",
          "visible": true
         },
         "hoverinfo": "skip",
         "marker": {
          "color": "rgb(127, 127, 127)"
         },
         "mode": "lines+markers",
         "name": "Out transfers (r=16 strat=rr)",
         "type": "scatter",
         "x": [
          2,
          3,
          4,
          5,
          6,
          7,
          8
         ],
         "y": [
          0.18148148148148147,
          0.3036207882054115,
          0.31562397935196024,
          0.38728473033239763,
          0.49040123456790113,
          0.7304526748971193,
          0.4444444444444444
         ]
        },
        {
         "hoverinfo": "skip",
         "marker": {
          "color": "rgb(127, 127, 127)"
         },
         "mode": "markers",
         "name": "Out transfers per iter (r=16 strat=rr)",
         "opacity": 0.3,
         "type": "scatter",
         "x": [
          4,
          4,
          4,
          4,
          4,
          4,
          4,
          4,
          4,
          4,
          3,
          3,
          3,
          3,
          3,
          3,
          3,
          3,
          3,
          3,
          5,
          5,
          5,
          5,
          5,
          5,
          5,
          5,
          5,
          5,
          6,
          6,
          6,
          6,
          6,
          6,
          6,
          6,
          6,
          6,
          8,
          8,
          7,
          7,
          7,
          7,
          7,
          7,
          7,
          7,
          7,
          2,
          2,
          2,
          2,
          2,
          2,
          2,
          2,
          2,
          2
         ],
         "y": [
          0.24494949494949497,
          0.4084084084084084,
          0.274074074074074,
          0.42919389978213507,
          0.2340425531914893,
          0.30199430199430194,
          0.29024943310657597,
          0.22807017543859648,
          0.41192411924119243,
          0.3333333333333333,
          0.474074074074074,
          0.29629629629629634,
          0.2456140350877193,
          0.19191919191919193,
          0.09722222222222224,
          0.2483660130718955,
          0.47407407407407404,
          0.462962962962963,
          0.19753086419753085,
          0.34814814814814815,
          0.423076923076923,
          0.32996632996632996,
          0.39722222222222225,
          0.3888888888888889,
          0.5117845117845118,
          0.3790849673202614,
          0.42145593869731796,
          0.38888888888888884,
          0.27777777777777773,
          0.35470085470085466,
          0.2111111111111111,
          0.5462962962962963,
          0.5679012345679012,
          0.5833333333333335,
          0.29166666666666663,
          0.23809523809523808,
          0.5925925925925926,
          1.0317460317460316,
          0.5555555555555556,
          0.2857142857142857,
          0,
          0.8888888888888888,
          0.8888888888888888,
          0.8333333333333333,
          2.444444444444444,
          0.40740740740740744,
          0.5555555555555556,
          1,
          0,
          0,
          0.4444444444444444,
          0.11111111111111116,
          0,
          0.4444444444444444,
          0,
          0.9444444444444443,
          0,
          0.05555555555555558,
          0,
          0,
          0.25925925925925924
         ]
        }
       ],
       "layout": {
        "plot_bgcolor": "rgba(0,0,0,0)",
        "showlegend": true,
        "template": {
         "data": {
          "bar": [
           {
            "error_x": {
             "color": "#2a3f5f"
            },
            "error_y": {
             "color": "#2a3f5f"
            },
            "marker": {
             "line": {
              "color": "#E5ECF6",
              "width": 0.5
             }
            },
            "type": "bar"
           }
          ],
          "barpolar": [
           {
            "marker": {
             "line": {
              "color": "#E5ECF6",
              "width": 0.5
             }
            },
            "type": "barpolar"
           }
          ],
          "carpet": [
           {
            "aaxis": {
             "endlinecolor": "#2a3f5f",
             "gridcolor": "white",
             "linecolor": "white",
             "minorgridcolor": "white",
             "startlinecolor": "#2a3f5f"
            },
            "baxis": {
             "endlinecolor": "#2a3f5f",
             "gridcolor": "white",
             "linecolor": "white",
             "minorgridcolor": "white",
             "startlinecolor": "#2a3f5f"
            },
            "type": "carpet"
           }
          ],
          "choropleth": [
           {
            "colorbar": {
             "outlinewidth": 0,
             "ticks": ""
            },
            "type": "choropleth"
           }
          ],
          "contour": [
           {
            "colorbar": {
             "outlinewidth": 0,
             "ticks": ""
            },
            "colorscale": [
             [
              0,
              "#0d0887"
             ],
             [
              0.1111111111111111,
              "#46039f"
             ],
             [
              0.2222222222222222,
              "#7201a8"
             ],
             [
              0.3333333333333333,
              "#9c179e"
             ],
             [
              0.4444444444444444,
              "#bd3786"
             ],
             [
              0.5555555555555556,
              "#d8576b"
             ],
             [
              0.6666666666666666,
              "#ed7953"
             ],
             [
              0.7777777777777778,
              "#fb9f3a"
             ],
             [
              0.8888888888888888,
              "#fdca26"
             ],
             [
              1,
              "#f0f921"
             ]
            ],
            "type": "contour"
           }
          ],
          "contourcarpet": [
           {
            "colorbar": {
             "outlinewidth": 0,
             "ticks": ""
            },
            "type": "contourcarpet"
           }
          ],
          "heatmap": [
           {
            "colorbar": {
             "outlinewidth": 0,
             "ticks": ""
            },
            "colorscale": [
             [
              0,
              "#0d0887"
             ],
             [
              0.1111111111111111,
              "#46039f"
             ],
             [
              0.2222222222222222,
              "#7201a8"
             ],
             [
              0.3333333333333333,
              "#9c179e"
             ],
             [
              0.4444444444444444,
              "#bd3786"
             ],
             [
              0.5555555555555556,
              "#d8576b"
             ],
             [
              0.6666666666666666,
              "#ed7953"
             ],
             [
              0.7777777777777778,
              "#fb9f3a"
             ],
             [
              0.8888888888888888,
              "#fdca26"
             ],
             [
              1,
              "#f0f921"
             ]
            ],
            "type": "heatmap"
           }
          ],
          "heatmapgl": [
           {
            "colorbar": {
             "outlinewidth": 0,
             "ticks": ""
            },
            "colorscale": [
             [
              0,
              "#0d0887"
             ],
             [
              0.1111111111111111,
              "#46039f"
             ],
             [
              0.2222222222222222,
              "#7201a8"
             ],
             [
              0.3333333333333333,
              "#9c179e"
             ],
             [
              0.4444444444444444,
              "#bd3786"
             ],
             [
              0.5555555555555556,
              "#d8576b"
             ],
             [
              0.6666666666666666,
              "#ed7953"
             ],
             [
              0.7777777777777778,
              "#fb9f3a"
             ],
             [
              0.8888888888888888,
              "#fdca26"
             ],
             [
              1,
              "#f0f921"
             ]
            ],
            "type": "heatmapgl"
           }
          ],
          "histogram": [
           {
            "marker": {
             "colorbar": {
              "outlinewidth": 0,
              "ticks": ""
             }
            },
            "type": "histogram"
           }
          ],
          "histogram2d": [
           {
            "colorbar": {
             "outlinewidth": 0,
             "ticks": ""
            },
            "colorscale": [
             [
              0,
              "#0d0887"
             ],
             [
              0.1111111111111111,
              "#46039f"
             ],
             [
              0.2222222222222222,
              "#7201a8"
             ],
             [
              0.3333333333333333,
              "#9c179e"
             ],
             [
              0.4444444444444444,
              "#bd3786"
             ],
             [
              0.5555555555555556,
              "#d8576b"
             ],
             [
              0.6666666666666666,
              "#ed7953"
             ],
             [
              0.7777777777777778,
              "#fb9f3a"
             ],
             [
              0.8888888888888888,
              "#fdca26"
             ],
             [
              1,
              "#f0f921"
             ]
            ],
            "type": "histogram2d"
           }
          ],
          "histogram2dcontour": [
           {
            "colorbar": {
             "outlinewidth": 0,
             "ticks": ""
            },
            "colorscale": [
             [
              0,
              "#0d0887"
             ],
             [
              0.1111111111111111,
              "#46039f"
             ],
             [
              0.2222222222222222,
              "#7201a8"
             ],
             [
              0.3333333333333333,
              "#9c179e"
             ],
             [
              0.4444444444444444,
              "#bd3786"
             ],
             [
              0.5555555555555556,
              "#d8576b"
             ],
             [
              0.6666666666666666,
              "#ed7953"
             ],
             [
              0.7777777777777778,
              "#fb9f3a"
             ],
             [
              0.8888888888888888,
              "#fdca26"
             ],
             [
              1,
              "#f0f921"
             ]
            ],
            "type": "histogram2dcontour"
           }
          ],
          "mesh3d": [
           {
            "colorbar": {
             "outlinewidth": 0,
             "ticks": ""
            },
            "type": "mesh3d"
           }
          ],
          "parcoords": [
           {
            "line": {
             "colorbar": {
              "outlinewidth": 0,
              "ticks": ""
             }
            },
            "type": "parcoords"
           }
          ],
          "pie": [
           {
            "automargin": true,
            "type": "pie"
           }
          ],
          "scatter": [
           {
            "marker": {
             "colorbar": {
              "outlinewidth": 0,
              "ticks": ""
             }
            },
            "type": "scatter"
           }
          ],
          "scatter3d": [
           {
            "line": {
             "colorbar": {
              "outlinewidth": 0,
              "ticks": ""
             }
            },
            "marker": {
             "colorbar": {
              "outlinewidth": 0,
              "ticks": ""
             }
            },
            "type": "scatter3d"
           }
          ],
          "scattercarpet": [
           {
            "marker": {
             "colorbar": {
              "outlinewidth": 0,
              "ticks": ""
             }
            },
            "type": "scattercarpet"
           }
          ],
          "scattergeo": [
           {
            "marker": {
             "colorbar": {
              "outlinewidth": 0,
              "ticks": ""
             }
            },
            "type": "scattergeo"
           }
          ],
          "scattergl": [
           {
            "marker": {
             "colorbar": {
              "outlinewidth": 0,
              "ticks": ""
             }
            },
            "type": "scattergl"
           }
          ],
          "scattermapbox": [
           {
            "marker": {
             "colorbar": {
              "outlinewidth": 0,
              "ticks": ""
             }
            },
            "type": "scattermapbox"
           }
          ],
          "scatterpolar": [
           {
            "marker": {
             "colorbar": {
              "outlinewidth": 0,
              "ticks": ""
             }
            },
            "type": "scatterpolar"
           }
          ],
          "scatterpolargl": [
           {
            "marker": {
             "colorbar": {
              "outlinewidth": 0,
              "ticks": ""
             }
            },
            "type": "scatterpolargl"
           }
          ],
          "scatterternary": [
           {
            "marker": {
             "colorbar": {
              "outlinewidth": 0,
              "ticks": ""
             }
            },
            "type": "scatterternary"
           }
          ],
          "surface": [
           {
            "colorbar": {
             "outlinewidth": 0,
             "ticks": ""
            },
            "colorscale": [
             [
              0,
              "#0d0887"
             ],
             [
              0.1111111111111111,
              "#46039f"
             ],
             [
              0.2222222222222222,
              "#7201a8"
             ],
             [
              0.3333333333333333,
              "#9c179e"
             ],
             [
              0.4444444444444444,
              "#bd3786"
             ],
             [
              0.5555555555555556,
              "#d8576b"
             ],
             [
              0.6666666666666666,
              "#ed7953"
             ],
             [
              0.7777777777777778,
              "#fb9f3a"
             ],
             [
              0.8888888888888888,
              "#fdca26"
             ],
             [
              1,
              "#f0f921"
             ]
            ],
            "type": "surface"
           }
          ],
          "table": [
           {
            "cells": {
             "fill": {
              "color": "#EBF0F8"
             },
             "line": {
              "color": "white"
             }
            },
            "header": {
             "fill": {
              "color": "#C8D4E3"
             },
             "line": {
              "color": "white"
             }
            },
            "type": "table"
           }
          ]
         },
         "layout": {
          "annotationdefaults": {
           "arrowcolor": "#2a3f5f",
           "arrowhead": 0,
           "arrowwidth": 1
          },
          "coloraxis": {
           "colorbar": {
            "outlinewidth": 0,
            "ticks": ""
           }
          },
          "colorscale": {
           "diverging": [
            [
             0,
             "#8e0152"
            ],
            [
             0.1,
             "#c51b7d"
            ],
            [
             0.2,
             "#de77ae"
            ],
            [
             0.3,
             "#f1b6da"
            ],
            [
             0.4,
             "#fde0ef"
            ],
            [
             0.5,
             "#f7f7f7"
            ],
            [
             0.6,
             "#e6f5d0"
            ],
            [
             0.7,
             "#b8e186"
            ],
            [
             0.8,
             "#7fbc41"
            ],
            [
             0.9,
             "#4d9221"
            ],
            [
             1,
             "#276419"
            ]
           ],
           "sequential": [
            [
             0,
             "#0d0887"
            ],
            [
             0.1111111111111111,
             "#46039f"
            ],
            [
             0.2222222222222222,
             "#7201a8"
            ],
            [
             0.3333333333333333,
             "#9c179e"
            ],
            [
             0.4444444444444444,
             "#bd3786"
            ],
            [
             0.5555555555555556,
             "#d8576b"
            ],
            [
             0.6666666666666666,
             "#ed7953"
            ],
            [
             0.7777777777777778,
             "#fb9f3a"
            ],
            [
             0.8888888888888888,
             "#fdca26"
            ],
            [
             1,
             "#f0f921"
            ]
           ],
           "sequentialminus": [
            [
             0,
             "#0d0887"
            ],
            [
             0.1111111111111111,
             "#46039f"
            ],
            [
             0.2222222222222222,
             "#7201a8"
            ],
            [
             0.3333333333333333,
             "#9c179e"
            ],
            [
             0.4444444444444444,
             "#bd3786"
            ],
            [
             0.5555555555555556,
             "#d8576b"
            ],
            [
             0.6666666666666666,
             "#ed7953"
            ],
            [
             0.7777777777777778,
             "#fb9f3a"
            ],
            [
             0.8888888888888888,
             "#fdca26"
            ],
            [
             1,
             "#f0f921"
            ]
           ]
          },
          "colorway": [
           "#636efa",
           "#EF553B",
           "#00cc96",
           "#ab63fa",
           "#FFA15A",
           "#19d3f3",
           "#FF6692",
           "#B6E880",
           "#FF97FF",
           "#FECB52"
          ],
          "font": {
           "color": "#2a3f5f"
          },
          "geo": {
           "bgcolor": "white",
           "lakecolor": "white",
           "landcolor": "#E5ECF6",
           "showlakes": true,
           "showland": true,
           "subunitcolor": "white"
          },
          "hoverlabel": {
           "align": "left"
          },
          "hovermode": "closest",
          "mapbox": {
           "style": "light"
          },
          "paper_bgcolor": "white",
          "plot_bgcolor": "#E5ECF6",
          "polar": {
           "angularaxis": {
            "gridcolor": "white",
            "linecolor": "white",
            "ticks": ""
           },
           "bgcolor": "#E5ECF6",
           "radialaxis": {
            "gridcolor": "white",
            "linecolor": "white",
            "ticks": ""
           }
          },
          "scene": {
           "xaxis": {
            "backgroundcolor": "#E5ECF6",
            "gridcolor": "white",
            "gridwidth": 2,
            "linecolor": "white",
            "showbackground": true,
            "ticks": "",
            "zerolinecolor": "white"
           },
           "yaxis": {
            "backgroundcolor": "#E5ECF6",
            "gridcolor": "white",
            "gridwidth": 2,
            "linecolor": "white",
            "showbackground": true,
            "ticks": "",
            "zerolinecolor": "white"
           },
           "zaxis": {
            "backgroundcolor": "#E5ECF6",
            "gridcolor": "white",
            "gridwidth": 2,
            "linecolor": "white",
            "showbackground": true,
            "ticks": "",
            "zerolinecolor": "white"
           }
          },
          "shapedefaults": {
           "line": {
            "color": "#2a3f5f"
           }
          },
          "ternary": {
           "aaxis": {
            "gridcolor": "white",
            "linecolor": "white",
            "ticks": ""
           },
           "baxis": {
            "gridcolor": "white",
            "linecolor": "white",
            "ticks": ""
           },
           "bgcolor": "#E5ECF6",
           "caxis": {
            "gridcolor": "white",
            "linecolor": "white",
            "ticks": ""
           }
          },
          "title": {
           "x": 0.05
          },
          "xaxis": {
           "automargin": true,
           "gridcolor": "white",
           "linecolor": "white",
           "ticks": "",
           "title": {
            "standoff": 15
           },
           "zerolinecolor": "white",
           "zerolinewidth": 2
          },
          "yaxis": {
           "automargin": true,
           "gridcolor": "white",
           "linecolor": "white",
           "ticks": "",
           "title": {
            "standoff": 15
           },
           "zerolinecolor": "white",
           "zerolinewidth": 2
          }
         }
        },
        "title": {
         "text": "Degree vs Utility transfers (Comparison)"
        },
        "xaxis": {
         "title": {
          "text": "degree"
         }
        },
        "yaxis": {
         "title": {
          "text": "utility transfered"
         }
        }
       }
      },
      "text/html": [
       "<div>\n",
       "        \n",
       "        \n",
       "            <div id=\"2ec7b722-6ffc-42f9-b302-be52df43e4aa\" class=\"plotly-graph-div\" style=\"height:525px; width:100%;\"></div>\n",
       "            <script type=\"text/javascript\">\n",
       "                require([\"plotly\"], function(Plotly) {\n",
       "                    window.PLOTLYENV=window.PLOTLYENV || {};\n",
       "                    \n",
       "                if (document.getElementById(\"2ec7b722-6ffc-42f9-b302-be52df43e4aa\")) {\n",
       "                    Plotly.newPlot(\n",
       "                        '2ec7b722-6ffc-42f9-b302-be52df43e4aa',\n",
       "                        [{\"error_y\": {\"array\": [0.02583900063044465, 0.22698967692182684, 0.07741436595482465, 0.052368028374085517, 0.23193078089210253, 0.2222222222222222, 0.10417688363613209], \"type\": \"data\", \"visible\": true}, \"hoverinfo\": \"skip\", \"marker\": {\"color\": \"rgb(31, 119, 180)\"}, \"mode\": \"lines+markers\", \"name\": \"In transfers (r=16 strat=mwu)\", \"type\": \"scatter\", \"x\": [2, 3, 4, 5, 6, 7, 8], \"y\": [0.611111111111111, 0.4734920634920634, 0.5067929464759787, 0.4981370169616047, 0.5377152477152476, 0.4920634920634921, 0.5555555555555556]}, {\"hoverinfo\": \"skip\", \"marker\": {\"color\": \"rgb(31, 119, 180)\"}, \"mode\": \"markers\", \"name\": \"In transfers per iter (r=16 strat=mwu)\", \"opacity\": 0.3, \"type\": \"scatter\", \"x\": [4, 4, 4, 4, 4, 4, 4, 4, 4, 4, 7, 7, 7, 7, 7, 7, 7, 3, 3, 3, 3, 3, 3, 3, 3, 3, 3, 5, 5, 5, 5, 5, 5, 5, 5, 5, 5, 2, 2, 2, 2, 2, 2, 2, 8, 8, 6, 6, 6, 6, 6, 6, 6, 6, 6, 6], \"y\": [0.5523809523809523, 0.4732510288065844, 0.5046296296296297, 0.5211640211640212, 0.4750957854406129, 0.47826086956521746, 0.503267973856209, 0.5034722222222222, 0.5440613026819924, 0.5123456790123455, 0.4444444444444445, 0.7222222222222223, 0.33333333333333337, 0.8888888888888888, 0.5555555555555556, 0.27777777777777785, 0.2222222222222222, 0.33333333333333337, 0.4333333333333333, 0.494949494949495, 0.4722222222222222, 0.5555555555555555, 0.4166666666666667, 0.6262626262626262, 0.4444444444444445, 0.5238095238095236, 0.43434343434343425, 0.4603174603174603, 0.4977777777777779, 0.5427350427350427, 0.5166666666666667, 0.49999999999999994, 0.48659003831417624, 0.391304347826087, 0.5992063492063491, 0.523809523809524, 0.462962962962963, 0.33333333333333326, 1.0, 0.7777777777777778, 0.4444444444444444, 0.33333333333333326, 0.6666666666666667, 0.7222222222222222, 0.7777777777777778, 0.33333333333333337, 0.4444444444444445, 0.5353535353535354, 0.5714285714285714, 0.5777777777777777, 0.603174603174603, 0.5370370370370371, 0.7777777777777777, 0.3777777777777778, 0.5079365079365079, 0.4444444444444445]}, {\"error_y\": {\"array\": [0.05714895990808713, 0.4576605357846204, 0.08908947156958973, 0.08788053241523971, 0.35763282087624626, 0.18852616526815338, 0.05555555555555558], \"type\": \"data\", \"visible\": true}, \"hoverinfo\": \"skip\", \"marker\": {\"color\": \"rgb(255, 127, 14)\"}, \"mode\": \"lines+markers\", \"name\": \"Out transfers (r=16 strat=mwu)\", \"type\": \"scatter\", \"x\": [2, 3, 4, 5, 6, 7, 8], \"y\": [0.3555555555555555, 0.2934520384442985, 0.35678518228003797, 0.3638593192548568, 0.5039373897707231, 0.779835390946502, 0.16666666666666674]}, {\"hoverinfo\": \"skip\", \"marker\": {\"color\": \"rgb(255, 127, 14)\"}, \"mode\": \"markers\", \"name\": \"Out transfers per iter (r=16 strat=mwu)\", \"opacity\": 0.3, \"type\": \"scatter\", \"x\": [4, 4, 4, 4, 4, 4, 4, 4, 4, 4, 7, 7, 7, 7, 7, 7, 7, 7, 7, 3, 3, 3, 3, 3, 3, 3, 3, 3, 3, 5, 5, 5, 5, 5, 5, 5, 5, 5, 5, 2, 2, 2, 2, 2, 2, 2, 2, 2, 2, 6, 6, 6, 6, 6, 6, 6, 6, 6, 6, 8, 8], \"y\": [0.32575757575757575, 0.45045045045045046, 0.36666666666666664, 0.42265795206971674, 0.35933806146572106, 0.4045584045584046, 0.3537414965986395, 0.2573099415204678, 0.3495934959349593, 0.27777777777777773, 0.0, 0.8888888888888888, 1.4444444444444446, 0.8518518518518517, 1.0, 0.8888888888888891, 0.7777777777777777, 1.1666666666666665, 0.0, 0.29629629629629634, 0.28888888888888886, 0.304093567251462, 0.19191919191919188, 0.18055555555555555, 0.17647058823529413, 0.40740740740740744, 0.462962962962963, 0.3148148148148148, 0.3111111111111111, 0.45299145299145305, 0.38047138047138046, 0.3555555555555555, 0.3076923076923077, 0.30303030303030304, 0.24836601307189538, 0.2796934865900383, 0.4575163398692811, 0.31481481481481477, 0.5384615384615384, 0.0, 0.0, 0.4444444444444444, 1.1111111111111112, 0.5555555555555555, 0.0, 0.2222222222222222, 0.0, 0.5555555555555556, 0.6666666666666666, 0.6666666666666667, 0.212962962962963, 0.3950617283950617, 0.5277777777777778, 0.375, 0.634920634920635, 0.5555555555555557, 0.6984126984126985, 0.7666666666666666, 0.20634920634920637, 0.22222222222222232, 0.11111111111111116]}, {\"error_y\": {\"array\": [0.038685680567917234, 0.11911633035694004, 0.04995506532625165, 0.07204452406693475, 0.29860213882587217, 0.21994295969128597, 0.0], \"type\": \"data\", \"visible\": true}, \"hoverinfo\": \"skip\", \"marker\": {\"color\": \"rgb(44, 160, 44)\"}, \"mode\": \"lines+markers\", \"name\": \"In transfers (r=16 strat=se_mwu)\", \"type\": \"scatter\", \"x\": [3, 4, 5, 6, 7, 8, 9], \"y\": [0.5185185185185185, 0.4784893501560169, 0.5144864275298294, 0.4868279564133843, 0.5381569664902999, 0.5052910052910052, 0.33333333333333337]}, {\"hoverinfo\": \"skip\", \"marker\": {\"color\": \"rgb(44, 160, 44)\"}, \"mode\": \"markers\", \"name\": \"In transfers per iter (r=16 strat=se_mwu)\", \"opacity\": 0.3, \"type\": \"scatter\", \"x\": [5, 5, 5, 5, 5, 5, 5, 5, 5, 5, 7, 7, 7, 7, 7, 7, 7, 7, 7, 7, 6, 6, 6, 6, 6, 6, 6, 6, 6, 6, 4, 4, 4, 4, 4, 4, 4, 4, 4, 4, 3, 3, 3, 3, 3, 3, 8, 8, 8, 8, 8, 8, 8, 9], \"y\": [0.5259259259259259, 0.5185185185185185, 0.5231481481481483, 0.46846846846846846, 0.5627240143369175, 0.5072463768115941, 0.4478114478114478, 0.5694444444444444, 0.5478927203065134, 0.4736842105263159, 0.4166666666666667, 0.6777777777777778, 0.5555555555555556, 0.5555555555555555, 0.4920634920634921, 0.6296296296296297, 0.7777777777777777, 0.4000000000000001, 0.4320987654320988, 0.4444444444444445, 0.4202898550724638, 0.511904761904762, 0.5674603174603176, 0.5228758169934641, 0.4920634920634921, 0.43295019157088116, 0.4537037037037037, 0.54320987654321, 0.5046296296296297, 0.4191919191919192, 0.4722222222222222, 0.5238095238095238, 0.3425925925925926, 0.4305555555555555, 0.5777777777777778, 0.4555555555555556, 0.5972222222222222, 0.41269841269841273, 0.4786324786324786, 0.4938271604938272, 0.33333333333333326, 1.0, 0.7777777777777778, 0.11111111111111116, 0.33333333333333326, 0.5555555555555556, 0.5, 0.7222222222222223, 0.2592592592592593, 0.8888888888888888, 0.5555555555555556, 0.27777777777777785, 0.33333333333333337, 0.33333333333333337]}, {\"error_y\": {\"array\": [0.04385458654714296, 0.18338284679195727, 0.06326933182741501, 0.07490444514464391, 0.13252067157640626, 0.2777777777777778, 0.4870679393723177], \"type\": \"data\", \"visible\": true}, \"hoverinfo\": \"skip\", \"marker\": {\"color\": \"rgb(214, 39, 40)\"}, \"mode\": \"lines+markers\", \"name\": \"Out transfers (r=16 strat=se_mwu)\", \"type\": \"scatter\", \"x\": [2, 3, 4, 5, 6, 7, 8], \"y\": [0.05, 0.23574158336026244, 0.3163973554877102, 0.39764248954411224, 0.5684038800705468, 0.654320987654321, 0.2777777777777778]}, {\"hoverinfo\": \"skip\", \"marker\": {\"color\": \"rgb(214, 39, 40)\"}, \"mode\": \"markers\", \"name\": \"Out transfers per iter (r=16 strat=se_mwu)\", \"opacity\": 0.3, \"type\": \"scatter\", \"x\": [4, 4, 4, 4, 4, 4, 4, 4, 4, 4, 6, 6, 6, 6, 6, 6, 6, 6, 6, 6, 5, 5, 5, 5, 5, 5, 5, 5, 5, 5, 3, 3, 3, 3, 3, 3, 3, 3, 3, 3, 2, 2, 2, 2, 2, 2, 2, 2, 2, 2, 8, 8, 7, 7, 7, 7, 7, 7, 7, 7, 7], \"y\": [0.303030303030303, 0.3933933933933934, 0.274074074074074, 0.31372549019607837, 0.2718676122931442, 0.40170940170940167, 0.31292517006802717, 0.27485380116959063, 0.31978319783197834, 0.2986111111111111, 0.4555555555555556, 0.5185185185185185, 0.4197530864197531, 0.7361111111111112, 0.5138888888888888, 0.19047619047619047, 0.5925925925925926, 0.6349206349206351, 0.8444444444444444, 0.7777777777777778, 0.3675213675213675, 0.4006734006734006, 0.4916666666666667, 0.29059829059829057, 0.5084175084175084, 0.3464052287581699, 0.3831417624521073, 0.3464052287581699, 0.4185185185185185, 0.423076923076923, 0.3259259259259259, 0.2814814814814815, 0.2631578947368421, 0.13131313131313133, 0.1527777777777778, 0.18300653594771243, 0.14814814814814817, 0.345679012345679, 0.2222222222222222, 0.3037037037037037, 0.0, 0.0, 0.0, 0.4444444444444444, 0.0, 0.0, 0.05555555555555558, 0.0, 0.0, 0.0, 0.0, 0.5555555555555556, 0.5185185185185186, 0.7222222222222223, 1.6666666666666667, 0.8148148148148149, 0.0, 0.6666666666666667, 1.0555555555555556, 0.4444444444444444, 0.0]}, {\"error_y\": {\"array\": [0.12660106445748753, 0.02853876732909562, 0.09596098175939212, 0.047592634609385426, 0.0, 0.3016018050907839, 0.18859298328700116], \"type\": \"data\", \"visible\": true}, \"hoverinfo\": \"skip\", \"marker\": {\"color\": \"rgb(148, 103, 189)\"}, \"mode\": \"lines+markers\", \"name\": \"In transfers (r=16 strat=unif)\", \"type\": \"scatter\", \"x\": [2, 3, 4, 5, 6, 7, 8], \"y\": [0.5092592592592592, 0.459313772647106, 0.4896093421099142, 0.49624637673990196, 0.5056926406926407, 0.4814814814814815, 0.7777777777777778]}, {\"hoverinfo\": \"skip\", \"marker\": {\"color\": \"rgb(148, 103, 189)\"}, \"mode\": \"markers\", \"name\": \"In transfers per iter (r=16 strat=unif)\", \"opacity\": 0.3, \"type\": \"scatter\", \"x\": [6, 6, 6, 6, 6, 6, 6, 6, 6, 6, 4, 4, 4, 4, 4, 4, 4, 4, 4, 4, 3, 3, 3, 3, 3, 3, 3, 3, 3, 3, 5, 5, 5, 5, 5, 5, 5, 5, 5, 5, 8, 2, 2, 2, 2, 2, 2, 7, 7, 7, 7, 7, 7, 7], \"y\": [0.375, 0.5656565656565657, 0.48611111111111105, 0.4444444444444445, 0.5714285714285714, 0.49206349206349204, 0.7777777777777777, 0.38888888888888895, 0.6222222222222223, 0.33333333333333337, 0.5158730158730159, 0.4830917874396135, 0.470899470899471, 0.4594594594594595, 0.5069444444444444, 0.48, 0.44781144781144777, 0.5427350427350427, 0.5185185185185185, 0.47076023391812866, 0.43055555555555547, 0.48888888888888893, 0.30303030303030304, 0.47619047619047616, 0.5740740740740741, 0.3580246913580247, 0.6, 0.4027777777777778, 0.5757575757575757, 0.38383838383838387, 0.4232804232804232, 0.5325670498084292, 0.5072463768115942, 0.4970760233918128, 0.5694444444444444, 0.5138888888888888, 0.41666666666666674, 0.5267489711934156, 0.5252525252525253, 0.4502923976608188, 0.7777777777777778, 0.33333333333333326, 1.0, 0.7777777777777778, 0.22222222222222232, 0.16666666666666669, 0.5555555555555556, 0.3703703703703704, 0.5, 0.44444444444444453, 0.8888888888888888, 0.5555555555555556, 0.27777777777777785, 0.33333333333333337]}, {\"error_y\": {\"array\": [0.0619600003095499, 0.11961265160488793, 0.09100512093124555, 0.06635969499928215, 0.05555555555555558, 0.2684163279364366, 0.624674549891262], \"type\": \"data\", \"visible\": true}, \"hoverinfo\": \"skip\", \"marker\": {\"color\": \"rgb(140, 86, 75)\"}, \"mode\": \"lines+markers\", \"name\": \"Out transfers (r=16 strat=unif)\", \"type\": \"scatter\", \"x\": [2, 3, 4, 5, 6, 7, 8], \"y\": [0.22407407407407404, 0.25594440274780833, 0.35247982716950266, 0.32022024084397305, 0.45894620811287473, 0.5905349794238683, 0.05555555555555558]}, {\"hoverinfo\": \"skip\", \"marker\": {\"color\": \"rgb(140, 86, 75)\"}, \"mode\": \"markers\", \"name\": \"Out transfers per iter (r=16 strat=unif)\", \"opacity\": 0.3, \"type\": \"scatter\", \"x\": [4, 4, 4, 4, 4, 4, 4, 4, 4, 4, 6, 6, 6, 6, 6, 6, 6, 6, 6, 6, 3, 3, 3, 3, 3, 3, 3, 3, 3, 3, 5, 5, 5, 5, 5, 5, 5, 5, 5, 5, 8, 8, 2, 2, 2, 2, 2, 2, 2, 2, 2, 2, 7, 7, 7, 7, 7, 7, 7, 7, 7], \"y\": [0.2651515151515152, 0.4984984984984985, 0.2888888888888889, 0.363834422657952, 0.35697399527186763, 0.40740740740740744, 0.31746031746031744, 0.3216374269005848, 0.35772357723577236, 0.34722222222222227, 0.5, 0.4444444444444444, 0.3827160493827161, 0.4305555555555556, 0.3888888888888889, 0.4126984126984126, 0.7777777777777778, 0.47619047619047616, 0.3, 0.4761904761904762, 0.3037037037037037, 0.34074074074074073, 0.2573099415204679, 0.0707070707070707, 0.1527777777777778, 0.21568627450980393, 0.2148148148148148, 0.3950617283950617, 0.3271604938271605, 0.2814814814814815, 0.3803418803418804, 0.2828282828282829, 0.30277777777777776, 0.36752136752136744, 0.42424242424242425, 0.2581699346405229, 0.21455938697318006, 0.29084967320261434, 0.40740740740740744, 0.27350427350427353, 0.11111111111111116, 0.0, 0.0, 0.0, 0.4444444444444444, 0.0, 0.5555555555555555, 0.0, 0.2777777777777778, 0.0, 0.7777777777777778, 0.18518518518518515, 0.25925925925925924, 0.7222222222222223, 0.0, 0.3333333333333333, 2.2222222222222223, 0.11111111111111116, 0.4444444444444444, 0.4444444444444445, 0.7777777777777777]}, {\"error_y\": {\"array\": [0.03632106222648144, 0.08461629732199476, 0.06327615350806104, 0.2777777777777778, 0.2071583233895041, 0.09687835320871298, 0.2812705578836405], \"type\": \"data\", \"visible\": true}, \"hoverinfo\": \"skip\", \"marker\": {\"color\": \"rgb(227, 119, 194)\"}, \"mode\": \"lines+markers\", \"name\": \"In transfers (r=16 strat=rr)\", \"type\": \"scatter\", \"x\": [2, 3, 4, 5, 6, 7, 8], \"y\": [0.5396825396825397, 0.4643880810547477, 0.5036997944698359, 0.5146870062869301, 0.5102020202020202, 0.5030864197530863, 0.5]}, {\"hoverinfo\": \"skip\", \"marker\": {\"color\": \"rgb(227, 119, 194)\"}, \"mode\": \"markers\", \"name\": \"In transfers per iter (r=16 strat=rr)\", \"opacity\": 0.3, \"type\": \"scatter\", \"x\": [4, 4, 4, 4, 4, 4, 4, 4, 4, 4, 3, 3, 3, 3, 3, 3, 3, 3, 3, 3, 5, 5, 5, 5, 5, 5, 5, 5, 5, 5, 8, 8, 7, 7, 7, 7, 7, 7, 6, 6, 6, 6, 6, 6, 6, 6, 6, 6, 2, 2, 2, 2, 2, 2, 2], \"y\": [0.5319865319865319, 0.4589371980676328, 0.47619047619047616, 0.5527777777777778, 0.4738562091503268, 0.4786324786324786, 0.5016835016835016, 0.5733333333333334, 0.5134099616858236, 0.4761904761904761, 0.42857142857142855, 0.39682539682539686, 0.40170940170940167, 0.5555555555555556, 0.47619047619047616, 0.358974358974359, 0.6419753086419753, 0.4259259259259259, 0.4126984126984127, 0.5454545454545454, 0.46913580246913583, 0.5925925925925926, 0.5634920634920635, 0.6023391812865497, 0.4444444444444445, 0.46759259259259256, 0.5291005291005292, 0.5854700854700854, 0.4541062801932366, 0.4385964912280701, 0.7777777777777778, 0.2222222222222222, 0.4444444444444445, 0.6111111111111112, 0.29629629629629634, 0.8888888888888888, 0.49999999999999994, 0.27777777777777785, 0.46296296296296297, 0.6464646464646464, 0.5555555555555555, 0.462962962962963, 0.5185185185185185, 0.5185185185185185, 0.6666666666666665, 0.33333333333333337, 0.5370370370370371, 0.4, 0.33333333333333326, 1.0, 0.7777777777777778, 0.11111111111111116, 0.33333333333333326, 0.5555555555555556, 0.6666666666666666]}, {\"error_y\": {\"array\": [0.07277810523312304, 0.12581155279211345, 0.0587017591402208, 0.23421415327924971, 0.4444444444444444, 0.6936201478833325, 0.2903098954409692], \"type\": \"data\", \"visible\": true}, \"hoverinfo\": \"skip\", \"marker\": {\"color\": \"rgb(127, 127, 127)\"}, \"mode\": \"lines+markers\", \"name\": \"Out transfers (r=16 strat=rr)\", \"type\": \"scatter\", \"x\": [2, 3, 4, 5, 6, 7, 8], \"y\": [0.18148148148148147, 0.3036207882054115, 0.31562397935196024, 0.38728473033239763, 0.49040123456790113, 0.7304526748971193, 0.4444444444444444]}, {\"hoverinfo\": \"skip\", \"marker\": {\"color\": \"rgb(127, 127, 127)\"}, \"mode\": \"markers\", \"name\": \"Out transfers per iter (r=16 strat=rr)\", \"opacity\": 0.3, \"type\": \"scatter\", \"x\": [4, 4, 4, 4, 4, 4, 4, 4, 4, 4, 3, 3, 3, 3, 3, 3, 3, 3, 3, 3, 5, 5, 5, 5, 5, 5, 5, 5, 5, 5, 6, 6, 6, 6, 6, 6, 6, 6, 6, 6, 8, 8, 7, 7, 7, 7, 7, 7, 7, 7, 7, 2, 2, 2, 2, 2, 2, 2, 2, 2, 2], \"y\": [0.24494949494949497, 0.4084084084084084, 0.274074074074074, 0.42919389978213507, 0.2340425531914893, 0.30199430199430194, 0.29024943310657597, 0.22807017543859648, 0.41192411924119243, 0.3333333333333333, 0.474074074074074, 0.29629629629629634, 0.2456140350877193, 0.19191919191919193, 0.09722222222222224, 0.2483660130718955, 0.47407407407407404, 0.462962962962963, 0.19753086419753085, 0.34814814814814815, 0.423076923076923, 0.32996632996632996, 0.39722222222222225, 0.3888888888888889, 0.5117845117845118, 0.3790849673202614, 0.42145593869731796, 0.38888888888888884, 0.27777777777777773, 0.35470085470085466, 0.2111111111111111, 0.5462962962962963, 0.5679012345679012, 0.5833333333333335, 0.29166666666666663, 0.23809523809523808, 0.5925925925925926, 1.0317460317460316, 0.5555555555555556, 0.2857142857142857, 0.0, 0.8888888888888888, 0.8888888888888888, 0.8333333333333333, 2.444444444444444, 0.40740740740740744, 0.5555555555555556, 1.0, 0.0, 0.0, 0.4444444444444444, 0.11111111111111116, 0.0, 0.4444444444444444, 0.0, 0.9444444444444443, 0.0, 0.05555555555555558, 0.0, 0.0, 0.25925925925925924]}],\n",
       "                        {\"plot_bgcolor\": \"rgba(0,0,0,0)\", \"showlegend\": true, \"template\": {\"data\": {\"bar\": [{\"error_x\": {\"color\": \"#2a3f5f\"}, \"error_y\": {\"color\": \"#2a3f5f\"}, \"marker\": {\"line\": {\"color\": \"#E5ECF6\", \"width\": 0.5}}, \"type\": \"bar\"}], \"barpolar\": [{\"marker\": {\"line\": {\"color\": \"#E5ECF6\", \"width\": 0.5}}, \"type\": \"barpolar\"}], \"carpet\": [{\"aaxis\": {\"endlinecolor\": \"#2a3f5f\", \"gridcolor\": \"white\", \"linecolor\": \"white\", \"minorgridcolor\": \"white\", \"startlinecolor\": \"#2a3f5f\"}, \"baxis\": {\"endlinecolor\": \"#2a3f5f\", \"gridcolor\": \"white\", \"linecolor\": \"white\", \"minorgridcolor\": \"white\", \"startlinecolor\": \"#2a3f5f\"}, \"type\": \"carpet\"}], \"choropleth\": [{\"colorbar\": {\"outlinewidth\": 0, \"ticks\": \"\"}, \"type\": \"choropleth\"}], \"contour\": [{\"colorbar\": {\"outlinewidth\": 0, \"ticks\": \"\"}, \"colorscale\": [[0.0, \"#0d0887\"], [0.1111111111111111, \"#46039f\"], [0.2222222222222222, \"#7201a8\"], [0.3333333333333333, \"#9c179e\"], [0.4444444444444444, \"#bd3786\"], [0.5555555555555556, \"#d8576b\"], [0.6666666666666666, \"#ed7953\"], [0.7777777777777778, \"#fb9f3a\"], [0.8888888888888888, \"#fdca26\"], [1.0, \"#f0f921\"]], \"type\": \"contour\"}], \"contourcarpet\": [{\"colorbar\": {\"outlinewidth\": 0, \"ticks\": \"\"}, \"type\": \"contourcarpet\"}], \"heatmap\": [{\"colorbar\": {\"outlinewidth\": 0, \"ticks\": \"\"}, \"colorscale\": [[0.0, \"#0d0887\"], [0.1111111111111111, \"#46039f\"], [0.2222222222222222, \"#7201a8\"], [0.3333333333333333, \"#9c179e\"], [0.4444444444444444, \"#bd3786\"], [0.5555555555555556, \"#d8576b\"], [0.6666666666666666, \"#ed7953\"], [0.7777777777777778, \"#fb9f3a\"], [0.8888888888888888, \"#fdca26\"], [1.0, \"#f0f921\"]], \"type\": \"heatmap\"}], \"heatmapgl\": [{\"colorbar\": {\"outlinewidth\": 0, \"ticks\": \"\"}, \"colorscale\": [[0.0, \"#0d0887\"], [0.1111111111111111, \"#46039f\"], [0.2222222222222222, \"#7201a8\"], [0.3333333333333333, \"#9c179e\"], [0.4444444444444444, \"#bd3786\"], [0.5555555555555556, \"#d8576b\"], [0.6666666666666666, \"#ed7953\"], [0.7777777777777778, \"#fb9f3a\"], [0.8888888888888888, \"#fdca26\"], [1.0, \"#f0f921\"]], \"type\": \"heatmapgl\"}], \"histogram\": [{\"marker\": {\"colorbar\": {\"outlinewidth\": 0, \"ticks\": \"\"}}, \"type\": \"histogram\"}], \"histogram2d\": [{\"colorbar\": {\"outlinewidth\": 0, \"ticks\": \"\"}, \"colorscale\": [[0.0, \"#0d0887\"], [0.1111111111111111, \"#46039f\"], [0.2222222222222222, \"#7201a8\"], [0.3333333333333333, \"#9c179e\"], [0.4444444444444444, \"#bd3786\"], [0.5555555555555556, \"#d8576b\"], [0.6666666666666666, \"#ed7953\"], [0.7777777777777778, \"#fb9f3a\"], [0.8888888888888888, \"#fdca26\"], [1.0, \"#f0f921\"]], \"type\": \"histogram2d\"}], \"histogram2dcontour\": [{\"colorbar\": {\"outlinewidth\": 0, \"ticks\": \"\"}, \"colorscale\": [[0.0, \"#0d0887\"], [0.1111111111111111, \"#46039f\"], [0.2222222222222222, \"#7201a8\"], [0.3333333333333333, \"#9c179e\"], [0.4444444444444444, \"#bd3786\"], [0.5555555555555556, \"#d8576b\"], [0.6666666666666666, \"#ed7953\"], [0.7777777777777778, \"#fb9f3a\"], [0.8888888888888888, \"#fdca26\"], [1.0, \"#f0f921\"]], \"type\": \"histogram2dcontour\"}], \"mesh3d\": [{\"colorbar\": {\"outlinewidth\": 0, \"ticks\": \"\"}, \"type\": \"mesh3d\"}], \"parcoords\": [{\"line\": {\"colorbar\": {\"outlinewidth\": 0, \"ticks\": \"\"}}, \"type\": \"parcoords\"}], \"pie\": [{\"automargin\": true, \"type\": \"pie\"}], \"scatter\": [{\"marker\": {\"colorbar\": {\"outlinewidth\": 0, \"ticks\": \"\"}}, \"type\": \"scatter\"}], \"scatter3d\": [{\"line\": {\"colorbar\": {\"outlinewidth\": 0, \"ticks\": \"\"}}, \"marker\": {\"colorbar\": {\"outlinewidth\": 0, \"ticks\": \"\"}}, \"type\": \"scatter3d\"}], \"scattercarpet\": [{\"marker\": {\"colorbar\": {\"outlinewidth\": 0, \"ticks\": \"\"}}, \"type\": \"scattercarpet\"}], \"scattergeo\": [{\"marker\": {\"colorbar\": {\"outlinewidth\": 0, \"ticks\": \"\"}}, \"type\": \"scattergeo\"}], \"scattergl\": [{\"marker\": {\"colorbar\": {\"outlinewidth\": 0, \"ticks\": \"\"}}, \"type\": \"scattergl\"}], \"scattermapbox\": [{\"marker\": {\"colorbar\": {\"outlinewidth\": 0, \"ticks\": \"\"}}, \"type\": \"scattermapbox\"}], \"scatterpolar\": [{\"marker\": {\"colorbar\": {\"outlinewidth\": 0, \"ticks\": \"\"}}, \"type\": \"scatterpolar\"}], \"scatterpolargl\": [{\"marker\": {\"colorbar\": {\"outlinewidth\": 0, \"ticks\": \"\"}}, \"type\": \"scatterpolargl\"}], \"scatterternary\": [{\"marker\": {\"colorbar\": {\"outlinewidth\": 0, \"ticks\": \"\"}}, \"type\": \"scatterternary\"}], \"surface\": [{\"colorbar\": {\"outlinewidth\": 0, \"ticks\": \"\"}, \"colorscale\": [[0.0, \"#0d0887\"], [0.1111111111111111, \"#46039f\"], [0.2222222222222222, \"#7201a8\"], [0.3333333333333333, \"#9c179e\"], [0.4444444444444444, \"#bd3786\"], [0.5555555555555556, \"#d8576b\"], [0.6666666666666666, \"#ed7953\"], [0.7777777777777778, \"#fb9f3a\"], [0.8888888888888888, \"#fdca26\"], [1.0, \"#f0f921\"]], \"type\": \"surface\"}], \"table\": [{\"cells\": {\"fill\": {\"color\": \"#EBF0F8\"}, \"line\": {\"color\": \"white\"}}, \"header\": {\"fill\": {\"color\": \"#C8D4E3\"}, \"line\": {\"color\": \"white\"}}, \"type\": \"table\"}]}, \"layout\": {\"annotationdefaults\": {\"arrowcolor\": \"#2a3f5f\", \"arrowhead\": 0, \"arrowwidth\": 1}, \"coloraxis\": {\"colorbar\": {\"outlinewidth\": 0, \"ticks\": \"\"}}, \"colorscale\": {\"diverging\": [[0, \"#8e0152\"], [0.1, \"#c51b7d\"], [0.2, \"#de77ae\"], [0.3, \"#f1b6da\"], [0.4, \"#fde0ef\"], [0.5, \"#f7f7f7\"], [0.6, \"#e6f5d0\"], [0.7, \"#b8e186\"], [0.8, \"#7fbc41\"], [0.9, \"#4d9221\"], [1, \"#276419\"]], \"sequential\": [[0.0, \"#0d0887\"], [0.1111111111111111, \"#46039f\"], [0.2222222222222222, \"#7201a8\"], [0.3333333333333333, \"#9c179e\"], [0.4444444444444444, \"#bd3786\"], [0.5555555555555556, \"#d8576b\"], [0.6666666666666666, \"#ed7953\"], [0.7777777777777778, \"#fb9f3a\"], [0.8888888888888888, \"#fdca26\"], [1.0, \"#f0f921\"]], \"sequentialminus\": [[0.0, \"#0d0887\"], [0.1111111111111111, \"#46039f\"], [0.2222222222222222, \"#7201a8\"], [0.3333333333333333, \"#9c179e\"], [0.4444444444444444, \"#bd3786\"], [0.5555555555555556, \"#d8576b\"], [0.6666666666666666, \"#ed7953\"], [0.7777777777777778, \"#fb9f3a\"], [0.8888888888888888, \"#fdca26\"], [1.0, \"#f0f921\"]]}, \"colorway\": [\"#636efa\", \"#EF553B\", \"#00cc96\", \"#ab63fa\", \"#FFA15A\", \"#19d3f3\", \"#FF6692\", \"#B6E880\", \"#FF97FF\", \"#FECB52\"], \"font\": {\"color\": \"#2a3f5f\"}, \"geo\": {\"bgcolor\": \"white\", \"lakecolor\": \"white\", \"landcolor\": \"#E5ECF6\", \"showlakes\": true, \"showland\": true, \"subunitcolor\": \"white\"}, \"hoverlabel\": {\"align\": \"left\"}, \"hovermode\": \"closest\", \"mapbox\": {\"style\": \"light\"}, \"paper_bgcolor\": \"white\", \"plot_bgcolor\": \"#E5ECF6\", \"polar\": {\"angularaxis\": {\"gridcolor\": \"white\", \"linecolor\": \"white\", \"ticks\": \"\"}, \"bgcolor\": \"#E5ECF6\", \"radialaxis\": {\"gridcolor\": \"white\", \"linecolor\": \"white\", \"ticks\": \"\"}}, \"scene\": {\"xaxis\": {\"backgroundcolor\": \"#E5ECF6\", \"gridcolor\": \"white\", \"gridwidth\": 2, \"linecolor\": \"white\", \"showbackground\": true, \"ticks\": \"\", \"zerolinecolor\": \"white\"}, \"yaxis\": {\"backgroundcolor\": \"#E5ECF6\", \"gridcolor\": \"white\", \"gridwidth\": 2, \"linecolor\": \"white\", \"showbackground\": true, \"ticks\": \"\", \"zerolinecolor\": \"white\"}, \"zaxis\": {\"backgroundcolor\": \"#E5ECF6\", \"gridcolor\": \"white\", \"gridwidth\": 2, \"linecolor\": \"white\", \"showbackground\": true, \"ticks\": \"\", \"zerolinecolor\": \"white\"}}, \"shapedefaults\": {\"line\": {\"color\": \"#2a3f5f\"}}, \"ternary\": {\"aaxis\": {\"gridcolor\": \"white\", \"linecolor\": \"white\", \"ticks\": \"\"}, \"baxis\": {\"gridcolor\": \"white\", \"linecolor\": \"white\", \"ticks\": \"\"}, \"bgcolor\": \"#E5ECF6\", \"caxis\": {\"gridcolor\": \"white\", \"linecolor\": \"white\", \"ticks\": \"\"}}, \"title\": {\"x\": 0.05}, \"xaxis\": {\"automargin\": true, \"gridcolor\": \"white\", \"linecolor\": \"white\", \"ticks\": \"\", \"title\": {\"standoff\": 15}, \"zerolinecolor\": \"white\", \"zerolinewidth\": 2}, \"yaxis\": {\"automargin\": true, \"gridcolor\": \"white\", \"linecolor\": \"white\", \"ticks\": \"\", \"title\": {\"standoff\": 15}, \"zerolinecolor\": \"white\", \"zerolinewidth\": 2}}}, \"title\": {\"text\": \"Degree vs Utility transfers (Comparison)\"}, \"xaxis\": {\"title\": {\"text\": \"degree\"}}, \"yaxis\": {\"title\": {\"text\": \"utility transfered\"}}},\n",
       "                        {\"responsive\": true}\n",
       "                    ).then(function(){\n",
       "                            \n",
       "var gd = document.getElementById('2ec7b722-6ffc-42f9-b302-be52df43e4aa');\n",
       "var x = new MutationObserver(function (mutations, observer) {{\n",
       "        var display = window.getComputedStyle(gd).display;\n",
       "        if (!display || display === 'none') {{\n",
       "            console.log([gd, 'removed!']);\n",
       "            Plotly.purge(gd);\n",
       "            observer.disconnect();\n",
       "        }}\n",
       "}});\n",
       "\n",
       "// Listen for the removal of the full notebook cells\n",
       "var notebookContainer = gd.closest('#notebook-container');\n",
       "if (notebookContainer) {{\n",
       "    x.observe(notebookContainer, {childList: true});\n",
       "}}\n",
       "\n",
       "// Listen for the clearing of the current output cell\n",
       "var outputEl = gd.closest('.output');\n",
       "if (outputEl) {{\n",
       "    x.observe(outputEl, {childList: true});\n",
       "}}\n",
       "\n",
       "                        })\n",
       "                };\n",
       "                });\n",
       "            </script>\n",
       "        </div>"
      ]
     },
     "metadata": {},
     "output_type": "display_data"
    }
   ],
   "source": [
    "vis = StrategyVis(kgrid_data, kgrid_plaw_data)"
   ]
  },
  {
   "cell_type": "code",
   "execution_count": null,
   "metadata": {
    "scrolled": true
   },
   "outputs": [],
   "source": []
  }
 ],
 "metadata": {
  "kernelspec": {
   "display_name": "Python 3",
   "language": "python",
   "name": "python3"
  },
  "language_info": {
   "codemirror_mode": {
    "name": "ipython",
    "version": 3
   },
   "file_extension": ".py",
   "mimetype": "text/x-python",
   "name": "python",
   "nbconvert_exporter": "python",
   "pygments_lexer": "ipython3",
   "version": "3.6.2"
  }
 },
 "nbformat": 4,
 "nbformat_minor": 2
}
