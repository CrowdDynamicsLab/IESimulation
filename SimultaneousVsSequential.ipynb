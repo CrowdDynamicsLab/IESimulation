{
 "cells": [
  {
   "cell_type": "code",
   "execution_count": 1,
   "metadata": {},
   "outputs": [
    {
     "data": {
      "text/html": [
       "<script type=\"text/javascript\">window.PlotlyConfig = {MathJaxConfig: 'local'};</script><script type=\"text/javascript\">if (window.MathJax) {MathJax.Hub.Config({SVG: {font: \"STIX-Web\"}});}</script><script>requirejs.config({paths: { 'plotly': ['https://cdn.plot.ly/plotly-latest.min']},});if(!window._Plotly) {require(['plotly'],function(plotly) {window._Plotly=plotly;});}</script>"
      ],
      "text/vnd.plotly.v1+html": [
       "<script type=\"text/javascript\">window.PlotlyConfig = {MathJaxConfig: 'local'};</script><script type=\"text/javascript\">if (window.MathJax) {MathJax.Hub.Config({SVG: {font: \"STIX-Web\"}});}</script><script>requirejs.config({paths: { 'plotly': ['https://cdn.plot.ly/plotly-latest.min']},});if(!window._Plotly) {require(['plotly'],function(plotly) {window._Plotly=plotly;});}</script>"
      ]
     },
     "metadata": {},
     "output_type": "display_data"
    }
   ],
   "source": [
    "from plotly.offline import init_notebook_mode, iplot\n",
    "import plotly.graph_objs as go\n",
    "import numpy as np\n",
    "\n",
    "from simulation import run_simulation\n",
    "from graph import const_kregular\n",
    "\n",
    "init_notebook_mode(connected=True)"
   ]
  },
  {
   "cell_type": "code",
   "execution_count": 2,
   "metadata": {},
   "outputs": [],
   "source": [
    "#Define number of transmissions rate to space from 1-10\n",
    "NUM_TRANS_RATES = 10\n",
    "#Define number of times to run simulation per transmission rate\n",
    "TRANS_RUN_COUNT = 10\n",
    "\n",
    "#Amount of time to allocate\n",
    "TIME_TO_ALLOC = 100\n",
    "#Size of graph\n",
    "NUM_VERTICES = 100\n",
    "#Degree of vertices\n",
    "VTX_DEGREE = 4\n",
    "\n",
    "trans_rates = np.linspace(0, 1, NUM_TRANS_RATES + 1)[1:]"
   ]
  },
  {
   "cell_type": "code",
   "execution_count": 3,
   "metadata": {},
   "outputs": [],
   "source": [
    "#Run simulations and store results\n",
    "simul_utils = {}\n",
    "seq_utils = {}\n",
    "for t_rate in trans_rates:\n",
    "    simul_utils[t_rate] = []\n",
    "    seq_utils[t_rate] = []\n",
    "    for i in range(TRANS_RUN_COUNT):\n",
    "        G = const_kregular(VTX_DEGREE, NUM_VERTICES,\n",
    "                                 t_rate, TIME_TO_ALLOC)\n",
    "        _, simul_tot = run_simulation(G, simul=True)\n",
    "        \n",
    "        G = const_kregular(VTX_DEGREE, NUM_VERTICES,\n",
    "                                 t_rate, TIME_TO_ALLOC)\n",
    "        _, seq_tot= run_simulation(G, simul=False)\n",
    "        \n",
    "        #Get proportion of social optimal in each iteration\n",
    "        simul_prop = [ sum(ut) / NUM_VERTICES for ut in simul_tot ]\n",
    "        seq_prop = [ sum(ut) / NUM_VERTICES for ut in seq_tot ]\n",
    "        simul_utils[t_rate].append(simul_prop)\n",
    "        seq_utils[t_rate].append(seq_prop)"
   ]
  },
  {
   "cell_type": "code",
   "execution_count": 4,
   "metadata": {},
   "outputs": [],
   "source": [
    "_green = 200\n",
    "_blue = 200\n",
    "red_vals = np.linspace(0, 225, NUM_TRANS_RATES)\n",
    "\n",
    "def plot_utils(utils):\n",
    "    fig = go.Figure()\n",
    "\n",
    "    t_idx = 0\n",
    "    for t_rate, trate_utils in utils.items():\n",
    "        marker_color = 'rgb({0},{1},{2})'.format(\n",
    "            red_vals[t_idx], _green, _blue)\n",
    "        for util_seq in trate_utils:\n",
    "            x_vals = list(range(len(util_seq)))\n",
    "            fig.add_trace(go.Scatter(x=x_vals,\n",
    "                y=util_seq, mode='markers', hoverinfo='skip',\n",
    "                marker=dict(color=marker_color)))\n",
    "        t_idx += 1\n",
    "\n",
    "    fig.layout.update(showlegend=False)\n",
    "    plot_title = \"Percent social optimal vs Iteration Num\"\n",
    "    fig.layout.update(title=plot_title)\n",
    "\n",
    "    iplot(fig)"
   ]
  },
  {
   "cell_type": "code",
   "execution_count": 5,
   "metadata": {},
   "outputs": [
    {
     "data": {
      "application/vnd.plotly.v1+json": {
       "config": {
        "linkText": "Export to plot.ly",
        "plotlyServerURL": "https://plot.ly",
        "showLink": false
       },
       "data": [
        {
         "hoverinfo": "skip",
         "marker": {
          "color": "rgb(0.0,200,200)"
         },
         "mode": "markers",
         "type": "scatter",
         "uid": "5197e671-3ece-4aa3-89b8-b06219b5f461",
         "x": [
          0,
          1,
          2,
          3,
          4
         ],
         "y": [
          0.468888888888889,
          0.8988888888888877,
          0.9833333333333328,
          0.9988888888888888,
          1
         ]
        },
        {
         "hoverinfo": "skip",
         "marker": {
          "color": "rgb(0.0,200,200)"
         },
         "mode": "markers",
         "type": "scatter",
         "uid": "fc9e9d10-8b34-4159-98cd-1843a8fd8d69",
         "x": [
          0,
          1,
          2,
          3,
          4,
          5
         ],
         "y": [
          0.47000000000000014,
          0.8966666666666654,
          0.968888888888888,
          0.9811111111111106,
          0.9955555555555554,
          1
         ]
        },
        {
         "hoverinfo": "skip",
         "marker": {
          "color": "rgb(0.0,200,200)"
         },
         "mode": "markers",
         "type": "scatter",
         "uid": "64127e31-5cf0-47c5-9627-2c03c6d89d5a",
         "x": [
          0,
          1,
          2,
          3,
          4,
          5
         ],
         "y": [
          0.5088888888888886,
          0.9299999999999992,
          0.9788888888888883,
          0.9877777777777774,
          0.9988888888888888,
          1
         ]
        },
        {
         "hoverinfo": "skip",
         "marker": {
          "color": "rgb(0.0,200,200)"
         },
         "mode": "markers",
         "type": "scatter",
         "uid": "5b57d581-7a3a-450a-8eb9-48ceab98e1bb",
         "x": [
          0,
          1,
          2,
          3,
          4
         ],
         "y": [
          0.47555555555555573,
          0.9077777777777776,
          0.9811111111111108,
          0.9933333333333332,
          1
         ]
        },
        {
         "hoverinfo": "skip",
         "marker": {
          "color": "rgb(0.0,200,200)"
         },
         "mode": "markers",
         "type": "scatter",
         "uid": "ff61984e-4fca-4f56-988a-b26bb0b3d4e2",
         "x": [
          0,
          1,
          2,
          3
         ],
         "y": [
          0.6077777777777774,
          0.9499999999999993,
          0.9877777777777778,
          1
         ]
        },
        {
         "hoverinfo": "skip",
         "marker": {
          "color": "rgb(0.0,200,200)"
         },
         "mode": "markers",
         "type": "scatter",
         "uid": "d51c644a-1e04-413c-b0a8-9f4a088f5e40",
         "x": [
          0,
          1,
          2,
          3,
          4
         ],
         "y": [
          0.5133333333333332,
          0.904444444444444,
          0.9611111111111107,
          0.9955555555555554,
          1
         ]
        },
        {
         "hoverinfo": "skip",
         "marker": {
          "color": "rgb(0.0,200,200)"
         },
         "mode": "markers",
         "type": "scatter",
         "uid": "08ba23b9-4014-486c-9f84-7e99f571a493",
         "x": [
          0,
          1,
          2,
          3,
          4,
          5
         ],
         "y": [
          0.478888888888889,
          0.9288888888888879,
          0.966666666666666,
          0.9833333333333328,
          0.9933333333333332,
          1
         ]
        },
        {
         "hoverinfo": "skip",
         "marker": {
          "color": "rgb(0.0,200,200)"
         },
         "mode": "markers",
         "type": "scatter",
         "uid": "b40a876c-fa81-43cf-a8c0-00975c94907f",
         "x": [
          0,
          1,
          2,
          3,
          4,
          5
         ],
         "y": [
          0.5388888888888888,
          0.9377777777777777,
          0.9788888888888888,
          0.9844444444444446,
          0.9955555555555555,
          1
         ]
        },
        {
         "hoverinfo": "skip",
         "marker": {
          "color": "rgb(0.0,200,200)"
         },
         "mode": "markers",
         "type": "scatter",
         "uid": "e0197f52-e6bb-4e97-8798-8a66dd955cef",
         "x": [
          0,
          1,
          2,
          3
         ],
         "y": [
          0.5122222222222222,
          0.9622222222222218,
          0.9944444444444445,
          1
         ]
        },
        {
         "hoverinfo": "skip",
         "marker": {
          "color": "rgb(0.0,200,200)"
         },
         "mode": "markers",
         "type": "scatter",
         "uid": "23296919-cd06-4aa8-ba3c-c0c866ebe31c",
         "x": [
          0,
          1,
          2,
          3,
          4
         ],
         "y": [
          0.5266666666666664,
          0.9455555555555545,
          0.9733333333333326,
          0.992222222222222,
          1
         ]
        },
        {
         "hoverinfo": "skip",
         "marker": {
          "color": "rgb(25.0,200,200)"
         },
         "mode": "markers",
         "type": "scatter",
         "uid": "5f4d02c1-7a7e-44de-8589-91ec0da1598d",
         "x": [
          0,
          1,
          2,
          3
         ],
         "y": [
          0.4933333333333333,
          0.9544444444444443,
          0.9911111111111112,
          1
         ]
        },
        {
         "hoverinfo": "skip",
         "marker": {
          "color": "rgb(25.0,200,200)"
         },
         "mode": "markers",
         "type": "scatter",
         "uid": "844fd8b8-a108-4029-a840-2b511e2edbb7",
         "x": [
          0,
          1,
          2
         ],
         "y": [
          0.5722222222222221,
          0.9888888888888888,
          1
         ]
        },
        {
         "hoverinfo": "skip",
         "marker": {
          "color": "rgb(25.0,200,200)"
         },
         "mode": "markers",
         "type": "scatter",
         "uid": "6c2f3da9-daf0-4535-b435-b61599ceb0e3",
         "x": [
          0,
          1,
          2,
          3,
          4
         ],
         "y": [
          0.4866666666666666,
          0.9099999999999991,
          0.9822222222222217,
          0.9988888888888888,
          1
         ]
        },
        {
         "hoverinfo": "skip",
         "marker": {
          "color": "rgb(25.0,200,200)"
         },
         "mode": "markers",
         "type": "scatter",
         "uid": "e29d075e-9301-4e3e-b47c-8b17cfc6b10a",
         "x": [
          0,
          1,
          2,
          3,
          4
         ],
         "y": [
          0.47444444444444445,
          0.8899999999999999,
          0.9622222222222223,
          0.9877777777777779,
          1
         ]
        },
        {
         "hoverinfo": "skip",
         "marker": {
          "color": "rgb(25.0,200,200)"
         },
         "mode": "markers",
         "type": "scatter",
         "uid": "1dfcd7e6-bfcd-4090-a0a9-a06567daff59",
         "x": [
          0,
          1,
          2,
          3
         ],
         "y": [
          0.4833333333333333,
          0.926666666666666,
          0.9911111111111108,
          1
         ]
        },
        {
         "hoverinfo": "skip",
         "marker": {
          "color": "rgb(25.0,200,200)"
         },
         "mode": "markers",
         "type": "scatter",
         "uid": "4a944208-f94c-48b0-9493-86cea8b2a3d2",
         "x": [
          0,
          1,
          2,
          3,
          4,
          5
         ],
         "y": [
          0.5055555555555555,
          0.9099999999999997,
          0.9777777777777777,
          0.9866666666666667,
          0.9955555555555555,
          1
         ]
        },
        {
         "hoverinfo": "skip",
         "marker": {
          "color": "rgb(25.0,200,200)"
         },
         "mode": "markers",
         "type": "scatter",
         "uid": "88ad9ce9-c465-4df5-8e5b-40fb5b2a96c5",
         "x": [
          0,
          1,
          2
         ],
         "y": [
          0.521111111111111,
          0.9611111111111111,
          1
         ]
        },
        {
         "hoverinfo": "skip",
         "marker": {
          "color": "rgb(25.0,200,200)"
         },
         "mode": "markers",
         "type": "scatter",
         "uid": "fe16259e-70d7-4538-879a-f637178575ad",
         "x": [
          0,
          1,
          2
         ],
         "y": [
          0.5522222222222222,
          0.9855555555555554,
          1
         ]
        },
        {
         "hoverinfo": "skip",
         "marker": {
          "color": "rgb(25.0,200,200)"
         },
         "mode": "markers",
         "type": "scatter",
         "uid": "4f6364ad-7fc3-4b96-af26-2c8920563ffa",
         "x": [
          0,
          1,
          2,
          3,
          4,
          5,
          6
         ],
         "y": [
          0.5277777777777777,
          0.888888888888888,
          0.9433333333333325,
          0.9711111111111108,
          0.9844444444444442,
          0.9966666666666666,
          1
         ]
        },
        {
         "hoverinfo": "skip",
         "marker": {
          "color": "rgb(25.0,200,200)"
         },
         "mode": "markers",
         "type": "scatter",
         "uid": "2bf2f6ab-31ae-4da2-8898-2d67d8d0c98d",
         "x": [
          0,
          1,
          2,
          3
         ],
         "y": [
          0.47444444444444445,
          0.9188888888888883,
          0.9777777777777774,
          1
         ]
        },
        {
         "hoverinfo": "skip",
         "marker": {
          "color": "rgb(50.0,200,200)"
         },
         "mode": "markers",
         "type": "scatter",
         "uid": "b2e590a7-34c3-4e6d-9882-8d54c0e44bf0",
         "x": [
          0,
          1,
          2,
          3
         ],
         "y": [
          0.4855555555555555,
          0.9211111111111108,
          0.9933333333333333,
          1
         ]
        },
        {
         "hoverinfo": "skip",
         "marker": {
          "color": "rgb(50.0,200,200)"
         },
         "mode": "markers",
         "type": "scatter",
         "uid": "158755dc-265c-40f2-9150-6d9dc2e5084f",
         "x": [
          0,
          1,
          2,
          3,
          4,
          5,
          6
         ],
         "y": [
          0.46666666666666656,
          0.8755555555555552,
          0.951111111111111,
          0.9788888888888888,
          0.99,
          0.9966666666666667,
          1
         ]
        },
        {
         "hoverinfo": "skip",
         "marker": {
          "color": "rgb(50.0,200,200)"
         },
         "mode": "markers",
         "type": "scatter",
         "uid": "3d20f81f-367e-47af-b658-e2d09c9831d9",
         "x": [
          0,
          1,
          2,
          3,
          4,
          5,
          6
         ],
         "y": [
          0.4733333333333333,
          0.9111111111111104,
          0.9611111111111105,
          0.9766666666666661,
          0.992222222222222,
          0.9988888888888888,
          1
         ]
        },
        {
         "hoverinfo": "skip",
         "marker": {
          "color": "rgb(50.0,200,200)"
         },
         "mode": "markers",
         "type": "scatter",
         "uid": "4b30e29a-72da-43e4-a50b-0e497025b279",
         "x": [
          0,
          1,
          2,
          3,
          4
         ],
         "y": [
          0.4966666666666667,
          0.922222222222222,
          0.9811111111111107,
          0.992222222222222,
          1
         ]
        },
        {
         "hoverinfo": "skip",
         "marker": {
          "color": "rgb(50.0,200,200)"
         },
         "mode": "markers",
         "type": "scatter",
         "uid": "597f7157-b2ce-4146-a169-7085087222ea",
         "x": [
          0,
          1,
          2,
          3
         ],
         "y": [
          0.5233333333333333,
          0.9488888888888884,
          0.9922222222222221,
          1
         ]
        },
        {
         "hoverinfo": "skip",
         "marker": {
          "color": "rgb(50.0,200,200)"
         },
         "mode": "markers",
         "type": "scatter",
         "uid": "c5bdc43a-c626-4430-a881-32ef6392d9e0",
         "x": [
          0,
          1,
          2,
          3,
          4,
          5
         ],
         "y": [
          0.4922222222222222,
          0.9266666666666655,
          0.976666666666666,
          0.9911111111111108,
          0.9966666666666666,
          1
         ]
        },
        {
         "hoverinfo": "skip",
         "marker": {
          "color": "rgb(50.0,200,200)"
         },
         "mode": "markers",
         "type": "scatter",
         "uid": "dfa96029-0a6f-45c9-933d-dc26eb910b66",
         "x": [
          0,
          1,
          2,
          3
         ],
         "y": [
          0.5222222222222221,
          0.9622222222222223,
          0.9933333333333334,
          1
         ]
        },
        {
         "hoverinfo": "skip",
         "marker": {
          "color": "rgb(50.0,200,200)"
         },
         "mode": "markers",
         "type": "scatter",
         "uid": "06503d70-d9d8-4329-ba07-ba875abf6aa4",
         "x": [
          0,
          1,
          2,
          3,
          4,
          5
         ],
         "y": [
          0.4655555555555553,
          0.8922222222222216,
          0.9766666666666662,
          0.983333333333333,
          0.9944444444444442,
          1
         ]
        },
        {
         "hoverinfo": "skip",
         "marker": {
          "color": "rgb(50.0,200,200)"
         },
         "mode": "markers",
         "type": "scatter",
         "uid": "52842dbe-2f6c-4af8-9cf0-a04f810cc1f2",
         "x": [
          0,
          1,
          2,
          3,
          4,
          5
         ],
         "y": [
          0.48444444444444434,
          0.8866666666666663,
          0.9477777777777774,
          0.9822222222222219,
          0.9977777777777778,
          1
         ]
        },
        {
         "hoverinfo": "skip",
         "marker": {
          "color": "rgb(50.0,200,200)"
         },
         "mode": "markers",
         "type": "scatter",
         "uid": "26f674c5-62dd-46a2-aa13-745c963d2d03",
         "x": [
          0,
          1,
          2,
          3,
          4
         ],
         "y": [
          0.4899999999999999,
          0.8877777777777769,
          0.9688888888888885,
          0.9966666666666666,
          1
         ]
        },
        {
         "hoverinfo": "skip",
         "marker": {
          "color": "rgb(75.0,200,200)"
         },
         "mode": "markers",
         "type": "scatter",
         "uid": "0a16d207-dca4-4155-9883-06febad6aafb",
         "x": [
          0,
          1,
          2,
          3,
          4,
          5,
          6
         ],
         "y": [
          0.4611111111111111,
          0.8966666666666658,
          0.9644444444444438,
          0.9811111111111107,
          0.9911111111111108,
          0.9988888888888888,
          1
         ]
        },
        {
         "hoverinfo": "skip",
         "marker": {
          "color": "rgb(75.0,200,200)"
         },
         "mode": "markers",
         "type": "scatter",
         "uid": "2f97f816-29d9-4043-95d8-cec13e8f8a27",
         "x": [
          0,
          1,
          2,
          3,
          4,
          5
         ],
         "y": [
          0.5266666666666666,
          0.94111111111111,
          0.9755555555555548,
          0.9866666666666662,
          0.9944444444444442,
          1
         ]
        },
        {
         "hoverinfo": "skip",
         "marker": {
          "color": "rgb(75.0,200,200)"
         },
         "mode": "markers",
         "type": "scatter",
         "uid": "746da42d-a354-45b2-8129-f1507f4d075f",
         "x": [
          0,
          1,
          2,
          3,
          4,
          5
         ],
         "y": [
          0.5422222222222222,
          0.935555555555555,
          0.9833333333333332,
          0.99,
          0.9988888888888888,
          1
         ]
        },
        {
         "hoverinfo": "skip",
         "marker": {
          "color": "rgb(75.0,200,200)"
         },
         "mode": "markers",
         "type": "scatter",
         "uid": "8f542ef1-ee72-48af-966e-3722dc4c4fd5",
         "x": [
          0,
          1,
          2,
          3
         ],
         "y": [
          0.5244444444444445,
          0.9366666666666659,
          0.9911111111111108,
          1
         ]
        },
        {
         "hoverinfo": "skip",
         "marker": {
          "color": "rgb(75.0,200,200)"
         },
         "mode": "markers",
         "type": "scatter",
         "uid": "1a993cc3-e0d8-4637-b577-480fe21e2b52",
         "x": [
          0,
          1,
          2,
          3
         ],
         "y": [
          0.47222222222222227,
          0.9411111111111106,
          0.9933333333333333,
          1
         ]
        },
        {
         "hoverinfo": "skip",
         "marker": {
          "color": "rgb(75.0,200,200)"
         },
         "mode": "markers",
         "type": "scatter",
         "uid": "009dc1eb-f7f4-4d40-a9c5-49aaad0deff7",
         "x": [
          0,
          1,
          2,
          3,
          4,
          5,
          6
         ],
         "y": [
          0.43555555555555536,
          0.8488888888888881,
          0.948888888888888,
          0.9788888888888883,
          0.9888888888888886,
          0.9955555555555554,
          1
         ]
        },
        {
         "hoverinfo": "skip",
         "marker": {
          "color": "rgb(75.0,200,200)"
         },
         "mode": "markers",
         "type": "scatter",
         "uid": "af9df91e-dfbc-44ce-a4a9-f73d61c36735",
         "x": [
          0,
          1,
          2,
          3,
          4,
          5
         ],
         "y": [
          0.5088888888888888,
          0.9199999999999996,
          0.9711111111111107,
          0.9877777777777775,
          0.9955555555555554,
          1
         ]
        },
        {
         "hoverinfo": "skip",
         "marker": {
          "color": "rgb(75.0,200,200)"
         },
         "mode": "markers",
         "type": "scatter",
         "uid": "ee5cef48-57d8-4b4b-953e-02e6d8a36bdf",
         "x": [
          0,
          1,
          2
         ],
         "y": [
          0.5011111111111113,
          0.9799999999999999,
          1
         ]
        },
        {
         "hoverinfo": "skip",
         "marker": {
          "color": "rgb(75.0,200,200)"
         },
         "mode": "markers",
         "type": "scatter",
         "uid": "50173929-3cce-481d-a85e-49d253394a29",
         "x": [
          0,
          1,
          2,
          3,
          4,
          5,
          6,
          7,
          8
         ],
         "y": [
          0.49333333333333323,
          0.8688888888888884,
          0.92,
          0.9544444444444443,
          0.9755555555555554,
          0.9822222222222221,
          0.9888888888888888,
          0.9966666666666667,
          1
         ]
        },
        {
         "hoverinfo": "skip",
         "marker": {
          "color": "rgb(75.0,200,200)"
         },
         "mode": "markers",
         "type": "scatter",
         "uid": "5a88ac0f-a4c5-42bf-b66b-0ffdb5416cde",
         "x": [
          0,
          1,
          2,
          3
         ],
         "y": [
          0.48444444444444423,
          0.9344444444444439,
          0.9944444444444442,
          1
         ]
        },
        {
         "hoverinfo": "skip",
         "marker": {
          "color": "rgb(100.0,200,200)"
         },
         "mode": "markers",
         "type": "scatter",
         "uid": "787aacf6-f3f6-492c-94f0-c3ec43b8f9c5",
         "x": [
          0,
          1,
          2,
          3,
          4,
          5
         ],
         "y": [
          0.5322222222222223,
          0.9177777777777769,
          0.9777777777777772,
          0.9888888888888886,
          0.9988888888888888,
          1
         ]
        },
        {
         "hoverinfo": "skip",
         "marker": {
          "color": "rgb(100.0,200,200)"
         },
         "mode": "markers",
         "type": "scatter",
         "uid": "e44c35cc-31fd-46f4-9000-2139e2bdf32b",
         "x": [
          0,
          1,
          2
         ],
         "y": [
          0.5133333333333335,
          0.9588888888888882,
          1
         ]
        },
        {
         "hoverinfo": "skip",
         "marker": {
          "color": "rgb(100.0,200,200)"
         },
         "mode": "markers",
         "type": "scatter",
         "uid": "331eee47-96ba-4d19-9149-ea5869010af0",
         "x": [
          0,
          1,
          2,
          3,
          4,
          5,
          6,
          7
         ],
         "y": [
          0.5077777777777779,
          0.915555555555555,
          0.9544444444444438,
          0.9688888888888881,
          0.9777777777777772,
          0.9855555555555552,
          0.9966666666666666,
          1
         ]
        },
        {
         "hoverinfo": "skip",
         "marker": {
          "color": "rgb(100.0,200,200)"
         },
         "mode": "markers",
         "type": "scatter",
         "uid": "2a6377fd-af42-485f-9366-2a1fa7454a40",
         "x": [
          0,
          1,
          2,
          3,
          4
         ],
         "y": [
          0.4511111111111113,
          0.9144444444444442,
          0.983333333333333,
          0.9977777777777778,
          1
         ]
        },
        {
         "hoverinfo": "skip",
         "marker": {
          "color": "rgb(100.0,200,200)"
         },
         "mode": "markers",
         "type": "scatter",
         "uid": "115da76c-07aa-45a6-bdee-e53a56fe78c7",
         "x": [
          0,
          1,
          2,
          3,
          4
         ],
         "y": [
          0.5177777777777778,
          0.9488888888888881,
          0.9833333333333328,
          0.992222222222222,
          1
         ]
        },
        {
         "hoverinfo": "skip",
         "marker": {
          "color": "rgb(100.0,200,200)"
         },
         "mode": "markers",
         "type": "scatter",
         "uid": "1aadfa0d-80db-47df-bdaf-c87f0ac7c572",
         "x": [
          0,
          1,
          2
         ],
         "y": [
          0.4799999999999999,
          0.9277777777777775,
          1
         ]
        },
        {
         "hoverinfo": "skip",
         "marker": {
          "color": "rgb(100.0,200,200)"
         },
         "mode": "markers",
         "type": "scatter",
         "uid": "8998ed0a-6f00-430f-9d2d-a51f4d5b68eb",
         "x": [
          0,
          1,
          2,
          3
         ],
         "y": [
          0.4599999999999999,
          0.9111111111111104,
          0.982222222222222,
          1
         ]
        },
        {
         "hoverinfo": "skip",
         "marker": {
          "color": "rgb(100.0,200,200)"
         },
         "mode": "markers",
         "type": "scatter",
         "uid": "f0ac49e9-b9ad-45d4-9933-0c58a5d0c2cb",
         "x": [
          0,
          1,
          2,
          3
         ],
         "y": [
          0.5022222222222222,
          0.9411111111111103,
          0.9933333333333332,
          1
         ]
        },
        {
         "hoverinfo": "skip",
         "marker": {
          "color": "rgb(100.0,200,200)"
         },
         "mode": "markers",
         "type": "scatter",
         "uid": "f0d9e727-31c9-4ade-b52e-5d38471de070",
         "x": [
          0,
          1,
          2,
          3,
          4,
          5,
          6
         ],
         "y": [
          0.442222222222222,
          0.8799999999999993,
          0.9433333333333329,
          0.9677777777777774,
          0.9833333333333332,
          0.9944444444444445,
          1
         ]
        },
        {
         "hoverinfo": "skip",
         "marker": {
          "color": "rgb(100.0,200,200)"
         },
         "mode": "markers",
         "type": "scatter",
         "uid": "5c06c520-3e3a-4beb-ba43-a8c78676e1b2",
         "x": [
          0,
          1,
          2,
          3,
          4
         ],
         "y": [
          0.4333333333333333,
          0.9011111111111108,
          0.9744444444444441,
          0.9955555555555555,
          1
         ]
        },
        {
         "hoverinfo": "skip",
         "marker": {
          "color": "rgb(125.0,200,200)"
         },
         "mode": "markers",
         "type": "scatter",
         "uid": "df065bbf-2b39-41c2-8168-38fa855d54fb",
         "x": [
          0,
          1,
          2,
          3,
          4,
          5,
          6,
          7
         ],
         "y": [
          0.4655555555555555,
          0.8988888888888877,
          0.95111111111111,
          0.9666666666666657,
          0.9755555555555548,
          0.9833333333333328,
          0.9933333333333332,
          1
         ]
        },
        {
         "hoverinfo": "skip",
         "marker": {
          "color": "rgb(125.0,200,200)"
         },
         "mode": "markers",
         "type": "scatter",
         "uid": "d7e365a6-16ab-4657-99e1-b787f3adb2c7",
         "x": [
          0,
          1,
          2,
          3,
          4
         ],
         "y": [
          0.45111111111111124,
          0.8922222222222213,
          0.9655555555555552,
          0.9955555555555554,
          1
         ]
        },
        {
         "hoverinfo": "skip",
         "marker": {
          "color": "rgb(125.0,200,200)"
         },
         "mode": "markers",
         "type": "scatter",
         "uid": "3f953b78-7f01-450f-aa02-a95d90f6bb2a",
         "x": [
          0,
          1,
          2
         ],
         "y": [
          0.5144444444444443,
          0.9844444444444445,
          1
         ]
        },
        {
         "hoverinfo": "skip",
         "marker": {
          "color": "rgb(125.0,200,200)"
         },
         "mode": "markers",
         "type": "scatter",
         "uid": "654e9de7-e85b-45d3-bb06-41f92043efe8",
         "x": [
          0,
          1,
          2,
          3,
          4,
          5,
          6
         ],
         "y": [
          0.46888888888888886,
          0.9188888888888882,
          0.9777777777777772,
          0.984444444444444,
          0.9933333333333332,
          0.9988888888888888,
          1
         ]
        },
        {
         "hoverinfo": "skip",
         "marker": {
          "color": "rgb(125.0,200,200)"
         },
         "mode": "markers",
         "type": "scatter",
         "uid": "228c4a86-03cf-4e80-bafc-b1f07944c335",
         "x": [
          0,
          1,
          2,
          3,
          4,
          5
         ],
         "y": [
          0.4977777777777779,
          0.8933333333333328,
          0.9544444444444439,
          0.9799999999999999,
          0.9966666666666667,
          1
         ]
        },
        {
         "hoverinfo": "skip",
         "marker": {
          "color": "rgb(125.0,200,200)"
         },
         "mode": "markers",
         "type": "scatter",
         "uid": "770c68f3-c3c8-44bb-a250-71fde21546ec",
         "x": [
          0,
          1,
          2,
          3,
          4
         ],
         "y": [
          0.521111111111111,
          0.9066666666666662,
          0.9822222222222219,
          0.9933333333333332,
          1
         ]
        },
        {
         "hoverinfo": "skip",
         "marker": {
          "color": "rgb(125.0,200,200)"
         },
         "mode": "markers",
         "type": "scatter",
         "uid": "2d7bf219-f437-4cb0-a040-7e1c88d8e723",
         "x": [
          0,
          1,
          2,
          3
         ],
         "y": [
          0.5155555555555558,
          0.9166666666666667,
          0.9844444444444442,
          1
         ]
        },
        {
         "hoverinfo": "skip",
         "marker": {
          "color": "rgb(125.0,200,200)"
         },
         "mode": "markers",
         "type": "scatter",
         "uid": "fa8208a7-9e69-4eac-95c8-8c3aa2b40cb4",
         "x": [
          0,
          1,
          2,
          3,
          4,
          5,
          6,
          7
         ],
         "y": [
          0.5366666666666667,
          0.9155555555555549,
          0.9555555555555554,
          0.9677777777777778,
          0.9766666666666667,
          0.9866666666666667,
          0.9955555555555555,
          1
         ]
        },
        {
         "hoverinfo": "skip",
         "marker": {
          "color": "rgb(125.0,200,200)"
         },
         "mode": "markers",
         "type": "scatter",
         "uid": "d11f7f6a-f059-4ffa-86e3-5e4d2eec718f",
         "x": [
          0,
          1,
          2,
          3,
          4
         ],
         "y": [
          0.5166666666666667,
          0.926666666666666,
          0.9655555555555552,
          0.9877777777777778,
          1
         ]
        },
        {
         "hoverinfo": "skip",
         "marker": {
          "color": "rgb(125.0,200,200)"
         },
         "mode": "markers",
         "type": "scatter",
         "uid": "419fbc4a-7406-43b4-a42a-0235045dd028",
         "x": [
          0,
          1,
          2,
          3,
          4
         ],
         "y": [
          0.5422222222222223,
          0.9377777777777778,
          0.9733333333333334,
          0.9966666666666667,
          1
         ]
        },
        {
         "hoverinfo": "skip",
         "marker": {
          "color": "rgb(150.0,200,200)"
         },
         "mode": "markers",
         "type": "scatter",
         "uid": "09b9ecd8-2ba0-4fb8-b82e-95c5f9d2eb62",
         "x": [
          0,
          1,
          2,
          3,
          4
         ],
         "y": [
          0.5055555555555554,
          0.9199999999999992,
          0.984444444444444,
          0.9977777777777778,
          1
         ]
        },
        {
         "hoverinfo": "skip",
         "marker": {
          "color": "rgb(150.0,200,200)"
         },
         "mode": "markers",
         "type": "scatter",
         "uid": "bcffa6b8-1958-41ef-b9ac-2ee11cb44d2e",
         "x": [
          0,
          1,
          2,
          3,
          4,
          5,
          6
         ],
         "y": [
          0.4699999999999998,
          0.8811111111111106,
          0.945555555555555,
          0.9611111111111107,
          0.9822222222222221,
          0.9955555555555555,
          1
         ]
        },
        {
         "hoverinfo": "skip",
         "marker": {
          "color": "rgb(150.0,200,200)"
         },
         "mode": "markers",
         "type": "scatter",
         "uid": "cc5938ee-1629-4738-8356-d436d0156f2f",
         "x": [
          0,
          1,
          2,
          3
         ],
         "y": [
          0.5644444444444444,
          0.9633333333333327,
          0.9944444444444442,
          1
         ]
        },
        {
         "hoverinfo": "skip",
         "marker": {
          "color": "rgb(150.0,200,200)"
         },
         "mode": "markers",
         "type": "scatter",
         "uid": "67dfc677-d3b0-4756-a85a-28a264fb265e",
         "x": [
          0,
          1,
          2,
          3
         ],
         "y": [
          0.4933333333333331,
          0.9455555555555551,
          0.9966666666666666,
          1
         ]
        },
        {
         "hoverinfo": "skip",
         "marker": {
          "color": "rgb(150.0,200,200)"
         },
         "mode": "markers",
         "type": "scatter",
         "uid": "d0a8fdd7-db3e-4593-bfed-f3cabb88884a",
         "x": [
          0,
          1,
          2,
          3,
          4
         ],
         "y": [
          0.5044444444444443,
          0.9244444444444434,
          0.9811111111111106,
          0.9977777777777778,
          1
         ]
        },
        {
         "hoverinfo": "skip",
         "marker": {
          "color": "rgb(150.0,200,200)"
         },
         "mode": "markers",
         "type": "scatter",
         "uid": "eacaa799-5939-4917-89ff-1b5c6a348b68",
         "x": [
          0,
          1,
          2,
          3,
          4,
          5,
          6
         ],
         "y": [
          0.5077777777777776,
          0.9255555555555542,
          0.9711111111111103,
          0.984444444444444,
          0.9899999999999998,
          0.9988888888888888,
          1
         ]
        },
        {
         "hoverinfo": "skip",
         "marker": {
          "color": "rgb(150.0,200,200)"
         },
         "mode": "markers",
         "type": "scatter",
         "uid": "b9b93304-ce9a-4f13-99a1-997030f621c7",
         "x": [
          0,
          1,
          2,
          3
         ],
         "y": [
          0.4955555555555556,
          0.9322222222222217,
          0.991111111111111,
          1
         ]
        },
        {
         "hoverinfo": "skip",
         "marker": {
          "color": "rgb(150.0,200,200)"
         },
         "mode": "markers",
         "type": "scatter",
         "uid": "70a31b73-c6fa-42fd-8a0b-af556cf78571",
         "x": [
          0,
          1,
          2,
          3
         ],
         "y": [
          0.49222222222222206,
          0.9277777777777771,
          0.9888888888888886,
          1
         ]
        },
        {
         "hoverinfo": "skip",
         "marker": {
          "color": "rgb(150.0,200,200)"
         },
         "mode": "markers",
         "type": "scatter",
         "uid": "ac15b3ed-f792-40af-8f10-b735147c3aa3",
         "x": [
          0,
          1,
          2,
          3,
          4
         ],
         "y": [
          0.5433333333333333,
          0.925555555555555,
          0.9788888888888885,
          0.9988888888888888,
          1
         ]
        },
        {
         "hoverinfo": "skip",
         "marker": {
          "color": "rgb(150.0,200,200)"
         },
         "mode": "markers",
         "type": "scatter",
         "uid": "532966ae-21cf-4626-94f4-6fac1fb284b1",
         "x": [
          0,
          1,
          2,
          3,
          4
         ],
         "y": [
          0.49111111111111116,
          0.9277777777777767,
          0.9788888888888886,
          0.9977777777777778,
          1
         ]
        },
        {
         "hoverinfo": "skip",
         "marker": {
          "color": "rgb(175.0,200,200)"
         },
         "mode": "markers",
         "type": "scatter",
         "uid": "af96034e-2c46-4145-8c0e-dd485ae58fb9",
         "x": [
          0,
          1,
          2,
          3
         ],
         "y": [
          0.44,
          0.9344444444444442,
          0.9911111111111112,
          1
         ]
        },
        {
         "hoverinfo": "skip",
         "marker": {
          "color": "rgb(175.0,200,200)"
         },
         "mode": "markers",
         "type": "scatter",
         "uid": "d3442927-0c54-468d-9225-0401f9a289b0",
         "x": [
          0,
          1,
          2,
          3,
          4,
          5
         ],
         "y": [
          0.5155555555555558,
          0.9433333333333327,
          0.9822222222222217,
          0.9933333333333332,
          0.9988888888888888,
          1
         ]
        },
        {
         "hoverinfo": "skip",
         "marker": {
          "color": "rgb(175.0,200,200)"
         },
         "mode": "markers",
         "type": "scatter",
         "uid": "170e3a68-12fe-4ac3-9aec-7840ec1e7c1d",
         "x": [
          0,
          1,
          2,
          3
         ],
         "y": [
          0.4966666666666666,
          0.9277777777777777,
          0.9866666666666666,
          1
         ]
        },
        {
         "hoverinfo": "skip",
         "marker": {
          "color": "rgb(175.0,200,200)"
         },
         "mode": "markers",
         "type": "scatter",
         "uid": "fe3a4ac5-4b26-40bc-a401-ae6196bee359",
         "x": [
          0,
          1,
          2,
          3
         ],
         "y": [
          0.491111111111111,
          0.9399999999999993,
          0.9866666666666665,
          1
         ]
        },
        {
         "hoverinfo": "skip",
         "marker": {
          "color": "rgb(175.0,200,200)"
         },
         "mode": "markers",
         "type": "scatter",
         "uid": "6e46006b-cf25-4732-9ee3-d2ebd5ff7dff",
         "x": [
          0,
          1,
          2,
          3
         ],
         "y": [
          0.4844444444444445,
          0.9388888888888889,
          0.9933333333333332,
          1
         ]
        },
        {
         "hoverinfo": "skip",
         "marker": {
          "color": "rgb(175.0,200,200)"
         },
         "mode": "markers",
         "type": "scatter",
         "uid": "d0f3797d-56a6-4876-a35d-11d517f4a9a3",
         "x": [
          0,
          1,
          2,
          3,
          4
         ],
         "y": [
          0.5088888888888888,
          0.92,
          0.9744444444444443,
          0.9966666666666666,
          1
         ]
        },
        {
         "hoverinfo": "skip",
         "marker": {
          "color": "rgb(175.0,200,200)"
         },
         "mode": "markers",
         "type": "scatter",
         "uid": "f0e284a4-b051-48b8-adbb-7e16968357fe",
         "x": [
          0,
          1,
          2,
          3,
          4
         ],
         "y": [
          0.4511111111111111,
          0.904444444444444,
          0.9677777777777774,
          0.9988888888888888,
          1
         ]
        },
        {
         "hoverinfo": "skip",
         "marker": {
          "color": "rgb(175.0,200,200)"
         },
         "mode": "markers",
         "type": "scatter",
         "uid": "17f43d6c-4601-42aa-a6d6-bc5e5922c10e",
         "x": [
          0,
          1,
          2,
          3,
          4
         ],
         "y": [
          0.4433333333333334,
          0.9199999999999998,
          0.9833333333333332,
          0.9955555555555555,
          1
         ]
        },
        {
         "hoverinfo": "skip",
         "marker": {
          "color": "rgb(175.0,200,200)"
         },
         "mode": "markers",
         "type": "scatter",
         "uid": "b143926f-0b73-4d99-b3d7-4ffaab7e2a0f",
         "x": [
          0,
          1,
          2,
          3,
          4,
          5,
          6,
          7,
          8
         ],
         "y": [
          0.5077777777777778,
          0.8799999999999994,
          0.9344444444444437,
          0.9611111111111103,
          0.9744444444444439,
          0.9833333333333328,
          0.9899999999999998,
          0.9955555555555554,
          1
         ]
        },
        {
         "hoverinfo": "skip",
         "marker": {
          "color": "rgb(175.0,200,200)"
         },
         "mode": "markers",
         "type": "scatter",
         "uid": "ee6d09a2-5e5b-420f-9d54-6f7a0efb9fce",
         "x": [
          0,
          1,
          2,
          3
         ],
         "y": [
          0.49111111111111105,
          0.9555555555555552,
          0.9988888888888888,
          1
         ]
        },
        {
         "hoverinfo": "skip",
         "marker": {
          "color": "rgb(200.0,200,200)"
         },
         "mode": "markers",
         "type": "scatter",
         "uid": "2feaf7b3-86ba-4b22-b9d7-4da71b4eaabc",
         "x": [
          0,
          1,
          2,
          3,
          4,
          5
         ],
         "y": [
          0.4544444444444442,
          0.8888888888888884,
          0.972222222222222,
          0.9866666666666666,
          0.9988888888888888,
          1
         ]
        },
        {
         "hoverinfo": "skip",
         "marker": {
          "color": "rgb(200.0,200,200)"
         },
         "mode": "markers",
         "type": "scatter",
         "uid": "f18d0bdc-8862-4c81-8e70-9dba0e05c202",
         "x": [
          0,
          1,
          2,
          3
         ],
         "y": [
          0.5011111111111111,
          0.925555555555555,
          0.9833333333333332,
          1
         ]
        },
        {
         "hoverinfo": "skip",
         "marker": {
          "color": "rgb(200.0,200,200)"
         },
         "mode": "markers",
         "type": "scatter",
         "uid": "ccce24c7-2dec-40c2-bedb-421b0164a731",
         "x": [
          0,
          1,
          2,
          3,
          4
         ],
         "y": [
          0.451111111111111,
          0.905555555555555,
          0.9566666666666661,
          0.9911111111111108,
          1
         ]
        },
        {
         "hoverinfo": "skip",
         "marker": {
          "color": "rgb(200.0,200,200)"
         },
         "mode": "markers",
         "type": "scatter",
         "uid": "148b3533-ae11-4355-b160-da3ed44c2007",
         "x": [
          0,
          1,
          2,
          3,
          4
         ],
         "y": [
          0.5033333333333334,
          0.9077777777777771,
          0.9744444444444441,
          0.9977777777777778,
          1
         ]
        },
        {
         "hoverinfo": "skip",
         "marker": {
          "color": "rgb(200.0,200,200)"
         },
         "mode": "markers",
         "type": "scatter",
         "uid": "44600a01-e879-4163-acea-e34f7fb41c00",
         "x": [
          0,
          1,
          2,
          3,
          4,
          5
         ],
         "y": [
          0.4388888888888888,
          0.8411111111111111,
          0.947777777777778,
          0.9811111111111112,
          0.9988888888888888,
          1
         ]
        },
        {
         "hoverinfo": "skip",
         "marker": {
          "color": "rgb(200.0,200,200)"
         },
         "mode": "markers",
         "type": "scatter",
         "uid": "29321e85-1074-4769-b6f8-b16efd8ca8d4",
         "x": [
          0,
          1,
          2,
          3
         ],
         "y": [
          0.4766666666666666,
          0.926666666666666,
          0.9844444444444442,
          1
         ]
        },
        {
         "hoverinfo": "skip",
         "marker": {
          "color": "rgb(200.0,200,200)"
         },
         "mode": "markers",
         "type": "scatter",
         "uid": "1ba15325-f3af-4a22-a03a-7e176fb2ec52",
         "x": [
          0,
          1,
          2,
          3
         ],
         "y": [
          0.5011111111111113,
          0.933333333333333,
          0.9877777777777778,
          1
         ]
        },
        {
         "hoverinfo": "skip",
         "marker": {
          "color": "rgb(200.0,200,200)"
         },
         "mode": "markers",
         "type": "scatter",
         "uid": "858a0fff-2cca-4eb5-8de1-005400cb8233",
         "x": [
          0,
          1,
          2,
          3,
          4
         ],
         "y": [
          0.4866666666666664,
          0.9566666666666661,
          0.9911111111111108,
          0.9977777777777778,
          1
         ]
        },
        {
         "hoverinfo": "skip",
         "marker": {
          "color": "rgb(200.0,200,200)"
         },
         "mode": "markers",
         "type": "scatter",
         "uid": "83b5fd44-d289-467e-8363-c6eb213026e3",
         "x": [
          0,
          1,
          2,
          3
         ],
         "y": [
          0.5377777777777777,
          0.9499999999999997,
          0.9944444444444445,
          1
         ]
        },
        {
         "hoverinfo": "skip",
         "marker": {
          "color": "rgb(200.0,200,200)"
         },
         "mode": "markers",
         "type": "scatter",
         "uid": "d8879b1a-6406-4162-a2b2-4c30d94a5dfa",
         "x": [
          0,
          1,
          2,
          3
         ],
         "y": [
          0.48888888888888915,
          0.9277777777777773,
          0.9911111111111112,
          1
         ]
        },
        {
         "hoverinfo": "skip",
         "marker": {
          "color": "rgb(225.0,200,200)"
         },
         "mode": "markers",
         "type": "scatter",
         "uid": "61da9365-5194-42bc-9e88-d4dd5e5f7e52",
         "x": [
          0,
          1,
          2,
          3,
          4
         ],
         "y": [
          0.4444444444444443,
          0.9155555555555551,
          0.9866666666666666,
          0.9966666666666666,
          1
         ]
        },
        {
         "hoverinfo": "skip",
         "marker": {
          "color": "rgb(225.0,200,200)"
         },
         "mode": "markers",
         "type": "scatter",
         "uid": "6cd25f01-6c19-49c2-a6d1-21dab0a097c0",
         "x": [
          0,
          1,
          2,
          3,
          4,
          5,
          6,
          7
         ],
         "y": [
          0.4922222222222221,
          0.8866666666666648,
          0.9533333333333323,
          0.9733333333333326,
          0.9799999999999994,
          0.9911111111111108,
          0.9988888888888888,
          1
         ]
        },
        {
         "hoverinfo": "skip",
         "marker": {
          "color": "rgb(225.0,200,200)"
         },
         "mode": "markers",
         "type": "scatter",
         "uid": "be4df75f-1d29-4073-a3c0-7c1408924654",
         "x": [
          0,
          1,
          2,
          3,
          4
         ],
         "y": [
          0.5288888888888887,
          0.9355555555555546,
          0.9799999999999994,
          0.9977777777777778,
          1
         ]
        },
        {
         "hoverinfo": "skip",
         "marker": {
          "color": "rgb(225.0,200,200)"
         },
         "mode": "markers",
         "type": "scatter",
         "uid": "d3349c7d-e604-4180-913c-488486dea997",
         "x": [
          0,
          1,
          2,
          3,
          4
         ],
         "y": [
          0.5133333333333333,
          0.951111111111111,
          0.9911111111111112,
          0.9977777777777778,
          1
         ]
        },
        {
         "hoverinfo": "skip",
         "marker": {
          "color": "rgb(225.0,200,200)"
         },
         "mode": "markers",
         "type": "scatter",
         "uid": "612cc3fe-0cf3-48da-a25d-337a4c1c3e72",
         "x": [
          0,
          1,
          2,
          3,
          4,
          5,
          6
         ],
         "y": [
          0.4877777777777778,
          0.884444444444444,
          0.95,
          0.9733333333333334,
          0.9855555555555555,
          0.9955555555555555,
          1
         ]
        },
        {
         "hoverinfo": "skip",
         "marker": {
          "color": "rgb(225.0,200,200)"
         },
         "mode": "markers",
         "type": "scatter",
         "uid": "cf53191f-e478-493e-b837-c8e5eaddbc9b",
         "x": [
          0,
          1,
          2,
          3,
          4,
          5
         ],
         "y": [
          0.43000000000000027,
          0.8922222222222213,
          0.9544444444444434,
          0.9722222222222214,
          0.9933333333333332,
          1
         ]
        },
        {
         "hoverinfo": "skip",
         "marker": {
          "color": "rgb(225.0,200,200)"
         },
         "mode": "markers",
         "type": "scatter",
         "uid": "ce0110f6-8cbe-482c-a5e8-a7394c25422f",
         "x": [
          0,
          1,
          2
         ],
         "y": [
          0.5444444444444444,
          0.9844444444444441,
          1
         ]
        },
        {
         "hoverinfo": "skip",
         "marker": {
          "color": "rgb(225.0,200,200)"
         },
         "mode": "markers",
         "type": "scatter",
         "uid": "6fb1c26c-f327-43e2-a74d-c864efc7db12",
         "x": [
          0,
          1,
          2,
          3
         ],
         "y": [
          0.43555555555555536,
          0.9333333333333331,
          0.9977777777777778,
          1
         ]
        },
        {
         "hoverinfo": "skip",
         "marker": {
          "color": "rgb(225.0,200,200)"
         },
         "mode": "markers",
         "type": "scatter",
         "uid": "bb720c64-d09f-4828-8c12-e8ffce1d38e3",
         "x": [
          0,
          1,
          2,
          3
         ],
         "y": [
          0.4499999999999998,
          0.9255555555555557,
          0.9933333333333334,
          1
         ]
        },
        {
         "hoverinfo": "skip",
         "marker": {
          "color": "rgb(225.0,200,200)"
         },
         "mode": "markers",
         "type": "scatter",
         "uid": "b36db36d-51f6-4e96-9d11-5d6b95a6e27d",
         "x": [
          0,
          1,
          2,
          3
         ],
         "y": [
          0.5266666666666664,
          0.9466666666666663,
          0.992222222222222,
          1
         ]
        }
       ],
       "layout": {
        "showlegend": false,
        "title": {
         "text": "Percent social optimal vs Iteration Num"
        }
       }
      },
      "text/html": [
       "<div id=\"37d77ef1-ef7b-47d2-b87d-e4c2e18b6220\" style=\"height: 525px; width: 100%;\" class=\"plotly-graph-div\"></div><script type=\"text/javascript\">require([\"plotly\"], function(Plotly) { window.PLOTLYENV=window.PLOTLYENV || {};window.PLOTLYENV.BASE_URL=\"https://plot.ly\";\n",
       "if (document.getElementById(\"37d77ef1-ef7b-47d2-b87d-e4c2e18b6220\")) {\n",
       "    Plotly.newPlot(\"37d77ef1-ef7b-47d2-b87d-e4c2e18b6220\", [{\"hoverinfo\": \"skip\", \"marker\": {\"color\": \"rgb(0.0,200,200)\"}, \"mode\": \"markers\", \"x\": [0, 1, 2, 3, 4], \"y\": [0.468888888888889, 0.8988888888888877, 0.9833333333333328, 0.9988888888888888, 1.0], \"type\": \"scatter\", \"uid\": \"5197e671-3ece-4aa3-89b8-b06219b5f461\"}, {\"hoverinfo\": \"skip\", \"marker\": {\"color\": \"rgb(0.0,200,200)\"}, \"mode\": \"markers\", \"x\": [0, 1, 2, 3, 4, 5], \"y\": [0.47000000000000014, 0.8966666666666654, 0.968888888888888, 0.9811111111111106, 0.9955555555555554, 1.0], \"type\": \"scatter\", \"uid\": \"fc9e9d10-8b34-4159-98cd-1843a8fd8d69\"}, {\"hoverinfo\": \"skip\", \"marker\": {\"color\": \"rgb(0.0,200,200)\"}, \"mode\": \"markers\", \"x\": [0, 1, 2, 3, 4, 5], \"y\": [0.5088888888888886, 0.9299999999999992, 0.9788888888888883, 0.9877777777777774, 0.9988888888888888, 1.0], \"type\": \"scatter\", \"uid\": \"64127e31-5cf0-47c5-9627-2c03c6d89d5a\"}, {\"hoverinfo\": \"skip\", \"marker\": {\"color\": \"rgb(0.0,200,200)\"}, \"mode\": \"markers\", \"x\": [0, 1, 2, 3, 4], \"y\": [0.47555555555555573, 0.9077777777777776, 0.9811111111111108, 0.9933333333333332, 1.0], \"type\": \"scatter\", \"uid\": \"5b57d581-7a3a-450a-8eb9-48ceab98e1bb\"}, {\"hoverinfo\": \"skip\", \"marker\": {\"color\": \"rgb(0.0,200,200)\"}, \"mode\": \"markers\", \"x\": [0, 1, 2, 3], \"y\": [0.6077777777777774, 0.9499999999999993, 0.9877777777777778, 1.0], \"type\": \"scatter\", \"uid\": \"ff61984e-4fca-4f56-988a-b26bb0b3d4e2\"}, {\"hoverinfo\": \"skip\", \"marker\": {\"color\": \"rgb(0.0,200,200)\"}, \"mode\": \"markers\", \"x\": [0, 1, 2, 3, 4], \"y\": [0.5133333333333332, 0.904444444444444, 0.9611111111111107, 0.9955555555555554, 1.0], \"type\": \"scatter\", \"uid\": \"d51c644a-1e04-413c-b0a8-9f4a088f5e40\"}, {\"hoverinfo\": \"skip\", \"marker\": {\"color\": \"rgb(0.0,200,200)\"}, \"mode\": \"markers\", \"x\": [0, 1, 2, 3, 4, 5], \"y\": [0.478888888888889, 0.9288888888888879, 0.966666666666666, 0.9833333333333328, 0.9933333333333332, 1.0], \"type\": \"scatter\", \"uid\": \"08ba23b9-4014-486c-9f84-7e99f571a493\"}, {\"hoverinfo\": \"skip\", \"marker\": {\"color\": \"rgb(0.0,200,200)\"}, \"mode\": \"markers\", \"x\": [0, 1, 2, 3, 4, 5], \"y\": [0.5388888888888888, 0.9377777777777777, 0.9788888888888888, 0.9844444444444446, 0.9955555555555555, 1.0], \"type\": \"scatter\", \"uid\": \"b40a876c-fa81-43cf-a8c0-00975c94907f\"}, {\"hoverinfo\": \"skip\", \"marker\": {\"color\": \"rgb(0.0,200,200)\"}, \"mode\": \"markers\", \"x\": [0, 1, 2, 3], \"y\": [0.5122222222222222, 0.9622222222222218, 0.9944444444444445, 1.0], \"type\": \"scatter\", \"uid\": \"e0197f52-e6bb-4e97-8798-8a66dd955cef\"}, {\"hoverinfo\": \"skip\", \"marker\": {\"color\": \"rgb(0.0,200,200)\"}, \"mode\": \"markers\", \"x\": [0, 1, 2, 3, 4], \"y\": [0.5266666666666664, 0.9455555555555545, 0.9733333333333326, 0.992222222222222, 1.0], \"type\": \"scatter\", \"uid\": \"23296919-cd06-4aa8-ba3c-c0c866ebe31c\"}, {\"hoverinfo\": \"skip\", \"marker\": {\"color\": \"rgb(25.0,200,200)\"}, \"mode\": \"markers\", \"x\": [0, 1, 2, 3], \"y\": [0.4933333333333333, 0.9544444444444443, 0.9911111111111112, 1.0], \"type\": \"scatter\", \"uid\": \"5f4d02c1-7a7e-44de-8589-91ec0da1598d\"}, {\"hoverinfo\": \"skip\", \"marker\": {\"color\": \"rgb(25.0,200,200)\"}, \"mode\": \"markers\", \"x\": [0, 1, 2], \"y\": [0.5722222222222221, 0.9888888888888888, 1.0], \"type\": \"scatter\", \"uid\": \"844fd8b8-a108-4029-a840-2b511e2edbb7\"}, {\"hoverinfo\": \"skip\", \"marker\": {\"color\": \"rgb(25.0,200,200)\"}, \"mode\": \"markers\", \"x\": [0, 1, 2, 3, 4], \"y\": [0.4866666666666666, 0.9099999999999991, 0.9822222222222217, 0.9988888888888888, 1.0], \"type\": \"scatter\", \"uid\": \"6c2f3da9-daf0-4535-b435-b61599ceb0e3\"}, {\"hoverinfo\": \"skip\", \"marker\": {\"color\": \"rgb(25.0,200,200)\"}, \"mode\": \"markers\", \"x\": [0, 1, 2, 3, 4], \"y\": [0.47444444444444445, 0.8899999999999999, 0.9622222222222223, 0.9877777777777779, 1.0], \"type\": \"scatter\", \"uid\": \"e29d075e-9301-4e3e-b47c-8b17cfc6b10a\"}, {\"hoverinfo\": \"skip\", \"marker\": {\"color\": \"rgb(25.0,200,200)\"}, \"mode\": \"markers\", \"x\": [0, 1, 2, 3], \"y\": [0.4833333333333333, 0.926666666666666, 0.9911111111111108, 1.0], \"type\": \"scatter\", \"uid\": \"1dfcd7e6-bfcd-4090-a0a9-a06567daff59\"}, {\"hoverinfo\": \"skip\", \"marker\": {\"color\": \"rgb(25.0,200,200)\"}, \"mode\": \"markers\", \"x\": [0, 1, 2, 3, 4, 5], \"y\": [0.5055555555555555, 0.9099999999999997, 0.9777777777777777, 0.9866666666666667, 0.9955555555555555, 1.0], \"type\": \"scatter\", \"uid\": \"4a944208-f94c-48b0-9493-86cea8b2a3d2\"}, {\"hoverinfo\": \"skip\", \"marker\": {\"color\": \"rgb(25.0,200,200)\"}, \"mode\": \"markers\", \"x\": [0, 1, 2], \"y\": [0.521111111111111, 0.9611111111111111, 1.0], \"type\": \"scatter\", \"uid\": \"88ad9ce9-c465-4df5-8e5b-40fb5b2a96c5\"}, {\"hoverinfo\": \"skip\", \"marker\": {\"color\": \"rgb(25.0,200,200)\"}, \"mode\": \"markers\", \"x\": [0, 1, 2], \"y\": [0.5522222222222222, 0.9855555555555554, 1.0], \"type\": \"scatter\", \"uid\": \"fe16259e-70d7-4538-879a-f637178575ad\"}, {\"hoverinfo\": \"skip\", \"marker\": {\"color\": \"rgb(25.0,200,200)\"}, \"mode\": \"markers\", \"x\": [0, 1, 2, 3, 4, 5, 6], \"y\": [0.5277777777777777, 0.888888888888888, 0.9433333333333325, 0.9711111111111108, 0.9844444444444442, 0.9966666666666666, 1.0], \"type\": \"scatter\", \"uid\": \"4f6364ad-7fc3-4b96-af26-2c8920563ffa\"}, {\"hoverinfo\": \"skip\", \"marker\": {\"color\": \"rgb(25.0,200,200)\"}, \"mode\": \"markers\", \"x\": [0, 1, 2, 3], \"y\": [0.47444444444444445, 0.9188888888888883, 0.9777777777777774, 1.0], \"type\": \"scatter\", \"uid\": \"2bf2f6ab-31ae-4da2-8898-2d67d8d0c98d\"}, {\"hoverinfo\": \"skip\", \"marker\": {\"color\": \"rgb(50.0,200,200)\"}, \"mode\": \"markers\", \"x\": [0, 1, 2, 3], \"y\": [0.4855555555555555, 0.9211111111111108, 0.9933333333333333, 1.0], \"type\": \"scatter\", \"uid\": \"b2e590a7-34c3-4e6d-9882-8d54c0e44bf0\"}, {\"hoverinfo\": \"skip\", \"marker\": {\"color\": \"rgb(50.0,200,200)\"}, \"mode\": \"markers\", \"x\": [0, 1, 2, 3, 4, 5, 6], \"y\": [0.46666666666666656, 0.8755555555555552, 0.951111111111111, 0.9788888888888888, 0.99, 0.9966666666666667, 1.0], \"type\": \"scatter\", \"uid\": \"158755dc-265c-40f2-9150-6d9dc2e5084f\"}, {\"hoverinfo\": \"skip\", \"marker\": {\"color\": \"rgb(50.0,200,200)\"}, \"mode\": \"markers\", \"x\": [0, 1, 2, 3, 4, 5, 6], \"y\": [0.4733333333333333, 0.9111111111111104, 0.9611111111111105, 0.9766666666666661, 0.992222222222222, 0.9988888888888888, 1.0], \"type\": \"scatter\", \"uid\": \"3d20f81f-367e-47af-b658-e2d09c9831d9\"}, {\"hoverinfo\": \"skip\", \"marker\": {\"color\": \"rgb(50.0,200,200)\"}, \"mode\": \"markers\", \"x\": [0, 1, 2, 3, 4], \"y\": [0.4966666666666667, 0.922222222222222, 0.9811111111111107, 0.992222222222222, 1.0], \"type\": \"scatter\", \"uid\": \"4b30e29a-72da-43e4-a50b-0e497025b279\"}, {\"hoverinfo\": \"skip\", \"marker\": {\"color\": \"rgb(50.0,200,200)\"}, \"mode\": \"markers\", \"x\": [0, 1, 2, 3], \"y\": [0.5233333333333333, 0.9488888888888884, 0.9922222222222221, 1.0], \"type\": \"scatter\", \"uid\": \"597f7157-b2ce-4146-a169-7085087222ea\"}, {\"hoverinfo\": \"skip\", \"marker\": {\"color\": \"rgb(50.0,200,200)\"}, \"mode\": \"markers\", \"x\": [0, 1, 2, 3, 4, 5], \"y\": [0.4922222222222222, 0.9266666666666655, 0.976666666666666, 0.9911111111111108, 0.9966666666666666, 1.0], \"type\": \"scatter\", \"uid\": \"c5bdc43a-c626-4430-a881-32ef6392d9e0\"}, {\"hoverinfo\": \"skip\", \"marker\": {\"color\": \"rgb(50.0,200,200)\"}, \"mode\": \"markers\", \"x\": [0, 1, 2, 3], \"y\": [0.5222222222222221, 0.9622222222222223, 0.9933333333333334, 1.0], \"type\": \"scatter\", \"uid\": \"dfa96029-0a6f-45c9-933d-dc26eb910b66\"}, {\"hoverinfo\": \"skip\", \"marker\": {\"color\": \"rgb(50.0,200,200)\"}, \"mode\": \"markers\", \"x\": [0, 1, 2, 3, 4, 5], \"y\": [0.4655555555555553, 0.8922222222222216, 0.9766666666666662, 0.983333333333333, 0.9944444444444442, 1.0], \"type\": \"scatter\", \"uid\": \"06503d70-d9d8-4329-ba07-ba875abf6aa4\"}, {\"hoverinfo\": \"skip\", \"marker\": {\"color\": \"rgb(50.0,200,200)\"}, \"mode\": \"markers\", \"x\": [0, 1, 2, 3, 4, 5], \"y\": [0.48444444444444434, 0.8866666666666663, 0.9477777777777774, 0.9822222222222219, 0.9977777777777778, 1.0], \"type\": \"scatter\", \"uid\": \"52842dbe-2f6c-4af8-9cf0-a04f810cc1f2\"}, {\"hoverinfo\": \"skip\", \"marker\": {\"color\": \"rgb(50.0,200,200)\"}, \"mode\": \"markers\", \"x\": [0, 1, 2, 3, 4], \"y\": [0.4899999999999999, 0.8877777777777769, 0.9688888888888885, 0.9966666666666666, 1.0], \"type\": \"scatter\", \"uid\": \"26f674c5-62dd-46a2-aa13-745c963d2d03\"}, {\"hoverinfo\": \"skip\", \"marker\": {\"color\": \"rgb(75.0,200,200)\"}, \"mode\": \"markers\", \"x\": [0, 1, 2, 3, 4, 5, 6], \"y\": [0.4611111111111111, 0.8966666666666658, 0.9644444444444438, 0.9811111111111107, 0.9911111111111108, 0.9988888888888888, 1.0], \"type\": \"scatter\", \"uid\": \"0a16d207-dca4-4155-9883-06febad6aafb\"}, {\"hoverinfo\": \"skip\", \"marker\": {\"color\": \"rgb(75.0,200,200)\"}, \"mode\": \"markers\", \"x\": [0, 1, 2, 3, 4, 5], \"y\": [0.5266666666666666, 0.94111111111111, 0.9755555555555548, 0.9866666666666662, 0.9944444444444442, 1.0], \"type\": \"scatter\", \"uid\": \"2f97f816-29d9-4043-95d8-cec13e8f8a27\"}, {\"hoverinfo\": \"skip\", \"marker\": {\"color\": \"rgb(75.0,200,200)\"}, \"mode\": \"markers\", \"x\": [0, 1, 2, 3, 4, 5], \"y\": [0.5422222222222222, 0.935555555555555, 0.9833333333333332, 0.99, 0.9988888888888888, 1.0], \"type\": \"scatter\", \"uid\": \"746da42d-a354-45b2-8129-f1507f4d075f\"}, {\"hoverinfo\": \"skip\", \"marker\": {\"color\": \"rgb(75.0,200,200)\"}, \"mode\": \"markers\", \"x\": [0, 1, 2, 3], \"y\": [0.5244444444444445, 0.9366666666666659, 0.9911111111111108, 1.0], \"type\": \"scatter\", \"uid\": \"8f542ef1-ee72-48af-966e-3722dc4c4fd5\"}, {\"hoverinfo\": \"skip\", \"marker\": {\"color\": \"rgb(75.0,200,200)\"}, \"mode\": \"markers\", \"x\": [0, 1, 2, 3], \"y\": [0.47222222222222227, 0.9411111111111106, 0.9933333333333333, 1.0], \"type\": \"scatter\", \"uid\": \"1a993cc3-e0d8-4637-b577-480fe21e2b52\"}, {\"hoverinfo\": \"skip\", \"marker\": {\"color\": \"rgb(75.0,200,200)\"}, \"mode\": \"markers\", \"x\": [0, 1, 2, 3, 4, 5, 6], \"y\": [0.43555555555555536, 0.8488888888888881, 0.948888888888888, 0.9788888888888883, 0.9888888888888886, 0.9955555555555554, 1.0], \"type\": \"scatter\", \"uid\": \"009dc1eb-f7f4-4d40-a9c5-49aaad0deff7\"}, {\"hoverinfo\": \"skip\", \"marker\": {\"color\": \"rgb(75.0,200,200)\"}, \"mode\": \"markers\", \"x\": [0, 1, 2, 3, 4, 5], \"y\": [0.5088888888888888, 0.9199999999999996, 0.9711111111111107, 0.9877777777777775, 0.9955555555555554, 1.0], \"type\": \"scatter\", \"uid\": \"af9df91e-dfbc-44ce-a4a9-f73d61c36735\"}, {\"hoverinfo\": \"skip\", \"marker\": {\"color\": \"rgb(75.0,200,200)\"}, \"mode\": \"markers\", \"x\": [0, 1, 2], \"y\": [0.5011111111111113, 0.9799999999999999, 1.0], \"type\": \"scatter\", \"uid\": \"ee5cef48-57d8-4b4b-953e-02e6d8a36bdf\"}, {\"hoverinfo\": \"skip\", \"marker\": {\"color\": \"rgb(75.0,200,200)\"}, \"mode\": \"markers\", \"x\": [0, 1, 2, 3, 4, 5, 6, 7, 8], \"y\": [0.49333333333333323, 0.8688888888888884, 0.92, 0.9544444444444443, 0.9755555555555554, 0.9822222222222221, 0.9888888888888888, 0.9966666666666667, 1.0], \"type\": \"scatter\", \"uid\": \"50173929-3cce-481d-a85e-49d253394a29\"}, {\"hoverinfo\": \"skip\", \"marker\": {\"color\": \"rgb(75.0,200,200)\"}, \"mode\": \"markers\", \"x\": [0, 1, 2, 3], \"y\": [0.48444444444444423, 0.9344444444444439, 0.9944444444444442, 1.0], \"type\": \"scatter\", \"uid\": \"5a88ac0f-a4c5-42bf-b66b-0ffdb5416cde\"}, {\"hoverinfo\": \"skip\", \"marker\": {\"color\": \"rgb(100.0,200,200)\"}, \"mode\": \"markers\", \"x\": [0, 1, 2, 3, 4, 5], \"y\": [0.5322222222222223, 0.9177777777777769, 0.9777777777777772, 0.9888888888888886, 0.9988888888888888, 1.0], \"type\": \"scatter\", \"uid\": \"787aacf6-f3f6-492c-94f0-c3ec43b8f9c5\"}, {\"hoverinfo\": \"skip\", \"marker\": {\"color\": \"rgb(100.0,200,200)\"}, \"mode\": \"markers\", \"x\": [0, 1, 2], \"y\": [0.5133333333333335, 0.9588888888888882, 1.0], \"type\": \"scatter\", \"uid\": \"e44c35cc-31fd-46f4-9000-2139e2bdf32b\"}, {\"hoverinfo\": \"skip\", \"marker\": {\"color\": \"rgb(100.0,200,200)\"}, \"mode\": \"markers\", \"x\": [0, 1, 2, 3, 4, 5, 6, 7], \"y\": [0.5077777777777779, 0.915555555555555, 0.9544444444444438, 0.9688888888888881, 0.9777777777777772, 0.9855555555555552, 0.9966666666666666, 1.0], \"type\": \"scatter\", \"uid\": \"331eee47-96ba-4d19-9149-ea5869010af0\"}, {\"hoverinfo\": \"skip\", \"marker\": {\"color\": \"rgb(100.0,200,200)\"}, \"mode\": \"markers\", \"x\": [0, 1, 2, 3, 4], \"y\": [0.4511111111111113, 0.9144444444444442, 0.983333333333333, 0.9977777777777778, 1.0], \"type\": \"scatter\", \"uid\": \"2a6377fd-af42-485f-9366-2a1fa7454a40\"}, {\"hoverinfo\": \"skip\", \"marker\": {\"color\": \"rgb(100.0,200,200)\"}, \"mode\": \"markers\", \"x\": [0, 1, 2, 3, 4], \"y\": [0.5177777777777778, 0.9488888888888881, 0.9833333333333328, 0.992222222222222, 1.0], \"type\": \"scatter\", \"uid\": \"115da76c-07aa-45a6-bdee-e53a56fe78c7\"}, {\"hoverinfo\": \"skip\", \"marker\": {\"color\": \"rgb(100.0,200,200)\"}, \"mode\": \"markers\", \"x\": [0, 1, 2], \"y\": [0.4799999999999999, 0.9277777777777775, 1.0], \"type\": \"scatter\", \"uid\": \"1aadfa0d-80db-47df-bdaf-c87f0ac7c572\"}, {\"hoverinfo\": \"skip\", \"marker\": {\"color\": \"rgb(100.0,200,200)\"}, \"mode\": \"markers\", \"x\": [0, 1, 2, 3], \"y\": [0.4599999999999999, 0.9111111111111104, 0.982222222222222, 1.0], \"type\": \"scatter\", \"uid\": \"8998ed0a-6f00-430f-9d2d-a51f4d5b68eb\"}, {\"hoverinfo\": \"skip\", \"marker\": {\"color\": \"rgb(100.0,200,200)\"}, \"mode\": \"markers\", \"x\": [0, 1, 2, 3], \"y\": [0.5022222222222222, 0.9411111111111103, 0.9933333333333332, 1.0], \"type\": \"scatter\", \"uid\": \"f0ac49e9-b9ad-45d4-9933-0c58a5d0c2cb\"}, {\"hoverinfo\": \"skip\", \"marker\": {\"color\": \"rgb(100.0,200,200)\"}, \"mode\": \"markers\", \"x\": [0, 1, 2, 3, 4, 5, 6], \"y\": [0.442222222222222, 0.8799999999999993, 0.9433333333333329, 0.9677777777777774, 0.9833333333333332, 0.9944444444444445, 1.0], \"type\": \"scatter\", \"uid\": \"f0d9e727-31c9-4ade-b52e-5d38471de070\"}, {\"hoverinfo\": \"skip\", \"marker\": {\"color\": \"rgb(100.0,200,200)\"}, \"mode\": \"markers\", \"x\": [0, 1, 2, 3, 4], \"y\": [0.4333333333333333, 0.9011111111111108, 0.9744444444444441, 0.9955555555555555, 1.0], \"type\": \"scatter\", \"uid\": \"5c06c520-3e3a-4beb-ba43-a8c78676e1b2\"}, {\"hoverinfo\": \"skip\", \"marker\": {\"color\": \"rgb(125.0,200,200)\"}, \"mode\": \"markers\", \"x\": [0, 1, 2, 3, 4, 5, 6, 7], \"y\": [0.4655555555555555, 0.8988888888888877, 0.95111111111111, 0.9666666666666657, 0.9755555555555548, 0.9833333333333328, 0.9933333333333332, 1.0], \"type\": \"scatter\", \"uid\": \"df065bbf-2b39-41c2-8168-38fa855d54fb\"}, {\"hoverinfo\": \"skip\", \"marker\": {\"color\": \"rgb(125.0,200,200)\"}, \"mode\": \"markers\", \"x\": [0, 1, 2, 3, 4], \"y\": [0.45111111111111124, 0.8922222222222213, 0.9655555555555552, 0.9955555555555554, 1.0], \"type\": \"scatter\", \"uid\": \"d7e365a6-16ab-4657-99e1-b787f3adb2c7\"}, {\"hoverinfo\": \"skip\", \"marker\": {\"color\": \"rgb(125.0,200,200)\"}, \"mode\": \"markers\", \"x\": [0, 1, 2], \"y\": [0.5144444444444443, 0.9844444444444445, 1.0], \"type\": \"scatter\", \"uid\": \"3f953b78-7f01-450f-aa02-a95d90f6bb2a\"}, {\"hoverinfo\": \"skip\", \"marker\": {\"color\": \"rgb(125.0,200,200)\"}, \"mode\": \"markers\", \"x\": [0, 1, 2, 3, 4, 5, 6], \"y\": [0.46888888888888886, 0.9188888888888882, 0.9777777777777772, 0.984444444444444, 0.9933333333333332, 0.9988888888888888, 1.0], \"type\": \"scatter\", \"uid\": \"654e9de7-e85b-45d3-bb06-41f92043efe8\"}, {\"hoverinfo\": \"skip\", \"marker\": {\"color\": \"rgb(125.0,200,200)\"}, \"mode\": \"markers\", \"x\": [0, 1, 2, 3, 4, 5], \"y\": [0.4977777777777779, 0.8933333333333328, 0.9544444444444439, 0.9799999999999999, 0.9966666666666667, 1.0], \"type\": \"scatter\", \"uid\": \"228c4a86-03cf-4e80-bafc-b1f07944c335\"}, {\"hoverinfo\": \"skip\", \"marker\": {\"color\": \"rgb(125.0,200,200)\"}, \"mode\": \"markers\", \"x\": [0, 1, 2, 3, 4], \"y\": [0.521111111111111, 0.9066666666666662, 0.9822222222222219, 0.9933333333333332, 1.0], \"type\": \"scatter\", \"uid\": \"770c68f3-c3c8-44bb-a250-71fde21546ec\"}, {\"hoverinfo\": \"skip\", \"marker\": {\"color\": \"rgb(125.0,200,200)\"}, \"mode\": \"markers\", \"x\": [0, 1, 2, 3], \"y\": [0.5155555555555558, 0.9166666666666667, 0.9844444444444442, 1.0], \"type\": \"scatter\", \"uid\": \"2d7bf219-f437-4cb0-a040-7e1c88d8e723\"}, {\"hoverinfo\": \"skip\", \"marker\": {\"color\": \"rgb(125.0,200,200)\"}, \"mode\": \"markers\", \"x\": [0, 1, 2, 3, 4, 5, 6, 7], \"y\": [0.5366666666666667, 0.9155555555555549, 0.9555555555555554, 0.9677777777777778, 0.9766666666666667, 0.9866666666666667, 0.9955555555555555, 1.0], \"type\": \"scatter\", \"uid\": \"fa8208a7-9e69-4eac-95c8-8c3aa2b40cb4\"}, {\"hoverinfo\": \"skip\", \"marker\": {\"color\": \"rgb(125.0,200,200)\"}, \"mode\": \"markers\", \"x\": [0, 1, 2, 3, 4], \"y\": [0.5166666666666667, 0.926666666666666, 0.9655555555555552, 0.9877777777777778, 1.0], \"type\": \"scatter\", \"uid\": \"d11f7f6a-f059-4ffa-86e3-5e4d2eec718f\"}, {\"hoverinfo\": \"skip\", \"marker\": {\"color\": \"rgb(125.0,200,200)\"}, \"mode\": \"markers\", \"x\": [0, 1, 2, 3, 4], \"y\": [0.5422222222222223, 0.9377777777777778, 0.9733333333333334, 0.9966666666666667, 1.0], \"type\": \"scatter\", \"uid\": \"419fbc4a-7406-43b4-a42a-0235045dd028\"}, {\"hoverinfo\": \"skip\", \"marker\": {\"color\": \"rgb(150.0,200,200)\"}, \"mode\": \"markers\", \"x\": [0, 1, 2, 3, 4], \"y\": [0.5055555555555554, 0.9199999999999992, 0.984444444444444, 0.9977777777777778, 1.0], \"type\": \"scatter\", \"uid\": \"09b9ecd8-2ba0-4fb8-b82e-95c5f9d2eb62\"}, {\"hoverinfo\": \"skip\", \"marker\": {\"color\": \"rgb(150.0,200,200)\"}, \"mode\": \"markers\", \"x\": [0, 1, 2, 3, 4, 5, 6], \"y\": [0.4699999999999998, 0.8811111111111106, 0.945555555555555, 0.9611111111111107, 0.9822222222222221, 0.9955555555555555, 1.0], \"type\": \"scatter\", \"uid\": \"bcffa6b8-1958-41ef-b9ac-2ee11cb44d2e\"}, {\"hoverinfo\": \"skip\", \"marker\": {\"color\": \"rgb(150.0,200,200)\"}, \"mode\": \"markers\", \"x\": [0, 1, 2, 3], \"y\": [0.5644444444444444, 0.9633333333333327, 0.9944444444444442, 1.0], \"type\": \"scatter\", \"uid\": \"cc5938ee-1629-4738-8356-d436d0156f2f\"}, {\"hoverinfo\": \"skip\", \"marker\": {\"color\": \"rgb(150.0,200,200)\"}, \"mode\": \"markers\", \"x\": [0, 1, 2, 3], \"y\": [0.4933333333333331, 0.9455555555555551, 0.9966666666666666, 1.0], \"type\": \"scatter\", \"uid\": \"67dfc677-d3b0-4756-a85a-28a264fb265e\"}, {\"hoverinfo\": \"skip\", \"marker\": {\"color\": \"rgb(150.0,200,200)\"}, \"mode\": \"markers\", \"x\": [0, 1, 2, 3, 4], \"y\": [0.5044444444444443, 0.9244444444444434, 0.9811111111111106, 0.9977777777777778, 1.0], \"type\": \"scatter\", \"uid\": \"d0a8fdd7-db3e-4593-bfed-f3cabb88884a\"}, {\"hoverinfo\": \"skip\", \"marker\": {\"color\": \"rgb(150.0,200,200)\"}, \"mode\": \"markers\", \"x\": [0, 1, 2, 3, 4, 5, 6], \"y\": [0.5077777777777776, 0.9255555555555542, 0.9711111111111103, 0.984444444444444, 0.9899999999999998, 0.9988888888888888, 1.0], \"type\": \"scatter\", \"uid\": \"eacaa799-5939-4917-89ff-1b5c6a348b68\"}, {\"hoverinfo\": \"skip\", \"marker\": {\"color\": \"rgb(150.0,200,200)\"}, \"mode\": \"markers\", \"x\": [0, 1, 2, 3], \"y\": [0.4955555555555556, 0.9322222222222217, 0.991111111111111, 1.0], \"type\": \"scatter\", \"uid\": \"b9b93304-ce9a-4f13-99a1-997030f621c7\"}, {\"hoverinfo\": \"skip\", \"marker\": {\"color\": \"rgb(150.0,200,200)\"}, \"mode\": \"markers\", \"x\": [0, 1, 2, 3], \"y\": [0.49222222222222206, 0.9277777777777771, 0.9888888888888886, 1.0], \"type\": \"scatter\", \"uid\": \"70a31b73-c6fa-42fd-8a0b-af556cf78571\"}, {\"hoverinfo\": \"skip\", \"marker\": {\"color\": \"rgb(150.0,200,200)\"}, \"mode\": \"markers\", \"x\": [0, 1, 2, 3, 4], \"y\": [0.5433333333333333, 0.925555555555555, 0.9788888888888885, 0.9988888888888888, 1.0], \"type\": \"scatter\", \"uid\": \"ac15b3ed-f792-40af-8f10-b735147c3aa3\"}, {\"hoverinfo\": \"skip\", \"marker\": {\"color\": \"rgb(150.0,200,200)\"}, \"mode\": \"markers\", \"x\": [0, 1, 2, 3, 4], \"y\": [0.49111111111111116, 0.9277777777777767, 0.9788888888888886, 0.9977777777777778, 1.0], \"type\": \"scatter\", \"uid\": \"532966ae-21cf-4626-94f4-6fac1fb284b1\"}, {\"hoverinfo\": \"skip\", \"marker\": {\"color\": \"rgb(175.0,200,200)\"}, \"mode\": \"markers\", \"x\": [0, 1, 2, 3], \"y\": [0.44, 0.9344444444444442, 0.9911111111111112, 1.0], \"type\": \"scatter\", \"uid\": \"af96034e-2c46-4145-8c0e-dd485ae58fb9\"}, {\"hoverinfo\": \"skip\", \"marker\": {\"color\": \"rgb(175.0,200,200)\"}, \"mode\": \"markers\", \"x\": [0, 1, 2, 3, 4, 5], \"y\": [0.5155555555555558, 0.9433333333333327, 0.9822222222222217, 0.9933333333333332, 0.9988888888888888, 1.0], \"type\": \"scatter\", \"uid\": \"d3442927-0c54-468d-9225-0401f9a289b0\"}, {\"hoverinfo\": \"skip\", \"marker\": {\"color\": \"rgb(175.0,200,200)\"}, \"mode\": \"markers\", \"x\": [0, 1, 2, 3], \"y\": [0.4966666666666666, 0.9277777777777777, 0.9866666666666666, 1.0], \"type\": \"scatter\", \"uid\": \"170e3a68-12fe-4ac3-9aec-7840ec1e7c1d\"}, {\"hoverinfo\": \"skip\", \"marker\": {\"color\": \"rgb(175.0,200,200)\"}, \"mode\": \"markers\", \"x\": [0, 1, 2, 3], \"y\": [0.491111111111111, 0.9399999999999993, 0.9866666666666665, 1.0], \"type\": \"scatter\", \"uid\": \"fe3a4ac5-4b26-40bc-a401-ae6196bee359\"}, {\"hoverinfo\": \"skip\", \"marker\": {\"color\": \"rgb(175.0,200,200)\"}, \"mode\": \"markers\", \"x\": [0, 1, 2, 3], \"y\": [0.4844444444444445, 0.9388888888888889, 0.9933333333333332, 1.0], \"type\": \"scatter\", \"uid\": \"6e46006b-cf25-4732-9ee3-d2ebd5ff7dff\"}, {\"hoverinfo\": \"skip\", \"marker\": {\"color\": \"rgb(175.0,200,200)\"}, \"mode\": \"markers\", \"x\": [0, 1, 2, 3, 4], \"y\": [0.5088888888888888, 0.92, 0.9744444444444443, 0.9966666666666666, 1.0], \"type\": \"scatter\", \"uid\": \"d0f3797d-56a6-4876-a35d-11d517f4a9a3\"}, {\"hoverinfo\": \"skip\", \"marker\": {\"color\": \"rgb(175.0,200,200)\"}, \"mode\": \"markers\", \"x\": [0, 1, 2, 3, 4], \"y\": [0.4511111111111111, 0.904444444444444, 0.9677777777777774, 0.9988888888888888, 1.0], \"type\": \"scatter\", \"uid\": \"f0e284a4-b051-48b8-adbb-7e16968357fe\"}, {\"hoverinfo\": \"skip\", \"marker\": {\"color\": \"rgb(175.0,200,200)\"}, \"mode\": \"markers\", \"x\": [0, 1, 2, 3, 4], \"y\": [0.4433333333333334, 0.9199999999999998, 0.9833333333333332, 0.9955555555555555, 1.0], \"type\": \"scatter\", \"uid\": \"17f43d6c-4601-42aa-a6d6-bc5e5922c10e\"}, {\"hoverinfo\": \"skip\", \"marker\": {\"color\": \"rgb(175.0,200,200)\"}, \"mode\": \"markers\", \"x\": [0, 1, 2, 3, 4, 5, 6, 7, 8], \"y\": [0.5077777777777778, 0.8799999999999994, 0.9344444444444437, 0.9611111111111103, 0.9744444444444439, 0.9833333333333328, 0.9899999999999998, 0.9955555555555554, 1.0], \"type\": \"scatter\", \"uid\": \"b143926f-0b73-4d99-b3d7-4ffaab7e2a0f\"}, {\"hoverinfo\": \"skip\", \"marker\": {\"color\": \"rgb(175.0,200,200)\"}, \"mode\": \"markers\", \"x\": [0, 1, 2, 3], \"y\": [0.49111111111111105, 0.9555555555555552, 0.9988888888888888, 1.0], \"type\": \"scatter\", \"uid\": \"ee6d09a2-5e5b-420f-9d54-6f7a0efb9fce\"}, {\"hoverinfo\": \"skip\", \"marker\": {\"color\": \"rgb(200.0,200,200)\"}, \"mode\": \"markers\", \"x\": [0, 1, 2, 3, 4, 5], \"y\": [0.4544444444444442, 0.8888888888888884, 0.972222222222222, 0.9866666666666666, 0.9988888888888888, 1.0], \"type\": \"scatter\", \"uid\": \"2feaf7b3-86ba-4b22-b9d7-4da71b4eaabc\"}, {\"hoverinfo\": \"skip\", \"marker\": {\"color\": \"rgb(200.0,200,200)\"}, \"mode\": \"markers\", \"x\": [0, 1, 2, 3], \"y\": [0.5011111111111111, 0.925555555555555, 0.9833333333333332, 1.0], \"type\": \"scatter\", \"uid\": \"f18d0bdc-8862-4c81-8e70-9dba0e05c202\"}, {\"hoverinfo\": \"skip\", \"marker\": {\"color\": \"rgb(200.0,200,200)\"}, \"mode\": \"markers\", \"x\": [0, 1, 2, 3, 4], \"y\": [0.451111111111111, 0.905555555555555, 0.9566666666666661, 0.9911111111111108, 1.0], \"type\": \"scatter\", \"uid\": \"ccce24c7-2dec-40c2-bedb-421b0164a731\"}, {\"hoverinfo\": \"skip\", \"marker\": {\"color\": \"rgb(200.0,200,200)\"}, \"mode\": \"markers\", \"x\": [0, 1, 2, 3, 4], \"y\": [0.5033333333333334, 0.9077777777777771, 0.9744444444444441, 0.9977777777777778, 1.0], \"type\": \"scatter\", \"uid\": \"148b3533-ae11-4355-b160-da3ed44c2007\"}, {\"hoverinfo\": \"skip\", \"marker\": {\"color\": \"rgb(200.0,200,200)\"}, \"mode\": \"markers\", \"x\": [0, 1, 2, 3, 4, 5], \"y\": [0.4388888888888888, 0.8411111111111111, 0.947777777777778, 0.9811111111111112, 0.9988888888888888, 1.0], \"type\": \"scatter\", \"uid\": \"44600a01-e879-4163-acea-e34f7fb41c00\"}, {\"hoverinfo\": \"skip\", \"marker\": {\"color\": \"rgb(200.0,200,200)\"}, \"mode\": \"markers\", \"x\": [0, 1, 2, 3], \"y\": [0.4766666666666666, 0.926666666666666, 0.9844444444444442, 1.0], \"type\": \"scatter\", \"uid\": \"29321e85-1074-4769-b6f8-b16efd8ca8d4\"}, {\"hoverinfo\": \"skip\", \"marker\": {\"color\": \"rgb(200.0,200,200)\"}, \"mode\": \"markers\", \"x\": [0, 1, 2, 3], \"y\": [0.5011111111111113, 0.933333333333333, 0.9877777777777778, 1.0], \"type\": \"scatter\", \"uid\": \"1ba15325-f3af-4a22-a03a-7e176fb2ec52\"}, {\"hoverinfo\": \"skip\", \"marker\": {\"color\": \"rgb(200.0,200,200)\"}, \"mode\": \"markers\", \"x\": [0, 1, 2, 3, 4], \"y\": [0.4866666666666664, 0.9566666666666661, 0.9911111111111108, 0.9977777777777778, 1.0], \"type\": \"scatter\", \"uid\": \"858a0fff-2cca-4eb5-8de1-005400cb8233\"}, {\"hoverinfo\": \"skip\", \"marker\": {\"color\": \"rgb(200.0,200,200)\"}, \"mode\": \"markers\", \"x\": [0, 1, 2, 3], \"y\": [0.5377777777777777, 0.9499999999999997, 0.9944444444444445, 1.0], \"type\": \"scatter\", \"uid\": \"83b5fd44-d289-467e-8363-c6eb213026e3\"}, {\"hoverinfo\": \"skip\", \"marker\": {\"color\": \"rgb(200.0,200,200)\"}, \"mode\": \"markers\", \"x\": [0, 1, 2, 3], \"y\": [0.48888888888888915, 0.9277777777777773, 0.9911111111111112, 1.0], \"type\": \"scatter\", \"uid\": \"d8879b1a-6406-4162-a2b2-4c30d94a5dfa\"}, {\"hoverinfo\": \"skip\", \"marker\": {\"color\": \"rgb(225.0,200,200)\"}, \"mode\": \"markers\", \"x\": [0, 1, 2, 3, 4], \"y\": [0.4444444444444443, 0.9155555555555551, 0.9866666666666666, 0.9966666666666666, 1.0], \"type\": \"scatter\", \"uid\": \"61da9365-5194-42bc-9e88-d4dd5e5f7e52\"}, {\"hoverinfo\": \"skip\", \"marker\": {\"color\": \"rgb(225.0,200,200)\"}, \"mode\": \"markers\", \"x\": [0, 1, 2, 3, 4, 5, 6, 7], \"y\": [0.4922222222222221, 0.8866666666666648, 0.9533333333333323, 0.9733333333333326, 0.9799999999999994, 0.9911111111111108, 0.9988888888888888, 1.0], \"type\": \"scatter\", \"uid\": \"6cd25f01-6c19-49c2-a6d1-21dab0a097c0\"}, {\"hoverinfo\": \"skip\", \"marker\": {\"color\": \"rgb(225.0,200,200)\"}, \"mode\": \"markers\", \"x\": [0, 1, 2, 3, 4], \"y\": [0.5288888888888887, 0.9355555555555546, 0.9799999999999994, 0.9977777777777778, 1.0], \"type\": \"scatter\", \"uid\": \"be4df75f-1d29-4073-a3c0-7c1408924654\"}, {\"hoverinfo\": \"skip\", \"marker\": {\"color\": \"rgb(225.0,200,200)\"}, \"mode\": \"markers\", \"x\": [0, 1, 2, 3, 4], \"y\": [0.5133333333333333, 0.951111111111111, 0.9911111111111112, 0.9977777777777778, 1.0], \"type\": \"scatter\", \"uid\": \"d3349c7d-e604-4180-913c-488486dea997\"}, {\"hoverinfo\": \"skip\", \"marker\": {\"color\": \"rgb(225.0,200,200)\"}, \"mode\": \"markers\", \"x\": [0, 1, 2, 3, 4, 5, 6], \"y\": [0.4877777777777778, 0.884444444444444, 0.95, 0.9733333333333334, 0.9855555555555555, 0.9955555555555555, 1.0], \"type\": \"scatter\", \"uid\": \"612cc3fe-0cf3-48da-a25d-337a4c1c3e72\"}, {\"hoverinfo\": \"skip\", \"marker\": {\"color\": \"rgb(225.0,200,200)\"}, \"mode\": \"markers\", \"x\": [0, 1, 2, 3, 4, 5], \"y\": [0.43000000000000027, 0.8922222222222213, 0.9544444444444434, 0.9722222222222214, 0.9933333333333332, 1.0], \"type\": \"scatter\", \"uid\": \"cf53191f-e478-493e-b837-c8e5eaddbc9b\"}, {\"hoverinfo\": \"skip\", \"marker\": {\"color\": \"rgb(225.0,200,200)\"}, \"mode\": \"markers\", \"x\": [0, 1, 2], \"y\": [0.5444444444444444, 0.9844444444444441, 1.0], \"type\": \"scatter\", \"uid\": \"ce0110f6-8cbe-482c-a5e8-a7394c25422f\"}, {\"hoverinfo\": \"skip\", \"marker\": {\"color\": \"rgb(225.0,200,200)\"}, \"mode\": \"markers\", \"x\": [0, 1, 2, 3], \"y\": [0.43555555555555536, 0.9333333333333331, 0.9977777777777778, 1.0], \"type\": \"scatter\", \"uid\": \"6fb1c26c-f327-43e2-a74d-c864efc7db12\"}, {\"hoverinfo\": \"skip\", \"marker\": {\"color\": \"rgb(225.0,200,200)\"}, \"mode\": \"markers\", \"x\": [0, 1, 2, 3], \"y\": [0.4499999999999998, 0.9255555555555557, 0.9933333333333334, 1.0], \"type\": \"scatter\", \"uid\": \"bb720c64-d09f-4828-8c12-e8ffce1d38e3\"}, {\"hoverinfo\": \"skip\", \"marker\": {\"color\": \"rgb(225.0,200,200)\"}, \"mode\": \"markers\", \"x\": [0, 1, 2, 3], \"y\": [0.5266666666666664, 0.9466666666666663, 0.992222222222222, 1.0], \"type\": \"scatter\", \"uid\": \"b36db36d-51f6-4e96-9d11-5d6b95a6e27d\"}], {\"showlegend\": false, \"title\": {\"text\": \"Percent social optimal vs Iteration Num\"}}, {\"showLink\": false, \"linkText\": \"Export to plot.ly\", \"plotlyServerURL\": \"https://plot.ly\"}); \n",
       "}\n",
       "});</script><script type=\"text/javascript\">window.addEventListener(\"resize\", function(){if (document.getElementById(\"37d77ef1-ef7b-47d2-b87d-e4c2e18b6220\")) {window._Plotly.Plots.resize(document.getElementById(\"37d77ef1-ef7b-47d2-b87d-e4c2e18b6220\"));};})</script>"
      ],
      "text/vnd.plotly.v1+html": [
       "<div id=\"37d77ef1-ef7b-47d2-b87d-e4c2e18b6220\" style=\"height: 525px; width: 100%;\" class=\"plotly-graph-div\"></div><script type=\"text/javascript\">require([\"plotly\"], function(Plotly) { window.PLOTLYENV=window.PLOTLYENV || {};window.PLOTLYENV.BASE_URL=\"https://plot.ly\";\n",
       "if (document.getElementById(\"37d77ef1-ef7b-47d2-b87d-e4c2e18b6220\")) {\n",
       "    Plotly.newPlot(\"37d77ef1-ef7b-47d2-b87d-e4c2e18b6220\", [{\"hoverinfo\": \"skip\", \"marker\": {\"color\": \"rgb(0.0,200,200)\"}, \"mode\": \"markers\", \"x\": [0, 1, 2, 3, 4], \"y\": [0.468888888888889, 0.8988888888888877, 0.9833333333333328, 0.9988888888888888, 1.0], \"type\": \"scatter\", \"uid\": \"5197e671-3ece-4aa3-89b8-b06219b5f461\"}, {\"hoverinfo\": \"skip\", \"marker\": {\"color\": \"rgb(0.0,200,200)\"}, \"mode\": \"markers\", \"x\": [0, 1, 2, 3, 4, 5], \"y\": [0.47000000000000014, 0.8966666666666654, 0.968888888888888, 0.9811111111111106, 0.9955555555555554, 1.0], \"type\": \"scatter\", \"uid\": \"fc9e9d10-8b34-4159-98cd-1843a8fd8d69\"}, {\"hoverinfo\": \"skip\", \"marker\": {\"color\": \"rgb(0.0,200,200)\"}, \"mode\": \"markers\", \"x\": [0, 1, 2, 3, 4, 5], \"y\": [0.5088888888888886, 0.9299999999999992, 0.9788888888888883, 0.9877777777777774, 0.9988888888888888, 1.0], \"type\": \"scatter\", \"uid\": \"64127e31-5cf0-47c5-9627-2c03c6d89d5a\"}, {\"hoverinfo\": \"skip\", \"marker\": {\"color\": \"rgb(0.0,200,200)\"}, \"mode\": \"markers\", \"x\": [0, 1, 2, 3, 4], \"y\": [0.47555555555555573, 0.9077777777777776, 0.9811111111111108, 0.9933333333333332, 1.0], \"type\": \"scatter\", \"uid\": \"5b57d581-7a3a-450a-8eb9-48ceab98e1bb\"}, {\"hoverinfo\": \"skip\", \"marker\": {\"color\": \"rgb(0.0,200,200)\"}, \"mode\": \"markers\", \"x\": [0, 1, 2, 3], \"y\": [0.6077777777777774, 0.9499999999999993, 0.9877777777777778, 1.0], \"type\": \"scatter\", \"uid\": \"ff61984e-4fca-4f56-988a-b26bb0b3d4e2\"}, {\"hoverinfo\": \"skip\", \"marker\": {\"color\": \"rgb(0.0,200,200)\"}, \"mode\": \"markers\", \"x\": [0, 1, 2, 3, 4], \"y\": [0.5133333333333332, 0.904444444444444, 0.9611111111111107, 0.9955555555555554, 1.0], \"type\": \"scatter\", \"uid\": \"d51c644a-1e04-413c-b0a8-9f4a088f5e40\"}, {\"hoverinfo\": \"skip\", \"marker\": {\"color\": \"rgb(0.0,200,200)\"}, \"mode\": \"markers\", \"x\": [0, 1, 2, 3, 4, 5], \"y\": [0.478888888888889, 0.9288888888888879, 0.966666666666666, 0.9833333333333328, 0.9933333333333332, 1.0], \"type\": \"scatter\", \"uid\": \"08ba23b9-4014-486c-9f84-7e99f571a493\"}, {\"hoverinfo\": \"skip\", \"marker\": {\"color\": \"rgb(0.0,200,200)\"}, \"mode\": \"markers\", \"x\": [0, 1, 2, 3, 4, 5], \"y\": [0.5388888888888888, 0.9377777777777777, 0.9788888888888888, 0.9844444444444446, 0.9955555555555555, 1.0], \"type\": \"scatter\", \"uid\": \"b40a876c-fa81-43cf-a8c0-00975c94907f\"}, {\"hoverinfo\": \"skip\", \"marker\": {\"color\": \"rgb(0.0,200,200)\"}, \"mode\": \"markers\", \"x\": [0, 1, 2, 3], \"y\": [0.5122222222222222, 0.9622222222222218, 0.9944444444444445, 1.0], \"type\": \"scatter\", \"uid\": \"e0197f52-e6bb-4e97-8798-8a66dd955cef\"}, {\"hoverinfo\": \"skip\", \"marker\": {\"color\": \"rgb(0.0,200,200)\"}, \"mode\": \"markers\", \"x\": [0, 1, 2, 3, 4], \"y\": [0.5266666666666664, 0.9455555555555545, 0.9733333333333326, 0.992222222222222, 1.0], \"type\": \"scatter\", \"uid\": \"23296919-cd06-4aa8-ba3c-c0c866ebe31c\"}, {\"hoverinfo\": \"skip\", \"marker\": {\"color\": \"rgb(25.0,200,200)\"}, \"mode\": \"markers\", \"x\": [0, 1, 2, 3], \"y\": [0.4933333333333333, 0.9544444444444443, 0.9911111111111112, 1.0], \"type\": \"scatter\", \"uid\": \"5f4d02c1-7a7e-44de-8589-91ec0da1598d\"}, {\"hoverinfo\": \"skip\", \"marker\": {\"color\": \"rgb(25.0,200,200)\"}, \"mode\": \"markers\", \"x\": [0, 1, 2], \"y\": [0.5722222222222221, 0.9888888888888888, 1.0], \"type\": \"scatter\", \"uid\": \"844fd8b8-a108-4029-a840-2b511e2edbb7\"}, {\"hoverinfo\": \"skip\", \"marker\": {\"color\": \"rgb(25.0,200,200)\"}, \"mode\": \"markers\", \"x\": [0, 1, 2, 3, 4], \"y\": [0.4866666666666666, 0.9099999999999991, 0.9822222222222217, 0.9988888888888888, 1.0], \"type\": \"scatter\", \"uid\": \"6c2f3da9-daf0-4535-b435-b61599ceb0e3\"}, {\"hoverinfo\": \"skip\", \"marker\": {\"color\": \"rgb(25.0,200,200)\"}, \"mode\": \"markers\", \"x\": [0, 1, 2, 3, 4], \"y\": [0.47444444444444445, 0.8899999999999999, 0.9622222222222223, 0.9877777777777779, 1.0], \"type\": \"scatter\", \"uid\": \"e29d075e-9301-4e3e-b47c-8b17cfc6b10a\"}, {\"hoverinfo\": \"skip\", \"marker\": {\"color\": \"rgb(25.0,200,200)\"}, \"mode\": \"markers\", \"x\": [0, 1, 2, 3], \"y\": [0.4833333333333333, 0.926666666666666, 0.9911111111111108, 1.0], \"type\": \"scatter\", \"uid\": \"1dfcd7e6-bfcd-4090-a0a9-a06567daff59\"}, {\"hoverinfo\": \"skip\", \"marker\": {\"color\": \"rgb(25.0,200,200)\"}, \"mode\": \"markers\", \"x\": [0, 1, 2, 3, 4, 5], \"y\": [0.5055555555555555, 0.9099999999999997, 0.9777777777777777, 0.9866666666666667, 0.9955555555555555, 1.0], \"type\": \"scatter\", \"uid\": \"4a944208-f94c-48b0-9493-86cea8b2a3d2\"}, {\"hoverinfo\": \"skip\", \"marker\": {\"color\": \"rgb(25.0,200,200)\"}, \"mode\": \"markers\", \"x\": [0, 1, 2], \"y\": [0.521111111111111, 0.9611111111111111, 1.0], \"type\": \"scatter\", \"uid\": \"88ad9ce9-c465-4df5-8e5b-40fb5b2a96c5\"}, {\"hoverinfo\": \"skip\", \"marker\": {\"color\": \"rgb(25.0,200,200)\"}, \"mode\": \"markers\", \"x\": [0, 1, 2], \"y\": [0.5522222222222222, 0.9855555555555554, 1.0], \"type\": \"scatter\", \"uid\": \"fe16259e-70d7-4538-879a-f637178575ad\"}, {\"hoverinfo\": \"skip\", \"marker\": {\"color\": \"rgb(25.0,200,200)\"}, \"mode\": \"markers\", \"x\": [0, 1, 2, 3, 4, 5, 6], \"y\": [0.5277777777777777, 0.888888888888888, 0.9433333333333325, 0.9711111111111108, 0.9844444444444442, 0.9966666666666666, 1.0], \"type\": \"scatter\", \"uid\": \"4f6364ad-7fc3-4b96-af26-2c8920563ffa\"}, {\"hoverinfo\": \"skip\", \"marker\": {\"color\": \"rgb(25.0,200,200)\"}, \"mode\": \"markers\", \"x\": [0, 1, 2, 3], \"y\": [0.47444444444444445, 0.9188888888888883, 0.9777777777777774, 1.0], \"type\": \"scatter\", \"uid\": \"2bf2f6ab-31ae-4da2-8898-2d67d8d0c98d\"}, {\"hoverinfo\": \"skip\", \"marker\": {\"color\": \"rgb(50.0,200,200)\"}, \"mode\": \"markers\", \"x\": [0, 1, 2, 3], \"y\": [0.4855555555555555, 0.9211111111111108, 0.9933333333333333, 1.0], \"type\": \"scatter\", \"uid\": \"b2e590a7-34c3-4e6d-9882-8d54c0e44bf0\"}, {\"hoverinfo\": \"skip\", \"marker\": {\"color\": \"rgb(50.0,200,200)\"}, \"mode\": \"markers\", \"x\": [0, 1, 2, 3, 4, 5, 6], \"y\": [0.46666666666666656, 0.8755555555555552, 0.951111111111111, 0.9788888888888888, 0.99, 0.9966666666666667, 1.0], \"type\": \"scatter\", \"uid\": \"158755dc-265c-40f2-9150-6d9dc2e5084f\"}, {\"hoverinfo\": \"skip\", \"marker\": {\"color\": \"rgb(50.0,200,200)\"}, \"mode\": \"markers\", \"x\": [0, 1, 2, 3, 4, 5, 6], \"y\": [0.4733333333333333, 0.9111111111111104, 0.9611111111111105, 0.9766666666666661, 0.992222222222222, 0.9988888888888888, 1.0], \"type\": \"scatter\", \"uid\": \"3d20f81f-367e-47af-b658-e2d09c9831d9\"}, {\"hoverinfo\": \"skip\", \"marker\": {\"color\": \"rgb(50.0,200,200)\"}, \"mode\": \"markers\", \"x\": [0, 1, 2, 3, 4], \"y\": [0.4966666666666667, 0.922222222222222, 0.9811111111111107, 0.992222222222222, 1.0], \"type\": \"scatter\", \"uid\": \"4b30e29a-72da-43e4-a50b-0e497025b279\"}, {\"hoverinfo\": \"skip\", \"marker\": {\"color\": \"rgb(50.0,200,200)\"}, \"mode\": \"markers\", \"x\": [0, 1, 2, 3], \"y\": [0.5233333333333333, 0.9488888888888884, 0.9922222222222221, 1.0], \"type\": \"scatter\", \"uid\": \"597f7157-b2ce-4146-a169-7085087222ea\"}, {\"hoverinfo\": \"skip\", \"marker\": {\"color\": \"rgb(50.0,200,200)\"}, \"mode\": \"markers\", \"x\": [0, 1, 2, 3, 4, 5], \"y\": [0.4922222222222222, 0.9266666666666655, 0.976666666666666, 0.9911111111111108, 0.9966666666666666, 1.0], \"type\": \"scatter\", \"uid\": \"c5bdc43a-c626-4430-a881-32ef6392d9e0\"}, {\"hoverinfo\": \"skip\", \"marker\": {\"color\": \"rgb(50.0,200,200)\"}, \"mode\": \"markers\", \"x\": [0, 1, 2, 3], \"y\": [0.5222222222222221, 0.9622222222222223, 0.9933333333333334, 1.0], \"type\": \"scatter\", \"uid\": \"dfa96029-0a6f-45c9-933d-dc26eb910b66\"}, {\"hoverinfo\": \"skip\", \"marker\": {\"color\": \"rgb(50.0,200,200)\"}, \"mode\": \"markers\", \"x\": [0, 1, 2, 3, 4, 5], \"y\": [0.4655555555555553, 0.8922222222222216, 0.9766666666666662, 0.983333333333333, 0.9944444444444442, 1.0], \"type\": \"scatter\", \"uid\": \"06503d70-d9d8-4329-ba07-ba875abf6aa4\"}, {\"hoverinfo\": \"skip\", \"marker\": {\"color\": \"rgb(50.0,200,200)\"}, \"mode\": \"markers\", \"x\": [0, 1, 2, 3, 4, 5], \"y\": [0.48444444444444434, 0.8866666666666663, 0.9477777777777774, 0.9822222222222219, 0.9977777777777778, 1.0], \"type\": \"scatter\", \"uid\": \"52842dbe-2f6c-4af8-9cf0-a04f810cc1f2\"}, {\"hoverinfo\": \"skip\", \"marker\": {\"color\": \"rgb(50.0,200,200)\"}, \"mode\": \"markers\", \"x\": [0, 1, 2, 3, 4], \"y\": [0.4899999999999999, 0.8877777777777769, 0.9688888888888885, 0.9966666666666666, 1.0], \"type\": \"scatter\", \"uid\": \"26f674c5-62dd-46a2-aa13-745c963d2d03\"}, {\"hoverinfo\": \"skip\", \"marker\": {\"color\": \"rgb(75.0,200,200)\"}, \"mode\": \"markers\", \"x\": [0, 1, 2, 3, 4, 5, 6], \"y\": [0.4611111111111111, 0.8966666666666658, 0.9644444444444438, 0.9811111111111107, 0.9911111111111108, 0.9988888888888888, 1.0], \"type\": \"scatter\", \"uid\": \"0a16d207-dca4-4155-9883-06febad6aafb\"}, {\"hoverinfo\": \"skip\", \"marker\": {\"color\": \"rgb(75.0,200,200)\"}, \"mode\": \"markers\", \"x\": [0, 1, 2, 3, 4, 5], \"y\": [0.5266666666666666, 0.94111111111111, 0.9755555555555548, 0.9866666666666662, 0.9944444444444442, 1.0], \"type\": \"scatter\", \"uid\": \"2f97f816-29d9-4043-95d8-cec13e8f8a27\"}, {\"hoverinfo\": \"skip\", \"marker\": {\"color\": \"rgb(75.0,200,200)\"}, \"mode\": \"markers\", \"x\": [0, 1, 2, 3, 4, 5], \"y\": [0.5422222222222222, 0.935555555555555, 0.9833333333333332, 0.99, 0.9988888888888888, 1.0], \"type\": \"scatter\", \"uid\": \"746da42d-a354-45b2-8129-f1507f4d075f\"}, {\"hoverinfo\": \"skip\", \"marker\": {\"color\": \"rgb(75.0,200,200)\"}, \"mode\": \"markers\", \"x\": [0, 1, 2, 3], \"y\": [0.5244444444444445, 0.9366666666666659, 0.9911111111111108, 1.0], \"type\": \"scatter\", \"uid\": \"8f542ef1-ee72-48af-966e-3722dc4c4fd5\"}, {\"hoverinfo\": \"skip\", \"marker\": {\"color\": \"rgb(75.0,200,200)\"}, \"mode\": \"markers\", \"x\": [0, 1, 2, 3], \"y\": [0.47222222222222227, 0.9411111111111106, 0.9933333333333333, 1.0], \"type\": \"scatter\", \"uid\": \"1a993cc3-e0d8-4637-b577-480fe21e2b52\"}, {\"hoverinfo\": \"skip\", \"marker\": {\"color\": \"rgb(75.0,200,200)\"}, \"mode\": \"markers\", \"x\": [0, 1, 2, 3, 4, 5, 6], \"y\": [0.43555555555555536, 0.8488888888888881, 0.948888888888888, 0.9788888888888883, 0.9888888888888886, 0.9955555555555554, 1.0], \"type\": \"scatter\", \"uid\": \"009dc1eb-f7f4-4d40-a9c5-49aaad0deff7\"}, {\"hoverinfo\": \"skip\", \"marker\": {\"color\": \"rgb(75.0,200,200)\"}, \"mode\": \"markers\", \"x\": [0, 1, 2, 3, 4, 5], \"y\": [0.5088888888888888, 0.9199999999999996, 0.9711111111111107, 0.9877777777777775, 0.9955555555555554, 1.0], \"type\": \"scatter\", \"uid\": \"af9df91e-dfbc-44ce-a4a9-f73d61c36735\"}, {\"hoverinfo\": \"skip\", \"marker\": {\"color\": \"rgb(75.0,200,200)\"}, \"mode\": \"markers\", \"x\": [0, 1, 2], \"y\": [0.5011111111111113, 0.9799999999999999, 1.0], \"type\": \"scatter\", \"uid\": \"ee5cef48-57d8-4b4b-953e-02e6d8a36bdf\"}, {\"hoverinfo\": \"skip\", \"marker\": {\"color\": \"rgb(75.0,200,200)\"}, \"mode\": \"markers\", \"x\": [0, 1, 2, 3, 4, 5, 6, 7, 8], \"y\": [0.49333333333333323, 0.8688888888888884, 0.92, 0.9544444444444443, 0.9755555555555554, 0.9822222222222221, 0.9888888888888888, 0.9966666666666667, 1.0], \"type\": \"scatter\", \"uid\": \"50173929-3cce-481d-a85e-49d253394a29\"}, {\"hoverinfo\": \"skip\", \"marker\": {\"color\": \"rgb(75.0,200,200)\"}, \"mode\": \"markers\", \"x\": [0, 1, 2, 3], \"y\": [0.48444444444444423, 0.9344444444444439, 0.9944444444444442, 1.0], \"type\": \"scatter\", \"uid\": \"5a88ac0f-a4c5-42bf-b66b-0ffdb5416cde\"}, {\"hoverinfo\": \"skip\", \"marker\": {\"color\": \"rgb(100.0,200,200)\"}, \"mode\": \"markers\", \"x\": [0, 1, 2, 3, 4, 5], \"y\": [0.5322222222222223, 0.9177777777777769, 0.9777777777777772, 0.9888888888888886, 0.9988888888888888, 1.0], \"type\": \"scatter\", \"uid\": \"787aacf6-f3f6-492c-94f0-c3ec43b8f9c5\"}, {\"hoverinfo\": \"skip\", \"marker\": {\"color\": \"rgb(100.0,200,200)\"}, \"mode\": \"markers\", \"x\": [0, 1, 2], \"y\": [0.5133333333333335, 0.9588888888888882, 1.0], \"type\": \"scatter\", \"uid\": \"e44c35cc-31fd-46f4-9000-2139e2bdf32b\"}, {\"hoverinfo\": \"skip\", \"marker\": {\"color\": \"rgb(100.0,200,200)\"}, \"mode\": \"markers\", \"x\": [0, 1, 2, 3, 4, 5, 6, 7], \"y\": [0.5077777777777779, 0.915555555555555, 0.9544444444444438, 0.9688888888888881, 0.9777777777777772, 0.9855555555555552, 0.9966666666666666, 1.0], \"type\": \"scatter\", \"uid\": \"331eee47-96ba-4d19-9149-ea5869010af0\"}, {\"hoverinfo\": \"skip\", \"marker\": {\"color\": \"rgb(100.0,200,200)\"}, \"mode\": \"markers\", \"x\": [0, 1, 2, 3, 4], \"y\": [0.4511111111111113, 0.9144444444444442, 0.983333333333333, 0.9977777777777778, 1.0], \"type\": \"scatter\", \"uid\": \"2a6377fd-af42-485f-9366-2a1fa7454a40\"}, {\"hoverinfo\": \"skip\", \"marker\": {\"color\": \"rgb(100.0,200,200)\"}, \"mode\": \"markers\", \"x\": [0, 1, 2, 3, 4], \"y\": [0.5177777777777778, 0.9488888888888881, 0.9833333333333328, 0.992222222222222, 1.0], \"type\": \"scatter\", \"uid\": \"115da76c-07aa-45a6-bdee-e53a56fe78c7\"}, {\"hoverinfo\": \"skip\", \"marker\": {\"color\": \"rgb(100.0,200,200)\"}, \"mode\": \"markers\", \"x\": [0, 1, 2], \"y\": [0.4799999999999999, 0.9277777777777775, 1.0], \"type\": \"scatter\", \"uid\": \"1aadfa0d-80db-47df-bdaf-c87f0ac7c572\"}, {\"hoverinfo\": \"skip\", \"marker\": {\"color\": \"rgb(100.0,200,200)\"}, \"mode\": \"markers\", \"x\": [0, 1, 2, 3], \"y\": [0.4599999999999999, 0.9111111111111104, 0.982222222222222, 1.0], \"type\": \"scatter\", \"uid\": \"8998ed0a-6f00-430f-9d2d-a51f4d5b68eb\"}, {\"hoverinfo\": \"skip\", \"marker\": {\"color\": \"rgb(100.0,200,200)\"}, \"mode\": \"markers\", \"x\": [0, 1, 2, 3], \"y\": [0.5022222222222222, 0.9411111111111103, 0.9933333333333332, 1.0], \"type\": \"scatter\", \"uid\": \"f0ac49e9-b9ad-45d4-9933-0c58a5d0c2cb\"}, {\"hoverinfo\": \"skip\", \"marker\": {\"color\": \"rgb(100.0,200,200)\"}, \"mode\": \"markers\", \"x\": [0, 1, 2, 3, 4, 5, 6], \"y\": [0.442222222222222, 0.8799999999999993, 0.9433333333333329, 0.9677777777777774, 0.9833333333333332, 0.9944444444444445, 1.0], \"type\": \"scatter\", \"uid\": \"f0d9e727-31c9-4ade-b52e-5d38471de070\"}, {\"hoverinfo\": \"skip\", \"marker\": {\"color\": \"rgb(100.0,200,200)\"}, \"mode\": \"markers\", \"x\": [0, 1, 2, 3, 4], \"y\": [0.4333333333333333, 0.9011111111111108, 0.9744444444444441, 0.9955555555555555, 1.0], \"type\": \"scatter\", \"uid\": \"5c06c520-3e3a-4beb-ba43-a8c78676e1b2\"}, {\"hoverinfo\": \"skip\", \"marker\": {\"color\": \"rgb(125.0,200,200)\"}, \"mode\": \"markers\", \"x\": [0, 1, 2, 3, 4, 5, 6, 7], \"y\": [0.4655555555555555, 0.8988888888888877, 0.95111111111111, 0.9666666666666657, 0.9755555555555548, 0.9833333333333328, 0.9933333333333332, 1.0], \"type\": \"scatter\", \"uid\": \"df065bbf-2b39-41c2-8168-38fa855d54fb\"}, {\"hoverinfo\": \"skip\", \"marker\": {\"color\": \"rgb(125.0,200,200)\"}, \"mode\": \"markers\", \"x\": [0, 1, 2, 3, 4], \"y\": [0.45111111111111124, 0.8922222222222213, 0.9655555555555552, 0.9955555555555554, 1.0], \"type\": \"scatter\", \"uid\": \"d7e365a6-16ab-4657-99e1-b787f3adb2c7\"}, {\"hoverinfo\": \"skip\", \"marker\": {\"color\": \"rgb(125.0,200,200)\"}, \"mode\": \"markers\", \"x\": [0, 1, 2], \"y\": [0.5144444444444443, 0.9844444444444445, 1.0], \"type\": \"scatter\", \"uid\": \"3f953b78-7f01-450f-aa02-a95d90f6bb2a\"}, {\"hoverinfo\": \"skip\", \"marker\": {\"color\": \"rgb(125.0,200,200)\"}, \"mode\": \"markers\", \"x\": [0, 1, 2, 3, 4, 5, 6], \"y\": [0.46888888888888886, 0.9188888888888882, 0.9777777777777772, 0.984444444444444, 0.9933333333333332, 0.9988888888888888, 1.0], \"type\": \"scatter\", \"uid\": \"654e9de7-e85b-45d3-bb06-41f92043efe8\"}, {\"hoverinfo\": \"skip\", \"marker\": {\"color\": \"rgb(125.0,200,200)\"}, \"mode\": \"markers\", \"x\": [0, 1, 2, 3, 4, 5], \"y\": [0.4977777777777779, 0.8933333333333328, 0.9544444444444439, 0.9799999999999999, 0.9966666666666667, 1.0], \"type\": \"scatter\", \"uid\": \"228c4a86-03cf-4e80-bafc-b1f07944c335\"}, {\"hoverinfo\": \"skip\", \"marker\": {\"color\": \"rgb(125.0,200,200)\"}, \"mode\": \"markers\", \"x\": [0, 1, 2, 3, 4], \"y\": [0.521111111111111, 0.9066666666666662, 0.9822222222222219, 0.9933333333333332, 1.0], \"type\": \"scatter\", \"uid\": \"770c68f3-c3c8-44bb-a250-71fde21546ec\"}, {\"hoverinfo\": \"skip\", \"marker\": {\"color\": \"rgb(125.0,200,200)\"}, \"mode\": \"markers\", \"x\": [0, 1, 2, 3], \"y\": [0.5155555555555558, 0.9166666666666667, 0.9844444444444442, 1.0], \"type\": \"scatter\", \"uid\": \"2d7bf219-f437-4cb0-a040-7e1c88d8e723\"}, {\"hoverinfo\": \"skip\", \"marker\": {\"color\": \"rgb(125.0,200,200)\"}, \"mode\": \"markers\", \"x\": [0, 1, 2, 3, 4, 5, 6, 7], \"y\": [0.5366666666666667, 0.9155555555555549, 0.9555555555555554, 0.9677777777777778, 0.9766666666666667, 0.9866666666666667, 0.9955555555555555, 1.0], \"type\": \"scatter\", \"uid\": \"fa8208a7-9e69-4eac-95c8-8c3aa2b40cb4\"}, {\"hoverinfo\": \"skip\", \"marker\": {\"color\": \"rgb(125.0,200,200)\"}, \"mode\": \"markers\", \"x\": [0, 1, 2, 3, 4], \"y\": [0.5166666666666667, 0.926666666666666, 0.9655555555555552, 0.9877777777777778, 1.0], \"type\": \"scatter\", \"uid\": \"d11f7f6a-f059-4ffa-86e3-5e4d2eec718f\"}, {\"hoverinfo\": \"skip\", \"marker\": {\"color\": \"rgb(125.0,200,200)\"}, \"mode\": \"markers\", \"x\": [0, 1, 2, 3, 4], \"y\": [0.5422222222222223, 0.9377777777777778, 0.9733333333333334, 0.9966666666666667, 1.0], \"type\": \"scatter\", \"uid\": \"419fbc4a-7406-43b4-a42a-0235045dd028\"}, {\"hoverinfo\": \"skip\", \"marker\": {\"color\": \"rgb(150.0,200,200)\"}, \"mode\": \"markers\", \"x\": [0, 1, 2, 3, 4], \"y\": [0.5055555555555554, 0.9199999999999992, 0.984444444444444, 0.9977777777777778, 1.0], \"type\": \"scatter\", \"uid\": \"09b9ecd8-2ba0-4fb8-b82e-95c5f9d2eb62\"}, {\"hoverinfo\": \"skip\", \"marker\": {\"color\": \"rgb(150.0,200,200)\"}, \"mode\": \"markers\", \"x\": [0, 1, 2, 3, 4, 5, 6], \"y\": [0.4699999999999998, 0.8811111111111106, 0.945555555555555, 0.9611111111111107, 0.9822222222222221, 0.9955555555555555, 1.0], \"type\": \"scatter\", \"uid\": \"bcffa6b8-1958-41ef-b9ac-2ee11cb44d2e\"}, {\"hoverinfo\": \"skip\", \"marker\": {\"color\": \"rgb(150.0,200,200)\"}, \"mode\": \"markers\", \"x\": [0, 1, 2, 3], \"y\": [0.5644444444444444, 0.9633333333333327, 0.9944444444444442, 1.0], \"type\": \"scatter\", \"uid\": \"cc5938ee-1629-4738-8356-d436d0156f2f\"}, {\"hoverinfo\": \"skip\", \"marker\": {\"color\": \"rgb(150.0,200,200)\"}, \"mode\": \"markers\", \"x\": [0, 1, 2, 3], \"y\": [0.4933333333333331, 0.9455555555555551, 0.9966666666666666, 1.0], \"type\": \"scatter\", \"uid\": \"67dfc677-d3b0-4756-a85a-28a264fb265e\"}, {\"hoverinfo\": \"skip\", \"marker\": {\"color\": \"rgb(150.0,200,200)\"}, \"mode\": \"markers\", \"x\": [0, 1, 2, 3, 4], \"y\": [0.5044444444444443, 0.9244444444444434, 0.9811111111111106, 0.9977777777777778, 1.0], \"type\": \"scatter\", \"uid\": \"d0a8fdd7-db3e-4593-bfed-f3cabb88884a\"}, {\"hoverinfo\": \"skip\", \"marker\": {\"color\": \"rgb(150.0,200,200)\"}, \"mode\": \"markers\", \"x\": [0, 1, 2, 3, 4, 5, 6], \"y\": [0.5077777777777776, 0.9255555555555542, 0.9711111111111103, 0.984444444444444, 0.9899999999999998, 0.9988888888888888, 1.0], \"type\": \"scatter\", \"uid\": \"eacaa799-5939-4917-89ff-1b5c6a348b68\"}, {\"hoverinfo\": \"skip\", \"marker\": {\"color\": \"rgb(150.0,200,200)\"}, \"mode\": \"markers\", \"x\": [0, 1, 2, 3], \"y\": [0.4955555555555556, 0.9322222222222217, 0.991111111111111, 1.0], \"type\": \"scatter\", \"uid\": \"b9b93304-ce9a-4f13-99a1-997030f621c7\"}, {\"hoverinfo\": \"skip\", \"marker\": {\"color\": \"rgb(150.0,200,200)\"}, \"mode\": \"markers\", \"x\": [0, 1, 2, 3], \"y\": [0.49222222222222206, 0.9277777777777771, 0.9888888888888886, 1.0], \"type\": \"scatter\", \"uid\": \"70a31b73-c6fa-42fd-8a0b-af556cf78571\"}, {\"hoverinfo\": \"skip\", \"marker\": {\"color\": \"rgb(150.0,200,200)\"}, \"mode\": \"markers\", \"x\": [0, 1, 2, 3, 4], \"y\": [0.5433333333333333, 0.925555555555555, 0.9788888888888885, 0.9988888888888888, 1.0], \"type\": \"scatter\", \"uid\": \"ac15b3ed-f792-40af-8f10-b735147c3aa3\"}, {\"hoverinfo\": \"skip\", \"marker\": {\"color\": \"rgb(150.0,200,200)\"}, \"mode\": \"markers\", \"x\": [0, 1, 2, 3, 4], \"y\": [0.49111111111111116, 0.9277777777777767, 0.9788888888888886, 0.9977777777777778, 1.0], \"type\": \"scatter\", \"uid\": \"532966ae-21cf-4626-94f4-6fac1fb284b1\"}, {\"hoverinfo\": \"skip\", \"marker\": {\"color\": \"rgb(175.0,200,200)\"}, \"mode\": \"markers\", \"x\": [0, 1, 2, 3], \"y\": [0.44, 0.9344444444444442, 0.9911111111111112, 1.0], \"type\": \"scatter\", \"uid\": \"af96034e-2c46-4145-8c0e-dd485ae58fb9\"}, {\"hoverinfo\": \"skip\", \"marker\": {\"color\": \"rgb(175.0,200,200)\"}, \"mode\": \"markers\", \"x\": [0, 1, 2, 3, 4, 5], \"y\": [0.5155555555555558, 0.9433333333333327, 0.9822222222222217, 0.9933333333333332, 0.9988888888888888, 1.0], \"type\": \"scatter\", \"uid\": \"d3442927-0c54-468d-9225-0401f9a289b0\"}, {\"hoverinfo\": \"skip\", \"marker\": {\"color\": \"rgb(175.0,200,200)\"}, \"mode\": \"markers\", \"x\": [0, 1, 2, 3], \"y\": [0.4966666666666666, 0.9277777777777777, 0.9866666666666666, 1.0], \"type\": \"scatter\", \"uid\": \"170e3a68-12fe-4ac3-9aec-7840ec1e7c1d\"}, {\"hoverinfo\": \"skip\", \"marker\": {\"color\": \"rgb(175.0,200,200)\"}, \"mode\": \"markers\", \"x\": [0, 1, 2, 3], \"y\": [0.491111111111111, 0.9399999999999993, 0.9866666666666665, 1.0], \"type\": \"scatter\", \"uid\": \"fe3a4ac5-4b26-40bc-a401-ae6196bee359\"}, {\"hoverinfo\": \"skip\", \"marker\": {\"color\": \"rgb(175.0,200,200)\"}, \"mode\": \"markers\", \"x\": [0, 1, 2, 3], \"y\": [0.4844444444444445, 0.9388888888888889, 0.9933333333333332, 1.0], \"type\": \"scatter\", \"uid\": \"6e46006b-cf25-4732-9ee3-d2ebd5ff7dff\"}, {\"hoverinfo\": \"skip\", \"marker\": {\"color\": \"rgb(175.0,200,200)\"}, \"mode\": \"markers\", \"x\": [0, 1, 2, 3, 4], \"y\": [0.5088888888888888, 0.92, 0.9744444444444443, 0.9966666666666666, 1.0], \"type\": \"scatter\", \"uid\": \"d0f3797d-56a6-4876-a35d-11d517f4a9a3\"}, {\"hoverinfo\": \"skip\", \"marker\": {\"color\": \"rgb(175.0,200,200)\"}, \"mode\": \"markers\", \"x\": [0, 1, 2, 3, 4], \"y\": [0.4511111111111111, 0.904444444444444, 0.9677777777777774, 0.9988888888888888, 1.0], \"type\": \"scatter\", \"uid\": \"f0e284a4-b051-48b8-adbb-7e16968357fe\"}, {\"hoverinfo\": \"skip\", \"marker\": {\"color\": \"rgb(175.0,200,200)\"}, \"mode\": \"markers\", \"x\": [0, 1, 2, 3, 4], \"y\": [0.4433333333333334, 0.9199999999999998, 0.9833333333333332, 0.9955555555555555, 1.0], \"type\": \"scatter\", \"uid\": \"17f43d6c-4601-42aa-a6d6-bc5e5922c10e\"}, {\"hoverinfo\": \"skip\", \"marker\": {\"color\": \"rgb(175.0,200,200)\"}, \"mode\": \"markers\", \"x\": [0, 1, 2, 3, 4, 5, 6, 7, 8], \"y\": [0.5077777777777778, 0.8799999999999994, 0.9344444444444437, 0.9611111111111103, 0.9744444444444439, 0.9833333333333328, 0.9899999999999998, 0.9955555555555554, 1.0], \"type\": \"scatter\", \"uid\": \"b143926f-0b73-4d99-b3d7-4ffaab7e2a0f\"}, {\"hoverinfo\": \"skip\", \"marker\": {\"color\": \"rgb(175.0,200,200)\"}, \"mode\": \"markers\", \"x\": [0, 1, 2, 3], \"y\": [0.49111111111111105, 0.9555555555555552, 0.9988888888888888, 1.0], \"type\": \"scatter\", \"uid\": \"ee6d09a2-5e5b-420f-9d54-6f7a0efb9fce\"}, {\"hoverinfo\": \"skip\", \"marker\": {\"color\": \"rgb(200.0,200,200)\"}, \"mode\": \"markers\", \"x\": [0, 1, 2, 3, 4, 5], \"y\": [0.4544444444444442, 0.8888888888888884, 0.972222222222222, 0.9866666666666666, 0.9988888888888888, 1.0], \"type\": \"scatter\", \"uid\": \"2feaf7b3-86ba-4b22-b9d7-4da71b4eaabc\"}, {\"hoverinfo\": \"skip\", \"marker\": {\"color\": \"rgb(200.0,200,200)\"}, \"mode\": \"markers\", \"x\": [0, 1, 2, 3], \"y\": [0.5011111111111111, 0.925555555555555, 0.9833333333333332, 1.0], \"type\": \"scatter\", \"uid\": \"f18d0bdc-8862-4c81-8e70-9dba0e05c202\"}, {\"hoverinfo\": \"skip\", \"marker\": {\"color\": \"rgb(200.0,200,200)\"}, \"mode\": \"markers\", \"x\": [0, 1, 2, 3, 4], \"y\": [0.451111111111111, 0.905555555555555, 0.9566666666666661, 0.9911111111111108, 1.0], \"type\": \"scatter\", \"uid\": \"ccce24c7-2dec-40c2-bedb-421b0164a731\"}, {\"hoverinfo\": \"skip\", \"marker\": {\"color\": \"rgb(200.0,200,200)\"}, \"mode\": \"markers\", \"x\": [0, 1, 2, 3, 4], \"y\": [0.5033333333333334, 0.9077777777777771, 0.9744444444444441, 0.9977777777777778, 1.0], \"type\": \"scatter\", \"uid\": \"148b3533-ae11-4355-b160-da3ed44c2007\"}, {\"hoverinfo\": \"skip\", \"marker\": {\"color\": \"rgb(200.0,200,200)\"}, \"mode\": \"markers\", \"x\": [0, 1, 2, 3, 4, 5], \"y\": [0.4388888888888888, 0.8411111111111111, 0.947777777777778, 0.9811111111111112, 0.9988888888888888, 1.0], \"type\": \"scatter\", \"uid\": \"44600a01-e879-4163-acea-e34f7fb41c00\"}, {\"hoverinfo\": \"skip\", \"marker\": {\"color\": \"rgb(200.0,200,200)\"}, \"mode\": \"markers\", \"x\": [0, 1, 2, 3], \"y\": [0.4766666666666666, 0.926666666666666, 0.9844444444444442, 1.0], \"type\": \"scatter\", \"uid\": \"29321e85-1074-4769-b6f8-b16efd8ca8d4\"}, {\"hoverinfo\": \"skip\", \"marker\": {\"color\": \"rgb(200.0,200,200)\"}, \"mode\": \"markers\", \"x\": [0, 1, 2, 3], \"y\": [0.5011111111111113, 0.933333333333333, 0.9877777777777778, 1.0], \"type\": \"scatter\", \"uid\": \"1ba15325-f3af-4a22-a03a-7e176fb2ec52\"}, {\"hoverinfo\": \"skip\", \"marker\": {\"color\": \"rgb(200.0,200,200)\"}, \"mode\": \"markers\", \"x\": [0, 1, 2, 3, 4], \"y\": [0.4866666666666664, 0.9566666666666661, 0.9911111111111108, 0.9977777777777778, 1.0], \"type\": \"scatter\", \"uid\": \"858a0fff-2cca-4eb5-8de1-005400cb8233\"}, {\"hoverinfo\": \"skip\", \"marker\": {\"color\": \"rgb(200.0,200,200)\"}, \"mode\": \"markers\", \"x\": [0, 1, 2, 3], \"y\": [0.5377777777777777, 0.9499999999999997, 0.9944444444444445, 1.0], \"type\": \"scatter\", \"uid\": \"83b5fd44-d289-467e-8363-c6eb213026e3\"}, {\"hoverinfo\": \"skip\", \"marker\": {\"color\": \"rgb(200.0,200,200)\"}, \"mode\": \"markers\", \"x\": [0, 1, 2, 3], \"y\": [0.48888888888888915, 0.9277777777777773, 0.9911111111111112, 1.0], \"type\": \"scatter\", \"uid\": \"d8879b1a-6406-4162-a2b2-4c30d94a5dfa\"}, {\"hoverinfo\": \"skip\", \"marker\": {\"color\": \"rgb(225.0,200,200)\"}, \"mode\": \"markers\", \"x\": [0, 1, 2, 3, 4], \"y\": [0.4444444444444443, 0.9155555555555551, 0.9866666666666666, 0.9966666666666666, 1.0], \"type\": \"scatter\", \"uid\": \"61da9365-5194-42bc-9e88-d4dd5e5f7e52\"}, {\"hoverinfo\": \"skip\", \"marker\": {\"color\": \"rgb(225.0,200,200)\"}, \"mode\": \"markers\", \"x\": [0, 1, 2, 3, 4, 5, 6, 7], \"y\": [0.4922222222222221, 0.8866666666666648, 0.9533333333333323, 0.9733333333333326, 0.9799999999999994, 0.9911111111111108, 0.9988888888888888, 1.0], \"type\": \"scatter\", \"uid\": \"6cd25f01-6c19-49c2-a6d1-21dab0a097c0\"}, {\"hoverinfo\": \"skip\", \"marker\": {\"color\": \"rgb(225.0,200,200)\"}, \"mode\": \"markers\", \"x\": [0, 1, 2, 3, 4], \"y\": [0.5288888888888887, 0.9355555555555546, 0.9799999999999994, 0.9977777777777778, 1.0], \"type\": \"scatter\", \"uid\": \"be4df75f-1d29-4073-a3c0-7c1408924654\"}, {\"hoverinfo\": \"skip\", \"marker\": {\"color\": \"rgb(225.0,200,200)\"}, \"mode\": \"markers\", \"x\": [0, 1, 2, 3, 4], \"y\": [0.5133333333333333, 0.951111111111111, 0.9911111111111112, 0.9977777777777778, 1.0], \"type\": \"scatter\", \"uid\": \"d3349c7d-e604-4180-913c-488486dea997\"}, {\"hoverinfo\": \"skip\", \"marker\": {\"color\": \"rgb(225.0,200,200)\"}, \"mode\": \"markers\", \"x\": [0, 1, 2, 3, 4, 5, 6], \"y\": [0.4877777777777778, 0.884444444444444, 0.95, 0.9733333333333334, 0.9855555555555555, 0.9955555555555555, 1.0], \"type\": \"scatter\", \"uid\": \"612cc3fe-0cf3-48da-a25d-337a4c1c3e72\"}, {\"hoverinfo\": \"skip\", \"marker\": {\"color\": \"rgb(225.0,200,200)\"}, \"mode\": \"markers\", \"x\": [0, 1, 2, 3, 4, 5], \"y\": [0.43000000000000027, 0.8922222222222213, 0.9544444444444434, 0.9722222222222214, 0.9933333333333332, 1.0], \"type\": \"scatter\", \"uid\": \"cf53191f-e478-493e-b837-c8e5eaddbc9b\"}, {\"hoverinfo\": \"skip\", \"marker\": {\"color\": \"rgb(225.0,200,200)\"}, \"mode\": \"markers\", \"x\": [0, 1, 2], \"y\": [0.5444444444444444, 0.9844444444444441, 1.0], \"type\": \"scatter\", \"uid\": \"ce0110f6-8cbe-482c-a5e8-a7394c25422f\"}, {\"hoverinfo\": \"skip\", \"marker\": {\"color\": \"rgb(225.0,200,200)\"}, \"mode\": \"markers\", \"x\": [0, 1, 2, 3], \"y\": [0.43555555555555536, 0.9333333333333331, 0.9977777777777778, 1.0], \"type\": \"scatter\", \"uid\": \"6fb1c26c-f327-43e2-a74d-c864efc7db12\"}, {\"hoverinfo\": \"skip\", \"marker\": {\"color\": \"rgb(225.0,200,200)\"}, \"mode\": \"markers\", \"x\": [0, 1, 2, 3], \"y\": [0.4499999999999998, 0.9255555555555557, 0.9933333333333334, 1.0], \"type\": \"scatter\", \"uid\": \"bb720c64-d09f-4828-8c12-e8ffce1d38e3\"}, {\"hoverinfo\": \"skip\", \"marker\": {\"color\": \"rgb(225.0,200,200)\"}, \"mode\": \"markers\", \"x\": [0, 1, 2, 3], \"y\": [0.5266666666666664, 0.9466666666666663, 0.992222222222222, 1.0], \"type\": \"scatter\", \"uid\": \"b36db36d-51f6-4e96-9d11-5d6b95a6e27d\"}], {\"showlegend\": false, \"title\": {\"text\": \"Percent social optimal vs Iteration Num\"}}, {\"showLink\": false, \"linkText\": \"Export to plot.ly\", \"plotlyServerURL\": \"https://plot.ly\"}); \n",
       "}\n",
       "});</script><script type=\"text/javascript\">window.addEventListener(\"resize\", function(){if (document.getElementById(\"37d77ef1-ef7b-47d2-b87d-e4c2e18b6220\")) {window._Plotly.Plots.resize(document.getElementById(\"37d77ef1-ef7b-47d2-b87d-e4c2e18b6220\"));};})</script>"
      ]
     },
     "metadata": {},
     "output_type": "display_data"
    }
   ],
   "source": [
    "plot_utils(simul_utils)"
   ]
  },
  {
   "cell_type": "code",
   "execution_count": 6,
   "metadata": {},
   "outputs": [
    {
     "data": {
      "application/vnd.plotly.v1+json": {
       "config": {
        "linkText": "Export to plot.ly",
        "plotlyServerURL": "https://plot.ly",
        "showLink": false
       },
       "data": [
        {
         "hoverinfo": "skip",
         "marker": {
          "color": "rgb(0.0,200,200)"
         },
         "mode": "markers",
         "type": "scatter",
         "uid": "7d331b6d-4d9f-453e-ae97-500911da73ef",
         "x": [
          0,
          1,
          2,
          3,
          4
         ],
         "y": [
          0.4477777777777778,
          0.8922222222222217,
          0.9577777777777778,
          0.9977777777777778,
          1
         ]
        },
        {
         "hoverinfo": "skip",
         "marker": {
          "color": "rgb(0.0,200,200)"
         },
         "mode": "markers",
         "type": "scatter",
         "uid": "3586ff8d-9732-4fed-8134-cf3e34d6b986",
         "x": [
          0,
          1,
          2,
          3
         ],
         "y": [
          0.45777777777777784,
          0.9455555555555551,
          0.992222222222222,
          1
         ]
        },
        {
         "hoverinfo": "skip",
         "marker": {
          "color": "rgb(0.0,200,200)"
         },
         "mode": "markers",
         "type": "scatter",
         "uid": "7cd4a558-21d1-4a5a-9023-35f1943b1451",
         "x": [
          0,
          1,
          2,
          3
         ],
         "y": [
          0.5044444444444445,
          0.931111111111111,
          0.9877777777777778,
          1
         ]
        },
        {
         "hoverinfo": "skip",
         "marker": {
          "color": "rgb(0.0,200,200)"
         },
         "mode": "markers",
         "type": "scatter",
         "uid": "bf2eb5df-479e-4493-bbba-ba0cb692eeab",
         "x": [
          0,
          1,
          2,
          3
         ],
         "y": [
          0.49111111111111116,
          0.919999999999999,
          0.9777777777777775,
          1
         ]
        },
        {
         "hoverinfo": "skip",
         "marker": {
          "color": "rgb(0.0,200,200)"
         },
         "mode": "markers",
         "type": "scatter",
         "uid": "74e5d20b-d41d-4e94-a736-2cb6619e0e33",
         "x": [
          0,
          1,
          2,
          3,
          4
         ],
         "y": [
          0.4966666666666666,
          0.9299999999999997,
          0.9811111111111108,
          0.9988888888888888,
          1
         ]
        },
        {
         "hoverinfo": "skip",
         "marker": {
          "color": "rgb(0.0,200,200)"
         },
         "mode": "markers",
         "type": "scatter",
         "uid": "84d48501-f301-46b1-b520-e0105eca3ec6",
         "x": [
          0,
          1,
          2,
          3,
          4,
          5
         ],
         "y": [
          0.5511111111111109,
          0.9644444444444439,
          0.9877777777777774,
          0.9955555555555554,
          0.9988888888888888,
          1
         ]
        },
        {
         "hoverinfo": "skip",
         "marker": {
          "color": "rgb(0.0,200,200)"
         },
         "mode": "markers",
         "type": "scatter",
         "uid": "b5e885db-e831-4fcd-9458-e0a4e5a9a2ef",
         "x": [
          0,
          1,
          2,
          3,
          4
         ],
         "y": [
          0.4988888888888892,
          0.9322222222222213,
          0.9811111111111108,
          0.9966666666666666,
          1
         ]
        },
        {
         "hoverinfo": "skip",
         "marker": {
          "color": "rgb(0.0,200,200)"
         },
         "mode": "markers",
         "type": "scatter",
         "uid": "0b0a4257-9d6a-4eda-bf09-39a45d1b5934",
         "x": [
          0,
          1,
          2,
          3
         ],
         "y": [
          0.5166666666666669,
          0.9533333333333327,
          0.9988888888888888,
          1
         ]
        },
        {
         "hoverinfo": "skip",
         "marker": {
          "color": "rgb(0.0,200,200)"
         },
         "mode": "markers",
         "type": "scatter",
         "uid": "4120ba74-c38c-43d3-a6fc-d45ca17e2aa0",
         "x": [
          0,
          1,
          2,
          3
         ],
         "y": [
          0.532222222222222,
          0.9422222222222216,
          0.9888888888888886,
          1
         ]
        },
        {
         "hoverinfo": "skip",
         "marker": {
          "color": "rgb(0.0,200,200)"
         },
         "mode": "markers",
         "type": "scatter",
         "uid": "0d67450e-d3ca-4dfd-8a4c-5ec8023d9c04",
         "x": [
          0,
          1,
          2,
          3
         ],
         "y": [
          0.43111111111111117,
          0.8966666666666667,
          0.9866666666666667,
          1
         ]
        },
        {
         "hoverinfo": "skip",
         "marker": {
          "color": "rgb(25.0,200,200)"
         },
         "mode": "markers",
         "type": "scatter",
         "uid": "a2975b3a-69aa-4e7f-91ff-7d43ee1781c2",
         "x": [
          0,
          1,
          2,
          3,
          4,
          5
         ],
         "y": [
          0.4455555555555555,
          0.875555555555555,
          0.9433333333333327,
          0.9766666666666666,
          0.9911111111111112,
          1
         ]
        },
        {
         "hoverinfo": "skip",
         "marker": {
          "color": "rgb(25.0,200,200)"
         },
         "mode": "markers",
         "type": "scatter",
         "uid": "c19a60cd-9635-4791-9cd8-8194ae42fdf7",
         "x": [
          0,
          1,
          2,
          3,
          4
         ],
         "y": [
          0.53,
          0.9099999999999991,
          0.9711111111111111,
          0.9977777777777778,
          1
         ]
        },
        {
         "hoverinfo": "skip",
         "marker": {
          "color": "rgb(25.0,200,200)"
         },
         "mode": "markers",
         "type": "scatter",
         "uid": "21880b5b-65ae-4dc4-b405-7c4d1c4cac84",
         "x": [
          0,
          1,
          2,
          3
         ],
         "y": [
          0.528888888888889,
          0.9444444444444442,
          0.9988888888888888,
          1
         ]
        },
        {
         "hoverinfo": "skip",
         "marker": {
          "color": "rgb(25.0,200,200)"
         },
         "mode": "markers",
         "type": "scatter",
         "uid": "2ed367dc-2af9-4725-baa6-9e7ecd09e0c3",
         "x": [
          0,
          1,
          2,
          3,
          4,
          5,
          6,
          7
         ],
         "y": [
          0.5055555555555554,
          0.8999999999999995,
          0.9333333333333322,
          0.9544444444444433,
          0.9655555555555546,
          0.984444444444444,
          0.9988888888888888,
          1
         ]
        },
        {
         "hoverinfo": "skip",
         "marker": {
          "color": "rgb(25.0,200,200)"
         },
         "mode": "markers",
         "type": "scatter",
         "uid": "893b6d8c-d0d3-4650-bb1e-a632b74fc45f",
         "x": [
          0,
          1,
          2
         ],
         "y": [
          0.5177777777777778,
          0.9755555555555552,
          1
         ]
        },
        {
         "hoverinfo": "skip",
         "marker": {
          "color": "rgb(25.0,200,200)"
         },
         "mode": "markers",
         "type": "scatter",
         "uid": "4c489b7d-abc3-4ee1-a644-b51ddab6e0b4",
         "x": [
          0,
          1,
          2,
          3
         ],
         "y": [
          0.441111111111111,
          0.9399999999999991,
          0.9966666666666666,
          1
         ]
        },
        {
         "hoverinfo": "skip",
         "marker": {
          "color": "rgb(25.0,200,200)"
         },
         "mode": "markers",
         "type": "scatter",
         "uid": "735b0b88-585a-40d6-b1f1-8c55fe0190b9",
         "x": [
          0,
          1,
          2,
          3
         ],
         "y": [
          0.5233333333333333,
          0.9555555555555554,
          0.9977777777777778,
          1
         ]
        },
        {
         "hoverinfo": "skip",
         "marker": {
          "color": "rgb(25.0,200,200)"
         },
         "mode": "markers",
         "type": "scatter",
         "uid": "16f98928-85fe-4399-ad83-409ad906bcab",
         "x": [
          0,
          1,
          2,
          3,
          4
         ],
         "y": [
          0.45888888888888907,
          0.8866666666666658,
          0.976666666666666,
          0.9933333333333332,
          1
         ]
        },
        {
         "hoverinfo": "skip",
         "marker": {
          "color": "rgb(25.0,200,200)"
         },
         "mode": "markers",
         "type": "scatter",
         "uid": "f62a2616-8f43-4769-b9ee-a7f9fd5956d8",
         "x": [
          0,
          1,
          2,
          3,
          4,
          5
         ],
         "y": [
          0.47444444444444467,
          0.8944444444444437,
          0.9566666666666666,
          0.9899999999999999,
          0.9988888888888888,
          1
         ]
        },
        {
         "hoverinfo": "skip",
         "marker": {
          "color": "rgb(25.0,200,200)"
         },
         "mode": "markers",
         "type": "scatter",
         "uid": "6be0cc75-c449-4beb-a7bf-ac1c90f9ec8e",
         "x": [
          0,
          1,
          2,
          3,
          4
         ],
         "y": [
          0.48333333333333306,
          0.9277777777777771,
          0.984444444444444,
          0.9955555555555554,
          1
         ]
        },
        {
         "hoverinfo": "skip",
         "marker": {
          "color": "rgb(50.0,200,200)"
         },
         "mode": "markers",
         "type": "scatter",
         "uid": "aa496308-9d50-49c2-8fe9-9568840ae7d6",
         "x": [
          0,
          1,
          2,
          3,
          4
         ],
         "y": [
          0.4888888888888887,
          0.947777777777777,
          0.9788888888888883,
          0.9955555555555554,
          1
         ]
        },
        {
         "hoverinfo": "skip",
         "marker": {
          "color": "rgb(50.0,200,200)"
         },
         "mode": "markers",
         "type": "scatter",
         "uid": "25a5a961-6328-406d-9f82-d14c792a2308",
         "x": [
          0,
          1,
          2,
          3,
          4
         ],
         "y": [
          0.532222222222222,
          0.9233333333333329,
          0.9866666666666665,
          0.9988888888888888,
          1
         ]
        },
        {
         "hoverinfo": "skip",
         "marker": {
          "color": "rgb(50.0,200,200)"
         },
         "mode": "markers",
         "type": "scatter",
         "uid": "66dc587c-1f0a-42fa-bed2-a6af1a3aa65e",
         "x": [
          0,
          1,
          2,
          3
         ],
         "y": [
          0.5366666666666666,
          0.9555555555555552,
          0.9977777777777778,
          1
         ]
        },
        {
         "hoverinfo": "skip",
         "marker": {
          "color": "rgb(50.0,200,200)"
         },
         "mode": "markers",
         "type": "scatter",
         "uid": "aa6b7acc-fae4-4c1e-9d43-3e1328cdb109",
         "x": [
          0,
          1,
          2,
          3
         ],
         "y": [
          0.4944444444444445,
          0.938888888888888,
          0.9833333333333328,
          1
         ]
        },
        {
         "hoverinfo": "skip",
         "marker": {
          "color": "rgb(50.0,200,200)"
         },
         "mode": "markers",
         "type": "scatter",
         "uid": "8c425d07-5af6-4b7b-b3c6-6826b1a90482",
         "x": [
          0,
          1,
          2,
          3,
          4
         ],
         "y": [
          0.5011111111111112,
          0.9444444444444438,
          0.983333333333333,
          0.9977777777777778,
          1
         ]
        },
        {
         "hoverinfo": "skip",
         "marker": {
          "color": "rgb(50.0,200,200)"
         },
         "mode": "markers",
         "type": "scatter",
         "uid": "dc55269d-cf4f-4b1d-b115-2acca6316703",
         "x": [
          0,
          1,
          2,
          3
         ],
         "y": [
          0.4966666666666668,
          0.9411111111111106,
          0.9933333333333332,
          1
         ]
        },
        {
         "hoverinfo": "skip",
         "marker": {
          "color": "rgb(50.0,200,200)"
         },
         "mode": "markers",
         "type": "scatter",
         "uid": "eb39915e-97cc-4e5e-93c0-cc0a5163ab78",
         "x": [
          0,
          1,
          2,
          3,
          4
         ],
         "y": [
          0.5355555555555553,
          0.9577777777777772,
          0.9855555555555552,
          0.9988888888888888,
          1
         ]
        },
        {
         "hoverinfo": "skip",
         "marker": {
          "color": "rgb(50.0,200,200)"
         },
         "mode": "markers",
         "type": "scatter",
         "uid": "d39a0b5d-c1b3-4c1d-bc10-daa55b549628",
         "x": [
          0,
          1,
          2,
          3,
          4
         ],
         "y": [
          0.5077777777777777,
          0.918888888888889,
          0.9833333333333336,
          0.9966666666666667,
          1
         ]
        },
        {
         "hoverinfo": "skip",
         "marker": {
          "color": "rgb(50.0,200,200)"
         },
         "mode": "markers",
         "type": "scatter",
         "uid": "37579cc4-3609-4438-a360-ab2af8a385a8",
         "x": [
          0,
          1,
          2
         ],
         "y": [
          0.5044444444444444,
          0.9577777777777774,
          1
         ]
        },
        {
         "hoverinfo": "skip",
         "marker": {
          "color": "rgb(50.0,200,200)"
         },
         "mode": "markers",
         "type": "scatter",
         "uid": "908e8da8-4a8f-4aec-ae03-067324184a0a",
         "x": [
          0,
          1,
          2,
          3,
          4,
          5
         ],
         "y": [
          0.5255555555555554,
          0.933333333333332,
          0.9766666666666661,
          0.9888888888888886,
          0.9988888888888888,
          1
         ]
        },
        {
         "hoverinfo": "skip",
         "marker": {
          "color": "rgb(75.0,200,200)"
         },
         "mode": "markers",
         "type": "scatter",
         "uid": "00ac2c79-6d4f-4e56-bf1e-eb45fffc2b61",
         "x": [
          0,
          1,
          2,
          3
         ],
         "y": [
          0.4800000000000001,
          0.9322222222222212,
          0.9799999999999994,
          1
         ]
        },
        {
         "hoverinfo": "skip",
         "marker": {
          "color": "rgb(75.0,200,200)"
         },
         "mode": "markers",
         "type": "scatter",
         "uid": "77461d09-3b18-474d-9dcd-3c3c506b0acf",
         "x": [
          0,
          1,
          2,
          3,
          4
         ],
         "y": [
          0.5155555555555555,
          0.954444444444444,
          0.9911111111111112,
          0.9988888888888888,
          1
         ]
        },
        {
         "hoverinfo": "skip",
         "marker": {
          "color": "rgb(75.0,200,200)"
         },
         "mode": "markers",
         "type": "scatter",
         "uid": "216a034d-9028-4a1f-9b2d-96754adb0239",
         "x": [
          0,
          1,
          2,
          3,
          4
         ],
         "y": [
          0.5122222222222222,
          0.9433333333333325,
          0.9811111111111108,
          0.9977777777777778,
          1
         ]
        },
        {
         "hoverinfo": "skip",
         "marker": {
          "color": "rgb(75.0,200,200)"
         },
         "mode": "markers",
         "type": "scatter",
         "uid": "8c3e6587-830e-4037-9a7c-fcf1c6ddf635",
         "x": [
          0,
          1,
          2,
          3
         ],
         "y": [
          0.45,
          0.912222222222222,
          0.9844444444444442,
          1
         ]
        },
        {
         "hoverinfo": "skip",
         "marker": {
          "color": "rgb(75.0,200,200)"
         },
         "mode": "markers",
         "type": "scatter",
         "uid": "7b359970-aef4-4207-b600-d81e8ad8ac3f",
         "x": [
          0,
          1,
          2,
          3
         ],
         "y": [
          0.5344444444444442,
          0.9633333333333326,
          0.9933333333333332,
          1
         ]
        },
        {
         "hoverinfo": "skip",
         "marker": {
          "color": "rgb(75.0,200,200)"
         },
         "mode": "markers",
         "type": "scatter",
         "uid": "4d601e5e-3e35-46f3-a488-b22901891ec0",
         "x": [
          0,
          1,
          2,
          3,
          4
         ],
         "y": [
          0.532222222222222,
          0.9355555555555547,
          0.9777777777777777,
          0.9977777777777778,
          1
         ]
        },
        {
         "hoverinfo": "skip",
         "marker": {
          "color": "rgb(75.0,200,200)"
         },
         "mode": "markers",
         "type": "scatter",
         "uid": "6384318f-c096-4128-a511-8c6b6a094f01",
         "x": [
          0,
          1,
          2,
          3
         ],
         "y": [
          0.4922222222222222,
          0.9588888888888882,
          0.9944444444444442,
          1
         ]
        },
        {
         "hoverinfo": "skip",
         "marker": {
          "color": "rgb(75.0,200,200)"
         },
         "mode": "markers",
         "type": "scatter",
         "uid": "a784dab6-d6f4-4996-b569-dd839815d395",
         "x": [
          0,
          1,
          2,
          3
         ],
         "y": [
          0.47222222222222215,
          0.9333333333333327,
          0.9977777777777778,
          1
         ]
        },
        {
         "hoverinfo": "skip",
         "marker": {
          "color": "rgb(75.0,200,200)"
         },
         "mode": "markers",
         "type": "scatter",
         "uid": "86560a41-efc2-4958-9acc-c976d69a207c",
         "x": [
          0,
          1,
          2
         ],
         "y": [
          0.5166666666666666,
          0.955555555555555,
          1
         ]
        },
        {
         "hoverinfo": "skip",
         "marker": {
          "color": "rgb(75.0,200,200)"
         },
         "mode": "markers",
         "type": "scatter",
         "uid": "b7002fba-0ecb-4336-8a4f-7948b7173496",
         "x": [
          0,
          1,
          2,
          3
         ],
         "y": [
          0.49444444444444435,
          0.9555555555555552,
          0.9911111111111112,
          1
         ]
        },
        {
         "hoverinfo": "skip",
         "marker": {
          "color": "rgb(100.0,200,200)"
         },
         "mode": "markers",
         "type": "scatter",
         "uid": "84e222af-c214-46a2-b964-e2909551f181",
         "x": [
          0,
          1,
          2
         ],
         "y": [
          0.4922222222222222,
          0.991111111111111,
          1
         ]
        },
        {
         "hoverinfo": "skip",
         "marker": {
          "color": "rgb(100.0,200,200)"
         },
         "mode": "markers",
         "type": "scatter",
         "uid": "4681d376-0cc9-4c65-9747-ebc39b7fd190",
         "x": [
          0,
          1,
          2
         ],
         "y": [
          0.5244444444444445,
          0.9677777777777778,
          1
         ]
        },
        {
         "hoverinfo": "skip",
         "marker": {
          "color": "rgb(100.0,200,200)"
         },
         "mode": "markers",
         "type": "scatter",
         "uid": "1997de78-2dcf-4ed3-bd5d-ffe4422d1167",
         "x": [
          0,
          1,
          2,
          3
         ],
         "y": [
          0.4255555555555554,
          0.9455555555555548,
          0.9888888888888886,
          1
         ]
        },
        {
         "hoverinfo": "skip",
         "marker": {
          "color": "rgb(100.0,200,200)"
         },
         "mode": "markers",
         "type": "scatter",
         "uid": "d5546b12-0829-4e89-9381-1364a76ac75c",
         "x": [
          0,
          1,
          2,
          3
         ],
         "y": [
          0.5266666666666665,
          0.97,
          0.9922222222222223,
          1
         ]
        },
        {
         "hoverinfo": "skip",
         "marker": {
          "color": "rgb(100.0,200,200)"
         },
         "mode": "markers",
         "type": "scatter",
         "uid": "dff2833a-9c1a-4987-b3d0-d4b0fedc665c",
         "x": [
          0,
          1,
          2,
          3
         ],
         "y": [
          0.5055555555555555,
          0.9388888888888881,
          0.991111111111111,
          1
         ]
        },
        {
         "hoverinfo": "skip",
         "marker": {
          "color": "rgb(100.0,200,200)"
         },
         "mode": "markers",
         "type": "scatter",
         "uid": "ec22cfdf-b0fb-49ec-a0fd-c8574ad231e9",
         "x": [
          0,
          1,
          2
         ],
         "y": [
          0.5166666666666664,
          0.991111111111111,
          1
         ]
        },
        {
         "hoverinfo": "skip",
         "marker": {
          "color": "rgb(100.0,200,200)"
         },
         "mode": "markers",
         "type": "scatter",
         "uid": "eeef9785-235b-4594-9d4e-263c5fd9a894",
         "x": [
          0,
          1,
          2,
          3
         ],
         "y": [
          0.5322222222222225,
          0.9599999999999992,
          0.9988888888888888,
          1
         ]
        },
        {
         "hoverinfo": "skip",
         "marker": {
          "color": "rgb(100.0,200,200)"
         },
         "mode": "markers",
         "type": "scatter",
         "uid": "96c87a15-2f7c-4890-9003-d1ffe907b805",
         "x": [
          0,
          1,
          2
         ],
         "y": [
          0.512222222222222,
          0.9644444444444444,
          1
         ]
        },
        {
         "hoverinfo": "skip",
         "marker": {
          "color": "rgb(100.0,200,200)"
         },
         "mode": "markers",
         "type": "scatter",
         "uid": "21292b58-e6f6-4b33-bdb3-ae378a9b58bf",
         "x": [
          0,
          1,
          2,
          3
         ],
         "y": [
          0.5444444444444442,
          0.9544444444444438,
          0.9888888888888888,
          1
         ]
        },
        {
         "hoverinfo": "skip",
         "marker": {
          "color": "rgb(100.0,200,200)"
         },
         "mode": "markers",
         "type": "scatter",
         "uid": "dce8248c-3c62-4803-bd99-ce55d392a66a",
         "x": [
          0,
          1,
          2,
          3,
          4
         ],
         "y": [
          0.45666666666666655,
          0.9544444444444443,
          0.9899999999999998,
          0.9988888888888888,
          1
         ]
        },
        {
         "hoverinfo": "skip",
         "marker": {
          "color": "rgb(125.0,200,200)"
         },
         "mode": "markers",
         "type": "scatter",
         "uid": "033f4c91-2172-4c1e-bf46-2bd852dce0dd",
         "x": [
          0,
          1,
          2,
          3
         ],
         "y": [
          0.4633333333333334,
          0.912222222222222,
          0.9844444444444445,
          1
         ]
        },
        {
         "hoverinfo": "skip",
         "marker": {
          "color": "rgb(125.0,200,200)"
         },
         "mode": "markers",
         "type": "scatter",
         "uid": "e2e4e392-45f9-44de-b1f3-0e2d49ec52ca",
         "x": [
          0,
          1,
          2,
          3
         ],
         "y": [
          0.5244444444444446,
          0.9833333333333328,
          0.9988888888888888,
          1
         ]
        },
        {
         "hoverinfo": "skip",
         "marker": {
          "color": "rgb(125.0,200,200)"
         },
         "mode": "markers",
         "type": "scatter",
         "uid": "457a26d9-9345-444c-abf0-8513d7ba91b2",
         "x": [
          0,
          1,
          2,
          3,
          4
         ],
         "y": [
          0.44333333333333336,
          0.8999999999999996,
          0.9811111111111112,
          0.9988888888888888,
          1
         ]
        },
        {
         "hoverinfo": "skip",
         "marker": {
          "color": "rgb(125.0,200,200)"
         },
         "mode": "markers",
         "type": "scatter",
         "uid": "5318a2b5-0e65-4860-9f99-1df8aa26188a",
         "x": [
          0,
          1,
          2,
          3
         ],
         "y": [
          0.4722222222222224,
          0.914444444444444,
          0.9955555555555554,
          1
         ]
        },
        {
         "hoverinfo": "skip",
         "marker": {
          "color": "rgb(125.0,200,200)"
         },
         "mode": "markers",
         "type": "scatter",
         "uid": "96ee52b4-7573-4c0e-81a7-3fdeb18ae3bc",
         "x": [
          0,
          1,
          2
         ],
         "y": [
          0.5377777777777778,
          0.9799999999999998,
          1
         ]
        },
        {
         "hoverinfo": "skip",
         "marker": {
          "color": "rgb(125.0,200,200)"
         },
         "mode": "markers",
         "type": "scatter",
         "uid": "bfc470d5-1c82-44c2-be5b-6bea6825131d",
         "x": [
          0,
          1,
          2,
          3
         ],
         "y": [
          0.48222222222222233,
          0.937777777777777,
          0.9988888888888888,
          1
         ]
        },
        {
         "hoverinfo": "skip",
         "marker": {
          "color": "rgb(125.0,200,200)"
         },
         "mode": "markers",
         "type": "scatter",
         "uid": "b73f08e1-91fe-4971-ae8a-f956d8422c4a",
         "x": [
          0,
          1,
          2,
          3,
          4
         ],
         "y": [
          0.5199999999999997,
          0.936666666666666,
          0.984444444444444,
          0.9933333333333332,
          1
         ]
        },
        {
         "hoverinfo": "skip",
         "marker": {
          "color": "rgb(125.0,200,200)"
         },
         "mode": "markers",
         "type": "scatter",
         "uid": "071e7f43-4afa-45bb-8ab6-8391e4fd0386",
         "x": [
          0,
          1,
          2,
          3,
          4,
          5,
          6
         ],
         "y": [
          0.48444444444444434,
          0.9211111111111103,
          0.9733333333333326,
          0.9799999999999994,
          0.9911111111111108,
          0.9988888888888888,
          1
         ]
        },
        {
         "hoverinfo": "skip",
         "marker": {
          "color": "rgb(125.0,200,200)"
         },
         "mode": "markers",
         "type": "scatter",
         "uid": "2aaed003-2931-4033-ab66-54352b737214",
         "x": [
          0,
          1,
          2,
          3,
          4,
          5
         ],
         "y": [
          0.4855555555555555,
          0.902222222222221,
          0.9477777777777764,
          0.9855555555555552,
          0.9988888888888888,
          1
         ]
        },
        {
         "hoverinfo": "skip",
         "marker": {
          "color": "rgb(125.0,200,200)"
         },
         "mode": "markers",
         "type": "scatter",
         "uid": "85a94a67-7d8f-4b38-b8ab-1937bb48d8da",
         "x": [
          0,
          1,
          2
         ],
         "y": [
          0.5011111111111112,
          0.9788888888888888,
          1
         ]
        },
        {
         "hoverinfo": "skip",
         "marker": {
          "color": "rgb(150.0,200,200)"
         },
         "mode": "markers",
         "type": "scatter",
         "uid": "8717f77b-ced9-417d-8049-502d74968c7b",
         "x": [
          0,
          1,
          2,
          3
         ],
         "y": [
          0.4855555555555556,
          0.9366666666666658,
          0.9855555555555552,
          1
         ]
        },
        {
         "hoverinfo": "skip",
         "marker": {
          "color": "rgb(150.0,200,200)"
         },
         "mode": "markers",
         "type": "scatter",
         "uid": "f7a05daa-3bdd-43b4-8a40-e0a8f5979018",
         "x": [
          0,
          1,
          2,
          3
         ],
         "y": [
          0.5499999999999999,
          0.9499999999999996,
          0.9899999999999998,
          1
         ]
        },
        {
         "hoverinfo": "skip",
         "marker": {
          "color": "rgb(150.0,200,200)"
         },
         "mode": "markers",
         "type": "scatter",
         "uid": "6c2e3ccb-120a-41ea-b4d6-b4ddf3baf7a0",
         "x": [
          0,
          1,
          2,
          3,
          4,
          5
         ],
         "y": [
          0.46888888888888886,
          0.9199999999999998,
          0.982222222222222,
          0.9911111111111108,
          0.9988888888888888,
          1
         ]
        },
        {
         "hoverinfo": "skip",
         "marker": {
          "color": "rgb(150.0,200,200)"
         },
         "mode": "markers",
         "type": "scatter",
         "uid": "b18504e2-4085-464c-949c-4281805d3f70",
         "x": [
          0,
          1,
          2,
          3
         ],
         "y": [
          0.47111111111111115,
          0.9566666666666664,
          0.9977777777777778,
          1
         ]
        },
        {
         "hoverinfo": "skip",
         "marker": {
          "color": "rgb(150.0,200,200)"
         },
         "mode": "markers",
         "type": "scatter",
         "uid": "e5b99683-8a6f-418f-b45e-7e8e2deb6588",
         "x": [
          0,
          1,
          2
         ],
         "y": [
          0.5122222222222222,
          0.9733333333333334,
          1
         ]
        },
        {
         "hoverinfo": "skip",
         "marker": {
          "color": "rgb(150.0,200,200)"
         },
         "mode": "markers",
         "type": "scatter",
         "uid": "196aa908-eff3-4fdf-9fe8-b19efca4a4aa",
         "x": [
          0,
          1,
          2,
          3,
          4
         ],
         "y": [
          0.5399999999999999,
          0.9377777777777776,
          0.9855555555555555,
          0.9988888888888888,
          1
         ]
        },
        {
         "hoverinfo": "skip",
         "marker": {
          "color": "rgb(150.0,200,200)"
         },
         "mode": "markers",
         "type": "scatter",
         "uid": "bd32a8b6-1c39-41c5-8f7f-1282ef7cec33",
         "x": [
          0,
          1,
          2
         ],
         "y": [
          0.5099999999999999,
          0.9799999999999999,
          1
         ]
        },
        {
         "hoverinfo": "skip",
         "marker": {
          "color": "rgb(150.0,200,200)"
         },
         "mode": "markers",
         "type": "scatter",
         "uid": "8dfcccdd-4756-4a4a-bbac-afc38381c811",
         "x": [
          0,
          1,
          2,
          3
         ],
         "y": [
          0.4799999999999999,
          0.921111111111111,
          0.9922222222222221,
          1
         ]
        },
        {
         "hoverinfo": "skip",
         "marker": {
          "color": "rgb(150.0,200,200)"
         },
         "mode": "markers",
         "type": "scatter",
         "uid": "315d9147-16ea-4c86-bc33-d9aa780ce745",
         "x": [
          0,
          1,
          2,
          3,
          4
         ],
         "y": [
          0.49333333333333323,
          0.9199999999999998,
          0.9855555555555552,
          0.9944444444444442,
          1
         ]
        },
        {
         "hoverinfo": "skip",
         "marker": {
          "color": "rgb(150.0,200,200)"
         },
         "mode": "markers",
         "type": "scatter",
         "uid": "416e2c53-f854-42a2-a2c0-558688f89be8",
         "x": [
          0,
          1,
          2,
          3
         ],
         "y": [
          0.4522222222222223,
          0.9322222222222216,
          0.9933333333333332,
          1
         ]
        },
        {
         "hoverinfo": "skip",
         "marker": {
          "color": "rgb(175.0,200,200)"
         },
         "mode": "markers",
         "type": "scatter",
         "uid": "36d25085-9e6f-4ead-8086-32ca0d514068",
         "x": [
          0,
          1,
          2,
          3,
          4
         ],
         "y": [
          0.4866666666666665,
          0.8933333333333331,
          0.9777777777777777,
          0.9966666666666667,
          1
         ]
        },
        {
         "hoverinfo": "skip",
         "marker": {
          "color": "rgb(175.0,200,200)"
         },
         "mode": "markers",
         "type": "scatter",
         "uid": "fb1b12cd-4bdd-4e36-93fc-4690edd68727",
         "x": [
          0,
          1,
          2,
          3
         ],
         "y": [
          0.5299999999999999,
          0.9544444444444438,
          0.9866666666666662,
          1
         ]
        },
        {
         "hoverinfo": "skip",
         "marker": {
          "color": "rgb(175.0,200,200)"
         },
         "mode": "markers",
         "type": "scatter",
         "uid": "bf13409f-c2b4-47ea-8d4a-1571ae557f5b",
         "x": [
          0,
          1,
          2,
          3,
          4
         ],
         "y": [
          0.5066666666666666,
          0.9599999999999999,
          0.9888888888888888,
          0.9988888888888888,
          1
         ]
        },
        {
         "hoverinfo": "skip",
         "marker": {
          "color": "rgb(175.0,200,200)"
         },
         "mode": "markers",
         "type": "scatter",
         "uid": "94a15a1a-6c54-451a-b1f0-b377285778b3",
         "x": [
          0,
          1,
          2,
          3,
          4
         ],
         "y": [
          0.5477777777777779,
          0.952222222222222,
          0.9899999999999999,
          0.9977777777777778,
          1
         ]
        },
        {
         "hoverinfo": "skip",
         "marker": {
          "color": "rgb(175.0,200,200)"
         },
         "mode": "markers",
         "type": "scatter",
         "uid": "70a93566-096e-4563-9a0a-826fdbf92dbf",
         "x": [
          0,
          1,
          2,
          3,
          4
         ],
         "y": [
          0.4600000000000001,
          0.9411111111111106,
          0.9811111111111106,
          0.9933333333333332,
          1
         ]
        },
        {
         "hoverinfo": "skip",
         "marker": {
          "color": "rgb(175.0,200,200)"
         },
         "mode": "markers",
         "type": "scatter",
         "uid": "5d7db5c5-b437-49d9-9696-3cc671e1b21c",
         "x": [
          0,
          1,
          2,
          3
         ],
         "y": [
          0.5522222222222224,
          0.9733333333333328,
          0.9955555555555554,
          1
         ]
        },
        {
         "hoverinfo": "skip",
         "marker": {
          "color": "rgb(175.0,200,200)"
         },
         "mode": "markers",
         "type": "scatter",
         "uid": "0f416fff-6334-45aa-8eff-4a49ded17b48",
         "x": [
          0,
          1,
          2
         ],
         "y": [
          0.5266666666666664,
          0.9699999999999998,
          1
         ]
        },
        {
         "hoverinfo": "skip",
         "marker": {
          "color": "rgb(175.0,200,200)"
         },
         "mode": "markers",
         "type": "scatter",
         "uid": "09cc76df-6ab9-46f0-b1c8-9ff8cd3b82bb",
         "x": [
          0,
          1,
          2,
          3
         ],
         "y": [
          0.498888888888889,
          0.934444444444444,
          0.9977777777777778,
          1
         ]
        },
        {
         "hoverinfo": "skip",
         "marker": {
          "color": "rgb(175.0,200,200)"
         },
         "mode": "markers",
         "type": "scatter",
         "uid": "d4b5b43b-71bb-468f-a793-8fe31ffb09f0",
         "x": [
          0,
          1,
          2,
          3,
          4
         ],
         "y": [
          0.46555555555555567,
          0.9166666666666657,
          0.9799999999999994,
          0.9911111111111108,
          1
         ]
        },
        {
         "hoverinfo": "skip",
         "marker": {
          "color": "rgb(175.0,200,200)"
         },
         "mode": "markers",
         "type": "scatter",
         "uid": "c427ad2c-ee4a-400c-9b5c-88fe4e66c3eb",
         "x": [
          0,
          1,
          2,
          3
         ],
         "y": [
          0.52,
          0.9711111111111105,
          0.9911111111111108,
          1
         ]
        },
        {
         "hoverinfo": "skip",
         "marker": {
          "color": "rgb(200.0,200,200)"
         },
         "mode": "markers",
         "type": "scatter",
         "uid": "550ffaeb-ec13-428d-b3d9-6f1db87ac5a7",
         "x": [
          0,
          1,
          2,
          3,
          4
         ],
         "y": [
          0.49888888888888877,
          0.9311111111111104,
          0.9699999999999995,
          0.9988888888888888,
          1
         ]
        },
        {
         "hoverinfo": "skip",
         "marker": {
          "color": "rgb(200.0,200,200)"
         },
         "mode": "markers",
         "type": "scatter",
         "uid": "7fe4fbd4-811a-4c86-8a86-8aeba377adc1",
         "x": [
          0,
          1,
          2
         ],
         "y": [
          0.5155555555555554,
          0.9777777777777779,
          1
         ]
        },
        {
         "hoverinfo": "skip",
         "marker": {
          "color": "rgb(200.0,200,200)"
         },
         "mode": "markers",
         "type": "scatter",
         "uid": "0b201ba2-5103-4c1a-b927-22866b21960a",
         "x": [
          0,
          1,
          2,
          3,
          4
         ],
         "y": [
          0.5377777777777777,
          0.9344444444444445,
          0.9711111111111111,
          0.9911111111111112,
          1
         ]
        },
        {
         "hoverinfo": "skip",
         "marker": {
          "color": "rgb(200.0,200,200)"
         },
         "mode": "markers",
         "type": "scatter",
         "uid": "84d9cc49-b2e6-4bcf-8a9f-8b88bb693b61",
         "x": [
          0,
          1,
          2,
          3,
          4
         ],
         "y": [
          0.46222222222222215,
          0.9111111111111109,
          0.9577777777777774,
          0.9955555555555554,
          1
         ]
        },
        {
         "hoverinfo": "skip",
         "marker": {
          "color": "rgb(200.0,200,200)"
         },
         "mode": "markers",
         "type": "scatter",
         "uid": "dde6142d-470e-48c5-aee8-1a1c507c31c3",
         "x": [
          0,
          1,
          2,
          3
         ],
         "y": [
          0.3888888888888888,
          0.9311111111111101,
          0.9777777777777772,
          1
         ]
        },
        {
         "hoverinfo": "skip",
         "marker": {
          "color": "rgb(200.0,200,200)"
         },
         "mode": "markers",
         "type": "scatter",
         "uid": "95d77178-68c1-49be-bbe7-59de1959dfe5",
         "x": [
          0,
          1,
          2
         ],
         "y": [
          0.5977777777777777,
          0.9866666666666666,
          1
         ]
        },
        {
         "hoverinfo": "skip",
         "marker": {
          "color": "rgb(200.0,200,200)"
         },
         "mode": "markers",
         "type": "scatter",
         "uid": "a892455d-bc7b-4cdb-92be-ba54c79983e8",
         "x": [
          0,
          1,
          2,
          3,
          4
         ],
         "y": [
          0.5122222222222222,
          0.9511111111111102,
          0.9855555555555554,
          0.9977777777777778,
          1
         ]
        },
        {
         "hoverinfo": "skip",
         "marker": {
          "color": "rgb(200.0,200,200)"
         },
         "mode": "markers",
         "type": "scatter",
         "uid": "e3b0ac55-708a-4370-a923-f1c6fcbe2fe2",
         "x": [
          0,
          1,
          2
         ],
         "y": [
          0.4633333333333334,
          0.9833333333333332,
          1
         ]
        },
        {
         "hoverinfo": "skip",
         "marker": {
          "color": "rgb(200.0,200,200)"
         },
         "mode": "markers",
         "type": "scatter",
         "uid": "f4a71116-facf-40b1-9461-74592c87965d",
         "x": [
          0,
          1,
          2,
          3
         ],
         "y": [
          0.48444444444444446,
          0.9177777777777775,
          0.9788888888888886,
          1
         ]
        },
        {
         "hoverinfo": "skip",
         "marker": {
          "color": "rgb(200.0,200,200)"
         },
         "mode": "markers",
         "type": "scatter",
         "uid": "328d7c81-8e89-4b65-ab35-a8c89a58aaf1",
         "x": [
          0,
          1,
          2,
          3,
          4,
          5
         ],
         "y": [
          0.5166666666666668,
          0.9333333333333325,
          0.976666666666666,
          0.9833333333333328,
          0.9988888888888888,
          1
         ]
        },
        {
         "hoverinfo": "skip",
         "marker": {
          "color": "rgb(225.0,200,200)"
         },
         "mode": "markers",
         "type": "scatter",
         "uid": "71eed15c-7177-4fb1-b0f3-5d34d6ac2ddf",
         "x": [
          0,
          1,
          2,
          3
         ],
         "y": [
          0.5144444444444445,
          0.935555555555555,
          0.9799999999999999,
          1
         ]
        },
        {
         "hoverinfo": "skip",
         "marker": {
          "color": "rgb(225.0,200,200)"
         },
         "mode": "markers",
         "type": "scatter",
         "uid": "9a44fe0a-8b9d-4056-bae9-d041574a2285",
         "x": [
          0,
          1,
          2,
          3,
          4
         ],
         "y": [
          0.4788888888888887,
          0.9488888888888884,
          0.9888888888888886,
          0.9988888888888888,
          1
         ]
        },
        {
         "hoverinfo": "skip",
         "marker": {
          "color": "rgb(225.0,200,200)"
         },
         "mode": "markers",
         "type": "scatter",
         "uid": "7704bd76-1767-4570-86a2-2dbd1d62a0f9",
         "x": [
          0,
          1,
          2,
          3,
          4
         ],
         "y": [
          0.5122222222222221,
          0.9222222222222213,
          0.981111111111111,
          0.9988888888888888,
          1
         ]
        },
        {
         "hoverinfo": "skip",
         "marker": {
          "color": "rgb(225.0,200,200)"
         },
         "mode": "markers",
         "type": "scatter",
         "uid": "748870aa-d361-4d88-8899-3845f89179af",
         "x": [
          0,
          1,
          2,
          3,
          4
         ],
         "y": [
          0.4888888888888889,
          0.9199999999999992,
          0.9799999999999994,
          0.9977777777777778,
          1
         ]
        },
        {
         "hoverinfo": "skip",
         "marker": {
          "color": "rgb(225.0,200,200)"
         },
         "mode": "markers",
         "type": "scatter",
         "uid": "123c8b11-0e38-4e8d-ab03-50bd8d0af1a6",
         "x": [
          0,
          1,
          2,
          3,
          4
         ],
         "y": [
          0.46555555555555583,
          0.8888888888888877,
          0.9666666666666659,
          0.9888888888888886,
          1
         ]
        },
        {
         "hoverinfo": "skip",
         "marker": {
          "color": "rgb(225.0,200,200)"
         },
         "mode": "markers",
         "type": "scatter",
         "uid": "faddad8d-be99-4415-8cae-e23c0b59898a",
         "x": [
          0,
          1,
          2,
          3,
          4
         ],
         "y": [
          0.48333333333333306,
          0.8999999999999991,
          0.9644444444444438,
          0.9899999999999998,
          1
         ]
        },
        {
         "hoverinfo": "skip",
         "marker": {
          "color": "rgb(225.0,200,200)"
         },
         "mode": "markers",
         "type": "scatter",
         "uid": "34391128-3b43-4e89-9197-0422241e59b0",
         "x": [
          0,
          1,
          2,
          3,
          4
         ],
         "y": [
          0.4833333333333333,
          0.9044444444444443,
          0.9755555555555552,
          0.9977777777777778,
          1
         ]
        },
        {
         "hoverinfo": "skip",
         "marker": {
          "color": "rgb(225.0,200,200)"
         },
         "mode": "markers",
         "type": "scatter",
         "uid": "c051647f-f64b-492c-948b-d9a82e00b7d7",
         "x": [
          0,
          1,
          2
         ],
         "y": [
          0.522222222222222,
          0.9755555555555554,
          1
         ]
        },
        {
         "hoverinfo": "skip",
         "marker": {
          "color": "rgb(225.0,200,200)"
         },
         "mode": "markers",
         "type": "scatter",
         "uid": "fe119ad3-a5a7-49b1-adb1-060dd01352f0",
         "x": [
          0,
          1,
          2,
          3,
          4,
          5,
          6
         ],
         "y": [
          0.48222222222222205,
          0.9077777777777765,
          0.9644444444444434,
          0.9755555555555548,
          0.9877777777777774,
          0.9966666666666666,
          1
         ]
        },
        {
         "hoverinfo": "skip",
         "marker": {
          "color": "rgb(225.0,200,200)"
         },
         "mode": "markers",
         "type": "scatter",
         "uid": "12117588-c654-4370-a86c-5018708313dc",
         "x": [
          0,
          1,
          2,
          3,
          4
         ],
         "y": [
          0.4833333333333335,
          0.9355555555555545,
          0.9788888888888883,
          0.9977777777777778,
          1
         ]
        }
       ],
       "layout": {
        "showlegend": false,
        "title": {
         "text": "Percent social optimal vs Iteration Num"
        }
       }
      },
      "text/html": [
       "<div id=\"83b5e99f-4b5d-476d-a563-a202b268ce43\" style=\"height: 525px; width: 100%;\" class=\"plotly-graph-div\"></div><script type=\"text/javascript\">require([\"plotly\"], function(Plotly) { window.PLOTLYENV=window.PLOTLYENV || {};window.PLOTLYENV.BASE_URL=\"https://plot.ly\";\n",
       "if (document.getElementById(\"83b5e99f-4b5d-476d-a563-a202b268ce43\")) {\n",
       "    Plotly.newPlot(\"83b5e99f-4b5d-476d-a563-a202b268ce43\", [{\"hoverinfo\": \"skip\", \"marker\": {\"color\": \"rgb(0.0,200,200)\"}, \"mode\": \"markers\", \"x\": [0, 1, 2, 3, 4], \"y\": [0.4477777777777778, 0.8922222222222217, 0.9577777777777778, 0.9977777777777778, 1.0], \"type\": \"scatter\", \"uid\": \"7d331b6d-4d9f-453e-ae97-500911da73ef\"}, {\"hoverinfo\": \"skip\", \"marker\": {\"color\": \"rgb(0.0,200,200)\"}, \"mode\": \"markers\", \"x\": [0, 1, 2, 3], \"y\": [0.45777777777777784, 0.9455555555555551, 0.992222222222222, 1.0], \"type\": \"scatter\", \"uid\": \"3586ff8d-9732-4fed-8134-cf3e34d6b986\"}, {\"hoverinfo\": \"skip\", \"marker\": {\"color\": \"rgb(0.0,200,200)\"}, \"mode\": \"markers\", \"x\": [0, 1, 2, 3], \"y\": [0.5044444444444445, 0.931111111111111, 0.9877777777777778, 1.0], \"type\": \"scatter\", \"uid\": \"7cd4a558-21d1-4a5a-9023-35f1943b1451\"}, {\"hoverinfo\": \"skip\", \"marker\": {\"color\": \"rgb(0.0,200,200)\"}, \"mode\": \"markers\", \"x\": [0, 1, 2, 3], \"y\": [0.49111111111111116, 0.919999999999999, 0.9777777777777775, 1.0], \"type\": \"scatter\", \"uid\": \"bf2eb5df-479e-4493-bbba-ba0cb692eeab\"}, {\"hoverinfo\": \"skip\", \"marker\": {\"color\": \"rgb(0.0,200,200)\"}, \"mode\": \"markers\", \"x\": [0, 1, 2, 3, 4], \"y\": [0.4966666666666666, 0.9299999999999997, 0.9811111111111108, 0.9988888888888888, 1.0], \"type\": \"scatter\", \"uid\": \"74e5d20b-d41d-4e94-a736-2cb6619e0e33\"}, {\"hoverinfo\": \"skip\", \"marker\": {\"color\": \"rgb(0.0,200,200)\"}, \"mode\": \"markers\", \"x\": [0, 1, 2, 3, 4, 5], \"y\": [0.5511111111111109, 0.9644444444444439, 0.9877777777777774, 0.9955555555555554, 0.9988888888888888, 1.0], \"type\": \"scatter\", \"uid\": \"84d48501-f301-46b1-b520-e0105eca3ec6\"}, {\"hoverinfo\": \"skip\", \"marker\": {\"color\": \"rgb(0.0,200,200)\"}, \"mode\": \"markers\", \"x\": [0, 1, 2, 3, 4], \"y\": [0.4988888888888892, 0.9322222222222213, 0.9811111111111108, 0.9966666666666666, 1.0], \"type\": \"scatter\", \"uid\": \"b5e885db-e831-4fcd-9458-e0a4e5a9a2ef\"}, {\"hoverinfo\": \"skip\", \"marker\": {\"color\": \"rgb(0.0,200,200)\"}, \"mode\": \"markers\", \"x\": [0, 1, 2, 3], \"y\": [0.5166666666666669, 0.9533333333333327, 0.9988888888888888, 1.0], \"type\": \"scatter\", \"uid\": \"0b0a4257-9d6a-4eda-bf09-39a45d1b5934\"}, {\"hoverinfo\": \"skip\", \"marker\": {\"color\": \"rgb(0.0,200,200)\"}, \"mode\": \"markers\", \"x\": [0, 1, 2, 3], \"y\": [0.532222222222222, 0.9422222222222216, 0.9888888888888886, 1.0], \"type\": \"scatter\", \"uid\": \"4120ba74-c38c-43d3-a6fc-d45ca17e2aa0\"}, {\"hoverinfo\": \"skip\", \"marker\": {\"color\": \"rgb(0.0,200,200)\"}, \"mode\": \"markers\", \"x\": [0, 1, 2, 3], \"y\": [0.43111111111111117, 0.8966666666666667, 0.9866666666666667, 1.0], \"type\": \"scatter\", \"uid\": \"0d67450e-d3ca-4dfd-8a4c-5ec8023d9c04\"}, {\"hoverinfo\": \"skip\", \"marker\": {\"color\": \"rgb(25.0,200,200)\"}, \"mode\": \"markers\", \"x\": [0, 1, 2, 3, 4, 5], \"y\": [0.4455555555555555, 0.875555555555555, 0.9433333333333327, 0.9766666666666666, 0.9911111111111112, 1.0], \"type\": \"scatter\", \"uid\": \"a2975b3a-69aa-4e7f-91ff-7d43ee1781c2\"}, {\"hoverinfo\": \"skip\", \"marker\": {\"color\": \"rgb(25.0,200,200)\"}, \"mode\": \"markers\", \"x\": [0, 1, 2, 3, 4], \"y\": [0.53, 0.9099999999999991, 0.9711111111111111, 0.9977777777777778, 1.0], \"type\": \"scatter\", \"uid\": \"c19a60cd-9635-4791-9cd8-8194ae42fdf7\"}, {\"hoverinfo\": \"skip\", \"marker\": {\"color\": \"rgb(25.0,200,200)\"}, \"mode\": \"markers\", \"x\": [0, 1, 2, 3], \"y\": [0.528888888888889, 0.9444444444444442, 0.9988888888888888, 1.0], \"type\": \"scatter\", \"uid\": \"21880b5b-65ae-4dc4-b405-7c4d1c4cac84\"}, {\"hoverinfo\": \"skip\", \"marker\": {\"color\": \"rgb(25.0,200,200)\"}, \"mode\": \"markers\", \"x\": [0, 1, 2, 3, 4, 5, 6, 7], \"y\": [0.5055555555555554, 0.8999999999999995, 0.9333333333333322, 0.9544444444444433, 0.9655555555555546, 0.984444444444444, 0.9988888888888888, 1.0], \"type\": \"scatter\", \"uid\": \"2ed367dc-2af9-4725-baa6-9e7ecd09e0c3\"}, {\"hoverinfo\": \"skip\", \"marker\": {\"color\": \"rgb(25.0,200,200)\"}, \"mode\": \"markers\", \"x\": [0, 1, 2], \"y\": [0.5177777777777778, 0.9755555555555552, 1.0], \"type\": \"scatter\", \"uid\": \"893b6d8c-d0d3-4650-bb1e-a632b74fc45f\"}, {\"hoverinfo\": \"skip\", \"marker\": {\"color\": \"rgb(25.0,200,200)\"}, \"mode\": \"markers\", \"x\": [0, 1, 2, 3], \"y\": [0.441111111111111, 0.9399999999999991, 0.9966666666666666, 1.0], \"type\": \"scatter\", \"uid\": \"4c489b7d-abc3-4ee1-a644-b51ddab6e0b4\"}, {\"hoverinfo\": \"skip\", \"marker\": {\"color\": \"rgb(25.0,200,200)\"}, \"mode\": \"markers\", \"x\": [0, 1, 2, 3], \"y\": [0.5233333333333333, 0.9555555555555554, 0.9977777777777778, 1.0], \"type\": \"scatter\", \"uid\": \"735b0b88-585a-40d6-b1f1-8c55fe0190b9\"}, {\"hoverinfo\": \"skip\", \"marker\": {\"color\": \"rgb(25.0,200,200)\"}, \"mode\": \"markers\", \"x\": [0, 1, 2, 3, 4], \"y\": [0.45888888888888907, 0.8866666666666658, 0.976666666666666, 0.9933333333333332, 1.0], \"type\": \"scatter\", \"uid\": \"16f98928-85fe-4399-ad83-409ad906bcab\"}, {\"hoverinfo\": \"skip\", \"marker\": {\"color\": \"rgb(25.0,200,200)\"}, \"mode\": \"markers\", \"x\": [0, 1, 2, 3, 4, 5], \"y\": [0.47444444444444467, 0.8944444444444437, 0.9566666666666666, 0.9899999999999999, 0.9988888888888888, 1.0], \"type\": \"scatter\", \"uid\": \"f62a2616-8f43-4769-b9ee-a7f9fd5956d8\"}, {\"hoverinfo\": \"skip\", \"marker\": {\"color\": \"rgb(25.0,200,200)\"}, \"mode\": \"markers\", \"x\": [0, 1, 2, 3, 4], \"y\": [0.48333333333333306, 0.9277777777777771, 0.984444444444444, 0.9955555555555554, 1.0], \"type\": \"scatter\", \"uid\": \"6be0cc75-c449-4beb-a7bf-ac1c90f9ec8e\"}, {\"hoverinfo\": \"skip\", \"marker\": {\"color\": \"rgb(50.0,200,200)\"}, \"mode\": \"markers\", \"x\": [0, 1, 2, 3, 4], \"y\": [0.4888888888888887, 0.947777777777777, 0.9788888888888883, 0.9955555555555554, 1.0], \"type\": \"scatter\", \"uid\": \"aa496308-9d50-49c2-8fe9-9568840ae7d6\"}, {\"hoverinfo\": \"skip\", \"marker\": {\"color\": \"rgb(50.0,200,200)\"}, \"mode\": \"markers\", \"x\": [0, 1, 2, 3, 4], \"y\": [0.532222222222222, 0.9233333333333329, 0.9866666666666665, 0.9988888888888888, 1.0], \"type\": \"scatter\", \"uid\": \"25a5a961-6328-406d-9f82-d14c792a2308\"}, {\"hoverinfo\": \"skip\", \"marker\": {\"color\": \"rgb(50.0,200,200)\"}, \"mode\": \"markers\", \"x\": [0, 1, 2, 3], \"y\": [0.5366666666666666, 0.9555555555555552, 0.9977777777777778, 1.0], \"type\": \"scatter\", \"uid\": \"66dc587c-1f0a-42fa-bed2-a6af1a3aa65e\"}, {\"hoverinfo\": \"skip\", \"marker\": {\"color\": \"rgb(50.0,200,200)\"}, \"mode\": \"markers\", \"x\": [0, 1, 2, 3], \"y\": [0.4944444444444445, 0.938888888888888, 0.9833333333333328, 1.0], \"type\": \"scatter\", \"uid\": \"aa6b7acc-fae4-4c1e-9d43-3e1328cdb109\"}, {\"hoverinfo\": \"skip\", \"marker\": {\"color\": \"rgb(50.0,200,200)\"}, \"mode\": \"markers\", \"x\": [0, 1, 2, 3, 4], \"y\": [0.5011111111111112, 0.9444444444444438, 0.983333333333333, 0.9977777777777778, 1.0], \"type\": \"scatter\", \"uid\": \"8c425d07-5af6-4b7b-b3c6-6826b1a90482\"}, {\"hoverinfo\": \"skip\", \"marker\": {\"color\": \"rgb(50.0,200,200)\"}, \"mode\": \"markers\", \"x\": [0, 1, 2, 3], \"y\": [0.4966666666666668, 0.9411111111111106, 0.9933333333333332, 1.0], \"type\": \"scatter\", \"uid\": \"dc55269d-cf4f-4b1d-b115-2acca6316703\"}, {\"hoverinfo\": \"skip\", \"marker\": {\"color\": \"rgb(50.0,200,200)\"}, \"mode\": \"markers\", \"x\": [0, 1, 2, 3, 4], \"y\": [0.5355555555555553, 0.9577777777777772, 0.9855555555555552, 0.9988888888888888, 1.0], \"type\": \"scatter\", \"uid\": \"eb39915e-97cc-4e5e-93c0-cc0a5163ab78\"}, {\"hoverinfo\": \"skip\", \"marker\": {\"color\": \"rgb(50.0,200,200)\"}, \"mode\": \"markers\", \"x\": [0, 1, 2, 3, 4], \"y\": [0.5077777777777777, 0.918888888888889, 0.9833333333333336, 0.9966666666666667, 1.0], \"type\": \"scatter\", \"uid\": \"d39a0b5d-c1b3-4c1d-bc10-daa55b549628\"}, {\"hoverinfo\": \"skip\", \"marker\": {\"color\": \"rgb(50.0,200,200)\"}, \"mode\": \"markers\", \"x\": [0, 1, 2], \"y\": [0.5044444444444444, 0.9577777777777774, 1.0], \"type\": \"scatter\", \"uid\": \"37579cc4-3609-4438-a360-ab2af8a385a8\"}, {\"hoverinfo\": \"skip\", \"marker\": {\"color\": \"rgb(50.0,200,200)\"}, \"mode\": \"markers\", \"x\": [0, 1, 2, 3, 4, 5], \"y\": [0.5255555555555554, 0.933333333333332, 0.9766666666666661, 0.9888888888888886, 0.9988888888888888, 1.0], \"type\": \"scatter\", \"uid\": \"908e8da8-4a8f-4aec-ae03-067324184a0a\"}, {\"hoverinfo\": \"skip\", \"marker\": {\"color\": \"rgb(75.0,200,200)\"}, \"mode\": \"markers\", \"x\": [0, 1, 2, 3], \"y\": [0.4800000000000001, 0.9322222222222212, 0.9799999999999994, 1.0], \"type\": \"scatter\", \"uid\": \"00ac2c79-6d4f-4e56-bf1e-eb45fffc2b61\"}, {\"hoverinfo\": \"skip\", \"marker\": {\"color\": \"rgb(75.0,200,200)\"}, \"mode\": \"markers\", \"x\": [0, 1, 2, 3, 4], \"y\": [0.5155555555555555, 0.954444444444444, 0.9911111111111112, 0.9988888888888888, 1.0], \"type\": \"scatter\", \"uid\": \"77461d09-3b18-474d-9dcd-3c3c506b0acf\"}, {\"hoverinfo\": \"skip\", \"marker\": {\"color\": \"rgb(75.0,200,200)\"}, \"mode\": \"markers\", \"x\": [0, 1, 2, 3, 4], \"y\": [0.5122222222222222, 0.9433333333333325, 0.9811111111111108, 0.9977777777777778, 1.0], \"type\": \"scatter\", \"uid\": \"216a034d-9028-4a1f-9b2d-96754adb0239\"}, {\"hoverinfo\": \"skip\", \"marker\": {\"color\": \"rgb(75.0,200,200)\"}, \"mode\": \"markers\", \"x\": [0, 1, 2, 3], \"y\": [0.45, 0.912222222222222, 0.9844444444444442, 1.0], \"type\": \"scatter\", \"uid\": \"8c3e6587-830e-4037-9a7c-fcf1c6ddf635\"}, {\"hoverinfo\": \"skip\", \"marker\": {\"color\": \"rgb(75.0,200,200)\"}, \"mode\": \"markers\", \"x\": [0, 1, 2, 3], \"y\": [0.5344444444444442, 0.9633333333333326, 0.9933333333333332, 1.0], \"type\": \"scatter\", \"uid\": \"7b359970-aef4-4207-b600-d81e8ad8ac3f\"}, {\"hoverinfo\": \"skip\", \"marker\": {\"color\": \"rgb(75.0,200,200)\"}, \"mode\": \"markers\", \"x\": [0, 1, 2, 3, 4], \"y\": [0.532222222222222, 0.9355555555555547, 0.9777777777777777, 0.9977777777777778, 1.0], \"type\": \"scatter\", \"uid\": \"4d601e5e-3e35-46f3-a488-b22901891ec0\"}, {\"hoverinfo\": \"skip\", \"marker\": {\"color\": \"rgb(75.0,200,200)\"}, \"mode\": \"markers\", \"x\": [0, 1, 2, 3], \"y\": [0.4922222222222222, 0.9588888888888882, 0.9944444444444442, 1.0], \"type\": \"scatter\", \"uid\": \"6384318f-c096-4128-a511-8c6b6a094f01\"}, {\"hoverinfo\": \"skip\", \"marker\": {\"color\": \"rgb(75.0,200,200)\"}, \"mode\": \"markers\", \"x\": [0, 1, 2, 3], \"y\": [0.47222222222222215, 0.9333333333333327, 0.9977777777777778, 1.0], \"type\": \"scatter\", \"uid\": \"a784dab6-d6f4-4996-b569-dd839815d395\"}, {\"hoverinfo\": \"skip\", \"marker\": {\"color\": \"rgb(75.0,200,200)\"}, \"mode\": \"markers\", \"x\": [0, 1, 2], \"y\": [0.5166666666666666, 0.955555555555555, 1.0], \"type\": \"scatter\", \"uid\": \"86560a41-efc2-4958-9acc-c976d69a207c\"}, {\"hoverinfo\": \"skip\", \"marker\": {\"color\": \"rgb(75.0,200,200)\"}, \"mode\": \"markers\", \"x\": [0, 1, 2, 3], \"y\": [0.49444444444444435, 0.9555555555555552, 0.9911111111111112, 1.0], \"type\": \"scatter\", \"uid\": \"b7002fba-0ecb-4336-8a4f-7948b7173496\"}, {\"hoverinfo\": \"skip\", \"marker\": {\"color\": \"rgb(100.0,200,200)\"}, \"mode\": \"markers\", \"x\": [0, 1, 2], \"y\": [0.4922222222222222, 0.991111111111111, 1.0], \"type\": \"scatter\", \"uid\": \"84e222af-c214-46a2-b964-e2909551f181\"}, {\"hoverinfo\": \"skip\", \"marker\": {\"color\": \"rgb(100.0,200,200)\"}, \"mode\": \"markers\", \"x\": [0, 1, 2], \"y\": [0.5244444444444445, 0.9677777777777778, 1.0], \"type\": \"scatter\", \"uid\": \"4681d376-0cc9-4c65-9747-ebc39b7fd190\"}, {\"hoverinfo\": \"skip\", \"marker\": {\"color\": \"rgb(100.0,200,200)\"}, \"mode\": \"markers\", \"x\": [0, 1, 2, 3], \"y\": [0.4255555555555554, 0.9455555555555548, 0.9888888888888886, 1.0], \"type\": \"scatter\", \"uid\": \"1997de78-2dcf-4ed3-bd5d-ffe4422d1167\"}, {\"hoverinfo\": \"skip\", \"marker\": {\"color\": \"rgb(100.0,200,200)\"}, \"mode\": \"markers\", \"x\": [0, 1, 2, 3], \"y\": [0.5266666666666665, 0.97, 0.9922222222222223, 1.0], \"type\": \"scatter\", \"uid\": \"d5546b12-0829-4e89-9381-1364a76ac75c\"}, {\"hoverinfo\": \"skip\", \"marker\": {\"color\": \"rgb(100.0,200,200)\"}, \"mode\": \"markers\", \"x\": [0, 1, 2, 3], \"y\": [0.5055555555555555, 0.9388888888888881, 0.991111111111111, 1.0], \"type\": \"scatter\", \"uid\": \"dff2833a-9c1a-4987-b3d0-d4b0fedc665c\"}, {\"hoverinfo\": \"skip\", \"marker\": {\"color\": \"rgb(100.0,200,200)\"}, \"mode\": \"markers\", \"x\": [0, 1, 2], \"y\": [0.5166666666666664, 0.991111111111111, 1.0], \"type\": \"scatter\", \"uid\": \"ec22cfdf-b0fb-49ec-a0fd-c8574ad231e9\"}, {\"hoverinfo\": \"skip\", \"marker\": {\"color\": \"rgb(100.0,200,200)\"}, \"mode\": \"markers\", \"x\": [0, 1, 2, 3], \"y\": [0.5322222222222225, 0.9599999999999992, 0.9988888888888888, 1.0], \"type\": \"scatter\", \"uid\": \"eeef9785-235b-4594-9d4e-263c5fd9a894\"}, {\"hoverinfo\": \"skip\", \"marker\": {\"color\": \"rgb(100.0,200,200)\"}, \"mode\": \"markers\", \"x\": [0, 1, 2], \"y\": [0.512222222222222, 0.9644444444444444, 1.0], \"type\": \"scatter\", \"uid\": \"96c87a15-2f7c-4890-9003-d1ffe907b805\"}, {\"hoverinfo\": \"skip\", \"marker\": {\"color\": \"rgb(100.0,200,200)\"}, \"mode\": \"markers\", \"x\": [0, 1, 2, 3], \"y\": [0.5444444444444442, 0.9544444444444438, 0.9888888888888888, 1.0], \"type\": \"scatter\", \"uid\": \"21292b58-e6f6-4b33-bdb3-ae378a9b58bf\"}, {\"hoverinfo\": \"skip\", \"marker\": {\"color\": \"rgb(100.0,200,200)\"}, \"mode\": \"markers\", \"x\": [0, 1, 2, 3, 4], \"y\": [0.45666666666666655, 0.9544444444444443, 0.9899999999999998, 0.9988888888888888, 1.0], \"type\": \"scatter\", \"uid\": \"dce8248c-3c62-4803-bd99-ce55d392a66a\"}, {\"hoverinfo\": \"skip\", \"marker\": {\"color\": \"rgb(125.0,200,200)\"}, \"mode\": \"markers\", \"x\": [0, 1, 2, 3], \"y\": [0.4633333333333334, 0.912222222222222, 0.9844444444444445, 1.0], \"type\": \"scatter\", \"uid\": \"033f4c91-2172-4c1e-bf46-2bd852dce0dd\"}, {\"hoverinfo\": \"skip\", \"marker\": {\"color\": \"rgb(125.0,200,200)\"}, \"mode\": \"markers\", \"x\": [0, 1, 2, 3], \"y\": [0.5244444444444446, 0.9833333333333328, 0.9988888888888888, 1.0], \"type\": \"scatter\", \"uid\": \"e2e4e392-45f9-44de-b1f3-0e2d49ec52ca\"}, {\"hoverinfo\": \"skip\", \"marker\": {\"color\": \"rgb(125.0,200,200)\"}, \"mode\": \"markers\", \"x\": [0, 1, 2, 3, 4], \"y\": [0.44333333333333336, 0.8999999999999996, 0.9811111111111112, 0.9988888888888888, 1.0], \"type\": \"scatter\", \"uid\": \"457a26d9-9345-444c-abf0-8513d7ba91b2\"}, {\"hoverinfo\": \"skip\", \"marker\": {\"color\": \"rgb(125.0,200,200)\"}, \"mode\": \"markers\", \"x\": [0, 1, 2, 3], \"y\": [0.4722222222222224, 0.914444444444444, 0.9955555555555554, 1.0], \"type\": \"scatter\", \"uid\": \"5318a2b5-0e65-4860-9f99-1df8aa26188a\"}, {\"hoverinfo\": \"skip\", \"marker\": {\"color\": \"rgb(125.0,200,200)\"}, \"mode\": \"markers\", \"x\": [0, 1, 2], \"y\": [0.5377777777777778, 0.9799999999999998, 1.0], \"type\": \"scatter\", \"uid\": \"96ee52b4-7573-4c0e-81a7-3fdeb18ae3bc\"}, {\"hoverinfo\": \"skip\", \"marker\": {\"color\": \"rgb(125.0,200,200)\"}, \"mode\": \"markers\", \"x\": [0, 1, 2, 3], \"y\": [0.48222222222222233, 0.937777777777777, 0.9988888888888888, 1.0], \"type\": \"scatter\", \"uid\": \"bfc470d5-1c82-44c2-be5b-6bea6825131d\"}, {\"hoverinfo\": \"skip\", \"marker\": {\"color\": \"rgb(125.0,200,200)\"}, \"mode\": \"markers\", \"x\": [0, 1, 2, 3, 4], \"y\": [0.5199999999999997, 0.936666666666666, 0.984444444444444, 0.9933333333333332, 1.0], \"type\": \"scatter\", \"uid\": \"b73f08e1-91fe-4971-ae8a-f956d8422c4a\"}, {\"hoverinfo\": \"skip\", \"marker\": {\"color\": \"rgb(125.0,200,200)\"}, \"mode\": \"markers\", \"x\": [0, 1, 2, 3, 4, 5, 6], \"y\": [0.48444444444444434, 0.9211111111111103, 0.9733333333333326, 0.9799999999999994, 0.9911111111111108, 0.9988888888888888, 1.0], \"type\": \"scatter\", \"uid\": \"071e7f43-4afa-45bb-8ab6-8391e4fd0386\"}, {\"hoverinfo\": \"skip\", \"marker\": {\"color\": \"rgb(125.0,200,200)\"}, \"mode\": \"markers\", \"x\": [0, 1, 2, 3, 4, 5], \"y\": [0.4855555555555555, 0.902222222222221, 0.9477777777777764, 0.9855555555555552, 0.9988888888888888, 1.0], \"type\": \"scatter\", \"uid\": \"2aaed003-2931-4033-ab66-54352b737214\"}, {\"hoverinfo\": \"skip\", \"marker\": {\"color\": \"rgb(125.0,200,200)\"}, \"mode\": \"markers\", \"x\": [0, 1, 2], \"y\": [0.5011111111111112, 0.9788888888888888, 1.0], \"type\": \"scatter\", \"uid\": \"85a94a67-7d8f-4b38-b8ab-1937bb48d8da\"}, {\"hoverinfo\": \"skip\", \"marker\": {\"color\": \"rgb(150.0,200,200)\"}, \"mode\": \"markers\", \"x\": [0, 1, 2, 3], \"y\": [0.4855555555555556, 0.9366666666666658, 0.9855555555555552, 1.0], \"type\": \"scatter\", \"uid\": \"8717f77b-ced9-417d-8049-502d74968c7b\"}, {\"hoverinfo\": \"skip\", \"marker\": {\"color\": \"rgb(150.0,200,200)\"}, \"mode\": \"markers\", \"x\": [0, 1, 2, 3], \"y\": [0.5499999999999999, 0.9499999999999996, 0.9899999999999998, 1.0], \"type\": \"scatter\", \"uid\": \"f7a05daa-3bdd-43b4-8a40-e0a8f5979018\"}, {\"hoverinfo\": \"skip\", \"marker\": {\"color\": \"rgb(150.0,200,200)\"}, \"mode\": \"markers\", \"x\": [0, 1, 2, 3, 4, 5], \"y\": [0.46888888888888886, 0.9199999999999998, 0.982222222222222, 0.9911111111111108, 0.9988888888888888, 1.0], \"type\": \"scatter\", \"uid\": \"6c2e3ccb-120a-41ea-b4d6-b4ddf3baf7a0\"}, {\"hoverinfo\": \"skip\", \"marker\": {\"color\": \"rgb(150.0,200,200)\"}, \"mode\": \"markers\", \"x\": [0, 1, 2, 3], \"y\": [0.47111111111111115, 0.9566666666666664, 0.9977777777777778, 1.0], \"type\": \"scatter\", \"uid\": \"b18504e2-4085-464c-949c-4281805d3f70\"}, {\"hoverinfo\": \"skip\", \"marker\": {\"color\": \"rgb(150.0,200,200)\"}, \"mode\": \"markers\", \"x\": [0, 1, 2], \"y\": [0.5122222222222222, 0.9733333333333334, 1.0], \"type\": \"scatter\", \"uid\": \"e5b99683-8a6f-418f-b45e-7e8e2deb6588\"}, {\"hoverinfo\": \"skip\", \"marker\": {\"color\": \"rgb(150.0,200,200)\"}, \"mode\": \"markers\", \"x\": [0, 1, 2, 3, 4], \"y\": [0.5399999999999999, 0.9377777777777776, 0.9855555555555555, 0.9988888888888888, 1.0], \"type\": \"scatter\", \"uid\": \"196aa908-eff3-4fdf-9fe8-b19efca4a4aa\"}, {\"hoverinfo\": \"skip\", \"marker\": {\"color\": \"rgb(150.0,200,200)\"}, \"mode\": \"markers\", \"x\": [0, 1, 2], \"y\": [0.5099999999999999, 0.9799999999999999, 1.0], \"type\": \"scatter\", \"uid\": \"bd32a8b6-1c39-41c5-8f7f-1282ef7cec33\"}, {\"hoverinfo\": \"skip\", \"marker\": {\"color\": \"rgb(150.0,200,200)\"}, \"mode\": \"markers\", \"x\": [0, 1, 2, 3], \"y\": [0.4799999999999999, 0.921111111111111, 0.9922222222222221, 1.0], \"type\": \"scatter\", \"uid\": \"8dfcccdd-4756-4a4a-bbac-afc38381c811\"}, {\"hoverinfo\": \"skip\", \"marker\": {\"color\": \"rgb(150.0,200,200)\"}, \"mode\": \"markers\", \"x\": [0, 1, 2, 3, 4], \"y\": [0.49333333333333323, 0.9199999999999998, 0.9855555555555552, 0.9944444444444442, 1.0], \"type\": \"scatter\", \"uid\": \"315d9147-16ea-4c86-bc33-d9aa780ce745\"}, {\"hoverinfo\": \"skip\", \"marker\": {\"color\": \"rgb(150.0,200,200)\"}, \"mode\": \"markers\", \"x\": [0, 1, 2, 3], \"y\": [0.4522222222222223, 0.9322222222222216, 0.9933333333333332, 1.0], \"type\": \"scatter\", \"uid\": \"416e2c53-f854-42a2-a2c0-558688f89be8\"}, {\"hoverinfo\": \"skip\", \"marker\": {\"color\": \"rgb(175.0,200,200)\"}, \"mode\": \"markers\", \"x\": [0, 1, 2, 3, 4], \"y\": [0.4866666666666665, 0.8933333333333331, 0.9777777777777777, 0.9966666666666667, 1.0], \"type\": \"scatter\", \"uid\": \"36d25085-9e6f-4ead-8086-32ca0d514068\"}, {\"hoverinfo\": \"skip\", \"marker\": {\"color\": \"rgb(175.0,200,200)\"}, \"mode\": \"markers\", \"x\": [0, 1, 2, 3], \"y\": [0.5299999999999999, 0.9544444444444438, 0.9866666666666662, 1.0], \"type\": \"scatter\", \"uid\": \"fb1b12cd-4bdd-4e36-93fc-4690edd68727\"}, {\"hoverinfo\": \"skip\", \"marker\": {\"color\": \"rgb(175.0,200,200)\"}, \"mode\": \"markers\", \"x\": [0, 1, 2, 3, 4], \"y\": [0.5066666666666666, 0.9599999999999999, 0.9888888888888888, 0.9988888888888888, 1.0], \"type\": \"scatter\", \"uid\": \"bf13409f-c2b4-47ea-8d4a-1571ae557f5b\"}, {\"hoverinfo\": \"skip\", \"marker\": {\"color\": \"rgb(175.0,200,200)\"}, \"mode\": \"markers\", \"x\": [0, 1, 2, 3, 4], \"y\": [0.5477777777777779, 0.952222222222222, 0.9899999999999999, 0.9977777777777778, 1.0], \"type\": \"scatter\", \"uid\": \"94a15a1a-6c54-451a-b1f0-b377285778b3\"}, {\"hoverinfo\": \"skip\", \"marker\": {\"color\": \"rgb(175.0,200,200)\"}, \"mode\": \"markers\", \"x\": [0, 1, 2, 3, 4], \"y\": [0.4600000000000001, 0.9411111111111106, 0.9811111111111106, 0.9933333333333332, 1.0], \"type\": \"scatter\", \"uid\": \"70a93566-096e-4563-9a0a-826fdbf92dbf\"}, {\"hoverinfo\": \"skip\", \"marker\": {\"color\": \"rgb(175.0,200,200)\"}, \"mode\": \"markers\", \"x\": [0, 1, 2, 3], \"y\": [0.5522222222222224, 0.9733333333333328, 0.9955555555555554, 1.0], \"type\": \"scatter\", \"uid\": \"5d7db5c5-b437-49d9-9696-3cc671e1b21c\"}, {\"hoverinfo\": \"skip\", \"marker\": {\"color\": \"rgb(175.0,200,200)\"}, \"mode\": \"markers\", \"x\": [0, 1, 2], \"y\": [0.5266666666666664, 0.9699999999999998, 1.0], \"type\": \"scatter\", \"uid\": \"0f416fff-6334-45aa-8eff-4a49ded17b48\"}, {\"hoverinfo\": \"skip\", \"marker\": {\"color\": \"rgb(175.0,200,200)\"}, \"mode\": \"markers\", \"x\": [0, 1, 2, 3], \"y\": [0.498888888888889, 0.934444444444444, 0.9977777777777778, 1.0], \"type\": \"scatter\", \"uid\": \"09cc76df-6ab9-46f0-b1c8-9ff8cd3b82bb\"}, {\"hoverinfo\": \"skip\", \"marker\": {\"color\": \"rgb(175.0,200,200)\"}, \"mode\": \"markers\", \"x\": [0, 1, 2, 3, 4], \"y\": [0.46555555555555567, 0.9166666666666657, 0.9799999999999994, 0.9911111111111108, 1.0], \"type\": \"scatter\", \"uid\": \"d4b5b43b-71bb-468f-a793-8fe31ffb09f0\"}, {\"hoverinfo\": \"skip\", \"marker\": {\"color\": \"rgb(175.0,200,200)\"}, \"mode\": \"markers\", \"x\": [0, 1, 2, 3], \"y\": [0.52, 0.9711111111111105, 0.9911111111111108, 1.0], \"type\": \"scatter\", \"uid\": \"c427ad2c-ee4a-400c-9b5c-88fe4e66c3eb\"}, {\"hoverinfo\": \"skip\", \"marker\": {\"color\": \"rgb(200.0,200,200)\"}, \"mode\": \"markers\", \"x\": [0, 1, 2, 3, 4], \"y\": [0.49888888888888877, 0.9311111111111104, 0.9699999999999995, 0.9988888888888888, 1.0], \"type\": \"scatter\", \"uid\": \"550ffaeb-ec13-428d-b3d9-6f1db87ac5a7\"}, {\"hoverinfo\": \"skip\", \"marker\": {\"color\": \"rgb(200.0,200,200)\"}, \"mode\": \"markers\", \"x\": [0, 1, 2], \"y\": [0.5155555555555554, 0.9777777777777779, 1.0], \"type\": \"scatter\", \"uid\": \"7fe4fbd4-811a-4c86-8a86-8aeba377adc1\"}, {\"hoverinfo\": \"skip\", \"marker\": {\"color\": \"rgb(200.0,200,200)\"}, \"mode\": \"markers\", \"x\": [0, 1, 2, 3, 4], \"y\": [0.5377777777777777, 0.9344444444444445, 0.9711111111111111, 0.9911111111111112, 1.0], \"type\": \"scatter\", \"uid\": \"0b201ba2-5103-4c1a-b927-22866b21960a\"}, {\"hoverinfo\": \"skip\", \"marker\": {\"color\": \"rgb(200.0,200,200)\"}, \"mode\": \"markers\", \"x\": [0, 1, 2, 3, 4], \"y\": [0.46222222222222215, 0.9111111111111109, 0.9577777777777774, 0.9955555555555554, 1.0], \"type\": \"scatter\", \"uid\": \"84d9cc49-b2e6-4bcf-8a9f-8b88bb693b61\"}, {\"hoverinfo\": \"skip\", \"marker\": {\"color\": \"rgb(200.0,200,200)\"}, \"mode\": \"markers\", \"x\": [0, 1, 2, 3], \"y\": [0.3888888888888888, 0.9311111111111101, 0.9777777777777772, 1.0], \"type\": \"scatter\", \"uid\": \"dde6142d-470e-48c5-aee8-1a1c507c31c3\"}, {\"hoverinfo\": \"skip\", \"marker\": {\"color\": \"rgb(200.0,200,200)\"}, \"mode\": \"markers\", \"x\": [0, 1, 2], \"y\": [0.5977777777777777, 0.9866666666666666, 1.0], \"type\": \"scatter\", \"uid\": \"95d77178-68c1-49be-bbe7-59de1959dfe5\"}, {\"hoverinfo\": \"skip\", \"marker\": {\"color\": \"rgb(200.0,200,200)\"}, \"mode\": \"markers\", \"x\": [0, 1, 2, 3, 4], \"y\": [0.5122222222222222, 0.9511111111111102, 0.9855555555555554, 0.9977777777777778, 1.0], \"type\": \"scatter\", \"uid\": \"a892455d-bc7b-4cdb-92be-ba54c79983e8\"}, {\"hoverinfo\": \"skip\", \"marker\": {\"color\": \"rgb(200.0,200,200)\"}, \"mode\": \"markers\", \"x\": [0, 1, 2], \"y\": [0.4633333333333334, 0.9833333333333332, 1.0], \"type\": \"scatter\", \"uid\": \"e3b0ac55-708a-4370-a923-f1c6fcbe2fe2\"}, {\"hoverinfo\": \"skip\", \"marker\": {\"color\": \"rgb(200.0,200,200)\"}, \"mode\": \"markers\", \"x\": [0, 1, 2, 3], \"y\": [0.48444444444444446, 0.9177777777777775, 0.9788888888888886, 1.0], \"type\": \"scatter\", \"uid\": \"f4a71116-facf-40b1-9461-74592c87965d\"}, {\"hoverinfo\": \"skip\", \"marker\": {\"color\": \"rgb(200.0,200,200)\"}, \"mode\": \"markers\", \"x\": [0, 1, 2, 3, 4, 5], \"y\": [0.5166666666666668, 0.9333333333333325, 0.976666666666666, 0.9833333333333328, 0.9988888888888888, 1.0], \"type\": \"scatter\", \"uid\": \"328d7c81-8e89-4b65-ab35-a8c89a58aaf1\"}, {\"hoverinfo\": \"skip\", \"marker\": {\"color\": \"rgb(225.0,200,200)\"}, \"mode\": \"markers\", \"x\": [0, 1, 2, 3], \"y\": [0.5144444444444445, 0.935555555555555, 0.9799999999999999, 1.0], \"type\": \"scatter\", \"uid\": \"71eed15c-7177-4fb1-b0f3-5d34d6ac2ddf\"}, {\"hoverinfo\": \"skip\", \"marker\": {\"color\": \"rgb(225.0,200,200)\"}, \"mode\": \"markers\", \"x\": [0, 1, 2, 3, 4], \"y\": [0.4788888888888887, 0.9488888888888884, 0.9888888888888886, 0.9988888888888888, 1.0], \"type\": \"scatter\", \"uid\": \"9a44fe0a-8b9d-4056-bae9-d041574a2285\"}, {\"hoverinfo\": \"skip\", \"marker\": {\"color\": \"rgb(225.0,200,200)\"}, \"mode\": \"markers\", \"x\": [0, 1, 2, 3, 4], \"y\": [0.5122222222222221, 0.9222222222222213, 0.981111111111111, 0.9988888888888888, 1.0], \"type\": \"scatter\", \"uid\": \"7704bd76-1767-4570-86a2-2dbd1d62a0f9\"}, {\"hoverinfo\": \"skip\", \"marker\": {\"color\": \"rgb(225.0,200,200)\"}, \"mode\": \"markers\", \"x\": [0, 1, 2, 3, 4], \"y\": [0.4888888888888889, 0.9199999999999992, 0.9799999999999994, 0.9977777777777778, 1.0], \"type\": \"scatter\", \"uid\": \"748870aa-d361-4d88-8899-3845f89179af\"}, {\"hoverinfo\": \"skip\", \"marker\": {\"color\": \"rgb(225.0,200,200)\"}, \"mode\": \"markers\", \"x\": [0, 1, 2, 3, 4], \"y\": [0.46555555555555583, 0.8888888888888877, 0.9666666666666659, 0.9888888888888886, 1.0], \"type\": \"scatter\", \"uid\": \"123c8b11-0e38-4e8d-ab03-50bd8d0af1a6\"}, {\"hoverinfo\": \"skip\", \"marker\": {\"color\": \"rgb(225.0,200,200)\"}, \"mode\": \"markers\", \"x\": [0, 1, 2, 3, 4], \"y\": [0.48333333333333306, 0.8999999999999991, 0.9644444444444438, 0.9899999999999998, 1.0], \"type\": \"scatter\", \"uid\": \"faddad8d-be99-4415-8cae-e23c0b59898a\"}, {\"hoverinfo\": \"skip\", \"marker\": {\"color\": \"rgb(225.0,200,200)\"}, \"mode\": \"markers\", \"x\": [0, 1, 2, 3, 4], \"y\": [0.4833333333333333, 0.9044444444444443, 0.9755555555555552, 0.9977777777777778, 1.0], \"type\": \"scatter\", \"uid\": \"34391128-3b43-4e89-9197-0422241e59b0\"}, {\"hoverinfo\": \"skip\", \"marker\": {\"color\": \"rgb(225.0,200,200)\"}, \"mode\": \"markers\", \"x\": [0, 1, 2], \"y\": [0.522222222222222, 0.9755555555555554, 1.0], \"type\": \"scatter\", \"uid\": \"c051647f-f64b-492c-948b-d9a82e00b7d7\"}, {\"hoverinfo\": \"skip\", \"marker\": {\"color\": \"rgb(225.0,200,200)\"}, \"mode\": \"markers\", \"x\": [0, 1, 2, 3, 4, 5, 6], \"y\": [0.48222222222222205, 0.9077777777777765, 0.9644444444444434, 0.9755555555555548, 0.9877777777777774, 0.9966666666666666, 1.0], \"type\": \"scatter\", \"uid\": \"fe119ad3-a5a7-49b1-adb1-060dd01352f0\"}, {\"hoverinfo\": \"skip\", \"marker\": {\"color\": \"rgb(225.0,200,200)\"}, \"mode\": \"markers\", \"x\": [0, 1, 2, 3, 4], \"y\": [0.4833333333333335, 0.9355555555555545, 0.9788888888888883, 0.9977777777777778, 1.0], \"type\": \"scatter\", \"uid\": \"12117588-c654-4370-a86c-5018708313dc\"}], {\"showlegend\": false, \"title\": {\"text\": \"Percent social optimal vs Iteration Num\"}}, {\"showLink\": false, \"linkText\": \"Export to plot.ly\", \"plotlyServerURL\": \"https://plot.ly\"}); \n",
       "}\n",
       "});</script><script type=\"text/javascript\">window.addEventListener(\"resize\", function(){if (document.getElementById(\"83b5e99f-4b5d-476d-a563-a202b268ce43\")) {window._Plotly.Plots.resize(document.getElementById(\"83b5e99f-4b5d-476d-a563-a202b268ce43\"));};})</script>"
      ],
      "text/vnd.plotly.v1+html": [
       "<div id=\"83b5e99f-4b5d-476d-a563-a202b268ce43\" style=\"height: 525px; width: 100%;\" class=\"plotly-graph-div\"></div><script type=\"text/javascript\">require([\"plotly\"], function(Plotly) { window.PLOTLYENV=window.PLOTLYENV || {};window.PLOTLYENV.BASE_URL=\"https://plot.ly\";\n",
       "if (document.getElementById(\"83b5e99f-4b5d-476d-a563-a202b268ce43\")) {\n",
       "    Plotly.newPlot(\"83b5e99f-4b5d-476d-a563-a202b268ce43\", [{\"hoverinfo\": \"skip\", \"marker\": {\"color\": \"rgb(0.0,200,200)\"}, \"mode\": \"markers\", \"x\": [0, 1, 2, 3, 4], \"y\": [0.4477777777777778, 0.8922222222222217, 0.9577777777777778, 0.9977777777777778, 1.0], \"type\": \"scatter\", \"uid\": \"7d331b6d-4d9f-453e-ae97-500911da73ef\"}, {\"hoverinfo\": \"skip\", \"marker\": {\"color\": \"rgb(0.0,200,200)\"}, \"mode\": \"markers\", \"x\": [0, 1, 2, 3], \"y\": [0.45777777777777784, 0.9455555555555551, 0.992222222222222, 1.0], \"type\": \"scatter\", \"uid\": \"3586ff8d-9732-4fed-8134-cf3e34d6b986\"}, {\"hoverinfo\": \"skip\", \"marker\": {\"color\": \"rgb(0.0,200,200)\"}, \"mode\": \"markers\", \"x\": [0, 1, 2, 3], \"y\": [0.5044444444444445, 0.931111111111111, 0.9877777777777778, 1.0], \"type\": \"scatter\", \"uid\": \"7cd4a558-21d1-4a5a-9023-35f1943b1451\"}, {\"hoverinfo\": \"skip\", \"marker\": {\"color\": \"rgb(0.0,200,200)\"}, \"mode\": \"markers\", \"x\": [0, 1, 2, 3], \"y\": [0.49111111111111116, 0.919999999999999, 0.9777777777777775, 1.0], \"type\": \"scatter\", \"uid\": \"bf2eb5df-479e-4493-bbba-ba0cb692eeab\"}, {\"hoverinfo\": \"skip\", \"marker\": {\"color\": \"rgb(0.0,200,200)\"}, \"mode\": \"markers\", \"x\": [0, 1, 2, 3, 4], \"y\": [0.4966666666666666, 0.9299999999999997, 0.9811111111111108, 0.9988888888888888, 1.0], \"type\": \"scatter\", \"uid\": \"74e5d20b-d41d-4e94-a736-2cb6619e0e33\"}, {\"hoverinfo\": \"skip\", \"marker\": {\"color\": \"rgb(0.0,200,200)\"}, \"mode\": \"markers\", \"x\": [0, 1, 2, 3, 4, 5], \"y\": [0.5511111111111109, 0.9644444444444439, 0.9877777777777774, 0.9955555555555554, 0.9988888888888888, 1.0], \"type\": \"scatter\", \"uid\": \"84d48501-f301-46b1-b520-e0105eca3ec6\"}, {\"hoverinfo\": \"skip\", \"marker\": {\"color\": \"rgb(0.0,200,200)\"}, \"mode\": \"markers\", \"x\": [0, 1, 2, 3, 4], \"y\": [0.4988888888888892, 0.9322222222222213, 0.9811111111111108, 0.9966666666666666, 1.0], \"type\": \"scatter\", \"uid\": \"b5e885db-e831-4fcd-9458-e0a4e5a9a2ef\"}, {\"hoverinfo\": \"skip\", \"marker\": {\"color\": \"rgb(0.0,200,200)\"}, \"mode\": \"markers\", \"x\": [0, 1, 2, 3], \"y\": [0.5166666666666669, 0.9533333333333327, 0.9988888888888888, 1.0], \"type\": \"scatter\", \"uid\": \"0b0a4257-9d6a-4eda-bf09-39a45d1b5934\"}, {\"hoverinfo\": \"skip\", \"marker\": {\"color\": \"rgb(0.0,200,200)\"}, \"mode\": \"markers\", \"x\": [0, 1, 2, 3], \"y\": [0.532222222222222, 0.9422222222222216, 0.9888888888888886, 1.0], \"type\": \"scatter\", \"uid\": \"4120ba74-c38c-43d3-a6fc-d45ca17e2aa0\"}, {\"hoverinfo\": \"skip\", \"marker\": {\"color\": \"rgb(0.0,200,200)\"}, \"mode\": \"markers\", \"x\": [0, 1, 2, 3], \"y\": [0.43111111111111117, 0.8966666666666667, 0.9866666666666667, 1.0], \"type\": \"scatter\", \"uid\": \"0d67450e-d3ca-4dfd-8a4c-5ec8023d9c04\"}, {\"hoverinfo\": \"skip\", \"marker\": {\"color\": \"rgb(25.0,200,200)\"}, \"mode\": \"markers\", \"x\": [0, 1, 2, 3, 4, 5], \"y\": [0.4455555555555555, 0.875555555555555, 0.9433333333333327, 0.9766666666666666, 0.9911111111111112, 1.0], \"type\": \"scatter\", \"uid\": \"a2975b3a-69aa-4e7f-91ff-7d43ee1781c2\"}, {\"hoverinfo\": \"skip\", \"marker\": {\"color\": \"rgb(25.0,200,200)\"}, \"mode\": \"markers\", \"x\": [0, 1, 2, 3, 4], \"y\": [0.53, 0.9099999999999991, 0.9711111111111111, 0.9977777777777778, 1.0], \"type\": \"scatter\", \"uid\": \"c19a60cd-9635-4791-9cd8-8194ae42fdf7\"}, {\"hoverinfo\": \"skip\", \"marker\": {\"color\": \"rgb(25.0,200,200)\"}, \"mode\": \"markers\", \"x\": [0, 1, 2, 3], \"y\": [0.528888888888889, 0.9444444444444442, 0.9988888888888888, 1.0], \"type\": \"scatter\", \"uid\": \"21880b5b-65ae-4dc4-b405-7c4d1c4cac84\"}, {\"hoverinfo\": \"skip\", \"marker\": {\"color\": \"rgb(25.0,200,200)\"}, \"mode\": \"markers\", \"x\": [0, 1, 2, 3, 4, 5, 6, 7], \"y\": [0.5055555555555554, 0.8999999999999995, 0.9333333333333322, 0.9544444444444433, 0.9655555555555546, 0.984444444444444, 0.9988888888888888, 1.0], \"type\": \"scatter\", \"uid\": \"2ed367dc-2af9-4725-baa6-9e7ecd09e0c3\"}, {\"hoverinfo\": \"skip\", \"marker\": {\"color\": \"rgb(25.0,200,200)\"}, \"mode\": \"markers\", \"x\": [0, 1, 2], \"y\": [0.5177777777777778, 0.9755555555555552, 1.0], \"type\": \"scatter\", \"uid\": \"893b6d8c-d0d3-4650-bb1e-a632b74fc45f\"}, {\"hoverinfo\": \"skip\", \"marker\": {\"color\": \"rgb(25.0,200,200)\"}, \"mode\": \"markers\", \"x\": [0, 1, 2, 3], \"y\": [0.441111111111111, 0.9399999999999991, 0.9966666666666666, 1.0], \"type\": \"scatter\", \"uid\": \"4c489b7d-abc3-4ee1-a644-b51ddab6e0b4\"}, {\"hoverinfo\": \"skip\", \"marker\": {\"color\": \"rgb(25.0,200,200)\"}, \"mode\": \"markers\", \"x\": [0, 1, 2, 3], \"y\": [0.5233333333333333, 0.9555555555555554, 0.9977777777777778, 1.0], \"type\": \"scatter\", \"uid\": \"735b0b88-585a-40d6-b1f1-8c55fe0190b9\"}, {\"hoverinfo\": \"skip\", \"marker\": {\"color\": \"rgb(25.0,200,200)\"}, \"mode\": \"markers\", \"x\": [0, 1, 2, 3, 4], \"y\": [0.45888888888888907, 0.8866666666666658, 0.976666666666666, 0.9933333333333332, 1.0], \"type\": \"scatter\", \"uid\": \"16f98928-85fe-4399-ad83-409ad906bcab\"}, {\"hoverinfo\": \"skip\", \"marker\": {\"color\": \"rgb(25.0,200,200)\"}, \"mode\": \"markers\", \"x\": [0, 1, 2, 3, 4, 5], \"y\": [0.47444444444444467, 0.8944444444444437, 0.9566666666666666, 0.9899999999999999, 0.9988888888888888, 1.0], \"type\": \"scatter\", \"uid\": \"f62a2616-8f43-4769-b9ee-a7f9fd5956d8\"}, {\"hoverinfo\": \"skip\", \"marker\": {\"color\": \"rgb(25.0,200,200)\"}, \"mode\": \"markers\", \"x\": [0, 1, 2, 3, 4], \"y\": [0.48333333333333306, 0.9277777777777771, 0.984444444444444, 0.9955555555555554, 1.0], \"type\": \"scatter\", \"uid\": \"6be0cc75-c449-4beb-a7bf-ac1c90f9ec8e\"}, {\"hoverinfo\": \"skip\", \"marker\": {\"color\": \"rgb(50.0,200,200)\"}, \"mode\": \"markers\", \"x\": [0, 1, 2, 3, 4], \"y\": [0.4888888888888887, 0.947777777777777, 0.9788888888888883, 0.9955555555555554, 1.0], \"type\": \"scatter\", \"uid\": \"aa496308-9d50-49c2-8fe9-9568840ae7d6\"}, {\"hoverinfo\": \"skip\", \"marker\": {\"color\": \"rgb(50.0,200,200)\"}, \"mode\": \"markers\", \"x\": [0, 1, 2, 3, 4], \"y\": [0.532222222222222, 0.9233333333333329, 0.9866666666666665, 0.9988888888888888, 1.0], \"type\": \"scatter\", \"uid\": \"25a5a961-6328-406d-9f82-d14c792a2308\"}, {\"hoverinfo\": \"skip\", \"marker\": {\"color\": \"rgb(50.0,200,200)\"}, \"mode\": \"markers\", \"x\": [0, 1, 2, 3], \"y\": [0.5366666666666666, 0.9555555555555552, 0.9977777777777778, 1.0], \"type\": \"scatter\", \"uid\": \"66dc587c-1f0a-42fa-bed2-a6af1a3aa65e\"}, {\"hoverinfo\": \"skip\", \"marker\": {\"color\": \"rgb(50.0,200,200)\"}, \"mode\": \"markers\", \"x\": [0, 1, 2, 3], \"y\": [0.4944444444444445, 0.938888888888888, 0.9833333333333328, 1.0], \"type\": \"scatter\", \"uid\": \"aa6b7acc-fae4-4c1e-9d43-3e1328cdb109\"}, {\"hoverinfo\": \"skip\", \"marker\": {\"color\": \"rgb(50.0,200,200)\"}, \"mode\": \"markers\", \"x\": [0, 1, 2, 3, 4], \"y\": [0.5011111111111112, 0.9444444444444438, 0.983333333333333, 0.9977777777777778, 1.0], \"type\": \"scatter\", \"uid\": \"8c425d07-5af6-4b7b-b3c6-6826b1a90482\"}, {\"hoverinfo\": \"skip\", \"marker\": {\"color\": \"rgb(50.0,200,200)\"}, \"mode\": \"markers\", \"x\": [0, 1, 2, 3], \"y\": [0.4966666666666668, 0.9411111111111106, 0.9933333333333332, 1.0], \"type\": \"scatter\", \"uid\": \"dc55269d-cf4f-4b1d-b115-2acca6316703\"}, {\"hoverinfo\": \"skip\", \"marker\": {\"color\": \"rgb(50.0,200,200)\"}, \"mode\": \"markers\", \"x\": [0, 1, 2, 3, 4], \"y\": [0.5355555555555553, 0.9577777777777772, 0.9855555555555552, 0.9988888888888888, 1.0], \"type\": \"scatter\", \"uid\": \"eb39915e-97cc-4e5e-93c0-cc0a5163ab78\"}, {\"hoverinfo\": \"skip\", \"marker\": {\"color\": \"rgb(50.0,200,200)\"}, \"mode\": \"markers\", \"x\": [0, 1, 2, 3, 4], \"y\": [0.5077777777777777, 0.918888888888889, 0.9833333333333336, 0.9966666666666667, 1.0], \"type\": \"scatter\", \"uid\": \"d39a0b5d-c1b3-4c1d-bc10-daa55b549628\"}, {\"hoverinfo\": \"skip\", \"marker\": {\"color\": \"rgb(50.0,200,200)\"}, \"mode\": \"markers\", \"x\": [0, 1, 2], \"y\": [0.5044444444444444, 0.9577777777777774, 1.0], \"type\": \"scatter\", \"uid\": \"37579cc4-3609-4438-a360-ab2af8a385a8\"}, {\"hoverinfo\": \"skip\", \"marker\": {\"color\": \"rgb(50.0,200,200)\"}, \"mode\": \"markers\", \"x\": [0, 1, 2, 3, 4, 5], \"y\": [0.5255555555555554, 0.933333333333332, 0.9766666666666661, 0.9888888888888886, 0.9988888888888888, 1.0], \"type\": \"scatter\", \"uid\": \"908e8da8-4a8f-4aec-ae03-067324184a0a\"}, {\"hoverinfo\": \"skip\", \"marker\": {\"color\": \"rgb(75.0,200,200)\"}, \"mode\": \"markers\", \"x\": [0, 1, 2, 3], \"y\": [0.4800000000000001, 0.9322222222222212, 0.9799999999999994, 1.0], \"type\": \"scatter\", \"uid\": \"00ac2c79-6d4f-4e56-bf1e-eb45fffc2b61\"}, {\"hoverinfo\": \"skip\", \"marker\": {\"color\": \"rgb(75.0,200,200)\"}, \"mode\": \"markers\", \"x\": [0, 1, 2, 3, 4], \"y\": [0.5155555555555555, 0.954444444444444, 0.9911111111111112, 0.9988888888888888, 1.0], \"type\": \"scatter\", \"uid\": \"77461d09-3b18-474d-9dcd-3c3c506b0acf\"}, {\"hoverinfo\": \"skip\", \"marker\": {\"color\": \"rgb(75.0,200,200)\"}, \"mode\": \"markers\", \"x\": [0, 1, 2, 3, 4], \"y\": [0.5122222222222222, 0.9433333333333325, 0.9811111111111108, 0.9977777777777778, 1.0], \"type\": \"scatter\", \"uid\": \"216a034d-9028-4a1f-9b2d-96754adb0239\"}, {\"hoverinfo\": \"skip\", \"marker\": {\"color\": \"rgb(75.0,200,200)\"}, \"mode\": \"markers\", \"x\": [0, 1, 2, 3], \"y\": [0.45, 0.912222222222222, 0.9844444444444442, 1.0], \"type\": \"scatter\", \"uid\": \"8c3e6587-830e-4037-9a7c-fcf1c6ddf635\"}, {\"hoverinfo\": \"skip\", \"marker\": {\"color\": \"rgb(75.0,200,200)\"}, \"mode\": \"markers\", \"x\": [0, 1, 2, 3], \"y\": [0.5344444444444442, 0.9633333333333326, 0.9933333333333332, 1.0], \"type\": \"scatter\", \"uid\": \"7b359970-aef4-4207-b600-d81e8ad8ac3f\"}, {\"hoverinfo\": \"skip\", \"marker\": {\"color\": \"rgb(75.0,200,200)\"}, \"mode\": \"markers\", \"x\": [0, 1, 2, 3, 4], \"y\": [0.532222222222222, 0.9355555555555547, 0.9777777777777777, 0.9977777777777778, 1.0], \"type\": \"scatter\", \"uid\": \"4d601e5e-3e35-46f3-a488-b22901891ec0\"}, {\"hoverinfo\": \"skip\", \"marker\": {\"color\": \"rgb(75.0,200,200)\"}, \"mode\": \"markers\", \"x\": [0, 1, 2, 3], \"y\": [0.4922222222222222, 0.9588888888888882, 0.9944444444444442, 1.0], \"type\": \"scatter\", \"uid\": \"6384318f-c096-4128-a511-8c6b6a094f01\"}, {\"hoverinfo\": \"skip\", \"marker\": {\"color\": \"rgb(75.0,200,200)\"}, \"mode\": \"markers\", \"x\": [0, 1, 2, 3], \"y\": [0.47222222222222215, 0.9333333333333327, 0.9977777777777778, 1.0], \"type\": \"scatter\", \"uid\": \"a784dab6-d6f4-4996-b569-dd839815d395\"}, {\"hoverinfo\": \"skip\", \"marker\": {\"color\": \"rgb(75.0,200,200)\"}, \"mode\": \"markers\", \"x\": [0, 1, 2], \"y\": [0.5166666666666666, 0.955555555555555, 1.0], \"type\": \"scatter\", \"uid\": \"86560a41-efc2-4958-9acc-c976d69a207c\"}, {\"hoverinfo\": \"skip\", \"marker\": {\"color\": \"rgb(75.0,200,200)\"}, \"mode\": \"markers\", \"x\": [0, 1, 2, 3], \"y\": [0.49444444444444435, 0.9555555555555552, 0.9911111111111112, 1.0], \"type\": \"scatter\", \"uid\": \"b7002fba-0ecb-4336-8a4f-7948b7173496\"}, {\"hoverinfo\": \"skip\", \"marker\": {\"color\": \"rgb(100.0,200,200)\"}, \"mode\": \"markers\", \"x\": [0, 1, 2], \"y\": [0.4922222222222222, 0.991111111111111, 1.0], \"type\": \"scatter\", \"uid\": \"84e222af-c214-46a2-b964-e2909551f181\"}, {\"hoverinfo\": \"skip\", \"marker\": {\"color\": \"rgb(100.0,200,200)\"}, \"mode\": \"markers\", \"x\": [0, 1, 2], \"y\": [0.5244444444444445, 0.9677777777777778, 1.0], \"type\": \"scatter\", \"uid\": \"4681d376-0cc9-4c65-9747-ebc39b7fd190\"}, {\"hoverinfo\": \"skip\", \"marker\": {\"color\": \"rgb(100.0,200,200)\"}, \"mode\": \"markers\", \"x\": [0, 1, 2, 3], \"y\": [0.4255555555555554, 0.9455555555555548, 0.9888888888888886, 1.0], \"type\": \"scatter\", \"uid\": \"1997de78-2dcf-4ed3-bd5d-ffe4422d1167\"}, {\"hoverinfo\": \"skip\", \"marker\": {\"color\": \"rgb(100.0,200,200)\"}, \"mode\": \"markers\", \"x\": [0, 1, 2, 3], \"y\": [0.5266666666666665, 0.97, 0.9922222222222223, 1.0], \"type\": \"scatter\", \"uid\": \"d5546b12-0829-4e89-9381-1364a76ac75c\"}, {\"hoverinfo\": \"skip\", \"marker\": {\"color\": \"rgb(100.0,200,200)\"}, \"mode\": \"markers\", \"x\": [0, 1, 2, 3], \"y\": [0.5055555555555555, 0.9388888888888881, 0.991111111111111, 1.0], \"type\": \"scatter\", \"uid\": \"dff2833a-9c1a-4987-b3d0-d4b0fedc665c\"}, {\"hoverinfo\": \"skip\", \"marker\": {\"color\": \"rgb(100.0,200,200)\"}, \"mode\": \"markers\", \"x\": [0, 1, 2], \"y\": [0.5166666666666664, 0.991111111111111, 1.0], \"type\": \"scatter\", \"uid\": \"ec22cfdf-b0fb-49ec-a0fd-c8574ad231e9\"}, {\"hoverinfo\": \"skip\", \"marker\": {\"color\": \"rgb(100.0,200,200)\"}, \"mode\": \"markers\", \"x\": [0, 1, 2, 3], \"y\": [0.5322222222222225, 0.9599999999999992, 0.9988888888888888, 1.0], \"type\": \"scatter\", \"uid\": \"eeef9785-235b-4594-9d4e-263c5fd9a894\"}, {\"hoverinfo\": \"skip\", \"marker\": {\"color\": \"rgb(100.0,200,200)\"}, \"mode\": \"markers\", \"x\": [0, 1, 2], \"y\": [0.512222222222222, 0.9644444444444444, 1.0], \"type\": \"scatter\", \"uid\": \"96c87a15-2f7c-4890-9003-d1ffe907b805\"}, {\"hoverinfo\": \"skip\", \"marker\": {\"color\": \"rgb(100.0,200,200)\"}, \"mode\": \"markers\", \"x\": [0, 1, 2, 3], \"y\": [0.5444444444444442, 0.9544444444444438, 0.9888888888888888, 1.0], \"type\": \"scatter\", \"uid\": \"21292b58-e6f6-4b33-bdb3-ae378a9b58bf\"}, {\"hoverinfo\": \"skip\", \"marker\": {\"color\": \"rgb(100.0,200,200)\"}, \"mode\": \"markers\", \"x\": [0, 1, 2, 3, 4], \"y\": [0.45666666666666655, 0.9544444444444443, 0.9899999999999998, 0.9988888888888888, 1.0], \"type\": \"scatter\", \"uid\": \"dce8248c-3c62-4803-bd99-ce55d392a66a\"}, {\"hoverinfo\": \"skip\", \"marker\": {\"color\": \"rgb(125.0,200,200)\"}, \"mode\": \"markers\", \"x\": [0, 1, 2, 3], \"y\": [0.4633333333333334, 0.912222222222222, 0.9844444444444445, 1.0], \"type\": \"scatter\", \"uid\": \"033f4c91-2172-4c1e-bf46-2bd852dce0dd\"}, {\"hoverinfo\": \"skip\", \"marker\": {\"color\": \"rgb(125.0,200,200)\"}, \"mode\": \"markers\", \"x\": [0, 1, 2, 3], \"y\": [0.5244444444444446, 0.9833333333333328, 0.9988888888888888, 1.0], \"type\": \"scatter\", \"uid\": \"e2e4e392-45f9-44de-b1f3-0e2d49ec52ca\"}, {\"hoverinfo\": \"skip\", \"marker\": {\"color\": \"rgb(125.0,200,200)\"}, \"mode\": \"markers\", \"x\": [0, 1, 2, 3, 4], \"y\": [0.44333333333333336, 0.8999999999999996, 0.9811111111111112, 0.9988888888888888, 1.0], \"type\": \"scatter\", \"uid\": \"457a26d9-9345-444c-abf0-8513d7ba91b2\"}, {\"hoverinfo\": \"skip\", \"marker\": {\"color\": \"rgb(125.0,200,200)\"}, \"mode\": \"markers\", \"x\": [0, 1, 2, 3], \"y\": [0.4722222222222224, 0.914444444444444, 0.9955555555555554, 1.0], \"type\": \"scatter\", \"uid\": \"5318a2b5-0e65-4860-9f99-1df8aa26188a\"}, {\"hoverinfo\": \"skip\", \"marker\": {\"color\": \"rgb(125.0,200,200)\"}, \"mode\": \"markers\", \"x\": [0, 1, 2], \"y\": [0.5377777777777778, 0.9799999999999998, 1.0], \"type\": \"scatter\", \"uid\": \"96ee52b4-7573-4c0e-81a7-3fdeb18ae3bc\"}, {\"hoverinfo\": \"skip\", \"marker\": {\"color\": \"rgb(125.0,200,200)\"}, \"mode\": \"markers\", \"x\": [0, 1, 2, 3], \"y\": [0.48222222222222233, 0.937777777777777, 0.9988888888888888, 1.0], \"type\": \"scatter\", \"uid\": \"bfc470d5-1c82-44c2-be5b-6bea6825131d\"}, {\"hoverinfo\": \"skip\", \"marker\": {\"color\": \"rgb(125.0,200,200)\"}, \"mode\": \"markers\", \"x\": [0, 1, 2, 3, 4], \"y\": [0.5199999999999997, 0.936666666666666, 0.984444444444444, 0.9933333333333332, 1.0], \"type\": \"scatter\", \"uid\": \"b73f08e1-91fe-4971-ae8a-f956d8422c4a\"}, {\"hoverinfo\": \"skip\", \"marker\": {\"color\": \"rgb(125.0,200,200)\"}, \"mode\": \"markers\", \"x\": [0, 1, 2, 3, 4, 5, 6], \"y\": [0.48444444444444434, 0.9211111111111103, 0.9733333333333326, 0.9799999999999994, 0.9911111111111108, 0.9988888888888888, 1.0], \"type\": \"scatter\", \"uid\": \"071e7f43-4afa-45bb-8ab6-8391e4fd0386\"}, {\"hoverinfo\": \"skip\", \"marker\": {\"color\": \"rgb(125.0,200,200)\"}, \"mode\": \"markers\", \"x\": [0, 1, 2, 3, 4, 5], \"y\": [0.4855555555555555, 0.902222222222221, 0.9477777777777764, 0.9855555555555552, 0.9988888888888888, 1.0], \"type\": \"scatter\", \"uid\": \"2aaed003-2931-4033-ab66-54352b737214\"}, {\"hoverinfo\": \"skip\", \"marker\": {\"color\": \"rgb(125.0,200,200)\"}, \"mode\": \"markers\", \"x\": [0, 1, 2], \"y\": [0.5011111111111112, 0.9788888888888888, 1.0], \"type\": \"scatter\", \"uid\": \"85a94a67-7d8f-4b38-b8ab-1937bb48d8da\"}, {\"hoverinfo\": \"skip\", \"marker\": {\"color\": \"rgb(150.0,200,200)\"}, \"mode\": \"markers\", \"x\": [0, 1, 2, 3], \"y\": [0.4855555555555556, 0.9366666666666658, 0.9855555555555552, 1.0], \"type\": \"scatter\", \"uid\": \"8717f77b-ced9-417d-8049-502d74968c7b\"}, {\"hoverinfo\": \"skip\", \"marker\": {\"color\": \"rgb(150.0,200,200)\"}, \"mode\": \"markers\", \"x\": [0, 1, 2, 3], \"y\": [0.5499999999999999, 0.9499999999999996, 0.9899999999999998, 1.0], \"type\": \"scatter\", \"uid\": \"f7a05daa-3bdd-43b4-8a40-e0a8f5979018\"}, {\"hoverinfo\": \"skip\", \"marker\": {\"color\": \"rgb(150.0,200,200)\"}, \"mode\": \"markers\", \"x\": [0, 1, 2, 3, 4, 5], \"y\": [0.46888888888888886, 0.9199999999999998, 0.982222222222222, 0.9911111111111108, 0.9988888888888888, 1.0], \"type\": \"scatter\", \"uid\": \"6c2e3ccb-120a-41ea-b4d6-b4ddf3baf7a0\"}, {\"hoverinfo\": \"skip\", \"marker\": {\"color\": \"rgb(150.0,200,200)\"}, \"mode\": \"markers\", \"x\": [0, 1, 2, 3], \"y\": [0.47111111111111115, 0.9566666666666664, 0.9977777777777778, 1.0], \"type\": \"scatter\", \"uid\": \"b18504e2-4085-464c-949c-4281805d3f70\"}, {\"hoverinfo\": \"skip\", \"marker\": {\"color\": \"rgb(150.0,200,200)\"}, \"mode\": \"markers\", \"x\": [0, 1, 2], \"y\": [0.5122222222222222, 0.9733333333333334, 1.0], \"type\": \"scatter\", \"uid\": \"e5b99683-8a6f-418f-b45e-7e8e2deb6588\"}, {\"hoverinfo\": \"skip\", \"marker\": {\"color\": \"rgb(150.0,200,200)\"}, \"mode\": \"markers\", \"x\": [0, 1, 2, 3, 4], \"y\": [0.5399999999999999, 0.9377777777777776, 0.9855555555555555, 0.9988888888888888, 1.0], \"type\": \"scatter\", \"uid\": \"196aa908-eff3-4fdf-9fe8-b19efca4a4aa\"}, {\"hoverinfo\": \"skip\", \"marker\": {\"color\": \"rgb(150.0,200,200)\"}, \"mode\": \"markers\", \"x\": [0, 1, 2], \"y\": [0.5099999999999999, 0.9799999999999999, 1.0], \"type\": \"scatter\", \"uid\": \"bd32a8b6-1c39-41c5-8f7f-1282ef7cec33\"}, {\"hoverinfo\": \"skip\", \"marker\": {\"color\": \"rgb(150.0,200,200)\"}, \"mode\": \"markers\", \"x\": [0, 1, 2, 3], \"y\": [0.4799999999999999, 0.921111111111111, 0.9922222222222221, 1.0], \"type\": \"scatter\", \"uid\": \"8dfcccdd-4756-4a4a-bbac-afc38381c811\"}, {\"hoverinfo\": \"skip\", \"marker\": {\"color\": \"rgb(150.0,200,200)\"}, \"mode\": \"markers\", \"x\": [0, 1, 2, 3, 4], \"y\": [0.49333333333333323, 0.9199999999999998, 0.9855555555555552, 0.9944444444444442, 1.0], \"type\": \"scatter\", \"uid\": \"315d9147-16ea-4c86-bc33-d9aa780ce745\"}, {\"hoverinfo\": \"skip\", \"marker\": {\"color\": \"rgb(150.0,200,200)\"}, \"mode\": \"markers\", \"x\": [0, 1, 2, 3], \"y\": [0.4522222222222223, 0.9322222222222216, 0.9933333333333332, 1.0], \"type\": \"scatter\", \"uid\": \"416e2c53-f854-42a2-a2c0-558688f89be8\"}, {\"hoverinfo\": \"skip\", \"marker\": {\"color\": \"rgb(175.0,200,200)\"}, \"mode\": \"markers\", \"x\": [0, 1, 2, 3, 4], \"y\": [0.4866666666666665, 0.8933333333333331, 0.9777777777777777, 0.9966666666666667, 1.0], \"type\": \"scatter\", \"uid\": \"36d25085-9e6f-4ead-8086-32ca0d514068\"}, {\"hoverinfo\": \"skip\", \"marker\": {\"color\": \"rgb(175.0,200,200)\"}, \"mode\": \"markers\", \"x\": [0, 1, 2, 3], \"y\": [0.5299999999999999, 0.9544444444444438, 0.9866666666666662, 1.0], \"type\": \"scatter\", \"uid\": \"fb1b12cd-4bdd-4e36-93fc-4690edd68727\"}, {\"hoverinfo\": \"skip\", \"marker\": {\"color\": \"rgb(175.0,200,200)\"}, \"mode\": \"markers\", \"x\": [0, 1, 2, 3, 4], \"y\": [0.5066666666666666, 0.9599999999999999, 0.9888888888888888, 0.9988888888888888, 1.0], \"type\": \"scatter\", \"uid\": \"bf13409f-c2b4-47ea-8d4a-1571ae557f5b\"}, {\"hoverinfo\": \"skip\", \"marker\": {\"color\": \"rgb(175.0,200,200)\"}, \"mode\": \"markers\", \"x\": [0, 1, 2, 3, 4], \"y\": [0.5477777777777779, 0.952222222222222, 0.9899999999999999, 0.9977777777777778, 1.0], \"type\": \"scatter\", \"uid\": \"94a15a1a-6c54-451a-b1f0-b377285778b3\"}, {\"hoverinfo\": \"skip\", \"marker\": {\"color\": \"rgb(175.0,200,200)\"}, \"mode\": \"markers\", \"x\": [0, 1, 2, 3, 4], \"y\": [0.4600000000000001, 0.9411111111111106, 0.9811111111111106, 0.9933333333333332, 1.0], \"type\": \"scatter\", \"uid\": \"70a93566-096e-4563-9a0a-826fdbf92dbf\"}, {\"hoverinfo\": \"skip\", \"marker\": {\"color\": \"rgb(175.0,200,200)\"}, \"mode\": \"markers\", \"x\": [0, 1, 2, 3], \"y\": [0.5522222222222224, 0.9733333333333328, 0.9955555555555554, 1.0], \"type\": \"scatter\", \"uid\": \"5d7db5c5-b437-49d9-9696-3cc671e1b21c\"}, {\"hoverinfo\": \"skip\", \"marker\": {\"color\": \"rgb(175.0,200,200)\"}, \"mode\": \"markers\", \"x\": [0, 1, 2], \"y\": [0.5266666666666664, 0.9699999999999998, 1.0], \"type\": \"scatter\", \"uid\": \"0f416fff-6334-45aa-8eff-4a49ded17b48\"}, {\"hoverinfo\": \"skip\", \"marker\": {\"color\": \"rgb(175.0,200,200)\"}, \"mode\": \"markers\", \"x\": [0, 1, 2, 3], \"y\": [0.498888888888889, 0.934444444444444, 0.9977777777777778, 1.0], \"type\": \"scatter\", \"uid\": \"09cc76df-6ab9-46f0-b1c8-9ff8cd3b82bb\"}, {\"hoverinfo\": \"skip\", \"marker\": {\"color\": \"rgb(175.0,200,200)\"}, \"mode\": \"markers\", \"x\": [0, 1, 2, 3, 4], \"y\": [0.46555555555555567, 0.9166666666666657, 0.9799999999999994, 0.9911111111111108, 1.0], \"type\": \"scatter\", \"uid\": \"d4b5b43b-71bb-468f-a793-8fe31ffb09f0\"}, {\"hoverinfo\": \"skip\", \"marker\": {\"color\": \"rgb(175.0,200,200)\"}, \"mode\": \"markers\", \"x\": [0, 1, 2, 3], \"y\": [0.52, 0.9711111111111105, 0.9911111111111108, 1.0], \"type\": \"scatter\", \"uid\": \"c427ad2c-ee4a-400c-9b5c-88fe4e66c3eb\"}, {\"hoverinfo\": \"skip\", \"marker\": {\"color\": \"rgb(200.0,200,200)\"}, \"mode\": \"markers\", \"x\": [0, 1, 2, 3, 4], \"y\": [0.49888888888888877, 0.9311111111111104, 0.9699999999999995, 0.9988888888888888, 1.0], \"type\": \"scatter\", \"uid\": \"550ffaeb-ec13-428d-b3d9-6f1db87ac5a7\"}, {\"hoverinfo\": \"skip\", \"marker\": {\"color\": \"rgb(200.0,200,200)\"}, \"mode\": \"markers\", \"x\": [0, 1, 2], \"y\": [0.5155555555555554, 0.9777777777777779, 1.0], \"type\": \"scatter\", \"uid\": \"7fe4fbd4-811a-4c86-8a86-8aeba377adc1\"}, {\"hoverinfo\": \"skip\", \"marker\": {\"color\": \"rgb(200.0,200,200)\"}, \"mode\": \"markers\", \"x\": [0, 1, 2, 3, 4], \"y\": [0.5377777777777777, 0.9344444444444445, 0.9711111111111111, 0.9911111111111112, 1.0], \"type\": \"scatter\", \"uid\": \"0b201ba2-5103-4c1a-b927-22866b21960a\"}, {\"hoverinfo\": \"skip\", \"marker\": {\"color\": \"rgb(200.0,200,200)\"}, \"mode\": \"markers\", \"x\": [0, 1, 2, 3, 4], \"y\": [0.46222222222222215, 0.9111111111111109, 0.9577777777777774, 0.9955555555555554, 1.0], \"type\": \"scatter\", \"uid\": \"84d9cc49-b2e6-4bcf-8a9f-8b88bb693b61\"}, {\"hoverinfo\": \"skip\", \"marker\": {\"color\": \"rgb(200.0,200,200)\"}, \"mode\": \"markers\", \"x\": [0, 1, 2, 3], \"y\": [0.3888888888888888, 0.9311111111111101, 0.9777777777777772, 1.0], \"type\": \"scatter\", \"uid\": \"dde6142d-470e-48c5-aee8-1a1c507c31c3\"}, {\"hoverinfo\": \"skip\", \"marker\": {\"color\": \"rgb(200.0,200,200)\"}, \"mode\": \"markers\", \"x\": [0, 1, 2], \"y\": [0.5977777777777777, 0.9866666666666666, 1.0], \"type\": \"scatter\", \"uid\": \"95d77178-68c1-49be-bbe7-59de1959dfe5\"}, {\"hoverinfo\": \"skip\", \"marker\": {\"color\": \"rgb(200.0,200,200)\"}, \"mode\": \"markers\", \"x\": [0, 1, 2, 3, 4], \"y\": [0.5122222222222222, 0.9511111111111102, 0.9855555555555554, 0.9977777777777778, 1.0], \"type\": \"scatter\", \"uid\": \"a892455d-bc7b-4cdb-92be-ba54c79983e8\"}, {\"hoverinfo\": \"skip\", \"marker\": {\"color\": \"rgb(200.0,200,200)\"}, \"mode\": \"markers\", \"x\": [0, 1, 2], \"y\": [0.4633333333333334, 0.9833333333333332, 1.0], \"type\": \"scatter\", \"uid\": \"e3b0ac55-708a-4370-a923-f1c6fcbe2fe2\"}, {\"hoverinfo\": \"skip\", \"marker\": {\"color\": \"rgb(200.0,200,200)\"}, \"mode\": \"markers\", \"x\": [0, 1, 2, 3], \"y\": [0.48444444444444446, 0.9177777777777775, 0.9788888888888886, 1.0], \"type\": \"scatter\", \"uid\": \"f4a71116-facf-40b1-9461-74592c87965d\"}, {\"hoverinfo\": \"skip\", \"marker\": {\"color\": \"rgb(200.0,200,200)\"}, \"mode\": \"markers\", \"x\": [0, 1, 2, 3, 4, 5], \"y\": [0.5166666666666668, 0.9333333333333325, 0.976666666666666, 0.9833333333333328, 0.9988888888888888, 1.0], \"type\": \"scatter\", \"uid\": \"328d7c81-8e89-4b65-ab35-a8c89a58aaf1\"}, {\"hoverinfo\": \"skip\", \"marker\": {\"color\": \"rgb(225.0,200,200)\"}, \"mode\": \"markers\", \"x\": [0, 1, 2, 3], \"y\": [0.5144444444444445, 0.935555555555555, 0.9799999999999999, 1.0], \"type\": \"scatter\", \"uid\": \"71eed15c-7177-4fb1-b0f3-5d34d6ac2ddf\"}, {\"hoverinfo\": \"skip\", \"marker\": {\"color\": \"rgb(225.0,200,200)\"}, \"mode\": \"markers\", \"x\": [0, 1, 2, 3, 4], \"y\": [0.4788888888888887, 0.9488888888888884, 0.9888888888888886, 0.9988888888888888, 1.0], \"type\": \"scatter\", \"uid\": \"9a44fe0a-8b9d-4056-bae9-d041574a2285\"}, {\"hoverinfo\": \"skip\", \"marker\": {\"color\": \"rgb(225.0,200,200)\"}, \"mode\": \"markers\", \"x\": [0, 1, 2, 3, 4], \"y\": [0.5122222222222221, 0.9222222222222213, 0.981111111111111, 0.9988888888888888, 1.0], \"type\": \"scatter\", \"uid\": \"7704bd76-1767-4570-86a2-2dbd1d62a0f9\"}, {\"hoverinfo\": \"skip\", \"marker\": {\"color\": \"rgb(225.0,200,200)\"}, \"mode\": \"markers\", \"x\": [0, 1, 2, 3, 4], \"y\": [0.4888888888888889, 0.9199999999999992, 0.9799999999999994, 0.9977777777777778, 1.0], \"type\": \"scatter\", \"uid\": \"748870aa-d361-4d88-8899-3845f89179af\"}, {\"hoverinfo\": \"skip\", \"marker\": {\"color\": \"rgb(225.0,200,200)\"}, \"mode\": \"markers\", \"x\": [0, 1, 2, 3, 4], \"y\": [0.46555555555555583, 0.8888888888888877, 0.9666666666666659, 0.9888888888888886, 1.0], \"type\": \"scatter\", \"uid\": \"123c8b11-0e38-4e8d-ab03-50bd8d0af1a6\"}, {\"hoverinfo\": \"skip\", \"marker\": {\"color\": \"rgb(225.0,200,200)\"}, \"mode\": \"markers\", \"x\": [0, 1, 2, 3, 4], \"y\": [0.48333333333333306, 0.8999999999999991, 0.9644444444444438, 0.9899999999999998, 1.0], \"type\": \"scatter\", \"uid\": \"faddad8d-be99-4415-8cae-e23c0b59898a\"}, {\"hoverinfo\": \"skip\", \"marker\": {\"color\": \"rgb(225.0,200,200)\"}, \"mode\": \"markers\", \"x\": [0, 1, 2, 3, 4], \"y\": [0.4833333333333333, 0.9044444444444443, 0.9755555555555552, 0.9977777777777778, 1.0], \"type\": \"scatter\", \"uid\": \"34391128-3b43-4e89-9197-0422241e59b0\"}, {\"hoverinfo\": \"skip\", \"marker\": {\"color\": \"rgb(225.0,200,200)\"}, \"mode\": \"markers\", \"x\": [0, 1, 2], \"y\": [0.522222222222222, 0.9755555555555554, 1.0], \"type\": \"scatter\", \"uid\": \"c051647f-f64b-492c-948b-d9a82e00b7d7\"}, {\"hoverinfo\": \"skip\", \"marker\": {\"color\": \"rgb(225.0,200,200)\"}, \"mode\": \"markers\", \"x\": [0, 1, 2, 3, 4, 5, 6], \"y\": [0.48222222222222205, 0.9077777777777765, 0.9644444444444434, 0.9755555555555548, 0.9877777777777774, 0.9966666666666666, 1.0], \"type\": \"scatter\", \"uid\": \"fe119ad3-a5a7-49b1-adb1-060dd01352f0\"}, {\"hoverinfo\": \"skip\", \"marker\": {\"color\": \"rgb(225.0,200,200)\"}, \"mode\": \"markers\", \"x\": [0, 1, 2, 3, 4], \"y\": [0.4833333333333335, 0.9355555555555545, 0.9788888888888883, 0.9977777777777778, 1.0], \"type\": \"scatter\", \"uid\": \"12117588-c654-4370-a86c-5018708313dc\"}], {\"showlegend\": false, \"title\": {\"text\": \"Percent social optimal vs Iteration Num\"}}, {\"showLink\": false, \"linkText\": \"Export to plot.ly\", \"plotlyServerURL\": \"https://plot.ly\"}); \n",
       "}\n",
       "});</script><script type=\"text/javascript\">window.addEventListener(\"resize\", function(){if (document.getElementById(\"83b5e99f-4b5d-476d-a563-a202b268ce43\")) {window._Plotly.Plots.resize(document.getElementById(\"83b5e99f-4b5d-476d-a563-a202b268ce43\"));};})</script>"
      ]
     },
     "metadata": {},
     "output_type": "display_data"
    }
   ],
   "source": [
    "plot_utils(seq_utils)"
   ]
  }
 ],
 "metadata": {
  "kernelspec": {
   "display_name": "Python 3",
   "language": "python",
   "name": "python3"
  },
  "language_info": {
   "codemirror_mode": {
    "name": "ipython",
    "version": 3
   },
   "file_extension": ".py",
   "mimetype": "text/x-python",
   "name": "python",
   "nbconvert_exporter": "python",
   "pygments_lexer": "ipython3",
   "version": "3.6.2"
  }
 },
 "nbformat": 4,
 "nbformat_minor": 2
}
