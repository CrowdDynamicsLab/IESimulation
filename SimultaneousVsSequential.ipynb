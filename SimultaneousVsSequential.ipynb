{
 "cells": [
  {
   "cell_type": "code",
   "execution_count": 1,
   "metadata": {},
   "outputs": [
    {
     "data": {
      "text/html": [
       "<script type=\"text/javascript\">window.PlotlyConfig = {MathJaxConfig: 'local'};</script><script type=\"text/javascript\">if (window.MathJax) {MathJax.Hub.Config({SVG: {font: \"STIX-Web\"}});}</script><script>requirejs.config({paths: { 'plotly': ['https://cdn.plot.ly/plotly-latest.min']},});if(!window._Plotly) {require(['plotly'],function(plotly) {window._Plotly=plotly;});}</script>"
      ],
      "text/vnd.plotly.v1+html": [
       "<script type=\"text/javascript\">window.PlotlyConfig = {MathJaxConfig: 'local'};</script><script type=\"text/javascript\">if (window.MathJax) {MathJax.Hub.Config({SVG: {font: \"STIX-Web\"}});}</script><script>requirejs.config({paths: { 'plotly': ['https://cdn.plot.ly/plotly-latest.min']},});if(!window._Plotly) {require(['plotly'],function(plotly) {window._Plotly=plotly;});}</script>"
      ]
     },
     "metadata": {},
     "output_type": "display_data"
    }
   ],
   "source": [
    "from plotly.offline import init_notebook_mode, iplot\n",
    "import plotly.graph_objs as go\n",
    "import numpy as np\n",
    "\n",
    "from simulation import run_simulation\n",
    "from graph import const_kregular\n",
    "\n",
    "init_notebook_mode(connected=True)"
   ]
  },
  {
   "cell_type": "code",
   "execution_count": 2,
   "metadata": {},
   "outputs": [],
   "source": [
    "#Define number of transmissions rate to space from 1-10\n",
    "NUM_TRANS_RATES = 10\n",
    "#Define number of times to run simulation per transmission rate\n",
    "TRANS_RUN_COUNT = 10\n",
    "\n",
    "#Amount of time to allocate\n",
    "TIME_TO_ALLOC = 100\n",
    "#Size of graph\n",
    "NUM_VERTICES = 100\n",
    "#Degree of vertices\n",
    "VTX_DEGREE = 4\n",
    "\n",
    "trans_rates = np.linspace(0, 1, NUM_TRANS_RATES + 1)[1:]"
   ]
  },
  {
   "cell_type": "code",
   "execution_count": 3,
   "metadata": {},
   "outputs": [],
   "source": [
    "#Run simulations and store results\n",
    "simul_utils = {}\n",
    "seq_utils = {}\n",
    "for t_rate in trans_rates:\n",
    "    simul_utils[t_rate] = []\n",
    "    seq_utils[t_rate] = []\n",
    "    for i in range(TRANS_RUN_COUNT):\n",
    "        G = const_kregular(VTX_DEGREE, NUM_VERTICES,\n",
    "                                 t_rate, TIME_TO_ALLOC)\n",
    "        _, simul_tot = run_simulation(G, simul=True)\n",
    "        \n",
    "        #Need to remake graph\n",
    "        G = const_kregular(VTX_DEGREE, NUM_VERTICES,\n",
    "                                 t_rate, TIME_TO_ALLOC)\n",
    "        _, seq_tot= run_simulation(G, simul=False)\n",
    "        \n",
    "        #Get proportion of social optimal in each iteration\n",
    "        simul_prop = [ sum(ut) / NUM_VERTICES for ut in simul_tot ]\n",
    "        seq_prop = [ sum(ut) / NUM_VERTICES for ut in seq_tot ]\n",
    "        simul_utils[t_rate].append(simul_prop)\n",
    "        seq_utils[t_rate].append(seq_prop)"
   ]
  },
  {
   "cell_type": "code",
   "execution_count": 4,
   "metadata": {},
   "outputs": [],
   "source": [
    "_green = 200\n",
    "_blue = 200\n",
    "red_vals = np.linspace(0, 225, NUM_TRANS_RATES)\n",
    "\n",
    "def plot_utils(utils, simul=True):\n",
    "    fig = go.Figure()\n",
    "\n",
    "    t_idx = 0\n",
    "    for t_rate, trate_utils in utils.items():\n",
    "        marker_color = 'rgb({0},{1},{2})'.format(\n",
    "            red_vals[t_idx], _green, _blue)\n",
    "        for util_seq in trate_utils:\n",
    "            x_vals = list(range(len(util_seq)))\n",
    "            fig.add_trace(go.Scatter(x=x_vals,\n",
    "                y=util_seq, mode='markers', hoverinfo='skip',\n",
    "                marker=dict(color=marker_color)))\n",
    "        t_idx += 1\n",
    "\n",
    "    fig.layout.update(showlegend=False)\n",
    "    plot_title = \"Percent social optimal vs Iteration num ({0})\"\n",
    "    if simul:\n",
    "        plot_title = plot_title.format(\"Simultaneous Update\")\n",
    "    else:\n",
    "        plot_title = plot_title.format(\"Sequential Update\")\n",
    "    fig.layout.update(title=plot_title)\n",
    "\n",
    "    iplot(fig)"
   ]
  },
  {
   "cell_type": "code",
   "execution_count": 5,
   "metadata": {},
   "outputs": [
    {
     "data": {
      "application/vnd.plotly.v1+json": {
       "config": {
        "linkText": "Export to plot.ly",
        "plotlyServerURL": "https://plot.ly",
        "showLink": false
       },
       "data": [
        {
         "hoverinfo": "skip",
         "marker": {
          "color": "rgb(0.0,200,200)"
         },
         "mode": "markers",
         "type": "scatter",
         "uid": "41c7a697-c8fa-42f5-9937-ae656ec0e009",
         "x": [
          0,
          1,
          2,
          3
         ],
         "y": [
          0.4977777777777776,
          0.8922222222222215,
          0.983333333333333,
          1
         ]
        },
        {
         "hoverinfo": "skip",
         "marker": {
          "color": "rgb(0.0,200,200)"
         },
         "mode": "markers",
         "type": "scatter",
         "uid": "56f9f635-3a5e-4109-906d-db59a3d18dad",
         "x": [
          0,
          1,
          2,
          3,
          4
         ],
         "y": [
          0.4966666666666667,
          0.8988888888888884,
          0.9688888888888889,
          0.9888888888888888,
          1
         ]
        },
        {
         "hoverinfo": "skip",
         "marker": {
          "color": "rgb(0.0,200,200)"
         },
         "mode": "markers",
         "type": "scatter",
         "uid": "0fb6d2f7-1b7e-42ae-a57c-a71e2c7323a6",
         "x": [
          0,
          1,
          2,
          3,
          4,
          5
         ],
         "y": [
          0.46444444444444455,
          0.9233333333333331,
          0.9655555555555554,
          0.981111111111111,
          0.9988888888888888,
          1
         ]
        },
        {
         "hoverinfo": "skip",
         "marker": {
          "color": "rgb(0.0,200,200)"
         },
         "mode": "markers",
         "type": "scatter",
         "uid": "a348453f-2097-4c7f-b657-79136984fa1d",
         "x": [
          0,
          1,
          2,
          3
         ],
         "y": [
          0.5411111111111111,
          0.953333333333333,
          0.992222222222222,
          1
         ]
        },
        {
         "hoverinfo": "skip",
         "marker": {
          "color": "rgb(0.0,200,200)"
         },
         "mode": "markers",
         "type": "scatter",
         "uid": "10ccf22b-33b4-45a5-a7f4-6ad401948c02",
         "x": [
          0,
          1,
          2
         ],
         "y": [
          0.518888888888889,
          0.9766666666666662,
          1
         ]
        },
        {
         "hoverinfo": "skip",
         "marker": {
          "color": "rgb(0.0,200,200)"
         },
         "mode": "markers",
         "type": "scatter",
         "uid": "c1e19e59-aecc-4f82-b71b-3a5d6be2cb69",
         "x": [
          0,
          1,
          2,
          3,
          4
         ],
         "y": [
          0.4966666666666664,
          0.9299999999999992,
          0.9711111111111107,
          0.9955555555555555,
          1
         ]
        },
        {
         "hoverinfo": "skip",
         "marker": {
          "color": "rgb(0.0,200,200)"
         },
         "mode": "markers",
         "type": "scatter",
         "uid": "a57e1bfe-a1a1-4176-b37e-45f14c8deaca",
         "x": [
          0,
          1,
          2
         ],
         "y": [
          0.5311111111111112,
          0.9833333333333333,
          1
         ]
        },
        {
         "hoverinfo": "skip",
         "marker": {
          "color": "rgb(0.0,200,200)"
         },
         "mode": "markers",
         "type": "scatter",
         "uid": "15c51da4-3f6e-4323-b767-47891d8cb172",
         "x": [
          0,
          1,
          2,
          3
         ],
         "y": [
          0.5055555555555554,
          0.9233333333333327,
          0.9911111111111108,
          1
         ]
        },
        {
         "hoverinfo": "skip",
         "marker": {
          "color": "rgb(0.0,200,200)"
         },
         "mode": "markers",
         "type": "scatter",
         "uid": "df7c6b5e-0320-472e-a1d4-3d944e1bfd23",
         "x": [
          0,
          1,
          2,
          3,
          4
         ],
         "y": [
          0.4644444444444445,
          0.9011111111111115,
          0.9777777777777775,
          0.9933333333333333,
          1
         ]
        },
        {
         "hoverinfo": "skip",
         "marker": {
          "color": "rgb(0.0,200,200)"
         },
         "mode": "markers",
         "type": "scatter",
         "uid": "9232280d-30d4-498b-8bba-47587b789dad",
         "x": [
          0,
          1,
          2,
          3
         ],
         "y": [
          0.5288888888888891,
          0.954444444444444,
          0.9911111111111112,
          1
         ]
        },
        {
         "hoverinfo": "skip",
         "marker": {
          "color": "rgb(25.0,200,200)"
         },
         "mode": "markers",
         "type": "scatter",
         "uid": "d4a00113-1a0f-4774-b93f-55a6a16c80da",
         "x": [
          0,
          1,
          2,
          3,
          4,
          5,
          6
         ],
         "y": [
          0.5033333333333332,
          0.9333333333333322,
          0.9566666666666657,
          0.9733333333333327,
          0.9899999999999998,
          0.9988888888888888,
          1
         ]
        },
        {
         "hoverinfo": "skip",
         "marker": {
          "color": "rgb(25.0,200,200)"
         },
         "mode": "markers",
         "type": "scatter",
         "uid": "648c1355-9309-45b5-8efd-4466529dccdb",
         "x": [
          0,
          1,
          2,
          3,
          4,
          5,
          6
         ],
         "y": [
          0.46333333333333343,
          0.8877777777777766,
          0.948888888888888,
          0.9711111111111106,
          0.9833333333333328,
          0.992222222222222,
          1
         ]
        },
        {
         "hoverinfo": "skip",
         "marker": {
          "color": "rgb(25.0,200,200)"
         },
         "mode": "markers",
         "type": "scatter",
         "uid": "0d9af0ba-8eea-4419-84a2-733090c8999d",
         "x": [
          0,
          1,
          2,
          3,
          4,
          5,
          6
         ],
         "y": [
          0.4544444444444445,
          0.9088888888888877,
          0.9399999999999992,
          0.9633333333333328,
          0.9788888888888886,
          0.9944444444444442,
          1
         ]
        },
        {
         "hoverinfo": "skip",
         "marker": {
          "color": "rgb(25.0,200,200)"
         },
         "mode": "markers",
         "type": "scatter",
         "uid": "a96cc830-300d-482a-8087-573418cc1420",
         "x": [
          0,
          1,
          2,
          3,
          4
         ],
         "y": [
          0.47222222222222227,
          0.9077777777777775,
          0.971111111111111,
          0.9888888888888888,
          1
         ]
        },
        {
         "hoverinfo": "skip",
         "marker": {
          "color": "rgb(25.0,200,200)"
         },
         "mode": "markers",
         "type": "scatter",
         "uid": "d66c22b8-cbd2-409e-8e70-1deab2ec23f7",
         "x": [
          0,
          1,
          2,
          3,
          4
         ],
         "y": [
          0.49,
          0.9388888888888884,
          0.9833333333333328,
          0.9988888888888888,
          1
         ]
        },
        {
         "hoverinfo": "skip",
         "marker": {
          "color": "rgb(25.0,200,200)"
         },
         "mode": "markers",
         "type": "scatter",
         "uid": "4aa204fe-7a9a-4e0d-927f-5c838cfc8540",
         "x": [
          0,
          1,
          2,
          3,
          4,
          5
         ],
         "y": [
          0.4866666666666665,
          0.9177777777777772,
          0.984444444444444,
          0.9933333333333332,
          0.9988888888888888,
          1
         ]
        },
        {
         "hoverinfo": "skip",
         "marker": {
          "color": "rgb(25.0,200,200)"
         },
         "mode": "markers",
         "type": "scatter",
         "uid": "c8f6bbe8-a788-4ca4-b0ee-e94eb769c744",
         "x": [
          0,
          1,
          2,
          3,
          4
         ],
         "y": [
          0.5177777777777778,
          0.9522222222222217,
          0.9877777777777774,
          0.9977777777777778,
          1
         ]
        },
        {
         "hoverinfo": "skip",
         "marker": {
          "color": "rgb(25.0,200,200)"
         },
         "mode": "markers",
         "type": "scatter",
         "uid": "9887eca6-97f9-4295-8f65-fecae7b9c056",
         "x": [
          0,
          1,
          2,
          3
         ],
         "y": [
          0.5222222222222225,
          0.9399999999999992,
          0.9899999999999998,
          1
         ]
        },
        {
         "hoverinfo": "skip",
         "marker": {
          "color": "rgb(25.0,200,200)"
         },
         "mode": "markers",
         "type": "scatter",
         "uid": "257274c1-05ab-4428-b581-5b438dd4a893",
         "x": [
          0,
          1,
          2,
          3,
          4
         ],
         "y": [
          0.4777777777777779,
          0.8944444444444444,
          0.99,
          0.9977777777777778,
          1
         ]
        },
        {
         "hoverinfo": "skip",
         "marker": {
          "color": "rgb(25.0,200,200)"
         },
         "mode": "markers",
         "type": "scatter",
         "uid": "a828ad24-d932-4cc5-8977-733c7db23e41",
         "x": [
          0,
          1,
          2,
          3,
          4
         ],
         "y": [
          0.5122222222222222,
          0.9477777777777773,
          0.9877777777777778,
          0.9988888888888888,
          1
         ]
        },
        {
         "hoverinfo": "skip",
         "marker": {
          "color": "rgb(50.0,200,200)"
         },
         "mode": "markers",
         "type": "scatter",
         "uid": "0e632ab9-26a3-47f8-a59b-4b282bd070fc",
         "x": [
          0,
          1,
          2,
          3,
          4
         ],
         "y": [
          0.5144444444444444,
          0.9211111111111104,
          0.9822222222222219,
          0.9977777777777778,
          1
         ]
        },
        {
         "hoverinfo": "skip",
         "marker": {
          "color": "rgb(50.0,200,200)"
         },
         "mode": "markers",
         "type": "scatter",
         "uid": "a621809a-9c21-40de-bdaf-d1567e74afc2",
         "x": [
          0,
          1,
          2,
          3,
          4,
          5,
          6
         ],
         "y": [
          0.4833333333333333,
          0.9233333333333326,
          0.9722222222222219,
          0.9799999999999998,
          0.9888888888888886,
          0.9955555555555554,
          1
         ]
        },
        {
         "hoverinfo": "skip",
         "marker": {
          "color": "rgb(50.0,200,200)"
         },
         "mode": "markers",
         "type": "scatter",
         "uid": "bb5a02bc-949f-49c0-8a16-770311b2ace6",
         "x": [
          0,
          1,
          2,
          3,
          4,
          5,
          6
         ],
         "y": [
          0.44777777777777766,
          0.8588888888888885,
          0.956666666666666,
          0.9777777777777772,
          0.9888888888888886,
          0.9988888888888888,
          1
         ]
        },
        {
         "hoverinfo": "skip",
         "marker": {
          "color": "rgb(50.0,200,200)"
         },
         "mode": "markers",
         "type": "scatter",
         "uid": "58513a57-ba8b-4710-98d9-0ec6ac9ee8e7",
         "x": [
          0,
          1,
          2,
          3
         ],
         "y": [
          0.49222222222222206,
          0.916666666666666,
          0.9911111111111108,
          1
         ]
        },
        {
         "hoverinfo": "skip",
         "marker": {
          "color": "rgb(50.0,200,200)"
         },
         "mode": "markers",
         "type": "scatter",
         "uid": "57f0cfea-2048-4985-b561-fe91e6b0f0b4",
         "x": [
          0,
          1,
          2,
          3,
          4
         ],
         "y": [
          0.4788888888888889,
          0.9177777777777775,
          0.9788888888888885,
          0.9933333333333332,
          1
         ]
        },
        {
         "hoverinfo": "skip",
         "marker": {
          "color": "rgb(50.0,200,200)"
         },
         "mode": "markers",
         "type": "scatter",
         "uid": "7a91fb49-cdc6-48a5-acb0-8629bf181e7f",
         "x": [
          0,
          1,
          2,
          3
         ],
         "y": [
          0.5077777777777779,
          0.938888888888889,
          0.9944444444444442,
          1
         ]
        },
        {
         "hoverinfo": "skip",
         "marker": {
          "color": "rgb(50.0,200,200)"
         },
         "mode": "markers",
         "type": "scatter",
         "uid": "8cc9efc8-b513-4b22-bfd7-557b86716436",
         "x": [
          0,
          1,
          2,
          3
         ],
         "y": [
          0.5311111111111113,
          0.9455555555555551,
          0.9922222222222223,
          1
         ]
        },
        {
         "hoverinfo": "skip",
         "marker": {
          "color": "rgb(50.0,200,200)"
         },
         "mode": "markers",
         "type": "scatter",
         "uid": "9831dd7c-f44b-4502-9bcf-cceee38ee0c9",
         "x": [
          0,
          1,
          2,
          3,
          4
         ],
         "y": [
          0.4877777777777781,
          0.9122222222222217,
          0.9744444444444439,
          0.9977777777777778,
          1
         ]
        },
        {
         "hoverinfo": "skip",
         "marker": {
          "color": "rgb(50.0,200,200)"
         },
         "mode": "markers",
         "type": "scatter",
         "uid": "a00675e7-c7ca-4115-93da-51df315b3398",
         "x": [
          0,
          1,
          2,
          3,
          4
         ],
         "y": [
          0.5333333333333331,
          0.9566666666666663,
          0.9899999999999998,
          0.9955555555555554,
          1
         ]
        },
        {
         "hoverinfo": "skip",
         "marker": {
          "color": "rgb(50.0,200,200)"
         },
         "mode": "markers",
         "type": "scatter",
         "uid": "f617bad8-c64b-463f-8895-af64eb0dcd27",
         "x": [
          0,
          1,
          2,
          3,
          4,
          5
         ],
         "y": [
          0.5133333333333333,
          0.9399999999999997,
          0.9722222222222223,
          0.9866666666666667,
          0.9988888888888888,
          1
         ]
        },
        {
         "hoverinfo": "skip",
         "marker": {
          "color": "rgb(75.0,200,200)"
         },
         "mode": "markers",
         "type": "scatter",
         "uid": "eede9ed6-e1da-4bd0-9e88-a01285316bd6",
         "x": [
          0,
          1,
          2,
          3,
          4
         ],
         "y": [
          0.5444444444444444,
          0.9033333333333328,
          0.98,
          0.9944444444444445,
          1
         ]
        },
        {
         "hoverinfo": "skip",
         "marker": {
          "color": "rgb(75.0,200,200)"
         },
         "mode": "markers",
         "type": "scatter",
         "uid": "2d3fa10b-048f-46cb-a54c-6ec5245fe47d",
         "x": [
          0,
          1,
          2,
          3
         ],
         "y": [
          0.4966666666666668,
          0.9255555555555547,
          0.984444444444444,
          1
         ]
        },
        {
         "hoverinfo": "skip",
         "marker": {
          "color": "rgb(75.0,200,200)"
         },
         "mode": "markers",
         "type": "scatter",
         "uid": "edc3fb3b-d4c9-464c-949f-083087aeb2c1",
         "x": [
          0,
          1,
          2,
          3
         ],
         "y": [
          0.5244444444444443,
          0.9244444444444438,
          0.982222222222222,
          1
         ]
        },
        {
         "hoverinfo": "skip",
         "marker": {
          "color": "rgb(75.0,200,200)"
         },
         "mode": "markers",
         "type": "scatter",
         "uid": "73371901-92bb-4d55-a637-636f3e99091c",
         "x": [
          0,
          1,
          2,
          3
         ],
         "y": [
          0.5433333333333333,
          0.9611111111111108,
          0.9955555555555555,
          1
         ]
        },
        {
         "hoverinfo": "skip",
         "marker": {
          "color": "rgb(75.0,200,200)"
         },
         "mode": "markers",
         "type": "scatter",
         "uid": "bdc812b4-76b1-4b09-a4fe-a876822e4600",
         "x": [
          0,
          1,
          2,
          3,
          4,
          5,
          6
         ],
         "y": [
          0.5011111111111111,
          0.8999999999999987,
          0.9444444444444439,
          0.9666666666666666,
          0.9822222222222223,
          0.9977777777777778,
          1
         ]
        },
        {
         "hoverinfo": "skip",
         "marker": {
          "color": "rgb(75.0,200,200)"
         },
         "mode": "markers",
         "type": "scatter",
         "uid": "20b76132-d9d2-4495-96be-b41976297c45",
         "x": [
          0,
          1,
          2,
          3,
          4,
          5,
          6
         ],
         "y": [
          0.47444444444444467,
          0.8977777777777765,
          0.959999999999999,
          0.9788888888888883,
          0.9899999999999998,
          0.9977777777777778,
          1
         ]
        },
        {
         "hoverinfo": "skip",
         "marker": {
          "color": "rgb(75.0,200,200)"
         },
         "mode": "markers",
         "type": "scatter",
         "uid": "186413a5-8b29-42d9-84b2-519044311b64",
         "x": [
          0,
          1,
          2,
          3,
          4,
          5,
          6
         ],
         "y": [
          0.5088888888888887,
          0.9211111111111104,
          0.9633333333333332,
          0.9788888888888888,
          0.9888888888888888,
          0.9966666666666667,
          1
         ]
        },
        {
         "hoverinfo": "skip",
         "marker": {
          "color": "rgb(75.0,200,200)"
         },
         "mode": "markers",
         "type": "scatter",
         "uid": "325c2e16-0c89-46a5-8828-628a79e75e29",
         "x": [
          0,
          1,
          2,
          3
         ],
         "y": [
          0.49888888888888894,
          0.9322222222222216,
          0.9944444444444442,
          1
         ]
        },
        {
         "hoverinfo": "skip",
         "marker": {
          "color": "rgb(75.0,200,200)"
         },
         "mode": "markers",
         "type": "scatter",
         "uid": "1d39dae3-72e6-487e-aaf8-3f7bc9eef5c6",
         "x": [
          0,
          1,
          2,
          3,
          4
         ],
         "y": [
          0.5111111111111112,
          0.9566666666666663,
          0.99,
          0.9966666666666667,
          1
         ]
        },
        {
         "hoverinfo": "skip",
         "marker": {
          "color": "rgb(75.0,200,200)"
         },
         "mode": "markers",
         "type": "scatter",
         "uid": "5d1f9f2f-2a77-48af-a1c2-8a5c5ac9b21f",
         "x": [
          0,
          1,
          2
         ],
         "y": [
          0.5555555555555555,
          0.9299999999999997,
          1
         ]
        },
        {
         "hoverinfo": "skip",
         "marker": {
          "color": "rgb(100.0,200,200)"
         },
         "mode": "markers",
         "type": "scatter",
         "uid": "1f9c317d-5224-40a1-9c39-136eed0c4a36",
         "x": [
          0,
          1,
          2,
          3
         ],
         "y": [
          0.4933333333333333,
          0.9488888888888889,
          0.9966666666666666,
          1
         ]
        },
        {
         "hoverinfo": "skip",
         "marker": {
          "color": "rgb(100.0,200,200)"
         },
         "mode": "markers",
         "type": "scatter",
         "uid": "c1fdad1a-e2b5-4344-9a1f-f4f1ceeba0c5",
         "x": [
          0,
          1,
          2,
          3,
          4
         ],
         "y": [
          0.5077777777777776,
          0.9288888888888885,
          0.9822222222222223,
          0.9955555555555555,
          1
         ]
        },
        {
         "hoverinfo": "skip",
         "marker": {
          "color": "rgb(100.0,200,200)"
         },
         "mode": "markers",
         "type": "scatter",
         "uid": "2378583e-7228-45f5-902b-9eaa1443959d",
         "x": [
          0,
          1,
          2,
          3,
          4,
          5
         ],
         "y": [
          0.5477777777777777,
          0.9099999999999998,
          0.97,
          0.9888888888888888,
          0.9988888888888888,
          1
         ]
        },
        {
         "hoverinfo": "skip",
         "marker": {
          "color": "rgb(100.0,200,200)"
         },
         "mode": "markers",
         "type": "scatter",
         "uid": "82dbf91e-feac-4637-89c2-4aa5a25d08c7",
         "x": [
          0,
          1,
          2,
          3
         ],
         "y": [
          0.5611111111111109,
          0.9655555555555551,
          0.9977777777777778,
          1
         ]
        },
        {
         "hoverinfo": "skip",
         "marker": {
          "color": "rgb(100.0,200,200)"
         },
         "mode": "markers",
         "type": "scatter",
         "uid": "973239a1-661a-444d-8b6f-9643974da5a5",
         "x": [
          0,
          1,
          2,
          3,
          4
         ],
         "y": [
          0.49999999999999994,
          0.9333333333333326,
          0.974444444444444,
          0.9899999999999998,
          1
         ]
        },
        {
         "hoverinfo": "skip",
         "marker": {
          "color": "rgb(100.0,200,200)"
         },
         "mode": "markers",
         "type": "scatter",
         "uid": "8fe265a8-ac97-4a49-b8f9-a11ce528a8fb",
         "x": [
          0,
          1,
          2,
          3,
          4,
          5
         ],
         "y": [
          0.44000000000000006,
          0.8922222222222213,
          0.9622222222222215,
          0.984444444444444,
          0.9944444444444442,
          1
         ]
        },
        {
         "hoverinfo": "skip",
         "marker": {
          "color": "rgb(100.0,200,200)"
         },
         "mode": "markers",
         "type": "scatter",
         "uid": "c79cffdc-0243-4d33-86c4-d57065aefc7b",
         "x": [
          0,
          1,
          2,
          3,
          4,
          5
         ],
         "y": [
          0.5222222222222219,
          0.9422222222222217,
          0.9733333333333332,
          0.9888888888888888,
          0.9955555555555555,
          1
         ]
        },
        {
         "hoverinfo": "skip",
         "marker": {
          "color": "rgb(100.0,200,200)"
         },
         "mode": "markers",
         "type": "scatter",
         "uid": "398035ba-68f0-4692-80ae-38d327fab957",
         "x": [
          0,
          1,
          2
         ],
         "y": [
          0.5255555555555556,
          0.9722222222222221,
          1
         ]
        },
        {
         "hoverinfo": "skip",
         "marker": {
          "color": "rgb(100.0,200,200)"
         },
         "mode": "markers",
         "type": "scatter",
         "uid": "0af3c5e5-8328-4c91-8d3d-9fbfd4bbef57",
         "x": [
          0,
          1,
          2,
          3,
          4,
          5,
          6
         ],
         "y": [
          0.491111111111111,
          0.8999999999999991,
          0.9388888888888881,
          0.9599999999999994,
          0.9799999999999995,
          0.9977777777777778,
          1
         ]
        },
        {
         "hoverinfo": "skip",
         "marker": {
          "color": "rgb(100.0,200,200)"
         },
         "mode": "markers",
         "type": "scatter",
         "uid": "24d048dd-0b44-440a-aa1e-66c3ac7a59f9",
         "x": [
          0,
          1,
          2,
          3
         ],
         "y": [
          0.4888888888888889,
          0.9600000000000002,
          0.9933333333333334,
          1
         ]
        },
        {
         "hoverinfo": "skip",
         "marker": {
          "color": "rgb(125.0,200,200)"
         },
         "mode": "markers",
         "type": "scatter",
         "uid": "f7ba6f56-cb57-402f-be3f-6d55fe27eb26",
         "x": [
          0,
          1,
          2,
          3,
          4
         ],
         "y": [
          0.518888888888889,
          0.9444444444444434,
          0.9822222222222217,
          0.9944444444444442,
          1
         ]
        },
        {
         "hoverinfo": "skip",
         "marker": {
          "color": "rgb(125.0,200,200)"
         },
         "mode": "markers",
         "type": "scatter",
         "uid": "654857ad-9b2e-4386-ad7f-f4c897357ede",
         "x": [
          0,
          1,
          2,
          3
         ],
         "y": [
          0.5411111111111111,
          0.9288888888888884,
          0.9933333333333332,
          1
         ]
        },
        {
         "hoverinfo": "skip",
         "marker": {
          "color": "rgb(125.0,200,200)"
         },
         "mode": "markers",
         "type": "scatter",
         "uid": "2ede6829-49db-4619-bdeb-912f92a9a304",
         "x": [
          0,
          1,
          2,
          3,
          4
         ],
         "y": [
          0.4944444444444447,
          0.9055555555555541,
          0.9722222222222215,
          0.992222222222222,
          1
         ]
        },
        {
         "hoverinfo": "skip",
         "marker": {
          "color": "rgb(125.0,200,200)"
         },
         "mode": "markers",
         "type": "scatter",
         "uid": "cfda2a3b-fbfc-470b-8f89-6c593ce1ed59",
         "x": [
          0,
          1,
          2,
          3
         ],
         "y": [
          0.49,
          0.9499999999999997,
          0.9966666666666666,
          1
         ]
        },
        {
         "hoverinfo": "skip",
         "marker": {
          "color": "rgb(125.0,200,200)"
         },
         "mode": "markers",
         "type": "scatter",
         "uid": "f457c91c-5037-4305-9d5d-b4ed7e2ad332",
         "x": [
          0,
          1,
          2,
          3
         ],
         "y": [
          0.5244444444444442,
          0.9522222222222223,
          0.9988888888888888,
          1
         ]
        },
        {
         "hoverinfo": "skip",
         "marker": {
          "color": "rgb(125.0,200,200)"
         },
         "mode": "markers",
         "type": "scatter",
         "uid": "250b00a9-c199-4fc5-947d-a4145e574c3a",
         "x": [
          0,
          1,
          2,
          3,
          4,
          5
         ],
         "y": [
          0.4799999999999997,
          0.8966666666666657,
          0.9522222222222215,
          0.9766666666666662,
          0.9944444444444442,
          1
         ]
        },
        {
         "hoverinfo": "skip",
         "marker": {
          "color": "rgb(125.0,200,200)"
         },
         "mode": "markers",
         "type": "scatter",
         "uid": "f487f1b0-0ac1-419a-b7fa-3811113c4a58",
         "x": [
          0,
          1,
          2,
          3,
          4,
          5,
          6
         ],
         "y": [
          0.48111111111111116,
          0.8855555555555549,
          0.966666666666666,
          0.9811111111111108,
          0.9866666666666665,
          0.9977777777777778,
          1
         ]
        },
        {
         "hoverinfo": "skip",
         "marker": {
          "color": "rgb(125.0,200,200)"
         },
         "mode": "markers",
         "type": "scatter",
         "uid": "a0c21d5c-d012-47f5-8923-132d103fa4d1",
         "x": [
          0,
          1,
          2,
          3
         ],
         "y": [
          0.5411111111111111,
          0.9544444444444438,
          0.9944444444444442,
          1
         ]
        },
        {
         "hoverinfo": "skip",
         "marker": {
          "color": "rgb(125.0,200,200)"
         },
         "mode": "markers",
         "type": "scatter",
         "uid": "a4de93d0-0397-4b0f-9759-870b2fbb2224",
         "x": [
          0,
          1,
          2,
          3,
          4
         ],
         "y": [
          0.5300000000000001,
          0.9233333333333323,
          0.974444444444444,
          0.9966666666666666,
          1
         ]
        },
        {
         "hoverinfo": "skip",
         "marker": {
          "color": "rgb(125.0,200,200)"
         },
         "mode": "markers",
         "type": "scatter",
         "uid": "3c70f8a0-1b4e-4bb2-93e3-afaae8c4b5a1",
         "x": [
          0,
          1,
          2,
          3,
          4
         ],
         "y": [
          0.5422222222222222,
          0.9344444444444434,
          0.9855555555555553,
          0.9988888888888888,
          1
         ]
        },
        {
         "hoverinfo": "skip",
         "marker": {
          "color": "rgb(150.0,200,200)"
         },
         "mode": "markers",
         "type": "scatter",
         "uid": "f4ea4d29-dded-4dc7-b0dc-44609f17bf7f",
         "x": [
          0,
          1,
          2,
          3,
          4
         ],
         "y": [
          0.5055555555555554,
          0.9244444444444443,
          0.9833333333333334,
          0.9955555555555555,
          1
         ]
        },
        {
         "hoverinfo": "skip",
         "marker": {
          "color": "rgb(150.0,200,200)"
         },
         "mode": "markers",
         "type": "scatter",
         "uid": "125170ed-003e-45b1-8281-a87a8cf95a63",
         "x": [
          0,
          1,
          2,
          3
         ],
         "y": [
          0.5111111111111112,
          0.9555555555555554,
          0.9911111111111112,
          1
         ]
        },
        {
         "hoverinfo": "skip",
         "marker": {
          "color": "rgb(150.0,200,200)"
         },
         "mode": "markers",
         "type": "scatter",
         "uid": "8f4e16db-cf70-4e28-83f8-c7072d0bb1e5",
         "x": [
          0,
          1,
          2,
          3,
          4
         ],
         "y": [
          0.4755555555555556,
          0.9099999999999988,
          0.967777777777777,
          0.9899999999999998,
          1
         ]
        },
        {
         "hoverinfo": "skip",
         "marker": {
          "color": "rgb(150.0,200,200)"
         },
         "mode": "markers",
         "type": "scatter",
         "uid": "fec4bdc7-3998-4b0e-8e26-d2b71e579f2f",
         "x": [
          0,
          1,
          2,
          3,
          4
         ],
         "y": [
          0.46555555555555556,
          0.8833333333333324,
          0.9611111111111101,
          0.9866666666666662,
          1
         ]
        },
        {
         "hoverinfo": "skip",
         "marker": {
          "color": "rgb(150.0,200,200)"
         },
         "mode": "markers",
         "type": "scatter",
         "uid": "bdcf6501-6532-46f6-8e5a-cb4fe6c67026",
         "x": [
          0,
          1,
          2,
          3,
          4
         ],
         "y": [
          0.4522222222222221,
          0.9199999999999992,
          0.9699999999999998,
          0.9955555555555554,
          1
         ]
        },
        {
         "hoverinfo": "skip",
         "marker": {
          "color": "rgb(150.0,200,200)"
         },
         "mode": "markers",
         "type": "scatter",
         "uid": "763ae3d7-7df4-45f8-b15c-e1d93146ab3f",
         "x": [
          0,
          1,
          2,
          3
         ],
         "y": [
          0.4966666666666665,
          0.9044444444444442,
          0.9933333333333333,
          1
         ]
        },
        {
         "hoverinfo": "skip",
         "marker": {
          "color": "rgb(150.0,200,200)"
         },
         "mode": "markers",
         "type": "scatter",
         "uid": "760b83eb-b3db-4e06-ad23-dbf89989acc2",
         "x": [
          0,
          1,
          2,
          3
         ],
         "y": [
          0.5355555555555557,
          0.9366666666666664,
          0.9955555555555555,
          1
         ]
        },
        {
         "hoverinfo": "skip",
         "marker": {
          "color": "rgb(150.0,200,200)"
         },
         "mode": "markers",
         "type": "scatter",
         "uid": "4ac7634e-9507-4392-903d-df9a80dc576b",
         "x": [
          0,
          1,
          2,
          3,
          4,
          5,
          6
         ],
         "y": [
          0.5022222222222221,
          0.9077777777777766,
          0.9611111111111101,
          0.976666666666666,
          0.984444444444444,
          0.9944444444444442,
          1
         ]
        },
        {
         "hoverinfo": "skip",
         "marker": {
          "color": "rgb(150.0,200,200)"
         },
         "mode": "markers",
         "type": "scatter",
         "uid": "4757f4f5-99f1-4cfb-b4e8-6ea23fc858f3",
         "x": [
          0,
          1,
          2,
          3,
          4
         ],
         "y": [
          0.5111111111111107,
          0.9099999999999996,
          0.972222222222222,
          0.9966666666666667,
          1
         ]
        },
        {
         "hoverinfo": "skip",
         "marker": {
          "color": "rgb(150.0,200,200)"
         },
         "mode": "markers",
         "type": "scatter",
         "uid": "1b183adb-8921-4fb5-bd92-c097f24555bc",
         "x": [
          0,
          1,
          2,
          3,
          4,
          5,
          6,
          7,
          8
         ],
         "y": [
          0.4633333333333332,
          0.872222222222221,
          0.9466666666666655,
          0.9666666666666657,
          0.976666666666666,
          0.9822222222222217,
          0.9911111111111108,
          0.9988888888888888,
          1
         ]
        },
        {
         "hoverinfo": "skip",
         "marker": {
          "color": "rgb(175.0,200,200)"
         },
         "mode": "markers",
         "type": "scatter",
         "uid": "029e2060-0c47-4129-a7f9-26144b91631c",
         "x": [
          0,
          1,
          2,
          3
         ],
         "y": [
          0.5155555555555551,
          0.9122222222222217,
          0.9866666666666666,
          1
         ]
        },
        {
         "hoverinfo": "skip",
         "marker": {
          "color": "rgb(175.0,200,200)"
         },
         "mode": "markers",
         "type": "scatter",
         "uid": "8ee00dbb-6285-4ada-968e-e8aaf4d41798",
         "x": [
          0,
          1,
          2,
          3
         ],
         "y": [
          0.5144444444444444,
          0.9255555555555549,
          0.9855555555555552,
          1
         ]
        },
        {
         "hoverinfo": "skip",
         "marker": {
          "color": "rgb(175.0,200,200)"
         },
         "mode": "markers",
         "type": "scatter",
         "uid": "c36c612f-c495-405e-b3f9-20f12ec0b2ad",
         "x": [
          0,
          1,
          2,
          3,
          4,
          5
         ],
         "y": [
          0.4366666666666664,
          0.8888888888888878,
          0.9722222222222215,
          0.9866666666666662,
          0.9966666666666666,
          1
         ]
        },
        {
         "hoverinfo": "skip",
         "marker": {
          "color": "rgb(175.0,200,200)"
         },
         "mode": "markers",
         "type": "scatter",
         "uid": "3ce12537-eba4-4d8b-9085-3697e54f34f8",
         "x": [
          0,
          1,
          2,
          3
         ],
         "y": [
          0.46666666666666656,
          0.9455555555555548,
          0.9933333333333333,
          1
         ]
        },
        {
         "hoverinfo": "skip",
         "marker": {
          "color": "rgb(175.0,200,200)"
         },
         "mode": "markers",
         "type": "scatter",
         "uid": "784de146-b6d4-460e-8f33-b00206f66ec8",
         "x": [
          0,
          1,
          2,
          3
         ],
         "y": [
          0.538888888888889,
          0.9488888888888881,
          0.9955555555555554,
          1
         ]
        },
        {
         "hoverinfo": "skip",
         "marker": {
          "color": "rgb(175.0,200,200)"
         },
         "mode": "markers",
         "type": "scatter",
         "uid": "bc448983-a450-4918-9950-4484fc83301d",
         "x": [
          0,
          1,
          2,
          3,
          4
         ],
         "y": [
          0.5022222222222221,
          0.9344444444444433,
          0.9811111111111106,
          0.9888888888888886,
          1
         ]
        },
        {
         "hoverinfo": "skip",
         "marker": {
          "color": "rgb(175.0,200,200)"
         },
         "mode": "markers",
         "type": "scatter",
         "uid": "1d464396-9226-444f-9c08-eeba592ac96d",
         "x": [
          0,
          1,
          2,
          3,
          4,
          5,
          6
         ],
         "y": [
          0.47111111111111137,
          0.8755555555555548,
          0.9333333333333322,
          0.9577777777777768,
          0.9733333333333326,
          0.9955555555555554,
          1
         ]
        },
        {
         "hoverinfo": "skip",
         "marker": {
          "color": "rgb(175.0,200,200)"
         },
         "mode": "markers",
         "type": "scatter",
         "uid": "c0cff14d-0788-4c7e-9985-2a55d97e0e39",
         "x": [
          0,
          1,
          2,
          3,
          4
         ],
         "y": [
          0.5200000000000001,
          0.9099999999999988,
          0.9666666666666663,
          0.9933333333333333,
          1
         ]
        },
        {
         "hoverinfo": "skip",
         "marker": {
          "color": "rgb(175.0,200,200)"
         },
         "mode": "markers",
         "type": "scatter",
         "uid": "832f52e2-2e5f-45ee-a91c-0198bea0d7c6",
         "x": [
          0,
          1,
          2,
          3,
          4,
          5
         ],
         "y": [
          0.4955555555555557,
          0.9299999999999992,
          0.9811111111111106,
          0.9933333333333332,
          0.9988888888888888,
          1
         ]
        },
        {
         "hoverinfo": "skip",
         "marker": {
          "color": "rgb(175.0,200,200)"
         },
         "mode": "markers",
         "type": "scatter",
         "uid": "40e646cc-f222-4c86-a487-f200d75ae29c",
         "x": [
          0,
          1,
          2,
          3,
          4,
          5
         ],
         "y": [
          0.4866666666666666,
          0.9366666666666658,
          0.9788888888888883,
          0.9911111111111108,
          0.9988888888888888,
          1
         ]
        },
        {
         "hoverinfo": "skip",
         "marker": {
          "color": "rgb(200.0,200,200)"
         },
         "mode": "markers",
         "type": "scatter",
         "uid": "176e1eff-5e87-4461-a58e-93ca0941b1b3",
         "x": [
          0,
          1,
          2,
          3,
          4,
          5,
          6
         ],
         "y": [
          0.5088888888888888,
          0.9322222222222212,
          0.9744444444444437,
          0.984444444444444,
          0.9899999999999998,
          0.9988888888888888,
          1
         ]
        },
        {
         "hoverinfo": "skip",
         "marker": {
          "color": "rgb(200.0,200,200)"
         },
         "mode": "markers",
         "type": "scatter",
         "uid": "f27baf3b-8824-46f8-abfc-f6ce7f6540b9",
         "x": [
          0,
          1,
          2,
          3,
          4,
          5
         ],
         "y": [
          0.49999999999999983,
          0.9033333333333318,
          0.9522222222222214,
          0.9777777777777774,
          0.9922222222222221,
          1
         ]
        },
        {
         "hoverinfo": "skip",
         "marker": {
          "color": "rgb(200.0,200,200)"
         },
         "mode": "markers",
         "type": "scatter",
         "uid": "b589ca41-2914-45eb-acd1-d78d5e583110",
         "x": [
          0,
          1,
          2,
          3
         ],
         "y": [
          0.5433333333333333,
          0.926666666666666,
          0.9844444444444445,
          1
         ]
        },
        {
         "hoverinfo": "skip",
         "marker": {
          "color": "rgb(200.0,200,200)"
         },
         "mode": "markers",
         "type": "scatter",
         "uid": "eea28713-530e-45cb-8710-128978f398fb",
         "x": [
          0,
          1,
          2,
          3,
          4,
          5,
          6
         ],
         "y": [
          0.508888888888889,
          0.9022222222222216,
          0.9599999999999994,
          0.9844444444444441,
          0.992222222222222,
          0.9988888888888888,
          1
         ]
        },
        {
         "hoverinfo": "skip",
         "marker": {
          "color": "rgb(200.0,200,200)"
         },
         "mode": "markers",
         "type": "scatter",
         "uid": "25fb8d01-f93c-4670-b5c0-9cadc7d64ab2",
         "x": [
          0,
          1,
          2,
          3,
          4,
          5
         ],
         "y": [
          0.46444444444444466,
          0.8955555555555541,
          0.9655555555555547,
          0.9888888888888886,
          0.9988888888888888,
          1
         ]
        },
        {
         "hoverinfo": "skip",
         "marker": {
          "color": "rgb(200.0,200,200)"
         },
         "mode": "markers",
         "type": "scatter",
         "uid": "cdd4bd7f-f6a3-4b8b-914b-f1991208dbe2",
         "x": [
          0,
          1,
          2,
          3,
          4
         ],
         "y": [
          0.4955555555555556,
          0.9366666666666658,
          0.9877777777777774,
          0.9966666666666666,
          1
         ]
        },
        {
         "hoverinfo": "skip",
         "marker": {
          "color": "rgb(200.0,200,200)"
         },
         "mode": "markers",
         "type": "scatter",
         "uid": "e1deab8d-a941-4076-8be3-42fec0a36b0e",
         "x": [
          0,
          1,
          2,
          3
         ],
         "y": [
          0.47444444444444467,
          0.9444444444444438,
          0.9888888888888886,
          1
         ]
        },
        {
         "hoverinfo": "skip",
         "marker": {
          "color": "rgb(200.0,200,200)"
         },
         "mode": "markers",
         "type": "scatter",
         "uid": "56685606-d310-4fee-a4c2-c4ec3c20d538",
         "x": [
          0,
          1,
          2,
          3,
          4,
          5
         ],
         "y": [
          0.4688888888888891,
          0.8922222222222216,
          0.9711111111111106,
          0.9899999999999998,
          0.9988888888888888,
          1
         ]
        },
        {
         "hoverinfo": "skip",
         "marker": {
          "color": "rgb(200.0,200,200)"
         },
         "mode": "markers",
         "type": "scatter",
         "uid": "b05157cd-9e24-4759-a157-d448122f66ae",
         "x": [
          0,
          1,
          2,
          3
         ],
         "y": [
          0.4777777777777778,
          0.8988888888888884,
          0.9799999999999998,
          1
         ]
        },
        {
         "hoverinfo": "skip",
         "marker": {
          "color": "rgb(200.0,200,200)"
         },
         "mode": "markers",
         "type": "scatter",
         "uid": "757afc75-97b3-4532-891d-03035677209d",
         "x": [
          0,
          1,
          2,
          3,
          4
         ],
         "y": [
          0.4744444444444443,
          0.8988888888888882,
          0.9599999999999994,
          0.9933333333333332,
          1
         ]
        },
        {
         "hoverinfo": "skip",
         "marker": {
          "color": "rgb(225.0,200,200)"
         },
         "mode": "markers",
         "type": "scatter",
         "uid": "e123c0bd-c220-44df-b2de-40f11641aaf8",
         "x": [
          0,
          1,
          2,
          3,
          4,
          5,
          6
         ],
         "y": [
          0.4955555555555555,
          0.9111111111111113,
          0.9544444444444444,
          0.968888888888889,
          0.9777777777777779,
          0.9911111111111112,
          1
         ]
        },
        {
         "hoverinfo": "skip",
         "marker": {
          "color": "rgb(225.0,200,200)"
         },
         "mode": "markers",
         "type": "scatter",
         "uid": "95e1e15a-6e21-4b0a-9ed4-2dc0455591c9",
         "x": [
          0,
          1,
          2,
          3,
          4
         ],
         "y": [
          0.4777777777777775,
          0.9511111111111102,
          0.992222222222222,
          0.9988888888888888,
          1
         ]
        },
        {
         "hoverinfo": "skip",
         "marker": {
          "color": "rgb(225.0,200,200)"
         },
         "mode": "markers",
         "type": "scatter",
         "uid": "ded71a41-81a7-48fd-b81a-9d697b5eef9e",
         "x": [
          0,
          1,
          2,
          3,
          4,
          5,
          6
         ],
         "y": [
          0.47222222222222215,
          0.8811111111111103,
          0.9544444444444434,
          0.9788888888888883,
          0.9899999999999998,
          0.9944444444444442,
          1
         ]
        },
        {
         "hoverinfo": "skip",
         "marker": {
          "color": "rgb(225.0,200,200)"
         },
         "mode": "markers",
         "type": "scatter",
         "uid": "3b6fad56-84c1-49fe-942b-18f3ad4f2409",
         "x": [
          0,
          1,
          2,
          3,
          4,
          5
         ],
         "y": [
          0.5044444444444444,
          0.9377777777777766,
          0.9877777777777774,
          0.9944444444444442,
          0.9988888888888888,
          1
         ]
        },
        {
         "hoverinfo": "skip",
         "marker": {
          "color": "rgb(225.0,200,200)"
         },
         "mode": "markers",
         "type": "scatter",
         "uid": "eb780c94-91ee-4883-bd30-5e0adfee47f6",
         "x": [
          0,
          1,
          2,
          3
         ],
         "y": [
          0.5411111111111113,
          0.9422222222222222,
          0.9933333333333333,
          1
         ]
        },
        {
         "hoverinfo": "skip",
         "marker": {
          "color": "rgb(225.0,200,200)"
         },
         "mode": "markers",
         "type": "scatter",
         "uid": "b89a7145-e20f-4cf2-9a32-d4888ee5fde7",
         "x": [
          0,
          1,
          2,
          3,
          4
         ],
         "y": [
          0.5033333333333334,
          0.9066666666666663,
          0.9744444444444446,
          0.9988888888888888,
          1
         ]
        },
        {
         "hoverinfo": "skip",
         "marker": {
          "color": "rgb(225.0,200,200)"
         },
         "mode": "markers",
         "type": "scatter",
         "uid": "e21093ae-8184-481b-9b88-5ad518ea6630",
         "x": [
          0,
          1,
          2,
          3,
          4
         ],
         "y": [
          0.43777777777777793,
          0.8722222222222221,
          0.9444444444444445,
          0.9855555555555554,
          1
         ]
        },
        {
         "hoverinfo": "skip",
         "marker": {
          "color": "rgb(225.0,200,200)"
         },
         "mode": "markers",
         "type": "scatter",
         "uid": "f27df722-1b2d-4cb9-9919-718f3f39ecac",
         "x": [
          0,
          1,
          2,
          3,
          4,
          5
         ],
         "y": [
          0.4855555555555556,
          0.874444444444444,
          0.9411111111111106,
          0.9799999999999994,
          0.9944444444444442,
          1
         ]
        },
        {
         "hoverinfo": "skip",
         "marker": {
          "color": "rgb(225.0,200,200)"
         },
         "mode": "markers",
         "type": "scatter",
         "uid": "9d328ef3-13cc-48b5-bbb5-60994005404d",
         "x": [
          0,
          1,
          2,
          3,
          4,
          5
         ],
         "y": [
          0.48999999999999994,
          0.9399999999999994,
          0.9755555555555548,
          0.9911111111111108,
          0.9977777777777778,
          1
         ]
        },
        {
         "hoverinfo": "skip",
         "marker": {
          "color": "rgb(225.0,200,200)"
         },
         "mode": "markers",
         "type": "scatter",
         "uid": "b0f47219-e0cd-49cb-ad25-0f220cbc36db",
         "x": [
          0,
          1,
          2,
          3,
          4
         ],
         "y": [
          0.4877777777777777,
          0.9066666666666663,
          0.9611111111111108,
          0.9899999999999998,
          1
         ]
        }
       ],
       "layout": {
        "showlegend": false,
        "title": {
         "text": "Percent social optimal vs Iteration num (Simultaneous Update)"
        }
       }
      },
      "text/html": [
       "<div id=\"7017c055-4c0e-46d6-bb74-88264203d07f\" style=\"height: 525px; width: 100%;\" class=\"plotly-graph-div\"></div><script type=\"text/javascript\">require([\"plotly\"], function(Plotly) { window.PLOTLYENV=window.PLOTLYENV || {};window.PLOTLYENV.BASE_URL=\"https://plot.ly\";\n",
       "if (document.getElementById(\"7017c055-4c0e-46d6-bb74-88264203d07f\")) {\n",
       "    Plotly.newPlot(\"7017c055-4c0e-46d6-bb74-88264203d07f\", [{\"hoverinfo\": \"skip\", \"marker\": {\"color\": \"rgb(0.0,200,200)\"}, \"mode\": \"markers\", \"x\": [0, 1, 2, 3], \"y\": [0.4977777777777776, 0.8922222222222215, 0.983333333333333, 1.0], \"type\": \"scatter\", \"uid\": \"41c7a697-c8fa-42f5-9937-ae656ec0e009\"}, {\"hoverinfo\": \"skip\", \"marker\": {\"color\": \"rgb(0.0,200,200)\"}, \"mode\": \"markers\", \"x\": [0, 1, 2, 3, 4], \"y\": [0.4966666666666667, 0.8988888888888884, 0.9688888888888889, 0.9888888888888888, 1.0], \"type\": \"scatter\", \"uid\": \"56f9f635-3a5e-4109-906d-db59a3d18dad\"}, {\"hoverinfo\": \"skip\", \"marker\": {\"color\": \"rgb(0.0,200,200)\"}, \"mode\": \"markers\", \"x\": [0, 1, 2, 3, 4, 5], \"y\": [0.46444444444444455, 0.9233333333333331, 0.9655555555555554, 0.981111111111111, 0.9988888888888888, 1.0], \"type\": \"scatter\", \"uid\": \"0fb6d2f7-1b7e-42ae-a57c-a71e2c7323a6\"}, {\"hoverinfo\": \"skip\", \"marker\": {\"color\": \"rgb(0.0,200,200)\"}, \"mode\": \"markers\", \"x\": [0, 1, 2, 3], \"y\": [0.5411111111111111, 0.953333333333333, 0.992222222222222, 1.0], \"type\": \"scatter\", \"uid\": \"a348453f-2097-4c7f-b657-79136984fa1d\"}, {\"hoverinfo\": \"skip\", \"marker\": {\"color\": \"rgb(0.0,200,200)\"}, \"mode\": \"markers\", \"x\": [0, 1, 2], \"y\": [0.518888888888889, 0.9766666666666662, 1.0], \"type\": \"scatter\", \"uid\": \"10ccf22b-33b4-45a5-a7f4-6ad401948c02\"}, {\"hoverinfo\": \"skip\", \"marker\": {\"color\": \"rgb(0.0,200,200)\"}, \"mode\": \"markers\", \"x\": [0, 1, 2, 3, 4], \"y\": [0.4966666666666664, 0.9299999999999992, 0.9711111111111107, 0.9955555555555555, 1.0], \"type\": \"scatter\", \"uid\": \"c1e19e59-aecc-4f82-b71b-3a5d6be2cb69\"}, {\"hoverinfo\": \"skip\", \"marker\": {\"color\": \"rgb(0.0,200,200)\"}, \"mode\": \"markers\", \"x\": [0, 1, 2], \"y\": [0.5311111111111112, 0.9833333333333333, 1.0], \"type\": \"scatter\", \"uid\": \"a57e1bfe-a1a1-4176-b37e-45f14c8deaca\"}, {\"hoverinfo\": \"skip\", \"marker\": {\"color\": \"rgb(0.0,200,200)\"}, \"mode\": \"markers\", \"x\": [0, 1, 2, 3], \"y\": [0.5055555555555554, 0.9233333333333327, 0.9911111111111108, 1.0], \"type\": \"scatter\", \"uid\": \"15c51da4-3f6e-4323-b767-47891d8cb172\"}, {\"hoverinfo\": \"skip\", \"marker\": {\"color\": \"rgb(0.0,200,200)\"}, \"mode\": \"markers\", \"x\": [0, 1, 2, 3, 4], \"y\": [0.4644444444444445, 0.9011111111111115, 0.9777777777777775, 0.9933333333333333, 1.0], \"type\": \"scatter\", \"uid\": \"df7c6b5e-0320-472e-a1d4-3d944e1bfd23\"}, {\"hoverinfo\": \"skip\", \"marker\": {\"color\": \"rgb(0.0,200,200)\"}, \"mode\": \"markers\", \"x\": [0, 1, 2, 3], \"y\": [0.5288888888888891, 0.954444444444444, 0.9911111111111112, 1.0], \"type\": \"scatter\", \"uid\": \"9232280d-30d4-498b-8bba-47587b789dad\"}, {\"hoverinfo\": \"skip\", \"marker\": {\"color\": \"rgb(25.0,200,200)\"}, \"mode\": \"markers\", \"x\": [0, 1, 2, 3, 4, 5, 6], \"y\": [0.5033333333333332, 0.9333333333333322, 0.9566666666666657, 0.9733333333333327, 0.9899999999999998, 0.9988888888888888, 1.0], \"type\": \"scatter\", \"uid\": \"d4a00113-1a0f-4774-b93f-55a6a16c80da\"}, {\"hoverinfo\": \"skip\", \"marker\": {\"color\": \"rgb(25.0,200,200)\"}, \"mode\": \"markers\", \"x\": [0, 1, 2, 3, 4, 5, 6], \"y\": [0.46333333333333343, 0.8877777777777766, 0.948888888888888, 0.9711111111111106, 0.9833333333333328, 0.992222222222222, 1.0], \"type\": \"scatter\", \"uid\": \"648c1355-9309-45b5-8efd-4466529dccdb\"}, {\"hoverinfo\": \"skip\", \"marker\": {\"color\": \"rgb(25.0,200,200)\"}, \"mode\": \"markers\", \"x\": [0, 1, 2, 3, 4, 5, 6], \"y\": [0.4544444444444445, 0.9088888888888877, 0.9399999999999992, 0.9633333333333328, 0.9788888888888886, 0.9944444444444442, 1.0], \"type\": \"scatter\", \"uid\": \"0d9af0ba-8eea-4419-84a2-733090c8999d\"}, {\"hoverinfo\": \"skip\", \"marker\": {\"color\": \"rgb(25.0,200,200)\"}, \"mode\": \"markers\", \"x\": [0, 1, 2, 3, 4], \"y\": [0.47222222222222227, 0.9077777777777775, 0.971111111111111, 0.9888888888888888, 1.0], \"type\": \"scatter\", \"uid\": \"a96cc830-300d-482a-8087-573418cc1420\"}, {\"hoverinfo\": \"skip\", \"marker\": {\"color\": \"rgb(25.0,200,200)\"}, \"mode\": \"markers\", \"x\": [0, 1, 2, 3, 4], \"y\": [0.49, 0.9388888888888884, 0.9833333333333328, 0.9988888888888888, 1.0], \"type\": \"scatter\", \"uid\": \"d66c22b8-cbd2-409e-8e70-1deab2ec23f7\"}, {\"hoverinfo\": \"skip\", \"marker\": {\"color\": \"rgb(25.0,200,200)\"}, \"mode\": \"markers\", \"x\": [0, 1, 2, 3, 4, 5], \"y\": [0.4866666666666665, 0.9177777777777772, 0.984444444444444, 0.9933333333333332, 0.9988888888888888, 1.0], \"type\": \"scatter\", \"uid\": \"4aa204fe-7a9a-4e0d-927f-5c838cfc8540\"}, {\"hoverinfo\": \"skip\", \"marker\": {\"color\": \"rgb(25.0,200,200)\"}, \"mode\": \"markers\", \"x\": [0, 1, 2, 3, 4], \"y\": [0.5177777777777778, 0.9522222222222217, 0.9877777777777774, 0.9977777777777778, 1.0], \"type\": \"scatter\", \"uid\": \"c8f6bbe8-a788-4ca4-b0ee-e94eb769c744\"}, {\"hoverinfo\": \"skip\", \"marker\": {\"color\": \"rgb(25.0,200,200)\"}, \"mode\": \"markers\", \"x\": [0, 1, 2, 3], \"y\": [0.5222222222222225, 0.9399999999999992, 0.9899999999999998, 1.0], \"type\": \"scatter\", \"uid\": \"9887eca6-97f9-4295-8f65-fecae7b9c056\"}, {\"hoverinfo\": \"skip\", \"marker\": {\"color\": \"rgb(25.0,200,200)\"}, \"mode\": \"markers\", \"x\": [0, 1, 2, 3, 4], \"y\": [0.4777777777777779, 0.8944444444444444, 0.99, 0.9977777777777778, 1.0], \"type\": \"scatter\", \"uid\": \"257274c1-05ab-4428-b581-5b438dd4a893\"}, {\"hoverinfo\": \"skip\", \"marker\": {\"color\": \"rgb(25.0,200,200)\"}, \"mode\": \"markers\", \"x\": [0, 1, 2, 3, 4], \"y\": [0.5122222222222222, 0.9477777777777773, 0.9877777777777778, 0.9988888888888888, 1.0], \"type\": \"scatter\", \"uid\": \"a828ad24-d932-4cc5-8977-733c7db23e41\"}, {\"hoverinfo\": \"skip\", \"marker\": {\"color\": \"rgb(50.0,200,200)\"}, \"mode\": \"markers\", \"x\": [0, 1, 2, 3, 4], \"y\": [0.5144444444444444, 0.9211111111111104, 0.9822222222222219, 0.9977777777777778, 1.0], \"type\": \"scatter\", \"uid\": \"0e632ab9-26a3-47f8-a59b-4b282bd070fc\"}, {\"hoverinfo\": \"skip\", \"marker\": {\"color\": \"rgb(50.0,200,200)\"}, \"mode\": \"markers\", \"x\": [0, 1, 2, 3, 4, 5, 6], \"y\": [0.4833333333333333, 0.9233333333333326, 0.9722222222222219, 0.9799999999999998, 0.9888888888888886, 0.9955555555555554, 1.0], \"type\": \"scatter\", \"uid\": \"a621809a-9c21-40de-bdaf-d1567e74afc2\"}, {\"hoverinfo\": \"skip\", \"marker\": {\"color\": \"rgb(50.0,200,200)\"}, \"mode\": \"markers\", \"x\": [0, 1, 2, 3, 4, 5, 6], \"y\": [0.44777777777777766, 0.8588888888888885, 0.956666666666666, 0.9777777777777772, 0.9888888888888886, 0.9988888888888888, 1.0], \"type\": \"scatter\", \"uid\": \"bb5a02bc-949f-49c0-8a16-770311b2ace6\"}, {\"hoverinfo\": \"skip\", \"marker\": {\"color\": \"rgb(50.0,200,200)\"}, \"mode\": \"markers\", \"x\": [0, 1, 2, 3], \"y\": [0.49222222222222206, 0.916666666666666, 0.9911111111111108, 1.0], \"type\": \"scatter\", \"uid\": \"58513a57-ba8b-4710-98d9-0ec6ac9ee8e7\"}, {\"hoverinfo\": \"skip\", \"marker\": {\"color\": \"rgb(50.0,200,200)\"}, \"mode\": \"markers\", \"x\": [0, 1, 2, 3, 4], \"y\": [0.4788888888888889, 0.9177777777777775, 0.9788888888888885, 0.9933333333333332, 1.0], \"type\": \"scatter\", \"uid\": \"57f0cfea-2048-4985-b561-fe91e6b0f0b4\"}, {\"hoverinfo\": \"skip\", \"marker\": {\"color\": \"rgb(50.0,200,200)\"}, \"mode\": \"markers\", \"x\": [0, 1, 2, 3], \"y\": [0.5077777777777779, 0.938888888888889, 0.9944444444444442, 1.0], \"type\": \"scatter\", \"uid\": \"7a91fb49-cdc6-48a5-acb0-8629bf181e7f\"}, {\"hoverinfo\": \"skip\", \"marker\": {\"color\": \"rgb(50.0,200,200)\"}, \"mode\": \"markers\", \"x\": [0, 1, 2, 3], \"y\": [0.5311111111111113, 0.9455555555555551, 0.9922222222222223, 1.0], \"type\": \"scatter\", \"uid\": \"8cc9efc8-b513-4b22-bfd7-557b86716436\"}, {\"hoverinfo\": \"skip\", \"marker\": {\"color\": \"rgb(50.0,200,200)\"}, \"mode\": \"markers\", \"x\": [0, 1, 2, 3, 4], \"y\": [0.4877777777777781, 0.9122222222222217, 0.9744444444444439, 0.9977777777777778, 1.0], \"type\": \"scatter\", \"uid\": \"9831dd7c-f44b-4502-9bcf-cceee38ee0c9\"}, {\"hoverinfo\": \"skip\", \"marker\": {\"color\": \"rgb(50.0,200,200)\"}, \"mode\": \"markers\", \"x\": [0, 1, 2, 3, 4], \"y\": [0.5333333333333331, 0.9566666666666663, 0.9899999999999998, 0.9955555555555554, 1.0], \"type\": \"scatter\", \"uid\": \"a00675e7-c7ca-4115-93da-51df315b3398\"}, {\"hoverinfo\": \"skip\", \"marker\": {\"color\": \"rgb(50.0,200,200)\"}, \"mode\": \"markers\", \"x\": [0, 1, 2, 3, 4, 5], \"y\": [0.5133333333333333, 0.9399999999999997, 0.9722222222222223, 0.9866666666666667, 0.9988888888888888, 1.0], \"type\": \"scatter\", \"uid\": \"f617bad8-c64b-463f-8895-af64eb0dcd27\"}, {\"hoverinfo\": \"skip\", \"marker\": {\"color\": \"rgb(75.0,200,200)\"}, \"mode\": \"markers\", \"x\": [0, 1, 2, 3, 4], \"y\": [0.5444444444444444, 0.9033333333333328, 0.98, 0.9944444444444445, 1.0], \"type\": \"scatter\", \"uid\": \"eede9ed6-e1da-4bd0-9e88-a01285316bd6\"}, {\"hoverinfo\": \"skip\", \"marker\": {\"color\": \"rgb(75.0,200,200)\"}, \"mode\": \"markers\", \"x\": [0, 1, 2, 3], \"y\": [0.4966666666666668, 0.9255555555555547, 0.984444444444444, 1.0], \"type\": \"scatter\", \"uid\": \"2d3fa10b-048f-46cb-a54c-6ec5245fe47d\"}, {\"hoverinfo\": \"skip\", \"marker\": {\"color\": \"rgb(75.0,200,200)\"}, \"mode\": \"markers\", \"x\": [0, 1, 2, 3], \"y\": [0.5244444444444443, 0.9244444444444438, 0.982222222222222, 1.0], \"type\": \"scatter\", \"uid\": \"edc3fb3b-d4c9-464c-949f-083087aeb2c1\"}, {\"hoverinfo\": \"skip\", \"marker\": {\"color\": \"rgb(75.0,200,200)\"}, \"mode\": \"markers\", \"x\": [0, 1, 2, 3], \"y\": [0.5433333333333333, 0.9611111111111108, 0.9955555555555555, 1.0], \"type\": \"scatter\", \"uid\": \"73371901-92bb-4d55-a637-636f3e99091c\"}, {\"hoverinfo\": \"skip\", \"marker\": {\"color\": \"rgb(75.0,200,200)\"}, \"mode\": \"markers\", \"x\": [0, 1, 2, 3, 4, 5, 6], \"y\": [0.5011111111111111, 0.8999999999999987, 0.9444444444444439, 0.9666666666666666, 0.9822222222222223, 0.9977777777777778, 1.0], \"type\": \"scatter\", \"uid\": \"bdc812b4-76b1-4b09-a4fe-a876822e4600\"}, {\"hoverinfo\": \"skip\", \"marker\": {\"color\": \"rgb(75.0,200,200)\"}, \"mode\": \"markers\", \"x\": [0, 1, 2, 3, 4, 5, 6], \"y\": [0.47444444444444467, 0.8977777777777765, 0.959999999999999, 0.9788888888888883, 0.9899999999999998, 0.9977777777777778, 1.0], \"type\": \"scatter\", \"uid\": \"20b76132-d9d2-4495-96be-b41976297c45\"}, {\"hoverinfo\": \"skip\", \"marker\": {\"color\": \"rgb(75.0,200,200)\"}, \"mode\": \"markers\", \"x\": [0, 1, 2, 3, 4, 5, 6], \"y\": [0.5088888888888887, 0.9211111111111104, 0.9633333333333332, 0.9788888888888888, 0.9888888888888888, 0.9966666666666667, 1.0], \"type\": \"scatter\", \"uid\": \"186413a5-8b29-42d9-84b2-519044311b64\"}, {\"hoverinfo\": \"skip\", \"marker\": {\"color\": \"rgb(75.0,200,200)\"}, \"mode\": \"markers\", \"x\": [0, 1, 2, 3], \"y\": [0.49888888888888894, 0.9322222222222216, 0.9944444444444442, 1.0], \"type\": \"scatter\", \"uid\": \"325c2e16-0c89-46a5-8828-628a79e75e29\"}, {\"hoverinfo\": \"skip\", \"marker\": {\"color\": \"rgb(75.0,200,200)\"}, \"mode\": \"markers\", \"x\": [0, 1, 2, 3, 4], \"y\": [0.5111111111111112, 0.9566666666666663, 0.99, 0.9966666666666667, 1.0], \"type\": \"scatter\", \"uid\": \"1d39dae3-72e6-487e-aaf8-3f7bc9eef5c6\"}, {\"hoverinfo\": \"skip\", \"marker\": {\"color\": \"rgb(75.0,200,200)\"}, \"mode\": \"markers\", \"x\": [0, 1, 2], \"y\": [0.5555555555555555, 0.9299999999999997, 1.0], \"type\": \"scatter\", \"uid\": \"5d1f9f2f-2a77-48af-a1c2-8a5c5ac9b21f\"}, {\"hoverinfo\": \"skip\", \"marker\": {\"color\": \"rgb(100.0,200,200)\"}, \"mode\": \"markers\", \"x\": [0, 1, 2, 3], \"y\": [0.4933333333333333, 0.9488888888888889, 0.9966666666666666, 1.0], \"type\": \"scatter\", \"uid\": \"1f9c317d-5224-40a1-9c39-136eed0c4a36\"}, {\"hoverinfo\": \"skip\", \"marker\": {\"color\": \"rgb(100.0,200,200)\"}, \"mode\": \"markers\", \"x\": [0, 1, 2, 3, 4], \"y\": [0.5077777777777776, 0.9288888888888885, 0.9822222222222223, 0.9955555555555555, 1.0], \"type\": \"scatter\", \"uid\": \"c1fdad1a-e2b5-4344-9a1f-f4f1ceeba0c5\"}, {\"hoverinfo\": \"skip\", \"marker\": {\"color\": \"rgb(100.0,200,200)\"}, \"mode\": \"markers\", \"x\": [0, 1, 2, 3, 4, 5], \"y\": [0.5477777777777777, 0.9099999999999998, 0.97, 0.9888888888888888, 0.9988888888888888, 1.0], \"type\": \"scatter\", \"uid\": \"2378583e-7228-45f5-902b-9eaa1443959d\"}, {\"hoverinfo\": \"skip\", \"marker\": {\"color\": \"rgb(100.0,200,200)\"}, \"mode\": \"markers\", \"x\": [0, 1, 2, 3], \"y\": [0.5611111111111109, 0.9655555555555551, 0.9977777777777778, 1.0], \"type\": \"scatter\", \"uid\": \"82dbf91e-feac-4637-89c2-4aa5a25d08c7\"}, {\"hoverinfo\": \"skip\", \"marker\": {\"color\": \"rgb(100.0,200,200)\"}, \"mode\": \"markers\", \"x\": [0, 1, 2, 3, 4], \"y\": [0.49999999999999994, 0.9333333333333326, 0.974444444444444, 0.9899999999999998, 1.0], \"type\": \"scatter\", \"uid\": \"973239a1-661a-444d-8b6f-9643974da5a5\"}, {\"hoverinfo\": \"skip\", \"marker\": {\"color\": \"rgb(100.0,200,200)\"}, \"mode\": \"markers\", \"x\": [0, 1, 2, 3, 4, 5], \"y\": [0.44000000000000006, 0.8922222222222213, 0.9622222222222215, 0.984444444444444, 0.9944444444444442, 1.0], \"type\": \"scatter\", \"uid\": \"8fe265a8-ac97-4a49-b8f9-a11ce528a8fb\"}, {\"hoverinfo\": \"skip\", \"marker\": {\"color\": \"rgb(100.0,200,200)\"}, \"mode\": \"markers\", \"x\": [0, 1, 2, 3, 4, 5], \"y\": [0.5222222222222219, 0.9422222222222217, 0.9733333333333332, 0.9888888888888888, 0.9955555555555555, 1.0], \"type\": \"scatter\", \"uid\": \"c79cffdc-0243-4d33-86c4-d57065aefc7b\"}, {\"hoverinfo\": \"skip\", \"marker\": {\"color\": \"rgb(100.0,200,200)\"}, \"mode\": \"markers\", \"x\": [0, 1, 2], \"y\": [0.5255555555555556, 0.9722222222222221, 1.0], \"type\": \"scatter\", \"uid\": \"398035ba-68f0-4692-80ae-38d327fab957\"}, {\"hoverinfo\": \"skip\", \"marker\": {\"color\": \"rgb(100.0,200,200)\"}, \"mode\": \"markers\", \"x\": [0, 1, 2, 3, 4, 5, 6], \"y\": [0.491111111111111, 0.8999999999999991, 0.9388888888888881, 0.9599999999999994, 0.9799999999999995, 0.9977777777777778, 1.0], \"type\": \"scatter\", \"uid\": \"0af3c5e5-8328-4c91-8d3d-9fbfd4bbef57\"}, {\"hoverinfo\": \"skip\", \"marker\": {\"color\": \"rgb(100.0,200,200)\"}, \"mode\": \"markers\", \"x\": [0, 1, 2, 3], \"y\": [0.4888888888888889, 0.9600000000000002, 0.9933333333333334, 1.0], \"type\": \"scatter\", \"uid\": \"24d048dd-0b44-440a-aa1e-66c3ac7a59f9\"}, {\"hoverinfo\": \"skip\", \"marker\": {\"color\": \"rgb(125.0,200,200)\"}, \"mode\": \"markers\", \"x\": [0, 1, 2, 3, 4], \"y\": [0.518888888888889, 0.9444444444444434, 0.9822222222222217, 0.9944444444444442, 1.0], \"type\": \"scatter\", \"uid\": \"f7ba6f56-cb57-402f-be3f-6d55fe27eb26\"}, {\"hoverinfo\": \"skip\", \"marker\": {\"color\": \"rgb(125.0,200,200)\"}, \"mode\": \"markers\", \"x\": [0, 1, 2, 3], \"y\": [0.5411111111111111, 0.9288888888888884, 0.9933333333333332, 1.0], \"type\": \"scatter\", \"uid\": \"654857ad-9b2e-4386-ad7f-f4c897357ede\"}, {\"hoverinfo\": \"skip\", \"marker\": {\"color\": \"rgb(125.0,200,200)\"}, \"mode\": \"markers\", \"x\": [0, 1, 2, 3, 4], \"y\": [0.4944444444444447, 0.9055555555555541, 0.9722222222222215, 0.992222222222222, 1.0], \"type\": \"scatter\", \"uid\": \"2ede6829-49db-4619-bdeb-912f92a9a304\"}, {\"hoverinfo\": \"skip\", \"marker\": {\"color\": \"rgb(125.0,200,200)\"}, \"mode\": \"markers\", \"x\": [0, 1, 2, 3], \"y\": [0.49, 0.9499999999999997, 0.9966666666666666, 1.0], \"type\": \"scatter\", \"uid\": \"cfda2a3b-fbfc-470b-8f89-6c593ce1ed59\"}, {\"hoverinfo\": \"skip\", \"marker\": {\"color\": \"rgb(125.0,200,200)\"}, \"mode\": \"markers\", \"x\": [0, 1, 2, 3], \"y\": [0.5244444444444442, 0.9522222222222223, 0.9988888888888888, 1.0], \"type\": \"scatter\", \"uid\": \"f457c91c-5037-4305-9d5d-b4ed7e2ad332\"}, {\"hoverinfo\": \"skip\", \"marker\": {\"color\": \"rgb(125.0,200,200)\"}, \"mode\": \"markers\", \"x\": [0, 1, 2, 3, 4, 5], \"y\": [0.4799999999999997, 0.8966666666666657, 0.9522222222222215, 0.9766666666666662, 0.9944444444444442, 1.0], \"type\": \"scatter\", \"uid\": \"250b00a9-c199-4fc5-947d-a4145e574c3a\"}, {\"hoverinfo\": \"skip\", \"marker\": {\"color\": \"rgb(125.0,200,200)\"}, \"mode\": \"markers\", \"x\": [0, 1, 2, 3, 4, 5, 6], \"y\": [0.48111111111111116, 0.8855555555555549, 0.966666666666666, 0.9811111111111108, 0.9866666666666665, 0.9977777777777778, 1.0], \"type\": \"scatter\", \"uid\": \"f487f1b0-0ac1-419a-b7fa-3811113c4a58\"}, {\"hoverinfo\": \"skip\", \"marker\": {\"color\": \"rgb(125.0,200,200)\"}, \"mode\": \"markers\", \"x\": [0, 1, 2, 3], \"y\": [0.5411111111111111, 0.9544444444444438, 0.9944444444444442, 1.0], \"type\": \"scatter\", \"uid\": \"a0c21d5c-d012-47f5-8923-132d103fa4d1\"}, {\"hoverinfo\": \"skip\", \"marker\": {\"color\": \"rgb(125.0,200,200)\"}, \"mode\": \"markers\", \"x\": [0, 1, 2, 3, 4], \"y\": [0.5300000000000001, 0.9233333333333323, 0.974444444444444, 0.9966666666666666, 1.0], \"type\": \"scatter\", \"uid\": \"a4de93d0-0397-4b0f-9759-870b2fbb2224\"}, {\"hoverinfo\": \"skip\", \"marker\": {\"color\": \"rgb(125.0,200,200)\"}, \"mode\": \"markers\", \"x\": [0, 1, 2, 3, 4], \"y\": [0.5422222222222222, 0.9344444444444434, 0.9855555555555553, 0.9988888888888888, 1.0], \"type\": \"scatter\", \"uid\": \"3c70f8a0-1b4e-4bb2-93e3-afaae8c4b5a1\"}, {\"hoverinfo\": \"skip\", \"marker\": {\"color\": \"rgb(150.0,200,200)\"}, \"mode\": \"markers\", \"x\": [0, 1, 2, 3, 4], \"y\": [0.5055555555555554, 0.9244444444444443, 0.9833333333333334, 0.9955555555555555, 1.0], \"type\": \"scatter\", \"uid\": \"f4ea4d29-dded-4dc7-b0dc-44609f17bf7f\"}, {\"hoverinfo\": \"skip\", \"marker\": {\"color\": \"rgb(150.0,200,200)\"}, \"mode\": \"markers\", \"x\": [0, 1, 2, 3], \"y\": [0.5111111111111112, 0.9555555555555554, 0.9911111111111112, 1.0], \"type\": \"scatter\", \"uid\": \"125170ed-003e-45b1-8281-a87a8cf95a63\"}, {\"hoverinfo\": \"skip\", \"marker\": {\"color\": \"rgb(150.0,200,200)\"}, \"mode\": \"markers\", \"x\": [0, 1, 2, 3, 4], \"y\": [0.4755555555555556, 0.9099999999999988, 0.967777777777777, 0.9899999999999998, 1.0], \"type\": \"scatter\", \"uid\": \"8f4e16db-cf70-4e28-83f8-c7072d0bb1e5\"}, {\"hoverinfo\": \"skip\", \"marker\": {\"color\": \"rgb(150.0,200,200)\"}, \"mode\": \"markers\", \"x\": [0, 1, 2, 3, 4], \"y\": [0.46555555555555556, 0.8833333333333324, 0.9611111111111101, 0.9866666666666662, 1.0], \"type\": \"scatter\", \"uid\": \"fec4bdc7-3998-4b0e-8e26-d2b71e579f2f\"}, {\"hoverinfo\": \"skip\", \"marker\": {\"color\": \"rgb(150.0,200,200)\"}, \"mode\": \"markers\", \"x\": [0, 1, 2, 3, 4], \"y\": [0.4522222222222221, 0.9199999999999992, 0.9699999999999998, 0.9955555555555554, 1.0], \"type\": \"scatter\", \"uid\": \"bdcf6501-6532-46f6-8e5a-cb4fe6c67026\"}, {\"hoverinfo\": \"skip\", \"marker\": {\"color\": \"rgb(150.0,200,200)\"}, \"mode\": \"markers\", \"x\": [0, 1, 2, 3], \"y\": [0.4966666666666665, 0.9044444444444442, 0.9933333333333333, 1.0], \"type\": \"scatter\", \"uid\": \"763ae3d7-7df4-45f8-b15c-e1d93146ab3f\"}, {\"hoverinfo\": \"skip\", \"marker\": {\"color\": \"rgb(150.0,200,200)\"}, \"mode\": \"markers\", \"x\": [0, 1, 2, 3], \"y\": [0.5355555555555557, 0.9366666666666664, 0.9955555555555555, 1.0], \"type\": \"scatter\", \"uid\": \"760b83eb-b3db-4e06-ad23-dbf89989acc2\"}, {\"hoverinfo\": \"skip\", \"marker\": {\"color\": \"rgb(150.0,200,200)\"}, \"mode\": \"markers\", \"x\": [0, 1, 2, 3, 4, 5, 6], \"y\": [0.5022222222222221, 0.9077777777777766, 0.9611111111111101, 0.976666666666666, 0.984444444444444, 0.9944444444444442, 1.0], \"type\": \"scatter\", \"uid\": \"4ac7634e-9507-4392-903d-df9a80dc576b\"}, {\"hoverinfo\": \"skip\", \"marker\": {\"color\": \"rgb(150.0,200,200)\"}, \"mode\": \"markers\", \"x\": [0, 1, 2, 3, 4], \"y\": [0.5111111111111107, 0.9099999999999996, 0.972222222222222, 0.9966666666666667, 1.0], \"type\": \"scatter\", \"uid\": \"4757f4f5-99f1-4cfb-b4e8-6ea23fc858f3\"}, {\"hoverinfo\": \"skip\", \"marker\": {\"color\": \"rgb(150.0,200,200)\"}, \"mode\": \"markers\", \"x\": [0, 1, 2, 3, 4, 5, 6, 7, 8], \"y\": [0.4633333333333332, 0.872222222222221, 0.9466666666666655, 0.9666666666666657, 0.976666666666666, 0.9822222222222217, 0.9911111111111108, 0.9988888888888888, 1.0], \"type\": \"scatter\", \"uid\": \"1b183adb-8921-4fb5-bd92-c097f24555bc\"}, {\"hoverinfo\": \"skip\", \"marker\": {\"color\": \"rgb(175.0,200,200)\"}, \"mode\": \"markers\", \"x\": [0, 1, 2, 3], \"y\": [0.5155555555555551, 0.9122222222222217, 0.9866666666666666, 1.0], \"type\": \"scatter\", \"uid\": \"029e2060-0c47-4129-a7f9-26144b91631c\"}, {\"hoverinfo\": \"skip\", \"marker\": {\"color\": \"rgb(175.0,200,200)\"}, \"mode\": \"markers\", \"x\": [0, 1, 2, 3], \"y\": [0.5144444444444444, 0.9255555555555549, 0.9855555555555552, 1.0], \"type\": \"scatter\", \"uid\": \"8ee00dbb-6285-4ada-968e-e8aaf4d41798\"}, {\"hoverinfo\": \"skip\", \"marker\": {\"color\": \"rgb(175.0,200,200)\"}, \"mode\": \"markers\", \"x\": [0, 1, 2, 3, 4, 5], \"y\": [0.4366666666666664, 0.8888888888888878, 0.9722222222222215, 0.9866666666666662, 0.9966666666666666, 1.0], \"type\": \"scatter\", \"uid\": \"c36c612f-c495-405e-b3f9-20f12ec0b2ad\"}, {\"hoverinfo\": \"skip\", \"marker\": {\"color\": \"rgb(175.0,200,200)\"}, \"mode\": \"markers\", \"x\": [0, 1, 2, 3], \"y\": [0.46666666666666656, 0.9455555555555548, 0.9933333333333333, 1.0], \"type\": \"scatter\", \"uid\": \"3ce12537-eba4-4d8b-9085-3697e54f34f8\"}, {\"hoverinfo\": \"skip\", \"marker\": {\"color\": \"rgb(175.0,200,200)\"}, \"mode\": \"markers\", \"x\": [0, 1, 2, 3], \"y\": [0.538888888888889, 0.9488888888888881, 0.9955555555555554, 1.0], \"type\": \"scatter\", \"uid\": \"784de146-b6d4-460e-8f33-b00206f66ec8\"}, {\"hoverinfo\": \"skip\", \"marker\": {\"color\": \"rgb(175.0,200,200)\"}, \"mode\": \"markers\", \"x\": [0, 1, 2, 3, 4], \"y\": [0.5022222222222221, 0.9344444444444433, 0.9811111111111106, 0.9888888888888886, 1.0], \"type\": \"scatter\", \"uid\": \"bc448983-a450-4918-9950-4484fc83301d\"}, {\"hoverinfo\": \"skip\", \"marker\": {\"color\": \"rgb(175.0,200,200)\"}, \"mode\": \"markers\", \"x\": [0, 1, 2, 3, 4, 5, 6], \"y\": [0.47111111111111137, 0.8755555555555548, 0.9333333333333322, 0.9577777777777768, 0.9733333333333326, 0.9955555555555554, 1.0], \"type\": \"scatter\", \"uid\": \"1d464396-9226-444f-9c08-eeba592ac96d\"}, {\"hoverinfo\": \"skip\", \"marker\": {\"color\": \"rgb(175.0,200,200)\"}, \"mode\": \"markers\", \"x\": [0, 1, 2, 3, 4], \"y\": [0.5200000000000001, 0.9099999999999988, 0.9666666666666663, 0.9933333333333333, 1.0], \"type\": \"scatter\", \"uid\": \"c0cff14d-0788-4c7e-9985-2a55d97e0e39\"}, {\"hoverinfo\": \"skip\", \"marker\": {\"color\": \"rgb(175.0,200,200)\"}, \"mode\": \"markers\", \"x\": [0, 1, 2, 3, 4, 5], \"y\": [0.4955555555555557, 0.9299999999999992, 0.9811111111111106, 0.9933333333333332, 0.9988888888888888, 1.0], \"type\": \"scatter\", \"uid\": \"832f52e2-2e5f-45ee-a91c-0198bea0d7c6\"}, {\"hoverinfo\": \"skip\", \"marker\": {\"color\": \"rgb(175.0,200,200)\"}, \"mode\": \"markers\", \"x\": [0, 1, 2, 3, 4, 5], \"y\": [0.4866666666666666, 0.9366666666666658, 0.9788888888888883, 0.9911111111111108, 0.9988888888888888, 1.0], \"type\": \"scatter\", \"uid\": \"40e646cc-f222-4c86-a487-f200d75ae29c\"}, {\"hoverinfo\": \"skip\", \"marker\": {\"color\": \"rgb(200.0,200,200)\"}, \"mode\": \"markers\", \"x\": [0, 1, 2, 3, 4, 5, 6], \"y\": [0.5088888888888888, 0.9322222222222212, 0.9744444444444437, 0.984444444444444, 0.9899999999999998, 0.9988888888888888, 1.0], \"type\": \"scatter\", \"uid\": \"176e1eff-5e87-4461-a58e-93ca0941b1b3\"}, {\"hoverinfo\": \"skip\", \"marker\": {\"color\": \"rgb(200.0,200,200)\"}, \"mode\": \"markers\", \"x\": [0, 1, 2, 3, 4, 5], \"y\": [0.49999999999999983, 0.9033333333333318, 0.9522222222222214, 0.9777777777777774, 0.9922222222222221, 1.0], \"type\": \"scatter\", \"uid\": \"f27baf3b-8824-46f8-abfc-f6ce7f6540b9\"}, {\"hoverinfo\": \"skip\", \"marker\": {\"color\": \"rgb(200.0,200,200)\"}, \"mode\": \"markers\", \"x\": [0, 1, 2, 3], \"y\": [0.5433333333333333, 0.926666666666666, 0.9844444444444445, 1.0], \"type\": \"scatter\", \"uid\": \"b589ca41-2914-45eb-acd1-d78d5e583110\"}, {\"hoverinfo\": \"skip\", \"marker\": {\"color\": \"rgb(200.0,200,200)\"}, \"mode\": \"markers\", \"x\": [0, 1, 2, 3, 4, 5, 6], \"y\": [0.508888888888889, 0.9022222222222216, 0.9599999999999994, 0.9844444444444441, 0.992222222222222, 0.9988888888888888, 1.0], \"type\": \"scatter\", \"uid\": \"eea28713-530e-45cb-8710-128978f398fb\"}, {\"hoverinfo\": \"skip\", \"marker\": {\"color\": \"rgb(200.0,200,200)\"}, \"mode\": \"markers\", \"x\": [0, 1, 2, 3, 4, 5], \"y\": [0.46444444444444466, 0.8955555555555541, 0.9655555555555547, 0.9888888888888886, 0.9988888888888888, 1.0], \"type\": \"scatter\", \"uid\": \"25fb8d01-f93c-4670-b5c0-9cadc7d64ab2\"}, {\"hoverinfo\": \"skip\", \"marker\": {\"color\": \"rgb(200.0,200,200)\"}, \"mode\": \"markers\", \"x\": [0, 1, 2, 3, 4], \"y\": [0.4955555555555556, 0.9366666666666658, 0.9877777777777774, 0.9966666666666666, 1.0], \"type\": \"scatter\", \"uid\": \"cdd4bd7f-f6a3-4b8b-914b-f1991208dbe2\"}, {\"hoverinfo\": \"skip\", \"marker\": {\"color\": \"rgb(200.0,200,200)\"}, \"mode\": \"markers\", \"x\": [0, 1, 2, 3], \"y\": [0.47444444444444467, 0.9444444444444438, 0.9888888888888886, 1.0], \"type\": \"scatter\", \"uid\": \"e1deab8d-a941-4076-8be3-42fec0a36b0e\"}, {\"hoverinfo\": \"skip\", \"marker\": {\"color\": \"rgb(200.0,200,200)\"}, \"mode\": \"markers\", \"x\": [0, 1, 2, 3, 4, 5], \"y\": [0.4688888888888891, 0.8922222222222216, 0.9711111111111106, 0.9899999999999998, 0.9988888888888888, 1.0], \"type\": \"scatter\", \"uid\": \"56685606-d310-4fee-a4c2-c4ec3c20d538\"}, {\"hoverinfo\": \"skip\", \"marker\": {\"color\": \"rgb(200.0,200,200)\"}, \"mode\": \"markers\", \"x\": [0, 1, 2, 3], \"y\": [0.4777777777777778, 0.8988888888888884, 0.9799999999999998, 1.0], \"type\": \"scatter\", \"uid\": \"b05157cd-9e24-4759-a157-d448122f66ae\"}, {\"hoverinfo\": \"skip\", \"marker\": {\"color\": \"rgb(200.0,200,200)\"}, \"mode\": \"markers\", \"x\": [0, 1, 2, 3, 4], \"y\": [0.4744444444444443, 0.8988888888888882, 0.9599999999999994, 0.9933333333333332, 1.0], \"type\": \"scatter\", \"uid\": \"757afc75-97b3-4532-891d-03035677209d\"}, {\"hoverinfo\": \"skip\", \"marker\": {\"color\": \"rgb(225.0,200,200)\"}, \"mode\": \"markers\", \"x\": [0, 1, 2, 3, 4, 5, 6], \"y\": [0.4955555555555555, 0.9111111111111113, 0.9544444444444444, 0.968888888888889, 0.9777777777777779, 0.9911111111111112, 1.0], \"type\": \"scatter\", \"uid\": \"e123c0bd-c220-44df-b2de-40f11641aaf8\"}, {\"hoverinfo\": \"skip\", \"marker\": {\"color\": \"rgb(225.0,200,200)\"}, \"mode\": \"markers\", \"x\": [0, 1, 2, 3, 4], \"y\": [0.4777777777777775, 0.9511111111111102, 0.992222222222222, 0.9988888888888888, 1.0], \"type\": \"scatter\", \"uid\": \"95e1e15a-6e21-4b0a-9ed4-2dc0455591c9\"}, {\"hoverinfo\": \"skip\", \"marker\": {\"color\": \"rgb(225.0,200,200)\"}, \"mode\": \"markers\", \"x\": [0, 1, 2, 3, 4, 5, 6], \"y\": [0.47222222222222215, 0.8811111111111103, 0.9544444444444434, 0.9788888888888883, 0.9899999999999998, 0.9944444444444442, 1.0], \"type\": \"scatter\", \"uid\": \"ded71a41-81a7-48fd-b81a-9d697b5eef9e\"}, {\"hoverinfo\": \"skip\", \"marker\": {\"color\": \"rgb(225.0,200,200)\"}, \"mode\": \"markers\", \"x\": [0, 1, 2, 3, 4, 5], \"y\": [0.5044444444444444, 0.9377777777777766, 0.9877777777777774, 0.9944444444444442, 0.9988888888888888, 1.0], \"type\": \"scatter\", \"uid\": \"3b6fad56-84c1-49fe-942b-18f3ad4f2409\"}, {\"hoverinfo\": \"skip\", \"marker\": {\"color\": \"rgb(225.0,200,200)\"}, \"mode\": \"markers\", \"x\": [0, 1, 2, 3], \"y\": [0.5411111111111113, 0.9422222222222222, 0.9933333333333333, 1.0], \"type\": \"scatter\", \"uid\": \"eb780c94-91ee-4883-bd30-5e0adfee47f6\"}, {\"hoverinfo\": \"skip\", \"marker\": {\"color\": \"rgb(225.0,200,200)\"}, \"mode\": \"markers\", \"x\": [0, 1, 2, 3, 4], \"y\": [0.5033333333333334, 0.9066666666666663, 0.9744444444444446, 0.9988888888888888, 1.0], \"type\": \"scatter\", \"uid\": \"b89a7145-e20f-4cf2-9a32-d4888ee5fde7\"}, {\"hoverinfo\": \"skip\", \"marker\": {\"color\": \"rgb(225.0,200,200)\"}, \"mode\": \"markers\", \"x\": [0, 1, 2, 3, 4], \"y\": [0.43777777777777793, 0.8722222222222221, 0.9444444444444445, 0.9855555555555554, 1.0], \"type\": \"scatter\", \"uid\": \"e21093ae-8184-481b-9b88-5ad518ea6630\"}, {\"hoverinfo\": \"skip\", \"marker\": {\"color\": \"rgb(225.0,200,200)\"}, \"mode\": \"markers\", \"x\": [0, 1, 2, 3, 4, 5], \"y\": [0.4855555555555556, 0.874444444444444, 0.9411111111111106, 0.9799999999999994, 0.9944444444444442, 1.0], \"type\": \"scatter\", \"uid\": \"f27df722-1b2d-4cb9-9919-718f3f39ecac\"}, {\"hoverinfo\": \"skip\", \"marker\": {\"color\": \"rgb(225.0,200,200)\"}, \"mode\": \"markers\", \"x\": [0, 1, 2, 3, 4, 5], \"y\": [0.48999999999999994, 0.9399999999999994, 0.9755555555555548, 0.9911111111111108, 0.9977777777777778, 1.0], \"type\": \"scatter\", \"uid\": \"9d328ef3-13cc-48b5-bbb5-60994005404d\"}, {\"hoverinfo\": \"skip\", \"marker\": {\"color\": \"rgb(225.0,200,200)\"}, \"mode\": \"markers\", \"x\": [0, 1, 2, 3, 4], \"y\": [0.4877777777777777, 0.9066666666666663, 0.9611111111111108, 0.9899999999999998, 1.0], \"type\": \"scatter\", \"uid\": \"b0f47219-e0cd-49cb-ad25-0f220cbc36db\"}], {\"showlegend\": false, \"title\": {\"text\": \"Percent social optimal vs Iteration num (Simultaneous Update)\"}}, {\"showLink\": false, \"linkText\": \"Export to plot.ly\", \"plotlyServerURL\": \"https://plot.ly\"}); \n",
       "}\n",
       "});</script><script type=\"text/javascript\">window.addEventListener(\"resize\", function(){if (document.getElementById(\"7017c055-4c0e-46d6-bb74-88264203d07f\")) {window._Plotly.Plots.resize(document.getElementById(\"7017c055-4c0e-46d6-bb74-88264203d07f\"));};})</script>"
      ],
      "text/vnd.plotly.v1+html": [
       "<div id=\"7017c055-4c0e-46d6-bb74-88264203d07f\" style=\"height: 525px; width: 100%;\" class=\"plotly-graph-div\"></div><script type=\"text/javascript\">require([\"plotly\"], function(Plotly) { window.PLOTLYENV=window.PLOTLYENV || {};window.PLOTLYENV.BASE_URL=\"https://plot.ly\";\n",
       "if (document.getElementById(\"7017c055-4c0e-46d6-bb74-88264203d07f\")) {\n",
       "    Plotly.newPlot(\"7017c055-4c0e-46d6-bb74-88264203d07f\", [{\"hoverinfo\": \"skip\", \"marker\": {\"color\": \"rgb(0.0,200,200)\"}, \"mode\": \"markers\", \"x\": [0, 1, 2, 3], \"y\": [0.4977777777777776, 0.8922222222222215, 0.983333333333333, 1.0], \"type\": \"scatter\", \"uid\": \"41c7a697-c8fa-42f5-9937-ae656ec0e009\"}, {\"hoverinfo\": \"skip\", \"marker\": {\"color\": \"rgb(0.0,200,200)\"}, \"mode\": \"markers\", \"x\": [0, 1, 2, 3, 4], \"y\": [0.4966666666666667, 0.8988888888888884, 0.9688888888888889, 0.9888888888888888, 1.0], \"type\": \"scatter\", \"uid\": \"56f9f635-3a5e-4109-906d-db59a3d18dad\"}, {\"hoverinfo\": \"skip\", \"marker\": {\"color\": \"rgb(0.0,200,200)\"}, \"mode\": \"markers\", \"x\": [0, 1, 2, 3, 4, 5], \"y\": [0.46444444444444455, 0.9233333333333331, 0.9655555555555554, 0.981111111111111, 0.9988888888888888, 1.0], \"type\": \"scatter\", \"uid\": \"0fb6d2f7-1b7e-42ae-a57c-a71e2c7323a6\"}, {\"hoverinfo\": \"skip\", \"marker\": {\"color\": \"rgb(0.0,200,200)\"}, \"mode\": \"markers\", \"x\": [0, 1, 2, 3], \"y\": [0.5411111111111111, 0.953333333333333, 0.992222222222222, 1.0], \"type\": \"scatter\", \"uid\": \"a348453f-2097-4c7f-b657-79136984fa1d\"}, {\"hoverinfo\": \"skip\", \"marker\": {\"color\": \"rgb(0.0,200,200)\"}, \"mode\": \"markers\", \"x\": [0, 1, 2], \"y\": [0.518888888888889, 0.9766666666666662, 1.0], \"type\": \"scatter\", \"uid\": \"10ccf22b-33b4-45a5-a7f4-6ad401948c02\"}, {\"hoverinfo\": \"skip\", \"marker\": {\"color\": \"rgb(0.0,200,200)\"}, \"mode\": \"markers\", \"x\": [0, 1, 2, 3, 4], \"y\": [0.4966666666666664, 0.9299999999999992, 0.9711111111111107, 0.9955555555555555, 1.0], \"type\": \"scatter\", \"uid\": \"c1e19e59-aecc-4f82-b71b-3a5d6be2cb69\"}, {\"hoverinfo\": \"skip\", \"marker\": {\"color\": \"rgb(0.0,200,200)\"}, \"mode\": \"markers\", \"x\": [0, 1, 2], \"y\": [0.5311111111111112, 0.9833333333333333, 1.0], \"type\": \"scatter\", \"uid\": \"a57e1bfe-a1a1-4176-b37e-45f14c8deaca\"}, {\"hoverinfo\": \"skip\", \"marker\": {\"color\": \"rgb(0.0,200,200)\"}, \"mode\": \"markers\", \"x\": [0, 1, 2, 3], \"y\": [0.5055555555555554, 0.9233333333333327, 0.9911111111111108, 1.0], \"type\": \"scatter\", \"uid\": \"15c51da4-3f6e-4323-b767-47891d8cb172\"}, {\"hoverinfo\": \"skip\", \"marker\": {\"color\": \"rgb(0.0,200,200)\"}, \"mode\": \"markers\", \"x\": [0, 1, 2, 3, 4], \"y\": [0.4644444444444445, 0.9011111111111115, 0.9777777777777775, 0.9933333333333333, 1.0], \"type\": \"scatter\", \"uid\": \"df7c6b5e-0320-472e-a1d4-3d944e1bfd23\"}, {\"hoverinfo\": \"skip\", \"marker\": {\"color\": \"rgb(0.0,200,200)\"}, \"mode\": \"markers\", \"x\": [0, 1, 2, 3], \"y\": [0.5288888888888891, 0.954444444444444, 0.9911111111111112, 1.0], \"type\": \"scatter\", \"uid\": \"9232280d-30d4-498b-8bba-47587b789dad\"}, {\"hoverinfo\": \"skip\", \"marker\": {\"color\": \"rgb(25.0,200,200)\"}, \"mode\": \"markers\", \"x\": [0, 1, 2, 3, 4, 5, 6], \"y\": [0.5033333333333332, 0.9333333333333322, 0.9566666666666657, 0.9733333333333327, 0.9899999999999998, 0.9988888888888888, 1.0], \"type\": \"scatter\", \"uid\": \"d4a00113-1a0f-4774-b93f-55a6a16c80da\"}, {\"hoverinfo\": \"skip\", \"marker\": {\"color\": \"rgb(25.0,200,200)\"}, \"mode\": \"markers\", \"x\": [0, 1, 2, 3, 4, 5, 6], \"y\": [0.46333333333333343, 0.8877777777777766, 0.948888888888888, 0.9711111111111106, 0.9833333333333328, 0.992222222222222, 1.0], \"type\": \"scatter\", \"uid\": \"648c1355-9309-45b5-8efd-4466529dccdb\"}, {\"hoverinfo\": \"skip\", \"marker\": {\"color\": \"rgb(25.0,200,200)\"}, \"mode\": \"markers\", \"x\": [0, 1, 2, 3, 4, 5, 6], \"y\": [0.4544444444444445, 0.9088888888888877, 0.9399999999999992, 0.9633333333333328, 0.9788888888888886, 0.9944444444444442, 1.0], \"type\": \"scatter\", \"uid\": \"0d9af0ba-8eea-4419-84a2-733090c8999d\"}, {\"hoverinfo\": \"skip\", \"marker\": {\"color\": \"rgb(25.0,200,200)\"}, \"mode\": \"markers\", \"x\": [0, 1, 2, 3, 4], \"y\": [0.47222222222222227, 0.9077777777777775, 0.971111111111111, 0.9888888888888888, 1.0], \"type\": \"scatter\", \"uid\": \"a96cc830-300d-482a-8087-573418cc1420\"}, {\"hoverinfo\": \"skip\", \"marker\": {\"color\": \"rgb(25.0,200,200)\"}, \"mode\": \"markers\", \"x\": [0, 1, 2, 3, 4], \"y\": [0.49, 0.9388888888888884, 0.9833333333333328, 0.9988888888888888, 1.0], \"type\": \"scatter\", \"uid\": \"d66c22b8-cbd2-409e-8e70-1deab2ec23f7\"}, {\"hoverinfo\": \"skip\", \"marker\": {\"color\": \"rgb(25.0,200,200)\"}, \"mode\": \"markers\", \"x\": [0, 1, 2, 3, 4, 5], \"y\": [0.4866666666666665, 0.9177777777777772, 0.984444444444444, 0.9933333333333332, 0.9988888888888888, 1.0], \"type\": \"scatter\", \"uid\": \"4aa204fe-7a9a-4e0d-927f-5c838cfc8540\"}, {\"hoverinfo\": \"skip\", \"marker\": {\"color\": \"rgb(25.0,200,200)\"}, \"mode\": \"markers\", \"x\": [0, 1, 2, 3, 4], \"y\": [0.5177777777777778, 0.9522222222222217, 0.9877777777777774, 0.9977777777777778, 1.0], \"type\": \"scatter\", \"uid\": \"c8f6bbe8-a788-4ca4-b0ee-e94eb769c744\"}, {\"hoverinfo\": \"skip\", \"marker\": {\"color\": \"rgb(25.0,200,200)\"}, \"mode\": \"markers\", \"x\": [0, 1, 2, 3], \"y\": [0.5222222222222225, 0.9399999999999992, 0.9899999999999998, 1.0], \"type\": \"scatter\", \"uid\": \"9887eca6-97f9-4295-8f65-fecae7b9c056\"}, {\"hoverinfo\": \"skip\", \"marker\": {\"color\": \"rgb(25.0,200,200)\"}, \"mode\": \"markers\", \"x\": [0, 1, 2, 3, 4], \"y\": [0.4777777777777779, 0.8944444444444444, 0.99, 0.9977777777777778, 1.0], \"type\": \"scatter\", \"uid\": \"257274c1-05ab-4428-b581-5b438dd4a893\"}, {\"hoverinfo\": \"skip\", \"marker\": {\"color\": \"rgb(25.0,200,200)\"}, \"mode\": \"markers\", \"x\": [0, 1, 2, 3, 4], \"y\": [0.5122222222222222, 0.9477777777777773, 0.9877777777777778, 0.9988888888888888, 1.0], \"type\": \"scatter\", \"uid\": \"a828ad24-d932-4cc5-8977-733c7db23e41\"}, {\"hoverinfo\": \"skip\", \"marker\": {\"color\": \"rgb(50.0,200,200)\"}, \"mode\": \"markers\", \"x\": [0, 1, 2, 3, 4], \"y\": [0.5144444444444444, 0.9211111111111104, 0.9822222222222219, 0.9977777777777778, 1.0], \"type\": \"scatter\", \"uid\": \"0e632ab9-26a3-47f8-a59b-4b282bd070fc\"}, {\"hoverinfo\": \"skip\", \"marker\": {\"color\": \"rgb(50.0,200,200)\"}, \"mode\": \"markers\", \"x\": [0, 1, 2, 3, 4, 5, 6], \"y\": [0.4833333333333333, 0.9233333333333326, 0.9722222222222219, 0.9799999999999998, 0.9888888888888886, 0.9955555555555554, 1.0], \"type\": \"scatter\", \"uid\": \"a621809a-9c21-40de-bdaf-d1567e74afc2\"}, {\"hoverinfo\": \"skip\", \"marker\": {\"color\": \"rgb(50.0,200,200)\"}, \"mode\": \"markers\", \"x\": [0, 1, 2, 3, 4, 5, 6], \"y\": [0.44777777777777766, 0.8588888888888885, 0.956666666666666, 0.9777777777777772, 0.9888888888888886, 0.9988888888888888, 1.0], \"type\": \"scatter\", \"uid\": \"bb5a02bc-949f-49c0-8a16-770311b2ace6\"}, {\"hoverinfo\": \"skip\", \"marker\": {\"color\": \"rgb(50.0,200,200)\"}, \"mode\": \"markers\", \"x\": [0, 1, 2, 3], \"y\": [0.49222222222222206, 0.916666666666666, 0.9911111111111108, 1.0], \"type\": \"scatter\", \"uid\": \"58513a57-ba8b-4710-98d9-0ec6ac9ee8e7\"}, {\"hoverinfo\": \"skip\", \"marker\": {\"color\": \"rgb(50.0,200,200)\"}, \"mode\": \"markers\", \"x\": [0, 1, 2, 3, 4], \"y\": [0.4788888888888889, 0.9177777777777775, 0.9788888888888885, 0.9933333333333332, 1.0], \"type\": \"scatter\", \"uid\": \"57f0cfea-2048-4985-b561-fe91e6b0f0b4\"}, {\"hoverinfo\": \"skip\", \"marker\": {\"color\": \"rgb(50.0,200,200)\"}, \"mode\": \"markers\", \"x\": [0, 1, 2, 3], \"y\": [0.5077777777777779, 0.938888888888889, 0.9944444444444442, 1.0], \"type\": \"scatter\", \"uid\": \"7a91fb49-cdc6-48a5-acb0-8629bf181e7f\"}, {\"hoverinfo\": \"skip\", \"marker\": {\"color\": \"rgb(50.0,200,200)\"}, \"mode\": \"markers\", \"x\": [0, 1, 2, 3], \"y\": [0.5311111111111113, 0.9455555555555551, 0.9922222222222223, 1.0], \"type\": \"scatter\", \"uid\": \"8cc9efc8-b513-4b22-bfd7-557b86716436\"}, {\"hoverinfo\": \"skip\", \"marker\": {\"color\": \"rgb(50.0,200,200)\"}, \"mode\": \"markers\", \"x\": [0, 1, 2, 3, 4], \"y\": [0.4877777777777781, 0.9122222222222217, 0.9744444444444439, 0.9977777777777778, 1.0], \"type\": \"scatter\", \"uid\": \"9831dd7c-f44b-4502-9bcf-cceee38ee0c9\"}, {\"hoverinfo\": \"skip\", \"marker\": {\"color\": \"rgb(50.0,200,200)\"}, \"mode\": \"markers\", \"x\": [0, 1, 2, 3, 4], \"y\": [0.5333333333333331, 0.9566666666666663, 0.9899999999999998, 0.9955555555555554, 1.0], \"type\": \"scatter\", \"uid\": \"a00675e7-c7ca-4115-93da-51df315b3398\"}, {\"hoverinfo\": \"skip\", \"marker\": {\"color\": \"rgb(50.0,200,200)\"}, \"mode\": \"markers\", \"x\": [0, 1, 2, 3, 4, 5], \"y\": [0.5133333333333333, 0.9399999999999997, 0.9722222222222223, 0.9866666666666667, 0.9988888888888888, 1.0], \"type\": \"scatter\", \"uid\": \"f617bad8-c64b-463f-8895-af64eb0dcd27\"}, {\"hoverinfo\": \"skip\", \"marker\": {\"color\": \"rgb(75.0,200,200)\"}, \"mode\": \"markers\", \"x\": [0, 1, 2, 3, 4], \"y\": [0.5444444444444444, 0.9033333333333328, 0.98, 0.9944444444444445, 1.0], \"type\": \"scatter\", \"uid\": \"eede9ed6-e1da-4bd0-9e88-a01285316bd6\"}, {\"hoverinfo\": \"skip\", \"marker\": {\"color\": \"rgb(75.0,200,200)\"}, \"mode\": \"markers\", \"x\": [0, 1, 2, 3], \"y\": [0.4966666666666668, 0.9255555555555547, 0.984444444444444, 1.0], \"type\": \"scatter\", \"uid\": \"2d3fa10b-048f-46cb-a54c-6ec5245fe47d\"}, {\"hoverinfo\": \"skip\", \"marker\": {\"color\": \"rgb(75.0,200,200)\"}, \"mode\": \"markers\", \"x\": [0, 1, 2, 3], \"y\": [0.5244444444444443, 0.9244444444444438, 0.982222222222222, 1.0], \"type\": \"scatter\", \"uid\": \"edc3fb3b-d4c9-464c-949f-083087aeb2c1\"}, {\"hoverinfo\": \"skip\", \"marker\": {\"color\": \"rgb(75.0,200,200)\"}, \"mode\": \"markers\", \"x\": [0, 1, 2, 3], \"y\": [0.5433333333333333, 0.9611111111111108, 0.9955555555555555, 1.0], \"type\": \"scatter\", \"uid\": \"73371901-92bb-4d55-a637-636f3e99091c\"}, {\"hoverinfo\": \"skip\", \"marker\": {\"color\": \"rgb(75.0,200,200)\"}, \"mode\": \"markers\", \"x\": [0, 1, 2, 3, 4, 5, 6], \"y\": [0.5011111111111111, 0.8999999999999987, 0.9444444444444439, 0.9666666666666666, 0.9822222222222223, 0.9977777777777778, 1.0], \"type\": \"scatter\", \"uid\": \"bdc812b4-76b1-4b09-a4fe-a876822e4600\"}, {\"hoverinfo\": \"skip\", \"marker\": {\"color\": \"rgb(75.0,200,200)\"}, \"mode\": \"markers\", \"x\": [0, 1, 2, 3, 4, 5, 6], \"y\": [0.47444444444444467, 0.8977777777777765, 0.959999999999999, 0.9788888888888883, 0.9899999999999998, 0.9977777777777778, 1.0], \"type\": \"scatter\", \"uid\": \"20b76132-d9d2-4495-96be-b41976297c45\"}, {\"hoverinfo\": \"skip\", \"marker\": {\"color\": \"rgb(75.0,200,200)\"}, \"mode\": \"markers\", \"x\": [0, 1, 2, 3, 4, 5, 6], \"y\": [0.5088888888888887, 0.9211111111111104, 0.9633333333333332, 0.9788888888888888, 0.9888888888888888, 0.9966666666666667, 1.0], \"type\": \"scatter\", \"uid\": \"186413a5-8b29-42d9-84b2-519044311b64\"}, {\"hoverinfo\": \"skip\", \"marker\": {\"color\": \"rgb(75.0,200,200)\"}, \"mode\": \"markers\", \"x\": [0, 1, 2, 3], \"y\": [0.49888888888888894, 0.9322222222222216, 0.9944444444444442, 1.0], \"type\": \"scatter\", \"uid\": \"325c2e16-0c89-46a5-8828-628a79e75e29\"}, {\"hoverinfo\": \"skip\", \"marker\": {\"color\": \"rgb(75.0,200,200)\"}, \"mode\": \"markers\", \"x\": [0, 1, 2, 3, 4], \"y\": [0.5111111111111112, 0.9566666666666663, 0.99, 0.9966666666666667, 1.0], \"type\": \"scatter\", \"uid\": \"1d39dae3-72e6-487e-aaf8-3f7bc9eef5c6\"}, {\"hoverinfo\": \"skip\", \"marker\": {\"color\": \"rgb(75.0,200,200)\"}, \"mode\": \"markers\", \"x\": [0, 1, 2], \"y\": [0.5555555555555555, 0.9299999999999997, 1.0], \"type\": \"scatter\", \"uid\": \"5d1f9f2f-2a77-48af-a1c2-8a5c5ac9b21f\"}, {\"hoverinfo\": \"skip\", \"marker\": {\"color\": \"rgb(100.0,200,200)\"}, \"mode\": \"markers\", \"x\": [0, 1, 2, 3], \"y\": [0.4933333333333333, 0.9488888888888889, 0.9966666666666666, 1.0], \"type\": \"scatter\", \"uid\": \"1f9c317d-5224-40a1-9c39-136eed0c4a36\"}, {\"hoverinfo\": \"skip\", \"marker\": {\"color\": \"rgb(100.0,200,200)\"}, \"mode\": \"markers\", \"x\": [0, 1, 2, 3, 4], \"y\": [0.5077777777777776, 0.9288888888888885, 0.9822222222222223, 0.9955555555555555, 1.0], \"type\": \"scatter\", \"uid\": \"c1fdad1a-e2b5-4344-9a1f-f4f1ceeba0c5\"}, {\"hoverinfo\": \"skip\", \"marker\": {\"color\": \"rgb(100.0,200,200)\"}, \"mode\": \"markers\", \"x\": [0, 1, 2, 3, 4, 5], \"y\": [0.5477777777777777, 0.9099999999999998, 0.97, 0.9888888888888888, 0.9988888888888888, 1.0], \"type\": \"scatter\", \"uid\": \"2378583e-7228-45f5-902b-9eaa1443959d\"}, {\"hoverinfo\": \"skip\", \"marker\": {\"color\": \"rgb(100.0,200,200)\"}, \"mode\": \"markers\", \"x\": [0, 1, 2, 3], \"y\": [0.5611111111111109, 0.9655555555555551, 0.9977777777777778, 1.0], \"type\": \"scatter\", \"uid\": \"82dbf91e-feac-4637-89c2-4aa5a25d08c7\"}, {\"hoverinfo\": \"skip\", \"marker\": {\"color\": \"rgb(100.0,200,200)\"}, \"mode\": \"markers\", \"x\": [0, 1, 2, 3, 4], \"y\": [0.49999999999999994, 0.9333333333333326, 0.974444444444444, 0.9899999999999998, 1.0], \"type\": \"scatter\", \"uid\": \"973239a1-661a-444d-8b6f-9643974da5a5\"}, {\"hoverinfo\": \"skip\", \"marker\": {\"color\": \"rgb(100.0,200,200)\"}, \"mode\": \"markers\", \"x\": [0, 1, 2, 3, 4, 5], \"y\": [0.44000000000000006, 0.8922222222222213, 0.9622222222222215, 0.984444444444444, 0.9944444444444442, 1.0], \"type\": \"scatter\", \"uid\": \"8fe265a8-ac97-4a49-b8f9-a11ce528a8fb\"}, {\"hoverinfo\": \"skip\", \"marker\": {\"color\": \"rgb(100.0,200,200)\"}, \"mode\": \"markers\", \"x\": [0, 1, 2, 3, 4, 5], \"y\": [0.5222222222222219, 0.9422222222222217, 0.9733333333333332, 0.9888888888888888, 0.9955555555555555, 1.0], \"type\": \"scatter\", \"uid\": \"c79cffdc-0243-4d33-86c4-d57065aefc7b\"}, {\"hoverinfo\": \"skip\", \"marker\": {\"color\": \"rgb(100.0,200,200)\"}, \"mode\": \"markers\", \"x\": [0, 1, 2], \"y\": [0.5255555555555556, 0.9722222222222221, 1.0], \"type\": \"scatter\", \"uid\": \"398035ba-68f0-4692-80ae-38d327fab957\"}, {\"hoverinfo\": \"skip\", \"marker\": {\"color\": \"rgb(100.0,200,200)\"}, \"mode\": \"markers\", \"x\": [0, 1, 2, 3, 4, 5, 6], \"y\": [0.491111111111111, 0.8999999999999991, 0.9388888888888881, 0.9599999999999994, 0.9799999999999995, 0.9977777777777778, 1.0], \"type\": \"scatter\", \"uid\": \"0af3c5e5-8328-4c91-8d3d-9fbfd4bbef57\"}, {\"hoverinfo\": \"skip\", \"marker\": {\"color\": \"rgb(100.0,200,200)\"}, \"mode\": \"markers\", \"x\": [0, 1, 2, 3], \"y\": [0.4888888888888889, 0.9600000000000002, 0.9933333333333334, 1.0], \"type\": \"scatter\", \"uid\": \"24d048dd-0b44-440a-aa1e-66c3ac7a59f9\"}, {\"hoverinfo\": \"skip\", \"marker\": {\"color\": \"rgb(125.0,200,200)\"}, \"mode\": \"markers\", \"x\": [0, 1, 2, 3, 4], \"y\": [0.518888888888889, 0.9444444444444434, 0.9822222222222217, 0.9944444444444442, 1.0], \"type\": \"scatter\", \"uid\": \"f7ba6f56-cb57-402f-be3f-6d55fe27eb26\"}, {\"hoverinfo\": \"skip\", \"marker\": {\"color\": \"rgb(125.0,200,200)\"}, \"mode\": \"markers\", \"x\": [0, 1, 2, 3], \"y\": [0.5411111111111111, 0.9288888888888884, 0.9933333333333332, 1.0], \"type\": \"scatter\", \"uid\": \"654857ad-9b2e-4386-ad7f-f4c897357ede\"}, {\"hoverinfo\": \"skip\", \"marker\": {\"color\": \"rgb(125.0,200,200)\"}, \"mode\": \"markers\", \"x\": [0, 1, 2, 3, 4], \"y\": [0.4944444444444447, 0.9055555555555541, 0.9722222222222215, 0.992222222222222, 1.0], \"type\": \"scatter\", \"uid\": \"2ede6829-49db-4619-bdeb-912f92a9a304\"}, {\"hoverinfo\": \"skip\", \"marker\": {\"color\": \"rgb(125.0,200,200)\"}, \"mode\": \"markers\", \"x\": [0, 1, 2, 3], \"y\": [0.49, 0.9499999999999997, 0.9966666666666666, 1.0], \"type\": \"scatter\", \"uid\": \"cfda2a3b-fbfc-470b-8f89-6c593ce1ed59\"}, {\"hoverinfo\": \"skip\", \"marker\": {\"color\": \"rgb(125.0,200,200)\"}, \"mode\": \"markers\", \"x\": [0, 1, 2, 3], \"y\": [0.5244444444444442, 0.9522222222222223, 0.9988888888888888, 1.0], \"type\": \"scatter\", \"uid\": \"f457c91c-5037-4305-9d5d-b4ed7e2ad332\"}, {\"hoverinfo\": \"skip\", \"marker\": {\"color\": \"rgb(125.0,200,200)\"}, \"mode\": \"markers\", \"x\": [0, 1, 2, 3, 4, 5], \"y\": [0.4799999999999997, 0.8966666666666657, 0.9522222222222215, 0.9766666666666662, 0.9944444444444442, 1.0], \"type\": \"scatter\", \"uid\": \"250b00a9-c199-4fc5-947d-a4145e574c3a\"}, {\"hoverinfo\": \"skip\", \"marker\": {\"color\": \"rgb(125.0,200,200)\"}, \"mode\": \"markers\", \"x\": [0, 1, 2, 3, 4, 5, 6], \"y\": [0.48111111111111116, 0.8855555555555549, 0.966666666666666, 0.9811111111111108, 0.9866666666666665, 0.9977777777777778, 1.0], \"type\": \"scatter\", \"uid\": \"f487f1b0-0ac1-419a-b7fa-3811113c4a58\"}, {\"hoverinfo\": \"skip\", \"marker\": {\"color\": \"rgb(125.0,200,200)\"}, \"mode\": \"markers\", \"x\": [0, 1, 2, 3], \"y\": [0.5411111111111111, 0.9544444444444438, 0.9944444444444442, 1.0], \"type\": \"scatter\", \"uid\": \"a0c21d5c-d012-47f5-8923-132d103fa4d1\"}, {\"hoverinfo\": \"skip\", \"marker\": {\"color\": \"rgb(125.0,200,200)\"}, \"mode\": \"markers\", \"x\": [0, 1, 2, 3, 4], \"y\": [0.5300000000000001, 0.9233333333333323, 0.974444444444444, 0.9966666666666666, 1.0], \"type\": \"scatter\", \"uid\": \"a4de93d0-0397-4b0f-9759-870b2fbb2224\"}, {\"hoverinfo\": \"skip\", \"marker\": {\"color\": \"rgb(125.0,200,200)\"}, \"mode\": \"markers\", \"x\": [0, 1, 2, 3, 4], \"y\": [0.5422222222222222, 0.9344444444444434, 0.9855555555555553, 0.9988888888888888, 1.0], \"type\": \"scatter\", \"uid\": \"3c70f8a0-1b4e-4bb2-93e3-afaae8c4b5a1\"}, {\"hoverinfo\": \"skip\", \"marker\": {\"color\": \"rgb(150.0,200,200)\"}, \"mode\": \"markers\", \"x\": [0, 1, 2, 3, 4], \"y\": [0.5055555555555554, 0.9244444444444443, 0.9833333333333334, 0.9955555555555555, 1.0], \"type\": \"scatter\", \"uid\": \"f4ea4d29-dded-4dc7-b0dc-44609f17bf7f\"}, {\"hoverinfo\": \"skip\", \"marker\": {\"color\": \"rgb(150.0,200,200)\"}, \"mode\": \"markers\", \"x\": [0, 1, 2, 3], \"y\": [0.5111111111111112, 0.9555555555555554, 0.9911111111111112, 1.0], \"type\": \"scatter\", \"uid\": \"125170ed-003e-45b1-8281-a87a8cf95a63\"}, {\"hoverinfo\": \"skip\", \"marker\": {\"color\": \"rgb(150.0,200,200)\"}, \"mode\": \"markers\", \"x\": [0, 1, 2, 3, 4], \"y\": [0.4755555555555556, 0.9099999999999988, 0.967777777777777, 0.9899999999999998, 1.0], \"type\": \"scatter\", \"uid\": \"8f4e16db-cf70-4e28-83f8-c7072d0bb1e5\"}, {\"hoverinfo\": \"skip\", \"marker\": {\"color\": \"rgb(150.0,200,200)\"}, \"mode\": \"markers\", \"x\": [0, 1, 2, 3, 4], \"y\": [0.46555555555555556, 0.8833333333333324, 0.9611111111111101, 0.9866666666666662, 1.0], \"type\": \"scatter\", \"uid\": \"fec4bdc7-3998-4b0e-8e26-d2b71e579f2f\"}, {\"hoverinfo\": \"skip\", \"marker\": {\"color\": \"rgb(150.0,200,200)\"}, \"mode\": \"markers\", \"x\": [0, 1, 2, 3, 4], \"y\": [0.4522222222222221, 0.9199999999999992, 0.9699999999999998, 0.9955555555555554, 1.0], \"type\": \"scatter\", \"uid\": \"bdcf6501-6532-46f6-8e5a-cb4fe6c67026\"}, {\"hoverinfo\": \"skip\", \"marker\": {\"color\": \"rgb(150.0,200,200)\"}, \"mode\": \"markers\", \"x\": [0, 1, 2, 3], \"y\": [0.4966666666666665, 0.9044444444444442, 0.9933333333333333, 1.0], \"type\": \"scatter\", \"uid\": \"763ae3d7-7df4-45f8-b15c-e1d93146ab3f\"}, {\"hoverinfo\": \"skip\", \"marker\": {\"color\": \"rgb(150.0,200,200)\"}, \"mode\": \"markers\", \"x\": [0, 1, 2, 3], \"y\": [0.5355555555555557, 0.9366666666666664, 0.9955555555555555, 1.0], \"type\": \"scatter\", \"uid\": \"760b83eb-b3db-4e06-ad23-dbf89989acc2\"}, {\"hoverinfo\": \"skip\", \"marker\": {\"color\": \"rgb(150.0,200,200)\"}, \"mode\": \"markers\", \"x\": [0, 1, 2, 3, 4, 5, 6], \"y\": [0.5022222222222221, 0.9077777777777766, 0.9611111111111101, 0.976666666666666, 0.984444444444444, 0.9944444444444442, 1.0], \"type\": \"scatter\", \"uid\": \"4ac7634e-9507-4392-903d-df9a80dc576b\"}, {\"hoverinfo\": \"skip\", \"marker\": {\"color\": \"rgb(150.0,200,200)\"}, \"mode\": \"markers\", \"x\": [0, 1, 2, 3, 4], \"y\": [0.5111111111111107, 0.9099999999999996, 0.972222222222222, 0.9966666666666667, 1.0], \"type\": \"scatter\", \"uid\": \"4757f4f5-99f1-4cfb-b4e8-6ea23fc858f3\"}, {\"hoverinfo\": \"skip\", \"marker\": {\"color\": \"rgb(150.0,200,200)\"}, \"mode\": \"markers\", \"x\": [0, 1, 2, 3, 4, 5, 6, 7, 8], \"y\": [0.4633333333333332, 0.872222222222221, 0.9466666666666655, 0.9666666666666657, 0.976666666666666, 0.9822222222222217, 0.9911111111111108, 0.9988888888888888, 1.0], \"type\": \"scatter\", \"uid\": \"1b183adb-8921-4fb5-bd92-c097f24555bc\"}, {\"hoverinfo\": \"skip\", \"marker\": {\"color\": \"rgb(175.0,200,200)\"}, \"mode\": \"markers\", \"x\": [0, 1, 2, 3], \"y\": [0.5155555555555551, 0.9122222222222217, 0.9866666666666666, 1.0], \"type\": \"scatter\", \"uid\": \"029e2060-0c47-4129-a7f9-26144b91631c\"}, {\"hoverinfo\": \"skip\", \"marker\": {\"color\": \"rgb(175.0,200,200)\"}, \"mode\": \"markers\", \"x\": [0, 1, 2, 3], \"y\": [0.5144444444444444, 0.9255555555555549, 0.9855555555555552, 1.0], \"type\": \"scatter\", \"uid\": \"8ee00dbb-6285-4ada-968e-e8aaf4d41798\"}, {\"hoverinfo\": \"skip\", \"marker\": {\"color\": \"rgb(175.0,200,200)\"}, \"mode\": \"markers\", \"x\": [0, 1, 2, 3, 4, 5], \"y\": [0.4366666666666664, 0.8888888888888878, 0.9722222222222215, 0.9866666666666662, 0.9966666666666666, 1.0], \"type\": \"scatter\", \"uid\": \"c36c612f-c495-405e-b3f9-20f12ec0b2ad\"}, {\"hoverinfo\": \"skip\", \"marker\": {\"color\": \"rgb(175.0,200,200)\"}, \"mode\": \"markers\", \"x\": [0, 1, 2, 3], \"y\": [0.46666666666666656, 0.9455555555555548, 0.9933333333333333, 1.0], \"type\": \"scatter\", \"uid\": \"3ce12537-eba4-4d8b-9085-3697e54f34f8\"}, {\"hoverinfo\": \"skip\", \"marker\": {\"color\": \"rgb(175.0,200,200)\"}, \"mode\": \"markers\", \"x\": [0, 1, 2, 3], \"y\": [0.538888888888889, 0.9488888888888881, 0.9955555555555554, 1.0], \"type\": \"scatter\", \"uid\": \"784de146-b6d4-460e-8f33-b00206f66ec8\"}, {\"hoverinfo\": \"skip\", \"marker\": {\"color\": \"rgb(175.0,200,200)\"}, \"mode\": \"markers\", \"x\": [0, 1, 2, 3, 4], \"y\": [0.5022222222222221, 0.9344444444444433, 0.9811111111111106, 0.9888888888888886, 1.0], \"type\": \"scatter\", \"uid\": \"bc448983-a450-4918-9950-4484fc83301d\"}, {\"hoverinfo\": \"skip\", \"marker\": {\"color\": \"rgb(175.0,200,200)\"}, \"mode\": \"markers\", \"x\": [0, 1, 2, 3, 4, 5, 6], \"y\": [0.47111111111111137, 0.8755555555555548, 0.9333333333333322, 0.9577777777777768, 0.9733333333333326, 0.9955555555555554, 1.0], \"type\": \"scatter\", \"uid\": \"1d464396-9226-444f-9c08-eeba592ac96d\"}, {\"hoverinfo\": \"skip\", \"marker\": {\"color\": \"rgb(175.0,200,200)\"}, \"mode\": \"markers\", \"x\": [0, 1, 2, 3, 4], \"y\": [0.5200000000000001, 0.9099999999999988, 0.9666666666666663, 0.9933333333333333, 1.0], \"type\": \"scatter\", \"uid\": \"c0cff14d-0788-4c7e-9985-2a55d97e0e39\"}, {\"hoverinfo\": \"skip\", \"marker\": {\"color\": \"rgb(175.0,200,200)\"}, \"mode\": \"markers\", \"x\": [0, 1, 2, 3, 4, 5], \"y\": [0.4955555555555557, 0.9299999999999992, 0.9811111111111106, 0.9933333333333332, 0.9988888888888888, 1.0], \"type\": \"scatter\", \"uid\": \"832f52e2-2e5f-45ee-a91c-0198bea0d7c6\"}, {\"hoverinfo\": \"skip\", \"marker\": {\"color\": \"rgb(175.0,200,200)\"}, \"mode\": \"markers\", \"x\": [0, 1, 2, 3, 4, 5], \"y\": [0.4866666666666666, 0.9366666666666658, 0.9788888888888883, 0.9911111111111108, 0.9988888888888888, 1.0], \"type\": \"scatter\", \"uid\": \"40e646cc-f222-4c86-a487-f200d75ae29c\"}, {\"hoverinfo\": \"skip\", \"marker\": {\"color\": \"rgb(200.0,200,200)\"}, \"mode\": \"markers\", \"x\": [0, 1, 2, 3, 4, 5, 6], \"y\": [0.5088888888888888, 0.9322222222222212, 0.9744444444444437, 0.984444444444444, 0.9899999999999998, 0.9988888888888888, 1.0], \"type\": \"scatter\", \"uid\": \"176e1eff-5e87-4461-a58e-93ca0941b1b3\"}, {\"hoverinfo\": \"skip\", \"marker\": {\"color\": \"rgb(200.0,200,200)\"}, \"mode\": \"markers\", \"x\": [0, 1, 2, 3, 4, 5], \"y\": [0.49999999999999983, 0.9033333333333318, 0.9522222222222214, 0.9777777777777774, 0.9922222222222221, 1.0], \"type\": \"scatter\", \"uid\": \"f27baf3b-8824-46f8-abfc-f6ce7f6540b9\"}, {\"hoverinfo\": \"skip\", \"marker\": {\"color\": \"rgb(200.0,200,200)\"}, \"mode\": \"markers\", \"x\": [0, 1, 2, 3], \"y\": [0.5433333333333333, 0.926666666666666, 0.9844444444444445, 1.0], \"type\": \"scatter\", \"uid\": \"b589ca41-2914-45eb-acd1-d78d5e583110\"}, {\"hoverinfo\": \"skip\", \"marker\": {\"color\": \"rgb(200.0,200,200)\"}, \"mode\": \"markers\", \"x\": [0, 1, 2, 3, 4, 5, 6], \"y\": [0.508888888888889, 0.9022222222222216, 0.9599999999999994, 0.9844444444444441, 0.992222222222222, 0.9988888888888888, 1.0], \"type\": \"scatter\", \"uid\": \"eea28713-530e-45cb-8710-128978f398fb\"}, {\"hoverinfo\": \"skip\", \"marker\": {\"color\": \"rgb(200.0,200,200)\"}, \"mode\": \"markers\", \"x\": [0, 1, 2, 3, 4, 5], \"y\": [0.46444444444444466, 0.8955555555555541, 0.9655555555555547, 0.9888888888888886, 0.9988888888888888, 1.0], \"type\": \"scatter\", \"uid\": \"25fb8d01-f93c-4670-b5c0-9cadc7d64ab2\"}, {\"hoverinfo\": \"skip\", \"marker\": {\"color\": \"rgb(200.0,200,200)\"}, \"mode\": \"markers\", \"x\": [0, 1, 2, 3, 4], \"y\": [0.4955555555555556, 0.9366666666666658, 0.9877777777777774, 0.9966666666666666, 1.0], \"type\": \"scatter\", \"uid\": \"cdd4bd7f-f6a3-4b8b-914b-f1991208dbe2\"}, {\"hoverinfo\": \"skip\", \"marker\": {\"color\": \"rgb(200.0,200,200)\"}, \"mode\": \"markers\", \"x\": [0, 1, 2, 3], \"y\": [0.47444444444444467, 0.9444444444444438, 0.9888888888888886, 1.0], \"type\": \"scatter\", \"uid\": \"e1deab8d-a941-4076-8be3-42fec0a36b0e\"}, {\"hoverinfo\": \"skip\", \"marker\": {\"color\": \"rgb(200.0,200,200)\"}, \"mode\": \"markers\", \"x\": [0, 1, 2, 3, 4, 5], \"y\": [0.4688888888888891, 0.8922222222222216, 0.9711111111111106, 0.9899999999999998, 0.9988888888888888, 1.0], \"type\": \"scatter\", \"uid\": \"56685606-d310-4fee-a4c2-c4ec3c20d538\"}, {\"hoverinfo\": \"skip\", \"marker\": {\"color\": \"rgb(200.0,200,200)\"}, \"mode\": \"markers\", \"x\": [0, 1, 2, 3], \"y\": [0.4777777777777778, 0.8988888888888884, 0.9799999999999998, 1.0], \"type\": \"scatter\", \"uid\": \"b05157cd-9e24-4759-a157-d448122f66ae\"}, {\"hoverinfo\": \"skip\", \"marker\": {\"color\": \"rgb(200.0,200,200)\"}, \"mode\": \"markers\", \"x\": [0, 1, 2, 3, 4], \"y\": [0.4744444444444443, 0.8988888888888882, 0.9599999999999994, 0.9933333333333332, 1.0], \"type\": \"scatter\", \"uid\": \"757afc75-97b3-4532-891d-03035677209d\"}, {\"hoverinfo\": \"skip\", \"marker\": {\"color\": \"rgb(225.0,200,200)\"}, \"mode\": \"markers\", \"x\": [0, 1, 2, 3, 4, 5, 6], \"y\": [0.4955555555555555, 0.9111111111111113, 0.9544444444444444, 0.968888888888889, 0.9777777777777779, 0.9911111111111112, 1.0], \"type\": \"scatter\", \"uid\": \"e123c0bd-c220-44df-b2de-40f11641aaf8\"}, {\"hoverinfo\": \"skip\", \"marker\": {\"color\": \"rgb(225.0,200,200)\"}, \"mode\": \"markers\", \"x\": [0, 1, 2, 3, 4], \"y\": [0.4777777777777775, 0.9511111111111102, 0.992222222222222, 0.9988888888888888, 1.0], \"type\": \"scatter\", \"uid\": \"95e1e15a-6e21-4b0a-9ed4-2dc0455591c9\"}, {\"hoverinfo\": \"skip\", \"marker\": {\"color\": \"rgb(225.0,200,200)\"}, \"mode\": \"markers\", \"x\": [0, 1, 2, 3, 4, 5, 6], \"y\": [0.47222222222222215, 0.8811111111111103, 0.9544444444444434, 0.9788888888888883, 0.9899999999999998, 0.9944444444444442, 1.0], \"type\": \"scatter\", \"uid\": \"ded71a41-81a7-48fd-b81a-9d697b5eef9e\"}, {\"hoverinfo\": \"skip\", \"marker\": {\"color\": \"rgb(225.0,200,200)\"}, \"mode\": \"markers\", \"x\": [0, 1, 2, 3, 4, 5], \"y\": [0.5044444444444444, 0.9377777777777766, 0.9877777777777774, 0.9944444444444442, 0.9988888888888888, 1.0], \"type\": \"scatter\", \"uid\": \"3b6fad56-84c1-49fe-942b-18f3ad4f2409\"}, {\"hoverinfo\": \"skip\", \"marker\": {\"color\": \"rgb(225.0,200,200)\"}, \"mode\": \"markers\", \"x\": [0, 1, 2, 3], \"y\": [0.5411111111111113, 0.9422222222222222, 0.9933333333333333, 1.0], \"type\": \"scatter\", \"uid\": \"eb780c94-91ee-4883-bd30-5e0adfee47f6\"}, {\"hoverinfo\": \"skip\", \"marker\": {\"color\": \"rgb(225.0,200,200)\"}, \"mode\": \"markers\", \"x\": [0, 1, 2, 3, 4], \"y\": [0.5033333333333334, 0.9066666666666663, 0.9744444444444446, 0.9988888888888888, 1.0], \"type\": \"scatter\", \"uid\": \"b89a7145-e20f-4cf2-9a32-d4888ee5fde7\"}, {\"hoverinfo\": \"skip\", \"marker\": {\"color\": \"rgb(225.0,200,200)\"}, \"mode\": \"markers\", \"x\": [0, 1, 2, 3, 4], \"y\": [0.43777777777777793, 0.8722222222222221, 0.9444444444444445, 0.9855555555555554, 1.0], \"type\": \"scatter\", \"uid\": \"e21093ae-8184-481b-9b88-5ad518ea6630\"}, {\"hoverinfo\": \"skip\", \"marker\": {\"color\": \"rgb(225.0,200,200)\"}, \"mode\": \"markers\", \"x\": [0, 1, 2, 3, 4, 5], \"y\": [0.4855555555555556, 0.874444444444444, 0.9411111111111106, 0.9799999999999994, 0.9944444444444442, 1.0], \"type\": \"scatter\", \"uid\": \"f27df722-1b2d-4cb9-9919-718f3f39ecac\"}, {\"hoverinfo\": \"skip\", \"marker\": {\"color\": \"rgb(225.0,200,200)\"}, \"mode\": \"markers\", \"x\": [0, 1, 2, 3, 4, 5], \"y\": [0.48999999999999994, 0.9399999999999994, 0.9755555555555548, 0.9911111111111108, 0.9977777777777778, 1.0], \"type\": \"scatter\", \"uid\": \"9d328ef3-13cc-48b5-bbb5-60994005404d\"}, {\"hoverinfo\": \"skip\", \"marker\": {\"color\": \"rgb(225.0,200,200)\"}, \"mode\": \"markers\", \"x\": [0, 1, 2, 3, 4], \"y\": [0.4877777777777777, 0.9066666666666663, 0.9611111111111108, 0.9899999999999998, 1.0], \"type\": \"scatter\", \"uid\": \"b0f47219-e0cd-49cb-ad25-0f220cbc36db\"}], {\"showlegend\": false, \"title\": {\"text\": \"Percent social optimal vs Iteration num (Simultaneous Update)\"}}, {\"showLink\": false, \"linkText\": \"Export to plot.ly\", \"plotlyServerURL\": \"https://plot.ly\"}); \n",
       "}\n",
       "});</script><script type=\"text/javascript\">window.addEventListener(\"resize\", function(){if (document.getElementById(\"7017c055-4c0e-46d6-bb74-88264203d07f\")) {window._Plotly.Plots.resize(document.getElementById(\"7017c055-4c0e-46d6-bb74-88264203d07f\"));};})</script>"
      ]
     },
     "metadata": {},
     "output_type": "display_data"
    }
   ],
   "source": [
    "plot_utils(simul_utils)"
   ]
  },
  {
   "cell_type": "code",
   "execution_count": 6,
   "metadata": {},
   "outputs": [
    {
     "data": {
      "application/vnd.plotly.v1+json": {
       "config": {
        "linkText": "Export to plot.ly",
        "plotlyServerURL": "https://plot.ly",
        "showLink": false
       },
       "data": [
        {
         "hoverinfo": "skip",
         "marker": {
          "color": "rgb(0.0,200,200)"
         },
         "mode": "markers",
         "type": "scatter",
         "uid": "4e47fb75-ac3d-46f5-b583-9dba8f172df8",
         "x": [
          0,
          1,
          2,
          3
         ],
         "y": [
          0.5022222222222221,
          0.95,
          0.9977777777777778,
          1
         ]
        },
        {
         "hoverinfo": "skip",
         "marker": {
          "color": "rgb(0.0,200,200)"
         },
         "mode": "markers",
         "type": "scatter",
         "uid": "d10352d5-8fcc-4fad-98ee-9e4ce574d9c5",
         "x": [
          0,
          1,
          2,
          3
         ],
         "y": [
          0.518888888888889,
          0.9522222222222217,
          0.9933333333333333,
          1
         ]
        },
        {
         "hoverinfo": "skip",
         "marker": {
          "color": "rgb(0.0,200,200)"
         },
         "mode": "markers",
         "type": "scatter",
         "uid": "759aa483-5d0e-44b0-99a9-789dc1dd5804",
         "x": [
          0,
          1,
          2,
          3,
          4
         ],
         "y": [
          0.5244444444444445,
          0.9299999999999997,
          0.983333333333333,
          0.9933333333333332,
          1
         ]
        },
        {
         "hoverinfo": "skip",
         "marker": {
          "color": "rgb(0.0,200,200)"
         },
         "mode": "markers",
         "type": "scatter",
         "uid": "76b0c410-96ba-4a6b-bb2d-d866b82ebd69",
         "x": [
          0,
          1,
          2,
          3
         ],
         "y": [
          0.47555555555555534,
          0.9488888888888886,
          0.9944444444444445,
          1
         ]
        },
        {
         "hoverinfo": "skip",
         "marker": {
          "color": "rgb(0.0,200,200)"
         },
         "mode": "markers",
         "type": "scatter",
         "uid": "f825384f-7b57-487a-8d85-43da501cfd94",
         "x": [
          0,
          1,
          2,
          3
         ],
         "y": [
          0.5499999999999999,
          0.9522222222222217,
          0.992222222222222,
          1
         ]
        },
        {
         "hoverinfo": "skip",
         "marker": {
          "color": "rgb(0.0,200,200)"
         },
         "mode": "markers",
         "type": "scatter",
         "uid": "3bfa4df4-ec6f-4ab1-a0de-5cec023df2fc",
         "x": [
          0,
          1,
          2,
          3,
          4,
          5
         ],
         "y": [
          0.44999999999999984,
          0.8699999999999994,
          0.9588888888888886,
          0.9899999999999998,
          0.9988888888888888,
          1
         ]
        },
        {
         "hoverinfo": "skip",
         "marker": {
          "color": "rgb(0.0,200,200)"
         },
         "mode": "markers",
         "type": "scatter",
         "uid": "84b16fe9-2524-4ffd-804c-cf32fec076ce",
         "x": [
          0,
          1,
          2,
          3
         ],
         "y": [
          0.5255555555555553,
          0.9511111111111109,
          0.9977777777777778,
          1
         ]
        },
        {
         "hoverinfo": "skip",
         "marker": {
          "color": "rgb(0.0,200,200)"
         },
         "mode": "markers",
         "type": "scatter",
         "uid": "f8519736-ce1c-477e-8b83-2d43840dde0d",
         "x": [
          0,
          1,
          2,
          3,
          4,
          5
         ],
         "y": [
          0.4722222222222222,
          0.904444444444444,
          0.9733333333333326,
          0.9811111111111106,
          0.9977777777777778,
          1
         ]
        },
        {
         "hoverinfo": "skip",
         "marker": {
          "color": "rgb(0.0,200,200)"
         },
         "mode": "markers",
         "type": "scatter",
         "uid": "8e2a8d54-e0b7-42bb-84e9-f8d6be3f23fc",
         "x": [
          0,
          1,
          2,
          3
         ],
         "y": [
          0.5311111111111111,
          0.9733333333333332,
          0.9955555555555555,
          1
         ]
        },
        {
         "hoverinfo": "skip",
         "marker": {
          "color": "rgb(0.0,200,200)"
         },
         "mode": "markers",
         "type": "scatter",
         "uid": "12a7ebd4-4b92-4170-9034-0abd74985f6c",
         "x": [
          0,
          1,
          2,
          3
         ],
         "y": [
          0.4733333333333334,
          0.9144444444444433,
          0.976666666666666,
          1
         ]
        },
        {
         "hoverinfo": "skip",
         "marker": {
          "color": "rgb(25.0,200,200)"
         },
         "mode": "markers",
         "type": "scatter",
         "uid": "e2713d86-d0d3-4e79-996e-334cd01548f1",
         "x": [
          0,
          1,
          2,
          3,
          4
         ],
         "y": [
          0.4755555555555555,
          0.9455555555555555,
          0.9833333333333334,
          0.9911111111111112,
          1
         ]
        },
        {
         "hoverinfo": "skip",
         "marker": {
          "color": "rgb(25.0,200,200)"
         },
         "mode": "markers",
         "type": "scatter",
         "uid": "b4127855-c4f9-447f-b124-697d7667567f",
         "x": [
          0,
          1,
          2,
          3
         ],
         "y": [
          0.46333333333333343,
          0.924444444444444,
          0.992222222222222,
          1
         ]
        },
        {
         "hoverinfo": "skip",
         "marker": {
          "color": "rgb(25.0,200,200)"
         },
         "mode": "markers",
         "type": "scatter",
         "uid": "14b14f99-89cc-47c9-ad14-7d69f9c736ed",
         "x": [
          0,
          1,
          2,
          3
         ],
         "y": [
          0.5444444444444444,
          0.9611111111111106,
          0.9988888888888888,
          1
         ]
        },
        {
         "hoverinfo": "skip",
         "marker": {
          "color": "rgb(25.0,200,200)"
         },
         "mode": "markers",
         "type": "scatter",
         "uid": "bc139704-7a95-4af9-8528-425f60fff94d",
         "x": [
          0,
          1,
          2
         ],
         "y": [
          0.5477777777777776,
          0.9622222222222221,
          1
         ]
        },
        {
         "hoverinfo": "skip",
         "marker": {
          "color": "rgb(25.0,200,200)"
         },
         "mode": "markers",
         "type": "scatter",
         "uid": "c12bac0c-b04a-4b5d-890f-ab1cb2b0a723",
         "x": [
          0,
          1,
          2,
          3
         ],
         "y": [
          0.47999999999999987,
          0.9366666666666665,
          0.9955555555555555,
          1
         ]
        },
        {
         "hoverinfo": "skip",
         "marker": {
          "color": "rgb(25.0,200,200)"
         },
         "mode": "markers",
         "type": "scatter",
         "uid": "b893acc6-26d9-42c8-be6b-64e6124ee9b2",
         "x": [
          0,
          1,
          2,
          3,
          4,
          5
         ],
         "y": [
          0.47777777777777786,
          0.8944444444444435,
          0.9511111111111106,
          0.9699999999999995,
          0.9922222222222223,
          1
         ]
        },
        {
         "hoverinfo": "skip",
         "marker": {
          "color": "rgb(25.0,200,200)"
         },
         "mode": "markers",
         "type": "scatter",
         "uid": "ba9445ee-5b18-4b5c-9d2e-df4c73b9bd86",
         "x": [
          0,
          1,
          2,
          3
         ],
         "y": [
          0.5466666666666665,
          0.9499999999999997,
          0.9977777777777778,
          1
         ]
        },
        {
         "hoverinfo": "skip",
         "marker": {
          "color": "rgb(25.0,200,200)"
         },
         "mode": "markers",
         "type": "scatter",
         "uid": "2223c5b8-66df-4719-aed0-e72141518c53",
         "x": [
          0,
          1,
          2,
          3,
          4
         ],
         "y": [
          0.4177777777777776,
          0.9011111111111112,
          0.9688888888888889,
          0.9888888888888888,
          1
         ]
        },
        {
         "hoverinfo": "skip",
         "marker": {
          "color": "rgb(25.0,200,200)"
         },
         "mode": "markers",
         "type": "scatter",
         "uid": "9adab029-4156-46bc-b426-43892857d0a3",
         "x": [
          0,
          1,
          2,
          3,
          4,
          5
         ],
         "y": [
          0.4600000000000001,
          0.9033333333333324,
          0.9711111111111103,
          0.9777777777777772,
          0.9933333333333332,
          1
         ]
        },
        {
         "hoverinfo": "skip",
         "marker": {
          "color": "rgb(25.0,200,200)"
         },
         "mode": "markers",
         "type": "scatter",
         "uid": "15fd7c2a-b297-41b5-b304-583381bcc196",
         "x": [
          0,
          1,
          2,
          3
         ],
         "y": [
          0.4966666666666668,
          0.942222222222221,
          0.9877777777777774,
          1
         ]
        },
        {
         "hoverinfo": "skip",
         "marker": {
          "color": "rgb(50.0,200,200)"
         },
         "mode": "markers",
         "type": "scatter",
         "uid": "d19e7290-3e5a-4c6a-860c-f746bcf18fc2",
         "x": [
          0,
          1,
          2,
          3
         ],
         "y": [
          0.4866666666666666,
          0.9444444444444435,
          0.9988888888888888,
          1
         ]
        },
        {
         "hoverinfo": "skip",
         "marker": {
          "color": "rgb(50.0,200,200)"
         },
         "mode": "markers",
         "type": "scatter",
         "uid": "6721f1c4-7783-480a-86a5-54e0b6684dd5",
         "x": [
          0,
          1,
          2
         ],
         "y": [
          0.5077777777777778,
          0.9577777777777777,
          1
         ]
        },
        {
         "hoverinfo": "skip",
         "marker": {
          "color": "rgb(50.0,200,200)"
         },
         "mode": "markers",
         "type": "scatter",
         "uid": "2ae8964d-f954-4098-95b6-b4b73dfe8be1",
         "x": [
          0,
          1,
          2
         ],
         "y": [
          0.5244444444444446,
          0.9899999999999998,
          1
         ]
        },
        {
         "hoverinfo": "skip",
         "marker": {
          "color": "rgb(50.0,200,200)"
         },
         "mode": "markers",
         "type": "scatter",
         "uid": "11afcd4f-c423-4563-b98c-432ca49f127e",
         "x": [
          0,
          1,
          2,
          3,
          4
         ],
         "y": [
          0.47111111111111115,
          0.938888888888888,
          0.9766666666666662,
          0.9977777777777778,
          1
         ]
        },
        {
         "hoverinfo": "skip",
         "marker": {
          "color": "rgb(50.0,200,200)"
         },
         "mode": "markers",
         "type": "scatter",
         "uid": "d7494bd0-5735-4bd4-a490-42d83d1ed187",
         "x": [
          0,
          1,
          2,
          3,
          4,
          5
         ],
         "y": [
          0.46111111111111086,
          0.9277777777777768,
          0.974444444444444,
          0.9866666666666666,
          0.9966666666666666,
          1
         ]
        },
        {
         "hoverinfo": "skip",
         "marker": {
          "color": "rgb(50.0,200,200)"
         },
         "mode": "markers",
         "type": "scatter",
         "uid": "64cb8ddb-db1e-431e-9e0a-6a8723a12eec",
         "x": [
          0,
          1,
          2,
          3
         ],
         "y": [
          0.49111111111111083,
          0.9455555555555548,
          0.9977777777777778,
          1
         ]
        },
        {
         "hoverinfo": "skip",
         "marker": {
          "color": "rgb(50.0,200,200)"
         },
         "mode": "markers",
         "type": "scatter",
         "uid": "7684f2c2-6440-483a-9cf0-41fa7348f074",
         "x": [
          0,
          1,
          2,
          3,
          4
         ],
         "y": [
          0.5433333333333334,
          0.946666666666666,
          0.9766666666666662,
          0.99,
          1
         ]
        },
        {
         "hoverinfo": "skip",
         "marker": {
          "color": "rgb(50.0,200,200)"
         },
         "mode": "markers",
         "type": "scatter",
         "uid": "281bf69f-ef04-41cb-8818-d8e71cc13a8c",
         "x": [
          0,
          1,
          2,
          3,
          4
         ],
         "y": [
          0.49666666666666665,
          0.9411111111111106,
          0.9788888888888883,
          0.9944444444444442,
          1
         ]
        },
        {
         "hoverinfo": "skip",
         "marker": {
          "color": "rgb(50.0,200,200)"
         },
         "mode": "markers",
         "type": "scatter",
         "uid": "d3fdd61f-2e3d-49dc-aad4-fcf912877c03",
         "x": [
          0,
          1,
          2,
          3,
          4,
          5
         ],
         "y": [
          0.4522222222222221,
          0.9344444444444439,
          0.9755555555555552,
          0.9877777777777778,
          0.9988888888888888,
          1
         ]
        },
        {
         "hoverinfo": "skip",
         "marker": {
          "color": "rgb(50.0,200,200)"
         },
         "mode": "markers",
         "type": "scatter",
         "uid": "043454e3-b169-4826-a43b-cad36aa6ed7a",
         "x": [
          0,
          1,
          2,
          3,
          4,
          5
         ],
         "y": [
          0.4822222222222223,
          0.9166666666666664,
          0.98,
          0.9933333333333334,
          0.9977777777777778,
          1
         ]
        },
        {
         "hoverinfo": "skip",
         "marker": {
          "color": "rgb(75.0,200,200)"
         },
         "mode": "markers",
         "type": "scatter",
         "uid": "a97aef70-e285-4ea7-9cad-590b627b505a",
         "x": [
          0,
          1,
          2,
          3
         ],
         "y": [
          0.4877777777777779,
          0.9177777777777766,
          0.9977777777777778,
          1
         ]
        },
        {
         "hoverinfo": "skip",
         "marker": {
          "color": "rgb(75.0,200,200)"
         },
         "mode": "markers",
         "type": "scatter",
         "uid": "cf6e86a2-6a0f-4103-a58e-8dadeb444b19",
         "x": [
          0,
          1,
          2,
          3
         ],
         "y": [
          0.5433333333333333,
          0.9555555555555553,
          0.9988888888888888,
          1
         ]
        },
        {
         "hoverinfo": "skip",
         "marker": {
          "color": "rgb(75.0,200,200)"
         },
         "mode": "markers",
         "type": "scatter",
         "uid": "a39d5892-5f16-4cc5-abd9-f820b7a60388",
         "x": [
          0,
          1,
          2
         ],
         "y": [
          0.5122222222222221,
          0.9722222222222223,
          1
         ]
        },
        {
         "hoverinfo": "skip",
         "marker": {
          "color": "rgb(75.0,200,200)"
         },
         "mode": "markers",
         "type": "scatter",
         "uid": "c6ef84be-5689-4787-bdd8-16968fbc801d",
         "x": [
          0,
          1,
          2,
          3
         ],
         "y": [
          0.5055555555555553,
          0.9833333333333332,
          0.9977777777777778,
          1
         ]
        },
        {
         "hoverinfo": "skip",
         "marker": {
          "color": "rgb(75.0,200,200)"
         },
         "mode": "markers",
         "type": "scatter",
         "uid": "8f9d88a8-8e1f-45de-a92e-535db54ad0e5",
         "x": [
          0,
          1,
          2,
          3
         ],
         "y": [
          0.508888888888889,
          0.9666666666666667,
          0.9911111111111112,
          1
         ]
        },
        {
         "hoverinfo": "skip",
         "marker": {
          "color": "rgb(75.0,200,200)"
         },
         "mode": "markers",
         "type": "scatter",
         "uid": "7459acea-f671-4a04-836e-c8bd42655e44",
         "x": [
          0,
          1,
          2,
          3,
          4
         ],
         "y": [
          0.45222222222222214,
          0.8899999999999991,
          0.962222222222222,
          0.9955555555555555,
          1
         ]
        },
        {
         "hoverinfo": "skip",
         "marker": {
          "color": "rgb(75.0,200,200)"
         },
         "mode": "markers",
         "type": "scatter",
         "uid": "cf2d5d5b-0aaa-474c-b5b7-ae6a5c69029e",
         "x": [
          0,
          1,
          2,
          3,
          4
         ],
         "y": [
          0.49333333333333323,
          0.9355555555555548,
          0.984444444444444,
          0.9977777777777778,
          1
         ]
        },
        {
         "hoverinfo": "skip",
         "marker": {
          "color": "rgb(75.0,200,200)"
         },
         "mode": "markers",
         "type": "scatter",
         "uid": "7b750ff8-d9fa-43e6-bbf1-f32712d513f5",
         "x": [
          0,
          1,
          2,
          3
         ],
         "y": [
          0.5233333333333332,
          0.9666666666666665,
          0.9955555555555555,
          1
         ]
        },
        {
         "hoverinfo": "skip",
         "marker": {
          "color": "rgb(75.0,200,200)"
         },
         "mode": "markers",
         "type": "scatter",
         "uid": "1da858eb-1d1d-4dbb-b0e7-c7d751f52ca1",
         "x": [
          0,
          1,
          2,
          3,
          4
         ],
         "y": [
          0.4788888888888888,
          0.96111111111111,
          0.984444444444444,
          0.9988888888888888,
          1
         ]
        },
        {
         "hoverinfo": "skip",
         "marker": {
          "color": "rgb(75.0,200,200)"
         },
         "mode": "markers",
         "type": "scatter",
         "uid": "912ec75a-d152-4cd7-b2bf-94525d9b120f",
         "x": [
          0,
          1,
          2,
          3
         ],
         "y": [
          0.4444444444444445,
          0.9233333333333329,
          0.9877777777777778,
          1
         ]
        },
        {
         "hoverinfo": "skip",
         "marker": {
          "color": "rgb(100.0,200,200)"
         },
         "mode": "markers",
         "type": "scatter",
         "uid": "89d721f4-0468-45ee-a9e1-843e2998ee15",
         "x": [
          0,
          1,
          2,
          3
         ],
         "y": [
          0.5522222222222222,
          0.9466666666666658,
          0.9899999999999998,
          1
         ]
        },
        {
         "hoverinfo": "skip",
         "marker": {
          "color": "rgb(100.0,200,200)"
         },
         "mode": "markers",
         "type": "scatter",
         "uid": "af45c031-1214-4a9b-ab5d-c2eb4c50e204",
         "x": [
          0,
          1,
          2,
          3,
          4,
          5
         ],
         "y": [
          0.4666666666666668,
          0.8922222222222216,
          0.9488888888888889,
          0.9722222222222223,
          0.9855555555555555,
          1
         ]
        },
        {
         "hoverinfo": "skip",
         "marker": {
          "color": "rgb(100.0,200,200)"
         },
         "mode": "markers",
         "type": "scatter",
         "uid": "ff4f2c22-6c40-4be5-836c-b71fdfa9b140",
         "x": [
          0,
          1,
          2,
          3
         ],
         "y": [
          0.5244444444444444,
          0.9655555555555553,
          0.9977777777777778,
          1
         ]
        },
        {
         "hoverinfo": "skip",
         "marker": {
          "color": "rgb(100.0,200,200)"
         },
         "mode": "markers",
         "type": "scatter",
         "uid": "94f2a4a6-9bf6-443b-a403-e2b1617a0fcf",
         "x": [
          0,
          1,
          2,
          3
         ],
         "y": [
          0.5455555555555555,
          0.9455555555555553,
          0.99,
          1
         ]
        },
        {
         "hoverinfo": "skip",
         "marker": {
          "color": "rgb(100.0,200,200)"
         },
         "mode": "markers",
         "type": "scatter",
         "uid": "8a9153cd-44f8-4601-a948-4a177e577070",
         "x": [
          0,
          1,
          2,
          3
         ],
         "y": [
          0.5100000000000001,
          0.966666666666666,
          0.9988888888888888,
          1
         ]
        },
        {
         "hoverinfo": "skip",
         "marker": {
          "color": "rgb(100.0,200,200)"
         },
         "mode": "markers",
         "type": "scatter",
         "uid": "3101fdba-8d4c-4fac-a0b1-3a8783b4485b",
         "x": [
          0,
          1,
          2,
          3,
          4
         ],
         "y": [
          0.4977777777777777,
          0.951111111111111,
          0.9866666666666662,
          0.9977777777777778,
          1
         ]
        },
        {
         "hoverinfo": "skip",
         "marker": {
          "color": "rgb(100.0,200,200)"
         },
         "mode": "markers",
         "type": "scatter",
         "uid": "d0f9fb10-e936-4d4d-b31a-86d206cbb993",
         "x": [
          0,
          1,
          2,
          3,
          4
         ],
         "y": [
          0.47777777777777786,
          0.9399999999999996,
          0.983333333333333,
          0.9944444444444442,
          1
         ]
        },
        {
         "hoverinfo": "skip",
         "marker": {
          "color": "rgb(100.0,200,200)"
         },
         "mode": "markers",
         "type": "scatter",
         "uid": "87a7f3ac-69e2-4443-b230-d122de8d02a6",
         "x": [
          0,
          1,
          2,
          3,
          4
         ],
         "y": [
          0.4922222222222222,
          0.9222222222222212,
          0.9688888888888886,
          0.9988888888888888,
          1
         ]
        },
        {
         "hoverinfo": "skip",
         "marker": {
          "color": "rgb(100.0,200,200)"
         },
         "mode": "markers",
         "type": "scatter",
         "uid": "2e79fb1a-0823-47fa-a208-b5028d0d4109",
         "x": [
          0,
          1,
          2,
          3
         ],
         "y": [
          0.5433333333333333,
          0.9411111111111105,
          0.9988888888888888,
          1
         ]
        },
        {
         "hoverinfo": "skip",
         "marker": {
          "color": "rgb(100.0,200,200)"
         },
         "mode": "markers",
         "type": "scatter",
         "uid": "1e17d1be-c1ad-487a-80c8-cac43fcd53ed",
         "x": [
          0,
          1,
          2,
          3,
          4,
          5
         ],
         "y": [
          0.4844444444444443,
          0.9433333333333326,
          0.9799999999999994,
          0.9877777777777774,
          0.9988888888888888,
          1
         ]
        },
        {
         "hoverinfo": "skip",
         "marker": {
          "color": "rgb(125.0,200,200)"
         },
         "mode": "markers",
         "type": "scatter",
         "uid": "f28fe14f-86d4-4ebe-868d-04c5d4a5d3fb",
         "x": [
          0,
          1,
          2,
          3,
          4,
          5
         ],
         "y": [
          0.4822222222222222,
          0.9355555555555548,
          0.984444444444444,
          0.9933333333333332,
          0.9988888888888888,
          1
         ]
        },
        {
         "hoverinfo": "skip",
         "marker": {
          "color": "rgb(125.0,200,200)"
         },
         "mode": "markers",
         "type": "scatter",
         "uid": "54314c39-e034-465d-9f6c-962ffa252584",
         "x": [
          0,
          1,
          2,
          3,
          4
         ],
         "y": [
          0.45777777777777795,
          0.9022222222222216,
          0.97,
          0.9933333333333334,
          1
         ]
        },
        {
         "hoverinfo": "skip",
         "marker": {
          "color": "rgb(125.0,200,200)"
         },
         "mode": "markers",
         "type": "scatter",
         "uid": "0bd63cb6-83bd-46a2-a8ad-390e03e96fc2",
         "x": [
          0,
          1,
          2,
          3,
          4
         ],
         "y": [
          0.5133333333333335,
          0.9644444444444435,
          0.9866666666666662,
          0.9988888888888888,
          1
         ]
        },
        {
         "hoverinfo": "skip",
         "marker": {
          "color": "rgb(125.0,200,200)"
         },
         "mode": "markers",
         "type": "scatter",
         "uid": "bf79bca6-73e2-4871-970d-1ff726a5dd3f",
         "x": [
          0,
          1,
          2,
          3
         ],
         "y": [
          0.49666666666666665,
          0.9288888888888884,
          0.9911111111111112,
          1
         ]
        },
        {
         "hoverinfo": "skip",
         "marker": {
          "color": "rgb(125.0,200,200)"
         },
         "mode": "markers",
         "type": "scatter",
         "uid": "3adc12c9-50d9-4179-be94-378f37b365d2",
         "x": [
          0,
          1,
          2,
          3
         ],
         "y": [
          0.5288888888888887,
          0.9699999999999999,
          0.9911111111111112,
          1
         ]
        },
        {
         "hoverinfo": "skip",
         "marker": {
          "color": "rgb(125.0,200,200)"
         },
         "mode": "markers",
         "type": "scatter",
         "uid": "9864096e-1e9e-4d61-b5ec-958641bef8c0",
         "x": [
          0,
          1,
          2,
          3,
          4
         ],
         "y": [
          0.48333333333333317,
          0.9111111111111103,
          0.9655555555555553,
          0.9944444444444442,
          1
         ]
        },
        {
         "hoverinfo": "skip",
         "marker": {
          "color": "rgb(125.0,200,200)"
         },
         "mode": "markers",
         "type": "scatter",
         "uid": "8cad7819-2bb4-48d9-adcd-473e6c65e245",
         "x": [
          0,
          1,
          2,
          3,
          4
         ],
         "y": [
          0.47555555555555573,
          0.9366666666666659,
          0.9877777777777774,
          0.9988888888888888,
          1
         ]
        },
        {
         "hoverinfo": "skip",
         "marker": {
          "color": "rgb(125.0,200,200)"
         },
         "mode": "markers",
         "type": "scatter",
         "uid": "d4a66fd8-8b48-4d3a-9804-9df05cbe48f5",
         "x": [
          0,
          1,
          2,
          3,
          4
         ],
         "y": [
          0.49999999999999983,
          0.925555555555555,
          0.98,
          0.9955555555555555,
          1
         ]
        },
        {
         "hoverinfo": "skip",
         "marker": {
          "color": "rgb(125.0,200,200)"
         },
         "mode": "markers",
         "type": "scatter",
         "uid": "842b66af-2370-4649-b8d4-851cd228132e",
         "x": [
          0,
          1,
          2,
          3,
          4
         ],
         "y": [
          0.49111111111111116,
          0.9277777777777767,
          0.976666666666666,
          0.9988888888888888,
          1
         ]
        },
        {
         "hoverinfo": "skip",
         "marker": {
          "color": "rgb(125.0,200,200)"
         },
         "mode": "markers",
         "type": "scatter",
         "uid": "0e3730f5-22d0-4341-b8e0-0d89aecea07a",
         "x": [
          0,
          1,
          2
         ],
         "y": [
          0.5055555555555555,
          0.9566666666666661,
          1
         ]
        },
        {
         "hoverinfo": "skip",
         "marker": {
          "color": "rgb(150.0,200,200)"
         },
         "mode": "markers",
         "type": "scatter",
         "uid": "3e81171c-a563-4ab0-a3ac-919275e128ac",
         "x": [
          0,
          1,
          2,
          3,
          4,
          5,
          6
         ],
         "y": [
          0.47666666666666635,
          0.916666666666665,
          0.9466666666666653,
          0.9666666666666657,
          0.9777777777777772,
          0.9955555555555554,
          1
         ]
        },
        {
         "hoverinfo": "skip",
         "marker": {
          "color": "rgb(150.0,200,200)"
         },
         "mode": "markers",
         "type": "scatter",
         "uid": "d583afc1-4349-4727-92a0-6156d7861f37",
         "x": [
          0,
          1,
          2,
          3
         ],
         "y": [
          0.5199999999999999,
          0.9677777777777772,
          0.992222222222222,
          1
         ]
        },
        {
         "hoverinfo": "skip",
         "marker": {
          "color": "rgb(150.0,200,200)"
         },
         "mode": "markers",
         "type": "scatter",
         "uid": "cc4d58f9-b4b2-4c66-b92d-3377afb67f95",
         "x": [
          0,
          1,
          2,
          3,
          4
         ],
         "y": [
          0.5044444444444446,
          0.9477777777777774,
          0.9811111111111106,
          0.9899999999999998,
          1
         ]
        },
        {
         "hoverinfo": "skip",
         "marker": {
          "color": "rgb(150.0,200,200)"
         },
         "mode": "markers",
         "type": "scatter",
         "uid": "c01f66d1-52c4-4a22-a2e1-e65473381fb4",
         "x": [
          0,
          1,
          2,
          3
         ],
         "y": [
          0.4922222222222222,
          0.9499999999999993,
          0.9944444444444442,
          1
         ]
        },
        {
         "hoverinfo": "skip",
         "marker": {
          "color": "rgb(150.0,200,200)"
         },
         "mode": "markers",
         "type": "scatter",
         "uid": "7ceba19a-f085-42eb-a72f-9f55d095010a",
         "x": [
          0,
          1,
          2,
          3
         ],
         "y": [
          0.49222222222222206,
          0.9533333333333327,
          0.9933333333333332,
          1
         ]
        },
        {
         "hoverinfo": "skip",
         "marker": {
          "color": "rgb(150.0,200,200)"
         },
         "mode": "markers",
         "type": "scatter",
         "uid": "c06f8d36-801c-4cac-8b3f-2bcceb66b892",
         "x": [
          0,
          1,
          2,
          3
         ],
         "y": [
          0.481111111111111,
          0.9266666666666664,
          0.9955555555555555,
          1
         ]
        },
        {
         "hoverinfo": "skip",
         "marker": {
          "color": "rgb(150.0,200,200)"
         },
         "mode": "markers",
         "type": "scatter",
         "uid": "b884bf1d-3052-4210-8002-7cc09f6ac43d",
         "x": [
          0,
          1,
          2,
          3,
          4
         ],
         "y": [
          0.4688888888888888,
          0.9388888888888886,
          0.9766666666666666,
          0.9988888888888888,
          1
         ]
        },
        {
         "hoverinfo": "skip",
         "marker": {
          "color": "rgb(150.0,200,200)"
         },
         "mode": "markers",
         "type": "scatter",
         "uid": "adfcc204-be06-4ab6-9077-13859a86c69f",
         "x": [
          0,
          1,
          2,
          3,
          4,
          5,
          6
         ],
         "y": [
          0.4755555555555555,
          0.9411111111111109,
          0.978888888888889,
          0.9877777777777779,
          0.9933333333333334,
          0.9988888888888888,
          1
         ]
        },
        {
         "hoverinfo": "skip",
         "marker": {
          "color": "rgb(150.0,200,200)"
         },
         "mode": "markers",
         "type": "scatter",
         "uid": "3501123c-4e6e-43d0-af3d-e4e22ee6411b",
         "x": [
          0,
          1,
          2,
          3,
          4,
          5
         ],
         "y": [
          0.4933333333333331,
          0.9333333333333325,
          0.96111111111111,
          0.9888888888888886,
          0.9977777777777778,
          1
         ]
        },
        {
         "hoverinfo": "skip",
         "marker": {
          "color": "rgb(150.0,200,200)"
         },
         "mode": "markers",
         "type": "scatter",
         "uid": "fa2951f7-82a7-4ae1-9bd6-8fc4cd9f20f9",
         "x": [
          0,
          1,
          2,
          3,
          4
         ],
         "y": [
          0.45666666666666667,
          0.9455555555555548,
          0.992222222222222,
          0.9988888888888888,
          1
         ]
        },
        {
         "hoverinfo": "skip",
         "marker": {
          "color": "rgb(175.0,200,200)"
         },
         "mode": "markers",
         "type": "scatter",
         "uid": "1e4caea3-1374-419e-9518-ca2299f05664",
         "x": [
          0,
          1,
          2,
          3
         ],
         "y": [
          0.5411111111111111,
          0.9377777777777773,
          0.9888888888888887,
          1
         ]
        },
        {
         "hoverinfo": "skip",
         "marker": {
          "color": "rgb(175.0,200,200)"
         },
         "mode": "markers",
         "type": "scatter",
         "uid": "52b3a5a1-9730-41aa-a585-95eda5716509",
         "x": [
          0,
          1,
          2
         ],
         "y": [
          0.5044444444444445,
          0.954444444444444,
          1
         ]
        },
        {
         "hoverinfo": "skip",
         "marker": {
          "color": "rgb(175.0,200,200)"
         },
         "mode": "markers",
         "type": "scatter",
         "uid": "58a380af-6c6f-4196-8ed1-36b0ea8b4b4f",
         "x": [
          0,
          1,
          2
         ],
         "y": [
          0.5322222222222218,
          0.9711111111111107,
          1
         ]
        },
        {
         "hoverinfo": "skip",
         "marker": {
          "color": "rgb(175.0,200,200)"
         },
         "mode": "markers",
         "type": "scatter",
         "uid": "63205c1b-6093-4e11-aab0-2da8fed7fbba",
         "x": [
          0,
          1,
          2,
          3
         ],
         "y": [
          0.5266666666666666,
          0.9766666666666661,
          0.9966666666666666,
          1
         ]
        },
        {
         "hoverinfo": "skip",
         "marker": {
          "color": "rgb(175.0,200,200)"
         },
         "mode": "markers",
         "type": "scatter",
         "uid": "6405b0b1-5c7b-4540-9039-def0cd057ee8",
         "x": [
          0,
          1,
          2,
          3,
          4
         ],
         "y": [
          0.4677777777777778,
          0.926666666666666,
          0.9811111111111107,
          0.9955555555555554,
          1
         ]
        },
        {
         "hoverinfo": "skip",
         "marker": {
          "color": "rgb(175.0,200,200)"
         },
         "mode": "markers",
         "type": "scatter",
         "uid": "c7816829-46e8-4ca5-9458-d20b922deed8",
         "x": [
          0,
          1,
          2,
          3
         ],
         "y": [
          0.49333333333333335,
          0.9588888888888886,
          0.9966666666666666,
          1
         ]
        },
        {
         "hoverinfo": "skip",
         "marker": {
          "color": "rgb(175.0,200,200)"
         },
         "mode": "markers",
         "type": "scatter",
         "uid": "e741cf44-f7c8-4c4c-b6ef-560733ac2268",
         "x": [
          0,
          1,
          2
         ],
         "y": [
          0.4944444444444444,
          0.9799999999999999,
          1
         ]
        },
        {
         "hoverinfo": "skip",
         "marker": {
          "color": "rgb(175.0,200,200)"
         },
         "mode": "markers",
         "type": "scatter",
         "uid": "6a3c018e-c75b-43e9-abd1-befefb3109ad",
         "x": [
          0,
          1,
          2,
          3
         ],
         "y": [
          0.49888888888888894,
          0.9722222222222218,
          0.9988888888888888,
          1
         ]
        },
        {
         "hoverinfo": "skip",
         "marker": {
          "color": "rgb(175.0,200,200)"
         },
         "mode": "markers",
         "type": "scatter",
         "uid": "e2a16b39-4cc5-4c09-a3c8-e2205b8f54a6",
         "x": [
          0,
          1,
          2,
          3,
          4
         ],
         "y": [
          0.4288888888888891,
          0.9444444444444435,
          0.9911111111111108,
          0.9988888888888888,
          1
         ]
        },
        {
         "hoverinfo": "skip",
         "marker": {
          "color": "rgb(175.0,200,200)"
         },
         "mode": "markers",
         "type": "scatter",
         "uid": "0083bc10-60bc-4bbb-8f81-1b9bf189bbf2",
         "x": [
          0,
          1,
          2,
          3
         ],
         "y": [
          0.52,
          0.9466666666666658,
          0.992222222222222,
          1
         ]
        },
        {
         "hoverinfo": "skip",
         "marker": {
          "color": "rgb(200.0,200,200)"
         },
         "mode": "markers",
         "type": "scatter",
         "uid": "81fccc3d-7cd3-4b04-9cf4-d8e4fe71b7b8",
         "x": [
          0,
          1,
          2,
          3,
          4,
          5,
          6
         ],
         "y": [
          0.45666666666666655,
          0.8911111111111109,
          0.9511111111111107,
          0.971111111111111,
          0.9844444444444442,
          0.9966666666666666,
          1
         ]
        },
        {
         "hoverinfo": "skip",
         "marker": {
          "color": "rgb(200.0,200,200)"
         },
         "mode": "markers",
         "type": "scatter",
         "uid": "c8e518f6-a1dd-4ac5-b01e-5c6dada0d1b5",
         "x": [
          0,
          1,
          2,
          3
         ],
         "y": [
          0.5000000000000001,
          0.9255555555555556,
          0.9866666666666667,
          1
         ]
        },
        {
         "hoverinfo": "skip",
         "marker": {
          "color": "rgb(200.0,200,200)"
         },
         "mode": "markers",
         "type": "scatter",
         "uid": "5391c687-a65c-41de-811d-b50041701a02",
         "x": [
          0,
          1,
          2,
          3,
          4
         ],
         "y": [
          0.5199999999999999,
          0.9533333333333328,
          0.9822222222222223,
          0.9933333333333334,
          1
         ]
        },
        {
         "hoverinfo": "skip",
         "marker": {
          "color": "rgb(200.0,200,200)"
         },
         "mode": "markers",
         "type": "scatter",
         "uid": "2e36336a-09ef-4ccb-af7e-10f814d98b82",
         "x": [
          0,
          1,
          2,
          3,
          4
         ],
         "y": [
          0.5088888888888887,
          0.9377777777777776,
          0.9888888888888886,
          0.9988888888888888,
          1
         ]
        },
        {
         "hoverinfo": "skip",
         "marker": {
          "color": "rgb(200.0,200,200)"
         },
         "mode": "markers",
         "type": "scatter",
         "uid": "c51f43f9-64a7-43bc-84dc-eaf06f66cfd0",
         "x": [
          0,
          1,
          2,
          3
         ],
         "y": [
          0.5222222222222219,
          0.9266666666666663,
          0.9888888888888888,
          1
         ]
        },
        {
         "hoverinfo": "skip",
         "marker": {
          "color": "rgb(200.0,200,200)"
         },
         "mode": "markers",
         "type": "scatter",
         "uid": "69d4772e-7585-48de-b3d3-3799c7515542",
         "x": [
          0,
          1,
          2,
          3
         ],
         "y": [
          0.49111111111111105,
          0.9444444444444438,
          0.9877777777777774,
          1
         ]
        },
        {
         "hoverinfo": "skip",
         "marker": {
          "color": "rgb(200.0,200,200)"
         },
         "mode": "markers",
         "type": "scatter",
         "uid": "d1de7515-00a2-4366-b1f1-cb9e585cf57a",
         "x": [
          0,
          1,
          2,
          3
         ],
         "y": [
          0.48111111111111116,
          0.9488888888888881,
          0.992222222222222,
          1
         ]
        },
        {
         "hoverinfo": "skip",
         "marker": {
          "color": "rgb(200.0,200,200)"
         },
         "mode": "markers",
         "type": "scatter",
         "uid": "f55f0d4b-e9fd-4e10-bc4b-f27afb886b3c",
         "x": [
          0,
          1,
          2,
          3,
          4,
          5,
          6,
          7
         ],
         "y": [
          0.45777777777777795,
          0.8933333333333333,
          0.9511111111111111,
          0.9744444444444444,
          0.9877777777777779,
          0.9933333333333334,
          0.9988888888888888,
          1
         ]
        },
        {
         "hoverinfo": "skip",
         "marker": {
          "color": "rgb(200.0,200,200)"
         },
         "mode": "markers",
         "type": "scatter",
         "uid": "2db7d771-f58d-4449-a7ff-db480043ef86",
         "x": [
          0,
          1,
          2,
          3,
          4
         ],
         "y": [
          0.5466666666666666,
          0.9400000000000002,
          0.9844444444444446,
          0.9988888888888888,
          1
         ]
        },
        {
         "hoverinfo": "skip",
         "marker": {
          "color": "rgb(200.0,200,200)"
         },
         "mode": "markers",
         "type": "scatter",
         "uid": "111d56f0-4106-4820-9b5f-1cb3435118bc",
         "x": [
          0,
          1,
          2,
          3
         ],
         "y": [
          0.44888888888888895,
          0.9255555555555549,
          0.9899999999999998,
          1
         ]
        },
        {
         "hoverinfo": "skip",
         "marker": {
          "color": "rgb(225.0,200,200)"
         },
         "mode": "markers",
         "type": "scatter",
         "uid": "2599dc6c-7b79-44fe-8f1a-549e58c89bce",
         "x": [
          0,
          1,
          2,
          3
         ],
         "y": [
          0.5433333333333334,
          0.9688888888888886,
          0.9966666666666666,
          1
         ]
        },
        {
         "hoverinfo": "skip",
         "marker": {
          "color": "rgb(225.0,200,200)"
         },
         "mode": "markers",
         "type": "scatter",
         "uid": "ce560427-5d65-42cf-8130-99a87884e3fb",
         "x": [
          0,
          1,
          2,
          3
         ],
         "y": [
          0.5277777777777779,
          0.9511111111111102,
          0.9944444444444442,
          1
         ]
        },
        {
         "hoverinfo": "skip",
         "marker": {
          "color": "rgb(225.0,200,200)"
         },
         "mode": "markers",
         "type": "scatter",
         "uid": "05e234ea-a385-4573-8efb-b176ea55f6b3",
         "x": [
          0,
          1,
          2
         ],
         "y": [
          0.4866666666666667,
          0.9477777777777777,
          1
         ]
        },
        {
         "hoverinfo": "skip",
         "marker": {
          "color": "rgb(225.0,200,200)"
         },
         "mode": "markers",
         "type": "scatter",
         "uid": "1df5c063-ec2e-4817-8b0d-a03f07d2e297",
         "x": [
          0,
          1,
          2,
          3,
          4
         ],
         "y": [
          0.501111111111111,
          0.9522222222222222,
          0.9811111111111112,
          0.9933333333333334,
          1
         ]
        },
        {
         "hoverinfo": "skip",
         "marker": {
          "color": "rgb(225.0,200,200)"
         },
         "mode": "markers",
         "type": "scatter",
         "uid": "a83108d6-cd05-498c-91bd-c0369d483539",
         "x": [
          0,
          1,
          2,
          3,
          4,
          5
         ],
         "y": [
          0.4611111111111113,
          0.9477777777777774,
          0.972222222222222,
          0.9822222222222223,
          0.9944444444444445,
          1
         ]
        },
        {
         "hoverinfo": "skip",
         "marker": {
          "color": "rgb(225.0,200,200)"
         },
         "mode": "markers",
         "type": "scatter",
         "uid": "7913f212-465a-4366-8b4c-bc63b1923b36",
         "x": [
          0,
          1,
          2,
          3
         ],
         "y": [
          0.5011111111111108,
          0.9544444444444441,
          0.9988888888888888,
          1
         ]
        },
        {
         "hoverinfo": "skip",
         "marker": {
          "color": "rgb(225.0,200,200)"
         },
         "mode": "markers",
         "type": "scatter",
         "uid": "95ae0f57-0153-4187-9966-d5244cae4e07",
         "x": [
          0,
          1,
          2,
          3
         ],
         "y": [
          0.5088888888888888,
          0.9788888888888887,
          0.9966666666666666,
          1
         ]
        },
        {
         "hoverinfo": "skip",
         "marker": {
          "color": "rgb(225.0,200,200)"
         },
         "mode": "markers",
         "type": "scatter",
         "uid": "b9b4d3cc-758f-417e-a6de-f2ed9d3e96ae",
         "x": [
          0,
          1,
          2,
          3,
          4,
          5
         ],
         "y": [
          0.5266666666666664,
          0.9388888888888883,
          0.9799999999999994,
          0.9888888888888886,
          0.9977777777777778,
          1
         ]
        },
        {
         "hoverinfo": "skip",
         "marker": {
          "color": "rgb(225.0,200,200)"
         },
         "mode": "markers",
         "type": "scatter",
         "uid": "296520c7-4338-47c4-a15f-e1450c9b56c8",
         "x": [
          0,
          1,
          2,
          3
         ],
         "y": [
          0.5155555555555554,
          0.9544444444444443,
          0.9966666666666666,
          1
         ]
        },
        {
         "hoverinfo": "skip",
         "marker": {
          "color": "rgb(225.0,200,200)"
         },
         "mode": "markers",
         "type": "scatter",
         "uid": "3236e5ec-27fe-4260-bdc0-4145abed903d",
         "x": [
          0,
          1,
          2,
          3,
          4
         ],
         "y": [
          0.5033333333333334,
          0.9511111111111102,
          0.9944444444444442,
          0.9988888888888888,
          1
         ]
        }
       ],
       "layout": {
        "showlegend": false,
        "title": {
         "text": "Percent social optimal vs Iteration num (Sequential Update)"
        }
       }
      },
      "text/html": [
       "<div id=\"84a54342-704b-4ae9-84b8-c4f54cd5ee5d\" style=\"height: 525px; width: 100%;\" class=\"plotly-graph-div\"></div><script type=\"text/javascript\">require([\"plotly\"], function(Plotly) { window.PLOTLYENV=window.PLOTLYENV || {};window.PLOTLYENV.BASE_URL=\"https://plot.ly\";\n",
       "if (document.getElementById(\"84a54342-704b-4ae9-84b8-c4f54cd5ee5d\")) {\n",
       "    Plotly.newPlot(\"84a54342-704b-4ae9-84b8-c4f54cd5ee5d\", [{\"hoverinfo\": \"skip\", \"marker\": {\"color\": \"rgb(0.0,200,200)\"}, \"mode\": \"markers\", \"x\": [0, 1, 2, 3], \"y\": [0.5022222222222221, 0.95, 0.9977777777777778, 1.0], \"type\": \"scatter\", \"uid\": \"4e47fb75-ac3d-46f5-b583-9dba8f172df8\"}, {\"hoverinfo\": \"skip\", \"marker\": {\"color\": \"rgb(0.0,200,200)\"}, \"mode\": \"markers\", \"x\": [0, 1, 2, 3], \"y\": [0.518888888888889, 0.9522222222222217, 0.9933333333333333, 1.0], \"type\": \"scatter\", \"uid\": \"d10352d5-8fcc-4fad-98ee-9e4ce574d9c5\"}, {\"hoverinfo\": \"skip\", \"marker\": {\"color\": \"rgb(0.0,200,200)\"}, \"mode\": \"markers\", \"x\": [0, 1, 2, 3, 4], \"y\": [0.5244444444444445, 0.9299999999999997, 0.983333333333333, 0.9933333333333332, 1.0], \"type\": \"scatter\", \"uid\": \"759aa483-5d0e-44b0-99a9-789dc1dd5804\"}, {\"hoverinfo\": \"skip\", \"marker\": {\"color\": \"rgb(0.0,200,200)\"}, \"mode\": \"markers\", \"x\": [0, 1, 2, 3], \"y\": [0.47555555555555534, 0.9488888888888886, 0.9944444444444445, 1.0], \"type\": \"scatter\", \"uid\": \"76b0c410-96ba-4a6b-bb2d-d866b82ebd69\"}, {\"hoverinfo\": \"skip\", \"marker\": {\"color\": \"rgb(0.0,200,200)\"}, \"mode\": \"markers\", \"x\": [0, 1, 2, 3], \"y\": [0.5499999999999999, 0.9522222222222217, 0.992222222222222, 1.0], \"type\": \"scatter\", \"uid\": \"f825384f-7b57-487a-8d85-43da501cfd94\"}, {\"hoverinfo\": \"skip\", \"marker\": {\"color\": \"rgb(0.0,200,200)\"}, \"mode\": \"markers\", \"x\": [0, 1, 2, 3, 4, 5], \"y\": [0.44999999999999984, 0.8699999999999994, 0.9588888888888886, 0.9899999999999998, 0.9988888888888888, 1.0], \"type\": \"scatter\", \"uid\": \"3bfa4df4-ec6f-4ab1-a0de-5cec023df2fc\"}, {\"hoverinfo\": \"skip\", \"marker\": {\"color\": \"rgb(0.0,200,200)\"}, \"mode\": \"markers\", \"x\": [0, 1, 2, 3], \"y\": [0.5255555555555553, 0.9511111111111109, 0.9977777777777778, 1.0], \"type\": \"scatter\", \"uid\": \"84b16fe9-2524-4ffd-804c-cf32fec076ce\"}, {\"hoverinfo\": \"skip\", \"marker\": {\"color\": \"rgb(0.0,200,200)\"}, \"mode\": \"markers\", \"x\": [0, 1, 2, 3, 4, 5], \"y\": [0.4722222222222222, 0.904444444444444, 0.9733333333333326, 0.9811111111111106, 0.9977777777777778, 1.0], \"type\": \"scatter\", \"uid\": \"f8519736-ce1c-477e-8b83-2d43840dde0d\"}, {\"hoverinfo\": \"skip\", \"marker\": {\"color\": \"rgb(0.0,200,200)\"}, \"mode\": \"markers\", \"x\": [0, 1, 2, 3], \"y\": [0.5311111111111111, 0.9733333333333332, 0.9955555555555555, 1.0], \"type\": \"scatter\", \"uid\": \"8e2a8d54-e0b7-42bb-84e9-f8d6be3f23fc\"}, {\"hoverinfo\": \"skip\", \"marker\": {\"color\": \"rgb(0.0,200,200)\"}, \"mode\": \"markers\", \"x\": [0, 1, 2, 3], \"y\": [0.4733333333333334, 0.9144444444444433, 0.976666666666666, 1.0], \"type\": \"scatter\", \"uid\": \"12a7ebd4-4b92-4170-9034-0abd74985f6c\"}, {\"hoverinfo\": \"skip\", \"marker\": {\"color\": \"rgb(25.0,200,200)\"}, \"mode\": \"markers\", \"x\": [0, 1, 2, 3, 4], \"y\": [0.4755555555555555, 0.9455555555555555, 0.9833333333333334, 0.9911111111111112, 1.0], \"type\": \"scatter\", \"uid\": \"e2713d86-d0d3-4e79-996e-334cd01548f1\"}, {\"hoverinfo\": \"skip\", \"marker\": {\"color\": \"rgb(25.0,200,200)\"}, \"mode\": \"markers\", \"x\": [0, 1, 2, 3], \"y\": [0.46333333333333343, 0.924444444444444, 0.992222222222222, 1.0], \"type\": \"scatter\", \"uid\": \"b4127855-c4f9-447f-b124-697d7667567f\"}, {\"hoverinfo\": \"skip\", \"marker\": {\"color\": \"rgb(25.0,200,200)\"}, \"mode\": \"markers\", \"x\": [0, 1, 2, 3], \"y\": [0.5444444444444444, 0.9611111111111106, 0.9988888888888888, 1.0], \"type\": \"scatter\", \"uid\": \"14b14f99-89cc-47c9-ad14-7d69f9c736ed\"}, {\"hoverinfo\": \"skip\", \"marker\": {\"color\": \"rgb(25.0,200,200)\"}, \"mode\": \"markers\", \"x\": [0, 1, 2], \"y\": [0.5477777777777776, 0.9622222222222221, 1.0], \"type\": \"scatter\", \"uid\": \"bc139704-7a95-4af9-8528-425f60fff94d\"}, {\"hoverinfo\": \"skip\", \"marker\": {\"color\": \"rgb(25.0,200,200)\"}, \"mode\": \"markers\", \"x\": [0, 1, 2, 3], \"y\": [0.47999999999999987, 0.9366666666666665, 0.9955555555555555, 1.0], \"type\": \"scatter\", \"uid\": \"c12bac0c-b04a-4b5d-890f-ab1cb2b0a723\"}, {\"hoverinfo\": \"skip\", \"marker\": {\"color\": \"rgb(25.0,200,200)\"}, \"mode\": \"markers\", \"x\": [0, 1, 2, 3, 4, 5], \"y\": [0.47777777777777786, 0.8944444444444435, 0.9511111111111106, 0.9699999999999995, 0.9922222222222223, 1.0], \"type\": \"scatter\", \"uid\": \"b893acc6-26d9-42c8-be6b-64e6124ee9b2\"}, {\"hoverinfo\": \"skip\", \"marker\": {\"color\": \"rgb(25.0,200,200)\"}, \"mode\": \"markers\", \"x\": [0, 1, 2, 3], \"y\": [0.5466666666666665, 0.9499999999999997, 0.9977777777777778, 1.0], \"type\": \"scatter\", \"uid\": \"ba9445ee-5b18-4b5c-9d2e-df4c73b9bd86\"}, {\"hoverinfo\": \"skip\", \"marker\": {\"color\": \"rgb(25.0,200,200)\"}, \"mode\": \"markers\", \"x\": [0, 1, 2, 3, 4], \"y\": [0.4177777777777776, 0.9011111111111112, 0.9688888888888889, 0.9888888888888888, 1.0], \"type\": \"scatter\", \"uid\": \"2223c5b8-66df-4719-aed0-e72141518c53\"}, {\"hoverinfo\": \"skip\", \"marker\": {\"color\": \"rgb(25.0,200,200)\"}, \"mode\": \"markers\", \"x\": [0, 1, 2, 3, 4, 5], \"y\": [0.4600000000000001, 0.9033333333333324, 0.9711111111111103, 0.9777777777777772, 0.9933333333333332, 1.0], \"type\": \"scatter\", \"uid\": \"9adab029-4156-46bc-b426-43892857d0a3\"}, {\"hoverinfo\": \"skip\", \"marker\": {\"color\": \"rgb(25.0,200,200)\"}, \"mode\": \"markers\", \"x\": [0, 1, 2, 3], \"y\": [0.4966666666666668, 0.942222222222221, 0.9877777777777774, 1.0], \"type\": \"scatter\", \"uid\": \"15fd7c2a-b297-41b5-b304-583381bcc196\"}, {\"hoverinfo\": \"skip\", \"marker\": {\"color\": \"rgb(50.0,200,200)\"}, \"mode\": \"markers\", \"x\": [0, 1, 2, 3], \"y\": [0.4866666666666666, 0.9444444444444435, 0.9988888888888888, 1.0], \"type\": \"scatter\", \"uid\": \"d19e7290-3e5a-4c6a-860c-f746bcf18fc2\"}, {\"hoverinfo\": \"skip\", \"marker\": {\"color\": \"rgb(50.0,200,200)\"}, \"mode\": \"markers\", \"x\": [0, 1, 2], \"y\": [0.5077777777777778, 0.9577777777777777, 1.0], \"type\": \"scatter\", \"uid\": \"6721f1c4-7783-480a-86a5-54e0b6684dd5\"}, {\"hoverinfo\": \"skip\", \"marker\": {\"color\": \"rgb(50.0,200,200)\"}, \"mode\": \"markers\", \"x\": [0, 1, 2], \"y\": [0.5244444444444446, 0.9899999999999998, 1.0], \"type\": \"scatter\", \"uid\": \"2ae8964d-f954-4098-95b6-b4b73dfe8be1\"}, {\"hoverinfo\": \"skip\", \"marker\": {\"color\": \"rgb(50.0,200,200)\"}, \"mode\": \"markers\", \"x\": [0, 1, 2, 3, 4], \"y\": [0.47111111111111115, 0.938888888888888, 0.9766666666666662, 0.9977777777777778, 1.0], \"type\": \"scatter\", \"uid\": \"11afcd4f-c423-4563-b98c-432ca49f127e\"}, {\"hoverinfo\": \"skip\", \"marker\": {\"color\": \"rgb(50.0,200,200)\"}, \"mode\": \"markers\", \"x\": [0, 1, 2, 3, 4, 5], \"y\": [0.46111111111111086, 0.9277777777777768, 0.974444444444444, 0.9866666666666666, 0.9966666666666666, 1.0], \"type\": \"scatter\", \"uid\": \"d7494bd0-5735-4bd4-a490-42d83d1ed187\"}, {\"hoverinfo\": \"skip\", \"marker\": {\"color\": \"rgb(50.0,200,200)\"}, \"mode\": \"markers\", \"x\": [0, 1, 2, 3], \"y\": [0.49111111111111083, 0.9455555555555548, 0.9977777777777778, 1.0], \"type\": \"scatter\", \"uid\": \"64cb8ddb-db1e-431e-9e0a-6a8723a12eec\"}, {\"hoverinfo\": \"skip\", \"marker\": {\"color\": \"rgb(50.0,200,200)\"}, \"mode\": \"markers\", \"x\": [0, 1, 2, 3, 4], \"y\": [0.5433333333333334, 0.946666666666666, 0.9766666666666662, 0.99, 1.0], \"type\": \"scatter\", \"uid\": \"7684f2c2-6440-483a-9cf0-41fa7348f074\"}, {\"hoverinfo\": \"skip\", \"marker\": {\"color\": \"rgb(50.0,200,200)\"}, \"mode\": \"markers\", \"x\": [0, 1, 2, 3, 4], \"y\": [0.49666666666666665, 0.9411111111111106, 0.9788888888888883, 0.9944444444444442, 1.0], \"type\": \"scatter\", \"uid\": \"281bf69f-ef04-41cb-8818-d8e71cc13a8c\"}, {\"hoverinfo\": \"skip\", \"marker\": {\"color\": \"rgb(50.0,200,200)\"}, \"mode\": \"markers\", \"x\": [0, 1, 2, 3, 4, 5], \"y\": [0.4522222222222221, 0.9344444444444439, 0.9755555555555552, 0.9877777777777778, 0.9988888888888888, 1.0], \"type\": \"scatter\", \"uid\": \"d3fdd61f-2e3d-49dc-aad4-fcf912877c03\"}, {\"hoverinfo\": \"skip\", \"marker\": {\"color\": \"rgb(50.0,200,200)\"}, \"mode\": \"markers\", \"x\": [0, 1, 2, 3, 4, 5], \"y\": [0.4822222222222223, 0.9166666666666664, 0.98, 0.9933333333333334, 0.9977777777777778, 1.0], \"type\": \"scatter\", \"uid\": \"043454e3-b169-4826-a43b-cad36aa6ed7a\"}, {\"hoverinfo\": \"skip\", \"marker\": {\"color\": \"rgb(75.0,200,200)\"}, \"mode\": \"markers\", \"x\": [0, 1, 2, 3], \"y\": [0.4877777777777779, 0.9177777777777766, 0.9977777777777778, 1.0], \"type\": \"scatter\", \"uid\": \"a97aef70-e285-4ea7-9cad-590b627b505a\"}, {\"hoverinfo\": \"skip\", \"marker\": {\"color\": \"rgb(75.0,200,200)\"}, \"mode\": \"markers\", \"x\": [0, 1, 2, 3], \"y\": [0.5433333333333333, 0.9555555555555553, 0.9988888888888888, 1.0], \"type\": \"scatter\", \"uid\": \"cf6e86a2-6a0f-4103-a58e-8dadeb444b19\"}, {\"hoverinfo\": \"skip\", \"marker\": {\"color\": \"rgb(75.0,200,200)\"}, \"mode\": \"markers\", \"x\": [0, 1, 2], \"y\": [0.5122222222222221, 0.9722222222222223, 1.0], \"type\": \"scatter\", \"uid\": \"a39d5892-5f16-4cc5-abd9-f820b7a60388\"}, {\"hoverinfo\": \"skip\", \"marker\": {\"color\": \"rgb(75.0,200,200)\"}, \"mode\": \"markers\", \"x\": [0, 1, 2, 3], \"y\": [0.5055555555555553, 0.9833333333333332, 0.9977777777777778, 1.0], \"type\": \"scatter\", \"uid\": \"c6ef84be-5689-4787-bdd8-16968fbc801d\"}, {\"hoverinfo\": \"skip\", \"marker\": {\"color\": \"rgb(75.0,200,200)\"}, \"mode\": \"markers\", \"x\": [0, 1, 2, 3], \"y\": [0.508888888888889, 0.9666666666666667, 0.9911111111111112, 1.0], \"type\": \"scatter\", \"uid\": \"8f9d88a8-8e1f-45de-a92e-535db54ad0e5\"}, {\"hoverinfo\": \"skip\", \"marker\": {\"color\": \"rgb(75.0,200,200)\"}, \"mode\": \"markers\", \"x\": [0, 1, 2, 3, 4], \"y\": [0.45222222222222214, 0.8899999999999991, 0.962222222222222, 0.9955555555555555, 1.0], \"type\": \"scatter\", \"uid\": \"7459acea-f671-4a04-836e-c8bd42655e44\"}, {\"hoverinfo\": \"skip\", \"marker\": {\"color\": \"rgb(75.0,200,200)\"}, \"mode\": \"markers\", \"x\": [0, 1, 2, 3, 4], \"y\": [0.49333333333333323, 0.9355555555555548, 0.984444444444444, 0.9977777777777778, 1.0], \"type\": \"scatter\", \"uid\": \"cf2d5d5b-0aaa-474c-b5b7-ae6a5c69029e\"}, {\"hoverinfo\": \"skip\", \"marker\": {\"color\": \"rgb(75.0,200,200)\"}, \"mode\": \"markers\", \"x\": [0, 1, 2, 3], \"y\": [0.5233333333333332, 0.9666666666666665, 0.9955555555555555, 1.0], \"type\": \"scatter\", \"uid\": \"7b750ff8-d9fa-43e6-bbf1-f32712d513f5\"}, {\"hoverinfo\": \"skip\", \"marker\": {\"color\": \"rgb(75.0,200,200)\"}, \"mode\": \"markers\", \"x\": [0, 1, 2, 3, 4], \"y\": [0.4788888888888888, 0.96111111111111, 0.984444444444444, 0.9988888888888888, 1.0], \"type\": \"scatter\", \"uid\": \"1da858eb-1d1d-4dbb-b0e7-c7d751f52ca1\"}, {\"hoverinfo\": \"skip\", \"marker\": {\"color\": \"rgb(75.0,200,200)\"}, \"mode\": \"markers\", \"x\": [0, 1, 2, 3], \"y\": [0.4444444444444445, 0.9233333333333329, 0.9877777777777778, 1.0], \"type\": \"scatter\", \"uid\": \"912ec75a-d152-4cd7-b2bf-94525d9b120f\"}, {\"hoverinfo\": \"skip\", \"marker\": {\"color\": \"rgb(100.0,200,200)\"}, \"mode\": \"markers\", \"x\": [0, 1, 2, 3], \"y\": [0.5522222222222222, 0.9466666666666658, 0.9899999999999998, 1.0], \"type\": \"scatter\", \"uid\": \"89d721f4-0468-45ee-a9e1-843e2998ee15\"}, {\"hoverinfo\": \"skip\", \"marker\": {\"color\": \"rgb(100.0,200,200)\"}, \"mode\": \"markers\", \"x\": [0, 1, 2, 3, 4, 5], \"y\": [0.4666666666666668, 0.8922222222222216, 0.9488888888888889, 0.9722222222222223, 0.9855555555555555, 1.0], \"type\": \"scatter\", \"uid\": \"af45c031-1214-4a9b-ab5d-c2eb4c50e204\"}, {\"hoverinfo\": \"skip\", \"marker\": {\"color\": \"rgb(100.0,200,200)\"}, \"mode\": \"markers\", \"x\": [0, 1, 2, 3], \"y\": [0.5244444444444444, 0.9655555555555553, 0.9977777777777778, 1.0], \"type\": \"scatter\", \"uid\": \"ff4f2c22-6c40-4be5-836c-b71fdfa9b140\"}, {\"hoverinfo\": \"skip\", \"marker\": {\"color\": \"rgb(100.0,200,200)\"}, \"mode\": \"markers\", \"x\": [0, 1, 2, 3], \"y\": [0.5455555555555555, 0.9455555555555553, 0.99, 1.0], \"type\": \"scatter\", \"uid\": \"94f2a4a6-9bf6-443b-a403-e2b1617a0fcf\"}, {\"hoverinfo\": \"skip\", \"marker\": {\"color\": \"rgb(100.0,200,200)\"}, \"mode\": \"markers\", \"x\": [0, 1, 2, 3], \"y\": [0.5100000000000001, 0.966666666666666, 0.9988888888888888, 1.0], \"type\": \"scatter\", \"uid\": \"8a9153cd-44f8-4601-a948-4a177e577070\"}, {\"hoverinfo\": \"skip\", \"marker\": {\"color\": \"rgb(100.0,200,200)\"}, \"mode\": \"markers\", \"x\": [0, 1, 2, 3, 4], \"y\": [0.4977777777777777, 0.951111111111111, 0.9866666666666662, 0.9977777777777778, 1.0], \"type\": \"scatter\", \"uid\": \"3101fdba-8d4c-4fac-a0b1-3a8783b4485b\"}, {\"hoverinfo\": \"skip\", \"marker\": {\"color\": \"rgb(100.0,200,200)\"}, \"mode\": \"markers\", \"x\": [0, 1, 2, 3, 4], \"y\": [0.47777777777777786, 0.9399999999999996, 0.983333333333333, 0.9944444444444442, 1.0], \"type\": \"scatter\", \"uid\": \"d0f9fb10-e936-4d4d-b31a-86d206cbb993\"}, {\"hoverinfo\": \"skip\", \"marker\": {\"color\": \"rgb(100.0,200,200)\"}, \"mode\": \"markers\", \"x\": [0, 1, 2, 3, 4], \"y\": [0.4922222222222222, 0.9222222222222212, 0.9688888888888886, 0.9988888888888888, 1.0], \"type\": \"scatter\", \"uid\": \"87a7f3ac-69e2-4443-b230-d122de8d02a6\"}, {\"hoverinfo\": \"skip\", \"marker\": {\"color\": \"rgb(100.0,200,200)\"}, \"mode\": \"markers\", \"x\": [0, 1, 2, 3], \"y\": [0.5433333333333333, 0.9411111111111105, 0.9988888888888888, 1.0], \"type\": \"scatter\", \"uid\": \"2e79fb1a-0823-47fa-a208-b5028d0d4109\"}, {\"hoverinfo\": \"skip\", \"marker\": {\"color\": \"rgb(100.0,200,200)\"}, \"mode\": \"markers\", \"x\": [0, 1, 2, 3, 4, 5], \"y\": [0.4844444444444443, 0.9433333333333326, 0.9799999999999994, 0.9877777777777774, 0.9988888888888888, 1.0], \"type\": \"scatter\", \"uid\": \"1e17d1be-c1ad-487a-80c8-cac43fcd53ed\"}, {\"hoverinfo\": \"skip\", \"marker\": {\"color\": \"rgb(125.0,200,200)\"}, \"mode\": \"markers\", \"x\": [0, 1, 2, 3, 4, 5], \"y\": [0.4822222222222222, 0.9355555555555548, 0.984444444444444, 0.9933333333333332, 0.9988888888888888, 1.0], \"type\": \"scatter\", \"uid\": \"f28fe14f-86d4-4ebe-868d-04c5d4a5d3fb\"}, {\"hoverinfo\": \"skip\", \"marker\": {\"color\": \"rgb(125.0,200,200)\"}, \"mode\": \"markers\", \"x\": [0, 1, 2, 3, 4], \"y\": [0.45777777777777795, 0.9022222222222216, 0.97, 0.9933333333333334, 1.0], \"type\": \"scatter\", \"uid\": \"54314c39-e034-465d-9f6c-962ffa252584\"}, {\"hoverinfo\": \"skip\", \"marker\": {\"color\": \"rgb(125.0,200,200)\"}, \"mode\": \"markers\", \"x\": [0, 1, 2, 3, 4], \"y\": [0.5133333333333335, 0.9644444444444435, 0.9866666666666662, 0.9988888888888888, 1.0], \"type\": \"scatter\", \"uid\": \"0bd63cb6-83bd-46a2-a8ad-390e03e96fc2\"}, {\"hoverinfo\": \"skip\", \"marker\": {\"color\": \"rgb(125.0,200,200)\"}, \"mode\": \"markers\", \"x\": [0, 1, 2, 3], \"y\": [0.49666666666666665, 0.9288888888888884, 0.9911111111111112, 1.0], \"type\": \"scatter\", \"uid\": \"bf79bca6-73e2-4871-970d-1ff726a5dd3f\"}, {\"hoverinfo\": \"skip\", \"marker\": {\"color\": \"rgb(125.0,200,200)\"}, \"mode\": \"markers\", \"x\": [0, 1, 2, 3], \"y\": [0.5288888888888887, 0.9699999999999999, 0.9911111111111112, 1.0], \"type\": \"scatter\", \"uid\": \"3adc12c9-50d9-4179-be94-378f37b365d2\"}, {\"hoverinfo\": \"skip\", \"marker\": {\"color\": \"rgb(125.0,200,200)\"}, \"mode\": \"markers\", \"x\": [0, 1, 2, 3, 4], \"y\": [0.48333333333333317, 0.9111111111111103, 0.9655555555555553, 0.9944444444444442, 1.0], \"type\": \"scatter\", \"uid\": \"9864096e-1e9e-4d61-b5ec-958641bef8c0\"}, {\"hoverinfo\": \"skip\", \"marker\": {\"color\": \"rgb(125.0,200,200)\"}, \"mode\": \"markers\", \"x\": [0, 1, 2, 3, 4], \"y\": [0.47555555555555573, 0.9366666666666659, 0.9877777777777774, 0.9988888888888888, 1.0], \"type\": \"scatter\", \"uid\": \"8cad7819-2bb4-48d9-adcd-473e6c65e245\"}, {\"hoverinfo\": \"skip\", \"marker\": {\"color\": \"rgb(125.0,200,200)\"}, \"mode\": \"markers\", \"x\": [0, 1, 2, 3, 4], \"y\": [0.49999999999999983, 0.925555555555555, 0.98, 0.9955555555555555, 1.0], \"type\": \"scatter\", \"uid\": \"d4a66fd8-8b48-4d3a-9804-9df05cbe48f5\"}, {\"hoverinfo\": \"skip\", \"marker\": {\"color\": \"rgb(125.0,200,200)\"}, \"mode\": \"markers\", \"x\": [0, 1, 2, 3, 4], \"y\": [0.49111111111111116, 0.9277777777777767, 0.976666666666666, 0.9988888888888888, 1.0], \"type\": \"scatter\", \"uid\": \"842b66af-2370-4649-b8d4-851cd228132e\"}, {\"hoverinfo\": \"skip\", \"marker\": {\"color\": \"rgb(125.0,200,200)\"}, \"mode\": \"markers\", \"x\": [0, 1, 2], \"y\": [0.5055555555555555, 0.9566666666666661, 1.0], \"type\": \"scatter\", \"uid\": \"0e3730f5-22d0-4341-b8e0-0d89aecea07a\"}, {\"hoverinfo\": \"skip\", \"marker\": {\"color\": \"rgb(150.0,200,200)\"}, \"mode\": \"markers\", \"x\": [0, 1, 2, 3, 4, 5, 6], \"y\": [0.47666666666666635, 0.916666666666665, 0.9466666666666653, 0.9666666666666657, 0.9777777777777772, 0.9955555555555554, 1.0], \"type\": \"scatter\", \"uid\": \"3e81171c-a563-4ab0-a3ac-919275e128ac\"}, {\"hoverinfo\": \"skip\", \"marker\": {\"color\": \"rgb(150.0,200,200)\"}, \"mode\": \"markers\", \"x\": [0, 1, 2, 3], \"y\": [0.5199999999999999, 0.9677777777777772, 0.992222222222222, 1.0], \"type\": \"scatter\", \"uid\": \"d583afc1-4349-4727-92a0-6156d7861f37\"}, {\"hoverinfo\": \"skip\", \"marker\": {\"color\": \"rgb(150.0,200,200)\"}, \"mode\": \"markers\", \"x\": [0, 1, 2, 3, 4], \"y\": [0.5044444444444446, 0.9477777777777774, 0.9811111111111106, 0.9899999999999998, 1.0], \"type\": \"scatter\", \"uid\": \"cc4d58f9-b4b2-4c66-b92d-3377afb67f95\"}, {\"hoverinfo\": \"skip\", \"marker\": {\"color\": \"rgb(150.0,200,200)\"}, \"mode\": \"markers\", \"x\": [0, 1, 2, 3], \"y\": [0.4922222222222222, 0.9499999999999993, 0.9944444444444442, 1.0], \"type\": \"scatter\", \"uid\": \"c01f66d1-52c4-4a22-a2e1-e65473381fb4\"}, {\"hoverinfo\": \"skip\", \"marker\": {\"color\": \"rgb(150.0,200,200)\"}, \"mode\": \"markers\", \"x\": [0, 1, 2, 3], \"y\": [0.49222222222222206, 0.9533333333333327, 0.9933333333333332, 1.0], \"type\": \"scatter\", \"uid\": \"7ceba19a-f085-42eb-a72f-9f55d095010a\"}, {\"hoverinfo\": \"skip\", \"marker\": {\"color\": \"rgb(150.0,200,200)\"}, \"mode\": \"markers\", \"x\": [0, 1, 2, 3], \"y\": [0.481111111111111, 0.9266666666666664, 0.9955555555555555, 1.0], \"type\": \"scatter\", \"uid\": \"c06f8d36-801c-4cac-8b3f-2bcceb66b892\"}, {\"hoverinfo\": \"skip\", \"marker\": {\"color\": \"rgb(150.0,200,200)\"}, \"mode\": \"markers\", \"x\": [0, 1, 2, 3, 4], \"y\": [0.4688888888888888, 0.9388888888888886, 0.9766666666666666, 0.9988888888888888, 1.0], \"type\": \"scatter\", \"uid\": \"b884bf1d-3052-4210-8002-7cc09f6ac43d\"}, {\"hoverinfo\": \"skip\", \"marker\": {\"color\": \"rgb(150.0,200,200)\"}, \"mode\": \"markers\", \"x\": [0, 1, 2, 3, 4, 5, 6], \"y\": [0.4755555555555555, 0.9411111111111109, 0.978888888888889, 0.9877777777777779, 0.9933333333333334, 0.9988888888888888, 1.0], \"type\": \"scatter\", \"uid\": \"adfcc204-be06-4ab6-9077-13859a86c69f\"}, {\"hoverinfo\": \"skip\", \"marker\": {\"color\": \"rgb(150.0,200,200)\"}, \"mode\": \"markers\", \"x\": [0, 1, 2, 3, 4, 5], \"y\": [0.4933333333333331, 0.9333333333333325, 0.96111111111111, 0.9888888888888886, 0.9977777777777778, 1.0], \"type\": \"scatter\", \"uid\": \"3501123c-4e6e-43d0-af3d-e4e22ee6411b\"}, {\"hoverinfo\": \"skip\", \"marker\": {\"color\": \"rgb(150.0,200,200)\"}, \"mode\": \"markers\", \"x\": [0, 1, 2, 3, 4], \"y\": [0.45666666666666667, 0.9455555555555548, 0.992222222222222, 0.9988888888888888, 1.0], \"type\": \"scatter\", \"uid\": \"fa2951f7-82a7-4ae1-9bd6-8fc4cd9f20f9\"}, {\"hoverinfo\": \"skip\", \"marker\": {\"color\": \"rgb(175.0,200,200)\"}, \"mode\": \"markers\", \"x\": [0, 1, 2, 3], \"y\": [0.5411111111111111, 0.9377777777777773, 0.9888888888888887, 1.0], \"type\": \"scatter\", \"uid\": \"1e4caea3-1374-419e-9518-ca2299f05664\"}, {\"hoverinfo\": \"skip\", \"marker\": {\"color\": \"rgb(175.0,200,200)\"}, \"mode\": \"markers\", \"x\": [0, 1, 2], \"y\": [0.5044444444444445, 0.954444444444444, 1.0], \"type\": \"scatter\", \"uid\": \"52b3a5a1-9730-41aa-a585-95eda5716509\"}, {\"hoverinfo\": \"skip\", \"marker\": {\"color\": \"rgb(175.0,200,200)\"}, \"mode\": \"markers\", \"x\": [0, 1, 2], \"y\": [0.5322222222222218, 0.9711111111111107, 1.0], \"type\": \"scatter\", \"uid\": \"58a380af-6c6f-4196-8ed1-36b0ea8b4b4f\"}, {\"hoverinfo\": \"skip\", \"marker\": {\"color\": \"rgb(175.0,200,200)\"}, \"mode\": \"markers\", \"x\": [0, 1, 2, 3], \"y\": [0.5266666666666666, 0.9766666666666661, 0.9966666666666666, 1.0], \"type\": \"scatter\", \"uid\": \"63205c1b-6093-4e11-aab0-2da8fed7fbba\"}, {\"hoverinfo\": \"skip\", \"marker\": {\"color\": \"rgb(175.0,200,200)\"}, \"mode\": \"markers\", \"x\": [0, 1, 2, 3, 4], \"y\": [0.4677777777777778, 0.926666666666666, 0.9811111111111107, 0.9955555555555554, 1.0], \"type\": \"scatter\", \"uid\": \"6405b0b1-5c7b-4540-9039-def0cd057ee8\"}, {\"hoverinfo\": \"skip\", \"marker\": {\"color\": \"rgb(175.0,200,200)\"}, \"mode\": \"markers\", \"x\": [0, 1, 2, 3], \"y\": [0.49333333333333335, 0.9588888888888886, 0.9966666666666666, 1.0], \"type\": \"scatter\", \"uid\": \"c7816829-46e8-4ca5-9458-d20b922deed8\"}, {\"hoverinfo\": \"skip\", \"marker\": {\"color\": \"rgb(175.0,200,200)\"}, \"mode\": \"markers\", \"x\": [0, 1, 2], \"y\": [0.4944444444444444, 0.9799999999999999, 1.0], \"type\": \"scatter\", \"uid\": \"e741cf44-f7c8-4c4c-b6ef-560733ac2268\"}, {\"hoverinfo\": \"skip\", \"marker\": {\"color\": \"rgb(175.0,200,200)\"}, \"mode\": \"markers\", \"x\": [0, 1, 2, 3], \"y\": [0.49888888888888894, 0.9722222222222218, 0.9988888888888888, 1.0], \"type\": \"scatter\", \"uid\": \"6a3c018e-c75b-43e9-abd1-befefb3109ad\"}, {\"hoverinfo\": \"skip\", \"marker\": {\"color\": \"rgb(175.0,200,200)\"}, \"mode\": \"markers\", \"x\": [0, 1, 2, 3, 4], \"y\": [0.4288888888888891, 0.9444444444444435, 0.9911111111111108, 0.9988888888888888, 1.0], \"type\": \"scatter\", \"uid\": \"e2a16b39-4cc5-4c09-a3c8-e2205b8f54a6\"}, {\"hoverinfo\": \"skip\", \"marker\": {\"color\": \"rgb(175.0,200,200)\"}, \"mode\": \"markers\", \"x\": [0, 1, 2, 3], \"y\": [0.52, 0.9466666666666658, 0.992222222222222, 1.0], \"type\": \"scatter\", \"uid\": \"0083bc10-60bc-4bbb-8f81-1b9bf189bbf2\"}, {\"hoverinfo\": \"skip\", \"marker\": {\"color\": \"rgb(200.0,200,200)\"}, \"mode\": \"markers\", \"x\": [0, 1, 2, 3, 4, 5, 6], \"y\": [0.45666666666666655, 0.8911111111111109, 0.9511111111111107, 0.971111111111111, 0.9844444444444442, 0.9966666666666666, 1.0], \"type\": \"scatter\", \"uid\": \"81fccc3d-7cd3-4b04-9cf4-d8e4fe71b7b8\"}, {\"hoverinfo\": \"skip\", \"marker\": {\"color\": \"rgb(200.0,200,200)\"}, \"mode\": \"markers\", \"x\": [0, 1, 2, 3], \"y\": [0.5000000000000001, 0.9255555555555556, 0.9866666666666667, 1.0], \"type\": \"scatter\", \"uid\": \"c8e518f6-a1dd-4ac5-b01e-5c6dada0d1b5\"}, {\"hoverinfo\": \"skip\", \"marker\": {\"color\": \"rgb(200.0,200,200)\"}, \"mode\": \"markers\", \"x\": [0, 1, 2, 3, 4], \"y\": [0.5199999999999999, 0.9533333333333328, 0.9822222222222223, 0.9933333333333334, 1.0], \"type\": \"scatter\", \"uid\": \"5391c687-a65c-41de-811d-b50041701a02\"}, {\"hoverinfo\": \"skip\", \"marker\": {\"color\": \"rgb(200.0,200,200)\"}, \"mode\": \"markers\", \"x\": [0, 1, 2, 3, 4], \"y\": [0.5088888888888887, 0.9377777777777776, 0.9888888888888886, 0.9988888888888888, 1.0], \"type\": \"scatter\", \"uid\": \"2e36336a-09ef-4ccb-af7e-10f814d98b82\"}, {\"hoverinfo\": \"skip\", \"marker\": {\"color\": \"rgb(200.0,200,200)\"}, \"mode\": \"markers\", \"x\": [0, 1, 2, 3], \"y\": [0.5222222222222219, 0.9266666666666663, 0.9888888888888888, 1.0], \"type\": \"scatter\", \"uid\": \"c51f43f9-64a7-43bc-84dc-eaf06f66cfd0\"}, {\"hoverinfo\": \"skip\", \"marker\": {\"color\": \"rgb(200.0,200,200)\"}, \"mode\": \"markers\", \"x\": [0, 1, 2, 3], \"y\": [0.49111111111111105, 0.9444444444444438, 0.9877777777777774, 1.0], \"type\": \"scatter\", \"uid\": \"69d4772e-7585-48de-b3d3-3799c7515542\"}, {\"hoverinfo\": \"skip\", \"marker\": {\"color\": \"rgb(200.0,200,200)\"}, \"mode\": \"markers\", \"x\": [0, 1, 2, 3], \"y\": [0.48111111111111116, 0.9488888888888881, 0.992222222222222, 1.0], \"type\": \"scatter\", \"uid\": \"d1de7515-00a2-4366-b1f1-cb9e585cf57a\"}, {\"hoverinfo\": \"skip\", \"marker\": {\"color\": \"rgb(200.0,200,200)\"}, \"mode\": \"markers\", \"x\": [0, 1, 2, 3, 4, 5, 6, 7], \"y\": [0.45777777777777795, 0.8933333333333333, 0.9511111111111111, 0.9744444444444444, 0.9877777777777779, 0.9933333333333334, 0.9988888888888888, 1.0], \"type\": \"scatter\", \"uid\": \"f55f0d4b-e9fd-4e10-bc4b-f27afb886b3c\"}, {\"hoverinfo\": \"skip\", \"marker\": {\"color\": \"rgb(200.0,200,200)\"}, \"mode\": \"markers\", \"x\": [0, 1, 2, 3, 4], \"y\": [0.5466666666666666, 0.9400000000000002, 0.9844444444444446, 0.9988888888888888, 1.0], \"type\": \"scatter\", \"uid\": \"2db7d771-f58d-4449-a7ff-db480043ef86\"}, {\"hoverinfo\": \"skip\", \"marker\": {\"color\": \"rgb(200.0,200,200)\"}, \"mode\": \"markers\", \"x\": [0, 1, 2, 3], \"y\": [0.44888888888888895, 0.9255555555555549, 0.9899999999999998, 1.0], \"type\": \"scatter\", \"uid\": \"111d56f0-4106-4820-9b5f-1cb3435118bc\"}, {\"hoverinfo\": \"skip\", \"marker\": {\"color\": \"rgb(225.0,200,200)\"}, \"mode\": \"markers\", \"x\": [0, 1, 2, 3], \"y\": [0.5433333333333334, 0.9688888888888886, 0.9966666666666666, 1.0], \"type\": \"scatter\", \"uid\": \"2599dc6c-7b79-44fe-8f1a-549e58c89bce\"}, {\"hoverinfo\": \"skip\", \"marker\": {\"color\": \"rgb(225.0,200,200)\"}, \"mode\": \"markers\", \"x\": [0, 1, 2, 3], \"y\": [0.5277777777777779, 0.9511111111111102, 0.9944444444444442, 1.0], \"type\": \"scatter\", \"uid\": \"ce560427-5d65-42cf-8130-99a87884e3fb\"}, {\"hoverinfo\": \"skip\", \"marker\": {\"color\": \"rgb(225.0,200,200)\"}, \"mode\": \"markers\", \"x\": [0, 1, 2], \"y\": [0.4866666666666667, 0.9477777777777777, 1.0], \"type\": \"scatter\", \"uid\": \"05e234ea-a385-4573-8efb-b176ea55f6b3\"}, {\"hoverinfo\": \"skip\", \"marker\": {\"color\": \"rgb(225.0,200,200)\"}, \"mode\": \"markers\", \"x\": [0, 1, 2, 3, 4], \"y\": [0.501111111111111, 0.9522222222222222, 0.9811111111111112, 0.9933333333333334, 1.0], \"type\": \"scatter\", \"uid\": \"1df5c063-ec2e-4817-8b0d-a03f07d2e297\"}, {\"hoverinfo\": \"skip\", \"marker\": {\"color\": \"rgb(225.0,200,200)\"}, \"mode\": \"markers\", \"x\": [0, 1, 2, 3, 4, 5], \"y\": [0.4611111111111113, 0.9477777777777774, 0.972222222222222, 0.9822222222222223, 0.9944444444444445, 1.0], \"type\": \"scatter\", \"uid\": \"a83108d6-cd05-498c-91bd-c0369d483539\"}, {\"hoverinfo\": \"skip\", \"marker\": {\"color\": \"rgb(225.0,200,200)\"}, \"mode\": \"markers\", \"x\": [0, 1, 2, 3], \"y\": [0.5011111111111108, 0.9544444444444441, 0.9988888888888888, 1.0], \"type\": \"scatter\", \"uid\": \"7913f212-465a-4366-8b4c-bc63b1923b36\"}, {\"hoverinfo\": \"skip\", \"marker\": {\"color\": \"rgb(225.0,200,200)\"}, \"mode\": \"markers\", \"x\": [0, 1, 2, 3], \"y\": [0.5088888888888888, 0.9788888888888887, 0.9966666666666666, 1.0], \"type\": \"scatter\", \"uid\": \"95ae0f57-0153-4187-9966-d5244cae4e07\"}, {\"hoverinfo\": \"skip\", \"marker\": {\"color\": \"rgb(225.0,200,200)\"}, \"mode\": \"markers\", \"x\": [0, 1, 2, 3, 4, 5], \"y\": [0.5266666666666664, 0.9388888888888883, 0.9799999999999994, 0.9888888888888886, 0.9977777777777778, 1.0], \"type\": \"scatter\", \"uid\": \"b9b4d3cc-758f-417e-a6de-f2ed9d3e96ae\"}, {\"hoverinfo\": \"skip\", \"marker\": {\"color\": \"rgb(225.0,200,200)\"}, \"mode\": \"markers\", \"x\": [0, 1, 2, 3], \"y\": [0.5155555555555554, 0.9544444444444443, 0.9966666666666666, 1.0], \"type\": \"scatter\", \"uid\": \"296520c7-4338-47c4-a15f-e1450c9b56c8\"}, {\"hoverinfo\": \"skip\", \"marker\": {\"color\": \"rgb(225.0,200,200)\"}, \"mode\": \"markers\", \"x\": [0, 1, 2, 3, 4], \"y\": [0.5033333333333334, 0.9511111111111102, 0.9944444444444442, 0.9988888888888888, 1.0], \"type\": \"scatter\", \"uid\": \"3236e5ec-27fe-4260-bdc0-4145abed903d\"}], {\"showlegend\": false, \"title\": {\"text\": \"Percent social optimal vs Iteration num (Sequential Update)\"}}, {\"showLink\": false, \"linkText\": \"Export to plot.ly\", \"plotlyServerURL\": \"https://plot.ly\"}); \n",
       "}\n",
       "});</script><script type=\"text/javascript\">window.addEventListener(\"resize\", function(){if (document.getElementById(\"84a54342-704b-4ae9-84b8-c4f54cd5ee5d\")) {window._Plotly.Plots.resize(document.getElementById(\"84a54342-704b-4ae9-84b8-c4f54cd5ee5d\"));};})</script>"
      ],
      "text/vnd.plotly.v1+html": [
       "<div id=\"84a54342-704b-4ae9-84b8-c4f54cd5ee5d\" style=\"height: 525px; width: 100%;\" class=\"plotly-graph-div\"></div><script type=\"text/javascript\">require([\"plotly\"], function(Plotly) { window.PLOTLYENV=window.PLOTLYENV || {};window.PLOTLYENV.BASE_URL=\"https://plot.ly\";\n",
       "if (document.getElementById(\"84a54342-704b-4ae9-84b8-c4f54cd5ee5d\")) {\n",
       "    Plotly.newPlot(\"84a54342-704b-4ae9-84b8-c4f54cd5ee5d\", [{\"hoverinfo\": \"skip\", \"marker\": {\"color\": \"rgb(0.0,200,200)\"}, \"mode\": \"markers\", \"x\": [0, 1, 2, 3], \"y\": [0.5022222222222221, 0.95, 0.9977777777777778, 1.0], \"type\": \"scatter\", \"uid\": \"4e47fb75-ac3d-46f5-b583-9dba8f172df8\"}, {\"hoverinfo\": \"skip\", \"marker\": {\"color\": \"rgb(0.0,200,200)\"}, \"mode\": \"markers\", \"x\": [0, 1, 2, 3], \"y\": [0.518888888888889, 0.9522222222222217, 0.9933333333333333, 1.0], \"type\": \"scatter\", \"uid\": \"d10352d5-8fcc-4fad-98ee-9e4ce574d9c5\"}, {\"hoverinfo\": \"skip\", \"marker\": {\"color\": \"rgb(0.0,200,200)\"}, \"mode\": \"markers\", \"x\": [0, 1, 2, 3, 4], \"y\": [0.5244444444444445, 0.9299999999999997, 0.983333333333333, 0.9933333333333332, 1.0], \"type\": \"scatter\", \"uid\": \"759aa483-5d0e-44b0-99a9-789dc1dd5804\"}, {\"hoverinfo\": \"skip\", \"marker\": {\"color\": \"rgb(0.0,200,200)\"}, \"mode\": \"markers\", \"x\": [0, 1, 2, 3], \"y\": [0.47555555555555534, 0.9488888888888886, 0.9944444444444445, 1.0], \"type\": \"scatter\", \"uid\": \"76b0c410-96ba-4a6b-bb2d-d866b82ebd69\"}, {\"hoverinfo\": \"skip\", \"marker\": {\"color\": \"rgb(0.0,200,200)\"}, \"mode\": \"markers\", \"x\": [0, 1, 2, 3], \"y\": [0.5499999999999999, 0.9522222222222217, 0.992222222222222, 1.0], \"type\": \"scatter\", \"uid\": \"f825384f-7b57-487a-8d85-43da501cfd94\"}, {\"hoverinfo\": \"skip\", \"marker\": {\"color\": \"rgb(0.0,200,200)\"}, \"mode\": \"markers\", \"x\": [0, 1, 2, 3, 4, 5], \"y\": [0.44999999999999984, 0.8699999999999994, 0.9588888888888886, 0.9899999999999998, 0.9988888888888888, 1.0], \"type\": \"scatter\", \"uid\": \"3bfa4df4-ec6f-4ab1-a0de-5cec023df2fc\"}, {\"hoverinfo\": \"skip\", \"marker\": {\"color\": \"rgb(0.0,200,200)\"}, \"mode\": \"markers\", \"x\": [0, 1, 2, 3], \"y\": [0.5255555555555553, 0.9511111111111109, 0.9977777777777778, 1.0], \"type\": \"scatter\", \"uid\": \"84b16fe9-2524-4ffd-804c-cf32fec076ce\"}, {\"hoverinfo\": \"skip\", \"marker\": {\"color\": \"rgb(0.0,200,200)\"}, \"mode\": \"markers\", \"x\": [0, 1, 2, 3, 4, 5], \"y\": [0.4722222222222222, 0.904444444444444, 0.9733333333333326, 0.9811111111111106, 0.9977777777777778, 1.0], \"type\": \"scatter\", \"uid\": \"f8519736-ce1c-477e-8b83-2d43840dde0d\"}, {\"hoverinfo\": \"skip\", \"marker\": {\"color\": \"rgb(0.0,200,200)\"}, \"mode\": \"markers\", \"x\": [0, 1, 2, 3], \"y\": [0.5311111111111111, 0.9733333333333332, 0.9955555555555555, 1.0], \"type\": \"scatter\", \"uid\": \"8e2a8d54-e0b7-42bb-84e9-f8d6be3f23fc\"}, {\"hoverinfo\": \"skip\", \"marker\": {\"color\": \"rgb(0.0,200,200)\"}, \"mode\": \"markers\", \"x\": [0, 1, 2, 3], \"y\": [0.4733333333333334, 0.9144444444444433, 0.976666666666666, 1.0], \"type\": \"scatter\", \"uid\": \"12a7ebd4-4b92-4170-9034-0abd74985f6c\"}, {\"hoverinfo\": \"skip\", \"marker\": {\"color\": \"rgb(25.0,200,200)\"}, \"mode\": \"markers\", \"x\": [0, 1, 2, 3, 4], \"y\": [0.4755555555555555, 0.9455555555555555, 0.9833333333333334, 0.9911111111111112, 1.0], \"type\": \"scatter\", \"uid\": \"e2713d86-d0d3-4e79-996e-334cd01548f1\"}, {\"hoverinfo\": \"skip\", \"marker\": {\"color\": \"rgb(25.0,200,200)\"}, \"mode\": \"markers\", \"x\": [0, 1, 2, 3], \"y\": [0.46333333333333343, 0.924444444444444, 0.992222222222222, 1.0], \"type\": \"scatter\", \"uid\": \"b4127855-c4f9-447f-b124-697d7667567f\"}, {\"hoverinfo\": \"skip\", \"marker\": {\"color\": \"rgb(25.0,200,200)\"}, \"mode\": \"markers\", \"x\": [0, 1, 2, 3], \"y\": [0.5444444444444444, 0.9611111111111106, 0.9988888888888888, 1.0], \"type\": \"scatter\", \"uid\": \"14b14f99-89cc-47c9-ad14-7d69f9c736ed\"}, {\"hoverinfo\": \"skip\", \"marker\": {\"color\": \"rgb(25.0,200,200)\"}, \"mode\": \"markers\", \"x\": [0, 1, 2], \"y\": [0.5477777777777776, 0.9622222222222221, 1.0], \"type\": \"scatter\", \"uid\": \"bc139704-7a95-4af9-8528-425f60fff94d\"}, {\"hoverinfo\": \"skip\", \"marker\": {\"color\": \"rgb(25.0,200,200)\"}, \"mode\": \"markers\", \"x\": [0, 1, 2, 3], \"y\": [0.47999999999999987, 0.9366666666666665, 0.9955555555555555, 1.0], \"type\": \"scatter\", \"uid\": \"c12bac0c-b04a-4b5d-890f-ab1cb2b0a723\"}, {\"hoverinfo\": \"skip\", \"marker\": {\"color\": \"rgb(25.0,200,200)\"}, \"mode\": \"markers\", \"x\": [0, 1, 2, 3, 4, 5], \"y\": [0.47777777777777786, 0.8944444444444435, 0.9511111111111106, 0.9699999999999995, 0.9922222222222223, 1.0], \"type\": \"scatter\", \"uid\": \"b893acc6-26d9-42c8-be6b-64e6124ee9b2\"}, {\"hoverinfo\": \"skip\", \"marker\": {\"color\": \"rgb(25.0,200,200)\"}, \"mode\": \"markers\", \"x\": [0, 1, 2, 3], \"y\": [0.5466666666666665, 0.9499999999999997, 0.9977777777777778, 1.0], \"type\": \"scatter\", \"uid\": \"ba9445ee-5b18-4b5c-9d2e-df4c73b9bd86\"}, {\"hoverinfo\": \"skip\", \"marker\": {\"color\": \"rgb(25.0,200,200)\"}, \"mode\": \"markers\", \"x\": [0, 1, 2, 3, 4], \"y\": [0.4177777777777776, 0.9011111111111112, 0.9688888888888889, 0.9888888888888888, 1.0], \"type\": \"scatter\", \"uid\": \"2223c5b8-66df-4719-aed0-e72141518c53\"}, {\"hoverinfo\": \"skip\", \"marker\": {\"color\": \"rgb(25.0,200,200)\"}, \"mode\": \"markers\", \"x\": [0, 1, 2, 3, 4, 5], \"y\": [0.4600000000000001, 0.9033333333333324, 0.9711111111111103, 0.9777777777777772, 0.9933333333333332, 1.0], \"type\": \"scatter\", \"uid\": \"9adab029-4156-46bc-b426-43892857d0a3\"}, {\"hoverinfo\": \"skip\", \"marker\": {\"color\": \"rgb(25.0,200,200)\"}, \"mode\": \"markers\", \"x\": [0, 1, 2, 3], \"y\": [0.4966666666666668, 0.942222222222221, 0.9877777777777774, 1.0], \"type\": \"scatter\", \"uid\": \"15fd7c2a-b297-41b5-b304-583381bcc196\"}, {\"hoverinfo\": \"skip\", \"marker\": {\"color\": \"rgb(50.0,200,200)\"}, \"mode\": \"markers\", \"x\": [0, 1, 2, 3], \"y\": [0.4866666666666666, 0.9444444444444435, 0.9988888888888888, 1.0], \"type\": \"scatter\", \"uid\": \"d19e7290-3e5a-4c6a-860c-f746bcf18fc2\"}, {\"hoverinfo\": \"skip\", \"marker\": {\"color\": \"rgb(50.0,200,200)\"}, \"mode\": \"markers\", \"x\": [0, 1, 2], \"y\": [0.5077777777777778, 0.9577777777777777, 1.0], \"type\": \"scatter\", \"uid\": \"6721f1c4-7783-480a-86a5-54e0b6684dd5\"}, {\"hoverinfo\": \"skip\", \"marker\": {\"color\": \"rgb(50.0,200,200)\"}, \"mode\": \"markers\", \"x\": [0, 1, 2], \"y\": [0.5244444444444446, 0.9899999999999998, 1.0], \"type\": \"scatter\", \"uid\": \"2ae8964d-f954-4098-95b6-b4b73dfe8be1\"}, {\"hoverinfo\": \"skip\", \"marker\": {\"color\": \"rgb(50.0,200,200)\"}, \"mode\": \"markers\", \"x\": [0, 1, 2, 3, 4], \"y\": [0.47111111111111115, 0.938888888888888, 0.9766666666666662, 0.9977777777777778, 1.0], \"type\": \"scatter\", \"uid\": \"11afcd4f-c423-4563-b98c-432ca49f127e\"}, {\"hoverinfo\": \"skip\", \"marker\": {\"color\": \"rgb(50.0,200,200)\"}, \"mode\": \"markers\", \"x\": [0, 1, 2, 3, 4, 5], \"y\": [0.46111111111111086, 0.9277777777777768, 0.974444444444444, 0.9866666666666666, 0.9966666666666666, 1.0], \"type\": \"scatter\", \"uid\": \"d7494bd0-5735-4bd4-a490-42d83d1ed187\"}, {\"hoverinfo\": \"skip\", \"marker\": {\"color\": \"rgb(50.0,200,200)\"}, \"mode\": \"markers\", \"x\": [0, 1, 2, 3], \"y\": [0.49111111111111083, 0.9455555555555548, 0.9977777777777778, 1.0], \"type\": \"scatter\", \"uid\": \"64cb8ddb-db1e-431e-9e0a-6a8723a12eec\"}, {\"hoverinfo\": \"skip\", \"marker\": {\"color\": \"rgb(50.0,200,200)\"}, \"mode\": \"markers\", \"x\": [0, 1, 2, 3, 4], \"y\": [0.5433333333333334, 0.946666666666666, 0.9766666666666662, 0.99, 1.0], \"type\": \"scatter\", \"uid\": \"7684f2c2-6440-483a-9cf0-41fa7348f074\"}, {\"hoverinfo\": \"skip\", \"marker\": {\"color\": \"rgb(50.0,200,200)\"}, \"mode\": \"markers\", \"x\": [0, 1, 2, 3, 4], \"y\": [0.49666666666666665, 0.9411111111111106, 0.9788888888888883, 0.9944444444444442, 1.0], \"type\": \"scatter\", \"uid\": \"281bf69f-ef04-41cb-8818-d8e71cc13a8c\"}, {\"hoverinfo\": \"skip\", \"marker\": {\"color\": \"rgb(50.0,200,200)\"}, \"mode\": \"markers\", \"x\": [0, 1, 2, 3, 4, 5], \"y\": [0.4522222222222221, 0.9344444444444439, 0.9755555555555552, 0.9877777777777778, 0.9988888888888888, 1.0], \"type\": \"scatter\", \"uid\": \"d3fdd61f-2e3d-49dc-aad4-fcf912877c03\"}, {\"hoverinfo\": \"skip\", \"marker\": {\"color\": \"rgb(50.0,200,200)\"}, \"mode\": \"markers\", \"x\": [0, 1, 2, 3, 4, 5], \"y\": [0.4822222222222223, 0.9166666666666664, 0.98, 0.9933333333333334, 0.9977777777777778, 1.0], \"type\": \"scatter\", \"uid\": \"043454e3-b169-4826-a43b-cad36aa6ed7a\"}, {\"hoverinfo\": \"skip\", \"marker\": {\"color\": \"rgb(75.0,200,200)\"}, \"mode\": \"markers\", \"x\": [0, 1, 2, 3], \"y\": [0.4877777777777779, 0.9177777777777766, 0.9977777777777778, 1.0], \"type\": \"scatter\", \"uid\": \"a97aef70-e285-4ea7-9cad-590b627b505a\"}, {\"hoverinfo\": \"skip\", \"marker\": {\"color\": \"rgb(75.0,200,200)\"}, \"mode\": \"markers\", \"x\": [0, 1, 2, 3], \"y\": [0.5433333333333333, 0.9555555555555553, 0.9988888888888888, 1.0], \"type\": \"scatter\", \"uid\": \"cf6e86a2-6a0f-4103-a58e-8dadeb444b19\"}, {\"hoverinfo\": \"skip\", \"marker\": {\"color\": \"rgb(75.0,200,200)\"}, \"mode\": \"markers\", \"x\": [0, 1, 2], \"y\": [0.5122222222222221, 0.9722222222222223, 1.0], \"type\": \"scatter\", \"uid\": \"a39d5892-5f16-4cc5-abd9-f820b7a60388\"}, {\"hoverinfo\": \"skip\", \"marker\": {\"color\": \"rgb(75.0,200,200)\"}, \"mode\": \"markers\", \"x\": [0, 1, 2, 3], \"y\": [0.5055555555555553, 0.9833333333333332, 0.9977777777777778, 1.0], \"type\": \"scatter\", \"uid\": \"c6ef84be-5689-4787-bdd8-16968fbc801d\"}, {\"hoverinfo\": \"skip\", \"marker\": {\"color\": \"rgb(75.0,200,200)\"}, \"mode\": \"markers\", \"x\": [0, 1, 2, 3], \"y\": [0.508888888888889, 0.9666666666666667, 0.9911111111111112, 1.0], \"type\": \"scatter\", \"uid\": \"8f9d88a8-8e1f-45de-a92e-535db54ad0e5\"}, {\"hoverinfo\": \"skip\", \"marker\": {\"color\": \"rgb(75.0,200,200)\"}, \"mode\": \"markers\", \"x\": [0, 1, 2, 3, 4], \"y\": [0.45222222222222214, 0.8899999999999991, 0.962222222222222, 0.9955555555555555, 1.0], \"type\": \"scatter\", \"uid\": \"7459acea-f671-4a04-836e-c8bd42655e44\"}, {\"hoverinfo\": \"skip\", \"marker\": {\"color\": \"rgb(75.0,200,200)\"}, \"mode\": \"markers\", \"x\": [0, 1, 2, 3, 4], \"y\": [0.49333333333333323, 0.9355555555555548, 0.984444444444444, 0.9977777777777778, 1.0], \"type\": \"scatter\", \"uid\": \"cf2d5d5b-0aaa-474c-b5b7-ae6a5c69029e\"}, {\"hoverinfo\": \"skip\", \"marker\": {\"color\": \"rgb(75.0,200,200)\"}, \"mode\": \"markers\", \"x\": [0, 1, 2, 3], \"y\": [0.5233333333333332, 0.9666666666666665, 0.9955555555555555, 1.0], \"type\": \"scatter\", \"uid\": \"7b750ff8-d9fa-43e6-bbf1-f32712d513f5\"}, {\"hoverinfo\": \"skip\", \"marker\": {\"color\": \"rgb(75.0,200,200)\"}, \"mode\": \"markers\", \"x\": [0, 1, 2, 3, 4], \"y\": [0.4788888888888888, 0.96111111111111, 0.984444444444444, 0.9988888888888888, 1.0], \"type\": \"scatter\", \"uid\": \"1da858eb-1d1d-4dbb-b0e7-c7d751f52ca1\"}, {\"hoverinfo\": \"skip\", \"marker\": {\"color\": \"rgb(75.0,200,200)\"}, \"mode\": \"markers\", \"x\": [0, 1, 2, 3], \"y\": [0.4444444444444445, 0.9233333333333329, 0.9877777777777778, 1.0], \"type\": \"scatter\", \"uid\": \"912ec75a-d152-4cd7-b2bf-94525d9b120f\"}, {\"hoverinfo\": \"skip\", \"marker\": {\"color\": \"rgb(100.0,200,200)\"}, \"mode\": \"markers\", \"x\": [0, 1, 2, 3], \"y\": [0.5522222222222222, 0.9466666666666658, 0.9899999999999998, 1.0], \"type\": \"scatter\", \"uid\": \"89d721f4-0468-45ee-a9e1-843e2998ee15\"}, {\"hoverinfo\": \"skip\", \"marker\": {\"color\": \"rgb(100.0,200,200)\"}, \"mode\": \"markers\", \"x\": [0, 1, 2, 3, 4, 5], \"y\": [0.4666666666666668, 0.8922222222222216, 0.9488888888888889, 0.9722222222222223, 0.9855555555555555, 1.0], \"type\": \"scatter\", \"uid\": \"af45c031-1214-4a9b-ab5d-c2eb4c50e204\"}, {\"hoverinfo\": \"skip\", \"marker\": {\"color\": \"rgb(100.0,200,200)\"}, \"mode\": \"markers\", \"x\": [0, 1, 2, 3], \"y\": [0.5244444444444444, 0.9655555555555553, 0.9977777777777778, 1.0], \"type\": \"scatter\", \"uid\": \"ff4f2c22-6c40-4be5-836c-b71fdfa9b140\"}, {\"hoverinfo\": \"skip\", \"marker\": {\"color\": \"rgb(100.0,200,200)\"}, \"mode\": \"markers\", \"x\": [0, 1, 2, 3], \"y\": [0.5455555555555555, 0.9455555555555553, 0.99, 1.0], \"type\": \"scatter\", \"uid\": \"94f2a4a6-9bf6-443b-a403-e2b1617a0fcf\"}, {\"hoverinfo\": \"skip\", \"marker\": {\"color\": \"rgb(100.0,200,200)\"}, \"mode\": \"markers\", \"x\": [0, 1, 2, 3], \"y\": [0.5100000000000001, 0.966666666666666, 0.9988888888888888, 1.0], \"type\": \"scatter\", \"uid\": \"8a9153cd-44f8-4601-a948-4a177e577070\"}, {\"hoverinfo\": \"skip\", \"marker\": {\"color\": \"rgb(100.0,200,200)\"}, \"mode\": \"markers\", \"x\": [0, 1, 2, 3, 4], \"y\": [0.4977777777777777, 0.951111111111111, 0.9866666666666662, 0.9977777777777778, 1.0], \"type\": \"scatter\", \"uid\": \"3101fdba-8d4c-4fac-a0b1-3a8783b4485b\"}, {\"hoverinfo\": \"skip\", \"marker\": {\"color\": \"rgb(100.0,200,200)\"}, \"mode\": \"markers\", \"x\": [0, 1, 2, 3, 4], \"y\": [0.47777777777777786, 0.9399999999999996, 0.983333333333333, 0.9944444444444442, 1.0], \"type\": \"scatter\", \"uid\": \"d0f9fb10-e936-4d4d-b31a-86d206cbb993\"}, {\"hoverinfo\": \"skip\", \"marker\": {\"color\": \"rgb(100.0,200,200)\"}, \"mode\": \"markers\", \"x\": [0, 1, 2, 3, 4], \"y\": [0.4922222222222222, 0.9222222222222212, 0.9688888888888886, 0.9988888888888888, 1.0], \"type\": \"scatter\", \"uid\": \"87a7f3ac-69e2-4443-b230-d122de8d02a6\"}, {\"hoverinfo\": \"skip\", \"marker\": {\"color\": \"rgb(100.0,200,200)\"}, \"mode\": \"markers\", \"x\": [0, 1, 2, 3], \"y\": [0.5433333333333333, 0.9411111111111105, 0.9988888888888888, 1.0], \"type\": \"scatter\", \"uid\": \"2e79fb1a-0823-47fa-a208-b5028d0d4109\"}, {\"hoverinfo\": \"skip\", \"marker\": {\"color\": \"rgb(100.0,200,200)\"}, \"mode\": \"markers\", \"x\": [0, 1, 2, 3, 4, 5], \"y\": [0.4844444444444443, 0.9433333333333326, 0.9799999999999994, 0.9877777777777774, 0.9988888888888888, 1.0], \"type\": \"scatter\", \"uid\": \"1e17d1be-c1ad-487a-80c8-cac43fcd53ed\"}, {\"hoverinfo\": \"skip\", \"marker\": {\"color\": \"rgb(125.0,200,200)\"}, \"mode\": \"markers\", \"x\": [0, 1, 2, 3, 4, 5], \"y\": [0.4822222222222222, 0.9355555555555548, 0.984444444444444, 0.9933333333333332, 0.9988888888888888, 1.0], \"type\": \"scatter\", \"uid\": \"f28fe14f-86d4-4ebe-868d-04c5d4a5d3fb\"}, {\"hoverinfo\": \"skip\", \"marker\": {\"color\": \"rgb(125.0,200,200)\"}, \"mode\": \"markers\", \"x\": [0, 1, 2, 3, 4], \"y\": [0.45777777777777795, 0.9022222222222216, 0.97, 0.9933333333333334, 1.0], \"type\": \"scatter\", \"uid\": \"54314c39-e034-465d-9f6c-962ffa252584\"}, {\"hoverinfo\": \"skip\", \"marker\": {\"color\": \"rgb(125.0,200,200)\"}, \"mode\": \"markers\", \"x\": [0, 1, 2, 3, 4], \"y\": [0.5133333333333335, 0.9644444444444435, 0.9866666666666662, 0.9988888888888888, 1.0], \"type\": \"scatter\", \"uid\": \"0bd63cb6-83bd-46a2-a8ad-390e03e96fc2\"}, {\"hoverinfo\": \"skip\", \"marker\": {\"color\": \"rgb(125.0,200,200)\"}, \"mode\": \"markers\", \"x\": [0, 1, 2, 3], \"y\": [0.49666666666666665, 0.9288888888888884, 0.9911111111111112, 1.0], \"type\": \"scatter\", \"uid\": \"bf79bca6-73e2-4871-970d-1ff726a5dd3f\"}, {\"hoverinfo\": \"skip\", \"marker\": {\"color\": \"rgb(125.0,200,200)\"}, \"mode\": \"markers\", \"x\": [0, 1, 2, 3], \"y\": [0.5288888888888887, 0.9699999999999999, 0.9911111111111112, 1.0], \"type\": \"scatter\", \"uid\": \"3adc12c9-50d9-4179-be94-378f37b365d2\"}, {\"hoverinfo\": \"skip\", \"marker\": {\"color\": \"rgb(125.0,200,200)\"}, \"mode\": \"markers\", \"x\": [0, 1, 2, 3, 4], \"y\": [0.48333333333333317, 0.9111111111111103, 0.9655555555555553, 0.9944444444444442, 1.0], \"type\": \"scatter\", \"uid\": \"9864096e-1e9e-4d61-b5ec-958641bef8c0\"}, {\"hoverinfo\": \"skip\", \"marker\": {\"color\": \"rgb(125.0,200,200)\"}, \"mode\": \"markers\", \"x\": [0, 1, 2, 3, 4], \"y\": [0.47555555555555573, 0.9366666666666659, 0.9877777777777774, 0.9988888888888888, 1.0], \"type\": \"scatter\", \"uid\": \"8cad7819-2bb4-48d9-adcd-473e6c65e245\"}, {\"hoverinfo\": \"skip\", \"marker\": {\"color\": \"rgb(125.0,200,200)\"}, \"mode\": \"markers\", \"x\": [0, 1, 2, 3, 4], \"y\": [0.49999999999999983, 0.925555555555555, 0.98, 0.9955555555555555, 1.0], \"type\": \"scatter\", \"uid\": \"d4a66fd8-8b48-4d3a-9804-9df05cbe48f5\"}, {\"hoverinfo\": \"skip\", \"marker\": {\"color\": \"rgb(125.0,200,200)\"}, \"mode\": \"markers\", \"x\": [0, 1, 2, 3, 4], \"y\": [0.49111111111111116, 0.9277777777777767, 0.976666666666666, 0.9988888888888888, 1.0], \"type\": \"scatter\", \"uid\": \"842b66af-2370-4649-b8d4-851cd228132e\"}, {\"hoverinfo\": \"skip\", \"marker\": {\"color\": \"rgb(125.0,200,200)\"}, \"mode\": \"markers\", \"x\": [0, 1, 2], \"y\": [0.5055555555555555, 0.9566666666666661, 1.0], \"type\": \"scatter\", \"uid\": \"0e3730f5-22d0-4341-b8e0-0d89aecea07a\"}, {\"hoverinfo\": \"skip\", \"marker\": {\"color\": \"rgb(150.0,200,200)\"}, \"mode\": \"markers\", \"x\": [0, 1, 2, 3, 4, 5, 6], \"y\": [0.47666666666666635, 0.916666666666665, 0.9466666666666653, 0.9666666666666657, 0.9777777777777772, 0.9955555555555554, 1.0], \"type\": \"scatter\", \"uid\": \"3e81171c-a563-4ab0-a3ac-919275e128ac\"}, {\"hoverinfo\": \"skip\", \"marker\": {\"color\": \"rgb(150.0,200,200)\"}, \"mode\": \"markers\", \"x\": [0, 1, 2, 3], \"y\": [0.5199999999999999, 0.9677777777777772, 0.992222222222222, 1.0], \"type\": \"scatter\", \"uid\": \"d583afc1-4349-4727-92a0-6156d7861f37\"}, {\"hoverinfo\": \"skip\", \"marker\": {\"color\": \"rgb(150.0,200,200)\"}, \"mode\": \"markers\", \"x\": [0, 1, 2, 3, 4], \"y\": [0.5044444444444446, 0.9477777777777774, 0.9811111111111106, 0.9899999999999998, 1.0], \"type\": \"scatter\", \"uid\": \"cc4d58f9-b4b2-4c66-b92d-3377afb67f95\"}, {\"hoverinfo\": \"skip\", \"marker\": {\"color\": \"rgb(150.0,200,200)\"}, \"mode\": \"markers\", \"x\": [0, 1, 2, 3], \"y\": [0.4922222222222222, 0.9499999999999993, 0.9944444444444442, 1.0], \"type\": \"scatter\", \"uid\": \"c01f66d1-52c4-4a22-a2e1-e65473381fb4\"}, {\"hoverinfo\": \"skip\", \"marker\": {\"color\": \"rgb(150.0,200,200)\"}, \"mode\": \"markers\", \"x\": [0, 1, 2, 3], \"y\": [0.49222222222222206, 0.9533333333333327, 0.9933333333333332, 1.0], \"type\": \"scatter\", \"uid\": \"7ceba19a-f085-42eb-a72f-9f55d095010a\"}, {\"hoverinfo\": \"skip\", \"marker\": {\"color\": \"rgb(150.0,200,200)\"}, \"mode\": \"markers\", \"x\": [0, 1, 2, 3], \"y\": [0.481111111111111, 0.9266666666666664, 0.9955555555555555, 1.0], \"type\": \"scatter\", \"uid\": \"c06f8d36-801c-4cac-8b3f-2bcceb66b892\"}, {\"hoverinfo\": \"skip\", \"marker\": {\"color\": \"rgb(150.0,200,200)\"}, \"mode\": \"markers\", \"x\": [0, 1, 2, 3, 4], \"y\": [0.4688888888888888, 0.9388888888888886, 0.9766666666666666, 0.9988888888888888, 1.0], \"type\": \"scatter\", \"uid\": \"b884bf1d-3052-4210-8002-7cc09f6ac43d\"}, {\"hoverinfo\": \"skip\", \"marker\": {\"color\": \"rgb(150.0,200,200)\"}, \"mode\": \"markers\", \"x\": [0, 1, 2, 3, 4, 5, 6], \"y\": [0.4755555555555555, 0.9411111111111109, 0.978888888888889, 0.9877777777777779, 0.9933333333333334, 0.9988888888888888, 1.0], \"type\": \"scatter\", \"uid\": \"adfcc204-be06-4ab6-9077-13859a86c69f\"}, {\"hoverinfo\": \"skip\", \"marker\": {\"color\": \"rgb(150.0,200,200)\"}, \"mode\": \"markers\", \"x\": [0, 1, 2, 3, 4, 5], \"y\": [0.4933333333333331, 0.9333333333333325, 0.96111111111111, 0.9888888888888886, 0.9977777777777778, 1.0], \"type\": \"scatter\", \"uid\": \"3501123c-4e6e-43d0-af3d-e4e22ee6411b\"}, {\"hoverinfo\": \"skip\", \"marker\": {\"color\": \"rgb(150.0,200,200)\"}, \"mode\": \"markers\", \"x\": [0, 1, 2, 3, 4], \"y\": [0.45666666666666667, 0.9455555555555548, 0.992222222222222, 0.9988888888888888, 1.0], \"type\": \"scatter\", \"uid\": \"fa2951f7-82a7-4ae1-9bd6-8fc4cd9f20f9\"}, {\"hoverinfo\": \"skip\", \"marker\": {\"color\": \"rgb(175.0,200,200)\"}, \"mode\": \"markers\", \"x\": [0, 1, 2, 3], \"y\": [0.5411111111111111, 0.9377777777777773, 0.9888888888888887, 1.0], \"type\": \"scatter\", \"uid\": \"1e4caea3-1374-419e-9518-ca2299f05664\"}, {\"hoverinfo\": \"skip\", \"marker\": {\"color\": \"rgb(175.0,200,200)\"}, \"mode\": \"markers\", \"x\": [0, 1, 2], \"y\": [0.5044444444444445, 0.954444444444444, 1.0], \"type\": \"scatter\", \"uid\": \"52b3a5a1-9730-41aa-a585-95eda5716509\"}, {\"hoverinfo\": \"skip\", \"marker\": {\"color\": \"rgb(175.0,200,200)\"}, \"mode\": \"markers\", \"x\": [0, 1, 2], \"y\": [0.5322222222222218, 0.9711111111111107, 1.0], \"type\": \"scatter\", \"uid\": \"58a380af-6c6f-4196-8ed1-36b0ea8b4b4f\"}, {\"hoverinfo\": \"skip\", \"marker\": {\"color\": \"rgb(175.0,200,200)\"}, \"mode\": \"markers\", \"x\": [0, 1, 2, 3], \"y\": [0.5266666666666666, 0.9766666666666661, 0.9966666666666666, 1.0], \"type\": \"scatter\", \"uid\": \"63205c1b-6093-4e11-aab0-2da8fed7fbba\"}, {\"hoverinfo\": \"skip\", \"marker\": {\"color\": \"rgb(175.0,200,200)\"}, \"mode\": \"markers\", \"x\": [0, 1, 2, 3, 4], \"y\": [0.4677777777777778, 0.926666666666666, 0.9811111111111107, 0.9955555555555554, 1.0], \"type\": \"scatter\", \"uid\": \"6405b0b1-5c7b-4540-9039-def0cd057ee8\"}, {\"hoverinfo\": \"skip\", \"marker\": {\"color\": \"rgb(175.0,200,200)\"}, \"mode\": \"markers\", \"x\": [0, 1, 2, 3], \"y\": [0.49333333333333335, 0.9588888888888886, 0.9966666666666666, 1.0], \"type\": \"scatter\", \"uid\": \"c7816829-46e8-4ca5-9458-d20b922deed8\"}, {\"hoverinfo\": \"skip\", \"marker\": {\"color\": \"rgb(175.0,200,200)\"}, \"mode\": \"markers\", \"x\": [0, 1, 2], \"y\": [0.4944444444444444, 0.9799999999999999, 1.0], \"type\": \"scatter\", \"uid\": \"e741cf44-f7c8-4c4c-b6ef-560733ac2268\"}, {\"hoverinfo\": \"skip\", \"marker\": {\"color\": \"rgb(175.0,200,200)\"}, \"mode\": \"markers\", \"x\": [0, 1, 2, 3], \"y\": [0.49888888888888894, 0.9722222222222218, 0.9988888888888888, 1.0], \"type\": \"scatter\", \"uid\": \"6a3c018e-c75b-43e9-abd1-befefb3109ad\"}, {\"hoverinfo\": \"skip\", \"marker\": {\"color\": \"rgb(175.0,200,200)\"}, \"mode\": \"markers\", \"x\": [0, 1, 2, 3, 4], \"y\": [0.4288888888888891, 0.9444444444444435, 0.9911111111111108, 0.9988888888888888, 1.0], \"type\": \"scatter\", \"uid\": \"e2a16b39-4cc5-4c09-a3c8-e2205b8f54a6\"}, {\"hoverinfo\": \"skip\", \"marker\": {\"color\": \"rgb(175.0,200,200)\"}, \"mode\": \"markers\", \"x\": [0, 1, 2, 3], \"y\": [0.52, 0.9466666666666658, 0.992222222222222, 1.0], \"type\": \"scatter\", \"uid\": \"0083bc10-60bc-4bbb-8f81-1b9bf189bbf2\"}, {\"hoverinfo\": \"skip\", \"marker\": {\"color\": \"rgb(200.0,200,200)\"}, \"mode\": \"markers\", \"x\": [0, 1, 2, 3, 4, 5, 6], \"y\": [0.45666666666666655, 0.8911111111111109, 0.9511111111111107, 0.971111111111111, 0.9844444444444442, 0.9966666666666666, 1.0], \"type\": \"scatter\", \"uid\": \"81fccc3d-7cd3-4b04-9cf4-d8e4fe71b7b8\"}, {\"hoverinfo\": \"skip\", \"marker\": {\"color\": \"rgb(200.0,200,200)\"}, \"mode\": \"markers\", \"x\": [0, 1, 2, 3], \"y\": [0.5000000000000001, 0.9255555555555556, 0.9866666666666667, 1.0], \"type\": \"scatter\", \"uid\": \"c8e518f6-a1dd-4ac5-b01e-5c6dada0d1b5\"}, {\"hoverinfo\": \"skip\", \"marker\": {\"color\": \"rgb(200.0,200,200)\"}, \"mode\": \"markers\", \"x\": [0, 1, 2, 3, 4], \"y\": [0.5199999999999999, 0.9533333333333328, 0.9822222222222223, 0.9933333333333334, 1.0], \"type\": \"scatter\", \"uid\": \"5391c687-a65c-41de-811d-b50041701a02\"}, {\"hoverinfo\": \"skip\", \"marker\": {\"color\": \"rgb(200.0,200,200)\"}, \"mode\": \"markers\", \"x\": [0, 1, 2, 3, 4], \"y\": [0.5088888888888887, 0.9377777777777776, 0.9888888888888886, 0.9988888888888888, 1.0], \"type\": \"scatter\", \"uid\": \"2e36336a-09ef-4ccb-af7e-10f814d98b82\"}, {\"hoverinfo\": \"skip\", \"marker\": {\"color\": \"rgb(200.0,200,200)\"}, \"mode\": \"markers\", \"x\": [0, 1, 2, 3], \"y\": [0.5222222222222219, 0.9266666666666663, 0.9888888888888888, 1.0], \"type\": \"scatter\", \"uid\": \"c51f43f9-64a7-43bc-84dc-eaf06f66cfd0\"}, {\"hoverinfo\": \"skip\", \"marker\": {\"color\": \"rgb(200.0,200,200)\"}, \"mode\": \"markers\", \"x\": [0, 1, 2, 3], \"y\": [0.49111111111111105, 0.9444444444444438, 0.9877777777777774, 1.0], \"type\": \"scatter\", \"uid\": \"69d4772e-7585-48de-b3d3-3799c7515542\"}, {\"hoverinfo\": \"skip\", \"marker\": {\"color\": \"rgb(200.0,200,200)\"}, \"mode\": \"markers\", \"x\": [0, 1, 2, 3], \"y\": [0.48111111111111116, 0.9488888888888881, 0.992222222222222, 1.0], \"type\": \"scatter\", \"uid\": \"d1de7515-00a2-4366-b1f1-cb9e585cf57a\"}, {\"hoverinfo\": \"skip\", \"marker\": {\"color\": \"rgb(200.0,200,200)\"}, \"mode\": \"markers\", \"x\": [0, 1, 2, 3, 4, 5, 6, 7], \"y\": [0.45777777777777795, 0.8933333333333333, 0.9511111111111111, 0.9744444444444444, 0.9877777777777779, 0.9933333333333334, 0.9988888888888888, 1.0], \"type\": \"scatter\", \"uid\": \"f55f0d4b-e9fd-4e10-bc4b-f27afb886b3c\"}, {\"hoverinfo\": \"skip\", \"marker\": {\"color\": \"rgb(200.0,200,200)\"}, \"mode\": \"markers\", \"x\": [0, 1, 2, 3, 4], \"y\": [0.5466666666666666, 0.9400000000000002, 0.9844444444444446, 0.9988888888888888, 1.0], \"type\": \"scatter\", \"uid\": \"2db7d771-f58d-4449-a7ff-db480043ef86\"}, {\"hoverinfo\": \"skip\", \"marker\": {\"color\": \"rgb(200.0,200,200)\"}, \"mode\": \"markers\", \"x\": [0, 1, 2, 3], \"y\": [0.44888888888888895, 0.9255555555555549, 0.9899999999999998, 1.0], \"type\": \"scatter\", \"uid\": \"111d56f0-4106-4820-9b5f-1cb3435118bc\"}, {\"hoverinfo\": \"skip\", \"marker\": {\"color\": \"rgb(225.0,200,200)\"}, \"mode\": \"markers\", \"x\": [0, 1, 2, 3], \"y\": [0.5433333333333334, 0.9688888888888886, 0.9966666666666666, 1.0], \"type\": \"scatter\", \"uid\": \"2599dc6c-7b79-44fe-8f1a-549e58c89bce\"}, {\"hoverinfo\": \"skip\", \"marker\": {\"color\": \"rgb(225.0,200,200)\"}, \"mode\": \"markers\", \"x\": [0, 1, 2, 3], \"y\": [0.5277777777777779, 0.9511111111111102, 0.9944444444444442, 1.0], \"type\": \"scatter\", \"uid\": \"ce560427-5d65-42cf-8130-99a87884e3fb\"}, {\"hoverinfo\": \"skip\", \"marker\": {\"color\": \"rgb(225.0,200,200)\"}, \"mode\": \"markers\", \"x\": [0, 1, 2], \"y\": [0.4866666666666667, 0.9477777777777777, 1.0], \"type\": \"scatter\", \"uid\": \"05e234ea-a385-4573-8efb-b176ea55f6b3\"}, {\"hoverinfo\": \"skip\", \"marker\": {\"color\": \"rgb(225.0,200,200)\"}, \"mode\": \"markers\", \"x\": [0, 1, 2, 3, 4], \"y\": [0.501111111111111, 0.9522222222222222, 0.9811111111111112, 0.9933333333333334, 1.0], \"type\": \"scatter\", \"uid\": \"1df5c063-ec2e-4817-8b0d-a03f07d2e297\"}, {\"hoverinfo\": \"skip\", \"marker\": {\"color\": \"rgb(225.0,200,200)\"}, \"mode\": \"markers\", \"x\": [0, 1, 2, 3, 4, 5], \"y\": [0.4611111111111113, 0.9477777777777774, 0.972222222222222, 0.9822222222222223, 0.9944444444444445, 1.0], \"type\": \"scatter\", \"uid\": \"a83108d6-cd05-498c-91bd-c0369d483539\"}, {\"hoverinfo\": \"skip\", \"marker\": {\"color\": \"rgb(225.0,200,200)\"}, \"mode\": \"markers\", \"x\": [0, 1, 2, 3], \"y\": [0.5011111111111108, 0.9544444444444441, 0.9988888888888888, 1.0], \"type\": \"scatter\", \"uid\": \"7913f212-465a-4366-8b4c-bc63b1923b36\"}, {\"hoverinfo\": \"skip\", \"marker\": {\"color\": \"rgb(225.0,200,200)\"}, \"mode\": \"markers\", \"x\": [0, 1, 2, 3], \"y\": [0.5088888888888888, 0.9788888888888887, 0.9966666666666666, 1.0], \"type\": \"scatter\", \"uid\": \"95ae0f57-0153-4187-9966-d5244cae4e07\"}, {\"hoverinfo\": \"skip\", \"marker\": {\"color\": \"rgb(225.0,200,200)\"}, \"mode\": \"markers\", \"x\": [0, 1, 2, 3, 4, 5], \"y\": [0.5266666666666664, 0.9388888888888883, 0.9799999999999994, 0.9888888888888886, 0.9977777777777778, 1.0], \"type\": \"scatter\", \"uid\": \"b9b4d3cc-758f-417e-a6de-f2ed9d3e96ae\"}, {\"hoverinfo\": \"skip\", \"marker\": {\"color\": \"rgb(225.0,200,200)\"}, \"mode\": \"markers\", \"x\": [0, 1, 2, 3], \"y\": [0.5155555555555554, 0.9544444444444443, 0.9966666666666666, 1.0], \"type\": \"scatter\", \"uid\": \"296520c7-4338-47c4-a15f-e1450c9b56c8\"}, {\"hoverinfo\": \"skip\", \"marker\": {\"color\": \"rgb(225.0,200,200)\"}, \"mode\": \"markers\", \"x\": [0, 1, 2, 3, 4], \"y\": [0.5033333333333334, 0.9511111111111102, 0.9944444444444442, 0.9988888888888888, 1.0], \"type\": \"scatter\", \"uid\": \"3236e5ec-27fe-4260-bdc0-4145abed903d\"}], {\"showlegend\": false, \"title\": {\"text\": \"Percent social optimal vs Iteration num (Sequential Update)\"}}, {\"showLink\": false, \"linkText\": \"Export to plot.ly\", \"plotlyServerURL\": \"https://plot.ly\"}); \n",
       "}\n",
       "});</script><script type=\"text/javascript\">window.addEventListener(\"resize\", function(){if (document.getElementById(\"84a54342-704b-4ae9-84b8-c4f54cd5ee5d\")) {window._Plotly.Plots.resize(document.getElementById(\"84a54342-704b-4ae9-84b8-c4f54cd5ee5d\"));};})</script>"
      ]
     },
     "metadata": {},
     "output_type": "display_data"
    }
   ],
   "source": [
    "plot_utils(seq_utils, False)"
   ]
  }
 ],
 "metadata": {
  "kernelspec": {
   "display_name": "Python 3",
   "language": "python",
   "name": "python3"
  },
  "language_info": {
   "codemirror_mode": {
    "name": "ipython",
    "version": 3
   },
   "file_extension": ".py",
   "mimetype": "text/x-python",
   "name": "python",
   "nbconvert_exporter": "python",
   "pygments_lexer": "ipython3",
   "version": "3.6.2"
  }
 },
 "nbformat": 4,
 "nbformat_minor": 2
}
