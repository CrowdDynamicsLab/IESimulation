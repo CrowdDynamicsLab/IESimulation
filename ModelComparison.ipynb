{
 "cells": [
  {
   "cell_type": "code",
   "execution_count": 1,
   "metadata": {},
   "outputs": [],
   "source": [
    "from math import ceil\n",
    "import json\n",
    "from os import listdir\n",
    "\n",
    "import plotly.colors as pcolors\n",
    "from plotly.offline import init_notebook_mode, iplot\n",
    "import plotly.graph_objs as go\n",
    "import ipywidgets as ipw\n",
    "from IPython.display import display, clear_output\n",
    "import numpy as np\n",
    "\n",
    "from simulation import run_simulation\n",
    "from graph_create import reduce_providers_simplest, powerlaw_dist_time, watts_strogatz, erdos_renyi, configuration_model\n",
    "import util\n",
    "\n",
    "# To getossible parameters for each model\n",
    "import run_model_comp as rmc"
   ]
  },
  {
   "cell_type": "code",
   "execution_count": 2,
   "metadata": {},
   "outputs": [
    {
     "data": {
      "text/html": [
       "        <script type=\"text/javascript\">\n",
       "        window.PlotlyConfig = {MathJaxConfig: 'local'};\n",
       "        if (window.MathJax) {MathJax.Hub.Config({SVG: {font: \"STIX-Web\"}});}\n",
       "        if (typeof require !== 'undefined') {\n",
       "        require.undef(\"plotly\");\n",
       "        requirejs.config({\n",
       "            paths: {\n",
       "                'plotly': ['https://cdn.plot.ly/plotly-latest.min']\n",
       "            }\n",
       "        });\n",
       "        require(['plotly'], function(Plotly) {\n",
       "            window._Plotly = Plotly;\n",
       "        });\n",
       "        }\n",
       "        </script>\n",
       "        "
      ]
     },
     "metadata": {},
     "output_type": "display_data"
    }
   ],
   "source": [
    "init_notebook_mode(connected=True)"
   ]
  },
  {
   "cell_type": "code",
   "execution_count": 3,
   "metadata": {},
   "outputs": [],
   "source": [
    "def plot_utils(plot_data, plot_title, show_indiv):\n",
    "    fig = go.Figure()\n",
    "\n",
    "    colors = pcolors.qualitative.Vivid\n",
    "    color_idx = 0\n",
    "    for model, (model_utils, model_avg_diam) in plot_data.items():\n",
    "    \n",
    "        #Add averages trace\n",
    "        p_vals = [ p * 100 / 4 for (p, uts) in model_utils ]\n",
    "        ut_vals = [ np.average(uts) for (p, uts) in model_utils ]\n",
    "        fig.add_trace(go.Scatter(x=p_vals,\n",
    "            y=ut_vals, mode='lines+markers', hoverinfo='skip',\n",
    "            marker=dict(color=colors[color_idx]),\n",
    "            name=f'avg social welfare {model} (avg diam {model_avg_diam})'))\n",
    "\n",
    "        #Add individual points trace\n",
    "        if show_indiv:\n",
    "            indiv_p_vals = []\n",
    "            indiv_ut_vals = []\n",
    "            for (p, uts) in model_utils:\n",
    "                indiv_ut_vals.extend(uts)\n",
    "                indiv_p_vals.extend([p * 100 / 4] * len(uts))\n",
    "            fig.add_trace(go.Scatter(x=indiv_p_vals,\n",
    "                y=indiv_ut_vals, mode='markers', hoverinfo='skip', opacity=0.2,\n",
    "                marker=dict(color=colors[color_idx]), name='social welfare per p'))\n",
    "            \n",
    "        color_idx += 1\n",
    "\n",
    "    fig.layout.update(title=plot_title, showlegend=True,\n",
    "        xaxis=dict(title='p'), yaxis=dict(title='Average social welfare (normalized)'),\n",
    "        plot_bgcolor='rgba(0,0,0,0)')\n",
    "\n",
    "    iplot(fig)"
   ]
  },
  {
   "cell_type": "code",
   "execution_count": 16,
   "metadata": {},
   "outputs": [
    {
     "name": "stdout",
     "output_type": "stream",
     "text": [
      "dict_keys(['0.003'])\n",
      "0.003\n",
      "dict_keys(['0.034'])\n",
      "0.034\n",
      "dict_keys(['0.046'])\n",
      "0.046\n",
      "dict_keys(['0.01'])\n",
      "0.01\n",
      "dict_keys(['0.003'])\n",
      "0.003\n",
      "dict_keys(['0.01'])\n",
      "0.01\n",
      "dict_keys(['0.046'])\n",
      "0.046\n",
      "dict_keys(['0.034'])\n",
      "0.034\n",
      "dict_keys(['0.034', '0.007', '0.046'])\n",
      "dict_keys([False, True])\n"
     ]
    }
   ],
   "source": [
    "# Load data\n",
    "overall_data = {}\n",
    "for data_file in listdir('sim_data'):\n",
    "    if data_file.split('.')[1] != 'json':\n",
    "        continue\n",
    "    data_fp = 'sim_data/{0}'.format(data_file)\n",
    "    with open(data_fp, 'r') as df:\n",
    "        file_contents = json.loads(df.read())\n",
    "        \n",
    "        try:\n",
    "            print(file_contents['er']['64.0'].keys())\n",
    "        except KeyError:\n",
    "            pass\n",
    "        \n",
    "        # NEEDS TO BE UPDATED IF FORMATTING CHANGED\n",
    "        for model, model_dict in file_contents.items():\n",
    "            if model not in overall_data:\n",
    "                overall_data[model] = {}\n",
    "            for r_val, r_dict in model_dict.items():\n",
    "                if r_val not in overall_data[model]:\n",
    "                    overall_data[model][r_val] = {}\n",
    "                for param, param_data in r_dict.items():\n",
    "                    if model == 'er' and r_val == '64.0':\n",
    "                        print(param)\n",
    "                    plaw = param_data['plaw']\n",
    "                    if param not in overall_data[model][r_val]:\n",
    "                        overall_data[model][r_val][param] = {plaw : param_data}\n",
    "                    overall_data[model][r_val][param].update({plaw : param_data})\n",
    "                        \n",
    "print(overall_data['er']['2.0'].keys())\n",
    "print(overall_data['er']['64.0']['0.034'].keys())"
   ]
  },
  {
   "cell_type": "code",
   "execution_count": 5,
   "metadata": {},
   "outputs": [],
   "source": [
    "# Get possible parameter values\n",
    "\n",
    "psbl_r_vals = rmc.r_vals\n",
    "psbl_ws_beta_vals = rmc.beta_vals\n",
    "psbl_er_ep_vals = [str(round(ep, 3)) for ep in rmc.ep_vals]"
   ]
  },
  {
   "cell_type": "code",
   "execution_count": 6,
   "metadata": {},
   "outputs": [],
   "source": [
    "class ModelCompPlotter:\n",
    "    def __init__(self):\n",
    "        \n",
    "        self.model_type_widget = ipw.SelectMultiple(\n",
    "                                    options=['ws', 'ws-cm', 'er'],\n",
    "                                    description='Model to show',\n",
    "                                    disabled=False,\n",
    "                                    orientation='horizontal',\n",
    "                                    continuous_update=False,\n",
    "                                    readout=True)\n",
    "        self.r_val_widget = ipw.Dropdown(\n",
    "                                    options=psbl_r_vals,\n",
    "                                    description='r value of simulation',\n",
    "                                    disabled=False,\n",
    "                                    orientation='horizontal',\n",
    "                                    continuous_update=False,\n",
    "                                    readout=True)\n",
    "        self.ws_beta_widget = ipw.Dropdown(\n",
    "                                    options=psbl_ws_beta_vals,\n",
    "                                    description='Beta value for WS models',\n",
    "                                    disabled=False,\n",
    "                                    orientation='horizontal',\n",
    "                                    continuous_update=False,\n",
    "                                    readout=True)\n",
    "        self.er_ep_widget = ipw.Dropdown(\n",
    "                                    options=psbl_er_ep_vals,\n",
    "                                    description='Edge probabilities for ER models',\n",
    "                                    disabled=False,\n",
    "                                    orientation='horizontal',\n",
    "                                    continuous_update=False,\n",
    "                                    readout=True)\n",
    "        self.show_indiv_widget = ipw.Checkbox(\n",
    "                                    value=True,\n",
    "                                    description='Show individual runs',\n",
    "                                    disabled=False,\n",
    "                                    continuous_update=False,\n",
    "                                    orientation='horizontal',\n",
    "                                    readout=True)\n",
    "        self.plaw_widget = ipw.Checkbox(\n",
    "                                    value=False,\n",
    "                                    description='Powerlaw distributed resources',\n",
    "                                    disabled=False,\n",
    "                                    continuous_update=False,\n",
    "                                    orientation='horizontal',\n",
    "                                    readout=True)\n",
    "        \n",
    "        #Update button\n",
    "        self.plot_button = ipw.Button(\n",
    "                                    description='Get plot',\n",
    "                                    disabled=False,\n",
    "                                    button_style='',\n",
    "                                    tooltip='Get plot for simulation with given params')\n",
    "        self.plot_button.on_click(self.render_visuals)\n",
    "\n",
    "        #Widgets to render, in order\n",
    "        self.render_set = [self.model_type_widget, self.r_val_widget, \n",
    "                           self.ws_beta_widget, self.er_ep_widget,\n",
    "                           self.show_indiv_widget, self.plaw_widget,\n",
    "                           self.plot_button]\n",
    "        self.render_visuals(None)\n",
    "        \n",
    "    def render_visuals(self, button):\n",
    "        #Reset output\n",
    "        clear_output()\n",
    "        \n",
    "        #Render widgets\n",
    "        for ritem in self.render_set:\n",
    "            display(ritem)\n",
    "\n",
    "        r_val = str(self.r_val_widget.value)\n",
    "        models = self.model_type_widget.value\n",
    "        \n",
    "        plaw = self.plaw_widget.value\n",
    "        \n",
    "        plot_data = {}\n",
    "        \n",
    "        for model in models:\n",
    "            param_val = None\n",
    "            if model in ['ws', 'ws-cm']:\n",
    "                param_val = self.ws_beta_widget.value\n",
    "            elif model in ['er']:\n",
    "                param_val = self.er_ep_widget.value\n",
    "            param_val = str(param_val)\n",
    "        \n",
    "            sim_data = overall_data[model][r_val][param_val][plaw]\n",
    "            sim_utils = sim_data['utils']\n",
    "            avg_diam = sim_data['avg_diam']\n",
    "            \n",
    "            plot_data[model] = (sim_utils, avg_diam)\n",
    "        \n",
    "        show_indiv = self.show_indiv_widget.value\n",
    "        plot_title = 'Social utility (normalized) vs p'\n",
    "        if plaw:\n",
    "            plot_title += ' (Powerlaw distributed resources)'\n",
    "        \n",
    "        plot_utils(plot_data, plot_title, show_indiv)"
   ]
  },
  {
   "cell_type": "code",
   "execution_count": 7,
   "metadata": {},
   "outputs": [
    {
     "data": {
      "application/vnd.jupyter.widget-view+json": {
       "model_id": "1bd69aafe47c468d9391b2d7a8edf869",
       "version_major": 2,
       "version_minor": 0
      },
      "text/plain": [
       "SelectMultiple(description='Model to show', index=(2,), options=('ws', 'ws-cm', 'er'), value=('er',))"
      ]
     },
     "metadata": {},
     "output_type": "display_data"
    },
    {
     "data": {
      "application/vnd.jupyter.widget-view+json": {
       "model_id": "3d0469c2aa5948e19e7bd3971aaf5cb6",
       "version_major": 2,
       "version_minor": 0
      },
      "text/plain": [
       "Dropdown(description='r value of simulation', index=5, options=(2.0, 4.0, 8.0, 16.0, 32.0, 64.0, 128.0), value…"
      ]
     },
     "metadata": {},
     "output_type": "display_data"
    },
    {
     "data": {
      "application/vnd.jupyter.widget-view+json": {
       "model_id": "16bc965ca90a4b148efe08e43671b34a",
       "version_major": 2,
       "version_minor": 0
      },
      "text/plain": [
       "Dropdown(description='Beta value for WS models', options=(0.1,), value=0.1)"
      ]
     },
     "metadata": {},
     "output_type": "display_data"
    },
    {
     "data": {
      "application/vnd.jupyter.widget-view+json": {
       "model_id": "6ed1551953f74e16bb4d06a910726040",
       "version_major": 2,
       "version_minor": 0
      },
      "text/plain": [
       "Dropdown(description='Edge probabilities for ER models', index=5, options=('0.0', '0.003', '0.007', '0.01', '0…"
      ]
     },
     "metadata": {},
     "output_type": "display_data"
    },
    {
     "data": {
      "application/vnd.jupyter.widget-view+json": {
       "model_id": "ac2478e8df544abbb7cbc541f04ad8ff",
       "version_major": 2,
       "version_minor": 0
      },
      "text/plain": [
       "Checkbox(value=True, description='Show individual runs')"
      ]
     },
     "metadata": {},
     "output_type": "display_data"
    },
    {
     "data": {
      "application/vnd.jupyter.widget-view+json": {
       "model_id": "00d991c58b134f8dbf3e0ef841efe80f",
       "version_major": 2,
       "version_minor": 0
      },
      "text/plain": [
       "Checkbox(value=False, description='Powerlaw distributed resources')"
      ]
     },
     "metadata": {},
     "output_type": "display_data"
    },
    {
     "data": {
      "application/vnd.jupyter.widget-view+json": {
       "model_id": "e24ace83fcea475baade1627a61d91b4",
       "version_major": 2,
       "version_minor": 0
      },
      "text/plain": [
       "Button(description='Get plot', style=ButtonStyle(), tooltip='Get plot for simulation with given params')"
      ]
     },
     "metadata": {},
     "output_type": "display_data"
    },
    {
     "ename": "KeyError",
     "evalue": "False",
     "output_type": "error",
     "traceback": [
      "\u001b[0;31m---------------------------------------------------------------------------\u001b[0m",
      "\u001b[0;31mKeyError\u001b[0m                                  Traceback (most recent call last)",
      "\u001b[0;32m<ipython-input-6-786b164fad3c>\u001b[0m in \u001b[0;36mrender_visuals\u001b[0;34m(self, button)\u001b[0m\n\u001b[1;32m     83\u001b[0m             \u001b[0mparam_val\u001b[0m \u001b[0;34m=\u001b[0m \u001b[0mstr\u001b[0m\u001b[0;34m(\u001b[0m\u001b[0mparam_val\u001b[0m\u001b[0;34m)\u001b[0m\u001b[0;34m\u001b[0m\u001b[0m\n\u001b[1;32m     84\u001b[0m \u001b[0;34m\u001b[0m\u001b[0m\n\u001b[0;32m---> 85\u001b[0;31m             \u001b[0msim_data\u001b[0m \u001b[0;34m=\u001b[0m \u001b[0moverall_data\u001b[0m\u001b[0;34m[\u001b[0m\u001b[0mmodel\u001b[0m\u001b[0;34m]\u001b[0m\u001b[0;34m[\u001b[0m\u001b[0mr_val\u001b[0m\u001b[0;34m]\u001b[0m\u001b[0;34m[\u001b[0m\u001b[0mparam_val\u001b[0m\u001b[0;34m]\u001b[0m\u001b[0;34m[\u001b[0m\u001b[0mplaw\u001b[0m\u001b[0;34m]\u001b[0m\u001b[0;34m\u001b[0m\u001b[0m\n\u001b[0m\u001b[1;32m     86\u001b[0m             \u001b[0msim_utils\u001b[0m \u001b[0;34m=\u001b[0m \u001b[0msim_data\u001b[0m\u001b[0;34m[\u001b[0m\u001b[0;34m'utils'\u001b[0m\u001b[0;34m]\u001b[0m\u001b[0;34m\u001b[0m\u001b[0m\n\u001b[1;32m     87\u001b[0m             \u001b[0mavg_diam\u001b[0m \u001b[0;34m=\u001b[0m \u001b[0msim_data\u001b[0m\u001b[0;34m[\u001b[0m\u001b[0;34m'avg_diam'\u001b[0m\u001b[0;34m]\u001b[0m\u001b[0;34m\u001b[0m\u001b[0m\n",
      "\u001b[0;31mKeyError\u001b[0m: False"
     ]
    }
   ],
   "source": [
    "ModelCompPlotter()"
   ]
  },
  {
   "cell_type": "code",
   "execution_count": null,
   "metadata": {},
   "outputs": [],
   "source": []
  }
 ],
 "metadata": {
  "kernelspec": {
   "display_name": "Python 3",
   "language": "python",
   "name": "python3"
  },
  "language_info": {
   "codemirror_mode": {
    "name": "ipython",
    "version": 3
   },
   "file_extension": ".py",
   "mimetype": "text/x-python",
   "name": "python",
   "nbconvert_exporter": "python",
   "pygments_lexer": "ipython3",
   "version": "3.6.2"
  }
 },
 "nbformat": 4,
 "nbformat_minor": 2
}
