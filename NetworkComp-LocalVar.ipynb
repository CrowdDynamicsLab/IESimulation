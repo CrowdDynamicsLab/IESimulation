{
 "cells": [
  {
   "cell_type": "code",
   "execution_count": 1,
   "metadata": {},
   "outputs": [
    {
     "data": {
      "text/html": [
       "        <script type=\"text/javascript\">\n",
       "        window.PlotlyConfig = {MathJaxConfig: 'local'};\n",
       "        if (window.MathJax) {MathJax.Hub.Config({SVG: {font: \"STIX-Web\"}});}\n",
       "        if (typeof require !== 'undefined') {\n",
       "        require.undef(\"plotly\");\n",
       "        requirejs.config({\n",
       "            paths: {\n",
       "                'plotly': ['https://cdn.plot.ly/plotly-latest.min']\n",
       "            }\n",
       "        });\n",
       "        require(['plotly'], function(Plotly) {\n",
       "            window._Plotly = Plotly;\n",
       "        });\n",
       "        }\n",
       "        </script>\n",
       "        "
      ]
     },
     "metadata": {},
     "output_type": "display_data"
    }
   ],
   "source": [
    "import json\n",
    "from collections import defaultdict\n",
    "\n",
    "from plotly.offline import init_notebook_mode, iplot\n",
    "from IPython.display import display, clear_output\n",
    "import ipywidgets as widgets\n",
    "import plotly.graph_objs as go\n",
    "import plotly\n",
    "import numpy as np\n",
    "import numpy.linalg as nla\n",
    "\n",
    "import sim_lib.util as util\n",
    "\n",
    "init_notebook_mode(connected=True)"
   ]
  },
  {
   "cell_type": "code",
   "execution_count": 2,
   "metadata": {},
   "outputs": [],
   "source": [
    "_SIMPLEST = False\n",
    "\n",
    "filename = 'ntwk_data/ntwk_data.json'\n",
    "if _SIMPLEST:\n",
    "    filename = 'ntwk_data/ntwk_data_simplest.json'"
   ]
  },
  {
   "cell_type": "code",
   "execution_count": 3,
   "metadata": {},
   "outputs": [],
   "source": [
    "ntwk_data = {}\n",
    "with open(filename, 'r') as ntd:\n",
    "    ntwk_data = json.loads(ntd.read())"
   ]
  },
  {
   "cell_type": "code",
   "execution_count": 4,
   "metadata": {},
   "outputs": [],
   "source": [
    "class NtwkCompVisLV:\n",
    "    def __init__(self, data):\n",
    "        \n",
    "        self.data = data\n",
    "\n",
    "        r_vals = list(self.data.keys())[::-1]\n",
    "        p_vals = list(self.data[r_vals[0]].keys())[::-1]\n",
    "        \n",
    "        # Welfare by p\n",
    "        self.p_val = widgets.Select(\n",
    "                                    options=p_vals,\n",
    "                                    description='Prob info trans',\n",
    "                                    disabled=False)\n",
    "        self.r_val = widgets.Select(\n",
    "                                    options=r_vals,\n",
    "                                    description='Resources per vertex',\n",
    "                                    disabled=False)\n",
    "        \n",
    "        self.radius = widgets.IntSlider(\n",
    "                                    value=3,\n",
    "                                    min=1,\n",
    "                                    max=10,\n",
    "                                    step=1,\n",
    "                                    description='Radius of local ball',\n",
    "                                    disabled=False,\n",
    "                                    continuous_update=False,\n",
    "                                    orientation='horizontal')\n",
    "\n",
    "        self.params = widgets.SelectMultiple(\n",
    "                                    options=['mean', 'std', 'min', 'max', 'size'],\n",
    "                                    description='Params of local utils',\n",
    "                                    disabled=False)\n",
    "        self.ntwk_types = widgets.SelectMultiple(\n",
    "                                    options=['rl', 'ws', 'er', 'cm', 'kg'],\n",
    "                                    description='Network type',\n",
    "                                    disabled=False)\n",
    "        \n",
    "        self.final_utils = widgets.ToggleButton(\n",
    "                                    value=False,\n",
    "                                    description='Use final utils',\n",
    "                                    disabled=False,\n",
    "                                    button_style='',\n",
    "                                    tooltip='Else use initial')\n",
    "\n",
    "        # Update button\n",
    "        self.plot_button = widgets.Button(\n",
    "                                    description='Plot',\n",
    "                                    disabled=False,\n",
    "                                    button_style='',\n",
    "                                    tooltip='Plots by selected parameters')\n",
    "        self.plot_button.on_click(self.plot)\n",
    "        \n",
    "        self.visuals = [self.p_val, self.r_val, self.radius, self.params,\n",
    "                        self.ntwk_types, self.final_utils, self.plot_button]\n",
    "        \n",
    "        self.render_visuals()\n",
    "        \n",
    "    def render_visuals(self):\n",
    "\n",
    "        # Render widgets\n",
    "        for vis in self.visuals:\n",
    "            display(vis)\n",
    "\n",
    "    def plot(self, button):\n",
    "        \n",
    "        # Reset widgets\n",
    "        clear_output()\n",
    "        self.render_visuals()\n",
    "        \n",
    "        p_val = self.p_val.value\n",
    "        r_val = self.r_val.value\n",
    "        radius = self.radius.value\n",
    "        \n",
    "        params = self.params.value\n",
    "        \n",
    "        ntwk_types = self.ntwk_types.value\n",
    "        \n",
    "        use_final_utils = self.final_utils.value\n",
    "\n",
    "        # ntwk_type : [ [ { std, mean, max, min, size } per vtx ] per sim run ]\n",
    "        local_utils = {}\n",
    "        \n",
    "        for ntwk in ntwk_types:\n",
    "            use_data = self.data[r_val][p_val]\n",
    "            \n",
    "            local_utils[ntwk] = []\n",
    "            \n",
    "            graphs = use_data['init_graphs'] if use_final_utils else use_data['graphs']\n",
    "            for isg in graphs[ntwk]:                \n",
    "                init_g = util.json_to_graph(isg)\n",
    "                \n",
    "                local_utils[ntwk].append([])\n",
    "                \n",
    "                for vtx in init_g.vertices:\n",
    "                    # Get radius ball\n",
    "                    ball_vtxs = set()\n",
    "                    queue = [(vtx, 0)]\n",
    "                    \n",
    "                    while queue:\n",
    "                        cur_vtx, dist = queue[0]\n",
    "                        queue.pop(0)\n",
    "                        \n",
    "                        if dist == radius:\n",
    "                            continue\n",
    "                        \n",
    "                        for nbor in cur_vtx.nbors:\n",
    "                            if nbor not in ball_vtxs:\n",
    "                                queue.append((nbor, dist + 1))\n",
    "                                ball_vtxs.add(nbor)\n",
    "                                \n",
    "                    bv_utils = [ bv.utility for bv in ball_vtxs ]\n",
    "                    bv_stats = { 'mean' : np.mean(bv_utils),\n",
    "                                 'std' : np.std(bv_utils), \n",
    "                                 'max' : np.max(bv_utils),\n",
    "                                 'min' : np.min(bv_utils),\n",
    "                                 'size': len(bv_utils) }\n",
    "                    local_utils[ntwk][-1].append(bv_stats)\n",
    "        \n",
    "        # Plot local util stats\n",
    "        fig = go.Figure()\n",
    "\n",
    "        colors = plotly.colors.DEFAULT_PLOTLY_COLORS\n",
    "        \n",
    "        i_idx = 0\n",
    "        for ntwk, all_run_stats in local_utils.items():\n",
    "            \n",
    "            indiv_fig = go.Figure()\n",
    "            \n",
    "            for j_idx, param in enumerate(params):\n",
    "                \n",
    "                all_param_vals = []\n",
    "                \n",
    "                for run_stats in all_run_stats:\n",
    "                    color = colors[(i_idx + j_idx) % len(colors)]\n",
    "\n",
    "                    param_vals = [ rs[param] for rs in run_stats ]\n",
    "                    all_param_vals.extend(param_vals)\n",
    "\n",
    "                fig.add_trace(go.Histogram(x=all_param_vals,\n",
    "                                         marker_color=color,\n",
    "                                         opacity=0.75,\n",
    "                                         name=f'ntwk={ntwk} param={param}'))\n",
    "\n",
    "                indiv_fig.add_trace(go.Histogram(x=all_param_vals,\n",
    "                             marker_color=color,\n",
    "                             opacity=0.75,\n",
    "                             name=f'param={param}'))\n",
    "                    \n",
    "            indiv_fig_title = f'{ntwk} Local Distribution Measures (p={p_val}, r={r_val})'\n",
    "            indiv_fig.layout.update(title=indiv_fig_title,\n",
    "                        yaxis=dict(title='Param values'),\n",
    "                        barmode='overlay',\n",
    "                        plot_bgcolor='rgba(0,0,0,0)')\n",
    "            iplot(indiv_fig)\n",
    "            \n",
    "            i_idx += 1\n",
    "\n",
    "        plot_title = f\"Local Distribution Measures (comparison)\"\n",
    "        fig.layout.update(title=plot_title, showlegend=True,\n",
    "            plot_bgcolor='rgba(0,0,0,0)', barmode='overlay')\n",
    "\n",
    "        iplot(fig)\n"
   ]
  },
  {
   "cell_type": "code",
   "execution_count": 5,
   "metadata": {
    "scrolled": false
   },
   "outputs": [
    {
     "data": {
      "application/vnd.jupyter.widget-view+json": {
       "model_id": "546e94e95d654a31af65146b6e81c6ca",
       "version_major": 2,
       "version_minor": 0
      },
      "text/plain": [
       "Select(description='Prob info trans', options=('0.1', '0.2', '0.3', '0.4', '0.5', '0.6', '0.7', '0.8', '0.9', …"
      ]
     },
     "metadata": {},
     "output_type": "display_data"
    },
    {
     "data": {
      "application/vnd.jupyter.widget-view+json": {
       "model_id": "243873df503b43088d49741c6df245f6",
       "version_major": 2,
       "version_minor": 0
      },
      "text/plain": [
       "Select(description='Resources per vertex', options=('2', '4', '8', '16', '32', '64', '128'), value='2')"
      ]
     },
     "metadata": {},
     "output_type": "display_data"
    },
    {
     "data": {
      "application/vnd.jupyter.widget-view+json": {
       "model_id": "f780656015754b11a6c196c0b884c820",
       "version_major": 2,
       "version_minor": 0
      },
      "text/plain": [
       "IntSlider(value=3, continuous_update=False, description='Radius of local ball', max=10, min=1)"
      ]
     },
     "metadata": {},
     "output_type": "display_data"
    },
    {
     "data": {
      "application/vnd.jupyter.widget-view+json": {
       "model_id": "7a1b7589d1dc4cfbb82b3f9f7827a5c7",
       "version_major": 2,
       "version_minor": 0
      },
      "text/plain": [
       "SelectMultiple(description='Params of local utils', options=('mean', 'std', 'min', 'max', 'size'), value=())"
      ]
     },
     "metadata": {},
     "output_type": "display_data"
    },
    {
     "data": {
      "application/vnd.jupyter.widget-view+json": {
       "model_id": "2e143bf809bd4050b38ac2a2703a067c",
       "version_major": 2,
       "version_minor": 0
      },
      "text/plain": [
       "SelectMultiple(description='Network type', options=('rl', 'ws', 'er', 'cm', 'kg'), value=())"
      ]
     },
     "metadata": {},
     "output_type": "display_data"
    },
    {
     "data": {
      "application/vnd.jupyter.widget-view+json": {
       "model_id": "bd5db1880f6344a3858b0572103a2531",
       "version_major": 2,
       "version_minor": 0
      },
      "text/plain": [
       "ToggleButton(value=False, description='Use final utils', tooltip='Else use initial')"
      ]
     },
     "metadata": {},
     "output_type": "display_data"
    },
    {
     "data": {
      "application/vnd.jupyter.widget-view+json": {
       "model_id": "01d1adedb1074a82bbd2b1a47a9c0966",
       "version_major": 2,
       "version_minor": 0
      },
      "text/plain": [
       "Button(description='Plot', style=ButtonStyle(), tooltip='Plots by selected parameters')"
      ]
     },
     "metadata": {},
     "output_type": "display_data"
    }
   ],
   "source": [
    "vis = NtwkCompVisLV(ntwk_data)"
   ]
  },
  {
   "cell_type": "code",
   "execution_count": null,
   "metadata": {
    "scrolled": true
   },
   "outputs": [],
   "source": []
  }
 ],
 "metadata": {
  "kernelspec": {
   "display_name": "Python 3",
   "language": "python",
   "name": "python3"
  },
  "language_info": {
   "codemirror_mode": {
    "name": "ipython",
    "version": 3
   },
   "file_extension": ".py",
   "mimetype": "text/x-python",
   "name": "python",
   "nbconvert_exporter": "python",
   "pygments_lexer": "ipython3",
   "version": "3.6.2"
  }
 },
 "nbformat": 4,
 "nbformat_minor": 2
}
