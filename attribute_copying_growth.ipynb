{
 "cells": [
  {
   "cell_type": "code",
   "execution_count": 1,
   "metadata": {},
   "outputs": [],
   "source": [
    "import networkx as nx\n",
    "from scipy.sparse import linalg as scp_sla\n",
    "import numpy as np\n",
    "\n",
    "import sim_lib.graph as graph\n",
    "import sim_lib.graph_create as gc\n",
    "import sim_lib.graph_networkx as gnx\n",
    "import sim_lib.util as util\n",
    "import sim_lib.attr_lib.util as attr_util\n",
    "from sim_lib.attr_lib.formation import *\n",
    "import sim_lib.attr_lib.vis as vis"
   ]
  },
  {
   "cell_type": "code",
   "execution_count": 2,
   "metadata": {},
   "outputs": [],
   "source": [
    "_N = 32\n",
    "\n",
    "params = {\n",
    "    'context_count' : 16,\n",
    "    'k' : 8,\n",
    "    'attr_func' : attr_util.discrete_pareto_val, # attribute assignment function\n",
    "    'edge_util_func' : attr_util.total_inv_frequency,\n",
    "    'edge_prob_func' : attr_util.logistic,\n",
    "    'edge_selection' : attr_util.greedy_simul_edge_calc,\n",
    "    'direct_cost' : 20,\n",
    "    'indirect_cost' : 0\n",
    "}"
   ]
  },
  {
   "cell_type": "code",
   "execution_count": 3,
   "metadata": {},
   "outputs": [],
   "source": [
    "def graph_density(G):\n",
    "    denum = (G.num_people * (G.num_people - 1))\n",
    "    num = sum([ v.degree for v in G.vertices])\n",
    "    return num / denum\n",
    "\n",
    "def second_eigv(G):\n",
    "    G_nx = gnx.graph_to_nx(G)\n",
    "    laplacian = nx.linalg.laplacianmatrix.normalized_laplacian_matrix(G_nx)\n",
    "    eigvals = scp_sla.eigs(laplacian, return_eigenvectors=False)\n",
    "    eigvals.sort()\n",
    "    return eigvals[1]\n",
    "\n",
    "def apl(G):\n",
    "    G_nx = gnx.graph_to_nx(G)\n",
    "    return nx.average_shortest_path_length(G_nx)\n",
    "\n",
    "def diam(G):\n",
    "    G_nx = gnx.graph_to_nx(G)\n",
    "    return nx.diameter(G_nx)\n",
    "\n",
    "def social_welfare(G):\n",
    "    return sum([ v.data for v in G.vertices ]) / 2"
   ]
  },
  {
   "cell_type": "code",
   "execution_count": 4,
   "metadata": {},
   "outputs": [],
   "source": [
    "def print_metrics(G):\n",
    "    gd = graph_density(G)\n",
    "    eig2 = second_eigv(G)\n",
    "    sw = social_welfare(G)\n",
    "    try:\n",
    "        avg_pl = apl(G)\n",
    "    except:\n",
    "        avg_pl = -1\n",
    "    try:\n",
    "        diameter = diam(G)\n",
    "    except:\n",
    "        diameter = -1\n",
    "    \n",
    "    print(\"\"\"Graph density: {0}, \\n\n",
    "    average path length: {1}, \\n\n",
    "    diameter: {2}, \\n\n",
    "    second eigenvalue: {3}, \\n\n",
    "    social welfare: {4} \\n\"\"\".format(gd, avg_pl, diameter, eig2, sw))"
   ]
  },
  {
   "cell_type": "code",
   "execution_count": 5,
   "metadata": {
    "scrolled": false
   },
   "outputs": [
    {
     "name": "stdout",
     "output_type": "stream",
     "text": [
      "0\n",
      "0\n",
      "Graph density: 0.0, \n",
      "\n",
      "    average path length: -1, \n",
      "\n",
      "    diameter: -1, \n",
      "\n",
      "    second eigenvalue: 0j, \n",
      "\n",
      "    social welfare: 0.0 \n",
      "\n",
      "0\n",
      "0\n",
      "Graph density: 0.0, \n",
      "\n",
      "    average path length: -1, \n",
      "\n",
      "    diameter: -1, \n",
      "\n",
      "    second eigenvalue: 0j, \n",
      "\n",
      "    social welfare: 0.0 \n",
      "\n"
     ]
    },
    {
     "data": {
      "image/png": "[encoded data removed]",
      "text/plain": [
       "<Figure size 1080x1080 with 1 Axes>"
      ]
     },
     "metadata": {},
     "output_type": "display_data"
    }
   ],
   "source": [
    "G = attribute_network(_N, params)\n",
    "\n",
    "print_metrics(G)\n",
    "\n",
    "random_walk(G)\n",
    "calc_utils(G)\n",
    "calc_edges(G)\n",
    "\n",
    "print_metrics(G)\n",
    "        \n",
    "#print(list(zip([ v.vnum for v in G.vertices], \n",
    "#               [ attr_util.remaining_budget(v, G) for v in G.vertices ],\n",
    "#               [ v.degree for v in G.vertices ])))\n",
    "\n",
    "vis.draw_graph(G)"
   ]
  },
  {
   "cell_type": "code",
   "execution_count": null,
   "metadata": {},
   "outputs": [],
   "source": []
  }
 ],
 "metadata": {
  "kernelspec": {
   "display_name": "Python 3",
   "language": "python",
   "name": "python3"
  },
  "language_info": {
   "codemirror_mode": {
    "name": "ipython",
    "version": 3
   },
   "file_extension": ".py",
   "mimetype": "text/x-python",
   "name": "python",
   "nbconvert_exporter": "python",
   "pygments_lexer": "ipython3",
   "version": "3.6.2"
  }
 },
 "nbformat": 4,
 "nbformat_minor": 2
}
