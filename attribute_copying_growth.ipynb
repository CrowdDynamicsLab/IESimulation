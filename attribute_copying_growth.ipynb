{
 "cells": [
  {
   "cell_type": "code",
   "execution_count": 1,
   "metadata": {},
   "outputs": [],
   "source": [
    "import networkx as nx\n",
    "from scipy.sparse import linalg as scp_sla\n",
    "import numpy as np\n",
    "import matplotlib.pyplot as plt\n",
    "\n",
    "import sim_lib.graph as graph\n",
    "import sim_lib.graph_create as gc\n",
    "import sim_lib.graph_networkx as gnx\n",
    "import sim_lib.util as util\n",
    "import sim_lib.attr_lib.util as attr_util\n",
    "from sim_lib.attr_lib.formation import *\n",
    "import sim_lib.attr_lib.vis as vis"
   ]
  },
  {
   "cell_type": "code",
   "execution_count": 2,
   "metadata": {},
   "outputs": [],
   "source": [
    "_N = 2\n",
    "\n",
    "params = {\n",
    "    'context_count' : 16,\n",
    "    'k' : 8,\n",
    "    'attr_func' : attr_util.discrete_pareto_val, # attribute assignment function\n",
    "    'edge_util_func' : attr_util.total_inv_frequency,\n",
    "    'edge_proposal' : attr_util.marginal_logistic,\n",
    "    'vtx_util' : attr_util.logistic,\n",
    "    'edge_selection' : attr_util.iter_drop_max_objective,\n",
    "    'attr_copy' : attr_util.indep_attr_copy,\n",
    "    'seed_type' : 'clique', # Type of seed network\n",
    "    'vtx_types' :\n",
    "        {\n",
    "            'wide' : { 'direct_cost' : 10,\n",
    "                      'indirect_cost' : 30,\n",
    "                      'likelihood' : 0.5,\n",
    "                      'color' : 'blue' },\n",
    "            'tall' : { 'direct_cost' : 30,\n",
    "                      'indirect_cost' : 10,\n",
    "                      'likelihood' : 0.5,\n",
    "                      'color' : 'red' }\n",
    "        }\n",
    "}\n",
    "\n",
    "assert sum([ t['likelihood'] for t in params['vtx_types'].values()]) == 1.0"
   ]
  },
  {
   "cell_type": "code",
   "execution_count": 3,
   "metadata": {},
   "outputs": [],
   "source": [
    "def graph_density(G):\n",
    "    denum = (G.num_people * (G.num_people - 1))\n",
    "    num = sum([ v.degree for v in G.vertices])\n",
    "    return num / denum\n",
    "\n",
    "def second_eigv(G):\n",
    "    G_nx = gnx.graph_to_nx(G)\n",
    "    laplacian = nx.linalg.laplacianmatrix.normalized_laplacian_matrix(G_nx)\n",
    "    eigvals = scp_sla.eigs(laplacian, return_eigenvectors=False)\n",
    "    eigvals.sort()\n",
    "    return eigvals[1]\n",
    "\n",
    "def apl(G):\n",
    "    G_nx = gnx.graph_to_nx(G)\n",
    "    return nx.average_shortest_path_length(G_nx)\n",
    "\n",
    "def diam(G):\n",
    "    G_nx = gnx.graph_to_nx(G)\n",
    "    return nx.diameter(G_nx)\n",
    "\n",
    "def social_edge_welfare(G):\n",
    "    return sum([ v.total_edge_util for v in G.vertices ]) / 2\n",
    "\n",
    "def modularity(G):\n",
    "    partitions = nx_comm.greedy_modularity_communities(G_nx)\n",
    "    return nx_comm.modularity(G_nx, partitions)"
   ]
  },
  {
   "cell_type": "code",
   "execution_count": 4,
   "metadata": {},
   "outputs": [],
   "source": [
    "def plot_distributions(G):\n",
    "    \n",
    "    # Degree distribution\n",
    "    degree_dist = [ v.degree for v in G.vertices ]\n",
    "    norm_degree_dist = []\n",
    "    if max(degree_dist) == 0:\n",
    "        norm_degree_dist = [ 0 for d in degree_dist ]\n",
    "    else:\n",
    "        norm_degree_dist = [ d / max(degree_dist) for d in degree_dist ]\n",
    "    \n",
    "    G_nx = gnx.graph_to_nx(G)\n",
    "    eigv_centralities = nx.eigenvector_centrality(G_nx, weight='util')\n",
    "    eigv_centralities = list(eigv_centralities.values())\n",
    "    \n",
    "    metric_dists = [norm_degree_dist, eigv_centralities]\n",
    "    dist_labels = ['norm degree', 'eigenvector cent']\n",
    "    \n",
    "    bins = np.linspace(0, 1, 100)\n",
    "    plt.hist(metric_dists, bins, alpha=0.5, label=dist_labels)\n",
    "    plt.legend(loc='upper right')\n",
    "    plt.show()\n",
    "    "
   ]
  },
  {
   "cell_type": "code",
   "execution_count": 5,
   "metadata": {},
   "outputs": [],
   "source": [
    "def print_metrics(G):\n",
    "    gd = graph_density(G)\n",
    "    eig2 = second_eigv(G)\n",
    "    sw = social_edge_welfare(G)\n",
    "    try:\n",
    "        avg_pl = apl(G)\n",
    "    except:\n",
    "        avg_pl = -1\n",
    "    try:\n",
    "        diameter = diam(G)\n",
    "    except:\n",
    "        diameter = -1\n",
    "    \n",
    "    print(\"\"\"Graph density: {0}, \\n\n",
    "    average path length: {1}, \\n\n",
    "    diameter: {2}, \\n\n",
    "    second eigenvalue: {3}, \\n\n",
    "    social edge welfare: {4} \\n\"\"\".format(gd, avg_pl, diameter, eig2, sw))"
   ]
  },
  {
   "cell_type": "code",
   "execution_count": 6,
   "metadata": {
    "scrolled": false
   },
   "outputs": [
    {
     "name": "stdout",
     "output_type": "stream",
     "text": [
      "0.35263720985113883\n",
      "0.35263720985113883\n",
      "0.36687184583812027\n"
     ]
    },
    {
     "data": {
      "image/png": "[encoded data removed]",
      "text/plain": [
       "<Figure size 1080x1080 with 1 Axes>"
      ]
     },
     "metadata": {},
     "output_type": "display_data"
    }
   ],
   "source": [
    "G = attribute_network(_N, params)\n",
    "\n",
    "for it in range(2):\n",
    "    add_attr_graph_vtx(G)\n",
    "    calc_edges(G)\n",
    "    simul_random_walk(G)\n",
    "    \n",
    "vis.draw_graph(G)"
   ]
  },
  {
   "cell_type": "code",
   "execution_count": null,
   "metadata": {},
   "outputs": [],
   "source": []
  }
 ],
 "metadata": {
  "kernelspec": {
   "display_name": "Python 3",
   "language": "python",
   "name": "python3"
  },
  "language_info": {
   "codemirror_mode": {
    "name": "ipython",
    "version": 3
   },
   "file_extension": ".py",
   "mimetype": "text/x-python",
   "name": "python",
   "nbconvert_exporter": "python",
   "pygments_lexer": "ipython3",
   "version": "3.6.2"
  }
 },
 "nbformat": 4,
 "nbformat_minor": 2
}
