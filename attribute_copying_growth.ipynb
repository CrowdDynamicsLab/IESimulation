{
 "cells": [
  {
   "cell_type": "code",
   "execution_count": 1,
   "metadata": {},
   "outputs": [],
   "source": [
    "import networkx as nx\n",
    "from scipy.sparse import linalg as scp_sla\n",
    "import numpy as np\n",
    "import matplotlib.pyplot as plt\n",
    "\n",
    "import sim_lib.graph as graph\n",
    "import sim_lib.graph_create as gc\n",
    "import sim_lib.graph_networkx as gnx\n",
    "import sim_lib.util as util\n",
    "import sim_lib.attr_lib.util as attr_util\n",
    "from sim_lib.attr_lib.formation import *\n",
    "import sim_lib.attr_lib.vis as vis"
   ]
  },
  {
   "cell_type": "code",
   "execution_count": 2,
   "metadata": {},
   "outputs": [],
   "source": [
    "_N = 32\n",
    "\n",
    "params = {\n",
    "    'context_count' : 16,\n",
    "    'k' : 8,\n",
    "    'attr_func' : attr_util.discrete_pareto_val, # attribute assignment function\n",
    "    'edge_util_func' : attr_util.total_inv_frequency,\n",
    "    'edge_prob_func' : attr_util.logistic,\n",
    "    'edge_selection' : attr_util.greedy_simul_sequence_proposal,\n",
    "    'attr_copy' : attr_util.indep_attr_copy,\n",
    "    'direct_cost' : 20,\n",
    "    'indirect_cost' : 0\n",
    "}"
   ]
  },
  {
   "cell_type": "code",
   "execution_count": 3,
   "metadata": {},
   "outputs": [],
   "source": [
    "def graph_density(G):\n",
    "    denum = (G.num_people * (G.num_people - 1))\n",
    "    num = sum([ v.degree for v in G.vertices])\n",
    "    return num / denum\n",
    "\n",
    "def second_eigv(G):\n",
    "    G_nx = gnx.graph_to_nx(G)\n",
    "    laplacian = nx.linalg.laplacianmatrix.normalized_laplacian_matrix(G_nx)\n",
    "    eigvals = scp_sla.eigs(laplacian, return_eigenvectors=False)\n",
    "    eigvals.sort()\n",
    "    return eigvals[1]\n",
    "\n",
    "def apl(G):\n",
    "    G_nx = gnx.graph_to_nx(G)\n",
    "    return nx.average_shortest_path_length(G_nx)\n",
    "\n",
    "def diam(G):\n",
    "    G_nx = gnx.graph_to_nx(G)\n",
    "    return nx.diameter(G_nx)\n",
    "\n",
    "def social_welfare(G):\n",
    "    return sum([ v.data for v in G.vertices ]) / 2"
   ]
  },
  {
   "cell_type": "code",
   "execution_count": 4,
   "metadata": {},
   "outputs": [],
   "source": [
    "def plot_distributions(G):\n",
    "    \n",
    "    # Degree distribution\n",
    "    degree_dist = [ v.degree for v in G.vertices ]\n",
    "    norm_degree_dist = [ d / max(degree_dist) for d in degree_dist ]\n",
    "    \n",
    "    G_nx = gnx.graph_to_nx(G)\n",
    "    eigv_centralities = nx.eigenvector_centrality(G_nx, weight='util')\n",
    "    eigv_centralities = list(eigv_centralities.values())\n",
    "    \n",
    "    metric_dists = [norm_degree_dist, eigv_centralities]\n",
    "    dist_labels = ['norm degree', 'eigenvector cent']\n",
    "    \n",
    "    bins = np.linspace(0, 1, 100)\n",
    "    plt.hist(metric_dists, bins, alpha=0.5, label=dist_labels)\n",
    "    plt.legend(loc='upper right')\n",
    "    plt.show()\n",
    "    "
   ]
  },
  {
   "cell_type": "code",
   "execution_count": 5,
   "metadata": {},
   "outputs": [],
   "source": [
    "def print_metrics(G):\n",
    "    gd = graph_density(G)\n",
    "    eig2 = second_eigv(G)\n",
    "    sw = social_welfare(G)\n",
    "    try:\n",
    "        avg_pl = apl(G)\n",
    "    except:\n",
    "        avg_pl = -1\n",
    "    try:\n",
    "        diameter = diam(G)\n",
    "    except:\n",
    "        diameter = -1\n",
    "    \n",
    "    print(\"\"\"Graph density: {0}, \\n\n",
    "    average path length: {1}, \\n\n",
    "    diameter: {2}, \\n\n",
    "    second eigenvalue: {3}, \\n\n",
    "    social welfare: {4} \\n\"\"\".format(gd, avg_pl, diameter, eig2, sw))"
   ]
  },
  {
   "cell_type": "code",
   "execution_count": 6,
   "metadata": {
    "scrolled": false
   },
   "outputs": [
    {
     "name": "stdout",
     "output_type": "stream",
     "text": [
      "defaultdict(<class 'list'>, {Vertex 0: (Vertex 30, Vertex 13, Vertex 12, Vertex 7, Vertex 29, Vertex 21, Vertex 22), Vertex 1: (Vertex 4, Vertex 24, Vertex 28), Vertex 2: (Vertex 22, Vertex 19, Vertex 31, Vertex 6, Vertex 30, Vertex 29, Vertex 7, Vertex 12, Vertex 11, Vertex 14, Vertex 13), Vertex 3: (Vertex 4, Vertex 13, Vertex 30, Vertex 16, Vertex 11, Vertex 23), Vertex 4: (Vertex 1, Vertex 23, Vertex 3, Vertex 5), Vertex 5: (Vertex 24, Vertex 4, Vertex 30, Vertex 20, Vertex 29), Vertex 6: (Vertex 9, Vertex 17, Vertex 23, Vertex 2, Vertex 31, Vertex 11, Vertex 14, Vertex 15), Vertex 7: (Vertex 16, Vertex 29, Vertex 0, Vertex 2), Vertex 8: (Vertex 15, Vertex 27, Vertex 30, Vertex 9, Vertex 14, Vertex 11, Vertex 16, Vertex 17, Vertex 20), Vertex 9: (Vertex 29, Vertex 21, Vertex 6, Vertex 27, Vertex 8, Vertex 18, Vertex 22, Vertex 13), Vertex 10: (Vertex 28, Vertex 15, Vertex 11, Vertex 13, Vertex 26), Vertex 11: (Vertex 19, Vertex 8, Vertex 10, Vertex 6, Vertex 2, Vertex 3, Vertex 14, Vertex 26, Vertex 27), Vertex 12: (Vertex 27, Vertex 16, Vertex 0, Vertex 2, Vertex 30), Vertex 13: (Vertex 0, Vertex 3, Vertex 29, Vertex 17, Vertex 19, Vertex 10, Vertex 21, Vertex 2, Vertex 9, Vertex 18), Vertex 14: (Vertex 15, Vertex 8, Vertex 26, Vertex 16, Vertex 30, Vertex 29, Vertex 6, Vertex 2, Vertex 11, Vertex 21), Vertex 15: (Vertex 14, Vertex 8, Vertex 10, Vertex 31, Vertex 22, Vertex 26, Vertex 21, Vertex 6), Vertex 16: (Vertex 27, Vertex 7, Vertex 20, Vertex 12, Vertex 14, Vertex 21, Vertex 8, Vertex 3, Vertex 25), Vertex 17: (Vertex 6, Vertex 23, Vertex 19, Vertex 13, Vertex 8), Vertex 18: (Vertex 21, Vertex 25, Vertex 9, Vertex 22, Vertex 29, Vertex 13), Vertex 19: (Vertex 2, Vertex 22, Vertex 11, Vertex 27, Vertex 17, Vertex 13, Vertex 23, Vertex 26), Vertex 20: (Vertex 16, Vertex 8, Vertex 5), Vertex 21: (Vertex 9, Vertex 18, Vertex 25, Vertex 24, Vertex 16, Vertex 15, Vertex 13, Vertex 0, Vertex 31, Vertex 14), Vertex 22: (Vertex 2, Vertex 19, Vertex 15, Vertex 31, Vertex 27, Vertex 25, Vertex 9, Vertex 18, Vertex 23, Vertex 0), Vertex 23: (Vertex 30, Vertex 4, Vertex 17, Vertex 6, Vertex 27, Vertex 25, Vertex 19, Vertex 22, Vertex 24, Vertex 3), Vertex 24: (Vertex 5, Vertex 31, Vertex 21, Vertex 28, Vertex 1, Vertex 25, Vertex 26, Vertex 23), Vertex 25: (Vertex 18, Vertex 21, Vertex 23, Vertex 22, Vertex 24, Vertex 29, Vertex 16), Vertex 26: (Vertex 14, Vertex 15, Vertex 10, Vertex 19, Vertex 24, Vertex 28, Vertex 11), Vertex 27: (Vertex 9, Vertex 16, Vertex 12, Vertex 19, Vertex 8, Vertex 23, Vertex 31, Vertex 22, Vertex 30, Vertex 11), Vertex 28: (Vertex 10, Vertex 24, Vertex 26, Vertex 29, Vertex 1), Vertex 29: (Vertex 9, Vertex 7, Vertex 13, Vertex 30, Vertex 18, Vertex 14, Vertex 2, Vertex 25, Vertex 5, Vertex 28, Vertex 0), Vertex 30: (Vertex 23, Vertex 0, Vertex 8, Vertex 3, Vertex 2, Vertex 29, Vertex 14, Vertex 27, Vertex 5, Vertex 12), Vertex 31: (Vertex 24, Vertex 15, Vertex 2, Vertex 22, Vertex 6, Vertex 27, Vertex 21)})\n",
      "defaultdict(<class 'list'>, {Vertex 0: (Vertex 20, Vertex 24, Vertex 23, Vertex 17, Vertex 12, Vertex 7, Vertex 15), Vertex 1: (Vertex 21, Vertex 30, Vertex 24), Vertex 2: (Vertex 19, Vertex 27, Vertex 18, Vertex 11), Vertex 3: (Vertex 13, Vertex 18, Vertex 6, Vertex 10, Vertex 22), Vertex 4: (Vertex 23, Vertex 10, Vertex 5), Vertex 5: (Vertex 24, Vertex 9, Vertex 4, Vertex 14, Vertex 27, Vertex 29), Vertex 6: (Vertex 10, Vertex 9, Vertex 16, Vertex 30, Vertex 19, Vertex 13, Vertex 14, Vertex 3), Vertex 7: (Vertex 14, Vertex 12, Vertex 13, Vertex 0), Vertex 8: (Vertex 22, Vertex 9, Vertex 14, Vertex 11, Vertex 28, Vertex 12, Vertex 19, Vertex 24), Vertex 9: (Vertex 29, Vertex 21, Vertex 6, Vertex 27, Vertex 5, Vertex 31, Vertex 8), Vertex 10: (Vertex 6, Vertex 4, Vertex 14, Vertex 3), Vertex 11: (Vertex 25, Vertex 22, Vertex 19, Vertex 8, Vertex 2, Vertex 26, Vertex 24), Vertex 12: (Vertex 7, Vertex 27, Vertex 17, Vertex 13, Vertex 0, Vertex 8, Vertex 30), Vertex 13: (Vertex 7, Vertex 23, Vertex 12, Vertex 3, Vertex 6), Vertex 14: (Vertex 7, Vertex 5, Vertex 8, Vertex 6, Vertex 10, Vertex 25), Vertex 15: (Vertex 28, Vertex 20, Vertex 25, Vertex 0), Vertex 16: (Vertex 6, Vertex 30), Vertex 17: (Vertex 27, Vertex 23, Vertex 12, Vertex 0, Vertex 19), Vertex 18: (Vertex 31, Vertex 21, Vertex 2, Vertex 3), Vertex 19: (Vertex 2, Vertex 11, Vertex 27, Vertex 17, Vertex 6, Vertex 8, Vertex 25, Vertex 28, Vertex 21), Vertex 20: (Vertex 0, Vertex 31, Vertex 15, Vertex 21), Vertex 21: (Vertex 1, Vertex 9, Vertex 18, Vertex 30, Vertex 20, Vertex 19), Vertex 22: (Vertex 11, Vertex 8, Vertex 30, Vertex 26, Vertex 3), Vertex 23: (Vertex 4, Vertex 17, Vertex 0, Vertex 13, Vertex 29), Vertex 24: (Vertex 5, Vertex 0, Vertex 1, Vertex 25, Vertex 8, Vertex 11), Vertex 25: (Vertex 11, Vertex 27, Vertex 15, Vertex 24, Vertex 14, Vertex 19), Vertex 26: (Vertex 31, Vertex 22, Vertex 28, Vertex 11), Vertex 27: (Vertex 17, Vertex 9, Vertex 2, Vertex 25, Vertex 12, Vertex 19, Vertex 5, Vertex 29), Vertex 28: (Vertex 15, Vertex 8, Vertex 26, Vertex 19), Vertex 29: (Vertex 9, Vertex 23, Vertex 27, Vertex 5), Vertex 30: (Vertex 6, Vertex 1, Vertex 21, Vertex 22, Vertex 16, Vertex 12), Vertex 31: (Vertex 20, Vertex 18, Vertex 9, Vertex 26)})\n",
      "Graph density: 0.0, \n",
      "\n",
      "    average path length: -1, \n",
      "\n",
      "    diameter: -1, \n",
      "\n",
      "    second eigenvalue: 0j, \n",
      "\n",
      "    social welfare: 0.0 \n",
      "\n"
     ]
    },
    {
     "ename": "ZeroDivisionError",
     "evalue": "division by zero",
     "output_type": "error",
     "traceback": [
      "\u001b[0;31m---------------------------------------------------------------------------\u001b[0m",
      "\u001b[0;31mZeroDivisionError\u001b[0m                         Traceback (most recent call last)",
      "\u001b[0;32m<ipython-input-6-fb00b7b6695f>\u001b[0m in \u001b[0;36m<module>\u001b[0;34m\u001b[0m\n\u001b[1;32m      6\u001b[0m \u001b[0;34m\u001b[0m\u001b[0m\n\u001b[1;32m      7\u001b[0m \u001b[0mprint_metrics\u001b[0m\u001b[0;34m(\u001b[0m\u001b[0mG\u001b[0m\u001b[0;34m)\u001b[0m\u001b[0;34m\u001b[0m\u001b[0m\n\u001b[0;32m----> 8\u001b[0;31m \u001b[0mplot_distributions\u001b[0m\u001b[0;34m(\u001b[0m\u001b[0mG\u001b[0m\u001b[0;34m)\u001b[0m\u001b[0;34m\u001b[0m\u001b[0m\n\u001b[0m\u001b[1;32m      9\u001b[0m \u001b[0;34m\u001b[0m\u001b[0m\n\u001b[1;32m     10\u001b[0m \u001b[0;31m#print(list(zip([ v.vnum for v in G.vertices],\u001b[0m\u001b[0;34m\u001b[0m\u001b[0;34m\u001b[0m\u001b[0m\n",
      "\u001b[0;32m<ipython-input-4-7b311d350f41>\u001b[0m in \u001b[0;36mplot_distributions\u001b[0;34m(G)\u001b[0m\n\u001b[1;32m      3\u001b[0m     \u001b[0;31m# Degree distribution\u001b[0m\u001b[0;34m\u001b[0m\u001b[0;34m\u001b[0m\u001b[0m\n\u001b[1;32m      4\u001b[0m     \u001b[0mdegree_dist\u001b[0m \u001b[0;34m=\u001b[0m \u001b[0;34m[\u001b[0m \u001b[0mv\u001b[0m\u001b[0;34m.\u001b[0m\u001b[0mdegree\u001b[0m \u001b[0;32mfor\u001b[0m \u001b[0mv\u001b[0m \u001b[0;32min\u001b[0m \u001b[0mG\u001b[0m\u001b[0;34m.\u001b[0m\u001b[0mvertices\u001b[0m \u001b[0;34m]\u001b[0m\u001b[0;34m\u001b[0m\u001b[0m\n\u001b[0;32m----> 5\u001b[0;31m     \u001b[0mnorm_degree_dist\u001b[0m \u001b[0;34m=\u001b[0m \u001b[0;34m[\u001b[0m \u001b[0md\u001b[0m \u001b[0;34m/\u001b[0m \u001b[0mmax\u001b[0m\u001b[0;34m(\u001b[0m\u001b[0mdegree_dist\u001b[0m\u001b[0;34m)\u001b[0m \u001b[0;32mfor\u001b[0m \u001b[0md\u001b[0m \u001b[0;32min\u001b[0m \u001b[0mdegree_dist\u001b[0m \u001b[0;34m]\u001b[0m\u001b[0;34m\u001b[0m\u001b[0m\n\u001b[0m\u001b[1;32m      6\u001b[0m \u001b[0;34m\u001b[0m\u001b[0m\n\u001b[1;32m      7\u001b[0m     \u001b[0mG_nx\u001b[0m \u001b[0;34m=\u001b[0m \u001b[0mgnx\u001b[0m\u001b[0;34m.\u001b[0m\u001b[0mgraph_to_nx\u001b[0m\u001b[0;34m(\u001b[0m\u001b[0mG\u001b[0m\u001b[0;34m)\u001b[0m\u001b[0;34m\u001b[0m\u001b[0m\n",
      "\u001b[0;32m<ipython-input-4-7b311d350f41>\u001b[0m in \u001b[0;36m<listcomp>\u001b[0;34m(.0)\u001b[0m\n\u001b[1;32m      3\u001b[0m     \u001b[0;31m# Degree distribution\u001b[0m\u001b[0;34m\u001b[0m\u001b[0;34m\u001b[0m\u001b[0m\n\u001b[1;32m      4\u001b[0m     \u001b[0mdegree_dist\u001b[0m \u001b[0;34m=\u001b[0m \u001b[0;34m[\u001b[0m \u001b[0mv\u001b[0m\u001b[0;34m.\u001b[0m\u001b[0mdegree\u001b[0m \u001b[0;32mfor\u001b[0m \u001b[0mv\u001b[0m \u001b[0;32min\u001b[0m \u001b[0mG\u001b[0m\u001b[0;34m.\u001b[0m\u001b[0mvertices\u001b[0m \u001b[0;34m]\u001b[0m\u001b[0;34m\u001b[0m\u001b[0m\n\u001b[0;32m----> 5\u001b[0;31m     \u001b[0mnorm_degree_dist\u001b[0m \u001b[0;34m=\u001b[0m \u001b[0;34m[\u001b[0m \u001b[0md\u001b[0m \u001b[0;34m/\u001b[0m \u001b[0mmax\u001b[0m\u001b[0;34m(\u001b[0m\u001b[0mdegree_dist\u001b[0m\u001b[0;34m)\u001b[0m \u001b[0;32mfor\u001b[0m \u001b[0md\u001b[0m \u001b[0;32min\u001b[0m \u001b[0mdegree_dist\u001b[0m \u001b[0;34m]\u001b[0m\u001b[0;34m\u001b[0m\u001b[0m\n\u001b[0m\u001b[1;32m      6\u001b[0m \u001b[0;34m\u001b[0m\u001b[0m\n\u001b[1;32m      7\u001b[0m     \u001b[0mG_nx\u001b[0m \u001b[0;34m=\u001b[0m \u001b[0mgnx\u001b[0m\u001b[0;34m.\u001b[0m\u001b[0mgraph_to_nx\u001b[0m\u001b[0;34m(\u001b[0m\u001b[0mG\u001b[0m\u001b[0;34m)\u001b[0m\u001b[0;34m\u001b[0m\u001b[0m\n",
      "\u001b[0;31mZeroDivisionError\u001b[0m: division by zero"
     ]
    }
   ],
   "source": [
    "G = attribute_network(_N, params)\n",
    "\n",
    "simul_random_walk(G)\n",
    "calc_utils(G)\n",
    "calc_edges(G)\n",
    "\n",
    "print_metrics(G)\n",
    "plot_distributions(G)\n",
    "        \n",
    "#print(list(zip([ v.vnum for v in G.vertices], \n",
    "#               [ attr_util.remaining_budget(v, G) for v in G.vertices ],\n",
    "#               [ v.degree for v in G.vertices ])))\n",
    "\n",
    "vis.draw_graph(G)"
   ]
  },
  {
   "cell_type": "code",
   "execution_count": null,
   "metadata": {},
   "outputs": [],
   "source": [
    "params['attr_copy'] = attr_util.freq_attr_copy\n",
    "G_freq = attribute_network(_N, params)\n",
    "\n",
    "simul_random_walk(G_freq)\n",
    "calc_utils(G_freq)\n",
    "calc_edges(G_freq)\n",
    "\n",
    "print_metrics(G_freq)\n",
    "plot_distributions(G_freq)\n",
    "\n",
    "vis.draw_graph(G_freq)"
   ]
  }
 ],
 "metadata": {
  "kernelspec": {
   "display_name": "Python 3",
   "language": "python",
   "name": "python3"
  },
  "language_info": {
   "codemirror_mode": {
    "name": "ipython",
    "version": 3
   },
   "file_extension": ".py",
   "mimetype": "text/x-python",
   "name": "python",
   "nbconvert_exporter": "python",
   "pygments_lexer": "ipython3",
   "version": "3.6.2"
  }
 },
 "nbformat": 4,
 "nbformat_minor": 2
}
