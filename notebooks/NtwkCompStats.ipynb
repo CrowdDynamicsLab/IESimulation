{
 "cells": [
  {
   "cell_type": "code",
   "execution_count": 1,
   "metadata": {},
   "outputs": [
    {
     "data": {
      "text/html": [
       "        <script type=\"text/javascript\">\n",
       "        window.PlotlyConfig = {MathJaxConfig: 'local'};\n",
       "        if (window.MathJax) {MathJax.Hub.Config({SVG: {font: \"STIX-Web\"}});}\n",
       "        if (typeof require !== 'undefined') {\n",
       "        require.undef(\"plotly\");\n",
       "        requirejs.config({\n",
       "            paths: {\n",
       "                'plotly': ['https://cdn.plot.ly/plotly-latest.min']\n",
       "            }\n",
       "        });\n",
       "        require(['plotly'], function(Plotly) {\n",
       "            window._Plotly = Plotly;\n",
       "        });\n",
       "        }\n",
       "        </script>\n",
       "        "
      ]
     },
     "metadata": {},
     "output_type": "display_data"
    }
   ],
   "source": [
    "import json\n",
    "from collections import defaultdict\n",
    "\n",
    "from plotly.offline import init_notebook_mode, iplot\n",
    "from IPython.display import display, clear_output\n",
    "import ipywidgets as widgets\n",
    "import plotly.graph_objs as go\n",
    "import plotly\n",
    "import pandas as pd\n",
    "\n",
    "init_notebook_mode(connected=True)"
   ]
  },
  {
   "cell_type": "code",
   "execution_count": 2,
   "metadata": {},
   "outputs": [],
   "source": [
    "ns_data = None\n",
    "with open('ntwk_stats/ntwk_stats.csv', 'r') as ntsd:\n",
    "    ns_data = pd.read_csv(ntsd)"
   ]
  },
  {
   "cell_type": "code",
   "execution_count": 3,
   "metadata": {},
   "outputs": [],
   "source": [
    "class NtwkStatsVis:\n",
    "    def __init__(self, ntsd_df):\n",
    "        \n",
    "        self.data = ntsd_df\n",
    "\n",
    "        r_vals = sorted(self.data['r'].unique())\n",
    "        p_vals = sorted(self.data['p'].unique())\n",
    "        \n",
    "        self.data['cheeger_l'] = self.data['eig2'] / 2\n",
    "        self.data['cheeger_u'] = (2 * self.data['eig2']) ** 0.5\n",
    "        \n",
    "        # Welfare by p\n",
    "        self.p_val = widgets.Select(\n",
    "                                    options=p_vals,\n",
    "                                    description='Prob info trans',\n",
    "                                    disabled=False)\n",
    "        self.r_val = widgets.Select(\n",
    "                                    options=r_vals,\n",
    "                                    description='Resources per vertex',\n",
    "                                    disabled=False)\n",
    "        \n",
    "        self.ntwk_types = widgets.SelectMultiple(\n",
    "                                    options=['rl', 'ws', 'cm', 'kg', 'er'],\n",
    "                                    description='Network type',\n",
    "                                    disabled=False)\n",
    "        \n",
    "        self.param_selection = widgets.Select(\n",
    "                                    options=['diam', 'apl', 'clust_coeff', 'loc_eff',\n",
    "                                             'eig2', 'cheeger_l', 'cheeger_u'],\n",
    "                                    description='Param to plot',\n",
    "                                    disabled=False)\n",
    "\n",
    "        # Update button\n",
    "        self.plot_button = widgets.Button(\n",
    "                                    description='Plot',\n",
    "                                    disabled=False,\n",
    "                                    button_style='',\n",
    "                                    tooltip='Plots by selected parameters')\n",
    "        self.plot_button.on_click(self.plot)\n",
    "        \n",
    "        self.visuals = [self.p_val, self.r_val,\n",
    "                        self.ntwk_types, self.param_selection,\n",
    "                        self.plot_button]\n",
    "        \n",
    "        self.render_visuals()\n",
    "        \n",
    "    def render_visuals(self):\n",
    "\n",
    "        # Render widgets\n",
    "        for vis in self.visuals:\n",
    "            display(vis)\n",
    "\n",
    "    def plot(self, button):\n",
    "        \n",
    "        # Reset widgets\n",
    "        clear_output()\n",
    "        self.render_visuals()\n",
    "        \n",
    "        p_val = self.p_val.value\n",
    "        r_val = self.r_val.value\n",
    "        \n",
    "        param = self.param_selection.value\n",
    "        ntwk_types = self.ntwk_types.value\n",
    "        \n",
    "        self.plot_simple_param(p_val, r_val, ntwk_types, param)\n",
    "    \n",
    "    def select_data(self, p_val, r_val, ntwk):\n",
    "        p_val_cond = self.data['p'] == p_val\n",
    "        r_val_cond = self.data['r'] == r_val\n",
    "        ntwk_cond = self.data['ntwk'] == ntwk\n",
    "        return self.data[p_val_cond & r_val_cond & ntwk_cond]\n",
    "    \n",
    "    def plot_simple_param(self, p_val, r_val, ntwk_types, param):\n",
    "        fig = go.Figure()\n",
    "\n",
    "        colors = plotly.colors.DEFAULT_PLOTLY_COLORS\n",
    "        \n",
    "        for idx, ntwk in enumerate(ntwk_types):\n",
    "            color = colors[idx % len(colors)]\n",
    "            \n",
    "            indiv_fig = go.Figure()\n",
    "            \n",
    "            plot_data = self.select_data(p_val, r_val, ntwk)\n",
    "            \n",
    "            x_vals = plot_data[param]\n",
    "            y_vals = plot_data['final_util']\n",
    "\n",
    "            fig.add_trace(go.Scatter(x=x_vals, y=y_vals,\n",
    "                                     mode='markers', hoverinfo='skip',\n",
    "                                     marker=dict(color=color),\n",
    "                                     name=f'ntwk={ntwk}'))\n",
    "                                     \n",
    "            indiv_fig.add_trace(go.Scatter(x=x_vals, y=y_vals,\n",
    "                         mode='markers', hoverinfo='skip',\n",
    "                         marker=dict(color=color),\n",
    "                         name=f'ntwk={ntwk}'))\n",
    "            indiv_fig.layout.update(title=f'{param} vs final util (p={p_val}, r={r_val}, ntwk={ntwk})',\n",
    "                        xaxis=dict(title=param), yaxis=dict(title='Final utility (sum)'),\n",
    "                        plot_bgcolor='rgba(0,0,0,0)')\n",
    "            iplot(indiv_fig)\n",
    "\n",
    "        plot_title = f'{param} vs final util (p={p_val}, r={r_val} ntwk comparison)'\n",
    "        fig.layout.update(title=plot_title, showlegend=True,\n",
    "            xaxis=dict(title=param), yaxis=dict(title='final utility (sum)'),\n",
    "            plot_bgcolor='rgba(0,0,0,0)')\n",
    "\n",
    "        iplot(fig)"
   ]
  },
  {
   "cell_type": "code",
   "execution_count": 4,
   "metadata": {
    "scrolled": false
   },
   "outputs": [
    {
     "data": {
      "application/vnd.jupyter.widget-view+json": {
       "model_id": "beb69edb0faa4ae7a9f58dfac95c7382",
       "version_major": 2,
       "version_minor": 0
      },
      "text/plain": [
       "Select(description='Prob info trans', options=(0.1, 0.2, 0.3, 0.4, 0.5, 0.6, 0.7, 0.8, 0.9, 1.0), value=0.1)"
      ]
     },
     "metadata": {},
     "output_type": "display_data"
    },
    {
     "data": {
      "application/vnd.jupyter.widget-view+json": {
       "model_id": "724655ac35d84a4586ba88f9519a228a",
       "version_major": 2,
       "version_minor": 0
      },
      "text/plain": [
       "Select(description='Resources per vertex', options=(2, 4, 8, 16, 32, 64, 128), value=2)"
      ]
     },
     "metadata": {},
     "output_type": "display_data"
    },
    {
     "data": {
      "application/vnd.jupyter.widget-view+json": {
       "model_id": "9f81722d67974fbfb15505e0cee73933",
       "version_major": 2,
       "version_minor": 0
      },
      "text/plain": [
       "SelectMultiple(description='Network type', options=('rl', 'ws', 'cm', 'kg', 'er'), value=())"
      ]
     },
     "metadata": {},
     "output_type": "display_data"
    },
    {
     "data": {
      "application/vnd.jupyter.widget-view+json": {
       "model_id": "2097b058d39d44e1a243c0907de534dd",
       "version_major": 2,
       "version_minor": 0
      },
      "text/plain": [
       "Select(description='Param to plot', options=('diam', 'apl', 'clust_coeff', 'loc_eff', 'eig2', 'cheeger_l', 'ch…"
      ]
     },
     "metadata": {},
     "output_type": "display_data"
    },
    {
     "data": {
      "application/vnd.jupyter.widget-view+json": {
       "model_id": "c2d4e049ec6f476f8489d463f712de50",
       "version_major": 2,
       "version_minor": 0
      },
      "text/plain": [
       "Button(description='Plot', style=ButtonStyle(), tooltip='Plots by selected parameters')"
      ]
     },
     "metadata": {},
     "output_type": "display_data"
    }
   ],
   "source": [
    "vis = NtwkStatsVis(ns_data)"
   ]
  },
  {
   "cell_type": "code",
   "execution_count": null,
   "metadata": {
    "scrolled": true
   },
   "outputs": [],
   "source": []
  }
 ],
 "metadata": {
  "kernelspec": {
   "display_name": "Python 3",
   "language": "python",
   "name": "python3"
  },
  "language_info": {
   "codemirror_mode": {
    "name": "ipython",
    "version": 3
   },
   "file_extension": ".py",
   "mimetype": "text/x-python",
   "name": "python",
   "nbconvert_exporter": "python",
   "pygments_lexer": "ipython3",
   "version": "3.6.2"
  }
 },
 "nbformat": 4,
 "nbformat_minor": 2
}
