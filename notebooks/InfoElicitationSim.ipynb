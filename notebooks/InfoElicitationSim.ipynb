{
 "cells": [
  {
   "cell_type": "code",
   "execution_count": 1,
   "metadata": {},
   "outputs": [
    {
     "data": {
      "text/html": [
       "<script type=\"text/javascript\">window.PlotlyConfig = {MathJaxConfig: 'local'};</script><script type=\"text/javascript\">if (window.MathJax) {MathJax.Hub.Config({SVG: {font: \"STIX-Web\"}});}</script><script>requirejs.config({paths: { 'plotly': ['https://cdn.plot.ly/plotly-latest.min']},});if(!window._Plotly) {require(['plotly'],function(plotly) {window._Plotly=plotly;});}</script>"
      ],
      "text/vnd.plotly.v1+html": [
       "<script type=\"text/javascript\">window.PlotlyConfig = {MathJaxConfig: 'local'};</script><script type=\"text/javascript\">if (window.MathJax) {MathJax.Hub.Config({SVG: {font: \"STIX-Web\"}});}</script><script>requirejs.config({paths: { 'plotly': ['https://cdn.plot.ly/plotly-latest.min']},});if(!window._Plotly) {require(['plotly'],function(plotly) {window._Plotly=plotly;});}</script>"
      ]
     },
     "metadata": {},
     "output_type": "display_data"
    }
   ],
   "source": [
    "from plotly.offline import init_notebook_mode\n",
    "\n",
    "from sim_interface import SimpleSimulator, OverviewSimulator\n",
    "\n",
    "init_notebook_mode(connected=True)"
   ]
  },
  {
   "cell_type": "code",
   "execution_count": 2,
   "metadata": {
    "scrolled": true
   },
   "outputs": [
    {
     "data": {
      "application/vnd.jupyter.widget-view+json": {
       "model_id": "bb9fce6f6cf84928a14db2f9a89107de",
       "version_major": 2,
       "version_minor": 0
      },
      "text/plain": [
       "IntText(value=100, description='Vertex Count (Rounded to Even)')"
      ]
     },
     "metadata": {},
     "output_type": "display_data"
    },
    {
     "data": {
      "application/vnd.jupyter.widget-view+json": {
       "model_id": "fa3d20dab37e408b9453a942fe76018a",
       "version_major": 2,
       "version_minor": 0
      },
      "text/plain": [
       "IntText(value=4, description='Graph Regularity')"
      ]
     },
     "metadata": {},
     "output_type": "display_data"
    },
    {
     "data": {
      "application/vnd.jupyter.widget-view+json": {
       "model_id": "43e2042641e8415eac9e343c12bd65af",
       "version_major": 2,
       "version_minor": 0
      },
      "text/plain": [
       "FloatSlider(value=0.1, continuous_update=False, description='Transmission Probability', max=1.0, step=0.01)"
      ]
     },
     "metadata": {},
     "output_type": "display_data"
    },
    {
     "data": {
      "application/vnd.jupyter.widget-view+json": {
       "model_id": "8a2abead778445d4abf08eb1dff1c25c",
       "version_major": 2,
       "version_minor": 0
      },
      "text/plain": [
       "IntText(value=100, description='Initial Time Allocation')"
      ]
     },
     "metadata": {},
     "output_type": "display_data"
    },
    {
     "data": {
      "application/vnd.jupyter.widget-view+json": {
       "model_id": "a0f3b2c9ea174860b3c6558e23ac8b34",
       "version_major": 2,
       "version_minor": 0
      },
      "text/plain": [
       "ToggleButton(value=False, button_style='info', description='Randomize Time Allocation', icon='check', tooltip=…"
      ]
     },
     "metadata": {},
     "output_type": "display_data"
    },
    {
     "data": {
      "application/vnd.jupyter.widget-view+json": {
       "model_id": "53c08d662c1640619689cdc2d9b08e03",
       "version_major": 2,
       "version_minor": 0
      },
      "text/plain": [
       "ToggleButton(value=False, button_style='info', description='Sequential Time Allocation', icon='check', tooltip…"
      ]
     },
     "metadata": {},
     "output_type": "display_data"
    },
    {
     "data": {
      "application/vnd.jupyter.widget-view+json": {
       "model_id": "b59b2bd21fb948c4a8bd0b4163183640",
       "version_major": 2,
       "version_minor": 0
      },
      "text/plain": [
       "Button(description='Update Graph', style=ButtonStyle(), tooltip='Update Graph')"
      ]
     },
     "metadata": {},
     "output_type": "display_data"
    },
    {
     "data": {
      "application/vnd.plotly.v1+json": {
       "config": {
        "linkText": "Export to plot.ly",
        "plotlyServerURL": "https://plot.ly",
        "showLink": false
       },
       "data": [
        {
         "hoverinfo": "text",
         "line": {
          "color": "#888",
          "width": 0.5
         },
         "mode": "lines",
         "text": [],
         "type": "scatter",
         "uid": "6ec30ff7-c503-4189-9fb5-f9b73ddb8dc3",
         "x": [],
         "y": []
        },
        {
         "hoverinfo": "text",
         "marker": {
          "color": [],
          "colorscale": "Electric",
          "line": {
           "width": 2
          },
          "reversescale": true,
          "showscale": true,
          "size": 10
         },
         "mode": "markers",
         "text": [],
         "type": "scatter",
         "uid": "46ffa682-f78e-4a6d-97d4-a9a877dbf7c9",
         "x": [],
         "y": []
        }
       ],
       "layout": {
        "hovermode": "closest",
        "showlegend": false,
        "title": {
         "text": "Information Elicitation Simulation"
        },
        "updatemenus": [
         {
          "buttons": [
           {
            "args": [
             null
            ],
            "label": "Play",
            "method": "animate"
           }
          ],
          "pad": {
           "r": 10,
           "t": 87
          },
          "showactive": false,
          "type": "buttons"
         }
        ],
        "xaxis": {
         "showgrid": false,
         "showticklabels": false,
         "zeroline": false
        },
        "yaxis": {
         "showgrid": false,
         "showticklabels": false,
         "zeroline": false
        }
       }
      },
      "text/html": [
       "<div id=\"5e91968a-0a96-44a1-b71d-b82ea4fce031\" style=\"height: 525px; width: 100%;\" class=\"plotly-graph-div\"></div><script type=\"text/javascript\">require([\"plotly\"], function(Plotly) { window.PLOTLYENV=window.PLOTLYENV || {};window.PLOTLYENV.BASE_URL=\"https://plot.ly\";\n",
       "if (document.getElementById(\"5e91968a-0a96-44a1-b71d-b82ea4fce031\")) {\n",
       "    Plotly.newPlot(\"5e91968a-0a96-44a1-b71d-b82ea4fce031\", [{\"hoverinfo\": \"text\", \"line\": {\"color\": \"#888\", \"width\": 0.5}, \"mode\": \"lines\", \"text\": [], \"x\": [], \"y\": [], \"type\": \"scatter\", \"uid\": \"6ec30ff7-c503-4189-9fb5-f9b73ddb8dc3\"}, {\"hoverinfo\": \"text\", \"marker\": {\"color\": [], \"colorscale\": \"Electric\", \"line\": {\"width\": 2}, \"reversescale\": true, \"showscale\": true, \"size\": 10}, \"mode\": \"markers\", \"text\": [], \"x\": [], \"y\": [], \"type\": \"scatter\", \"uid\": \"46ffa682-f78e-4a6d-97d4-a9a877dbf7c9\"}], {\"hovermode\": \"closest\", \"showlegend\": false, \"title\": {\"text\": \"Information Elicitation Simulation\"}, \"updatemenus\": [{\"buttons\": [{\"args\": [null], \"label\": \"Play\", \"method\": \"animate\"}], \"pad\": {\"r\": 10, \"t\": 87}, \"showactive\": false, \"type\": \"buttons\"}], \"xaxis\": {\"showgrid\": false, \"showticklabels\": false, \"zeroline\": false}, \"yaxis\": {\"showgrid\": false, \"showticklabels\": false, \"zeroline\": false}}, {\"showLink\": false, \"linkText\": \"Export to plot.ly\", \"plotlyServerURL\": \"https://plot.ly\"}); \n",
       "}\n",
       "});</script><script type=\"text/javascript\">window.addEventListener(\"resize\", function(){if (document.getElementById(\"5e91968a-0a96-44a1-b71d-b82ea4fce031\")) {window._Plotly.Plots.resize(document.getElementById(\"5e91968a-0a96-44a1-b71d-b82ea4fce031\"));};})</script>"
      ],
      "text/vnd.plotly.v1+html": [
       "<div id=\"5e91968a-0a96-44a1-b71d-b82ea4fce031\" style=\"height: 525px; width: 100%;\" class=\"plotly-graph-div\"></div><script type=\"text/javascript\">require([\"plotly\"], function(Plotly) { window.PLOTLYENV=window.PLOTLYENV || {};window.PLOTLYENV.BASE_URL=\"https://plot.ly\";\n",
       "if (document.getElementById(\"5e91968a-0a96-44a1-b71d-b82ea4fce031\")) {\n",
       "    Plotly.newPlot(\"5e91968a-0a96-44a1-b71d-b82ea4fce031\", [{\"hoverinfo\": \"text\", \"line\": {\"color\": \"#888\", \"width\": 0.5}, \"mode\": \"lines\", \"text\": [], \"x\": [], \"y\": [], \"type\": \"scatter\", \"uid\": \"6ec30ff7-c503-4189-9fb5-f9b73ddb8dc3\"}, {\"hoverinfo\": \"text\", \"marker\": {\"color\": [], \"colorscale\": \"Electric\", \"line\": {\"width\": 2}, \"reversescale\": true, \"showscale\": true, \"size\": 10}, \"mode\": \"markers\", \"text\": [], \"x\": [], \"y\": [], \"type\": \"scatter\", \"uid\": \"46ffa682-f78e-4a6d-97d4-a9a877dbf7c9\"}], {\"hovermode\": \"closest\", \"showlegend\": false, \"title\": {\"text\": \"Information Elicitation Simulation\"}, \"updatemenus\": [{\"buttons\": [{\"args\": [null], \"label\": \"Play\", \"method\": \"animate\"}], \"pad\": {\"r\": 10, \"t\": 87}, \"showactive\": false, \"type\": \"buttons\"}], \"xaxis\": {\"showgrid\": false, \"showticklabels\": false, \"zeroline\": false}, \"yaxis\": {\"showgrid\": false, \"showticklabels\": false, \"zeroline\": false}}, {\"showLink\": false, \"linkText\": \"Export to plot.ly\", \"plotlyServerURL\": \"https://plot.ly\"}); \n",
       "}\n",
       "});</script><script type=\"text/javascript\">window.addEventListener(\"resize\", function(){if (document.getElementById(\"5e91968a-0a96-44a1-b71d-b82ea4fce031\")) {window._Plotly.Plots.resize(document.getElementById(\"5e91968a-0a96-44a1-b71d-b82ea4fce031\"));};})</script>"
      ]
     },
     "metadata": {},
     "output_type": "display_data"
    }
   ],
   "source": [
    "simple = SimpleSimulator()"
   ]
  },
  {
   "cell_type": "code",
   "execution_count": 3,
   "metadata": {
    "scrolled": false
   },
   "outputs": [
    {
     "data": {
      "application/vnd.jupyter.widget-view+json": {
       "model_id": "5cbd225b8fc04d9293a8a1a3f2e9f0ba",
       "version_major": 2,
       "version_minor": 0
      },
      "text/plain": [
       "IntText(value=0, description='Variable Param Range Start')"
      ]
     },
     "metadata": {},
     "output_type": "display_data"
    },
    {
     "data": {
      "application/vnd.jupyter.widget-view+json": {
       "model_id": "2ccacf2c93e04304afb304a1e1a68eff",
       "version_major": 2,
       "version_minor": 0
      },
      "text/plain": [
       "IntText(value=100, description='Variable Param Range End')"
      ]
     },
     "metadata": {},
     "output_type": "display_data"
    },
    {
     "data": {
      "application/vnd.jupyter.widget-view+json": {
       "model_id": "004314e286a0438c83e722f7f7690554",
       "version_major": 2,
       "version_minor": 0
      },
      "text/plain": [
       "IntText(value=100, description='Number iters')"
      ]
     },
     "metadata": {},
     "output_type": "display_data"
    },
    {
     "data": {
      "application/vnd.jupyter.widget-view+json": {
       "model_id": "2f78021572a246c5919ef3be3d298b45",
       "version_major": 2,
       "version_minor": 0
      },
      "text/plain": [
       "IntText(value=100, description='Size Value')"
      ]
     },
     "metadata": {},
     "output_type": "display_data"
    },
    {
     "data": {
      "application/vnd.jupyter.widget-view+json": {
       "model_id": "eb821ba989fb470282e3627f24efc455",
       "version_major": 2,
       "version_minor": 0
      },
      "text/plain": [
       "IntText(value=4, description='Degree Value')"
      ]
     },
     "metadata": {},
     "output_type": "display_data"
    },
    {
     "data": {
      "application/vnd.jupyter.widget-view+json": {
       "model_id": "706bff119ba94939b43a0e26fa7a03c8",
       "version_major": 2,
       "version_minor": 0
      },
      "text/plain": [
       "FloatSlider(value=0.1, continuous_update=False, description='Transmission Probability', max=1.0, step=0.01)"
      ]
     },
     "metadata": {},
     "output_type": "display_data"
    },
    {
     "data": {
      "application/vnd.jupyter.widget-view+json": {
       "model_id": "8148149c020f45efb26d073049d8a6d2",
       "version_major": 2,
       "version_minor": 0
      },
      "text/plain": [
       "RadioButtons(description='Which parameter to vary', options=('reg', 'size', 'trate'), value='reg')"
      ]
     },
     "metadata": {},
     "output_type": "display_data"
    },
    {
     "data": {
      "application/vnd.jupyter.widget-view+json": {
       "model_id": "969cb111190b420882ee95c0d2493881",
       "version_major": 2,
       "version_minor": 0
      },
      "text/plain": [
       "IntText(value=100, description='Initial Time Allocation')"
      ]
     },
     "metadata": {},
     "output_type": "display_data"
    },
    {
     "data": {
      "application/vnd.jupyter.widget-view+json": {
       "model_id": "2982907268004a0aa32fe5126c392d59",
       "version_major": 2,
       "version_minor": 0
      },
      "text/plain": [
       "ToggleButton(value=False, button_style='info', description='Sequential Time Allocation', icon='check', tooltip…"
      ]
     },
     "metadata": {},
     "output_type": "display_data"
    },
    {
     "data": {
      "application/vnd.jupyter.widget-view+json": {
       "model_id": "a30a0f7183ca4aa4b060447cc756b9a8",
       "version_major": 2,
       "version_minor": 0
      },
      "text/plain": [
       "ToggleButton(value=False, button_style='info', description='Randomize Time Allocation', icon='check', tooltip=…"
      ]
     },
     "metadata": {},
     "output_type": "display_data"
    },
    {
     "data": {
      "application/vnd.jupyter.widget-view+json": {
       "model_id": "d726dff9074c4b46a395ea52c8d67629",
       "version_major": 2,
       "version_minor": 0
      },
      "text/plain": [
       "ToggleButton(value=False, button_style='info', description='Use log space', icon='check', tooltip='Use log spa…"
      ]
     },
     "metadata": {},
     "output_type": "display_data"
    },
    {
     "data": {
      "application/vnd.jupyter.widget-view+json": {
       "model_id": "0377dc7b743140b282d61cce2b4d5e0b",
       "version_major": 2,
       "version_minor": 0
      },
      "text/plain": [
       "ToggleButton(value=False, button_style='info', description='Average Results', icon='check', tooltip='Toggle fo…"
      ]
     },
     "metadata": {},
     "output_type": "display_data"
    },
    {
     "data": {
      "application/vnd.jupyter.widget-view+json": {
       "model_id": "3ec8a599e071401dad80702865178ebf",
       "version_major": 2,
       "version_minor": 0
      },
      "text/plain": [
       "Button(description='Add simulation set', style=ButtonStyle(), tooltip='Add a simulation set with current param…"
      ]
     },
     "metadata": {},
     "output_type": "display_data"
    },
    {
     "data": {
      "application/vnd.jupyter.widget-view+json": {
       "model_id": "b221b09495c74e5095318981b24e1478",
       "version_major": 2,
       "version_minor": 0
      },
      "text/plain": [
       "Button(description='Remove simulation set', style=ButtonStyle(), tooltip='Removes most recent set')"
      ]
     },
     "metadata": {},
     "output_type": "display_data"
    },
    {
     "data": {
      "application/vnd.jupyter.widget-view+json": {
       "model_id": "fb4076372542459981b67d0698f5b265",
       "version_major": 2,
       "version_minor": 0
      },
      "text/plain": [
       "Button(description='Plot all simulations', style=ButtonStyle(), tooltip='Plots all current simulation sets')"
      ]
     },
     "metadata": {},
     "output_type": "display_data"
    }
   ],
   "source": [
    "def conv_rate(utils):\n",
    "    #Takes in a 2D array of utils\n",
    "    sim_converged = sum(utils[-1]) == len(utils[-1])\n",
    "    if sim_converged:\n",
    "        return len(utils)\n",
    "    else:\n",
    "        return -1 * len(utils)\n",
    "conv_rate_sim = OverviewSimulator(conv_rate, 10)"
   ]
  }
 ],
 "metadata": {
  "kernelspec": {
   "display_name": "Python 3",
   "language": "python",
   "name": "python3"
  },
  "language_info": {
   "codemirror_mode": {
    "name": "ipython",
    "version": 3
   },
   "file_extension": ".py",
   "mimetype": "text/x-python",
   "name": "python",
   "nbconvert_exporter": "python",
   "pygments_lexer": "ipython3",
   "version": "3.6.2"
  }
 },
 "nbformat": 4,
 "nbformat_minor": 2
}
