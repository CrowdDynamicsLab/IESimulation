{
 "cells": [
  {
   "cell_type": "code",
   "execution_count": 1,
   "metadata": {},
   "outputs": [
    {
     "data": {
      "text/html": [
       "        <script type=\"text/javascript\">\n",
       "        window.PlotlyConfig = {MathJaxConfig: 'local'};\n",
       "        if (window.MathJax) {MathJax.Hub.Config({SVG: {font: \"STIX-Web\"}});}\n",
       "        if (typeof require !== 'undefined') {\n",
       "        require.undef(\"plotly\");\n",
       "        requirejs.config({\n",
       "            paths: {\n",
       "                'plotly': ['https://cdn.plot.ly/plotly-latest.min']\n",
       "            }\n",
       "        });\n",
       "        require(['plotly'], function(Plotly) {\n",
       "            window._Plotly = Plotly;\n",
       "        });\n",
       "        }\n",
       "        </script>\n",
       "        "
      ]
     },
     "metadata": {},
     "output_type": "display_data"
    }
   ],
   "source": [
    "import json\n",
    "from collections import defaultdict\n",
    "\n",
    "from plotly.offline import init_notebook_mode, iplot\n",
    "from IPython.display import display, clear_output\n",
    "import ipywidgets as widgets\n",
    "import plotly.graph_objs as go\n",
    "import plotly\n",
    "import numpy as np\n",
    "import numpy.linalg as nla\n",
    "\n",
    "import sim_lib.util as util\n",
    "import sim_lib.graph_vis as graph_vis\n",
    "\n",
    "init_notebook_mode(connected=True)"
   ]
  },
  {
   "cell_type": "code",
   "execution_count": 2,
   "metadata": {},
   "outputs": [],
   "source": [
    "_SIMPLEST = False\n",
    "\n",
    "filename = 'ntwk_data/ntwk_data.json'\n",
    "if _SIMPLEST:\n",
    "    filename = 'ntwk_data/ntwk_data_simplest.json'"
   ]
  },
  {
   "cell_type": "code",
   "execution_count": 3,
   "metadata": {},
   "outputs": [],
   "source": [
    "ntwk_data = {}\n",
    "with open(filename, 'r') as ntd:\n",
    "    ntwk_data = json.loads(ntd.read())"
   ]
  },
  {
   "cell_type": "code",
   "execution_count": 4,
   "metadata": {
    "scrolled": false
   },
   "outputs": [],
   "source": [
    "class NtwkGraphVis:\n",
    "    def __init__(self, data, radius):\n",
    "        \n",
    "        self.data = data\n",
    "        self.radius = radius\n",
    "        self.cur_run = 0\n",
    "\n",
    "        r_vals = list(self.data.keys())\n",
    "        p_vals = list(self.data[r_vals[0]].keys())\n",
    "        \n",
    "        self.p_val = widgets.Select(\n",
    "                                options=p_vals,\n",
    "                                description='Transmission probability',\n",
    "                                disabled=False)\n",
    "        self.r_val = widgets.Select(\n",
    "                                options=r_vals,\n",
    "                                description='Resources per vertex',\n",
    "                                disabled=False)\n",
    "\n",
    "        self.ntwk_types = widgets.SelectMultiple(\n",
    "                                    options=['rl', 'ws', 'er', 'cm', 'kg'],\n",
    "                                    description='Network type',\n",
    "                                    disabled=False)\n",
    "        \n",
    "        # Update button\n",
    "        self.plot_button = widgets.Button(\n",
    "                                    description='Plot',\n",
    "                                    disabled=False,\n",
    "                                    button_style='',\n",
    "                                    tooltip='Plots by selected parameters')\n",
    "        self.plot_button.on_click(self.plot)\n",
    "        \n",
    "        # Next run button\n",
    "        self.next_run_button = widgets.Button(\n",
    "                                    description='Show the next run',\n",
    "                                    disabled=False,\n",
    "                                    button_style='',\n",
    "                                    tooltip='Plots the next run of the simulation')\n",
    "        self.next_run_button.on_click(self.next_run)\n",
    "        self.run_counter_header =  widgets.HTML(\n",
    "                            value=f'Run: {self.cur_run}',\n",
    "                            placeholder='Some HTML',\n",
    "                            description='')\n",
    "        \n",
    "        self.visuals = [self.p_val, self.r_val, self.ntwk_types, self.plot_button,\n",
    "                        self.next_run_button, self.run_counter_header]\n",
    "        \n",
    "        self.render_visuals()\n",
    "        \n",
    "    def render_visuals(self):\n",
    "\n",
    "        # Render widgets\n",
    "        for vis in self.visuals:\n",
    "            display(vis)\n",
    "            \n",
    "    def next_run(self, button):\n",
    "        self.cur_run += 1\n",
    "        \n",
    "        p_val = self.p_val.value\n",
    "        r_val = self.r_val.value\n",
    "        ntwk_types = self.ntwk_types.value\n",
    "        \n",
    "        for ntwk in ntwk_types:\n",
    "            if self.cur_run > len(self.data[r_val][p_val]['utils'][ntwk]):\n",
    "                self.cur_run = 0\n",
    "                break\n",
    "                \n",
    "        self.run_counter_header.value = f'Run: {self.cur_run}'\n",
    "        self.plot_visuals()\n",
    "\n",
    "    def plot(self, button):\n",
    "        self.plot_visuals()\n",
    "            \n",
    "    def plot_visuals(self):\n",
    "        # Reset widgets\n",
    "        clear_output()\n",
    "        self.render_visuals()\n",
    "        \n",
    "        p_val = self.p_val.value\n",
    "        r_val = self.r_val.value\n",
    "        \n",
    "        ntwk_types = self.ntwk_types.value\n",
    "            \n",
    "        for ntwk in ntwk_types:\n",
    "            sim_util = self.data[r_val][p_val]['utils'][ntwk][self.cur_run]\n",
    "            sim_graph_ser = self.data[r_val][p_val]['graphs'][ntwk][self.cur_run]\n",
    "            sim_graph = util.json_to_graph(sim_graph_ser)\n",
    "            \n",
    "            if ntwk == 'kg':\n",
    "                g_fig = graph_vis.vis_G(sim_graph, self.radius, sim_util, mode='grid', ntwk_name=ntwk)\n",
    "            else:\n",
    "                g_fig = graph_vis.vis_G(sim_graph, self.radius, sim_util, mode='ring', ntwk_name=ntwk)\n",
    "\n",
    "            iplot(g_fig)"
   ]
  },
  {
   "cell_type": "code",
   "execution_count": 5,
   "metadata": {
    "scrolled": false
   },
   "outputs": [
    {
     "data": {
      "application/vnd.jupyter.widget-view+json": {
       "model_id": "af975c9cc2d949f9ade345b152a82617",
       "version_major": 2,
       "version_minor": 0
      },
      "text/plain": [
       "Select(description='Transmission probability', index=8, options=('1.0', '0.9', '0.8', '0.7', '0.6', '0.5', '0.…"
      ]
     },
     "metadata": {},
     "output_type": "display_data"
    },
    {
     "data": {
      "application/vnd.jupyter.widget-view+json": {
       "model_id": "74b09a1894d34efcb66bac85ab0716ac",
       "version_major": 2,
       "version_minor": 0
      },
      "text/plain": [
       "Select(description='Resources per vertex', index=4, options=('128', '64', '32', '16', '8', '4', '2'), value='8…"
      ]
     },
     "metadata": {},
     "output_type": "display_data"
    },
    {
     "data": {
      "application/vnd.jupyter.widget-view+json": {
       "model_id": "39db393001aa48bbab5844ecff63c97a",
       "version_major": 2,
       "version_minor": 0
      },
      "text/plain": [
       "SelectMultiple(description='Network type', index=(0, 1, 2, 3, 4), options=('rl', 'ws', 'er', 'cm', 'kg'), valu…"
      ]
     },
     "metadata": {},
     "output_type": "display_data"
    },
    {
     "data": {
      "application/vnd.jupyter.widget-view+json": {
       "model_id": "92527bb7dd4c48d7ada30e6686a825ef",
       "version_major": 2,
       "version_minor": 0
      },
      "text/plain": [
       "Button(description='Plot', style=ButtonStyle(), tooltip='Plots by selected parameters')"
      ]
     },
     "metadata": {},
     "output_type": "display_data"
    },
    {
     "data": {
      "application/vnd.jupyter.widget-view+json": {
       "model_id": "d60d3830fb1342a2a34e79a9e50ca50a",
       "version_major": 2,
       "version_minor": 0
      },
      "text/plain": [
       "Button(description='Show the next run', style=ButtonStyle(), tooltip='Plots the next run of the simulation')"
      ]
     },
     "metadata": {},
     "output_type": "display_data"
    },
    {
     "data": {
      "application/vnd.jupyter.widget-view+json": {
       "model_id": "7776e320e46a40669c2b1a8cb22a274f",
       "version_major": 2,
       "version_minor": 0
      },
      "text/plain": [
       "HTML(value='Run: 0', placeholder='Some HTML')"
      ]
     },
     "metadata": {},
     "output_type": "display_data"
    },
    {
     "ename": "TypeError",
     "evalue": "float() argument must be a string or a number, not 'list'",
     "output_type": "error",
     "traceback": [
      "\u001b[0;31m---------------------------------------------------------------------------\u001b[0m",
      "\u001b[0;31mTypeError\u001b[0m                                 Traceback (most recent call last)",
      "\u001b[0;32m<ipython-input-4-13b23aae5882>\u001b[0m in \u001b[0;36mplot\u001b[0;34m(self, button)\u001b[0m\n\u001b[1;32m     70\u001b[0m \u001b[0;34m\u001b[0m\u001b[0m\n\u001b[1;32m     71\u001b[0m     \u001b[0;32mdef\u001b[0m \u001b[0mplot\u001b[0m\u001b[0;34m(\u001b[0m\u001b[0mself\u001b[0m\u001b[0;34m,\u001b[0m \u001b[0mbutton\u001b[0m\u001b[0;34m)\u001b[0m\u001b[0;34m:\u001b[0m\u001b[0;34m\u001b[0m\u001b[0m\n\u001b[0;32m---> 72\u001b[0;31m         \u001b[0mself\u001b[0m\u001b[0;34m.\u001b[0m\u001b[0mplot_visuals\u001b[0m\u001b[0;34m(\u001b[0m\u001b[0;34m)\u001b[0m\u001b[0;34m\u001b[0m\u001b[0m\n\u001b[0m\u001b[1;32m     73\u001b[0m \u001b[0;34m\u001b[0m\u001b[0m\n\u001b[1;32m     74\u001b[0m     \u001b[0;32mdef\u001b[0m \u001b[0mplot_visuals\u001b[0m\u001b[0;34m(\u001b[0m\u001b[0mself\u001b[0m\u001b[0;34m)\u001b[0m\u001b[0;34m:\u001b[0m\u001b[0;34m\u001b[0m\u001b[0m\n",
      "\u001b[0;32m<ipython-input-4-13b23aae5882>\u001b[0m in \u001b[0;36mplot_visuals\u001b[0;34m(self)\u001b[0m\n\u001b[1;32m     90\u001b[0m                 \u001b[0mg_fig\u001b[0m \u001b[0;34m=\u001b[0m \u001b[0mgraph_vis\u001b[0m\u001b[0;34m.\u001b[0m\u001b[0mvis_G\u001b[0m\u001b[0;34m(\u001b[0m\u001b[0msim_graph\u001b[0m\u001b[0;34m,\u001b[0m \u001b[0mself\u001b[0m\u001b[0;34m.\u001b[0m\u001b[0mradius\u001b[0m\u001b[0;34m,\u001b[0m \u001b[0msim_util\u001b[0m\u001b[0;34m,\u001b[0m \u001b[0mmode\u001b[0m\u001b[0;34m=\u001b[0m\u001b[0;34m'grid'\u001b[0m\u001b[0;34m,\u001b[0m \u001b[0mntwk_name\u001b[0m\u001b[0;34m=\u001b[0m\u001b[0mntwk\u001b[0m\u001b[0;34m)\u001b[0m\u001b[0;34m\u001b[0m\u001b[0m\n\u001b[1;32m     91\u001b[0m             \u001b[0;32melse\u001b[0m\u001b[0;34m:\u001b[0m\u001b[0;34m\u001b[0m\u001b[0m\n\u001b[0;32m---> 92\u001b[0;31m                 \u001b[0mg_fig\u001b[0m \u001b[0;34m=\u001b[0m \u001b[0mgraph_vis\u001b[0m\u001b[0;34m.\u001b[0m\u001b[0mvis_G\u001b[0m\u001b[0;34m(\u001b[0m\u001b[0msim_graph\u001b[0m\u001b[0;34m,\u001b[0m \u001b[0mself\u001b[0m\u001b[0;34m.\u001b[0m\u001b[0mradius\u001b[0m\u001b[0;34m,\u001b[0m \u001b[0msim_util\u001b[0m\u001b[0;34m,\u001b[0m \u001b[0mmode\u001b[0m\u001b[0;34m=\u001b[0m\u001b[0;34m'ring'\u001b[0m\u001b[0;34m,\u001b[0m \u001b[0mntwk_name\u001b[0m\u001b[0;34m=\u001b[0m\u001b[0mntwk\u001b[0m\u001b[0;34m)\u001b[0m\u001b[0;34m\u001b[0m\u001b[0m\n\u001b[0m\u001b[1;32m     93\u001b[0m \u001b[0;34m\u001b[0m\u001b[0m\n\u001b[1;32m     94\u001b[0m             \u001b[0miplot\u001b[0m\u001b[0;34m(\u001b[0m\u001b[0mg_fig\u001b[0m\u001b[0;34m)\u001b[0m\u001b[0;34m\u001b[0m\u001b[0m\n",
      "\u001b[0;32m~/crowd-dynamics-lab/IESimulation/sim_lib/graph_vis.py\u001b[0m in \u001b[0;36mvis_G\u001b[0;34m(G, radius, utils, mode, ntwk_name)\u001b[0m\n\u001b[1;32m    222\u001b[0m \u001b[0;34m\u001b[0m\u001b[0m\n\u001b[1;32m    223\u001b[0m         \u001b[0;31m# Update color\u001b[0m\u001b[0;34m\u001b[0m\u001b[0;34m\u001b[0m\u001b[0m\n\u001b[0;32m--> 224\u001b[0;31m         \u001b[0mvt_cpy\u001b[0m\u001b[0;34m[\u001b[0m\u001b[0;34m'marker'\u001b[0m\u001b[0;34m]\u001b[0m\u001b[0;34m[\u001b[0m\u001b[0;34m'color'\u001b[0m\u001b[0;34m]\u001b[0m \u001b[0;34m=\u001b[0m \u001b[0mtuple\u001b[0m\u001b[0;34m(\u001b[0m\u001b[0mstr\u001b[0m\u001b[0;34m(\u001b[0m\u001b[0mfloat\u001b[0m\u001b[0;34m(\u001b[0m\u001b[0mutil\u001b[0m\u001b[0;34m)\u001b[0m \u001b[0;34m-\u001b[0m \u001b[0;36m0.5\u001b[0m\u001b[0;34m)\u001b[0m\u001b[0;34m)\u001b[0m\u001b[0;34m\u001b[0m\u001b[0m\n\u001b[0m\u001b[1;32m    225\u001b[0m \u001b[0;34m\u001b[0m\u001b[0m\n\u001b[1;32m    226\u001b[0m         slider_step = { 'args' : [\n",
      "\u001b[0;31mTypeError\u001b[0m: float() argument must be a string or a number, not 'list'"
     ]
    }
   ],
   "source": [
    "ngv = NtwkGraphVis(ntwk_data, 10)"
   ]
  },
  {
   "cell_type": "code",
   "execution_count": null,
   "metadata": {},
   "outputs": [],
   "source": []
  }
 ],
 "metadata": {
  "kernelspec": {
   "display_name": "Python 3",
   "language": "python",
   "name": "python3"
  },
  "language_info": {
   "codemirror_mode": {
    "name": "ipython",
    "version": 3
   },
   "file_extension": ".py",
   "mimetype": "text/x-python",
   "name": "python",
   "nbconvert_exporter": "python",
   "pygments_lexer": "ipython3",
   "version": "3.6.2"
  }
 },
 "nbformat": 4,
 "nbformat_minor": 2
}
