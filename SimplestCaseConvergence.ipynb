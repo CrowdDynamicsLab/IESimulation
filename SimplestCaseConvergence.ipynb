{
 "cells": [
  {
   "cell_type": "code",
   "execution_count": 1,
   "metadata": {},
   "outputs": [
    {
     "data": {
      "text/html": [
       "<script type=\"text/javascript\">window.PlotlyConfig = {MathJaxConfig: 'local'};</script><script type=\"text/javascript\">if (window.MathJax) {MathJax.Hub.Config({SVG: {font: \"STIX-Web\"}});}</script><script>requirejs.config({paths: { 'plotly': ['https://cdn.plot.ly/plotly-latest.min']},});if(!window._Plotly) {require(['plotly'],function(plotly) {window._Plotly=plotly;});}</script>"
      ],
      "text/vnd.plotly.v1+html": [
       "<script type=\"text/javascript\">window.PlotlyConfig = {MathJaxConfig: 'local'};</script><script type=\"text/javascript\">if (window.MathJax) {MathJax.Hub.Config({SVG: {font: \"STIX-Web\"}});}</script><script>requirejs.config({paths: { 'plotly': ['https://cdn.plot.ly/plotly-latest.min']},});if(!window._Plotly) {require(['plotly'],function(plotly) {window._Plotly=plotly;});}</script>"
      ]
     },
     "metadata": {},
     "output_type": "display_data"
    }
   ],
   "source": [
    "from plotly.offline import init_notebook_mode, iplot\n",
    "import plotly.graph_objs as go\n",
    "import numpy as np\n",
    "from math import ceil\n",
    "\n",
    "from simulation import run_simulation\n",
    "from graph_create import const_kregular, reduce_providers_simplest\n",
    "\n",
    "init_notebook_mode(connected=True)"
   ]
  },
  {
   "cell_type": "code",
   "execution_count": 2,
   "metadata": {},
   "outputs": [],
   "source": [
    "def plot_utils(p_utils, r):\n",
    "    fig = go.Figure()\n",
    "\n",
    "    red_vals = np.linspace(200, 0, 10, endpoint=False)\n",
    "    for p_idx, (p, utils) in enumerate(p_utils):\n",
    "        x_vals = list(range(len(utils)))\n",
    "        rgb = 'rgb({0}, 70, 200)'\n",
    "        rgb_col = rgb.format(red_vals[p_idx])\n",
    "        p_hover = 'p={0}'.format(p)\n",
    "        fig.add_trace(go.Scatter(x=x_vals,\n",
    "            y=utils, mode='lines+markers', hoverinfo='text',\n",
    "            hovertext=p_hover,\n",
    "            marker=dict(color=rgb_col)))\n",
    "    fig.layout.update(showlegend=False)\n",
    "    title_fmt = \"Social Welfare vs Iteration (r={0})\"\n",
    "    plot_title = title_fmt.format(r)\n",
    "    fig.layout.update(title=plot_title)\n",
    "\n",
    "    iplot(fig)"
   ]
  },
  {
   "cell_type": "code",
   "execution_count": 3,
   "metadata": {},
   "outputs": [],
   "source": [
    "# Constants\n",
    "num_vertices = 100\n",
    "regularity = 4"
   ]
  },
  {
   "cell_type": "code",
   "execution_count": 4,
   "metadata": {},
   "outputs": [
    {
     "data": {
      "application/vnd.plotly.v1+json": {
       "config": {
        "linkText": "Export to plot.ly",
        "plotlyServerURL": "https://plot.ly",
        "showLink": false
       },
       "data": [
        {
         "hoverinfo": "text",
         "hovertext": "p=1.0",
         "marker": {
          "color": "rgb(200.0, 70, 200)"
         },
         "mode": "lines+markers",
         "type": "scatter",
         "uid": "e048f2da-f511-4530-89e8-c8dea96125d7",
         "x": [
          0,
          1,
          2,
          3,
          4,
          5,
          6,
          7,
          8,
          9
         ],
         "y": [
          1,
          7,
          23,
          47,
          57,
          62,
          71,
          86,
          97,
          100
         ]
        },
        {
         "hoverinfo": "text",
         "hovertext": "p=0.9",
         "marker": {
          "color": "rgb(180.0, 70, 200)"
         },
         "mode": "lines+markers",
         "type": "scatter",
         "uid": "c130315d-4a69-44f9-a700-04c354f041d4",
         "x": [
          0,
          1,
          2,
          3,
          4,
          5,
          6,
          7,
          8,
          9
         ],
         "y": [
          1,
          5,
          16,
          28,
          35,
          49,
          69,
          83,
          97,
          100
         ]
        },
        {
         "hoverinfo": "text",
         "hovertext": "p=0.8",
         "marker": {
          "color": "rgb(160.0, 70, 200)"
         },
         "mode": "lines+markers",
         "type": "scatter",
         "uid": "b2e0e147-2092-409c-b106-fe6fbec101b5",
         "x": [
          0,
          1,
          2,
          3,
          4,
          5,
          6,
          7,
          8,
          9,
          10
         ],
         "y": [
          1,
          6,
          15,
          29,
          44,
          53,
          74,
          82,
          91,
          99,
          100
         ]
        },
        {
         "hoverinfo": "text",
         "hovertext": "p=0.7",
         "marker": {
          "color": "rgb(140.0, 70, 200)"
         },
         "mode": "lines+markers",
         "type": "scatter",
         "uid": "0934c684-fa30-4b27-ba02-56edca075e1a",
         "x": [
          0,
          1,
          2,
          3,
          4,
          5,
          6,
          7,
          8,
          9
         ],
         "y": [
          1,
          9,
          19,
          35,
          45,
          57,
          71,
          91,
          99,
          100
         ]
        },
        {
         "hoverinfo": "text",
         "hovertext": "p=0.6",
         "marker": {
          "color": "rgb(120.0, 70, 200)"
         },
         "mode": "lines+markers",
         "type": "scatter",
         "uid": "cb7f5942-fee5-44ad-9d89-1998d1d2be16",
         "x": [
          0,
          1,
          2,
          3,
          4,
          5,
          6,
          7,
          8,
          9,
          10
         ],
         "y": [
          1,
          10,
          18,
          26,
          39,
          49,
          61,
          77,
          88,
          98,
          100
         ]
        },
        {
         "hoverinfo": "text",
         "hovertext": "p=0.5",
         "marker": {
          "color": "rgb(100.0, 70, 200)"
         },
         "mode": "lines+markers",
         "type": "scatter",
         "uid": "e8e3dd05-8c80-4672-92c9-718405b27abf",
         "x": [
          0,
          1,
          2,
          3,
          4,
          5,
          6,
          7,
          8,
          9
         ],
         "y": [
          1,
          12,
          22,
          29,
          36,
          61,
          71,
          76,
          92,
          100
         ]
        },
        {
         "hoverinfo": "text",
         "hovertext": "p=0.3999999999999999",
         "marker": {
          "color": "rgb(80.0, 70, 200)"
         },
         "mode": "lines+markers",
         "type": "scatter",
         "uid": "0ce6efe7-9378-4b64-b561-346eaad49a64",
         "x": [
          0,
          1,
          2,
          3,
          4,
          5,
          6,
          7,
          8,
          9
         ],
         "y": [
          1,
          17,
          26,
          39,
          49,
          57,
          68,
          86,
          98,
          100
         ]
        },
        {
         "hoverinfo": "text",
         "hovertext": "p=0.29999999999999993",
         "marker": {
          "color": "rgb(60.0, 70, 200)"
         },
         "mode": "lines+markers",
         "type": "scatter",
         "uid": "fc440c86-8260-4b9b-81fa-10eb88626a4c",
         "x": [
          0,
          1,
          2,
          3,
          4,
          5,
          6,
          7,
          8,
          9,
          10
         ],
         "y": [
          1,
          12,
          23,
          34,
          40,
          47,
          56,
          68,
          82,
          89,
          100
         ]
        },
        {
         "hoverinfo": "text",
         "hovertext": "p=0.19999999999999996",
         "marker": {
          "color": "rgb(40.0, 70, 200)"
         },
         "mode": "lines+markers",
         "type": "scatter",
         "uid": "77f2e9de-5ce3-4600-9dc1-b15ad85414a6",
         "x": [
          0,
          1,
          2,
          3,
          4,
          5,
          6,
          7,
          8
         ],
         "y": [
          1,
          16,
          28,
          44,
          63,
          71,
          78,
          87,
          100
         ]
        },
        {
         "hoverinfo": "text",
         "hovertext": "p=0.09999999999999998",
         "marker": {
          "color": "rgb(20.0, 70, 200)"
         },
         "mode": "lines+markers",
         "type": "scatter",
         "uid": "45b893ac-4ef4-4110-9578-e1b04e9987e8",
         "x": [
          0,
          1,
          2,
          3,
          4,
          5,
          6,
          7,
          8
         ],
         "y": [
          1,
          16,
          27,
          41,
          55,
          63,
          70,
          85,
          100
         ]
        }
       ],
       "layout": {
        "showlegend": false,
        "title": {
         "text": "Social Welfare vs Iteration (r=100.0)"
        }
       }
      },
      "text/html": [
       "<div id=\"cf24937f-0b61-46d2-9832-a4ad26ae8fc8\" style=\"height: 525px; width: 100%;\" class=\"plotly-graph-div\"></div><script type=\"text/javascript\">require([\"plotly\"], function(Plotly) { window.PLOTLYENV=window.PLOTLYENV || {};window.PLOTLYENV.BASE_URL=\"https://plot.ly\";\n",
       "if (document.getElementById(\"cf24937f-0b61-46d2-9832-a4ad26ae8fc8\")) {\n",
       "    Plotly.newPlot(\"cf24937f-0b61-46d2-9832-a4ad26ae8fc8\", [{\"hoverinfo\": \"text\", \"hovertext\": \"p=1.0\", \"marker\": {\"color\": \"rgb(200.0, 70, 200)\"}, \"mode\": \"lines+markers\", \"x\": [0, 1, 2, 3, 4, 5, 6, 7, 8, 9], \"y\": [1.0, 7.0, 23.0, 47.0, 57.0, 62.0, 71.0, 86.0, 97.0, 100.0], \"type\": \"scatter\", \"uid\": \"e048f2da-f511-4530-89e8-c8dea96125d7\"}, {\"hoverinfo\": \"text\", \"hovertext\": \"p=0.9\", \"marker\": {\"color\": \"rgb(180.0, 70, 200)\"}, \"mode\": \"lines+markers\", \"x\": [0, 1, 2, 3, 4, 5, 6, 7, 8, 9], \"y\": [1.0, 5.0, 16.0, 28.0, 35.0, 49.0, 69.0, 83.0, 97.0, 100.0], \"type\": \"scatter\", \"uid\": \"c130315d-4a69-44f9-a700-04c354f041d4\"}, {\"hoverinfo\": \"text\", \"hovertext\": \"p=0.8\", \"marker\": {\"color\": \"rgb(160.0, 70, 200)\"}, \"mode\": \"lines+markers\", \"x\": [0, 1, 2, 3, 4, 5, 6, 7, 8, 9, 10], \"y\": [1.0, 6.0, 15.0, 29.0, 44.0, 53.0, 74.0, 82.0, 91.0, 99.0, 100.0], \"type\": \"scatter\", \"uid\": \"b2e0e147-2092-409c-b106-fe6fbec101b5\"}, {\"hoverinfo\": \"text\", \"hovertext\": \"p=0.7\", \"marker\": {\"color\": \"rgb(140.0, 70, 200)\"}, \"mode\": \"lines+markers\", \"x\": [0, 1, 2, 3, 4, 5, 6, 7, 8, 9], \"y\": [1.0, 9.0, 19.0, 35.0, 45.0, 57.0, 71.0, 91.0, 99.0, 100.0], \"type\": \"scatter\", \"uid\": \"0934c684-fa30-4b27-ba02-56edca075e1a\"}, {\"hoverinfo\": \"text\", \"hovertext\": \"p=0.6\", \"marker\": {\"color\": \"rgb(120.0, 70, 200)\"}, \"mode\": \"lines+markers\", \"x\": [0, 1, 2, 3, 4, 5, 6, 7, 8, 9, 10], \"y\": [1.0, 10.0, 18.0, 26.0, 39.0, 49.0, 61.0, 77.0, 88.0, 98.0, 100.0], \"type\": \"scatter\", \"uid\": \"cb7f5942-fee5-44ad-9d89-1998d1d2be16\"}, {\"hoverinfo\": \"text\", \"hovertext\": \"p=0.5\", \"marker\": {\"color\": \"rgb(100.0, 70, 200)\"}, \"mode\": \"lines+markers\", \"x\": [0, 1, 2, 3, 4, 5, 6, 7, 8, 9], \"y\": [1.0, 12.0, 22.0, 29.0, 36.0, 61.0, 71.0, 76.0, 92.0, 100.0], \"type\": \"scatter\", \"uid\": \"e8e3dd05-8c80-4672-92c9-718405b27abf\"}, {\"hoverinfo\": \"text\", \"hovertext\": \"p=0.3999999999999999\", \"marker\": {\"color\": \"rgb(80.0, 70, 200)\"}, \"mode\": \"lines+markers\", \"x\": [0, 1, 2, 3, 4, 5, 6, 7, 8, 9], \"y\": [1.0, 17.0, 26.0, 39.0, 49.0, 57.0, 68.0, 86.0, 98.0, 100.0], \"type\": \"scatter\", \"uid\": \"0ce6efe7-9378-4b64-b561-346eaad49a64\"}, {\"hoverinfo\": \"text\", \"hovertext\": \"p=0.29999999999999993\", \"marker\": {\"color\": \"rgb(60.0, 70, 200)\"}, \"mode\": \"lines+markers\", \"x\": [0, 1, 2, 3, 4, 5, 6, 7, 8, 9, 10], \"y\": [1.0, 12.0, 23.0, 34.0, 40.0, 47.0, 56.0, 68.0, 82.0, 89.0, 100.0], \"type\": \"scatter\", \"uid\": \"fc440c86-8260-4b9b-81fa-10eb88626a4c\"}, {\"hoverinfo\": \"text\", \"hovertext\": \"p=0.19999999999999996\", \"marker\": {\"color\": \"rgb(40.0, 70, 200)\"}, \"mode\": \"lines+markers\", \"x\": [0, 1, 2, 3, 4, 5, 6, 7, 8], \"y\": [1.0, 16.0, 28.0, 44.0, 63.0, 71.0, 78.0, 87.0, 100.0], \"type\": \"scatter\", \"uid\": \"77f2e9de-5ce3-4600-9dc1-b15ad85414a6\"}, {\"hoverinfo\": \"text\", \"hovertext\": \"p=0.09999999999999998\", \"marker\": {\"color\": \"rgb(20.0, 70, 200)\"}, \"mode\": \"lines+markers\", \"x\": [0, 1, 2, 3, 4, 5, 6, 7, 8], \"y\": [1.0, 16.0, 27.0, 41.0, 55.0, 63.0, 70.0, 85.0, 100.0], \"type\": \"scatter\", \"uid\": \"45b893ac-4ef4-4110-9578-e1b04e9987e8\"}], {\"showlegend\": false, \"title\": {\"text\": \"Social Welfare vs Iteration (r=100.0)\"}}, {\"showLink\": false, \"linkText\": \"Export to plot.ly\", \"plotlyServerURL\": \"https://plot.ly\"}); \n",
       "}\n",
       "});</script><script type=\"text/javascript\">window.addEventListener(\"resize\", function(){if (document.getElementById(\"cf24937f-0b61-46d2-9832-a4ad26ae8fc8\")) {window._Plotly.Plots.resize(document.getElementById(\"cf24937f-0b61-46d2-9832-a4ad26ae8fc8\"));};})</script>"
      ],
      "text/vnd.plotly.v1+html": [
       "<div id=\"cf24937f-0b61-46d2-9832-a4ad26ae8fc8\" style=\"height: 525px; width: 100%;\" class=\"plotly-graph-div\"></div><script type=\"text/javascript\">require([\"plotly\"], function(Plotly) { window.PLOTLYENV=window.PLOTLYENV || {};window.PLOTLYENV.BASE_URL=\"https://plot.ly\";\n",
       "if (document.getElementById(\"cf24937f-0b61-46d2-9832-a4ad26ae8fc8\")) {\n",
       "    Plotly.newPlot(\"cf24937f-0b61-46d2-9832-a4ad26ae8fc8\", [{\"hoverinfo\": \"text\", \"hovertext\": \"p=1.0\", \"marker\": {\"color\": \"rgb(200.0, 70, 200)\"}, \"mode\": \"lines+markers\", \"x\": [0, 1, 2, 3, 4, 5, 6, 7, 8, 9], \"y\": [1.0, 7.0, 23.0, 47.0, 57.0, 62.0, 71.0, 86.0, 97.0, 100.0], \"type\": \"scatter\", \"uid\": \"e048f2da-f511-4530-89e8-c8dea96125d7\"}, {\"hoverinfo\": \"text\", \"hovertext\": \"p=0.9\", \"marker\": {\"color\": \"rgb(180.0, 70, 200)\"}, \"mode\": \"lines+markers\", \"x\": [0, 1, 2, 3, 4, 5, 6, 7, 8, 9], \"y\": [1.0, 5.0, 16.0, 28.0, 35.0, 49.0, 69.0, 83.0, 97.0, 100.0], \"type\": \"scatter\", \"uid\": \"c130315d-4a69-44f9-a700-04c354f041d4\"}, {\"hoverinfo\": \"text\", \"hovertext\": \"p=0.8\", \"marker\": {\"color\": \"rgb(160.0, 70, 200)\"}, \"mode\": \"lines+markers\", \"x\": [0, 1, 2, 3, 4, 5, 6, 7, 8, 9, 10], \"y\": [1.0, 6.0, 15.0, 29.0, 44.0, 53.0, 74.0, 82.0, 91.0, 99.0, 100.0], \"type\": \"scatter\", \"uid\": \"b2e0e147-2092-409c-b106-fe6fbec101b5\"}, {\"hoverinfo\": \"text\", \"hovertext\": \"p=0.7\", \"marker\": {\"color\": \"rgb(140.0, 70, 200)\"}, \"mode\": \"lines+markers\", \"x\": [0, 1, 2, 3, 4, 5, 6, 7, 8, 9], \"y\": [1.0, 9.0, 19.0, 35.0, 45.0, 57.0, 71.0, 91.0, 99.0, 100.0], \"type\": \"scatter\", \"uid\": \"0934c684-fa30-4b27-ba02-56edca075e1a\"}, {\"hoverinfo\": \"text\", \"hovertext\": \"p=0.6\", \"marker\": {\"color\": \"rgb(120.0, 70, 200)\"}, \"mode\": \"lines+markers\", \"x\": [0, 1, 2, 3, 4, 5, 6, 7, 8, 9, 10], \"y\": [1.0, 10.0, 18.0, 26.0, 39.0, 49.0, 61.0, 77.0, 88.0, 98.0, 100.0], \"type\": \"scatter\", \"uid\": \"cb7f5942-fee5-44ad-9d89-1998d1d2be16\"}, {\"hoverinfo\": \"text\", \"hovertext\": \"p=0.5\", \"marker\": {\"color\": \"rgb(100.0, 70, 200)\"}, \"mode\": \"lines+markers\", \"x\": [0, 1, 2, 3, 4, 5, 6, 7, 8, 9], \"y\": [1.0, 12.0, 22.0, 29.0, 36.0, 61.0, 71.0, 76.0, 92.0, 100.0], \"type\": \"scatter\", \"uid\": \"e8e3dd05-8c80-4672-92c9-718405b27abf\"}, {\"hoverinfo\": \"text\", \"hovertext\": \"p=0.3999999999999999\", \"marker\": {\"color\": \"rgb(80.0, 70, 200)\"}, \"mode\": \"lines+markers\", \"x\": [0, 1, 2, 3, 4, 5, 6, 7, 8, 9], \"y\": [1.0, 17.0, 26.0, 39.0, 49.0, 57.0, 68.0, 86.0, 98.0, 100.0], \"type\": \"scatter\", \"uid\": \"0ce6efe7-9378-4b64-b561-346eaad49a64\"}, {\"hoverinfo\": \"text\", \"hovertext\": \"p=0.29999999999999993\", \"marker\": {\"color\": \"rgb(60.0, 70, 200)\"}, \"mode\": \"lines+markers\", \"x\": [0, 1, 2, 3, 4, 5, 6, 7, 8, 9, 10], \"y\": [1.0, 12.0, 23.0, 34.0, 40.0, 47.0, 56.0, 68.0, 82.0, 89.0, 100.0], \"type\": \"scatter\", \"uid\": \"fc440c86-8260-4b9b-81fa-10eb88626a4c\"}, {\"hoverinfo\": \"text\", \"hovertext\": \"p=0.19999999999999996\", \"marker\": {\"color\": \"rgb(40.0, 70, 200)\"}, \"mode\": \"lines+markers\", \"x\": [0, 1, 2, 3, 4, 5, 6, 7, 8], \"y\": [1.0, 16.0, 28.0, 44.0, 63.0, 71.0, 78.0, 87.0, 100.0], \"type\": \"scatter\", \"uid\": \"77f2e9de-5ce3-4600-9dc1-b15ad85414a6\"}, {\"hoverinfo\": \"text\", \"hovertext\": \"p=0.09999999999999998\", \"marker\": {\"color\": \"rgb(20.0, 70, 200)\"}, \"mode\": \"lines+markers\", \"x\": [0, 1, 2, 3, 4, 5, 6, 7, 8], \"y\": [1.0, 16.0, 27.0, 41.0, 55.0, 63.0, 70.0, 85.0, 100.0], \"type\": \"scatter\", \"uid\": \"45b893ac-4ef4-4110-9578-e1b04e9987e8\"}], {\"showlegend\": false, \"title\": {\"text\": \"Social Welfare vs Iteration (r=100.0)\"}}, {\"showLink\": false, \"linkText\": \"Export to plot.ly\", \"plotlyServerURL\": \"https://plot.ly\"}); \n",
       "}\n",
       "});</script><script type=\"text/javascript\">window.addEventListener(\"resize\", function(){if (document.getElementById(\"cf24937f-0b61-46d2-9832-a4ad26ae8fc8\")) {window._Plotly.Plots.resize(document.getElementById(\"cf24937f-0b61-46d2-9832-a4ad26ae8fc8\"));};})</script>"
      ]
     },
     "metadata": {},
     "output_type": "display_data"
    },
    {
     "data": {
      "application/vnd.plotly.v1+json": {
       "config": {
        "linkText": "Export to plot.ly",
        "plotlyServerURL": "https://plot.ly",
        "showLink": false
       },
       "data": [
        {
         "hoverinfo": "text",
         "hovertext": "p=1.0",
         "marker": {
          "color": "rgb(200.0, 70, 200)"
         },
         "mode": "lines+markers",
         "type": "scatter",
         "uid": "9d31898b-173d-4fb6-aa7a-64d3e888339f",
         "x": [
          0,
          1,
          2,
          3,
          4,
          5,
          6,
          7,
          8,
          9,
          10,
          11
         ],
         "y": [
          1,
          13,
          24,
          32,
          38,
          48,
          58,
          69,
          74,
          83,
          97,
          100
         ]
        },
        {
         "hoverinfo": "text",
         "hovertext": "p=0.9",
         "marker": {
          "color": "rgb(180.0, 70, 200)"
         },
         "mode": "lines+markers",
         "type": "scatter",
         "uid": "741d01f6-b9e9-416e-8293-4ad02780767f",
         "x": [
          0,
          1,
          2,
          3,
          4,
          5,
          6,
          7,
          8,
          9
         ],
         "y": [
          1,
          16,
          25,
          37,
          43,
          55,
          64,
          78,
          97,
          100
         ]
        },
        {
         "hoverinfo": "text",
         "hovertext": "p=0.8",
         "marker": {
          "color": "rgb(160.0, 70, 200)"
         },
         "mode": "lines+markers",
         "type": "scatter",
         "uid": "56a804dd-ef98-42c4-8020-15b10c0c007a",
         "x": [
          0,
          1,
          2,
          3,
          4,
          5,
          6,
          7,
          8
         ],
         "y": [
          1,
          5,
          26,
          37,
          44,
          60,
          80,
          98,
          100
         ]
        },
        {
         "hoverinfo": "text",
         "hovertext": "p=0.7",
         "marker": {
          "color": "rgb(140.0, 70, 200)"
         },
         "mode": "lines+markers",
         "type": "scatter",
         "uid": "f1c72176-37b1-40fc-a4e4-db7d679ecb78",
         "x": [
          0,
          1,
          2,
          3,
          4,
          5,
          6,
          7,
          8,
          9,
          10
         ],
         "y": [
          1,
          5,
          11,
          24,
          34,
          46,
          66,
          80,
          88,
          94,
          100
         ]
        },
        {
         "hoverinfo": "text",
         "hovertext": "p=0.6",
         "marker": {
          "color": "rgb(120.0, 70, 200)"
         },
         "mode": "lines+markers",
         "type": "scatter",
         "uid": "26583040-4c7e-41ff-a04e-7b2abb850b1b",
         "x": [
          0,
          1,
          2,
          3,
          4,
          5,
          6,
          7,
          8
         ],
         "y": [
          1,
          16,
          29,
          45,
          61,
          74,
          83,
          94,
          100
         ]
        },
        {
         "hoverinfo": "text",
         "hovertext": "p=0.5",
         "marker": {
          "color": "rgb(100.0, 70, 200)"
         },
         "mode": "lines+markers",
         "type": "scatter",
         "uid": "9f770a35-0106-4c96-86a1-b8885d650a0b",
         "x": [
          0,
          1,
          2,
          3,
          4,
          5,
          6,
          7,
          8,
          9
         ],
         "y": [
          1,
          13,
          21,
          30,
          37,
          57,
          75,
          89,
          99,
          100
         ]
        },
        {
         "hoverinfo": "text",
         "hovertext": "p=0.3999999999999999",
         "marker": {
          "color": "rgb(80.0, 70, 200)"
         },
         "mode": "lines+markers",
         "type": "scatter",
         "uid": "434477e1-4183-4f08-a15e-fe9c5480edbc",
         "x": [
          0,
          1,
          2,
          3,
          4,
          5,
          6,
          7,
          8,
          9
         ],
         "y": [
          1,
          5,
          16,
          25,
          45,
          54,
          70,
          85,
          99,
          100
         ]
        },
        {
         "hoverinfo": "text",
         "hovertext": "p=0.29999999999999993",
         "marker": {
          "color": "rgb(60.0, 70, 200)"
         },
         "mode": "lines+markers",
         "type": "scatter",
         "uid": "30eed059-5b48-4428-9323-90ef3bbed2be",
         "x": [
          0,
          1,
          2,
          3,
          4,
          5,
          6,
          7,
          8
         ],
         "y": [
          1,
          18,
          30,
          41,
          46,
          61,
          78,
          91,
          100
         ]
        },
        {
         "hoverinfo": "text",
         "hovertext": "p=0.19999999999999996",
         "marker": {
          "color": "rgb(40.0, 70, 200)"
         },
         "mode": "lines+markers",
         "type": "scatter",
         "uid": "7485043a-48f9-4209-bd46-44e94c172b8c",
         "x": [
          0,
          1,
          2,
          3,
          4,
          5,
          6,
          7,
          8
         ],
         "y": [
          1,
          18,
          38,
          49,
          63,
          80,
          90,
          99,
          100
         ]
        },
        {
         "hoverinfo": "text",
         "hovertext": "p=0.09999999999999998",
         "marker": {
          "color": "rgb(20.0, 70, 200)"
         },
         "mode": "lines+markers",
         "type": "scatter",
         "uid": "9641295f-67d2-44c6-b2f0-5165aaaf19f4",
         "x": [
          0,
          1,
          2,
          3,
          4,
          5,
          6,
          7,
          8,
          9,
          10,
          11
         ],
         "y": [
          1,
          15,
          20,
          29,
          37,
          44,
          51,
          60,
          71,
          78,
          89,
          100
         ]
        }
       ],
       "layout": {
        "showlegend": false,
        "title": {
         "text": "Social Welfare vs Iteration (r=90.0)"
        }
       }
      },
      "text/html": [
       "<div id=\"dc86df26-fe67-44c0-8787-1f908a1384bb\" style=\"height: 525px; width: 100%;\" class=\"plotly-graph-div\"></div><script type=\"text/javascript\">require([\"plotly\"], function(Plotly) { window.PLOTLYENV=window.PLOTLYENV || {};window.PLOTLYENV.BASE_URL=\"https://plot.ly\";\n",
       "if (document.getElementById(\"dc86df26-fe67-44c0-8787-1f908a1384bb\")) {\n",
       "    Plotly.newPlot(\"dc86df26-fe67-44c0-8787-1f908a1384bb\", [{\"hoverinfo\": \"text\", \"hovertext\": \"p=1.0\", \"marker\": {\"color\": \"rgb(200.0, 70, 200)\"}, \"mode\": \"lines+markers\", \"x\": [0, 1, 2, 3, 4, 5, 6, 7, 8, 9, 10, 11], \"y\": [1.0, 13.0, 24.0, 32.0, 38.0, 48.0, 58.0, 69.0, 74.0, 83.0, 97.0, 100.0], \"type\": \"scatter\", \"uid\": \"9d31898b-173d-4fb6-aa7a-64d3e888339f\"}, {\"hoverinfo\": \"text\", \"hovertext\": \"p=0.9\", \"marker\": {\"color\": \"rgb(180.0, 70, 200)\"}, \"mode\": \"lines+markers\", \"x\": [0, 1, 2, 3, 4, 5, 6, 7, 8, 9], \"y\": [1.0, 16.0, 25.0, 37.0, 43.0, 55.0, 64.0, 78.0, 97.0, 100.0], \"type\": \"scatter\", \"uid\": \"741d01f6-b9e9-416e-8293-4ad02780767f\"}, {\"hoverinfo\": \"text\", \"hovertext\": \"p=0.8\", \"marker\": {\"color\": \"rgb(160.0, 70, 200)\"}, \"mode\": \"lines+markers\", \"x\": [0, 1, 2, 3, 4, 5, 6, 7, 8], \"y\": [1.0, 5.0, 26.0, 37.0, 44.0, 60.0, 80.0, 98.0, 100.0], \"type\": \"scatter\", \"uid\": \"56a804dd-ef98-42c4-8020-15b10c0c007a\"}, {\"hoverinfo\": \"text\", \"hovertext\": \"p=0.7\", \"marker\": {\"color\": \"rgb(140.0, 70, 200)\"}, \"mode\": \"lines+markers\", \"x\": [0, 1, 2, 3, 4, 5, 6, 7, 8, 9, 10], \"y\": [1.0, 5.0, 11.0, 24.0, 34.0, 46.0, 66.0, 80.0, 88.0, 94.0, 100.0], \"type\": \"scatter\", \"uid\": \"f1c72176-37b1-40fc-a4e4-db7d679ecb78\"}, {\"hoverinfo\": \"text\", \"hovertext\": \"p=0.6\", \"marker\": {\"color\": \"rgb(120.0, 70, 200)\"}, \"mode\": \"lines+markers\", \"x\": [0, 1, 2, 3, 4, 5, 6, 7, 8], \"y\": [1.0, 16.0, 29.0, 45.0, 61.0, 74.0, 83.0, 94.0, 100.0], \"type\": \"scatter\", \"uid\": \"26583040-4c7e-41ff-a04e-7b2abb850b1b\"}, {\"hoverinfo\": \"text\", \"hovertext\": \"p=0.5\", \"marker\": {\"color\": \"rgb(100.0, 70, 200)\"}, \"mode\": \"lines+markers\", \"x\": [0, 1, 2, 3, 4, 5, 6, 7, 8, 9], \"y\": [1.0, 13.0, 21.0, 30.0, 37.0, 57.0, 75.0, 89.0, 99.0, 100.0], \"type\": \"scatter\", \"uid\": \"9f770a35-0106-4c96-86a1-b8885d650a0b\"}, {\"hoverinfo\": \"text\", \"hovertext\": \"p=0.3999999999999999\", \"marker\": {\"color\": \"rgb(80.0, 70, 200)\"}, \"mode\": \"lines+markers\", \"x\": [0, 1, 2, 3, 4, 5, 6, 7, 8, 9], \"y\": [1.0, 5.0, 16.0, 25.0, 45.0, 54.0, 70.0, 85.0, 99.0, 100.0], \"type\": \"scatter\", \"uid\": \"434477e1-4183-4f08-a15e-fe9c5480edbc\"}, {\"hoverinfo\": \"text\", \"hovertext\": \"p=0.29999999999999993\", \"marker\": {\"color\": \"rgb(60.0, 70, 200)\"}, \"mode\": \"lines+markers\", \"x\": [0, 1, 2, 3, 4, 5, 6, 7, 8], \"y\": [1.0, 18.0, 30.0, 41.0, 46.0, 61.0, 78.0, 91.0, 100.0], \"type\": \"scatter\", \"uid\": \"30eed059-5b48-4428-9323-90ef3bbed2be\"}, {\"hoverinfo\": \"text\", \"hovertext\": \"p=0.19999999999999996\", \"marker\": {\"color\": \"rgb(40.0, 70, 200)\"}, \"mode\": \"lines+markers\", \"x\": [0, 1, 2, 3, 4, 5, 6, 7, 8], \"y\": [1.0, 18.0, 38.0, 49.0, 63.0, 80.0, 90.0, 99.0, 100.0], \"type\": \"scatter\", \"uid\": \"7485043a-48f9-4209-bd46-44e94c172b8c\"}, {\"hoverinfo\": \"text\", \"hovertext\": \"p=0.09999999999999998\", \"marker\": {\"color\": \"rgb(20.0, 70, 200)\"}, \"mode\": \"lines+markers\", \"x\": [0, 1, 2, 3, 4, 5, 6, 7, 8, 9, 10, 11], \"y\": [1.0, 15.0, 20.0, 29.0, 37.0, 44.0, 51.0, 60.0, 71.0, 78.0, 89.0, 100.0], \"type\": \"scatter\", \"uid\": \"9641295f-67d2-44c6-b2f0-5165aaaf19f4\"}], {\"showlegend\": false, \"title\": {\"text\": \"Social Welfare vs Iteration (r=90.0)\"}}, {\"showLink\": false, \"linkText\": \"Export to plot.ly\", \"plotlyServerURL\": \"https://plot.ly\"}); \n",
       "}\n",
       "});</script><script type=\"text/javascript\">window.addEventListener(\"resize\", function(){if (document.getElementById(\"dc86df26-fe67-44c0-8787-1f908a1384bb\")) {window._Plotly.Plots.resize(document.getElementById(\"dc86df26-fe67-44c0-8787-1f908a1384bb\"));};})</script>"
      ],
      "text/vnd.plotly.v1+html": [
       "<div id=\"dc86df26-fe67-44c0-8787-1f908a1384bb\" style=\"height: 525px; width: 100%;\" class=\"plotly-graph-div\"></div><script type=\"text/javascript\">require([\"plotly\"], function(Plotly) { window.PLOTLYENV=window.PLOTLYENV || {};window.PLOTLYENV.BASE_URL=\"https://plot.ly\";\n",
       "if (document.getElementById(\"dc86df26-fe67-44c0-8787-1f908a1384bb\")) {\n",
       "    Plotly.newPlot(\"dc86df26-fe67-44c0-8787-1f908a1384bb\", [{\"hoverinfo\": \"text\", \"hovertext\": \"p=1.0\", \"marker\": {\"color\": \"rgb(200.0, 70, 200)\"}, \"mode\": \"lines+markers\", \"x\": [0, 1, 2, 3, 4, 5, 6, 7, 8, 9, 10, 11], \"y\": [1.0, 13.0, 24.0, 32.0, 38.0, 48.0, 58.0, 69.0, 74.0, 83.0, 97.0, 100.0], \"type\": \"scatter\", \"uid\": \"9d31898b-173d-4fb6-aa7a-64d3e888339f\"}, {\"hoverinfo\": \"text\", \"hovertext\": \"p=0.9\", \"marker\": {\"color\": \"rgb(180.0, 70, 200)\"}, \"mode\": \"lines+markers\", \"x\": [0, 1, 2, 3, 4, 5, 6, 7, 8, 9], \"y\": [1.0, 16.0, 25.0, 37.0, 43.0, 55.0, 64.0, 78.0, 97.0, 100.0], \"type\": \"scatter\", \"uid\": \"741d01f6-b9e9-416e-8293-4ad02780767f\"}, {\"hoverinfo\": \"text\", \"hovertext\": \"p=0.8\", \"marker\": {\"color\": \"rgb(160.0, 70, 200)\"}, \"mode\": \"lines+markers\", \"x\": [0, 1, 2, 3, 4, 5, 6, 7, 8], \"y\": [1.0, 5.0, 26.0, 37.0, 44.0, 60.0, 80.0, 98.0, 100.0], \"type\": \"scatter\", \"uid\": \"56a804dd-ef98-42c4-8020-15b10c0c007a\"}, {\"hoverinfo\": \"text\", \"hovertext\": \"p=0.7\", \"marker\": {\"color\": \"rgb(140.0, 70, 200)\"}, \"mode\": \"lines+markers\", \"x\": [0, 1, 2, 3, 4, 5, 6, 7, 8, 9, 10], \"y\": [1.0, 5.0, 11.0, 24.0, 34.0, 46.0, 66.0, 80.0, 88.0, 94.0, 100.0], \"type\": \"scatter\", \"uid\": \"f1c72176-37b1-40fc-a4e4-db7d679ecb78\"}, {\"hoverinfo\": \"text\", \"hovertext\": \"p=0.6\", \"marker\": {\"color\": \"rgb(120.0, 70, 200)\"}, \"mode\": \"lines+markers\", \"x\": [0, 1, 2, 3, 4, 5, 6, 7, 8], \"y\": [1.0, 16.0, 29.0, 45.0, 61.0, 74.0, 83.0, 94.0, 100.0], \"type\": \"scatter\", \"uid\": \"26583040-4c7e-41ff-a04e-7b2abb850b1b\"}, {\"hoverinfo\": \"text\", \"hovertext\": \"p=0.5\", \"marker\": {\"color\": \"rgb(100.0, 70, 200)\"}, \"mode\": \"lines+markers\", \"x\": [0, 1, 2, 3, 4, 5, 6, 7, 8, 9], \"y\": [1.0, 13.0, 21.0, 30.0, 37.0, 57.0, 75.0, 89.0, 99.0, 100.0], \"type\": \"scatter\", \"uid\": \"9f770a35-0106-4c96-86a1-b8885d650a0b\"}, {\"hoverinfo\": \"text\", \"hovertext\": \"p=0.3999999999999999\", \"marker\": {\"color\": \"rgb(80.0, 70, 200)\"}, \"mode\": \"lines+markers\", \"x\": [0, 1, 2, 3, 4, 5, 6, 7, 8, 9], \"y\": [1.0, 5.0, 16.0, 25.0, 45.0, 54.0, 70.0, 85.0, 99.0, 100.0], \"type\": \"scatter\", \"uid\": \"434477e1-4183-4f08-a15e-fe9c5480edbc\"}, {\"hoverinfo\": \"text\", \"hovertext\": \"p=0.29999999999999993\", \"marker\": {\"color\": \"rgb(60.0, 70, 200)\"}, \"mode\": \"lines+markers\", \"x\": [0, 1, 2, 3, 4, 5, 6, 7, 8], \"y\": [1.0, 18.0, 30.0, 41.0, 46.0, 61.0, 78.0, 91.0, 100.0], \"type\": \"scatter\", \"uid\": \"30eed059-5b48-4428-9323-90ef3bbed2be\"}, {\"hoverinfo\": \"text\", \"hovertext\": \"p=0.19999999999999996\", \"marker\": {\"color\": \"rgb(40.0, 70, 200)\"}, \"mode\": \"lines+markers\", \"x\": [0, 1, 2, 3, 4, 5, 6, 7, 8], \"y\": [1.0, 18.0, 38.0, 49.0, 63.0, 80.0, 90.0, 99.0, 100.0], \"type\": \"scatter\", \"uid\": \"7485043a-48f9-4209-bd46-44e94c172b8c\"}, {\"hoverinfo\": \"text\", \"hovertext\": \"p=0.09999999999999998\", \"marker\": {\"color\": \"rgb(20.0, 70, 200)\"}, \"mode\": \"lines+markers\", \"x\": [0, 1, 2, 3, 4, 5, 6, 7, 8, 9, 10, 11], \"y\": [1.0, 15.0, 20.0, 29.0, 37.0, 44.0, 51.0, 60.0, 71.0, 78.0, 89.0, 100.0], \"type\": \"scatter\", \"uid\": \"9641295f-67d2-44c6-b2f0-5165aaaf19f4\"}], {\"showlegend\": false, \"title\": {\"text\": \"Social Welfare vs Iteration (r=90.0)\"}}, {\"showLink\": false, \"linkText\": \"Export to plot.ly\", \"plotlyServerURL\": \"https://plot.ly\"}); \n",
       "}\n",
       "});</script><script type=\"text/javascript\">window.addEventListener(\"resize\", function(){if (document.getElementById(\"dc86df26-fe67-44c0-8787-1f908a1384bb\")) {window._Plotly.Plots.resize(document.getElementById(\"dc86df26-fe67-44c0-8787-1f908a1384bb\"));};})</script>"
      ]
     },
     "metadata": {},
     "output_type": "display_data"
    },
    {
     "data": {
      "application/vnd.plotly.v1+json": {
       "config": {
        "linkText": "Export to plot.ly",
        "plotlyServerURL": "https://plot.ly",
        "showLink": false
       },
       "data": [
        {
         "hoverinfo": "text",
         "hovertext": "p=1.0",
         "marker": {
          "color": "rgb(200.0, 70, 200)"
         },
         "mode": "lines+markers",
         "type": "scatter",
         "uid": "a9a070b0-1aa6-49fc-b8c6-410406b7d152",
         "x": [
          0,
          1,
          2,
          3,
          4,
          5,
          6,
          7,
          8,
          9,
          10
         ],
         "y": [
          1,
          6,
          21,
          33,
          44,
          50,
          59,
          72,
          86,
          97,
          100
         ]
        },
        {
         "hoverinfo": "text",
         "hovertext": "p=0.9",
         "marker": {
          "color": "rgb(180.0, 70, 200)"
         },
         "mode": "lines+markers",
         "type": "scatter",
         "uid": "76c17c9b-680e-41e6-ab4b-5092c9e1106a",
         "x": [
          0,
          1,
          2,
          3,
          4,
          5,
          6,
          7,
          8,
          9,
          10
         ],
         "y": [
          1,
          9,
          20,
          26,
          39,
          45,
          55,
          74,
          90,
          98,
          100
         ]
        },
        {
         "hoverinfo": "text",
         "hovertext": "p=0.8",
         "marker": {
          "color": "rgb(160.0, 70, 200)"
         },
         "mode": "lines+markers",
         "type": "scatter",
         "uid": "0136989a-b571-49aa-91e6-0fe86856ff44",
         "x": [
          0,
          1,
          2,
          3,
          4,
          5,
          6,
          7,
          8,
          9,
          10
         ],
         "y": [
          1,
          8,
          19,
          24,
          37,
          48,
          59,
          69,
          82,
          94,
          100
         ]
        },
        {
         "hoverinfo": "text",
         "hovertext": "p=0.7",
         "marker": {
          "color": "rgb(140.0, 70, 200)"
         },
         "mode": "lines+markers",
         "type": "scatter",
         "uid": "4733d1aa-ce9f-4102-999b-dad999493d1c",
         "x": [
          0,
          1,
          2,
          3,
          4,
          5,
          6,
          7,
          8,
          9,
          10
         ],
         "y": [
          1,
          6,
          21,
          41,
          48,
          59,
          73,
          79,
          89,
          99,
          100
         ]
        },
        {
         "hoverinfo": "text",
         "hovertext": "p=0.6",
         "marker": {
          "color": "rgb(120.0, 70, 200)"
         },
         "mode": "lines+markers",
         "type": "scatter",
         "uid": "ca80466f-e7ba-4e0d-af3e-9916ddeee3c0",
         "x": [
          0,
          1,
          2,
          3,
          4,
          5,
          6,
          7,
          8,
          9
         ],
         "y": [
          1,
          18,
          32,
          41,
          53,
          62,
          82,
          92,
          97,
          100
         ]
        },
        {
         "hoverinfo": "text",
         "hovertext": "p=0.5",
         "marker": {
          "color": "rgb(100.0, 70, 200)"
         },
         "mode": "lines+markers",
         "type": "scatter",
         "uid": "8c2dfe7b-0ebb-45d8-b0c1-6124914b8bfb",
         "x": [
          0,
          1,
          2,
          3,
          4,
          5,
          6,
          7,
          8,
          9
         ],
         "y": [
          1,
          18,
          28,
          40,
          51,
          63,
          70,
          78,
          93,
          100
         ]
        },
        {
         "hoverinfo": "text",
         "hovertext": "p=0.3999999999999999",
         "marker": {
          "color": "rgb(80.0, 70, 200)"
         },
         "mode": "lines+markers",
         "type": "scatter",
         "uid": "d9a1a008-8d8e-459f-9e2b-2a8a9c48a349",
         "x": [
          0,
          1,
          2,
          3,
          4,
          5,
          6,
          7,
          8,
          9,
          10,
          11
         ],
         "y": [
          1,
          5,
          13,
          26,
          41,
          57,
          70,
          75,
          80,
          89,
          97,
          100
         ]
        },
        {
         "hoverinfo": "text",
         "hovertext": "p=0.29999999999999993",
         "marker": {
          "color": "rgb(60.0, 70, 200)"
         },
         "mode": "lines+markers",
         "type": "scatter",
         "uid": "285f80e9-0211-4e36-aedb-cc689234cba1",
         "x": [
          0,
          1,
          2,
          3,
          4,
          5,
          6,
          7,
          8,
          9
         ],
         "y": [
          1,
          5,
          11,
          20,
          29,
          46,
          68,
          79,
          86,
          100
         ]
        },
        {
         "hoverinfo": "text",
         "hovertext": "p=0.19999999999999996",
         "marker": {
          "color": "rgb(40.0, 70, 200)"
         },
         "mode": "lines+markers",
         "type": "scatter",
         "uid": "e684d5ce-8ea0-4e54-9643-e85c92a4287d",
         "x": [
          0,
          1,
          2,
          3,
          4,
          5,
          6,
          7,
          8
         ],
         "y": [
          1,
          16,
          31,
          40,
          51,
          70,
          86,
          99,
          100
         ]
        },
        {
         "hoverinfo": "text",
         "hovertext": "p=0.09999999999999998",
         "marker": {
          "color": "rgb(20.0, 70, 200)"
         },
         "mode": "lines+markers",
         "type": "scatter",
         "uid": "40092f81-e9fd-4b67-8166-6156ae2f891a",
         "x": [
          0,
          1,
          2,
          3,
          4,
          5,
          6,
          7,
          8,
          9,
          10,
          11
         ],
         "y": [
          1,
          10,
          17,
          26,
          31,
          40,
          56,
          64,
          76,
          91,
          97,
          100
         ]
        }
       ],
       "layout": {
        "showlegend": false,
        "title": {
         "text": "Social Welfare vs Iteration (r=80.0)"
        }
       }
      },
      "text/html": [
       "<div id=\"74f31a9f-121e-466b-8564-ed37febd3045\" style=\"height: 525px; width: 100%;\" class=\"plotly-graph-div\"></div><script type=\"text/javascript\">require([\"plotly\"], function(Plotly) { window.PLOTLYENV=window.PLOTLYENV || {};window.PLOTLYENV.BASE_URL=\"https://plot.ly\";\n",
       "if (document.getElementById(\"74f31a9f-121e-466b-8564-ed37febd3045\")) {\n",
       "    Plotly.newPlot(\"74f31a9f-121e-466b-8564-ed37febd3045\", [{\"hoverinfo\": \"text\", \"hovertext\": \"p=1.0\", \"marker\": {\"color\": \"rgb(200.0, 70, 200)\"}, \"mode\": \"lines+markers\", \"x\": [0, 1, 2, 3, 4, 5, 6, 7, 8, 9, 10], \"y\": [1.0, 6.0, 21.0, 33.0, 44.0, 50.0, 59.0, 72.0, 86.0, 97.0, 100.0], \"type\": \"scatter\", \"uid\": \"a9a070b0-1aa6-49fc-b8c6-410406b7d152\"}, {\"hoverinfo\": \"text\", \"hovertext\": \"p=0.9\", \"marker\": {\"color\": \"rgb(180.0, 70, 200)\"}, \"mode\": \"lines+markers\", \"x\": [0, 1, 2, 3, 4, 5, 6, 7, 8, 9, 10], \"y\": [1.0, 9.0, 20.0, 26.0, 39.0, 45.0, 55.0, 74.0, 90.0, 98.0, 100.0], \"type\": \"scatter\", \"uid\": \"76c17c9b-680e-41e6-ab4b-5092c9e1106a\"}, {\"hoverinfo\": \"text\", \"hovertext\": \"p=0.8\", \"marker\": {\"color\": \"rgb(160.0, 70, 200)\"}, \"mode\": \"lines+markers\", \"x\": [0, 1, 2, 3, 4, 5, 6, 7, 8, 9, 10], \"y\": [1.0, 8.0, 19.0, 24.0, 37.0, 48.0, 59.0, 69.0, 82.0, 94.0, 100.0], \"type\": \"scatter\", \"uid\": \"0136989a-b571-49aa-91e6-0fe86856ff44\"}, {\"hoverinfo\": \"text\", \"hovertext\": \"p=0.7\", \"marker\": {\"color\": \"rgb(140.0, 70, 200)\"}, \"mode\": \"lines+markers\", \"x\": [0, 1, 2, 3, 4, 5, 6, 7, 8, 9, 10], \"y\": [1.0, 6.0, 21.0, 41.0, 48.0, 59.0, 73.0, 79.0, 89.0, 99.0, 100.0], \"type\": \"scatter\", \"uid\": \"4733d1aa-ce9f-4102-999b-dad999493d1c\"}, {\"hoverinfo\": \"text\", \"hovertext\": \"p=0.6\", \"marker\": {\"color\": \"rgb(120.0, 70, 200)\"}, \"mode\": \"lines+markers\", \"x\": [0, 1, 2, 3, 4, 5, 6, 7, 8, 9], \"y\": [1.0, 18.0, 32.0, 41.0, 53.0, 62.0, 82.0, 92.0, 97.0, 100.0], \"type\": \"scatter\", \"uid\": \"ca80466f-e7ba-4e0d-af3e-9916ddeee3c0\"}, {\"hoverinfo\": \"text\", \"hovertext\": \"p=0.5\", \"marker\": {\"color\": \"rgb(100.0, 70, 200)\"}, \"mode\": \"lines+markers\", \"x\": [0, 1, 2, 3, 4, 5, 6, 7, 8, 9], \"y\": [1.0, 18.0, 28.0, 40.0, 51.0, 63.0, 70.0, 78.0, 93.0, 100.0], \"type\": \"scatter\", \"uid\": \"8c2dfe7b-0ebb-45d8-b0c1-6124914b8bfb\"}, {\"hoverinfo\": \"text\", \"hovertext\": \"p=0.3999999999999999\", \"marker\": {\"color\": \"rgb(80.0, 70, 200)\"}, \"mode\": \"lines+markers\", \"x\": [0, 1, 2, 3, 4, 5, 6, 7, 8, 9, 10, 11], \"y\": [1.0, 5.0, 13.0, 26.0, 41.0, 57.0, 70.0, 75.0, 80.0, 89.0, 97.0, 100.0], \"type\": \"scatter\", \"uid\": \"d9a1a008-8d8e-459f-9e2b-2a8a9c48a349\"}, {\"hoverinfo\": \"text\", \"hovertext\": \"p=0.29999999999999993\", \"marker\": {\"color\": \"rgb(60.0, 70, 200)\"}, \"mode\": \"lines+markers\", \"x\": [0, 1, 2, 3, 4, 5, 6, 7, 8, 9], \"y\": [1.0, 5.0, 11.0, 20.0, 29.0, 46.0, 68.0, 79.0, 86.0, 100.0], \"type\": \"scatter\", \"uid\": \"285f80e9-0211-4e36-aedb-cc689234cba1\"}, {\"hoverinfo\": \"text\", \"hovertext\": \"p=0.19999999999999996\", \"marker\": {\"color\": \"rgb(40.0, 70, 200)\"}, \"mode\": \"lines+markers\", \"x\": [0, 1, 2, 3, 4, 5, 6, 7, 8], \"y\": [1.0, 16.0, 31.0, 40.0, 51.0, 70.0, 86.0, 99.0, 100.0], \"type\": \"scatter\", \"uid\": \"e684d5ce-8ea0-4e54-9643-e85c92a4287d\"}, {\"hoverinfo\": \"text\", \"hovertext\": \"p=0.09999999999999998\", \"marker\": {\"color\": \"rgb(20.0, 70, 200)\"}, \"mode\": \"lines+markers\", \"x\": [0, 1, 2, 3, 4, 5, 6, 7, 8, 9, 10, 11], \"y\": [1.0, 10.0, 17.0, 26.0, 31.0, 40.0, 56.0, 64.0, 76.0, 91.0, 97.0, 100.0], \"type\": \"scatter\", \"uid\": \"40092f81-e9fd-4b67-8166-6156ae2f891a\"}], {\"showlegend\": false, \"title\": {\"text\": \"Social Welfare vs Iteration (r=80.0)\"}}, {\"showLink\": false, \"linkText\": \"Export to plot.ly\", \"plotlyServerURL\": \"https://plot.ly\"}); \n",
       "}\n",
       "});</script><script type=\"text/javascript\">window.addEventListener(\"resize\", function(){if (document.getElementById(\"74f31a9f-121e-466b-8564-ed37febd3045\")) {window._Plotly.Plots.resize(document.getElementById(\"74f31a9f-121e-466b-8564-ed37febd3045\"));};})</script>"
      ],
      "text/vnd.plotly.v1+html": [
       "<div id=\"74f31a9f-121e-466b-8564-ed37febd3045\" style=\"height: 525px; width: 100%;\" class=\"plotly-graph-div\"></div><script type=\"text/javascript\">require([\"plotly\"], function(Plotly) { window.PLOTLYENV=window.PLOTLYENV || {};window.PLOTLYENV.BASE_URL=\"https://plot.ly\";\n",
       "if (document.getElementById(\"74f31a9f-121e-466b-8564-ed37febd3045\")) {\n",
       "    Plotly.newPlot(\"74f31a9f-121e-466b-8564-ed37febd3045\", [{\"hoverinfo\": \"text\", \"hovertext\": \"p=1.0\", \"marker\": {\"color\": \"rgb(200.0, 70, 200)\"}, \"mode\": \"lines+markers\", \"x\": [0, 1, 2, 3, 4, 5, 6, 7, 8, 9, 10], \"y\": [1.0, 6.0, 21.0, 33.0, 44.0, 50.0, 59.0, 72.0, 86.0, 97.0, 100.0], \"type\": \"scatter\", \"uid\": \"a9a070b0-1aa6-49fc-b8c6-410406b7d152\"}, {\"hoverinfo\": \"text\", \"hovertext\": \"p=0.9\", \"marker\": {\"color\": \"rgb(180.0, 70, 200)\"}, \"mode\": \"lines+markers\", \"x\": [0, 1, 2, 3, 4, 5, 6, 7, 8, 9, 10], \"y\": [1.0, 9.0, 20.0, 26.0, 39.0, 45.0, 55.0, 74.0, 90.0, 98.0, 100.0], \"type\": \"scatter\", \"uid\": \"76c17c9b-680e-41e6-ab4b-5092c9e1106a\"}, {\"hoverinfo\": \"text\", \"hovertext\": \"p=0.8\", \"marker\": {\"color\": \"rgb(160.0, 70, 200)\"}, \"mode\": \"lines+markers\", \"x\": [0, 1, 2, 3, 4, 5, 6, 7, 8, 9, 10], \"y\": [1.0, 8.0, 19.0, 24.0, 37.0, 48.0, 59.0, 69.0, 82.0, 94.0, 100.0], \"type\": \"scatter\", \"uid\": \"0136989a-b571-49aa-91e6-0fe86856ff44\"}, {\"hoverinfo\": \"text\", \"hovertext\": \"p=0.7\", \"marker\": {\"color\": \"rgb(140.0, 70, 200)\"}, \"mode\": \"lines+markers\", \"x\": [0, 1, 2, 3, 4, 5, 6, 7, 8, 9, 10], \"y\": [1.0, 6.0, 21.0, 41.0, 48.0, 59.0, 73.0, 79.0, 89.0, 99.0, 100.0], \"type\": \"scatter\", \"uid\": \"4733d1aa-ce9f-4102-999b-dad999493d1c\"}, {\"hoverinfo\": \"text\", \"hovertext\": \"p=0.6\", \"marker\": {\"color\": \"rgb(120.0, 70, 200)\"}, \"mode\": \"lines+markers\", \"x\": [0, 1, 2, 3, 4, 5, 6, 7, 8, 9], \"y\": [1.0, 18.0, 32.0, 41.0, 53.0, 62.0, 82.0, 92.0, 97.0, 100.0], \"type\": \"scatter\", \"uid\": \"ca80466f-e7ba-4e0d-af3e-9916ddeee3c0\"}, {\"hoverinfo\": \"text\", \"hovertext\": \"p=0.5\", \"marker\": {\"color\": \"rgb(100.0, 70, 200)\"}, \"mode\": \"lines+markers\", \"x\": [0, 1, 2, 3, 4, 5, 6, 7, 8, 9], \"y\": [1.0, 18.0, 28.0, 40.0, 51.0, 63.0, 70.0, 78.0, 93.0, 100.0], \"type\": \"scatter\", \"uid\": \"8c2dfe7b-0ebb-45d8-b0c1-6124914b8bfb\"}, {\"hoverinfo\": \"text\", \"hovertext\": \"p=0.3999999999999999\", \"marker\": {\"color\": \"rgb(80.0, 70, 200)\"}, \"mode\": \"lines+markers\", \"x\": [0, 1, 2, 3, 4, 5, 6, 7, 8, 9, 10, 11], \"y\": [1.0, 5.0, 13.0, 26.0, 41.0, 57.0, 70.0, 75.0, 80.0, 89.0, 97.0, 100.0], \"type\": \"scatter\", \"uid\": \"d9a1a008-8d8e-459f-9e2b-2a8a9c48a349\"}, {\"hoverinfo\": \"text\", \"hovertext\": \"p=0.29999999999999993\", \"marker\": {\"color\": \"rgb(60.0, 70, 200)\"}, \"mode\": \"lines+markers\", \"x\": [0, 1, 2, 3, 4, 5, 6, 7, 8, 9], \"y\": [1.0, 5.0, 11.0, 20.0, 29.0, 46.0, 68.0, 79.0, 86.0, 100.0], \"type\": \"scatter\", \"uid\": \"285f80e9-0211-4e36-aedb-cc689234cba1\"}, {\"hoverinfo\": \"text\", \"hovertext\": \"p=0.19999999999999996\", \"marker\": {\"color\": \"rgb(40.0, 70, 200)\"}, \"mode\": \"lines+markers\", \"x\": [0, 1, 2, 3, 4, 5, 6, 7, 8], \"y\": [1.0, 16.0, 31.0, 40.0, 51.0, 70.0, 86.0, 99.0, 100.0], \"type\": \"scatter\", \"uid\": \"e684d5ce-8ea0-4e54-9643-e85c92a4287d\"}, {\"hoverinfo\": \"text\", \"hovertext\": \"p=0.09999999999999998\", \"marker\": {\"color\": \"rgb(20.0, 70, 200)\"}, \"mode\": \"lines+markers\", \"x\": [0, 1, 2, 3, 4, 5, 6, 7, 8, 9, 10, 11], \"y\": [1.0, 10.0, 17.0, 26.0, 31.0, 40.0, 56.0, 64.0, 76.0, 91.0, 97.0, 100.0], \"type\": \"scatter\", \"uid\": \"40092f81-e9fd-4b67-8166-6156ae2f891a\"}], {\"showlegend\": false, \"title\": {\"text\": \"Social Welfare vs Iteration (r=80.0)\"}}, {\"showLink\": false, \"linkText\": \"Export to plot.ly\", \"plotlyServerURL\": \"https://plot.ly\"}); \n",
       "}\n",
       "});</script><script type=\"text/javascript\">window.addEventListener(\"resize\", function(){if (document.getElementById(\"74f31a9f-121e-466b-8564-ed37febd3045\")) {window._Plotly.Plots.resize(document.getElementById(\"74f31a9f-121e-466b-8564-ed37febd3045\"));};})</script>"
      ]
     },
     "metadata": {},
     "output_type": "display_data"
    },
    {
     "data": {
      "application/vnd.plotly.v1+json": {
       "config": {
        "linkText": "Export to plot.ly",
        "plotlyServerURL": "https://plot.ly",
        "showLink": false
       },
       "data": [
        {
         "hoverinfo": "text",
         "hovertext": "p=1.0",
         "marker": {
          "color": "rgb(200.0, 70, 200)"
         },
         "mode": "lines+markers",
         "type": "scatter",
         "uid": "f5c5a99c-6316-47cb-9dcc-5c0d3a934f46",
         "x": [
          0,
          1,
          2,
          3,
          4,
          5,
          6,
          7,
          8,
          9,
          10,
          11
         ],
         "y": [
          1,
          10,
          22,
          28,
          40,
          48,
          52,
          60,
          70,
          79,
          97,
          100
         ]
        },
        {
         "hoverinfo": "text",
         "hovertext": "p=0.9",
         "marker": {
          "color": "rgb(180.0, 70, 200)"
         },
         "mode": "lines+markers",
         "type": "scatter",
         "uid": "5e7b8389-8b17-4517-a75d-4d2b7472b53e",
         "x": [
          0,
          1,
          2,
          3,
          4,
          5,
          6,
          7,
          8
         ],
         "y": [
          1,
          11,
          26,
          39,
          60,
          72,
          86,
          99,
          100
         ]
        },
        {
         "hoverinfo": "text",
         "hovertext": "p=0.8",
         "marker": {
          "color": "rgb(160.0, 70, 200)"
         },
         "mode": "lines+markers",
         "type": "scatter",
         "uid": "df7e8283-d91e-45e5-bc7a-424a11a42e50",
         "x": [
          0,
          1,
          2,
          3,
          4,
          5,
          6,
          7,
          8,
          9,
          10
         ],
         "y": [
          1,
          15,
          26,
          37,
          50,
          56,
          69,
          77,
          82,
          92,
          100
         ]
        },
        {
         "hoverinfo": "text",
         "hovertext": "p=0.7",
         "marker": {
          "color": "rgb(140.0, 70, 200)"
         },
         "mode": "lines+markers",
         "type": "scatter",
         "uid": "6056f355-799c-4051-b9f7-e8ee2c038f84",
         "x": [
          0,
          1,
          2,
          3,
          4,
          5,
          6,
          7,
          8,
          9
         ],
         "y": [
          1,
          13,
          21,
          39,
          46,
          54,
          64,
          81,
          91,
          100
         ]
        },
        {
         "hoverinfo": "text",
         "hovertext": "p=0.6",
         "marker": {
          "color": "rgb(120.0, 70, 200)"
         },
         "mode": "lines+markers",
         "type": "scatter",
         "uid": "d2146f3f-a1ca-465f-b5ec-137d422d290f",
         "x": [
          0,
          1,
          2,
          3,
          4,
          5,
          6,
          7,
          8,
          9
         ],
         "y": [
          1,
          15,
          25,
          45,
          56,
          70,
          78,
          85,
          99,
          100
         ]
        },
        {
         "hoverinfo": "text",
         "hovertext": "p=0.5",
         "marker": {
          "color": "rgb(100.0, 70, 200)"
         },
         "mode": "lines+markers",
         "type": "scatter",
         "uid": "d4dc3931-87e9-42c2-876f-b70469f0df25",
         "x": [
          0,
          1,
          2,
          3,
          4,
          5,
          6,
          7,
          8
         ],
         "y": [
          1,
          9,
          22,
          42,
          55,
          65,
          81,
          96,
          100
         ]
        },
        {
         "hoverinfo": "text",
         "hovertext": "p=0.3999999999999999",
         "marker": {
          "color": "rgb(80.0, 70, 200)"
         },
         "mode": "lines+markers",
         "type": "scatter",
         "uid": "234adf9f-8694-4808-b705-86cabb95081e",
         "x": [
          0,
          1,
          2,
          3,
          4,
          5,
          6,
          7,
          8,
          9,
          10,
          11,
          12
         ],
         "y": [
          1,
          10,
          16,
          25,
          30,
          36,
          44,
          49,
          60,
          73,
          81,
          95,
          100
         ]
        },
        {
         "hoverinfo": "text",
         "hovertext": "p=0.29999999999999993",
         "marker": {
          "color": "rgb(60.0, 70, 200)"
         },
         "mode": "lines+markers",
         "type": "scatter",
         "uid": "52483f77-ad1d-4adf-a243-123e86dce477",
         "x": [
          0,
          1,
          2,
          3,
          4,
          5,
          6,
          7,
          8,
          9,
          10,
          11
         ],
         "y": [
          1,
          12,
          26,
          39,
          48,
          59,
          69,
          79,
          85,
          90,
          98,
          100
         ]
        },
        {
         "hoverinfo": "text",
         "hovertext": "p=0.19999999999999996",
         "marker": {
          "color": "rgb(40.0, 70, 200)"
         },
         "mode": "lines+markers",
         "type": "scatter",
         "uid": "3592cdd7-8f5f-4734-888d-25410cd3c808",
         "x": [
          0,
          1,
          2,
          3,
          4,
          5,
          6,
          7,
          8
         ],
         "y": [
          1,
          7,
          22,
          35,
          50,
          60,
          78,
          95,
          100
         ]
        },
        {
         "hoverinfo": "text",
         "hovertext": "p=0.09999999999999998",
         "marker": {
          "color": "rgb(20.0, 70, 200)"
         },
         "mode": "lines+markers",
         "type": "scatter",
         "uid": "984809de-790e-41b5-8e23-8f3cb6accca5",
         "x": [
          0,
          1,
          2,
          3,
          4,
          5,
          6,
          7,
          8,
          9,
          10,
          11,
          12
         ],
         "y": [
          1,
          10,
          22,
          32,
          42,
          50,
          59,
          69,
          77,
          84,
          90,
          99,
          100
         ]
        }
       ],
       "layout": {
        "showlegend": false,
        "title": {
         "text": "Social Welfare vs Iteration (r=70.0)"
        }
       }
      },
      "text/html": [
       "<div id=\"170a7aae-c2d7-4767-b3ba-14b9b990ce11\" style=\"height: 525px; width: 100%;\" class=\"plotly-graph-div\"></div><script type=\"text/javascript\">require([\"plotly\"], function(Plotly) { window.PLOTLYENV=window.PLOTLYENV || {};window.PLOTLYENV.BASE_URL=\"https://plot.ly\";\n",
       "if (document.getElementById(\"170a7aae-c2d7-4767-b3ba-14b9b990ce11\")) {\n",
       "    Plotly.newPlot(\"170a7aae-c2d7-4767-b3ba-14b9b990ce11\", [{\"hoverinfo\": \"text\", \"hovertext\": \"p=1.0\", \"marker\": {\"color\": \"rgb(200.0, 70, 200)\"}, \"mode\": \"lines+markers\", \"x\": [0, 1, 2, 3, 4, 5, 6, 7, 8, 9, 10, 11], \"y\": [1.0, 10.0, 22.0, 28.0, 40.0, 48.0, 52.0, 60.0, 70.0, 79.0, 97.0, 100.0], \"type\": \"scatter\", \"uid\": \"f5c5a99c-6316-47cb-9dcc-5c0d3a934f46\"}, {\"hoverinfo\": \"text\", \"hovertext\": \"p=0.9\", \"marker\": {\"color\": \"rgb(180.0, 70, 200)\"}, \"mode\": \"lines+markers\", \"x\": [0, 1, 2, 3, 4, 5, 6, 7, 8], \"y\": [1.0, 11.0, 26.0, 39.0, 60.0, 72.0, 86.0, 99.0, 100.0], \"type\": \"scatter\", \"uid\": \"5e7b8389-8b17-4517-a75d-4d2b7472b53e\"}, {\"hoverinfo\": \"text\", \"hovertext\": \"p=0.8\", \"marker\": {\"color\": \"rgb(160.0, 70, 200)\"}, \"mode\": \"lines+markers\", \"x\": [0, 1, 2, 3, 4, 5, 6, 7, 8, 9, 10], \"y\": [1.0, 15.0, 26.0, 37.0, 50.0, 56.0, 69.0, 77.0, 82.0, 92.0, 100.0], \"type\": \"scatter\", \"uid\": \"df7e8283-d91e-45e5-bc7a-424a11a42e50\"}, {\"hoverinfo\": \"text\", \"hovertext\": \"p=0.7\", \"marker\": {\"color\": \"rgb(140.0, 70, 200)\"}, \"mode\": \"lines+markers\", \"x\": [0, 1, 2, 3, 4, 5, 6, 7, 8, 9], \"y\": [1.0, 13.0, 21.0, 39.0, 46.0, 54.0, 64.0, 81.0, 91.0, 100.0], \"type\": \"scatter\", \"uid\": \"6056f355-799c-4051-b9f7-e8ee2c038f84\"}, {\"hoverinfo\": \"text\", \"hovertext\": \"p=0.6\", \"marker\": {\"color\": \"rgb(120.0, 70, 200)\"}, \"mode\": \"lines+markers\", \"x\": [0, 1, 2, 3, 4, 5, 6, 7, 8, 9], \"y\": [1.0, 15.0, 25.0, 45.0, 56.0, 70.0, 78.0, 85.0, 99.0, 100.0], \"type\": \"scatter\", \"uid\": \"d2146f3f-a1ca-465f-b5ec-137d422d290f\"}, {\"hoverinfo\": \"text\", \"hovertext\": \"p=0.5\", \"marker\": {\"color\": \"rgb(100.0, 70, 200)\"}, \"mode\": \"lines+markers\", \"x\": [0, 1, 2, 3, 4, 5, 6, 7, 8], \"y\": [1.0, 9.0, 22.0, 42.0, 55.0, 65.0, 81.0, 96.0, 100.0], \"type\": \"scatter\", \"uid\": \"d4dc3931-87e9-42c2-876f-b70469f0df25\"}, {\"hoverinfo\": \"text\", \"hovertext\": \"p=0.3999999999999999\", \"marker\": {\"color\": \"rgb(80.0, 70, 200)\"}, \"mode\": \"lines+markers\", \"x\": [0, 1, 2, 3, 4, 5, 6, 7, 8, 9, 10, 11, 12], \"y\": [1.0, 10.0, 16.0, 25.0, 30.0, 36.0, 44.0, 49.0, 60.0, 73.0, 81.0, 95.0, 100.0], \"type\": \"scatter\", \"uid\": \"234adf9f-8694-4808-b705-86cabb95081e\"}, {\"hoverinfo\": \"text\", \"hovertext\": \"p=0.29999999999999993\", \"marker\": {\"color\": \"rgb(60.0, 70, 200)\"}, \"mode\": \"lines+markers\", \"x\": [0, 1, 2, 3, 4, 5, 6, 7, 8, 9, 10, 11], \"y\": [1.0, 12.0, 26.0, 39.0, 48.0, 59.0, 69.0, 79.0, 85.0, 90.0, 98.0, 100.0], \"type\": \"scatter\", \"uid\": \"52483f77-ad1d-4adf-a243-123e86dce477\"}, {\"hoverinfo\": \"text\", \"hovertext\": \"p=0.19999999999999996\", \"marker\": {\"color\": \"rgb(40.0, 70, 200)\"}, \"mode\": \"lines+markers\", \"x\": [0, 1, 2, 3, 4, 5, 6, 7, 8], \"y\": [1.0, 7.0, 22.0, 35.0, 50.0, 60.0, 78.0, 95.0, 100.0], \"type\": \"scatter\", \"uid\": \"3592cdd7-8f5f-4734-888d-25410cd3c808\"}, {\"hoverinfo\": \"text\", \"hovertext\": \"p=0.09999999999999998\", \"marker\": {\"color\": \"rgb(20.0, 70, 200)\"}, \"mode\": \"lines+markers\", \"x\": [0, 1, 2, 3, 4, 5, 6, 7, 8, 9, 10, 11, 12], \"y\": [1.0, 10.0, 22.0, 32.0, 42.0, 50.0, 59.0, 69.0, 77.0, 84.0, 90.0, 99.0, 100.0], \"type\": \"scatter\", \"uid\": \"984809de-790e-41b5-8e23-8f3cb6accca5\"}], {\"showlegend\": false, \"title\": {\"text\": \"Social Welfare vs Iteration (r=70.0)\"}}, {\"showLink\": false, \"linkText\": \"Export to plot.ly\", \"plotlyServerURL\": \"https://plot.ly\"}); \n",
       "}\n",
       "});</script><script type=\"text/javascript\">window.addEventListener(\"resize\", function(){if (document.getElementById(\"170a7aae-c2d7-4767-b3ba-14b9b990ce11\")) {window._Plotly.Plots.resize(document.getElementById(\"170a7aae-c2d7-4767-b3ba-14b9b990ce11\"));};})</script>"
      ],
      "text/vnd.plotly.v1+html": [
       "<div id=\"170a7aae-c2d7-4767-b3ba-14b9b990ce11\" style=\"height: 525px; width: 100%;\" class=\"plotly-graph-div\"></div><script type=\"text/javascript\">require([\"plotly\"], function(Plotly) { window.PLOTLYENV=window.PLOTLYENV || {};window.PLOTLYENV.BASE_URL=\"https://plot.ly\";\n",
       "if (document.getElementById(\"170a7aae-c2d7-4767-b3ba-14b9b990ce11\")) {\n",
       "    Plotly.newPlot(\"170a7aae-c2d7-4767-b3ba-14b9b990ce11\", [{\"hoverinfo\": \"text\", \"hovertext\": \"p=1.0\", \"marker\": {\"color\": \"rgb(200.0, 70, 200)\"}, \"mode\": \"lines+markers\", \"x\": [0, 1, 2, 3, 4, 5, 6, 7, 8, 9, 10, 11], \"y\": [1.0, 10.0, 22.0, 28.0, 40.0, 48.0, 52.0, 60.0, 70.0, 79.0, 97.0, 100.0], \"type\": \"scatter\", \"uid\": \"f5c5a99c-6316-47cb-9dcc-5c0d3a934f46\"}, {\"hoverinfo\": \"text\", \"hovertext\": \"p=0.9\", \"marker\": {\"color\": \"rgb(180.0, 70, 200)\"}, \"mode\": \"lines+markers\", \"x\": [0, 1, 2, 3, 4, 5, 6, 7, 8], \"y\": [1.0, 11.0, 26.0, 39.0, 60.0, 72.0, 86.0, 99.0, 100.0], \"type\": \"scatter\", \"uid\": \"5e7b8389-8b17-4517-a75d-4d2b7472b53e\"}, {\"hoverinfo\": \"text\", \"hovertext\": \"p=0.8\", \"marker\": {\"color\": \"rgb(160.0, 70, 200)\"}, \"mode\": \"lines+markers\", \"x\": [0, 1, 2, 3, 4, 5, 6, 7, 8, 9, 10], \"y\": [1.0, 15.0, 26.0, 37.0, 50.0, 56.0, 69.0, 77.0, 82.0, 92.0, 100.0], \"type\": \"scatter\", \"uid\": \"df7e8283-d91e-45e5-bc7a-424a11a42e50\"}, {\"hoverinfo\": \"text\", \"hovertext\": \"p=0.7\", \"marker\": {\"color\": \"rgb(140.0, 70, 200)\"}, \"mode\": \"lines+markers\", \"x\": [0, 1, 2, 3, 4, 5, 6, 7, 8, 9], \"y\": [1.0, 13.0, 21.0, 39.0, 46.0, 54.0, 64.0, 81.0, 91.0, 100.0], \"type\": \"scatter\", \"uid\": \"6056f355-799c-4051-b9f7-e8ee2c038f84\"}, {\"hoverinfo\": \"text\", \"hovertext\": \"p=0.6\", \"marker\": {\"color\": \"rgb(120.0, 70, 200)\"}, \"mode\": \"lines+markers\", \"x\": [0, 1, 2, 3, 4, 5, 6, 7, 8, 9], \"y\": [1.0, 15.0, 25.0, 45.0, 56.0, 70.0, 78.0, 85.0, 99.0, 100.0], \"type\": \"scatter\", \"uid\": \"d2146f3f-a1ca-465f-b5ec-137d422d290f\"}, {\"hoverinfo\": \"text\", \"hovertext\": \"p=0.5\", \"marker\": {\"color\": \"rgb(100.0, 70, 200)\"}, \"mode\": \"lines+markers\", \"x\": [0, 1, 2, 3, 4, 5, 6, 7, 8], \"y\": [1.0, 9.0, 22.0, 42.0, 55.0, 65.0, 81.0, 96.0, 100.0], \"type\": \"scatter\", \"uid\": \"d4dc3931-87e9-42c2-876f-b70469f0df25\"}, {\"hoverinfo\": \"text\", \"hovertext\": \"p=0.3999999999999999\", \"marker\": {\"color\": \"rgb(80.0, 70, 200)\"}, \"mode\": \"lines+markers\", \"x\": [0, 1, 2, 3, 4, 5, 6, 7, 8, 9, 10, 11, 12], \"y\": [1.0, 10.0, 16.0, 25.0, 30.0, 36.0, 44.0, 49.0, 60.0, 73.0, 81.0, 95.0, 100.0], \"type\": \"scatter\", \"uid\": \"234adf9f-8694-4808-b705-86cabb95081e\"}, {\"hoverinfo\": \"text\", \"hovertext\": \"p=0.29999999999999993\", \"marker\": {\"color\": \"rgb(60.0, 70, 200)\"}, \"mode\": \"lines+markers\", \"x\": [0, 1, 2, 3, 4, 5, 6, 7, 8, 9, 10, 11], \"y\": [1.0, 12.0, 26.0, 39.0, 48.0, 59.0, 69.0, 79.0, 85.0, 90.0, 98.0, 100.0], \"type\": \"scatter\", \"uid\": \"52483f77-ad1d-4adf-a243-123e86dce477\"}, {\"hoverinfo\": \"text\", \"hovertext\": \"p=0.19999999999999996\", \"marker\": {\"color\": \"rgb(40.0, 70, 200)\"}, \"mode\": \"lines+markers\", \"x\": [0, 1, 2, 3, 4, 5, 6, 7, 8], \"y\": [1.0, 7.0, 22.0, 35.0, 50.0, 60.0, 78.0, 95.0, 100.0], \"type\": \"scatter\", \"uid\": \"3592cdd7-8f5f-4734-888d-25410cd3c808\"}, {\"hoverinfo\": \"text\", \"hovertext\": \"p=0.09999999999999998\", \"marker\": {\"color\": \"rgb(20.0, 70, 200)\"}, \"mode\": \"lines+markers\", \"x\": [0, 1, 2, 3, 4, 5, 6, 7, 8, 9, 10, 11, 12], \"y\": [1.0, 10.0, 22.0, 32.0, 42.0, 50.0, 59.0, 69.0, 77.0, 84.0, 90.0, 99.0, 100.0], \"type\": \"scatter\", \"uid\": \"984809de-790e-41b5-8e23-8f3cb6accca5\"}], {\"showlegend\": false, \"title\": {\"text\": \"Social Welfare vs Iteration (r=70.0)\"}}, {\"showLink\": false, \"linkText\": \"Export to plot.ly\", \"plotlyServerURL\": \"https://plot.ly\"}); \n",
       "}\n",
       "});</script><script type=\"text/javascript\">window.addEventListener(\"resize\", function(){if (document.getElementById(\"170a7aae-c2d7-4767-b3ba-14b9b990ce11\")) {window._Plotly.Plots.resize(document.getElementById(\"170a7aae-c2d7-4767-b3ba-14b9b990ce11\"));};})</script>"
      ]
     },
     "metadata": {},
     "output_type": "display_data"
    },
    {
     "data": {
      "application/vnd.plotly.v1+json": {
       "config": {
        "linkText": "Export to plot.ly",
        "plotlyServerURL": "https://plot.ly",
        "showLink": false
       },
       "data": [
        {
         "hoverinfo": "text",
         "hovertext": "p=1.0",
         "marker": {
          "color": "rgb(200.0, 70, 200)"
         },
         "mode": "lines+markers",
         "type": "scatter",
         "uid": "8b3f5239-cb60-48fa-9ff0-6107c75cb795",
         "x": [
          0,
          1,
          2,
          3,
          4,
          5,
          6,
          7,
          8
         ],
         "y": [
          1,
          16,
          37,
          43,
          56,
          64,
          85,
          99,
          100
         ]
        },
        {
         "hoverinfo": "text",
         "hovertext": "p=0.9",
         "marker": {
          "color": "rgb(180.0, 70, 200)"
         },
         "mode": "lines+markers",
         "type": "scatter",
         "uid": "f8dd01b6-f75a-466f-a9bd-37cb8e83c91a",
         "x": [
          0,
          1,
          2,
          3,
          4,
          5,
          6,
          7,
          8,
          9,
          10
         ],
         "y": [
          1,
          11,
          21,
          30,
          37,
          50,
          64,
          76,
          87,
          98,
          100
         ]
        },
        {
         "hoverinfo": "text",
         "hovertext": "p=0.8",
         "marker": {
          "color": "rgb(160.0, 70, 200)"
         },
         "mode": "lines+markers",
         "type": "scatter",
         "uid": "5d043d9c-f50b-43f4-a703-589f0d66c4fe",
         "x": [
          0,
          1,
          2,
          3,
          4,
          5,
          6,
          7,
          8,
          9
         ],
         "y": [
          1,
          11,
          21,
          30,
          41,
          60,
          76,
          92,
          98,
          100
         ]
        },
        {
         "hoverinfo": "text",
         "hovertext": "p=0.7",
         "marker": {
          "color": "rgb(140.0, 70, 200)"
         },
         "mode": "lines+markers",
         "type": "scatter",
         "uid": "84af056a-4cf5-42c3-b667-0bac11fc999d",
         "x": [
          0,
          1,
          2,
          3,
          4,
          5,
          6,
          7,
          8,
          9,
          10,
          11
         ],
         "y": [
          1,
          10,
          17,
          25,
          33,
          44,
          54,
          68,
          76,
          90,
          98,
          100
         ]
        },
        {
         "hoverinfo": "text",
         "hovertext": "p=0.6",
         "marker": {
          "color": "rgb(120.0, 70, 200)"
         },
         "mode": "lines+markers",
         "type": "scatter",
         "uid": "cc8d125d-5936-4992-a805-50123838f8b8",
         "x": [
          0,
          1,
          2,
          3,
          4,
          5,
          6,
          7,
          8,
          9
         ],
         "y": [
          1,
          12,
          22,
          29,
          41,
          50,
          66,
          81,
          94,
          100
         ]
        },
        {
         "hoverinfo": "text",
         "hovertext": "p=0.5",
         "marker": {
          "color": "rgb(100.0, 70, 200)"
         },
         "mode": "lines+markers",
         "type": "scatter",
         "uid": "6de853f3-571d-4f95-b7f1-664d3054a9fc",
         "x": [
          0,
          1,
          2,
          3,
          4,
          5,
          6,
          7,
          8
         ],
         "y": [
          1,
          14,
          32,
          44,
          61,
          71,
          85,
          98,
          100
         ]
        },
        {
         "hoverinfo": "text",
         "hovertext": "p=0.3999999999999999",
         "marker": {
          "color": "rgb(80.0, 70, 200)"
         },
         "mode": "lines+markers",
         "type": "scatter",
         "uid": "2cfea6cb-9c21-4295-b4f9-38b361296881",
         "x": [
          0,
          1,
          2,
          3,
          4,
          5,
          6,
          7
         ],
         "y": [
          1,
          17,
          31,
          50,
          67,
          79,
          95,
          100
         ]
        },
        {
         "hoverinfo": "text",
         "hovertext": "p=0.29999999999999993",
         "marker": {
          "color": "rgb(60.0, 70, 200)"
         },
         "mode": "lines+markers",
         "type": "scatter",
         "uid": "a9768004-b696-4c0c-9741-2f971f39f8a1",
         "x": [
          0,
          1,
          2,
          3,
          4,
          5,
          6,
          7,
          8,
          9
         ],
         "y": [
          1,
          7,
          13,
          31,
          43,
          60,
          74,
          82,
          89,
          100
         ]
        },
        {
         "hoverinfo": "text",
         "hovertext": "p=0.19999999999999996",
         "marker": {
          "color": "rgb(40.0, 70, 200)"
         },
         "mode": "lines+markers",
         "type": "scatter",
         "uid": "4c2abb75-5628-4ce1-b81e-9b83731901f2",
         "x": [
          0,
          1,
          2,
          3,
          4,
          5,
          6,
          7,
          8,
          9
         ],
         "y": [
          1,
          7,
          17,
          29,
          48,
          59,
          70,
          78,
          91,
          100
         ]
        },
        {
         "hoverinfo": "text",
         "hovertext": "p=0.09999999999999998",
         "marker": {
          "color": "rgb(20.0, 70, 200)"
         },
         "mode": "lines+markers",
         "type": "scatter",
         "uid": "12721a15-b436-4a47-9a9f-dbb360950c11",
         "x": [
          0,
          1,
          2,
          3,
          4,
          5,
          6,
          7,
          8,
          9,
          10,
          11,
          12,
          13
         ],
         "y": [
          1,
          9,
          16,
          26,
          34,
          44,
          51,
          60,
          65,
          69,
          83,
          90,
          98,
          100
         ]
        }
       ],
       "layout": {
        "showlegend": false,
        "title": {
         "text": "Social Welfare vs Iteration (r=60.0)"
        }
       }
      },
      "text/html": [
       "<div id=\"0053d0cd-1c98-4726-b971-5790ef4d6e2d\" style=\"height: 525px; width: 100%;\" class=\"plotly-graph-div\"></div><script type=\"text/javascript\">require([\"plotly\"], function(Plotly) { window.PLOTLYENV=window.PLOTLYENV || {};window.PLOTLYENV.BASE_URL=\"https://plot.ly\";\n",
       "if (document.getElementById(\"0053d0cd-1c98-4726-b971-5790ef4d6e2d\")) {\n",
       "    Plotly.newPlot(\"0053d0cd-1c98-4726-b971-5790ef4d6e2d\", [{\"hoverinfo\": \"text\", \"hovertext\": \"p=1.0\", \"marker\": {\"color\": \"rgb(200.0, 70, 200)\"}, \"mode\": \"lines+markers\", \"x\": [0, 1, 2, 3, 4, 5, 6, 7, 8], \"y\": [1.0, 16.0, 37.0, 43.0, 56.0, 64.0, 85.0, 99.0, 100.0], \"type\": \"scatter\", \"uid\": \"8b3f5239-cb60-48fa-9ff0-6107c75cb795\"}, {\"hoverinfo\": \"text\", \"hovertext\": \"p=0.9\", \"marker\": {\"color\": \"rgb(180.0, 70, 200)\"}, \"mode\": \"lines+markers\", \"x\": [0, 1, 2, 3, 4, 5, 6, 7, 8, 9, 10], \"y\": [1.0, 11.0, 21.0, 30.0, 37.0, 50.0, 64.0, 76.0, 87.0, 98.0, 100.0], \"type\": \"scatter\", \"uid\": \"f8dd01b6-f75a-466f-a9bd-37cb8e83c91a\"}, {\"hoverinfo\": \"text\", \"hovertext\": \"p=0.8\", \"marker\": {\"color\": \"rgb(160.0, 70, 200)\"}, \"mode\": \"lines+markers\", \"x\": [0, 1, 2, 3, 4, 5, 6, 7, 8, 9], \"y\": [1.0, 11.0, 21.0, 30.0, 41.0, 60.0, 76.0, 92.0, 98.0, 100.0], \"type\": \"scatter\", \"uid\": \"5d043d9c-f50b-43f4-a703-589f0d66c4fe\"}, {\"hoverinfo\": \"text\", \"hovertext\": \"p=0.7\", \"marker\": {\"color\": \"rgb(140.0, 70, 200)\"}, \"mode\": \"lines+markers\", \"x\": [0, 1, 2, 3, 4, 5, 6, 7, 8, 9, 10, 11], \"y\": [1.0, 10.0, 17.0, 25.0, 33.0, 44.0, 54.0, 68.0, 76.0, 90.0, 98.0, 100.0], \"type\": \"scatter\", \"uid\": \"84af056a-4cf5-42c3-b667-0bac11fc999d\"}, {\"hoverinfo\": \"text\", \"hovertext\": \"p=0.6\", \"marker\": {\"color\": \"rgb(120.0, 70, 200)\"}, \"mode\": \"lines+markers\", \"x\": [0, 1, 2, 3, 4, 5, 6, 7, 8, 9], \"y\": [1.0, 12.0, 22.0, 29.0, 41.0, 50.0, 66.0, 81.0, 94.0, 100.0], \"type\": \"scatter\", \"uid\": \"cc8d125d-5936-4992-a805-50123838f8b8\"}, {\"hoverinfo\": \"text\", \"hovertext\": \"p=0.5\", \"marker\": {\"color\": \"rgb(100.0, 70, 200)\"}, \"mode\": \"lines+markers\", \"x\": [0, 1, 2, 3, 4, 5, 6, 7, 8], \"y\": [1.0, 14.0, 32.0, 44.0, 61.0, 71.0, 85.0, 98.0, 100.0], \"type\": \"scatter\", \"uid\": \"6de853f3-571d-4f95-b7f1-664d3054a9fc\"}, {\"hoverinfo\": \"text\", \"hovertext\": \"p=0.3999999999999999\", \"marker\": {\"color\": \"rgb(80.0, 70, 200)\"}, \"mode\": \"lines+markers\", \"x\": [0, 1, 2, 3, 4, 5, 6, 7], \"y\": [1.0, 17.0, 31.0, 50.0, 67.0, 79.0, 95.0, 100.0], \"type\": \"scatter\", \"uid\": \"2cfea6cb-9c21-4295-b4f9-38b361296881\"}, {\"hoverinfo\": \"text\", \"hovertext\": \"p=0.29999999999999993\", \"marker\": {\"color\": \"rgb(60.0, 70, 200)\"}, \"mode\": \"lines+markers\", \"x\": [0, 1, 2, 3, 4, 5, 6, 7, 8, 9], \"y\": [1.0, 7.0, 13.0, 31.0, 43.0, 60.0, 74.0, 82.0, 89.0, 100.0], \"type\": \"scatter\", \"uid\": \"a9768004-b696-4c0c-9741-2f971f39f8a1\"}, {\"hoverinfo\": \"text\", \"hovertext\": \"p=0.19999999999999996\", \"marker\": {\"color\": \"rgb(40.0, 70, 200)\"}, \"mode\": \"lines+markers\", \"x\": [0, 1, 2, 3, 4, 5, 6, 7, 8, 9], \"y\": [1.0, 7.0, 17.0, 29.0, 48.0, 59.0, 70.0, 78.0, 91.0, 100.0], \"type\": \"scatter\", \"uid\": \"4c2abb75-5628-4ce1-b81e-9b83731901f2\"}, {\"hoverinfo\": \"text\", \"hovertext\": \"p=0.09999999999999998\", \"marker\": {\"color\": \"rgb(20.0, 70, 200)\"}, \"mode\": \"lines+markers\", \"x\": [0, 1, 2, 3, 4, 5, 6, 7, 8, 9, 10, 11, 12, 13], \"y\": [1.0, 9.0, 16.0, 26.0, 34.0, 44.0, 51.0, 60.0, 65.0, 69.0, 83.0, 90.0, 98.0, 100.0], \"type\": \"scatter\", \"uid\": \"12721a15-b436-4a47-9a9f-dbb360950c11\"}], {\"showlegend\": false, \"title\": {\"text\": \"Social Welfare vs Iteration (r=60.0)\"}}, {\"showLink\": false, \"linkText\": \"Export to plot.ly\", \"plotlyServerURL\": \"https://plot.ly\"}); \n",
       "}\n",
       "});</script><script type=\"text/javascript\">window.addEventListener(\"resize\", function(){if (document.getElementById(\"0053d0cd-1c98-4726-b971-5790ef4d6e2d\")) {window._Plotly.Plots.resize(document.getElementById(\"0053d0cd-1c98-4726-b971-5790ef4d6e2d\"));};})</script>"
      ],
      "text/vnd.plotly.v1+html": [
       "<div id=\"0053d0cd-1c98-4726-b971-5790ef4d6e2d\" style=\"height: 525px; width: 100%;\" class=\"plotly-graph-div\"></div><script type=\"text/javascript\">require([\"plotly\"], function(Plotly) { window.PLOTLYENV=window.PLOTLYENV || {};window.PLOTLYENV.BASE_URL=\"https://plot.ly\";\n",
       "if (document.getElementById(\"0053d0cd-1c98-4726-b971-5790ef4d6e2d\")) {\n",
       "    Plotly.newPlot(\"0053d0cd-1c98-4726-b971-5790ef4d6e2d\", [{\"hoverinfo\": \"text\", \"hovertext\": \"p=1.0\", \"marker\": {\"color\": \"rgb(200.0, 70, 200)\"}, \"mode\": \"lines+markers\", \"x\": [0, 1, 2, 3, 4, 5, 6, 7, 8], \"y\": [1.0, 16.0, 37.0, 43.0, 56.0, 64.0, 85.0, 99.0, 100.0], \"type\": \"scatter\", \"uid\": \"8b3f5239-cb60-48fa-9ff0-6107c75cb795\"}, {\"hoverinfo\": \"text\", \"hovertext\": \"p=0.9\", \"marker\": {\"color\": \"rgb(180.0, 70, 200)\"}, \"mode\": \"lines+markers\", \"x\": [0, 1, 2, 3, 4, 5, 6, 7, 8, 9, 10], \"y\": [1.0, 11.0, 21.0, 30.0, 37.0, 50.0, 64.0, 76.0, 87.0, 98.0, 100.0], \"type\": \"scatter\", \"uid\": \"f8dd01b6-f75a-466f-a9bd-37cb8e83c91a\"}, {\"hoverinfo\": \"text\", \"hovertext\": \"p=0.8\", \"marker\": {\"color\": \"rgb(160.0, 70, 200)\"}, \"mode\": \"lines+markers\", \"x\": [0, 1, 2, 3, 4, 5, 6, 7, 8, 9], \"y\": [1.0, 11.0, 21.0, 30.0, 41.0, 60.0, 76.0, 92.0, 98.0, 100.0], \"type\": \"scatter\", \"uid\": \"5d043d9c-f50b-43f4-a703-589f0d66c4fe\"}, {\"hoverinfo\": \"text\", \"hovertext\": \"p=0.7\", \"marker\": {\"color\": \"rgb(140.0, 70, 200)\"}, \"mode\": \"lines+markers\", \"x\": [0, 1, 2, 3, 4, 5, 6, 7, 8, 9, 10, 11], \"y\": [1.0, 10.0, 17.0, 25.0, 33.0, 44.0, 54.0, 68.0, 76.0, 90.0, 98.0, 100.0], \"type\": \"scatter\", \"uid\": \"84af056a-4cf5-42c3-b667-0bac11fc999d\"}, {\"hoverinfo\": \"text\", \"hovertext\": \"p=0.6\", \"marker\": {\"color\": \"rgb(120.0, 70, 200)\"}, \"mode\": \"lines+markers\", \"x\": [0, 1, 2, 3, 4, 5, 6, 7, 8, 9], \"y\": [1.0, 12.0, 22.0, 29.0, 41.0, 50.0, 66.0, 81.0, 94.0, 100.0], \"type\": \"scatter\", \"uid\": \"cc8d125d-5936-4992-a805-50123838f8b8\"}, {\"hoverinfo\": \"text\", \"hovertext\": \"p=0.5\", \"marker\": {\"color\": \"rgb(100.0, 70, 200)\"}, \"mode\": \"lines+markers\", \"x\": [0, 1, 2, 3, 4, 5, 6, 7, 8], \"y\": [1.0, 14.0, 32.0, 44.0, 61.0, 71.0, 85.0, 98.0, 100.0], \"type\": \"scatter\", \"uid\": \"6de853f3-571d-4f95-b7f1-664d3054a9fc\"}, {\"hoverinfo\": \"text\", \"hovertext\": \"p=0.3999999999999999\", \"marker\": {\"color\": \"rgb(80.0, 70, 200)\"}, \"mode\": \"lines+markers\", \"x\": [0, 1, 2, 3, 4, 5, 6, 7], \"y\": [1.0, 17.0, 31.0, 50.0, 67.0, 79.0, 95.0, 100.0], \"type\": \"scatter\", \"uid\": \"2cfea6cb-9c21-4295-b4f9-38b361296881\"}, {\"hoverinfo\": \"text\", \"hovertext\": \"p=0.29999999999999993\", \"marker\": {\"color\": \"rgb(60.0, 70, 200)\"}, \"mode\": \"lines+markers\", \"x\": [0, 1, 2, 3, 4, 5, 6, 7, 8, 9], \"y\": [1.0, 7.0, 13.0, 31.0, 43.0, 60.0, 74.0, 82.0, 89.0, 100.0], \"type\": \"scatter\", \"uid\": \"a9768004-b696-4c0c-9741-2f971f39f8a1\"}, {\"hoverinfo\": \"text\", \"hovertext\": \"p=0.19999999999999996\", \"marker\": {\"color\": \"rgb(40.0, 70, 200)\"}, \"mode\": \"lines+markers\", \"x\": [0, 1, 2, 3, 4, 5, 6, 7, 8, 9], \"y\": [1.0, 7.0, 17.0, 29.0, 48.0, 59.0, 70.0, 78.0, 91.0, 100.0], \"type\": \"scatter\", \"uid\": \"4c2abb75-5628-4ce1-b81e-9b83731901f2\"}, {\"hoverinfo\": \"text\", \"hovertext\": \"p=0.09999999999999998\", \"marker\": {\"color\": \"rgb(20.0, 70, 200)\"}, \"mode\": \"lines+markers\", \"x\": [0, 1, 2, 3, 4, 5, 6, 7, 8, 9, 10, 11, 12, 13], \"y\": [1.0, 9.0, 16.0, 26.0, 34.0, 44.0, 51.0, 60.0, 65.0, 69.0, 83.0, 90.0, 98.0, 100.0], \"type\": \"scatter\", \"uid\": \"12721a15-b436-4a47-9a9f-dbb360950c11\"}], {\"showlegend\": false, \"title\": {\"text\": \"Social Welfare vs Iteration (r=60.0)\"}}, {\"showLink\": false, \"linkText\": \"Export to plot.ly\", \"plotlyServerURL\": \"https://plot.ly\"}); \n",
       "}\n",
       "});</script><script type=\"text/javascript\">window.addEventListener(\"resize\", function(){if (document.getElementById(\"0053d0cd-1c98-4726-b971-5790ef4d6e2d\")) {window._Plotly.Plots.resize(document.getElementById(\"0053d0cd-1c98-4726-b971-5790ef4d6e2d\"));};})</script>"
      ]
     },
     "metadata": {},
     "output_type": "display_data"
    },
    {
     "data": {
      "application/vnd.plotly.v1+json": {
       "config": {
        "linkText": "Export to plot.ly",
        "plotlyServerURL": "https://plot.ly",
        "showLink": false
       },
       "data": [
        {
         "hoverinfo": "text",
         "hovertext": "p=1.0",
         "marker": {
          "color": "rgb(200.0, 70, 200)"
         },
         "mode": "lines+markers",
         "type": "scatter",
         "uid": "d6c867d1-c19b-4d6b-ba44-fb77080a3cb5",
         "x": [
          0,
          1,
          2,
          3,
          4,
          5,
          6,
          7,
          8
         ],
         "y": [
          1,
          12,
          20,
          31,
          49,
          60,
          73,
          90,
          100
         ]
        },
        {
         "hoverinfo": "text",
         "hovertext": "p=0.9",
         "marker": {
          "color": "rgb(180.0, 70, 200)"
         },
         "mode": "lines+markers",
         "type": "scatter",
         "uid": "3f04d593-6519-49e6-9355-a5b8b1b9e422",
         "x": [
          0,
          1,
          2,
          3,
          4,
          5,
          6,
          7,
          8,
          9,
          10
         ],
         "y": [
          1,
          5,
          23,
          32,
          40,
          45,
          56,
          72,
          87,
          98,
          100
         ]
        },
        {
         "hoverinfo": "text",
         "hovertext": "p=0.8",
         "marker": {
          "color": "rgb(160.0, 70, 200)"
         },
         "mode": "lines+markers",
         "type": "scatter",
         "uid": "5bf46b31-5c1f-4670-811d-2dd7b7a22ff9",
         "x": [
          0,
          1,
          2,
          3,
          4,
          5,
          6,
          7,
          8,
          9
         ],
         "y": [
          1,
          9,
          16,
          33,
          43,
          52,
          62,
          84,
          95,
          100
         ]
        },
        {
         "hoverinfo": "text",
         "hovertext": "p=0.7",
         "marker": {
          "color": "rgb(140.0, 70, 200)"
         },
         "mode": "lines+markers",
         "type": "scatter",
         "uid": "5098b12c-ccfa-471a-88ad-7245a3500dbc",
         "x": [
          0,
          1,
          2,
          3,
          4,
          5,
          6,
          7,
          8
         ],
         "y": [
          1,
          14,
          26,
          37,
          49,
          64,
          78,
          96,
          100
         ]
        },
        {
         "hoverinfo": "text",
         "hovertext": "p=0.6",
         "marker": {
          "color": "rgb(120.0, 70, 200)"
         },
         "mode": "lines+markers",
         "type": "scatter",
         "uid": "ba2a7848-ed81-478c-b2c3-47f3343f540b",
         "x": [
          0,
          1,
          2,
          3,
          4,
          5,
          6,
          7,
          8,
          9,
          10
         ],
         "y": [
          1,
          6,
          19,
          27,
          34,
          52,
          59,
          72,
          85,
          96,
          100
         ]
        },
        {
         "hoverinfo": "text",
         "hovertext": "p=0.5",
         "marker": {
          "color": "rgb(100.0, 70, 200)"
         },
         "mode": "lines+markers",
         "type": "scatter",
         "uid": "f2aaa262-cb0c-40c4-b2ea-c9856d179b6d",
         "x": [
          0,
          1,
          2,
          3,
          4,
          5,
          6,
          7,
          8,
          9,
          10,
          11
         ],
         "y": [
          1,
          14,
          27,
          36,
          45,
          51,
          56,
          69,
          75,
          91,
          98,
          100
         ]
        },
        {
         "hoverinfo": "text",
         "hovertext": "p=0.3999999999999999",
         "marker": {
          "color": "rgb(80.0, 70, 200)"
         },
         "mode": "lines+markers",
         "type": "scatter",
         "uid": "090bf673-f38d-41a6-81aa-fed6704f6c98",
         "x": [
          0,
          1,
          2,
          3,
          4,
          5,
          6,
          7,
          8,
          9
         ],
         "y": [
          1,
          8,
          25,
          38,
          52,
          67,
          79,
          94,
          99,
          100
         ]
        },
        {
         "hoverinfo": "text",
         "hovertext": "p=0.29999999999999993",
         "marker": {
          "color": "rgb(60.0, 70, 200)"
         },
         "mode": "lines+markers",
         "type": "scatter",
         "uid": "06ee7acc-86d3-4adf-a63e-f89c43718076",
         "x": [
          0,
          1,
          2,
          3,
          4,
          5,
          6,
          7,
          8,
          9
         ],
         "y": [
          1,
          7,
          18,
          29,
          40,
          56,
          67,
          80,
          95,
          100
         ]
        },
        {
         "hoverinfo": "text",
         "hovertext": "p=0.19999999999999996",
         "marker": {
          "color": "rgb(40.0, 70, 200)"
         },
         "mode": "lines+markers",
         "type": "scatter",
         "uid": "31428ed6-46b6-4186-8c4a-0b3dbe12d57f",
         "x": [
          0,
          1,
          2,
          3,
          4,
          5,
          6,
          7,
          8
         ],
         "y": [
          1,
          16,
          34,
          45,
          56,
          64,
          80,
          94,
          100
         ]
        },
        {
         "hoverinfo": "text",
         "hovertext": "p=0.09999999999999998",
         "marker": {
          "color": "rgb(20.0, 70, 200)"
         },
         "mode": "lines+markers",
         "type": "scatter",
         "uid": "f66883f1-b04c-4cb0-af92-161ac51402b6",
         "x": [
          0,
          1,
          2,
          3,
          4,
          5,
          6,
          7,
          8,
          9,
          10,
          11,
          12,
          13
         ],
         "y": [
          1,
          9,
          17,
          28,
          35,
          44,
          49,
          53,
          65,
          70,
          78,
          87,
          96,
          100
         ]
        }
       ],
       "layout": {
        "showlegend": false,
        "title": {
         "text": "Social Welfare vs Iteration (r=50.0)"
        }
       }
      },
      "text/html": [
       "<div id=\"8a5c55df-4779-4800-ad7c-c67d39f09261\" style=\"height: 525px; width: 100%;\" class=\"plotly-graph-div\"></div><script type=\"text/javascript\">require([\"plotly\"], function(Plotly) { window.PLOTLYENV=window.PLOTLYENV || {};window.PLOTLYENV.BASE_URL=\"https://plot.ly\";\n",
       "if (document.getElementById(\"8a5c55df-4779-4800-ad7c-c67d39f09261\")) {\n",
       "    Plotly.newPlot(\"8a5c55df-4779-4800-ad7c-c67d39f09261\", [{\"hoverinfo\": \"text\", \"hovertext\": \"p=1.0\", \"marker\": {\"color\": \"rgb(200.0, 70, 200)\"}, \"mode\": \"lines+markers\", \"x\": [0, 1, 2, 3, 4, 5, 6, 7, 8], \"y\": [1.0, 12.0, 20.0, 31.0, 49.0, 60.0, 73.0, 90.0, 100.0], \"type\": \"scatter\", \"uid\": \"d6c867d1-c19b-4d6b-ba44-fb77080a3cb5\"}, {\"hoverinfo\": \"text\", \"hovertext\": \"p=0.9\", \"marker\": {\"color\": \"rgb(180.0, 70, 200)\"}, \"mode\": \"lines+markers\", \"x\": [0, 1, 2, 3, 4, 5, 6, 7, 8, 9, 10], \"y\": [1.0, 5.0, 23.0, 32.0, 40.0, 45.0, 56.0, 72.0, 87.0, 98.0, 100.0], \"type\": \"scatter\", \"uid\": \"3f04d593-6519-49e6-9355-a5b8b1b9e422\"}, {\"hoverinfo\": \"text\", \"hovertext\": \"p=0.8\", \"marker\": {\"color\": \"rgb(160.0, 70, 200)\"}, \"mode\": \"lines+markers\", \"x\": [0, 1, 2, 3, 4, 5, 6, 7, 8, 9], \"y\": [1.0, 9.0, 16.0, 33.0, 43.0, 52.0, 62.0, 84.0, 95.0, 100.0], \"type\": \"scatter\", \"uid\": \"5bf46b31-5c1f-4670-811d-2dd7b7a22ff9\"}, {\"hoverinfo\": \"text\", \"hovertext\": \"p=0.7\", \"marker\": {\"color\": \"rgb(140.0, 70, 200)\"}, \"mode\": \"lines+markers\", \"x\": [0, 1, 2, 3, 4, 5, 6, 7, 8], \"y\": [1.0, 14.0, 26.0, 37.0, 49.0, 64.0, 78.0, 96.0, 100.0], \"type\": \"scatter\", \"uid\": \"5098b12c-ccfa-471a-88ad-7245a3500dbc\"}, {\"hoverinfo\": \"text\", \"hovertext\": \"p=0.6\", \"marker\": {\"color\": \"rgb(120.0, 70, 200)\"}, \"mode\": \"lines+markers\", \"x\": [0, 1, 2, 3, 4, 5, 6, 7, 8, 9, 10], \"y\": [1.0, 6.0, 19.0, 27.0, 34.0, 52.0, 59.0, 72.0, 85.0, 96.0, 100.0], \"type\": \"scatter\", \"uid\": \"ba2a7848-ed81-478c-b2c3-47f3343f540b\"}, {\"hoverinfo\": \"text\", \"hovertext\": \"p=0.5\", \"marker\": {\"color\": \"rgb(100.0, 70, 200)\"}, \"mode\": \"lines+markers\", \"x\": [0, 1, 2, 3, 4, 5, 6, 7, 8, 9, 10, 11], \"y\": [1.0, 14.0, 27.0, 36.0, 45.0, 51.0, 56.0, 69.0, 75.0, 91.0, 98.0, 100.0], \"type\": \"scatter\", \"uid\": \"f2aaa262-cb0c-40c4-b2ea-c9856d179b6d\"}, {\"hoverinfo\": \"text\", \"hovertext\": \"p=0.3999999999999999\", \"marker\": {\"color\": \"rgb(80.0, 70, 200)\"}, \"mode\": \"lines+markers\", \"x\": [0, 1, 2, 3, 4, 5, 6, 7, 8, 9], \"y\": [1.0, 8.0, 25.0, 38.0, 52.0, 67.0, 79.0, 94.0, 99.0, 100.0], \"type\": \"scatter\", \"uid\": \"090bf673-f38d-41a6-81aa-fed6704f6c98\"}, {\"hoverinfo\": \"text\", \"hovertext\": \"p=0.29999999999999993\", \"marker\": {\"color\": \"rgb(60.0, 70, 200)\"}, \"mode\": \"lines+markers\", \"x\": [0, 1, 2, 3, 4, 5, 6, 7, 8, 9], \"y\": [1.0, 7.0, 18.0, 29.0, 40.0, 56.0, 67.0, 80.0, 95.0, 100.0], \"type\": \"scatter\", \"uid\": \"06ee7acc-86d3-4adf-a63e-f89c43718076\"}, {\"hoverinfo\": \"text\", \"hovertext\": \"p=0.19999999999999996\", \"marker\": {\"color\": \"rgb(40.0, 70, 200)\"}, \"mode\": \"lines+markers\", \"x\": [0, 1, 2, 3, 4, 5, 6, 7, 8], \"y\": [1.0, 16.0, 34.0, 45.0, 56.0, 64.0, 80.0, 94.0, 100.0], \"type\": \"scatter\", \"uid\": \"31428ed6-46b6-4186-8c4a-0b3dbe12d57f\"}, {\"hoverinfo\": \"text\", \"hovertext\": \"p=0.09999999999999998\", \"marker\": {\"color\": \"rgb(20.0, 70, 200)\"}, \"mode\": \"lines+markers\", \"x\": [0, 1, 2, 3, 4, 5, 6, 7, 8, 9, 10, 11, 12, 13], \"y\": [1.0, 9.0, 17.0, 28.0, 35.0, 44.0, 49.0, 53.0, 65.0, 70.0, 78.0, 87.0, 96.0, 100.0], \"type\": \"scatter\", \"uid\": \"f66883f1-b04c-4cb0-af92-161ac51402b6\"}], {\"showlegend\": false, \"title\": {\"text\": \"Social Welfare vs Iteration (r=50.0)\"}}, {\"showLink\": false, \"linkText\": \"Export to plot.ly\", \"plotlyServerURL\": \"https://plot.ly\"}); \n",
       "}\n",
       "});</script><script type=\"text/javascript\">window.addEventListener(\"resize\", function(){if (document.getElementById(\"8a5c55df-4779-4800-ad7c-c67d39f09261\")) {window._Plotly.Plots.resize(document.getElementById(\"8a5c55df-4779-4800-ad7c-c67d39f09261\"));};})</script>"
      ],
      "text/vnd.plotly.v1+html": [
       "<div id=\"8a5c55df-4779-4800-ad7c-c67d39f09261\" style=\"height: 525px; width: 100%;\" class=\"plotly-graph-div\"></div><script type=\"text/javascript\">require([\"plotly\"], function(Plotly) { window.PLOTLYENV=window.PLOTLYENV || {};window.PLOTLYENV.BASE_URL=\"https://plot.ly\";\n",
       "if (document.getElementById(\"8a5c55df-4779-4800-ad7c-c67d39f09261\")) {\n",
       "    Plotly.newPlot(\"8a5c55df-4779-4800-ad7c-c67d39f09261\", [{\"hoverinfo\": \"text\", \"hovertext\": \"p=1.0\", \"marker\": {\"color\": \"rgb(200.0, 70, 200)\"}, \"mode\": \"lines+markers\", \"x\": [0, 1, 2, 3, 4, 5, 6, 7, 8], \"y\": [1.0, 12.0, 20.0, 31.0, 49.0, 60.0, 73.0, 90.0, 100.0], \"type\": \"scatter\", \"uid\": \"d6c867d1-c19b-4d6b-ba44-fb77080a3cb5\"}, {\"hoverinfo\": \"text\", \"hovertext\": \"p=0.9\", \"marker\": {\"color\": \"rgb(180.0, 70, 200)\"}, \"mode\": \"lines+markers\", \"x\": [0, 1, 2, 3, 4, 5, 6, 7, 8, 9, 10], \"y\": [1.0, 5.0, 23.0, 32.0, 40.0, 45.0, 56.0, 72.0, 87.0, 98.0, 100.0], \"type\": \"scatter\", \"uid\": \"3f04d593-6519-49e6-9355-a5b8b1b9e422\"}, {\"hoverinfo\": \"text\", \"hovertext\": \"p=0.8\", \"marker\": {\"color\": \"rgb(160.0, 70, 200)\"}, \"mode\": \"lines+markers\", \"x\": [0, 1, 2, 3, 4, 5, 6, 7, 8, 9], \"y\": [1.0, 9.0, 16.0, 33.0, 43.0, 52.0, 62.0, 84.0, 95.0, 100.0], \"type\": \"scatter\", \"uid\": \"5bf46b31-5c1f-4670-811d-2dd7b7a22ff9\"}, {\"hoverinfo\": \"text\", \"hovertext\": \"p=0.7\", \"marker\": {\"color\": \"rgb(140.0, 70, 200)\"}, \"mode\": \"lines+markers\", \"x\": [0, 1, 2, 3, 4, 5, 6, 7, 8], \"y\": [1.0, 14.0, 26.0, 37.0, 49.0, 64.0, 78.0, 96.0, 100.0], \"type\": \"scatter\", \"uid\": \"5098b12c-ccfa-471a-88ad-7245a3500dbc\"}, {\"hoverinfo\": \"text\", \"hovertext\": \"p=0.6\", \"marker\": {\"color\": \"rgb(120.0, 70, 200)\"}, \"mode\": \"lines+markers\", \"x\": [0, 1, 2, 3, 4, 5, 6, 7, 8, 9, 10], \"y\": [1.0, 6.0, 19.0, 27.0, 34.0, 52.0, 59.0, 72.0, 85.0, 96.0, 100.0], \"type\": \"scatter\", \"uid\": \"ba2a7848-ed81-478c-b2c3-47f3343f540b\"}, {\"hoverinfo\": \"text\", \"hovertext\": \"p=0.5\", \"marker\": {\"color\": \"rgb(100.0, 70, 200)\"}, \"mode\": \"lines+markers\", \"x\": [0, 1, 2, 3, 4, 5, 6, 7, 8, 9, 10, 11], \"y\": [1.0, 14.0, 27.0, 36.0, 45.0, 51.0, 56.0, 69.0, 75.0, 91.0, 98.0, 100.0], \"type\": \"scatter\", \"uid\": \"f2aaa262-cb0c-40c4-b2ea-c9856d179b6d\"}, {\"hoverinfo\": \"text\", \"hovertext\": \"p=0.3999999999999999\", \"marker\": {\"color\": \"rgb(80.0, 70, 200)\"}, \"mode\": \"lines+markers\", \"x\": [0, 1, 2, 3, 4, 5, 6, 7, 8, 9], \"y\": [1.0, 8.0, 25.0, 38.0, 52.0, 67.0, 79.0, 94.0, 99.0, 100.0], \"type\": \"scatter\", \"uid\": \"090bf673-f38d-41a6-81aa-fed6704f6c98\"}, {\"hoverinfo\": \"text\", \"hovertext\": \"p=0.29999999999999993\", \"marker\": {\"color\": \"rgb(60.0, 70, 200)\"}, \"mode\": \"lines+markers\", \"x\": [0, 1, 2, 3, 4, 5, 6, 7, 8, 9], \"y\": [1.0, 7.0, 18.0, 29.0, 40.0, 56.0, 67.0, 80.0, 95.0, 100.0], \"type\": \"scatter\", \"uid\": \"06ee7acc-86d3-4adf-a63e-f89c43718076\"}, {\"hoverinfo\": \"text\", \"hovertext\": \"p=0.19999999999999996\", \"marker\": {\"color\": \"rgb(40.0, 70, 200)\"}, \"mode\": \"lines+markers\", \"x\": [0, 1, 2, 3, 4, 5, 6, 7, 8], \"y\": [1.0, 16.0, 34.0, 45.0, 56.0, 64.0, 80.0, 94.0, 100.0], \"type\": \"scatter\", \"uid\": \"31428ed6-46b6-4186-8c4a-0b3dbe12d57f\"}, {\"hoverinfo\": \"text\", \"hovertext\": \"p=0.09999999999999998\", \"marker\": {\"color\": \"rgb(20.0, 70, 200)\"}, \"mode\": \"lines+markers\", \"x\": [0, 1, 2, 3, 4, 5, 6, 7, 8, 9, 10, 11, 12, 13], \"y\": [1.0, 9.0, 17.0, 28.0, 35.0, 44.0, 49.0, 53.0, 65.0, 70.0, 78.0, 87.0, 96.0, 100.0], \"type\": \"scatter\", \"uid\": \"f66883f1-b04c-4cb0-af92-161ac51402b6\"}], {\"showlegend\": false, \"title\": {\"text\": \"Social Welfare vs Iteration (r=50.0)\"}}, {\"showLink\": false, \"linkText\": \"Export to plot.ly\", \"plotlyServerURL\": \"https://plot.ly\"}); \n",
       "}\n",
       "});</script><script type=\"text/javascript\">window.addEventListener(\"resize\", function(){if (document.getElementById(\"8a5c55df-4779-4800-ad7c-c67d39f09261\")) {window._Plotly.Plots.resize(document.getElementById(\"8a5c55df-4779-4800-ad7c-c67d39f09261\"));};})</script>"
      ]
     },
     "metadata": {},
     "output_type": "display_data"
    },
    {
     "data": {
      "application/vnd.plotly.v1+json": {
       "config": {
        "linkText": "Export to plot.ly",
        "plotlyServerURL": "https://plot.ly",
        "showLink": false
       },
       "data": [
        {
         "hoverinfo": "text",
         "hovertext": "p=1.0",
         "marker": {
          "color": "rgb(200.0, 70, 200)"
         },
         "mode": "lines+markers",
         "type": "scatter",
         "uid": "94416a6a-9d41-4fd1-b732-f4a929bc6793",
         "x": [
          0,
          1,
          2,
          3,
          4,
          5,
          6,
          7,
          8,
          9
         ],
         "y": [
          1,
          20,
          27,
          36,
          49,
          61,
          70,
          76,
          88,
          100
         ]
        },
        {
         "hoverinfo": "text",
         "hovertext": "p=0.9",
         "marker": {
          "color": "rgb(180.0, 70, 200)"
         },
         "mode": "lines+markers",
         "type": "scatter",
         "uid": "609da9fd-cd96-46ca-be90-15d0580b643e",
         "x": [
          0,
          1,
          2,
          3,
          4,
          5,
          6,
          7,
          8,
          9
         ],
         "y": [
          1,
          9,
          15,
          24,
          39,
          53,
          75,
          89,
          98,
          100
         ]
        },
        {
         "hoverinfo": "text",
         "hovertext": "p=0.8",
         "marker": {
          "color": "rgb(160.0, 70, 200)"
         },
         "mode": "lines+markers",
         "type": "scatter",
         "uid": "3274224e-554c-45d5-ac58-02f1224ff33f",
         "x": [
          0,
          1,
          2,
          3,
          4,
          5,
          6,
          7,
          8
         ],
         "y": [
          1,
          18,
          31,
          44,
          53,
          77,
          90,
          98,
          100
         ]
        },
        {
         "hoverinfo": "text",
         "hovertext": "p=0.7",
         "marker": {
          "color": "rgb(140.0, 70, 200)"
         },
         "mode": "lines+markers",
         "type": "scatter",
         "uid": "2596b7c6-066d-4dba-98e7-4a80a0772294",
         "x": [
          0,
          1,
          2,
          3,
          4,
          5,
          6,
          7,
          8,
          9
         ],
         "y": [
          1,
          6,
          21,
          32,
          43,
          55,
          70,
          81,
          93,
          100
         ]
        },
        {
         "hoverinfo": "text",
         "hovertext": "p=0.6",
         "marker": {
          "color": "rgb(120.0, 70, 200)"
         },
         "mode": "lines+markers",
         "type": "scatter",
         "uid": "40c0cc1b-369c-4865-a81c-aa08acedb6cc",
         "x": [
          0,
          1,
          2,
          3,
          4,
          5,
          6,
          7,
          8,
          9,
          10
         ],
         "y": [
          1,
          15,
          27,
          35,
          45,
          51,
          65,
          75,
          87,
          98,
          100
         ]
        },
        {
         "hoverinfo": "text",
         "hovertext": "p=0.5",
         "marker": {
          "color": "rgb(100.0, 70, 200)"
         },
         "mode": "lines+markers",
         "type": "scatter",
         "uid": "14da3229-ca6a-437b-939c-187c44cbb0d0",
         "x": [
          0,
          1,
          2,
          3,
          4,
          5,
          6,
          7,
          8
         ],
         "y": [
          1,
          26,
          41,
          54,
          63,
          77,
          83,
          95,
          100
         ]
        },
        {
         "hoverinfo": "text",
         "hovertext": "p=0.3999999999999999",
         "marker": {
          "color": "rgb(80.0, 70, 200)"
         },
         "mode": "lines+markers",
         "type": "scatter",
         "uid": "ed620e27-e9ba-4ccd-8479-0ab5e419871f",
         "x": [
          0,
          1,
          2,
          3,
          4,
          5,
          6,
          7,
          8
         ],
         "y": [
          1,
          14,
          25,
          35,
          56,
          66,
          83,
          96,
          100
         ]
        },
        {
         "hoverinfo": "text",
         "hovertext": "p=0.29999999999999993",
         "marker": {
          "color": "rgb(60.0, 70, 200)"
         },
         "mode": "lines+markers",
         "type": "scatter",
         "uid": "2d4aef4c-5c05-4ca4-b083-c0fc770acec3",
         "x": [
          0,
          1,
          2,
          3,
          4,
          5,
          6,
          7,
          8
         ],
         "y": [
          1,
          16,
          27,
          48,
          59,
          72,
          81,
          88,
          100
         ]
        },
        {
         "hoverinfo": "text",
         "hovertext": "p=0.19999999999999996",
         "marker": {
          "color": "rgb(40.0, 70, 200)"
         },
         "mode": "lines+markers",
         "type": "scatter",
         "uid": "b958bb07-9c7f-4eaf-9310-708f5c75da87",
         "x": [
          0,
          1,
          2,
          3,
          4,
          5,
          6,
          7,
          8,
          9,
          10,
          11
         ],
         "y": [
          1,
          9,
          17,
          30,
          42,
          46,
          51,
          60,
          65,
          72,
          94,
          100
         ]
        },
        {
         "hoverinfo": "text",
         "hovertext": "p=0.09999999999999998",
         "marker": {
          "color": "rgb(20.0, 70, 200)"
         },
         "mode": "lines+markers",
         "type": "scatter",
         "uid": "4a80ba7b-2d8b-44ea-b3df-58de4c7d37a6",
         "x": [
          0,
          1,
          2,
          3,
          4,
          5,
          6,
          7,
          8,
          9,
          10,
          11,
          12,
          13,
          14,
          15
         ],
         "y": [
          1,
          3,
          11,
          16,
          17,
          26,
          31,
          32,
          42,
          47,
          63,
          69,
          78,
          82,
          93,
          100
         ]
        }
       ],
       "layout": {
        "showlegend": false,
        "title": {
         "text": "Social Welfare vs Iteration (r=40.0)"
        }
       }
      },
      "text/html": [
       "<div id=\"d78fb1f8-bbb9-4d9a-ba2e-730386fe99d1\" style=\"height: 525px; width: 100%;\" class=\"plotly-graph-div\"></div><script type=\"text/javascript\">require([\"plotly\"], function(Plotly) { window.PLOTLYENV=window.PLOTLYENV || {};window.PLOTLYENV.BASE_URL=\"https://plot.ly\";\n",
       "if (document.getElementById(\"d78fb1f8-bbb9-4d9a-ba2e-730386fe99d1\")) {\n",
       "    Plotly.newPlot(\"d78fb1f8-bbb9-4d9a-ba2e-730386fe99d1\", [{\"hoverinfo\": \"text\", \"hovertext\": \"p=1.0\", \"marker\": {\"color\": \"rgb(200.0, 70, 200)\"}, \"mode\": \"lines+markers\", \"x\": [0, 1, 2, 3, 4, 5, 6, 7, 8, 9], \"y\": [1.0, 20.0, 27.0, 36.0, 49.0, 61.0, 70.0, 76.0, 88.0, 100.0], \"type\": \"scatter\", \"uid\": \"94416a6a-9d41-4fd1-b732-f4a929bc6793\"}, {\"hoverinfo\": \"text\", \"hovertext\": \"p=0.9\", \"marker\": {\"color\": \"rgb(180.0, 70, 200)\"}, \"mode\": \"lines+markers\", \"x\": [0, 1, 2, 3, 4, 5, 6, 7, 8, 9], \"y\": [1.0, 9.0, 15.0, 24.0, 39.0, 53.0, 75.0, 89.0, 98.0, 100.0], \"type\": \"scatter\", \"uid\": \"609da9fd-cd96-46ca-be90-15d0580b643e\"}, {\"hoverinfo\": \"text\", \"hovertext\": \"p=0.8\", \"marker\": {\"color\": \"rgb(160.0, 70, 200)\"}, \"mode\": \"lines+markers\", \"x\": [0, 1, 2, 3, 4, 5, 6, 7, 8], \"y\": [1.0, 18.0, 31.0, 44.0, 53.0, 77.0, 90.0, 98.0, 100.0], \"type\": \"scatter\", \"uid\": \"3274224e-554c-45d5-ac58-02f1224ff33f\"}, {\"hoverinfo\": \"text\", \"hovertext\": \"p=0.7\", \"marker\": {\"color\": \"rgb(140.0, 70, 200)\"}, \"mode\": \"lines+markers\", \"x\": [0, 1, 2, 3, 4, 5, 6, 7, 8, 9], \"y\": [1.0, 6.0, 21.0, 32.0, 43.0, 55.0, 70.0, 81.0, 93.0, 100.0], \"type\": \"scatter\", \"uid\": \"2596b7c6-066d-4dba-98e7-4a80a0772294\"}, {\"hoverinfo\": \"text\", \"hovertext\": \"p=0.6\", \"marker\": {\"color\": \"rgb(120.0, 70, 200)\"}, \"mode\": \"lines+markers\", \"x\": [0, 1, 2, 3, 4, 5, 6, 7, 8, 9, 10], \"y\": [1.0, 15.0, 27.0, 35.0, 45.0, 51.0, 65.0, 75.0, 87.0, 98.0, 100.0], \"type\": \"scatter\", \"uid\": \"40c0cc1b-369c-4865-a81c-aa08acedb6cc\"}, {\"hoverinfo\": \"text\", \"hovertext\": \"p=0.5\", \"marker\": {\"color\": \"rgb(100.0, 70, 200)\"}, \"mode\": \"lines+markers\", \"x\": [0, 1, 2, 3, 4, 5, 6, 7, 8], \"y\": [1.0, 26.0, 41.0, 54.0, 63.0, 77.0, 83.0, 95.0, 100.0], \"type\": \"scatter\", \"uid\": \"14da3229-ca6a-437b-939c-187c44cbb0d0\"}, {\"hoverinfo\": \"text\", \"hovertext\": \"p=0.3999999999999999\", \"marker\": {\"color\": \"rgb(80.0, 70, 200)\"}, \"mode\": \"lines+markers\", \"x\": [0, 1, 2, 3, 4, 5, 6, 7, 8], \"y\": [1.0, 14.0, 25.0, 35.0, 56.0, 66.0, 83.0, 96.0, 100.0], \"type\": \"scatter\", \"uid\": \"ed620e27-e9ba-4ccd-8479-0ab5e419871f\"}, {\"hoverinfo\": \"text\", \"hovertext\": \"p=0.29999999999999993\", \"marker\": {\"color\": \"rgb(60.0, 70, 200)\"}, \"mode\": \"lines+markers\", \"x\": [0, 1, 2, 3, 4, 5, 6, 7, 8], \"y\": [1.0, 16.0, 27.0, 48.0, 59.0, 72.0, 81.0, 88.0, 100.0], \"type\": \"scatter\", \"uid\": \"2d4aef4c-5c05-4ca4-b083-c0fc770acec3\"}, {\"hoverinfo\": \"text\", \"hovertext\": \"p=0.19999999999999996\", \"marker\": {\"color\": \"rgb(40.0, 70, 200)\"}, \"mode\": \"lines+markers\", \"x\": [0, 1, 2, 3, 4, 5, 6, 7, 8, 9, 10, 11], \"y\": [1.0, 9.0, 17.0, 30.0, 42.0, 46.0, 51.0, 60.0, 65.0, 72.0, 94.0, 100.0], \"type\": \"scatter\", \"uid\": \"b958bb07-9c7f-4eaf-9310-708f5c75da87\"}, {\"hoverinfo\": \"text\", \"hovertext\": \"p=0.09999999999999998\", \"marker\": {\"color\": \"rgb(20.0, 70, 200)\"}, \"mode\": \"lines+markers\", \"x\": [0, 1, 2, 3, 4, 5, 6, 7, 8, 9, 10, 11, 12, 13, 14, 15], \"y\": [1.0, 3.0, 11.0, 16.0, 17.0, 26.0, 31.0, 32.0, 42.0, 47.0, 63.0, 69.0, 78.0, 82.0, 93.0, 100.0], \"type\": \"scatter\", \"uid\": \"4a80ba7b-2d8b-44ea-b3df-58de4c7d37a6\"}], {\"showlegend\": false, \"title\": {\"text\": \"Social Welfare vs Iteration (r=40.0)\"}}, {\"showLink\": false, \"linkText\": \"Export to plot.ly\", \"plotlyServerURL\": \"https://plot.ly\"}); \n",
       "}\n",
       "});</script><script type=\"text/javascript\">window.addEventListener(\"resize\", function(){if (document.getElementById(\"d78fb1f8-bbb9-4d9a-ba2e-730386fe99d1\")) {window._Plotly.Plots.resize(document.getElementById(\"d78fb1f8-bbb9-4d9a-ba2e-730386fe99d1\"));};})</script>"
      ],
      "text/vnd.plotly.v1+html": [
       "<div id=\"d78fb1f8-bbb9-4d9a-ba2e-730386fe99d1\" style=\"height: 525px; width: 100%;\" class=\"plotly-graph-div\"></div><script type=\"text/javascript\">require([\"plotly\"], function(Plotly) { window.PLOTLYENV=window.PLOTLYENV || {};window.PLOTLYENV.BASE_URL=\"https://plot.ly\";\n",
       "if (document.getElementById(\"d78fb1f8-bbb9-4d9a-ba2e-730386fe99d1\")) {\n",
       "    Plotly.newPlot(\"d78fb1f8-bbb9-4d9a-ba2e-730386fe99d1\", [{\"hoverinfo\": \"text\", \"hovertext\": \"p=1.0\", \"marker\": {\"color\": \"rgb(200.0, 70, 200)\"}, \"mode\": \"lines+markers\", \"x\": [0, 1, 2, 3, 4, 5, 6, 7, 8, 9], \"y\": [1.0, 20.0, 27.0, 36.0, 49.0, 61.0, 70.0, 76.0, 88.0, 100.0], \"type\": \"scatter\", \"uid\": \"94416a6a-9d41-4fd1-b732-f4a929bc6793\"}, {\"hoverinfo\": \"text\", \"hovertext\": \"p=0.9\", \"marker\": {\"color\": \"rgb(180.0, 70, 200)\"}, \"mode\": \"lines+markers\", \"x\": [0, 1, 2, 3, 4, 5, 6, 7, 8, 9], \"y\": [1.0, 9.0, 15.0, 24.0, 39.0, 53.0, 75.0, 89.0, 98.0, 100.0], \"type\": \"scatter\", \"uid\": \"609da9fd-cd96-46ca-be90-15d0580b643e\"}, {\"hoverinfo\": \"text\", \"hovertext\": \"p=0.8\", \"marker\": {\"color\": \"rgb(160.0, 70, 200)\"}, \"mode\": \"lines+markers\", \"x\": [0, 1, 2, 3, 4, 5, 6, 7, 8], \"y\": [1.0, 18.0, 31.0, 44.0, 53.0, 77.0, 90.0, 98.0, 100.0], \"type\": \"scatter\", \"uid\": \"3274224e-554c-45d5-ac58-02f1224ff33f\"}, {\"hoverinfo\": \"text\", \"hovertext\": \"p=0.7\", \"marker\": {\"color\": \"rgb(140.0, 70, 200)\"}, \"mode\": \"lines+markers\", \"x\": [0, 1, 2, 3, 4, 5, 6, 7, 8, 9], \"y\": [1.0, 6.0, 21.0, 32.0, 43.0, 55.0, 70.0, 81.0, 93.0, 100.0], \"type\": \"scatter\", \"uid\": \"2596b7c6-066d-4dba-98e7-4a80a0772294\"}, {\"hoverinfo\": \"text\", \"hovertext\": \"p=0.6\", \"marker\": {\"color\": \"rgb(120.0, 70, 200)\"}, \"mode\": \"lines+markers\", \"x\": [0, 1, 2, 3, 4, 5, 6, 7, 8, 9, 10], \"y\": [1.0, 15.0, 27.0, 35.0, 45.0, 51.0, 65.0, 75.0, 87.0, 98.0, 100.0], \"type\": \"scatter\", \"uid\": \"40c0cc1b-369c-4865-a81c-aa08acedb6cc\"}, {\"hoverinfo\": \"text\", \"hovertext\": \"p=0.5\", \"marker\": {\"color\": \"rgb(100.0, 70, 200)\"}, \"mode\": \"lines+markers\", \"x\": [0, 1, 2, 3, 4, 5, 6, 7, 8], \"y\": [1.0, 26.0, 41.0, 54.0, 63.0, 77.0, 83.0, 95.0, 100.0], \"type\": \"scatter\", \"uid\": \"14da3229-ca6a-437b-939c-187c44cbb0d0\"}, {\"hoverinfo\": \"text\", \"hovertext\": \"p=0.3999999999999999\", \"marker\": {\"color\": \"rgb(80.0, 70, 200)\"}, \"mode\": \"lines+markers\", \"x\": [0, 1, 2, 3, 4, 5, 6, 7, 8], \"y\": [1.0, 14.0, 25.0, 35.0, 56.0, 66.0, 83.0, 96.0, 100.0], \"type\": \"scatter\", \"uid\": \"ed620e27-e9ba-4ccd-8479-0ab5e419871f\"}, {\"hoverinfo\": \"text\", \"hovertext\": \"p=0.29999999999999993\", \"marker\": {\"color\": \"rgb(60.0, 70, 200)\"}, \"mode\": \"lines+markers\", \"x\": [0, 1, 2, 3, 4, 5, 6, 7, 8], \"y\": [1.0, 16.0, 27.0, 48.0, 59.0, 72.0, 81.0, 88.0, 100.0], \"type\": \"scatter\", \"uid\": \"2d4aef4c-5c05-4ca4-b083-c0fc770acec3\"}, {\"hoverinfo\": \"text\", \"hovertext\": \"p=0.19999999999999996\", \"marker\": {\"color\": \"rgb(40.0, 70, 200)\"}, \"mode\": \"lines+markers\", \"x\": [0, 1, 2, 3, 4, 5, 6, 7, 8, 9, 10, 11], \"y\": [1.0, 9.0, 17.0, 30.0, 42.0, 46.0, 51.0, 60.0, 65.0, 72.0, 94.0, 100.0], \"type\": \"scatter\", \"uid\": \"b958bb07-9c7f-4eaf-9310-708f5c75da87\"}, {\"hoverinfo\": \"text\", \"hovertext\": \"p=0.09999999999999998\", \"marker\": {\"color\": \"rgb(20.0, 70, 200)\"}, \"mode\": \"lines+markers\", \"x\": [0, 1, 2, 3, 4, 5, 6, 7, 8, 9, 10, 11, 12, 13, 14, 15], \"y\": [1.0, 3.0, 11.0, 16.0, 17.0, 26.0, 31.0, 32.0, 42.0, 47.0, 63.0, 69.0, 78.0, 82.0, 93.0, 100.0], \"type\": \"scatter\", \"uid\": \"4a80ba7b-2d8b-44ea-b3df-58de4c7d37a6\"}], {\"showlegend\": false, \"title\": {\"text\": \"Social Welfare vs Iteration (r=40.0)\"}}, {\"showLink\": false, \"linkText\": \"Export to plot.ly\", \"plotlyServerURL\": \"https://plot.ly\"}); \n",
       "}\n",
       "});</script><script type=\"text/javascript\">window.addEventListener(\"resize\", function(){if (document.getElementById(\"d78fb1f8-bbb9-4d9a-ba2e-730386fe99d1\")) {window._Plotly.Plots.resize(document.getElementById(\"d78fb1f8-bbb9-4d9a-ba2e-730386fe99d1\"));};})</script>"
      ]
     },
     "metadata": {},
     "output_type": "display_data"
    },
    {
     "data": {
      "application/vnd.plotly.v1+json": {
       "config": {
        "linkText": "Export to plot.ly",
        "plotlyServerURL": "https://plot.ly",
        "showLink": false
       },
       "data": [
        {
         "hoverinfo": "text",
         "hovertext": "p=1.0",
         "marker": {
          "color": "rgb(200.0, 70, 200)"
         },
         "mode": "lines+markers",
         "type": "scatter",
         "uid": "13a38073-6f23-4709-905b-a973597c357c",
         "x": [
          0,
          1,
          2,
          3,
          4,
          5,
          6,
          7,
          8,
          9,
          10
         ],
         "y": [
          1,
          11,
          20,
          27,
          42,
          47,
          59,
          71,
          86,
          99,
          100
         ]
        },
        {
         "hoverinfo": "text",
         "hovertext": "p=0.9",
         "marker": {
          "color": "rgb(180.0, 70, 200)"
         },
         "mode": "lines+markers",
         "type": "scatter",
         "uid": "3c156522-7a25-49a8-b86a-d454f3012c15",
         "x": [
          0,
          1,
          2,
          3,
          4,
          5,
          6,
          7,
          8
         ],
         "y": [
          1,
          16,
          34,
          49,
          60,
          72,
          87,
          98,
          100
         ]
        },
        {
         "hoverinfo": "text",
         "hovertext": "p=0.8",
         "marker": {
          "color": "rgb(160.0, 70, 200)"
         },
         "mode": "lines+markers",
         "type": "scatter",
         "uid": "f0160d3a-613a-411f-bd4d-5297d3673942",
         "x": [
          0,
          1,
          2,
          3,
          4,
          5,
          6,
          7,
          8,
          9
         ],
         "y": [
          1,
          6,
          15,
          30,
          41,
          54,
          69,
          79,
          96,
          100
         ]
        },
        {
         "hoverinfo": "text",
         "hovertext": "p=0.7",
         "marker": {
          "color": "rgb(140.0, 70, 200)"
         },
         "mode": "lines+markers",
         "type": "scatter",
         "uid": "4ade567a-dd8f-41d4-a447-cc6365c79deb",
         "x": [
          0,
          1,
          2,
          3,
          4,
          5,
          6,
          7
         ],
         "y": [
          1,
          10,
          23,
          34,
          44,
          70,
          88,
          100
         ]
        },
        {
         "hoverinfo": "text",
         "hovertext": "p=0.6",
         "marker": {
          "color": "rgb(120.0, 70, 200)"
         },
         "mode": "lines+markers",
         "type": "scatter",
         "uid": "ee39a56b-bf87-424a-91f9-7c9bc662bc5a",
         "x": [
          0,
          1,
          2,
          3,
          4,
          5,
          6,
          7
         ],
         "y": [
          1,
          7,
          25,
          38,
          56,
          68,
          90,
          100
         ]
        },
        {
         "hoverinfo": "text",
         "hovertext": "p=0.5",
         "marker": {
          "color": "rgb(100.0, 70, 200)"
         },
         "mode": "lines+markers",
         "type": "scatter",
         "uid": "9f79a967-70f5-41f6-b8c7-efd8c18e9ce3",
         "x": [
          0,
          1,
          2,
          3,
          4,
          5,
          6,
          7,
          8,
          9,
          10,
          11
         ],
         "y": [
          1,
          10,
          21,
          32,
          40,
          50,
          63,
          73,
          83,
          90,
          96,
          100
         ]
        },
        {
         "hoverinfo": "text",
         "hovertext": "p=0.3999999999999999",
         "marker": {
          "color": "rgb(80.0, 70, 200)"
         },
         "mode": "lines+markers",
         "type": "scatter",
         "uid": "27ae19f3-711c-4388-a92b-96b5d3ae050c",
         "x": [
          0,
          1,
          2,
          3,
          4,
          5,
          6,
          7,
          8,
          9,
          10
         ],
         "y": [
          1,
          10,
          21,
          29,
          37,
          46,
          55,
          64,
          78,
          99,
          100
         ]
        },
        {
         "hoverinfo": "text",
         "hovertext": "p=0.29999999999999993",
         "marker": {
          "color": "rgb(60.0, 70, 200)"
         },
         "mode": "lines+markers",
         "type": "scatter",
         "uid": "6ab3dd43-5b8d-40db-9502-c813a2b7d0ff",
         "x": [
          0,
          1,
          2,
          3,
          4,
          5,
          6,
          7,
          8,
          9,
          10,
          11
         ],
         "y": [
          1,
          13,
          20,
          28,
          38,
          44,
          50,
          60,
          74,
          86,
          97,
          100
         ]
        },
        {
         "hoverinfo": "text",
         "hovertext": "p=0.19999999999999996",
         "marker": {
          "color": "rgb(40.0, 70, 200)"
         },
         "mode": "lines+markers",
         "type": "scatter",
         "uid": "19a4c077-381d-4cc4-973f-ce202a4523dc",
         "x": [
          0,
          1,
          2,
          3,
          4,
          5,
          6,
          7,
          8,
          9,
          10,
          11,
          12,
          13,
          14
         ],
         "y": [
          1,
          15,
          25,
          32,
          35,
          49,
          54,
          65,
          73,
          79,
          85,
          91,
          96,
          99,
          100
         ]
        },
        {
         "hoverinfo": "text",
         "hovertext": "p=0.09999999999999998",
         "marker": {
          "color": "rgb(20.0, 70, 200)"
         },
         "mode": "lines+markers",
         "type": "scatter",
         "uid": "eb66722c-e8da-46ab-b424-8cbaf6c29541",
         "x": [
          0,
          1,
          2,
          3,
          4,
          5,
          6,
          7,
          8,
          9,
          10,
          11,
          12,
          13,
          14,
          15,
          16
         ],
         "y": [
          1,
          9,
          15,
          23,
          34,
          36,
          39,
          44,
          52,
          64,
          70,
          76,
          85,
          90,
          94,
          99,
          100
         ]
        }
       ],
       "layout": {
        "showlegend": false,
        "title": {
         "text": "Social Welfare vs Iteration (r=30.0)"
        }
       }
      },
      "text/html": [
       "<div id=\"b63ed789-0e47-44a3-883b-15e3a18f3152\" style=\"height: 525px; width: 100%;\" class=\"plotly-graph-div\"></div><script type=\"text/javascript\">require([\"plotly\"], function(Plotly) { window.PLOTLYENV=window.PLOTLYENV || {};window.PLOTLYENV.BASE_URL=\"https://plot.ly\";\n",
       "if (document.getElementById(\"b63ed789-0e47-44a3-883b-15e3a18f3152\")) {\n",
       "    Plotly.newPlot(\"b63ed789-0e47-44a3-883b-15e3a18f3152\", [{\"hoverinfo\": \"text\", \"hovertext\": \"p=1.0\", \"marker\": {\"color\": \"rgb(200.0, 70, 200)\"}, \"mode\": \"lines+markers\", \"x\": [0, 1, 2, 3, 4, 5, 6, 7, 8, 9, 10], \"y\": [1.0, 11.0, 20.0, 27.0, 42.0, 47.0, 59.0, 71.0, 86.0, 99.0, 100.0], \"type\": \"scatter\", \"uid\": \"13a38073-6f23-4709-905b-a973597c357c\"}, {\"hoverinfo\": \"text\", \"hovertext\": \"p=0.9\", \"marker\": {\"color\": \"rgb(180.0, 70, 200)\"}, \"mode\": \"lines+markers\", \"x\": [0, 1, 2, 3, 4, 5, 6, 7, 8], \"y\": [1.0, 16.0, 34.0, 49.0, 60.0, 72.0, 87.0, 98.0, 100.0], \"type\": \"scatter\", \"uid\": \"3c156522-7a25-49a8-b86a-d454f3012c15\"}, {\"hoverinfo\": \"text\", \"hovertext\": \"p=0.8\", \"marker\": {\"color\": \"rgb(160.0, 70, 200)\"}, \"mode\": \"lines+markers\", \"x\": [0, 1, 2, 3, 4, 5, 6, 7, 8, 9], \"y\": [1.0, 6.0, 15.0, 30.0, 41.0, 54.0, 69.0, 79.0, 96.0, 100.0], \"type\": \"scatter\", \"uid\": \"f0160d3a-613a-411f-bd4d-5297d3673942\"}, {\"hoverinfo\": \"text\", \"hovertext\": \"p=0.7\", \"marker\": {\"color\": \"rgb(140.0, 70, 200)\"}, \"mode\": \"lines+markers\", \"x\": [0, 1, 2, 3, 4, 5, 6, 7], \"y\": [1.0, 10.0, 23.0, 34.0, 44.0, 70.0, 88.0, 100.0], \"type\": \"scatter\", \"uid\": \"4ade567a-dd8f-41d4-a447-cc6365c79deb\"}, {\"hoverinfo\": \"text\", \"hovertext\": \"p=0.6\", \"marker\": {\"color\": \"rgb(120.0, 70, 200)\"}, \"mode\": \"lines+markers\", \"x\": [0, 1, 2, 3, 4, 5, 6, 7], \"y\": [1.0, 7.0, 25.0, 38.0, 56.0, 68.0, 90.0, 100.0], \"type\": \"scatter\", \"uid\": \"ee39a56b-bf87-424a-91f9-7c9bc662bc5a\"}, {\"hoverinfo\": \"text\", \"hovertext\": \"p=0.5\", \"marker\": {\"color\": \"rgb(100.0, 70, 200)\"}, \"mode\": \"lines+markers\", \"x\": [0, 1, 2, 3, 4, 5, 6, 7, 8, 9, 10, 11], \"y\": [1.0, 10.0, 21.0, 32.0, 40.0, 50.0, 63.0, 73.0, 83.0, 90.0, 96.0, 100.0], \"type\": \"scatter\", \"uid\": \"9f79a967-70f5-41f6-b8c7-efd8c18e9ce3\"}, {\"hoverinfo\": \"text\", \"hovertext\": \"p=0.3999999999999999\", \"marker\": {\"color\": \"rgb(80.0, 70, 200)\"}, \"mode\": \"lines+markers\", \"x\": [0, 1, 2, 3, 4, 5, 6, 7, 8, 9, 10], \"y\": [1.0, 10.0, 21.0, 29.0, 37.0, 46.0, 55.0, 64.0, 78.0, 99.0, 100.0], \"type\": \"scatter\", \"uid\": \"27ae19f3-711c-4388-a92b-96b5d3ae050c\"}, {\"hoverinfo\": \"text\", \"hovertext\": \"p=0.29999999999999993\", \"marker\": {\"color\": \"rgb(60.0, 70, 200)\"}, \"mode\": \"lines+markers\", \"x\": [0, 1, 2, 3, 4, 5, 6, 7, 8, 9, 10, 11], \"y\": [1.0, 13.0, 20.0, 28.0, 38.0, 44.0, 50.0, 60.0, 74.0, 86.0, 97.0, 100.0], \"type\": \"scatter\", \"uid\": \"6ab3dd43-5b8d-40db-9502-c813a2b7d0ff\"}, {\"hoverinfo\": \"text\", \"hovertext\": \"p=0.19999999999999996\", \"marker\": {\"color\": \"rgb(40.0, 70, 200)\"}, \"mode\": \"lines+markers\", \"x\": [0, 1, 2, 3, 4, 5, 6, 7, 8, 9, 10, 11, 12, 13, 14], \"y\": [1.0, 15.0, 25.0, 32.0, 35.0, 49.0, 54.0, 65.0, 73.0, 79.0, 85.0, 91.0, 96.0, 99.0, 100.0], \"type\": \"scatter\", \"uid\": \"19a4c077-381d-4cc4-973f-ce202a4523dc\"}, {\"hoverinfo\": \"text\", \"hovertext\": \"p=0.09999999999999998\", \"marker\": {\"color\": \"rgb(20.0, 70, 200)\"}, \"mode\": \"lines+markers\", \"x\": [0, 1, 2, 3, 4, 5, 6, 7, 8, 9, 10, 11, 12, 13, 14, 15, 16], \"y\": [1.0, 9.0, 15.0, 23.0, 34.0, 36.0, 39.0, 44.0, 52.0, 64.0, 70.0, 76.0, 85.0, 90.0, 94.0, 99.0, 100.0], \"type\": \"scatter\", \"uid\": \"eb66722c-e8da-46ab-b424-8cbaf6c29541\"}], {\"showlegend\": false, \"title\": {\"text\": \"Social Welfare vs Iteration (r=30.0)\"}}, {\"showLink\": false, \"linkText\": \"Export to plot.ly\", \"plotlyServerURL\": \"https://plot.ly\"}); \n",
       "}\n",
       "});</script><script type=\"text/javascript\">window.addEventListener(\"resize\", function(){if (document.getElementById(\"b63ed789-0e47-44a3-883b-15e3a18f3152\")) {window._Plotly.Plots.resize(document.getElementById(\"b63ed789-0e47-44a3-883b-15e3a18f3152\"));};})</script>"
      ],
      "text/vnd.plotly.v1+html": [
       "<div id=\"b63ed789-0e47-44a3-883b-15e3a18f3152\" style=\"height: 525px; width: 100%;\" class=\"plotly-graph-div\"></div><script type=\"text/javascript\">require([\"plotly\"], function(Plotly) { window.PLOTLYENV=window.PLOTLYENV || {};window.PLOTLYENV.BASE_URL=\"https://plot.ly\";\n",
       "if (document.getElementById(\"b63ed789-0e47-44a3-883b-15e3a18f3152\")) {\n",
       "    Plotly.newPlot(\"b63ed789-0e47-44a3-883b-15e3a18f3152\", [{\"hoverinfo\": \"text\", \"hovertext\": \"p=1.0\", \"marker\": {\"color\": \"rgb(200.0, 70, 200)\"}, \"mode\": \"lines+markers\", \"x\": [0, 1, 2, 3, 4, 5, 6, 7, 8, 9, 10], \"y\": [1.0, 11.0, 20.0, 27.0, 42.0, 47.0, 59.0, 71.0, 86.0, 99.0, 100.0], \"type\": \"scatter\", \"uid\": \"13a38073-6f23-4709-905b-a973597c357c\"}, {\"hoverinfo\": \"text\", \"hovertext\": \"p=0.9\", \"marker\": {\"color\": \"rgb(180.0, 70, 200)\"}, \"mode\": \"lines+markers\", \"x\": [0, 1, 2, 3, 4, 5, 6, 7, 8], \"y\": [1.0, 16.0, 34.0, 49.0, 60.0, 72.0, 87.0, 98.0, 100.0], \"type\": \"scatter\", \"uid\": \"3c156522-7a25-49a8-b86a-d454f3012c15\"}, {\"hoverinfo\": \"text\", \"hovertext\": \"p=0.8\", \"marker\": {\"color\": \"rgb(160.0, 70, 200)\"}, \"mode\": \"lines+markers\", \"x\": [0, 1, 2, 3, 4, 5, 6, 7, 8, 9], \"y\": [1.0, 6.0, 15.0, 30.0, 41.0, 54.0, 69.0, 79.0, 96.0, 100.0], \"type\": \"scatter\", \"uid\": \"f0160d3a-613a-411f-bd4d-5297d3673942\"}, {\"hoverinfo\": \"text\", \"hovertext\": \"p=0.7\", \"marker\": {\"color\": \"rgb(140.0, 70, 200)\"}, \"mode\": \"lines+markers\", \"x\": [0, 1, 2, 3, 4, 5, 6, 7], \"y\": [1.0, 10.0, 23.0, 34.0, 44.0, 70.0, 88.0, 100.0], \"type\": \"scatter\", \"uid\": \"4ade567a-dd8f-41d4-a447-cc6365c79deb\"}, {\"hoverinfo\": \"text\", \"hovertext\": \"p=0.6\", \"marker\": {\"color\": \"rgb(120.0, 70, 200)\"}, \"mode\": \"lines+markers\", \"x\": [0, 1, 2, 3, 4, 5, 6, 7], \"y\": [1.0, 7.0, 25.0, 38.0, 56.0, 68.0, 90.0, 100.0], \"type\": \"scatter\", \"uid\": \"ee39a56b-bf87-424a-91f9-7c9bc662bc5a\"}, {\"hoverinfo\": \"text\", \"hovertext\": \"p=0.5\", \"marker\": {\"color\": \"rgb(100.0, 70, 200)\"}, \"mode\": \"lines+markers\", \"x\": [0, 1, 2, 3, 4, 5, 6, 7, 8, 9, 10, 11], \"y\": [1.0, 10.0, 21.0, 32.0, 40.0, 50.0, 63.0, 73.0, 83.0, 90.0, 96.0, 100.0], \"type\": \"scatter\", \"uid\": \"9f79a967-70f5-41f6-b8c7-efd8c18e9ce3\"}, {\"hoverinfo\": \"text\", \"hovertext\": \"p=0.3999999999999999\", \"marker\": {\"color\": \"rgb(80.0, 70, 200)\"}, \"mode\": \"lines+markers\", \"x\": [0, 1, 2, 3, 4, 5, 6, 7, 8, 9, 10], \"y\": [1.0, 10.0, 21.0, 29.0, 37.0, 46.0, 55.0, 64.0, 78.0, 99.0, 100.0], \"type\": \"scatter\", \"uid\": \"27ae19f3-711c-4388-a92b-96b5d3ae050c\"}, {\"hoverinfo\": \"text\", \"hovertext\": \"p=0.29999999999999993\", \"marker\": {\"color\": \"rgb(60.0, 70, 200)\"}, \"mode\": \"lines+markers\", \"x\": [0, 1, 2, 3, 4, 5, 6, 7, 8, 9, 10, 11], \"y\": [1.0, 13.0, 20.0, 28.0, 38.0, 44.0, 50.0, 60.0, 74.0, 86.0, 97.0, 100.0], \"type\": \"scatter\", \"uid\": \"6ab3dd43-5b8d-40db-9502-c813a2b7d0ff\"}, {\"hoverinfo\": \"text\", \"hovertext\": \"p=0.19999999999999996\", \"marker\": {\"color\": \"rgb(40.0, 70, 200)\"}, \"mode\": \"lines+markers\", \"x\": [0, 1, 2, 3, 4, 5, 6, 7, 8, 9, 10, 11, 12, 13, 14], \"y\": [1.0, 15.0, 25.0, 32.0, 35.0, 49.0, 54.0, 65.0, 73.0, 79.0, 85.0, 91.0, 96.0, 99.0, 100.0], \"type\": \"scatter\", \"uid\": \"19a4c077-381d-4cc4-973f-ce202a4523dc\"}, {\"hoverinfo\": \"text\", \"hovertext\": \"p=0.09999999999999998\", \"marker\": {\"color\": \"rgb(20.0, 70, 200)\"}, \"mode\": \"lines+markers\", \"x\": [0, 1, 2, 3, 4, 5, 6, 7, 8, 9, 10, 11, 12, 13, 14, 15, 16], \"y\": [1.0, 9.0, 15.0, 23.0, 34.0, 36.0, 39.0, 44.0, 52.0, 64.0, 70.0, 76.0, 85.0, 90.0, 94.0, 99.0, 100.0], \"type\": \"scatter\", \"uid\": \"eb66722c-e8da-46ab-b424-8cbaf6c29541\"}], {\"showlegend\": false, \"title\": {\"text\": \"Social Welfare vs Iteration (r=30.0)\"}}, {\"showLink\": false, \"linkText\": \"Export to plot.ly\", \"plotlyServerURL\": \"https://plot.ly\"}); \n",
       "}\n",
       "});</script><script type=\"text/javascript\">window.addEventListener(\"resize\", function(){if (document.getElementById(\"b63ed789-0e47-44a3-883b-15e3a18f3152\")) {window._Plotly.Plots.resize(document.getElementById(\"b63ed789-0e47-44a3-883b-15e3a18f3152\"));};})</script>"
      ]
     },
     "metadata": {},
     "output_type": "display_data"
    },
    {
     "data": {
      "application/vnd.plotly.v1+json": {
       "config": {
        "linkText": "Export to plot.ly",
        "plotlyServerURL": "https://plot.ly",
        "showLink": false
       },
       "data": [
        {
         "hoverinfo": "text",
         "hovertext": "p=1.0",
         "marker": {
          "color": "rgb(200.0, 70, 200)"
         },
         "mode": "lines+markers",
         "type": "scatter",
         "uid": "fbcd5289-7505-45c8-9b0b-290cb9ec8fbd",
         "x": [
          0,
          1,
          2,
          3,
          4,
          5,
          6,
          7,
          8
         ],
         "y": [
          1,
          18,
          26,
          50,
          61,
          76,
          86,
          96,
          100
         ]
        },
        {
         "hoverinfo": "text",
         "hovertext": "p=0.9",
         "marker": {
          "color": "rgb(180.0, 70, 200)"
         },
         "mode": "lines+markers",
         "type": "scatter",
         "uid": "4285041e-b6d4-48fc-a69b-a76bff221267",
         "x": [
          0,
          1,
          2,
          3,
          4,
          5,
          6,
          7,
          8
         ],
         "y": [
          1,
          26,
          44,
          56,
          65,
          76,
          87,
          99,
          100
         ]
        },
        {
         "hoverinfo": "text",
         "hovertext": "p=0.8",
         "marker": {
          "color": "rgb(160.0, 70, 200)"
         },
         "mode": "lines+markers",
         "type": "scatter",
         "uid": "5a0fb645-1895-4dde-b146-bbe146d1be79",
         "x": [
          0,
          1,
          2,
          3,
          4,
          5,
          6,
          7,
          8,
          9
         ],
         "y": [
          1,
          5,
          18,
          31,
          41,
          49,
          60,
          72,
          85,
          100
         ]
        },
        {
         "hoverinfo": "text",
         "hovertext": "p=0.7",
         "marker": {
          "color": "rgb(140.0, 70, 200)"
         },
         "mode": "lines+markers",
         "type": "scatter",
         "uid": "dae264cc-165d-4b49-900c-7456f1c8beb9",
         "x": [
          0,
          1,
          2,
          3,
          4,
          5,
          6,
          7,
          8,
          9
         ],
         "y": [
          1,
          11,
          19,
          28,
          42,
          61,
          73,
          86,
          93,
          100
         ]
        },
        {
         "hoverinfo": "text",
         "hovertext": "p=0.6",
         "marker": {
          "color": "rgb(120.0, 70, 200)"
         },
         "mode": "lines+markers",
         "type": "scatter",
         "uid": "a086cb82-8296-4c4d-bed7-588aa4318715",
         "x": [
          0,
          1,
          2,
          3,
          4,
          5,
          6,
          7,
          8,
          9
         ],
         "y": [
          1,
          9,
          22,
          37,
          45,
          56,
          67,
          79,
          91,
          100
         ]
        },
        {
         "hoverinfo": "text",
         "hovertext": "p=0.5",
         "marker": {
          "color": "rgb(100.0, 70, 200)"
         },
         "mode": "lines+markers",
         "type": "scatter",
         "uid": "01118867-19f0-42f2-aec4-648bf6f2a56a",
         "x": [
          0,
          1,
          2,
          3,
          4,
          5,
          6,
          7,
          8,
          9,
          10
         ],
         "y": [
          1,
          9,
          21,
          28,
          35,
          49,
          65,
          76,
          83,
          98,
          100
         ]
        },
        {
         "hoverinfo": "text",
         "hovertext": "p=0.3999999999999999",
         "marker": {
          "color": "rgb(80.0, 70, 200)"
         },
         "mode": "lines+markers",
         "type": "scatter",
         "uid": "84335eb3-ea9f-49c0-bbb5-7ff68329f68d",
         "x": [
          0,
          1,
          2,
          3,
          4,
          5,
          6,
          7,
          8,
          9
         ],
         "y": [
          1,
          11,
          27,
          44,
          62,
          72,
          80,
          89,
          96,
          100
         ]
        },
        {
         "hoverinfo": "text",
         "hovertext": "p=0.29999999999999993",
         "marker": {
          "color": "rgb(60.0, 70, 200)"
         },
         "mode": "lines+markers",
         "type": "scatter",
         "uid": "8ea1965e-fc64-48e5-bea6-1ab3adfb05a2",
         "x": [
          0,
          1,
          2,
          3,
          4,
          5,
          6,
          7,
          8,
          9,
          10,
          11,
          12
         ],
         "y": [
          1,
          8,
          14,
          23,
          27,
          34,
          47,
          58,
          70,
          77,
          83,
          94,
          100
         ]
        },
        {
         "hoverinfo": "text",
         "hovertext": "p=0.19999999999999996",
         "marker": {
          "color": "rgb(40.0, 70, 200)"
         },
         "mode": "lines+markers",
         "type": "scatter",
         "uid": "351ed618-fea2-42f1-a8db-b4bc33e2e366",
         "x": [
          0,
          1,
          2,
          3,
          4,
          5,
          6,
          7,
          8,
          9,
          10,
          11,
          12,
          13,
          14,
          15,
          16,
          17
         ],
         "y": [
          1,
          7,
          12,
          21,
          30,
          39,
          49,
          62,
          68,
          72,
          75,
          81,
          84,
          87,
          92,
          97,
          99,
          100
         ]
        },
        {
         "hoverinfo": "text",
         "hovertext": "p=0.09999999999999998",
         "marker": {
          "color": "rgb(20.0, 70, 200)"
         },
         "mode": "lines+markers",
         "type": "scatter",
         "uid": "e8a05fa7-2a6d-49a0-b634-ced8b69f965a",
         "x": [
          0
         ],
         "y": [
          1
         ]
        }
       ],
       "layout": {
        "showlegend": false,
        "title": {
         "text": "Social Welfare vs Iteration (r=20.0)"
        }
       }
      },
      "text/html": [
       "<div id=\"37d9f636-ec48-4045-b831-8020bf0f92e7\" style=\"height: 525px; width: 100%;\" class=\"plotly-graph-div\"></div><script type=\"text/javascript\">require([\"plotly\"], function(Plotly) { window.PLOTLYENV=window.PLOTLYENV || {};window.PLOTLYENV.BASE_URL=\"https://plot.ly\";\n",
       "if (document.getElementById(\"37d9f636-ec48-4045-b831-8020bf0f92e7\")) {\n",
       "    Plotly.newPlot(\"37d9f636-ec48-4045-b831-8020bf0f92e7\", [{\"hoverinfo\": \"text\", \"hovertext\": \"p=1.0\", \"marker\": {\"color\": \"rgb(200.0, 70, 200)\"}, \"mode\": \"lines+markers\", \"x\": [0, 1, 2, 3, 4, 5, 6, 7, 8], \"y\": [1.0, 18.0, 26.0, 50.0, 61.0, 76.0, 86.0, 96.0, 100.0], \"type\": \"scatter\", \"uid\": \"fbcd5289-7505-45c8-9b0b-290cb9ec8fbd\"}, {\"hoverinfo\": \"text\", \"hovertext\": \"p=0.9\", \"marker\": {\"color\": \"rgb(180.0, 70, 200)\"}, \"mode\": \"lines+markers\", \"x\": [0, 1, 2, 3, 4, 5, 6, 7, 8], \"y\": [1.0, 26.0, 44.0, 56.0, 65.0, 76.0, 87.0, 99.0, 100.0], \"type\": \"scatter\", \"uid\": \"4285041e-b6d4-48fc-a69b-a76bff221267\"}, {\"hoverinfo\": \"text\", \"hovertext\": \"p=0.8\", \"marker\": {\"color\": \"rgb(160.0, 70, 200)\"}, \"mode\": \"lines+markers\", \"x\": [0, 1, 2, 3, 4, 5, 6, 7, 8, 9], \"y\": [1.0, 5.0, 18.0, 31.0, 41.0, 49.0, 60.0, 72.0, 85.0, 100.0], \"type\": \"scatter\", \"uid\": \"5a0fb645-1895-4dde-b146-bbe146d1be79\"}, {\"hoverinfo\": \"text\", \"hovertext\": \"p=0.7\", \"marker\": {\"color\": \"rgb(140.0, 70, 200)\"}, \"mode\": \"lines+markers\", \"x\": [0, 1, 2, 3, 4, 5, 6, 7, 8, 9], \"y\": [1.0, 11.0, 19.0, 28.0, 42.0, 61.0, 73.0, 86.0, 93.0, 100.0], \"type\": \"scatter\", \"uid\": \"dae264cc-165d-4b49-900c-7456f1c8beb9\"}, {\"hoverinfo\": \"text\", \"hovertext\": \"p=0.6\", \"marker\": {\"color\": \"rgb(120.0, 70, 200)\"}, \"mode\": \"lines+markers\", \"x\": [0, 1, 2, 3, 4, 5, 6, 7, 8, 9], \"y\": [1.0, 9.0, 22.0, 37.0, 45.0, 56.0, 67.0, 79.0, 91.0, 100.0], \"type\": \"scatter\", \"uid\": \"a086cb82-8296-4c4d-bed7-588aa4318715\"}, {\"hoverinfo\": \"text\", \"hovertext\": \"p=0.5\", \"marker\": {\"color\": \"rgb(100.0, 70, 200)\"}, \"mode\": \"lines+markers\", \"x\": [0, 1, 2, 3, 4, 5, 6, 7, 8, 9, 10], \"y\": [1.0, 9.0, 21.0, 28.0, 35.0, 49.0, 65.0, 76.0, 83.0, 98.0, 100.0], \"type\": \"scatter\", \"uid\": \"01118867-19f0-42f2-aec4-648bf6f2a56a\"}, {\"hoverinfo\": \"text\", \"hovertext\": \"p=0.3999999999999999\", \"marker\": {\"color\": \"rgb(80.0, 70, 200)\"}, \"mode\": \"lines+markers\", \"x\": [0, 1, 2, 3, 4, 5, 6, 7, 8, 9], \"y\": [1.0, 11.0, 27.0, 44.0, 62.0, 72.0, 80.0, 89.0, 96.0, 100.0], \"type\": \"scatter\", \"uid\": \"84335eb3-ea9f-49c0-bbb5-7ff68329f68d\"}, {\"hoverinfo\": \"text\", \"hovertext\": \"p=0.29999999999999993\", \"marker\": {\"color\": \"rgb(60.0, 70, 200)\"}, \"mode\": \"lines+markers\", \"x\": [0, 1, 2, 3, 4, 5, 6, 7, 8, 9, 10, 11, 12], \"y\": [1.0, 8.0, 14.0, 23.0, 27.0, 34.0, 47.0, 58.0, 70.0, 77.0, 83.0, 94.0, 100.0], \"type\": \"scatter\", \"uid\": \"8ea1965e-fc64-48e5-bea6-1ab3adfb05a2\"}, {\"hoverinfo\": \"text\", \"hovertext\": \"p=0.19999999999999996\", \"marker\": {\"color\": \"rgb(40.0, 70, 200)\"}, \"mode\": \"lines+markers\", \"x\": [0, 1, 2, 3, 4, 5, 6, 7, 8, 9, 10, 11, 12, 13, 14, 15, 16, 17], \"y\": [1.0, 7.0, 12.0, 21.0, 30.0, 39.0, 49.0, 62.0, 68.0, 72.0, 75.0, 81.0, 84.0, 87.0, 92.0, 97.0, 99.0, 100.0], \"type\": \"scatter\", \"uid\": \"351ed618-fea2-42f1-a8db-b4bc33e2e366\"}, {\"hoverinfo\": \"text\", \"hovertext\": \"p=0.09999999999999998\", \"marker\": {\"color\": \"rgb(20.0, 70, 200)\"}, \"mode\": \"lines+markers\", \"x\": [0], \"y\": [1.0], \"type\": \"scatter\", \"uid\": \"e8a05fa7-2a6d-49a0-b634-ced8b69f965a\"}], {\"showlegend\": false, \"title\": {\"text\": \"Social Welfare vs Iteration (r=20.0)\"}}, {\"showLink\": false, \"linkText\": \"Export to plot.ly\", \"plotlyServerURL\": \"https://plot.ly\"}); \n",
       "}\n",
       "});</script><script type=\"text/javascript\">window.addEventListener(\"resize\", function(){if (document.getElementById(\"37d9f636-ec48-4045-b831-8020bf0f92e7\")) {window._Plotly.Plots.resize(document.getElementById(\"37d9f636-ec48-4045-b831-8020bf0f92e7\"));};})</script>"
      ],
      "text/vnd.plotly.v1+html": [
       "<div id=\"37d9f636-ec48-4045-b831-8020bf0f92e7\" style=\"height: 525px; width: 100%;\" class=\"plotly-graph-div\"></div><script type=\"text/javascript\">require([\"plotly\"], function(Plotly) { window.PLOTLYENV=window.PLOTLYENV || {};window.PLOTLYENV.BASE_URL=\"https://plot.ly\";\n",
       "if (document.getElementById(\"37d9f636-ec48-4045-b831-8020bf0f92e7\")) {\n",
       "    Plotly.newPlot(\"37d9f636-ec48-4045-b831-8020bf0f92e7\", [{\"hoverinfo\": \"text\", \"hovertext\": \"p=1.0\", \"marker\": {\"color\": \"rgb(200.0, 70, 200)\"}, \"mode\": \"lines+markers\", \"x\": [0, 1, 2, 3, 4, 5, 6, 7, 8], \"y\": [1.0, 18.0, 26.0, 50.0, 61.0, 76.0, 86.0, 96.0, 100.0], \"type\": \"scatter\", \"uid\": \"fbcd5289-7505-45c8-9b0b-290cb9ec8fbd\"}, {\"hoverinfo\": \"text\", \"hovertext\": \"p=0.9\", \"marker\": {\"color\": \"rgb(180.0, 70, 200)\"}, \"mode\": \"lines+markers\", \"x\": [0, 1, 2, 3, 4, 5, 6, 7, 8], \"y\": [1.0, 26.0, 44.0, 56.0, 65.0, 76.0, 87.0, 99.0, 100.0], \"type\": \"scatter\", \"uid\": \"4285041e-b6d4-48fc-a69b-a76bff221267\"}, {\"hoverinfo\": \"text\", \"hovertext\": \"p=0.8\", \"marker\": {\"color\": \"rgb(160.0, 70, 200)\"}, \"mode\": \"lines+markers\", \"x\": [0, 1, 2, 3, 4, 5, 6, 7, 8, 9], \"y\": [1.0, 5.0, 18.0, 31.0, 41.0, 49.0, 60.0, 72.0, 85.0, 100.0], \"type\": \"scatter\", \"uid\": \"5a0fb645-1895-4dde-b146-bbe146d1be79\"}, {\"hoverinfo\": \"text\", \"hovertext\": \"p=0.7\", \"marker\": {\"color\": \"rgb(140.0, 70, 200)\"}, \"mode\": \"lines+markers\", \"x\": [0, 1, 2, 3, 4, 5, 6, 7, 8, 9], \"y\": [1.0, 11.0, 19.0, 28.0, 42.0, 61.0, 73.0, 86.0, 93.0, 100.0], \"type\": \"scatter\", \"uid\": \"dae264cc-165d-4b49-900c-7456f1c8beb9\"}, {\"hoverinfo\": \"text\", \"hovertext\": \"p=0.6\", \"marker\": {\"color\": \"rgb(120.0, 70, 200)\"}, \"mode\": \"lines+markers\", \"x\": [0, 1, 2, 3, 4, 5, 6, 7, 8, 9], \"y\": [1.0, 9.0, 22.0, 37.0, 45.0, 56.0, 67.0, 79.0, 91.0, 100.0], \"type\": \"scatter\", \"uid\": \"a086cb82-8296-4c4d-bed7-588aa4318715\"}, {\"hoverinfo\": \"text\", \"hovertext\": \"p=0.5\", \"marker\": {\"color\": \"rgb(100.0, 70, 200)\"}, \"mode\": \"lines+markers\", \"x\": [0, 1, 2, 3, 4, 5, 6, 7, 8, 9, 10], \"y\": [1.0, 9.0, 21.0, 28.0, 35.0, 49.0, 65.0, 76.0, 83.0, 98.0, 100.0], \"type\": \"scatter\", \"uid\": \"01118867-19f0-42f2-aec4-648bf6f2a56a\"}, {\"hoverinfo\": \"text\", \"hovertext\": \"p=0.3999999999999999\", \"marker\": {\"color\": \"rgb(80.0, 70, 200)\"}, \"mode\": \"lines+markers\", \"x\": [0, 1, 2, 3, 4, 5, 6, 7, 8, 9], \"y\": [1.0, 11.0, 27.0, 44.0, 62.0, 72.0, 80.0, 89.0, 96.0, 100.0], \"type\": \"scatter\", \"uid\": \"84335eb3-ea9f-49c0-bbb5-7ff68329f68d\"}, {\"hoverinfo\": \"text\", \"hovertext\": \"p=0.29999999999999993\", \"marker\": {\"color\": \"rgb(60.0, 70, 200)\"}, \"mode\": \"lines+markers\", \"x\": [0, 1, 2, 3, 4, 5, 6, 7, 8, 9, 10, 11, 12], \"y\": [1.0, 8.0, 14.0, 23.0, 27.0, 34.0, 47.0, 58.0, 70.0, 77.0, 83.0, 94.0, 100.0], \"type\": \"scatter\", \"uid\": \"8ea1965e-fc64-48e5-bea6-1ab3adfb05a2\"}, {\"hoverinfo\": \"text\", \"hovertext\": \"p=0.19999999999999996\", \"marker\": {\"color\": \"rgb(40.0, 70, 200)\"}, \"mode\": \"lines+markers\", \"x\": [0, 1, 2, 3, 4, 5, 6, 7, 8, 9, 10, 11, 12, 13, 14, 15, 16, 17], \"y\": [1.0, 7.0, 12.0, 21.0, 30.0, 39.0, 49.0, 62.0, 68.0, 72.0, 75.0, 81.0, 84.0, 87.0, 92.0, 97.0, 99.0, 100.0], \"type\": \"scatter\", \"uid\": \"351ed618-fea2-42f1-a8db-b4bc33e2e366\"}, {\"hoverinfo\": \"text\", \"hovertext\": \"p=0.09999999999999998\", \"marker\": {\"color\": \"rgb(20.0, 70, 200)\"}, \"mode\": \"lines+markers\", \"x\": [0], \"y\": [1.0], \"type\": \"scatter\", \"uid\": \"e8a05fa7-2a6d-49a0-b634-ced8b69f965a\"}], {\"showlegend\": false, \"title\": {\"text\": \"Social Welfare vs Iteration (r=20.0)\"}}, {\"showLink\": false, \"linkText\": \"Export to plot.ly\", \"plotlyServerURL\": \"https://plot.ly\"}); \n",
       "}\n",
       "});</script><script type=\"text/javascript\">window.addEventListener(\"resize\", function(){if (document.getElementById(\"37d9f636-ec48-4045-b831-8020bf0f92e7\")) {window._Plotly.Plots.resize(document.getElementById(\"37d9f636-ec48-4045-b831-8020bf0f92e7\"));};})</script>"
      ]
     },
     "metadata": {},
     "output_type": "display_data"
    },
    {
     "data": {
      "application/vnd.plotly.v1+json": {
       "config": {
        "linkText": "Export to plot.ly",
        "plotlyServerURL": "https://plot.ly",
        "showLink": false
       },
       "data": [
        {
         "hoverinfo": "text",
         "hovertext": "p=1.0",
         "marker": {
          "color": "rgb(200.0, 70, 200)"
         },
         "mode": "lines+markers",
         "type": "scatter",
         "uid": "3e3c079d-04b8-4e62-81e0-7318d7ac6187",
         "x": [
          0,
          1,
          2,
          3,
          4,
          5,
          6,
          7,
          8,
          9
         ],
         "y": [
          1,
          13,
          30,
          39,
          46,
          56,
          64,
          83,
          98,
          100
         ]
        },
        {
         "hoverinfo": "text",
         "hovertext": "p=0.9",
         "marker": {
          "color": "rgb(180.0, 70, 200)"
         },
         "mode": "lines+markers",
         "type": "scatter",
         "uid": "b5340f01-1df3-4343-9a8f-9b2f06f14966",
         "x": [
          0,
          1,
          2,
          3,
          4,
          5,
          6,
          7,
          8,
          9
         ],
         "y": [
          1,
          12,
          18,
          28,
          34,
          56,
          65,
          74,
          86,
          100
         ]
        },
        {
         "hoverinfo": "text",
         "hovertext": "p=0.8",
         "marker": {
          "color": "rgb(160.0, 70, 200)"
         },
         "mode": "lines+markers",
         "type": "scatter",
         "uid": "87416fb3-4576-4b28-8053-d60063abf55a",
         "x": [
          0,
          1,
          2,
          3,
          4,
          5,
          6,
          7,
          8,
          9,
          10,
          11
         ],
         "y": [
          1,
          4,
          14,
          23,
          32,
          37,
          44,
          63,
          76,
          89,
          95,
          100
         ]
        },
        {
         "hoverinfo": "text",
         "hovertext": "p=0.7",
         "marker": {
          "color": "rgb(140.0, 70, 200)"
         },
         "mode": "lines+markers",
         "type": "scatter",
         "uid": "4e3e90cb-c1f0-4e32-8892-ed18d4d073e0",
         "x": [
          0,
          1,
          2,
          3,
          4,
          5,
          6,
          7,
          8,
          9,
          10
         ],
         "y": [
          1,
          9,
          25,
          32,
          39,
          54,
          60,
          70,
          81,
          94,
          100
         ]
        },
        {
         "hoverinfo": "text",
         "hovertext": "p=0.6",
         "marker": {
          "color": "rgb(120.0, 70, 200)"
         },
         "mode": "lines+markers",
         "type": "scatter",
         "uid": "dcd572ab-885b-4ec8-9b5a-47c652f7d1f1",
         "x": [
          0,
          1,
          2,
          3,
          4,
          5,
          6,
          7,
          8,
          9,
          10
         ],
         "y": [
          1,
          7,
          12,
          31,
          46,
          54,
          62,
          72,
          90,
          99,
          100
         ]
        },
        {
         "hoverinfo": "text",
         "hovertext": "p=0.5",
         "marker": {
          "color": "rgb(100.0, 70, 200)"
         },
         "mode": "lines+markers",
         "type": "scatter",
         "uid": "88c17e90-4670-4c5d-8b00-c4f7ab3c75a9",
         "x": [
          0,
          1,
          2,
          3,
          4,
          5,
          6,
          7,
          8,
          9,
          10,
          11,
          12
         ],
         "y": [
          1,
          3,
          12,
          27,
          30,
          44,
          53,
          60,
          69,
          76,
          86,
          99,
          100
         ]
        },
        {
         "hoverinfo": "text",
         "hovertext": "p=0.3999999999999999",
         "marker": {
          "color": "rgb(80.0, 70, 200)"
         },
         "mode": "lines+markers",
         "type": "scatter",
         "uid": "c6792739-c20e-4472-9b1c-452ed8b5391a",
         "x": [
          0,
          1,
          2,
          3,
          4,
          5,
          6,
          7,
          8,
          9,
          10,
          11,
          12,
          13
         ],
         "y": [
          1,
          15,
          22,
          31,
          42,
          45,
          54,
          61,
          66,
          76,
          83,
          87,
          93,
          100
         ]
        },
        {
         "hoverinfo": "text",
         "hovertext": "p=0.29999999999999993",
         "marker": {
          "color": "rgb(60.0, 70, 200)"
         },
         "mode": "lines+markers",
         "type": "scatter",
         "uid": "6c6c5ae8-7a23-4499-8478-b5ac1f188027",
         "x": [
          0,
          1,
          2,
          3,
          4,
          5,
          6,
          7,
          8,
          9,
          10,
          11,
          12,
          13,
          14,
          15,
          16,
          17,
          18,
          19,
          20,
          21,
          22
         ],
         "y": [
          1,
          6,
          12,
          15,
          18,
          20,
          23,
          25,
          28,
          33,
          40,
          44,
          48,
          57,
          59,
          66,
          76,
          83,
          89,
          94,
          95,
          99,
          100
         ]
        },
        {
         "hoverinfo": "text",
         "hovertext": "p=0.19999999999999996",
         "marker": {
          "color": "rgb(40.0, 70, 200)"
         },
         "mode": "lines+markers",
         "type": "scatter",
         "uid": "aab615b3-58e4-44ad-bff8-aa5ffe60fc57",
         "x": [
          0,
          1
         ],
         "y": [
          1,
          4
         ]
        },
        {
         "hoverinfo": "text",
         "hovertext": "p=0.09999999999999998",
         "marker": {
          "color": "rgb(20.0, 70, 200)"
         },
         "mode": "lines+markers",
         "type": "scatter",
         "uid": "f679bd0d-76df-4cfa-9695-7d6f2db4aeba",
         "x": [
          0,
          1,
          2,
          3,
          4,
          5
         ],
         "y": [
          1,
          6,
          7,
          9,
          10,
          13
         ]
        }
       ],
       "layout": {
        "showlegend": false,
        "title": {
         "text": "Social Welfare vs Iteration (r=10.0)"
        }
       }
      },
      "text/html": [
       "<div id=\"87ee6bb0-8b01-45e4-bd10-4b25ba7a2118\" style=\"height: 525px; width: 100%;\" class=\"plotly-graph-div\"></div><script type=\"text/javascript\">require([\"plotly\"], function(Plotly) { window.PLOTLYENV=window.PLOTLYENV || {};window.PLOTLYENV.BASE_URL=\"https://plot.ly\";\n",
       "if (document.getElementById(\"87ee6bb0-8b01-45e4-bd10-4b25ba7a2118\")) {\n",
       "    Plotly.newPlot(\"87ee6bb0-8b01-45e4-bd10-4b25ba7a2118\", [{\"hoverinfo\": \"text\", \"hovertext\": \"p=1.0\", \"marker\": {\"color\": \"rgb(200.0, 70, 200)\"}, \"mode\": \"lines+markers\", \"x\": [0, 1, 2, 3, 4, 5, 6, 7, 8, 9], \"y\": [1.0, 13.0, 30.0, 39.0, 46.0, 56.0, 64.0, 83.0, 98.0, 100.0], \"type\": \"scatter\", \"uid\": \"3e3c079d-04b8-4e62-81e0-7318d7ac6187\"}, {\"hoverinfo\": \"text\", \"hovertext\": \"p=0.9\", \"marker\": {\"color\": \"rgb(180.0, 70, 200)\"}, \"mode\": \"lines+markers\", \"x\": [0, 1, 2, 3, 4, 5, 6, 7, 8, 9], \"y\": [1.0, 12.0, 18.0, 28.0, 34.0, 56.0, 65.0, 74.0, 86.0, 100.0], \"type\": \"scatter\", \"uid\": \"b5340f01-1df3-4343-9a8f-9b2f06f14966\"}, {\"hoverinfo\": \"text\", \"hovertext\": \"p=0.8\", \"marker\": {\"color\": \"rgb(160.0, 70, 200)\"}, \"mode\": \"lines+markers\", \"x\": [0, 1, 2, 3, 4, 5, 6, 7, 8, 9, 10, 11], \"y\": [1.0, 4.0, 14.0, 23.0, 32.0, 37.0, 44.0, 63.0, 76.0, 89.0, 95.0, 100.0], \"type\": \"scatter\", \"uid\": \"87416fb3-4576-4b28-8053-d60063abf55a\"}, {\"hoverinfo\": \"text\", \"hovertext\": \"p=0.7\", \"marker\": {\"color\": \"rgb(140.0, 70, 200)\"}, \"mode\": \"lines+markers\", \"x\": [0, 1, 2, 3, 4, 5, 6, 7, 8, 9, 10], \"y\": [1.0, 9.0, 25.0, 32.0, 39.0, 54.0, 60.0, 70.0, 81.0, 94.0, 100.0], \"type\": \"scatter\", \"uid\": \"4e3e90cb-c1f0-4e32-8892-ed18d4d073e0\"}, {\"hoverinfo\": \"text\", \"hovertext\": \"p=0.6\", \"marker\": {\"color\": \"rgb(120.0, 70, 200)\"}, \"mode\": \"lines+markers\", \"x\": [0, 1, 2, 3, 4, 5, 6, 7, 8, 9, 10], \"y\": [1.0, 7.0, 12.0, 31.0, 46.0, 54.0, 62.0, 72.0, 90.0, 99.0, 100.0], \"type\": \"scatter\", \"uid\": \"dcd572ab-885b-4ec8-9b5a-47c652f7d1f1\"}, {\"hoverinfo\": \"text\", \"hovertext\": \"p=0.5\", \"marker\": {\"color\": \"rgb(100.0, 70, 200)\"}, \"mode\": \"lines+markers\", \"x\": [0, 1, 2, 3, 4, 5, 6, 7, 8, 9, 10, 11, 12], \"y\": [1.0, 3.0, 12.0, 27.0, 30.0, 44.0, 53.0, 60.0, 69.0, 76.0, 86.0, 99.0, 100.0], \"type\": \"scatter\", \"uid\": \"88c17e90-4670-4c5d-8b00-c4f7ab3c75a9\"}, {\"hoverinfo\": \"text\", \"hovertext\": \"p=0.3999999999999999\", \"marker\": {\"color\": \"rgb(80.0, 70, 200)\"}, \"mode\": \"lines+markers\", \"x\": [0, 1, 2, 3, 4, 5, 6, 7, 8, 9, 10, 11, 12, 13], \"y\": [1.0, 15.0, 22.0, 31.0, 42.0, 45.0, 54.0, 61.0, 66.0, 76.0, 83.0, 87.0, 93.0, 100.0], \"type\": \"scatter\", \"uid\": \"c6792739-c20e-4472-9b1c-452ed8b5391a\"}, {\"hoverinfo\": \"text\", \"hovertext\": \"p=0.29999999999999993\", \"marker\": {\"color\": \"rgb(60.0, 70, 200)\"}, \"mode\": \"lines+markers\", \"x\": [0, 1, 2, 3, 4, 5, 6, 7, 8, 9, 10, 11, 12, 13, 14, 15, 16, 17, 18, 19, 20, 21, 22], \"y\": [1.0, 6.0, 12.0, 15.0, 18.0, 20.0, 23.0, 25.0, 28.0, 33.0, 40.0, 44.0, 48.0, 57.0, 59.0, 66.0, 76.0, 83.0, 89.0, 94.0, 95.0, 99.0, 100.0], \"type\": \"scatter\", \"uid\": \"6c6c5ae8-7a23-4499-8478-b5ac1f188027\"}, {\"hoverinfo\": \"text\", \"hovertext\": \"p=0.19999999999999996\", \"marker\": {\"color\": \"rgb(40.0, 70, 200)\"}, \"mode\": \"lines+markers\", \"x\": [0, 1], \"y\": [1.0, 4.0], \"type\": \"scatter\", \"uid\": \"aab615b3-58e4-44ad-bff8-aa5ffe60fc57\"}, {\"hoverinfo\": \"text\", \"hovertext\": \"p=0.09999999999999998\", \"marker\": {\"color\": \"rgb(20.0, 70, 200)\"}, \"mode\": \"lines+markers\", \"x\": [0, 1, 2, 3, 4, 5], \"y\": [1.0, 6.0, 7.0, 9.0, 10.0, 13.0], \"type\": \"scatter\", \"uid\": \"f679bd0d-76df-4cfa-9695-7d6f2db4aeba\"}], {\"showlegend\": false, \"title\": {\"text\": \"Social Welfare vs Iteration (r=10.0)\"}}, {\"showLink\": false, \"linkText\": \"Export to plot.ly\", \"plotlyServerURL\": \"https://plot.ly\"}); \n",
       "}\n",
       "});</script><script type=\"text/javascript\">window.addEventListener(\"resize\", function(){if (document.getElementById(\"87ee6bb0-8b01-45e4-bd10-4b25ba7a2118\")) {window._Plotly.Plots.resize(document.getElementById(\"87ee6bb0-8b01-45e4-bd10-4b25ba7a2118\"));};})</script>"
      ],
      "text/vnd.plotly.v1+html": [
       "<div id=\"87ee6bb0-8b01-45e4-bd10-4b25ba7a2118\" style=\"height: 525px; width: 100%;\" class=\"plotly-graph-div\"></div><script type=\"text/javascript\">require([\"plotly\"], function(Plotly) { window.PLOTLYENV=window.PLOTLYENV || {};window.PLOTLYENV.BASE_URL=\"https://plot.ly\";\n",
       "if (document.getElementById(\"87ee6bb0-8b01-45e4-bd10-4b25ba7a2118\")) {\n",
       "    Plotly.newPlot(\"87ee6bb0-8b01-45e4-bd10-4b25ba7a2118\", [{\"hoverinfo\": \"text\", \"hovertext\": \"p=1.0\", \"marker\": {\"color\": \"rgb(200.0, 70, 200)\"}, \"mode\": \"lines+markers\", \"x\": [0, 1, 2, 3, 4, 5, 6, 7, 8, 9], \"y\": [1.0, 13.0, 30.0, 39.0, 46.0, 56.0, 64.0, 83.0, 98.0, 100.0], \"type\": \"scatter\", \"uid\": \"3e3c079d-04b8-4e62-81e0-7318d7ac6187\"}, {\"hoverinfo\": \"text\", \"hovertext\": \"p=0.9\", \"marker\": {\"color\": \"rgb(180.0, 70, 200)\"}, \"mode\": \"lines+markers\", \"x\": [0, 1, 2, 3, 4, 5, 6, 7, 8, 9], \"y\": [1.0, 12.0, 18.0, 28.0, 34.0, 56.0, 65.0, 74.0, 86.0, 100.0], \"type\": \"scatter\", \"uid\": \"b5340f01-1df3-4343-9a8f-9b2f06f14966\"}, {\"hoverinfo\": \"text\", \"hovertext\": \"p=0.8\", \"marker\": {\"color\": \"rgb(160.0, 70, 200)\"}, \"mode\": \"lines+markers\", \"x\": [0, 1, 2, 3, 4, 5, 6, 7, 8, 9, 10, 11], \"y\": [1.0, 4.0, 14.0, 23.0, 32.0, 37.0, 44.0, 63.0, 76.0, 89.0, 95.0, 100.0], \"type\": \"scatter\", \"uid\": \"87416fb3-4576-4b28-8053-d60063abf55a\"}, {\"hoverinfo\": \"text\", \"hovertext\": \"p=0.7\", \"marker\": {\"color\": \"rgb(140.0, 70, 200)\"}, \"mode\": \"lines+markers\", \"x\": [0, 1, 2, 3, 4, 5, 6, 7, 8, 9, 10], \"y\": [1.0, 9.0, 25.0, 32.0, 39.0, 54.0, 60.0, 70.0, 81.0, 94.0, 100.0], \"type\": \"scatter\", \"uid\": \"4e3e90cb-c1f0-4e32-8892-ed18d4d073e0\"}, {\"hoverinfo\": \"text\", \"hovertext\": \"p=0.6\", \"marker\": {\"color\": \"rgb(120.0, 70, 200)\"}, \"mode\": \"lines+markers\", \"x\": [0, 1, 2, 3, 4, 5, 6, 7, 8, 9, 10], \"y\": [1.0, 7.0, 12.0, 31.0, 46.0, 54.0, 62.0, 72.0, 90.0, 99.0, 100.0], \"type\": \"scatter\", \"uid\": \"dcd572ab-885b-4ec8-9b5a-47c652f7d1f1\"}, {\"hoverinfo\": \"text\", \"hovertext\": \"p=0.5\", \"marker\": {\"color\": \"rgb(100.0, 70, 200)\"}, \"mode\": \"lines+markers\", \"x\": [0, 1, 2, 3, 4, 5, 6, 7, 8, 9, 10, 11, 12], \"y\": [1.0, 3.0, 12.0, 27.0, 30.0, 44.0, 53.0, 60.0, 69.0, 76.0, 86.0, 99.0, 100.0], \"type\": \"scatter\", \"uid\": \"88c17e90-4670-4c5d-8b00-c4f7ab3c75a9\"}, {\"hoverinfo\": \"text\", \"hovertext\": \"p=0.3999999999999999\", \"marker\": {\"color\": \"rgb(80.0, 70, 200)\"}, \"mode\": \"lines+markers\", \"x\": [0, 1, 2, 3, 4, 5, 6, 7, 8, 9, 10, 11, 12, 13], \"y\": [1.0, 15.0, 22.0, 31.0, 42.0, 45.0, 54.0, 61.0, 66.0, 76.0, 83.0, 87.0, 93.0, 100.0], \"type\": \"scatter\", \"uid\": \"c6792739-c20e-4472-9b1c-452ed8b5391a\"}, {\"hoverinfo\": \"text\", \"hovertext\": \"p=0.29999999999999993\", \"marker\": {\"color\": \"rgb(60.0, 70, 200)\"}, \"mode\": \"lines+markers\", \"x\": [0, 1, 2, 3, 4, 5, 6, 7, 8, 9, 10, 11, 12, 13, 14, 15, 16, 17, 18, 19, 20, 21, 22], \"y\": [1.0, 6.0, 12.0, 15.0, 18.0, 20.0, 23.0, 25.0, 28.0, 33.0, 40.0, 44.0, 48.0, 57.0, 59.0, 66.0, 76.0, 83.0, 89.0, 94.0, 95.0, 99.0, 100.0], \"type\": \"scatter\", \"uid\": \"6c6c5ae8-7a23-4499-8478-b5ac1f188027\"}, {\"hoverinfo\": \"text\", \"hovertext\": \"p=0.19999999999999996\", \"marker\": {\"color\": \"rgb(40.0, 70, 200)\"}, \"mode\": \"lines+markers\", \"x\": [0, 1], \"y\": [1.0, 4.0], \"type\": \"scatter\", \"uid\": \"aab615b3-58e4-44ad-bff8-aa5ffe60fc57\"}, {\"hoverinfo\": \"text\", \"hovertext\": \"p=0.09999999999999998\", \"marker\": {\"color\": \"rgb(20.0, 70, 200)\"}, \"mode\": \"lines+markers\", \"x\": [0, 1, 2, 3, 4, 5], \"y\": [1.0, 6.0, 7.0, 9.0, 10.0, 13.0], \"type\": \"scatter\", \"uid\": \"f679bd0d-76df-4cfa-9695-7d6f2db4aeba\"}], {\"showlegend\": false, \"title\": {\"text\": \"Social Welfare vs Iteration (r=10.0)\"}}, {\"showLink\": false, \"linkText\": \"Export to plot.ly\", \"plotlyServerURL\": \"https://plot.ly\"}); \n",
       "}\n",
       "});</script><script type=\"text/javascript\">window.addEventListener(\"resize\", function(){if (document.getElementById(\"87ee6bb0-8b01-45e4-bd10-4b25ba7a2118\")) {window._Plotly.Plots.resize(document.getElementById(\"87ee6bb0-8b01-45e4-bd10-4b25ba7a2118\"));};})</script>"
      ]
     },
     "metadata": {},
     "output_type": "display_data"
    }
   ],
   "source": [
    "for r in np.linspace(100, 0, 10, endpoint=False):\n",
    "    util_set = []\n",
    "    for p in np.linspace(1, 0, 10, endpoint=False):\n",
    "        ring_lat = const_kregular(regularity, num_vertices, p, r)\n",
    "        simp_ring_lat = reduce_providers_simplest(ring_lat)\n",
    "        \n",
    "        sim_g, sim_utils = run_simulation(ring_lat)\n",
    "        \n",
    "        global_util = [ sum(it_utils) for it_utils in sim_utils ]\n",
    "        \n",
    "        util_set.append((p, global_util))\n",
    "        \n",
    "    plot_utils(util_set, r)\n"
   ]
  },
  {
   "cell_type": "code",
   "execution_count": 5,
   "metadata": {},
   "outputs": [],
   "source": [
    "def plot_conv(conv_rates, r):\n",
    "    fig = go.Figure()\n",
    "\n",
    "    prk_vals = [ p * r / regularity for (p, cr) in conv_rates ]\n",
    "    cr_vals = [ cr for (p, cr) in conv_rates ]\n",
    "    fig.add_trace(go.Scatter(x=prk_vals,\n",
    "        y=cr_vals, mode='lines+markers', hoverinfo='skip'))\n",
    "        \n",
    "    fig.layout.update(showlegend=False)\n",
    "    title_fmt = \"Average Convergance Rate vs p*r/k (r={0})\"\n",
    "    plot_title = title_fmt.format(r)\n",
    "    fig.layout.update(title=plot_title)\n",
    "\n",
    "    iplot(fig)"
   ]
  },
  {
   "cell_type": "code",
   "execution_count": 6,
   "metadata": {},
   "outputs": [
    {
     "data": {
      "application/vnd.plotly.v1+json": {
       "config": {
        "linkText": "Export to plot.ly",
        "plotlyServerURL": "https://plot.ly",
        "showLink": false
       },
       "data": [
        {
         "hoverinfo": "skip",
         "mode": "lines+markers",
         "type": "scatter",
         "uid": "3e6a5423-e55d-49aa-ab66-53df765cee79",
         "x": [
          25,
          22.5,
          20,
          17.5,
          15,
          12.5,
          9.999999999999998,
          7.499999999999998,
          4.999999999999999,
          2.4999999999999996
         ],
         "y": [
          9.8,
          10.3,
          9.8,
          9.7,
          10,
          10.2,
          10.4,
          9.7,
          10.1,
          10.8
         ]
        }
       ],
       "layout": {
        "showlegend": false,
        "title": {
         "text": "Average Convergance Rate vs p*r/k (r=100.0)"
        }
       }
      },
      "text/html": [
       "<div id=\"93009e1a-38b7-4526-9a9d-e4d164868051\" style=\"height: 525px; width: 100%;\" class=\"plotly-graph-div\"></div><script type=\"text/javascript\">require([\"plotly\"], function(Plotly) { window.PLOTLYENV=window.PLOTLYENV || {};window.PLOTLYENV.BASE_URL=\"https://plot.ly\";\n",
       "if (document.getElementById(\"93009e1a-38b7-4526-9a9d-e4d164868051\")) {\n",
       "    Plotly.newPlot(\"93009e1a-38b7-4526-9a9d-e4d164868051\", [{\"hoverinfo\": \"skip\", \"mode\": \"lines+markers\", \"x\": [25.0, 22.5, 20.0, 17.5, 15.0, 12.5, 9.999999999999998, 7.499999999999998, 4.999999999999999, 2.4999999999999996], \"y\": [9.8, 10.3, 9.8, 9.7, 10.0, 10.2, 10.4, 9.7, 10.1, 10.8], \"type\": \"scatter\", \"uid\": \"3e6a5423-e55d-49aa-ab66-53df765cee79\"}], {\"showlegend\": false, \"title\": {\"text\": \"Average Convergance Rate vs p*r/k (r=100.0)\"}}, {\"showLink\": false, \"linkText\": \"Export to plot.ly\", \"plotlyServerURL\": \"https://plot.ly\"}); \n",
       "}\n",
       "});</script><script type=\"text/javascript\">window.addEventListener(\"resize\", function(){if (document.getElementById(\"93009e1a-38b7-4526-9a9d-e4d164868051\")) {window._Plotly.Plots.resize(document.getElementById(\"93009e1a-38b7-4526-9a9d-e4d164868051\"));};})</script>"
      ],
      "text/vnd.plotly.v1+html": [
       "<div id=\"93009e1a-38b7-4526-9a9d-e4d164868051\" style=\"height: 525px; width: 100%;\" class=\"plotly-graph-div\"></div><script type=\"text/javascript\">require([\"plotly\"], function(Plotly) { window.PLOTLYENV=window.PLOTLYENV || {};window.PLOTLYENV.BASE_URL=\"https://plot.ly\";\n",
       "if (document.getElementById(\"93009e1a-38b7-4526-9a9d-e4d164868051\")) {\n",
       "    Plotly.newPlot(\"93009e1a-38b7-4526-9a9d-e4d164868051\", [{\"hoverinfo\": \"skip\", \"mode\": \"lines+markers\", \"x\": [25.0, 22.5, 20.0, 17.5, 15.0, 12.5, 9.999999999999998, 7.499999999999998, 4.999999999999999, 2.4999999999999996], \"y\": [9.8, 10.3, 9.8, 9.7, 10.0, 10.2, 10.4, 9.7, 10.1, 10.8], \"type\": \"scatter\", \"uid\": \"3e6a5423-e55d-49aa-ab66-53df765cee79\"}], {\"showlegend\": false, \"title\": {\"text\": \"Average Convergance Rate vs p*r/k (r=100.0)\"}}, {\"showLink\": false, \"linkText\": \"Export to plot.ly\", \"plotlyServerURL\": \"https://plot.ly\"}); \n",
       "}\n",
       "});</script><script type=\"text/javascript\">window.addEventListener(\"resize\", function(){if (document.getElementById(\"93009e1a-38b7-4526-9a9d-e4d164868051\")) {window._Plotly.Plots.resize(document.getElementById(\"93009e1a-38b7-4526-9a9d-e4d164868051\"));};})</script>"
      ]
     },
     "metadata": {},
     "output_type": "display_data"
    },
    {
     "data": {
      "application/vnd.plotly.v1+json": {
       "config": {
        "linkText": "Export to plot.ly",
        "plotlyServerURL": "https://plot.ly",
        "showLink": false
       },
       "data": [
        {
         "hoverinfo": "skip",
         "mode": "lines+markers",
         "type": "scatter",
         "uid": "77a22efd-544e-43f6-9711-13f4d9fab1c3",
         "x": [
          22.5,
          20.25,
          18,
          15.749999999999998,
          13.5,
          11.25,
          8.999999999999998,
          6.749999999999998,
          4.499999999999999,
          2.2499999999999996
         ],
         "y": [
          9.7,
          10.3,
          10.1,
          10,
          10,
          9.6,
          9.8,
          10,
          10,
          11.6
         ]
        }
       ],
       "layout": {
        "showlegend": false,
        "title": {
         "text": "Average Convergance Rate vs p*r/k (r=90.0)"
        }
       }
      },
      "text/html": [
       "<div id=\"0dd089d4-92d8-4bbb-b161-c1efa19d45f9\" style=\"height: 525px; width: 100%;\" class=\"plotly-graph-div\"></div><script type=\"text/javascript\">require([\"plotly\"], function(Plotly) { window.PLOTLYENV=window.PLOTLYENV || {};window.PLOTLYENV.BASE_URL=\"https://plot.ly\";\n",
       "if (document.getElementById(\"0dd089d4-92d8-4bbb-b161-c1efa19d45f9\")) {\n",
       "    Plotly.newPlot(\"0dd089d4-92d8-4bbb-b161-c1efa19d45f9\", [{\"hoverinfo\": \"skip\", \"mode\": \"lines+markers\", \"x\": [22.5, 20.25, 18.0, 15.749999999999998, 13.5, 11.25, 8.999999999999998, 6.749999999999998, 4.499999999999999, 2.2499999999999996], \"y\": [9.7, 10.3, 10.1, 10.0, 10.0, 9.6, 9.8, 10.0, 10.0, 11.6], \"type\": \"scatter\", \"uid\": \"77a22efd-544e-43f6-9711-13f4d9fab1c3\"}], {\"showlegend\": false, \"title\": {\"text\": \"Average Convergance Rate vs p*r/k (r=90.0)\"}}, {\"showLink\": false, \"linkText\": \"Export to plot.ly\", \"plotlyServerURL\": \"https://plot.ly\"}); \n",
       "}\n",
       "});</script><script type=\"text/javascript\">window.addEventListener(\"resize\", function(){if (document.getElementById(\"0dd089d4-92d8-4bbb-b161-c1efa19d45f9\")) {window._Plotly.Plots.resize(document.getElementById(\"0dd089d4-92d8-4bbb-b161-c1efa19d45f9\"));};})</script>"
      ],
      "text/vnd.plotly.v1+html": [
       "<div id=\"0dd089d4-92d8-4bbb-b161-c1efa19d45f9\" style=\"height: 525px; width: 100%;\" class=\"plotly-graph-div\"></div><script type=\"text/javascript\">require([\"plotly\"], function(Plotly) { window.PLOTLYENV=window.PLOTLYENV || {};window.PLOTLYENV.BASE_URL=\"https://plot.ly\";\n",
       "if (document.getElementById(\"0dd089d4-92d8-4bbb-b161-c1efa19d45f9\")) {\n",
       "    Plotly.newPlot(\"0dd089d4-92d8-4bbb-b161-c1efa19d45f9\", [{\"hoverinfo\": \"skip\", \"mode\": \"lines+markers\", \"x\": [22.5, 20.25, 18.0, 15.749999999999998, 13.5, 11.25, 8.999999999999998, 6.749999999999998, 4.499999999999999, 2.2499999999999996], \"y\": [9.7, 10.3, 10.1, 10.0, 10.0, 9.6, 9.8, 10.0, 10.0, 11.6], \"type\": \"scatter\", \"uid\": \"77a22efd-544e-43f6-9711-13f4d9fab1c3\"}], {\"showlegend\": false, \"title\": {\"text\": \"Average Convergance Rate vs p*r/k (r=90.0)\"}}, {\"showLink\": false, \"linkText\": \"Export to plot.ly\", \"plotlyServerURL\": \"https://plot.ly\"}); \n",
       "}\n",
       "});</script><script type=\"text/javascript\">window.addEventListener(\"resize\", function(){if (document.getElementById(\"0dd089d4-92d8-4bbb-b161-c1efa19d45f9\")) {window._Plotly.Plots.resize(document.getElementById(\"0dd089d4-92d8-4bbb-b161-c1efa19d45f9\"));};})</script>"
      ]
     },
     "metadata": {},
     "output_type": "display_data"
    },
    {
     "data": {
      "application/vnd.plotly.v1+json": {
       "config": {
        "linkText": "Export to plot.ly",
        "plotlyServerURL": "https://plot.ly",
        "showLink": false
       },
       "data": [
        {
         "hoverinfo": "skip",
         "mode": "lines+markers",
         "type": "scatter",
         "uid": "5201dab8-6f24-4d8e-93bd-91d9d9f56088",
         "x": [
          20,
          18,
          16,
          14,
          12,
          10,
          7.999999999999998,
          5.999999999999998,
          3.999999999999999,
          1.9999999999999996
         ],
         "y": [
          9.9,
          10.1,
          10.1,
          10.6,
          10.1,
          10.1,
          10.5,
          10.3,
          10.5,
          10.9
         ]
        }
       ],
       "layout": {
        "showlegend": false,
        "title": {
         "text": "Average Convergance Rate vs p*r/k (r=80.0)"
        }
       }
      },
      "text/html": [
       "<div id=\"dc0b295e-80fe-4350-8307-c79edbfa52a3\" style=\"height: 525px; width: 100%;\" class=\"plotly-graph-div\"></div><script type=\"text/javascript\">require([\"plotly\"], function(Plotly) { window.PLOTLYENV=window.PLOTLYENV || {};window.PLOTLYENV.BASE_URL=\"https://plot.ly\";\n",
       "if (document.getElementById(\"dc0b295e-80fe-4350-8307-c79edbfa52a3\")) {\n",
       "    Plotly.newPlot(\"dc0b295e-80fe-4350-8307-c79edbfa52a3\", [{\"hoverinfo\": \"skip\", \"mode\": \"lines+markers\", \"x\": [20.0, 18.0, 16.0, 14.0, 12.0, 10.0, 7.999999999999998, 5.999999999999998, 3.999999999999999, 1.9999999999999996], \"y\": [9.9, 10.1, 10.1, 10.6, 10.1, 10.1, 10.5, 10.3, 10.5, 10.9], \"type\": \"scatter\", \"uid\": \"5201dab8-6f24-4d8e-93bd-91d9d9f56088\"}], {\"showlegend\": false, \"title\": {\"text\": \"Average Convergance Rate vs p*r/k (r=80.0)\"}}, {\"showLink\": false, \"linkText\": \"Export to plot.ly\", \"plotlyServerURL\": \"https://plot.ly\"}); \n",
       "}\n",
       "});</script><script type=\"text/javascript\">window.addEventListener(\"resize\", function(){if (document.getElementById(\"dc0b295e-80fe-4350-8307-c79edbfa52a3\")) {window._Plotly.Plots.resize(document.getElementById(\"dc0b295e-80fe-4350-8307-c79edbfa52a3\"));};})</script>"
      ],
      "text/vnd.plotly.v1+html": [
       "<div id=\"dc0b295e-80fe-4350-8307-c79edbfa52a3\" style=\"height: 525px; width: 100%;\" class=\"plotly-graph-div\"></div><script type=\"text/javascript\">require([\"plotly\"], function(Plotly) { window.PLOTLYENV=window.PLOTLYENV || {};window.PLOTLYENV.BASE_URL=\"https://plot.ly\";\n",
       "if (document.getElementById(\"dc0b295e-80fe-4350-8307-c79edbfa52a3\")) {\n",
       "    Plotly.newPlot(\"dc0b295e-80fe-4350-8307-c79edbfa52a3\", [{\"hoverinfo\": \"skip\", \"mode\": \"lines+markers\", \"x\": [20.0, 18.0, 16.0, 14.0, 12.0, 10.0, 7.999999999999998, 5.999999999999998, 3.999999999999999, 1.9999999999999996], \"y\": [9.9, 10.1, 10.1, 10.6, 10.1, 10.1, 10.5, 10.3, 10.5, 10.9], \"type\": \"scatter\", \"uid\": \"5201dab8-6f24-4d8e-93bd-91d9d9f56088\"}], {\"showlegend\": false, \"title\": {\"text\": \"Average Convergance Rate vs p*r/k (r=80.0)\"}}, {\"showLink\": false, \"linkText\": \"Export to plot.ly\", \"plotlyServerURL\": \"https://plot.ly\"}); \n",
       "}\n",
       "});</script><script type=\"text/javascript\">window.addEventListener(\"resize\", function(){if (document.getElementById(\"dc0b295e-80fe-4350-8307-c79edbfa52a3\")) {window._Plotly.Plots.resize(document.getElementById(\"dc0b295e-80fe-4350-8307-c79edbfa52a3\"));};})</script>"
      ]
     },
     "metadata": {},
     "output_type": "display_data"
    },
    {
     "data": {
      "application/vnd.plotly.v1+json": {
       "config": {
        "linkText": "Export to plot.ly",
        "plotlyServerURL": "https://plot.ly",
        "showLink": false
       },
       "data": [
        {
         "hoverinfo": "skip",
         "mode": "lines+markers",
         "type": "scatter",
         "uid": "12313ef4-91d2-4f21-bb78-9f3b65ff9663",
         "x": [
          17.5,
          15.75,
          14,
          12.25,
          10.5,
          8.75,
          6.999999999999998,
          5.249999999999999,
          3.499999999999999,
          1.7499999999999996
         ],
         "y": [
          10.6,
          9.8,
          10.6,
          10,
          10.2,
          11,
          9.8,
          10.2,
          10.9,
          11.8
         ]
        }
       ],
       "layout": {
        "showlegend": false,
        "title": {
         "text": "Average Convergance Rate vs p*r/k (r=70.0)"
        }
       }
      },
      "text/html": [
       "<div id=\"3bae318f-ccf2-41bc-84b3-5ba61f921257\" style=\"height: 525px; width: 100%;\" class=\"plotly-graph-div\"></div><script type=\"text/javascript\">require([\"plotly\"], function(Plotly) { window.PLOTLYENV=window.PLOTLYENV || {};window.PLOTLYENV.BASE_URL=\"https://plot.ly\";\n",
       "if (document.getElementById(\"3bae318f-ccf2-41bc-84b3-5ba61f921257\")) {\n",
       "    Plotly.newPlot(\"3bae318f-ccf2-41bc-84b3-5ba61f921257\", [{\"hoverinfo\": \"skip\", \"mode\": \"lines+markers\", \"x\": [17.5, 15.75, 14.0, 12.25, 10.5, 8.75, 6.999999999999998, 5.249999999999999, 3.499999999999999, 1.7499999999999996], \"y\": [10.6, 9.8, 10.6, 10.0, 10.2, 11.0, 9.8, 10.2, 10.9, 11.8], \"type\": \"scatter\", \"uid\": \"12313ef4-91d2-4f21-bb78-9f3b65ff9663\"}], {\"showlegend\": false, \"title\": {\"text\": \"Average Convergance Rate vs p*r/k (r=70.0)\"}}, {\"showLink\": false, \"linkText\": \"Export to plot.ly\", \"plotlyServerURL\": \"https://plot.ly\"}); \n",
       "}\n",
       "});</script><script type=\"text/javascript\">window.addEventListener(\"resize\", function(){if (document.getElementById(\"3bae318f-ccf2-41bc-84b3-5ba61f921257\")) {window._Plotly.Plots.resize(document.getElementById(\"3bae318f-ccf2-41bc-84b3-5ba61f921257\"));};})</script>"
      ],
      "text/vnd.plotly.v1+html": [
       "<div id=\"3bae318f-ccf2-41bc-84b3-5ba61f921257\" style=\"height: 525px; width: 100%;\" class=\"plotly-graph-div\"></div><script type=\"text/javascript\">require([\"plotly\"], function(Plotly) { window.PLOTLYENV=window.PLOTLYENV || {};window.PLOTLYENV.BASE_URL=\"https://plot.ly\";\n",
       "if (document.getElementById(\"3bae318f-ccf2-41bc-84b3-5ba61f921257\")) {\n",
       "    Plotly.newPlot(\"3bae318f-ccf2-41bc-84b3-5ba61f921257\", [{\"hoverinfo\": \"skip\", \"mode\": \"lines+markers\", \"x\": [17.5, 15.75, 14.0, 12.25, 10.5, 8.75, 6.999999999999998, 5.249999999999999, 3.499999999999999, 1.7499999999999996], \"y\": [10.6, 9.8, 10.6, 10.0, 10.2, 11.0, 9.8, 10.2, 10.9, 11.8], \"type\": \"scatter\", \"uid\": \"12313ef4-91d2-4f21-bb78-9f3b65ff9663\"}], {\"showlegend\": false, \"title\": {\"text\": \"Average Convergance Rate vs p*r/k (r=70.0)\"}}, {\"showLink\": false, \"linkText\": \"Export to plot.ly\", \"plotlyServerURL\": \"https://plot.ly\"}); \n",
       "}\n",
       "});</script><script type=\"text/javascript\">window.addEventListener(\"resize\", function(){if (document.getElementById(\"3bae318f-ccf2-41bc-84b3-5ba61f921257\")) {window._Plotly.Plots.resize(document.getElementById(\"3bae318f-ccf2-41bc-84b3-5ba61f921257\"));};})</script>"
      ]
     },
     "metadata": {},
     "output_type": "display_data"
    },
    {
     "data": {
      "application/vnd.plotly.v1+json": {
       "config": {
        "linkText": "Export to plot.ly",
        "plotlyServerURL": "https://plot.ly",
        "showLink": false
       },
       "data": [
        {
         "hoverinfo": "skip",
         "mode": "lines+markers",
         "type": "scatter",
         "uid": "8e96c267-f879-4a1a-9ae7-77da638ecdd1",
         "x": [
          15,
          13.5,
          12,
          10.5,
          9,
          7.5,
          5.999999999999998,
          4.499999999999999,
          2.999999999999999,
          1.4999999999999996
         ],
         "y": [
          9.3,
          9.9,
          9.8,
          9.7,
          9.3,
          9.9,
          10.1,
          9.9,
          10.2,
          13.1
         ]
        }
       ],
       "layout": {
        "showlegend": false,
        "title": {
         "text": "Average Convergance Rate vs p*r/k (r=60.0)"
        }
       }
      },
      "text/html": [
       "<div id=\"e7922366-4eff-41e5-ad68-d01e90056250\" style=\"height: 525px; width: 100%;\" class=\"plotly-graph-div\"></div><script type=\"text/javascript\">require([\"plotly\"], function(Plotly) { window.PLOTLYENV=window.PLOTLYENV || {};window.PLOTLYENV.BASE_URL=\"https://plot.ly\";\n",
       "if (document.getElementById(\"e7922366-4eff-41e5-ad68-d01e90056250\")) {\n",
       "    Plotly.newPlot(\"e7922366-4eff-41e5-ad68-d01e90056250\", [{\"hoverinfo\": \"skip\", \"mode\": \"lines+markers\", \"x\": [15.0, 13.5, 12.0, 10.5, 9.0, 7.5, 5.999999999999998, 4.499999999999999, 2.999999999999999, 1.4999999999999996], \"y\": [9.3, 9.9, 9.8, 9.7, 9.3, 9.9, 10.1, 9.9, 10.2, 13.1], \"type\": \"scatter\", \"uid\": \"8e96c267-f879-4a1a-9ae7-77da638ecdd1\"}], {\"showlegend\": false, \"title\": {\"text\": \"Average Convergance Rate vs p*r/k (r=60.0)\"}}, {\"showLink\": false, \"linkText\": \"Export to plot.ly\", \"plotlyServerURL\": \"https://plot.ly\"}); \n",
       "}\n",
       "});</script><script type=\"text/javascript\">window.addEventListener(\"resize\", function(){if (document.getElementById(\"e7922366-4eff-41e5-ad68-d01e90056250\")) {window._Plotly.Plots.resize(document.getElementById(\"e7922366-4eff-41e5-ad68-d01e90056250\"));};})</script>"
      ],
      "text/vnd.plotly.v1+html": [
       "<div id=\"e7922366-4eff-41e5-ad68-d01e90056250\" style=\"height: 525px; width: 100%;\" class=\"plotly-graph-div\"></div><script type=\"text/javascript\">require([\"plotly\"], function(Plotly) { window.PLOTLYENV=window.PLOTLYENV || {};window.PLOTLYENV.BASE_URL=\"https://plot.ly\";\n",
       "if (document.getElementById(\"e7922366-4eff-41e5-ad68-d01e90056250\")) {\n",
       "    Plotly.newPlot(\"e7922366-4eff-41e5-ad68-d01e90056250\", [{\"hoverinfo\": \"skip\", \"mode\": \"lines+markers\", \"x\": [15.0, 13.5, 12.0, 10.5, 9.0, 7.5, 5.999999999999998, 4.499999999999999, 2.999999999999999, 1.4999999999999996], \"y\": [9.3, 9.9, 9.8, 9.7, 9.3, 9.9, 10.1, 9.9, 10.2, 13.1], \"type\": \"scatter\", \"uid\": \"8e96c267-f879-4a1a-9ae7-77da638ecdd1\"}], {\"showlegend\": false, \"title\": {\"text\": \"Average Convergance Rate vs p*r/k (r=60.0)\"}}, {\"showLink\": false, \"linkText\": \"Export to plot.ly\", \"plotlyServerURL\": \"https://plot.ly\"}); \n",
       "}\n",
       "});</script><script type=\"text/javascript\">window.addEventListener(\"resize\", function(){if (document.getElementById(\"e7922366-4eff-41e5-ad68-d01e90056250\")) {window._Plotly.Plots.resize(document.getElementById(\"e7922366-4eff-41e5-ad68-d01e90056250\"));};})</script>"
      ]
     },
     "metadata": {},
     "output_type": "display_data"
    },
    {
     "data": {
      "application/vnd.plotly.v1+json": {
       "config": {
        "linkText": "Export to plot.ly",
        "plotlyServerURL": "https://plot.ly",
        "showLink": false
       },
       "data": [
        {
         "hoverinfo": "skip",
         "mode": "lines+markers",
         "type": "scatter",
         "uid": "acc7a5ec-4dfa-43a7-a9c0-c2d7d9881c75",
         "x": [
          12.5,
          11.25,
          10,
          8.75,
          7.5,
          6.25,
          4.999999999999999,
          3.749999999999999,
          2.4999999999999996,
          1.2499999999999998
         ],
         "y": [
          9.9,
          10.5,
          9.6,
          10.6,
          9.8,
          9.8,
          10,
          10.5,
          11.5,
          13.9
         ]
        }
       ],
       "layout": {
        "showlegend": false,
        "title": {
         "text": "Average Convergance Rate vs p*r/k (r=50.0)"
        }
       }
      },
      "text/html": [
       "<div id=\"6d8920a0-9f07-457e-9af8-a676b3f69695\" style=\"height: 525px; width: 100%;\" class=\"plotly-graph-div\"></div><script type=\"text/javascript\">require([\"plotly\"], function(Plotly) { window.PLOTLYENV=window.PLOTLYENV || {};window.PLOTLYENV.BASE_URL=\"https://plot.ly\";\n",
       "if (document.getElementById(\"6d8920a0-9f07-457e-9af8-a676b3f69695\")) {\n",
       "    Plotly.newPlot(\"6d8920a0-9f07-457e-9af8-a676b3f69695\", [{\"hoverinfo\": \"skip\", \"mode\": \"lines+markers\", \"x\": [12.5, 11.25, 10.0, 8.75, 7.5, 6.25, 4.999999999999999, 3.749999999999999, 2.4999999999999996, 1.2499999999999998], \"y\": [9.9, 10.5, 9.6, 10.6, 9.8, 9.8, 10.0, 10.5, 11.5, 13.9], \"type\": \"scatter\", \"uid\": \"acc7a5ec-4dfa-43a7-a9c0-c2d7d9881c75\"}], {\"showlegend\": false, \"title\": {\"text\": \"Average Convergance Rate vs p*r/k (r=50.0)\"}}, {\"showLink\": false, \"linkText\": \"Export to plot.ly\", \"plotlyServerURL\": \"https://plot.ly\"}); \n",
       "}\n",
       "});</script><script type=\"text/javascript\">window.addEventListener(\"resize\", function(){if (document.getElementById(\"6d8920a0-9f07-457e-9af8-a676b3f69695\")) {window._Plotly.Plots.resize(document.getElementById(\"6d8920a0-9f07-457e-9af8-a676b3f69695\"));};})</script>"
      ],
      "text/vnd.plotly.v1+html": [
       "<div id=\"6d8920a0-9f07-457e-9af8-a676b3f69695\" style=\"height: 525px; width: 100%;\" class=\"plotly-graph-div\"></div><script type=\"text/javascript\">require([\"plotly\"], function(Plotly) { window.PLOTLYENV=window.PLOTLYENV || {};window.PLOTLYENV.BASE_URL=\"https://plot.ly\";\n",
       "if (document.getElementById(\"6d8920a0-9f07-457e-9af8-a676b3f69695\")) {\n",
       "    Plotly.newPlot(\"6d8920a0-9f07-457e-9af8-a676b3f69695\", [{\"hoverinfo\": \"skip\", \"mode\": \"lines+markers\", \"x\": [12.5, 11.25, 10.0, 8.75, 7.5, 6.25, 4.999999999999999, 3.749999999999999, 2.4999999999999996, 1.2499999999999998], \"y\": [9.9, 10.5, 9.6, 10.6, 9.8, 9.8, 10.0, 10.5, 11.5, 13.9], \"type\": \"scatter\", \"uid\": \"acc7a5ec-4dfa-43a7-a9c0-c2d7d9881c75\"}], {\"showlegend\": false, \"title\": {\"text\": \"Average Convergance Rate vs p*r/k (r=50.0)\"}}, {\"showLink\": false, \"linkText\": \"Export to plot.ly\", \"plotlyServerURL\": \"https://plot.ly\"}); \n",
       "}\n",
       "});</script><script type=\"text/javascript\">window.addEventListener(\"resize\", function(){if (document.getElementById(\"6d8920a0-9f07-457e-9af8-a676b3f69695\")) {window._Plotly.Plots.resize(document.getElementById(\"6d8920a0-9f07-457e-9af8-a676b3f69695\"));};})</script>"
      ]
     },
     "metadata": {},
     "output_type": "display_data"
    },
    {
     "data": {
      "application/vnd.plotly.v1+json": {
       "config": {
        "linkText": "Export to plot.ly",
        "plotlyServerURL": "https://plot.ly",
        "showLink": false
       },
       "data": [
        {
         "hoverinfo": "skip",
         "mode": "lines+markers",
         "type": "scatter",
         "uid": "8ced2651-b981-46da-a9d9-251085beda93",
         "x": [
          10,
          9,
          8,
          7,
          6,
          5,
          3.999999999999999,
          2.999999999999999,
          1.9999999999999996,
          0.9999999999999998
         ],
         "y": [
          10.6,
          9.7,
          9.8,
          10.3,
          10.2,
          10.1,
          9.8,
          10.6,
          12.1,
          13.8
         ]
        }
       ],
       "layout": {
        "showlegend": false,
        "title": {
         "text": "Average Convergance Rate vs p*r/k (r=40.0)"
        }
       }
      },
      "text/html": [
       "<div id=\"a01494c0-7bac-4f63-82bb-b970e6afb716\" style=\"height: 525px; width: 100%;\" class=\"plotly-graph-div\"></div><script type=\"text/javascript\">require([\"plotly\"], function(Plotly) { window.PLOTLYENV=window.PLOTLYENV || {};window.PLOTLYENV.BASE_URL=\"https://plot.ly\";\n",
       "if (document.getElementById(\"a01494c0-7bac-4f63-82bb-b970e6afb716\")) {\n",
       "    Plotly.newPlot(\"a01494c0-7bac-4f63-82bb-b970e6afb716\", [{\"hoverinfo\": \"skip\", \"mode\": \"lines+markers\", \"x\": [10.0, 9.0, 8.0, 7.0, 6.0, 5.0, 3.999999999999999, 2.999999999999999, 1.9999999999999996, 0.9999999999999998], \"y\": [10.6, 9.7, 9.8, 10.3, 10.2, 10.1, 9.8, 10.6, 12.1, 13.8], \"type\": \"scatter\", \"uid\": \"8ced2651-b981-46da-a9d9-251085beda93\"}], {\"showlegend\": false, \"title\": {\"text\": \"Average Convergance Rate vs p*r/k (r=40.0)\"}}, {\"showLink\": false, \"linkText\": \"Export to plot.ly\", \"plotlyServerURL\": \"https://plot.ly\"}); \n",
       "}\n",
       "});</script><script type=\"text/javascript\">window.addEventListener(\"resize\", function(){if (document.getElementById(\"a01494c0-7bac-4f63-82bb-b970e6afb716\")) {window._Plotly.Plots.resize(document.getElementById(\"a01494c0-7bac-4f63-82bb-b970e6afb716\"));};})</script>"
      ],
      "text/vnd.plotly.v1+html": [
       "<div id=\"a01494c0-7bac-4f63-82bb-b970e6afb716\" style=\"height: 525px; width: 100%;\" class=\"plotly-graph-div\"></div><script type=\"text/javascript\">require([\"plotly\"], function(Plotly) { window.PLOTLYENV=window.PLOTLYENV || {};window.PLOTLYENV.BASE_URL=\"https://plot.ly\";\n",
       "if (document.getElementById(\"a01494c0-7bac-4f63-82bb-b970e6afb716\")) {\n",
       "    Plotly.newPlot(\"a01494c0-7bac-4f63-82bb-b970e6afb716\", [{\"hoverinfo\": \"skip\", \"mode\": \"lines+markers\", \"x\": [10.0, 9.0, 8.0, 7.0, 6.0, 5.0, 3.999999999999999, 2.999999999999999, 1.9999999999999996, 0.9999999999999998], \"y\": [10.6, 9.7, 9.8, 10.3, 10.2, 10.1, 9.8, 10.6, 12.1, 13.8], \"type\": \"scatter\", \"uid\": \"8ced2651-b981-46da-a9d9-251085beda93\"}], {\"showlegend\": false, \"title\": {\"text\": \"Average Convergance Rate vs p*r/k (r=40.0)\"}}, {\"showLink\": false, \"linkText\": \"Export to plot.ly\", \"plotlyServerURL\": \"https://plot.ly\"}); \n",
       "}\n",
       "});</script><script type=\"text/javascript\">window.addEventListener(\"resize\", function(){if (document.getElementById(\"a01494c0-7bac-4f63-82bb-b970e6afb716\")) {window._Plotly.Plots.resize(document.getElementById(\"a01494c0-7bac-4f63-82bb-b970e6afb716\"));};})</script>"
      ]
     },
     "metadata": {},
     "output_type": "display_data"
    },
    {
     "data": {
      "application/vnd.plotly.v1+json": {
       "config": {
        "linkText": "Export to plot.ly",
        "plotlyServerURL": "https://plot.ly",
        "showLink": false
       },
       "data": [
        {
         "hoverinfo": "skip",
         "mode": "lines+markers",
         "type": "scatter",
         "uid": "072a55a8-2226-4e8c-acfa-9120d8322712",
         "x": [
          7.5,
          6.75,
          6,
          5.25,
          4.5,
          3.75,
          2.999999999999999,
          2.2499999999999996,
          1.4999999999999996,
          0.7499999999999998
         ],
         "y": [
          10.1,
          10,
          10,
          10.3,
          10.4,
          10.1,
          10.5,
          11,
          12.1,
          14.7
         ]
        }
       ],
       "layout": {
        "showlegend": false,
        "title": {
         "text": "Average Convergance Rate vs p*r/k (r=30.0)"
        }
       }
      },
      "text/html": [
       "<div id=\"2a316d34-a1d8-42db-8fc1-426820e2918f\" style=\"height: 525px; width: 100%;\" class=\"plotly-graph-div\"></div><script type=\"text/javascript\">require([\"plotly\"], function(Plotly) { window.PLOTLYENV=window.PLOTLYENV || {};window.PLOTLYENV.BASE_URL=\"https://plot.ly\";\n",
       "if (document.getElementById(\"2a316d34-a1d8-42db-8fc1-426820e2918f\")) {\n",
       "    Plotly.newPlot(\"2a316d34-a1d8-42db-8fc1-426820e2918f\", [{\"hoverinfo\": \"skip\", \"mode\": \"lines+markers\", \"x\": [7.5, 6.75, 6.0, 5.25, 4.5, 3.75, 2.999999999999999, 2.2499999999999996, 1.4999999999999996, 0.7499999999999998], \"y\": [10.1, 10.0, 10.0, 10.3, 10.4, 10.1, 10.5, 11.0, 12.1, 14.7], \"type\": \"scatter\", \"uid\": \"072a55a8-2226-4e8c-acfa-9120d8322712\"}], {\"showlegend\": false, \"title\": {\"text\": \"Average Convergance Rate vs p*r/k (r=30.0)\"}}, {\"showLink\": false, \"linkText\": \"Export to plot.ly\", \"plotlyServerURL\": \"https://plot.ly\"}); \n",
       "}\n",
       "});</script><script type=\"text/javascript\">window.addEventListener(\"resize\", function(){if (document.getElementById(\"2a316d34-a1d8-42db-8fc1-426820e2918f\")) {window._Plotly.Plots.resize(document.getElementById(\"2a316d34-a1d8-42db-8fc1-426820e2918f\"));};})</script>"
      ],
      "text/vnd.plotly.v1+html": [
       "<div id=\"2a316d34-a1d8-42db-8fc1-426820e2918f\" style=\"height: 525px; width: 100%;\" class=\"plotly-graph-div\"></div><script type=\"text/javascript\">require([\"plotly\"], function(Plotly) { window.PLOTLYENV=window.PLOTLYENV || {};window.PLOTLYENV.BASE_URL=\"https://plot.ly\";\n",
       "if (document.getElementById(\"2a316d34-a1d8-42db-8fc1-426820e2918f\")) {\n",
       "    Plotly.newPlot(\"2a316d34-a1d8-42db-8fc1-426820e2918f\", [{\"hoverinfo\": \"skip\", \"mode\": \"lines+markers\", \"x\": [7.5, 6.75, 6.0, 5.25, 4.5, 3.75, 2.999999999999999, 2.2499999999999996, 1.4999999999999996, 0.7499999999999998], \"y\": [10.1, 10.0, 10.0, 10.3, 10.4, 10.1, 10.5, 11.0, 12.1, 14.7], \"type\": \"scatter\", \"uid\": \"072a55a8-2226-4e8c-acfa-9120d8322712\"}], {\"showlegend\": false, \"title\": {\"text\": \"Average Convergance Rate vs p*r/k (r=30.0)\"}}, {\"showLink\": false, \"linkText\": \"Export to plot.ly\", \"plotlyServerURL\": \"https://plot.ly\"}); \n",
       "}\n",
       "});</script><script type=\"text/javascript\">window.addEventListener(\"resize\", function(){if (document.getElementById(\"2a316d34-a1d8-42db-8fc1-426820e2918f\")) {window._Plotly.Plots.resize(document.getElementById(\"2a316d34-a1d8-42db-8fc1-426820e2918f\"));};})</script>"
      ]
     },
     "metadata": {},
     "output_type": "display_data"
    },
    {
     "data": {
      "application/vnd.plotly.v1+json": {
       "config": {
        "linkText": "Export to plot.ly",
        "plotlyServerURL": "https://plot.ly",
        "showLink": false
       },
       "data": [
        {
         "hoverinfo": "skip",
         "mode": "lines+markers",
         "type": "scatter",
         "uid": "0d201850-6f46-4c14-bb68-e0b0605399bf",
         "x": [
          5,
          4.5,
          4,
          3.5,
          3,
          2.5,
          1.9999999999999996,
          1.4999999999999996,
          0.9999999999999998,
          0.4999999999999999
         ],
         "y": [
          10.3,
          9.4,
          10.6,
          10.6,
          10,
          11,
          10.5,
          12.6,
          16.1,
          5.8
         ]
        }
       ],
       "layout": {
        "showlegend": false,
        "title": {
         "text": "Average Convergance Rate vs p*r/k (r=20.0)"
        }
       }
      },
      "text/html": [
       "<div id=\"c8e07d0b-47fa-424a-864c-ef7c44669d51\" style=\"height: 525px; width: 100%;\" class=\"plotly-graph-div\"></div><script type=\"text/javascript\">require([\"plotly\"], function(Plotly) { window.PLOTLYENV=window.PLOTLYENV || {};window.PLOTLYENV.BASE_URL=\"https://plot.ly\";\n",
       "if (document.getElementById(\"c8e07d0b-47fa-424a-864c-ef7c44669d51\")) {\n",
       "    Plotly.newPlot(\"c8e07d0b-47fa-424a-864c-ef7c44669d51\", [{\"hoverinfo\": \"skip\", \"mode\": \"lines+markers\", \"x\": [5.0, 4.5, 4.0, 3.5, 3.0, 2.5, 1.9999999999999996, 1.4999999999999996, 0.9999999999999998, 0.4999999999999999], \"y\": [10.3, 9.4, 10.6, 10.6, 10.0, 11.0, 10.5, 12.6, 16.1, 5.8], \"type\": \"scatter\", \"uid\": \"0d201850-6f46-4c14-bb68-e0b0605399bf\"}], {\"showlegend\": false, \"title\": {\"text\": \"Average Convergance Rate vs p*r/k (r=20.0)\"}}, {\"showLink\": false, \"linkText\": \"Export to plot.ly\", \"plotlyServerURL\": \"https://plot.ly\"}); \n",
       "}\n",
       "});</script><script type=\"text/javascript\">window.addEventListener(\"resize\", function(){if (document.getElementById(\"c8e07d0b-47fa-424a-864c-ef7c44669d51\")) {window._Plotly.Plots.resize(document.getElementById(\"c8e07d0b-47fa-424a-864c-ef7c44669d51\"));};})</script>"
      ],
      "text/vnd.plotly.v1+html": [
       "<div id=\"c8e07d0b-47fa-424a-864c-ef7c44669d51\" style=\"height: 525px; width: 100%;\" class=\"plotly-graph-div\"></div><script type=\"text/javascript\">require([\"plotly\"], function(Plotly) { window.PLOTLYENV=window.PLOTLYENV || {};window.PLOTLYENV.BASE_URL=\"https://plot.ly\";\n",
       "if (document.getElementById(\"c8e07d0b-47fa-424a-864c-ef7c44669d51\")) {\n",
       "    Plotly.newPlot(\"c8e07d0b-47fa-424a-864c-ef7c44669d51\", [{\"hoverinfo\": \"skip\", \"mode\": \"lines+markers\", \"x\": [5.0, 4.5, 4.0, 3.5, 3.0, 2.5, 1.9999999999999996, 1.4999999999999996, 0.9999999999999998, 0.4999999999999999], \"y\": [10.3, 9.4, 10.6, 10.6, 10.0, 11.0, 10.5, 12.6, 16.1, 5.8], \"type\": \"scatter\", \"uid\": \"0d201850-6f46-4c14-bb68-e0b0605399bf\"}], {\"showlegend\": false, \"title\": {\"text\": \"Average Convergance Rate vs p*r/k (r=20.0)\"}}, {\"showLink\": false, \"linkText\": \"Export to plot.ly\", \"plotlyServerURL\": \"https://plot.ly\"}); \n",
       "}\n",
       "});</script><script type=\"text/javascript\">window.addEventListener(\"resize\", function(){if (document.getElementById(\"c8e07d0b-47fa-424a-864c-ef7c44669d51\")) {window._Plotly.Plots.resize(document.getElementById(\"c8e07d0b-47fa-424a-864c-ef7c44669d51\"));};})</script>"
      ]
     },
     "metadata": {},
     "output_type": "display_data"
    },
    {
     "data": {
      "application/vnd.plotly.v1+json": {
       "config": {
        "linkText": "Export to plot.ly",
        "plotlyServerURL": "https://plot.ly",
        "showLink": false
       },
       "data": [
        {
         "hoverinfo": "skip",
         "mode": "lines+markers",
         "type": "scatter",
         "uid": "4161a594-1fc0-4046-b3e3-a2e927313790",
         "x": [
          2.5,
          2.25,
          2,
          1.75,
          1.5,
          1.25,
          0.9999999999999998,
          0.7499999999999998,
          0.4999999999999999,
          0.24999999999999994
         ],
         "y": [
          9.8,
          10.1,
          10.6,
          11,
          11.6,
          13.6,
          17.3,
          10.9,
          2.6,
          -4.9
         ]
        }
       ],
       "layout": {
        "showlegend": false,
        "title": {
         "text": "Average Convergance Rate vs p*r/k (r=10.0)"
        }
       }
      },
      "text/html": [
       "<div id=\"76451373-75f7-4949-9a46-6afe7204653b\" style=\"height: 525px; width: 100%;\" class=\"plotly-graph-div\"></div><script type=\"text/javascript\">require([\"plotly\"], function(Plotly) { window.PLOTLYENV=window.PLOTLYENV || {};window.PLOTLYENV.BASE_URL=\"https://plot.ly\";\n",
       "if (document.getElementById(\"76451373-75f7-4949-9a46-6afe7204653b\")) {\n",
       "    Plotly.newPlot(\"76451373-75f7-4949-9a46-6afe7204653b\", [{\"hoverinfo\": \"skip\", \"mode\": \"lines+markers\", \"x\": [2.5, 2.25, 2.0, 1.75, 1.5, 1.25, 0.9999999999999998, 0.7499999999999998, 0.4999999999999999, 0.24999999999999994], \"y\": [9.8, 10.1, 10.6, 11.0, 11.6, 13.6, 17.3, 10.9, 2.6, -4.9], \"type\": \"scatter\", \"uid\": \"4161a594-1fc0-4046-b3e3-a2e927313790\"}], {\"showlegend\": false, \"title\": {\"text\": \"Average Convergance Rate vs p*r/k (r=10.0)\"}}, {\"showLink\": false, \"linkText\": \"Export to plot.ly\", \"plotlyServerURL\": \"https://plot.ly\"}); \n",
       "}\n",
       "});</script><script type=\"text/javascript\">window.addEventListener(\"resize\", function(){if (document.getElementById(\"76451373-75f7-4949-9a46-6afe7204653b\")) {window._Plotly.Plots.resize(document.getElementById(\"76451373-75f7-4949-9a46-6afe7204653b\"));};})</script>"
      ],
      "text/vnd.plotly.v1+html": [
       "<div id=\"76451373-75f7-4949-9a46-6afe7204653b\" style=\"height: 525px; width: 100%;\" class=\"plotly-graph-div\"></div><script type=\"text/javascript\">require([\"plotly\"], function(Plotly) { window.PLOTLYENV=window.PLOTLYENV || {};window.PLOTLYENV.BASE_URL=\"https://plot.ly\";\n",
       "if (document.getElementById(\"76451373-75f7-4949-9a46-6afe7204653b\")) {\n",
       "    Plotly.newPlot(\"76451373-75f7-4949-9a46-6afe7204653b\", [{\"hoverinfo\": \"skip\", \"mode\": \"lines+markers\", \"x\": [2.5, 2.25, 2.0, 1.75, 1.5, 1.25, 0.9999999999999998, 0.7499999999999998, 0.4999999999999999, 0.24999999999999994], \"y\": [9.8, 10.1, 10.6, 11.0, 11.6, 13.6, 17.3, 10.9, 2.6, -4.9], \"type\": \"scatter\", \"uid\": \"4161a594-1fc0-4046-b3e3-a2e927313790\"}], {\"showlegend\": false, \"title\": {\"text\": \"Average Convergance Rate vs p*r/k (r=10.0)\"}}, {\"showLink\": false, \"linkText\": \"Export to plot.ly\", \"plotlyServerURL\": \"https://plot.ly\"}); \n",
       "}\n",
       "});</script><script type=\"text/javascript\">window.addEventListener(\"resize\", function(){if (document.getElementById(\"76451373-75f7-4949-9a46-6afe7204653b\")) {window._Plotly.Plots.resize(document.getElementById(\"76451373-75f7-4949-9a46-6afe7204653b\"));};})</script>"
      ]
     },
     "metadata": {},
     "output_type": "display_data"
    }
   ],
   "source": [
    "for r in np.linspace(100, 0, 10, endpoint=False):\n",
    "    conv_rates = []\n",
    "    for p in np.linspace(1, 0, 10, endpoint=False):\n",
    "        tot_conv_rates = 0\n",
    "        num_iter = 10\n",
    "        for i in range(num_iter):\n",
    "            ring_lat = const_kregular(regularity, num_vertices, p, r)\n",
    "            simp_ring_lat = reduce_providers_simplest(ring_lat)\n",
    "\n",
    "            sim_g, sim_utils = run_simulation(ring_lat)\n",
    "            \n",
    "            if sum(sim_utils[-1]) != len(sim_utils[-1]):\n",
    "                tot_conv_rates += -1 * len(sim_utils)\n",
    "            else:\n",
    "                tot_conv_rates += len(sim_utils)\n",
    "        avg_conv_rate = tot_conv_rates / num_iter\n",
    "        conv_rates.append((p, avg_conv_rate))\n",
    "        \n",
    "    plot_conv(conv_rates, r)"
   ]
  },
  {
   "cell_type": "code",
   "execution_count": 17,
   "metadata": {},
   "outputs": [],
   "source": [
    "fixed_prk_rates = []\n",
    "for r in np.linspace(100, 0, 100, endpoint=False):\n",
    "    p = ceil(regularity / r)\n",
    "    \n",
    "    tot_conv_rates = 0\n",
    "    num_iter = 20\n",
    "    \n",
    "    for i in range(num_iter):\n",
    "        ring_lat = const_kregular(regularity, num_vertices, p, r)\n",
    "        simp_ring_lat = reduce_providers_simplest(ring_lat)\n",
    "\n",
    "        sim_g, sim_utils = run_simulation(ring_lat)\n",
    "\n",
    "        if sum(sim_utils[-1]) != len(sim_utils[-1]):\n",
    "            tot_conv_rates += -1 * len(sim_utils)\n",
    "        else:\n",
    "            tot_conv_rates += len(sim_utils)\n",
    "            \n",
    "    avg_conv_rate = tot_conv_rates / num_iter\n",
    "    fixed_prk_rates.append((r, avg_conv_rate))"
   ]
  },
  {
   "cell_type": "code",
   "execution_count": 18,
   "metadata": {},
   "outputs": [
    {
     "data": {
      "application/vnd.plotly.v1+json": {
       "config": {
        "linkText": "Export to plot.ly",
        "plotlyServerURL": "https://plot.ly",
        "showLink": false
       },
       "data": [
        {
         "hoverinfo": "skip",
         "mode": "lines+markers",
         "type": "scatter",
         "uid": "20b0530c-e9b8-4131-aa8f-ce8c54f8d932",
         "x": [
          100,
          99,
          98,
          97,
          96,
          95,
          94,
          93,
          92,
          91,
          90,
          89,
          88,
          87,
          86,
          85,
          84,
          83,
          82,
          81,
          80,
          79,
          78,
          77,
          76,
          75,
          74,
          73,
          72,
          71,
          70,
          69,
          68,
          67,
          66,
          65,
          64,
          63,
          62,
          61,
          60,
          59,
          58,
          57,
          56,
          55,
          54,
          53,
          52,
          51,
          50,
          49,
          48,
          47,
          46,
          45,
          44,
          43,
          42,
          41,
          40,
          39,
          38,
          37,
          36,
          35,
          34,
          33,
          32,
          31,
          30,
          29,
          28,
          27,
          26,
          25,
          24,
          23,
          22,
          21,
          20,
          19,
          18,
          17,
          16,
          15,
          14,
          13,
          12,
          11,
          10,
          9,
          8,
          7,
          6,
          5,
          4,
          3,
          2,
          1
         ],
         "y": [
          10.2,
          9.9,
          10.15,
          10.3,
          10.1,
          10.55,
          10.2,
          10,
          10.4,
          10.3,
          9.9,
          9.95,
          10,
          10.5,
          10.4,
          10,
          10.4,
          10.1,
          9.95,
          10.05,
          10.25,
          10.2,
          9.95,
          9.95,
          10.4,
          9.95,
          10.05,
          10.05,
          10,
          10.1,
          10.25,
          9.75,
          10.15,
          10.45,
          10.05,
          10.25,
          9.85,
          10.1,
          10,
          10,
          9.9,
          10.35,
          9.7,
          9.9,
          10.15,
          9.95,
          9.7,
          9.95,
          10.6,
          10.45,
          10.2,
          10.4,
          10.4,
          10.15,
          10.3,
          10.05,
          10.05,
          10.15,
          9.7,
          9.95,
          9.9,
          9.9,
          10.25,
          10,
          9.7,
          9.95,
          9.95,
          9.65,
          10.15,
          10.25,
          10,
          10.5,
          10.5,
          10.25,
          10.3,
          9.95,
          9.95,
          10.05,
          10.35,
          10.2,
          10.4,
          10.1,
          9.7,
          9.9,
          9.9,
          10.05,
          10.2,
          9.95,
          10.35,
          10,
          10.2,
          10.25,
          9.85,
          9.85,
          9.8,
          10.05,
          10.3,
          26.9,
          -2,
          -2
         ]
        }
       ],
       "layout": {
        "showlegend": false,
        "title": {
         "text": "Average Convergance Rate vs r (p*r/k=1)"
        }
       }
      },
      "text/html": [
       "<div id=\"2ee74ee5-d51d-40f4-aad8-3dd403d7ae8d\" style=\"height: 525px; width: 100%;\" class=\"plotly-graph-div\"></div><script type=\"text/javascript\">require([\"plotly\"], function(Plotly) { window.PLOTLYENV=window.PLOTLYENV || {};window.PLOTLYENV.BASE_URL=\"https://plot.ly\";\n",
       "if (document.getElementById(\"2ee74ee5-d51d-40f4-aad8-3dd403d7ae8d\")) {\n",
       "    Plotly.newPlot(\"2ee74ee5-d51d-40f4-aad8-3dd403d7ae8d\", [{\"hoverinfo\": \"skip\", \"mode\": \"lines+markers\", \"x\": [100.0, 99.0, 98.0, 97.0, 96.0, 95.0, 94.0, 93.0, 92.0, 91.0, 90.0, 89.0, 88.0, 87.0, 86.0, 85.0, 84.0, 83.0, 82.0, 81.0, 80.0, 79.0, 78.0, 77.0, 76.0, 75.0, 74.0, 73.0, 72.0, 71.0, 70.0, 69.0, 68.0, 67.0, 66.0, 65.0, 64.0, 63.0, 62.0, 61.0, 60.0, 59.0, 58.0, 57.0, 56.0, 55.0, 54.0, 53.0, 52.0, 51.0, 50.0, 49.0, 48.0, 47.0, 46.0, 45.0, 44.0, 43.0, 42.0, 41.0, 40.0, 39.0, 38.0, 37.0, 36.0, 35.0, 34.0, 33.0, 32.0, 31.0, 30.0, 29.0, 28.0, 27.0, 26.0, 25.0, 24.0, 23.0, 22.0, 21.0, 20.0, 19.0, 18.0, 17.0, 16.0, 15.0, 14.0, 13.0, 12.0, 11.0, 10.0, 9.0, 8.0, 7.0, 6.0, 5.0, 4.0, 3.0, 2.0, 1.0], \"y\": [10.2, 9.9, 10.15, 10.3, 10.1, 10.55, 10.2, 10.0, 10.4, 10.3, 9.9, 9.95, 10.0, 10.5, 10.4, 10.0, 10.4, 10.1, 9.95, 10.05, 10.25, 10.2, 9.95, 9.95, 10.4, 9.95, 10.05, 10.05, 10.0, 10.1, 10.25, 9.75, 10.15, 10.45, 10.05, 10.25, 9.85, 10.1, 10.0, 10.0, 9.9, 10.35, 9.7, 9.9, 10.15, 9.95, 9.7, 9.95, 10.6, 10.45, 10.2, 10.4, 10.4, 10.15, 10.3, 10.05, 10.05, 10.15, 9.7, 9.95, 9.9, 9.9, 10.25, 10.0, 9.7, 9.95, 9.95, 9.65, 10.15, 10.25, 10.0, 10.5, 10.5, 10.25, 10.3, 9.95, 9.95, 10.05, 10.35, 10.2, 10.4, 10.1, 9.7, 9.9, 9.9, 10.05, 10.2, 9.95, 10.35, 10.0, 10.2, 10.25, 9.85, 9.85, 9.8, 10.05, 10.3, 26.9, -2.0, -2.0], \"type\": \"scatter\", \"uid\": \"20b0530c-e9b8-4131-aa8f-ce8c54f8d932\"}], {\"showlegend\": false, \"title\": {\"text\": \"Average Convergance Rate vs r (p*r/k=1)\"}}, {\"showLink\": false, \"linkText\": \"Export to plot.ly\", \"plotlyServerURL\": \"https://plot.ly\"}); \n",
       "}\n",
       "});</script><script type=\"text/javascript\">window.addEventListener(\"resize\", function(){if (document.getElementById(\"2ee74ee5-d51d-40f4-aad8-3dd403d7ae8d\")) {window._Plotly.Plots.resize(document.getElementById(\"2ee74ee5-d51d-40f4-aad8-3dd403d7ae8d\"));};})</script>"
      ],
      "text/vnd.plotly.v1+html": [
       "<div id=\"2ee74ee5-d51d-40f4-aad8-3dd403d7ae8d\" style=\"height: 525px; width: 100%;\" class=\"plotly-graph-div\"></div><script type=\"text/javascript\">require([\"plotly\"], function(Plotly) { window.PLOTLYENV=window.PLOTLYENV || {};window.PLOTLYENV.BASE_URL=\"https://plot.ly\";\n",
       "if (document.getElementById(\"2ee74ee5-d51d-40f4-aad8-3dd403d7ae8d\")) {\n",
       "    Plotly.newPlot(\"2ee74ee5-d51d-40f4-aad8-3dd403d7ae8d\", [{\"hoverinfo\": \"skip\", \"mode\": \"lines+markers\", \"x\": [100.0, 99.0, 98.0, 97.0, 96.0, 95.0, 94.0, 93.0, 92.0, 91.0, 90.0, 89.0, 88.0, 87.0, 86.0, 85.0, 84.0, 83.0, 82.0, 81.0, 80.0, 79.0, 78.0, 77.0, 76.0, 75.0, 74.0, 73.0, 72.0, 71.0, 70.0, 69.0, 68.0, 67.0, 66.0, 65.0, 64.0, 63.0, 62.0, 61.0, 60.0, 59.0, 58.0, 57.0, 56.0, 55.0, 54.0, 53.0, 52.0, 51.0, 50.0, 49.0, 48.0, 47.0, 46.0, 45.0, 44.0, 43.0, 42.0, 41.0, 40.0, 39.0, 38.0, 37.0, 36.0, 35.0, 34.0, 33.0, 32.0, 31.0, 30.0, 29.0, 28.0, 27.0, 26.0, 25.0, 24.0, 23.0, 22.0, 21.0, 20.0, 19.0, 18.0, 17.0, 16.0, 15.0, 14.0, 13.0, 12.0, 11.0, 10.0, 9.0, 8.0, 7.0, 6.0, 5.0, 4.0, 3.0, 2.0, 1.0], \"y\": [10.2, 9.9, 10.15, 10.3, 10.1, 10.55, 10.2, 10.0, 10.4, 10.3, 9.9, 9.95, 10.0, 10.5, 10.4, 10.0, 10.4, 10.1, 9.95, 10.05, 10.25, 10.2, 9.95, 9.95, 10.4, 9.95, 10.05, 10.05, 10.0, 10.1, 10.25, 9.75, 10.15, 10.45, 10.05, 10.25, 9.85, 10.1, 10.0, 10.0, 9.9, 10.35, 9.7, 9.9, 10.15, 9.95, 9.7, 9.95, 10.6, 10.45, 10.2, 10.4, 10.4, 10.15, 10.3, 10.05, 10.05, 10.15, 9.7, 9.95, 9.9, 9.9, 10.25, 10.0, 9.7, 9.95, 9.95, 9.65, 10.15, 10.25, 10.0, 10.5, 10.5, 10.25, 10.3, 9.95, 9.95, 10.05, 10.35, 10.2, 10.4, 10.1, 9.7, 9.9, 9.9, 10.05, 10.2, 9.95, 10.35, 10.0, 10.2, 10.25, 9.85, 9.85, 9.8, 10.05, 10.3, 26.9, -2.0, -2.0], \"type\": \"scatter\", \"uid\": \"20b0530c-e9b8-4131-aa8f-ce8c54f8d932\"}], {\"showlegend\": false, \"title\": {\"text\": \"Average Convergance Rate vs r (p*r/k=1)\"}}, {\"showLink\": false, \"linkText\": \"Export to plot.ly\", \"plotlyServerURL\": \"https://plot.ly\"}); \n",
       "}\n",
       "});</script><script type=\"text/javascript\">window.addEventListener(\"resize\", function(){if (document.getElementById(\"2ee74ee5-d51d-40f4-aad8-3dd403d7ae8d\")) {window._Plotly.Plots.resize(document.getElementById(\"2ee74ee5-d51d-40f4-aad8-3dd403d7ae8d\"));};})</script>"
      ]
     },
     "metadata": {},
     "output_type": "display_data"
    }
   ],
   "source": [
    "def plot_fixed_one(conv_rates):\n",
    "    fig = go.Figure()\n",
    "\n",
    "    r_vals = [ r for (r, cr) in conv_rates ]\n",
    "    cr_vals = [ cr for (r, cr) in conv_rates ]\n",
    "    fig.add_trace(go.Scatter(x=r_vals,\n",
    "        y=cr_vals, mode='lines+markers', hoverinfo='skip'))\n",
    "        \n",
    "    fig.layout.update(showlegend=False)\n",
    "    plot_title = \"Average Convergance Rate vs r (p*r/k=1)\"\n",
    "    fig.layout.update(title=plot_title)\n",
    "\n",
    "    iplot(fig)\n",
    "\n",
    "plot_fixed_one(fixed_prk_rates)"
   ]
  },
  {
   "cell_type": "code",
   "execution_count": null,
   "metadata": {},
   "outputs": [],
   "source": []
  }
 ],
 "metadata": {
  "kernelspec": {
   "display_name": "Python 3",
   "language": "python",
   "name": "python3"
  },
  "language_info": {
   "codemirror_mode": {
    "name": "ipython",
    "version": 3
   },
   "file_extension": ".py",
   "mimetype": "text/x-python",
   "name": "python",
   "nbconvert_exporter": "python",
   "pygments_lexer": "ipython3",
   "version": "3.6.2"
  }
 },
 "nbformat": 4,
 "nbformat_minor": 2
}
