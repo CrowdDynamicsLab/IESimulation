{
 "cells": [
  {
   "cell_type": "code",
   "execution_count": 1,
   "metadata": {},
   "outputs": [
    {
     "data": {
      "text/html": [
       "<script type=\"text/javascript\">window.PlotlyConfig = {MathJaxConfig: 'local'};</script><script type=\"text/javascript\">if (window.MathJax) {MathJax.Hub.Config({SVG: {font: \"STIX-Web\"}});}</script><script>requirejs.config({paths: { 'plotly': ['https://cdn.plot.ly/plotly-latest.min']},});if(!window._Plotly) {require(['plotly'],function(plotly) {window._Plotly=plotly;});}</script>"
      ],
      "text/vnd.plotly.v1+html": [
       "<script type=\"text/javascript\">window.PlotlyConfig = {MathJaxConfig: 'local'};</script><script type=\"text/javascript\">if (window.MathJax) {MathJax.Hub.Config({SVG: {font: \"STIX-Web\"}});}</script><script>requirejs.config({paths: { 'plotly': ['https://cdn.plot.ly/plotly-latest.min']},});if(!window._Plotly) {require(['plotly'],function(plotly) {window._Plotly=plotly;});}</script>"
      ]
     },
     "metadata": {},
     "output_type": "display_data"
    }
   ],
   "source": [
    "from plotly.offline import init_notebook_mode, iplot\n",
    "import plotly.graph_objs as go\n",
    "import numpy as np\n",
    "from math import ceil\n",
    "\n",
    "from simulation import run_simulation\n",
    "from graph_create import const_kregular, reduce_providers_simplest\n",
    "import util\n",
    "\n",
    "init_notebook_mode(connected=True)"
   ]
  },
  {
   "cell_type": "code",
   "execution_count": 2,
   "metadata": {},
   "outputs": [],
   "source": [
    "# Constants\n",
    "num_vertices = 100\n",
    "regularity = 4"
   ]
  },
  {
   "cell_type": "code",
   "execution_count": 3,
   "metadata": {},
   "outputs": [],
   "source": [
    "def plot_conv(conv_rates, r, diam):\n",
    "    global regularity\n",
    "    \n",
    "    fig = go.Figure()\n",
    "\n",
    "    #Add averages trace\n",
    "    prk_vals = [ p * r / regularity for (p, cr) in conv_rates ]\n",
    "    cr_vals = [ np.average(cr) for (p, cr) in conv_rates ]\n",
    "    fig.add_trace(go.Scatter(x=prk_vals,\n",
    "        y=cr_vals, mode='lines+markers', hoverinfo='skip',\n",
    "        name='avg conv rate'))\n",
    "    \n",
    "    #Add individual points trace\n",
    "    indiv_p_vals = []\n",
    "    indiv_cr_vals = []\n",
    "    for (p, cr) in conv_rates:\n",
    "        indiv_cr_vals.extend(cr)\n",
    "        indiv_p_vals.extend([p * r / k] * len(cr))\n",
    "    fig.add_trace(go.Scatter(x=indiv_p_vals,\n",
    "        y=indiv_cr_vals, mode='markers', hoverinfo='skip', opacity=0.7,\n",
    "        marker=dict(color='LightSkyBlue'), name='conv rates per c'))\n",
    "    \n",
    "    #Add model trace\n",
    "    p_vals = [ p for (p, cr) in conv_rates ]\n",
    "    expec_cr = [ util.expected_conv_rate_simp(p, r, regularity, diam) for p in p_vals ]\n",
    "    fig.add_trace(go.Scatter(x=prk_vals,\n",
    "        y=expec_cr, mode='lines+markers', hoverinfo='skip',\n",
    "        name='expected conv rate'))\n",
    "    \n",
    "    fig.layout.update(showlegend=False)\n",
    "    title_fmt = \"Average Convergance Rate vs p*r/k (r={0}, diam={1})\"\n",
    "    plot_title = title_fmt.format(r, diam)\n",
    "    fig.layout.update(title=plot_title, showlegend=True,\n",
    "        xaxis=dict(title='p*r/k'), yaxis=dict(title='avg conv rate'))\n",
    "\n",
    "    iplot(fig)"
   ]
  },
  {
   "cell_type": "code",
   "execution_count": 4,
   "metadata": {
    "scrolled": false
   },
   "outputs": [
    {
     "ename": "NameError",
     "evalue": "name 'k' is not defined",
     "output_type": "error",
     "traceback": [
      "\u001b[0;31m---------------------------------------------------------------------------\u001b[0m",
      "\u001b[0;31mNameError\u001b[0m                                 Traceback (most recent call last)",
      "\u001b[0;32m<ipython-input-4-94287d69dc28>\u001b[0m in \u001b[0;36m<module>\u001b[0;34m\u001b[0m\n\u001b[1;32m     21\u001b[0m         \u001b[0mall_conv_rates\u001b[0m\u001b[0;34m.\u001b[0m\u001b[0mappend\u001b[0m\u001b[0;34m(\u001b[0m\u001b[0;34m(\u001b[0m\u001b[0mp\u001b[0m\u001b[0;34m,\u001b[0m \u001b[0mconv_rates\u001b[0m\u001b[0;34m)\u001b[0m\u001b[0;34m)\u001b[0m\u001b[0;34m\u001b[0m\u001b[0m\n\u001b[1;32m     22\u001b[0m \u001b[0;34m\u001b[0m\u001b[0m\n\u001b[0;32m---> 23\u001b[0;31m     \u001b[0mplot_conv\u001b[0m\u001b[0;34m(\u001b[0m\u001b[0mall_conv_rates\u001b[0m\u001b[0;34m,\u001b[0m \u001b[0mr\u001b[0m\u001b[0;34m,\u001b[0m \u001b[0mgraph_diam\u001b[0m\u001b[0;34m)\u001b[0m\u001b[0;34m\u001b[0m\u001b[0m\n\u001b[0m",
      "\u001b[0;32m<ipython-input-3-9bb31c5d8d39>\u001b[0m in \u001b[0;36mplot_conv\u001b[0;34m(conv_rates, r, diam)\u001b[0m\n\u001b[1;32m     16\u001b[0m     \u001b[0;32mfor\u001b[0m \u001b[0;34m(\u001b[0m\u001b[0mp\u001b[0m\u001b[0;34m,\u001b[0m \u001b[0mcr\u001b[0m\u001b[0;34m)\u001b[0m \u001b[0;32min\u001b[0m \u001b[0mconv_rates\u001b[0m\u001b[0;34m:\u001b[0m\u001b[0;34m\u001b[0m\u001b[0m\n\u001b[1;32m     17\u001b[0m         \u001b[0mindiv_cr_vals\u001b[0m\u001b[0;34m.\u001b[0m\u001b[0mextend\u001b[0m\u001b[0;34m(\u001b[0m\u001b[0mcr\u001b[0m\u001b[0;34m)\u001b[0m\u001b[0;34m\u001b[0m\u001b[0m\n\u001b[0;32m---> 18\u001b[0;31m         \u001b[0mindiv_p_vals\u001b[0m\u001b[0;34m.\u001b[0m\u001b[0mextend\u001b[0m\u001b[0;34m(\u001b[0m\u001b[0;34m[\u001b[0m\u001b[0mp\u001b[0m \u001b[0;34m*\u001b[0m \u001b[0mr\u001b[0m \u001b[0;34m/\u001b[0m \u001b[0mk\u001b[0m\u001b[0;34m]\u001b[0m \u001b[0;34m*\u001b[0m \u001b[0mlen\u001b[0m\u001b[0;34m(\u001b[0m\u001b[0mcr\u001b[0m\u001b[0;34m)\u001b[0m\u001b[0;34m)\u001b[0m\u001b[0;34m\u001b[0m\u001b[0m\n\u001b[0m\u001b[1;32m     19\u001b[0m     fig.add_trace(go.Scatter(x=indiv_p_vals,\n\u001b[1;32m     20\u001b[0m         \u001b[0my\u001b[0m\u001b[0;34m=\u001b[0m\u001b[0mindiv_cr_vals\u001b[0m\u001b[0;34m,\u001b[0m \u001b[0mmode\u001b[0m\u001b[0;34m=\u001b[0m\u001b[0;34m'markers'\u001b[0m\u001b[0;34m,\u001b[0m \u001b[0mhoverinfo\u001b[0m\u001b[0;34m=\u001b[0m\u001b[0;34m'skip'\u001b[0m\u001b[0;34m,\u001b[0m \u001b[0mopacity\u001b[0m\u001b[0;34m=\u001b[0m\u001b[0;36m0.7\u001b[0m\u001b[0;34m,\u001b[0m\u001b[0;34m\u001b[0m\u001b[0m\n",
      "\u001b[0;31mNameError\u001b[0m: name 'k' is not defined"
     ]
    }
   ],
   "source": [
    "graph_diam = None\n",
    "for r in np.linspace(100, 0, 10, endpoint=False):\n",
    "    all_conv_rates = []\n",
    "    for p in np.linspace(1, 0, 10, endpoint=False):\n",
    "        conv_rates = []\n",
    "        num_iter = 10\n",
    "        for i in range(num_iter):\n",
    "            ring_lat = const_kregular(regularity, num_vertices, p, r)\n",
    "            \n",
    "            if not graph_diam:\n",
    "                graph_diam = util.calc_diameter(ring_lat)\n",
    "                \n",
    "            simp_ring_lat = reduce_providers_simplest(ring_lat)\n",
    "\n",
    "            sim_g, sim_utils = run_simulation(ring_lat)\n",
    "            \n",
    "            if sum(sim_utils[-1]) != len(sim_utils[-1]):\n",
    "                conv_rates.append(-1 * len(sim_utils))\n",
    "            else:\n",
    "                conv_rates.append(len(sim_utils))\n",
    "        all_conv_rates.append((p, conv_rates))\n",
    "        \n",
    "    plot_conv(all_conv_rates, r, graph_diam)"
   ]
  },
  {
   "cell_type": "code",
   "execution_count": null,
   "metadata": {},
   "outputs": [],
   "source": []
  },
  {
   "cell_type": "code",
   "execution_count": null,
   "metadata": {},
   "outputs": [],
   "source": []
  }
 ],
 "metadata": {
  "kernelspec": {
   "display_name": "Python 3",
   "language": "python",
   "name": "python3"
  },
  "language_info": {
   "codemirror_mode": {
    "name": "ipython",
    "version": 3
   },
   "file_extension": ".py",
   "mimetype": "text/x-python",
   "name": "python",
   "nbconvert_exporter": "python",
   "pygments_lexer": "ipython3",
   "version": "3.6.2"
  }
 },
 "nbformat": 4,
 "nbformat_minor": 2
}
