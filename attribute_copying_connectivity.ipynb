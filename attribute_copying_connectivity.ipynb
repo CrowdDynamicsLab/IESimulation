{
 "cells": [
  {
   "cell_type": "code",
   "execution_count": 1,
   "metadata": {},
   "outputs": [],
   "source": [
    "import networkx as nx\n",
    "from scipy.sparse import linalg as scp_sla\n",
    "import numpy as np\n",
    "import matplotlib.pyplot as plt\n",
    "\n",
    "import sim_lib.graph as graph\n",
    "import sim_lib.graph_networkx as gnx\n",
    "import sim_lib.attr_lib.util as attr_util\n",
    "from sim_lib.attr_lib.formation import *\n",
    "import sim_lib.attr_lib.vis as vis"
   ]
  },
  {
   "cell_type": "code",
   "execution_count": 2,
   "metadata": {},
   "outputs": [],
   "source": [
    "_N = 6\n",
    "\n",
    "params = {\n",
    "    'context_count' : 16,\n",
    "    'k' : 8,\n",
    "    'attr_func' : attr_util.discrete_pareto_val, # attribute assignment function\n",
    "    'edge_util_func' : attr_util.total_inv_frequency,\n",
    "    'edge_proposal' : attr_util.marginal_logistic,\n",
    "    'vtx_util' : attr_util.logistic,\n",
    "    'edge_selection' : attr_util.iter_drop_max_objective,\n",
    "    'attr_copy' : attr_util.freq_attr_copy,\n",
    "    'seed_type' : 'clique', # Type of seed network\n",
    "    'vtx_budget' : 150 * 20,\n",
    "    'vtx_types' :\n",
    "        {\n",
    "            'wide' : { 'direct_cost' : 10,\n",
    "                      'indirect_cost' : 30,\n",
    "                      'likelihood' : 0.5,\n",
    "                      'color' : 'blue' },\n",
    "            'tall' : { 'direct_cost' : 30,\n",
    "                      'indirect_cost' : 10,\n",
    "                      'likelihood' : 0.5,\n",
    "                      'color' : 'red' }\n",
    "        }\n",
    "}\n",
    "\n",
    "assert sum([ t['likelihood'] for t in params['vtx_types'].values() ]) == 1.0"
   ]
  },
  {
   "cell_type": "code",
   "execution_count": 3,
   "metadata": {
    "scrolled": false
   },
   "outputs": [
    {
     "name": "stderr",
     "output_type": "stream",
     "text": [
      "/home/andy/crowd-dynamics-lab/IESimulation/sim_lib/attr_lib/formation.py:166: RuntimeWarning: invalid value encountered in double_scalars\n",
      "  p=[ eu / sum(edge_utils) for eu in edge_utils ])\n"
     ]
    },
    {
     "ename": "KeyboardInterrupt",
     "evalue": "",
     "output_type": "error",
     "traceback": [
      "\u001b[0;31m---------------------------------------------------------------------------\u001b[0m",
      "\u001b[0;31mKeyboardInterrupt\u001b[0m                         Traceback (most recent call last)",
      "\u001b[0;32m<ipython-input-3-c8aa9071a59e>\u001b[0m in \u001b[0;36m<module>\u001b[0;34m\u001b[0m\n\u001b[1;32m     11\u001b[0m             \u001b[0madd_attr_graph_vtx\u001b[0m\u001b[0;34m(\u001b[0m\u001b[0mG\u001b[0m\u001b[0;34m)\u001b[0m\u001b[0;34m\u001b[0m\u001b[0m\n\u001b[1;32m     12\u001b[0m             \u001b[0mcalc_edges\u001b[0m\u001b[0;34m(\u001b[0m\u001b[0mG\u001b[0m\u001b[0;34m)\u001b[0m\u001b[0;34m\u001b[0m\u001b[0m\n\u001b[0;32m---> 13\u001b[0;31m             \u001b[0msimul_random_walk\u001b[0m\u001b[0;34m(\u001b[0m\u001b[0mG\u001b[0m\u001b[0;34m)\u001b[0m\u001b[0;34m\u001b[0m\u001b[0m\n\u001b[0m\u001b[1;32m     14\u001b[0m             \u001b[0;32mfor\u001b[0m \u001b[0mv\u001b[0m \u001b[0;32min\u001b[0m \u001b[0;34m[\u001b[0m \u001b[0mv\u001b[0m \u001b[0;32mfor\u001b[0m \u001b[0mv\u001b[0m \u001b[0;32min\u001b[0m \u001b[0mG\u001b[0m\u001b[0;34m.\u001b[0m\u001b[0mvertices\u001b[0m \u001b[0;32mif\u001b[0m \u001b[0mv\u001b[0m\u001b[0;34m.\u001b[0m\u001b[0mdegree\u001b[0m \u001b[0;34m==\u001b[0m \u001b[0;36m0\u001b[0m \u001b[0;34m]\u001b[0m\u001b[0;34m:\u001b[0m\u001b[0;34m\u001b[0m\u001b[0m\n\u001b[1;32m     15\u001b[0m                 \u001b[0mattr_util\u001b[0m\u001b[0;34m.\u001b[0m\u001b[0mindep_context_proposal\u001b[0m\u001b[0;34m(\u001b[0m\u001b[0mG\u001b[0m\u001b[0;34m,\u001b[0m \u001b[0mv\u001b[0m\u001b[0;34m)\u001b[0m\u001b[0;34m\u001b[0m\u001b[0m\n",
      "\u001b[0;32m~/crowd-dynamics-lab/IESimulation/sim_lib/attr_lib/formation.py\u001b[0m in \u001b[0;36msimul_random_walk\u001b[0;34m(G)\u001b[0m\n\u001b[1;32m    141\u001b[0m                 \u001b[0;32mcontinue\u001b[0m\u001b[0;34m\u001b[0m\u001b[0m\n\u001b[1;32m    142\u001b[0m             \u001b[0mv\u001b[0m\u001b[0;34m.\u001b[0m\u001b[0mdata\u001b[0m\u001b[0;34m[\u001b[0m\u001b[0;34m'visited'\u001b[0m\u001b[0;34m]\u001b[0m\u001b[0;34m.\u001b[0m\u001b[0madd\u001b[0m\u001b[0;34m(\u001b[0m\u001b[0mcur_vtx\u001b[0m\u001b[0;34m)\u001b[0m\u001b[0;34m\u001b[0m\u001b[0m\n\u001b[0;32m--> 143\u001b[0;31m             \u001b[0mcontext_updates\u001b[0m\u001b[0;34m[\u001b[0m\u001b[0mv\u001b[0m\u001b[0;34m]\u001b[0m \u001b[0;34m=\u001b[0m \u001b[0mG\u001b[0m\u001b[0;34m.\u001b[0m\u001b[0msim_params\u001b[0m\u001b[0;34m[\u001b[0m\u001b[0;34m'attr_copy'\u001b[0m\u001b[0;34m]\u001b[0m\u001b[0;34m(\u001b[0m\u001b[0mv\u001b[0m\u001b[0;34m,\u001b[0m \u001b[0mnext_vtx\u001b[0m\u001b[0;34m,\u001b[0m \u001b[0mG\u001b[0m\u001b[0;34m)\u001b[0m\u001b[0;34m\u001b[0m\u001b[0m\n\u001b[0m\u001b[1;32m    144\u001b[0m         \u001b[0;32mfor\u001b[0m \u001b[0mv\u001b[0m \u001b[0;32min\u001b[0m \u001b[0mpop_list\u001b[0m\u001b[0;34m:\u001b[0m\u001b[0;34m\u001b[0m\u001b[0m\n\u001b[1;32m    145\u001b[0m             \u001b[0mwalk_lengths\u001b[0m\u001b[0;34m.\u001b[0m\u001b[0mpop\u001b[0m\u001b[0;34m(\u001b[0m\u001b[0mv\u001b[0m\u001b[0;34m)\u001b[0m\u001b[0;34m\u001b[0m\u001b[0m\n",
      "\u001b[0;32m~/crowd-dynamics-lab/IESimulation/sim_lib/attr_lib/util.py\u001b[0m in \u001b[0;36mfreq_attr_copy\u001b[0;34m(u, v, G)\u001b[0m\n\u001b[1;32m    391\u001b[0m             \u001b[0;32mfor\u001b[0m \u001b[0mu_ctxt\u001b[0m \u001b[0;32min\u001b[0m \u001b[0mu_contexts\u001b[0m\u001b[0;34m:\u001b[0m\u001b[0;34m\u001b[0m\u001b[0m\n\u001b[1;32m    392\u001b[0m                 \u001b[0mdrop_gain\u001b[0m \u001b[0;34m=\u001b[0m \u001b[0mdiff_attr_util\u001b[0m\u001b[0;34m(\u001b[0m\u001b[0mu\u001b[0m\u001b[0;34m,\u001b[0m \u001b[0mv\u001b[0m\u001b[0;34m,\u001b[0m \u001b[0mG\u001b[0m\u001b[0;34m,\u001b[0m \u001b[0mv_ctxt\u001b[0m\u001b[0;34m,\u001b[0m \u001b[0mv_attr\u001b[0m\u001b[0;34m,\u001b[0m \u001b[0mu_ctxt\u001b[0m\u001b[0;34m)\u001b[0m\u001b[0;34m\u001b[0m\u001b[0m\n\u001b[0;32m--> 393\u001b[0;31m                 \u001b[0;32mif\u001b[0m \u001b[0mmax_gain_u_ctxt\u001b[0m \u001b[0;34m==\u001b[0m \u001b[0;32mNone\u001b[0m \u001b[0;32mor\u001b[0m \u001b[0mdrop_gain\u001b[0m \u001b[0;34m>\u001b[0m \u001b[0mmax_gain\u001b[0m\u001b[0;34m:\u001b[0m\u001b[0;34m\u001b[0m\u001b[0m\n\u001b[0m\u001b[1;32m    394\u001b[0m                     \u001b[0mmax_gain_u_ctxt\u001b[0m \u001b[0;34m=\u001b[0m \u001b[0mu_ctxt\u001b[0m\u001b[0;34m\u001b[0m\u001b[0m\n\u001b[1;32m    395\u001b[0m                     \u001b[0mmax_gain\u001b[0m \u001b[0;34m=\u001b[0m \u001b[0mdrop_gain\u001b[0m\u001b[0;34m\u001b[0m\u001b[0m\n",
      "\u001b[0;31mKeyboardInterrupt\u001b[0m: "
     ]
    }
   ],
   "source": [
    "data = []\n",
    "\n",
    "adtl_vertices = 4\n",
    "trial_count = 20\n",
    "n_max = 32\n",
    "for n in range(2, n_max + 1):\n",
    "    conn_count = 0\n",
    "    for _ in range(trial_count):\n",
    "        G = attribute_network(n, params)\n",
    "        for _ in range(adtl_vertices):\n",
    "            add_attr_graph_vtx(G)\n",
    "            calc_edges(G)\n",
    "            simul_random_walk(G)\n",
    "            for v in [ v for v in G.vertices if v.degree == 0 ]:\n",
    "                attr_util.indep_context_proposal(G, v)\n",
    "        if util.is_connected(G):\n",
    "            conn_count += 1\n",
    "    data.append((n, conn_count / trial_count))\n",
    "\n",
    "x_vals, y_vals = zip(*data)\n",
    "plt.plot(x_vals, y_vals)"
   ]
  },
  {
   "cell_type": "code",
   "execution_count": null,
   "metadata": {},
   "outputs": [],
   "source": []
  }
 ],
 "metadata": {
  "kernelspec": {
   "display_name": "Python 3",
   "language": "python",
   "name": "python3"
  },
  "language_info": {
   "codemirror_mode": {
    "name": "ipython",
    "version": 3
   },
   "file_extension": ".py",
   "mimetype": "text/x-python",
   "name": "python",
   "nbconvert_exporter": "python",
   "pygments_lexer": "ipython3",
   "version": "3.6.2"
  }
 },
 "nbformat": 4,
 "nbformat_minor": 2
}
