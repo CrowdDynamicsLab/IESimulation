{
 "cells": [
  {
   "cell_type": "code",
   "execution_count": 1,
   "metadata": {},
   "outputs": [
    {
     "data": {
      "text/html": [
       "        <script type=\"text/javascript\">\n",
       "        window.PlotlyConfig = {MathJaxConfig: 'local'};\n",
       "        if (window.MathJax) {MathJax.Hub.Config({SVG: {font: \"STIX-Web\"}});}\n",
       "        if (typeof require !== 'undefined') {\n",
       "        require.undef(\"plotly\");\n",
       "        requirejs.config({\n",
       "            paths: {\n",
       "                'plotly': ['https://cdn.plot.ly/plotly-latest.min']\n",
       "            }\n",
       "        });\n",
       "        require(['plotly'], function(Plotly) {\n",
       "            window._Plotly = Plotly;\n",
       "        });\n",
       "        }\n",
       "        </script>\n",
       "        "
      ]
     },
     "metadata": {},
     "output_type": "display_data"
    }
   ],
   "source": [
    "import json\n",
    "from collections import defaultdict\n",
    "\n",
    "from plotly.offline import init_notebook_mode, iplot\n",
    "from IPython.display import display, clear_output\n",
    "import ipywidgets as widgets\n",
    "import plotly.graph_objs as go\n",
    "import plotly\n",
    "import numpy as np\n",
    "import numpy.linalg as nla\n",
    "\n",
    "import sim_lib.util as util\n",
    "\n",
    "init_notebook_mode(connected=True)"
   ]
  },
  {
   "cell_type": "code",
   "execution_count": 2,
   "metadata": {},
   "outputs": [],
   "source": [
    "ntwk_data = {}\n",
    "with open('ntwk_data/ntwk_data.json', 'r') as ntd:\n",
    "    ntwk_data = json.loads(ntd.read())"
   ]
  },
  {
   "cell_type": "code",
   "execution_count": 9,
   "metadata": {},
   "outputs": [],
   "source": [
    "class NtwkCompVis:\n",
    "    def __init__(self, data):\n",
    "        \n",
    "        self.data = data\n",
    "\n",
    "        r_vals = list(self.data.keys())\n",
    "        p_vals = list(self.data[r_vals[0]].keys())\n",
    "        \n",
    "        # Welfare by p\n",
    "        self.by_p_header = widgets.HTML(\n",
    "                            value=\"<b>Average welfare by p</b>\",\n",
    "                            placeholder='Some HTML',\n",
    "                            description='')\n",
    "        self.by_p_r = widgets.SelectMultiple(\n",
    "                                    options=r_vals,\n",
    "                                    description='Resources per vertex',\n",
    "                                    disabled=False)\n",
    "        \n",
    "        # Welfare by epoch\n",
    "        self.by_epoch_header = widgets.HTML(\n",
    "                            value=\"<b>Average welfare by epoch</b>\",\n",
    "                            placeholder='Some HTML',\n",
    "                            description='')\n",
    "        self.by_epoch_p = widgets.SelectMultiple(\n",
    "                                    options=p_vals,\n",
    "                                    description='Prob info trans',\n",
    "                                    disabled=False)\n",
    "        self.by_epoch_r = widgets.Select(\n",
    "                                    options=r_vals,\n",
    "                                    description='Resources per vertex',\n",
    "                                    disabled=False)\n",
    "\n",
    "        # Degree vs util transfer\n",
    "        self.degree_tf_header = widgets.HTML(\n",
    "                            value=\"<b>Utility transfered by degree</b>\",\n",
    "                            placeholder='Some HTML',\n",
    "                            description='')\n",
    "        self.degree_tf_p = widgets.Select(\n",
    "                                    options=p_vals,\n",
    "                                    description='Prob info trans',\n",
    "                                    disabled=False)\n",
    "        self.degree_tf_r = widgets.Select(\n",
    "                                    options=r_vals,\n",
    "                                    description='Resources per vertex',\n",
    "                                    disabled=False)\n",
    "        \n",
    "        # Gain per interaction initiated\n",
    "        self.int_gain_header = widgets.HTML(\n",
    "                            value=\"<b>Gain / Interactions Initiated</b>\",\n",
    "                            placeholder='Some HTML',\n",
    "                            description='')\n",
    "        self.int_gain_r = widgets.SelectMultiple(\n",
    "                                    options=r_vals,\n",
    "                                    description='Resources per vertex',\n",
    "                                    disabled=False)\n",
    "        \n",
    "        self.general_header = widgets.HTML(\n",
    "                            value=\"<b>General settings</b>\",\n",
    "                            placeholder='Some HTML',\n",
    "                            description='')\n",
    "        self.ntwk_types = widgets.SelectMultiple(\n",
    "                                    options=['rl', 'ws', 'er', 'cm', 'kg'],\n",
    "                                    description='Network type',\n",
    "                                    disabled=False)\n",
    "        self.plot_selection = widgets.SelectMultiple(\n",
    "                                    options=['by_p', 'by_epoch', 'gain', 'degree_tf'],\n",
    "                                    description='Plots to render',\n",
    "                                    disabled=False)\n",
    "\n",
    "        # Update button\n",
    "        self.plot_button = widgets.Button(\n",
    "                                    description='Plot',\n",
    "                                    disabled=False,\n",
    "                                    button_style='',\n",
    "                                    tooltip='Plots by selected parameters')\n",
    "        self.plot_button.on_click(self.plot)\n",
    "        \n",
    "        self.visuals = [self.by_p_header, self.by_p_r,\n",
    "                        self.by_epoch_header, self.by_epoch_p, self.by_epoch_r,\n",
    "                        self.int_gain_header, self.int_gain_r,\n",
    "                        self.degree_tf_header, self.degree_tf_p, self.degree_tf_r,\n",
    "                        self.general_header, self.ntwk_types, self.plot_selection,\n",
    "                        self.plot_button]\n",
    "        \n",
    "        self.render_visuals()\n",
    "        \n",
    "    def render_visuals(self):\n",
    "\n",
    "        # Render widgets\n",
    "        for vis in self.visuals:\n",
    "            display(vis)\n",
    "\n",
    "    def plot(self, button):\n",
    "        \n",
    "        # Reset widgets\n",
    "        clear_output()\n",
    "        self.render_visuals()\n",
    "        \n",
    "        by_p_r = self.by_p_r.value\n",
    "        \n",
    "        by_epoch_p = self.by_epoch_p.value\n",
    "        by_epoch_r = self.by_epoch_r.value\n",
    "        \n",
    "        int_gain_r = self.int_gain_r.value\n",
    "        \n",
    "        degree_tf_p = self.degree_tf_p.value\n",
    "        degree_tf_r = self.degree_tf_r.value\n",
    "        \n",
    "        ntwk_types = self.ntwk_types.value\n",
    "        plots = self.plot_selection.value\n",
    "        \n",
    "        by_p = {}\n",
    "        by_epoch = {}\n",
    "        by_gain = {}\n",
    "        degree_tf = {}\n",
    "        \n",
    "        for ntwk in ntwk_types:\n",
    "            # plot by p\n",
    "            if 'by_p' in plots:\n",
    "                by_p_uts = self.plot_by_p(self.data, by_p_r, ntwk)\n",
    "                by_p[ntwk] = by_p_uts\n",
    "            \n",
    "            # plot by epoch\n",
    "            if 'by_epoch' in plots:\n",
    "                by_epoch_uts = self.plot_by_epoch(self.data, by_epoch_r, by_epoch_p, ntwk)\n",
    "                by_epoch[ntwk] = by_epoch_uts\n",
    "            \n",
    "            # plot by interactions initiated over actual path length\n",
    "            if 'gain' in plots:\n",
    "                gain_ratios = self.plot_int_gain_ratios(self.data, int_gain_r, ntwk)\n",
    "                by_gain[ntwk] = gain_ratios\n",
    "                \n",
    "            if 'degree_tf' in plots:\n",
    "                degree_transfers = self.plot_degree_tf(self.data, degree_tf_p, degree_tf_r, ntwk)\n",
    "                degree_tf[ntwk] = degree_transfers\n",
    "                \n",
    "        #Create chart comparing all network types\n",
    "        if 'by_p' in plots and len(ntwk_types) > 1:\n",
    "            self.render_plot_by_p(by_p)\n",
    "        if 'by_epoch' in plots and len(ntwk_types) > 1:\n",
    "            self.render_plot_by_epoch(by_epoch, by_epoch_r)\n",
    "        if 'gain' in plots and len(ntwk_types) > 1:\n",
    "            self.render_plot_int_gain_ratios(by_gain)\n",
    "        if 'degree_tf' in plots and len(ntwk_types) > 1:\n",
    "            self.render_plot_degree_tf(degree_tf, degree_tf_p, degree_tf_r)\n",
    "            \n",
    "    def plot_by_p(self, data, by_p_r, ntwk):\n",
    "        by_p_utils = []\n",
    "        for r in by_p_r:\n",
    "            r_utils = []\n",
    "            for p, p_data in data[r].items():\n",
    "                r_utils.append((p, [ sum(uts[-1]) / len(uts[-1])\n",
    "                                    for uts in p_data['utils'][ntwk] ]))\n",
    "            by_p_utils.append((r, r_utils))\n",
    "\n",
    "        self.render_plot_by_p({ntwk : by_p_utils})\n",
    "        return by_p_utils\n",
    "        \n",
    "    def render_plot_by_p(self, plot_data):        \n",
    "        fig = go.Figure()\n",
    "\n",
    "        colors = plotly.colors.DEFAULT_PLOTLY_COLORS\n",
    "        \n",
    "        comparison = (len(plot_data) > 1)\n",
    "        \n",
    "        i_idx = 0\n",
    "        for ntwk, utils in plot_data.items():\n",
    "            for j_idx, r_data in enumerate(utils):\n",
    "                color = colors[(i_idx + j_idx) % len(colors)]\n",
    "\n",
    "                r_val, r_utils = r_data\n",
    "\n",
    "                #Add averages trace\n",
    "                p_vals = [ p for (p, uts) in r_utils ]\n",
    "                ut_vals = [ np.average(uts) for (p, uts) in r_utils ]\n",
    "\n",
    "                #Error bars\n",
    "                std_vals = [ np.std(uts) for (p, uts) in r_utils ]\n",
    "\n",
    "                ntwk_name = f' ntwk={ntwk}' if comparison else ''\n",
    "                fig.add_trace(go.Scatter(x=p_vals,\n",
    "                    y=ut_vals, mode='lines+markers', hoverinfo='skip',\n",
    "                    name=f'avg social welfare rate (r={r_val}{ntwk_name})', marker=dict(color=color),\n",
    "                    error_y=dict(type='data', array=std_vals, visible=True)))\n",
    "\n",
    "                #Add individual points trace\n",
    "                indiv_p_vals = []\n",
    "                indiv_ut_vals = []\n",
    "                for (p, uts) in r_utils:\n",
    "                    indiv_ut_vals.extend(uts)\n",
    "                    indiv_p_vals.extend([p] * len(uts))\n",
    "                fig.add_trace(go.Scatter(x=indiv_p_vals,\n",
    "                    y=indiv_ut_vals, mode='markers', hoverinfo='skip', opacity=0.3,\n",
    "                    marker=dict(color=color), name=f'social welfare per iter (r={r_val}{ntwk_name})'))\n",
    "            i_idx += 1\n",
    "\n",
    "        fig.layout.update(showlegend=False)\n",
    "        ntwk_name = 'Comparison'\n",
    "        if not comparison:\n",
    "            ntwk_name = list(plot_data.keys())[0]\n",
    "        plot_title = f'Average Social Welfare vs p ({ntwk_name})'\n",
    "        fig.layout.update(title=plot_title, showlegend=True,\n",
    "            xaxis=dict(title='p'), yaxis=dict(title='avg social welfare'),\n",
    "            plot_bgcolor='rgba(0,0,0,0)')\n",
    "\n",
    "        iplot(fig)\n",
    "        \n",
    "    def plot_by_epoch(self, data, by_epoch_r, by_epoch_p, ntwk):\n",
    "        by_epoch_utils = []\n",
    "        epoch_r_data = data[by_epoch_r]\n",
    "        for p in by_epoch_p:\n",
    "            p_utils = []\n",
    "            epoch_p_utils = epoch_r_data[p]['utils'][ntwk]\n",
    "            for it_uts in epoch_p_utils:\n",
    "                p_utils.append([(ep, sum(ep_uts) / len(ep_uts)) for ep, ep_uts in enumerate(it_uts)])\n",
    "            by_epoch_utils.append((p, p_utils))\n",
    "\n",
    "        self.render_plot_by_epoch({ntwk : by_epoch_utils}, by_epoch_r)\n",
    "        return by_epoch_utils\n",
    "            \n",
    "    def render_plot_by_epoch(self, plot_data, r_val):\n",
    "        fig = go.Figure()\n",
    "\n",
    "        colors = plotly.colors.DEFAULT_PLOTLY_COLORS\n",
    "        \n",
    "        comparison = (len(plot_data) > 1)\n",
    "        \n",
    "        i_idx = 0\n",
    "        for ntwk, utils in plot_data.items():\n",
    "            for j_idx, p_data in enumerate(utils):\n",
    "                color = colors[(i_idx + j_idx)  % len(colors)]\n",
    "\n",
    "                p_val, p_utils = p_data\n",
    "\n",
    "                #Add averages trace\n",
    "                ep_uts = defaultdict(lambda : [])\n",
    "                for ut_per_ep in p_utils:\n",
    "                    for (ep, ut) in ut_per_ep:\n",
    "                        ep_uts[ep].append(ut)\n",
    "\n",
    "                ep_vals = sorted(list(ep_uts.keys()))\n",
    "                ut_vals = [ np.average(ep_uts[ep]) for ep in ep_vals ]\n",
    "                std_vals = [ np.std(ep_uts[ep]) for ep in ep_vals ]\n",
    "                \n",
    "                ntwk_name = f' ntwk={ntwk}' if comparison else ''\n",
    "                fig.add_trace(go.Scatter(x=ep_vals,\n",
    "                    y=ut_vals, mode='lines+markers', hoverinfo='skip',\n",
    "                    name=f'avg social welfare rate (p={p_val}{ntwk_name})', marker=dict(color=color),\n",
    "                    error_y=dict(type='data', array=std_vals, visible=True)))\n",
    "\n",
    "                #Add individual points trace\n",
    "                indiv_ep_vals = []\n",
    "                indiv_ut_vals = []\n",
    "                for ep in ep_vals:\n",
    "                    uts = ep_uts[ep]\n",
    "                    indiv_ut_vals.extend(uts)\n",
    "                    indiv_ep_vals.extend([ep] * len(uts))\n",
    "                fig.add_trace(go.Scatter(x=indiv_ep_vals,\n",
    "                    y=indiv_ut_vals, mode='markers', hoverinfo='skip', opacity=0.3,\n",
    "                    marker=dict(color=color), name=f'social welfare per iter (p={p_val}{ntwk_name})'))\n",
    "            i_idx += 1\n",
    "\n",
    "        fig.layout.update(showlegend=False)\n",
    "        ntwk_name = 'Comparison'\n",
    "        if not comparison:\n",
    "            ntwk_name = list(plot_data.keys())[0]\n",
    "        plot_title = f\"Average Social Welfare vs Epoch # (r={r_val} {ntwk_name})\"\n",
    "        fig.layout.update(title=plot_title, showlegend=True,\n",
    "            xaxis=dict(title='Epoch #'), yaxis=dict(title='avg social welfare'),\n",
    "            plot_bgcolor='rgba(0,0,0,0)')\n",
    "        fig.update_xaxes(range=[0, int(r_val) // 2])\n",
    "\n",
    "        iplot(fig)\n",
    "        \n",
    "    def plot_int_gain_ratios(self, data, int_gain_r, ntwk):\n",
    "        int_gain_ratios = []\n",
    "        for r in int_gain_r:\n",
    "            r_ratios = []\n",
    "            for p, p_data in data[r].items():\n",
    "                p_ratios = []\n",
    "                ser_graphs = data[r][p]['graphs'][ntwk] \n",
    "                for idx, fsg in enumerate(ser_graphs):\n",
    "                    isg = data[r][p]['init_graphs'][ntwk][idx]\n",
    "                    init_g = util.json_to_graph(isg)\n",
    "                    final_g = util.json_to_graph(fsg)\n",
    "                    init_uts = { v.vnum : v.utility for v in init_g.vertices }\n",
    "                    final_uts = { v.vnum : v.utility for v in final_g.vertices }\n",
    "                    init_prov = { v.vnum : v.provider for v in init_g.vertices }\n",
    "                    final_prov = { v.vnum : v.provider for v in final_g.vertices }\n",
    "                    ratios = []\n",
    "                    for v in final_g.vertices:\n",
    "                        gain = final_uts[v.vnum] - init_uts[v.vnum]\n",
    "                        if v.init_ints == 0 or gain == 0:\n",
    "                            continue\n",
    "                        ratios.append(gain / v.init_ints)\n",
    "                    p_ratios.append(np.average(ratios))\n",
    "                r_ratios.append((p, p_ratios))\n",
    "            int_gain_ratios.append((r, r_ratios))\n",
    "\n",
    "        self.render_plot_int_gain_ratios({ntwk : int_gain_ratios})\n",
    "        return int_gain_ratios\n",
    "        \n",
    "    def render_plot_int_gain_ratios(self, plot_data):\n",
    "        fig = go.Figure()\n",
    "\n",
    "        colors = plotly.colors.DEFAULT_PLOTLY_COLORS\n",
    "        \n",
    "        comparison = (len(plot_data) > 1)\n",
    "        \n",
    "        i_idx = 0\n",
    "        for ntwk, ratios in plot_data.items():\n",
    "            for j_idx, r_data in enumerate(ratios):\n",
    "                color = colors[(i_idx + j_idx) % len(colors)]\n",
    "\n",
    "                r_val, r_ratios = r_data\n",
    "\n",
    "                #Add averages trace\n",
    "                p_vals = [ p for (p, ratios) in r_ratios ]\n",
    "                ratio_vals = [ np.average(ratios) for (p, ratios) in r_ratios ]\n",
    "\n",
    "                #Error bars\n",
    "                std_vals = [ np.std(ratios) for (p, ratios) in r_ratios ]\n",
    "\n",
    "                ntwk_name = f' ntwk={ntwk}' if comparison else ''\n",
    "                fig.add_trace(go.Scatter(x=p_vals,\n",
    "                    y=ratio_vals, mode='lines+markers', hoverinfo='skip',\n",
    "                    name=f'Gain / Interactions initiated (r={r_val}{ntwk_name})', marker=dict(color=color),\n",
    "                    error_y=dict(type='data', array=std_vals, visible=True)))\n",
    "\n",
    "                #Add individual points trace\n",
    "                indiv_p_vals = []\n",
    "                indiv_ratio_vals = []\n",
    "                for (p, ratios) in r_ratios:\n",
    "                    indiv_ratio_vals.extend(ratios)\n",
    "                    indiv_p_vals.extend([p] * len(ratios))\n",
    "                fig.add_trace(go.Scatter(x=indiv_p_vals,\n",
    "                    y=indiv_ratio_vals, mode='markers', hoverinfo='skip', opacity=0.3,\n",
    "                    marker=dict(color=color), name=f'ratio per iter (r={r_val}{ntwk_name})'))\n",
    "            i_idx += 1\n",
    "\n",
    "        fig.layout.update(showlegend=False)\n",
    "        ntwk_name = 'Comparison'\n",
    "        if not comparison:\n",
    "            ntwk_name = list(plot_data.keys())[0]\n",
    "        plot_title = f\"Gain / Interactions initiated vs p ({ntwk_name})\"\n",
    "        fig.layout.update(title=plot_title, showlegend=True,\n",
    "            xaxis=dict(title='p'), yaxis=dict(title='gain / interactions initiated'),\n",
    "            plot_bgcolor='rgba(0,0,0,0)')\n",
    "\n",
    "        iplot(fig)\n",
    "        \n",
    "    def plot_degree_tf(self, data, degree_tf_p, degree_tf_r, ntwk):\n",
    "        in_transfers = [] # gains\n",
    "        out_transfers = []\n",
    "        sim_data = data[degree_tf_r][degree_tf_p]\n",
    "        \n",
    "        for idx, fsg in enumerate(sim_data['graphs'][ntwk]):\n",
    "            \n",
    "            # Add dicts for mapping degree : transfer lists\n",
    "            in_transfers.append(defaultdict(lambda : []))\n",
    "            out_transfers.append(defaultdict(lambda : []))\n",
    "            \n",
    "            isg = sim_data['init_graphs'][ntwk][idx]\n",
    "            init_g = util.json_to_graph(isg)\n",
    "            final_g = util.json_to_graph(fsg)\n",
    "            init_uts = { v.vnum : v.utility for v in init_g.vertices }\n",
    "            final_uts = { v.vnum : v.utility for v in final_g.vertices }\n",
    "            init_prov = { v.vnum : v.provider for v in init_g.vertices }\n",
    "            final_prov = { v.vnum : v.provider for v in final_g.vertices }\n",
    "            for v in final_g.vertices:\n",
    "                gain = final_uts[v.vnum] - init_uts[v.vnum]\n",
    "                if v.init_ints == 0 or gain == 0:\n",
    "                    continue\n",
    "                in_transfers[idx][v.degree].append(gain)\n",
    "                \n",
    "            # Neighborhoods don't change now so construct static from init graph\n",
    "            nbor_map = { v.vnum : [ nbor.vnum for nbor in v.nbors ] for v in init_g.vertices }\n",
    "            vnum_map = { v.vnum : v for v in init_g.vertices }\n",
    "            \n",
    "            iter_out_tfs = defaultdict(lambda : 0)\n",
    "            ut_map = sim_data['maps'][ntwk][idx]\n",
    "            \n",
    "            for vtx in ut_map: # Uses vnum to represent vtx\n",
    "                nbors = nbor_map[int(vtx)]\n",
    "                vtx_out_tfs = 0\n",
    "                for nbor in nbors:\n",
    "                    nbor = str(nbor)\n",
    "                    if len(ut_map[nbor]['from']) < 2: # no gains in util\n",
    "                        continue\n",
    "                        \n",
    "                    if ut_map[nbor]['from'][-2] != int(vtx):\n",
    "                        continue\n",
    "                    nbor_cur_ut = ut_map[nbor]['ut']\n",
    "                    nbor_prev_ut = init_uts[int(nbor)]\n",
    "                    vtx_out_tfs += (nbor_cur_ut - nbor_prev_ut)\n",
    "                iter_out_tfs[vtx] += vtx_out_tfs\n",
    "                \n",
    "            for vtx, tfs in iter_out_tfs.items():\n",
    "                out_transfers[idx][vnum_map[int(vtx)].degree].append(tfs)\n",
    "                \n",
    "        for itf_dict in in_transfers:\n",
    "            for deg, tfs in itf_dict.items():\n",
    "                itf_dict[deg] = np.average(tfs)\n",
    "        for otf_dict in out_transfers:\n",
    "            for deg, tfs in otf_dict.items():\n",
    "                otf_dict[deg] = np.average(tfs)\n",
    "\n",
    "        self.render_plot_degree_tf({ntwk : (in_transfers, out_transfers)}, degree_tf_p, degree_tf_r)\n",
    "        return (in_transfers, out_transfers)\n",
    "    \n",
    "    def render_plot_degree_tf(self, plot_data, p_val, r_val):\n",
    "        fig = go.Figure()\n",
    "\n",
    "        colors = plotly.colors.DEFAULT_PLOTLY_COLORS\n",
    "        \n",
    "        comparison = (len(plot_data) > 1)\n",
    "        \n",
    "        i_idx = 0\n",
    "        for ntwk, transfers in plot_data.items():\n",
    "            in_color = colors[(i_idx) % len(colors)]\n",
    "            out_color = colors[(i_idx + 1) % len(colors)]\n",
    "\n",
    "            in_tfs, out_tfs = transfers\n",
    "\n",
    "            for direction, color, tfs in [('In', in_color, in_tfs), ('Out', out_color, out_tfs)]:\n",
    "                tf_degs = np.array([ list(tf.keys()) for tf in tfs ])\n",
    "                tf_degs = np.unique(np.hstack(tf_degs))\n",
    "\n",
    "                tf_full = defaultdict(lambda : []) # Map of all degrees to all transfers\n",
    "                for tf_dict in tfs:\n",
    "                    for deg, tf_val in tf_dict.items():\n",
    "                        tf_full[deg].append(tf_val)\n",
    "\n",
    "                tf_avgs = [ np.average(tf_full[deg]) for deg in tf_degs ]\n",
    "                #Error bars\n",
    "                tf_std_vals = [ np.std(tf_vals) for (deg, tf_vals) in tf_full.items() ]\n",
    "\n",
    "                ntwk_name = f' ntwk={ntwk}' if comparison else ''\n",
    "                fig.add_trace(go.Scatter(x=tf_degs,\n",
    "                    y=tf_avgs, mode='lines+markers', hoverinfo='skip',\n",
    "                    name=f'{direction} transfers (r={r_val}{ntwk_name})', marker=dict(color=color),\n",
    "                    error_y=dict(type='data', array=tf_std_vals, visible=True)))\n",
    "\n",
    "                #Add individual points trace\n",
    "                indiv_tf_degs = []\n",
    "                indiv_tf_vals = []\n",
    "                for (deg, tf_vals) in tf_full.items():\n",
    "                    indiv_tf_vals.extend(tf_vals)\n",
    "                    indiv_tf_degs.extend([deg] * len(tf_vals))\n",
    "                fig.add_trace(go.Scatter(x=indiv_tf_degs,\n",
    "                    y=indiv_tf_vals, mode='markers', hoverinfo='skip', opacity=0.3,\n",
    "                    marker=dict(color=color), name=f'{direction} transfers per iter (r={r_val}{ntwk_name})'))\n",
    "            i_idx += 2\n",
    "\n",
    "        fig.layout.update(showlegend=False)\n",
    "        ntwk_name = 'Comparison'\n",
    "        if not comparison:\n",
    "            ntwk_name = list(plot_data.keys())[0]\n",
    "        plot_title = f\"Degree vs Utility transfers ({ntwk_name})\"\n",
    "        fig.layout.update(title=plot_title, showlegend=True,\n",
    "            xaxis=dict(title='degree'), yaxis=dict(title='utility transfered'),\n",
    "            plot_bgcolor='rgba(0,0,0,0)')\n",
    "\n",
    "        iplot(fig)"
   ]
  },
  {
   "cell_type": "code",
   "execution_count": 10,
   "metadata": {
    "scrolled": false
   },
   "outputs": [
    {
     "data": {
      "application/vnd.jupyter.widget-view+json": {
       "model_id": "886bec367225466eb00f2c800ea16308",
       "version_major": 2,
       "version_minor": 0
      },
      "text/plain": [
       "HTML(value='<b>Average welfare by p</b>', placeholder='Some HTML')"
      ]
     },
     "metadata": {},
     "output_type": "display_data"
    },
    {
     "data": {
      "application/vnd.jupyter.widget-view+json": {
       "model_id": "a2e5c619dc8040df985e8b0423f52d43",
       "version_major": 2,
       "version_minor": 0
      },
      "text/plain": [
       "SelectMultiple(description='Resources per vertex', options=('128', '64', '32', '16', '8', '4', '2'), value=())"
      ]
     },
     "metadata": {},
     "output_type": "display_data"
    },
    {
     "data": {
      "application/vnd.jupyter.widget-view+json": {
       "model_id": "924d5c36821646418580e9d54fe723df",
       "version_major": 2,
       "version_minor": 0
      },
      "text/plain": [
       "HTML(value='<b>Average welfare by epoch</b>', placeholder='Some HTML')"
      ]
     },
     "metadata": {},
     "output_type": "display_data"
    },
    {
     "data": {
      "application/vnd.jupyter.widget-view+json": {
       "model_id": "e4e7582889cd40a8b6c618377bc2fe29",
       "version_major": 2,
       "version_minor": 0
      },
      "text/plain": [
       "SelectMultiple(description='Prob info trans', options=('1.0', '0.9', '0.8', '0.7', '0.6', '0.5', '0.4', '0.3',…"
      ]
     },
     "metadata": {},
     "output_type": "display_data"
    },
    {
     "data": {
      "application/vnd.jupyter.widget-view+json": {
       "model_id": "8e93dcac5c2a4263a2fefc0ba205c69c",
       "version_major": 2,
       "version_minor": 0
      },
      "text/plain": [
       "Select(description='Resources per vertex', options=('128', '64', '32', '16', '8', '4', '2'), value='128')"
      ]
     },
     "metadata": {},
     "output_type": "display_data"
    },
    {
     "data": {
      "application/vnd.jupyter.widget-view+json": {
       "model_id": "c2302e3beac1400cb1014fcadd081bb2",
       "version_major": 2,
       "version_minor": 0
      },
      "text/plain": [
       "HTML(value='<b>Gain / Interactions Initiated</b>', placeholder='Some HTML')"
      ]
     },
     "metadata": {},
     "output_type": "display_data"
    },
    {
     "data": {
      "application/vnd.jupyter.widget-view+json": {
       "model_id": "9b6b68f1caf542c59a5fee8aa25a8335",
       "version_major": 2,
       "version_minor": 0
      },
      "text/plain": [
       "SelectMultiple(description='Resources per vertex', options=('128', '64', '32', '16', '8', '4', '2'), value=())"
      ]
     },
     "metadata": {},
     "output_type": "display_data"
    },
    {
     "data": {
      "application/vnd.jupyter.widget-view+json": {
       "model_id": "49b9956d8a5544829e46b26666d2acc0",
       "version_major": 2,
       "version_minor": 0
      },
      "text/plain": [
       "HTML(value='<b>Utility transfered by degree</b>', placeholder='Some HTML')"
      ]
     },
     "metadata": {},
     "output_type": "display_data"
    },
    {
     "data": {
      "application/vnd.jupyter.widget-view+json": {
       "model_id": "05a5e8e86a0c4bdc8474452e3a3ce74f",
       "version_major": 2,
       "version_minor": 0
      },
      "text/plain": [
       "Select(description='Prob info trans', index=8, options=('1.0', '0.9', '0.8', '0.7', '0.6', '0.5', '0.4', '0.3'…"
      ]
     },
     "metadata": {},
     "output_type": "display_data"
    },
    {
     "data": {
      "application/vnd.jupyter.widget-view+json": {
       "model_id": "9dcbe7d78c264a61b7a2f49fe794203b",
       "version_major": 2,
       "version_minor": 0
      },
      "text/plain": [
       "Select(description='Resources per vertex', index=4, options=('128', '64', '32', '16', '8', '4', '2'), value='8…"
      ]
     },
     "metadata": {},
     "output_type": "display_data"
    },
    {
     "data": {
      "application/vnd.jupyter.widget-view+json": {
       "model_id": "a3203237ab6c4cb595a69ac41f3ace2a",
       "version_major": 2,
       "version_minor": 0
      },
      "text/plain": [
       "HTML(value='<b>General settings</b>', placeholder='Some HTML')"
      ]
     },
     "metadata": {},
     "output_type": "display_data"
    },
    {
     "data": {
      "application/vnd.jupyter.widget-view+json": {
       "model_id": "4f841d0498cc4cf28c8be69b58297266",
       "version_major": 2,
       "version_minor": 0
      },
      "text/plain": [
       "SelectMultiple(description='Network type', index=(0, 1, 2, 3, 4), options=('rl', 'ws', 'er', 'cm', 'kg'), valu…"
      ]
     },
     "metadata": {},
     "output_type": "display_data"
    },
    {
     "data": {
      "application/vnd.jupyter.widget-view+json": {
       "model_id": "26f967d5afc24b449c5f9c7265df21c1",
       "version_major": 2,
       "version_minor": 0
      },
      "text/plain": [
       "SelectMultiple(description='Plots to render', index=(3,), options=('by_p', 'by_epoch', 'gain', 'degree_tf'), v…"
      ]
     },
     "metadata": {},
     "output_type": "display_data"
    },
    {
     "data": {
      "application/vnd.jupyter.widget-view+json": {
       "model_id": "107552bb249f41a6b425a971dc637d07",
       "version_major": 2,
       "version_minor": 0
      },
      "text/plain": [
       "Button(description='Plot', style=ButtonStyle(), tooltip='Plots by selected parameters')"
      ]
     },
     "metadata": {},
     "output_type": "display_data"
    },
    {
     "data": {
      "application/vnd.plotly.v1+json": {
       "config": {
        "linkText": "Export to plot.ly",
        "plotlyServerURL": "https://plot.ly",
        "showLink": false
       },
       "data": [
        {
         "error_y": {
          "array": [
           0.02701754109722525
          ],
          "type": "data",
          "visible": true
         },
         "hoverinfo": "skip",
         "marker": {
          "color": "rgb(31, 119, 180)"
         },
         "mode": "lines+markers",
         "name": "In transfers (r=8)",
         "type": "scatter",
         "x": [
          5
         ],
         "y": [
          0.4661382126897527
         ]
        },
        {
         "hoverinfo": "skip",
         "marker": {
          "color": "rgb(31, 119, 180)"
         },
         "mode": "markers",
         "name": "In transfers per iter (r=8)",
         "opacity": 0.3,
         "type": "scatter",
         "x": [
          5,
          5,
          5,
          5,
          5,
          5,
          5,
          5,
          5,
          5
         ],
         "y": [
          0.4236111111111111,
          0.513888888888889,
          0.4486373165618448,
          0.47165532879818595,
          0.4383838383838383,
          0.4842767295597484,
          0.4828282828282829,
          0.49588477366255146,
          0.44217687074829926,
          0.4600389863547758
         ]
        },
        {
         "error_y": {
          "array": [
           0.020325742359607338
          ],
          "type": "data",
          "visible": true
         },
         "hoverinfo": "skip",
         "marker": {
          "color": "rgb(255, 127, 14)"
         },
         "mode": "lines+markers",
         "name": "Out transfers (r=8)",
         "type": "scatter",
         "x": [
          5
         ],
         "y": [
          0.24288888888888888
         ]
        },
        {
         "hoverinfo": "skip",
         "marker": {
          "color": "rgb(255, 127, 14)"
         },
         "mode": "markers",
         "name": "Out transfers per iter (r=8)",
         "opacity": 0.3,
         "type": "scatter",
         "x": [
          5,
          5,
          5,
          5,
          5,
          5,
          5,
          5,
          5,
          5
         ],
         "y": [
          0.2033333333333333,
          0.24666666666666667,
          0.23777777777777778,
          0.2311111111111111,
          0.2411111111111111,
          0.25666666666666665,
          0.26555555555555554,
          0.2677777777777778,
          0.21666666666666665,
          0.26222222222222225
         ]
        }
       ],
       "layout": {
        "plot_bgcolor": "rgba(0,0,0,0)",
        "showlegend": true,
        "template": {
         "data": {
          "bar": [
           {
            "error_x": {
             "color": "#2a3f5f"
            },
            "error_y": {
             "color": "#2a3f5f"
            },
            "marker": {
             "line": {
              "color": "#E5ECF6",
              "width": 0.5
             }
            },
            "type": "bar"
           }
          ],
          "barpolar": [
           {
            "marker": {
             "line": {
              "color": "#E5ECF6",
              "width": 0.5
             }
            },
            "type": "barpolar"
           }
          ],
          "carpet": [
           {
            "aaxis": {
             "endlinecolor": "#2a3f5f",
             "gridcolor": "white",
             "linecolor": "white",
             "minorgridcolor": "white",
             "startlinecolor": "#2a3f5f"
            },
            "baxis": {
             "endlinecolor": "#2a3f5f",
             "gridcolor": "white",
             "linecolor": "white",
             "minorgridcolor": "white",
             "startlinecolor": "#2a3f5f"
            },
            "type": "carpet"
           }
          ],
          "choropleth": [
           {
            "colorbar": {
             "outlinewidth": 0,
             "ticks": ""
            },
            "type": "choropleth"
           }
          ],
          "contour": [
           {
            "colorbar": {
             "outlinewidth": 0,
             "ticks": ""
            },
            "colorscale": [
             [
              0,
              "#0d0887"
             ],
             [
              0.1111111111111111,
              "#46039f"
             ],
             [
              0.2222222222222222,
              "#7201a8"
             ],
             [
              0.3333333333333333,
              "#9c179e"
             ],
             [
              0.4444444444444444,
              "#bd3786"
             ],
             [
              0.5555555555555556,
              "#d8576b"
             ],
             [
              0.6666666666666666,
              "#ed7953"
             ],
             [
              0.7777777777777778,
              "#fb9f3a"
             ],
             [
              0.8888888888888888,
              "#fdca26"
             ],
             [
              1,
              "#f0f921"
             ]
            ],
            "type": "contour"
           }
          ],
          "contourcarpet": [
           {
            "colorbar": {
             "outlinewidth": 0,
             "ticks": ""
            },
            "type": "contourcarpet"
           }
          ],
          "heatmap": [
           {
            "colorbar": {
             "outlinewidth": 0,
             "ticks": ""
            },
            "colorscale": [
             [
              0,
              "#0d0887"
             ],
             [
              0.1111111111111111,
              "#46039f"
             ],
             [
              0.2222222222222222,
              "#7201a8"
             ],
             [
              0.3333333333333333,
              "#9c179e"
             ],
             [
              0.4444444444444444,
              "#bd3786"
             ],
             [
              0.5555555555555556,
              "#d8576b"
             ],
             [
              0.6666666666666666,
              "#ed7953"
             ],
             [
              0.7777777777777778,
              "#fb9f3a"
             ],
             [
              0.8888888888888888,
              "#fdca26"
             ],
             [
              1,
              "#f0f921"
             ]
            ],
            "type": "heatmap"
           }
          ],
          "heatmapgl": [
           {
            "colorbar": {
             "outlinewidth": 0,
             "ticks": ""
            },
            "colorscale": [
             [
              0,
              "#0d0887"
             ],
             [
              0.1111111111111111,
              "#46039f"
             ],
             [
              0.2222222222222222,
              "#7201a8"
             ],
             [
              0.3333333333333333,
              "#9c179e"
             ],
             [
              0.4444444444444444,
              "#bd3786"
             ],
             [
              0.5555555555555556,
              "#d8576b"
             ],
             [
              0.6666666666666666,
              "#ed7953"
             ],
             [
              0.7777777777777778,
              "#fb9f3a"
             ],
             [
              0.8888888888888888,
              "#fdca26"
             ],
             [
              1,
              "#f0f921"
             ]
            ],
            "type": "heatmapgl"
           }
          ],
          "histogram": [
           {
            "marker": {
             "colorbar": {
              "outlinewidth": 0,
              "ticks": ""
             }
            },
            "type": "histogram"
           }
          ],
          "histogram2d": [
           {
            "colorbar": {
             "outlinewidth": 0,
             "ticks": ""
            },
            "colorscale": [
             [
              0,
              "#0d0887"
             ],
             [
              0.1111111111111111,
              "#46039f"
             ],
             [
              0.2222222222222222,
              "#7201a8"
             ],
             [
              0.3333333333333333,
              "#9c179e"
             ],
             [
              0.4444444444444444,
              "#bd3786"
             ],
             [
              0.5555555555555556,
              "#d8576b"
             ],
             [
              0.6666666666666666,
              "#ed7953"
             ],
             [
              0.7777777777777778,
              "#fb9f3a"
             ],
             [
              0.8888888888888888,
              "#fdca26"
             ],
             [
              1,
              "#f0f921"
             ]
            ],
            "type": "histogram2d"
           }
          ],
          "histogram2dcontour": [
           {
            "colorbar": {
             "outlinewidth": 0,
             "ticks": ""
            },
            "colorscale": [
             [
              0,
              "#0d0887"
             ],
             [
              0.1111111111111111,
              "#46039f"
             ],
             [
              0.2222222222222222,
              "#7201a8"
             ],
             [
              0.3333333333333333,
              "#9c179e"
             ],
             [
              0.4444444444444444,
              "#bd3786"
             ],
             [
              0.5555555555555556,
              "#d8576b"
             ],
             [
              0.6666666666666666,
              "#ed7953"
             ],
             [
              0.7777777777777778,
              "#fb9f3a"
             ],
             [
              0.8888888888888888,
              "#fdca26"
             ],
             [
              1,
              "#f0f921"
             ]
            ],
            "type": "histogram2dcontour"
           }
          ],
          "mesh3d": [
           {
            "colorbar": {
             "outlinewidth": 0,
             "ticks": ""
            },
            "type": "mesh3d"
           }
          ],
          "parcoords": [
           {
            "line": {
             "colorbar": {
              "outlinewidth": 0,
              "ticks": ""
             }
            },
            "type": "parcoords"
           }
          ],
          "pie": [
           {
            "automargin": true,
            "type": "pie"
           }
          ],
          "scatter": [
           {
            "marker": {
             "colorbar": {
              "outlinewidth": 0,
              "ticks": ""
             }
            },
            "type": "scatter"
           }
          ],
          "scatter3d": [
           {
            "line": {
             "colorbar": {
              "outlinewidth": 0,
              "ticks": ""
             }
            },
            "marker": {
             "colorbar": {
              "outlinewidth": 0,
              "ticks": ""
             }
            },
            "type": "scatter3d"
           }
          ],
          "scattercarpet": [
           {
            "marker": {
             "colorbar": {
              "outlinewidth": 0,
              "ticks": ""
             }
            },
            "type": "scattercarpet"
           }
          ],
          "scattergeo": [
           {
            "marker": {
             "colorbar": {
              "outlinewidth": 0,
              "ticks": ""
             }
            },
            "type": "scattergeo"
           }
          ],
          "scattergl": [
           {
            "marker": {
             "colorbar": {
              "outlinewidth": 0,
              "ticks": ""
             }
            },
            "type": "scattergl"
           }
          ],
          "scattermapbox": [
           {
            "marker": {
             "colorbar": {
              "outlinewidth": 0,
              "ticks": ""
             }
            },
            "type": "scattermapbox"
           }
          ],
          "scatterpolar": [
           {
            "marker": {
             "colorbar": {
              "outlinewidth": 0,
              "ticks": ""
             }
            },
            "type": "scatterpolar"
           }
          ],
          "scatterpolargl": [
           {
            "marker": {
             "colorbar": {
              "outlinewidth": 0,
              "ticks": ""
             }
            },
            "type": "scatterpolargl"
           }
          ],
          "scatterternary": [
           {
            "marker": {
             "colorbar": {
              "outlinewidth": 0,
              "ticks": ""
             }
            },
            "type": "scatterternary"
           }
          ],
          "surface": [
           {
            "colorbar": {
             "outlinewidth": 0,
             "ticks": ""
            },
            "colorscale": [
             [
              0,
              "#0d0887"
             ],
             [
              0.1111111111111111,
              "#46039f"
             ],
             [
              0.2222222222222222,
              "#7201a8"
             ],
             [
              0.3333333333333333,
              "#9c179e"
             ],
             [
              0.4444444444444444,
              "#bd3786"
             ],
             [
              0.5555555555555556,
              "#d8576b"
             ],
             [
              0.6666666666666666,
              "#ed7953"
             ],
             [
              0.7777777777777778,
              "#fb9f3a"
             ],
             [
              0.8888888888888888,
              "#fdca26"
             ],
             [
              1,
              "#f0f921"
             ]
            ],
            "type": "surface"
           }
          ],
          "table": [
           {
            "cells": {
             "fill": {
              "color": "#EBF0F8"
             },
             "line": {
              "color": "white"
             }
            },
            "header": {
             "fill": {
              "color": "#C8D4E3"
             },
             "line": {
              "color": "white"
             }
            },
            "type": "table"
           }
          ]
         },
         "layout": {
          "annotationdefaults": {
           "arrowcolor": "#2a3f5f",
           "arrowhead": 0,
           "arrowwidth": 1
          },
          "coloraxis": {
           "colorbar": {
            "outlinewidth": 0,
            "ticks": ""
           }
          },
          "colorscale": {
           "diverging": [
            [
             0,
             "#8e0152"
            ],
            [
             0.1,
             "#c51b7d"
            ],
            [
             0.2,
             "#de77ae"
            ],
            [
             0.3,
             "#f1b6da"
            ],
            [
             0.4,
             "#fde0ef"
            ],
            [
             0.5,
             "#f7f7f7"
            ],
            [
             0.6,
             "#e6f5d0"
            ],
            [
             0.7,
             "#b8e186"
            ],
            [
             0.8,
             "#7fbc41"
            ],
            [
             0.9,
             "#4d9221"
            ],
            [
             1,
             "#276419"
            ]
           ],
           "sequential": [
            [
             0,
             "#0d0887"
            ],
            [
             0.1111111111111111,
             "#46039f"
            ],
            [
             0.2222222222222222,
             "#7201a8"
            ],
            [
             0.3333333333333333,
             "#9c179e"
            ],
            [
             0.4444444444444444,
             "#bd3786"
            ],
            [
             0.5555555555555556,
             "#d8576b"
            ],
            [
             0.6666666666666666,
             "#ed7953"
            ],
            [
             0.7777777777777778,
             "#fb9f3a"
            ],
            [
             0.8888888888888888,
             "#fdca26"
            ],
            [
             1,
             "#f0f921"
            ]
           ],
           "sequentialminus": [
            [
             0,
             "#0d0887"
            ],
            [
             0.1111111111111111,
             "#46039f"
            ],
            [
             0.2222222222222222,
             "#7201a8"
            ],
            [
             0.3333333333333333,
             "#9c179e"
            ],
            [
             0.4444444444444444,
             "#bd3786"
            ],
            [
             0.5555555555555556,
             "#d8576b"
            ],
            [
             0.6666666666666666,
             "#ed7953"
            ],
            [
             0.7777777777777778,
             "#fb9f3a"
            ],
            [
             0.8888888888888888,
             "#fdca26"
            ],
            [
             1,
             "#f0f921"
            ]
           ]
          },
          "colorway": [
           "#636efa",
           "#EF553B",
           "#00cc96",
           "#ab63fa",
           "#FFA15A",
           "#19d3f3",
           "#FF6692",
           "#B6E880",
           "#FF97FF",
           "#FECB52"
          ],
          "font": {
           "color": "#2a3f5f"
          },
          "geo": {
           "bgcolor": "white",
           "lakecolor": "white",
           "landcolor": "#E5ECF6",
           "showlakes": true,
           "showland": true,
           "subunitcolor": "white"
          },
          "hoverlabel": {
           "align": "left"
          },
          "hovermode": "closest",
          "mapbox": {
           "style": "light"
          },
          "paper_bgcolor": "white",
          "plot_bgcolor": "#E5ECF6",
          "polar": {
           "angularaxis": {
            "gridcolor": "white",
            "linecolor": "white",
            "ticks": ""
           },
           "bgcolor": "#E5ECF6",
           "radialaxis": {
            "gridcolor": "white",
            "linecolor": "white",
            "ticks": ""
           }
          },
          "scene": {
           "xaxis": {
            "backgroundcolor": "#E5ECF6",
            "gridcolor": "white",
            "gridwidth": 2,
            "linecolor": "white",
            "showbackground": true,
            "ticks": "",
            "zerolinecolor": "white"
           },
           "yaxis": {
            "backgroundcolor": "#E5ECF6",
            "gridcolor": "white",
            "gridwidth": 2,
            "linecolor": "white",
            "showbackground": true,
            "ticks": "",
            "zerolinecolor": "white"
           },
           "zaxis": {
            "backgroundcolor": "#E5ECF6",
            "gridcolor": "white",
            "gridwidth": 2,
            "linecolor": "white",
            "showbackground": true,
            "ticks": "",
            "zerolinecolor": "white"
           }
          },
          "shapedefaults": {
           "line": {
            "color": "#2a3f5f"
           }
          },
          "ternary": {
           "aaxis": {
            "gridcolor": "white",
            "linecolor": "white",
            "ticks": ""
           },
           "baxis": {
            "gridcolor": "white",
            "linecolor": "white",
            "ticks": ""
           },
           "bgcolor": "#E5ECF6",
           "caxis": {
            "gridcolor": "white",
            "linecolor": "white",
            "ticks": ""
           }
          },
          "title": {
           "x": 0.05
          },
          "xaxis": {
           "automargin": true,
           "gridcolor": "white",
           "linecolor": "white",
           "ticks": "",
           "title": {
            "standoff": 15
           },
           "zerolinecolor": "white",
           "zerolinewidth": 2
          },
          "yaxis": {
           "automargin": true,
           "gridcolor": "white",
           "linecolor": "white",
           "ticks": "",
           "title": {
            "standoff": 15
           },
           "zerolinecolor": "white",
           "zerolinewidth": 2
          }
         }
        },
        "title": {
         "text": "Degree vs Utility transfers (rl)"
        },
        "xaxis": {
         "title": {
          "text": "degree"
         }
        },
        "yaxis": {
         "title": {
          "text": "utility transfered"
         }
        }
       }
      },
      "text/html": [
       "<div>\n",
       "        \n",
       "        \n",
       "            <div id=\"7f65bd39-ffd4-497f-8c73-cf4d3ebe47f3\" class=\"plotly-graph-div\" style=\"height:525px; width:100%;\"></div>\n",
       "            <script type=\"text/javascript\">\n",
       "                require([\"plotly\"], function(Plotly) {\n",
       "                    window.PLOTLYENV=window.PLOTLYENV || {};\n",
       "                    \n",
       "                if (document.getElementById(\"7f65bd39-ffd4-497f-8c73-cf4d3ebe47f3\")) {\n",
       "                    Plotly.newPlot(\n",
       "                        '7f65bd39-ffd4-497f-8c73-cf4d3ebe47f3',\n",
       "                        [{\"error_y\": {\"array\": [0.02701754109722525], \"type\": \"data\", \"visible\": true}, \"hoverinfo\": \"skip\", \"marker\": {\"color\": \"rgb(31, 119, 180)\"}, \"mode\": \"lines+markers\", \"name\": \"In transfers (r=8)\", \"type\": \"scatter\", \"x\": [5], \"y\": [0.4661382126897527]}, {\"hoverinfo\": \"skip\", \"marker\": {\"color\": \"rgb(31, 119, 180)\"}, \"mode\": \"markers\", \"name\": \"In transfers per iter (r=8)\", \"opacity\": 0.3, \"type\": \"scatter\", \"x\": [5, 5, 5, 5, 5, 5, 5, 5, 5, 5], \"y\": [0.4236111111111111, 0.513888888888889, 0.4486373165618448, 0.47165532879818595, 0.4383838383838383, 0.4842767295597484, 0.4828282828282829, 0.49588477366255146, 0.44217687074829926, 0.4600389863547758]}, {\"error_y\": {\"array\": [0.020325742359607338], \"type\": \"data\", \"visible\": true}, \"hoverinfo\": \"skip\", \"marker\": {\"color\": \"rgb(255, 127, 14)\"}, \"mode\": \"lines+markers\", \"name\": \"Out transfers (r=8)\", \"type\": \"scatter\", \"x\": [5], \"y\": [0.24288888888888888]}, {\"hoverinfo\": \"skip\", \"marker\": {\"color\": \"rgb(255, 127, 14)\"}, \"mode\": \"markers\", \"name\": \"Out transfers per iter (r=8)\", \"opacity\": 0.3, \"type\": \"scatter\", \"x\": [5, 5, 5, 5, 5, 5, 5, 5, 5, 5], \"y\": [0.2033333333333333, 0.24666666666666667, 0.23777777777777778, 0.2311111111111111, 0.2411111111111111, 0.25666666666666665, 0.26555555555555554, 0.2677777777777778, 0.21666666666666665, 0.26222222222222225]}],\n",
       "                        {\"plot_bgcolor\": \"rgba(0,0,0,0)\", \"showlegend\": true, \"template\": {\"data\": {\"bar\": [{\"error_x\": {\"color\": \"#2a3f5f\"}, \"error_y\": {\"color\": \"#2a3f5f\"}, \"marker\": {\"line\": {\"color\": \"#E5ECF6\", \"width\": 0.5}}, \"type\": \"bar\"}], \"barpolar\": [{\"marker\": {\"line\": {\"color\": \"#E5ECF6\", \"width\": 0.5}}, \"type\": \"barpolar\"}], \"carpet\": [{\"aaxis\": {\"endlinecolor\": \"#2a3f5f\", \"gridcolor\": \"white\", \"linecolor\": \"white\", \"minorgridcolor\": \"white\", \"startlinecolor\": \"#2a3f5f\"}, \"baxis\": {\"endlinecolor\": \"#2a3f5f\", \"gridcolor\": \"white\", \"linecolor\": \"white\", \"minorgridcolor\": \"white\", \"startlinecolor\": \"#2a3f5f\"}, \"type\": \"carpet\"}], \"choropleth\": [{\"colorbar\": {\"outlinewidth\": 0, \"ticks\": \"\"}, \"type\": \"choropleth\"}], \"contour\": [{\"colorbar\": {\"outlinewidth\": 0, \"ticks\": \"\"}, \"colorscale\": [[0.0, \"#0d0887\"], [0.1111111111111111, \"#46039f\"], [0.2222222222222222, \"#7201a8\"], [0.3333333333333333, \"#9c179e\"], [0.4444444444444444, \"#bd3786\"], [0.5555555555555556, \"#d8576b\"], [0.6666666666666666, \"#ed7953\"], [0.7777777777777778, \"#fb9f3a\"], [0.8888888888888888, \"#fdca26\"], [1.0, \"#f0f921\"]], \"type\": \"contour\"}], \"contourcarpet\": [{\"colorbar\": {\"outlinewidth\": 0, \"ticks\": \"\"}, \"type\": \"contourcarpet\"}], \"heatmap\": [{\"colorbar\": {\"outlinewidth\": 0, \"ticks\": \"\"}, \"colorscale\": [[0.0, \"#0d0887\"], [0.1111111111111111, \"#46039f\"], [0.2222222222222222, \"#7201a8\"], [0.3333333333333333, \"#9c179e\"], [0.4444444444444444, \"#bd3786\"], [0.5555555555555556, \"#d8576b\"], [0.6666666666666666, \"#ed7953\"], [0.7777777777777778, \"#fb9f3a\"], [0.8888888888888888, \"#fdca26\"], [1.0, \"#f0f921\"]], \"type\": \"heatmap\"}], \"heatmapgl\": [{\"colorbar\": {\"outlinewidth\": 0, \"ticks\": \"\"}, \"colorscale\": [[0.0, \"#0d0887\"], [0.1111111111111111, \"#46039f\"], [0.2222222222222222, \"#7201a8\"], [0.3333333333333333, \"#9c179e\"], [0.4444444444444444, \"#bd3786\"], [0.5555555555555556, \"#d8576b\"], [0.6666666666666666, \"#ed7953\"], [0.7777777777777778, \"#fb9f3a\"], [0.8888888888888888, \"#fdca26\"], [1.0, \"#f0f921\"]], \"type\": \"heatmapgl\"}], \"histogram\": [{\"marker\": {\"colorbar\": {\"outlinewidth\": 0, \"ticks\": \"\"}}, \"type\": \"histogram\"}], \"histogram2d\": [{\"colorbar\": {\"outlinewidth\": 0, \"ticks\": \"\"}, \"colorscale\": [[0.0, \"#0d0887\"], [0.1111111111111111, \"#46039f\"], [0.2222222222222222, \"#7201a8\"], [0.3333333333333333, \"#9c179e\"], [0.4444444444444444, \"#bd3786\"], [0.5555555555555556, \"#d8576b\"], [0.6666666666666666, \"#ed7953\"], [0.7777777777777778, \"#fb9f3a\"], [0.8888888888888888, \"#fdca26\"], [1.0, \"#f0f921\"]], \"type\": \"histogram2d\"}], \"histogram2dcontour\": [{\"colorbar\": {\"outlinewidth\": 0, \"ticks\": \"\"}, \"colorscale\": [[0.0, \"#0d0887\"], [0.1111111111111111, \"#46039f\"], [0.2222222222222222, \"#7201a8\"], [0.3333333333333333, \"#9c179e\"], [0.4444444444444444, \"#bd3786\"], [0.5555555555555556, \"#d8576b\"], [0.6666666666666666, \"#ed7953\"], [0.7777777777777778, \"#fb9f3a\"], [0.8888888888888888, \"#fdca26\"], [1.0, \"#f0f921\"]], \"type\": \"histogram2dcontour\"}], \"mesh3d\": [{\"colorbar\": {\"outlinewidth\": 0, \"ticks\": \"\"}, \"type\": \"mesh3d\"}], \"parcoords\": [{\"line\": {\"colorbar\": {\"outlinewidth\": 0, \"ticks\": \"\"}}, \"type\": \"parcoords\"}], \"pie\": [{\"automargin\": true, \"type\": \"pie\"}], \"scatter\": [{\"marker\": {\"colorbar\": {\"outlinewidth\": 0, \"ticks\": \"\"}}, \"type\": \"scatter\"}], \"scatter3d\": [{\"line\": {\"colorbar\": {\"outlinewidth\": 0, \"ticks\": \"\"}}, \"marker\": {\"colorbar\": {\"outlinewidth\": 0, \"ticks\": \"\"}}, \"type\": \"scatter3d\"}], \"scattercarpet\": [{\"marker\": {\"colorbar\": {\"outlinewidth\": 0, \"ticks\": \"\"}}, \"type\": \"scattercarpet\"}], \"scattergeo\": [{\"marker\": {\"colorbar\": {\"outlinewidth\": 0, \"ticks\": \"\"}}, \"type\": \"scattergeo\"}], \"scattergl\": [{\"marker\": {\"colorbar\": {\"outlinewidth\": 0, \"ticks\": \"\"}}, \"type\": \"scattergl\"}], \"scattermapbox\": [{\"marker\": {\"colorbar\": {\"outlinewidth\": 0, \"ticks\": \"\"}}, \"type\": \"scattermapbox\"}], \"scatterpolar\": [{\"marker\": {\"colorbar\": {\"outlinewidth\": 0, \"ticks\": \"\"}}, \"type\": \"scatterpolar\"}], \"scatterpolargl\": [{\"marker\": {\"colorbar\": {\"outlinewidth\": 0, \"ticks\": \"\"}}, \"type\": \"scatterpolargl\"}], \"scatterternary\": [{\"marker\": {\"colorbar\": {\"outlinewidth\": 0, \"ticks\": \"\"}}, \"type\": \"scatterternary\"}], \"surface\": [{\"colorbar\": {\"outlinewidth\": 0, \"ticks\": \"\"}, \"colorscale\": [[0.0, \"#0d0887\"], [0.1111111111111111, \"#46039f\"], [0.2222222222222222, \"#7201a8\"], [0.3333333333333333, \"#9c179e\"], [0.4444444444444444, \"#bd3786\"], [0.5555555555555556, \"#d8576b\"], [0.6666666666666666, \"#ed7953\"], [0.7777777777777778, \"#fb9f3a\"], [0.8888888888888888, \"#fdca26\"], [1.0, \"#f0f921\"]], \"type\": \"surface\"}], \"table\": [{\"cells\": {\"fill\": {\"color\": \"#EBF0F8\"}, \"line\": {\"color\": \"white\"}}, \"header\": {\"fill\": {\"color\": \"#C8D4E3\"}, \"line\": {\"color\": \"white\"}}, \"type\": \"table\"}]}, \"layout\": {\"annotationdefaults\": {\"arrowcolor\": \"#2a3f5f\", \"arrowhead\": 0, \"arrowwidth\": 1}, \"coloraxis\": {\"colorbar\": {\"outlinewidth\": 0, \"ticks\": \"\"}}, \"colorscale\": {\"diverging\": [[0, \"#8e0152\"], [0.1, \"#c51b7d\"], [0.2, \"#de77ae\"], [0.3, \"#f1b6da\"], [0.4, \"#fde0ef\"], [0.5, \"#f7f7f7\"], [0.6, \"#e6f5d0\"], [0.7, \"#b8e186\"], [0.8, \"#7fbc41\"], [0.9, \"#4d9221\"], [1, \"#276419\"]], \"sequential\": [[0.0, \"#0d0887\"], [0.1111111111111111, \"#46039f\"], [0.2222222222222222, \"#7201a8\"], [0.3333333333333333, \"#9c179e\"], [0.4444444444444444, \"#bd3786\"], [0.5555555555555556, \"#d8576b\"], [0.6666666666666666, \"#ed7953\"], [0.7777777777777778, \"#fb9f3a\"], [0.8888888888888888, \"#fdca26\"], [1.0, \"#f0f921\"]], \"sequentialminus\": [[0.0, \"#0d0887\"], [0.1111111111111111, \"#46039f\"], [0.2222222222222222, \"#7201a8\"], [0.3333333333333333, \"#9c179e\"], [0.4444444444444444, \"#bd3786\"], [0.5555555555555556, \"#d8576b\"], [0.6666666666666666, \"#ed7953\"], [0.7777777777777778, \"#fb9f3a\"], [0.8888888888888888, \"#fdca26\"], [1.0, \"#f0f921\"]]}, \"colorway\": [\"#636efa\", \"#EF553B\", \"#00cc96\", \"#ab63fa\", \"#FFA15A\", \"#19d3f3\", \"#FF6692\", \"#B6E880\", \"#FF97FF\", \"#FECB52\"], \"font\": {\"color\": \"#2a3f5f\"}, \"geo\": {\"bgcolor\": \"white\", \"lakecolor\": \"white\", \"landcolor\": \"#E5ECF6\", \"showlakes\": true, \"showland\": true, \"subunitcolor\": \"white\"}, \"hoverlabel\": {\"align\": \"left\"}, \"hovermode\": \"closest\", \"mapbox\": {\"style\": \"light\"}, \"paper_bgcolor\": \"white\", \"plot_bgcolor\": \"#E5ECF6\", \"polar\": {\"angularaxis\": {\"gridcolor\": \"white\", \"linecolor\": \"white\", \"ticks\": \"\"}, \"bgcolor\": \"#E5ECF6\", \"radialaxis\": {\"gridcolor\": \"white\", \"linecolor\": \"white\", \"ticks\": \"\"}}, \"scene\": {\"xaxis\": {\"backgroundcolor\": \"#E5ECF6\", \"gridcolor\": \"white\", \"gridwidth\": 2, \"linecolor\": \"white\", \"showbackground\": true, \"ticks\": \"\", \"zerolinecolor\": \"white\"}, \"yaxis\": {\"backgroundcolor\": \"#E5ECF6\", \"gridcolor\": \"white\", \"gridwidth\": 2, \"linecolor\": \"white\", \"showbackground\": true, \"ticks\": \"\", \"zerolinecolor\": \"white\"}, \"zaxis\": {\"backgroundcolor\": \"#E5ECF6\", \"gridcolor\": \"white\", \"gridwidth\": 2, \"linecolor\": \"white\", \"showbackground\": true, \"ticks\": \"\", \"zerolinecolor\": \"white\"}}, \"shapedefaults\": {\"line\": {\"color\": \"#2a3f5f\"}}, \"ternary\": {\"aaxis\": {\"gridcolor\": \"white\", \"linecolor\": \"white\", \"ticks\": \"\"}, \"baxis\": {\"gridcolor\": \"white\", \"linecolor\": \"white\", \"ticks\": \"\"}, \"bgcolor\": \"#E5ECF6\", \"caxis\": {\"gridcolor\": \"white\", \"linecolor\": \"white\", \"ticks\": \"\"}}, \"title\": {\"x\": 0.05}, \"xaxis\": {\"automargin\": true, \"gridcolor\": \"white\", \"linecolor\": \"white\", \"ticks\": \"\", \"title\": {\"standoff\": 15}, \"zerolinecolor\": \"white\", \"zerolinewidth\": 2}, \"yaxis\": {\"automargin\": true, \"gridcolor\": \"white\", \"linecolor\": \"white\", \"ticks\": \"\", \"title\": {\"standoff\": 15}, \"zerolinecolor\": \"white\", \"zerolinewidth\": 2}}}, \"title\": {\"text\": \"Degree vs Utility transfers (rl)\"}, \"xaxis\": {\"title\": {\"text\": \"degree\"}}, \"yaxis\": {\"title\": {\"text\": \"utility transfered\"}}},\n",
       "                        {\"responsive\": true}\n",
       "                    ).then(function(){\n",
       "                            \n",
       "var gd = document.getElementById('7f65bd39-ffd4-497f-8c73-cf4d3ebe47f3');\n",
       "var x = new MutationObserver(function (mutations, observer) {{\n",
       "        var display = window.getComputedStyle(gd).display;\n",
       "        if (!display || display === 'none') {{\n",
       "            console.log([gd, 'removed!']);\n",
       "            Plotly.purge(gd);\n",
       "            observer.disconnect();\n",
       "        }}\n",
       "}});\n",
       "\n",
       "// Listen for the removal of the full notebook cells\n",
       "var notebookContainer = gd.closest('#notebook-container');\n",
       "if (notebookContainer) {{\n",
       "    x.observe(notebookContainer, {childList: true});\n",
       "}}\n",
       "\n",
       "// Listen for the clearing of the current output cell\n",
       "var outputEl = gd.closest('.output');\n",
       "if (outputEl) {{\n",
       "    x.observe(outputEl, {childList: true});\n",
       "}}\n",
       "\n",
       "                        })\n",
       "                };\n",
       "                });\n",
       "            </script>\n",
       "        </div>"
      ]
     },
     "metadata": {},
     "output_type": "display_data"
    },
    {
     "data": {
      "application/vnd.plotly.v1+json": {
       "config": {
        "linkText": "Export to plot.ly",
        "plotlyServerURL": "https://plot.ly",
        "showLink": false
       },
       "data": [
        {
         "error_y": {
          "array": [
           0.035118565321104155,
           0.14324986555949554,
           0.0817040945044117,
           0.33407325285273126,
           0.05555555555555558
          ],
          "type": "data",
          "visible": true
         },
         "hoverinfo": "skip",
         "marker": {
          "color": "rgb(31, 119, 180)"
         },
         "mode": "lines+markers",
         "name": "In transfers (r=8)",
         "type": "scatter",
         "x": [
          3,
          4,
          5,
          6,
          7
         ],
         "y": [
          0.16666666666666663,
          0.4548484848484849,
          0.47362467414608317,
          0.5044047619047619,
          0.4888888888888888
         ]
        },
        {
         "hoverinfo": "skip",
         "marker": {
          "color": "rgb(31, 119, 180)"
         },
         "mode": "markers",
         "name": "In transfers per iter (r=8)",
         "opacity": 0.3,
         "type": "scatter",
         "x": [
          5,
          5,
          5,
          5,
          5,
          5,
          5,
          5,
          5,
          5,
          4,
          4,
          4,
          4,
          4,
          4,
          4,
          4,
          4,
          4,
          6,
          6,
          6,
          6,
          6,
          6,
          6,
          6,
          6,
          6,
          7,
          7,
          7,
          7,
          7,
          3,
          3
         ],
         "y": [
          0.40849673202614367,
          0.48765432098765416,
          0.5185185185185185,
          0.46172839506172847,
          0.47936507936507927,
          0.4934640522875817,
          0.4301075268817204,
          0.5096618357487922,
          0.44107744107744107,
          0.5061728395061729,
          0.3148148148148148,
          0.48888888888888893,
          0.5,
          0.29629629629629634,
          0.4444444444444444,
          0.7373737373737375,
          0.3333333333333333,
          0.6,
          0.5555555555555556,
          0.2777777777777778,
          0.6666666666666666,
          0.4722222222222222,
          0.4861111111111111,
          0.5079365079365079,
          0.54320987654321,
          0.4722222222222222,
          0.5555555555555556,
          0.3555555555555555,
          0.41666666666666674,
          0.5679012345679013,
          0.33333333333333326,
          0.22222222222222227,
          0.11111111111111105,
          0.8888888888888888,
          0.8888888888888888,
          0.11111111111111105,
          0.2222222222222222
         ]
        },
        {
         "error_y": {
          "array": [
           0.06713815091584986,
           0.08140656776215699,
           0.12238004245405353,
           0.03674654598700818,
           0.2937580241797102
          ],
          "type": "data",
          "visible": true
         },
         "hoverinfo": "skip",
         "marker": {
          "color": "rgb(255, 127, 14)"
         },
         "mode": "lines+markers",
         "name": "Out transfers (r=8)",
         "type": "scatter",
         "x": [
          3,
          4,
          5,
          6,
          7
         ],
         "y": [
          0.013888888888888881,
          0.19803971030880213,
          0.2655188147863411,
          0.2170991952854698,
          0.25396825396825395
         ]
        },
        {
         "hoverinfo": "skip",
         "marker": {
          "color": "rgb(255, 127, 14)"
         },
         "mode": "markers",
         "name": "Out transfers per iter (r=8)",
         "opacity": 0.3,
         "type": "scatter",
         "x": [
          5,
          5,
          5,
          5,
          5,
          5,
          5,
          5,
          5,
          5,
          4,
          4,
          4,
          4,
          4,
          4,
          4,
          4,
          4,
          4,
          6,
          6,
          6,
          6,
          6,
          6,
          6,
          6,
          6,
          6,
          3,
          3,
          3,
          3,
          3,
          3,
          3,
          3,
          7,
          7,
          7,
          7,
          7,
          7,
          7
         ],
         "y": [
          0.1956882255389718,
          0.3384615384615385,
          0.20947176684881602,
          0.28767123287671226,
          0.27450980392156865,
          0.3698175787728027,
          0.24479166666666666,
          0.35064935064935066,
          0.1619047619047619,
          0.22222222222222218,
          0.23703703703703705,
          0.09876543209876541,
          0.2573099415204678,
          0.17948717948717946,
          0.36111111111111105,
          0.1736111111111111,
          0.20915032679738563,
          0.08080808080808081,
          0.2619047619047619,
          0.1212121212121212,
          0.2222222222222222,
          0.10416666666666666,
          0.35947712418300654,
          0.2828282828282828,
          0.04861111111111112,
          0.07936507936507937,
          0.21568627450980393,
          0.13580246913580246,
          0.2698412698412698,
          0.45299145299145294,
          0,
          0,
          0,
          0.11111111111111105,
          0,
          0,
          0,
          0,
          0.7777777777777777,
          0.49999999999999994,
          0.055555555555555525,
          0,
          0,
          0,
          0.4444444444444444
         ]
        }
       ],
       "layout": {
        "plot_bgcolor": "rgba(0,0,0,0)",
        "showlegend": true,
        "template": {
         "data": {
          "bar": [
           {
            "error_x": {
             "color": "#2a3f5f"
            },
            "error_y": {
             "color": "#2a3f5f"
            },
            "marker": {
             "line": {
              "color": "#E5ECF6",
              "width": 0.5
             }
            },
            "type": "bar"
           }
          ],
          "barpolar": [
           {
            "marker": {
             "line": {
              "color": "#E5ECF6",
              "width": 0.5
             }
            },
            "type": "barpolar"
           }
          ],
          "carpet": [
           {
            "aaxis": {
             "endlinecolor": "#2a3f5f",
             "gridcolor": "white",
             "linecolor": "white",
             "minorgridcolor": "white",
             "startlinecolor": "#2a3f5f"
            },
            "baxis": {
             "endlinecolor": "#2a3f5f",
             "gridcolor": "white",
             "linecolor": "white",
             "minorgridcolor": "white",
             "startlinecolor": "#2a3f5f"
            },
            "type": "carpet"
           }
          ],
          "choropleth": [
           {
            "colorbar": {
             "outlinewidth": 0,
             "ticks": ""
            },
            "type": "choropleth"
           }
          ],
          "contour": [
           {
            "colorbar": {
             "outlinewidth": 0,
             "ticks": ""
            },
            "colorscale": [
             [
              0,
              "#0d0887"
             ],
             [
              0.1111111111111111,
              "#46039f"
             ],
             [
              0.2222222222222222,
              "#7201a8"
             ],
             [
              0.3333333333333333,
              "#9c179e"
             ],
             [
              0.4444444444444444,
              "#bd3786"
             ],
             [
              0.5555555555555556,
              "#d8576b"
             ],
             [
              0.6666666666666666,
              "#ed7953"
             ],
             [
              0.7777777777777778,
              "#fb9f3a"
             ],
             [
              0.8888888888888888,
              "#fdca26"
             ],
             [
              1,
              "#f0f921"
             ]
            ],
            "type": "contour"
           }
          ],
          "contourcarpet": [
           {
            "colorbar": {
             "outlinewidth": 0,
             "ticks": ""
            },
            "type": "contourcarpet"
           }
          ],
          "heatmap": [
           {
            "colorbar": {
             "outlinewidth": 0,
             "ticks": ""
            },
            "colorscale": [
             [
              0,
              "#0d0887"
             ],
             [
              0.1111111111111111,
              "#46039f"
             ],
             [
              0.2222222222222222,
              "#7201a8"
             ],
             [
              0.3333333333333333,
              "#9c179e"
             ],
             [
              0.4444444444444444,
              "#bd3786"
             ],
             [
              0.5555555555555556,
              "#d8576b"
             ],
             [
              0.6666666666666666,
              "#ed7953"
             ],
             [
              0.7777777777777778,
              "#fb9f3a"
             ],
             [
              0.8888888888888888,
              "#fdca26"
             ],
             [
              1,
              "#f0f921"
             ]
            ],
            "type": "heatmap"
           }
          ],
          "heatmapgl": [
           {
            "colorbar": {
             "outlinewidth": 0,
             "ticks": ""
            },
            "colorscale": [
             [
              0,
              "#0d0887"
             ],
             [
              0.1111111111111111,
              "#46039f"
             ],
             [
              0.2222222222222222,
              "#7201a8"
             ],
             [
              0.3333333333333333,
              "#9c179e"
             ],
             [
              0.4444444444444444,
              "#bd3786"
             ],
             [
              0.5555555555555556,
              "#d8576b"
             ],
             [
              0.6666666666666666,
              "#ed7953"
             ],
             [
              0.7777777777777778,
              "#fb9f3a"
             ],
             [
              0.8888888888888888,
              "#fdca26"
             ],
             [
              1,
              "#f0f921"
             ]
            ],
            "type": "heatmapgl"
           }
          ],
          "histogram": [
           {
            "marker": {
             "colorbar": {
              "outlinewidth": 0,
              "ticks": ""
             }
            },
            "type": "histogram"
           }
          ],
          "histogram2d": [
           {
            "colorbar": {
             "outlinewidth": 0,
             "ticks": ""
            },
            "colorscale": [
             [
              0,
              "#0d0887"
             ],
             [
              0.1111111111111111,
              "#46039f"
             ],
             [
              0.2222222222222222,
              "#7201a8"
             ],
             [
              0.3333333333333333,
              "#9c179e"
             ],
             [
              0.4444444444444444,
              "#bd3786"
             ],
             [
              0.5555555555555556,
              "#d8576b"
             ],
             [
              0.6666666666666666,
              "#ed7953"
             ],
             [
              0.7777777777777778,
              "#fb9f3a"
             ],
             [
              0.8888888888888888,
              "#fdca26"
             ],
             [
              1,
              "#f0f921"
             ]
            ],
            "type": "histogram2d"
           }
          ],
          "histogram2dcontour": [
           {
            "colorbar": {
             "outlinewidth": 0,
             "ticks": ""
            },
            "colorscale": [
             [
              0,
              "#0d0887"
             ],
             [
              0.1111111111111111,
              "#46039f"
             ],
             [
              0.2222222222222222,
              "#7201a8"
             ],
             [
              0.3333333333333333,
              "#9c179e"
             ],
             [
              0.4444444444444444,
              "#bd3786"
             ],
             [
              0.5555555555555556,
              "#d8576b"
             ],
             [
              0.6666666666666666,
              "#ed7953"
             ],
             [
              0.7777777777777778,
              "#fb9f3a"
             ],
             [
              0.8888888888888888,
              "#fdca26"
             ],
             [
              1,
              "#f0f921"
             ]
            ],
            "type": "histogram2dcontour"
           }
          ],
          "mesh3d": [
           {
            "colorbar": {
             "outlinewidth": 0,
             "ticks": ""
            },
            "type": "mesh3d"
           }
          ],
          "parcoords": [
           {
            "line": {
             "colorbar": {
              "outlinewidth": 0,
              "ticks": ""
             }
            },
            "type": "parcoords"
           }
          ],
          "pie": [
           {
            "automargin": true,
            "type": "pie"
           }
          ],
          "scatter": [
           {
            "marker": {
             "colorbar": {
              "outlinewidth": 0,
              "ticks": ""
             }
            },
            "type": "scatter"
           }
          ],
          "scatter3d": [
           {
            "line": {
             "colorbar": {
              "outlinewidth": 0,
              "ticks": ""
             }
            },
            "marker": {
             "colorbar": {
              "outlinewidth": 0,
              "ticks": ""
             }
            },
            "type": "scatter3d"
           }
          ],
          "scattercarpet": [
           {
            "marker": {
             "colorbar": {
              "outlinewidth": 0,
              "ticks": ""
             }
            },
            "type": "scattercarpet"
           }
          ],
          "scattergeo": [
           {
            "marker": {
             "colorbar": {
              "outlinewidth": 0,
              "ticks": ""
             }
            },
            "type": "scattergeo"
           }
          ],
          "scattergl": [
           {
            "marker": {
             "colorbar": {
              "outlinewidth": 0,
              "ticks": ""
             }
            },
            "type": "scattergl"
           }
          ],
          "scattermapbox": [
           {
            "marker": {
             "colorbar": {
              "outlinewidth": 0,
              "ticks": ""
             }
            },
            "type": "scattermapbox"
           }
          ],
          "scatterpolar": [
           {
            "marker": {
             "colorbar": {
              "outlinewidth": 0,
              "ticks": ""
             }
            },
            "type": "scatterpolar"
           }
          ],
          "scatterpolargl": [
           {
            "marker": {
             "colorbar": {
              "outlinewidth": 0,
              "ticks": ""
             }
            },
            "type": "scatterpolargl"
           }
          ],
          "scatterternary": [
           {
            "marker": {
             "colorbar": {
              "outlinewidth": 0,
              "ticks": ""
             }
            },
            "type": "scatterternary"
           }
          ],
          "surface": [
           {
            "colorbar": {
             "outlinewidth": 0,
             "ticks": ""
            },
            "colorscale": [
             [
              0,
              "#0d0887"
             ],
             [
              0.1111111111111111,
              "#46039f"
             ],
             [
              0.2222222222222222,
              "#7201a8"
             ],
             [
              0.3333333333333333,
              "#9c179e"
             ],
             [
              0.4444444444444444,
              "#bd3786"
             ],
             [
              0.5555555555555556,
              "#d8576b"
             ],
             [
              0.6666666666666666,
              "#ed7953"
             ],
             [
              0.7777777777777778,
              "#fb9f3a"
             ],
             [
              0.8888888888888888,
              "#fdca26"
             ],
             [
              1,
              "#f0f921"
             ]
            ],
            "type": "surface"
           }
          ],
          "table": [
           {
            "cells": {
             "fill": {
              "color": "#EBF0F8"
             },
             "line": {
              "color": "white"
             }
            },
            "header": {
             "fill": {
              "color": "#C8D4E3"
             },
             "line": {
              "color": "white"
             }
            },
            "type": "table"
           }
          ]
         },
         "layout": {
          "annotationdefaults": {
           "arrowcolor": "#2a3f5f",
           "arrowhead": 0,
           "arrowwidth": 1
          },
          "coloraxis": {
           "colorbar": {
            "outlinewidth": 0,
            "ticks": ""
           }
          },
          "colorscale": {
           "diverging": [
            [
             0,
             "#8e0152"
            ],
            [
             0.1,
             "#c51b7d"
            ],
            [
             0.2,
             "#de77ae"
            ],
            [
             0.3,
             "#f1b6da"
            ],
            [
             0.4,
             "#fde0ef"
            ],
            [
             0.5,
             "#f7f7f7"
            ],
            [
             0.6,
             "#e6f5d0"
            ],
            [
             0.7,
             "#b8e186"
            ],
            [
             0.8,
             "#7fbc41"
            ],
            [
             0.9,
             "#4d9221"
            ],
            [
             1,
             "#276419"
            ]
           ],
           "sequential": [
            [
             0,
             "#0d0887"
            ],
            [
             0.1111111111111111,
             "#46039f"
            ],
            [
             0.2222222222222222,
             "#7201a8"
            ],
            [
             0.3333333333333333,
             "#9c179e"
            ],
            [
             0.4444444444444444,
             "#bd3786"
            ],
            [
             0.5555555555555556,
             "#d8576b"
            ],
            [
             0.6666666666666666,
             "#ed7953"
            ],
            [
             0.7777777777777778,
             "#fb9f3a"
            ],
            [
             0.8888888888888888,
             "#fdca26"
            ],
            [
             1,
             "#f0f921"
            ]
           ],
           "sequentialminus": [
            [
             0,
             "#0d0887"
            ],
            [
             0.1111111111111111,
             "#46039f"
            ],
            [
             0.2222222222222222,
             "#7201a8"
            ],
            [
             0.3333333333333333,
             "#9c179e"
            ],
            [
             0.4444444444444444,
             "#bd3786"
            ],
            [
             0.5555555555555556,
             "#d8576b"
            ],
            [
             0.6666666666666666,
             "#ed7953"
            ],
            [
             0.7777777777777778,
             "#fb9f3a"
            ],
            [
             0.8888888888888888,
             "#fdca26"
            ],
            [
             1,
             "#f0f921"
            ]
           ]
          },
          "colorway": [
           "#636efa",
           "#EF553B",
           "#00cc96",
           "#ab63fa",
           "#FFA15A",
           "#19d3f3",
           "#FF6692",
           "#B6E880",
           "#FF97FF",
           "#FECB52"
          ],
          "font": {
           "color": "#2a3f5f"
          },
          "geo": {
           "bgcolor": "white",
           "lakecolor": "white",
           "landcolor": "#E5ECF6",
           "showlakes": true,
           "showland": true,
           "subunitcolor": "white"
          },
          "hoverlabel": {
           "align": "left"
          },
          "hovermode": "closest",
          "mapbox": {
           "style": "light"
          },
          "paper_bgcolor": "white",
          "plot_bgcolor": "#E5ECF6",
          "polar": {
           "angularaxis": {
            "gridcolor": "white",
            "linecolor": "white",
            "ticks": ""
           },
           "bgcolor": "#E5ECF6",
           "radialaxis": {
            "gridcolor": "white",
            "linecolor": "white",
            "ticks": ""
           }
          },
          "scene": {
           "xaxis": {
            "backgroundcolor": "#E5ECF6",
            "gridcolor": "white",
            "gridwidth": 2,
            "linecolor": "white",
            "showbackground": true,
            "ticks": "",
            "zerolinecolor": "white"
           },
           "yaxis": {
            "backgroundcolor": "#E5ECF6",
            "gridcolor": "white",
            "gridwidth": 2,
            "linecolor": "white",
            "showbackground": true,
            "ticks": "",
            "zerolinecolor": "white"
           },
           "zaxis": {
            "backgroundcolor": "#E5ECF6",
            "gridcolor": "white",
            "gridwidth": 2,
            "linecolor": "white",
            "showbackground": true,
            "ticks": "",
            "zerolinecolor": "white"
           }
          },
          "shapedefaults": {
           "line": {
            "color": "#2a3f5f"
           }
          },
          "ternary": {
           "aaxis": {
            "gridcolor": "white",
            "linecolor": "white",
            "ticks": ""
           },
           "baxis": {
            "gridcolor": "white",
            "linecolor": "white",
            "ticks": ""
           },
           "bgcolor": "#E5ECF6",
           "caxis": {
            "gridcolor": "white",
            "linecolor": "white",
            "ticks": ""
           }
          },
          "title": {
           "x": 0.05
          },
          "xaxis": {
           "automargin": true,
           "gridcolor": "white",
           "linecolor": "white",
           "ticks": "",
           "title": {
            "standoff": 15
           },
           "zerolinecolor": "white",
           "zerolinewidth": 2
          },
          "yaxis": {
           "automargin": true,
           "gridcolor": "white",
           "linecolor": "white",
           "ticks": "",
           "title": {
            "standoff": 15
           },
           "zerolinecolor": "white",
           "zerolinewidth": 2
          }
         }
        },
        "title": {
         "text": "Degree vs Utility transfers (ws)"
        },
        "xaxis": {
         "title": {
          "text": "degree"
         }
        },
        "yaxis": {
         "title": {
          "text": "utility transfered"
         }
        }
       }
      },
      "text/html": [
       "<div>\n",
       "        \n",
       "        \n",
       "            <div id=\"c78bc13d-8f8f-47b1-af21-207e0ba4ca99\" class=\"plotly-graph-div\" style=\"height:525px; width:100%;\"></div>\n",
       "            <script type=\"text/javascript\">\n",
       "                require([\"plotly\"], function(Plotly) {\n",
       "                    window.PLOTLYENV=window.PLOTLYENV || {};\n",
       "                    \n",
       "                if (document.getElementById(\"c78bc13d-8f8f-47b1-af21-207e0ba4ca99\")) {\n",
       "                    Plotly.newPlot(\n",
       "                        'c78bc13d-8f8f-47b1-af21-207e0ba4ca99',\n",
       "                        [{\"error_y\": {\"array\": [0.035118565321104155, 0.14324986555949554, 0.0817040945044117, 0.33407325285273126, 0.05555555555555558], \"type\": \"data\", \"visible\": true}, \"hoverinfo\": \"skip\", \"marker\": {\"color\": \"rgb(31, 119, 180)\"}, \"mode\": \"lines+markers\", \"name\": \"In transfers (r=8)\", \"type\": \"scatter\", \"x\": [3, 4, 5, 6, 7], \"y\": [0.16666666666666663, 0.4548484848484849, 0.47362467414608317, 0.5044047619047619, 0.4888888888888888]}, {\"hoverinfo\": \"skip\", \"marker\": {\"color\": \"rgb(31, 119, 180)\"}, \"mode\": \"markers\", \"name\": \"In transfers per iter (r=8)\", \"opacity\": 0.3, \"type\": \"scatter\", \"x\": [5, 5, 5, 5, 5, 5, 5, 5, 5, 5, 4, 4, 4, 4, 4, 4, 4, 4, 4, 4, 6, 6, 6, 6, 6, 6, 6, 6, 6, 6, 7, 7, 7, 7, 7, 3, 3], \"y\": [0.40849673202614367, 0.48765432098765416, 0.5185185185185185, 0.46172839506172847, 0.47936507936507927, 0.4934640522875817, 0.4301075268817204, 0.5096618357487922, 0.44107744107744107, 0.5061728395061729, 0.3148148148148148, 0.48888888888888893, 0.5, 0.29629629629629634, 0.4444444444444444, 0.7373737373737375, 0.3333333333333333, 0.6, 0.5555555555555556, 0.2777777777777778, 0.6666666666666666, 0.4722222222222222, 0.4861111111111111, 0.5079365079365079, 0.54320987654321, 0.4722222222222222, 0.5555555555555556, 0.3555555555555555, 0.41666666666666674, 0.5679012345679013, 0.33333333333333326, 0.22222222222222227, 0.11111111111111105, 0.8888888888888888, 0.8888888888888888, 0.11111111111111105, 0.2222222222222222]}, {\"error_y\": {\"array\": [0.06713815091584986, 0.08140656776215699, 0.12238004245405353, 0.03674654598700818, 0.2937580241797102], \"type\": \"data\", \"visible\": true}, \"hoverinfo\": \"skip\", \"marker\": {\"color\": \"rgb(255, 127, 14)\"}, \"mode\": \"lines+markers\", \"name\": \"Out transfers (r=8)\", \"type\": \"scatter\", \"x\": [3, 4, 5, 6, 7], \"y\": [0.013888888888888881, 0.19803971030880213, 0.2655188147863411, 0.2170991952854698, 0.25396825396825395]}, {\"hoverinfo\": \"skip\", \"marker\": {\"color\": \"rgb(255, 127, 14)\"}, \"mode\": \"markers\", \"name\": \"Out transfers per iter (r=8)\", \"opacity\": 0.3, \"type\": \"scatter\", \"x\": [5, 5, 5, 5, 5, 5, 5, 5, 5, 5, 4, 4, 4, 4, 4, 4, 4, 4, 4, 4, 6, 6, 6, 6, 6, 6, 6, 6, 6, 6, 3, 3, 3, 3, 3, 3, 3, 3, 7, 7, 7, 7, 7, 7, 7], \"y\": [0.1956882255389718, 0.3384615384615385, 0.20947176684881602, 0.28767123287671226, 0.27450980392156865, 0.3698175787728027, 0.24479166666666666, 0.35064935064935066, 0.1619047619047619, 0.22222222222222218, 0.23703703703703705, 0.09876543209876541, 0.2573099415204678, 0.17948717948717946, 0.36111111111111105, 0.1736111111111111, 0.20915032679738563, 0.08080808080808081, 0.2619047619047619, 0.1212121212121212, 0.2222222222222222, 0.10416666666666666, 0.35947712418300654, 0.2828282828282828, 0.04861111111111112, 0.07936507936507937, 0.21568627450980393, 0.13580246913580246, 0.2698412698412698, 0.45299145299145294, 0.0, 0.0, 0.0, 0.11111111111111105, 0.0, 0.0, 0.0, 0.0, 0.7777777777777777, 0.49999999999999994, 0.055555555555555525, 0.0, 0.0, 0.0, 0.4444444444444444]}],\n",
       "                        {\"plot_bgcolor\": \"rgba(0,0,0,0)\", \"showlegend\": true, \"template\": {\"data\": {\"bar\": [{\"error_x\": {\"color\": \"#2a3f5f\"}, \"error_y\": {\"color\": \"#2a3f5f\"}, \"marker\": {\"line\": {\"color\": \"#E5ECF6\", \"width\": 0.5}}, \"type\": \"bar\"}], \"barpolar\": [{\"marker\": {\"line\": {\"color\": \"#E5ECF6\", \"width\": 0.5}}, \"type\": \"barpolar\"}], \"carpet\": [{\"aaxis\": {\"endlinecolor\": \"#2a3f5f\", \"gridcolor\": \"white\", \"linecolor\": \"white\", \"minorgridcolor\": \"white\", \"startlinecolor\": \"#2a3f5f\"}, \"baxis\": {\"endlinecolor\": \"#2a3f5f\", \"gridcolor\": \"white\", \"linecolor\": \"white\", \"minorgridcolor\": \"white\", \"startlinecolor\": \"#2a3f5f\"}, \"type\": \"carpet\"}], \"choropleth\": [{\"colorbar\": {\"outlinewidth\": 0, \"ticks\": \"\"}, \"type\": \"choropleth\"}], \"contour\": [{\"colorbar\": {\"outlinewidth\": 0, \"ticks\": \"\"}, \"colorscale\": [[0.0, \"#0d0887\"], [0.1111111111111111, \"#46039f\"], [0.2222222222222222, \"#7201a8\"], [0.3333333333333333, \"#9c179e\"], [0.4444444444444444, \"#bd3786\"], [0.5555555555555556, \"#d8576b\"], [0.6666666666666666, \"#ed7953\"], [0.7777777777777778, \"#fb9f3a\"], [0.8888888888888888, \"#fdca26\"], [1.0, \"#f0f921\"]], \"type\": \"contour\"}], \"contourcarpet\": [{\"colorbar\": {\"outlinewidth\": 0, \"ticks\": \"\"}, \"type\": \"contourcarpet\"}], \"heatmap\": [{\"colorbar\": {\"outlinewidth\": 0, \"ticks\": \"\"}, \"colorscale\": [[0.0, \"#0d0887\"], [0.1111111111111111, \"#46039f\"], [0.2222222222222222, \"#7201a8\"], [0.3333333333333333, \"#9c179e\"], [0.4444444444444444, \"#bd3786\"], [0.5555555555555556, \"#d8576b\"], [0.6666666666666666, \"#ed7953\"], [0.7777777777777778, \"#fb9f3a\"], [0.8888888888888888, \"#fdca26\"], [1.0, \"#f0f921\"]], \"type\": \"heatmap\"}], \"heatmapgl\": [{\"colorbar\": {\"outlinewidth\": 0, \"ticks\": \"\"}, \"colorscale\": [[0.0, \"#0d0887\"], [0.1111111111111111, \"#46039f\"], [0.2222222222222222, \"#7201a8\"], [0.3333333333333333, \"#9c179e\"], [0.4444444444444444, \"#bd3786\"], [0.5555555555555556, \"#d8576b\"], [0.6666666666666666, \"#ed7953\"], [0.7777777777777778, \"#fb9f3a\"], [0.8888888888888888, \"#fdca26\"], [1.0, \"#f0f921\"]], \"type\": \"heatmapgl\"}], \"histogram\": [{\"marker\": {\"colorbar\": {\"outlinewidth\": 0, \"ticks\": \"\"}}, \"type\": \"histogram\"}], \"histogram2d\": [{\"colorbar\": {\"outlinewidth\": 0, \"ticks\": \"\"}, \"colorscale\": [[0.0, \"#0d0887\"], [0.1111111111111111, \"#46039f\"], [0.2222222222222222, \"#7201a8\"], [0.3333333333333333, \"#9c179e\"], [0.4444444444444444, \"#bd3786\"], [0.5555555555555556, \"#d8576b\"], [0.6666666666666666, \"#ed7953\"], [0.7777777777777778, \"#fb9f3a\"], [0.8888888888888888, \"#fdca26\"], [1.0, \"#f0f921\"]], \"type\": \"histogram2d\"}], \"histogram2dcontour\": [{\"colorbar\": {\"outlinewidth\": 0, \"ticks\": \"\"}, \"colorscale\": [[0.0, \"#0d0887\"], [0.1111111111111111, \"#46039f\"], [0.2222222222222222, \"#7201a8\"], [0.3333333333333333, \"#9c179e\"], [0.4444444444444444, \"#bd3786\"], [0.5555555555555556, \"#d8576b\"], [0.6666666666666666, \"#ed7953\"], [0.7777777777777778, \"#fb9f3a\"], [0.8888888888888888, \"#fdca26\"], [1.0, \"#f0f921\"]], \"type\": \"histogram2dcontour\"}], \"mesh3d\": [{\"colorbar\": {\"outlinewidth\": 0, \"ticks\": \"\"}, \"type\": \"mesh3d\"}], \"parcoords\": [{\"line\": {\"colorbar\": {\"outlinewidth\": 0, \"ticks\": \"\"}}, \"type\": \"parcoords\"}], \"pie\": [{\"automargin\": true, \"type\": \"pie\"}], \"scatter\": [{\"marker\": {\"colorbar\": {\"outlinewidth\": 0, \"ticks\": \"\"}}, \"type\": \"scatter\"}], \"scatter3d\": [{\"line\": {\"colorbar\": {\"outlinewidth\": 0, \"ticks\": \"\"}}, \"marker\": {\"colorbar\": {\"outlinewidth\": 0, \"ticks\": \"\"}}, \"type\": \"scatter3d\"}], \"scattercarpet\": [{\"marker\": {\"colorbar\": {\"outlinewidth\": 0, \"ticks\": \"\"}}, \"type\": \"scattercarpet\"}], \"scattergeo\": [{\"marker\": {\"colorbar\": {\"outlinewidth\": 0, \"ticks\": \"\"}}, \"type\": \"scattergeo\"}], \"scattergl\": [{\"marker\": {\"colorbar\": {\"outlinewidth\": 0, \"ticks\": \"\"}}, \"type\": \"scattergl\"}], \"scattermapbox\": [{\"marker\": {\"colorbar\": {\"outlinewidth\": 0, \"ticks\": \"\"}}, \"type\": \"scattermapbox\"}], \"scatterpolar\": [{\"marker\": {\"colorbar\": {\"outlinewidth\": 0, \"ticks\": \"\"}}, \"type\": \"scatterpolar\"}], \"scatterpolargl\": [{\"marker\": {\"colorbar\": {\"outlinewidth\": 0, \"ticks\": \"\"}}, \"type\": \"scatterpolargl\"}], \"scatterternary\": [{\"marker\": {\"colorbar\": {\"outlinewidth\": 0, \"ticks\": \"\"}}, \"type\": \"scatterternary\"}], \"surface\": [{\"colorbar\": {\"outlinewidth\": 0, \"ticks\": \"\"}, \"colorscale\": [[0.0, \"#0d0887\"], [0.1111111111111111, \"#46039f\"], [0.2222222222222222, \"#7201a8\"], [0.3333333333333333, \"#9c179e\"], [0.4444444444444444, \"#bd3786\"], [0.5555555555555556, \"#d8576b\"], [0.6666666666666666, \"#ed7953\"], [0.7777777777777778, \"#fb9f3a\"], [0.8888888888888888, \"#fdca26\"], [1.0, \"#f0f921\"]], \"type\": \"surface\"}], \"table\": [{\"cells\": {\"fill\": {\"color\": \"#EBF0F8\"}, \"line\": {\"color\": \"white\"}}, \"header\": {\"fill\": {\"color\": \"#C8D4E3\"}, \"line\": {\"color\": \"white\"}}, \"type\": \"table\"}]}, \"layout\": {\"annotationdefaults\": {\"arrowcolor\": \"#2a3f5f\", \"arrowhead\": 0, \"arrowwidth\": 1}, \"coloraxis\": {\"colorbar\": {\"outlinewidth\": 0, \"ticks\": \"\"}}, \"colorscale\": {\"diverging\": [[0, \"#8e0152\"], [0.1, \"#c51b7d\"], [0.2, \"#de77ae\"], [0.3, \"#f1b6da\"], [0.4, \"#fde0ef\"], [0.5, \"#f7f7f7\"], [0.6, \"#e6f5d0\"], [0.7, \"#b8e186\"], [0.8, \"#7fbc41\"], [0.9, \"#4d9221\"], [1, \"#276419\"]], \"sequential\": [[0.0, \"#0d0887\"], [0.1111111111111111, \"#46039f\"], [0.2222222222222222, \"#7201a8\"], [0.3333333333333333, \"#9c179e\"], [0.4444444444444444, \"#bd3786\"], [0.5555555555555556, \"#d8576b\"], [0.6666666666666666, \"#ed7953\"], [0.7777777777777778, \"#fb9f3a\"], [0.8888888888888888, \"#fdca26\"], [1.0, \"#f0f921\"]], \"sequentialminus\": [[0.0, \"#0d0887\"], [0.1111111111111111, \"#46039f\"], [0.2222222222222222, \"#7201a8\"], [0.3333333333333333, \"#9c179e\"], [0.4444444444444444, \"#bd3786\"], [0.5555555555555556, \"#d8576b\"], [0.6666666666666666, \"#ed7953\"], [0.7777777777777778, \"#fb9f3a\"], [0.8888888888888888, \"#fdca26\"], [1.0, \"#f0f921\"]]}, \"colorway\": [\"#636efa\", \"#EF553B\", \"#00cc96\", \"#ab63fa\", \"#FFA15A\", \"#19d3f3\", \"#FF6692\", \"#B6E880\", \"#FF97FF\", \"#FECB52\"], \"font\": {\"color\": \"#2a3f5f\"}, \"geo\": {\"bgcolor\": \"white\", \"lakecolor\": \"white\", \"landcolor\": \"#E5ECF6\", \"showlakes\": true, \"showland\": true, \"subunitcolor\": \"white\"}, \"hoverlabel\": {\"align\": \"left\"}, \"hovermode\": \"closest\", \"mapbox\": {\"style\": \"light\"}, \"paper_bgcolor\": \"white\", \"plot_bgcolor\": \"#E5ECF6\", \"polar\": {\"angularaxis\": {\"gridcolor\": \"white\", \"linecolor\": \"white\", \"ticks\": \"\"}, \"bgcolor\": \"#E5ECF6\", \"radialaxis\": {\"gridcolor\": \"white\", \"linecolor\": \"white\", \"ticks\": \"\"}}, \"scene\": {\"xaxis\": {\"backgroundcolor\": \"#E5ECF6\", \"gridcolor\": \"white\", \"gridwidth\": 2, \"linecolor\": \"white\", \"showbackground\": true, \"ticks\": \"\", \"zerolinecolor\": \"white\"}, \"yaxis\": {\"backgroundcolor\": \"#E5ECF6\", \"gridcolor\": \"white\", \"gridwidth\": 2, \"linecolor\": \"white\", \"showbackground\": true, \"ticks\": \"\", \"zerolinecolor\": \"white\"}, \"zaxis\": {\"backgroundcolor\": \"#E5ECF6\", \"gridcolor\": \"white\", \"gridwidth\": 2, \"linecolor\": \"white\", \"showbackground\": true, \"ticks\": \"\", \"zerolinecolor\": \"white\"}}, \"shapedefaults\": {\"line\": {\"color\": \"#2a3f5f\"}}, \"ternary\": {\"aaxis\": {\"gridcolor\": \"white\", \"linecolor\": \"white\", \"ticks\": \"\"}, \"baxis\": {\"gridcolor\": \"white\", \"linecolor\": \"white\", \"ticks\": \"\"}, \"bgcolor\": \"#E5ECF6\", \"caxis\": {\"gridcolor\": \"white\", \"linecolor\": \"white\", \"ticks\": \"\"}}, \"title\": {\"x\": 0.05}, \"xaxis\": {\"automargin\": true, \"gridcolor\": \"white\", \"linecolor\": \"white\", \"ticks\": \"\", \"title\": {\"standoff\": 15}, \"zerolinecolor\": \"white\", \"zerolinewidth\": 2}, \"yaxis\": {\"automargin\": true, \"gridcolor\": \"white\", \"linecolor\": \"white\", \"ticks\": \"\", \"title\": {\"standoff\": 15}, \"zerolinecolor\": \"white\", \"zerolinewidth\": 2}}}, \"title\": {\"text\": \"Degree vs Utility transfers (ws)\"}, \"xaxis\": {\"title\": {\"text\": \"degree\"}}, \"yaxis\": {\"title\": {\"text\": \"utility transfered\"}}},\n",
       "                        {\"responsive\": true}\n",
       "                    ).then(function(){\n",
       "                            \n",
       "var gd = document.getElementById('c78bc13d-8f8f-47b1-af21-207e0ba4ca99');\n",
       "var x = new MutationObserver(function (mutations, observer) {{\n",
       "        var display = window.getComputedStyle(gd).display;\n",
       "        if (!display || display === 'none') {{\n",
       "            console.log([gd, 'removed!']);\n",
       "            Plotly.purge(gd);\n",
       "            observer.disconnect();\n",
       "        }}\n",
       "}});\n",
       "\n",
       "// Listen for the removal of the full notebook cells\n",
       "var notebookContainer = gd.closest('#notebook-container');\n",
       "if (notebookContainer) {{\n",
       "    x.observe(notebookContainer, {childList: true});\n",
       "}}\n",
       "\n",
       "// Listen for the clearing of the current output cell\n",
       "var outputEl = gd.closest('.output');\n",
       "if (outputEl) {{\n",
       "    x.observe(outputEl, {childList: true});\n",
       "}}\n",
       "\n",
       "                        })\n",
       "                };\n",
       "                });\n",
       "            </script>\n",
       "        </div>"
      ]
     },
     "metadata": {},
     "output_type": "display_data"
    },
    {
     "data": {
      "application/vnd.plotly.v1+json": {
       "config": {
        "linkText": "Export to plot.ly",
        "plotlyServerURL": "https://plot.ly",
        "showLink": false
       },
       "data": [
        {
         "error_y": {
          "array": [
           0.08646766479523026,
           0.14830096285253985,
           0.13760006958399362,
           0.135507005321067,
           0.18566835116819022,
           0.19116278371205842,
           0.12153166448491272,
           0.17734321888347077,
           0.16229873047855917,
           0.17217686025902904,
           0.17814700264949268,
           5.551115123125783e-17,
           0.3333333333333333,
           0.15783167224194455,
           0.05555555555555555,
           0.018518518518518545,
           0
          ],
          "type": "data",
          "visible": true
         },
         "hoverinfo": "skip",
         "marker": {
          "color": "rgb(31, 119, 180)"
         },
         "mode": "lines+markers",
         "name": "In transfers (r=8)",
         "type": "scatter",
         "x": [
          3,
          4,
          5,
          6,
          7,
          8,
          9,
          10,
          11,
          12,
          13,
          14,
          15,
          16,
          17,
          18,
          19
         ],
         "y": [
          0.537037037037037,
          0.5,
          0.47037037037037044,
          0.47592592592592586,
          0.4376851851851852,
          0.4616666666666667,
          0.427689594356261,
          0.5212522045855379,
          0.47358024691358025,
          0.49907407407407406,
          0.5333333333333333,
          0.3827160493827161,
          0.33127572016460904,
          0.4666666666666667,
          0.4444444444444445,
          0.5555555555555556,
          1
         ]
        },
        {
         "hoverinfo": "skip",
         "marker": {
          "color": "rgb(31, 119, 180)"
         },
         "mode": "markers",
         "name": "In transfers per iter (r=8)",
         "opacity": 0.3,
         "type": "scatter",
         "x": [
          10,
          10,
          10,
          10,
          10,
          10,
          10,
          10,
          10,
          10,
          8,
          8,
          8,
          8,
          8,
          8,
          8,
          8,
          8,
          8,
          11,
          11,
          11,
          11,
          11,
          11,
          11,
          11,
          11,
          11,
          7,
          7,
          7,
          7,
          7,
          7,
          7,
          7,
          7,
          7,
          12,
          12,
          12,
          12,
          12,
          12,
          12,
          12,
          12,
          12,
          16,
          16,
          16,
          16,
          16,
          9,
          9,
          9,
          9,
          9,
          9,
          9,
          9,
          9,
          13,
          13,
          13,
          13,
          13,
          13,
          13,
          13,
          13,
          13,
          6,
          6,
          6,
          6,
          6,
          6,
          6,
          6,
          6,
          6,
          14,
          14,
          14,
          14,
          14,
          14,
          14,
          14,
          14,
          15,
          15,
          15,
          15,
          15,
          15,
          15,
          15,
          15,
          17,
          17,
          18,
          18,
          5,
          5,
          5,
          5,
          5,
          4,
          4,
          3,
          3,
          19
         ],
         "y": [
          0.48888888888888893,
          0.48148148148148145,
          0.5833333333333333,
          0.580246913580247,
          0.5555555555555555,
          0.5555555555555556,
          0.5277777777777778,
          0.5396825396825397,
          0.6111111111111112,
          0.28888888888888886,
          0.35185185185185186,
          0.36111111111111116,
          0.4444444444444445,
          0.6111111111111112,
          0.5925925925925927,
          0.33333333333333326,
          0.48888888888888893,
          0.3777777777777778,
          0.27777777777777773,
          0.7777777777777778,
          0.7777777777777777,
          0.375,
          0.3888888888888889,
          0.5802469135802468,
          0.4444444444444445,
          0.37777777777777777,
          0.27777777777777773,
          0.40740740740740744,
          0.5925925925925926,
          0.513888888888889,
          0.5370370370370371,
          0.2777777777777778,
          0.5111111111111111,
          0.4722222222222222,
          0.5555555555555555,
          0.44444444444444436,
          0.5416666666666666,
          0.5925925925925927,
          0.22222222222222227,
          0.2222222222222222,
          0.11111111111111112,
          0.7222222222222221,
          0.6296296296296297,
          0.4722222222222223,
          0.6666666666666666,
          0.5555555555555555,
          0.5555555555555556,
          0.2222222222222222,
          0.44444444444444436,
          0.6111111111111112,
          0.11111111111111105,
          0.4444444444444445,
          0.5555555555555556,
          0.5555555555555556,
          0.6666666666666667,
          0.38888888888888895,
          0.3333333333333333,
          0.5,
          0.3968253968253968,
          0.5873015873015873,
          0.36507936507936506,
          0.2222222222222222,
          0.41666666666666663,
          0.6388888888888888,
          0.48148148148148145,
          0.5833333333333334,
          0.49999999999999994,
          0.44444444444444436,
          1,
          0.4814814814814814,
          0.4722222222222222,
          0.5555555555555556,
          0.5555555555555556,
          0.25925925925925924,
          0.4444444444444444,
          0.3333333333333333,
          0.7777777777777778,
          0.7222222222222222,
          0.5555555555555556,
          0.2962962962962963,
          0.3333333333333333,
          0.40740740740740744,
          0.5555555555555555,
          0.3333333333333333,
          0.33333333333333326,
          0.611111111111111,
          0.33333333333333326,
          0.42592592592592604,
          0.5555555555555556,
          0.40740740740740744,
          0.11111111111111116,
          0.5555555555555556,
          0.11111111111111116,
          0.11111111111111116,
          0.1111111111111111,
          0.11111111111111105,
          0.5185185185185185,
          0.33333333333333337,
          0.44444444444444453,
          0.29629629629629634,
          0.4444444444444445,
          0.611111111111111,
          0.4444444444444444,
          0.44444444444444453,
          0.2222222222222222,
          0.8888888888888888,
          0.40740740740740744,
          0.4444444444444444,
          0.7777777777777778,
          0.38888888888888895,
          0.33333333333333337,
          0.4444444444444445,
          0.5555555555555556,
          0.5555555555555556,
          0.5185185185185185,
          1
         ]
        },
        {
         "error_y": {
          "array": [
           0.07817374958965881,
           0.093322634584925,
           0.14934752943030188,
           0.08941551517608239,
           0.12954836022815608,
           0.15087084316352325,
           0.34416666528274603,
           0.03658213108629424,
           0.11967014084982279,
           0.38745768387028207,
           0.21202680207386057,
           0.5676595276926095,
           0.09687352107279769,
           0.08029277584059345,
           0.10162567896221981,
           0,
           0,
           0.20951312035156963,
           0
          ],
          "type": "data",
          "visible": true
         },
         "hoverinfo": "skip",
         "marker": {
          "color": "rgb(255, 127, 14)"
         },
         "mode": "lines+markers",
         "name": "Out transfers (r=8)",
         "type": "scatter",
         "x": [
          2,
          3,
          4,
          5,
          6,
          7,
          8,
          9,
          10,
          11,
          12,
          13,
          14,
          15,
          16,
          17,
          18,
          19,
          20
         ],
         "y": [
          0,
          0,
          0.017361111111111112,
          0.12674897119341563,
          0.11924603174603174,
          0.20413796080462748,
          0.21860324860324862,
          0.1552192446929289,
          0.22089318089318088,
          0.13220900015017661,
          0.15093434343434342,
          0.2702645502645502,
          0.28675925925925927,
          0.291358024691358,
          0.19560185185185186,
          0.5015873015873016,
          0.2444444444444444,
          0.14814814814814814,
          0.5555555555555556
         ]
        },
        {
         "hoverinfo": "skip",
         "marker": {
          "color": "rgb(255, 127, 14)"
         },
         "mode": "markers",
         "name": "Out transfers per iter (r=8)",
         "opacity": 0.3,
         "type": "scatter",
         "x": [
          11,
          11,
          11,
          11,
          11,
          11,
          11,
          11,
          11,
          11,
          10,
          10,
          10,
          10,
          10,
          10,
          10,
          10,
          10,
          10,
          8,
          8,
          8,
          8,
          8,
          8,
          8,
          8,
          8,
          8,
          12,
          12,
          12,
          12,
          12,
          12,
          12,
          12,
          12,
          12,
          13,
          13,
          13,
          13,
          13,
          13,
          13,
          13,
          13,
          13,
          14,
          14,
          14,
          14,
          14,
          14,
          14,
          14,
          14,
          14,
          15,
          15,
          15,
          15,
          15,
          15,
          15,
          15,
          15,
          4,
          4,
          4,
          4,
          4,
          4,
          4,
          4,
          7,
          7,
          7,
          7,
          7,
          7,
          7,
          7,
          7,
          7,
          18,
          18,
          18,
          18,
          18,
          16,
          16,
          16,
          16,
          16,
          16,
          16,
          16,
          17,
          17,
          17,
          17,
          17,
          17,
          17,
          9,
          9,
          9,
          9,
          9,
          9,
          9,
          9,
          9,
          9,
          6,
          6,
          6,
          6,
          6,
          6,
          6,
          6,
          6,
          6,
          5,
          5,
          5,
          5,
          5,
          5,
          5,
          5,
          5,
          2,
          2,
          3,
          3,
          3,
          3,
          3,
          3,
          19,
          19,
          19,
          20
         ],
         "y": [
          0,
          0.16339869281045752,
          0.2698412698412698,
          0.11851851851851852,
          0.08333333333333334,
          0.0808080808080808,
          0.22222222222222218,
          0.060606060606060615,
          0.11965811965811965,
          0.20370370370370372,
          0.28703703703703703,
          0.14814814814814814,
          0.17777777777777776,
          0.2828282828282829,
          0.4351851851851851,
          0.15079365079365079,
          0.2424242424242424,
          0.10256410256410257,
          0.14285714285714285,
          0.23931623931623933,
          0.16666666666666669,
          0.16666666666666666,
          0.08888888888888888,
          0.5454545454545454,
          0.3162393162393163,
          0.27777777777777773,
          0.1111111111111111,
          0.12962962962962962,
          0.36507936507936506,
          0.018518518518518517,
          0.19444444444444445,
          0.1888888888888889,
          0.0462962962962963,
          0.26262626262626265,
          0.027777777777777776,
          0.24444444444444446,
          0.060606060606060615,
          0.04444444444444447,
          0.23148148148148148,
          0.20833333333333334,
          0.4603174603174603,
          0.25396825396825395,
          0.2698412698412698,
          0.3888888888888889,
          0.09259259259259257,
          0.2037037037037037,
          0.33333333333333326,
          0.25555555555555554,
          0.4126984126984127,
          0.03174603174603173,
          0.28888888888888886,
          0.28888888888888886,
          0.15555555555555556,
          0.5277777777777778,
          0.18055555555555555,
          0.20370370370370372,
          0.4444444444444445,
          0.4444444444444444,
          0,
          0.3333333333333333,
          0.2222222222222222,
          0.2222222222222222,
          0.38888888888888884,
          0.41666666666666663,
          0,
          0.08333333333333333,
          0.11111111111111109,
          0,
          1.1777777777777778,
          0,
          0.1111111111111111,
          0,
          0,
          0,
          0,
          0.02777777777777779,
          0,
          0.094017094017094,
          0.24074074074074073,
          0.2424242424242424,
          0.4305555555555555,
          0.18888888888888888,
          0,
          0.3185185185185185,
          0.18055555555555555,
          0.07407407407407408,
          0.2716049382716049,
          0,
          0.9999999999999999,
          0,
          0.2222222222222222,
          0,
          0.2222222222222222,
          0.3333333333333333,
          0,
          0.037037037037037035,
          0.36111111111111105,
          0.6111111111111112,
          0,
          0,
          0,
          0,
          0,
          1,
          0.0666666666666667,
          1.1111111111111112,
          1.3333333333333333,
          0.12280701754385966,
          0.08547008547008546,
          0.21481481481481482,
          0.14285714285714285,
          0.3777777777777777,
          0.1111111111111111,
          0.10317460317460318,
          0.25925925925925924,
          0.023809523809523805,
          0.11111111111111113,
          0.09523809523809525,
          0,
          0.07407407407407411,
          0.04166666666666665,
          0.24074074074074073,
          0.06944444444444443,
          0.22222222222222215,
          0.07407407407407408,
          0.1527777777777778,
          0.22222222222222224,
          0,
          0.16666666666666669,
          0.25925925925925924,
          0.24999999999999997,
          0.20370370370370372,
          0,
          0,
          0.08333333333333331,
          0.17777777777777776,
          0,
          0,
          0,
          0,
          0,
          0,
          0,
          0,
          0.4444444444444444,
          0,
          0,
          0.5555555555555556
         ]
        }
       ],
       "layout": {
        "plot_bgcolor": "rgba(0,0,0,0)",
        "showlegend": true,
        "template": {
         "data": {
          "bar": [
           {
            "error_x": {
             "color": "#2a3f5f"
            },
            "error_y": {
             "color": "#2a3f5f"
            },
            "marker": {
             "line": {
              "color": "#E5ECF6",
              "width": 0.5
             }
            },
            "type": "bar"
           }
          ],
          "barpolar": [
           {
            "marker": {
             "line": {
              "color": "#E5ECF6",
              "width": 0.5
             }
            },
            "type": "barpolar"
           }
          ],
          "carpet": [
           {
            "aaxis": {
             "endlinecolor": "#2a3f5f",
             "gridcolor": "white",
             "linecolor": "white",
             "minorgridcolor": "white",
             "startlinecolor": "#2a3f5f"
            },
            "baxis": {
             "endlinecolor": "#2a3f5f",
             "gridcolor": "white",
             "linecolor": "white",
             "minorgridcolor": "white",
             "startlinecolor": "#2a3f5f"
            },
            "type": "carpet"
           }
          ],
          "choropleth": [
           {
            "colorbar": {
             "outlinewidth": 0,
             "ticks": ""
            },
            "type": "choropleth"
           }
          ],
          "contour": [
           {
            "colorbar": {
             "outlinewidth": 0,
             "ticks": ""
            },
            "colorscale": [
             [
              0,
              "#0d0887"
             ],
             [
              0.1111111111111111,
              "#46039f"
             ],
             [
              0.2222222222222222,
              "#7201a8"
             ],
             [
              0.3333333333333333,
              "#9c179e"
             ],
             [
              0.4444444444444444,
              "#bd3786"
             ],
             [
              0.5555555555555556,
              "#d8576b"
             ],
             [
              0.6666666666666666,
              "#ed7953"
             ],
             [
              0.7777777777777778,
              "#fb9f3a"
             ],
             [
              0.8888888888888888,
              "#fdca26"
             ],
             [
              1,
              "#f0f921"
             ]
            ],
            "type": "contour"
           }
          ],
          "contourcarpet": [
           {
            "colorbar": {
             "outlinewidth": 0,
             "ticks": ""
            },
            "type": "contourcarpet"
           }
          ],
          "heatmap": [
           {
            "colorbar": {
             "outlinewidth": 0,
             "ticks": ""
            },
            "colorscale": [
             [
              0,
              "#0d0887"
             ],
             [
              0.1111111111111111,
              "#46039f"
             ],
             [
              0.2222222222222222,
              "#7201a8"
             ],
             [
              0.3333333333333333,
              "#9c179e"
             ],
             [
              0.4444444444444444,
              "#bd3786"
             ],
             [
              0.5555555555555556,
              "#d8576b"
             ],
             [
              0.6666666666666666,
              "#ed7953"
             ],
             [
              0.7777777777777778,
              "#fb9f3a"
             ],
             [
              0.8888888888888888,
              "#fdca26"
             ],
             [
              1,
              "#f0f921"
             ]
            ],
            "type": "heatmap"
           }
          ],
          "heatmapgl": [
           {
            "colorbar": {
             "outlinewidth": 0,
             "ticks": ""
            },
            "colorscale": [
             [
              0,
              "#0d0887"
             ],
             [
              0.1111111111111111,
              "#46039f"
             ],
             [
              0.2222222222222222,
              "#7201a8"
             ],
             [
              0.3333333333333333,
              "#9c179e"
             ],
             [
              0.4444444444444444,
              "#bd3786"
             ],
             [
              0.5555555555555556,
              "#d8576b"
             ],
             [
              0.6666666666666666,
              "#ed7953"
             ],
             [
              0.7777777777777778,
              "#fb9f3a"
             ],
             [
              0.8888888888888888,
              "#fdca26"
             ],
             [
              1,
              "#f0f921"
             ]
            ],
            "type": "heatmapgl"
           }
          ],
          "histogram": [
           {
            "marker": {
             "colorbar": {
              "outlinewidth": 0,
              "ticks": ""
             }
            },
            "type": "histogram"
           }
          ],
          "histogram2d": [
           {
            "colorbar": {
             "outlinewidth": 0,
             "ticks": ""
            },
            "colorscale": [
             [
              0,
              "#0d0887"
             ],
             [
              0.1111111111111111,
              "#46039f"
             ],
             [
              0.2222222222222222,
              "#7201a8"
             ],
             [
              0.3333333333333333,
              "#9c179e"
             ],
             [
              0.4444444444444444,
              "#bd3786"
             ],
             [
              0.5555555555555556,
              "#d8576b"
             ],
             [
              0.6666666666666666,
              "#ed7953"
             ],
             [
              0.7777777777777778,
              "#fb9f3a"
             ],
             [
              0.8888888888888888,
              "#fdca26"
             ],
             [
              1,
              "#f0f921"
             ]
            ],
            "type": "histogram2d"
           }
          ],
          "histogram2dcontour": [
           {
            "colorbar": {
             "outlinewidth": 0,
             "ticks": ""
            },
            "colorscale": [
             [
              0,
              "#0d0887"
             ],
             [
              0.1111111111111111,
              "#46039f"
             ],
             [
              0.2222222222222222,
              "#7201a8"
             ],
             [
              0.3333333333333333,
              "#9c179e"
             ],
             [
              0.4444444444444444,
              "#bd3786"
             ],
             [
              0.5555555555555556,
              "#d8576b"
             ],
             [
              0.6666666666666666,
              "#ed7953"
             ],
             [
              0.7777777777777778,
              "#fb9f3a"
             ],
             [
              0.8888888888888888,
              "#fdca26"
             ],
             [
              1,
              "#f0f921"
             ]
            ],
            "type": "histogram2dcontour"
           }
          ],
          "mesh3d": [
           {
            "colorbar": {
             "outlinewidth": 0,
             "ticks": ""
            },
            "type": "mesh3d"
           }
          ],
          "parcoords": [
           {
            "line": {
             "colorbar": {
              "outlinewidth": 0,
              "ticks": ""
             }
            },
            "type": "parcoords"
           }
          ],
          "pie": [
           {
            "automargin": true,
            "type": "pie"
           }
          ],
          "scatter": [
           {
            "marker": {
             "colorbar": {
              "outlinewidth": 0,
              "ticks": ""
             }
            },
            "type": "scatter"
           }
          ],
          "scatter3d": [
           {
            "line": {
             "colorbar": {
              "outlinewidth": 0,
              "ticks": ""
             }
            },
            "marker": {
             "colorbar": {
              "outlinewidth": 0,
              "ticks": ""
             }
            },
            "type": "scatter3d"
           }
          ],
          "scattercarpet": [
           {
            "marker": {
             "colorbar": {
              "outlinewidth": 0,
              "ticks": ""
             }
            },
            "type": "scattercarpet"
           }
          ],
          "scattergeo": [
           {
            "marker": {
             "colorbar": {
              "outlinewidth": 0,
              "ticks": ""
             }
            },
            "type": "scattergeo"
           }
          ],
          "scattergl": [
           {
            "marker": {
             "colorbar": {
              "outlinewidth": 0,
              "ticks": ""
             }
            },
            "type": "scattergl"
           }
          ],
          "scattermapbox": [
           {
            "marker": {
             "colorbar": {
              "outlinewidth": 0,
              "ticks": ""
             }
            },
            "type": "scattermapbox"
           }
          ],
          "scatterpolar": [
           {
            "marker": {
             "colorbar": {
              "outlinewidth": 0,
              "ticks": ""
             }
            },
            "type": "scatterpolar"
           }
          ],
          "scatterpolargl": [
           {
            "marker": {
             "colorbar": {
              "outlinewidth": 0,
              "ticks": ""
             }
            },
            "type": "scatterpolargl"
           }
          ],
          "scatterternary": [
           {
            "marker": {
             "colorbar": {
              "outlinewidth": 0,
              "ticks": ""
             }
            },
            "type": "scatterternary"
           }
          ],
          "surface": [
           {
            "colorbar": {
             "outlinewidth": 0,
             "ticks": ""
            },
            "colorscale": [
             [
              0,
              "#0d0887"
             ],
             [
              0.1111111111111111,
              "#46039f"
             ],
             [
              0.2222222222222222,
              "#7201a8"
             ],
             [
              0.3333333333333333,
              "#9c179e"
             ],
             [
              0.4444444444444444,
              "#bd3786"
             ],
             [
              0.5555555555555556,
              "#d8576b"
             ],
             [
              0.6666666666666666,
              "#ed7953"
             ],
             [
              0.7777777777777778,
              "#fb9f3a"
             ],
             [
              0.8888888888888888,
              "#fdca26"
             ],
             [
              1,
              "#f0f921"
             ]
            ],
            "type": "surface"
           }
          ],
          "table": [
           {
            "cells": {
             "fill": {
              "color": "#EBF0F8"
             },
             "line": {
              "color": "white"
             }
            },
            "header": {
             "fill": {
              "color": "#C8D4E3"
             },
             "line": {
              "color": "white"
             }
            },
            "type": "table"
           }
          ]
         },
         "layout": {
          "annotationdefaults": {
           "arrowcolor": "#2a3f5f",
           "arrowhead": 0,
           "arrowwidth": 1
          },
          "coloraxis": {
           "colorbar": {
            "outlinewidth": 0,
            "ticks": ""
           }
          },
          "colorscale": {
           "diverging": [
            [
             0,
             "#8e0152"
            ],
            [
             0.1,
             "#c51b7d"
            ],
            [
             0.2,
             "#de77ae"
            ],
            [
             0.3,
             "#f1b6da"
            ],
            [
             0.4,
             "#fde0ef"
            ],
            [
             0.5,
             "#f7f7f7"
            ],
            [
             0.6,
             "#e6f5d0"
            ],
            [
             0.7,
             "#b8e186"
            ],
            [
             0.8,
             "#7fbc41"
            ],
            [
             0.9,
             "#4d9221"
            ],
            [
             1,
             "#276419"
            ]
           ],
           "sequential": [
            [
             0,
             "#0d0887"
            ],
            [
             0.1111111111111111,
             "#46039f"
            ],
            [
             0.2222222222222222,
             "#7201a8"
            ],
            [
             0.3333333333333333,
             "#9c179e"
            ],
            [
             0.4444444444444444,
             "#bd3786"
            ],
            [
             0.5555555555555556,
             "#d8576b"
            ],
            [
             0.6666666666666666,
             "#ed7953"
            ],
            [
             0.7777777777777778,
             "#fb9f3a"
            ],
            [
             0.8888888888888888,
             "#fdca26"
            ],
            [
             1,
             "#f0f921"
            ]
           ],
           "sequentialminus": [
            [
             0,
             "#0d0887"
            ],
            [
             0.1111111111111111,
             "#46039f"
            ],
            [
             0.2222222222222222,
             "#7201a8"
            ],
            [
             0.3333333333333333,
             "#9c179e"
            ],
            [
             0.4444444444444444,
             "#bd3786"
            ],
            [
             0.5555555555555556,
             "#d8576b"
            ],
            [
             0.6666666666666666,
             "#ed7953"
            ],
            [
             0.7777777777777778,
             "#fb9f3a"
            ],
            [
             0.8888888888888888,
             "#fdca26"
            ],
            [
             1,
             "#f0f921"
            ]
           ]
          },
          "colorway": [
           "#636efa",
           "#EF553B",
           "#00cc96",
           "#ab63fa",
           "#FFA15A",
           "#19d3f3",
           "#FF6692",
           "#B6E880",
           "#FF97FF",
           "#FECB52"
          ],
          "font": {
           "color": "#2a3f5f"
          },
          "geo": {
           "bgcolor": "white",
           "lakecolor": "white",
           "landcolor": "#E5ECF6",
           "showlakes": true,
           "showland": true,
           "subunitcolor": "white"
          },
          "hoverlabel": {
           "align": "left"
          },
          "hovermode": "closest",
          "mapbox": {
           "style": "light"
          },
          "paper_bgcolor": "white",
          "plot_bgcolor": "#E5ECF6",
          "polar": {
           "angularaxis": {
            "gridcolor": "white",
            "linecolor": "white",
            "ticks": ""
           },
           "bgcolor": "#E5ECF6",
           "radialaxis": {
            "gridcolor": "white",
            "linecolor": "white",
            "ticks": ""
           }
          },
          "scene": {
           "xaxis": {
            "backgroundcolor": "#E5ECF6",
            "gridcolor": "white",
            "gridwidth": 2,
            "linecolor": "white",
            "showbackground": true,
            "ticks": "",
            "zerolinecolor": "white"
           },
           "yaxis": {
            "backgroundcolor": "#E5ECF6",
            "gridcolor": "white",
            "gridwidth": 2,
            "linecolor": "white",
            "showbackground": true,
            "ticks": "",
            "zerolinecolor": "white"
           },
           "zaxis": {
            "backgroundcolor": "#E5ECF6",
            "gridcolor": "white",
            "gridwidth": 2,
            "linecolor": "white",
            "showbackground": true,
            "ticks": "",
            "zerolinecolor": "white"
           }
          },
          "shapedefaults": {
           "line": {
            "color": "#2a3f5f"
           }
          },
          "ternary": {
           "aaxis": {
            "gridcolor": "white",
            "linecolor": "white",
            "ticks": ""
           },
           "baxis": {
            "gridcolor": "white",
            "linecolor": "white",
            "ticks": ""
           },
           "bgcolor": "#E5ECF6",
           "caxis": {
            "gridcolor": "white",
            "linecolor": "white",
            "ticks": ""
           }
          },
          "title": {
           "x": 0.05
          },
          "xaxis": {
           "automargin": true,
           "gridcolor": "white",
           "linecolor": "white",
           "ticks": "",
           "title": {
            "standoff": 15
           },
           "zerolinecolor": "white",
           "zerolinewidth": 2
          },
          "yaxis": {
           "automargin": true,
           "gridcolor": "white",
           "linecolor": "white",
           "ticks": "",
           "title": {
            "standoff": 15
           },
           "zerolinecolor": "white",
           "zerolinewidth": 2
          }
         }
        },
        "title": {
         "text": "Degree vs Utility transfers (er)"
        },
        "xaxis": {
         "title": {
          "text": "degree"
         }
        },
        "yaxis": {
         "title": {
          "text": "utility transfered"
         }
        }
       }
      },
      "text/html": [
       "<div>\n",
       "        \n",
       "        \n",
       "            <div id=\"5cecbda3-c19a-4f27-a38f-48824d3ca8fb\" class=\"plotly-graph-div\" style=\"height:525px; width:100%;\"></div>\n",
       "            <script type=\"text/javascript\">\n",
       "                require([\"plotly\"], function(Plotly) {\n",
       "                    window.PLOTLYENV=window.PLOTLYENV || {};\n",
       "                    \n",
       "                if (document.getElementById(\"5cecbda3-c19a-4f27-a38f-48824d3ca8fb\")) {\n",
       "                    Plotly.newPlot(\n",
       "                        '5cecbda3-c19a-4f27-a38f-48824d3ca8fb',\n",
       "                        [{\"error_y\": {\"array\": [0.08646766479523026, 0.14830096285253985, 0.13760006958399362, 0.135507005321067, 0.18566835116819022, 0.19116278371205842, 0.12153166448491272, 0.17734321888347077, 0.16229873047855917, 0.17217686025902904, 0.17814700264949268, 5.551115123125783e-17, 0.3333333333333333, 0.15783167224194455, 0.05555555555555555, 0.018518518518518545, 0.0], \"type\": \"data\", \"visible\": true}, \"hoverinfo\": \"skip\", \"marker\": {\"color\": \"rgb(31, 119, 180)\"}, \"mode\": \"lines+markers\", \"name\": \"In transfers (r=8)\", \"type\": \"scatter\", \"x\": [3, 4, 5, 6, 7, 8, 9, 10, 11, 12, 13, 14, 15, 16, 17, 18, 19], \"y\": [0.537037037037037, 0.5, 0.47037037037037044, 0.47592592592592586, 0.4376851851851852, 0.4616666666666667, 0.427689594356261, 0.5212522045855379, 0.47358024691358025, 0.49907407407407406, 0.5333333333333333, 0.3827160493827161, 0.33127572016460904, 0.4666666666666667, 0.4444444444444445, 0.5555555555555556, 1.0]}, {\"hoverinfo\": \"skip\", \"marker\": {\"color\": \"rgb(31, 119, 180)\"}, \"mode\": \"markers\", \"name\": \"In transfers per iter (r=8)\", \"opacity\": 0.3, \"type\": \"scatter\", \"x\": [10, 10, 10, 10, 10, 10, 10, 10, 10, 10, 8, 8, 8, 8, 8, 8, 8, 8, 8, 8, 11, 11, 11, 11, 11, 11, 11, 11, 11, 11, 7, 7, 7, 7, 7, 7, 7, 7, 7, 7, 12, 12, 12, 12, 12, 12, 12, 12, 12, 12, 16, 16, 16, 16, 16, 9, 9, 9, 9, 9, 9, 9, 9, 9, 13, 13, 13, 13, 13, 13, 13, 13, 13, 13, 6, 6, 6, 6, 6, 6, 6, 6, 6, 6, 14, 14, 14, 14, 14, 14, 14, 14, 14, 15, 15, 15, 15, 15, 15, 15, 15, 15, 17, 17, 18, 18, 5, 5, 5, 5, 5, 4, 4, 3, 3, 19], \"y\": [0.48888888888888893, 0.48148148148148145, 0.5833333333333333, 0.580246913580247, 0.5555555555555555, 0.5555555555555556, 0.5277777777777778, 0.5396825396825397, 0.6111111111111112, 0.28888888888888886, 0.35185185185185186, 0.36111111111111116, 0.4444444444444445, 0.6111111111111112, 0.5925925925925927, 0.33333333333333326, 0.48888888888888893, 0.3777777777777778, 0.27777777777777773, 0.7777777777777778, 0.7777777777777777, 0.375, 0.3888888888888889, 0.5802469135802468, 0.4444444444444445, 0.37777777777777777, 0.27777777777777773, 0.40740740740740744, 0.5925925925925926, 0.513888888888889, 0.5370370370370371, 0.2777777777777778, 0.5111111111111111, 0.4722222222222222, 0.5555555555555555, 0.44444444444444436, 0.5416666666666666, 0.5925925925925927, 0.22222222222222227, 0.2222222222222222, 0.11111111111111112, 0.7222222222222221, 0.6296296296296297, 0.4722222222222223, 0.6666666666666666, 0.5555555555555555, 0.5555555555555556, 0.2222222222222222, 0.44444444444444436, 0.6111111111111112, 0.11111111111111105, 0.4444444444444445, 0.5555555555555556, 0.5555555555555556, 0.6666666666666667, 0.38888888888888895, 0.3333333333333333, 0.5, 0.3968253968253968, 0.5873015873015873, 0.36507936507936506, 0.2222222222222222, 0.41666666666666663, 0.6388888888888888, 0.48148148148148145, 0.5833333333333334, 0.49999999999999994, 0.44444444444444436, 1.0, 0.4814814814814814, 0.4722222222222222, 0.5555555555555556, 0.5555555555555556, 0.25925925925925924, 0.4444444444444444, 0.3333333333333333, 0.7777777777777778, 0.7222222222222222, 0.5555555555555556, 0.2962962962962963, 0.3333333333333333, 0.40740740740740744, 0.5555555555555555, 0.3333333333333333, 0.33333333333333326, 0.611111111111111, 0.33333333333333326, 0.42592592592592604, 0.5555555555555556, 0.40740740740740744, 0.11111111111111116, 0.5555555555555556, 0.11111111111111116, 0.11111111111111116, 0.1111111111111111, 0.11111111111111105, 0.5185185185185185, 0.33333333333333337, 0.44444444444444453, 0.29629629629629634, 0.4444444444444445, 0.611111111111111, 0.4444444444444444, 0.44444444444444453, 0.2222222222222222, 0.8888888888888888, 0.40740740740740744, 0.4444444444444444, 0.7777777777777778, 0.38888888888888895, 0.33333333333333337, 0.4444444444444445, 0.5555555555555556, 0.5555555555555556, 0.5185185185185185, 1.0]}, {\"error_y\": {\"array\": [0.07817374958965881, 0.093322634584925, 0.14934752943030188, 0.08941551517608239, 0.12954836022815608, 0.15087084316352325, 0.34416666528274603, 0.03658213108629424, 0.11967014084982279, 0.38745768387028207, 0.21202680207386057, 0.5676595276926095, 0.09687352107279769, 0.08029277584059345, 0.10162567896221981, 0.0, 0.0, 0.20951312035156963, 0.0], \"type\": \"data\", \"visible\": true}, \"hoverinfo\": \"skip\", \"marker\": {\"color\": \"rgb(255, 127, 14)\"}, \"mode\": \"lines+markers\", \"name\": \"Out transfers (r=8)\", \"type\": \"scatter\", \"x\": [2, 3, 4, 5, 6, 7, 8, 9, 10, 11, 12, 13, 14, 15, 16, 17, 18, 19, 20], \"y\": [0.0, 0.0, 0.017361111111111112, 0.12674897119341563, 0.11924603174603174, 0.20413796080462748, 0.21860324860324862, 0.1552192446929289, 0.22089318089318088, 0.13220900015017661, 0.15093434343434342, 0.2702645502645502, 0.28675925925925927, 0.291358024691358, 0.19560185185185186, 0.5015873015873016, 0.2444444444444444, 0.14814814814814814, 0.5555555555555556]}, {\"hoverinfo\": \"skip\", \"marker\": {\"color\": \"rgb(255, 127, 14)\"}, \"mode\": \"markers\", \"name\": \"Out transfers per iter (r=8)\", \"opacity\": 0.3, \"type\": \"scatter\", \"x\": [11, 11, 11, 11, 11, 11, 11, 11, 11, 11, 10, 10, 10, 10, 10, 10, 10, 10, 10, 10, 8, 8, 8, 8, 8, 8, 8, 8, 8, 8, 12, 12, 12, 12, 12, 12, 12, 12, 12, 12, 13, 13, 13, 13, 13, 13, 13, 13, 13, 13, 14, 14, 14, 14, 14, 14, 14, 14, 14, 14, 15, 15, 15, 15, 15, 15, 15, 15, 15, 4, 4, 4, 4, 4, 4, 4, 4, 7, 7, 7, 7, 7, 7, 7, 7, 7, 7, 18, 18, 18, 18, 18, 16, 16, 16, 16, 16, 16, 16, 16, 17, 17, 17, 17, 17, 17, 17, 9, 9, 9, 9, 9, 9, 9, 9, 9, 9, 6, 6, 6, 6, 6, 6, 6, 6, 6, 6, 5, 5, 5, 5, 5, 5, 5, 5, 5, 2, 2, 3, 3, 3, 3, 3, 3, 19, 19, 19, 20], \"y\": [0.0, 0.16339869281045752, 0.2698412698412698, 0.11851851851851852, 0.08333333333333334, 0.0808080808080808, 0.22222222222222218, 0.060606060606060615, 0.11965811965811965, 0.20370370370370372, 0.28703703703703703, 0.14814814814814814, 0.17777777777777776, 0.2828282828282829, 0.4351851851851851, 0.15079365079365079, 0.2424242424242424, 0.10256410256410257, 0.14285714285714285, 0.23931623931623933, 0.16666666666666669, 0.16666666666666666, 0.08888888888888888, 0.5454545454545454, 0.3162393162393163, 0.27777777777777773, 0.1111111111111111, 0.12962962962962962, 0.36507936507936506, 0.018518518518518517, 0.19444444444444445, 0.1888888888888889, 0.0462962962962963, 0.26262626262626265, 0.027777777777777776, 0.24444444444444446, 0.060606060606060615, 0.04444444444444447, 0.23148148148148148, 0.20833333333333334, 0.4603174603174603, 0.25396825396825395, 0.2698412698412698, 0.3888888888888889, 0.09259259259259257, 0.2037037037037037, 0.33333333333333326, 0.25555555555555554, 0.4126984126984127, 0.03174603174603173, 0.28888888888888886, 0.28888888888888886, 0.15555555555555556, 0.5277777777777778, 0.18055555555555555, 0.20370370370370372, 0.4444444444444445, 0.4444444444444444, 0.0, 0.3333333333333333, 0.2222222222222222, 0.2222222222222222, 0.38888888888888884, 0.41666666666666663, 0.0, 0.08333333333333333, 0.11111111111111109, 0.0, 1.1777777777777778, 0.0, 0.1111111111111111, 0.0, 0.0, 0.0, 0.0, 0.02777777777777779, 0.0, 0.094017094017094, 0.24074074074074073, 0.2424242424242424, 0.4305555555555555, 0.18888888888888888, 0.0, 0.3185185185185185, 0.18055555555555555, 0.07407407407407408, 0.2716049382716049, 0.0, 0.9999999999999999, 0.0, 0.2222222222222222, 0.0, 0.2222222222222222, 0.3333333333333333, 0.0, 0.037037037037037035, 0.36111111111111105, 0.6111111111111112, 0.0, 0.0, 0.0, 0.0, 0.0, 1.0, 0.0666666666666667, 1.1111111111111112, 1.3333333333333333, 0.12280701754385966, 0.08547008547008546, 0.21481481481481482, 0.14285714285714285, 0.3777777777777777, 0.1111111111111111, 0.10317460317460318, 0.25925925925925924, 0.023809523809523805, 0.11111111111111113, 0.09523809523809525, 0.0, 0.07407407407407411, 0.04166666666666665, 0.24074074074074073, 0.06944444444444443, 0.22222222222222215, 0.07407407407407408, 0.1527777777777778, 0.22222222222222224, 0.0, 0.16666666666666669, 0.25925925925925924, 0.24999999999999997, 0.20370370370370372, 0.0, 0.0, 0.08333333333333331, 0.17777777777777776, 0.0, 0.0, 0.0, 0.0, 0.0, 0.0, 0.0, 0.0, 0.4444444444444444, 0.0, 0.0, 0.5555555555555556]}],\n",
       "                        {\"plot_bgcolor\": \"rgba(0,0,0,0)\", \"showlegend\": true, \"template\": {\"data\": {\"bar\": [{\"error_x\": {\"color\": \"#2a3f5f\"}, \"error_y\": {\"color\": \"#2a3f5f\"}, \"marker\": {\"line\": {\"color\": \"#E5ECF6\", \"width\": 0.5}}, \"type\": \"bar\"}], \"barpolar\": [{\"marker\": {\"line\": {\"color\": \"#E5ECF6\", \"width\": 0.5}}, \"type\": \"barpolar\"}], \"carpet\": [{\"aaxis\": {\"endlinecolor\": \"#2a3f5f\", \"gridcolor\": \"white\", \"linecolor\": \"white\", \"minorgridcolor\": \"white\", \"startlinecolor\": \"#2a3f5f\"}, \"baxis\": {\"endlinecolor\": \"#2a3f5f\", \"gridcolor\": \"white\", \"linecolor\": \"white\", \"minorgridcolor\": \"white\", \"startlinecolor\": \"#2a3f5f\"}, \"type\": \"carpet\"}], \"choropleth\": [{\"colorbar\": {\"outlinewidth\": 0, \"ticks\": \"\"}, \"type\": \"choropleth\"}], \"contour\": [{\"colorbar\": {\"outlinewidth\": 0, \"ticks\": \"\"}, \"colorscale\": [[0.0, \"#0d0887\"], [0.1111111111111111, \"#46039f\"], [0.2222222222222222, \"#7201a8\"], [0.3333333333333333, \"#9c179e\"], [0.4444444444444444, \"#bd3786\"], [0.5555555555555556, \"#d8576b\"], [0.6666666666666666, \"#ed7953\"], [0.7777777777777778, \"#fb9f3a\"], [0.8888888888888888, \"#fdca26\"], [1.0, \"#f0f921\"]], \"type\": \"contour\"}], \"contourcarpet\": [{\"colorbar\": {\"outlinewidth\": 0, \"ticks\": \"\"}, \"type\": \"contourcarpet\"}], \"heatmap\": [{\"colorbar\": {\"outlinewidth\": 0, \"ticks\": \"\"}, \"colorscale\": [[0.0, \"#0d0887\"], [0.1111111111111111, \"#46039f\"], [0.2222222222222222, \"#7201a8\"], [0.3333333333333333, \"#9c179e\"], [0.4444444444444444, \"#bd3786\"], [0.5555555555555556, \"#d8576b\"], [0.6666666666666666, \"#ed7953\"], [0.7777777777777778, \"#fb9f3a\"], [0.8888888888888888, \"#fdca26\"], [1.0, \"#f0f921\"]], \"type\": \"heatmap\"}], \"heatmapgl\": [{\"colorbar\": {\"outlinewidth\": 0, \"ticks\": \"\"}, \"colorscale\": [[0.0, \"#0d0887\"], [0.1111111111111111, \"#46039f\"], [0.2222222222222222, \"#7201a8\"], [0.3333333333333333, \"#9c179e\"], [0.4444444444444444, \"#bd3786\"], [0.5555555555555556, \"#d8576b\"], [0.6666666666666666, \"#ed7953\"], [0.7777777777777778, \"#fb9f3a\"], [0.8888888888888888, \"#fdca26\"], [1.0, \"#f0f921\"]], \"type\": \"heatmapgl\"}], \"histogram\": [{\"marker\": {\"colorbar\": {\"outlinewidth\": 0, \"ticks\": \"\"}}, \"type\": \"histogram\"}], \"histogram2d\": [{\"colorbar\": {\"outlinewidth\": 0, \"ticks\": \"\"}, \"colorscale\": [[0.0, \"#0d0887\"], [0.1111111111111111, \"#46039f\"], [0.2222222222222222, \"#7201a8\"], [0.3333333333333333, \"#9c179e\"], [0.4444444444444444, \"#bd3786\"], [0.5555555555555556, \"#d8576b\"], [0.6666666666666666, \"#ed7953\"], [0.7777777777777778, \"#fb9f3a\"], [0.8888888888888888, \"#fdca26\"], [1.0, \"#f0f921\"]], \"type\": \"histogram2d\"}], \"histogram2dcontour\": [{\"colorbar\": {\"outlinewidth\": 0, \"ticks\": \"\"}, \"colorscale\": [[0.0, \"#0d0887\"], [0.1111111111111111, \"#46039f\"], [0.2222222222222222, \"#7201a8\"], [0.3333333333333333, \"#9c179e\"], [0.4444444444444444, \"#bd3786\"], [0.5555555555555556, \"#d8576b\"], [0.6666666666666666, \"#ed7953\"], [0.7777777777777778, \"#fb9f3a\"], [0.8888888888888888, \"#fdca26\"], [1.0, \"#f0f921\"]], \"type\": \"histogram2dcontour\"}], \"mesh3d\": [{\"colorbar\": {\"outlinewidth\": 0, \"ticks\": \"\"}, \"type\": \"mesh3d\"}], \"parcoords\": [{\"line\": {\"colorbar\": {\"outlinewidth\": 0, \"ticks\": \"\"}}, \"type\": \"parcoords\"}], \"pie\": [{\"automargin\": true, \"type\": \"pie\"}], \"scatter\": [{\"marker\": {\"colorbar\": {\"outlinewidth\": 0, \"ticks\": \"\"}}, \"type\": \"scatter\"}], \"scatter3d\": [{\"line\": {\"colorbar\": {\"outlinewidth\": 0, \"ticks\": \"\"}}, \"marker\": {\"colorbar\": {\"outlinewidth\": 0, \"ticks\": \"\"}}, \"type\": \"scatter3d\"}], \"scattercarpet\": [{\"marker\": {\"colorbar\": {\"outlinewidth\": 0, \"ticks\": \"\"}}, \"type\": \"scattercarpet\"}], \"scattergeo\": [{\"marker\": {\"colorbar\": {\"outlinewidth\": 0, \"ticks\": \"\"}}, \"type\": \"scattergeo\"}], \"scattergl\": [{\"marker\": {\"colorbar\": {\"outlinewidth\": 0, \"ticks\": \"\"}}, \"type\": \"scattergl\"}], \"scattermapbox\": [{\"marker\": {\"colorbar\": {\"outlinewidth\": 0, \"ticks\": \"\"}}, \"type\": \"scattermapbox\"}], \"scatterpolar\": [{\"marker\": {\"colorbar\": {\"outlinewidth\": 0, \"ticks\": \"\"}}, \"type\": \"scatterpolar\"}], \"scatterpolargl\": [{\"marker\": {\"colorbar\": {\"outlinewidth\": 0, \"ticks\": \"\"}}, \"type\": \"scatterpolargl\"}], \"scatterternary\": [{\"marker\": {\"colorbar\": {\"outlinewidth\": 0, \"ticks\": \"\"}}, \"type\": \"scatterternary\"}], \"surface\": [{\"colorbar\": {\"outlinewidth\": 0, \"ticks\": \"\"}, \"colorscale\": [[0.0, \"#0d0887\"], [0.1111111111111111, \"#46039f\"], [0.2222222222222222, \"#7201a8\"], [0.3333333333333333, \"#9c179e\"], [0.4444444444444444, \"#bd3786\"], [0.5555555555555556, \"#d8576b\"], [0.6666666666666666, \"#ed7953\"], [0.7777777777777778, \"#fb9f3a\"], [0.8888888888888888, \"#fdca26\"], [1.0, \"#f0f921\"]], \"type\": \"surface\"}], \"table\": [{\"cells\": {\"fill\": {\"color\": \"#EBF0F8\"}, \"line\": {\"color\": \"white\"}}, \"header\": {\"fill\": {\"color\": \"#C8D4E3\"}, \"line\": {\"color\": \"white\"}}, \"type\": \"table\"}]}, \"layout\": {\"annotationdefaults\": {\"arrowcolor\": \"#2a3f5f\", \"arrowhead\": 0, \"arrowwidth\": 1}, \"coloraxis\": {\"colorbar\": {\"outlinewidth\": 0, \"ticks\": \"\"}}, \"colorscale\": {\"diverging\": [[0, \"#8e0152\"], [0.1, \"#c51b7d\"], [0.2, \"#de77ae\"], [0.3, \"#f1b6da\"], [0.4, \"#fde0ef\"], [0.5, \"#f7f7f7\"], [0.6, \"#e6f5d0\"], [0.7, \"#b8e186\"], [0.8, \"#7fbc41\"], [0.9, \"#4d9221\"], [1, \"#276419\"]], \"sequential\": [[0.0, \"#0d0887\"], [0.1111111111111111, \"#46039f\"], [0.2222222222222222, \"#7201a8\"], [0.3333333333333333, \"#9c179e\"], [0.4444444444444444, \"#bd3786\"], [0.5555555555555556, \"#d8576b\"], [0.6666666666666666, \"#ed7953\"], [0.7777777777777778, \"#fb9f3a\"], [0.8888888888888888, \"#fdca26\"], [1.0, \"#f0f921\"]], \"sequentialminus\": [[0.0, \"#0d0887\"], [0.1111111111111111, \"#46039f\"], [0.2222222222222222, \"#7201a8\"], [0.3333333333333333, \"#9c179e\"], [0.4444444444444444, \"#bd3786\"], [0.5555555555555556, \"#d8576b\"], [0.6666666666666666, \"#ed7953\"], [0.7777777777777778, \"#fb9f3a\"], [0.8888888888888888, \"#fdca26\"], [1.0, \"#f0f921\"]]}, \"colorway\": [\"#636efa\", \"#EF553B\", \"#00cc96\", \"#ab63fa\", \"#FFA15A\", \"#19d3f3\", \"#FF6692\", \"#B6E880\", \"#FF97FF\", \"#FECB52\"], \"font\": {\"color\": \"#2a3f5f\"}, \"geo\": {\"bgcolor\": \"white\", \"lakecolor\": \"white\", \"landcolor\": \"#E5ECF6\", \"showlakes\": true, \"showland\": true, \"subunitcolor\": \"white\"}, \"hoverlabel\": {\"align\": \"left\"}, \"hovermode\": \"closest\", \"mapbox\": {\"style\": \"light\"}, \"paper_bgcolor\": \"white\", \"plot_bgcolor\": \"#E5ECF6\", \"polar\": {\"angularaxis\": {\"gridcolor\": \"white\", \"linecolor\": \"white\", \"ticks\": \"\"}, \"bgcolor\": \"#E5ECF6\", \"radialaxis\": {\"gridcolor\": \"white\", \"linecolor\": \"white\", \"ticks\": \"\"}}, \"scene\": {\"xaxis\": {\"backgroundcolor\": \"#E5ECF6\", \"gridcolor\": \"white\", \"gridwidth\": 2, \"linecolor\": \"white\", \"showbackground\": true, \"ticks\": \"\", \"zerolinecolor\": \"white\"}, \"yaxis\": {\"backgroundcolor\": \"#E5ECF6\", \"gridcolor\": \"white\", \"gridwidth\": 2, \"linecolor\": \"white\", \"showbackground\": true, \"ticks\": \"\", \"zerolinecolor\": \"white\"}, \"zaxis\": {\"backgroundcolor\": \"#E5ECF6\", \"gridcolor\": \"white\", \"gridwidth\": 2, \"linecolor\": \"white\", \"showbackground\": true, \"ticks\": \"\", \"zerolinecolor\": \"white\"}}, \"shapedefaults\": {\"line\": {\"color\": \"#2a3f5f\"}}, \"ternary\": {\"aaxis\": {\"gridcolor\": \"white\", \"linecolor\": \"white\", \"ticks\": \"\"}, \"baxis\": {\"gridcolor\": \"white\", \"linecolor\": \"white\", \"ticks\": \"\"}, \"bgcolor\": \"#E5ECF6\", \"caxis\": {\"gridcolor\": \"white\", \"linecolor\": \"white\", \"ticks\": \"\"}}, \"title\": {\"x\": 0.05}, \"xaxis\": {\"automargin\": true, \"gridcolor\": \"white\", \"linecolor\": \"white\", \"ticks\": \"\", \"title\": {\"standoff\": 15}, \"zerolinecolor\": \"white\", \"zerolinewidth\": 2}, \"yaxis\": {\"automargin\": true, \"gridcolor\": \"white\", \"linecolor\": \"white\", \"ticks\": \"\", \"title\": {\"standoff\": 15}, \"zerolinecolor\": \"white\", \"zerolinewidth\": 2}}}, \"title\": {\"text\": \"Degree vs Utility transfers (er)\"}, \"xaxis\": {\"title\": {\"text\": \"degree\"}}, \"yaxis\": {\"title\": {\"text\": \"utility transfered\"}}},\n",
       "                        {\"responsive\": true}\n",
       "                    ).then(function(){\n",
       "                            \n",
       "var gd = document.getElementById('5cecbda3-c19a-4f27-a38f-48824d3ca8fb');\n",
       "var x = new MutationObserver(function (mutations, observer) {{\n",
       "        var display = window.getComputedStyle(gd).display;\n",
       "        if (!display || display === 'none') {{\n",
       "            console.log([gd, 'removed!']);\n",
       "            Plotly.purge(gd);\n",
       "            observer.disconnect();\n",
       "        }}\n",
       "}});\n",
       "\n",
       "// Listen for the removal of the full notebook cells\n",
       "var notebookContainer = gd.closest('#notebook-container');\n",
       "if (notebookContainer) {{\n",
       "    x.observe(notebookContainer, {childList: true});\n",
       "}}\n",
       "\n",
       "// Listen for the clearing of the current output cell\n",
       "var outputEl = gd.closest('.output');\n",
       "if (outputEl) {{\n",
       "    x.observe(outputEl, {childList: true});\n",
       "}}\n",
       "\n",
       "                        })\n",
       "                };\n",
       "                });\n",
       "            </script>\n",
       "        </div>"
      ]
     },
     "metadata": {},
     "output_type": "display_data"
    },
    {
     "data": {
      "application/vnd.plotly.v1+json": {
       "config": {
        "linkText": "Export to plot.ly",
        "plotlyServerURL": "https://plot.ly",
        "showLink": false
       },
       "data": [
        {
         "error_y": {
          "array": [
           0.15754277511291737,
           0.015684446465430508
          ],
          "type": "data",
          "visible": true
         },
         "hoverinfo": "skip",
         "marker": {
          "color": "rgb(31, 119, 180)"
         },
         "mode": "lines+markers",
         "name": "In transfers (r=8)",
         "type": "scatter",
         "x": [
          4,
          5
         ],
         "y": [
          0.44794238683127563,
          0.4573810328503313
         ]
        },
        {
         "hoverinfo": "skip",
         "marker": {
          "color": "rgb(31, 119, 180)"
         },
         "mode": "markers",
         "name": "In transfers per iter (r=8)",
         "opacity": 0.3,
         "type": "scatter",
         "x": [
          4,
          4,
          4,
          4,
          4,
          4,
          4,
          4,
          4,
          5,
          5,
          5,
          5,
          5,
          5,
          5,
          5,
          5,
          5
         ],
         "y": [
          0.4814814814814814,
          0.3703703703703704,
          0.3333333333333333,
          0.1111111111111111,
          0.6666666666666666,
          0.6388888888888888,
          0.4666666666666667,
          0.44444444444444436,
          0.5185185185185185,
          0.4392764857881137,
          0.43843843843843844,
          0.44179894179894175,
          0.4822695035460993,
          0.46759259259259256,
          0.4761904761904761,
          0.44691358024691347,
          0.45833333333333337,
          0.4490740740740741,
          0.47392290249433106
         ]
        },
        {
         "error_y": {
          "array": [
           0.023253133473051746,
           0.07973138191156955,
           0
          ],
          "type": "data",
          "visible": true
         },
         "hoverinfo": "skip",
         "marker": {
          "color": "rgb(255, 127, 14)"
         },
         "mode": "lines+markers",
         "name": "Out transfers (r=8)",
         "type": "scatter",
         "x": [
          3,
          4,
          5
         ],
         "y": [
          0,
          0.24393004115226338,
          0.21835351872221404
         ]
        },
        {
         "hoverinfo": "skip",
         "marker": {
          "color": "rgb(255, 127, 14)"
         },
         "mode": "markers",
         "name": "Out transfers per iter (r=8)",
         "opacity": 0.3,
         "type": "scatter",
         "x": [
          5,
          5,
          5,
          5,
          5,
          5,
          5,
          5,
          5,
          5,
          4,
          4,
          4,
          4,
          4,
          4,
          4,
          4,
          4,
          3
         ],
         "y": [
          0.20801033591731263,
          0.16908212560386474,
          0.18707482993197277,
          0.23015873015873015,
          0.23263888888888892,
          0.2333333333333333,
          0.2222222222222222,
          0.21358024691358027,
          0.24275362318840574,
          0.24468085106382975,
          0.324074074074074,
          0.2222222222222222,
          0.2777777777777778,
          0.11111111111111116,
          0.3611111111111111,
          0.2777777777777778,
          0.14444444444444446,
          0.18055555555555552,
          0.2962962962962963,
          0
         ]
        }
       ],
       "layout": {
        "plot_bgcolor": "rgba(0,0,0,0)",
        "showlegend": true,
        "template": {
         "data": {
          "bar": [
           {
            "error_x": {
             "color": "#2a3f5f"
            },
            "error_y": {
             "color": "#2a3f5f"
            },
            "marker": {
             "line": {
              "color": "#E5ECF6",
              "width": 0.5
             }
            },
            "type": "bar"
           }
          ],
          "barpolar": [
           {
            "marker": {
             "line": {
              "color": "#E5ECF6",
              "width": 0.5
             }
            },
            "type": "barpolar"
           }
          ],
          "carpet": [
           {
            "aaxis": {
             "endlinecolor": "#2a3f5f",
             "gridcolor": "white",
             "linecolor": "white",
             "minorgridcolor": "white",
             "startlinecolor": "#2a3f5f"
            },
            "baxis": {
             "endlinecolor": "#2a3f5f",
             "gridcolor": "white",
             "linecolor": "white",
             "minorgridcolor": "white",
             "startlinecolor": "#2a3f5f"
            },
            "type": "carpet"
           }
          ],
          "choropleth": [
           {
            "colorbar": {
             "outlinewidth": 0,
             "ticks": ""
            },
            "type": "choropleth"
           }
          ],
          "contour": [
           {
            "colorbar": {
             "outlinewidth": 0,
             "ticks": ""
            },
            "colorscale": [
             [
              0,
              "#0d0887"
             ],
             [
              0.1111111111111111,
              "#46039f"
             ],
             [
              0.2222222222222222,
              "#7201a8"
             ],
             [
              0.3333333333333333,
              "#9c179e"
             ],
             [
              0.4444444444444444,
              "#bd3786"
             ],
             [
              0.5555555555555556,
              "#d8576b"
             ],
             [
              0.6666666666666666,
              "#ed7953"
             ],
             [
              0.7777777777777778,
              "#fb9f3a"
             ],
             [
              0.8888888888888888,
              "#fdca26"
             ],
             [
              1,
              "#f0f921"
             ]
            ],
            "type": "contour"
           }
          ],
          "contourcarpet": [
           {
            "colorbar": {
             "outlinewidth": 0,
             "ticks": ""
            },
            "type": "contourcarpet"
           }
          ],
          "heatmap": [
           {
            "colorbar": {
             "outlinewidth": 0,
             "ticks": ""
            },
            "colorscale": [
             [
              0,
              "#0d0887"
             ],
             [
              0.1111111111111111,
              "#46039f"
             ],
             [
              0.2222222222222222,
              "#7201a8"
             ],
             [
              0.3333333333333333,
              "#9c179e"
             ],
             [
              0.4444444444444444,
              "#bd3786"
             ],
             [
              0.5555555555555556,
              "#d8576b"
             ],
             [
              0.6666666666666666,
              "#ed7953"
             ],
             [
              0.7777777777777778,
              "#fb9f3a"
             ],
             [
              0.8888888888888888,
              "#fdca26"
             ],
             [
              1,
              "#f0f921"
             ]
            ],
            "type": "heatmap"
           }
          ],
          "heatmapgl": [
           {
            "colorbar": {
             "outlinewidth": 0,
             "ticks": ""
            },
            "colorscale": [
             [
              0,
              "#0d0887"
             ],
             [
              0.1111111111111111,
              "#46039f"
             ],
             [
              0.2222222222222222,
              "#7201a8"
             ],
             [
              0.3333333333333333,
              "#9c179e"
             ],
             [
              0.4444444444444444,
              "#bd3786"
             ],
             [
              0.5555555555555556,
              "#d8576b"
             ],
             [
              0.6666666666666666,
              "#ed7953"
             ],
             [
              0.7777777777777778,
              "#fb9f3a"
             ],
             [
              0.8888888888888888,
              "#fdca26"
             ],
             [
              1,
              "#f0f921"
             ]
            ],
            "type": "heatmapgl"
           }
          ],
          "histogram": [
           {
            "marker": {
             "colorbar": {
              "outlinewidth": 0,
              "ticks": ""
             }
            },
            "type": "histogram"
           }
          ],
          "histogram2d": [
           {
            "colorbar": {
             "outlinewidth": 0,
             "ticks": ""
            },
            "colorscale": [
             [
              0,
              "#0d0887"
             ],
             [
              0.1111111111111111,
              "#46039f"
             ],
             [
              0.2222222222222222,
              "#7201a8"
             ],
             [
              0.3333333333333333,
              "#9c179e"
             ],
             [
              0.4444444444444444,
              "#bd3786"
             ],
             [
              0.5555555555555556,
              "#d8576b"
             ],
             [
              0.6666666666666666,
              "#ed7953"
             ],
             [
              0.7777777777777778,
              "#fb9f3a"
             ],
             [
              0.8888888888888888,
              "#fdca26"
             ],
             [
              1,
              "#f0f921"
             ]
            ],
            "type": "histogram2d"
           }
          ],
          "histogram2dcontour": [
           {
            "colorbar": {
             "outlinewidth": 0,
             "ticks": ""
            },
            "colorscale": [
             [
              0,
              "#0d0887"
             ],
             [
              0.1111111111111111,
              "#46039f"
             ],
             [
              0.2222222222222222,
              "#7201a8"
             ],
             [
              0.3333333333333333,
              "#9c179e"
             ],
             [
              0.4444444444444444,
              "#bd3786"
             ],
             [
              0.5555555555555556,
              "#d8576b"
             ],
             [
              0.6666666666666666,
              "#ed7953"
             ],
             [
              0.7777777777777778,
              "#fb9f3a"
             ],
             [
              0.8888888888888888,
              "#fdca26"
             ],
             [
              1,
              "#f0f921"
             ]
            ],
            "type": "histogram2dcontour"
           }
          ],
          "mesh3d": [
           {
            "colorbar": {
             "outlinewidth": 0,
             "ticks": ""
            },
            "type": "mesh3d"
           }
          ],
          "parcoords": [
           {
            "line": {
             "colorbar": {
              "outlinewidth": 0,
              "ticks": ""
             }
            },
            "type": "parcoords"
           }
          ],
          "pie": [
           {
            "automargin": true,
            "type": "pie"
           }
          ],
          "scatter": [
           {
            "marker": {
             "colorbar": {
              "outlinewidth": 0,
              "ticks": ""
             }
            },
            "type": "scatter"
           }
          ],
          "scatter3d": [
           {
            "line": {
             "colorbar": {
              "outlinewidth": 0,
              "ticks": ""
             }
            },
            "marker": {
             "colorbar": {
              "outlinewidth": 0,
              "ticks": ""
             }
            },
            "type": "scatter3d"
           }
          ],
          "scattercarpet": [
           {
            "marker": {
             "colorbar": {
              "outlinewidth": 0,
              "ticks": ""
             }
            },
            "type": "scattercarpet"
           }
          ],
          "scattergeo": [
           {
            "marker": {
             "colorbar": {
              "outlinewidth": 0,
              "ticks": ""
             }
            },
            "type": "scattergeo"
           }
          ],
          "scattergl": [
           {
            "marker": {
             "colorbar": {
              "outlinewidth": 0,
              "ticks": ""
             }
            },
            "type": "scattergl"
           }
          ],
          "scattermapbox": [
           {
            "marker": {
             "colorbar": {
              "outlinewidth": 0,
              "ticks": ""
             }
            },
            "type": "scattermapbox"
           }
          ],
          "scatterpolar": [
           {
            "marker": {
             "colorbar": {
              "outlinewidth": 0,
              "ticks": ""
             }
            },
            "type": "scatterpolar"
           }
          ],
          "scatterpolargl": [
           {
            "marker": {
             "colorbar": {
              "outlinewidth": 0,
              "ticks": ""
             }
            },
            "type": "scatterpolargl"
           }
          ],
          "scatterternary": [
           {
            "marker": {
             "colorbar": {
              "outlinewidth": 0,
              "ticks": ""
             }
            },
            "type": "scatterternary"
           }
          ],
          "surface": [
           {
            "colorbar": {
             "outlinewidth": 0,
             "ticks": ""
            },
            "colorscale": [
             [
              0,
              "#0d0887"
             ],
             [
              0.1111111111111111,
              "#46039f"
             ],
             [
              0.2222222222222222,
              "#7201a8"
             ],
             [
              0.3333333333333333,
              "#9c179e"
             ],
             [
              0.4444444444444444,
              "#bd3786"
             ],
             [
              0.5555555555555556,
              "#d8576b"
             ],
             [
              0.6666666666666666,
              "#ed7953"
             ],
             [
              0.7777777777777778,
              "#fb9f3a"
             ],
             [
              0.8888888888888888,
              "#fdca26"
             ],
             [
              1,
              "#f0f921"
             ]
            ],
            "type": "surface"
           }
          ],
          "table": [
           {
            "cells": {
             "fill": {
              "color": "#EBF0F8"
             },
             "line": {
              "color": "white"
             }
            },
            "header": {
             "fill": {
              "color": "#C8D4E3"
             },
             "line": {
              "color": "white"
             }
            },
            "type": "table"
           }
          ]
         },
         "layout": {
          "annotationdefaults": {
           "arrowcolor": "#2a3f5f",
           "arrowhead": 0,
           "arrowwidth": 1
          },
          "coloraxis": {
           "colorbar": {
            "outlinewidth": 0,
            "ticks": ""
           }
          },
          "colorscale": {
           "diverging": [
            [
             0,
             "#8e0152"
            ],
            [
             0.1,
             "#c51b7d"
            ],
            [
             0.2,
             "#de77ae"
            ],
            [
             0.3,
             "#f1b6da"
            ],
            [
             0.4,
             "#fde0ef"
            ],
            [
             0.5,
             "#f7f7f7"
            ],
            [
             0.6,
             "#e6f5d0"
            ],
            [
             0.7,
             "#b8e186"
            ],
            [
             0.8,
             "#7fbc41"
            ],
            [
             0.9,
             "#4d9221"
            ],
            [
             1,
             "#276419"
            ]
           ],
           "sequential": [
            [
             0,
             "#0d0887"
            ],
            [
             0.1111111111111111,
             "#46039f"
            ],
            [
             0.2222222222222222,
             "#7201a8"
            ],
            [
             0.3333333333333333,
             "#9c179e"
            ],
            [
             0.4444444444444444,
             "#bd3786"
            ],
            [
             0.5555555555555556,
             "#d8576b"
            ],
            [
             0.6666666666666666,
             "#ed7953"
            ],
            [
             0.7777777777777778,
             "#fb9f3a"
            ],
            [
             0.8888888888888888,
             "#fdca26"
            ],
            [
             1,
             "#f0f921"
            ]
           ],
           "sequentialminus": [
            [
             0,
             "#0d0887"
            ],
            [
             0.1111111111111111,
             "#46039f"
            ],
            [
             0.2222222222222222,
             "#7201a8"
            ],
            [
             0.3333333333333333,
             "#9c179e"
            ],
            [
             0.4444444444444444,
             "#bd3786"
            ],
            [
             0.5555555555555556,
             "#d8576b"
            ],
            [
             0.6666666666666666,
             "#ed7953"
            ],
            [
             0.7777777777777778,
             "#fb9f3a"
            ],
            [
             0.8888888888888888,
             "#fdca26"
            ],
            [
             1,
             "#f0f921"
            ]
           ]
          },
          "colorway": [
           "#636efa",
           "#EF553B",
           "#00cc96",
           "#ab63fa",
           "#FFA15A",
           "#19d3f3",
           "#FF6692",
           "#B6E880",
           "#FF97FF",
           "#FECB52"
          ],
          "font": {
           "color": "#2a3f5f"
          },
          "geo": {
           "bgcolor": "white",
           "lakecolor": "white",
           "landcolor": "#E5ECF6",
           "showlakes": true,
           "showland": true,
           "subunitcolor": "white"
          },
          "hoverlabel": {
           "align": "left"
          },
          "hovermode": "closest",
          "mapbox": {
           "style": "light"
          },
          "paper_bgcolor": "white",
          "plot_bgcolor": "#E5ECF6",
          "polar": {
           "angularaxis": {
            "gridcolor": "white",
            "linecolor": "white",
            "ticks": ""
           },
           "bgcolor": "#E5ECF6",
           "radialaxis": {
            "gridcolor": "white",
            "linecolor": "white",
            "ticks": ""
           }
          },
          "scene": {
           "xaxis": {
            "backgroundcolor": "#E5ECF6",
            "gridcolor": "white",
            "gridwidth": 2,
            "linecolor": "white",
            "showbackground": true,
            "ticks": "",
            "zerolinecolor": "white"
           },
           "yaxis": {
            "backgroundcolor": "#E5ECF6",
            "gridcolor": "white",
            "gridwidth": 2,
            "linecolor": "white",
            "showbackground": true,
            "ticks": "",
            "zerolinecolor": "white"
           },
           "zaxis": {
            "backgroundcolor": "#E5ECF6",
            "gridcolor": "white",
            "gridwidth": 2,
            "linecolor": "white",
            "showbackground": true,
            "ticks": "",
            "zerolinecolor": "white"
           }
          },
          "shapedefaults": {
           "line": {
            "color": "#2a3f5f"
           }
          },
          "ternary": {
           "aaxis": {
            "gridcolor": "white",
            "linecolor": "white",
            "ticks": ""
           },
           "baxis": {
            "gridcolor": "white",
            "linecolor": "white",
            "ticks": ""
           },
           "bgcolor": "#E5ECF6",
           "caxis": {
            "gridcolor": "white",
            "linecolor": "white",
            "ticks": ""
           }
          },
          "title": {
           "x": 0.05
          },
          "xaxis": {
           "automargin": true,
           "gridcolor": "white",
           "linecolor": "white",
           "ticks": "",
           "title": {
            "standoff": 15
           },
           "zerolinecolor": "white",
           "zerolinewidth": 2
          },
          "yaxis": {
           "automargin": true,
           "gridcolor": "white",
           "linecolor": "white",
           "ticks": "",
           "title": {
            "standoff": 15
           },
           "zerolinecolor": "white",
           "zerolinewidth": 2
          }
         }
        },
        "title": {
         "text": "Degree vs Utility transfers (cm)"
        },
        "xaxis": {
         "title": {
          "text": "degree"
         }
        },
        "yaxis": {
         "title": {
          "text": "utility transfered"
         }
        }
       }
      },
      "text/html": [
       "<div>\n",
       "        \n",
       "        \n",
       "            <div id=\"5f005a57-55c7-400f-823a-e01fbc85279a\" class=\"plotly-graph-div\" style=\"height:525px; width:100%;\"></div>\n",
       "            <script type=\"text/javascript\">\n",
       "                require([\"plotly\"], function(Plotly) {\n",
       "                    window.PLOTLYENV=window.PLOTLYENV || {};\n",
       "                    \n",
       "                if (document.getElementById(\"5f005a57-55c7-400f-823a-e01fbc85279a\")) {\n",
       "                    Plotly.newPlot(\n",
       "                        '5f005a57-55c7-400f-823a-e01fbc85279a',\n",
       "                        [{\"error_y\": {\"array\": [0.15754277511291737, 0.015684446465430508], \"type\": \"data\", \"visible\": true}, \"hoverinfo\": \"skip\", \"marker\": {\"color\": \"rgb(31, 119, 180)\"}, \"mode\": \"lines+markers\", \"name\": \"In transfers (r=8)\", \"type\": \"scatter\", \"x\": [4, 5], \"y\": [0.44794238683127563, 0.4573810328503313]}, {\"hoverinfo\": \"skip\", \"marker\": {\"color\": \"rgb(31, 119, 180)\"}, \"mode\": \"markers\", \"name\": \"In transfers per iter (r=8)\", \"opacity\": 0.3, \"type\": \"scatter\", \"x\": [4, 4, 4, 4, 4, 4, 4, 4, 4, 5, 5, 5, 5, 5, 5, 5, 5, 5, 5], \"y\": [0.4814814814814814, 0.3703703703703704, 0.3333333333333333, 0.1111111111111111, 0.6666666666666666, 0.6388888888888888, 0.4666666666666667, 0.44444444444444436, 0.5185185185185185, 0.4392764857881137, 0.43843843843843844, 0.44179894179894175, 0.4822695035460993, 0.46759259259259256, 0.4761904761904761, 0.44691358024691347, 0.45833333333333337, 0.4490740740740741, 0.47392290249433106]}, {\"error_y\": {\"array\": [0.023253133473051746, 0.07973138191156955, 0.0], \"type\": \"data\", \"visible\": true}, \"hoverinfo\": \"skip\", \"marker\": {\"color\": \"rgb(255, 127, 14)\"}, \"mode\": \"lines+markers\", \"name\": \"Out transfers (r=8)\", \"type\": \"scatter\", \"x\": [3, 4, 5], \"y\": [0.0, 0.24393004115226338, 0.21835351872221404]}, {\"hoverinfo\": \"skip\", \"marker\": {\"color\": \"rgb(255, 127, 14)\"}, \"mode\": \"markers\", \"name\": \"Out transfers per iter (r=8)\", \"opacity\": 0.3, \"type\": \"scatter\", \"x\": [5, 5, 5, 5, 5, 5, 5, 5, 5, 5, 4, 4, 4, 4, 4, 4, 4, 4, 4, 3], \"y\": [0.20801033591731263, 0.16908212560386474, 0.18707482993197277, 0.23015873015873015, 0.23263888888888892, 0.2333333333333333, 0.2222222222222222, 0.21358024691358027, 0.24275362318840574, 0.24468085106382975, 0.324074074074074, 0.2222222222222222, 0.2777777777777778, 0.11111111111111116, 0.3611111111111111, 0.2777777777777778, 0.14444444444444446, 0.18055555555555552, 0.2962962962962963, 0.0]}],\n",
       "                        {\"plot_bgcolor\": \"rgba(0,0,0,0)\", \"showlegend\": true, \"template\": {\"data\": {\"bar\": [{\"error_x\": {\"color\": \"#2a3f5f\"}, \"error_y\": {\"color\": \"#2a3f5f\"}, \"marker\": {\"line\": {\"color\": \"#E5ECF6\", \"width\": 0.5}}, \"type\": \"bar\"}], \"barpolar\": [{\"marker\": {\"line\": {\"color\": \"#E5ECF6\", \"width\": 0.5}}, \"type\": \"barpolar\"}], \"carpet\": [{\"aaxis\": {\"endlinecolor\": \"#2a3f5f\", \"gridcolor\": \"white\", \"linecolor\": \"white\", \"minorgridcolor\": \"white\", \"startlinecolor\": \"#2a3f5f\"}, \"baxis\": {\"endlinecolor\": \"#2a3f5f\", \"gridcolor\": \"white\", \"linecolor\": \"white\", \"minorgridcolor\": \"white\", \"startlinecolor\": \"#2a3f5f\"}, \"type\": \"carpet\"}], \"choropleth\": [{\"colorbar\": {\"outlinewidth\": 0, \"ticks\": \"\"}, \"type\": \"choropleth\"}], \"contour\": [{\"colorbar\": {\"outlinewidth\": 0, \"ticks\": \"\"}, \"colorscale\": [[0.0, \"#0d0887\"], [0.1111111111111111, \"#46039f\"], [0.2222222222222222, \"#7201a8\"], [0.3333333333333333, \"#9c179e\"], [0.4444444444444444, \"#bd3786\"], [0.5555555555555556, \"#d8576b\"], [0.6666666666666666, \"#ed7953\"], [0.7777777777777778, \"#fb9f3a\"], [0.8888888888888888, \"#fdca26\"], [1.0, \"#f0f921\"]], \"type\": \"contour\"}], \"contourcarpet\": [{\"colorbar\": {\"outlinewidth\": 0, \"ticks\": \"\"}, \"type\": \"contourcarpet\"}], \"heatmap\": [{\"colorbar\": {\"outlinewidth\": 0, \"ticks\": \"\"}, \"colorscale\": [[0.0, \"#0d0887\"], [0.1111111111111111, \"#46039f\"], [0.2222222222222222, \"#7201a8\"], [0.3333333333333333, \"#9c179e\"], [0.4444444444444444, \"#bd3786\"], [0.5555555555555556, \"#d8576b\"], [0.6666666666666666, \"#ed7953\"], [0.7777777777777778, \"#fb9f3a\"], [0.8888888888888888, \"#fdca26\"], [1.0, \"#f0f921\"]], \"type\": \"heatmap\"}], \"heatmapgl\": [{\"colorbar\": {\"outlinewidth\": 0, \"ticks\": \"\"}, \"colorscale\": [[0.0, \"#0d0887\"], [0.1111111111111111, \"#46039f\"], [0.2222222222222222, \"#7201a8\"], [0.3333333333333333, \"#9c179e\"], [0.4444444444444444, \"#bd3786\"], [0.5555555555555556, \"#d8576b\"], [0.6666666666666666, \"#ed7953\"], [0.7777777777777778, \"#fb9f3a\"], [0.8888888888888888, \"#fdca26\"], [1.0, \"#f0f921\"]], \"type\": \"heatmapgl\"}], \"histogram\": [{\"marker\": {\"colorbar\": {\"outlinewidth\": 0, \"ticks\": \"\"}}, \"type\": \"histogram\"}], \"histogram2d\": [{\"colorbar\": {\"outlinewidth\": 0, \"ticks\": \"\"}, \"colorscale\": [[0.0, \"#0d0887\"], [0.1111111111111111, \"#46039f\"], [0.2222222222222222, \"#7201a8\"], [0.3333333333333333, \"#9c179e\"], [0.4444444444444444, \"#bd3786\"], [0.5555555555555556, \"#d8576b\"], [0.6666666666666666, \"#ed7953\"], [0.7777777777777778, \"#fb9f3a\"], [0.8888888888888888, \"#fdca26\"], [1.0, \"#f0f921\"]], \"type\": \"histogram2d\"}], \"histogram2dcontour\": [{\"colorbar\": {\"outlinewidth\": 0, \"ticks\": \"\"}, \"colorscale\": [[0.0, \"#0d0887\"], [0.1111111111111111, \"#46039f\"], [0.2222222222222222, \"#7201a8\"], [0.3333333333333333, \"#9c179e\"], [0.4444444444444444, \"#bd3786\"], [0.5555555555555556, \"#d8576b\"], [0.6666666666666666, \"#ed7953\"], [0.7777777777777778, \"#fb9f3a\"], [0.8888888888888888, \"#fdca26\"], [1.0, \"#f0f921\"]], \"type\": \"histogram2dcontour\"}], \"mesh3d\": [{\"colorbar\": {\"outlinewidth\": 0, \"ticks\": \"\"}, \"type\": \"mesh3d\"}], \"parcoords\": [{\"line\": {\"colorbar\": {\"outlinewidth\": 0, \"ticks\": \"\"}}, \"type\": \"parcoords\"}], \"pie\": [{\"automargin\": true, \"type\": \"pie\"}], \"scatter\": [{\"marker\": {\"colorbar\": {\"outlinewidth\": 0, \"ticks\": \"\"}}, \"type\": \"scatter\"}], \"scatter3d\": [{\"line\": {\"colorbar\": {\"outlinewidth\": 0, \"ticks\": \"\"}}, \"marker\": {\"colorbar\": {\"outlinewidth\": 0, \"ticks\": \"\"}}, \"type\": \"scatter3d\"}], \"scattercarpet\": [{\"marker\": {\"colorbar\": {\"outlinewidth\": 0, \"ticks\": \"\"}}, \"type\": \"scattercarpet\"}], \"scattergeo\": [{\"marker\": {\"colorbar\": {\"outlinewidth\": 0, \"ticks\": \"\"}}, \"type\": \"scattergeo\"}], \"scattergl\": [{\"marker\": {\"colorbar\": {\"outlinewidth\": 0, \"ticks\": \"\"}}, \"type\": \"scattergl\"}], \"scattermapbox\": [{\"marker\": {\"colorbar\": {\"outlinewidth\": 0, \"ticks\": \"\"}}, \"type\": \"scattermapbox\"}], \"scatterpolar\": [{\"marker\": {\"colorbar\": {\"outlinewidth\": 0, \"ticks\": \"\"}}, \"type\": \"scatterpolar\"}], \"scatterpolargl\": [{\"marker\": {\"colorbar\": {\"outlinewidth\": 0, \"ticks\": \"\"}}, \"type\": \"scatterpolargl\"}], \"scatterternary\": [{\"marker\": {\"colorbar\": {\"outlinewidth\": 0, \"ticks\": \"\"}}, \"type\": \"scatterternary\"}], \"surface\": [{\"colorbar\": {\"outlinewidth\": 0, \"ticks\": \"\"}, \"colorscale\": [[0.0, \"#0d0887\"], [0.1111111111111111, \"#46039f\"], [0.2222222222222222, \"#7201a8\"], [0.3333333333333333, \"#9c179e\"], [0.4444444444444444, \"#bd3786\"], [0.5555555555555556, \"#d8576b\"], [0.6666666666666666, \"#ed7953\"], [0.7777777777777778, \"#fb9f3a\"], [0.8888888888888888, \"#fdca26\"], [1.0, \"#f0f921\"]], \"type\": \"surface\"}], \"table\": [{\"cells\": {\"fill\": {\"color\": \"#EBF0F8\"}, \"line\": {\"color\": \"white\"}}, \"header\": {\"fill\": {\"color\": \"#C8D4E3\"}, \"line\": {\"color\": \"white\"}}, \"type\": \"table\"}]}, \"layout\": {\"annotationdefaults\": {\"arrowcolor\": \"#2a3f5f\", \"arrowhead\": 0, \"arrowwidth\": 1}, \"coloraxis\": {\"colorbar\": {\"outlinewidth\": 0, \"ticks\": \"\"}}, \"colorscale\": {\"diverging\": [[0, \"#8e0152\"], [0.1, \"#c51b7d\"], [0.2, \"#de77ae\"], [0.3, \"#f1b6da\"], [0.4, \"#fde0ef\"], [0.5, \"#f7f7f7\"], [0.6, \"#e6f5d0\"], [0.7, \"#b8e186\"], [0.8, \"#7fbc41\"], [0.9, \"#4d9221\"], [1, \"#276419\"]], \"sequential\": [[0.0, \"#0d0887\"], [0.1111111111111111, \"#46039f\"], [0.2222222222222222, \"#7201a8\"], [0.3333333333333333, \"#9c179e\"], [0.4444444444444444, \"#bd3786\"], [0.5555555555555556, \"#d8576b\"], [0.6666666666666666, \"#ed7953\"], [0.7777777777777778, \"#fb9f3a\"], [0.8888888888888888, \"#fdca26\"], [1.0, \"#f0f921\"]], \"sequentialminus\": [[0.0, \"#0d0887\"], [0.1111111111111111, \"#46039f\"], [0.2222222222222222, \"#7201a8\"], [0.3333333333333333, \"#9c179e\"], [0.4444444444444444, \"#bd3786\"], [0.5555555555555556, \"#d8576b\"], [0.6666666666666666, \"#ed7953\"], [0.7777777777777778, \"#fb9f3a\"], [0.8888888888888888, \"#fdca26\"], [1.0, \"#f0f921\"]]}, \"colorway\": [\"#636efa\", \"#EF553B\", \"#00cc96\", \"#ab63fa\", \"#FFA15A\", \"#19d3f3\", \"#FF6692\", \"#B6E880\", \"#FF97FF\", \"#FECB52\"], \"font\": {\"color\": \"#2a3f5f\"}, \"geo\": {\"bgcolor\": \"white\", \"lakecolor\": \"white\", \"landcolor\": \"#E5ECF6\", \"showlakes\": true, \"showland\": true, \"subunitcolor\": \"white\"}, \"hoverlabel\": {\"align\": \"left\"}, \"hovermode\": \"closest\", \"mapbox\": {\"style\": \"light\"}, \"paper_bgcolor\": \"white\", \"plot_bgcolor\": \"#E5ECF6\", \"polar\": {\"angularaxis\": {\"gridcolor\": \"white\", \"linecolor\": \"white\", \"ticks\": \"\"}, \"bgcolor\": \"#E5ECF6\", \"radialaxis\": {\"gridcolor\": \"white\", \"linecolor\": \"white\", \"ticks\": \"\"}}, \"scene\": {\"xaxis\": {\"backgroundcolor\": \"#E5ECF6\", \"gridcolor\": \"white\", \"gridwidth\": 2, \"linecolor\": \"white\", \"showbackground\": true, \"ticks\": \"\", \"zerolinecolor\": \"white\"}, \"yaxis\": {\"backgroundcolor\": \"#E5ECF6\", \"gridcolor\": \"white\", \"gridwidth\": 2, \"linecolor\": \"white\", \"showbackground\": true, \"ticks\": \"\", \"zerolinecolor\": \"white\"}, \"zaxis\": {\"backgroundcolor\": \"#E5ECF6\", \"gridcolor\": \"white\", \"gridwidth\": 2, \"linecolor\": \"white\", \"showbackground\": true, \"ticks\": \"\", \"zerolinecolor\": \"white\"}}, \"shapedefaults\": {\"line\": {\"color\": \"#2a3f5f\"}}, \"ternary\": {\"aaxis\": {\"gridcolor\": \"white\", \"linecolor\": \"white\", \"ticks\": \"\"}, \"baxis\": {\"gridcolor\": \"white\", \"linecolor\": \"white\", \"ticks\": \"\"}, \"bgcolor\": \"#E5ECF6\", \"caxis\": {\"gridcolor\": \"white\", \"linecolor\": \"white\", \"ticks\": \"\"}}, \"title\": {\"x\": 0.05}, \"xaxis\": {\"automargin\": true, \"gridcolor\": \"white\", \"linecolor\": \"white\", \"ticks\": \"\", \"title\": {\"standoff\": 15}, \"zerolinecolor\": \"white\", \"zerolinewidth\": 2}, \"yaxis\": {\"automargin\": true, \"gridcolor\": \"white\", \"linecolor\": \"white\", \"ticks\": \"\", \"title\": {\"standoff\": 15}, \"zerolinecolor\": \"white\", \"zerolinewidth\": 2}}}, \"title\": {\"text\": \"Degree vs Utility transfers (cm)\"}, \"xaxis\": {\"title\": {\"text\": \"degree\"}}, \"yaxis\": {\"title\": {\"text\": \"utility transfered\"}}},\n",
       "                        {\"responsive\": true}\n",
       "                    ).then(function(){\n",
       "                            \n",
       "var gd = document.getElementById('5f005a57-55c7-400f-823a-e01fbc85279a');\n",
       "var x = new MutationObserver(function (mutations, observer) {{\n",
       "        var display = window.getComputedStyle(gd).display;\n",
       "        if (!display || display === 'none') {{\n",
       "            console.log([gd, 'removed!']);\n",
       "            Plotly.purge(gd);\n",
       "            observer.disconnect();\n",
       "        }}\n",
       "}});\n",
       "\n",
       "// Listen for the removal of the full notebook cells\n",
       "var notebookContainer = gd.closest('#notebook-container');\n",
       "if (notebookContainer) {{\n",
       "    x.observe(notebookContainer, {childList: true});\n",
       "}}\n",
       "\n",
       "// Listen for the clearing of the current output cell\n",
       "var outputEl = gd.closest('.output');\n",
       "if (outputEl) {{\n",
       "    x.observe(outputEl, {childList: true});\n",
       "}}\n",
       "\n",
       "                        })\n",
       "                };\n",
       "                });\n",
       "            </script>\n",
       "        </div>"
      ]
     },
     "metadata": {},
     "output_type": "display_data"
    },
    {
     "data": {
      "application/vnd.plotly.v1+json": {
       "config": {
        "linkText": "Export to plot.ly",
        "plotlyServerURL": "https://plot.ly",
        "showLink": false
       },
       "data": [
        {
         "error_y": {
          "array": [
           0.03825888114856718,
           0.15176829536340075,
           0.139568215199957,
           0.29221729329739815,
           0.06673957993487434,
           0,
           0.21336515966301686,
           0
          ],
          "type": "data",
          "visible": true
         },
         "hoverinfo": "skip",
         "marker": {
          "color": "rgb(31, 119, 180)"
         },
         "mode": "lines+markers",
         "name": "In transfers (r=8)",
         "type": "scatter",
         "x": [
          2,
          3,
          4,
          5,
          6,
          7,
          8,
          9
         ],
         "y": [
          0.5,
          0.4519708994708994,
          0.4658085363217503,
          0.45187126785037,
          0.47449735449735453,
          0.4722222222222222,
          0.2222222222222222,
          0.33333333333333326
         ]
        },
        {
         "hoverinfo": "skip",
         "marker": {
          "color": "rgb(31, 119, 180)"
         },
         "mode": "markers",
         "name": "In transfers per iter (r=8)",
         "opacity": 0.3,
         "type": "scatter",
         "x": [
          4,
          4,
          4,
          4,
          4,
          4,
          4,
          4,
          4,
          4,
          3,
          3,
          3,
          3,
          3,
          3,
          3,
          3,
          3,
          3,
          6,
          6,
          6,
          6,
          6,
          6,
          6,
          6,
          6,
          6,
          2,
          2,
          2,
          2,
          2,
          2,
          5,
          5,
          5,
          5,
          5,
          5,
          5,
          5,
          5,
          5,
          8,
          7,
          7,
          7,
          7,
          9
         ],
         "y": [
          0.48148148148148134,
          0.5299145299145299,
          0.41880341880341876,
          0.5123456790123457,
          0.4829059829059829,
          0.45751633986928103,
          0.4444444444444444,
          0.3986928104575163,
          0.48309178743961345,
          0.44888888888888895,
          0.41666666666666663,
          0.5138888888888888,
          0.11111111111111113,
          0.5308641975308643,
          0.6222222222222222,
          0.6666666666666667,
          0.5277777777777778,
          0.4320987654320988,
          0.33333333333333337,
          0.3650793650793651,
          0.4444444444444444,
          0.3148148148148148,
          0.6296296296296297,
          0.46031746031746035,
          0.7777777777777778,
          0.37777777777777777,
          0.4888888888888888,
          0.48148148148148157,
          0.2698412698412699,
          0.5,
          0.1111111111111111,
          0.6666666666666665,
          1,
          0.4444444444444445,
          0.22222222222222224,
          0.5555555555555556,
          0.47777777777777775,
          0.537037037037037,
          0.5277777777777778,
          0.34814814814814815,
          0.41880341880341876,
          0.5347222222222222,
          0.3675213675213675,
          0.42105263157894735,
          0.3986928104575163,
          0.48717948717948717,
          0.2222222222222222,
          0.6666666666666666,
          0.11111111111111116,
          0.5555555555555556,
          0.5555555555555555,
          0.33333333333333326
         ]
        },
        {
         "error_y": {
          "array": [
           0.1275125061037059,
           0.06832694286282548,
           0.046101522206913,
           0.07101530640494902,
           0.37659380352270727,
           0.6285393610547089,
           0.3247671026287321,
           0
          ],
          "type": "data",
          "visible": true
         },
         "hoverinfo": "skip",
         "marker": {
          "color": "rgb(255, 127, 14)"
         },
         "mode": "lines+markers",
         "name": "Out transfers (r=8)",
         "type": "scatter",
         "x": [
          2,
          3,
          4,
          5,
          6,
          7,
          8,
          9
         ],
         "y": [
          0.2654320987654321,
          0.17847349597136467,
          0.22437299278232473,
          0.21599001116626174,
          0.2518847202180535,
          0.32936507936507936,
          0.4444444444444444,
          0
         ]
        },
        {
         "hoverinfo": "skip",
         "marker": {
          "color": "rgb(255, 127, 14)"
         },
         "mode": "markers",
         "name": "Out transfers per iter (r=8)",
         "opacity": 0.3,
         "type": "scatter",
         "x": [
          6,
          6,
          6,
          6,
          6,
          6,
          6,
          6,
          6,
          6,
          5,
          5,
          5,
          5,
          5,
          5,
          5,
          5,
          5,
          5,
          4,
          4,
          4,
          4,
          4,
          4,
          4,
          4,
          4,
          4,
          3,
          3,
          3,
          3,
          3,
          3,
          3,
          3,
          3,
          3,
          2,
          2,
          2,
          2,
          2,
          2,
          2,
          2,
          2,
          8,
          8,
          8,
          7,
          7,
          7,
          7,
          7,
          7,
          7,
          9
         ],
         "y": [
          0.19444444444444442,
          0.2037037037037037,
          0.04938271604938271,
          0.3111111111111111,
          0.16049382716049382,
          0.2555555555555556,
          0.2222222222222222,
          0.5714285714285714,
          0.2727272727272727,
          0.2777777777777778,
          0.14529914529914528,
          0.24691358024691354,
          0.3602693602693603,
          0.19528619528619529,
          0.21256038647342998,
          0.2867383512544803,
          0.23569023569023567,
          0.15185185185185185,
          0.2088888888888889,
          0.11640211640211641,
          0.25474254742547425,
          0.22649572649572652,
          0.17344173441734417,
          0.20987654320987656,
          0.2753623188405797,
          0.2,
          0.2,
          0.17777777777777776,
          0.1975308641975309,
          0.3285024154589372,
          0.13725490196078433,
          0.2121212121212121,
          0.07407407407407408,
          0.2037037037037037,
          0.06790123456790124,
          0.1388888888888889,
          0.19806763285024154,
          0.31481481481481477,
          0.2156862745098039,
          0.22222222222222218,
          0,
          0.2777777777777778,
          0.5,
          1.2222222222222223,
          0.2777777777777778,
          0,
          0.1111111111111111,
          0,
          0,
          0,
          0,
          1.3333333333333333,
          0,
          0.7222222222222221,
          0.5555555555555556,
          0.7777777777777777,
          0,
          0,
          0.25,
          0
         ]
        }
       ],
       "layout": {
        "plot_bgcolor": "rgba(0,0,0,0)",
        "showlegend": true,
        "template": {
         "data": {
          "bar": [
           {
            "error_x": {
             "color": "#2a3f5f"
            },
            "error_y": {
             "color": "#2a3f5f"
            },
            "marker": {
             "line": {
              "color": "#E5ECF6",
              "width": 0.5
             }
            },
            "type": "bar"
           }
          ],
          "barpolar": [
           {
            "marker": {
             "line": {
              "color": "#E5ECF6",
              "width": 0.5
             }
            },
            "type": "barpolar"
           }
          ],
          "carpet": [
           {
            "aaxis": {
             "endlinecolor": "#2a3f5f",
             "gridcolor": "white",
             "linecolor": "white",
             "minorgridcolor": "white",
             "startlinecolor": "#2a3f5f"
            },
            "baxis": {
             "endlinecolor": "#2a3f5f",
             "gridcolor": "white",
             "linecolor": "white",
             "minorgridcolor": "white",
             "startlinecolor": "#2a3f5f"
            },
            "type": "carpet"
           }
          ],
          "choropleth": [
           {
            "colorbar": {
             "outlinewidth": 0,
             "ticks": ""
            },
            "type": "choropleth"
           }
          ],
          "contour": [
           {
            "colorbar": {
             "outlinewidth": 0,
             "ticks": ""
            },
            "colorscale": [
             [
              0,
              "#0d0887"
             ],
             [
              0.1111111111111111,
              "#46039f"
             ],
             [
              0.2222222222222222,
              "#7201a8"
             ],
             [
              0.3333333333333333,
              "#9c179e"
             ],
             [
              0.4444444444444444,
              "#bd3786"
             ],
             [
              0.5555555555555556,
              "#d8576b"
             ],
             [
              0.6666666666666666,
              "#ed7953"
             ],
             [
              0.7777777777777778,
              "#fb9f3a"
             ],
             [
              0.8888888888888888,
              "#fdca26"
             ],
             [
              1,
              "#f0f921"
             ]
            ],
            "type": "contour"
           }
          ],
          "contourcarpet": [
           {
            "colorbar": {
             "outlinewidth": 0,
             "ticks": ""
            },
            "type": "contourcarpet"
           }
          ],
          "heatmap": [
           {
            "colorbar": {
             "outlinewidth": 0,
             "ticks": ""
            },
            "colorscale": [
             [
              0,
              "#0d0887"
             ],
             [
              0.1111111111111111,
              "#46039f"
             ],
             [
              0.2222222222222222,
              "#7201a8"
             ],
             [
              0.3333333333333333,
              "#9c179e"
             ],
             [
              0.4444444444444444,
              "#bd3786"
             ],
             [
              0.5555555555555556,
              "#d8576b"
             ],
             [
              0.6666666666666666,
              "#ed7953"
             ],
             [
              0.7777777777777778,
              "#fb9f3a"
             ],
             [
              0.8888888888888888,
              "#fdca26"
             ],
             [
              1,
              "#f0f921"
             ]
            ],
            "type": "heatmap"
           }
          ],
          "heatmapgl": [
           {
            "colorbar": {
             "outlinewidth": 0,
             "ticks": ""
            },
            "colorscale": [
             [
              0,
              "#0d0887"
             ],
             [
              0.1111111111111111,
              "#46039f"
             ],
             [
              0.2222222222222222,
              "#7201a8"
             ],
             [
              0.3333333333333333,
              "#9c179e"
             ],
             [
              0.4444444444444444,
              "#bd3786"
             ],
             [
              0.5555555555555556,
              "#d8576b"
             ],
             [
              0.6666666666666666,
              "#ed7953"
             ],
             [
              0.7777777777777778,
              "#fb9f3a"
             ],
             [
              0.8888888888888888,
              "#fdca26"
             ],
             [
              1,
              "#f0f921"
             ]
            ],
            "type": "heatmapgl"
           }
          ],
          "histogram": [
           {
            "marker": {
             "colorbar": {
              "outlinewidth": 0,
              "ticks": ""
             }
            },
            "type": "histogram"
           }
          ],
          "histogram2d": [
           {
            "colorbar": {
             "outlinewidth": 0,
             "ticks": ""
            },
            "colorscale": [
             [
              0,
              "#0d0887"
             ],
             [
              0.1111111111111111,
              "#46039f"
             ],
             [
              0.2222222222222222,
              "#7201a8"
             ],
             [
              0.3333333333333333,
              "#9c179e"
             ],
             [
              0.4444444444444444,
              "#bd3786"
             ],
             [
              0.5555555555555556,
              "#d8576b"
             ],
             [
              0.6666666666666666,
              "#ed7953"
             ],
             [
              0.7777777777777778,
              "#fb9f3a"
             ],
             [
              0.8888888888888888,
              "#fdca26"
             ],
             [
              1,
              "#f0f921"
             ]
            ],
            "type": "histogram2d"
           }
          ],
          "histogram2dcontour": [
           {
            "colorbar": {
             "outlinewidth": 0,
             "ticks": ""
            },
            "colorscale": [
             [
              0,
              "#0d0887"
             ],
             [
              0.1111111111111111,
              "#46039f"
             ],
             [
              0.2222222222222222,
              "#7201a8"
             ],
             [
              0.3333333333333333,
              "#9c179e"
             ],
             [
              0.4444444444444444,
              "#bd3786"
             ],
             [
              0.5555555555555556,
              "#d8576b"
             ],
             [
              0.6666666666666666,
              "#ed7953"
             ],
             [
              0.7777777777777778,
              "#fb9f3a"
             ],
             [
              0.8888888888888888,
              "#fdca26"
             ],
             [
              1,
              "#f0f921"
             ]
            ],
            "type": "histogram2dcontour"
           }
          ],
          "mesh3d": [
           {
            "colorbar": {
             "outlinewidth": 0,
             "ticks": ""
            },
            "type": "mesh3d"
           }
          ],
          "parcoords": [
           {
            "line": {
             "colorbar": {
              "outlinewidth": 0,
              "ticks": ""
             }
            },
            "type": "parcoords"
           }
          ],
          "pie": [
           {
            "automargin": true,
            "type": "pie"
           }
          ],
          "scatter": [
           {
            "marker": {
             "colorbar": {
              "outlinewidth": 0,
              "ticks": ""
             }
            },
            "type": "scatter"
           }
          ],
          "scatter3d": [
           {
            "line": {
             "colorbar": {
              "outlinewidth": 0,
              "ticks": ""
             }
            },
            "marker": {
             "colorbar": {
              "outlinewidth": 0,
              "ticks": ""
             }
            },
            "type": "scatter3d"
           }
          ],
          "scattercarpet": [
           {
            "marker": {
             "colorbar": {
              "outlinewidth": 0,
              "ticks": ""
             }
            },
            "type": "scattercarpet"
           }
          ],
          "scattergeo": [
           {
            "marker": {
             "colorbar": {
              "outlinewidth": 0,
              "ticks": ""
             }
            },
            "type": "scattergeo"
           }
          ],
          "scattergl": [
           {
            "marker": {
             "colorbar": {
              "outlinewidth": 0,
              "ticks": ""
             }
            },
            "type": "scattergl"
           }
          ],
          "scattermapbox": [
           {
            "marker": {
             "colorbar": {
              "outlinewidth": 0,
              "ticks": ""
             }
            },
            "type": "scattermapbox"
           }
          ],
          "scatterpolar": [
           {
            "marker": {
             "colorbar": {
              "outlinewidth": 0,
              "ticks": ""
             }
            },
            "type": "scatterpolar"
           }
          ],
          "scatterpolargl": [
           {
            "marker": {
             "colorbar": {
              "outlinewidth": 0,
              "ticks": ""
             }
            },
            "type": "scatterpolargl"
           }
          ],
          "scatterternary": [
           {
            "marker": {
             "colorbar": {
              "outlinewidth": 0,
              "ticks": ""
             }
            },
            "type": "scatterternary"
           }
          ],
          "surface": [
           {
            "colorbar": {
             "outlinewidth": 0,
             "ticks": ""
            },
            "colorscale": [
             [
              0,
              "#0d0887"
             ],
             [
              0.1111111111111111,
              "#46039f"
             ],
             [
              0.2222222222222222,
              "#7201a8"
             ],
             [
              0.3333333333333333,
              "#9c179e"
             ],
             [
              0.4444444444444444,
              "#bd3786"
             ],
             [
              0.5555555555555556,
              "#d8576b"
             ],
             [
              0.6666666666666666,
              "#ed7953"
             ],
             [
              0.7777777777777778,
              "#fb9f3a"
             ],
             [
              0.8888888888888888,
              "#fdca26"
             ],
             [
              1,
              "#f0f921"
             ]
            ],
            "type": "surface"
           }
          ],
          "table": [
           {
            "cells": {
             "fill": {
              "color": "#EBF0F8"
             },
             "line": {
              "color": "white"
             }
            },
            "header": {
             "fill": {
              "color": "#C8D4E3"
             },
             "line": {
              "color": "white"
             }
            },
            "type": "table"
           }
          ]
         },
         "layout": {
          "annotationdefaults": {
           "arrowcolor": "#2a3f5f",
           "arrowhead": 0,
           "arrowwidth": 1
          },
          "coloraxis": {
           "colorbar": {
            "outlinewidth": 0,
            "ticks": ""
           }
          },
          "colorscale": {
           "diverging": [
            [
             0,
             "#8e0152"
            ],
            [
             0.1,
             "#c51b7d"
            ],
            [
             0.2,
             "#de77ae"
            ],
            [
             0.3,
             "#f1b6da"
            ],
            [
             0.4,
             "#fde0ef"
            ],
            [
             0.5,
             "#f7f7f7"
            ],
            [
             0.6,
             "#e6f5d0"
            ],
            [
             0.7,
             "#b8e186"
            ],
            [
             0.8,
             "#7fbc41"
            ],
            [
             0.9,
             "#4d9221"
            ],
            [
             1,
             "#276419"
            ]
           ],
           "sequential": [
            [
             0,
             "#0d0887"
            ],
            [
             0.1111111111111111,
             "#46039f"
            ],
            [
             0.2222222222222222,
             "#7201a8"
            ],
            [
             0.3333333333333333,
             "#9c179e"
            ],
            [
             0.4444444444444444,
             "#bd3786"
            ],
            [
             0.5555555555555556,
             "#d8576b"
            ],
            [
             0.6666666666666666,
             "#ed7953"
            ],
            [
             0.7777777777777778,
             "#fb9f3a"
            ],
            [
             0.8888888888888888,
             "#fdca26"
            ],
            [
             1,
             "#f0f921"
            ]
           ],
           "sequentialminus": [
            [
             0,
             "#0d0887"
            ],
            [
             0.1111111111111111,
             "#46039f"
            ],
            [
             0.2222222222222222,
             "#7201a8"
            ],
            [
             0.3333333333333333,
             "#9c179e"
            ],
            [
             0.4444444444444444,
             "#bd3786"
            ],
            [
             0.5555555555555556,
             "#d8576b"
            ],
            [
             0.6666666666666666,
             "#ed7953"
            ],
            [
             0.7777777777777778,
             "#fb9f3a"
            ],
            [
             0.8888888888888888,
             "#fdca26"
            ],
            [
             1,
             "#f0f921"
            ]
           ]
          },
          "colorway": [
           "#636efa",
           "#EF553B",
           "#00cc96",
           "#ab63fa",
           "#FFA15A",
           "#19d3f3",
           "#FF6692",
           "#B6E880",
           "#FF97FF",
           "#FECB52"
          ],
          "font": {
           "color": "#2a3f5f"
          },
          "geo": {
           "bgcolor": "white",
           "lakecolor": "white",
           "landcolor": "#E5ECF6",
           "showlakes": true,
           "showland": true,
           "subunitcolor": "white"
          },
          "hoverlabel": {
           "align": "left"
          },
          "hovermode": "closest",
          "mapbox": {
           "style": "light"
          },
          "paper_bgcolor": "white",
          "plot_bgcolor": "#E5ECF6",
          "polar": {
           "angularaxis": {
            "gridcolor": "white",
            "linecolor": "white",
            "ticks": ""
           },
           "bgcolor": "#E5ECF6",
           "radialaxis": {
            "gridcolor": "white",
            "linecolor": "white",
            "ticks": ""
           }
          },
          "scene": {
           "xaxis": {
            "backgroundcolor": "#E5ECF6",
            "gridcolor": "white",
            "gridwidth": 2,
            "linecolor": "white",
            "showbackground": true,
            "ticks": "",
            "zerolinecolor": "white"
           },
           "yaxis": {
            "backgroundcolor": "#E5ECF6",
            "gridcolor": "white",
            "gridwidth": 2,
            "linecolor": "white",
            "showbackground": true,
            "ticks": "",
            "zerolinecolor": "white"
           },
           "zaxis": {
            "backgroundcolor": "#E5ECF6",
            "gridcolor": "white",
            "gridwidth": 2,
            "linecolor": "white",
            "showbackground": true,
            "ticks": "",
            "zerolinecolor": "white"
           }
          },
          "shapedefaults": {
           "line": {
            "color": "#2a3f5f"
           }
          },
          "ternary": {
           "aaxis": {
            "gridcolor": "white",
            "linecolor": "white",
            "ticks": ""
           },
           "baxis": {
            "gridcolor": "white",
            "linecolor": "white",
            "ticks": ""
           },
           "bgcolor": "#E5ECF6",
           "caxis": {
            "gridcolor": "white",
            "linecolor": "white",
            "ticks": ""
           }
          },
          "title": {
           "x": 0.05
          },
          "xaxis": {
           "automargin": true,
           "gridcolor": "white",
           "linecolor": "white",
           "ticks": "",
           "title": {
            "standoff": 15
           },
           "zerolinecolor": "white",
           "zerolinewidth": 2
          },
          "yaxis": {
           "automargin": true,
           "gridcolor": "white",
           "linecolor": "white",
           "ticks": "",
           "title": {
            "standoff": 15
           },
           "zerolinecolor": "white",
           "zerolinewidth": 2
          }
         }
        },
        "title": {
         "text": "Degree vs Utility transfers (kg)"
        },
        "xaxis": {
         "title": {
          "text": "degree"
         }
        },
        "yaxis": {
         "title": {
          "text": "utility transfered"
         }
        }
       }
      },
      "text/html": [
       "<div>\n",
       "        \n",
       "        \n",
       "            <div id=\"85dc7413-38ed-4ae8-80f6-6625ffc77420\" class=\"plotly-graph-div\" style=\"height:525px; width:100%;\"></div>\n",
       "            <script type=\"text/javascript\">\n",
       "                require([\"plotly\"], function(Plotly) {\n",
       "                    window.PLOTLYENV=window.PLOTLYENV || {};\n",
       "                    \n",
       "                if (document.getElementById(\"85dc7413-38ed-4ae8-80f6-6625ffc77420\")) {\n",
       "                    Plotly.newPlot(\n",
       "                        '85dc7413-38ed-4ae8-80f6-6625ffc77420',\n",
       "                        [{\"error_y\": {\"array\": [0.03825888114856718, 0.15176829536340075, 0.139568215199957, 0.29221729329739815, 0.06673957993487434, 0.0, 0.21336515966301686, 0.0], \"type\": \"data\", \"visible\": true}, \"hoverinfo\": \"skip\", \"marker\": {\"color\": \"rgb(31, 119, 180)\"}, \"mode\": \"lines+markers\", \"name\": \"In transfers (r=8)\", \"type\": \"scatter\", \"x\": [2, 3, 4, 5, 6, 7, 8, 9], \"y\": [0.5, 0.4519708994708994, 0.4658085363217503, 0.45187126785037, 0.47449735449735453, 0.4722222222222222, 0.2222222222222222, 0.33333333333333326]}, {\"hoverinfo\": \"skip\", \"marker\": {\"color\": \"rgb(31, 119, 180)\"}, \"mode\": \"markers\", \"name\": \"In transfers per iter (r=8)\", \"opacity\": 0.3, \"type\": \"scatter\", \"x\": [4, 4, 4, 4, 4, 4, 4, 4, 4, 4, 3, 3, 3, 3, 3, 3, 3, 3, 3, 3, 6, 6, 6, 6, 6, 6, 6, 6, 6, 6, 2, 2, 2, 2, 2, 2, 5, 5, 5, 5, 5, 5, 5, 5, 5, 5, 8, 7, 7, 7, 7, 9], \"y\": [0.48148148148148134, 0.5299145299145299, 0.41880341880341876, 0.5123456790123457, 0.4829059829059829, 0.45751633986928103, 0.4444444444444444, 0.3986928104575163, 0.48309178743961345, 0.44888888888888895, 0.41666666666666663, 0.5138888888888888, 0.11111111111111113, 0.5308641975308643, 0.6222222222222222, 0.6666666666666667, 0.5277777777777778, 0.4320987654320988, 0.33333333333333337, 0.3650793650793651, 0.4444444444444444, 0.3148148148148148, 0.6296296296296297, 0.46031746031746035, 0.7777777777777778, 0.37777777777777777, 0.4888888888888888, 0.48148148148148157, 0.2698412698412699, 0.5, 0.1111111111111111, 0.6666666666666665, 1.0, 0.4444444444444445, 0.22222222222222224, 0.5555555555555556, 0.47777777777777775, 0.537037037037037, 0.5277777777777778, 0.34814814814814815, 0.41880341880341876, 0.5347222222222222, 0.3675213675213675, 0.42105263157894735, 0.3986928104575163, 0.48717948717948717, 0.2222222222222222, 0.6666666666666666, 0.11111111111111116, 0.5555555555555556, 0.5555555555555555, 0.33333333333333326]}, {\"error_y\": {\"array\": [0.1275125061037059, 0.06832694286282548, 0.046101522206913, 0.07101530640494902, 0.37659380352270727, 0.6285393610547089, 0.3247671026287321, 0.0], \"type\": \"data\", \"visible\": true}, \"hoverinfo\": \"skip\", \"marker\": {\"color\": \"rgb(255, 127, 14)\"}, \"mode\": \"lines+markers\", \"name\": \"Out transfers (r=8)\", \"type\": \"scatter\", \"x\": [2, 3, 4, 5, 6, 7, 8, 9], \"y\": [0.2654320987654321, 0.17847349597136467, 0.22437299278232473, 0.21599001116626174, 0.2518847202180535, 0.32936507936507936, 0.4444444444444444, 0.0]}, {\"hoverinfo\": \"skip\", \"marker\": {\"color\": \"rgb(255, 127, 14)\"}, \"mode\": \"markers\", \"name\": \"Out transfers per iter (r=8)\", \"opacity\": 0.3, \"type\": \"scatter\", \"x\": [6, 6, 6, 6, 6, 6, 6, 6, 6, 6, 5, 5, 5, 5, 5, 5, 5, 5, 5, 5, 4, 4, 4, 4, 4, 4, 4, 4, 4, 4, 3, 3, 3, 3, 3, 3, 3, 3, 3, 3, 2, 2, 2, 2, 2, 2, 2, 2, 2, 8, 8, 8, 7, 7, 7, 7, 7, 7, 7, 9], \"y\": [0.19444444444444442, 0.2037037037037037, 0.04938271604938271, 0.3111111111111111, 0.16049382716049382, 0.2555555555555556, 0.2222222222222222, 0.5714285714285714, 0.2727272727272727, 0.2777777777777778, 0.14529914529914528, 0.24691358024691354, 0.3602693602693603, 0.19528619528619529, 0.21256038647342998, 0.2867383512544803, 0.23569023569023567, 0.15185185185185185, 0.2088888888888889, 0.11640211640211641, 0.25474254742547425, 0.22649572649572652, 0.17344173441734417, 0.20987654320987656, 0.2753623188405797, 0.2, 0.2, 0.17777777777777776, 0.1975308641975309, 0.3285024154589372, 0.13725490196078433, 0.2121212121212121, 0.07407407407407408, 0.2037037037037037, 0.06790123456790124, 0.1388888888888889, 0.19806763285024154, 0.31481481481481477, 0.2156862745098039, 0.22222222222222218, 0.0, 0.2777777777777778, 0.5, 1.2222222222222223, 0.2777777777777778, 0.0, 0.1111111111111111, 0.0, 0.0, 0.0, 0.0, 1.3333333333333333, 0.0, 0.7222222222222221, 0.5555555555555556, 0.7777777777777777, 0.0, 0.0, 0.25, 0.0]}],\n",
       "                        {\"plot_bgcolor\": \"rgba(0,0,0,0)\", \"showlegend\": true, \"template\": {\"data\": {\"bar\": [{\"error_x\": {\"color\": \"#2a3f5f\"}, \"error_y\": {\"color\": \"#2a3f5f\"}, \"marker\": {\"line\": {\"color\": \"#E5ECF6\", \"width\": 0.5}}, \"type\": \"bar\"}], \"barpolar\": [{\"marker\": {\"line\": {\"color\": \"#E5ECF6\", \"width\": 0.5}}, \"type\": \"barpolar\"}], \"carpet\": [{\"aaxis\": {\"endlinecolor\": \"#2a3f5f\", \"gridcolor\": \"white\", \"linecolor\": \"white\", \"minorgridcolor\": \"white\", \"startlinecolor\": \"#2a3f5f\"}, \"baxis\": {\"endlinecolor\": \"#2a3f5f\", \"gridcolor\": \"white\", \"linecolor\": \"white\", \"minorgridcolor\": \"white\", \"startlinecolor\": \"#2a3f5f\"}, \"type\": \"carpet\"}], \"choropleth\": [{\"colorbar\": {\"outlinewidth\": 0, \"ticks\": \"\"}, \"type\": \"choropleth\"}], \"contour\": [{\"colorbar\": {\"outlinewidth\": 0, \"ticks\": \"\"}, \"colorscale\": [[0.0, \"#0d0887\"], [0.1111111111111111, \"#46039f\"], [0.2222222222222222, \"#7201a8\"], [0.3333333333333333, \"#9c179e\"], [0.4444444444444444, \"#bd3786\"], [0.5555555555555556, \"#d8576b\"], [0.6666666666666666, \"#ed7953\"], [0.7777777777777778, \"#fb9f3a\"], [0.8888888888888888, \"#fdca26\"], [1.0, \"#f0f921\"]], \"type\": \"contour\"}], \"contourcarpet\": [{\"colorbar\": {\"outlinewidth\": 0, \"ticks\": \"\"}, \"type\": \"contourcarpet\"}], \"heatmap\": [{\"colorbar\": {\"outlinewidth\": 0, \"ticks\": \"\"}, \"colorscale\": [[0.0, \"#0d0887\"], [0.1111111111111111, \"#46039f\"], [0.2222222222222222, \"#7201a8\"], [0.3333333333333333, \"#9c179e\"], [0.4444444444444444, \"#bd3786\"], [0.5555555555555556, \"#d8576b\"], [0.6666666666666666, \"#ed7953\"], [0.7777777777777778, \"#fb9f3a\"], [0.8888888888888888, \"#fdca26\"], [1.0, \"#f0f921\"]], \"type\": \"heatmap\"}], \"heatmapgl\": [{\"colorbar\": {\"outlinewidth\": 0, \"ticks\": \"\"}, \"colorscale\": [[0.0, \"#0d0887\"], [0.1111111111111111, \"#46039f\"], [0.2222222222222222, \"#7201a8\"], [0.3333333333333333, \"#9c179e\"], [0.4444444444444444, \"#bd3786\"], [0.5555555555555556, \"#d8576b\"], [0.6666666666666666, \"#ed7953\"], [0.7777777777777778, \"#fb9f3a\"], [0.8888888888888888, \"#fdca26\"], [1.0, \"#f0f921\"]], \"type\": \"heatmapgl\"}], \"histogram\": [{\"marker\": {\"colorbar\": {\"outlinewidth\": 0, \"ticks\": \"\"}}, \"type\": \"histogram\"}], \"histogram2d\": [{\"colorbar\": {\"outlinewidth\": 0, \"ticks\": \"\"}, \"colorscale\": [[0.0, \"#0d0887\"], [0.1111111111111111, \"#46039f\"], [0.2222222222222222, \"#7201a8\"], [0.3333333333333333, \"#9c179e\"], [0.4444444444444444, \"#bd3786\"], [0.5555555555555556, \"#d8576b\"], [0.6666666666666666, \"#ed7953\"], [0.7777777777777778, \"#fb9f3a\"], [0.8888888888888888, \"#fdca26\"], [1.0, \"#f0f921\"]], \"type\": \"histogram2d\"}], \"histogram2dcontour\": [{\"colorbar\": {\"outlinewidth\": 0, \"ticks\": \"\"}, \"colorscale\": [[0.0, \"#0d0887\"], [0.1111111111111111, \"#46039f\"], [0.2222222222222222, \"#7201a8\"], [0.3333333333333333, \"#9c179e\"], [0.4444444444444444, \"#bd3786\"], [0.5555555555555556, \"#d8576b\"], [0.6666666666666666, \"#ed7953\"], [0.7777777777777778, \"#fb9f3a\"], [0.8888888888888888, \"#fdca26\"], [1.0, \"#f0f921\"]], \"type\": \"histogram2dcontour\"}], \"mesh3d\": [{\"colorbar\": {\"outlinewidth\": 0, \"ticks\": \"\"}, \"type\": \"mesh3d\"}], \"parcoords\": [{\"line\": {\"colorbar\": {\"outlinewidth\": 0, \"ticks\": \"\"}}, \"type\": \"parcoords\"}], \"pie\": [{\"automargin\": true, \"type\": \"pie\"}], \"scatter\": [{\"marker\": {\"colorbar\": {\"outlinewidth\": 0, \"ticks\": \"\"}}, \"type\": \"scatter\"}], \"scatter3d\": [{\"line\": {\"colorbar\": {\"outlinewidth\": 0, \"ticks\": \"\"}}, \"marker\": {\"colorbar\": {\"outlinewidth\": 0, \"ticks\": \"\"}}, \"type\": \"scatter3d\"}], \"scattercarpet\": [{\"marker\": {\"colorbar\": {\"outlinewidth\": 0, \"ticks\": \"\"}}, \"type\": \"scattercarpet\"}], \"scattergeo\": [{\"marker\": {\"colorbar\": {\"outlinewidth\": 0, \"ticks\": \"\"}}, \"type\": \"scattergeo\"}], \"scattergl\": [{\"marker\": {\"colorbar\": {\"outlinewidth\": 0, \"ticks\": \"\"}}, \"type\": \"scattergl\"}], \"scattermapbox\": [{\"marker\": {\"colorbar\": {\"outlinewidth\": 0, \"ticks\": \"\"}}, \"type\": \"scattermapbox\"}], \"scatterpolar\": [{\"marker\": {\"colorbar\": {\"outlinewidth\": 0, \"ticks\": \"\"}}, \"type\": \"scatterpolar\"}], \"scatterpolargl\": [{\"marker\": {\"colorbar\": {\"outlinewidth\": 0, \"ticks\": \"\"}}, \"type\": \"scatterpolargl\"}], \"scatterternary\": [{\"marker\": {\"colorbar\": {\"outlinewidth\": 0, \"ticks\": \"\"}}, \"type\": \"scatterternary\"}], \"surface\": [{\"colorbar\": {\"outlinewidth\": 0, \"ticks\": \"\"}, \"colorscale\": [[0.0, \"#0d0887\"], [0.1111111111111111, \"#46039f\"], [0.2222222222222222, \"#7201a8\"], [0.3333333333333333, \"#9c179e\"], [0.4444444444444444, \"#bd3786\"], [0.5555555555555556, \"#d8576b\"], [0.6666666666666666, \"#ed7953\"], [0.7777777777777778, \"#fb9f3a\"], [0.8888888888888888, \"#fdca26\"], [1.0, \"#f0f921\"]], \"type\": \"surface\"}], \"table\": [{\"cells\": {\"fill\": {\"color\": \"#EBF0F8\"}, \"line\": {\"color\": \"white\"}}, \"header\": {\"fill\": {\"color\": \"#C8D4E3\"}, \"line\": {\"color\": \"white\"}}, \"type\": \"table\"}]}, \"layout\": {\"annotationdefaults\": {\"arrowcolor\": \"#2a3f5f\", \"arrowhead\": 0, \"arrowwidth\": 1}, \"coloraxis\": {\"colorbar\": {\"outlinewidth\": 0, \"ticks\": \"\"}}, \"colorscale\": {\"diverging\": [[0, \"#8e0152\"], [0.1, \"#c51b7d\"], [0.2, \"#de77ae\"], [0.3, \"#f1b6da\"], [0.4, \"#fde0ef\"], [0.5, \"#f7f7f7\"], [0.6, \"#e6f5d0\"], [0.7, \"#b8e186\"], [0.8, \"#7fbc41\"], [0.9, \"#4d9221\"], [1, \"#276419\"]], \"sequential\": [[0.0, \"#0d0887\"], [0.1111111111111111, \"#46039f\"], [0.2222222222222222, \"#7201a8\"], [0.3333333333333333, \"#9c179e\"], [0.4444444444444444, \"#bd3786\"], [0.5555555555555556, \"#d8576b\"], [0.6666666666666666, \"#ed7953\"], [0.7777777777777778, \"#fb9f3a\"], [0.8888888888888888, \"#fdca26\"], [1.0, \"#f0f921\"]], \"sequentialminus\": [[0.0, \"#0d0887\"], [0.1111111111111111, \"#46039f\"], [0.2222222222222222, \"#7201a8\"], [0.3333333333333333, \"#9c179e\"], [0.4444444444444444, \"#bd3786\"], [0.5555555555555556, \"#d8576b\"], [0.6666666666666666, \"#ed7953\"], [0.7777777777777778, \"#fb9f3a\"], [0.8888888888888888, \"#fdca26\"], [1.0, \"#f0f921\"]]}, \"colorway\": [\"#636efa\", \"#EF553B\", \"#00cc96\", \"#ab63fa\", \"#FFA15A\", \"#19d3f3\", \"#FF6692\", \"#B6E880\", \"#FF97FF\", \"#FECB52\"], \"font\": {\"color\": \"#2a3f5f\"}, \"geo\": {\"bgcolor\": \"white\", \"lakecolor\": \"white\", \"landcolor\": \"#E5ECF6\", \"showlakes\": true, \"showland\": true, \"subunitcolor\": \"white\"}, \"hoverlabel\": {\"align\": \"left\"}, \"hovermode\": \"closest\", \"mapbox\": {\"style\": \"light\"}, \"paper_bgcolor\": \"white\", \"plot_bgcolor\": \"#E5ECF6\", \"polar\": {\"angularaxis\": {\"gridcolor\": \"white\", \"linecolor\": \"white\", \"ticks\": \"\"}, \"bgcolor\": \"#E5ECF6\", \"radialaxis\": {\"gridcolor\": \"white\", \"linecolor\": \"white\", \"ticks\": \"\"}}, \"scene\": {\"xaxis\": {\"backgroundcolor\": \"#E5ECF6\", \"gridcolor\": \"white\", \"gridwidth\": 2, \"linecolor\": \"white\", \"showbackground\": true, \"ticks\": \"\", \"zerolinecolor\": \"white\"}, \"yaxis\": {\"backgroundcolor\": \"#E5ECF6\", \"gridcolor\": \"white\", \"gridwidth\": 2, \"linecolor\": \"white\", \"showbackground\": true, \"ticks\": \"\", \"zerolinecolor\": \"white\"}, \"zaxis\": {\"backgroundcolor\": \"#E5ECF6\", \"gridcolor\": \"white\", \"gridwidth\": 2, \"linecolor\": \"white\", \"showbackground\": true, \"ticks\": \"\", \"zerolinecolor\": \"white\"}}, \"shapedefaults\": {\"line\": {\"color\": \"#2a3f5f\"}}, \"ternary\": {\"aaxis\": {\"gridcolor\": \"white\", \"linecolor\": \"white\", \"ticks\": \"\"}, \"baxis\": {\"gridcolor\": \"white\", \"linecolor\": \"white\", \"ticks\": \"\"}, \"bgcolor\": \"#E5ECF6\", \"caxis\": {\"gridcolor\": \"white\", \"linecolor\": \"white\", \"ticks\": \"\"}}, \"title\": {\"x\": 0.05}, \"xaxis\": {\"automargin\": true, \"gridcolor\": \"white\", \"linecolor\": \"white\", \"ticks\": \"\", \"title\": {\"standoff\": 15}, \"zerolinecolor\": \"white\", \"zerolinewidth\": 2}, \"yaxis\": {\"automargin\": true, \"gridcolor\": \"white\", \"linecolor\": \"white\", \"ticks\": \"\", \"title\": {\"standoff\": 15}, \"zerolinecolor\": \"white\", \"zerolinewidth\": 2}}}, \"title\": {\"text\": \"Degree vs Utility transfers (kg)\"}, \"xaxis\": {\"title\": {\"text\": \"degree\"}}, \"yaxis\": {\"title\": {\"text\": \"utility transfered\"}}},\n",
       "                        {\"responsive\": true}\n",
       "                    ).then(function(){\n",
       "                            \n",
       "var gd = document.getElementById('85dc7413-38ed-4ae8-80f6-6625ffc77420');\n",
       "var x = new MutationObserver(function (mutations, observer) {{\n",
       "        var display = window.getComputedStyle(gd).display;\n",
       "        if (!display || display === 'none') {{\n",
       "            console.log([gd, 'removed!']);\n",
       "            Plotly.purge(gd);\n",
       "            observer.disconnect();\n",
       "        }}\n",
       "}});\n",
       "\n",
       "// Listen for the removal of the full notebook cells\n",
       "var notebookContainer = gd.closest('#notebook-container');\n",
       "if (notebookContainer) {{\n",
       "    x.observe(notebookContainer, {childList: true});\n",
       "}}\n",
       "\n",
       "// Listen for the clearing of the current output cell\n",
       "var outputEl = gd.closest('.output');\n",
       "if (outputEl) {{\n",
       "    x.observe(outputEl, {childList: true});\n",
       "}}\n",
       "\n",
       "                        })\n",
       "                };\n",
       "                });\n",
       "            </script>\n",
       "        </div>"
      ]
     },
     "metadata": {},
     "output_type": "display_data"
    },
    {
     "data": {
      "application/vnd.plotly.v1+json": {
       "config": {
        "linkText": "Export to plot.ly",
        "plotlyServerURL": "https://plot.ly",
        "showLink": false
       },
       "data": [
        {
         "error_y": {
          "array": [
           0.02701754109722525
          ],
          "type": "data",
          "visible": true
         },
         "hoverinfo": "skip",
         "marker": {
          "color": "rgb(31, 119, 180)"
         },
         "mode": "lines+markers",
         "name": "In transfers (r=8 ntwk=rl)",
         "type": "scatter",
         "x": [
          5
         ],
         "y": [
          0.4661382126897527
         ]
        },
        {
         "hoverinfo": "skip",
         "marker": {
          "color": "rgb(31, 119, 180)"
         },
         "mode": "markers",
         "name": "In transfers per iter (r=8 ntwk=rl)",
         "opacity": 0.3,
         "type": "scatter",
         "x": [
          5,
          5,
          5,
          5,
          5,
          5,
          5,
          5,
          5,
          5
         ],
         "y": [
          0.4236111111111111,
          0.513888888888889,
          0.4486373165618448,
          0.47165532879818595,
          0.4383838383838383,
          0.4842767295597484,
          0.4828282828282829,
          0.49588477366255146,
          0.44217687074829926,
          0.4600389863547758
         ]
        },
        {
         "error_y": {
          "array": [
           0.020325742359607338
          ],
          "type": "data",
          "visible": true
         },
         "hoverinfo": "skip",
         "marker": {
          "color": "rgb(255, 127, 14)"
         },
         "mode": "lines+markers",
         "name": "Out transfers (r=8 ntwk=rl)",
         "type": "scatter",
         "x": [
          5
         ],
         "y": [
          0.24288888888888888
         ]
        },
        {
         "hoverinfo": "skip",
         "marker": {
          "color": "rgb(255, 127, 14)"
         },
         "mode": "markers",
         "name": "Out transfers per iter (r=8 ntwk=rl)",
         "opacity": 0.3,
         "type": "scatter",
         "x": [
          5,
          5,
          5,
          5,
          5,
          5,
          5,
          5,
          5,
          5
         ],
         "y": [
          0.2033333333333333,
          0.24666666666666667,
          0.23777777777777778,
          0.2311111111111111,
          0.2411111111111111,
          0.25666666666666665,
          0.26555555555555554,
          0.2677777777777778,
          0.21666666666666665,
          0.26222222222222225
         ]
        },
        {
         "error_y": {
          "array": [
           0.035118565321104155,
           0.14324986555949554,
           0.0817040945044117,
           0.33407325285273126,
           0.05555555555555558
          ],
          "type": "data",
          "visible": true
         },
         "hoverinfo": "skip",
         "marker": {
          "color": "rgb(44, 160, 44)"
         },
         "mode": "lines+markers",
         "name": "In transfers (r=8 ntwk=ws)",
         "type": "scatter",
         "x": [
          3,
          4,
          5,
          6,
          7
         ],
         "y": [
          0.16666666666666663,
          0.4548484848484849,
          0.47362467414608317,
          0.5044047619047619,
          0.4888888888888888
         ]
        },
        {
         "hoverinfo": "skip",
         "marker": {
          "color": "rgb(44, 160, 44)"
         },
         "mode": "markers",
         "name": "In transfers per iter (r=8 ntwk=ws)",
         "opacity": 0.3,
         "type": "scatter",
         "x": [
          5,
          5,
          5,
          5,
          5,
          5,
          5,
          5,
          5,
          5,
          4,
          4,
          4,
          4,
          4,
          4,
          4,
          4,
          4,
          4,
          6,
          6,
          6,
          6,
          6,
          6,
          6,
          6,
          6,
          6,
          7,
          7,
          7,
          7,
          7,
          3,
          3
         ],
         "y": [
          0.40849673202614367,
          0.48765432098765416,
          0.5185185185185185,
          0.46172839506172847,
          0.47936507936507927,
          0.4934640522875817,
          0.4301075268817204,
          0.5096618357487922,
          0.44107744107744107,
          0.5061728395061729,
          0.3148148148148148,
          0.48888888888888893,
          0.5,
          0.29629629629629634,
          0.4444444444444444,
          0.7373737373737375,
          0.3333333333333333,
          0.6,
          0.5555555555555556,
          0.2777777777777778,
          0.6666666666666666,
          0.4722222222222222,
          0.4861111111111111,
          0.5079365079365079,
          0.54320987654321,
          0.4722222222222222,
          0.5555555555555556,
          0.3555555555555555,
          0.41666666666666674,
          0.5679012345679013,
          0.33333333333333326,
          0.22222222222222227,
          0.11111111111111105,
          0.8888888888888888,
          0.8888888888888888,
          0.11111111111111105,
          0.2222222222222222
         ]
        },
        {
         "error_y": {
          "array": [
           0.06713815091584986,
           0.08140656776215699,
           0.12238004245405353,
           0.03674654598700818,
           0.2937580241797102
          ],
          "type": "data",
          "visible": true
         },
         "hoverinfo": "skip",
         "marker": {
          "color": "rgb(214, 39, 40)"
         },
         "mode": "lines+markers",
         "name": "Out transfers (r=8 ntwk=ws)",
         "type": "scatter",
         "x": [
          3,
          4,
          5,
          6,
          7
         ],
         "y": [
          0.013888888888888881,
          0.19803971030880213,
          0.2655188147863411,
          0.2170991952854698,
          0.25396825396825395
         ]
        },
        {
         "hoverinfo": "skip",
         "marker": {
          "color": "rgb(214, 39, 40)"
         },
         "mode": "markers",
         "name": "Out transfers per iter (r=8 ntwk=ws)",
         "opacity": 0.3,
         "type": "scatter",
         "x": [
          5,
          5,
          5,
          5,
          5,
          5,
          5,
          5,
          5,
          5,
          4,
          4,
          4,
          4,
          4,
          4,
          4,
          4,
          4,
          4,
          6,
          6,
          6,
          6,
          6,
          6,
          6,
          6,
          6,
          6,
          3,
          3,
          3,
          3,
          3,
          3,
          3,
          3,
          7,
          7,
          7,
          7,
          7,
          7,
          7
         ],
         "y": [
          0.1956882255389718,
          0.3384615384615385,
          0.20947176684881602,
          0.28767123287671226,
          0.27450980392156865,
          0.3698175787728027,
          0.24479166666666666,
          0.35064935064935066,
          0.1619047619047619,
          0.22222222222222218,
          0.23703703703703705,
          0.09876543209876541,
          0.2573099415204678,
          0.17948717948717946,
          0.36111111111111105,
          0.1736111111111111,
          0.20915032679738563,
          0.08080808080808081,
          0.2619047619047619,
          0.1212121212121212,
          0.2222222222222222,
          0.10416666666666666,
          0.35947712418300654,
          0.2828282828282828,
          0.04861111111111112,
          0.07936507936507937,
          0.21568627450980393,
          0.13580246913580246,
          0.2698412698412698,
          0.45299145299145294,
          0,
          0,
          0,
          0.11111111111111105,
          0,
          0,
          0,
          0,
          0.7777777777777777,
          0.49999999999999994,
          0.055555555555555525,
          0,
          0,
          0,
          0.4444444444444444
         ]
        },
        {
         "error_y": {
          "array": [
           0.08646766479523026,
           0.14830096285253985,
           0.13760006958399362,
           0.135507005321067,
           0.18566835116819022,
           0.19116278371205842,
           0.12153166448491272,
           0.17734321888347077,
           0.16229873047855917,
           0.17217686025902904,
           0.17814700264949268,
           5.551115123125783e-17,
           0.3333333333333333,
           0.15783167224194455,
           0.05555555555555555,
           0.018518518518518545,
           0
          ],
          "type": "data",
          "visible": true
         },
         "hoverinfo": "skip",
         "marker": {
          "color": "rgb(148, 103, 189)"
         },
         "mode": "lines+markers",
         "name": "In transfers (r=8 ntwk=er)",
         "type": "scatter",
         "x": [
          3,
          4,
          5,
          6,
          7,
          8,
          9,
          10,
          11,
          12,
          13,
          14,
          15,
          16,
          17,
          18,
          19
         ],
         "y": [
          0.537037037037037,
          0.5,
          0.47037037037037044,
          0.47592592592592586,
          0.4376851851851852,
          0.4616666666666667,
          0.427689594356261,
          0.5212522045855379,
          0.47358024691358025,
          0.49907407407407406,
          0.5333333333333333,
          0.3827160493827161,
          0.33127572016460904,
          0.4666666666666667,
          0.4444444444444445,
          0.5555555555555556,
          1
         ]
        },
        {
         "hoverinfo": "skip",
         "marker": {
          "color": "rgb(148, 103, 189)"
         },
         "mode": "markers",
         "name": "In transfers per iter (r=8 ntwk=er)",
         "opacity": 0.3,
         "type": "scatter",
         "x": [
          10,
          10,
          10,
          10,
          10,
          10,
          10,
          10,
          10,
          10,
          8,
          8,
          8,
          8,
          8,
          8,
          8,
          8,
          8,
          8,
          11,
          11,
          11,
          11,
          11,
          11,
          11,
          11,
          11,
          11,
          7,
          7,
          7,
          7,
          7,
          7,
          7,
          7,
          7,
          7,
          12,
          12,
          12,
          12,
          12,
          12,
          12,
          12,
          12,
          12,
          16,
          16,
          16,
          16,
          16,
          9,
          9,
          9,
          9,
          9,
          9,
          9,
          9,
          9,
          13,
          13,
          13,
          13,
          13,
          13,
          13,
          13,
          13,
          13,
          6,
          6,
          6,
          6,
          6,
          6,
          6,
          6,
          6,
          6,
          14,
          14,
          14,
          14,
          14,
          14,
          14,
          14,
          14,
          15,
          15,
          15,
          15,
          15,
          15,
          15,
          15,
          15,
          17,
          17,
          18,
          18,
          5,
          5,
          5,
          5,
          5,
          4,
          4,
          3,
          3,
          19
         ],
         "y": [
          0.48888888888888893,
          0.48148148148148145,
          0.5833333333333333,
          0.580246913580247,
          0.5555555555555555,
          0.5555555555555556,
          0.5277777777777778,
          0.5396825396825397,
          0.6111111111111112,
          0.28888888888888886,
          0.35185185185185186,
          0.36111111111111116,
          0.4444444444444445,
          0.6111111111111112,
          0.5925925925925927,
          0.33333333333333326,
          0.48888888888888893,
          0.3777777777777778,
          0.27777777777777773,
          0.7777777777777778,
          0.7777777777777777,
          0.375,
          0.3888888888888889,
          0.5802469135802468,
          0.4444444444444445,
          0.37777777777777777,
          0.27777777777777773,
          0.40740740740740744,
          0.5925925925925926,
          0.513888888888889,
          0.5370370370370371,
          0.2777777777777778,
          0.5111111111111111,
          0.4722222222222222,
          0.5555555555555555,
          0.44444444444444436,
          0.5416666666666666,
          0.5925925925925927,
          0.22222222222222227,
          0.2222222222222222,
          0.11111111111111112,
          0.7222222222222221,
          0.6296296296296297,
          0.4722222222222223,
          0.6666666666666666,
          0.5555555555555555,
          0.5555555555555556,
          0.2222222222222222,
          0.44444444444444436,
          0.6111111111111112,
          0.11111111111111105,
          0.4444444444444445,
          0.5555555555555556,
          0.5555555555555556,
          0.6666666666666667,
          0.38888888888888895,
          0.3333333333333333,
          0.5,
          0.3968253968253968,
          0.5873015873015873,
          0.36507936507936506,
          0.2222222222222222,
          0.41666666666666663,
          0.6388888888888888,
          0.48148148148148145,
          0.5833333333333334,
          0.49999999999999994,
          0.44444444444444436,
          1,
          0.4814814814814814,
          0.4722222222222222,
          0.5555555555555556,
          0.5555555555555556,
          0.25925925925925924,
          0.4444444444444444,
          0.3333333333333333,
          0.7777777777777778,
          0.7222222222222222,
          0.5555555555555556,
          0.2962962962962963,
          0.3333333333333333,
          0.40740740740740744,
          0.5555555555555555,
          0.3333333333333333,
          0.33333333333333326,
          0.611111111111111,
          0.33333333333333326,
          0.42592592592592604,
          0.5555555555555556,
          0.40740740740740744,
          0.11111111111111116,
          0.5555555555555556,
          0.11111111111111116,
          0.11111111111111116,
          0.1111111111111111,
          0.11111111111111105,
          0.5185185185185185,
          0.33333333333333337,
          0.44444444444444453,
          0.29629629629629634,
          0.4444444444444445,
          0.611111111111111,
          0.4444444444444444,
          0.44444444444444453,
          0.2222222222222222,
          0.8888888888888888,
          0.40740740740740744,
          0.4444444444444444,
          0.7777777777777778,
          0.38888888888888895,
          0.33333333333333337,
          0.4444444444444445,
          0.5555555555555556,
          0.5555555555555556,
          0.5185185185185185,
          1
         ]
        },
        {
         "error_y": {
          "array": [
           0.07817374958965881,
           0.093322634584925,
           0.14934752943030188,
           0.08941551517608239,
           0.12954836022815608,
           0.15087084316352325,
           0.34416666528274603,
           0.03658213108629424,
           0.11967014084982279,
           0.38745768387028207,
           0.21202680207386057,
           0.5676595276926095,
           0.09687352107279769,
           0.08029277584059345,
           0.10162567896221981,
           0,
           0,
           0.20951312035156963,
           0
          ],
          "type": "data",
          "visible": true
         },
         "hoverinfo": "skip",
         "marker": {
          "color": "rgb(140, 86, 75)"
         },
         "mode": "lines+markers",
         "name": "Out transfers (r=8 ntwk=er)",
         "type": "scatter",
         "x": [
          2,
          3,
          4,
          5,
          6,
          7,
          8,
          9,
          10,
          11,
          12,
          13,
          14,
          15,
          16,
          17,
          18,
          19,
          20
         ],
         "y": [
          0,
          0,
          0.017361111111111112,
          0.12674897119341563,
          0.11924603174603174,
          0.20413796080462748,
          0.21860324860324862,
          0.1552192446929289,
          0.22089318089318088,
          0.13220900015017661,
          0.15093434343434342,
          0.2702645502645502,
          0.28675925925925927,
          0.291358024691358,
          0.19560185185185186,
          0.5015873015873016,
          0.2444444444444444,
          0.14814814814814814,
          0.5555555555555556
         ]
        },
        {
         "hoverinfo": "skip",
         "marker": {
          "color": "rgb(140, 86, 75)"
         },
         "mode": "markers",
         "name": "Out transfers per iter (r=8 ntwk=er)",
         "opacity": 0.3,
         "type": "scatter",
         "x": [
          11,
          11,
          11,
          11,
          11,
          11,
          11,
          11,
          11,
          11,
          10,
          10,
          10,
          10,
          10,
          10,
          10,
          10,
          10,
          10,
          8,
          8,
          8,
          8,
          8,
          8,
          8,
          8,
          8,
          8,
          12,
          12,
          12,
          12,
          12,
          12,
          12,
          12,
          12,
          12,
          13,
          13,
          13,
          13,
          13,
          13,
          13,
          13,
          13,
          13,
          14,
          14,
          14,
          14,
          14,
          14,
          14,
          14,
          14,
          14,
          15,
          15,
          15,
          15,
          15,
          15,
          15,
          15,
          15,
          4,
          4,
          4,
          4,
          4,
          4,
          4,
          4,
          7,
          7,
          7,
          7,
          7,
          7,
          7,
          7,
          7,
          7,
          18,
          18,
          18,
          18,
          18,
          16,
          16,
          16,
          16,
          16,
          16,
          16,
          16,
          17,
          17,
          17,
          17,
          17,
          17,
          17,
          9,
          9,
          9,
          9,
          9,
          9,
          9,
          9,
          9,
          9,
          6,
          6,
          6,
          6,
          6,
          6,
          6,
          6,
          6,
          6,
          5,
          5,
          5,
          5,
          5,
          5,
          5,
          5,
          5,
          2,
          2,
          3,
          3,
          3,
          3,
          3,
          3,
          19,
          19,
          19,
          20
         ],
         "y": [
          0,
          0.16339869281045752,
          0.2698412698412698,
          0.11851851851851852,
          0.08333333333333334,
          0.0808080808080808,
          0.22222222222222218,
          0.060606060606060615,
          0.11965811965811965,
          0.20370370370370372,
          0.28703703703703703,
          0.14814814814814814,
          0.17777777777777776,
          0.2828282828282829,
          0.4351851851851851,
          0.15079365079365079,
          0.2424242424242424,
          0.10256410256410257,
          0.14285714285714285,
          0.23931623931623933,
          0.16666666666666669,
          0.16666666666666666,
          0.08888888888888888,
          0.5454545454545454,
          0.3162393162393163,
          0.27777777777777773,
          0.1111111111111111,
          0.12962962962962962,
          0.36507936507936506,
          0.018518518518518517,
          0.19444444444444445,
          0.1888888888888889,
          0.0462962962962963,
          0.26262626262626265,
          0.027777777777777776,
          0.24444444444444446,
          0.060606060606060615,
          0.04444444444444447,
          0.23148148148148148,
          0.20833333333333334,
          0.4603174603174603,
          0.25396825396825395,
          0.2698412698412698,
          0.3888888888888889,
          0.09259259259259257,
          0.2037037037037037,
          0.33333333333333326,
          0.25555555555555554,
          0.4126984126984127,
          0.03174603174603173,
          0.28888888888888886,
          0.28888888888888886,
          0.15555555555555556,
          0.5277777777777778,
          0.18055555555555555,
          0.20370370370370372,
          0.4444444444444445,
          0.4444444444444444,
          0,
          0.3333333333333333,
          0.2222222222222222,
          0.2222222222222222,
          0.38888888888888884,
          0.41666666666666663,
          0,
          0.08333333333333333,
          0.11111111111111109,
          0,
          1.1777777777777778,
          0,
          0.1111111111111111,
          0,
          0,
          0,
          0,
          0.02777777777777779,
          0,
          0.094017094017094,
          0.24074074074074073,
          0.2424242424242424,
          0.4305555555555555,
          0.18888888888888888,
          0,
          0.3185185185185185,
          0.18055555555555555,
          0.07407407407407408,
          0.2716049382716049,
          0,
          0.9999999999999999,
          0,
          0.2222222222222222,
          0,
          0.2222222222222222,
          0.3333333333333333,
          0,
          0.037037037037037035,
          0.36111111111111105,
          0.6111111111111112,
          0,
          0,
          0,
          0,
          0,
          1,
          0.0666666666666667,
          1.1111111111111112,
          1.3333333333333333,
          0.12280701754385966,
          0.08547008547008546,
          0.21481481481481482,
          0.14285714285714285,
          0.3777777777777777,
          0.1111111111111111,
          0.10317460317460318,
          0.25925925925925924,
          0.023809523809523805,
          0.11111111111111113,
          0.09523809523809525,
          0,
          0.07407407407407411,
          0.04166666666666665,
          0.24074074074074073,
          0.06944444444444443,
          0.22222222222222215,
          0.07407407407407408,
          0.1527777777777778,
          0.22222222222222224,
          0,
          0.16666666666666669,
          0.25925925925925924,
          0.24999999999999997,
          0.20370370370370372,
          0,
          0,
          0.08333333333333331,
          0.17777777777777776,
          0,
          0,
          0,
          0,
          0,
          0,
          0,
          0,
          0.4444444444444444,
          0,
          0,
          0.5555555555555556
         ]
        },
        {
         "error_y": {
          "array": [
           0.15754277511291737,
           0.015684446465430508
          ],
          "type": "data",
          "visible": true
         },
         "hoverinfo": "skip",
         "marker": {
          "color": "rgb(227, 119, 194)"
         },
         "mode": "lines+markers",
         "name": "In transfers (r=8 ntwk=cm)",
         "type": "scatter",
         "x": [
          4,
          5
         ],
         "y": [
          0.44794238683127563,
          0.4573810328503313
         ]
        },
        {
         "hoverinfo": "skip",
         "marker": {
          "color": "rgb(227, 119, 194)"
         },
         "mode": "markers",
         "name": "In transfers per iter (r=8 ntwk=cm)",
         "opacity": 0.3,
         "type": "scatter",
         "x": [
          4,
          4,
          4,
          4,
          4,
          4,
          4,
          4,
          4,
          5,
          5,
          5,
          5,
          5,
          5,
          5,
          5,
          5,
          5
         ],
         "y": [
          0.4814814814814814,
          0.3703703703703704,
          0.3333333333333333,
          0.1111111111111111,
          0.6666666666666666,
          0.6388888888888888,
          0.4666666666666667,
          0.44444444444444436,
          0.5185185185185185,
          0.4392764857881137,
          0.43843843843843844,
          0.44179894179894175,
          0.4822695035460993,
          0.46759259259259256,
          0.4761904761904761,
          0.44691358024691347,
          0.45833333333333337,
          0.4490740740740741,
          0.47392290249433106
         ]
        },
        {
         "error_y": {
          "array": [
           0.023253133473051746,
           0.07973138191156955,
           0
          ],
          "type": "data",
          "visible": true
         },
         "hoverinfo": "skip",
         "marker": {
          "color": "rgb(127, 127, 127)"
         },
         "mode": "lines+markers",
         "name": "Out transfers (r=8 ntwk=cm)",
         "type": "scatter",
         "x": [
          3,
          4,
          5
         ],
         "y": [
          0,
          0.24393004115226338,
          0.21835351872221404
         ]
        },
        {
         "hoverinfo": "skip",
         "marker": {
          "color": "rgb(127, 127, 127)"
         },
         "mode": "markers",
         "name": "Out transfers per iter (r=8 ntwk=cm)",
         "opacity": 0.3,
         "type": "scatter",
         "x": [
          5,
          5,
          5,
          5,
          5,
          5,
          5,
          5,
          5,
          5,
          4,
          4,
          4,
          4,
          4,
          4,
          4,
          4,
          4,
          3
         ],
         "y": [
          0.20801033591731263,
          0.16908212560386474,
          0.18707482993197277,
          0.23015873015873015,
          0.23263888888888892,
          0.2333333333333333,
          0.2222222222222222,
          0.21358024691358027,
          0.24275362318840574,
          0.24468085106382975,
          0.324074074074074,
          0.2222222222222222,
          0.2777777777777778,
          0.11111111111111116,
          0.3611111111111111,
          0.2777777777777778,
          0.14444444444444446,
          0.18055555555555552,
          0.2962962962962963,
          0
         ]
        },
        {
         "error_y": {
          "array": [
           0.03825888114856718,
           0.15176829536340075,
           0.139568215199957,
           0.29221729329739815,
           0.06673957993487434,
           0,
           0.21336515966301686,
           0
          ],
          "type": "data",
          "visible": true
         },
         "hoverinfo": "skip",
         "marker": {
          "color": "rgb(188, 189, 34)"
         },
         "mode": "lines+markers",
         "name": "In transfers (r=8 ntwk=kg)",
         "type": "scatter",
         "x": [
          2,
          3,
          4,
          5,
          6,
          7,
          8,
          9
         ],
         "y": [
          0.5,
          0.4519708994708994,
          0.4658085363217503,
          0.45187126785037,
          0.47449735449735453,
          0.4722222222222222,
          0.2222222222222222,
          0.33333333333333326
         ]
        },
        {
         "hoverinfo": "skip",
         "marker": {
          "color": "rgb(188, 189, 34)"
         },
         "mode": "markers",
         "name": "In transfers per iter (r=8 ntwk=kg)",
         "opacity": 0.3,
         "type": "scatter",
         "x": [
          4,
          4,
          4,
          4,
          4,
          4,
          4,
          4,
          4,
          4,
          3,
          3,
          3,
          3,
          3,
          3,
          3,
          3,
          3,
          3,
          6,
          6,
          6,
          6,
          6,
          6,
          6,
          6,
          6,
          6,
          2,
          2,
          2,
          2,
          2,
          2,
          5,
          5,
          5,
          5,
          5,
          5,
          5,
          5,
          5,
          5,
          8,
          7,
          7,
          7,
          7,
          9
         ],
         "y": [
          0.48148148148148134,
          0.5299145299145299,
          0.41880341880341876,
          0.5123456790123457,
          0.4829059829059829,
          0.45751633986928103,
          0.4444444444444444,
          0.3986928104575163,
          0.48309178743961345,
          0.44888888888888895,
          0.41666666666666663,
          0.5138888888888888,
          0.11111111111111113,
          0.5308641975308643,
          0.6222222222222222,
          0.6666666666666667,
          0.5277777777777778,
          0.4320987654320988,
          0.33333333333333337,
          0.3650793650793651,
          0.4444444444444444,
          0.3148148148148148,
          0.6296296296296297,
          0.46031746031746035,
          0.7777777777777778,
          0.37777777777777777,
          0.4888888888888888,
          0.48148148148148157,
          0.2698412698412699,
          0.5,
          0.1111111111111111,
          0.6666666666666665,
          1,
          0.4444444444444445,
          0.22222222222222224,
          0.5555555555555556,
          0.47777777777777775,
          0.537037037037037,
          0.5277777777777778,
          0.34814814814814815,
          0.41880341880341876,
          0.5347222222222222,
          0.3675213675213675,
          0.42105263157894735,
          0.3986928104575163,
          0.48717948717948717,
          0.2222222222222222,
          0.6666666666666666,
          0.11111111111111116,
          0.5555555555555556,
          0.5555555555555555,
          0.33333333333333326
         ]
        },
        {
         "error_y": {
          "array": [
           0.1275125061037059,
           0.06832694286282548,
           0.046101522206913,
           0.07101530640494902,
           0.37659380352270727,
           0.6285393610547089,
           0.3247671026287321,
           0
          ],
          "type": "data",
          "visible": true
         },
         "hoverinfo": "skip",
         "marker": {
          "color": "rgb(23, 190, 207)"
         },
         "mode": "lines+markers",
         "name": "Out transfers (r=8 ntwk=kg)",
         "type": "scatter",
         "x": [
          2,
          3,
          4,
          5,
          6,
          7,
          8,
          9
         ],
         "y": [
          0.2654320987654321,
          0.17847349597136467,
          0.22437299278232473,
          0.21599001116626174,
          0.2518847202180535,
          0.32936507936507936,
          0.4444444444444444,
          0
         ]
        },
        {
         "hoverinfo": "skip",
         "marker": {
          "color": "rgb(23, 190, 207)"
         },
         "mode": "markers",
         "name": "Out transfers per iter (r=8 ntwk=kg)",
         "opacity": 0.3,
         "type": "scatter",
         "x": [
          6,
          6,
          6,
          6,
          6,
          6,
          6,
          6,
          6,
          6,
          5,
          5,
          5,
          5,
          5,
          5,
          5,
          5,
          5,
          5,
          4,
          4,
          4,
          4,
          4,
          4,
          4,
          4,
          4,
          4,
          3,
          3,
          3,
          3,
          3,
          3,
          3,
          3,
          3,
          3,
          2,
          2,
          2,
          2,
          2,
          2,
          2,
          2,
          2,
          8,
          8,
          8,
          7,
          7,
          7,
          7,
          7,
          7,
          7,
          9
         ],
         "y": [
          0.19444444444444442,
          0.2037037037037037,
          0.04938271604938271,
          0.3111111111111111,
          0.16049382716049382,
          0.2555555555555556,
          0.2222222222222222,
          0.5714285714285714,
          0.2727272727272727,
          0.2777777777777778,
          0.14529914529914528,
          0.24691358024691354,
          0.3602693602693603,
          0.19528619528619529,
          0.21256038647342998,
          0.2867383512544803,
          0.23569023569023567,
          0.15185185185185185,
          0.2088888888888889,
          0.11640211640211641,
          0.25474254742547425,
          0.22649572649572652,
          0.17344173441734417,
          0.20987654320987656,
          0.2753623188405797,
          0.2,
          0.2,
          0.17777777777777776,
          0.1975308641975309,
          0.3285024154589372,
          0.13725490196078433,
          0.2121212121212121,
          0.07407407407407408,
          0.2037037037037037,
          0.06790123456790124,
          0.1388888888888889,
          0.19806763285024154,
          0.31481481481481477,
          0.2156862745098039,
          0.22222222222222218,
          0,
          0.2777777777777778,
          0.5,
          1.2222222222222223,
          0.2777777777777778,
          0,
          0.1111111111111111,
          0,
          0,
          0,
          0,
          1.3333333333333333,
          0,
          0.7222222222222221,
          0.5555555555555556,
          0.7777777777777777,
          0,
          0,
          0.25,
          0
         ]
        }
       ],
       "layout": {
        "plot_bgcolor": "rgba(0,0,0,0)",
        "showlegend": true,
        "template": {
         "data": {
          "bar": [
           {
            "error_x": {
             "color": "#2a3f5f"
            },
            "error_y": {
             "color": "#2a3f5f"
            },
            "marker": {
             "line": {
              "color": "#E5ECF6",
              "width": 0.5
             }
            },
            "type": "bar"
           }
          ],
          "barpolar": [
           {
            "marker": {
             "line": {
              "color": "#E5ECF6",
              "width": 0.5
             }
            },
            "type": "barpolar"
           }
          ],
          "carpet": [
           {
            "aaxis": {
             "endlinecolor": "#2a3f5f",
             "gridcolor": "white",
             "linecolor": "white",
             "minorgridcolor": "white",
             "startlinecolor": "#2a3f5f"
            },
            "baxis": {
             "endlinecolor": "#2a3f5f",
             "gridcolor": "white",
             "linecolor": "white",
             "minorgridcolor": "white",
             "startlinecolor": "#2a3f5f"
            },
            "type": "carpet"
           }
          ],
          "choropleth": [
           {
            "colorbar": {
             "outlinewidth": 0,
             "ticks": ""
            },
            "type": "choropleth"
           }
          ],
          "contour": [
           {
            "colorbar": {
             "outlinewidth": 0,
             "ticks": ""
            },
            "colorscale": [
             [
              0,
              "#0d0887"
             ],
             [
              0.1111111111111111,
              "#46039f"
             ],
             [
              0.2222222222222222,
              "#7201a8"
             ],
             [
              0.3333333333333333,
              "#9c179e"
             ],
             [
              0.4444444444444444,
              "#bd3786"
             ],
             [
              0.5555555555555556,
              "#d8576b"
             ],
             [
              0.6666666666666666,
              "#ed7953"
             ],
             [
              0.7777777777777778,
              "#fb9f3a"
             ],
             [
              0.8888888888888888,
              "#fdca26"
             ],
             [
              1,
              "#f0f921"
             ]
            ],
            "type": "contour"
           }
          ],
          "contourcarpet": [
           {
            "colorbar": {
             "outlinewidth": 0,
             "ticks": ""
            },
            "type": "contourcarpet"
           }
          ],
          "heatmap": [
           {
            "colorbar": {
             "outlinewidth": 0,
             "ticks": ""
            },
            "colorscale": [
             [
              0,
              "#0d0887"
             ],
             [
              0.1111111111111111,
              "#46039f"
             ],
             [
              0.2222222222222222,
              "#7201a8"
             ],
             [
              0.3333333333333333,
              "#9c179e"
             ],
             [
              0.4444444444444444,
              "#bd3786"
             ],
             [
              0.5555555555555556,
              "#d8576b"
             ],
             [
              0.6666666666666666,
              "#ed7953"
             ],
             [
              0.7777777777777778,
              "#fb9f3a"
             ],
             [
              0.8888888888888888,
              "#fdca26"
             ],
             [
              1,
              "#f0f921"
             ]
            ],
            "type": "heatmap"
           }
          ],
          "heatmapgl": [
           {
            "colorbar": {
             "outlinewidth": 0,
             "ticks": ""
            },
            "colorscale": [
             [
              0,
              "#0d0887"
             ],
             [
              0.1111111111111111,
              "#46039f"
             ],
             [
              0.2222222222222222,
              "#7201a8"
             ],
             [
              0.3333333333333333,
              "#9c179e"
             ],
             [
              0.4444444444444444,
              "#bd3786"
             ],
             [
              0.5555555555555556,
              "#d8576b"
             ],
             [
              0.6666666666666666,
              "#ed7953"
             ],
             [
              0.7777777777777778,
              "#fb9f3a"
             ],
             [
              0.8888888888888888,
              "#fdca26"
             ],
             [
              1,
              "#f0f921"
             ]
            ],
            "type": "heatmapgl"
           }
          ],
          "histogram": [
           {
            "marker": {
             "colorbar": {
              "outlinewidth": 0,
              "ticks": ""
             }
            },
            "type": "histogram"
           }
          ],
          "histogram2d": [
           {
            "colorbar": {
             "outlinewidth": 0,
             "ticks": ""
            },
            "colorscale": [
             [
              0,
              "#0d0887"
             ],
             [
              0.1111111111111111,
              "#46039f"
             ],
             [
              0.2222222222222222,
              "#7201a8"
             ],
             [
              0.3333333333333333,
              "#9c179e"
             ],
             [
              0.4444444444444444,
              "#bd3786"
             ],
             [
              0.5555555555555556,
              "#d8576b"
             ],
             [
              0.6666666666666666,
              "#ed7953"
             ],
             [
              0.7777777777777778,
              "#fb9f3a"
             ],
             [
              0.8888888888888888,
              "#fdca26"
             ],
             [
              1,
              "#f0f921"
             ]
            ],
            "type": "histogram2d"
           }
          ],
          "histogram2dcontour": [
           {
            "colorbar": {
             "outlinewidth": 0,
             "ticks": ""
            },
            "colorscale": [
             [
              0,
              "#0d0887"
             ],
             [
              0.1111111111111111,
              "#46039f"
             ],
             [
              0.2222222222222222,
              "#7201a8"
             ],
             [
              0.3333333333333333,
              "#9c179e"
             ],
             [
              0.4444444444444444,
              "#bd3786"
             ],
             [
              0.5555555555555556,
              "#d8576b"
             ],
             [
              0.6666666666666666,
              "#ed7953"
             ],
             [
              0.7777777777777778,
              "#fb9f3a"
             ],
             [
              0.8888888888888888,
              "#fdca26"
             ],
             [
              1,
              "#f0f921"
             ]
            ],
            "type": "histogram2dcontour"
           }
          ],
          "mesh3d": [
           {
            "colorbar": {
             "outlinewidth": 0,
             "ticks": ""
            },
            "type": "mesh3d"
           }
          ],
          "parcoords": [
           {
            "line": {
             "colorbar": {
              "outlinewidth": 0,
              "ticks": ""
             }
            },
            "type": "parcoords"
           }
          ],
          "pie": [
           {
            "automargin": true,
            "type": "pie"
           }
          ],
          "scatter": [
           {
            "marker": {
             "colorbar": {
              "outlinewidth": 0,
              "ticks": ""
             }
            },
            "type": "scatter"
           }
          ],
          "scatter3d": [
           {
            "line": {
             "colorbar": {
              "outlinewidth": 0,
              "ticks": ""
             }
            },
            "marker": {
             "colorbar": {
              "outlinewidth": 0,
              "ticks": ""
             }
            },
            "type": "scatter3d"
           }
          ],
          "scattercarpet": [
           {
            "marker": {
             "colorbar": {
              "outlinewidth": 0,
              "ticks": ""
             }
            },
            "type": "scattercarpet"
           }
          ],
          "scattergeo": [
           {
            "marker": {
             "colorbar": {
              "outlinewidth": 0,
              "ticks": ""
             }
            },
            "type": "scattergeo"
           }
          ],
          "scattergl": [
           {
            "marker": {
             "colorbar": {
              "outlinewidth": 0,
              "ticks": ""
             }
            },
            "type": "scattergl"
           }
          ],
          "scattermapbox": [
           {
            "marker": {
             "colorbar": {
              "outlinewidth": 0,
              "ticks": ""
             }
            },
            "type": "scattermapbox"
           }
          ],
          "scatterpolar": [
           {
            "marker": {
             "colorbar": {
              "outlinewidth": 0,
              "ticks": ""
             }
            },
            "type": "scatterpolar"
           }
          ],
          "scatterpolargl": [
           {
            "marker": {
             "colorbar": {
              "outlinewidth": 0,
              "ticks": ""
             }
            },
            "type": "scatterpolargl"
           }
          ],
          "scatterternary": [
           {
            "marker": {
             "colorbar": {
              "outlinewidth": 0,
              "ticks": ""
             }
            },
            "type": "scatterternary"
           }
          ],
          "surface": [
           {
            "colorbar": {
             "outlinewidth": 0,
             "ticks": ""
            },
            "colorscale": [
             [
              0,
              "#0d0887"
             ],
             [
              0.1111111111111111,
              "#46039f"
             ],
             [
              0.2222222222222222,
              "#7201a8"
             ],
             [
              0.3333333333333333,
              "#9c179e"
             ],
             [
              0.4444444444444444,
              "#bd3786"
             ],
             [
              0.5555555555555556,
              "#d8576b"
             ],
             [
              0.6666666666666666,
              "#ed7953"
             ],
             [
              0.7777777777777778,
              "#fb9f3a"
             ],
             [
              0.8888888888888888,
              "#fdca26"
             ],
             [
              1,
              "#f0f921"
             ]
            ],
            "type": "surface"
           }
          ],
          "table": [
           {
            "cells": {
             "fill": {
              "color": "#EBF0F8"
             },
             "line": {
              "color": "white"
             }
            },
            "header": {
             "fill": {
              "color": "#C8D4E3"
             },
             "line": {
              "color": "white"
             }
            },
            "type": "table"
           }
          ]
         },
         "layout": {
          "annotationdefaults": {
           "arrowcolor": "#2a3f5f",
           "arrowhead": 0,
           "arrowwidth": 1
          },
          "coloraxis": {
           "colorbar": {
            "outlinewidth": 0,
            "ticks": ""
           }
          },
          "colorscale": {
           "diverging": [
            [
             0,
             "#8e0152"
            ],
            [
             0.1,
             "#c51b7d"
            ],
            [
             0.2,
             "#de77ae"
            ],
            [
             0.3,
             "#f1b6da"
            ],
            [
             0.4,
             "#fde0ef"
            ],
            [
             0.5,
             "#f7f7f7"
            ],
            [
             0.6,
             "#e6f5d0"
            ],
            [
             0.7,
             "#b8e186"
            ],
            [
             0.8,
             "#7fbc41"
            ],
            [
             0.9,
             "#4d9221"
            ],
            [
             1,
             "#276419"
            ]
           ],
           "sequential": [
            [
             0,
             "#0d0887"
            ],
            [
             0.1111111111111111,
             "#46039f"
            ],
            [
             0.2222222222222222,
             "#7201a8"
            ],
            [
             0.3333333333333333,
             "#9c179e"
            ],
            [
             0.4444444444444444,
             "#bd3786"
            ],
            [
             0.5555555555555556,
             "#d8576b"
            ],
            [
             0.6666666666666666,
             "#ed7953"
            ],
            [
             0.7777777777777778,
             "#fb9f3a"
            ],
            [
             0.8888888888888888,
             "#fdca26"
            ],
            [
             1,
             "#f0f921"
            ]
           ],
           "sequentialminus": [
            [
             0,
             "#0d0887"
            ],
            [
             0.1111111111111111,
             "#46039f"
            ],
            [
             0.2222222222222222,
             "#7201a8"
            ],
            [
             0.3333333333333333,
             "#9c179e"
            ],
            [
             0.4444444444444444,
             "#bd3786"
            ],
            [
             0.5555555555555556,
             "#d8576b"
            ],
            [
             0.6666666666666666,
             "#ed7953"
            ],
            [
             0.7777777777777778,
             "#fb9f3a"
            ],
            [
             0.8888888888888888,
             "#fdca26"
            ],
            [
             1,
             "#f0f921"
            ]
           ]
          },
          "colorway": [
           "#636efa",
           "#EF553B",
           "#00cc96",
           "#ab63fa",
           "#FFA15A",
           "#19d3f3",
           "#FF6692",
           "#B6E880",
           "#FF97FF",
           "#FECB52"
          ],
          "font": {
           "color": "#2a3f5f"
          },
          "geo": {
           "bgcolor": "white",
           "lakecolor": "white",
           "landcolor": "#E5ECF6",
           "showlakes": true,
           "showland": true,
           "subunitcolor": "white"
          },
          "hoverlabel": {
           "align": "left"
          },
          "hovermode": "closest",
          "mapbox": {
           "style": "light"
          },
          "paper_bgcolor": "white",
          "plot_bgcolor": "#E5ECF6",
          "polar": {
           "angularaxis": {
            "gridcolor": "white",
            "linecolor": "white",
            "ticks": ""
           },
           "bgcolor": "#E5ECF6",
           "radialaxis": {
            "gridcolor": "white",
            "linecolor": "white",
            "ticks": ""
           }
          },
          "scene": {
           "xaxis": {
            "backgroundcolor": "#E5ECF6",
            "gridcolor": "white",
            "gridwidth": 2,
            "linecolor": "white",
            "showbackground": true,
            "ticks": "",
            "zerolinecolor": "white"
           },
           "yaxis": {
            "backgroundcolor": "#E5ECF6",
            "gridcolor": "white",
            "gridwidth": 2,
            "linecolor": "white",
            "showbackground": true,
            "ticks": "",
            "zerolinecolor": "white"
           },
           "zaxis": {
            "backgroundcolor": "#E5ECF6",
            "gridcolor": "white",
            "gridwidth": 2,
            "linecolor": "white",
            "showbackground": true,
            "ticks": "",
            "zerolinecolor": "white"
           }
          },
          "shapedefaults": {
           "line": {
            "color": "#2a3f5f"
           }
          },
          "ternary": {
           "aaxis": {
            "gridcolor": "white",
            "linecolor": "white",
            "ticks": ""
           },
           "baxis": {
            "gridcolor": "white",
            "linecolor": "white",
            "ticks": ""
           },
           "bgcolor": "#E5ECF6",
           "caxis": {
            "gridcolor": "white",
            "linecolor": "white",
            "ticks": ""
           }
          },
          "title": {
           "x": 0.05
          },
          "xaxis": {
           "automargin": true,
           "gridcolor": "white",
           "linecolor": "white",
           "ticks": "",
           "title": {
            "standoff": 15
           },
           "zerolinecolor": "white",
           "zerolinewidth": 2
          },
          "yaxis": {
           "automargin": true,
           "gridcolor": "white",
           "linecolor": "white",
           "ticks": "",
           "title": {
            "standoff": 15
           },
           "zerolinecolor": "white",
           "zerolinewidth": 2
          }
         }
        },
        "title": {
         "text": "Degree vs Utility transfers (Comparison)"
        },
        "xaxis": {
         "title": {
          "text": "degree"
         }
        },
        "yaxis": {
         "title": {
          "text": "utility transfered"
         }
        }
       }
      },
      "text/html": [
       "<div>\n",
       "        \n",
       "        \n",
       "            <div id=\"a6b6a5e3-2828-42a7-a1af-16221ce8cca5\" class=\"plotly-graph-div\" style=\"height:525px; width:100%;\"></div>\n",
       "            <script type=\"text/javascript\">\n",
       "                require([\"plotly\"], function(Plotly) {\n",
       "                    window.PLOTLYENV=window.PLOTLYENV || {};\n",
       "                    \n",
       "                if (document.getElementById(\"a6b6a5e3-2828-42a7-a1af-16221ce8cca5\")) {\n",
       "                    Plotly.newPlot(\n",
       "                        'a6b6a5e3-2828-42a7-a1af-16221ce8cca5',\n",
       "                        [{\"error_y\": {\"array\": [0.02701754109722525], \"type\": \"data\", \"visible\": true}, \"hoverinfo\": \"skip\", \"marker\": {\"color\": \"rgb(31, 119, 180)\"}, \"mode\": \"lines+markers\", \"name\": \"In transfers (r=8 ntwk=rl)\", \"type\": \"scatter\", \"x\": [5], \"y\": [0.4661382126897527]}, {\"hoverinfo\": \"skip\", \"marker\": {\"color\": \"rgb(31, 119, 180)\"}, \"mode\": \"markers\", \"name\": \"In transfers per iter (r=8 ntwk=rl)\", \"opacity\": 0.3, \"type\": \"scatter\", \"x\": [5, 5, 5, 5, 5, 5, 5, 5, 5, 5], \"y\": [0.4236111111111111, 0.513888888888889, 0.4486373165618448, 0.47165532879818595, 0.4383838383838383, 0.4842767295597484, 0.4828282828282829, 0.49588477366255146, 0.44217687074829926, 0.4600389863547758]}, {\"error_y\": {\"array\": [0.020325742359607338], \"type\": \"data\", \"visible\": true}, \"hoverinfo\": \"skip\", \"marker\": {\"color\": \"rgb(255, 127, 14)\"}, \"mode\": \"lines+markers\", \"name\": \"Out transfers (r=8 ntwk=rl)\", \"type\": \"scatter\", \"x\": [5], \"y\": [0.24288888888888888]}, {\"hoverinfo\": \"skip\", \"marker\": {\"color\": \"rgb(255, 127, 14)\"}, \"mode\": \"markers\", \"name\": \"Out transfers per iter (r=8 ntwk=rl)\", \"opacity\": 0.3, \"type\": \"scatter\", \"x\": [5, 5, 5, 5, 5, 5, 5, 5, 5, 5], \"y\": [0.2033333333333333, 0.24666666666666667, 0.23777777777777778, 0.2311111111111111, 0.2411111111111111, 0.25666666666666665, 0.26555555555555554, 0.2677777777777778, 0.21666666666666665, 0.26222222222222225]}, {\"error_y\": {\"array\": [0.035118565321104155, 0.14324986555949554, 0.0817040945044117, 0.33407325285273126, 0.05555555555555558], \"type\": \"data\", \"visible\": true}, \"hoverinfo\": \"skip\", \"marker\": {\"color\": \"rgb(44, 160, 44)\"}, \"mode\": \"lines+markers\", \"name\": \"In transfers (r=8 ntwk=ws)\", \"type\": \"scatter\", \"x\": [3, 4, 5, 6, 7], \"y\": [0.16666666666666663, 0.4548484848484849, 0.47362467414608317, 0.5044047619047619, 0.4888888888888888]}, {\"hoverinfo\": \"skip\", \"marker\": {\"color\": \"rgb(44, 160, 44)\"}, \"mode\": \"markers\", \"name\": \"In transfers per iter (r=8 ntwk=ws)\", \"opacity\": 0.3, \"type\": \"scatter\", \"x\": [5, 5, 5, 5, 5, 5, 5, 5, 5, 5, 4, 4, 4, 4, 4, 4, 4, 4, 4, 4, 6, 6, 6, 6, 6, 6, 6, 6, 6, 6, 7, 7, 7, 7, 7, 3, 3], \"y\": [0.40849673202614367, 0.48765432098765416, 0.5185185185185185, 0.46172839506172847, 0.47936507936507927, 0.4934640522875817, 0.4301075268817204, 0.5096618357487922, 0.44107744107744107, 0.5061728395061729, 0.3148148148148148, 0.48888888888888893, 0.5, 0.29629629629629634, 0.4444444444444444, 0.7373737373737375, 0.3333333333333333, 0.6, 0.5555555555555556, 0.2777777777777778, 0.6666666666666666, 0.4722222222222222, 0.4861111111111111, 0.5079365079365079, 0.54320987654321, 0.4722222222222222, 0.5555555555555556, 0.3555555555555555, 0.41666666666666674, 0.5679012345679013, 0.33333333333333326, 0.22222222222222227, 0.11111111111111105, 0.8888888888888888, 0.8888888888888888, 0.11111111111111105, 0.2222222222222222]}, {\"error_y\": {\"array\": [0.06713815091584986, 0.08140656776215699, 0.12238004245405353, 0.03674654598700818, 0.2937580241797102], \"type\": \"data\", \"visible\": true}, \"hoverinfo\": \"skip\", \"marker\": {\"color\": \"rgb(214, 39, 40)\"}, \"mode\": \"lines+markers\", \"name\": \"Out transfers (r=8 ntwk=ws)\", \"type\": \"scatter\", \"x\": [3, 4, 5, 6, 7], \"y\": [0.013888888888888881, 0.19803971030880213, 0.2655188147863411, 0.2170991952854698, 0.25396825396825395]}, {\"hoverinfo\": \"skip\", \"marker\": {\"color\": \"rgb(214, 39, 40)\"}, \"mode\": \"markers\", \"name\": \"Out transfers per iter (r=8 ntwk=ws)\", \"opacity\": 0.3, \"type\": \"scatter\", \"x\": [5, 5, 5, 5, 5, 5, 5, 5, 5, 5, 4, 4, 4, 4, 4, 4, 4, 4, 4, 4, 6, 6, 6, 6, 6, 6, 6, 6, 6, 6, 3, 3, 3, 3, 3, 3, 3, 3, 7, 7, 7, 7, 7, 7, 7], \"y\": [0.1956882255389718, 0.3384615384615385, 0.20947176684881602, 0.28767123287671226, 0.27450980392156865, 0.3698175787728027, 0.24479166666666666, 0.35064935064935066, 0.1619047619047619, 0.22222222222222218, 0.23703703703703705, 0.09876543209876541, 0.2573099415204678, 0.17948717948717946, 0.36111111111111105, 0.1736111111111111, 0.20915032679738563, 0.08080808080808081, 0.2619047619047619, 0.1212121212121212, 0.2222222222222222, 0.10416666666666666, 0.35947712418300654, 0.2828282828282828, 0.04861111111111112, 0.07936507936507937, 0.21568627450980393, 0.13580246913580246, 0.2698412698412698, 0.45299145299145294, 0.0, 0.0, 0.0, 0.11111111111111105, 0.0, 0.0, 0.0, 0.0, 0.7777777777777777, 0.49999999999999994, 0.055555555555555525, 0.0, 0.0, 0.0, 0.4444444444444444]}, {\"error_y\": {\"array\": [0.08646766479523026, 0.14830096285253985, 0.13760006958399362, 0.135507005321067, 0.18566835116819022, 0.19116278371205842, 0.12153166448491272, 0.17734321888347077, 0.16229873047855917, 0.17217686025902904, 0.17814700264949268, 5.551115123125783e-17, 0.3333333333333333, 0.15783167224194455, 0.05555555555555555, 0.018518518518518545, 0.0], \"type\": \"data\", \"visible\": true}, \"hoverinfo\": \"skip\", \"marker\": {\"color\": \"rgb(148, 103, 189)\"}, \"mode\": \"lines+markers\", \"name\": \"In transfers (r=8 ntwk=er)\", \"type\": \"scatter\", \"x\": [3, 4, 5, 6, 7, 8, 9, 10, 11, 12, 13, 14, 15, 16, 17, 18, 19], \"y\": [0.537037037037037, 0.5, 0.47037037037037044, 0.47592592592592586, 0.4376851851851852, 0.4616666666666667, 0.427689594356261, 0.5212522045855379, 0.47358024691358025, 0.49907407407407406, 0.5333333333333333, 0.3827160493827161, 0.33127572016460904, 0.4666666666666667, 0.4444444444444445, 0.5555555555555556, 1.0]}, {\"hoverinfo\": \"skip\", \"marker\": {\"color\": \"rgb(148, 103, 189)\"}, \"mode\": \"markers\", \"name\": \"In transfers per iter (r=8 ntwk=er)\", \"opacity\": 0.3, \"type\": \"scatter\", \"x\": [10, 10, 10, 10, 10, 10, 10, 10, 10, 10, 8, 8, 8, 8, 8, 8, 8, 8, 8, 8, 11, 11, 11, 11, 11, 11, 11, 11, 11, 11, 7, 7, 7, 7, 7, 7, 7, 7, 7, 7, 12, 12, 12, 12, 12, 12, 12, 12, 12, 12, 16, 16, 16, 16, 16, 9, 9, 9, 9, 9, 9, 9, 9, 9, 13, 13, 13, 13, 13, 13, 13, 13, 13, 13, 6, 6, 6, 6, 6, 6, 6, 6, 6, 6, 14, 14, 14, 14, 14, 14, 14, 14, 14, 15, 15, 15, 15, 15, 15, 15, 15, 15, 17, 17, 18, 18, 5, 5, 5, 5, 5, 4, 4, 3, 3, 19], \"y\": [0.48888888888888893, 0.48148148148148145, 0.5833333333333333, 0.580246913580247, 0.5555555555555555, 0.5555555555555556, 0.5277777777777778, 0.5396825396825397, 0.6111111111111112, 0.28888888888888886, 0.35185185185185186, 0.36111111111111116, 0.4444444444444445, 0.6111111111111112, 0.5925925925925927, 0.33333333333333326, 0.48888888888888893, 0.3777777777777778, 0.27777777777777773, 0.7777777777777778, 0.7777777777777777, 0.375, 0.3888888888888889, 0.5802469135802468, 0.4444444444444445, 0.37777777777777777, 0.27777777777777773, 0.40740740740740744, 0.5925925925925926, 0.513888888888889, 0.5370370370370371, 0.2777777777777778, 0.5111111111111111, 0.4722222222222222, 0.5555555555555555, 0.44444444444444436, 0.5416666666666666, 0.5925925925925927, 0.22222222222222227, 0.2222222222222222, 0.11111111111111112, 0.7222222222222221, 0.6296296296296297, 0.4722222222222223, 0.6666666666666666, 0.5555555555555555, 0.5555555555555556, 0.2222222222222222, 0.44444444444444436, 0.6111111111111112, 0.11111111111111105, 0.4444444444444445, 0.5555555555555556, 0.5555555555555556, 0.6666666666666667, 0.38888888888888895, 0.3333333333333333, 0.5, 0.3968253968253968, 0.5873015873015873, 0.36507936507936506, 0.2222222222222222, 0.41666666666666663, 0.6388888888888888, 0.48148148148148145, 0.5833333333333334, 0.49999999999999994, 0.44444444444444436, 1.0, 0.4814814814814814, 0.4722222222222222, 0.5555555555555556, 0.5555555555555556, 0.25925925925925924, 0.4444444444444444, 0.3333333333333333, 0.7777777777777778, 0.7222222222222222, 0.5555555555555556, 0.2962962962962963, 0.3333333333333333, 0.40740740740740744, 0.5555555555555555, 0.3333333333333333, 0.33333333333333326, 0.611111111111111, 0.33333333333333326, 0.42592592592592604, 0.5555555555555556, 0.40740740740740744, 0.11111111111111116, 0.5555555555555556, 0.11111111111111116, 0.11111111111111116, 0.1111111111111111, 0.11111111111111105, 0.5185185185185185, 0.33333333333333337, 0.44444444444444453, 0.29629629629629634, 0.4444444444444445, 0.611111111111111, 0.4444444444444444, 0.44444444444444453, 0.2222222222222222, 0.8888888888888888, 0.40740740740740744, 0.4444444444444444, 0.7777777777777778, 0.38888888888888895, 0.33333333333333337, 0.4444444444444445, 0.5555555555555556, 0.5555555555555556, 0.5185185185185185, 1.0]}, {\"error_y\": {\"array\": [0.07817374958965881, 0.093322634584925, 0.14934752943030188, 0.08941551517608239, 0.12954836022815608, 0.15087084316352325, 0.34416666528274603, 0.03658213108629424, 0.11967014084982279, 0.38745768387028207, 0.21202680207386057, 0.5676595276926095, 0.09687352107279769, 0.08029277584059345, 0.10162567896221981, 0.0, 0.0, 0.20951312035156963, 0.0], \"type\": \"data\", \"visible\": true}, \"hoverinfo\": \"skip\", \"marker\": {\"color\": \"rgb(140, 86, 75)\"}, \"mode\": \"lines+markers\", \"name\": \"Out transfers (r=8 ntwk=er)\", \"type\": \"scatter\", \"x\": [2, 3, 4, 5, 6, 7, 8, 9, 10, 11, 12, 13, 14, 15, 16, 17, 18, 19, 20], \"y\": [0.0, 0.0, 0.017361111111111112, 0.12674897119341563, 0.11924603174603174, 0.20413796080462748, 0.21860324860324862, 0.1552192446929289, 0.22089318089318088, 0.13220900015017661, 0.15093434343434342, 0.2702645502645502, 0.28675925925925927, 0.291358024691358, 0.19560185185185186, 0.5015873015873016, 0.2444444444444444, 0.14814814814814814, 0.5555555555555556]}, {\"hoverinfo\": \"skip\", \"marker\": {\"color\": \"rgb(140, 86, 75)\"}, \"mode\": \"markers\", \"name\": \"Out transfers per iter (r=8 ntwk=er)\", \"opacity\": 0.3, \"type\": \"scatter\", \"x\": [11, 11, 11, 11, 11, 11, 11, 11, 11, 11, 10, 10, 10, 10, 10, 10, 10, 10, 10, 10, 8, 8, 8, 8, 8, 8, 8, 8, 8, 8, 12, 12, 12, 12, 12, 12, 12, 12, 12, 12, 13, 13, 13, 13, 13, 13, 13, 13, 13, 13, 14, 14, 14, 14, 14, 14, 14, 14, 14, 14, 15, 15, 15, 15, 15, 15, 15, 15, 15, 4, 4, 4, 4, 4, 4, 4, 4, 7, 7, 7, 7, 7, 7, 7, 7, 7, 7, 18, 18, 18, 18, 18, 16, 16, 16, 16, 16, 16, 16, 16, 17, 17, 17, 17, 17, 17, 17, 9, 9, 9, 9, 9, 9, 9, 9, 9, 9, 6, 6, 6, 6, 6, 6, 6, 6, 6, 6, 5, 5, 5, 5, 5, 5, 5, 5, 5, 2, 2, 3, 3, 3, 3, 3, 3, 19, 19, 19, 20], \"y\": [0.0, 0.16339869281045752, 0.2698412698412698, 0.11851851851851852, 0.08333333333333334, 0.0808080808080808, 0.22222222222222218, 0.060606060606060615, 0.11965811965811965, 0.20370370370370372, 0.28703703703703703, 0.14814814814814814, 0.17777777777777776, 0.2828282828282829, 0.4351851851851851, 0.15079365079365079, 0.2424242424242424, 0.10256410256410257, 0.14285714285714285, 0.23931623931623933, 0.16666666666666669, 0.16666666666666666, 0.08888888888888888, 0.5454545454545454, 0.3162393162393163, 0.27777777777777773, 0.1111111111111111, 0.12962962962962962, 0.36507936507936506, 0.018518518518518517, 0.19444444444444445, 0.1888888888888889, 0.0462962962962963, 0.26262626262626265, 0.027777777777777776, 0.24444444444444446, 0.060606060606060615, 0.04444444444444447, 0.23148148148148148, 0.20833333333333334, 0.4603174603174603, 0.25396825396825395, 0.2698412698412698, 0.3888888888888889, 0.09259259259259257, 0.2037037037037037, 0.33333333333333326, 0.25555555555555554, 0.4126984126984127, 0.03174603174603173, 0.28888888888888886, 0.28888888888888886, 0.15555555555555556, 0.5277777777777778, 0.18055555555555555, 0.20370370370370372, 0.4444444444444445, 0.4444444444444444, 0.0, 0.3333333333333333, 0.2222222222222222, 0.2222222222222222, 0.38888888888888884, 0.41666666666666663, 0.0, 0.08333333333333333, 0.11111111111111109, 0.0, 1.1777777777777778, 0.0, 0.1111111111111111, 0.0, 0.0, 0.0, 0.0, 0.02777777777777779, 0.0, 0.094017094017094, 0.24074074074074073, 0.2424242424242424, 0.4305555555555555, 0.18888888888888888, 0.0, 0.3185185185185185, 0.18055555555555555, 0.07407407407407408, 0.2716049382716049, 0.0, 0.9999999999999999, 0.0, 0.2222222222222222, 0.0, 0.2222222222222222, 0.3333333333333333, 0.0, 0.037037037037037035, 0.36111111111111105, 0.6111111111111112, 0.0, 0.0, 0.0, 0.0, 0.0, 1.0, 0.0666666666666667, 1.1111111111111112, 1.3333333333333333, 0.12280701754385966, 0.08547008547008546, 0.21481481481481482, 0.14285714285714285, 0.3777777777777777, 0.1111111111111111, 0.10317460317460318, 0.25925925925925924, 0.023809523809523805, 0.11111111111111113, 0.09523809523809525, 0.0, 0.07407407407407411, 0.04166666666666665, 0.24074074074074073, 0.06944444444444443, 0.22222222222222215, 0.07407407407407408, 0.1527777777777778, 0.22222222222222224, 0.0, 0.16666666666666669, 0.25925925925925924, 0.24999999999999997, 0.20370370370370372, 0.0, 0.0, 0.08333333333333331, 0.17777777777777776, 0.0, 0.0, 0.0, 0.0, 0.0, 0.0, 0.0, 0.0, 0.4444444444444444, 0.0, 0.0, 0.5555555555555556]}, {\"error_y\": {\"array\": [0.15754277511291737, 0.015684446465430508], \"type\": \"data\", \"visible\": true}, \"hoverinfo\": \"skip\", \"marker\": {\"color\": \"rgb(227, 119, 194)\"}, \"mode\": \"lines+markers\", \"name\": \"In transfers (r=8 ntwk=cm)\", \"type\": \"scatter\", \"x\": [4, 5], \"y\": [0.44794238683127563, 0.4573810328503313]}, {\"hoverinfo\": \"skip\", \"marker\": {\"color\": \"rgb(227, 119, 194)\"}, \"mode\": \"markers\", \"name\": \"In transfers per iter (r=8 ntwk=cm)\", \"opacity\": 0.3, \"type\": \"scatter\", \"x\": [4, 4, 4, 4, 4, 4, 4, 4, 4, 5, 5, 5, 5, 5, 5, 5, 5, 5, 5], \"y\": [0.4814814814814814, 0.3703703703703704, 0.3333333333333333, 0.1111111111111111, 0.6666666666666666, 0.6388888888888888, 0.4666666666666667, 0.44444444444444436, 0.5185185185185185, 0.4392764857881137, 0.43843843843843844, 0.44179894179894175, 0.4822695035460993, 0.46759259259259256, 0.4761904761904761, 0.44691358024691347, 0.45833333333333337, 0.4490740740740741, 0.47392290249433106]}, {\"error_y\": {\"array\": [0.023253133473051746, 0.07973138191156955, 0.0], \"type\": \"data\", \"visible\": true}, \"hoverinfo\": \"skip\", \"marker\": {\"color\": \"rgb(127, 127, 127)\"}, \"mode\": \"lines+markers\", \"name\": \"Out transfers (r=8 ntwk=cm)\", \"type\": \"scatter\", \"x\": [3, 4, 5], \"y\": [0.0, 0.24393004115226338, 0.21835351872221404]}, {\"hoverinfo\": \"skip\", \"marker\": {\"color\": \"rgb(127, 127, 127)\"}, \"mode\": \"markers\", \"name\": \"Out transfers per iter (r=8 ntwk=cm)\", \"opacity\": 0.3, \"type\": \"scatter\", \"x\": [5, 5, 5, 5, 5, 5, 5, 5, 5, 5, 4, 4, 4, 4, 4, 4, 4, 4, 4, 3], \"y\": [0.20801033591731263, 0.16908212560386474, 0.18707482993197277, 0.23015873015873015, 0.23263888888888892, 0.2333333333333333, 0.2222222222222222, 0.21358024691358027, 0.24275362318840574, 0.24468085106382975, 0.324074074074074, 0.2222222222222222, 0.2777777777777778, 0.11111111111111116, 0.3611111111111111, 0.2777777777777778, 0.14444444444444446, 0.18055555555555552, 0.2962962962962963, 0.0]}, {\"error_y\": {\"array\": [0.03825888114856718, 0.15176829536340075, 0.139568215199957, 0.29221729329739815, 0.06673957993487434, 0.0, 0.21336515966301686, 0.0], \"type\": \"data\", \"visible\": true}, \"hoverinfo\": \"skip\", \"marker\": {\"color\": \"rgb(188, 189, 34)\"}, \"mode\": \"lines+markers\", \"name\": \"In transfers (r=8 ntwk=kg)\", \"type\": \"scatter\", \"x\": [2, 3, 4, 5, 6, 7, 8, 9], \"y\": [0.5, 0.4519708994708994, 0.4658085363217503, 0.45187126785037, 0.47449735449735453, 0.4722222222222222, 0.2222222222222222, 0.33333333333333326]}, {\"hoverinfo\": \"skip\", \"marker\": {\"color\": \"rgb(188, 189, 34)\"}, \"mode\": \"markers\", \"name\": \"In transfers per iter (r=8 ntwk=kg)\", \"opacity\": 0.3, \"type\": \"scatter\", \"x\": [4, 4, 4, 4, 4, 4, 4, 4, 4, 4, 3, 3, 3, 3, 3, 3, 3, 3, 3, 3, 6, 6, 6, 6, 6, 6, 6, 6, 6, 6, 2, 2, 2, 2, 2, 2, 5, 5, 5, 5, 5, 5, 5, 5, 5, 5, 8, 7, 7, 7, 7, 9], \"y\": [0.48148148148148134, 0.5299145299145299, 0.41880341880341876, 0.5123456790123457, 0.4829059829059829, 0.45751633986928103, 0.4444444444444444, 0.3986928104575163, 0.48309178743961345, 0.44888888888888895, 0.41666666666666663, 0.5138888888888888, 0.11111111111111113, 0.5308641975308643, 0.6222222222222222, 0.6666666666666667, 0.5277777777777778, 0.4320987654320988, 0.33333333333333337, 0.3650793650793651, 0.4444444444444444, 0.3148148148148148, 0.6296296296296297, 0.46031746031746035, 0.7777777777777778, 0.37777777777777777, 0.4888888888888888, 0.48148148148148157, 0.2698412698412699, 0.5, 0.1111111111111111, 0.6666666666666665, 1.0, 0.4444444444444445, 0.22222222222222224, 0.5555555555555556, 0.47777777777777775, 0.537037037037037, 0.5277777777777778, 0.34814814814814815, 0.41880341880341876, 0.5347222222222222, 0.3675213675213675, 0.42105263157894735, 0.3986928104575163, 0.48717948717948717, 0.2222222222222222, 0.6666666666666666, 0.11111111111111116, 0.5555555555555556, 0.5555555555555555, 0.33333333333333326]}, {\"error_y\": {\"array\": [0.1275125061037059, 0.06832694286282548, 0.046101522206913, 0.07101530640494902, 0.37659380352270727, 0.6285393610547089, 0.3247671026287321, 0.0], \"type\": \"data\", \"visible\": true}, \"hoverinfo\": \"skip\", \"marker\": {\"color\": \"rgb(23, 190, 207)\"}, \"mode\": \"lines+markers\", \"name\": \"Out transfers (r=8 ntwk=kg)\", \"type\": \"scatter\", \"x\": [2, 3, 4, 5, 6, 7, 8, 9], \"y\": [0.2654320987654321, 0.17847349597136467, 0.22437299278232473, 0.21599001116626174, 0.2518847202180535, 0.32936507936507936, 0.4444444444444444, 0.0]}, {\"hoverinfo\": \"skip\", \"marker\": {\"color\": \"rgb(23, 190, 207)\"}, \"mode\": \"markers\", \"name\": \"Out transfers per iter (r=8 ntwk=kg)\", \"opacity\": 0.3, \"type\": \"scatter\", \"x\": [6, 6, 6, 6, 6, 6, 6, 6, 6, 6, 5, 5, 5, 5, 5, 5, 5, 5, 5, 5, 4, 4, 4, 4, 4, 4, 4, 4, 4, 4, 3, 3, 3, 3, 3, 3, 3, 3, 3, 3, 2, 2, 2, 2, 2, 2, 2, 2, 2, 8, 8, 8, 7, 7, 7, 7, 7, 7, 7, 9], \"y\": [0.19444444444444442, 0.2037037037037037, 0.04938271604938271, 0.3111111111111111, 0.16049382716049382, 0.2555555555555556, 0.2222222222222222, 0.5714285714285714, 0.2727272727272727, 0.2777777777777778, 0.14529914529914528, 0.24691358024691354, 0.3602693602693603, 0.19528619528619529, 0.21256038647342998, 0.2867383512544803, 0.23569023569023567, 0.15185185185185185, 0.2088888888888889, 0.11640211640211641, 0.25474254742547425, 0.22649572649572652, 0.17344173441734417, 0.20987654320987656, 0.2753623188405797, 0.2, 0.2, 0.17777777777777776, 0.1975308641975309, 0.3285024154589372, 0.13725490196078433, 0.2121212121212121, 0.07407407407407408, 0.2037037037037037, 0.06790123456790124, 0.1388888888888889, 0.19806763285024154, 0.31481481481481477, 0.2156862745098039, 0.22222222222222218, 0.0, 0.2777777777777778, 0.5, 1.2222222222222223, 0.2777777777777778, 0.0, 0.1111111111111111, 0.0, 0.0, 0.0, 0.0, 1.3333333333333333, 0.0, 0.7222222222222221, 0.5555555555555556, 0.7777777777777777, 0.0, 0.0, 0.25, 0.0]}],\n",
       "                        {\"plot_bgcolor\": \"rgba(0,0,0,0)\", \"showlegend\": true, \"template\": {\"data\": {\"bar\": [{\"error_x\": {\"color\": \"#2a3f5f\"}, \"error_y\": {\"color\": \"#2a3f5f\"}, \"marker\": {\"line\": {\"color\": \"#E5ECF6\", \"width\": 0.5}}, \"type\": \"bar\"}], \"barpolar\": [{\"marker\": {\"line\": {\"color\": \"#E5ECF6\", \"width\": 0.5}}, \"type\": \"barpolar\"}], \"carpet\": [{\"aaxis\": {\"endlinecolor\": \"#2a3f5f\", \"gridcolor\": \"white\", \"linecolor\": \"white\", \"minorgridcolor\": \"white\", \"startlinecolor\": \"#2a3f5f\"}, \"baxis\": {\"endlinecolor\": \"#2a3f5f\", \"gridcolor\": \"white\", \"linecolor\": \"white\", \"minorgridcolor\": \"white\", \"startlinecolor\": \"#2a3f5f\"}, \"type\": \"carpet\"}], \"choropleth\": [{\"colorbar\": {\"outlinewidth\": 0, \"ticks\": \"\"}, \"type\": \"choropleth\"}], \"contour\": [{\"colorbar\": {\"outlinewidth\": 0, \"ticks\": \"\"}, \"colorscale\": [[0.0, \"#0d0887\"], [0.1111111111111111, \"#46039f\"], [0.2222222222222222, \"#7201a8\"], [0.3333333333333333, \"#9c179e\"], [0.4444444444444444, \"#bd3786\"], [0.5555555555555556, \"#d8576b\"], [0.6666666666666666, \"#ed7953\"], [0.7777777777777778, \"#fb9f3a\"], [0.8888888888888888, \"#fdca26\"], [1.0, \"#f0f921\"]], \"type\": \"contour\"}], \"contourcarpet\": [{\"colorbar\": {\"outlinewidth\": 0, \"ticks\": \"\"}, \"type\": \"contourcarpet\"}], \"heatmap\": [{\"colorbar\": {\"outlinewidth\": 0, \"ticks\": \"\"}, \"colorscale\": [[0.0, \"#0d0887\"], [0.1111111111111111, \"#46039f\"], [0.2222222222222222, \"#7201a8\"], [0.3333333333333333, \"#9c179e\"], [0.4444444444444444, \"#bd3786\"], [0.5555555555555556, \"#d8576b\"], [0.6666666666666666, \"#ed7953\"], [0.7777777777777778, \"#fb9f3a\"], [0.8888888888888888, \"#fdca26\"], [1.0, \"#f0f921\"]], \"type\": \"heatmap\"}], \"heatmapgl\": [{\"colorbar\": {\"outlinewidth\": 0, \"ticks\": \"\"}, \"colorscale\": [[0.0, \"#0d0887\"], [0.1111111111111111, \"#46039f\"], [0.2222222222222222, \"#7201a8\"], [0.3333333333333333, \"#9c179e\"], [0.4444444444444444, \"#bd3786\"], [0.5555555555555556, \"#d8576b\"], [0.6666666666666666, \"#ed7953\"], [0.7777777777777778, \"#fb9f3a\"], [0.8888888888888888, \"#fdca26\"], [1.0, \"#f0f921\"]], \"type\": \"heatmapgl\"}], \"histogram\": [{\"marker\": {\"colorbar\": {\"outlinewidth\": 0, \"ticks\": \"\"}}, \"type\": \"histogram\"}], \"histogram2d\": [{\"colorbar\": {\"outlinewidth\": 0, \"ticks\": \"\"}, \"colorscale\": [[0.0, \"#0d0887\"], [0.1111111111111111, \"#46039f\"], [0.2222222222222222, \"#7201a8\"], [0.3333333333333333, \"#9c179e\"], [0.4444444444444444, \"#bd3786\"], [0.5555555555555556, \"#d8576b\"], [0.6666666666666666, \"#ed7953\"], [0.7777777777777778, \"#fb9f3a\"], [0.8888888888888888, \"#fdca26\"], [1.0, \"#f0f921\"]], \"type\": \"histogram2d\"}], \"histogram2dcontour\": [{\"colorbar\": {\"outlinewidth\": 0, \"ticks\": \"\"}, \"colorscale\": [[0.0, \"#0d0887\"], [0.1111111111111111, \"#46039f\"], [0.2222222222222222, \"#7201a8\"], [0.3333333333333333, \"#9c179e\"], [0.4444444444444444, \"#bd3786\"], [0.5555555555555556, \"#d8576b\"], [0.6666666666666666, \"#ed7953\"], [0.7777777777777778, \"#fb9f3a\"], [0.8888888888888888, \"#fdca26\"], [1.0, \"#f0f921\"]], \"type\": \"histogram2dcontour\"}], \"mesh3d\": [{\"colorbar\": {\"outlinewidth\": 0, \"ticks\": \"\"}, \"type\": \"mesh3d\"}], \"parcoords\": [{\"line\": {\"colorbar\": {\"outlinewidth\": 0, \"ticks\": \"\"}}, \"type\": \"parcoords\"}], \"pie\": [{\"automargin\": true, \"type\": \"pie\"}], \"scatter\": [{\"marker\": {\"colorbar\": {\"outlinewidth\": 0, \"ticks\": \"\"}}, \"type\": \"scatter\"}], \"scatter3d\": [{\"line\": {\"colorbar\": {\"outlinewidth\": 0, \"ticks\": \"\"}}, \"marker\": {\"colorbar\": {\"outlinewidth\": 0, \"ticks\": \"\"}}, \"type\": \"scatter3d\"}], \"scattercarpet\": [{\"marker\": {\"colorbar\": {\"outlinewidth\": 0, \"ticks\": \"\"}}, \"type\": \"scattercarpet\"}], \"scattergeo\": [{\"marker\": {\"colorbar\": {\"outlinewidth\": 0, \"ticks\": \"\"}}, \"type\": \"scattergeo\"}], \"scattergl\": [{\"marker\": {\"colorbar\": {\"outlinewidth\": 0, \"ticks\": \"\"}}, \"type\": \"scattergl\"}], \"scattermapbox\": [{\"marker\": {\"colorbar\": {\"outlinewidth\": 0, \"ticks\": \"\"}}, \"type\": \"scattermapbox\"}], \"scatterpolar\": [{\"marker\": {\"colorbar\": {\"outlinewidth\": 0, \"ticks\": \"\"}}, \"type\": \"scatterpolar\"}], \"scatterpolargl\": [{\"marker\": {\"colorbar\": {\"outlinewidth\": 0, \"ticks\": \"\"}}, \"type\": \"scatterpolargl\"}], \"scatterternary\": [{\"marker\": {\"colorbar\": {\"outlinewidth\": 0, \"ticks\": \"\"}}, \"type\": \"scatterternary\"}], \"surface\": [{\"colorbar\": {\"outlinewidth\": 0, \"ticks\": \"\"}, \"colorscale\": [[0.0, \"#0d0887\"], [0.1111111111111111, \"#46039f\"], [0.2222222222222222, \"#7201a8\"], [0.3333333333333333, \"#9c179e\"], [0.4444444444444444, \"#bd3786\"], [0.5555555555555556, \"#d8576b\"], [0.6666666666666666, \"#ed7953\"], [0.7777777777777778, \"#fb9f3a\"], [0.8888888888888888, \"#fdca26\"], [1.0, \"#f0f921\"]], \"type\": \"surface\"}], \"table\": [{\"cells\": {\"fill\": {\"color\": \"#EBF0F8\"}, \"line\": {\"color\": \"white\"}}, \"header\": {\"fill\": {\"color\": \"#C8D4E3\"}, \"line\": {\"color\": \"white\"}}, \"type\": \"table\"}]}, \"layout\": {\"annotationdefaults\": {\"arrowcolor\": \"#2a3f5f\", \"arrowhead\": 0, \"arrowwidth\": 1}, \"coloraxis\": {\"colorbar\": {\"outlinewidth\": 0, \"ticks\": \"\"}}, \"colorscale\": {\"diverging\": [[0, \"#8e0152\"], [0.1, \"#c51b7d\"], [0.2, \"#de77ae\"], [0.3, \"#f1b6da\"], [0.4, \"#fde0ef\"], [0.5, \"#f7f7f7\"], [0.6, \"#e6f5d0\"], [0.7, \"#b8e186\"], [0.8, \"#7fbc41\"], [0.9, \"#4d9221\"], [1, \"#276419\"]], \"sequential\": [[0.0, \"#0d0887\"], [0.1111111111111111, \"#46039f\"], [0.2222222222222222, \"#7201a8\"], [0.3333333333333333, \"#9c179e\"], [0.4444444444444444, \"#bd3786\"], [0.5555555555555556, \"#d8576b\"], [0.6666666666666666, \"#ed7953\"], [0.7777777777777778, \"#fb9f3a\"], [0.8888888888888888, \"#fdca26\"], [1.0, \"#f0f921\"]], \"sequentialminus\": [[0.0, \"#0d0887\"], [0.1111111111111111, \"#46039f\"], [0.2222222222222222, \"#7201a8\"], [0.3333333333333333, \"#9c179e\"], [0.4444444444444444, \"#bd3786\"], [0.5555555555555556, \"#d8576b\"], [0.6666666666666666, \"#ed7953\"], [0.7777777777777778, \"#fb9f3a\"], [0.8888888888888888, \"#fdca26\"], [1.0, \"#f0f921\"]]}, \"colorway\": [\"#636efa\", \"#EF553B\", \"#00cc96\", \"#ab63fa\", \"#FFA15A\", \"#19d3f3\", \"#FF6692\", \"#B6E880\", \"#FF97FF\", \"#FECB52\"], \"font\": {\"color\": \"#2a3f5f\"}, \"geo\": {\"bgcolor\": \"white\", \"lakecolor\": \"white\", \"landcolor\": \"#E5ECF6\", \"showlakes\": true, \"showland\": true, \"subunitcolor\": \"white\"}, \"hoverlabel\": {\"align\": \"left\"}, \"hovermode\": \"closest\", \"mapbox\": {\"style\": \"light\"}, \"paper_bgcolor\": \"white\", \"plot_bgcolor\": \"#E5ECF6\", \"polar\": {\"angularaxis\": {\"gridcolor\": \"white\", \"linecolor\": \"white\", \"ticks\": \"\"}, \"bgcolor\": \"#E5ECF6\", \"radialaxis\": {\"gridcolor\": \"white\", \"linecolor\": \"white\", \"ticks\": \"\"}}, \"scene\": {\"xaxis\": {\"backgroundcolor\": \"#E5ECF6\", \"gridcolor\": \"white\", \"gridwidth\": 2, \"linecolor\": \"white\", \"showbackground\": true, \"ticks\": \"\", \"zerolinecolor\": \"white\"}, \"yaxis\": {\"backgroundcolor\": \"#E5ECF6\", \"gridcolor\": \"white\", \"gridwidth\": 2, \"linecolor\": \"white\", \"showbackground\": true, \"ticks\": \"\", \"zerolinecolor\": \"white\"}, \"zaxis\": {\"backgroundcolor\": \"#E5ECF6\", \"gridcolor\": \"white\", \"gridwidth\": 2, \"linecolor\": \"white\", \"showbackground\": true, \"ticks\": \"\", \"zerolinecolor\": \"white\"}}, \"shapedefaults\": {\"line\": {\"color\": \"#2a3f5f\"}}, \"ternary\": {\"aaxis\": {\"gridcolor\": \"white\", \"linecolor\": \"white\", \"ticks\": \"\"}, \"baxis\": {\"gridcolor\": \"white\", \"linecolor\": \"white\", \"ticks\": \"\"}, \"bgcolor\": \"#E5ECF6\", \"caxis\": {\"gridcolor\": \"white\", \"linecolor\": \"white\", \"ticks\": \"\"}}, \"title\": {\"x\": 0.05}, \"xaxis\": {\"automargin\": true, \"gridcolor\": \"white\", \"linecolor\": \"white\", \"ticks\": \"\", \"title\": {\"standoff\": 15}, \"zerolinecolor\": \"white\", \"zerolinewidth\": 2}, \"yaxis\": {\"automargin\": true, \"gridcolor\": \"white\", \"linecolor\": \"white\", \"ticks\": \"\", \"title\": {\"standoff\": 15}, \"zerolinecolor\": \"white\", \"zerolinewidth\": 2}}}, \"title\": {\"text\": \"Degree vs Utility transfers (Comparison)\"}, \"xaxis\": {\"title\": {\"text\": \"degree\"}}, \"yaxis\": {\"title\": {\"text\": \"utility transfered\"}}},\n",
       "                        {\"responsive\": true}\n",
       "                    ).then(function(){\n",
       "                            \n",
       "var gd = document.getElementById('a6b6a5e3-2828-42a7-a1af-16221ce8cca5');\n",
       "var x = new MutationObserver(function (mutations, observer) {{\n",
       "        var display = window.getComputedStyle(gd).display;\n",
       "        if (!display || display === 'none') {{\n",
       "            console.log([gd, 'removed!']);\n",
       "            Plotly.purge(gd);\n",
       "            observer.disconnect();\n",
       "        }}\n",
       "}});\n",
       "\n",
       "// Listen for the removal of the full notebook cells\n",
       "var notebookContainer = gd.closest('#notebook-container');\n",
       "if (notebookContainer) {{\n",
       "    x.observe(notebookContainer, {childList: true});\n",
       "}}\n",
       "\n",
       "// Listen for the clearing of the current output cell\n",
       "var outputEl = gd.closest('.output');\n",
       "if (outputEl) {{\n",
       "    x.observe(outputEl, {childList: true});\n",
       "}}\n",
       "\n",
       "                        })\n",
       "                };\n",
       "                });\n",
       "            </script>\n",
       "        </div>"
      ]
     },
     "metadata": {},
     "output_type": "display_data"
    }
   ],
   "source": [
    "vis = NtwkCompVis(ntwk_data)"
   ]
  },
  {
   "cell_type": "code",
   "execution_count": null,
   "metadata": {
    "scrolled": true
   },
   "outputs": [],
   "source": []
  }
 ],
 "metadata": {
  "kernelspec": {
   "display_name": "Python 3",
   "language": "python",
   "name": "python3"
  },
  "language_info": {
   "codemirror_mode": {
    "name": "ipython",
    "version": 3
   },
   "file_extension": ".py",
   "mimetype": "text/x-python",
   "name": "python",
   "nbconvert_exporter": "python",
   "pygments_lexer": "ipython3",
   "version": "3.6.2"
  }
 },
 "nbformat": 4,
 "nbformat_minor": 2
}
