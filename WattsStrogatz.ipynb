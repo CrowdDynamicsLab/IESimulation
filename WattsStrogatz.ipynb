{
 "cells": [
  {
   "cell_type": "code",
   "execution_count": 1,
   "metadata": {},
   "outputs": [
    {
     "data": {
      "text/html": [
       "<script type=\"text/javascript\">window.PlotlyConfig = {MathJaxConfig: 'local'};</script><script type=\"text/javascript\">if (window.MathJax) {MathJax.Hub.Config({SVG: {font: \"STIX-Web\"}});}</script><script>requirejs.config({paths: { 'plotly': ['https://cdn.plot.ly/plotly-latest.min']},});if(!window._Plotly) {require(['plotly'],function(plotly) {window._Plotly=plotly;});}</script>"
      ],
      "text/vnd.plotly.v1+html": [
       "<script type=\"text/javascript\">window.PlotlyConfig = {MathJaxConfig: 'local'};</script><script type=\"text/javascript\">if (window.MathJax) {MathJax.Hub.Config({SVG: {font: \"STIX-Web\"}});}</script><script>requirejs.config({paths: { 'plotly': ['https://cdn.plot.ly/plotly-latest.min']},});if(!window._Plotly) {require(['plotly'],function(plotly) {window._Plotly=plotly;});}</script>"
      ]
     },
     "metadata": {},
     "output_type": "display_data"
    }
   ],
   "source": [
    "from plotly.offline import init_notebook_mode\n",
    "\n",
    "from ws_sim_interface import WattsStrogatzSimulator\n",
    "\n",
    "init_notebook_mode(connected=True)"
   ]
  },
  {
   "cell_type": "code",
   "execution_count": 2,
   "metadata": {},
   "outputs": [
    {
     "data": {
      "application/vnd.jupyter.widget-view+json": {
       "model_id": "eb7e2fe598b6401ab17095f20c75573f",
       "version_major": 2,
       "version_minor": 0
      },
      "text/plain": [
       "IntText(value=100, description='Vertex Count (Rounded to Even)')"
      ]
     },
     "metadata": {},
     "output_type": "display_data"
    },
    {
     "data": {
      "application/vnd.jupyter.widget-view+json": {
       "model_id": "666ad83705254ce1a944630e62561868",
       "version_major": 2,
       "version_minor": 0
      },
      "text/plain": [
       "IntText(value=4, description='Graph Regularity')"
      ]
     },
     "metadata": {},
     "output_type": "display_data"
    },
    {
     "data": {
      "application/vnd.jupyter.widget-view+json": {
       "model_id": "d6112d65c3854419ab45145e8d7f600a",
       "version_major": 2,
       "version_minor": 0
      },
      "text/plain": [
       "FloatSlider(value=0.1, continuous_update=False, description='Rewire beta value', max=1.0, step=0.01)"
      ]
     },
     "metadata": {},
     "output_type": "display_data"
    },
    {
     "data": {
      "application/vnd.jupyter.widget-view+json": {
       "model_id": "9ed970a8630a4aeca577f262c9034bdb",
       "version_major": 2,
       "version_minor": 0
      },
      "text/plain": [
       "FloatSlider(value=0.1, continuous_update=False, description='Transmission Probability', max=1.0, step=0.01)"
      ]
     },
     "metadata": {},
     "output_type": "display_data"
    },
    {
     "data": {
      "application/vnd.jupyter.widget-view+json": {
       "model_id": "0324db1461474683ba9a7c141efd7841",
       "version_major": 2,
       "version_minor": 0
      },
      "text/plain": [
       "FloatSlider(value=0.1, continuous_update=False, description='Rewired Transmission Probability', max=1.0, step=…"
      ]
     },
     "metadata": {},
     "output_type": "display_data"
    },
    {
     "data": {
      "application/vnd.jupyter.widget-view+json": {
       "model_id": "6d3e1390cae0451e9e47582e6510331c",
       "version_major": 2,
       "version_minor": 0
      },
      "text/plain": [
       "IntText(value=100, description='Initial Time Allocation')"
      ]
     },
     "metadata": {},
     "output_type": "display_data"
    },
    {
     "data": {
      "application/vnd.jupyter.widget-view+json": {
       "model_id": "26f7f396af1848ceac22d22ec70eaa79",
       "version_major": 2,
       "version_minor": 0
      },
      "text/plain": [
       "ToggleButton(value=False, button_style='info', description='Randomize Time Allocation', icon='check', tooltip=…"
      ]
     },
     "metadata": {},
     "output_type": "display_data"
    },
    {
     "data": {
      "application/vnd.jupyter.widget-view+json": {
       "model_id": "9ef5edf702364b409c2ed8785c009e00",
       "version_major": 2,
       "version_minor": 0
      },
      "text/plain": [
       "ToggleButton(value=False, button_style='info', description='Sequential Time Allocation', icon='check', tooltip…"
      ]
     },
     "metadata": {},
     "output_type": "display_data"
    },
    {
     "data": {
      "application/vnd.jupyter.widget-view+json": {
       "model_id": "f2a423fbf32a448281132e48e2065d0a",
       "version_major": 2,
       "version_minor": 0
      },
      "text/plain": [
       "Button(description='Update Graph', style=ButtonStyle(), tooltip='Update Graph')"
      ]
     },
     "metadata": {},
     "output_type": "display_data"
    },
    {
     "data": {
      "application/vnd.plotly.v1+json": {
       "config": {
        "linkText": "Export to plot.ly",
        "plotlyServerURL": "https://plot.ly",
        "showLink": false
       },
       "data": [
        {
         "hoverinfo": "text",
         "line": {
          "color": "#888",
          "width": 0.5
         },
         "mode": "lines",
         "text": [],
         "type": "scatter",
         "uid": "dbc33547-8556-41cd-b5de-e806607e1996",
         "x": [],
         "y": []
        },
        {
         "hoverinfo": "text",
         "marker": {
          "color": [],
          "colorscale": "Electric",
          "line": {
           "width": 2
          },
          "reversescale": true,
          "showscale": true,
          "size": 10
         },
         "mode": "markers",
         "text": [],
         "type": "scatter",
         "uid": "4310532e-39b6-4e01-8eb9-1f28bd62a70f",
         "x": [],
         "y": []
        }
       ],
       "layout": {
        "hovermode": "closest",
        "showlegend": false,
        "title": {
         "text": "Information Elicitation Simulation"
        },
        "updatemenus": [
         {
          "buttons": [
           {
            "args": [
             null
            ],
            "label": "Play",
            "method": "animate"
           }
          ],
          "pad": {
           "r": 10,
           "t": 87
          },
          "showactive": false,
          "type": "buttons"
         }
        ],
        "xaxis": {
         "showgrid": false,
         "showticklabels": false,
         "zeroline": false
        },
        "yaxis": {
         "showgrid": false,
         "showticklabels": false,
         "zeroline": false
        }
       }
      },
      "text/html": [
       "<div id=\"ca134fe3-6734-4802-9ded-2bffd25725c0\" style=\"height: 525px; width: 100%;\" class=\"plotly-graph-div\"></div><script type=\"text/javascript\">require([\"plotly\"], function(Plotly) { window.PLOTLYENV=window.PLOTLYENV || {};window.PLOTLYENV.BASE_URL=\"https://plot.ly\";\n",
       "if (document.getElementById(\"ca134fe3-6734-4802-9ded-2bffd25725c0\")) {\n",
       "    Plotly.newPlot(\"ca134fe3-6734-4802-9ded-2bffd25725c0\", [{\"hoverinfo\": \"text\", \"line\": {\"color\": \"#888\", \"width\": 0.5}, \"mode\": \"lines\", \"text\": [], \"x\": [], \"y\": [], \"type\": \"scatter\", \"uid\": \"dbc33547-8556-41cd-b5de-e806607e1996\"}, {\"hoverinfo\": \"text\", \"marker\": {\"color\": [], \"colorscale\": \"Electric\", \"line\": {\"width\": 2}, \"reversescale\": true, \"showscale\": true, \"size\": 10}, \"mode\": \"markers\", \"text\": [], \"x\": [], \"y\": [], \"type\": \"scatter\", \"uid\": \"4310532e-39b6-4e01-8eb9-1f28bd62a70f\"}], {\"hovermode\": \"closest\", \"showlegend\": false, \"title\": {\"text\": \"Information Elicitation Simulation\"}, \"updatemenus\": [{\"buttons\": [{\"args\": [null], \"label\": \"Play\", \"method\": \"animate\"}], \"pad\": {\"r\": 10, \"t\": 87}, \"showactive\": false, \"type\": \"buttons\"}], \"xaxis\": {\"showgrid\": false, \"showticklabels\": false, \"zeroline\": false}, \"yaxis\": {\"showgrid\": false, \"showticklabels\": false, \"zeroline\": false}}, {\"showLink\": false, \"linkText\": \"Export to plot.ly\", \"plotlyServerURL\": \"https://plot.ly\"}); \n",
       "}\n",
       "});</script><script type=\"text/javascript\">window.addEventListener(\"resize\", function(){if (document.getElementById(\"ca134fe3-6734-4802-9ded-2bffd25725c0\")) {window._Plotly.Plots.resize(document.getElementById(\"ca134fe3-6734-4802-9ded-2bffd25725c0\"));};})</script>"
      ],
      "text/vnd.plotly.v1+html": [
       "<div id=\"ca134fe3-6734-4802-9ded-2bffd25725c0\" style=\"height: 525px; width: 100%;\" class=\"plotly-graph-div\"></div><script type=\"text/javascript\">require([\"plotly\"], function(Plotly) { window.PLOTLYENV=window.PLOTLYENV || {};window.PLOTLYENV.BASE_URL=\"https://plot.ly\";\n",
       "if (document.getElementById(\"ca134fe3-6734-4802-9ded-2bffd25725c0\")) {\n",
       "    Plotly.newPlot(\"ca134fe3-6734-4802-9ded-2bffd25725c0\", [{\"hoverinfo\": \"text\", \"line\": {\"color\": \"#888\", \"width\": 0.5}, \"mode\": \"lines\", \"text\": [], \"x\": [], \"y\": [], \"type\": \"scatter\", \"uid\": \"dbc33547-8556-41cd-b5de-e806607e1996\"}, {\"hoverinfo\": \"text\", \"marker\": {\"color\": [], \"colorscale\": \"Electric\", \"line\": {\"width\": 2}, \"reversescale\": true, \"showscale\": true, \"size\": 10}, \"mode\": \"markers\", \"text\": [], \"x\": [], \"y\": [], \"type\": \"scatter\", \"uid\": \"4310532e-39b6-4e01-8eb9-1f28bd62a70f\"}], {\"hovermode\": \"closest\", \"showlegend\": false, \"title\": {\"text\": \"Information Elicitation Simulation\"}, \"updatemenus\": [{\"buttons\": [{\"args\": [null], \"label\": \"Play\", \"method\": \"animate\"}], \"pad\": {\"r\": 10, \"t\": 87}, \"showactive\": false, \"type\": \"buttons\"}], \"xaxis\": {\"showgrid\": false, \"showticklabels\": false, \"zeroline\": false}, \"yaxis\": {\"showgrid\": false, \"showticklabels\": false, \"zeroline\": false}}, {\"showLink\": false, \"linkText\": \"Export to plot.ly\", \"plotlyServerURL\": \"https://plot.ly\"}); \n",
       "}\n",
       "});</script><script type=\"text/javascript\">window.addEventListener(\"resize\", function(){if (document.getElementById(\"ca134fe3-6734-4802-9ded-2bffd25725c0\")) {window._Plotly.Plots.resize(document.getElementById(\"ca134fe3-6734-4802-9ded-2bffd25725c0\"));};})</script>"
      ]
     },
     "metadata": {},
     "output_type": "display_data"
    },
    {
     "data": {
      "text/plain": [
       "<ws_sim_interface.WattsStrogatzSimulator at 0x7f99cc548b70>"
      ]
     },
     "execution_count": 2,
     "metadata": {},
     "output_type": "execute_result"
    },
    {
     "name": "stdout",
     "output_type": "stream",
     "text": [
      "1 3\n",
      "2 4\n",
      "3 5\n",
      "4 6\n",
      "5 7\n",
      "6 8\n",
      "7 9\n",
      "95\n",
      "8 10\n",
      "9 11\n",
      "10 12\n",
      "11 13\n",
      "12 14\n",
      "13 15\n",
      "95\n",
      "14 16\n",
      "15 17\n",
      "16 18\n",
      "17 19\n",
      "18 20\n",
      "19 21\n",
      "20 22\n",
      "21 23\n",
      "95\n",
      "22 24\n",
      "95\n",
      "23 25\n",
      "24 26\n",
      "96\n",
      "25 27\n",
      "26 28\n",
      "27 29\n",
      "28 30\n",
      "29 31\n",
      "30 32\n",
      "31 33\n",
      "32 34\n",
      "95\n",
      "33 35\n",
      "96\n",
      "34 36\n",
      "35 37\n",
      "36 38\n",
      "37 39\n",
      "38 40\n",
      "95\n",
      "39 41\n",
      "40 42\n",
      "96\n",
      "41 43\n",
      "42 44\n",
      "96\n",
      "43 45\n",
      "96\n",
      "44 46\n",
      "45 47\n",
      "46 48\n",
      "95\n",
      "47 49\n",
      "48 50\n",
      "96\n",
      "49 51\n",
      "95\n",
      "50 52\n",
      "51 53\n",
      "95\n",
      "52 54\n",
      "53 55\n",
      "54 56\n",
      "55 57\n",
      "56 58\n",
      "57 59\n",
      "95\n",
      "58 60\n",
      "59 61\n",
      "60 62\n",
      "95\n",
      "61 63\n",
      "62 64\n",
      "96\n",
      "63 65\n",
      "64 66\n",
      "65 67\n",
      "66 68\n",
      "67 69\n",
      "68 70\n",
      "95\n",
      "69 71\n",
      "70 72\n",
      "96\n",
      "71 73\n",
      "72 74\n",
      "73 75\n",
      "95\n",
      "74 76\n",
      "75 77\n",
      "95\n",
      "76 78\n",
      "77 79\n",
      "78 80\n",
      "79 81\n",
      "80 82\n",
      "81 83\n",
      "82 84\n",
      "83 85\n",
      "84 86\n",
      "85 87\n",
      "86 88\n",
      "87 89\n",
      "88 90\n",
      "89 91\n",
      "90 92\n",
      "95\n",
      "91 93\n",
      "92 94\n",
      "93 95\n",
      "95\n",
      "94 96\n",
      "95 97\n",
      "96 98\n",
      "97 99\n",
      "98 0\n",
      "99 1\n",
      "95\n",
      "0 2\n"
     ]
    },
    {
     "ename": "AttributeError",
     "evalue": "'NoneType' object has no attribute 'num_people'",
     "output_type": "error",
     "traceback": [
      "\u001b[0;31m---------------------------------------------------------------------------\u001b[0m",
      "\u001b[0;31mAttributeError\u001b[0m                            Traceback (most recent call last)",
      "\u001b[0;32m~/crowd-dynamics-lab/IESimulation/ws_sim_interface.py\u001b[0m in \u001b[0;36mupdate_graph\u001b[0;34m(self, button)\u001b[0m\n\u001b[1;32m     60\u001b[0m         \u001b[0mvtx_trace\u001b[0m \u001b[0;34m=\u001b[0m \u001b[0mgen_vis\u001b[0m\u001b[0;34m.\u001b[0m\u001b[0minit_vertex_traces\u001b[0m\u001b[0;34m(\u001b[0m\u001b[0;34m)\u001b[0m\u001b[0;34m\u001b[0m\u001b[0m\n\u001b[1;32m     61\u001b[0m         vtx_trace, edge_trace = gen_vis.init_trace_values(self.graph,\n\u001b[0;32m---> 62\u001b[0;31m                                                 self.radius, vtx_trace, edge_trace)\n\u001b[0m\u001b[1;32m     63\u001b[0m \u001b[0;34m\u001b[0m\u001b[0m\n\u001b[1;32m     64\u001b[0m         \u001b[0mself\u001b[0m\u001b[0;34m.\u001b[0m\u001b[0mplot_fig\u001b[0m\u001b[0;34m.\u001b[0m\u001b[0mdata\u001b[0m \u001b[0;34m=\u001b[0m \u001b[0;34m[\u001b[0m\u001b[0;34m]\u001b[0m\u001b[0;34m\u001b[0m\u001b[0m\n",
      "\u001b[0;32m~/crowd-dynamics-lab/IESimulation/gen_vis.py\u001b[0m in \u001b[0;36minit_trace_values\u001b[0;34m(G, radius, vtx_trace, edge_trace)\u001b[0m\n\u001b[1;32m     57\u001b[0m     \"\"\"\n\u001b[1;32m     58\u001b[0m \u001b[0;34m\u001b[0m\u001b[0m\n\u001b[0;32m---> 59\u001b[0;31m     \u001b[0mgraph_xpos\u001b[0m\u001b[0;34m,\u001b[0m \u001b[0mgraph_ypos\u001b[0m \u001b[0;34m=\u001b[0m \u001b[0mcalc_kreg_pos\u001b[0m\u001b[0;34m(\u001b[0m\u001b[0mG\u001b[0m\u001b[0;34m.\u001b[0m\u001b[0mnum_people\u001b[0m\u001b[0;34m,\u001b[0m \u001b[0mradius\u001b[0m\u001b[0;34m)\u001b[0m\u001b[0;34m\u001b[0m\u001b[0m\n\u001b[0m\u001b[1;32m     60\u001b[0m     \u001b[0mvtx_positions\u001b[0m \u001b[0;34m=\u001b[0m \u001b[0mzip\u001b[0m\u001b[0;34m(\u001b[0m\u001b[0mG\u001b[0m\u001b[0;34m.\u001b[0m\u001b[0mvertices\u001b[0m\u001b[0;34m,\u001b[0m \u001b[0mgraph_xpos\u001b[0m\u001b[0;34m,\u001b[0m \u001b[0mgraph_ypos\u001b[0m\u001b[0;34m)\u001b[0m\u001b[0;34m\u001b[0m\u001b[0m\n\u001b[1;32m     61\u001b[0m \u001b[0;34m\u001b[0m\u001b[0m\n",
      "\u001b[0;31mAttributeError\u001b[0m: 'NoneType' object has no attribute 'num_people'"
     ]
    },
    {
     "name": "stdout",
     "output_type": "stream",
     "text": [
      "1 3\n",
      "2 4\n",
      "3 5\n",
      "4 6\n",
      "5 7\n",
      "95\n",
      "6 8\n",
      "7 9\n",
      "95\n",
      "95\n",
      "8 10\n",
      "9 11\n",
      "10 12\n",
      "11 13\n",
      "12 14\n",
      "95\n",
      "13 15\n",
      "14 16\n",
      "15 17\n",
      "16 18\n",
      "17 19\n",
      "18 20\n",
      "95\n",
      "19 21\n",
      "20 22\n",
      "21 23\n",
      "22 24\n",
      "23 25\n",
      "24 26\n",
      "25 27\n",
      "94\n",
      "26 28\n",
      "95\n",
      "27 29\n",
      "97\n",
      "28 30\n",
      "29 31\n",
      "30 32\n",
      "95\n",
      "31 33\n",
      "32 34\n",
      "96\n",
      "33 35\n",
      "34 36\n",
      "35 37\n",
      "36 38\n",
      "37 39\n",
      "38 40\n",
      "39 41\n",
      "40 42\n",
      "41 43\n",
      "42 44\n",
      "43 45\n",
      "44 46\n",
      "45 47\n",
      "95\n",
      "46 48\n",
      "47 49\n",
      "96\n",
      "48 50\n",
      "49 51\n",
      "50 52\n",
      "51 53\n",
      "52 54\n",
      "95\n",
      "53 55\n",
      "54 56\n",
      "55 57\n",
      "56 58\n",
      "57 59\n",
      "95\n",
      "58 60\n",
      "59 61\n",
      "60 62\n",
      "61 63\n",
      "62 64\n",
      "63 65\n",
      "64 66\n",
      "95\n",
      "65 67\n",
      "66 68\n",
      "67 69\n",
      "68 70\n",
      "69 71\n",
      "70 72\n",
      "71 73\n",
      "72 74\n",
      "73 75\n",
      "95\n",
      "74 76\n",
      "75 77\n",
      "76 78\n",
      "77 79\n",
      "78 80\n",
      "79 81\n",
      "80 82\n",
      "95\n",
      "81 83\n",
      "82 84\n",
      "96\n",
      "83 85\n",
      "84 86\n",
      "95\n",
      "85 87\n",
      "86 88\n",
      "95\n",
      "87 89\n",
      "88 90\n",
      "89 91\n",
      "95\n",
      "90 92\n",
      "96\n",
      "91 93\n",
      "92 94\n",
      "93 95\n",
      "94 96\n",
      "95 97\n",
      "96 98\n",
      "95\n",
      "95\n",
      "97 99\n",
      "98 0\n",
      "99 1\n",
      "0 2\n"
     ]
    },
    {
     "ename": "AttributeError",
     "evalue": "'NoneType' object has no attribute 'num_people'",
     "output_type": "error",
     "traceback": [
      "\u001b[0;31m---------------------------------------------------------------------------\u001b[0m",
      "\u001b[0;31mAttributeError\u001b[0m                            Traceback (most recent call last)",
      "\u001b[0;32m~/crowd-dynamics-lab/IESimulation/ws_sim_interface.py\u001b[0m in \u001b[0;36mupdate_graph\u001b[0;34m(self, button)\u001b[0m\n\u001b[1;32m     60\u001b[0m         \u001b[0mvtx_trace\u001b[0m \u001b[0;34m=\u001b[0m \u001b[0mgen_vis\u001b[0m\u001b[0;34m.\u001b[0m\u001b[0minit_vertex_traces\u001b[0m\u001b[0;34m(\u001b[0m\u001b[0;34m)\u001b[0m\u001b[0;34m\u001b[0m\u001b[0m\n\u001b[1;32m     61\u001b[0m         vtx_trace, edge_trace = gen_vis.init_trace_values(self.graph,\n\u001b[0;32m---> 62\u001b[0;31m                                                 self.radius, vtx_trace, edge_trace)\n\u001b[0m\u001b[1;32m     63\u001b[0m \u001b[0;34m\u001b[0m\u001b[0m\n\u001b[1;32m     64\u001b[0m         \u001b[0mself\u001b[0m\u001b[0;34m.\u001b[0m\u001b[0mplot_fig\u001b[0m\u001b[0;34m.\u001b[0m\u001b[0mdata\u001b[0m \u001b[0;34m=\u001b[0m \u001b[0;34m[\u001b[0m\u001b[0;34m]\u001b[0m\u001b[0;34m\u001b[0m\u001b[0m\n",
      "\u001b[0;32m~/crowd-dynamics-lab/IESimulation/gen_vis.py\u001b[0m in \u001b[0;36minit_trace_values\u001b[0;34m(G, radius, vtx_trace, edge_trace)\u001b[0m\n\u001b[1;32m     57\u001b[0m     \"\"\"\n\u001b[1;32m     58\u001b[0m \u001b[0;34m\u001b[0m\u001b[0m\n\u001b[0;32m---> 59\u001b[0;31m     \u001b[0mgraph_xpos\u001b[0m\u001b[0;34m,\u001b[0m \u001b[0mgraph_ypos\u001b[0m \u001b[0;34m=\u001b[0m \u001b[0mcalc_kreg_pos\u001b[0m\u001b[0;34m(\u001b[0m\u001b[0mG\u001b[0m\u001b[0;34m.\u001b[0m\u001b[0mnum_people\u001b[0m\u001b[0;34m,\u001b[0m \u001b[0mradius\u001b[0m\u001b[0;34m)\u001b[0m\u001b[0;34m\u001b[0m\u001b[0m\n\u001b[0m\u001b[1;32m     60\u001b[0m     \u001b[0mvtx_positions\u001b[0m \u001b[0;34m=\u001b[0m \u001b[0mzip\u001b[0m\u001b[0;34m(\u001b[0m\u001b[0mG\u001b[0m\u001b[0;34m.\u001b[0m\u001b[0mvertices\u001b[0m\u001b[0;34m,\u001b[0m \u001b[0mgraph_xpos\u001b[0m\u001b[0;34m,\u001b[0m \u001b[0mgraph_ypos\u001b[0m\u001b[0;34m)\u001b[0m\u001b[0;34m\u001b[0m\u001b[0m\n\u001b[1;32m     61\u001b[0m \u001b[0;34m\u001b[0m\u001b[0m\n",
      "\u001b[0;31mAttributeError\u001b[0m: 'NoneType' object has no attribute 'num_people'"
     ]
    }
   ],
   "source": [
    "WattsStrogatzSimulator()"
   ]
  },
  {
   "cell_type": "code",
   "execution_count": null,
   "metadata": {},
   "outputs": [],
   "source": []
  }
 ],
 "metadata": {
  "kernelspec": {
   "display_name": "Python 3",
   "language": "python",
   "name": "python3"
  },
  "language_info": {
   "codemirror_mode": {
    "name": "ipython",
    "version": 3
   },
   "file_extension": ".py",
   "mimetype": "text/x-python",
   "name": "python",
   "nbconvert_exporter": "python",
   "pygments_lexer": "ipython3",
   "version": "3.6.2"
  }
 },
 "nbformat": 4,
 "nbformat_minor": 2
}
