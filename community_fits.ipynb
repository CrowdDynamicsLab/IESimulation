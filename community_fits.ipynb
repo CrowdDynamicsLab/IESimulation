{
 "cells": [
  {
   "cell_type": "code",
   "execution_count": 19,
   "id": "ff6184b2",
   "metadata": {},
   "outputs": [],
   "source": [
    "import os\n",
    "import json\n",
    "\n",
    "import pandas as pd\n",
    "import numpy as np\n",
    "import networkx as nx\n",
    "from matplotlib import pyplot as plt\n",
    "from matplotlib import rcParams\n",
    "import seaborn as sns\n",
    "from itertools import chain\n",
    "\n",
    "from comparison.wasserstein import emd"
   ]
  },
  {
   "cell_type": "code",
   "execution_count": 20,
   "id": "381b9378",
   "metadata": {},
   "outputs": [],
   "source": [
    "import matplotlib as mpl\n",
    "import matplotlib.font_manager as font_manager\n",
    "from matplotlib import rcParams"
   ]
  },
  {
   "cell_type": "code",
   "execution_count": 21,
   "id": "987e31f1",
   "metadata": {},
   "outputs": [],
   "source": [
    "vill_fits = pd.read_csv('comparison/vill_fits_final.csv')"
   ]
  },
  {
   "cell_type": "code",
   "execution_count": 22,
   "id": "dd46ddae",
   "metadata": {},
   "outputs": [
    {
     "data": {
      "text/html": [
       "<div>\n",
       "<style scoped>\n",
       "    .dataframe tbody tr th:only-of-type {\n",
       "        vertical-align: middle;\n",
       "    }\n",
       "\n",
       "    .dataframe tbody tr th {\n",
       "        vertical-align: top;\n",
       "    }\n",
       "\n",
       "    .dataframe thead th {\n",
       "        text-align: right;\n",
       "    }\n",
       "</style>\n",
       "<table border=\"1\" class=\"dataframe\">\n",
       "  <thead>\n",
       "    <tr style=\"text-align: right;\">\n",
       "      <th></th>\n",
       "      <th>vill_no</th>\n",
       "      <th>emd</th>\n",
       "      <th>sc</th>\n",
       "      <th>ho</th>\n",
       "    </tr>\n",
       "  </thead>\n",
       "  <tbody>\n",
       "    <tr>\n",
       "      <th>0</th>\n",
       "      <td>1</td>\n",
       "      <td>0.104089</td>\n",
       "      <td>0.2500</td>\n",
       "      <td>0.3125</td>\n",
       "    </tr>\n",
       "    <tr>\n",
       "      <th>1</th>\n",
       "      <td>2</td>\n",
       "      <td>0.043333</td>\n",
       "      <td>0.5625</td>\n",
       "      <td>0.3750</td>\n",
       "    </tr>\n",
       "    <tr>\n",
       "      <th>2</th>\n",
       "      <td>3</td>\n",
       "      <td>0.037434</td>\n",
       "      <td>0.5000</td>\n",
       "      <td>0.3750</td>\n",
       "    </tr>\n",
       "    <tr>\n",
       "      <th>3</th>\n",
       "      <td>4</td>\n",
       "      <td>0.027399</td>\n",
       "      <td>0.5625</td>\n",
       "      <td>0.4375</td>\n",
       "    </tr>\n",
       "    <tr>\n",
       "      <th>4</th>\n",
       "      <td>5</td>\n",
       "      <td>0.044036</td>\n",
       "      <td>0.6250</td>\n",
       "      <td>0.6250</td>\n",
       "    </tr>\n",
       "    <tr>\n",
       "      <th>...</th>\n",
       "      <td>...</td>\n",
       "      <td>...</td>\n",
       "      <td>...</td>\n",
       "      <td>...</td>\n",
       "    </tr>\n",
       "    <tr>\n",
       "      <th>70</th>\n",
       "      <td>73</td>\n",
       "      <td>0.172987</td>\n",
       "      <td>0.0000</td>\n",
       "      <td>0.3125</td>\n",
       "    </tr>\n",
       "    <tr>\n",
       "      <th>71</th>\n",
       "      <td>74</td>\n",
       "      <td>0.092859</td>\n",
       "      <td>0.3750</td>\n",
       "      <td>0.3750</td>\n",
       "    </tr>\n",
       "    <tr>\n",
       "      <th>72</th>\n",
       "      <td>75</td>\n",
       "      <td>0.176602</td>\n",
       "      <td>0.0000</td>\n",
       "      <td>0.3750</td>\n",
       "    </tr>\n",
       "    <tr>\n",
       "      <th>73</th>\n",
       "      <td>76</td>\n",
       "      <td>0.122080</td>\n",
       "      <td>0.5000</td>\n",
       "      <td>0.5625</td>\n",
       "    </tr>\n",
       "    <tr>\n",
       "      <th>74</th>\n",
       "      <td>77</td>\n",
       "      <td>0.130265</td>\n",
       "      <td>0.1875</td>\n",
       "      <td>0.3125</td>\n",
       "    </tr>\n",
       "  </tbody>\n",
       "</table>\n",
       "<p>75 rows × 4 columns</p>\n",
       "</div>"
      ],
      "text/plain": [
       "    vill_no       emd      sc      ho\n",
       "0         1  0.104089  0.2500  0.3125\n",
       "1         2  0.043333  0.5625  0.3750\n",
       "2         3  0.037434  0.5000  0.3750\n",
       "3         4  0.027399  0.5625  0.4375\n",
       "4         5  0.044036  0.6250  0.6250\n",
       "..      ...       ...     ...     ...\n",
       "70       73  0.172987  0.0000  0.3125\n",
       "71       74  0.092859  0.3750  0.3750\n",
       "72       75  0.176602  0.0000  0.3750\n",
       "73       76  0.122080  0.5000  0.5625\n",
       "74       77  0.130265  0.1875  0.3125\n",
       "\n",
       "[75 rows x 4 columns]"
      ]
     },
     "execution_count": 22,
     "metadata": {},
     "output_type": "execute_result"
    }
   ],
   "source": [
    "vill_fits"
   ]
  },
  {
   "cell_type": "code",
   "execution_count": 37,
   "id": "aa9a97ba",
   "metadata": {},
   "outputs": [],
   "source": [
    "vill_mod_array = []\n",
    "vill_num_array = []\n",
    "sim_mod_array = []\n",
    "sim_num_array = []\n",
    "\n",
    "for index, row in vill_fits.iterrows():\n",
    "    vill_no = int(row['vill_no'])\n",
    "    sc = row['sc']\n",
    "    ho = row['ho']\n",
    "    \n",
    "    stata_household = pd.read_stata('banerjee_data/datav4.0/Data/2. Demographics and Outcomes/household_characteristics.dta')\n",
    "\n",
    "    trust_fact_files = ['visitcome','visitgo', 'templecompany', 'helpdecision', 'giveadvice', 'medic']\n",
    "\n",
    "    stata_vill = stata_household.where(stata_household['village'] == vill_no).dropna(how = 'all')\n",
    "    room_type = np.array(stata_vill['room_no']/np.sqrt((stata_vill['bed_no']+1))<=2)\n",
    "    room_type_dict = {k: v for k, v in enumerate(room_type)}\n",
    "\n",
    "    old_file3 = 'banerjee_data/datav4.0/Data/1. Network Data/Adjacency Matrices/adj_' + trust_fact_files[0] +'_HH_vilno_' + str(vill_no) + '.csv'\n",
    "    ad_mat_old3 = (pd.read_csv(old_file3, header=None)).to_numpy()\n",
    "\n",
    "    for file in trust_fact_files[1:]:\n",
    "        new_file3 = 'banerjee_data/datav4.0/Data/1. Network Data/Adjacency Matrices/adj_' + file +'_HH_vilno_' + str(vill_no) + '.csv'\n",
    "        ad_mat_new3= (pd.read_csv(new_file3, header=None)).to_numpy()\n",
    "\n",
    "        ad_mat_old3 = np.bitwise_or(ad_mat_old3, ad_mat_new3)\n",
    "\n",
    "    vill_mat = ad_mat_old3\n",
    "    \n",
    "    data_dir = 'finer_results_ntwk'\n",
    "    filename = '{odir}/{vill_no}_{k}_{sc}_{ho}_losses.txt'.format(\n",
    "        odir=data_dir, vill_no=str(vill_no), k = str(k), sc = str(sc), ho = str(ho))\n",
    "\n",
    "    f = open(filename, \"r\")\n",
    "\n",
    "    # nonsense code for reading the simulated networks and attrs\n",
    "    ntwk = f.readline()\n",
    "    attrs = f.readline()\n",
    "    ntwk = ntwk.replace('[', '')\n",
    "    ntwk = ntwk.replace(']', '')\n",
    "    ntwk = ntwk.replace(\"'\", '')\n",
    "    num_nodes = int(np.sqrt((ntwk.count('0.0') + ntwk.count('1.0'))/5))\n",
    "    ntwk_arr = np.array([int(float(e)) for e in ntwk.split(',')])\n",
    "    arr1 = ntwk_arr[:num_nodes**2].reshape((num_nodes, num_nodes))\n",
    "    arr2 = ntwk_arr[num_nodes**2:2*num_nodes**2].reshape((num_nodes, num_nodes))\n",
    "    arr3 = ntwk_arr[2*num_nodes**2:3*num_nodes**2].reshape((num_nodes, num_nodes))\n",
    "    arr4 = ntwk_arr[3*num_nodes**2:4*num_nodes**2].reshape((num_nodes, num_nodes))\n",
    "    arr5 = ntwk_arr[4*num_nodes**2:5*num_nodes**2].reshape((num_nodes, num_nodes))\n",
    "\n",
    "    attrs = attrs.strip('{}\\n')\n",
    "    pairs = attrs.split(',')\n",
    "    attr_dict = {int(key): int(value) for key, value in (pair.split(': ') for pair in pairs)}\n",
    "\n",
    "    #sim_dists = [ calc_dists(a, attr_dict, k) for a in [arr1, arr2, arr3, arr4, arr5] ]\n",
    "    #avg_sim_dists = avg_dists(sim_dists)\n",
    "    #vill_dist = calc_dists(vill_mat, room_type_dict, kappa_vill)\n",
    "\n",
    "    #sim_tri_count = np.mean([ triangle_count(np.array(a)) for a in [arr1, arr2, arr3, arr4, arr5] ])\n",
    "    #sim_assort = np.mean([ assortativity_coeff(np.array(a), attr_dict) for a in [arr1, arr2, arr3, arr4, arr5] ])\n",
    "\n",
    "    #vill_tri_count = triangle_count(vill_mat)\n",
    "    #vill_assort = assortativity_coeff(vill_mat, room_type_dict)\n",
    "    \n",
    "    G_vill = nx.from_numpy_array(vill_mat)\n",
    "    \n",
    "    vill_communities = nx.community.louvain_communities(G_vill)\n",
    "    \n",
    "    vill_mod = nx.community.modularity(G_vill, vill_communities)\n",
    "    \n",
    "    vill_mod_array.append(vill_mod)\n",
    "    \n",
    "    num_vill = len(vill_communities)\n",
    "    \n",
    "    vill_num_array.append(num_vill)\n",
    "    \n",
    "    sim_Gs = [nx.from_numpy_array(a) for a in [arr1, arr2, arr3, arr4, arr5]]\n",
    "    \n",
    "    sim_comms = [nx.community.louvain_communities(g) for g in sim_Gs]\n",
    "    \n",
    "    num_sim = np.mean([len(comm) for comm in sim_comms])\n",
    "    \n",
    "    sim_zip = list(zip(sim_Gs, sim_comms))\n",
    "    \n",
    "    sim_mod = np.mean([nx.community.modularity(g_vill[0], g_vill[1]) for g_vill in sim_zip])\n",
    "    \n",
    "    sim_mod_array.append(sim_mod)\n",
    "    \n",
    "    sim_num_array.append(num_sim)\n"
   ]
  },
  {
   "cell_type": "code",
   "execution_count": 39,
   "id": "bb8578dd",
   "metadata": {},
   "outputs": [
    {
     "data": {
      "text/plain": [
       "<matplotlib.collections.PathCollection at 0x131b7a090>"
      ]
     },
     "execution_count": 39,
     "metadata": {},
     "output_type": "execute_result"
    },
    {
     "data": {
      "image/png": "[encoded data removed]",
      "text/plain": [
       "<Figure size 640x480 with 1 Axes>"
      ]
     },
     "metadata": {},
     "output_type": "display_data"
    }
   ],
   "source": [
    "import matplotlib.pyplot as plt\n",
    "\n",
    "plt.scatter(vill_num_array, sim_num_array)"
   ]
  },
  {
   "cell_type": "code",
   "execution_count": 47,
   "id": "aaa00cc3",
   "metadata": {},
   "outputs": [
    {
     "data": {
      "text/plain": [
       "(array([ 3.,  2., 10., 14., 13., 14., 10.,  5.,  2.,  2.]),\n",
       " array([0.36374878, 0.39057955, 0.41741032, 0.44424109, 0.47107187,\n",
       "        0.49790264, 0.52473341, 0.55156418, 0.57839495, 0.60522572,\n",
       "        0.6320565 ]),\n",
       " <BarContainer object of 10 artists>)"
      ]
     },
     "execution_count": 47,
     "metadata": {},
     "output_type": "execute_result"
    },
    {
     "data": {
      "image/png": "[encoded data removed]",
      "text/plain": [
       "<Figure size 640x480 with 1 Axes>"
      ]
     },
     "metadata": {},
     "output_type": "display_data"
    }
   ],
   "source": [
    "plt.hist(vill_mod_array, 10)"
   ]
  },
  {
   "cell_type": "code",
   "execution_count": 48,
   "id": "ca2f1de6",
   "metadata": {},
   "outputs": [
    {
     "data": {
      "text/plain": [
       "(array([ 4.,  6.,  8., 16., 18., 10.,  2.,  4.,  4.,  3.]),\n",
       " array([0.37165129, 0.42049239, 0.46933349, 0.51817459, 0.56701569,\n",
       "        0.61585679, 0.66469789, 0.71353899, 0.76238009, 0.81122119,\n",
       "        0.86006229]),\n",
       " <BarContainer object of 10 artists>)"
      ]
     },
     "execution_count": 48,
     "metadata": {},
     "output_type": "execute_result"
    },
    {
     "data": {
      "image/png": "[encoded data removed]",
      "text/plain": [
       "<Figure size 640x480 with 1 Axes>"
      ]
     },
     "metadata": {},
     "output_type": "display_data"
    }
   ],
   "source": [
    "plt.hist(sim_mod_array, 10)"
   ]
  },
  {
   "cell_type": "code",
   "execution_count": null,
   "id": "701cf833",
   "metadata": {},
   "outputs": [],
   "source": []
  }
 ],
 "metadata": {
  "kernelspec": {
   "display_name": "Python 3 (ipykernel)",
   "language": "python",
   "name": "python3"
  },
  "language_info": {
   "codemirror_mode": {
    "name": "ipython",
    "version": 3
   },
   "file_extension": ".py",
   "mimetype": "text/x-python",
   "name": "python",
   "nbconvert_exporter": "python",
   "pygments_lexer": "ipython3",
   "version": "3.11.4"
  }
 },
 "nbformat": 4,
 "nbformat_minor": 5
}
