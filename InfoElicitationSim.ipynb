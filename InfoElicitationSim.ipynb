{
 "cells": [
  {
   "cell_type": "code",
   "execution_count": 1,
   "metadata": {},
   "outputs": [
    {
     "data": {
      "text/html": [
       "<script type=\"text/javascript\">window.PlotlyConfig = {MathJaxConfig: 'local'};</script><script type=\"text/javascript\">if (window.MathJax) {MathJax.Hub.Config({SVG: {font: \"STIX-Web\"}});}</script><script>requirejs.config({paths: { 'plotly': ['https://cdn.plot.ly/plotly-latest.min']},});if(!window._Plotly) {require(['plotly'],function(plotly) {window._Plotly=plotly;});}</script>"
      ],
      "text/vnd.plotly.v1+html": [
       "<script type=\"text/javascript\">window.PlotlyConfig = {MathJaxConfig: 'local'};</script><script type=\"text/javascript\">if (window.MathJax) {MathJax.Hub.Config({SVG: {font: \"STIX-Web\"}});}</script><script>requirejs.config({paths: { 'plotly': ['https://cdn.plot.ly/plotly-latest.min']},});if(!window._Plotly) {require(['plotly'],function(plotly) {window._Plotly=plotly;});}</script>"
      ]
     },
     "metadata": {},
     "output_type": "display_data"
    }
   ],
   "source": [
    "from plotly.offline import init_notebook_mode\n",
    "\n",
    "from sim_interface import SimpleSimulator\n",
    "\n",
    "init_notebook_mode(connected=True)"
   ]
  },
  {
   "cell_type": "code",
   "execution_count": 2,
   "metadata": {
    "scrolled": true
   },
   "outputs": [
    {
     "data": {
      "application/vnd.jupyter.widget-view+json": {
       "model_id": "3975ae936a954583af0006e3abec2e40",
       "version_major": 2,
       "version_minor": 0
      },
      "text/plain": [
       "IntText(value=8, description='Vertex Count (Rounded to Even)')"
      ]
     },
     "metadata": {},
     "output_type": "display_data"
    },
    {
     "data": {
      "application/vnd.jupyter.widget-view+json": {
       "model_id": "2140fe776f08499f97181259cef17d45",
       "version_major": 2,
       "version_minor": 0
      },
      "text/plain": [
       "IntText(value=4, description='Graph Regularity')"
      ]
     },
     "metadata": {},
     "output_type": "display_data"
    },
    {
     "data": {
      "application/vnd.jupyter.widget-view+json": {
       "model_id": "01d39a31c91c43eba7081ad337aa8244",
       "version_major": 2,
       "version_minor": 0
      },
      "text/plain": [
       "FloatSlider(value=0.1, continuous_update=False, description='Transmission Probability', max=1.0, step=0.01)"
      ]
     },
     "metadata": {},
     "output_type": "display_data"
    },
    {
     "data": {
      "application/vnd.jupyter.widget-view+json": {
       "model_id": "c2831473bc56442dae2c409488686d63",
       "version_major": 2,
       "version_minor": 0
      },
      "text/plain": [
       "IntText(value=100, description='Initial Time Allocation')"
      ]
     },
     "metadata": {},
     "output_type": "display_data"
    },
    {
     "data": {
      "application/vnd.jupyter.widget-view+json": {
       "model_id": "2ceb420d84374f3481c9060dec24737a",
       "version_major": 2,
       "version_minor": 0
      },
      "text/plain": [
       "ToggleButton(value=False, button_style='info', description='Randomize Time Allocation', icon='check', tooltip=…"
      ]
     },
     "metadata": {},
     "output_type": "display_data"
    },
    {
     "data": {
      "application/vnd.jupyter.widget-view+json": {
       "model_id": "a8b337f4a765427c835d838f1aa99b7b",
       "version_major": 2,
       "version_minor": 0
      },
      "text/plain": [
       "Button(description='Update Graph', style=ButtonStyle(), tooltip='Update Graph')"
      ]
     },
     "metadata": {},
     "output_type": "display_data"
    },
    {
     "data": {
      "application/vnd.plotly.v1+json": {
       "config": {
        "linkText": "Export to plot.ly",
        "plotlyServerURL": "https://plot.ly",
        "showLink": false
       },
       "data": [
        {
         "hoverinfo": "text",
         "line": {
          "color": "#888",
          "width": 0.5
         },
         "mode": "lines",
         "text": [],
         "type": "scatter",
         "uid": "4a72c5d5-1281-42c2-8305-49aceabdf5a1",
         "x": [],
         "y": []
        },
        {
         "hoverinfo": "text",
         "marker": {
          "color": [],
          "colorscale": "Electric",
          "line": {
           "width": 2
          },
          "reversescale": true,
          "showscale": true,
          "size": 10
         },
         "mode": "markers",
         "text": [],
         "type": "scatter",
         "uid": "632af852-cbfb-4c1c-ab86-7ed20cb146b7",
         "x": [],
         "y": []
        }
       ],
       "layout": {
        "hovermode": "closest",
        "showlegend": false,
        "title": {
         "text": "Information Elicitation Simulation"
        },
        "updatemenus": [
         {
          "buttons": [
           {
            "args": [
             null
            ],
            "label": "Play",
            "method": "animate"
           }
          ],
          "pad": {
           "r": 10,
           "t": 87
          },
          "showactive": false,
          "type": "buttons"
         }
        ],
        "xaxis": {
         "showgrid": false,
         "showticklabels": false,
         "zeroline": false
        },
        "yaxis": {
         "showgrid": false,
         "showticklabels": false,
         "zeroline": false
        }
       }
      },
      "text/html": [
       "<div id=\"0f44af6f-9436-4435-b9e4-bececd3191c1\" style=\"height: 525px; width: 100%;\" class=\"plotly-graph-div\"></div><script type=\"text/javascript\">require([\"plotly\"], function(Plotly) { window.PLOTLYENV=window.PLOTLYENV || {};window.PLOTLYENV.BASE_URL=\"https://plot.ly\";\n",
       "if (document.getElementById(\"0f44af6f-9436-4435-b9e4-bececd3191c1\")) {\n",
       "    Plotly.newPlot(\"0f44af6f-9436-4435-b9e4-bececd3191c1\", [{\"hoverinfo\": \"text\", \"line\": {\"color\": \"#888\", \"width\": 0.5}, \"mode\": \"lines\", \"text\": [], \"x\": [], \"y\": [], \"type\": \"scatter\", \"uid\": \"4a72c5d5-1281-42c2-8305-49aceabdf5a1\"}, {\"hoverinfo\": \"text\", \"marker\": {\"color\": [], \"colorscale\": \"Electric\", \"line\": {\"width\": 2}, \"reversescale\": true, \"showscale\": true, \"size\": 10}, \"mode\": \"markers\", \"text\": [], \"x\": [], \"y\": [], \"type\": \"scatter\", \"uid\": \"632af852-cbfb-4c1c-ab86-7ed20cb146b7\"}], {\"hovermode\": \"closest\", \"showlegend\": false, \"title\": {\"text\": \"Information Elicitation Simulation\"}, \"updatemenus\": [{\"buttons\": [{\"args\": [null], \"label\": \"Play\", \"method\": \"animate\"}], \"pad\": {\"r\": 10, \"t\": 87}, \"showactive\": false, \"type\": \"buttons\"}], \"xaxis\": {\"showgrid\": false, \"showticklabels\": false, \"zeroline\": false}, \"yaxis\": {\"showgrid\": false, \"showticklabels\": false, \"zeroline\": false}}, {\"showLink\": false, \"linkText\": \"Export to plot.ly\", \"plotlyServerURL\": \"https://plot.ly\"}); \n",
       "}\n",
       "});</script><script type=\"text/javascript\">window.addEventListener(\"resize\", function(){if (document.getElementById(\"0f44af6f-9436-4435-b9e4-bececd3191c1\")) {window._Plotly.Plots.resize(document.getElementById(\"0f44af6f-9436-4435-b9e4-bececd3191c1\"));};})</script>"
      ],
      "text/vnd.plotly.v1+html": [
       "<div id=\"0f44af6f-9436-4435-b9e4-bececd3191c1\" style=\"height: 525px; width: 100%;\" class=\"plotly-graph-div\"></div><script type=\"text/javascript\">require([\"plotly\"], function(Plotly) { window.PLOTLYENV=window.PLOTLYENV || {};window.PLOTLYENV.BASE_URL=\"https://plot.ly\";\n",
       "if (document.getElementById(\"0f44af6f-9436-4435-b9e4-bececd3191c1\")) {\n",
       "    Plotly.newPlot(\"0f44af6f-9436-4435-b9e4-bececd3191c1\", [{\"hoverinfo\": \"text\", \"line\": {\"color\": \"#888\", \"width\": 0.5}, \"mode\": \"lines\", \"text\": [], \"x\": [], \"y\": [], \"type\": \"scatter\", \"uid\": \"4a72c5d5-1281-42c2-8305-49aceabdf5a1\"}, {\"hoverinfo\": \"text\", \"marker\": {\"color\": [], \"colorscale\": \"Electric\", \"line\": {\"width\": 2}, \"reversescale\": true, \"showscale\": true, \"size\": 10}, \"mode\": \"markers\", \"text\": [], \"x\": [], \"y\": [], \"type\": \"scatter\", \"uid\": \"632af852-cbfb-4c1c-ab86-7ed20cb146b7\"}], {\"hovermode\": \"closest\", \"showlegend\": false, \"title\": {\"text\": \"Information Elicitation Simulation\"}, \"updatemenus\": [{\"buttons\": [{\"args\": [null], \"label\": \"Play\", \"method\": \"animate\"}], \"pad\": {\"r\": 10, \"t\": 87}, \"showactive\": false, \"type\": \"buttons\"}], \"xaxis\": {\"showgrid\": false, \"showticklabels\": false, \"zeroline\": false}, \"yaxis\": {\"showgrid\": false, \"showticklabels\": false, \"zeroline\": false}}, {\"showLink\": false, \"linkText\": \"Export to plot.ly\", \"plotlyServerURL\": \"https://plot.ly\"}); \n",
       "}\n",
       "});</script><script type=\"text/javascript\">window.addEventListener(\"resize\", function(){if (document.getElementById(\"0f44af6f-9436-4435-b9e4-bececd3191c1\")) {window._Plotly.Plots.resize(document.getElementById(\"0f44af6f-9436-4435-b9e4-bececd3191c1\"));};})</script>"
      ]
     },
     "metadata": {},
     "output_type": "display_data"
    }
   ],
   "source": [
    "simple = SimpleSimulator()"
   ]
  },
  {
   "cell_type": "code",
   "execution_count": null,
   "metadata": {},
   "outputs": [],
   "source": []
  }
 ],
 "metadata": {
  "kernelspec": {
   "display_name": "Python 3",
   "language": "python",
   "name": "python3"
  },
  "language_info": {
   "codemirror_mode": {
    "name": "ipython",
    "version": 3
   },
   "file_extension": ".py",
   "mimetype": "text/x-python",
   "name": "python",
   "nbconvert_exporter": "python",
   "pygments_lexer": "ipython3",
   "version": "3.6.2"
  }
 },
 "nbformat": 4,
 "nbformat_minor": 2
}
