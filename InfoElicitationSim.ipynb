{
 "cells": [
  {
   "cell_type": "code",
   "execution_count": 1,
   "metadata": {},
   "outputs": [
    {
     "data": {
      "text/html": [
       "<script type=\"text/javascript\">window.PlotlyConfig = {MathJaxConfig: 'local'};</script><script type=\"text/javascript\">if (window.MathJax) {MathJax.Hub.Config({SVG: {font: \"STIX-Web\"}});}</script><script>requirejs.config({paths: { 'plotly': ['https://cdn.plot.ly/plotly-latest.min']},});if(!window._Plotly) {require(['plotly'],function(plotly) {window._Plotly=plotly;});}</script>"
      ],
      "text/vnd.plotly.v1+html": [
       "<script type=\"text/javascript\">window.PlotlyConfig = {MathJaxConfig: 'local'};</script><script type=\"text/javascript\">if (window.MathJax) {MathJax.Hub.Config({SVG: {font: \"STIX-Web\"}});}</script><script>requirejs.config({paths: { 'plotly': ['https://cdn.plot.ly/plotly-latest.min']},});if(!window._Plotly) {require(['plotly'],function(plotly) {window._Plotly=plotly;});}</script>"
      ]
     },
     "metadata": {},
     "output_type": "display_data"
    }
   ],
   "source": [
    "from plotly.offline import init_notebook_mode\n",
    "\n",
    "from sim_interface import SimpleSimulator\n",
    "\n",
    "init_notebook_mode(connected=True)"
   ]
  },
  {
   "cell_type": "code",
   "execution_count": 2,
   "metadata": {},
   "outputs": [
    {
     "data": {
      "application/vnd.jupyter.widget-view+json": {
       "model_id": "8f82c89630564b479c8f3dfafe4e2349",
       "version_major": 2,
       "version_minor": 0
      },
      "text/plain": [
       "IntText(value=7, description='Vertex Count (Rounded to Even)')"
      ]
     },
     "metadata": {},
     "output_type": "display_data"
    },
    {
     "data": {
      "application/vnd.jupyter.widget-view+json": {
       "model_id": "32c45e4778e3412c8271ab97862ed47f",
       "version_major": 2,
       "version_minor": 0
      },
      "text/plain": [
       "IntText(value=2, description='Graph Regularity')"
      ]
     },
     "metadata": {},
     "output_type": "display_data"
    },
    {
     "data": {
      "application/vnd.jupyter.widget-view+json": {
       "model_id": "64d02f0f9470409e9e754d8884d2faf2",
       "version_major": 2,
       "version_minor": 0
      },
      "text/plain": [
       "FloatSlider(value=0.1, continuous_update=False, description='Transmission Probability', max=1.0, step=0.01)"
      ]
     },
     "metadata": {},
     "output_type": "display_data"
    },
    {
     "data": {
      "application/vnd.jupyter.widget-view+json": {
       "model_id": "afedf724abc545c2b0af72b5b4eecf2d",
       "version_major": 2,
       "version_minor": 0
      },
      "text/plain": [
       "IntText(value=100, description='Initial Time Allocation')"
      ]
     },
     "metadata": {},
     "output_type": "display_data"
    },
    {
     "data": {
      "application/vnd.jupyter.widget-view+json": {
       "model_id": "f5a14faa935c4e9ca537e6b4560868b0",
       "version_major": 2,
       "version_minor": 0
      },
      "text/plain": [
       "Button(description='Update Graph', style=ButtonStyle(), tooltip='Update Graph')"
      ]
     },
     "metadata": {},
     "output_type": "display_data"
    },
    {
     "data": {
      "application/vnd.plotly.v1+json": {
       "config": {
        "linkText": "Export to plot.ly",
        "plotlyServerURL": "https://plot.ly",
        "showLink": false
       },
       "data": [
        {
         "hoverinfo": "text",
         "line": {
          "color": "#888",
          "width": 0.5
         },
         "mode": "lines",
         "text": [
          "0.1",
          "0.1",
          "0.1",
          "0.1",
          "0.1",
          "0.1",
          "0.1",
          "0.1",
          "0.1",
          "0.1",
          "0.1",
          "0.1",
          "0.1",
          "0.1",
          "0.1",
          "0.1"
         ],
         "type": "scatter",
         "uid": "32ac6c2c-0f7f-45b6-8f52-59cb997440a3",
         "x": [
          5,
          3.535533905932737,
          null,
          5,
          3.5355339059327378,
          null,
          3.5355339059327378,
          5,
          null,
          3.5355339059327378,
          3.061616997868383e-16,
          null,
          3.061616997868383e-16,
          3.5355339059327378,
          null,
          3.061616997868383e-16,
          -3.5355339059327373,
          null,
          -3.5355339059327373,
          3.061616997868383e-16,
          null,
          -3.5355339059327373,
          -5,
          null,
          -5,
          -3.5355339059327373,
          null,
          -5,
          -3.5355339059327386,
          null,
          -3.5355339059327386,
          -5,
          null,
          -3.5355339059327386,
          -9.184850993605148e-16,
          null,
          -9.184850993605148e-16,
          -3.5355339059327386,
          null,
          -9.184850993605148e-16,
          3.535533905932737,
          null,
          3.535533905932737,
          -9.184850993605148e-16,
          null,
          3.535533905932737,
          5,
          null
         ],
         "y": [
          0,
          -3.5355339059327386,
          null,
          0,
          3.5355339059327373,
          null,
          3.5355339059327373,
          0,
          null,
          3.5355339059327373,
          5,
          null,
          5,
          3.5355339059327373,
          null,
          5,
          3.5355339059327378,
          null,
          3.5355339059327378,
          5,
          null,
          3.5355339059327378,
          6.123233995736766e-16,
          null,
          6.123233995736766e-16,
          3.5355339059327378,
          null,
          6.123233995736766e-16,
          -3.5355339059327373,
          null,
          -3.5355339059327373,
          6.123233995736766e-16,
          null,
          -3.5355339059327373,
          -5,
          null,
          -5,
          -3.5355339059327373,
          null,
          -5,
          -3.5355339059327386,
          null,
          -3.5355339059327386,
          -5,
          null,
          -3.5355339059327386,
          0,
          null
         ]
        },
        {
         "hoverinfo": "text",
         "marker": {
          "color": [
           1,
           0,
           0,
           1,
           1,
           1,
           1,
           0
          ],
          "colorscale": "Electric",
          "line": {
           "width": 2
          },
          "reversescale": true,
          "showscale": true,
          "size": 10
         },
         "mode": "markers",
         "text": [
          "Vertex 0 1.0",
          "Vertex 1 0.0",
          "Vertex 2 0.0",
          "Vertex 3 1.0",
          "Vertex 4 1.0",
          "Vertex 5 1.0",
          "Vertex 6 1.0",
          "Vertex 7 0.0"
         ],
         "type": "scatter",
         "uid": "af99b2df-db9a-4413-b2ce-5f240c13b504",
         "x": [
          5,
          3.5355339059327378,
          3.061616997868383e-16,
          -3.5355339059327373,
          -5,
          -3.5355339059327386,
          -9.184850993605148e-16,
          3.535533905932737
         ],
         "y": [
          0,
          3.5355339059327373,
          5,
          3.5355339059327378,
          6.123233995736766e-16,
          -3.5355339059327373,
          -5,
          -3.5355339059327386
         ]
        }
       ],
       "frames": [
        {
         "data": [
          {
           "hoverinfo": "text",
           "line": {
            "color": "#888",
            "width": 0.5
           },
           "mode": "lines",
           "text": [
            "0.1",
            "0.1",
            "0.1",
            "0.1",
            "0.1",
            "0.1",
            "0.1",
            "0.1",
            "0.1",
            "0.1",
            "0.1",
            "0.1",
            "0.1",
            "0.1",
            "0.1",
            "0.1"
           ],
           "type": "scatter",
           "uid": "32ac6c2c-0f7f-45b6-8f52-59cb997440a3",
           "x": [
            5,
            3.535533905932737,
            null,
            5,
            3.5355339059327378,
            null,
            3.5355339059327378,
            5,
            null,
            3.5355339059327378,
            3.061616997868383e-16,
            null,
            3.061616997868383e-16,
            3.5355339059327378,
            null,
            3.061616997868383e-16,
            -3.5355339059327373,
            null,
            -3.5355339059327373,
            3.061616997868383e-16,
            null,
            -3.5355339059327373,
            -5,
            null,
            -5,
            -3.5355339059327373,
            null,
            -5,
            -3.5355339059327386,
            null,
            -3.5355339059327386,
            -5,
            null,
            -3.5355339059327386,
            -9.184850993605148e-16,
            null,
            -9.184850993605148e-16,
            -3.5355339059327386,
            null,
            -9.184850993605148e-16,
            3.535533905932737,
            null,
            3.535533905932737,
            -9.184850993605148e-16,
            null,
            3.535533905932737,
            5,
            null
           ],
           "y": [
            0,
            -3.5355339059327386,
            null,
            0,
            3.5355339059327373,
            null,
            3.5355339059327373,
            0,
            null,
            3.5355339059327373,
            5,
            null,
            5,
            3.5355339059327373,
            null,
            5,
            3.5355339059327378,
            null,
            3.5355339059327378,
            5,
            null,
            3.5355339059327378,
            6.123233995736766e-16,
            null,
            6.123233995736766e-16,
            3.5355339059327378,
            null,
            6.123233995736766e-16,
            -3.5355339059327373,
            null,
            -3.5355339059327373,
            6.123233995736766e-16,
            null,
            -3.5355339059327373,
            -5,
            null,
            -5,
            -3.5355339059327373,
            null,
            -5,
            -3.5355339059327386,
            null,
            -3.5355339059327386,
            -5,
            null,
            -3.5355339059327386,
            0,
            null
           ]
          },
          {
           "hoverinfo": "text",
           "marker": {
            "color": [
             1,
             0,
             0,
             1,
             1,
             1,
             1,
             0
            ],
            "colorscale": "Electric",
            "line": {
             "width": 2
            },
            "reversescale": true,
            "showscale": true,
            "size": 10
           },
           "mode": "markers",
           "text": [
            "Vertex 1.0",
            "Vertex 0.0",
            "Vertex 0.0",
            "Vertex 1.0",
            "Vertex 1.0",
            "Vertex 1.0",
            "Vertex 1.0",
            "Vertex 0.0"
           ],
           "type": "scatter",
           "uid": "af99b2df-db9a-4413-b2ce-5f240c13b504",
           "x": [
            5,
            3.5355339059327378,
            3.061616997868383e-16,
            -3.5355339059327373,
            -5,
            -3.5355339059327386,
            -9.184850993605148e-16,
            3.535533905932737
           ],
           "y": [
            0,
            3.5355339059327373,
            5,
            3.5355339059327378,
            6.123233995736766e-16,
            -3.5355339059327373,
            -5,
            -3.5355339059327386
           ]
          }
         ]
        },
        {
         "data": [
          {
           "hoverinfo": "text",
           "line": {
            "color": "#888",
            "width": 0.5
           },
           "mode": "lines",
           "text": [
            "0.1",
            "0.1",
            "0.1",
            "0.1",
            "0.1",
            "0.1",
            "0.1",
            "0.1",
            "0.1",
            "0.1",
            "0.1",
            "0.1",
            "0.1",
            "0.1",
            "0.1",
            "0.1"
           ],
           "type": "scatter",
           "uid": "32ac6c2c-0f7f-45b6-8f52-59cb997440a3",
           "x": [
            5,
            3.535533905932737,
            null,
            5,
            3.5355339059327378,
            null,
            3.5355339059327378,
            5,
            null,
            3.5355339059327378,
            3.061616997868383e-16,
            null,
            3.061616997868383e-16,
            3.5355339059327378,
            null,
            3.061616997868383e-16,
            -3.5355339059327373,
            null,
            -3.5355339059327373,
            3.061616997868383e-16,
            null,
            -3.5355339059327373,
            -5,
            null,
            -5,
            -3.5355339059327373,
            null,
            -5,
            -3.5355339059327386,
            null,
            -3.5355339059327386,
            -5,
            null,
            -3.5355339059327386,
            -9.184850993605148e-16,
            null,
            -9.184850993605148e-16,
            -3.5355339059327386,
            null,
            -9.184850993605148e-16,
            3.535533905932737,
            null,
            3.535533905932737,
            -9.184850993605148e-16,
            null,
            3.535533905932737,
            5,
            null
           ],
           "y": [
            0,
            -3.5355339059327386,
            null,
            0,
            3.5355339059327373,
            null,
            3.5355339059327373,
            0,
            null,
            3.5355339059327373,
            5,
            null,
            5,
            3.5355339059327373,
            null,
            5,
            3.5355339059327378,
            null,
            3.5355339059327378,
            5,
            null,
            3.5355339059327378,
            6.123233995736766e-16,
            null,
            6.123233995736766e-16,
            3.5355339059327378,
            null,
            6.123233995736766e-16,
            -3.5355339059327373,
            null,
            -3.5355339059327373,
            6.123233995736766e-16,
            null,
            -3.5355339059327373,
            -5,
            null,
            -5,
            -3.5355339059327373,
            null,
            -5,
            -3.5355339059327386,
            null,
            -3.5355339059327386,
            -5,
            null,
            -3.5355339059327386,
            0,
            null
           ]
          },
          {
           "hoverinfo": "text",
           "marker": {
            "color": [
             1,
             1,
             1,
             1,
             1,
             1,
             1,
             1
            ],
            "colorscale": "Electric",
            "line": {
             "width": 2
            },
            "reversescale": true,
            "showscale": true,
            "size": 10
           },
           "mode": "markers",
           "text": [
            "Vertex 1.0",
            "Vertex 1.0",
            "Vertex 1.0",
            "Vertex 1.0",
            "Vertex 1.0",
            "Vertex 1.0",
            "Vertex 1.0",
            "Vertex 1.0"
           ],
           "type": "scatter",
           "uid": "af99b2df-db9a-4413-b2ce-5f240c13b504",
           "x": [
            5,
            3.5355339059327378,
            3.061616997868383e-16,
            -3.5355339059327373,
            -5,
            -3.5355339059327386,
            -9.184850993605148e-16,
            3.535533905932737
           ],
           "y": [
            0,
            3.5355339059327373,
            5,
            3.5355339059327378,
            6.123233995736766e-16,
            -3.5355339059327373,
            -5,
            -3.5355339059327386
           ]
          }
         ]
        }
       ],
       "layout": {
        "hovermode": "closest",
        "showlegend": false,
        "title": {
         "text": "Information Elicitation Simulation"
        },
        "updatemenus": [
         {
          "buttons": [
           {
            "args": [
             null
            ],
            "label": "Play",
            "method": "animate"
           }
          ],
          "pad": {
           "r": 10,
           "t": 87
          },
          "showactive": false,
          "type": "buttons"
         }
        ],
        "xaxis": {
         "showgrid": false,
         "showticklabels": false,
         "zeroline": false
        },
        "yaxis": {
         "showgrid": false,
         "showticklabels": false,
         "zeroline": false
        }
       }
      },
      "text/html": [
       "<div id=\"e2ecae39-0882-4070-9ab8-5096d65c29fd\" style=\"height: 525px; width: 100%;\" class=\"plotly-graph-div\"></div><script type=\"text/javascript\">require([\"plotly\"], function(Plotly) { window.PLOTLYENV=window.PLOTLYENV || {};window.PLOTLYENV.BASE_URL=\"https://plot.ly\";\n",
       "    if (document.getElementById(\"e2ecae39-0882-4070-9ab8-5096d65c29fd\")) {\n",
       "        Plotly.plot(\n",
       "            'e2ecae39-0882-4070-9ab8-5096d65c29fd',\n",
       "            [{\"hoverinfo\": \"text\", \"line\": {\"color\": \"#888\", \"width\": 0.5}, \"mode\": \"lines\", \"text\": [\"0.1\", \"0.1\", \"0.1\", \"0.1\", \"0.1\", \"0.1\", \"0.1\", \"0.1\", \"0.1\", \"0.1\", \"0.1\", \"0.1\", \"0.1\", \"0.1\", \"0.1\", \"0.1\"], \"x\": [5.0, 3.535533905932737, null, 5.0, 3.5355339059327378, null, 3.5355339059327378, 5.0, null, 3.5355339059327378, 3.061616997868383e-16, null, 3.061616997868383e-16, 3.5355339059327378, null, 3.061616997868383e-16, -3.5355339059327373, null, -3.5355339059327373, 3.061616997868383e-16, null, -3.5355339059327373, -5.0, null, -5.0, -3.5355339059327373, null, -5.0, -3.5355339059327386, null, -3.5355339059327386, -5.0, null, -3.5355339059327386, -9.184850993605148e-16, null, -9.184850993605148e-16, -3.5355339059327386, null, -9.184850993605148e-16, 3.535533905932737, null, 3.535533905932737, -9.184850993605148e-16, null, 3.535533905932737, 5.0, null], \"y\": [0.0, -3.5355339059327386, null, 0.0, 3.5355339059327373, null, 3.5355339059327373, 0.0, null, 3.5355339059327373, 5.0, null, 5.0, 3.5355339059327373, null, 5.0, 3.5355339059327378, null, 3.5355339059327378, 5.0, null, 3.5355339059327378, 6.123233995736766e-16, null, 6.123233995736766e-16, 3.5355339059327378, null, 6.123233995736766e-16, -3.5355339059327373, null, -3.5355339059327373, 6.123233995736766e-16, null, -3.5355339059327373, -5.0, null, -5.0, -3.5355339059327373, null, -5.0, -3.5355339059327386, null, -3.5355339059327386, -5.0, null, -3.5355339059327386, 0.0, null], \"type\": \"scatter\", \"uid\": \"32ac6c2c-0f7f-45b6-8f52-59cb997440a3\"}, {\"hoverinfo\": \"text\", \"marker\": {\"color\": [1.0, 0.0, 0.0, 1.0, 1.0, 1.0, 1.0, 0.0], \"colorscale\": \"Electric\", \"line\": {\"width\": 2}, \"reversescale\": true, \"showscale\": true, \"size\": 10}, \"mode\": \"markers\", \"text\": [\"Vertex 0 1.0\", \"Vertex 1 0.0\", \"Vertex 2 0.0\", \"Vertex 3 1.0\", \"Vertex 4 1.0\", \"Vertex 5 1.0\", \"Vertex 6 1.0\", \"Vertex 7 0.0\"], \"x\": [5.0, 3.5355339059327378, 3.061616997868383e-16, -3.5355339059327373, -5.0, -3.5355339059327386, -9.184850993605148e-16, 3.535533905932737], \"y\": [0.0, 3.5355339059327373, 5.0, 3.5355339059327378, 6.123233995736766e-16, -3.5355339059327373, -5.0, -3.5355339059327386], \"type\": \"scatter\", \"uid\": \"af99b2df-db9a-4413-b2ce-5f240c13b504\"}],\n",
       "            {\"hovermode\": \"closest\", \"showlegend\": false, \"title\": {\"text\": \"Information Elicitation Simulation\"}, \"updatemenus\": [{\"buttons\": [{\"args\": [null], \"label\": \"Play\", \"method\": \"animate\"}], \"pad\": {\"r\": 10, \"t\": 87}, \"showactive\": false, \"type\": \"buttons\"}], \"xaxis\": {\"showgrid\": false, \"showticklabels\": false, \"zeroline\": false}, \"yaxis\": {\"showgrid\": false, \"showticklabels\": false, \"zeroline\": false}},\n",
       "            {\"showLink\": false, \"linkText\": \"Export to plot.ly\", \"plotlyServerURL\": \"https://plot.ly\"}\n",
       "        ).then(function () {return Plotly.addFrames('e2ecae39-0882-4070-9ab8-5096d65c29fd',[{\"data\": [{\"hoverinfo\": \"text\", \"line\": {\"color\": \"#888\", \"width\": 0.5}, \"mode\": \"lines\", \"text\": [\"0.1\", \"0.1\", \"0.1\", \"0.1\", \"0.1\", \"0.1\", \"0.1\", \"0.1\", \"0.1\", \"0.1\", \"0.1\", \"0.1\", \"0.1\", \"0.1\", \"0.1\", \"0.1\"], \"uid\": \"32ac6c2c-0f7f-45b6-8f52-59cb997440a3\", \"x\": [5.0, 3.535533905932737, null, 5.0, 3.5355339059327378, null, 3.5355339059327378, 5.0, null, 3.5355339059327378, 3.061616997868383e-16, null, 3.061616997868383e-16, 3.5355339059327378, null, 3.061616997868383e-16, -3.5355339059327373, null, -3.5355339059327373, 3.061616997868383e-16, null, -3.5355339059327373, -5.0, null, -5.0, -3.5355339059327373, null, -5.0, -3.5355339059327386, null, -3.5355339059327386, -5.0, null, -3.5355339059327386, -9.184850993605148e-16, null, -9.184850993605148e-16, -3.5355339059327386, null, -9.184850993605148e-16, 3.535533905932737, null, 3.535533905932737, -9.184850993605148e-16, null, 3.535533905932737, 5.0, null], \"y\": [0.0, -3.5355339059327386, null, 0.0, 3.5355339059327373, null, 3.5355339059327373, 0.0, null, 3.5355339059327373, 5.0, null, 5.0, 3.5355339059327373, null, 5.0, 3.5355339059327378, null, 3.5355339059327378, 5.0, null, 3.5355339059327378, 6.123233995736766e-16, null, 6.123233995736766e-16, 3.5355339059327378, null, 6.123233995736766e-16, -3.5355339059327373, null, -3.5355339059327373, 6.123233995736766e-16, null, -3.5355339059327373, -5.0, null, -5.0, -3.5355339059327373, null, -5.0, -3.5355339059327386, null, -3.5355339059327386, -5.0, null, -3.5355339059327386, 0.0, null], \"type\": \"scatter\"}, {\"hoverinfo\": \"text\", \"marker\": {\"color\": [1.0, 0.0, 0.0, 1.0, 1.0, 1.0, 1.0, 0.0], \"colorscale\": \"Electric\", \"line\": {\"width\": 2}, \"reversescale\": true, \"showscale\": true, \"size\": 10}, \"mode\": \"markers\", \"text\": [\"Vertex 1.0\", \"Vertex 0.0\", \"Vertex 0.0\", \"Vertex 1.0\", \"Vertex 1.0\", \"Vertex 1.0\", \"Vertex 1.0\", \"Vertex 0.0\"], \"uid\": \"af99b2df-db9a-4413-b2ce-5f240c13b504\", \"x\": [5.0, 3.5355339059327378, 3.061616997868383e-16, -3.5355339059327373, -5.0, -3.5355339059327386, -9.184850993605148e-16, 3.535533905932737], \"y\": [0.0, 3.5355339059327373, 5.0, 3.5355339059327378, 6.123233995736766e-16, -3.5355339059327373, -5.0, -3.5355339059327386], \"type\": \"scatter\"}]}, {\"data\": [{\"hoverinfo\": \"text\", \"line\": {\"color\": \"#888\", \"width\": 0.5}, \"mode\": \"lines\", \"text\": [\"0.1\", \"0.1\", \"0.1\", \"0.1\", \"0.1\", \"0.1\", \"0.1\", \"0.1\", \"0.1\", \"0.1\", \"0.1\", \"0.1\", \"0.1\", \"0.1\", \"0.1\", \"0.1\"], \"uid\": \"32ac6c2c-0f7f-45b6-8f52-59cb997440a3\", \"x\": [5.0, 3.535533905932737, null, 5.0, 3.5355339059327378, null, 3.5355339059327378, 5.0, null, 3.5355339059327378, 3.061616997868383e-16, null, 3.061616997868383e-16, 3.5355339059327378, null, 3.061616997868383e-16, -3.5355339059327373, null, -3.5355339059327373, 3.061616997868383e-16, null, -3.5355339059327373, -5.0, null, -5.0, -3.5355339059327373, null, -5.0, -3.5355339059327386, null, -3.5355339059327386, -5.0, null, -3.5355339059327386, -9.184850993605148e-16, null, -9.184850993605148e-16, -3.5355339059327386, null, -9.184850993605148e-16, 3.535533905932737, null, 3.535533905932737, -9.184850993605148e-16, null, 3.535533905932737, 5.0, null], \"y\": [0.0, -3.5355339059327386, null, 0.0, 3.5355339059327373, null, 3.5355339059327373, 0.0, null, 3.5355339059327373, 5.0, null, 5.0, 3.5355339059327373, null, 5.0, 3.5355339059327378, null, 3.5355339059327378, 5.0, null, 3.5355339059327378, 6.123233995736766e-16, null, 6.123233995736766e-16, 3.5355339059327378, null, 6.123233995736766e-16, -3.5355339059327373, null, -3.5355339059327373, 6.123233995736766e-16, null, -3.5355339059327373, -5.0, null, -5.0, -3.5355339059327373, null, -5.0, -3.5355339059327386, null, -3.5355339059327386, -5.0, null, -3.5355339059327386, 0.0, null], \"type\": \"scatter\"}, {\"hoverinfo\": \"text\", \"marker\": {\"color\": [1.0, 1.0, 1.0, 1.0, 1.0, 1.0, 1.0, 1.0], \"colorscale\": \"Electric\", \"line\": {\"width\": 2}, \"reversescale\": true, \"showscale\": true, \"size\": 10}, \"mode\": \"markers\", \"text\": [\"Vertex 1.0\", \"Vertex 1.0\", \"Vertex 1.0\", \"Vertex 1.0\", \"Vertex 1.0\", \"Vertex 1.0\", \"Vertex 1.0\", \"Vertex 1.0\"], \"uid\": \"af99b2df-db9a-4413-b2ce-5f240c13b504\", \"x\": [5.0, 3.5355339059327378, 3.061616997868383e-16, -3.5355339059327373, -5.0, -3.5355339059327386, -9.184850993605148e-16, 3.535533905932737], \"y\": [0.0, 3.5355339059327373, 5.0, 3.5355339059327378, 6.123233995736766e-16, -3.5355339059327373, -5.0, -3.5355339059327386], \"type\": \"scatter\"}]}]);}).then(function(){Plotly.animate('e2ecae39-0882-4070-9ab8-5096d65c29fd');})\n",
       "    }\n",
       "        });</script><script type=\"text/javascript\">window.addEventListener(\"resize\", function(){if (document.getElementById(\"e2ecae39-0882-4070-9ab8-5096d65c29fd\")) {window._Plotly.Plots.resize(document.getElementById(\"e2ecae39-0882-4070-9ab8-5096d65c29fd\"));};})</script>"
      ],
      "text/vnd.plotly.v1+html": [
       "<div id=\"e2ecae39-0882-4070-9ab8-5096d65c29fd\" style=\"height: 525px; width: 100%;\" class=\"plotly-graph-div\"></div><script type=\"text/javascript\">require([\"plotly\"], function(Plotly) { window.PLOTLYENV=window.PLOTLYENV || {};window.PLOTLYENV.BASE_URL=\"https://plot.ly\";\n",
       "    if (document.getElementById(\"e2ecae39-0882-4070-9ab8-5096d65c29fd\")) {\n",
       "        Plotly.plot(\n",
       "            'e2ecae39-0882-4070-9ab8-5096d65c29fd',\n",
       "            [{\"hoverinfo\": \"text\", \"line\": {\"color\": \"#888\", \"width\": 0.5}, \"mode\": \"lines\", \"text\": [\"0.1\", \"0.1\", \"0.1\", \"0.1\", \"0.1\", \"0.1\", \"0.1\", \"0.1\", \"0.1\", \"0.1\", \"0.1\", \"0.1\", \"0.1\", \"0.1\", \"0.1\", \"0.1\"], \"x\": [5.0, 3.535533905932737, null, 5.0, 3.5355339059327378, null, 3.5355339059327378, 5.0, null, 3.5355339059327378, 3.061616997868383e-16, null, 3.061616997868383e-16, 3.5355339059327378, null, 3.061616997868383e-16, -3.5355339059327373, null, -3.5355339059327373, 3.061616997868383e-16, null, -3.5355339059327373, -5.0, null, -5.0, -3.5355339059327373, null, -5.0, -3.5355339059327386, null, -3.5355339059327386, -5.0, null, -3.5355339059327386, -9.184850993605148e-16, null, -9.184850993605148e-16, -3.5355339059327386, null, -9.184850993605148e-16, 3.535533905932737, null, 3.535533905932737, -9.184850993605148e-16, null, 3.535533905932737, 5.0, null], \"y\": [0.0, -3.5355339059327386, null, 0.0, 3.5355339059327373, null, 3.5355339059327373, 0.0, null, 3.5355339059327373, 5.0, null, 5.0, 3.5355339059327373, null, 5.0, 3.5355339059327378, null, 3.5355339059327378, 5.0, null, 3.5355339059327378, 6.123233995736766e-16, null, 6.123233995736766e-16, 3.5355339059327378, null, 6.123233995736766e-16, -3.5355339059327373, null, -3.5355339059327373, 6.123233995736766e-16, null, -3.5355339059327373, -5.0, null, -5.0, -3.5355339059327373, null, -5.0, -3.5355339059327386, null, -3.5355339059327386, -5.0, null, -3.5355339059327386, 0.0, null], \"type\": \"scatter\", \"uid\": \"32ac6c2c-0f7f-45b6-8f52-59cb997440a3\"}, {\"hoverinfo\": \"text\", \"marker\": {\"color\": [1.0, 0.0, 0.0, 1.0, 1.0, 1.0, 1.0, 0.0], \"colorscale\": \"Electric\", \"line\": {\"width\": 2}, \"reversescale\": true, \"showscale\": true, \"size\": 10}, \"mode\": \"markers\", \"text\": [\"Vertex 0 1.0\", \"Vertex 1 0.0\", \"Vertex 2 0.0\", \"Vertex 3 1.0\", \"Vertex 4 1.0\", \"Vertex 5 1.0\", \"Vertex 6 1.0\", \"Vertex 7 0.0\"], \"x\": [5.0, 3.5355339059327378, 3.061616997868383e-16, -3.5355339059327373, -5.0, -3.5355339059327386, -9.184850993605148e-16, 3.535533905932737], \"y\": [0.0, 3.5355339059327373, 5.0, 3.5355339059327378, 6.123233995736766e-16, -3.5355339059327373, -5.0, -3.5355339059327386], \"type\": \"scatter\", \"uid\": \"af99b2df-db9a-4413-b2ce-5f240c13b504\"}],\n",
       "            {\"hovermode\": \"closest\", \"showlegend\": false, \"title\": {\"text\": \"Information Elicitation Simulation\"}, \"updatemenus\": [{\"buttons\": [{\"args\": [null], \"label\": \"Play\", \"method\": \"animate\"}], \"pad\": {\"r\": 10, \"t\": 87}, \"showactive\": false, \"type\": \"buttons\"}], \"xaxis\": {\"showgrid\": false, \"showticklabels\": false, \"zeroline\": false}, \"yaxis\": {\"showgrid\": false, \"showticklabels\": false, \"zeroline\": false}},\n",
       "            {\"showLink\": false, \"linkText\": \"Export to plot.ly\", \"plotlyServerURL\": \"https://plot.ly\"}\n",
       "        ).then(function () {return Plotly.addFrames('e2ecae39-0882-4070-9ab8-5096d65c29fd',[{\"data\": [{\"hoverinfo\": \"text\", \"line\": {\"color\": \"#888\", \"width\": 0.5}, \"mode\": \"lines\", \"text\": [\"0.1\", \"0.1\", \"0.1\", \"0.1\", \"0.1\", \"0.1\", \"0.1\", \"0.1\", \"0.1\", \"0.1\", \"0.1\", \"0.1\", \"0.1\", \"0.1\", \"0.1\", \"0.1\"], \"uid\": \"32ac6c2c-0f7f-45b6-8f52-59cb997440a3\", \"x\": [5.0, 3.535533905932737, null, 5.0, 3.5355339059327378, null, 3.5355339059327378, 5.0, null, 3.5355339059327378, 3.061616997868383e-16, null, 3.061616997868383e-16, 3.5355339059327378, null, 3.061616997868383e-16, -3.5355339059327373, null, -3.5355339059327373, 3.061616997868383e-16, null, -3.5355339059327373, -5.0, null, -5.0, -3.5355339059327373, null, -5.0, -3.5355339059327386, null, -3.5355339059327386, -5.0, null, -3.5355339059327386, -9.184850993605148e-16, null, -9.184850993605148e-16, -3.5355339059327386, null, -9.184850993605148e-16, 3.535533905932737, null, 3.535533905932737, -9.184850993605148e-16, null, 3.535533905932737, 5.0, null], \"y\": [0.0, -3.5355339059327386, null, 0.0, 3.5355339059327373, null, 3.5355339059327373, 0.0, null, 3.5355339059327373, 5.0, null, 5.0, 3.5355339059327373, null, 5.0, 3.5355339059327378, null, 3.5355339059327378, 5.0, null, 3.5355339059327378, 6.123233995736766e-16, null, 6.123233995736766e-16, 3.5355339059327378, null, 6.123233995736766e-16, -3.5355339059327373, null, -3.5355339059327373, 6.123233995736766e-16, null, -3.5355339059327373, -5.0, null, -5.0, -3.5355339059327373, null, -5.0, -3.5355339059327386, null, -3.5355339059327386, -5.0, null, -3.5355339059327386, 0.0, null], \"type\": \"scatter\"}, {\"hoverinfo\": \"text\", \"marker\": {\"color\": [1.0, 0.0, 0.0, 1.0, 1.0, 1.0, 1.0, 0.0], \"colorscale\": \"Electric\", \"line\": {\"width\": 2}, \"reversescale\": true, \"showscale\": true, \"size\": 10}, \"mode\": \"markers\", \"text\": [\"Vertex 1.0\", \"Vertex 0.0\", \"Vertex 0.0\", \"Vertex 1.0\", \"Vertex 1.0\", \"Vertex 1.0\", \"Vertex 1.0\", \"Vertex 0.0\"], \"uid\": \"af99b2df-db9a-4413-b2ce-5f240c13b504\", \"x\": [5.0, 3.5355339059327378, 3.061616997868383e-16, -3.5355339059327373, -5.0, -3.5355339059327386, -9.184850993605148e-16, 3.535533905932737], \"y\": [0.0, 3.5355339059327373, 5.0, 3.5355339059327378, 6.123233995736766e-16, -3.5355339059327373, -5.0, -3.5355339059327386], \"type\": \"scatter\"}]}, {\"data\": [{\"hoverinfo\": \"text\", \"line\": {\"color\": \"#888\", \"width\": 0.5}, \"mode\": \"lines\", \"text\": [\"0.1\", \"0.1\", \"0.1\", \"0.1\", \"0.1\", \"0.1\", \"0.1\", \"0.1\", \"0.1\", \"0.1\", \"0.1\", \"0.1\", \"0.1\", \"0.1\", \"0.1\", \"0.1\"], \"uid\": \"32ac6c2c-0f7f-45b6-8f52-59cb997440a3\", \"x\": [5.0, 3.535533905932737, null, 5.0, 3.5355339059327378, null, 3.5355339059327378, 5.0, null, 3.5355339059327378, 3.061616997868383e-16, null, 3.061616997868383e-16, 3.5355339059327378, null, 3.061616997868383e-16, -3.5355339059327373, null, -3.5355339059327373, 3.061616997868383e-16, null, -3.5355339059327373, -5.0, null, -5.0, -3.5355339059327373, null, -5.0, -3.5355339059327386, null, -3.5355339059327386, -5.0, null, -3.5355339059327386, -9.184850993605148e-16, null, -9.184850993605148e-16, -3.5355339059327386, null, -9.184850993605148e-16, 3.535533905932737, null, 3.535533905932737, -9.184850993605148e-16, null, 3.535533905932737, 5.0, null], \"y\": [0.0, -3.5355339059327386, null, 0.0, 3.5355339059327373, null, 3.5355339059327373, 0.0, null, 3.5355339059327373, 5.0, null, 5.0, 3.5355339059327373, null, 5.0, 3.5355339059327378, null, 3.5355339059327378, 5.0, null, 3.5355339059327378, 6.123233995736766e-16, null, 6.123233995736766e-16, 3.5355339059327378, null, 6.123233995736766e-16, -3.5355339059327373, null, -3.5355339059327373, 6.123233995736766e-16, null, -3.5355339059327373, -5.0, null, -5.0, -3.5355339059327373, null, -5.0, -3.5355339059327386, null, -3.5355339059327386, -5.0, null, -3.5355339059327386, 0.0, null], \"type\": \"scatter\"}, {\"hoverinfo\": \"text\", \"marker\": {\"color\": [1.0, 1.0, 1.0, 1.0, 1.0, 1.0, 1.0, 1.0], \"colorscale\": \"Electric\", \"line\": {\"width\": 2}, \"reversescale\": true, \"showscale\": true, \"size\": 10}, \"mode\": \"markers\", \"text\": [\"Vertex 1.0\", \"Vertex 1.0\", \"Vertex 1.0\", \"Vertex 1.0\", \"Vertex 1.0\", \"Vertex 1.0\", \"Vertex 1.0\", \"Vertex 1.0\"], \"uid\": \"af99b2df-db9a-4413-b2ce-5f240c13b504\", \"x\": [5.0, 3.5355339059327378, 3.061616997868383e-16, -3.5355339059327373, -5.0, -3.5355339059327386, -9.184850993605148e-16, 3.535533905932737], \"y\": [0.0, 3.5355339059327373, 5.0, 3.5355339059327378, 6.123233995736766e-16, -3.5355339059327373, -5.0, -3.5355339059327386], \"type\": \"scatter\"}]}]);}).then(function(){Plotly.animate('e2ecae39-0882-4070-9ab8-5096d65c29fd');})\n",
       "    }\n",
       "        });</script><script type=\"text/javascript\">window.addEventListener(\"resize\", function(){if (document.getElementById(\"e2ecae39-0882-4070-9ab8-5096d65c29fd\")) {window._Plotly.Plots.resize(document.getElementById(\"e2ecae39-0882-4070-9ab8-5096d65c29fd\"));};})</script>"
      ]
     },
     "metadata": {},
     "output_type": "display_data"
    },
    {
     "name": "stdout",
     "output_type": "stream",
     "text": [
      "Diameter: 4\n",
      "Step Count: 2\n"
     ]
    }
   ],
   "source": [
    "simple = SimpleSimulator()"
   ]
  },
  {
   "cell_type": "code",
   "execution_count": null,
   "metadata": {},
   "outputs": [],
   "source": []
  }
 ],
 "metadata": {
  "kernelspec": {
   "display_name": "Python 3",
   "language": "python",
   "name": "python3"
  },
  "language_info": {
   "codemirror_mode": {
    "name": "ipython",
    "version": 3
   },
   "file_extension": ".py",
   "mimetype": "text/x-python",
   "name": "python",
   "nbconvert_exporter": "python",
   "pygments_lexer": "ipython3",
   "version": "3.6.2"
  }
 },
 "nbformat": 4,
 "nbformat_minor": 2
}
