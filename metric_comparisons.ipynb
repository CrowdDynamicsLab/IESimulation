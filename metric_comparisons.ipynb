{
 "cells": [
  {
   "cell_type": "code",
   "execution_count": 1,
   "metadata": {},
   "outputs": [],
   "source": [
    "from collections import defaultdict, OrderedDict\n",
    "import math\n",
    "\n",
    "import networkx as nx\n",
    "import numpy as np\n",
    "import matplotlib.pyplot as plt\n",
    "import pandas as pd\n",
    "import seaborn as sns\n",
    "from scipy.stats import ks_2samp, entropy\n",
    "\n",
    "import sim_lib.util as util\n",
    "import sim_lib.attr_lib.util as alu\n",
    "from sim_lib.attr_lib.formation import *\n",
    "import sim_lib.attr_lib.vis as vis"
   ]
  },
  {
   "cell_type": "code",
   "execution_count": 2,
   "metadata": {},
   "outputs": [],
   "source": [
    "# Setup\n",
    "filepath = 'data/comparisons.csv'\n",
    "\n",
    "md_cols = ['attr_func', 'struct_func', 'seed', 'theta']\n",
    "simulations_df = pd.read_csv(filepath, index_col=0)\n",
    "metric_cols = [ col for col in simulations_df.columns if col not in md_cols ]\n",
    "\n",
    "for metric in metric_cols:\n",
    "    simulations_df[metric] = simulations_df[metric].apply(lambda x : [ float(v) for v in x[1:-1].split(', ') ])\n",
    "simulations_df['sum_util'] = simulations_df.apply(lambda r: np.add(r['attr_util'], r['struct_util']), axis=1)\n",
    "simulations_df['sum_util_delta'] = simulations_df.apply(lambda r: np.add(r['attr_delta'], r['struct_delta']), axis=1)\n",
    "metric_cols = [ col for col in simulations_df.columns if col not in md_cols ]"
   ]
  },
  {
   "cell_type": "code",
   "execution_count": 3,
   "metadata": {},
   "outputs": [],
   "source": [
    "def plot_grid_values(sim_df):\n",
    "    attr_strats = pd.unique(sim_df['attr_func'])\n",
    "    struct_strats = pd.unique(sim_df['struct_func'])\n",
    "    seed_types = pd.unique(sim_df['seed'])\n",
    "    \n",
    "\n",
    "    for seed in seed_types:\n",
    "        \n",
    "        # Split into different grids\n",
    "        print('Initial graph seed:', seed)\n",
    "        seed_fig = plt.figure(figsize=(20, 20))\n",
    "        plt_idx = 1\n",
    "        for metric in metric_cols:\n",
    "            metric_subplots = []\n",
    "            max_yval = -1\n",
    "            min_yval = np.infty\n",
    "            for ast in attr_strats:\n",
    "                for sst in struct_strats:\n",
    "                    metric_cnt = len(sim_df.columns) - len(md_cols)\n",
    "                    strategies_cnt = len(attr_strats) * len(struct_strats)\n",
    "\n",
    "                    sim_metric_vals = sim_df.loc[\n",
    "                            sim_df['attr_func'] == ast].loc[\n",
    "                            sim_df['struct_func'] == sst].loc[\n",
    "                            sim_df['seed'] == seed]\n",
    "                \n",
    "                    seed_ax = seed_fig.add_subplot(metric_cnt, strategies_cnt, plt_idx)\n",
    "                    plt_idx += 1\n",
    "                    seed_ax.set_title(f'{ast} {sst}; {metric}')\n",
    "                    \n",
    "                    metric_vals = sim_metric_vals[['theta', metric]]\n",
    "                    theta_vals = np.sort(pd.unique(sim_metric_vals['theta']))\n",
    "                    for theta in theta_vals:\n",
    "                        y_vals = metric_vals.loc[metric_vals['theta'] == theta][metric].iloc[0]\n",
    "                        x_vals = list(range(1, len(y_vals) + 1))\n",
    "                        seed_ax.plot(x_vals, y_vals, color='orange', alpha=theta, label=f'theta {theta}')\n",
    "                        \n",
    "                        max_yval = max(y_vals) if max(y_vals) > max_yval else max_yval\n",
    "                        min_yval = min(y_vals) if min(y_vals) < min_yval else min_yval\n",
    "                        metric_subplots.append(seed_ax)\n",
    "                        \n",
    "            for ma in metric_subplots:\n",
    "                ma.set_ylim([min_yval - 0.05, max_yval + 0.05])                        \n",
    "                \n",
    "        seed_fig.tight_layout()\n",
    "\n",
    "        plt.xlabel('Iteration')\n",
    "        plt.legend(loc='upper right')\n",
    "        plt.show()"
   ]
  },
  {
   "cell_type": "code",
   "execution_count": null,
   "metadata": {
    "scrolled": false
   },
   "outputs": [
    {
     "name": "stdout",
     "output_type": "stream",
     "text": [
      "Initial graph seed: grid\n"
     ]
    }
   ],
   "source": [
    "plot_grid_values(simulations_df)"
   ]
  }
 ],
 "metadata": {
  "kernelspec": {
   "display_name": "Python 3 (ipykernel)",
   "language": "python",
   "name": "python3"
  },
  "language_info": {
   "codemirror_mode": {
    "name": "ipython",
    "version": 3
   },
   "file_extension": ".py",
   "mimetype": "text/x-python",
   "name": "python",
   "nbconvert_exporter": "python",
   "pygments_lexer": "ipython3",
   "version": "3.8.10"
  }
 },
 "nbformat": 4,
 "nbformat_minor": 2
}
