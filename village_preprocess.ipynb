{
 "cells": [
  {
   "cell_type": "code",
   "execution_count": 23,
   "metadata": {},
   "outputs": [],
   "source": [
    "import pandas as pd\n",
    "import numpy as np\n",
    "import networkx as nx\n",
    "import matplotlib\n",
    "import matplotlib.pyplot as plt\n",
    "import community as community_louvain\n",
    "\n",
    "import plotly.graph_objects as go"
   ]
  },
  {
   "cell_type": "code",
   "execution_count": 24,
   "metadata": {},
   "outputs": [],
   "source": [
    "def is_symmetric(A, tol=1e-8):\n",
    "    return np.linalg.norm(A-A.T, np.Inf) < tol"
   ]
  },
  {
   "cell_type": "code",
   "execution_count": 25,
   "metadata": {},
   "outputs": [],
   "source": [
    "stata_household = pd.read_stata('banerjee_data/datav4.0/Data/2. Demographics and Outcomes/household_characteristics.dta')"
   ]
  },
  {
   "cell_type": "markdown",
   "metadata": {},
   "source": [
    "# Preprocess"
   ]
  },
  {
   "cell_type": "code",
   "execution_count": 26,
   "metadata": {},
   "outputs": [
    {
     "data": {
      "text/plain": [
       "(array([7095., 7809.]),\n",
       " array([ 0,  2, 10]),\n",
       " <BarContainer object of 2 artists>)"
      ]
     },
     "execution_count": 26,
     "metadata": {},
     "output_type": "execute_result"
    },
    {
     "data": {
      "image/png": "[encoded data removed]",
      "text/plain": [
       "<Figure size 432x288 with 1 Axes>"
      ]
     },
     "metadata": {
      "needs_background": "light"
     },
     "output_type": "display_data"
    }
   ],
   "source": [
    "plt.hist(stata_household['room_no']/(np.sqrt(stata_household['bed_no']+1)), bins = [0,2,10])"
   ]
  },
  {
   "cell_type": "code",
   "execution_count": 27,
   "metadata": {},
   "outputs": [],
   "source": [
    "#choose which vill\n",
    "vill_no = 1\n",
    "\n",
    "stata_vill = stata_household.where(stata_household['village'] == vill_no).dropna(how = 'all')\n",
    "\n",
    "room_type = np.array(stata_vill['room_no']/np.sqrt((stata_vill['bed_no']+1))<=2)"
   ]
  },
  {
   "cell_type": "code",
   "execution_count": 28,
   "metadata": {},
   "outputs": [],
   "source": [
    "# which adjacency matrices to union?\n",
    "#files = ['borrowmoney', 'giveadvice', 'helpdecision','keroricecome','keroricego','lendmoney','medic','templecompany','visitcome','visitgo']\n",
    "\n",
    "money_hyp_files = ['borrowmoney', 'lendmoney', 'keroricecome', 'keroricego']\n",
    "trust_hyp_files = ['helpdecision', 'giveadvice', 'medic']\n",
    "trust_fact_files = ['visitcome','visitgo', 'templecompany']\n",
    "\n",
    "files = trust_hyp_files\n",
    "\n",
    "old_file = 'banerjee_data/datav4.0/Data/1. Network Data/Adjacency Matrices/adj_' + files[0] +'_HH_vilno_' + str(vill_no) + '.csv'\n",
    "ad_mat_old= (pd.read_csv(old_file, header=None)).to_numpy()\n",
    "\n",
    "# union all the desired files together\n",
    "\n",
    "for file in files[1:]:\n",
    "    new_file = 'banerjee_data/datav4.0/Data/1. Network Data/Adjacency Matrices/adj_' + file +'_HH_vilno_' + str(vill_no) + '.csv'\n",
    "    ad_mat_new = (pd.read_csv(new_file, header=None)).to_numpy()\n",
    "    \n",
    "    ad_mat_old = np.bitwise_or(ad_mat_old, ad_mat_new)\n",
    "    \n",
    "\n",
    "ad_mat_np = ad_mat_old"
   ]
  },
  {
   "cell_type": "code",
   "execution_count": 29,
   "metadata": {
    "scrolled": false
   },
   "outputs": [],
   "source": [
    "matrix_key_filename = 'banerjee_data/datav4.0/Data/1. Network Data/Adjacency Matrix Keys/key_HH_vilno_' + str(vill_no) + '.csv'\n",
    "ad_mat_key_vill = np.array(pd.read_csv(matrix_key_filename, header = None))\n",
    "\n",
    "# confirm households in every village are actually labelled 1...h\n",
    "assert(np.array_equal(ad_mat_key_vill.flatten(),stata_vill['HHnum_in_village'].values))"
   ]
  },
  {
   "cell_type": "code",
   "execution_count": 30,
   "metadata": {},
   "outputs": [],
   "source": [
    "# confirm is symmetric\n",
    "assert(is_symmetric(ad_mat_np))"
   ]
  },
  {
   "cell_type": "markdown",
   "metadata": {},
   "source": [
    "# Visualize"
   ]
  },
  {
   "cell_type": "code",
   "execution_count": 31,
   "metadata": {},
   "outputs": [],
   "source": [
    "def make_edge(x, y):\n",
    "    return  go.Scatter(x         = x,\n",
    "                       y         = y,\n",
    "                       mode = 'lines',\n",
    "                       line = dict(width = 1, color = 'gray'))\n",
    "\n",
    "def graph_vis(G_nx, types, partition, info):\n",
    "    pos = nx.spring_layout(G_nx)\n",
    "    edge_trace = []\n",
    "    k = 0\n",
    "    for edge in G_nx.edges():\n",
    "\n",
    "        char_1 = edge[0]\n",
    "        char_2 = edge[1]\n",
    "\n",
    "        x0, y0 = pos[char_1]\n",
    "        x1, y1 = pos[char_2]\n",
    "\n",
    "        trace  = make_edge([x0, x1, None], [y0, y1, None])\n",
    "        k = k + 1\n",
    "\n",
    "        edge_trace.append(trace)\n",
    "\n",
    "    node_trace = go.Scatter(x         = [],\n",
    "                            y         = [],\n",
    "                            textposition = \"top center\",\n",
    "                            textfont_size = 10,\n",
    "                            hoverinfo = 'text',\n",
    "                            hovertext = [],\n",
    "                            text      = [],\n",
    "                            mode      = 'markers+text',\n",
    "                            marker    = dict(color = list(partition.values()),\n",
    "                                             size  = 7,\n",
    "                                             symbol = list(types)\n",
    "                                             ))\n",
    "\n",
    "    for node in G_nx.nodes():\n",
    "        x, y = pos[node]\n",
    "        node_trace['x'] += tuple([x])\n",
    "        node_trace['y'] += tuple([y])\n",
    "    \n",
    "    node_trace['text'] = info\n",
    "\n",
    "\n",
    "    layout = go.Layout(xaxis = {'showgrid': False, 'zeroline': False},\n",
    "                        yaxis = {'showgrid': False, 'zeroline': False},\n",
    "                        autosize = False,\n",
    "                        width = 1000,\n",
    "                        height = 1000)\n",
    "\n",
    "    # Create figure\n",
    "    fig = go.Figure(layout = layout)\n",
    "    for trace in edge_trace:\n",
    "        fig.add_trace(trace)\n",
    "    fig.add_trace(node_trace)\n",
    "    fig.update_layout(showlegend = False)\n",
    "    fig.update_xaxes(showticklabels = False)\n",
    "    fig.update_yaxes(showticklabels = False)\n",
    "    fig.show()"
   ]
  },
  {
   "cell_type": "code",
   "execution_count": 33,
   "metadata": {
    "scrolled": false
   },
   "outputs": [
    {
     "name": "stdout",
     "output_type": "stream",
     "text": [
      "average degree: 3.340659340659341\n",
      "num communities: 54\n"
     ]
    },
    {
     "data": {
      "application/vnd.plotly.v1+json": {
       "config": {
        "plotlyServerURL": "https://plot.ly"
       },
       "data": [
        {
         "line": {
          "color": "gray",
          "width": 1
         },
         "mode": "lines",
         "type": "scatter",
         "x": [
          -0.3053760958066823,
          -0.22404975802749885,
          null
         ],
         "y": [
          0.02150759264947384,
          0.013729774109609074,
          null
         ]
        },
        {
         "line": {
          "color": "gray",
          "width": 1
         },
         "mode": "lines",
         "type": "scatter",
         "x": [
          -0.22404975802749885,
          -0.08381668522625493,
          null
         ],
         "y": [
          0.013729774109609074,
          0.01925354355745625,
          null
         ]
        },
        {
         "line": {
          "color": "gray",
          "width": 1
         },
         "mode": "lines",
         "type": "scatter",
         "x": [
          -0.22404975802749885,
          -0.3038410075499461,
          null
         ],
         "y": [
          0.013729774109609074,
          -0.0014446213154711166,
          null
         ]
        },
        {
         "line": {
          "color": "gray",
          "width": 1
         },
         "mode": "lines",
         "type": "scatter",
         "x": [
          0.061791127260509754,
          -0.009180985662586313,
          null
         ],
         "y": [
          0.023011458639723016,
          0.05657566187490757,
          null
         ]
        },
        {
         "line": {
          "color": "gray",
          "width": 1
         },
         "mode": "lines",
         "type": "scatter",
         "x": [
          0.061791127260509754,
          -0.04187014971520882,
          null
         ],
         "y": [
          0.023011458639723016,
          0.018683362037641062,
          null
         ]
        },
        {
         "line": {
          "color": "gray",
          "width": 1
         },
         "mode": "lines",
         "type": "scatter",
         "x": [
          0.061791127260509754,
          0.10820897454186144,
          null
         ],
         "y": [
          0.023011458639723016,
          -0.02091763432526841,
          null
         ]
        },
        {
         "line": {
          "color": "gray",
          "width": 1
         },
         "mode": "lines",
         "type": "scatter",
         "x": [
          0.061791127260509754,
          0.0015278539225428854,
          null
         ],
         "y": [
          0.023011458639723016,
          0.032095756877487995,
          null
         ]
        },
        {
         "line": {
          "color": "gray",
          "width": 1
         },
         "mode": "lines",
         "type": "scatter",
         "x": [
          0.061791127260509754,
          0.1555940606896626,
          null
         ],
         "y": [
          0.023011458639723016,
          0.0343958959597091,
          null
         ]
        },
        {
         "line": {
          "color": "gray",
          "width": 1
         },
         "mode": "lines",
         "type": "scatter",
         "x": [
          0.061791127260509754,
          0.07193831294249597,
          null
         ],
         "y": [
          0.023011458639723016,
          -0.0369233882813717,
          null
         ]
        },
        {
         "line": {
          "color": "gray",
          "width": 1
         },
         "mode": "lines",
         "type": "scatter",
         "x": [
          -0.009180985662586313,
          -0.06693900131063761,
          null
         ],
         "y": [
          0.05657566187490757,
          0.10637644982316133,
          null
         ]
        },
        {
         "line": {
          "color": "gray",
          "width": 1
         },
         "mode": "lines",
         "type": "scatter",
         "x": [
          -0.009180985662586313,
          0.0015278539225428854,
          null
         ],
         "y": [
          0.05657566187490757,
          0.032095756877487995,
          null
         ]
        },
        {
         "line": {
          "color": "gray",
          "width": 1
         },
         "mode": "lines",
         "type": "scatter",
         "x": [
          -0.009180985662586313,
          -0.08381668522625493,
          null
         ],
         "y": [
          0.05657566187490757,
          0.01925354355745625,
          null
         ]
        },
        {
         "line": {
          "color": "gray",
          "width": 1
         },
         "mode": "lines",
         "type": "scatter",
         "x": [
          -0.009180985662586313,
          0.018104449610882176,
          null
         ],
         "y": [
          0.05657566187490757,
          0.07742354705173135,
          null
         ]
        },
        {
         "line": {
          "color": "gray",
          "width": 1
         },
         "mode": "lines",
         "type": "scatter",
         "x": [
          -0.009180985662586313,
          -0.008741227202852623,
          null
         ],
         "y": [
          0.05657566187490757,
          -0.052161595565536054,
          null
         ]
        },
        {
         "line": {
          "color": "gray",
          "width": 1
         },
         "mode": "lines",
         "type": "scatter",
         "x": [
          -0.009180985662586313,
          -0.044879205105378454,
          null
         ],
         "y": [
          0.05657566187490757,
          0.05513048090909525,
          null
         ]
        },
        {
         "line": {
          "color": "gray",
          "width": 1
         },
         "mode": "lines",
         "type": "scatter",
         "x": [
          -0.009180985662586313,
          0.02131572481172959,
          null
         ],
         "y": [
          0.05657566187490757,
          0.1402090819296962,
          null
         ]
        },
        {
         "line": {
          "color": "gray",
          "width": 1
         },
         "mode": "lines",
         "type": "scatter",
         "x": [
          -0.06693900131063761,
          -0.08804532379546319,
          null
         ],
         "y": [
          0.10637644982316133,
          0.19593605423896548,
          null
         ]
        },
        {
         "line": {
          "color": "gray",
          "width": 1
         },
         "mode": "lines",
         "type": "scatter",
         "x": [
          -0.06693900131063761,
          -0.04187014971520882,
          null
         ],
         "y": [
          0.10637644982316133,
          0.018683362037641062,
          null
         ]
        },
        {
         "line": {
          "color": "gray",
          "width": 1
         },
         "mode": "lines",
         "type": "scatter",
         "x": [
          -0.06693900131063761,
          -0.09210520075352743,
          null
         ],
         "y": [
          0.10637644982316133,
          0.1046607621423927,
          null
         ]
        },
        {
         "line": {
          "color": "gray",
          "width": 1
         },
         "mode": "lines",
         "type": "scatter",
         "x": [
          -0.06693900131063761,
          -0.05944785158417491,
          null
         ],
         "y": [
          0.10637644982316133,
          0.04177282681198829,
          null
         ]
        },
        {
         "line": {
          "color": "gray",
          "width": 1
         },
         "mode": "lines",
         "type": "scatter",
         "x": [
          -0.06693900131063761,
          -0.09778162613036662,
          null
         ],
         "y": [
          0.10637644982316133,
          0.07171137727518094,
          null
         ]
        },
        {
         "line": {
          "color": "gray",
          "width": 1
         },
         "mode": "lines",
         "type": "scatter",
         "x": [
          0.13200760665754493,
          0.09610149729481736,
          null
         ],
         "y": [
          -0.009899040883356984,
          0.015339971581803686,
          null
         ]
        },
        {
         "line": {
          "color": "gray",
          "width": 1
         },
         "mode": "lines",
         "type": "scatter",
         "x": [
          0.13200760665754493,
          0.0434227395395735,
          null
         ],
         "y": [
          -0.009899040883356984,
          -0.013805682413551991,
          null
         ]
        },
        {
         "line": {
          "color": "gray",
          "width": 1
         },
         "mode": "lines",
         "type": "scatter",
         "x": [
          0.11621326154039684,
          0.2003910368912326,
          null
         ],
         "y": [
          -0.035839240408858275,
          -0.003731233742453892,
          null
         ]
        },
        {
         "line": {
          "color": "gray",
          "width": 1
         },
         "mode": "lines",
         "type": "scatter",
         "x": [
          0.11621326154039684,
          -0.014227736832075925,
          null
         ],
         "y": [
          -0.035839240408858275,
          -0.042792972167334124,
          null
         ]
        },
        {
         "line": {
          "color": "gray",
          "width": 1
         },
         "mode": "lines",
         "type": "scatter",
         "x": [
          -0.0794855717564741,
          -0.06222111600024904,
          null
         ],
         "y": [
          -0.24601983764869892,
          -0.16230485490355812,
          null
         ]
        },
        {
         "line": {
          "color": "gray",
          "width": 1
         },
         "mode": "lines",
         "type": "scatter",
         "x": [
          -0.4300141956573331,
          -0.41178667662976753,
          null
         ],
         "y": [
          0.7775570503055733,
          0.7287137995187184,
          null
         ]
        },
        {
         "line": {
          "color": "gray",
          "width": 1
         },
         "mode": "lines",
         "type": "scatter",
         "x": [
          -0.41178667662976753,
          -0.44002254048774203,
          null
         ],
         "y": [
          0.7287137995187184,
          0.7365218191590223,
          null
         ]
        },
        {
         "line": {
          "color": "gray",
          "width": 1
         },
         "mode": "lines",
         "type": "scatter",
         "x": [
          -0.045281032811381586,
          -0.04693379500878188,
          null
         ],
         "y": [
          0.2013753432840776,
          0.11040733591348802,
          null
         ]
        },
        {
         "line": {
          "color": "gray",
          "width": 1
         },
         "mode": "lines",
         "type": "scatter",
         "x": [
          -0.04187014971520882,
          -0.11564356156424464,
          null
         ],
         "y": [
          0.018683362037641062,
          -0.0467437664135677,
          null
         ]
        },
        {
         "line": {
          "color": "gray",
          "width": 1
         },
         "mode": "lines",
         "type": "scatter",
         "x": [
          -0.04187014971520882,
          -0.021197955990192686,
          null
         ],
         "y": [
          0.018683362037641062,
          -0.05745791917966554,
          null
         ]
        },
        {
         "line": {
          "color": "gray",
          "width": 1
         },
         "mode": "lines",
         "type": "scatter",
         "x": [
          -0.04187014971520882,
          -0.07409371248975366,
          null
         ],
         "y": [
          0.018683362037641062,
          0.018872792165201935,
          null
         ]
        },
        {
         "line": {
          "color": "gray",
          "width": 1
         },
         "mode": "lines",
         "type": "scatter",
         "x": [
          -0.04187014971520882,
          -0.02732241667018175,
          null
         ],
         "y": [
          0.018683362037641062,
          0.05134726877708089,
          null
         ]
        },
        {
         "line": {
          "color": "gray",
          "width": 1
         },
         "mode": "lines",
         "type": "scatter",
         "x": [
          0.10820897454186144,
          0.12230726591278249,
          null
         ],
         "y": [
          -0.02091763432526841,
          0.022363225319855483,
          null
         ]
        },
        {
         "line": {
          "color": "gray",
          "width": 1
         },
         "mode": "lines",
         "type": "scatter",
         "x": [
          0.10820897454186144,
          0.0774115646929293,
          null
         ],
         "y": [
          -0.02091763432526841,
          -0.07284954976114227,
          null
         ]
        },
        {
         "line": {
          "color": "gray",
          "width": 1
         },
         "mode": "lines",
         "type": "scatter",
         "x": [
          0.10820897454186144,
          0.04553561082060511,
          null
         ],
         "y": [
          -0.02091763432526841,
          -0.04292248631664749,
          null
         ]
        },
        {
         "line": {
          "color": "gray",
          "width": 1
         },
         "mode": "lines",
         "type": "scatter",
         "x": [
          0.0015278539225428854,
          -0.04693379500878188,
          null
         ],
         "y": [
          0.032095756877487995,
          0.11040733591348802,
          null
         ]
        },
        {
         "line": {
          "color": "gray",
          "width": 1
         },
         "mode": "lines",
         "type": "scatter",
         "x": [
          0.0015278539225428854,
          -0.11564356156424464,
          null
         ],
         "y": [
          0.032095756877487995,
          -0.0467437664135677,
          null
         ]
        },
        {
         "line": {
          "color": "gray",
          "width": 1
         },
         "mode": "lines",
         "type": "scatter",
         "x": [
          0.0015278539225428854,
          0.12230726591278249,
          null
         ],
         "y": [
          0.032095756877487995,
          0.022363225319855483,
          null
         ]
        },
        {
         "line": {
          "color": "gray",
          "width": 1
         },
         "mode": "lines",
         "type": "scatter",
         "x": [
          0.08371216576816881,
          0.010282396206012808,
          null
         ],
         "y": [
          -0.1018317841441478,
          -0.03316240999329074,
          null
         ]
        },
        {
         "line": {
          "color": "gray",
          "width": 1
         },
         "mode": "lines",
         "type": "scatter",
         "x": [
          -0.20078387442587295,
          -0.145631153558427,
          null
         ],
         "y": [
          -0.23498798272216262,
          -0.20361638138164276,
          null
         ]
        },
        {
         "line": {
          "color": "gray",
          "width": 1
         },
         "mode": "lines",
         "type": "scatter",
         "x": [
          -0.20078387442587295,
          -0.23265957039174143,
          null
         ],
         "y": [
          -0.23498798272216262,
          -0.30148113841859414,
          null
         ]
        },
        {
         "line": {
          "color": "gray",
          "width": 1
         },
         "mode": "lines",
         "type": "scatter",
         "x": [
          -0.20078387442587295,
          -0.17537211489142937,
          null
         ],
         "y": [
          -0.23498798272216262,
          -0.14657865578170973,
          null
         ]
        },
        {
         "line": {
          "color": "gray",
          "width": 1
         },
         "mode": "lines",
         "type": "scatter",
         "x": [
          0.1555940606896626,
          0.15716295156561405,
          null
         ],
         "y": [
          0.0343958959597091,
          -0.002316498157844949,
          null
         ]
        },
        {
         "line": {
          "color": "gray",
          "width": 1
         },
         "mode": "lines",
         "type": "scatter",
         "x": [
          -0.08381668522625493,
          -0.04693379500878188,
          null
         ],
         "y": [
          0.01925354355745625,
          0.11040733591348802,
          null
         ]
        },
        {
         "line": {
          "color": "gray",
          "width": 1
         },
         "mode": "lines",
         "type": "scatter",
         "x": [
          -0.08381668522625493,
          -0.09684023773393201,
          null
         ],
         "y": [
          0.01925354355745625,
          -0.031123440093827864,
          null
         ]
        },
        {
         "line": {
          "color": "gray",
          "width": 1
         },
         "mode": "lines",
         "type": "scatter",
         "x": [
          -0.08381668522625493,
          -0.04873641669103811,
          null
         ],
         "y": [
          0.01925354355745625,
          0.04157129093663556,
          null
         ]
        },
        {
         "line": {
          "color": "gray",
          "width": 1
         },
         "mode": "lines",
         "type": "scatter",
         "x": [
          -0.08381668522625493,
          -0.058959917616266316,
          null
         ],
         "y": [
          0.01925354355745625,
          -0.043017294594320236,
          null
         ]
        },
        {
         "line": {
          "color": "gray",
          "width": 1
         },
         "mode": "lines",
         "type": "scatter",
         "x": [
          -0.08381668522625493,
          -0.021516912944154,
          null
         ],
         "y": [
          0.01925354355745625,
          -0.018665010061002088,
          null
         ]
        },
        {
         "line": {
          "color": "gray",
          "width": 1
         },
         "mode": "lines",
         "type": "scatter",
         "x": [
          -0.08381668522625493,
          -0.0457296305512359,
          null
         ],
         "y": [
          0.01925354355745625,
          -0.0493203522666341,
          null
         ]
        },
        {
         "line": {
          "color": "gray",
          "width": 1
         },
         "mode": "lines",
         "type": "scatter",
         "x": [
          -0.08381668522625493,
          -0.014227736832075925,
          null
         ],
         "y": [
          0.01925354355745625,
          -0.042792972167334124,
          null
         ]
        },
        {
         "line": {
          "color": "gray",
          "width": 1
         },
         "mode": "lines",
         "type": "scatter",
         "x": [
          -0.08381668522625493,
          -0.04034712207092415,
          null
         ],
         "y": [
          0.01925354355745625,
          0.07838911253978155,
          null
         ]
        },
        {
         "line": {
          "color": "gray",
          "width": 1
         },
         "mode": "lines",
         "type": "scatter",
         "x": [
          -0.04693379500878188,
          -0.04873641669103811,
          null
         ],
         "y": [
          0.11040733591348802,
          0.04157129093663556,
          null
         ]
        },
        {
         "line": {
          "color": "gray",
          "width": 1
         },
         "mode": "lines",
         "type": "scatter",
         "x": [
          -0.04693379500878188,
          0.018104449610882176,
          null
         ],
         "y": [
          0.11040733591348802,
          0.07742354705173135,
          null
         ]
        },
        {
         "line": {
          "color": "gray",
          "width": 1
         },
         "mode": "lines",
         "type": "scatter",
         "x": [
          -0.04693379500878188,
          -0.10315772287157868,
          null
         ],
         "y": [
          0.11040733591348802,
          0.18423094523925546,
          null
         ]
        },
        {
         "line": {
          "color": "gray",
          "width": 1
         },
         "mode": "lines",
         "type": "scatter",
         "x": [
          -0.0021202113048160364,
          -0.028291159232216964,
          null
         ],
         "y": [
          -0.024030476140154532,
          0.009747813033545508,
          null
         ]
        },
        {
         "line": {
          "color": "gray",
          "width": 1
         },
         "mode": "lines",
         "type": "scatter",
         "x": [
          -0.0021202113048160364,
          -0.0457296305512359,
          null
         ],
         "y": [
          -0.024030476140154532,
          -0.0493203522666341,
          null
         ]
        },
        {
         "line": {
          "color": "gray",
          "width": 1
         },
         "mode": "lines",
         "type": "scatter",
         "x": [
          -0.0021202113048160364,
          0.010282396206012808,
          null
         ],
         "y": [
          -0.024030476140154532,
          -0.03316240999329074,
          null
         ]
        },
        {
         "line": {
          "color": "gray",
          "width": 1
         },
         "mode": "lines",
         "type": "scatter",
         "x": [
          -0.0021202113048160364,
          0.013997672722655018,
          null
         ],
         "y": [
          -0.024030476140154532,
          0.023564009485678414,
          null
         ]
        },
        {
         "line": {
          "color": "gray",
          "width": 1
         },
         "mode": "lines",
         "type": "scatter",
         "x": [
          -0.0021202113048160364,
          -0.014227736832075925,
          null
         ],
         "y": [
          -0.024030476140154532,
          -0.042792972167334124,
          null
         ]
        },
        {
         "line": {
          "color": "gray",
          "width": 1
         },
         "mode": "lines",
         "type": "scatter",
         "x": [
          -0.09684023773393201,
          -0.014227736832075925,
          null
         ],
         "y": [
          -0.031123440093827864,
          -0.042792972167334124,
          null
         ]
        },
        {
         "line": {
          "color": "gray",
          "width": 1
         },
         "mode": "lines",
         "type": "scatter",
         "x": [
          -0.10477488681114928,
          -0.028291159232216964,
          null
         ],
         "y": [
          0.10948398238217412,
          0.009747813033545508,
          null
         ]
        },
        {
         "line": {
          "color": "gray",
          "width": 1
         },
         "mode": "lines",
         "type": "scatter",
         "x": [
          -0.10477488681114928,
          -0.14264001235151016,
          null
         ],
         "y": [
          0.10948398238217412,
          0.18353083322846483,
          null
         ]
        },
        {
         "line": {
          "color": "gray",
          "width": 1
         },
         "mode": "lines",
         "type": "scatter",
         "x": [
          -0.04873641669103811,
          -0.028291159232216964,
          null
         ],
         "y": [
          0.04157129093663556,
          0.009747813033545508,
          null
         ]
        },
        {
         "line": {
          "color": "gray",
          "width": 1
         },
         "mode": "lines",
         "type": "scatter",
         "x": [
          -0.04873641669103811,
          -0.014227736832075925,
          null
         ],
         "y": [
          0.04157129093663556,
          -0.042792972167334124,
          null
         ]
        },
        {
         "line": {
          "color": "gray",
          "width": 1
         },
         "mode": "lines",
         "type": "scatter",
         "x": [
          -0.028291159232216964,
          0.06147699325087198,
          null
         ],
         "y": [
          0.009747813033545508,
          -0.0109473117103224,
          null
         ]
        },
        {
         "line": {
          "color": "gray",
          "width": 1
         },
         "mode": "lines",
         "type": "scatter",
         "x": [
          -0.028291159232216964,
          -0.058959917616266316,
          null
         ],
         "y": [
          0.009747813033545508,
          -0.043017294594320236,
          null
         ]
        },
        {
         "line": {
          "color": "gray",
          "width": 1
         },
         "mode": "lines",
         "type": "scatter",
         "x": [
          -0.028291159232216964,
          -0.06835275509217535,
          null
         ],
         "y": [
          0.009747813033545508,
          0.0007324174525530838,
          null
         ]
        },
        {
         "line": {
          "color": "gray",
          "width": 1
         },
         "mode": "lines",
         "type": "scatter",
         "x": [
          -0.028291159232216964,
          -0.06416023768320575,
          null
         ],
         "y": [
          0.009747813033545508,
          -0.030488963175715905,
          null
         ]
        },
        {
         "line": {
          "color": "gray",
          "width": 1
         },
         "mode": "lines",
         "type": "scatter",
         "x": [
          -0.028291159232216964,
          -0.059435136558095625,
          null
         ],
         "y": [
          0.009747813033545508,
          0.013562129586326651,
          null
         ]
        },
        {
         "line": {
          "color": "gray",
          "width": 1
         },
         "mode": "lines",
         "type": "scatter",
         "x": [
          -0.028291159232216964,
          -0.021516912944154,
          null
         ],
         "y": [
          0.009747813033545508,
          -0.018665010061002088,
          null
         ]
        },
        {
         "line": {
          "color": "gray",
          "width": 1
         },
         "mode": "lines",
         "type": "scatter",
         "x": [
          -0.028291159232216964,
          -0.021197955990192686,
          null
         ],
         "y": [
          0.009747813033545508,
          -0.05745791917966554,
          null
         ]
        },
        {
         "line": {
          "color": "gray",
          "width": 1
         },
         "mode": "lines",
         "type": "scatter",
         "x": [
          -0.028291159232216964,
          0.04553561082060511,
          null
         ],
         "y": [
          0.009747813033545508,
          -0.04292248631664749,
          null
         ]
        },
        {
         "line": {
          "color": "gray",
          "width": 1
         },
         "mode": "lines",
         "type": "scatter",
         "x": [
          -0.028291159232216964,
          0.010282396206012808,
          null
         ],
         "y": [
          0.009747813033545508,
          -0.03316240999329074,
          null
         ]
        },
        {
         "line": {
          "color": "gray",
          "width": 1
         },
         "mode": "lines",
         "type": "scatter",
         "x": [
          -0.028291159232216964,
          -0.02732241667018175,
          null
         ],
         "y": [
          0.009747813033545508,
          0.05134726877708089,
          null
         ]
        },
        {
         "line": {
          "color": "gray",
          "width": 1
         },
         "mode": "lines",
         "type": "scatter",
         "x": [
          -0.028291159232216964,
          -0.008720142567485002,
          null
         ],
         "y": [
          0.009747813033545508,
          -0.01568299203923696,
          null
         ]
        },
        {
         "line": {
          "color": "gray",
          "width": 1
         },
         "mode": "lines",
         "type": "scatter",
         "x": [
          -0.028291159232216964,
          -0.04034712207092415,
          null
         ],
         "y": [
          0.009747813033545508,
          0.07838911253978155,
          null
         ]
        },
        {
         "line": {
          "color": "gray",
          "width": 1
         },
         "mode": "lines",
         "type": "scatter",
         "x": [
          0.018104449610882176,
          0.0052989787136488815,
          null
         ],
         "y": [
          0.07742354705173135,
          0.004710248960822736,
          null
         ]
        },
        {
         "line": {
          "color": "gray",
          "width": 1
         },
         "mode": "lines",
         "type": "scatter",
         "x": [
          0.018104449610882176,
          0.010282396206012808,
          null
         ],
         "y": [
          0.07742354705173135,
          -0.03316240999329074,
          null
         ]
        },
        {
         "line": {
          "color": "gray",
          "width": 1
         },
         "mode": "lines",
         "type": "scatter",
         "x": [
          0.018104449610882176,
          0.06209695945940719,
          null
         ],
         "y": [
          0.07742354705173135,
          0.1574149775775943,
          null
         ]
        },
        {
         "line": {
          "color": "gray",
          "width": 1
         },
         "mode": "lines",
         "type": "scatter",
         "x": [
          0.06147699325087198,
          0.020987852873670658,
          null
         ],
         "y": [
          -0.0109473117103224,
          -0.03349462325112218,
          null
         ]
        },
        {
         "line": {
          "color": "gray",
          "width": 1
         },
         "mode": "lines",
         "type": "scatter",
         "x": [
          0.06147699325087198,
          0.15716295156561405,
          null
         ],
         "y": [
          -0.0109473117103224,
          -0.002316498157844949,
          null
         ]
        },
        {
         "line": {
          "color": "gray",
          "width": 1
         },
         "mode": "lines",
         "type": "scatter",
         "x": [
          0.06147699325087198,
          -0.021516912944154,
          null
         ],
         "y": [
          -0.0109473117103224,
          -0.018665010061002088,
          null
         ]
        },
        {
         "line": {
          "color": "gray",
          "width": 1
         },
         "mode": "lines",
         "type": "scatter",
         "x": [
          0.020987852873670658,
          0.0052989787136488815,
          null
         ],
         "y": [
          -0.03349462325112218,
          0.004710248960822736,
          null
         ]
        },
        {
         "line": {
          "color": "gray",
          "width": 1
         },
         "mode": "lines",
         "type": "scatter",
         "x": [
          0.020987852873670658,
          -0.06416023768320575,
          null
         ],
         "y": [
          -0.03349462325112218,
          -0.030488963175715905,
          null
         ]
        },
        {
         "line": {
          "color": "gray",
          "width": 1
         },
         "mode": "lines",
         "type": "scatter",
         "x": [
          -0.11370880102418561,
          -0.0457296305512359,
          null
         ],
         "y": [
          -0.11628416517433651,
          -0.0493203522666341,
          null
         ]
        },
        {
         "line": {
          "color": "gray",
          "width": 1
         },
         "mode": "lines",
         "type": "scatter",
         "x": [
          -0.11564356156424464,
          -0.17928444227353182,
          null
         ],
         "y": [
          -0.0467437664135677,
          -0.0886118690711603,
          null
         ]
        },
        {
         "line": {
          "color": "gray",
          "width": 1
         },
         "mode": "lines",
         "type": "scatter",
         "x": [
          -0.11564356156424464,
          -0.2026214629779173,
          null
         ],
         "y": [
          -0.0467437664135677,
          -0.062259939047365834,
          null
         ]
        },
        {
         "line": {
          "color": "gray",
          "width": 1
         },
         "mode": "lines",
         "type": "scatter",
         "x": [
          -0.11564356156424464,
          -0.058959917616266316,
          null
         ],
         "y": [
          -0.0467437664135677,
          -0.043017294594320236,
          null
         ]
        },
        {
         "line": {
          "color": "gray",
          "width": 1
         },
         "mode": "lines",
         "type": "scatter",
         "x": [
          -0.11564356156424464,
          -0.17537211489142937,
          null
         ],
         "y": [
          -0.0467437664135677,
          -0.14657865578170973,
          null
         ]
        },
        {
         "line": {
          "color": "gray",
          "width": 1
         },
         "mode": "lines",
         "type": "scatter",
         "x": [
          -0.17928444227353182,
          -0.12685933992984552,
          null
         ],
         "y": [
          -0.0886118690711603,
          -0.08025122201698884,
          null
         ]
        },
        {
         "line": {
          "color": "gray",
          "width": 1
         },
         "mode": "lines",
         "type": "scatter",
         "x": [
          -0.20554303658417883,
          -0.09778162613036662,
          null
         ],
         "y": [
          0.11655185754107686,
          0.07171137727518094,
          null
         ]
        },
        {
         "line": {
          "color": "gray",
          "width": 1
         },
         "mode": "lines",
         "type": "scatter",
         "x": [
          -0.20554303658417883,
          -0.24238267142402034,
          null
         ],
         "y": [
          0.11655185754107686,
          0.07680432909967369,
          null
         ]
        },
        {
         "line": {
          "color": "gray",
          "width": 1
         },
         "mode": "lines",
         "type": "scatter",
         "x": [
          -0.20554303658417883,
          -0.2696080924983311,
          null
         ],
         "y": [
          0.11655185754107686,
          0.16373302153150518,
          null
         ]
        },
        {
         "line": {
          "color": "gray",
          "width": 1
         },
         "mode": "lines",
         "type": "scatter",
         "x": [
          0.0052989787136488815,
          -0.06416023768320575,
          null
         ],
         "y": [
          0.004710248960822736,
          -0.030488963175715905,
          null
         ]
        },
        {
         "line": {
          "color": "gray",
          "width": 1
         },
         "mode": "lines",
         "type": "scatter",
         "x": [
          0.0052989787136488815,
          -0.008741227202852623,
          null
         ],
         "y": [
          0.004710248960822736,
          -0.052161595565536054,
          null
         ]
        },
        {
         "line": {
          "color": "gray",
          "width": 1
         },
         "mode": "lines",
         "type": "scatter",
         "x": [
          -0.058959917616266316,
          -0.004626957269381648,
          null
         ],
         "y": [
          -0.043017294594320236,
          -0.08607589167284066,
          null
         ]
        },
        {
         "line": {
          "color": "gray",
          "width": 1
         },
         "mode": "lines",
         "type": "scatter",
         "x": [
          -0.058959917616266316,
          -0.06835275509217535,
          null
         ],
         "y": [
          -0.043017294594320236,
          0.0007324174525530838,
          null
         ]
        },
        {
         "line": {
          "color": "gray",
          "width": 1
         },
         "mode": "lines",
         "type": "scatter",
         "x": [
          -0.058959917616266316,
          -0.027032038640550888,
          null
         ],
         "y": [
          -0.043017294594320236,
          -0.06945797406197159,
          null
         ]
        },
        {
         "line": {
          "color": "gray",
          "width": 1
         },
         "mode": "lines",
         "type": "scatter",
         "x": [
          -0.058959917616266316,
          -0.021516912944154,
          null
         ],
         "y": [
          -0.043017294594320236,
          -0.018665010061002088,
          null
         ]
        },
        {
         "line": {
          "color": "gray",
          "width": 1
         },
         "mode": "lines",
         "type": "scatter",
         "x": [
          -0.058959917616266316,
          -0.12685933992984552,
          null
         ],
         "y": [
          -0.043017294594320236,
          -0.08025122201698884,
          null
         ]
        },
        {
         "line": {
          "color": "gray",
          "width": 1
         },
         "mode": "lines",
         "type": "scatter",
         "x": [
          -0.058959917616266316,
          -0.0457296305512359,
          null
         ],
         "y": [
          -0.043017294594320236,
          -0.0493203522666341,
          null
         ]
        },
        {
         "line": {
          "color": "gray",
          "width": 1
         },
         "mode": "lines",
         "type": "scatter",
         "x": [
          -0.058959917616266316,
          0.010282396206012808,
          null
         ],
         "y": [
          -0.043017294594320236,
          -0.03316240999329074,
          null
         ]
        },
        {
         "line": {
          "color": "gray",
          "width": 1
         },
         "mode": "lines",
         "type": "scatter",
         "x": [
          -0.058959917616266316,
          -0.014227736832075925,
          null
         ],
         "y": [
          -0.043017294594320236,
          -0.042792972167334124,
          null
         ]
        },
        {
         "line": {
          "color": "gray",
          "width": 1
         },
         "mode": "lines",
         "type": "scatter",
         "x": [
          0.056422968164944465,
          -0.004626957269381648,
          null
         ],
         "y": [
          -0.042684498274881105,
          -0.08607589167284066,
          null
         ]
        },
        {
         "line": {
          "color": "gray",
          "width": 1
         },
         "mode": "lines",
         "type": "scatter",
         "x": [
          0.056422968164944465,
          0.054916386339231835,
          null
         ],
         "y": [
          -0.042684498274881105,
          -0.08894462048653747,
          null
         ]
        },
        {
         "line": {
          "color": "gray",
          "width": 1
         },
         "mode": "lines",
         "type": "scatter",
         "x": [
          0.056422968164944465,
          0.06951420363626727,
          null
         ],
         "y": [
          -0.042684498274881105,
          0.0020089009530309242,
          null
         ]
        },
        {
         "line": {
          "color": "gray",
          "width": 1
         },
         "mode": "lines",
         "type": "scatter",
         "x": [
          0.056422968164944465,
          0.07661215859862615,
          null
         ],
         "y": [
          -0.042684498274881105,
          0.04059045805482657,
          null
         ]
        },
        {
         "line": {
          "color": "gray",
          "width": 1
         },
         "mode": "lines",
         "type": "scatter",
         "x": [
          0.056422968164944465,
          -0.014227736832075925,
          null
         ],
         "y": [
          -0.042684498274881105,
          -0.042792972167334124,
          null
         ]
        },
        {
         "line": {
          "color": "gray",
          "width": 1
         },
         "mode": "lines",
         "type": "scatter",
         "x": [
          -0.004626957269381648,
          -0.014227736832075925,
          null
         ],
         "y": [
          -0.08607589167284066,
          -0.042792972167334124,
          null
         ]
        },
        {
         "line": {
          "color": "gray",
          "width": 1
         },
         "mode": "lines",
         "type": "scatter",
         "x": [
          -0.09376888392804339,
          -0.06835275509217535,
          null
         ],
         "y": [
          -0.01256423484152044,
          0.0007324174525530838,
          null
         ]
        },
        {
         "line": {
          "color": "gray",
          "width": 1
         },
         "mode": "lines",
         "type": "scatter",
         "x": [
          -0.09376888392804339,
          -0.06416023768320575,
          null
         ],
         "y": [
          -0.01256423484152044,
          -0.030488963175715905,
          null
         ]
        },
        {
         "line": {
          "color": "gray",
          "width": 1
         },
         "mode": "lines",
         "type": "scatter",
         "x": [
          -0.09376888392804339,
          -0.02732241667018175,
          null
         ],
         "y": [
          -0.01256423484152044,
          0.05134726877708089,
          null
         ]
        },
        {
         "line": {
          "color": "gray",
          "width": 1
         },
         "mode": "lines",
         "type": "scatter",
         "x": [
          -0.09376888392804339,
          -0.07475967057635224,
          null
         ],
         "y": [
          -0.01256423484152044,
          -0.035391740620783804,
          null
         ]
        },
        {
         "line": {
          "color": "gray",
          "width": 1
         },
         "mode": "lines",
         "type": "scatter",
         "x": [
          -0.09376888392804339,
          -0.1111167862361388,
          null
         ],
         "y": [
          -0.01256423484152044,
          -0.0855111738776797,
          null
         ]
        },
        {
         "line": {
          "color": "gray",
          "width": 1
         },
         "mode": "lines",
         "type": "scatter",
         "x": [
          0.054916386339231835,
          0.07193831294249597,
          null
         ],
         "y": [
          -0.08894462048653747,
          -0.0369233882813717,
          null
         ]
        },
        {
         "line": {
          "color": "gray",
          "width": 1
         },
         "mode": "lines",
         "type": "scatter",
         "x": [
          0.054916386339231835,
          0.01893774073437846,
          null
         ],
         "y": [
          -0.08894462048653747,
          -0.12349507362768782,
          null
         ]
        },
        {
         "line": {
          "color": "gray",
          "width": 1
         },
         "mode": "lines",
         "type": "scatter",
         "x": [
          0.054916386339231835,
          -0.014227736832075925,
          null
         ],
         "y": [
          -0.08894462048653747,
          -0.042792972167334124,
          null
         ]
        },
        {
         "line": {
          "color": "gray",
          "width": 1
         },
         "mode": "lines",
         "type": "scatter",
         "x": [
          -0.06835275509217535,
          -0.021516912944154,
          null
         ],
         "y": [
          0.0007324174525530838,
          -0.018665010061002088,
          null
         ]
        },
        {
         "line": {
          "color": "gray",
          "width": 1
         },
         "mode": "lines",
         "type": "scatter",
         "x": [
          -0.06835275509217535,
          -0.03987595939911223,
          null
         ],
         "y": [
          0.0007324174525530838,
          0.08494012937042902,
          null
         ]
        },
        {
         "line": {
          "color": "gray",
          "width": 1
         },
         "mode": "lines",
         "type": "scatter",
         "x": [
          -0.06835275509217535,
          -0.02732241667018175,
          null
         ],
         "y": [
          0.0007324174525530838,
          0.05134726877708089,
          null
         ]
        },
        {
         "line": {
          "color": "gray",
          "width": 1
         },
         "mode": "lines",
         "type": "scatter",
         "x": [
          -0.06835275509217535,
          -0.06479823258549271,
          null
         ],
         "y": [
          0.0007324174525530838,
          0.029048344904688644,
          null
         ]
        },
        {
         "line": {
          "color": "gray",
          "width": 1
         },
         "mode": "lines",
         "type": "scatter",
         "x": [
          -0.06835275509217535,
          -0.1111167862361388,
          null
         ],
         "y": [
          0.0007324174525530838,
          -0.0855111738776797,
          null
         ]
        },
        {
         "line": {
          "color": "gray",
          "width": 1
         },
         "mode": "lines",
         "type": "scatter",
         "x": [
          -0.06416023768320575,
          -0.09654035607563576,
          null
         ],
         "y": [
          -0.030488963175715905,
          -0.09379853420250263,
          null
         ]
        },
        {
         "line": {
          "color": "gray",
          "width": 1
         },
         "mode": "lines",
         "type": "scatter",
         "x": [
          -0.06416023768320575,
          -0.021516912944154,
          null
         ],
         "y": [
          -0.030488963175715905,
          -0.018665010061002088,
          null
         ]
        },
        {
         "line": {
          "color": "gray",
          "width": 1
         },
         "mode": "lines",
         "type": "scatter",
         "x": [
          -0.06416023768320575,
          0.0015666838803731872,
          null
         ],
         "y": [
          -0.030488963175715905,
          -0.06968905573605497,
          null
         ]
        },
        {
         "line": {
          "color": "gray",
          "width": 1
         },
         "mode": "lines",
         "type": "scatter",
         "x": [
          -0.06416023768320575,
          -0.03864867092112275,
          null
         ],
         "y": [
          -0.030488963175715905,
          -0.019682815850479544,
          null
         ]
        },
        {
         "line": {
          "color": "gray",
          "width": 1
         },
         "mode": "lines",
         "type": "scatter",
         "x": [
          -0.06416023768320575,
          -0.07475967057635224,
          null
         ],
         "y": [
          -0.030488963175715905,
          -0.035391740620783804,
          null
         ]
        },
        {
         "line": {
          "color": "gray",
          "width": 1
         },
         "mode": "lines",
         "type": "scatter",
         "x": [
          -0.06416023768320575,
          -0.05486937877036051,
          null
         ],
         "y": [
          -0.030488963175715905,
          -0.09384035644336178,
          null
         ]
        },
        {
         "line": {
          "color": "gray",
          "width": 1
         },
         "mode": "lines",
         "type": "scatter",
         "x": [
          -0.06416023768320575,
          -0.19030177482821692,
          null
         ],
         "y": [
          -0.030488963175715905,
          0.01693100965465017,
          null
         ]
        },
        {
         "line": {
          "color": "gray",
          "width": 1
         },
         "mode": "lines",
         "type": "scatter",
         "x": [
          -0.06416023768320575,
          -0.014227736832075925,
          null
         ],
         "y": [
          -0.030488963175715905,
          -0.042792972167334124,
          null
         ]
        },
        {
         "line": {
          "color": "gray",
          "width": 1
         },
         "mode": "lines",
         "type": "scatter",
         "x": [
          -0.09654035607563576,
          -0.05263513394908113,
          null
         ],
         "y": [
          -0.09379853420250263,
          -0.05959821037374742,
          null
         ]
        },
        {
         "line": {
          "color": "gray",
          "width": 1
         },
         "mode": "lines",
         "type": "scatter",
         "x": [
          -0.09210520075352743,
          -0.059435136558095625,
          null
         ],
         "y": [
          0.1046607621423927,
          0.013562129586326651,
          null
         ]
        },
        {
         "line": {
          "color": "gray",
          "width": 1
         },
         "mode": "lines",
         "type": "scatter",
         "x": [
          -0.059435136558095625,
          -0.027032038640550888,
          null
         ],
         "y": [
          0.013562129586326651,
          -0.06945797406197159,
          null
         ]
        },
        {
         "line": {
          "color": "gray",
          "width": 1
         },
         "mode": "lines",
         "type": "scatter",
         "x": [
          -0.059435136558095625,
          -0.014227736832075925,
          null
         ],
         "y": [
          0.013562129586326651,
          -0.042792972167334124,
          null
         ]
        },
        {
         "line": {
          "color": "gray",
          "width": 1
         },
         "mode": "lines",
         "type": "scatter",
         "x": [
          -0.05737947060015543,
          -0.06222111600024904,
          null
         ],
         "y": [
          -0.24764055838390642,
          -0.16230485490355812,
          null
         ]
        },
        {
         "line": {
          "color": "gray",
          "width": 1
         },
         "mode": "lines",
         "type": "scatter",
         "x": [
          -0.06222111600024904,
          -0.030352431502559483,
          null
         ],
         "y": [
          -0.16230485490355812,
          -0.1538109170608293,
          null
         ]
        },
        {
         "line": {
          "color": "gray",
          "width": 1
         },
         "mode": "lines",
         "type": "scatter",
         "x": [
          -0.06222111600024904,
          -0.1111167862361388,
          null
         ],
         "y": [
          -0.16230485490355812,
          -0.0855111738776797,
          null
         ]
        },
        {
         "line": {
          "color": "gray",
          "width": 1
         },
         "mode": "lines",
         "type": "scatter",
         "x": [
          -0.06222111600024904,
          -0.014227736832075925,
          null
         ],
         "y": [
          -0.16230485490355812,
          -0.042792972167334124,
          null
         ]
        },
        {
         "line": {
          "color": "gray",
          "width": 1
         },
         "mode": "lines",
         "type": "scatter",
         "x": [
          -0.11657320263482822,
          -0.0932236090725361,
          null
         ],
         "y": [
          -0.02811514811153593,
          -0.07236604843832767,
          null
         ]
        },
        {
         "line": {
          "color": "gray",
          "width": 1
         },
         "mode": "lines",
         "type": "scatter",
         "x": [
          -0.11657320263482822,
          -0.05263513394908113,
          null
         ],
         "y": [
          -0.02811514811153593,
          -0.05959821037374742,
          null
         ]
        },
        {
         "line": {
          "color": "gray",
          "width": 1
         },
         "mode": "lines",
         "type": "scatter",
         "x": [
          -0.11657320263482822,
          -0.06479823258549271,
          null
         ],
         "y": [
          -0.02811514811153593,
          0.029048344904688644,
          null
         ]
        },
        {
         "line": {
          "color": "gray",
          "width": 1
         },
         "mode": "lines",
         "type": "scatter",
         "x": [
          -0.030352431502559483,
          -0.021197955990192686,
          null
         ],
         "y": [
          -0.1538109170608293,
          -0.05745791917966554,
          null
         ]
        },
        {
         "line": {
          "color": "gray",
          "width": 1
         },
         "mode": "lines",
         "type": "scatter",
         "x": [
          -0.027032038640550888,
          0.0015666838803731872,
          null
         ],
         "y": [
          -0.06945797406197159,
          -0.06968905573605497,
          null
         ]
        },
        {
         "line": {
          "color": "gray",
          "width": 1
         },
         "mode": "lines",
         "type": "scatter",
         "x": [
          -0.027032038640550888,
          -0.008741227202852623,
          null
         ],
         "y": [
          -0.06945797406197159,
          -0.052161595565536054,
          null
         ]
        },
        {
         "line": {
          "color": "gray",
          "width": 1
         },
         "mode": "lines",
         "type": "scatter",
         "x": [
          -0.027032038640550888,
          0.004594199691265823,
          null
         ],
         "y": [
          -0.06945797406197159,
          -0.09402189801422985,
          null
         ]
        },
        {
         "line": {
          "color": "gray",
          "width": 1
         },
         "mode": "lines",
         "type": "scatter",
         "x": [
          -0.027032038640550888,
          0.025139078558690037,
          null
         ],
         "y": [
          -0.06945797406197159,
          -0.09911169046248985,
          null
         ]
        },
        {
         "line": {
          "color": "gray",
          "width": 1
         },
         "mode": "lines",
         "type": "scatter",
         "x": [
          -0.027032038640550888,
          0.011615330354736851,
          null
         ],
         "y": [
          -0.06945797406197159,
          -0.05854674211512732,
          null
         ]
        },
        {
         "line": {
          "color": "gray",
          "width": 1
         },
         "mode": "lines",
         "type": "scatter",
         "x": [
          -0.027032038640550888,
          -0.05486937877036051,
          null
         ],
         "y": [
          -0.06945797406197159,
          -0.09384035644336178,
          null
         ]
        },
        {
         "line": {
          "color": "gray",
          "width": 1
         },
         "mode": "lines",
         "type": "scatter",
         "x": [
          -0.027032038640550888,
          -0.014227736832075925,
          null
         ],
         "y": [
          -0.06945797406197159,
          -0.042792972167334124,
          null
         ]
        },
        {
         "line": {
          "color": "gray",
          "width": 1
         },
         "mode": "lines",
         "type": "scatter",
         "x": [
          -0.05944785158417491,
          -0.1362666086176126,
          null
         ],
         "y": [
          0.04177282681198829,
          0.09520741562189973,
          null
         ]
        },
        {
         "line": {
          "color": "gray",
          "width": 1
         },
         "mode": "lines",
         "type": "scatter",
         "x": [
          -0.05944785158417491,
          -0.021516912944154,
          null
         ],
         "y": [
          0.04177282681198829,
          -0.018665010061002088,
          null
         ]
        },
        {
         "line": {
          "color": "gray",
          "width": 1
         },
         "mode": "lines",
         "type": "scatter",
         "x": [
          -0.05944785158417491,
          -0.008741227202852623,
          null
         ],
         "y": [
          0.04177282681198829,
          -0.052161595565536054,
          null
         ]
        },
        {
         "line": {
          "color": "gray",
          "width": 1
         },
         "mode": "lines",
         "type": "scatter",
         "x": [
          -0.05944785158417491,
          0.013997672722655018,
          null
         ],
         "y": [
          0.04177282681198829,
          0.023564009485678414,
          null
         ]
        },
        {
         "line": {
          "color": "gray",
          "width": 1
         },
         "mode": "lines",
         "type": "scatter",
         "x": [
          0.00665208288341612,
          -0.008741227202852623,
          null
         ],
         "y": [
          -0.15095276344136388,
          -0.052161595565536054,
          null
         ]
        },
        {
         "line": {
          "color": "gray",
          "width": 1
         },
         "mode": "lines",
         "type": "scatter",
         "x": [
          -0.09778162613036662,
          0.0001290653969096381,
          null
         ],
         "y": [
          0.07171137727518094,
          -0.009795849825951107,
          null
         ]
        },
        {
         "line": {
          "color": "gray",
          "width": 1
         },
         "mode": "lines",
         "type": "scatter",
         "x": [
          -0.09778162613036662,
          -0.02732241667018175,
          null
         ],
         "y": [
          0.07171137727518094,
          0.05134726877708089,
          null
         ]
        },
        {
         "line": {
          "color": "gray",
          "width": 1
         },
         "mode": "lines",
         "type": "scatter",
         "x": [
          -0.021516912944154,
          -0.008741227202852623,
          null
         ],
         "y": [
          -0.018665010061002088,
          -0.052161595565536054,
          null
         ]
        },
        {
         "line": {
          "color": "gray",
          "width": 1
         },
         "mode": "lines",
         "type": "scatter",
         "x": [
          -0.021516912944154,
          -0.021197955990192686,
          null
         ],
         "y": [
          -0.018665010061002088,
          -0.05745791917966554,
          null
         ]
        },
        {
         "line": {
          "color": "gray",
          "width": 1
         },
         "mode": "lines",
         "type": "scatter",
         "x": [
          -0.021516912944154,
          -0.05263513394908113,
          null
         ],
         "y": [
          -0.018665010061002088,
          -0.05959821037374742,
          null
         ]
        },
        {
         "line": {
          "color": "gray",
          "width": 1
         },
         "mode": "lines",
         "type": "scatter",
         "x": [
          -0.021516912944154,
          0.004594199691265823,
          null
         ],
         "y": [
          -0.018665010061002088,
          -0.09402189801422985,
          null
         ]
        },
        {
         "line": {
          "color": "gray",
          "width": 1
         },
         "mode": "lines",
         "type": "scatter",
         "x": [
          -0.021516912944154,
          0.04553561082060511,
          null
         ],
         "y": [
          -0.018665010061002088,
          -0.04292248631664749,
          null
         ]
        },
        {
         "line": {
          "color": "gray",
          "width": 1
         },
         "mode": "lines",
         "type": "scatter",
         "x": [
          -0.021516912944154,
          0.011615330354736851,
          null
         ],
         "y": [
          -0.018665010061002088,
          -0.05854674211512732,
          null
         ]
        },
        {
         "line": {
          "color": "gray",
          "width": 1
         },
         "mode": "lines",
         "type": "scatter",
         "x": [
          -0.021516912944154,
          0.010282396206012808,
          null
         ],
         "y": [
          -0.018665010061002088,
          -0.03316240999329074,
          null
         ]
        },
        {
         "line": {
          "color": "gray",
          "width": 1
         },
         "mode": "lines",
         "type": "scatter",
         "x": [
          -0.021516912944154,
          -0.07475967057635224,
          null
         ],
         "y": [
          -0.018665010061002088,
          -0.035391740620783804,
          null
         ]
        },
        {
         "line": {
          "color": "gray",
          "width": 1
         },
         "mode": "lines",
         "type": "scatter",
         "x": [
          -0.021516912944154,
          -0.010645963918469779,
          null
         ],
         "y": [
          -0.018665010061002088,
          0.0033856726588972165,
          null
         ]
        },
        {
         "line": {
          "color": "gray",
          "width": 1
         },
         "mode": "lines",
         "type": "scatter",
         "x": [
          -0.021516912944154,
          0.03358773897590849,
          null
         ],
         "y": [
          -0.018665010061002088,
          0.04392918373511421,
          null
         ]
        },
        {
         "line": {
          "color": "gray",
          "width": 1
         },
         "mode": "lines",
         "type": "scatter",
         "x": [
          -0.021516912944154,
          -0.019928570493757194,
          null
         ],
         "y": [
          -0.018665010061002088,
          0.01714806083073243,
          null
         ]
        },
        {
         "line": {
          "color": "gray",
          "width": 1
         },
         "mode": "lines",
         "type": "scatter",
         "x": [
          -0.021516912944154,
          0.05326995236169977,
          null
         ],
         "y": [
          -0.018665010061002088,
          0.04079751133169319,
          null
         ]
        },
        {
         "line": {
          "color": "gray",
          "width": 1
         },
         "mode": "lines",
         "type": "scatter",
         "x": [
          -0.021516912944154,
          -0.07591352271614883,
          null
         ],
         "y": [
          -0.018665010061002088,
          -0.12629464524415931,
          null
         ]
        },
        {
         "line": {
          "color": "gray",
          "width": 1
         },
         "mode": "lines",
         "type": "scatter",
         "x": [
          -0.021516912944154,
          -0.008720142567485002,
          null
         ],
         "y": [
          -0.018665010061002088,
          -0.01568299203923696,
          null
         ]
        },
        {
         "line": {
          "color": "gray",
          "width": 1
         },
         "mode": "lines",
         "type": "scatter",
         "x": [
          -0.021516912944154,
          -0.014227736832075925,
          null
         ],
         "y": [
          -0.018665010061002088,
          -0.042792972167334124,
          null
         ]
        },
        {
         "line": {
          "color": "gray",
          "width": 1
         },
         "mode": "lines",
         "type": "scatter",
         "x": [
          -0.021516912944154,
          -0.04034712207092415,
          null
         ],
         "y": [
          -0.018665010061002088,
          0.07838911253978155,
          null
         ]
        },
        {
         "line": {
          "color": "gray",
          "width": 1
         },
         "mode": "lines",
         "type": "scatter",
         "x": [
          0.2003910368912326,
          0.2786406242445685,
          null
         ],
         "y": [
          -0.003731233742453892,
          -8.10548916527114e-05,
          null
         ]
        },
        {
         "line": {
          "color": "gray",
          "width": 1
         },
         "mode": "lines",
         "type": "scatter",
         "x": [
          0.2003910368912326,
          0.12230726591278249,
          null
         ],
         "y": [
          -0.003731233742453892,
          0.022363225319855483,
          null
         ]
        },
        {
         "line": {
          "color": "gray",
          "width": 1
         },
         "mode": "lines",
         "type": "scatter",
         "x": [
          0.0015666838803731872,
          0.025139078558690037,
          null
         ],
         "y": [
          -0.06968905573605497,
          -0.09911169046248985,
          null
         ]
        },
        {
         "line": {
          "color": "gray",
          "width": 1
         },
         "mode": "lines",
         "type": "scatter",
         "x": [
          0.0015666838803731872,
          0.011615330354736851,
          null
         ],
         "y": [
          -0.06968905573605497,
          -0.05854674211512732,
          null
         ]
        },
        {
         "line": {
          "color": "gray",
          "width": 1
         },
         "mode": "lines",
         "type": "scatter",
         "x": [
          0.0015666838803731872,
          0.0434227395395735,
          null
         ],
         "y": [
          -0.06968905573605497,
          -0.013805682413551991,
          null
         ]
        },
        {
         "line": {
          "color": "gray",
          "width": 1
         },
         "mode": "lines",
         "type": "scatter",
         "x": [
          0.0015666838803731872,
          -0.014227736832075925,
          null
         ],
         "y": [
          -0.06968905573605497,
          -0.042792972167334124,
          null
         ]
        },
        {
         "line": {
          "color": "gray",
          "width": 1
         },
         "mode": "lines",
         "type": "scatter",
         "x": [
          -0.10454006771260613,
          -0.05263513394908113,
          null
         ],
         "y": [
          -0.13884633225290569,
          -0.05959821037374742,
          null
         ]
        },
        {
         "line": {
          "color": "gray",
          "width": 1
         },
         "mode": "lines",
         "type": "scatter",
         "x": [
          -0.0932236090725361,
          -0.021197955990192686,
          null
         ],
         "y": [
          -0.07236604843832767,
          -0.05745791917966554,
          null
         ]
        },
        {
         "line": {
          "color": "gray",
          "width": 1
         },
         "mode": "lines",
         "type": "scatter",
         "x": [
          -0.0932236090725361,
          -0.05263513394908113,
          null
         ],
         "y": [
          -0.07236604843832767,
          -0.05959821037374742,
          null
         ]
        },
        {
         "line": {
          "color": "gray",
          "width": 1
         },
         "mode": "lines",
         "type": "scatter",
         "x": [
          -0.008741227202852623,
          -0.021197955990192686,
          null
         ],
         "y": [
          -0.052161595565536054,
          -0.05745791917966554,
          null
         ]
        },
        {
         "line": {
          "color": "gray",
          "width": 1
         },
         "mode": "lines",
         "type": "scatter",
         "x": [
          -0.008741227202852623,
          -0.05263513394908113,
          null
         ],
         "y": [
          -0.052161595565536054,
          -0.05959821037374742,
          null
         ]
        },
        {
         "line": {
          "color": "gray",
          "width": 1
         },
         "mode": "lines",
         "type": "scatter",
         "x": [
          -0.008741227202852623,
          0.04079193564111641,
          null
         ],
         "y": [
          -0.052161595565536054,
          -0.14318122502558658,
          null
         ]
        },
        {
         "line": {
          "color": "gray",
          "width": 1
         },
         "mode": "lines",
         "type": "scatter",
         "x": [
          -0.008741227202852623,
          0.04376713513072373,
          null
         ],
         "y": [
          -0.052161595565536054,
          -0.06864953316320788,
          null
         ]
        },
        {
         "line": {
          "color": "gray",
          "width": 1
         },
         "mode": "lines",
         "type": "scatter",
         "x": [
          -0.008741227202852623,
          0.011615330354736851,
          null
         ],
         "y": [
          -0.052161595565536054,
          -0.05854674211512732,
          null
         ]
        },
        {
         "line": {
          "color": "gray",
          "width": 1
         },
         "mode": "lines",
         "type": "scatter",
         "x": [
          -0.008741227202852623,
          -0.05486937877036051,
          null
         ],
         "y": [
          -0.052161595565536054,
          -0.09384035644336178,
          null
         ]
        },
        {
         "line": {
          "color": "gray",
          "width": 1
         },
         "mode": "lines",
         "type": "scatter",
         "x": [
          -0.008741227202852623,
          -0.014227736832075925,
          null
         ],
         "y": [
          -0.052161595565536054,
          -0.042792972167334124,
          null
         ]
        },
        {
         "line": {
          "color": "gray",
          "width": 1
         },
         "mode": "lines",
         "type": "scatter",
         "x": [
          -0.021197955990192686,
          -0.03864867092112275,
          null
         ],
         "y": [
          -0.05745791917966554,
          -0.019682815850479544,
          null
         ]
        },
        {
         "line": {
          "color": "gray",
          "width": 1
         },
         "mode": "lines",
         "type": "scatter",
         "x": [
          -0.021197955990192686,
          -0.05263513394908113,
          null
         ],
         "y": [
          -0.05745791917966554,
          -0.05959821037374742,
          null
         ]
        },
        {
         "line": {
          "color": "gray",
          "width": 1
         },
         "mode": "lines",
         "type": "scatter",
         "x": [
          -0.021197955990192686,
          0.0774115646929293,
          null
         ],
         "y": [
          -0.05745791917966554,
          -0.07284954976114227,
          null
         ]
        },
        {
         "line": {
          "color": "gray",
          "width": 1
         },
         "mode": "lines",
         "type": "scatter",
         "x": [
          -0.021197955990192686,
          0.011615330354736851,
          null
         ],
         "y": [
          -0.05745791917966554,
          -0.05854674211512732,
          null
         ]
        },
        {
         "line": {
          "color": "gray",
          "width": 1
         },
         "mode": "lines",
         "type": "scatter",
         "x": [
          -0.021197955990192686,
          -0.04162314538694668,
          null
         ],
         "y": [
          -0.05745791917966554,
          -0.14260683343617309,
          null
         ]
        },
        {
         "line": {
          "color": "gray",
          "width": 1
         },
         "mode": "lines",
         "type": "scatter",
         "x": [
          -0.021197955990192686,
          0.010282396206012808,
          null
         ],
         "y": [
          -0.05745791917966554,
          -0.03316240999329074,
          null
         ]
        },
        {
         "line": {
          "color": "gray",
          "width": 1
         },
         "mode": "lines",
         "type": "scatter",
         "x": [
          -0.021197955990192686,
          -0.010645963918469779,
          null
         ],
         "y": [
          -0.05745791917966554,
          0.0033856726588972165,
          null
         ]
        },
        {
         "line": {
          "color": "gray",
          "width": 1
         },
         "mode": "lines",
         "type": "scatter",
         "x": [
          -0.021197955990192686,
          -0.019928570493757194,
          null
         ],
         "y": [
          -0.05745791917966554,
          0.01714806083073243,
          null
         ]
        },
        {
         "line": {
          "color": "gray",
          "width": 1
         },
         "mode": "lines",
         "type": "scatter",
         "x": [
          -0.029477379413069597,
          0.0001290653969096381,
          null
         ],
         "y": [
          -0.08765490073665703,
          -0.009795849825951107,
          null
         ]
        },
        {
         "line": {
          "color": "gray",
          "width": 1
         },
         "mode": "lines",
         "type": "scatter",
         "x": [
          -0.029477379413069597,
          -0.0457296305512359,
          null
         ],
         "y": [
          -0.08765490073665703,
          -0.0493203522666341,
          null
         ]
        },
        {
         "line": {
          "color": "gray",
          "width": 1
         },
         "mode": "lines",
         "type": "scatter",
         "x": [
          0.07117166498280708,
          0.026255346767432592,
          null
         ],
         "y": [
          -0.17162925497425227,
          -0.08630676523103266,
          null
         ]
        },
        {
         "line": {
          "color": "gray",
          "width": 1
         },
         "mode": "lines",
         "type": "scatter",
         "x": [
          -0.03864867092112275,
          -0.044879205105378454,
          null
         ],
         "y": [
          -0.019682815850479544,
          0.05513048090909525,
          null
         ]
        },
        {
         "line": {
          "color": "gray",
          "width": 1
         },
         "mode": "lines",
         "type": "scatter",
         "x": [
          -0.03864867092112275,
          0.011615330354736851,
          null
         ],
         "y": [
          -0.019682815850479544,
          -0.05854674211512732,
          null
         ]
        },
        {
         "line": {
          "color": "gray",
          "width": 1
         },
         "mode": "lines",
         "type": "scatter",
         "x": [
          -0.03864867092112275,
          -0.014227736832075925,
          null
         ],
         "y": [
          -0.019682815850479544,
          -0.042792972167334124,
          null
         ]
        },
        {
         "line": {
          "color": "gray",
          "width": 1
         },
         "mode": "lines",
         "type": "scatter",
         "x": [
          0.026255346767432592,
          0.004594199691265823,
          null
         ],
         "y": [
          -0.08630676523103266,
          -0.09402189801422985,
          null
         ]
        },
        {
         "line": {
          "color": "gray",
          "width": 1
         },
         "mode": "lines",
         "type": "scatter",
         "x": [
          0.026255346767432592,
          0.0001290653969096381,
          null
         ],
         "y": [
          -0.08630676523103266,
          -0.009795849825951107,
          null
         ]
        },
        {
         "line": {
          "color": "gray",
          "width": 1
         },
         "mode": "lines",
         "type": "scatter",
         "x": [
          0.026255346767432592,
          -0.0457296305512359,
          null
         ],
         "y": [
          -0.08630676523103266,
          -0.0493203522666341,
          null
         ]
        },
        {
         "line": {
          "color": "gray",
          "width": 1
         },
         "mode": "lines",
         "type": "scatter",
         "x": [
          0.026255346767432592,
          0.04553561082060511,
          null
         ],
         "y": [
          -0.08630676523103266,
          -0.04292248631664749,
          null
         ]
        },
        {
         "line": {
          "color": "gray",
          "width": 1
         },
         "mode": "lines",
         "type": "scatter",
         "x": [
          0.026255346767432592,
          0.010282396206012808,
          null
         ],
         "y": [
          -0.08630676523103266,
          -0.03316240999329074,
          null
         ]
        },
        {
         "line": {
          "color": "gray",
          "width": 1
         },
         "mode": "lines",
         "type": "scatter",
         "x": [
          -0.05263513394908113,
          -0.12685933992984552,
          null
         ],
         "y": [
          -0.05959821037374742,
          -0.08025122201698884,
          null
         ]
        },
        {
         "line": {
          "color": "gray",
          "width": 1
         },
         "mode": "lines",
         "type": "scatter",
         "x": [
          -0.05263513394908113,
          0.04987082912500304,
          null
         ],
         "y": [
          -0.05959821037374742,
          0.006878244098634228,
          null
         ]
        },
        {
         "line": {
          "color": "gray",
          "width": 1
         },
         "mode": "lines",
         "type": "scatter",
         "x": [
          -0.05263513394908113,
          0.0001290653969096381,
          null
         ],
         "y": [
          -0.05959821037374742,
          -0.009795849825951107,
          null
         ]
        },
        {
         "line": {
          "color": "gray",
          "width": 1
         },
         "mode": "lines",
         "type": "scatter",
         "x": [
          -0.05263513394908113,
          -0.0457296305512359,
          null
         ],
         "y": [
          -0.05959821037374742,
          -0.0493203522666341,
          null
         ]
        },
        {
         "line": {
          "color": "gray",
          "width": 1
         },
         "mode": "lines",
         "type": "scatter",
         "x": [
          -0.05263513394908113,
          -0.014227736832075925,
          null
         ],
         "y": [
          -0.05959821037374742,
          -0.042792972167334124,
          null
         ]
        },
        {
         "line": {
          "color": "gray",
          "width": 1
         },
         "mode": "lines",
         "type": "scatter",
         "x": [
          0.004594199691265823,
          0.025139078558690037,
          null
         ],
         "y": [
          -0.09402189801422985,
          -0.09911169046248985,
          null
         ]
        },
        {
         "line": {
          "color": "gray",
          "width": 1
         },
         "mode": "lines",
         "type": "scatter",
         "x": [
          0.004594199691265823,
          0.011615330354736851,
          null
         ],
         "y": [
          -0.09402189801422985,
          -0.05854674211512732,
          null
         ]
        },
        {
         "line": {
          "color": "gray",
          "width": 1
         },
         "mode": "lines",
         "type": "scatter",
         "x": [
          0.04987082912500304,
          0.10131781002185844,
          null
         ],
         "y": [
          0.006878244098634228,
          0.061712465485757734,
          null
         ]
        },
        {
         "line": {
          "color": "gray",
          "width": 1
         },
         "mode": "lines",
         "type": "scatter",
         "x": [
          0.04987082912500304,
          0.06951420363626727,
          null
         ],
         "y": [
          0.006878244098634228,
          0.0020089009530309242,
          null
         ]
        },
        {
         "line": {
          "color": "gray",
          "width": 1
         },
         "mode": "lines",
         "type": "scatter",
         "x": [
          0.04987082912500304,
          0.1071181977287555,
          null
         ],
         "y": [
          0.006878244098634228,
          -0.04489093937239983,
          null
         ]
        },
        {
         "line": {
          "color": "gray",
          "width": 1
         },
         "mode": "lines",
         "type": "scatter",
         "x": [
          0.04987082912500304,
          -0.010645963918469779,
          null
         ],
         "y": [
          0.006878244098634228,
          0.0033856726588972165,
          null
         ]
        },
        {
         "line": {
          "color": "gray",
          "width": 1
         },
         "mode": "lines",
         "type": "scatter",
         "x": [
          0.04987082912500304,
          0.05326995236169977,
          null
         ],
         "y": [
          0.006878244098634228,
          0.04079751133169319,
          null
         ]
        },
        {
         "line": {
          "color": "gray",
          "width": 1
         },
         "mode": "lines",
         "type": "scatter",
         "x": [
          0.04987082912500304,
          0.07394517690385609,
          null
         ],
         "y": [
          0.006878244098634228,
          0.07788751583557248,
          null
         ]
        },
        {
         "line": {
          "color": "gray",
          "width": 1
         },
         "mode": "lines",
         "type": "scatter",
         "x": [
          0.04376713513072373,
          0.0001290653969096381,
          null
         ],
         "y": [
          -0.06864953316320788,
          -0.009795849825951107,
          null
         ]
        },
        {
         "line": {
          "color": "gray",
          "width": 1
         },
         "mode": "lines",
         "type": "scatter",
         "x": [
          0.10131781002185844,
          0.09610149729481736,
          null
         ],
         "y": [
          0.061712465485757734,
          0.015339971581803686,
          null
         ]
        },
        {
         "line": {
          "color": "gray",
          "width": 1
         },
         "mode": "lines",
         "type": "scatter",
         "x": [
          0.10131781002185844,
          0.03358773897590849,
          null
         ],
         "y": [
          0.061712465485757734,
          0.04392918373511421,
          null
         ]
        },
        {
         "line": {
          "color": "gray",
          "width": 1
         },
         "mode": "lines",
         "type": "scatter",
         "x": [
          0.10131781002185844,
          0.12153820076340302,
          null
         ],
         "y": [
          0.061712465485757734,
          0.11045723472075525,
          null
         ]
        },
        {
         "line": {
          "color": "gray",
          "width": 1
         },
         "mode": "lines",
         "type": "scatter",
         "x": [
          0.09610149729481736,
          0.06951420363626727,
          null
         ],
         "y": [
          0.015339971581803686,
          0.0020089009530309242,
          null
         ]
        },
        {
         "line": {
          "color": "gray",
          "width": 1
         },
         "mode": "lines",
         "type": "scatter",
         "x": [
          0.09610149729481736,
          0.0001290653969096381,
          null
         ],
         "y": [
          0.015339971581803686,
          -0.009795849825951107,
          null
         ]
        },
        {
         "line": {
          "color": "gray",
          "width": 1
         },
         "mode": "lines",
         "type": "scatter",
         "x": [
          0.06951420363626727,
          0.0001290653969096381,
          null
         ],
         "y": [
          0.0020089009530309242,
          -0.009795849825951107,
          null
         ]
        },
        {
         "line": {
          "color": "gray",
          "width": 1
         },
         "mode": "lines",
         "type": "scatter",
         "x": [
          0.06951420363626727,
          0.013997672722655018,
          null
         ],
         "y": [
          0.0020089009530309242,
          0.023564009485678414,
          null
         ]
        },
        {
         "line": {
          "color": "gray",
          "width": 1
         },
         "mode": "lines",
         "type": "scatter",
         "x": [
          0.0001290653969096381,
          -0.0457296305512359,
          null
         ],
         "y": [
          -0.009795849825951107,
          -0.0493203522666341,
          null
         ]
        },
        {
         "line": {
          "color": "gray",
          "width": 1
         },
         "mode": "lines",
         "type": "scatter",
         "x": [
          0.0001290653969096381,
          0.010282396206012808,
          null
         ],
         "y": [
          -0.009795849825951107,
          -0.03316240999329074,
          null
         ]
        },
        {
         "line": {
          "color": "gray",
          "width": 1
         },
         "mode": "lines",
         "type": "scatter",
         "x": [
          0.0001290653969096381,
          -0.07475967057635224,
          null
         ],
         "y": [
          -0.009795849825951107,
          -0.035391740620783804,
          null
         ]
        },
        {
         "line": {
          "color": "gray",
          "width": 1
         },
         "mode": "lines",
         "type": "scatter",
         "x": [
          0.0001290653969096381,
          0.03358773897590849,
          null
         ],
         "y": [
          -0.009795849825951107,
          0.04392918373511421,
          null
         ]
        },
        {
         "line": {
          "color": "gray",
          "width": 1
         },
         "mode": "lines",
         "type": "scatter",
         "x": [
          0.0001290653969096381,
          -0.019928570493757194,
          null
         ],
         "y": [
          -0.009795849825951107,
          0.01714806083073243,
          null
         ]
        },
        {
         "line": {
          "color": "gray",
          "width": 1
         },
         "mode": "lines",
         "type": "scatter",
         "x": [
          0.0001290653969096381,
          0.013997672722655018,
          null
         ],
         "y": [
          -0.009795849825951107,
          0.023564009485678414,
          null
         ]
        },
        {
         "line": {
          "color": "gray",
          "width": 1
         },
         "mode": "lines",
         "type": "scatter",
         "x": [
          0.0001290653969096381,
          -0.008720142567485002,
          null
         ],
         "y": [
          -0.009795849825951107,
          -0.01568299203923696,
          null
         ]
        },
        {
         "line": {
          "color": "gray",
          "width": 1
         },
         "mode": "lines",
         "type": "scatter",
         "x": [
          0.0001290653969096381,
          0.027771597380642894,
          null
         ],
         "y": [
          -0.009795849825951107,
          0.0673059353539396,
          null
         ]
        },
        {
         "line": {
          "color": "gray",
          "width": 1
         },
         "mode": "lines",
         "type": "scatter",
         "x": [
          -0.0457296305512359,
          0.010282396206012808,
          null
         ],
         "y": [
          -0.0493203522666341,
          -0.03316240999329074,
          null
         ]
        },
        {
         "line": {
          "color": "gray",
          "width": 1
         },
         "mode": "lines",
         "type": "scatter",
         "x": [
          -0.0457296305512359,
          -0.07409371248975366,
          null
         ],
         "y": [
          -0.0493203522666341,
          0.018872792165201935,
          null
         ]
        },
        {
         "line": {
          "color": "gray",
          "width": 1
         },
         "mode": "lines",
         "type": "scatter",
         "x": [
          0.1071181977287555,
          0.04553561082060511,
          null
         ],
         "y": [
          -0.04489093937239983,
          -0.04292248631664749,
          null
         ]
        },
        {
         "line": {
          "color": "gray",
          "width": 1
         },
         "mode": "lines",
         "type": "scatter",
         "x": [
          -0.044879205105378454,
          -0.019928570493757194,
          null
         ],
         "y": [
          0.05513048090909525,
          0.01714806083073243,
          null
         ]
        },
        {
         "line": {
          "color": "gray",
          "width": 1
         },
         "mode": "lines",
         "type": "scatter",
         "x": [
          0.04553561082060511,
          0.025139078558690037,
          null
         ],
         "y": [
          -0.04292248631664749,
          -0.09911169046248985,
          null
         ]
        },
        {
         "line": {
          "color": "gray",
          "width": 1
         },
         "mode": "lines",
         "type": "scatter",
         "x": [
          0.04553561082060511,
          0.12891852136337031,
          null
         ],
         "y": [
          -0.04292248631664749,
          -0.09251998326163623,
          null
         ]
        },
        {
         "line": {
          "color": "gray",
          "width": 1
         },
         "mode": "lines",
         "type": "scatter",
         "x": [
          0.04553561082060511,
          0.011615330354736851,
          null
         ],
         "y": [
          -0.04292248631664749,
          -0.05854674211512732,
          null
         ]
        },
        {
         "line": {
          "color": "gray",
          "width": 1
         },
         "mode": "lines",
         "type": "scatter",
         "x": [
          0.04553561082060511,
          -0.019928570493757194,
          null
         ],
         "y": [
          -0.04292248631664749,
          0.01714806083073243,
          null
         ]
        },
        {
         "line": {
          "color": "gray",
          "width": 1
         },
         "mode": "lines",
         "type": "scatter",
         "x": [
          0.025139078558690037,
          0.011615330354736851,
          null
         ],
         "y": [
          -0.09911169046248985,
          -0.05854674211512732,
          null
         ]
        },
        {
         "line": {
          "color": "gray",
          "width": 1
         },
         "mode": "lines",
         "type": "scatter",
         "x": [
          0.011615330354736851,
          0.010282396206012808,
          null
         ],
         "y": [
          -0.05854674211512732,
          -0.03316240999329074,
          null
         ]
        },
        {
         "line": {
          "color": "gray",
          "width": 1
         },
         "mode": "lines",
         "type": "scatter",
         "x": [
          0.011615330354736851,
          0.0434227395395735,
          null
         ],
         "y": [
          -0.05854674211512732,
          -0.013805682413551991,
          null
         ]
        },
        {
         "line": {
          "color": "gray",
          "width": 1
         },
         "mode": "lines",
         "type": "scatter",
         "x": [
          -0.04736754984780746,
          -0.04034712207092415,
          null
         ],
         "y": [
          0.1666204581728637,
          0.07838911253978155,
          null
         ]
        },
        {
         "line": {
          "color": "gray",
          "width": 1
         },
         "mode": "lines",
         "type": "scatter",
         "x": [
          -0.0724212060593034,
          -0.04034712207092415,
          null
         ],
         "y": [
          0.16088599112552743,
          0.07838911253978155,
          null
         ]
        },
        {
         "line": {
          "color": "gray",
          "width": 1
         },
         "mode": "lines",
         "type": "scatter",
         "x": [
          0.07661215859862615,
          0.0025202666754051035,
          null
         ],
         "y": [
          0.04059045805482657,
          0.059597373231644865,
          null
         ]
        },
        {
         "line": {
          "color": "gray",
          "width": 1
         },
         "mode": "lines",
         "type": "scatter",
         "x": [
          0.07661215859862615,
          0.07394517690385609,
          null
         ],
         "y": [
          0.04059045805482657,
          0.07788751583557248,
          null
         ]
        },
        {
         "line": {
          "color": "gray",
          "width": 1
         },
         "mode": "lines",
         "type": "scatter",
         "x": [
          -0.07409371248975366,
          -0.01828027108607692,
          null
         ],
         "y": [
          0.018872792165201935,
          0.06494535333082632,
          null
         ]
        },
        {
         "line": {
          "color": "gray",
          "width": 1
         },
         "mode": "lines",
         "type": "scatter",
         "x": [
          -0.07409371248975366,
          -0.1010006751721729,
          null
         ],
         "y": [
          0.018872792165201935,
          0.007063440623874999,
          null
         ]
        },
        {
         "line": {
          "color": "gray",
          "width": 1
         },
         "mode": "lines",
         "type": "scatter",
         "x": [
          -0.03987595939911223,
          -0.02732241667018175,
          null
         ],
         "y": [
          0.08494012937042902,
          0.05134726877708089,
          null
         ]
        },
        {
         "line": {
          "color": "gray",
          "width": 1
         },
         "mode": "lines",
         "type": "scatter",
         "x": [
          -0.03987595939911223,
          0.0025202666754051035,
          null
         ],
         "y": [
          0.08494012937042902,
          0.059597373231644865,
          null
         ]
        },
        {
         "line": {
          "color": "gray",
          "width": 1
         },
         "mode": "lines",
         "type": "scatter",
         "x": [
          -0.02732241667018175,
          0.0025202666754051035,
          null
         ],
         "y": [
          0.05134726877708089,
          0.059597373231644865,
          null
         ]
        },
        {
         "line": {
          "color": "gray",
          "width": 1
         },
         "mode": "lines",
         "type": "scatter",
         "x": [
          -0.02732241667018175,
          0.07394517690385609,
          null
         ],
         "y": [
          0.05134726877708089,
          0.07788751583557248,
          null
         ]
        },
        {
         "line": {
          "color": "gray",
          "width": 1
         },
         "mode": "lines",
         "type": "scatter",
         "x": [
          -0.02732241667018175,
          0.027771597380642894,
          null
         ],
         "y": [
          0.05134726877708089,
          0.0673059353539396,
          null
         ]
        },
        {
         "line": {
          "color": "gray",
          "width": 1
         },
         "mode": "lines",
         "type": "scatter",
         "x": [
          0.0025202666754051035,
          -0.06479823258549271,
          null
         ],
         "y": [
          0.059597373231644865,
          0.029048344904688644,
          null
         ]
        },
        {
         "line": {
          "color": "gray",
          "width": 1
         },
         "mode": "lines",
         "type": "scatter",
         "x": [
          0.0025202666754051035,
          -0.01828027108607692,
          null
         ],
         "y": [
          0.059597373231644865,
          0.06494535333082632,
          null
         ]
        },
        {
         "line": {
          "color": "gray",
          "width": 1
         },
         "mode": "lines",
         "type": "scatter",
         "x": [
          0.0025202666754051035,
          -0.010645963918469779,
          null
         ],
         "y": [
          0.059597373231644865,
          0.0033856726588972165,
          null
         ]
        },
        {
         "line": {
          "color": "gray",
          "width": 1
         },
         "mode": "lines",
         "type": "scatter",
         "x": [
          0.0025202666754051035,
          0.019488692259275686,
          null
         ],
         "y": [
          0.059597373231644865,
          0.15362486181546753,
          null
         ]
        },
        {
         "line": {
          "color": "gray",
          "width": 1
         },
         "mode": "lines",
         "type": "scatter",
         "x": [
          0.0025202666754051035,
          -0.014227736832075925,
          null
         ],
         "y": [
          0.059597373231644865,
          -0.042792972167334124,
          null
         ]
        },
        {
         "line": {
          "color": "gray",
          "width": 1
         },
         "mode": "lines",
         "type": "scatter",
         "x": [
          -0.06479823258549271,
          -0.010645963918469779,
          null
         ],
         "y": [
          0.029048344904688644,
          0.0033856726588972165,
          null
         ]
        },
        {
         "line": {
          "color": "gray",
          "width": 1
         },
         "mode": "lines",
         "type": "scatter",
         "x": [
          -0.06479823258549271,
          -0.019928570493757194,
          null
         ],
         "y": [
          0.029048344904688644,
          0.01714806083073243,
          null
         ]
        },
        {
         "line": {
          "color": "gray",
          "width": 1
         },
         "mode": "lines",
         "type": "scatter",
         "x": [
          -0.1651602679450892,
          -0.07475967057635224,
          null
         ],
         "y": [
          -0.04866897727482697,
          -0.035391740620783804,
          null
         ]
        },
        {
         "line": {
          "color": "gray",
          "width": 1
         },
         "mode": "lines",
         "type": "scatter",
         "x": [
          -0.07475967057635224,
          -0.010645963918469779,
          null
         ],
         "y": [
          -0.035391740620783804,
          0.0033856726588972165,
          null
         ]
        },
        {
         "line": {
          "color": "gray",
          "width": 1
         },
         "mode": "lines",
         "type": "scatter",
         "x": [
          -0.07475967057635224,
          -0.1111167862361388,
          null
         ],
         "y": [
          -0.035391740620783804,
          -0.0855111738776797,
          null
         ]
        },
        {
         "line": {
          "color": "gray",
          "width": 1
         },
         "mode": "lines",
         "type": "scatter",
         "x": [
          -0.07475967057635224,
          -0.014227736832075925,
          null
         ],
         "y": [
          -0.035391740620783804,
          -0.042792972167334124,
          null
         ]
        },
        {
         "line": {
          "color": "gray",
          "width": 1
         },
         "mode": "lines",
         "type": "scatter",
         "x": [
          -0.01828027108607692,
          0.03358773897590849,
          null
         ],
         "y": [
          0.06494535333082632,
          0.04392918373511421,
          null
         ]
        },
        {
         "line": {
          "color": "gray",
          "width": 1
         },
         "mode": "lines",
         "type": "scatter",
         "x": [
          -0.01828027108607692,
          -0.019928570493757194,
          null
         ],
         "y": [
          0.06494535333082632,
          0.01714806083073243,
          null
         ]
        },
        {
         "line": {
          "color": "gray",
          "width": 1
         },
         "mode": "lines",
         "type": "scatter",
         "x": [
          -0.01828027108607692,
          0.013997672722655018,
          null
         ],
         "y": [
          0.06494535333082632,
          0.023564009485678414,
          null
         ]
        },
        {
         "line": {
          "color": "gray",
          "width": 1
         },
         "mode": "lines",
         "type": "scatter",
         "x": [
          -0.01828027108607692,
          -0.04034712207092415,
          null
         ],
         "y": [
          0.06494535333082632,
          0.07838911253978155,
          null
         ]
        },
        {
         "line": {
          "color": "gray",
          "width": 1
         },
         "mode": "lines",
         "type": "scatter",
         "x": [
          -0.07000909473175272,
          -0.019928570493757194,
          null
         ],
         "y": [
          0.08978340239526758,
          0.01714806083073243,
          null
         ]
        },
        {
         "line": {
          "color": "gray",
          "width": 1
         },
         "mode": "lines",
         "type": "scatter",
         "x": [
          -0.010645963918469779,
          0.0434227395395735,
          null
         ],
         "y": [
          0.0033856726588972165,
          -0.013805682413551991,
          null
         ]
        },
        {
         "line": {
          "color": "gray",
          "width": 1
         },
         "mode": "lines",
         "type": "scatter",
         "x": [
          -0.010645963918469779,
          0.013997672722655018,
          null
         ],
         "y": [
          0.0033856726588972165,
          0.023564009485678414,
          null
         ]
        },
        {
         "line": {
          "color": "gray",
          "width": 1
         },
         "mode": "lines",
         "type": "scatter",
         "x": [
          -0.1010006751721729,
          -0.008720142567485002,
          null
         ],
         "y": [
          0.007063440623874999,
          -0.01568299203923696,
          null
         ]
        },
        {
         "line": {
          "color": "gray",
          "width": 1
         },
         "mode": "lines",
         "type": "scatter",
         "x": [
          0.03358773897590849,
          0.05810657203436433,
          null
         ],
         "y": [
          0.04392918373511421,
          0.08959700631000932,
          null
         ]
        },
        {
         "line": {
          "color": "gray",
          "width": 1
         },
         "mode": "lines",
         "type": "scatter",
         "x": [
          0.03358773897590849,
          0.0434227395395735,
          null
         ],
         "y": [
          0.04392918373511421,
          -0.013805682413551991,
          null
         ]
        },
        {
         "line": {
          "color": "gray",
          "width": 1
         },
         "mode": "lines",
         "type": "scatter",
         "x": [
          0.03358773897590849,
          0.12153820076340302,
          null
         ],
         "y": [
          0.04392918373511421,
          0.11045723472075525,
          null
         ]
        },
        {
         "line": {
          "color": "gray",
          "width": 1
         },
         "mode": "lines",
         "type": "scatter",
         "x": [
          0.03358773897590849,
          -0.014227736832075925,
          null
         ],
         "y": [
          0.04392918373511421,
          -0.042792972167334124,
          null
         ]
        },
        {
         "line": {
          "color": "gray",
          "width": 1
         },
         "mode": "lines",
         "type": "scatter",
         "x": [
          0.03358773897590849,
          -0.04034712207092415,
          null
         ],
         "y": [
          0.04392918373511421,
          0.07838911253978155,
          null
         ]
        },
        {
         "line": {
          "color": "gray",
          "width": 1
         },
         "mode": "lines",
         "type": "scatter",
         "x": [
          -0.019928570493757194,
          0.013997672722655018,
          null
         ],
         "y": [
          0.01714806083073243,
          0.023564009485678414,
          null
         ]
        },
        {
         "line": {
          "color": "gray",
          "width": 1
         },
         "mode": "lines",
         "type": "scatter",
         "x": [
          -0.019928570493757194,
          -0.014227736832075925,
          null
         ],
         "y": [
          0.01714806083073243,
          -0.042792972167334124,
          null
         ]
        },
        {
         "line": {
          "color": "gray",
          "width": 1
         },
         "mode": "lines",
         "type": "scatter",
         "x": [
          0.05810657203436433,
          0.013997672722655018,
          null
         ],
         "y": [
          0.08959700631000932,
          0.023564009485678414,
          null
         ]
        },
        {
         "line": {
          "color": "gray",
          "width": 1
         },
         "mode": "lines",
         "type": "scatter",
         "x": [
          0.0434227395395735,
          0.013997672722655018,
          null
         ],
         "y": [
          -0.013805682413551991,
          0.023564009485678414,
          null
         ]
        },
        {
         "line": {
          "color": "gray",
          "width": 1
         },
         "mode": "lines",
         "type": "scatter",
         "x": [
          0.0434227395395735,
          -0.008720142567485002,
          null
         ],
         "y": [
          -0.013805682413551991,
          -0.01568299203923696,
          null
         ]
        },
        {
         "line": {
          "color": "gray",
          "width": 1
         },
         "mode": "lines",
         "type": "scatter",
         "x": [
          0.05326995236169977,
          0.07394517690385609,
          null
         ],
         "y": [
          0.04079751133169319,
          0.07788751583557248,
          null
         ]
        },
        {
         "line": {
          "color": "gray",
          "width": 1
         },
         "mode": "lines",
         "type": "scatter",
         "x": [
          0.12153820076340302,
          0.18525249429876803,
          null
         ],
         "y": [
          0.11045723472075525,
          0.16577244105824285,
          null
         ]
        },
        {
         "line": {
          "color": "gray",
          "width": 1
         },
         "mode": "lines",
         "type": "scatter",
         "x": [
          0.013997672722655018,
          -0.014227736832075925,
          null
         ],
         "y": [
          0.023564009485678414,
          -0.042792972167334124,
          null
         ]
        },
        {
         "line": {
          "color": "gray",
          "width": 1
         },
         "mode": "lines",
         "type": "scatter",
         "x": [
          0.14458798010317703,
          0.07394517690385609,
          null
         ],
         "y": [
          0.13266667702907345,
          0.07788751583557248,
          null
         ]
        },
        {
         "line": {
          "color": "gray",
          "width": 1
         },
         "mode": "lines",
         "type": "scatter",
         "x": [
          -0.10687927509769043,
          -0.07591352271614883,
          null
         ],
         "y": [
          -0.20576695390072822,
          -0.12629464524415931,
          null
         ]
        },
        {
         "line": {
          "color": "gray",
          "width": 1
         },
         "mode": "lines",
         "type": "scatter",
         "x": [
          -0.145631153558427,
          -0.07591352271614883,
          null
         ],
         "y": [
          -0.20361638138164276,
          -0.12629464524415931,
          null
         ]
        },
        {
         "line": {
          "color": "gray",
          "width": 1
         },
         "mode": "lines",
         "type": "scatter",
         "x": [
          0.07193831294249597,
          -0.008720142567485002,
          null
         ],
         "y": [
          -0.0369233882813717,
          -0.01568299203923696,
          null
         ]
        },
        {
         "line": {
          "color": "gray",
          "width": 1
         },
         "mode": "lines",
         "type": "scatter",
         "x": [
          -0.07591352271614883,
          -0.014227736832075925,
          null
         ],
         "y": [
          -0.12629464524415931,
          -0.042792972167334124,
          null
         ]
        },
        {
         "line": {
          "color": "gray",
          "width": 1
         },
         "mode": "lines",
         "type": "scatter",
         "x": [
          -0.1111167862361388,
          -0.17537211489142937,
          null
         ],
         "y": [
          -0.0855111738776797,
          -0.14657865578170973,
          null
         ]
        },
        {
         "line": {
          "color": "gray",
          "width": 1
         },
         "mode": "lines",
         "type": "scatter",
         "x": [
          0.030660582465032775,
          -0.014227736832075925,
          null
         ],
         "y": [
          -0.12893744267336407,
          -0.042792972167334124,
          null
         ]
        },
        {
         "line": {
          "color": "gray",
          "width": 1
         },
         "mode": "lines",
         "type": "scatter",
         "x": [
          -0.008720142567485002,
          -0.014227736832075925,
          null
         ],
         "y": [
          -0.01568299203923696,
          -0.042792972167334124,
          null
         ]
        },
        {
         "line": {
          "color": "gray",
          "width": 1
         },
         "mode": "lines",
         "type": "scatter",
         "x": [
          -0.24238267142402034,
          -0.19030177482821692,
          null
         ],
         "y": [
          0.07680432909967369,
          0.01693100965465017,
          null
         ]
        },
        {
         "line": {
          "color": "gray",
          "width": 1
         },
         "mode": "lines",
         "type": "scatter",
         "x": [
          -0.19030177482821692,
          -0.26891976242640364,
          null
         ],
         "y": [
          0.01693100965465017,
          0.02573012544497747,
          null
         ]
        },
        {
         "line": {
          "color": "gray",
          "width": 1
         },
         "mode": "lines",
         "type": "scatter",
         "x": [
          -0.14264001235151016,
          -0.10315772287157868,
          null
         ],
         "y": [
          0.18353083322846483,
          0.18423094523925546,
          null
         ]
        },
        {
         "line": {
          "color": "gray",
          "width": 1
         },
         "mode": "lines",
         "type": "scatter",
         "x": [
          -0.23771763707034307,
          -0.17537211489142937,
          null
         ],
         "y": [
          -0.19560303631880813,
          -0.14657865578170973,
          null
         ]
        },
        {
         "line": {
          "color": "gray",
          "width": 1
         },
         "mode": "lines",
         "type": "scatter",
         "x": [
          0.01893774073437846,
          -0.014227736832075925,
          null
         ],
         "y": [
          -0.12349507362768782,
          -0.042792972167334124,
          null
         ]
        },
        {
         "hoverinfo": "text",
         "hovertext": [],
         "marker": {
          "color": [
           0,
           0,
           1,
           2,
           3,
           8,
           8,
           5,
           5,
           6,
           7,
           8,
           9,
           10,
           10,
           10,
           0,
           13,
           8,
           8,
           12,
           13,
           14,
           15,
           8,
           16,
           17,
           0,
           18,
           0,
           13,
           0,
           13,
           0,
           19,
           13,
           20,
           21,
           8,
           8,
           8,
           8,
           22,
           23,
           13,
           24,
           13,
           13,
           13,
           5,
           8,
           13,
           0,
           26,
           0,
           27,
           0,
           27,
           28,
           29,
           8,
           8,
           5,
           5,
           9,
           9,
           9,
           9,
           30,
           31,
           32,
           31,
           31,
           31,
           0,
           33,
           5,
           31,
           34,
           8,
           8,
           31,
           9,
           35,
           9,
           36,
           31,
           9,
           13,
           31,
           8,
           8,
           31,
           9,
           31,
           31,
           13,
           27,
           37,
           7,
           7,
           7,
           7,
           7,
           13,
           27,
           8,
           38,
           8,
           39,
           31,
           31,
           31,
           31,
           9,
           7,
           7,
           13,
           40,
           27,
           13,
           41,
           27,
           42,
           27,
           43,
           27,
           27,
           44,
           27,
           8,
           27,
           7,
           7,
           27,
           13,
           45,
           7,
           7,
           7,
           46,
           7,
           47,
           8,
           27,
           7,
           7,
           27,
           48,
           14,
           14,
           49,
           50,
           13,
           14,
           51,
           27,
           14,
           0,
           31,
           27,
           13,
           5,
           5,
           5,
           5,
           27,
           13,
           14,
           14,
           0,
           0,
           7,
           7,
           52,
           53,
           13,
           54,
           27,
           4,
           25,
           11
          ],
          "size": 7,
          "symbol": [
           true,
           true,
           true,
           true,
           true,
           true,
           true,
           true,
           true,
           true,
           true,
           true,
           true,
           true,
           true,
           true,
           true,
           false,
           true,
           true,
           true,
           true,
           true,
           true,
           true,
           true,
           true,
           true,
           true,
           false,
           true,
           true,
           true,
           true,
           true,
           true,
           true,
           true,
           true,
           true,
           true,
           true,
           true,
           true,
           true,
           true,
           true,
           true,
           true,
           true,
           true,
           true,
           true,
           true,
           false,
           true,
           true,
           false,
           false,
           false,
           true,
           true,
           false,
           false,
           false,
           false,
           true,
           false,
           false,
           false,
           true,
           false,
           false,
           false,
           true,
           true,
           true,
           false,
           true,
           true,
           true,
           false,
           false,
           true,
           true,
           false,
           false,
           false,
           true,
           true,
           true,
           true,
           true,
           false,
           false,
           true,
           true,
           false,
           true,
           false,
           false,
           true,
           true,
           true,
           false,
           false,
           false,
           true,
           true,
           true,
           true,
           true,
           true,
           false,
           false,
           true,
           true,
           true,
           false,
           true,
           true,
           true,
           true,
           true,
           true,
           true,
           true,
           true,
           true,
           true,
           true,
           true,
           true,
           true,
           true,
           false,
           true,
           true,
           true,
           true,
           true,
           true,
           true,
           true,
           true,
           true,
           true,
           true,
           true,
           true,
           true,
           true,
           true,
           true,
           true,
           false,
           false,
           true,
           true,
           true,
           false,
           true,
           true,
           true,
           true,
           true,
           true,
           true,
           true,
           true,
           true,
           true,
           true,
           true,
           false,
           true,
           true,
           true,
           true,
           true,
           true,
           true
          ]
         },
         "mode": "markers+text",
         "text": [
          1,
          2,
          3,
          4,
          5,
          6,
          7,
          8,
          9,
          10,
          12,
          13,
          14,
          15,
          16,
          17,
          18,
          19,
          20,
          21,
          22,
          23,
          24,
          25,
          26,
          27,
          28,
          29,
          30,
          31,
          32,
          33,
          34,
          35,
          36,
          37,
          38,
          39,
          40,
          41,
          42,
          43,
          44,
          45,
          46,
          47,
          48,
          49,
          50,
          51,
          52,
          53,
          54,
          55,
          56,
          57,
          58,
          59,
          60,
          61,
          62,
          63,
          64,
          65,
          66,
          67,
          68,
          69,
          70,
          71,
          72,
          73,
          74,
          75,
          76,
          77,
          78,
          79,
          80,
          81,
          82,
          83,
          84,
          85,
          86,
          87,
          88,
          89,
          90,
          91,
          92,
          93,
          94,
          95,
          96,
          97,
          98,
          99,
          100,
          101,
          102,
          103,
          104,
          105,
          106,
          107,
          108,
          109,
          110,
          111,
          112,
          113,
          114,
          115,
          116,
          117,
          118,
          119,
          120,
          121,
          122,
          123,
          124,
          125,
          126,
          127,
          128,
          129,
          130,
          131,
          132,
          133,
          134,
          135,
          136,
          137,
          138,
          139,
          140,
          141,
          142,
          143,
          144,
          145,
          146,
          147,
          148,
          149,
          150,
          151,
          152,
          153,
          154,
          155,
          156,
          157,
          158,
          159,
          160,
          161,
          162,
          163,
          164,
          165,
          166,
          167,
          168,
          169,
          170,
          171,
          172,
          173,
          174,
          175,
          176,
          177,
          178,
          179,
          180,
          181,
          182,
          183
         ],
         "textfont": {
          "size": 10
         },
         "textposition": "top center",
         "type": "scatter",
         "x": [
          -0.3053760958066823,
          -0.22404975802749885,
          -0.8460726474119991,
          0.8153934010098806,
          -0.9112763974057712,
          0.061791127260509754,
          -0.009180985662586313,
          -0.06693900131063761,
          -0.08804532379546319,
          0.2592342243671997,
          0.13200760665754493,
          0.11621326154039684,
          -0.0794855717564741,
          -0.4300141956573331,
          -0.41178667662976753,
          -0.44002254048774203,
          -0.045281032811381586,
          -0.04187014971520882,
          0.10820897454186144,
          0.0015278539225428854,
          0.959854830198676,
          0.08371216576816881,
          -0.20078387442587295,
          0.7538742276376227,
          0.1555940606896626,
          0.1748935785420223,
          -0.995150148768681,
          -0.08381668522625493,
          0.819618751084368,
          -0.04693379500878188,
          -0.0021202113048160364,
          -0.09684023773393201,
          -0.10477488681114928,
          -0.04873641669103811,
          0.6524808924704697,
          -0.028291159232216964,
          -0.2820247504249469,
          0.7283535136156903,
          0.018104449610882176,
          0.06147699325087198,
          0.020987852873670658,
          0.15716295156561405,
          0.059812246572723694,
          0.7180597580594229,
          -0.11370880102418561,
          -0.8698766620985164,
          -0.11564356156424464,
          -0.17928444227353182,
          -0.2026214629779173,
          -0.20554303658417883,
          0.0052989787136488815,
          -0.058959917616266316,
          0.056422968164944465,
          0.982312751788167,
          -0.004626957269381648,
          -0.09376888392804339,
          0.054916386339231835,
          -0.06835275509217535,
          -0.5115266472047848,
          -0.6364635896177538,
          -0.06416023768320575,
          -0.09654035607563576,
          -0.09210520075352743,
          -0.059435136558095625,
          -0.05737947060015543,
          -0.06222111600024904,
          -0.11657320263482822,
          -0.030352431502559483,
          0.7978660537188003,
          -0.027032038640550888,
          0.5993506541045837,
          -0.05944785158417491,
          -0.1362666086176126,
          0.00665208288341612,
          -0.3038410075499461,
          -0.14699229286897048,
          -0.09778162613036662,
          -0.021516912944154,
          -0.740948883005318,
          0.2003910368912326,
          0.2786406242445685,
          0.0015666838803731872,
          -0.10454006771260613,
          0.16804910884950428,
          -0.0932236090725361,
          -0.8320257398153657,
          -0.008741227202852623,
          -0.021197955990192686,
          -0.029477379413069597,
          0.07117166498280708,
          -0.03864867092112275,
          0.12230726591278249,
          0.026255346767432592,
          -0.05263513394908113,
          0.04079193564111641,
          0.004594199691265823,
          -0.12685933992984552,
          0.04987082912500304,
          0.9168293411680727,
          0.04376713513072373,
          0.10131781002185844,
          0.09610149729481736,
          0.06951420363626727,
          0.0001290653969096381,
          -0.0457296305512359,
          0.1071181977287555,
          0.0774115646929293,
          -0.987768094845489,
          -0.044879205105378454,
          0.8919367045827171,
          0.04553561082060511,
          0.025139078558690037,
          0.12891852136337031,
          0.011615330354736851,
          -0.04162314538694668,
          -0.04736754984780746,
          -0.0724212060593034,
          0.010282396206012808,
          0.7469524999392215,
          0.07661215859862615,
          -0.07409371248975366,
          -0.09854816723345655,
          -0.03987595939911223,
          -0.9555407662307855,
          -0.02732241667018175,
          0.9644592856403443,
          0.0025202666754051035,
          -0.06479823258549271,
          0.5808915777253123,
          -0.1651602679450892,
          0.06209695945940719,
          -0.07475967057635224,
          -0.01828027108607692,
          -0.07000909473175272,
          -0.010645963918469779,
          -0.1010006751721729,
          0.41131175853018903,
          0.03358773897590849,
          -0.019928570493757194,
          0.05810657203436433,
          -0.9102751332901838,
          0.0434227395395735,
          0.6464074052690455,
          0.02131572481172959,
          0.05326995236169977,
          0.12153820076340302,
          0.013997672722655018,
          0.14458798010317703,
          0.8945140789454078,
          -0.10687927509769043,
          -0.145631153558427,
          0.8594334447462828,
          0.47973194400812724,
          0.07193831294249597,
          -0.07591352271614883,
          0.4900361548298159,
          -0.1111167862361388,
          -0.23265957039174143,
          0.030660582465032775,
          -0.05486937877036051,
          0.07394517690385609,
          -0.008720142567485002,
          -0.24238267142402034,
          -0.2696080924983311,
          -0.19030177482821692,
          -0.26891976242640364,
          0.019488692259275686,
          -0.14264001235151016,
          -0.23771763707034307,
          -0.17537211489142937,
          0.01893774073437846,
          -0.014227736832075925,
          -0.04034712207092415,
          0.18525249429876803,
          0.37746818881712424,
          0.5548685203303388,
          -0.10315772287157868,
          -0.9782437434155061,
          0.027771597380642894,
          -0.3154254811011125,
          -0.29635935499565896,
          -0.7658496254596115
         ],
         "y": [
          0.02150759264947384,
          0.013729774109609074,
          -0.5974026422814003,
          -0.15317412529242982,
          -0.44464104677540306,
          0.023011458639723016,
          0.05657566187490757,
          0.10637644982316133,
          0.19593605423896548,
          -0.9178083135006646,
          -0.009899040883356984,
          -0.035839240408858275,
          -0.24601983764869892,
          0.7775570503055733,
          0.7287137995187184,
          0.7365218191590223,
          0.2013753432840776,
          0.018683362037641062,
          -0.02091763432526841,
          0.032095756877487995,
          0.27776157978763266,
          -0.1018317841441478,
          -0.23498798272216262,
          0.5400027765280935,
          0.0343958959597091,
          -0.9847042350828416,
          -0.22273740735737038,
          0.01925354355745625,
          -0.6766205617913328,
          0.11040733591348802,
          -0.024030476140154532,
          -0.031123440093827864,
          0.10948398238217412,
          0.04157129093663556,
          -0.604248338222189,
          0.009747813033545508,
          -0.9901263548723983,
          -0.662023736971341,
          0.07742354705173135,
          -0.0109473117103224,
          -0.03349462325112218,
          -0.002316498157844949,
          1,
          0.7136801665165986,
          -0.11628416517433651,
          -0.256528364958705,
          -0.0467437664135677,
          -0.0886118690711603,
          -0.062259939047365834,
          0.11655185754107686,
          0.004710248960822736,
          -0.043017294594320236,
          -0.042684498274881105,
          0.0905681485848573,
          -0.08607589167284066,
          -0.01256423484152044,
          -0.08894462048653747,
          0.0007324174525530838,
          0.8538763297521264,
          0.710875432519793,
          -0.030488963175715905,
          -0.09379853420250263,
          0.1046607621423927,
          0.013562129586326651,
          -0.24764055838390642,
          -0.16230485490355812,
          -0.02811514811153593,
          -0.1538109170608293,
          -0.5085295330153202,
          -0.06945797406197159,
          0.6397731961968997,
          0.04177282681198829,
          0.09520741562189973,
          -0.15095276344136388,
          -0.0014446213154711166,
          0.9410628702202207,
          0.07171137727518094,
          -0.018665010061002088,
          0.6784407998019373,
          -0.003731233742453892,
          -8.10548916527114e-05,
          -0.06968905573605497,
          -0.13884633225290569,
          0.9361629695077819,
          -0.07236604843832767,
          0.5862216858755228,
          -0.052161595565536054,
          -0.05745791917966554,
          -0.08765490073665703,
          -0.17162925497425227,
          -0.019682815850479544,
          0.022363225319855483,
          -0.08630676523103266,
          -0.05959821037374742,
          -0.14318122502558658,
          -0.09402189801422985,
          -0.08025122201698884,
          0.006878244098634228,
          -0.06292105586316739,
          -0.06864953316320788,
          0.061712465485757734,
          0.015339971581803686,
          0.0020089009530309242,
          -0.009795849825951107,
          -0.0493203522666341,
          -0.04489093937239983,
          -0.07284954976114227,
          0.2525917073416124,
          0.05513048090909525,
          -0.32870860489628606,
          -0.04292248631664749,
          -0.09911169046248985,
          -0.09251998326163623,
          -0.05854674211512732,
          -0.14260683343617309,
          0.1666204581728637,
          0.16088599112552743,
          -0.03316240999329074,
          -0.44984171384062377,
          0.04059045805482657,
          0.018872792165201935,
          -0.9987402796037296,
          0.08494012937042902,
          0.3847151077104066,
          0.05134726877708089,
          -0.22999117735039737,
          0.059597373231644865,
          0.029048344904688644,
          0.7979272146469352,
          -0.04866897727482697,
          0.1574149775775943,
          -0.035391740620783804,
          0.06494535333082632,
          0.08978340239526758,
          0.0033856726588972165,
          0.007063440623874999,
          -0.9650190289772987,
          0.04392918373511421,
          0.01714806083073243,
          0.08959700631000932,
          0.07879093666576624,
          -0.013805682413551991,
          -0.763252368660861,
          0.1402090819296962,
          0.04079751133169319,
          0.11045723472075525,
          0.023564009485678414,
          0.13266667702907345,
          -0.45909064620834245,
          -0.20576695390072822,
          -0.20361638138164276,
          0.44892060420064084,
          0.7913492350047591,
          -0.0369233882813717,
          -0.12629464524415931,
          -0.907005196029077,
          -0.0855111738776797,
          -0.30148113841859414,
          -0.12893744267336407,
          -0.09384035644336178,
          0.07788751583557248,
          -0.01568299203923696,
          0.07680432909967369,
          0.16373302153150518,
          0.01693100965465017,
          0.02573012544497747,
          0.15362486181546753,
          0.18353083322846483,
          -0.19560303631880813,
          -0.14657865578170973,
          -0.12349507362768782,
          -0.042792972167334124,
          0.07838911253978155,
          0.16577244105824285,
          0.91065768779736,
          -0.8386854408921305,
          0.18423094523925546,
          0.14029333516226658,
          0.0673059353539396,
          0.9326829870720411,
          -0.9087416447529924,
          0.5213726388957837
         ]
        }
       ],
       "layout": {
        "autosize": false,
        "height": 1000,
        "showlegend": false,
        "template": {
         "data": {
          "bar": [
           {
            "error_x": {
             "color": "#2a3f5f"
            },
            "error_y": {
             "color": "#2a3f5f"
            },
            "marker": {
             "line": {
              "color": "#E5ECF6",
              "width": 0.5
             }
            },
            "type": "bar"
           }
          ],
          "barpolar": [
           {
            "marker": {
             "line": {
              "color": "#E5ECF6",
              "width": 0.5
             }
            },
            "type": "barpolar"
           }
          ],
          "carpet": [
           {
            "aaxis": {
             "endlinecolor": "#2a3f5f",
             "gridcolor": "white",
             "linecolor": "white",
             "minorgridcolor": "white",
             "startlinecolor": "#2a3f5f"
            },
            "baxis": {
             "endlinecolor": "#2a3f5f",
             "gridcolor": "white",
             "linecolor": "white",
             "minorgridcolor": "white",
             "startlinecolor": "#2a3f5f"
            },
            "type": "carpet"
           }
          ],
          "choropleth": [
           {
            "colorbar": {
             "outlinewidth": 0,
             "ticks": ""
            },
            "type": "choropleth"
           }
          ],
          "contour": [
           {
            "colorbar": {
             "outlinewidth": 0,
             "ticks": ""
            },
            "colorscale": [
             [
              0,
              "#0d0887"
             ],
             [
              0.1111111111111111,
              "#46039f"
             ],
             [
              0.2222222222222222,
              "#7201a8"
             ],
             [
              0.3333333333333333,
              "#9c179e"
             ],
             [
              0.4444444444444444,
              "#bd3786"
             ],
             [
              0.5555555555555556,
              "#d8576b"
             ],
             [
              0.6666666666666666,
              "#ed7953"
             ],
             [
              0.7777777777777778,
              "#fb9f3a"
             ],
             [
              0.8888888888888888,
              "#fdca26"
             ],
             [
              1,
              "#f0f921"
             ]
            ],
            "type": "contour"
           }
          ],
          "contourcarpet": [
           {
            "colorbar": {
             "outlinewidth": 0,
             "ticks": ""
            },
            "type": "contourcarpet"
           }
          ],
          "heatmap": [
           {
            "colorbar": {
             "outlinewidth": 0,
             "ticks": ""
            },
            "colorscale": [
             [
              0,
              "#0d0887"
             ],
             [
              0.1111111111111111,
              "#46039f"
             ],
             [
              0.2222222222222222,
              "#7201a8"
             ],
             [
              0.3333333333333333,
              "#9c179e"
             ],
             [
              0.4444444444444444,
              "#bd3786"
             ],
             [
              0.5555555555555556,
              "#d8576b"
             ],
             [
              0.6666666666666666,
              "#ed7953"
             ],
             [
              0.7777777777777778,
              "#fb9f3a"
             ],
             [
              0.8888888888888888,
              "#fdca26"
             ],
             [
              1,
              "#f0f921"
             ]
            ],
            "type": "heatmap"
           }
          ],
          "heatmapgl": [
           {
            "colorbar": {
             "outlinewidth": 0,
             "ticks": ""
            },
            "colorscale": [
             [
              0,
              "#0d0887"
             ],
             [
              0.1111111111111111,
              "#46039f"
             ],
             [
              0.2222222222222222,
              "#7201a8"
             ],
             [
              0.3333333333333333,
              "#9c179e"
             ],
             [
              0.4444444444444444,
              "#bd3786"
             ],
             [
              0.5555555555555556,
              "#d8576b"
             ],
             [
              0.6666666666666666,
              "#ed7953"
             ],
             [
              0.7777777777777778,
              "#fb9f3a"
             ],
             [
              0.8888888888888888,
              "#fdca26"
             ],
             [
              1,
              "#f0f921"
             ]
            ],
            "type": "heatmapgl"
           }
          ],
          "histogram": [
           {
            "marker": {
             "colorbar": {
              "outlinewidth": 0,
              "ticks": ""
             }
            },
            "type": "histogram"
           }
          ],
          "histogram2d": [
           {
            "colorbar": {
             "outlinewidth": 0,
             "ticks": ""
            },
            "colorscale": [
             [
              0,
              "#0d0887"
             ],
             [
              0.1111111111111111,
              "#46039f"
             ],
             [
              0.2222222222222222,
              "#7201a8"
             ],
             [
              0.3333333333333333,
              "#9c179e"
             ],
             [
              0.4444444444444444,
              "#bd3786"
             ],
             [
              0.5555555555555556,
              "#d8576b"
             ],
             [
              0.6666666666666666,
              "#ed7953"
             ],
             [
              0.7777777777777778,
              "#fb9f3a"
             ],
             [
              0.8888888888888888,
              "#fdca26"
             ],
             [
              1,
              "#f0f921"
             ]
            ],
            "type": "histogram2d"
           }
          ],
          "histogram2dcontour": [
           {
            "colorbar": {
             "outlinewidth": 0,
             "ticks": ""
            },
            "colorscale": [
             [
              0,
              "#0d0887"
             ],
             [
              0.1111111111111111,
              "#46039f"
             ],
             [
              0.2222222222222222,
              "#7201a8"
             ],
             [
              0.3333333333333333,
              "#9c179e"
             ],
             [
              0.4444444444444444,
              "#bd3786"
             ],
             [
              0.5555555555555556,
              "#d8576b"
             ],
             [
              0.6666666666666666,
              "#ed7953"
             ],
             [
              0.7777777777777778,
              "#fb9f3a"
             ],
             [
              0.8888888888888888,
              "#fdca26"
             ],
             [
              1,
              "#f0f921"
             ]
            ],
            "type": "histogram2dcontour"
           }
          ],
          "mesh3d": [
           {
            "colorbar": {
             "outlinewidth": 0,
             "ticks": ""
            },
            "type": "mesh3d"
           }
          ],
          "parcoords": [
           {
            "line": {
             "colorbar": {
              "outlinewidth": 0,
              "ticks": ""
             }
            },
            "type": "parcoords"
           }
          ],
          "pie": [
           {
            "automargin": true,
            "type": "pie"
           }
          ],
          "scatter": [
           {
            "marker": {
             "colorbar": {
              "outlinewidth": 0,
              "ticks": ""
             }
            },
            "type": "scatter"
           }
          ],
          "scatter3d": [
           {
            "line": {
             "colorbar": {
              "outlinewidth": 0,
              "ticks": ""
             }
            },
            "marker": {
             "colorbar": {
              "outlinewidth": 0,
              "ticks": ""
             }
            },
            "type": "scatter3d"
           }
          ],
          "scattercarpet": [
           {
            "marker": {
             "colorbar": {
              "outlinewidth": 0,
              "ticks": ""
             }
            },
            "type": "scattercarpet"
           }
          ],
          "scattergeo": [
           {
            "marker": {
             "colorbar": {
              "outlinewidth": 0,
              "ticks": ""
             }
            },
            "type": "scattergeo"
           }
          ],
          "scattergl": [
           {
            "marker": {
             "colorbar": {
              "outlinewidth": 0,
              "ticks": ""
             }
            },
            "type": "scattergl"
           }
          ],
          "scattermapbox": [
           {
            "marker": {
             "colorbar": {
              "outlinewidth": 0,
              "ticks": ""
             }
            },
            "type": "scattermapbox"
           }
          ],
          "scatterpolar": [
           {
            "marker": {
             "colorbar": {
              "outlinewidth": 0,
              "ticks": ""
             }
            },
            "type": "scatterpolar"
           }
          ],
          "scatterpolargl": [
           {
            "marker": {
             "colorbar": {
              "outlinewidth": 0,
              "ticks": ""
             }
            },
            "type": "scatterpolargl"
           }
          ],
          "scatterternary": [
           {
            "marker": {
             "colorbar": {
              "outlinewidth": 0,
              "ticks": ""
             }
            },
            "type": "scatterternary"
           }
          ],
          "surface": [
           {
            "colorbar": {
             "outlinewidth": 0,
             "ticks": ""
            },
            "colorscale": [
             [
              0,
              "#0d0887"
             ],
             [
              0.1111111111111111,
              "#46039f"
             ],
             [
              0.2222222222222222,
              "#7201a8"
             ],
             [
              0.3333333333333333,
              "#9c179e"
             ],
             [
              0.4444444444444444,
              "#bd3786"
             ],
             [
              0.5555555555555556,
              "#d8576b"
             ],
             [
              0.6666666666666666,
              "#ed7953"
             ],
             [
              0.7777777777777778,
              "#fb9f3a"
             ],
             [
              0.8888888888888888,
              "#fdca26"
             ],
             [
              1,
              "#f0f921"
             ]
            ],
            "type": "surface"
           }
          ],
          "table": [
           {
            "cells": {
             "fill": {
              "color": "#EBF0F8"
             },
             "line": {
              "color": "white"
             }
            },
            "header": {
             "fill": {
              "color": "#C8D4E3"
             },
             "line": {
              "color": "white"
             }
            },
            "type": "table"
           }
          ]
         },
         "layout": {
          "annotationdefaults": {
           "arrowcolor": "#2a3f5f",
           "arrowhead": 0,
           "arrowwidth": 1
          },
          "coloraxis": {
           "colorbar": {
            "outlinewidth": 0,
            "ticks": ""
           }
          },
          "colorscale": {
           "diverging": [
            [
             0,
             "#8e0152"
            ],
            [
             0.1,
             "#c51b7d"
            ],
            [
             0.2,
             "#de77ae"
            ],
            [
             0.3,
             "#f1b6da"
            ],
            [
             0.4,
             "#fde0ef"
            ],
            [
             0.5,
             "#f7f7f7"
            ],
            [
             0.6,
             "#e6f5d0"
            ],
            [
             0.7,
             "#b8e186"
            ],
            [
             0.8,
             "#7fbc41"
            ],
            [
             0.9,
             "#4d9221"
            ],
            [
             1,
             "#276419"
            ]
           ],
           "sequential": [
            [
             0,
             "#0d0887"
            ],
            [
             0.1111111111111111,
             "#46039f"
            ],
            [
             0.2222222222222222,
             "#7201a8"
            ],
            [
             0.3333333333333333,
             "#9c179e"
            ],
            [
             0.4444444444444444,
             "#bd3786"
            ],
            [
             0.5555555555555556,
             "#d8576b"
            ],
            [
             0.6666666666666666,
             "#ed7953"
            ],
            [
             0.7777777777777778,
             "#fb9f3a"
            ],
            [
             0.8888888888888888,
             "#fdca26"
            ],
            [
             1,
             "#f0f921"
            ]
           ],
           "sequentialminus": [
            [
             0,
             "#0d0887"
            ],
            [
             0.1111111111111111,
             "#46039f"
            ],
            [
             0.2222222222222222,
             "#7201a8"
            ],
            [
             0.3333333333333333,
             "#9c179e"
            ],
            [
             0.4444444444444444,
             "#bd3786"
            ],
            [
             0.5555555555555556,
             "#d8576b"
            ],
            [
             0.6666666666666666,
             "#ed7953"
            ],
            [
             0.7777777777777778,
             "#fb9f3a"
            ],
            [
             0.8888888888888888,
             "#fdca26"
            ],
            [
             1,
             "#f0f921"
            ]
           ]
          },
          "colorway": [
           "#636efa",
           "#EF553B",
           "#00cc96",
           "#ab63fa",
           "#FFA15A",
           "#19d3f3",
           "#FF6692",
           "#B6E880",
           "#FF97FF",
           "#FECB52"
          ],
          "font": {
           "color": "#2a3f5f"
          },
          "geo": {
           "bgcolor": "white",
           "lakecolor": "white",
           "landcolor": "#E5ECF6",
           "showlakes": true,
           "showland": true,
           "subunitcolor": "white"
          },
          "hoverlabel": {
           "align": "left"
          },
          "hovermode": "closest",
          "mapbox": {
           "style": "light"
          },
          "paper_bgcolor": "white",
          "plot_bgcolor": "#E5ECF6",
          "polar": {
           "angularaxis": {
            "gridcolor": "white",
            "linecolor": "white",
            "ticks": ""
           },
           "bgcolor": "#E5ECF6",
           "radialaxis": {
            "gridcolor": "white",
            "linecolor": "white",
            "ticks": ""
           }
          },
          "scene": {
           "xaxis": {
            "backgroundcolor": "#E5ECF6",
            "gridcolor": "white",
            "gridwidth": 2,
            "linecolor": "white",
            "showbackground": true,
            "ticks": "",
            "zerolinecolor": "white"
           },
           "yaxis": {
            "backgroundcolor": "#E5ECF6",
            "gridcolor": "white",
            "gridwidth": 2,
            "linecolor": "white",
            "showbackground": true,
            "ticks": "",
            "zerolinecolor": "white"
           },
           "zaxis": {
            "backgroundcolor": "#E5ECF6",
            "gridcolor": "white",
            "gridwidth": 2,
            "linecolor": "white",
            "showbackground": true,
            "ticks": "",
            "zerolinecolor": "white"
           }
          },
          "shapedefaults": {
           "line": {
            "color": "#2a3f5f"
           }
          },
          "ternary": {
           "aaxis": {
            "gridcolor": "white",
            "linecolor": "white",
            "ticks": ""
           },
           "baxis": {
            "gridcolor": "white",
            "linecolor": "white",
            "ticks": ""
           },
           "bgcolor": "#E5ECF6",
           "caxis": {
            "gridcolor": "white",
            "linecolor": "white",
            "ticks": ""
           }
          },
          "title": {
           "x": 0.05
          },
          "xaxis": {
           "automargin": true,
           "gridcolor": "white",
           "linecolor": "white",
           "ticks": "",
           "title": {
            "standoff": 15
           },
           "zerolinecolor": "white",
           "zerolinewidth": 2
          },
          "yaxis": {
           "automargin": true,
           "gridcolor": "white",
           "linecolor": "white",
           "ticks": "",
           "title": {
            "standoff": 15
           },
           "zerolinecolor": "white",
           "zerolinewidth": 2
          }
         }
        },
        "width": 1000,
        "xaxis": {
         "showgrid": false,
         "showticklabels": false,
         "zeroline": false
        },
        "yaxis": {
         "showgrid": false,
         "showticklabels": false,
         "zeroline": false
        }
       }
      },
      "text/html": [
       "<div>\n",
       "        \n",
       "        \n",
       "            <div id=\"6f18f89d-6b47-450f-ab23-cef537a17c01\" class=\"plotly-graph-div\" style=\"height:1000px; width:1000px;\"></div>\n",
       "            <script type=\"text/javascript\">\n",
       "                require([\"plotly\"], function(Plotly) {\n",
       "                    window.PLOTLYENV=window.PLOTLYENV || {};\n",
       "                    \n",
       "                if (document.getElementById(\"6f18f89d-6b47-450f-ab23-cef537a17c01\")) {\n",
       "                    Plotly.newPlot(\n",
       "                        '6f18f89d-6b47-450f-ab23-cef537a17c01',\n",
       "                        [{\"line\": {\"color\": \"gray\", \"width\": 1}, \"mode\": \"lines\", \"type\": \"scatter\", \"x\": [-0.3053760958066823, -0.22404975802749885, null], \"y\": [0.02150759264947384, 0.013729774109609074, null]}, {\"line\": {\"color\": \"gray\", \"width\": 1}, \"mode\": \"lines\", \"type\": \"scatter\", \"x\": [-0.22404975802749885, -0.08381668522625493, null], \"y\": [0.013729774109609074, 0.01925354355745625, null]}, {\"line\": {\"color\": \"gray\", \"width\": 1}, \"mode\": \"lines\", \"type\": \"scatter\", \"x\": [-0.22404975802749885, -0.3038410075499461, null], \"y\": [0.013729774109609074, -0.0014446213154711166, null]}, {\"line\": {\"color\": \"gray\", \"width\": 1}, \"mode\": \"lines\", \"type\": \"scatter\", \"x\": [0.061791127260509754, -0.009180985662586313, null], \"y\": [0.023011458639723016, 0.05657566187490757, null]}, {\"line\": {\"color\": \"gray\", \"width\": 1}, \"mode\": \"lines\", \"type\": \"scatter\", \"x\": [0.061791127260509754, -0.04187014971520882, null], \"y\": [0.023011458639723016, 0.018683362037641062, null]}, {\"line\": {\"color\": \"gray\", \"width\": 1}, \"mode\": \"lines\", \"type\": \"scatter\", \"x\": [0.061791127260509754, 0.10820897454186144, null], \"y\": [0.023011458639723016, -0.02091763432526841, null]}, {\"line\": {\"color\": \"gray\", \"width\": 1}, \"mode\": \"lines\", \"type\": \"scatter\", \"x\": [0.061791127260509754, 0.0015278539225428854, null], \"y\": [0.023011458639723016, 0.032095756877487995, null]}, {\"line\": {\"color\": \"gray\", \"width\": 1}, \"mode\": \"lines\", \"type\": \"scatter\", \"x\": [0.061791127260509754, 0.1555940606896626, null], \"y\": [0.023011458639723016, 0.0343958959597091, null]}, {\"line\": {\"color\": \"gray\", \"width\": 1}, \"mode\": \"lines\", \"type\": \"scatter\", \"x\": [0.061791127260509754, 0.07193831294249597, null], \"y\": [0.023011458639723016, -0.0369233882813717, null]}, {\"line\": {\"color\": \"gray\", \"width\": 1}, \"mode\": \"lines\", \"type\": \"scatter\", \"x\": [-0.009180985662586313, -0.06693900131063761, null], \"y\": [0.05657566187490757, 0.10637644982316133, null]}, {\"line\": {\"color\": \"gray\", \"width\": 1}, \"mode\": \"lines\", \"type\": \"scatter\", \"x\": [-0.009180985662586313, 0.0015278539225428854, null], \"y\": [0.05657566187490757, 0.032095756877487995, null]}, {\"line\": {\"color\": \"gray\", \"width\": 1}, \"mode\": \"lines\", \"type\": \"scatter\", \"x\": [-0.009180985662586313, -0.08381668522625493, null], \"y\": [0.05657566187490757, 0.01925354355745625, null]}, {\"line\": {\"color\": \"gray\", \"width\": 1}, \"mode\": \"lines\", \"type\": \"scatter\", \"x\": [-0.009180985662586313, 0.018104449610882176, null], \"y\": [0.05657566187490757, 0.07742354705173135, null]}, {\"line\": {\"color\": \"gray\", \"width\": 1}, \"mode\": \"lines\", \"type\": \"scatter\", \"x\": [-0.009180985662586313, -0.008741227202852623, null], \"y\": [0.05657566187490757, -0.052161595565536054, null]}, {\"line\": {\"color\": \"gray\", \"width\": 1}, \"mode\": \"lines\", \"type\": \"scatter\", \"x\": [-0.009180985662586313, -0.044879205105378454, null], \"y\": [0.05657566187490757, 0.05513048090909525, null]}, {\"line\": {\"color\": \"gray\", \"width\": 1}, \"mode\": \"lines\", \"type\": \"scatter\", \"x\": [-0.009180985662586313, 0.02131572481172959, null], \"y\": [0.05657566187490757, 0.1402090819296962, null]}, {\"line\": {\"color\": \"gray\", \"width\": 1}, \"mode\": \"lines\", \"type\": \"scatter\", \"x\": [-0.06693900131063761, -0.08804532379546319, null], \"y\": [0.10637644982316133, 0.19593605423896548, null]}, {\"line\": {\"color\": \"gray\", \"width\": 1}, \"mode\": \"lines\", \"type\": \"scatter\", \"x\": [-0.06693900131063761, -0.04187014971520882, null], \"y\": [0.10637644982316133, 0.018683362037641062, null]}, {\"line\": {\"color\": \"gray\", \"width\": 1}, \"mode\": \"lines\", \"type\": \"scatter\", \"x\": [-0.06693900131063761, -0.09210520075352743, null], \"y\": [0.10637644982316133, 0.1046607621423927, null]}, {\"line\": {\"color\": \"gray\", \"width\": 1}, \"mode\": \"lines\", \"type\": \"scatter\", \"x\": [-0.06693900131063761, -0.05944785158417491, null], \"y\": [0.10637644982316133, 0.04177282681198829, null]}, {\"line\": {\"color\": \"gray\", \"width\": 1}, \"mode\": \"lines\", \"type\": \"scatter\", \"x\": [-0.06693900131063761, -0.09778162613036662, null], \"y\": [0.10637644982316133, 0.07171137727518094, null]}, {\"line\": {\"color\": \"gray\", \"width\": 1}, \"mode\": \"lines\", \"type\": \"scatter\", \"x\": [0.13200760665754493, 0.09610149729481736, null], \"y\": [-0.009899040883356984, 0.015339971581803686, null]}, {\"line\": {\"color\": \"gray\", \"width\": 1}, \"mode\": \"lines\", \"type\": \"scatter\", \"x\": [0.13200760665754493, 0.0434227395395735, null], \"y\": [-0.009899040883356984, -0.013805682413551991, null]}, {\"line\": {\"color\": \"gray\", \"width\": 1}, \"mode\": \"lines\", \"type\": \"scatter\", \"x\": [0.11621326154039684, 0.2003910368912326, null], \"y\": [-0.035839240408858275, -0.003731233742453892, null]}, {\"line\": {\"color\": \"gray\", \"width\": 1}, \"mode\": \"lines\", \"type\": \"scatter\", \"x\": [0.11621326154039684, -0.014227736832075925, null], \"y\": [-0.035839240408858275, -0.042792972167334124, null]}, {\"line\": {\"color\": \"gray\", \"width\": 1}, \"mode\": \"lines\", \"type\": \"scatter\", \"x\": [-0.0794855717564741, -0.06222111600024904, null], \"y\": [-0.24601983764869892, -0.16230485490355812, null]}, {\"line\": {\"color\": \"gray\", \"width\": 1}, \"mode\": \"lines\", \"type\": \"scatter\", \"x\": [-0.4300141956573331, -0.41178667662976753, null], \"y\": [0.7775570503055733, 0.7287137995187184, null]}, {\"line\": {\"color\": \"gray\", \"width\": 1}, \"mode\": \"lines\", \"type\": \"scatter\", \"x\": [-0.41178667662976753, -0.44002254048774203, null], \"y\": [0.7287137995187184, 0.7365218191590223, null]}, {\"line\": {\"color\": \"gray\", \"width\": 1}, \"mode\": \"lines\", \"type\": \"scatter\", \"x\": [-0.045281032811381586, -0.04693379500878188, null], \"y\": [0.2013753432840776, 0.11040733591348802, null]}, {\"line\": {\"color\": \"gray\", \"width\": 1}, \"mode\": \"lines\", \"type\": \"scatter\", \"x\": [-0.04187014971520882, -0.11564356156424464, null], \"y\": [0.018683362037641062, -0.0467437664135677, null]}, {\"line\": {\"color\": \"gray\", \"width\": 1}, \"mode\": \"lines\", \"type\": \"scatter\", \"x\": [-0.04187014971520882, -0.021197955990192686, null], \"y\": [0.018683362037641062, -0.05745791917966554, null]}, {\"line\": {\"color\": \"gray\", \"width\": 1}, \"mode\": \"lines\", \"type\": \"scatter\", \"x\": [-0.04187014971520882, -0.07409371248975366, null], \"y\": [0.018683362037641062, 0.018872792165201935, null]}, {\"line\": {\"color\": \"gray\", \"width\": 1}, \"mode\": \"lines\", \"type\": \"scatter\", \"x\": [-0.04187014971520882, -0.02732241667018175, null], \"y\": [0.018683362037641062, 0.05134726877708089, null]}, {\"line\": {\"color\": \"gray\", \"width\": 1}, \"mode\": \"lines\", \"type\": \"scatter\", \"x\": [0.10820897454186144, 0.12230726591278249, null], \"y\": [-0.02091763432526841, 0.022363225319855483, null]}, {\"line\": {\"color\": \"gray\", \"width\": 1}, \"mode\": \"lines\", \"type\": \"scatter\", \"x\": [0.10820897454186144, 0.0774115646929293, null], \"y\": [-0.02091763432526841, -0.07284954976114227, null]}, {\"line\": {\"color\": \"gray\", \"width\": 1}, \"mode\": \"lines\", \"type\": \"scatter\", \"x\": [0.10820897454186144, 0.04553561082060511, null], \"y\": [-0.02091763432526841, -0.04292248631664749, null]}, {\"line\": {\"color\": \"gray\", \"width\": 1}, \"mode\": \"lines\", \"type\": \"scatter\", \"x\": [0.0015278539225428854, -0.04693379500878188, null], \"y\": [0.032095756877487995, 0.11040733591348802, null]}, {\"line\": {\"color\": \"gray\", \"width\": 1}, \"mode\": \"lines\", \"type\": \"scatter\", \"x\": [0.0015278539225428854, -0.11564356156424464, null], \"y\": [0.032095756877487995, -0.0467437664135677, null]}, {\"line\": {\"color\": \"gray\", \"width\": 1}, \"mode\": \"lines\", \"type\": \"scatter\", \"x\": [0.0015278539225428854, 0.12230726591278249, null], \"y\": [0.032095756877487995, 0.022363225319855483, null]}, {\"line\": {\"color\": \"gray\", \"width\": 1}, \"mode\": \"lines\", \"type\": \"scatter\", \"x\": [0.08371216576816881, 0.010282396206012808, null], \"y\": [-0.1018317841441478, -0.03316240999329074, null]}, {\"line\": {\"color\": \"gray\", \"width\": 1}, \"mode\": \"lines\", \"type\": \"scatter\", \"x\": [-0.20078387442587295, -0.145631153558427, null], \"y\": [-0.23498798272216262, -0.20361638138164276, null]}, {\"line\": {\"color\": \"gray\", \"width\": 1}, \"mode\": \"lines\", \"type\": \"scatter\", \"x\": [-0.20078387442587295, -0.23265957039174143, null], \"y\": [-0.23498798272216262, -0.30148113841859414, null]}, {\"line\": {\"color\": \"gray\", \"width\": 1}, \"mode\": \"lines\", \"type\": \"scatter\", \"x\": [-0.20078387442587295, -0.17537211489142937, null], \"y\": [-0.23498798272216262, -0.14657865578170973, null]}, {\"line\": {\"color\": \"gray\", \"width\": 1}, \"mode\": \"lines\", \"type\": \"scatter\", \"x\": [0.1555940606896626, 0.15716295156561405, null], \"y\": [0.0343958959597091, -0.002316498157844949, null]}, {\"line\": {\"color\": \"gray\", \"width\": 1}, \"mode\": \"lines\", \"type\": \"scatter\", \"x\": [-0.08381668522625493, -0.04693379500878188, null], \"y\": [0.01925354355745625, 0.11040733591348802, null]}, {\"line\": {\"color\": \"gray\", \"width\": 1}, \"mode\": \"lines\", \"type\": \"scatter\", \"x\": [-0.08381668522625493, -0.09684023773393201, null], \"y\": [0.01925354355745625, -0.031123440093827864, null]}, {\"line\": {\"color\": \"gray\", \"width\": 1}, \"mode\": \"lines\", \"type\": \"scatter\", \"x\": [-0.08381668522625493, -0.04873641669103811, null], \"y\": [0.01925354355745625, 0.04157129093663556, null]}, {\"line\": {\"color\": \"gray\", \"width\": 1}, \"mode\": \"lines\", \"type\": \"scatter\", \"x\": [-0.08381668522625493, -0.058959917616266316, null], \"y\": [0.01925354355745625, -0.043017294594320236, null]}, {\"line\": {\"color\": \"gray\", \"width\": 1}, \"mode\": \"lines\", \"type\": \"scatter\", \"x\": [-0.08381668522625493, -0.021516912944154, null], \"y\": [0.01925354355745625, -0.018665010061002088, null]}, {\"line\": {\"color\": \"gray\", \"width\": 1}, \"mode\": \"lines\", \"type\": \"scatter\", \"x\": [-0.08381668522625493, -0.0457296305512359, null], \"y\": [0.01925354355745625, -0.0493203522666341, null]}, {\"line\": {\"color\": \"gray\", \"width\": 1}, \"mode\": \"lines\", \"type\": \"scatter\", \"x\": [-0.08381668522625493, -0.014227736832075925, null], \"y\": [0.01925354355745625, -0.042792972167334124, null]}, {\"line\": {\"color\": \"gray\", \"width\": 1}, \"mode\": \"lines\", \"type\": \"scatter\", \"x\": [-0.08381668522625493, -0.04034712207092415, null], \"y\": [0.01925354355745625, 0.07838911253978155, null]}, {\"line\": {\"color\": \"gray\", \"width\": 1}, \"mode\": \"lines\", \"type\": \"scatter\", \"x\": [-0.04693379500878188, -0.04873641669103811, null], \"y\": [0.11040733591348802, 0.04157129093663556, null]}, {\"line\": {\"color\": \"gray\", \"width\": 1}, \"mode\": \"lines\", \"type\": \"scatter\", \"x\": [-0.04693379500878188, 0.018104449610882176, null], \"y\": [0.11040733591348802, 0.07742354705173135, null]}, {\"line\": {\"color\": \"gray\", \"width\": 1}, \"mode\": \"lines\", \"type\": \"scatter\", \"x\": [-0.04693379500878188, -0.10315772287157868, null], \"y\": [0.11040733591348802, 0.18423094523925546, null]}, {\"line\": {\"color\": \"gray\", \"width\": 1}, \"mode\": \"lines\", \"type\": \"scatter\", \"x\": [-0.0021202113048160364, -0.028291159232216964, null], \"y\": [-0.024030476140154532, 0.009747813033545508, null]}, {\"line\": {\"color\": \"gray\", \"width\": 1}, \"mode\": \"lines\", \"type\": \"scatter\", \"x\": [-0.0021202113048160364, -0.0457296305512359, null], \"y\": [-0.024030476140154532, -0.0493203522666341, null]}, {\"line\": {\"color\": \"gray\", \"width\": 1}, \"mode\": \"lines\", \"type\": \"scatter\", \"x\": [-0.0021202113048160364, 0.010282396206012808, null], \"y\": [-0.024030476140154532, -0.03316240999329074, null]}, {\"line\": {\"color\": \"gray\", \"width\": 1}, \"mode\": \"lines\", \"type\": \"scatter\", \"x\": [-0.0021202113048160364, 0.013997672722655018, null], \"y\": [-0.024030476140154532, 0.023564009485678414, null]}, {\"line\": {\"color\": \"gray\", \"width\": 1}, \"mode\": \"lines\", \"type\": \"scatter\", \"x\": [-0.0021202113048160364, -0.014227736832075925, null], \"y\": [-0.024030476140154532, -0.042792972167334124, null]}, {\"line\": {\"color\": \"gray\", \"width\": 1}, \"mode\": \"lines\", \"type\": \"scatter\", \"x\": [-0.09684023773393201, -0.014227736832075925, null], \"y\": [-0.031123440093827864, -0.042792972167334124, null]}, {\"line\": {\"color\": \"gray\", \"width\": 1}, \"mode\": \"lines\", \"type\": \"scatter\", \"x\": [-0.10477488681114928, -0.028291159232216964, null], \"y\": [0.10948398238217412, 0.009747813033545508, null]}, {\"line\": {\"color\": \"gray\", \"width\": 1}, \"mode\": \"lines\", \"type\": \"scatter\", \"x\": [-0.10477488681114928, -0.14264001235151016, null], \"y\": [0.10948398238217412, 0.18353083322846483, null]}, {\"line\": {\"color\": \"gray\", \"width\": 1}, \"mode\": \"lines\", \"type\": \"scatter\", \"x\": [-0.04873641669103811, -0.028291159232216964, null], \"y\": [0.04157129093663556, 0.009747813033545508, null]}, {\"line\": {\"color\": \"gray\", \"width\": 1}, \"mode\": \"lines\", \"type\": \"scatter\", \"x\": [-0.04873641669103811, -0.014227736832075925, null], \"y\": [0.04157129093663556, -0.042792972167334124, null]}, {\"line\": {\"color\": \"gray\", \"width\": 1}, \"mode\": \"lines\", \"type\": \"scatter\", \"x\": [-0.028291159232216964, 0.06147699325087198, null], \"y\": [0.009747813033545508, -0.0109473117103224, null]}, {\"line\": {\"color\": \"gray\", \"width\": 1}, \"mode\": \"lines\", \"type\": \"scatter\", \"x\": [-0.028291159232216964, -0.058959917616266316, null], \"y\": [0.009747813033545508, -0.043017294594320236, null]}, {\"line\": {\"color\": \"gray\", \"width\": 1}, \"mode\": \"lines\", \"type\": \"scatter\", \"x\": [-0.028291159232216964, -0.06835275509217535, null], \"y\": [0.009747813033545508, 0.0007324174525530838, null]}, {\"line\": {\"color\": \"gray\", \"width\": 1}, \"mode\": \"lines\", \"type\": \"scatter\", \"x\": [-0.028291159232216964, -0.06416023768320575, null], \"y\": [0.009747813033545508, -0.030488963175715905, null]}, {\"line\": {\"color\": \"gray\", \"width\": 1}, \"mode\": \"lines\", \"type\": \"scatter\", \"x\": [-0.028291159232216964, -0.059435136558095625, null], \"y\": [0.009747813033545508, 0.013562129586326651, null]}, {\"line\": {\"color\": \"gray\", \"width\": 1}, \"mode\": \"lines\", \"type\": \"scatter\", \"x\": [-0.028291159232216964, -0.021516912944154, null], \"y\": [0.009747813033545508, -0.018665010061002088, null]}, {\"line\": {\"color\": \"gray\", \"width\": 1}, \"mode\": \"lines\", \"type\": \"scatter\", \"x\": [-0.028291159232216964, -0.021197955990192686, null], \"y\": [0.009747813033545508, -0.05745791917966554, null]}, {\"line\": {\"color\": \"gray\", \"width\": 1}, \"mode\": \"lines\", \"type\": \"scatter\", \"x\": [-0.028291159232216964, 0.04553561082060511, null], \"y\": [0.009747813033545508, -0.04292248631664749, null]}, {\"line\": {\"color\": \"gray\", \"width\": 1}, \"mode\": \"lines\", \"type\": \"scatter\", \"x\": [-0.028291159232216964, 0.010282396206012808, null], \"y\": [0.009747813033545508, -0.03316240999329074, null]}, {\"line\": {\"color\": \"gray\", \"width\": 1}, \"mode\": \"lines\", \"type\": \"scatter\", \"x\": [-0.028291159232216964, -0.02732241667018175, null], \"y\": [0.009747813033545508, 0.05134726877708089, null]}, {\"line\": {\"color\": \"gray\", \"width\": 1}, \"mode\": \"lines\", \"type\": \"scatter\", \"x\": [-0.028291159232216964, -0.008720142567485002, null], \"y\": [0.009747813033545508, -0.01568299203923696, null]}, {\"line\": {\"color\": \"gray\", \"width\": 1}, \"mode\": \"lines\", \"type\": \"scatter\", \"x\": [-0.028291159232216964, -0.04034712207092415, null], \"y\": [0.009747813033545508, 0.07838911253978155, null]}, {\"line\": {\"color\": \"gray\", \"width\": 1}, \"mode\": \"lines\", \"type\": \"scatter\", \"x\": [0.018104449610882176, 0.0052989787136488815, null], \"y\": [0.07742354705173135, 0.004710248960822736, null]}, {\"line\": {\"color\": \"gray\", \"width\": 1}, \"mode\": \"lines\", \"type\": \"scatter\", \"x\": [0.018104449610882176, 0.010282396206012808, null], \"y\": [0.07742354705173135, -0.03316240999329074, null]}, {\"line\": {\"color\": \"gray\", \"width\": 1}, \"mode\": \"lines\", \"type\": \"scatter\", \"x\": [0.018104449610882176, 0.06209695945940719, null], \"y\": [0.07742354705173135, 0.1574149775775943, null]}, {\"line\": {\"color\": \"gray\", \"width\": 1}, \"mode\": \"lines\", \"type\": \"scatter\", \"x\": [0.06147699325087198, 0.020987852873670658, null], \"y\": [-0.0109473117103224, -0.03349462325112218, null]}, {\"line\": {\"color\": \"gray\", \"width\": 1}, \"mode\": \"lines\", \"type\": \"scatter\", \"x\": [0.06147699325087198, 0.15716295156561405, null], \"y\": [-0.0109473117103224, -0.002316498157844949, null]}, {\"line\": {\"color\": \"gray\", \"width\": 1}, \"mode\": \"lines\", \"type\": \"scatter\", \"x\": [0.06147699325087198, -0.021516912944154, null], \"y\": [-0.0109473117103224, -0.018665010061002088, null]}, {\"line\": {\"color\": \"gray\", \"width\": 1}, \"mode\": \"lines\", \"type\": \"scatter\", \"x\": [0.020987852873670658, 0.0052989787136488815, null], \"y\": [-0.03349462325112218, 0.004710248960822736, null]}, {\"line\": {\"color\": \"gray\", \"width\": 1}, \"mode\": \"lines\", \"type\": \"scatter\", \"x\": [0.020987852873670658, -0.06416023768320575, null], \"y\": [-0.03349462325112218, -0.030488963175715905, null]}, {\"line\": {\"color\": \"gray\", \"width\": 1}, \"mode\": \"lines\", \"type\": \"scatter\", \"x\": [-0.11370880102418561, -0.0457296305512359, null], \"y\": [-0.11628416517433651, -0.0493203522666341, null]}, {\"line\": {\"color\": \"gray\", \"width\": 1}, \"mode\": \"lines\", \"type\": \"scatter\", \"x\": [-0.11564356156424464, -0.17928444227353182, null], \"y\": [-0.0467437664135677, -0.0886118690711603, null]}, {\"line\": {\"color\": \"gray\", \"width\": 1}, \"mode\": \"lines\", \"type\": \"scatter\", \"x\": [-0.11564356156424464, -0.2026214629779173, null], \"y\": [-0.0467437664135677, -0.062259939047365834, null]}, {\"line\": {\"color\": \"gray\", \"width\": 1}, \"mode\": \"lines\", \"type\": \"scatter\", \"x\": [-0.11564356156424464, -0.058959917616266316, null], \"y\": [-0.0467437664135677, -0.043017294594320236, null]}, {\"line\": {\"color\": \"gray\", \"width\": 1}, \"mode\": \"lines\", \"type\": \"scatter\", \"x\": [-0.11564356156424464, -0.17537211489142937, null], \"y\": [-0.0467437664135677, -0.14657865578170973, null]}, {\"line\": {\"color\": \"gray\", \"width\": 1}, \"mode\": \"lines\", \"type\": \"scatter\", \"x\": [-0.17928444227353182, -0.12685933992984552, null], \"y\": [-0.0886118690711603, -0.08025122201698884, null]}, {\"line\": {\"color\": \"gray\", \"width\": 1}, \"mode\": \"lines\", \"type\": \"scatter\", \"x\": [-0.20554303658417883, -0.09778162613036662, null], \"y\": [0.11655185754107686, 0.07171137727518094, null]}, {\"line\": {\"color\": \"gray\", \"width\": 1}, \"mode\": \"lines\", \"type\": \"scatter\", \"x\": [-0.20554303658417883, -0.24238267142402034, null], \"y\": [0.11655185754107686, 0.07680432909967369, null]}, {\"line\": {\"color\": \"gray\", \"width\": 1}, \"mode\": \"lines\", \"type\": \"scatter\", \"x\": [-0.20554303658417883, -0.2696080924983311, null], \"y\": [0.11655185754107686, 0.16373302153150518, null]}, {\"line\": {\"color\": \"gray\", \"width\": 1}, \"mode\": \"lines\", \"type\": \"scatter\", \"x\": [0.0052989787136488815, -0.06416023768320575, null], \"y\": [0.004710248960822736, -0.030488963175715905, null]}, {\"line\": {\"color\": \"gray\", \"width\": 1}, \"mode\": \"lines\", \"type\": \"scatter\", \"x\": [0.0052989787136488815, -0.008741227202852623, null], \"y\": [0.004710248960822736, -0.052161595565536054, null]}, {\"line\": {\"color\": \"gray\", \"width\": 1}, \"mode\": \"lines\", \"type\": \"scatter\", \"x\": [-0.058959917616266316, -0.004626957269381648, null], \"y\": [-0.043017294594320236, -0.08607589167284066, null]}, {\"line\": {\"color\": \"gray\", \"width\": 1}, \"mode\": \"lines\", \"type\": \"scatter\", \"x\": [-0.058959917616266316, -0.06835275509217535, null], \"y\": [-0.043017294594320236, 0.0007324174525530838, null]}, {\"line\": {\"color\": \"gray\", \"width\": 1}, \"mode\": \"lines\", \"type\": \"scatter\", \"x\": [-0.058959917616266316, -0.027032038640550888, null], \"y\": [-0.043017294594320236, -0.06945797406197159, null]}, {\"line\": {\"color\": \"gray\", \"width\": 1}, \"mode\": \"lines\", \"type\": \"scatter\", \"x\": [-0.058959917616266316, -0.021516912944154, null], \"y\": [-0.043017294594320236, -0.018665010061002088, null]}, {\"line\": {\"color\": \"gray\", \"width\": 1}, \"mode\": \"lines\", \"type\": \"scatter\", \"x\": [-0.058959917616266316, -0.12685933992984552, null], \"y\": [-0.043017294594320236, -0.08025122201698884, null]}, {\"line\": {\"color\": \"gray\", \"width\": 1}, \"mode\": \"lines\", \"type\": \"scatter\", \"x\": [-0.058959917616266316, -0.0457296305512359, null], \"y\": [-0.043017294594320236, -0.0493203522666341, null]}, {\"line\": {\"color\": \"gray\", \"width\": 1}, \"mode\": \"lines\", \"type\": \"scatter\", \"x\": [-0.058959917616266316, 0.010282396206012808, null], \"y\": [-0.043017294594320236, -0.03316240999329074, null]}, {\"line\": {\"color\": \"gray\", \"width\": 1}, \"mode\": \"lines\", \"type\": \"scatter\", \"x\": [-0.058959917616266316, -0.014227736832075925, null], \"y\": [-0.043017294594320236, -0.042792972167334124, null]}, {\"line\": {\"color\": \"gray\", \"width\": 1}, \"mode\": \"lines\", \"type\": \"scatter\", \"x\": [0.056422968164944465, -0.004626957269381648, null], \"y\": [-0.042684498274881105, -0.08607589167284066, null]}, {\"line\": {\"color\": \"gray\", \"width\": 1}, \"mode\": \"lines\", \"type\": \"scatter\", \"x\": [0.056422968164944465, 0.054916386339231835, null], \"y\": [-0.042684498274881105, -0.08894462048653747, null]}, {\"line\": {\"color\": \"gray\", \"width\": 1}, \"mode\": \"lines\", \"type\": \"scatter\", \"x\": [0.056422968164944465, 0.06951420363626727, null], \"y\": [-0.042684498274881105, 0.0020089009530309242, null]}, {\"line\": {\"color\": \"gray\", \"width\": 1}, \"mode\": \"lines\", \"type\": \"scatter\", \"x\": [0.056422968164944465, 0.07661215859862615, null], \"y\": [-0.042684498274881105, 0.04059045805482657, null]}, {\"line\": {\"color\": \"gray\", \"width\": 1}, \"mode\": \"lines\", \"type\": \"scatter\", \"x\": [0.056422968164944465, -0.014227736832075925, null], \"y\": [-0.042684498274881105, -0.042792972167334124, null]}, {\"line\": {\"color\": \"gray\", \"width\": 1}, \"mode\": \"lines\", \"type\": \"scatter\", \"x\": [-0.004626957269381648, -0.014227736832075925, null], \"y\": [-0.08607589167284066, -0.042792972167334124, null]}, {\"line\": {\"color\": \"gray\", \"width\": 1}, \"mode\": \"lines\", \"type\": \"scatter\", \"x\": [-0.09376888392804339, -0.06835275509217535, null], \"y\": [-0.01256423484152044, 0.0007324174525530838, null]}, {\"line\": {\"color\": \"gray\", \"width\": 1}, \"mode\": \"lines\", \"type\": \"scatter\", \"x\": [-0.09376888392804339, -0.06416023768320575, null], \"y\": [-0.01256423484152044, -0.030488963175715905, null]}, {\"line\": {\"color\": \"gray\", \"width\": 1}, \"mode\": \"lines\", \"type\": \"scatter\", \"x\": [-0.09376888392804339, -0.02732241667018175, null], \"y\": [-0.01256423484152044, 0.05134726877708089, null]}, {\"line\": {\"color\": \"gray\", \"width\": 1}, \"mode\": \"lines\", \"type\": \"scatter\", \"x\": [-0.09376888392804339, -0.07475967057635224, null], \"y\": [-0.01256423484152044, -0.035391740620783804, null]}, {\"line\": {\"color\": \"gray\", \"width\": 1}, \"mode\": \"lines\", \"type\": \"scatter\", \"x\": [-0.09376888392804339, -0.1111167862361388, null], \"y\": [-0.01256423484152044, -0.0855111738776797, null]}, {\"line\": {\"color\": \"gray\", \"width\": 1}, \"mode\": \"lines\", \"type\": \"scatter\", \"x\": [0.054916386339231835, 0.07193831294249597, null], \"y\": [-0.08894462048653747, -0.0369233882813717, null]}, {\"line\": {\"color\": \"gray\", \"width\": 1}, \"mode\": \"lines\", \"type\": \"scatter\", \"x\": [0.054916386339231835, 0.01893774073437846, null], \"y\": [-0.08894462048653747, -0.12349507362768782, null]}, {\"line\": {\"color\": \"gray\", \"width\": 1}, \"mode\": \"lines\", \"type\": \"scatter\", \"x\": [0.054916386339231835, -0.014227736832075925, null], \"y\": [-0.08894462048653747, -0.042792972167334124, null]}, {\"line\": {\"color\": \"gray\", \"width\": 1}, \"mode\": \"lines\", \"type\": \"scatter\", \"x\": [-0.06835275509217535, -0.021516912944154, null], \"y\": [0.0007324174525530838, -0.018665010061002088, null]}, {\"line\": {\"color\": \"gray\", \"width\": 1}, \"mode\": \"lines\", \"type\": \"scatter\", \"x\": [-0.06835275509217535, -0.03987595939911223, null], \"y\": [0.0007324174525530838, 0.08494012937042902, null]}, {\"line\": {\"color\": \"gray\", \"width\": 1}, \"mode\": \"lines\", \"type\": \"scatter\", \"x\": [-0.06835275509217535, -0.02732241667018175, null], \"y\": [0.0007324174525530838, 0.05134726877708089, null]}, {\"line\": {\"color\": \"gray\", \"width\": 1}, \"mode\": \"lines\", \"type\": \"scatter\", \"x\": [-0.06835275509217535, -0.06479823258549271, null], \"y\": [0.0007324174525530838, 0.029048344904688644, null]}, {\"line\": {\"color\": \"gray\", \"width\": 1}, \"mode\": \"lines\", \"type\": \"scatter\", \"x\": [-0.06835275509217535, -0.1111167862361388, null], \"y\": [0.0007324174525530838, -0.0855111738776797, null]}, {\"line\": {\"color\": \"gray\", \"width\": 1}, \"mode\": \"lines\", \"type\": \"scatter\", \"x\": [-0.06416023768320575, -0.09654035607563576, null], \"y\": [-0.030488963175715905, -0.09379853420250263, null]}, {\"line\": {\"color\": \"gray\", \"width\": 1}, \"mode\": \"lines\", \"type\": \"scatter\", \"x\": [-0.06416023768320575, -0.021516912944154, null], \"y\": [-0.030488963175715905, -0.018665010061002088, null]}, {\"line\": {\"color\": \"gray\", \"width\": 1}, \"mode\": \"lines\", \"type\": \"scatter\", \"x\": [-0.06416023768320575, 0.0015666838803731872, null], \"y\": [-0.030488963175715905, -0.06968905573605497, null]}, {\"line\": {\"color\": \"gray\", \"width\": 1}, \"mode\": \"lines\", \"type\": \"scatter\", \"x\": [-0.06416023768320575, -0.03864867092112275, null], \"y\": [-0.030488963175715905, -0.019682815850479544, null]}, {\"line\": {\"color\": \"gray\", \"width\": 1}, \"mode\": \"lines\", \"type\": \"scatter\", \"x\": [-0.06416023768320575, -0.07475967057635224, null], \"y\": [-0.030488963175715905, -0.035391740620783804, null]}, {\"line\": {\"color\": \"gray\", \"width\": 1}, \"mode\": \"lines\", \"type\": \"scatter\", \"x\": [-0.06416023768320575, -0.05486937877036051, null], \"y\": [-0.030488963175715905, -0.09384035644336178, null]}, {\"line\": {\"color\": \"gray\", \"width\": 1}, \"mode\": \"lines\", \"type\": \"scatter\", \"x\": [-0.06416023768320575, -0.19030177482821692, null], \"y\": [-0.030488963175715905, 0.01693100965465017, null]}, {\"line\": {\"color\": \"gray\", \"width\": 1}, \"mode\": \"lines\", \"type\": \"scatter\", \"x\": [-0.06416023768320575, -0.014227736832075925, null], \"y\": [-0.030488963175715905, -0.042792972167334124, null]}, {\"line\": {\"color\": \"gray\", \"width\": 1}, \"mode\": \"lines\", \"type\": \"scatter\", \"x\": [-0.09654035607563576, -0.05263513394908113, null], \"y\": [-0.09379853420250263, -0.05959821037374742, null]}, {\"line\": {\"color\": \"gray\", \"width\": 1}, \"mode\": \"lines\", \"type\": \"scatter\", \"x\": [-0.09210520075352743, -0.059435136558095625, null], \"y\": [0.1046607621423927, 0.013562129586326651, null]}, {\"line\": {\"color\": \"gray\", \"width\": 1}, \"mode\": \"lines\", \"type\": \"scatter\", \"x\": [-0.059435136558095625, -0.027032038640550888, null], \"y\": [0.013562129586326651, -0.06945797406197159, null]}, {\"line\": {\"color\": \"gray\", \"width\": 1}, \"mode\": \"lines\", \"type\": \"scatter\", \"x\": [-0.059435136558095625, -0.014227736832075925, null], \"y\": [0.013562129586326651, -0.042792972167334124, null]}, {\"line\": {\"color\": \"gray\", \"width\": 1}, \"mode\": \"lines\", \"type\": \"scatter\", \"x\": [-0.05737947060015543, -0.06222111600024904, null], \"y\": [-0.24764055838390642, -0.16230485490355812, null]}, {\"line\": {\"color\": \"gray\", \"width\": 1}, \"mode\": \"lines\", \"type\": \"scatter\", \"x\": [-0.06222111600024904, -0.030352431502559483, null], \"y\": [-0.16230485490355812, -0.1538109170608293, null]}, {\"line\": {\"color\": \"gray\", \"width\": 1}, \"mode\": \"lines\", \"type\": \"scatter\", \"x\": [-0.06222111600024904, -0.1111167862361388, null], \"y\": [-0.16230485490355812, -0.0855111738776797, null]}, {\"line\": {\"color\": \"gray\", \"width\": 1}, \"mode\": \"lines\", \"type\": \"scatter\", \"x\": [-0.06222111600024904, -0.014227736832075925, null], \"y\": [-0.16230485490355812, -0.042792972167334124, null]}, {\"line\": {\"color\": \"gray\", \"width\": 1}, \"mode\": \"lines\", \"type\": \"scatter\", \"x\": [-0.11657320263482822, -0.0932236090725361, null], \"y\": [-0.02811514811153593, -0.07236604843832767, null]}, {\"line\": {\"color\": \"gray\", \"width\": 1}, \"mode\": \"lines\", \"type\": \"scatter\", \"x\": [-0.11657320263482822, -0.05263513394908113, null], \"y\": [-0.02811514811153593, -0.05959821037374742, null]}, {\"line\": {\"color\": \"gray\", \"width\": 1}, \"mode\": \"lines\", \"type\": \"scatter\", \"x\": [-0.11657320263482822, -0.06479823258549271, null], \"y\": [-0.02811514811153593, 0.029048344904688644, null]}, {\"line\": {\"color\": \"gray\", \"width\": 1}, \"mode\": \"lines\", \"type\": \"scatter\", \"x\": [-0.030352431502559483, -0.021197955990192686, null], \"y\": [-0.1538109170608293, -0.05745791917966554, null]}, {\"line\": {\"color\": \"gray\", \"width\": 1}, \"mode\": \"lines\", \"type\": \"scatter\", \"x\": [-0.027032038640550888, 0.0015666838803731872, null], \"y\": [-0.06945797406197159, -0.06968905573605497, null]}, {\"line\": {\"color\": \"gray\", \"width\": 1}, \"mode\": \"lines\", \"type\": \"scatter\", \"x\": [-0.027032038640550888, -0.008741227202852623, null], \"y\": [-0.06945797406197159, -0.052161595565536054, null]}, {\"line\": {\"color\": \"gray\", \"width\": 1}, \"mode\": \"lines\", \"type\": \"scatter\", \"x\": [-0.027032038640550888, 0.004594199691265823, null], \"y\": [-0.06945797406197159, -0.09402189801422985, null]}, {\"line\": {\"color\": \"gray\", \"width\": 1}, \"mode\": \"lines\", \"type\": \"scatter\", \"x\": [-0.027032038640550888, 0.025139078558690037, null], \"y\": [-0.06945797406197159, -0.09911169046248985, null]}, {\"line\": {\"color\": \"gray\", \"width\": 1}, \"mode\": \"lines\", \"type\": \"scatter\", \"x\": [-0.027032038640550888, 0.011615330354736851, null], \"y\": [-0.06945797406197159, -0.05854674211512732, null]}, {\"line\": {\"color\": \"gray\", \"width\": 1}, \"mode\": \"lines\", \"type\": \"scatter\", \"x\": [-0.027032038640550888, -0.05486937877036051, null], \"y\": [-0.06945797406197159, -0.09384035644336178, null]}, {\"line\": {\"color\": \"gray\", \"width\": 1}, \"mode\": \"lines\", \"type\": \"scatter\", \"x\": [-0.027032038640550888, -0.014227736832075925, null], \"y\": [-0.06945797406197159, -0.042792972167334124, null]}, {\"line\": {\"color\": \"gray\", \"width\": 1}, \"mode\": \"lines\", \"type\": \"scatter\", \"x\": [-0.05944785158417491, -0.1362666086176126, null], \"y\": [0.04177282681198829, 0.09520741562189973, null]}, {\"line\": {\"color\": \"gray\", \"width\": 1}, \"mode\": \"lines\", \"type\": \"scatter\", \"x\": [-0.05944785158417491, -0.021516912944154, null], \"y\": [0.04177282681198829, -0.018665010061002088, null]}, {\"line\": {\"color\": \"gray\", \"width\": 1}, \"mode\": \"lines\", \"type\": \"scatter\", \"x\": [-0.05944785158417491, -0.008741227202852623, null], \"y\": [0.04177282681198829, -0.052161595565536054, null]}, {\"line\": {\"color\": \"gray\", \"width\": 1}, \"mode\": \"lines\", \"type\": \"scatter\", \"x\": [-0.05944785158417491, 0.013997672722655018, null], \"y\": [0.04177282681198829, 0.023564009485678414, null]}, {\"line\": {\"color\": \"gray\", \"width\": 1}, \"mode\": \"lines\", \"type\": \"scatter\", \"x\": [0.00665208288341612, -0.008741227202852623, null], \"y\": [-0.15095276344136388, -0.052161595565536054, null]}, {\"line\": {\"color\": \"gray\", \"width\": 1}, \"mode\": \"lines\", \"type\": \"scatter\", \"x\": [-0.09778162613036662, 0.0001290653969096381, null], \"y\": [0.07171137727518094, -0.009795849825951107, null]}, {\"line\": {\"color\": \"gray\", \"width\": 1}, \"mode\": \"lines\", \"type\": \"scatter\", \"x\": [-0.09778162613036662, -0.02732241667018175, null], \"y\": [0.07171137727518094, 0.05134726877708089, null]}, {\"line\": {\"color\": \"gray\", \"width\": 1}, \"mode\": \"lines\", \"type\": \"scatter\", \"x\": [-0.021516912944154, -0.008741227202852623, null], \"y\": [-0.018665010061002088, -0.052161595565536054, null]}, {\"line\": {\"color\": \"gray\", \"width\": 1}, \"mode\": \"lines\", \"type\": \"scatter\", \"x\": [-0.021516912944154, -0.021197955990192686, null], \"y\": [-0.018665010061002088, -0.05745791917966554, null]}, {\"line\": {\"color\": \"gray\", \"width\": 1}, \"mode\": \"lines\", \"type\": \"scatter\", \"x\": [-0.021516912944154, -0.05263513394908113, null], \"y\": [-0.018665010061002088, -0.05959821037374742, null]}, {\"line\": {\"color\": \"gray\", \"width\": 1}, \"mode\": \"lines\", \"type\": \"scatter\", \"x\": [-0.021516912944154, 0.004594199691265823, null], \"y\": [-0.018665010061002088, -0.09402189801422985, null]}, {\"line\": {\"color\": \"gray\", \"width\": 1}, \"mode\": \"lines\", \"type\": \"scatter\", \"x\": [-0.021516912944154, 0.04553561082060511, null], \"y\": [-0.018665010061002088, -0.04292248631664749, null]}, {\"line\": {\"color\": \"gray\", \"width\": 1}, \"mode\": \"lines\", \"type\": \"scatter\", \"x\": [-0.021516912944154, 0.011615330354736851, null], \"y\": [-0.018665010061002088, -0.05854674211512732, null]}, {\"line\": {\"color\": \"gray\", \"width\": 1}, \"mode\": \"lines\", \"type\": \"scatter\", \"x\": [-0.021516912944154, 0.010282396206012808, null], \"y\": [-0.018665010061002088, -0.03316240999329074, null]}, {\"line\": {\"color\": \"gray\", \"width\": 1}, \"mode\": \"lines\", \"type\": \"scatter\", \"x\": [-0.021516912944154, -0.07475967057635224, null], \"y\": [-0.018665010061002088, -0.035391740620783804, null]}, {\"line\": {\"color\": \"gray\", \"width\": 1}, \"mode\": \"lines\", \"type\": \"scatter\", \"x\": [-0.021516912944154, -0.010645963918469779, null], \"y\": [-0.018665010061002088, 0.0033856726588972165, null]}, {\"line\": {\"color\": \"gray\", \"width\": 1}, \"mode\": \"lines\", \"type\": \"scatter\", \"x\": [-0.021516912944154, 0.03358773897590849, null], \"y\": [-0.018665010061002088, 0.04392918373511421, null]}, {\"line\": {\"color\": \"gray\", \"width\": 1}, \"mode\": \"lines\", \"type\": \"scatter\", \"x\": [-0.021516912944154, -0.019928570493757194, null], \"y\": [-0.018665010061002088, 0.01714806083073243, null]}, {\"line\": {\"color\": \"gray\", \"width\": 1}, \"mode\": \"lines\", \"type\": \"scatter\", \"x\": [-0.021516912944154, 0.05326995236169977, null], \"y\": [-0.018665010061002088, 0.04079751133169319, null]}, {\"line\": {\"color\": \"gray\", \"width\": 1}, \"mode\": \"lines\", \"type\": \"scatter\", \"x\": [-0.021516912944154, -0.07591352271614883, null], \"y\": [-0.018665010061002088, -0.12629464524415931, null]}, {\"line\": {\"color\": \"gray\", \"width\": 1}, \"mode\": \"lines\", \"type\": \"scatter\", \"x\": [-0.021516912944154, -0.008720142567485002, null], \"y\": [-0.018665010061002088, -0.01568299203923696, null]}, {\"line\": {\"color\": \"gray\", \"width\": 1}, \"mode\": \"lines\", \"type\": \"scatter\", \"x\": [-0.021516912944154, -0.014227736832075925, null], \"y\": [-0.018665010061002088, -0.042792972167334124, null]}, {\"line\": {\"color\": \"gray\", \"width\": 1}, \"mode\": \"lines\", \"type\": \"scatter\", \"x\": [-0.021516912944154, -0.04034712207092415, null], \"y\": [-0.018665010061002088, 0.07838911253978155, null]}, {\"line\": {\"color\": \"gray\", \"width\": 1}, \"mode\": \"lines\", \"type\": \"scatter\", \"x\": [0.2003910368912326, 0.2786406242445685, null], \"y\": [-0.003731233742453892, -8.10548916527114e-05, null]}, {\"line\": {\"color\": \"gray\", \"width\": 1}, \"mode\": \"lines\", \"type\": \"scatter\", \"x\": [0.2003910368912326, 0.12230726591278249, null], \"y\": [-0.003731233742453892, 0.022363225319855483, null]}, {\"line\": {\"color\": \"gray\", \"width\": 1}, \"mode\": \"lines\", \"type\": \"scatter\", \"x\": [0.0015666838803731872, 0.025139078558690037, null], \"y\": [-0.06968905573605497, -0.09911169046248985, null]}, {\"line\": {\"color\": \"gray\", \"width\": 1}, \"mode\": \"lines\", \"type\": \"scatter\", \"x\": [0.0015666838803731872, 0.011615330354736851, null], \"y\": [-0.06968905573605497, -0.05854674211512732, null]}, {\"line\": {\"color\": \"gray\", \"width\": 1}, \"mode\": \"lines\", \"type\": \"scatter\", \"x\": [0.0015666838803731872, 0.0434227395395735, null], \"y\": [-0.06968905573605497, -0.013805682413551991, null]}, {\"line\": {\"color\": \"gray\", \"width\": 1}, \"mode\": \"lines\", \"type\": \"scatter\", \"x\": [0.0015666838803731872, -0.014227736832075925, null], \"y\": [-0.06968905573605497, -0.042792972167334124, null]}, {\"line\": {\"color\": \"gray\", \"width\": 1}, \"mode\": \"lines\", \"type\": \"scatter\", \"x\": [-0.10454006771260613, -0.05263513394908113, null], \"y\": [-0.13884633225290569, -0.05959821037374742, null]}, {\"line\": {\"color\": \"gray\", \"width\": 1}, \"mode\": \"lines\", \"type\": \"scatter\", \"x\": [-0.0932236090725361, -0.021197955990192686, null], \"y\": [-0.07236604843832767, -0.05745791917966554, null]}, {\"line\": {\"color\": \"gray\", \"width\": 1}, \"mode\": \"lines\", \"type\": \"scatter\", \"x\": [-0.0932236090725361, -0.05263513394908113, null], \"y\": [-0.07236604843832767, -0.05959821037374742, null]}, {\"line\": {\"color\": \"gray\", \"width\": 1}, \"mode\": \"lines\", \"type\": \"scatter\", \"x\": [-0.008741227202852623, -0.021197955990192686, null], \"y\": [-0.052161595565536054, -0.05745791917966554, null]}, {\"line\": {\"color\": \"gray\", \"width\": 1}, \"mode\": \"lines\", \"type\": \"scatter\", \"x\": [-0.008741227202852623, -0.05263513394908113, null], \"y\": [-0.052161595565536054, -0.05959821037374742, null]}, {\"line\": {\"color\": \"gray\", \"width\": 1}, \"mode\": \"lines\", \"type\": \"scatter\", \"x\": [-0.008741227202852623, 0.04079193564111641, null], \"y\": [-0.052161595565536054, -0.14318122502558658, null]}, {\"line\": {\"color\": \"gray\", \"width\": 1}, \"mode\": \"lines\", \"type\": \"scatter\", \"x\": [-0.008741227202852623, 0.04376713513072373, null], \"y\": [-0.052161595565536054, -0.06864953316320788, null]}, {\"line\": {\"color\": \"gray\", \"width\": 1}, \"mode\": \"lines\", \"type\": \"scatter\", \"x\": [-0.008741227202852623, 0.011615330354736851, null], \"y\": [-0.052161595565536054, -0.05854674211512732, null]}, {\"line\": {\"color\": \"gray\", \"width\": 1}, \"mode\": \"lines\", \"type\": \"scatter\", \"x\": [-0.008741227202852623, -0.05486937877036051, null], \"y\": [-0.052161595565536054, -0.09384035644336178, null]}, {\"line\": {\"color\": \"gray\", \"width\": 1}, \"mode\": \"lines\", \"type\": \"scatter\", \"x\": [-0.008741227202852623, -0.014227736832075925, null], \"y\": [-0.052161595565536054, -0.042792972167334124, null]}, {\"line\": {\"color\": \"gray\", \"width\": 1}, \"mode\": \"lines\", \"type\": \"scatter\", \"x\": [-0.021197955990192686, -0.03864867092112275, null], \"y\": [-0.05745791917966554, -0.019682815850479544, null]}, {\"line\": {\"color\": \"gray\", \"width\": 1}, \"mode\": \"lines\", \"type\": \"scatter\", \"x\": [-0.021197955990192686, -0.05263513394908113, null], \"y\": [-0.05745791917966554, -0.05959821037374742, null]}, {\"line\": {\"color\": \"gray\", \"width\": 1}, \"mode\": \"lines\", \"type\": \"scatter\", \"x\": [-0.021197955990192686, 0.0774115646929293, null], \"y\": [-0.05745791917966554, -0.07284954976114227, null]}, {\"line\": {\"color\": \"gray\", \"width\": 1}, \"mode\": \"lines\", \"type\": \"scatter\", \"x\": [-0.021197955990192686, 0.011615330354736851, null], \"y\": [-0.05745791917966554, -0.05854674211512732, null]}, {\"line\": {\"color\": \"gray\", \"width\": 1}, \"mode\": \"lines\", \"type\": \"scatter\", \"x\": [-0.021197955990192686, -0.04162314538694668, null], \"y\": [-0.05745791917966554, -0.14260683343617309, null]}, {\"line\": {\"color\": \"gray\", \"width\": 1}, \"mode\": \"lines\", \"type\": \"scatter\", \"x\": [-0.021197955990192686, 0.010282396206012808, null], \"y\": [-0.05745791917966554, -0.03316240999329074, null]}, {\"line\": {\"color\": \"gray\", \"width\": 1}, \"mode\": \"lines\", \"type\": \"scatter\", \"x\": [-0.021197955990192686, -0.010645963918469779, null], \"y\": [-0.05745791917966554, 0.0033856726588972165, null]}, {\"line\": {\"color\": \"gray\", \"width\": 1}, \"mode\": \"lines\", \"type\": \"scatter\", \"x\": [-0.021197955990192686, -0.019928570493757194, null], \"y\": [-0.05745791917966554, 0.01714806083073243, null]}, {\"line\": {\"color\": \"gray\", \"width\": 1}, \"mode\": \"lines\", \"type\": \"scatter\", \"x\": [-0.029477379413069597, 0.0001290653969096381, null], \"y\": [-0.08765490073665703, -0.009795849825951107, null]}, {\"line\": {\"color\": \"gray\", \"width\": 1}, \"mode\": \"lines\", \"type\": \"scatter\", \"x\": [-0.029477379413069597, -0.0457296305512359, null], \"y\": [-0.08765490073665703, -0.0493203522666341, null]}, {\"line\": {\"color\": \"gray\", \"width\": 1}, \"mode\": \"lines\", \"type\": \"scatter\", \"x\": [0.07117166498280708, 0.026255346767432592, null], \"y\": [-0.17162925497425227, -0.08630676523103266, null]}, {\"line\": {\"color\": \"gray\", \"width\": 1}, \"mode\": \"lines\", \"type\": \"scatter\", \"x\": [-0.03864867092112275, -0.044879205105378454, null], \"y\": [-0.019682815850479544, 0.05513048090909525, null]}, {\"line\": {\"color\": \"gray\", \"width\": 1}, \"mode\": \"lines\", \"type\": \"scatter\", \"x\": [-0.03864867092112275, 0.011615330354736851, null], \"y\": [-0.019682815850479544, -0.05854674211512732, null]}, {\"line\": {\"color\": \"gray\", \"width\": 1}, \"mode\": \"lines\", \"type\": \"scatter\", \"x\": [-0.03864867092112275, -0.014227736832075925, null], \"y\": [-0.019682815850479544, -0.042792972167334124, null]}, {\"line\": {\"color\": \"gray\", \"width\": 1}, \"mode\": \"lines\", \"type\": \"scatter\", \"x\": [0.026255346767432592, 0.004594199691265823, null], \"y\": [-0.08630676523103266, -0.09402189801422985, null]}, {\"line\": {\"color\": \"gray\", \"width\": 1}, \"mode\": \"lines\", \"type\": \"scatter\", \"x\": [0.026255346767432592, 0.0001290653969096381, null], \"y\": [-0.08630676523103266, -0.009795849825951107, null]}, {\"line\": {\"color\": \"gray\", \"width\": 1}, \"mode\": \"lines\", \"type\": \"scatter\", \"x\": [0.026255346767432592, -0.0457296305512359, null], \"y\": [-0.08630676523103266, -0.0493203522666341, null]}, {\"line\": {\"color\": \"gray\", \"width\": 1}, \"mode\": \"lines\", \"type\": \"scatter\", \"x\": [0.026255346767432592, 0.04553561082060511, null], \"y\": [-0.08630676523103266, -0.04292248631664749, null]}, {\"line\": {\"color\": \"gray\", \"width\": 1}, \"mode\": \"lines\", \"type\": \"scatter\", \"x\": [0.026255346767432592, 0.010282396206012808, null], \"y\": [-0.08630676523103266, -0.03316240999329074, null]}, {\"line\": {\"color\": \"gray\", \"width\": 1}, \"mode\": \"lines\", \"type\": \"scatter\", \"x\": [-0.05263513394908113, -0.12685933992984552, null], \"y\": [-0.05959821037374742, -0.08025122201698884, null]}, {\"line\": {\"color\": \"gray\", \"width\": 1}, \"mode\": \"lines\", \"type\": \"scatter\", \"x\": [-0.05263513394908113, 0.04987082912500304, null], \"y\": [-0.05959821037374742, 0.006878244098634228, null]}, {\"line\": {\"color\": \"gray\", \"width\": 1}, \"mode\": \"lines\", \"type\": \"scatter\", \"x\": [-0.05263513394908113, 0.0001290653969096381, null], \"y\": [-0.05959821037374742, -0.009795849825951107, null]}, {\"line\": {\"color\": \"gray\", \"width\": 1}, \"mode\": \"lines\", \"type\": \"scatter\", \"x\": [-0.05263513394908113, -0.0457296305512359, null], \"y\": [-0.05959821037374742, -0.0493203522666341, null]}, {\"line\": {\"color\": \"gray\", \"width\": 1}, \"mode\": \"lines\", \"type\": \"scatter\", \"x\": [-0.05263513394908113, -0.014227736832075925, null], \"y\": [-0.05959821037374742, -0.042792972167334124, null]}, {\"line\": {\"color\": \"gray\", \"width\": 1}, \"mode\": \"lines\", \"type\": \"scatter\", \"x\": [0.004594199691265823, 0.025139078558690037, null], \"y\": [-0.09402189801422985, -0.09911169046248985, null]}, {\"line\": {\"color\": \"gray\", \"width\": 1}, \"mode\": \"lines\", \"type\": \"scatter\", \"x\": [0.004594199691265823, 0.011615330354736851, null], \"y\": [-0.09402189801422985, -0.05854674211512732, null]}, {\"line\": {\"color\": \"gray\", \"width\": 1}, \"mode\": \"lines\", \"type\": \"scatter\", \"x\": [0.04987082912500304, 0.10131781002185844, null], \"y\": [0.006878244098634228, 0.061712465485757734, null]}, {\"line\": {\"color\": \"gray\", \"width\": 1}, \"mode\": \"lines\", \"type\": \"scatter\", \"x\": [0.04987082912500304, 0.06951420363626727, null], \"y\": [0.006878244098634228, 0.0020089009530309242, null]}, {\"line\": {\"color\": \"gray\", \"width\": 1}, \"mode\": \"lines\", \"type\": \"scatter\", \"x\": [0.04987082912500304, 0.1071181977287555, null], \"y\": [0.006878244098634228, -0.04489093937239983, null]}, {\"line\": {\"color\": \"gray\", \"width\": 1}, \"mode\": \"lines\", \"type\": \"scatter\", \"x\": [0.04987082912500304, -0.010645963918469779, null], \"y\": [0.006878244098634228, 0.0033856726588972165, null]}, {\"line\": {\"color\": \"gray\", \"width\": 1}, \"mode\": \"lines\", \"type\": \"scatter\", \"x\": [0.04987082912500304, 0.05326995236169977, null], \"y\": [0.006878244098634228, 0.04079751133169319, null]}, {\"line\": {\"color\": \"gray\", \"width\": 1}, \"mode\": \"lines\", \"type\": \"scatter\", \"x\": [0.04987082912500304, 0.07394517690385609, null], \"y\": [0.006878244098634228, 0.07788751583557248, null]}, {\"line\": {\"color\": \"gray\", \"width\": 1}, \"mode\": \"lines\", \"type\": \"scatter\", \"x\": [0.04376713513072373, 0.0001290653969096381, null], \"y\": [-0.06864953316320788, -0.009795849825951107, null]}, {\"line\": {\"color\": \"gray\", \"width\": 1}, \"mode\": \"lines\", \"type\": \"scatter\", \"x\": [0.10131781002185844, 0.09610149729481736, null], \"y\": [0.061712465485757734, 0.015339971581803686, null]}, {\"line\": {\"color\": \"gray\", \"width\": 1}, \"mode\": \"lines\", \"type\": \"scatter\", \"x\": [0.10131781002185844, 0.03358773897590849, null], \"y\": [0.061712465485757734, 0.04392918373511421, null]}, {\"line\": {\"color\": \"gray\", \"width\": 1}, \"mode\": \"lines\", \"type\": \"scatter\", \"x\": [0.10131781002185844, 0.12153820076340302, null], \"y\": [0.061712465485757734, 0.11045723472075525, null]}, {\"line\": {\"color\": \"gray\", \"width\": 1}, \"mode\": \"lines\", \"type\": \"scatter\", \"x\": [0.09610149729481736, 0.06951420363626727, null], \"y\": [0.015339971581803686, 0.0020089009530309242, null]}, {\"line\": {\"color\": \"gray\", \"width\": 1}, \"mode\": \"lines\", \"type\": \"scatter\", \"x\": [0.09610149729481736, 0.0001290653969096381, null], \"y\": [0.015339971581803686, -0.009795849825951107, null]}, {\"line\": {\"color\": \"gray\", \"width\": 1}, \"mode\": \"lines\", \"type\": \"scatter\", \"x\": [0.06951420363626727, 0.0001290653969096381, null], \"y\": [0.0020089009530309242, -0.009795849825951107, null]}, {\"line\": {\"color\": \"gray\", \"width\": 1}, \"mode\": \"lines\", \"type\": \"scatter\", \"x\": [0.06951420363626727, 0.013997672722655018, null], \"y\": [0.0020089009530309242, 0.023564009485678414, null]}, {\"line\": {\"color\": \"gray\", \"width\": 1}, \"mode\": \"lines\", \"type\": \"scatter\", \"x\": [0.0001290653969096381, -0.0457296305512359, null], \"y\": [-0.009795849825951107, -0.0493203522666341, null]}, {\"line\": {\"color\": \"gray\", \"width\": 1}, \"mode\": \"lines\", \"type\": \"scatter\", \"x\": [0.0001290653969096381, 0.010282396206012808, null], \"y\": [-0.009795849825951107, -0.03316240999329074, null]}, {\"line\": {\"color\": \"gray\", \"width\": 1}, \"mode\": \"lines\", \"type\": \"scatter\", \"x\": [0.0001290653969096381, -0.07475967057635224, null], \"y\": [-0.009795849825951107, -0.035391740620783804, null]}, {\"line\": {\"color\": \"gray\", \"width\": 1}, \"mode\": \"lines\", \"type\": \"scatter\", \"x\": [0.0001290653969096381, 0.03358773897590849, null], \"y\": [-0.009795849825951107, 0.04392918373511421, null]}, {\"line\": {\"color\": \"gray\", \"width\": 1}, \"mode\": \"lines\", \"type\": \"scatter\", \"x\": [0.0001290653969096381, -0.019928570493757194, null], \"y\": [-0.009795849825951107, 0.01714806083073243, null]}, {\"line\": {\"color\": \"gray\", \"width\": 1}, \"mode\": \"lines\", \"type\": \"scatter\", \"x\": [0.0001290653969096381, 0.013997672722655018, null], \"y\": [-0.009795849825951107, 0.023564009485678414, null]}, {\"line\": {\"color\": \"gray\", \"width\": 1}, \"mode\": \"lines\", \"type\": \"scatter\", \"x\": [0.0001290653969096381, -0.008720142567485002, null], \"y\": [-0.009795849825951107, -0.01568299203923696, null]}, {\"line\": {\"color\": \"gray\", \"width\": 1}, \"mode\": \"lines\", \"type\": \"scatter\", \"x\": [0.0001290653969096381, 0.027771597380642894, null], \"y\": [-0.009795849825951107, 0.0673059353539396, null]}, {\"line\": {\"color\": \"gray\", \"width\": 1}, \"mode\": \"lines\", \"type\": \"scatter\", \"x\": [-0.0457296305512359, 0.010282396206012808, null], \"y\": [-0.0493203522666341, -0.03316240999329074, null]}, {\"line\": {\"color\": \"gray\", \"width\": 1}, \"mode\": \"lines\", \"type\": \"scatter\", \"x\": [-0.0457296305512359, -0.07409371248975366, null], \"y\": [-0.0493203522666341, 0.018872792165201935, null]}, {\"line\": {\"color\": \"gray\", \"width\": 1}, \"mode\": \"lines\", \"type\": \"scatter\", \"x\": [0.1071181977287555, 0.04553561082060511, null], \"y\": [-0.04489093937239983, -0.04292248631664749, null]}, {\"line\": {\"color\": \"gray\", \"width\": 1}, \"mode\": \"lines\", \"type\": \"scatter\", \"x\": [-0.044879205105378454, -0.019928570493757194, null], \"y\": [0.05513048090909525, 0.01714806083073243, null]}, {\"line\": {\"color\": \"gray\", \"width\": 1}, \"mode\": \"lines\", \"type\": \"scatter\", \"x\": [0.04553561082060511, 0.025139078558690037, null], \"y\": [-0.04292248631664749, -0.09911169046248985, null]}, {\"line\": {\"color\": \"gray\", \"width\": 1}, \"mode\": \"lines\", \"type\": \"scatter\", \"x\": [0.04553561082060511, 0.12891852136337031, null], \"y\": [-0.04292248631664749, -0.09251998326163623, null]}, {\"line\": {\"color\": \"gray\", \"width\": 1}, \"mode\": \"lines\", \"type\": \"scatter\", \"x\": [0.04553561082060511, 0.011615330354736851, null], \"y\": [-0.04292248631664749, -0.05854674211512732, null]}, {\"line\": {\"color\": \"gray\", \"width\": 1}, \"mode\": \"lines\", \"type\": \"scatter\", \"x\": [0.04553561082060511, -0.019928570493757194, null], \"y\": [-0.04292248631664749, 0.01714806083073243, null]}, {\"line\": {\"color\": \"gray\", \"width\": 1}, \"mode\": \"lines\", \"type\": \"scatter\", \"x\": [0.025139078558690037, 0.011615330354736851, null], \"y\": [-0.09911169046248985, -0.05854674211512732, null]}, {\"line\": {\"color\": \"gray\", \"width\": 1}, \"mode\": \"lines\", \"type\": \"scatter\", \"x\": [0.011615330354736851, 0.010282396206012808, null], \"y\": [-0.05854674211512732, -0.03316240999329074, null]}, {\"line\": {\"color\": \"gray\", \"width\": 1}, \"mode\": \"lines\", \"type\": \"scatter\", \"x\": [0.011615330354736851, 0.0434227395395735, null], \"y\": [-0.05854674211512732, -0.013805682413551991, null]}, {\"line\": {\"color\": \"gray\", \"width\": 1}, \"mode\": \"lines\", \"type\": \"scatter\", \"x\": [-0.04736754984780746, -0.04034712207092415, null], \"y\": [0.1666204581728637, 0.07838911253978155, null]}, {\"line\": {\"color\": \"gray\", \"width\": 1}, \"mode\": \"lines\", \"type\": \"scatter\", \"x\": [-0.0724212060593034, -0.04034712207092415, null], \"y\": [0.16088599112552743, 0.07838911253978155, null]}, {\"line\": {\"color\": \"gray\", \"width\": 1}, \"mode\": \"lines\", \"type\": \"scatter\", \"x\": [0.07661215859862615, 0.0025202666754051035, null], \"y\": [0.04059045805482657, 0.059597373231644865, null]}, {\"line\": {\"color\": \"gray\", \"width\": 1}, \"mode\": \"lines\", \"type\": \"scatter\", \"x\": [0.07661215859862615, 0.07394517690385609, null], \"y\": [0.04059045805482657, 0.07788751583557248, null]}, {\"line\": {\"color\": \"gray\", \"width\": 1}, \"mode\": \"lines\", \"type\": \"scatter\", \"x\": [-0.07409371248975366, -0.01828027108607692, null], \"y\": [0.018872792165201935, 0.06494535333082632, null]}, {\"line\": {\"color\": \"gray\", \"width\": 1}, \"mode\": \"lines\", \"type\": \"scatter\", \"x\": [-0.07409371248975366, -0.1010006751721729, null], \"y\": [0.018872792165201935, 0.007063440623874999, null]}, {\"line\": {\"color\": \"gray\", \"width\": 1}, \"mode\": \"lines\", \"type\": \"scatter\", \"x\": [-0.03987595939911223, -0.02732241667018175, null], \"y\": [0.08494012937042902, 0.05134726877708089, null]}, {\"line\": {\"color\": \"gray\", \"width\": 1}, \"mode\": \"lines\", \"type\": \"scatter\", \"x\": [-0.03987595939911223, 0.0025202666754051035, null], \"y\": [0.08494012937042902, 0.059597373231644865, null]}, {\"line\": {\"color\": \"gray\", \"width\": 1}, \"mode\": \"lines\", \"type\": \"scatter\", \"x\": [-0.02732241667018175, 0.0025202666754051035, null], \"y\": [0.05134726877708089, 0.059597373231644865, null]}, {\"line\": {\"color\": \"gray\", \"width\": 1}, \"mode\": \"lines\", \"type\": \"scatter\", \"x\": [-0.02732241667018175, 0.07394517690385609, null], \"y\": [0.05134726877708089, 0.07788751583557248, null]}, {\"line\": {\"color\": \"gray\", \"width\": 1}, \"mode\": \"lines\", \"type\": \"scatter\", \"x\": [-0.02732241667018175, 0.027771597380642894, null], \"y\": [0.05134726877708089, 0.0673059353539396, null]}, {\"line\": {\"color\": \"gray\", \"width\": 1}, \"mode\": \"lines\", \"type\": \"scatter\", \"x\": [0.0025202666754051035, -0.06479823258549271, null], \"y\": [0.059597373231644865, 0.029048344904688644, null]}, {\"line\": {\"color\": \"gray\", \"width\": 1}, \"mode\": \"lines\", \"type\": \"scatter\", \"x\": [0.0025202666754051035, -0.01828027108607692, null], \"y\": [0.059597373231644865, 0.06494535333082632, null]}, {\"line\": {\"color\": \"gray\", \"width\": 1}, \"mode\": \"lines\", \"type\": \"scatter\", \"x\": [0.0025202666754051035, -0.010645963918469779, null], \"y\": [0.059597373231644865, 0.0033856726588972165, null]}, {\"line\": {\"color\": \"gray\", \"width\": 1}, \"mode\": \"lines\", \"type\": \"scatter\", \"x\": [0.0025202666754051035, 0.019488692259275686, null], \"y\": [0.059597373231644865, 0.15362486181546753, null]}, {\"line\": {\"color\": \"gray\", \"width\": 1}, \"mode\": \"lines\", \"type\": \"scatter\", \"x\": [0.0025202666754051035, -0.014227736832075925, null], \"y\": [0.059597373231644865, -0.042792972167334124, null]}, {\"line\": {\"color\": \"gray\", \"width\": 1}, \"mode\": \"lines\", \"type\": \"scatter\", \"x\": [-0.06479823258549271, -0.010645963918469779, null], \"y\": [0.029048344904688644, 0.0033856726588972165, null]}, {\"line\": {\"color\": \"gray\", \"width\": 1}, \"mode\": \"lines\", \"type\": \"scatter\", \"x\": [-0.06479823258549271, -0.019928570493757194, null], \"y\": [0.029048344904688644, 0.01714806083073243, null]}, {\"line\": {\"color\": \"gray\", \"width\": 1}, \"mode\": \"lines\", \"type\": \"scatter\", \"x\": [-0.1651602679450892, -0.07475967057635224, null], \"y\": [-0.04866897727482697, -0.035391740620783804, null]}, {\"line\": {\"color\": \"gray\", \"width\": 1}, \"mode\": \"lines\", \"type\": \"scatter\", \"x\": [-0.07475967057635224, -0.010645963918469779, null], \"y\": [-0.035391740620783804, 0.0033856726588972165, null]}, {\"line\": {\"color\": \"gray\", \"width\": 1}, \"mode\": \"lines\", \"type\": \"scatter\", \"x\": [-0.07475967057635224, -0.1111167862361388, null], \"y\": [-0.035391740620783804, -0.0855111738776797, null]}, {\"line\": {\"color\": \"gray\", \"width\": 1}, \"mode\": \"lines\", \"type\": \"scatter\", \"x\": [-0.07475967057635224, -0.014227736832075925, null], \"y\": [-0.035391740620783804, -0.042792972167334124, null]}, {\"line\": {\"color\": \"gray\", \"width\": 1}, \"mode\": \"lines\", \"type\": \"scatter\", \"x\": [-0.01828027108607692, 0.03358773897590849, null], \"y\": [0.06494535333082632, 0.04392918373511421, null]}, {\"line\": {\"color\": \"gray\", \"width\": 1}, \"mode\": \"lines\", \"type\": \"scatter\", \"x\": [-0.01828027108607692, -0.019928570493757194, null], \"y\": [0.06494535333082632, 0.01714806083073243, null]}, {\"line\": {\"color\": \"gray\", \"width\": 1}, \"mode\": \"lines\", \"type\": \"scatter\", \"x\": [-0.01828027108607692, 0.013997672722655018, null], \"y\": [0.06494535333082632, 0.023564009485678414, null]}, {\"line\": {\"color\": \"gray\", \"width\": 1}, \"mode\": \"lines\", \"type\": \"scatter\", \"x\": [-0.01828027108607692, -0.04034712207092415, null], \"y\": [0.06494535333082632, 0.07838911253978155, null]}, {\"line\": {\"color\": \"gray\", \"width\": 1}, \"mode\": \"lines\", \"type\": \"scatter\", \"x\": [-0.07000909473175272, -0.019928570493757194, null], \"y\": [0.08978340239526758, 0.01714806083073243, null]}, {\"line\": {\"color\": \"gray\", \"width\": 1}, \"mode\": \"lines\", \"type\": \"scatter\", \"x\": [-0.010645963918469779, 0.0434227395395735, null], \"y\": [0.0033856726588972165, -0.013805682413551991, null]}, {\"line\": {\"color\": \"gray\", \"width\": 1}, \"mode\": \"lines\", \"type\": \"scatter\", \"x\": [-0.010645963918469779, 0.013997672722655018, null], \"y\": [0.0033856726588972165, 0.023564009485678414, null]}, {\"line\": {\"color\": \"gray\", \"width\": 1}, \"mode\": \"lines\", \"type\": \"scatter\", \"x\": [-0.1010006751721729, -0.008720142567485002, null], \"y\": [0.007063440623874999, -0.01568299203923696, null]}, {\"line\": {\"color\": \"gray\", \"width\": 1}, \"mode\": \"lines\", \"type\": \"scatter\", \"x\": [0.03358773897590849, 0.05810657203436433, null], \"y\": [0.04392918373511421, 0.08959700631000932, null]}, {\"line\": {\"color\": \"gray\", \"width\": 1}, \"mode\": \"lines\", \"type\": \"scatter\", \"x\": [0.03358773897590849, 0.0434227395395735, null], \"y\": [0.04392918373511421, -0.013805682413551991, null]}, {\"line\": {\"color\": \"gray\", \"width\": 1}, \"mode\": \"lines\", \"type\": \"scatter\", \"x\": [0.03358773897590849, 0.12153820076340302, null], \"y\": [0.04392918373511421, 0.11045723472075525, null]}, {\"line\": {\"color\": \"gray\", \"width\": 1}, \"mode\": \"lines\", \"type\": \"scatter\", \"x\": [0.03358773897590849, -0.014227736832075925, null], \"y\": [0.04392918373511421, -0.042792972167334124, null]}, {\"line\": {\"color\": \"gray\", \"width\": 1}, \"mode\": \"lines\", \"type\": \"scatter\", \"x\": [0.03358773897590849, -0.04034712207092415, null], \"y\": [0.04392918373511421, 0.07838911253978155, null]}, {\"line\": {\"color\": \"gray\", \"width\": 1}, \"mode\": \"lines\", \"type\": \"scatter\", \"x\": [-0.019928570493757194, 0.013997672722655018, null], \"y\": [0.01714806083073243, 0.023564009485678414, null]}, {\"line\": {\"color\": \"gray\", \"width\": 1}, \"mode\": \"lines\", \"type\": \"scatter\", \"x\": [-0.019928570493757194, -0.014227736832075925, null], \"y\": [0.01714806083073243, -0.042792972167334124, null]}, {\"line\": {\"color\": \"gray\", \"width\": 1}, \"mode\": \"lines\", \"type\": \"scatter\", \"x\": [0.05810657203436433, 0.013997672722655018, null], \"y\": [0.08959700631000932, 0.023564009485678414, null]}, {\"line\": {\"color\": \"gray\", \"width\": 1}, \"mode\": \"lines\", \"type\": \"scatter\", \"x\": [0.0434227395395735, 0.013997672722655018, null], \"y\": [-0.013805682413551991, 0.023564009485678414, null]}, {\"line\": {\"color\": \"gray\", \"width\": 1}, \"mode\": \"lines\", \"type\": \"scatter\", \"x\": [0.0434227395395735, -0.008720142567485002, null], \"y\": [-0.013805682413551991, -0.01568299203923696, null]}, {\"line\": {\"color\": \"gray\", \"width\": 1}, \"mode\": \"lines\", \"type\": \"scatter\", \"x\": [0.05326995236169977, 0.07394517690385609, null], \"y\": [0.04079751133169319, 0.07788751583557248, null]}, {\"line\": {\"color\": \"gray\", \"width\": 1}, \"mode\": \"lines\", \"type\": \"scatter\", \"x\": [0.12153820076340302, 0.18525249429876803, null], \"y\": [0.11045723472075525, 0.16577244105824285, null]}, {\"line\": {\"color\": \"gray\", \"width\": 1}, \"mode\": \"lines\", \"type\": \"scatter\", \"x\": [0.013997672722655018, -0.014227736832075925, null], \"y\": [0.023564009485678414, -0.042792972167334124, null]}, {\"line\": {\"color\": \"gray\", \"width\": 1}, \"mode\": \"lines\", \"type\": \"scatter\", \"x\": [0.14458798010317703, 0.07394517690385609, null], \"y\": [0.13266667702907345, 0.07788751583557248, null]}, {\"line\": {\"color\": \"gray\", \"width\": 1}, \"mode\": \"lines\", \"type\": \"scatter\", \"x\": [-0.10687927509769043, -0.07591352271614883, null], \"y\": [-0.20576695390072822, -0.12629464524415931, null]}, {\"line\": {\"color\": \"gray\", \"width\": 1}, \"mode\": \"lines\", \"type\": \"scatter\", \"x\": [-0.145631153558427, -0.07591352271614883, null], \"y\": [-0.20361638138164276, -0.12629464524415931, null]}, {\"line\": {\"color\": \"gray\", \"width\": 1}, \"mode\": \"lines\", \"type\": \"scatter\", \"x\": [0.07193831294249597, -0.008720142567485002, null], \"y\": [-0.0369233882813717, -0.01568299203923696, null]}, {\"line\": {\"color\": \"gray\", \"width\": 1}, \"mode\": \"lines\", \"type\": \"scatter\", \"x\": [-0.07591352271614883, -0.014227736832075925, null], \"y\": [-0.12629464524415931, -0.042792972167334124, null]}, {\"line\": {\"color\": \"gray\", \"width\": 1}, \"mode\": \"lines\", \"type\": \"scatter\", \"x\": [-0.1111167862361388, -0.17537211489142937, null], \"y\": [-0.0855111738776797, -0.14657865578170973, null]}, {\"line\": {\"color\": \"gray\", \"width\": 1}, \"mode\": \"lines\", \"type\": \"scatter\", \"x\": [0.030660582465032775, -0.014227736832075925, null], \"y\": [-0.12893744267336407, -0.042792972167334124, null]}, {\"line\": {\"color\": \"gray\", \"width\": 1}, \"mode\": \"lines\", \"type\": \"scatter\", \"x\": [-0.008720142567485002, -0.014227736832075925, null], \"y\": [-0.01568299203923696, -0.042792972167334124, null]}, {\"line\": {\"color\": \"gray\", \"width\": 1}, \"mode\": \"lines\", \"type\": \"scatter\", \"x\": [-0.24238267142402034, -0.19030177482821692, null], \"y\": [0.07680432909967369, 0.01693100965465017, null]}, {\"line\": {\"color\": \"gray\", \"width\": 1}, \"mode\": \"lines\", \"type\": \"scatter\", \"x\": [-0.19030177482821692, -0.26891976242640364, null], \"y\": [0.01693100965465017, 0.02573012544497747, null]}, {\"line\": {\"color\": \"gray\", \"width\": 1}, \"mode\": \"lines\", \"type\": \"scatter\", \"x\": [-0.14264001235151016, -0.10315772287157868, null], \"y\": [0.18353083322846483, 0.18423094523925546, null]}, {\"line\": {\"color\": \"gray\", \"width\": 1}, \"mode\": \"lines\", \"type\": \"scatter\", \"x\": [-0.23771763707034307, -0.17537211489142937, null], \"y\": [-0.19560303631880813, -0.14657865578170973, null]}, {\"line\": {\"color\": \"gray\", \"width\": 1}, \"mode\": \"lines\", \"type\": \"scatter\", \"x\": [0.01893774073437846, -0.014227736832075925, null], \"y\": [-0.12349507362768782, -0.042792972167334124, null]}, {\"hoverinfo\": \"text\", \"hovertext\": [], \"marker\": {\"color\": [0, 0, 1, 2, 3, 8, 8, 5, 5, 6, 7, 8, 9, 10, 10, 10, 0, 13, 8, 8, 12, 13, 14, 15, 8, 16, 17, 0, 18, 0, 13, 0, 13, 0, 19, 13, 20, 21, 8, 8, 8, 8, 22, 23, 13, 24, 13, 13, 13, 5, 8, 13, 0, 26, 0, 27, 0, 27, 28, 29, 8, 8, 5, 5, 9, 9, 9, 9, 30, 31, 32, 31, 31, 31, 0, 33, 5, 31, 34, 8, 8, 31, 9, 35, 9, 36, 31, 9, 13, 31, 8, 8, 31, 9, 31, 31, 13, 27, 37, 7, 7, 7, 7, 7, 13, 27, 8, 38, 8, 39, 31, 31, 31, 31, 9, 7, 7, 13, 40, 27, 13, 41, 27, 42, 27, 43, 27, 27, 44, 27, 8, 27, 7, 7, 27, 13, 45, 7, 7, 7, 46, 7, 47, 8, 27, 7, 7, 27, 48, 14, 14, 49, 50, 13, 14, 51, 27, 14, 0, 31, 27, 13, 5, 5, 5, 5, 27, 13, 14, 14, 0, 0, 7, 7, 52, 53, 13, 54, 27, 4, 25, 11], \"size\": 7, \"symbol\": [true, true, true, true, true, true, true, true, true, true, true, true, true, true, true, true, true, false, true, true, true, true, true, true, true, true, true, true, true, false, true, true, true, true, true, true, true, true, true, true, true, true, true, true, true, true, true, true, true, true, true, true, true, true, false, true, true, false, false, false, true, true, false, false, false, false, true, false, false, false, true, false, false, false, true, true, true, false, true, true, true, false, false, true, true, false, false, false, true, true, true, true, true, false, false, true, true, false, true, false, false, true, true, true, false, false, false, true, true, true, true, true, true, false, false, true, true, true, false, true, true, true, true, true, true, true, true, true, true, true, true, true, true, true, true, false, true, true, true, true, true, true, true, true, true, true, true, true, true, true, true, true, true, true, true, false, false, true, true, true, false, true, true, true, true, true, true, true, true, true, true, true, true, true, false, true, true, true, true, true, true, true]}, \"mode\": \"markers+text\", \"text\": [1.0, 2.0, 3.0, 4.0, 5.0, 6.0, 7.0, 8.0, 9.0, 10.0, 12.0, 13.0, 14.0, 15.0, 16.0, 17.0, 18.0, 19.0, 20.0, 21.0, 22.0, 23.0, 24.0, 25.0, 26.0, 27.0, 28.0, 29.0, 30.0, 31.0, 32.0, 33.0, 34.0, 35.0, 36.0, 37.0, 38.0, 39.0, 40.0, 41.0, 42.0, 43.0, 44.0, 45.0, 46.0, 47.0, 48.0, 49.0, 50.0, 51.0, 52.0, 53.0, 54.0, 55.0, 56.0, 57.0, 58.0, 59.0, 60.0, 61.0, 62.0, 63.0, 64.0, 65.0, 66.0, 67.0, 68.0, 69.0, 70.0, 71.0, 72.0, 73.0, 74.0, 75.0, 76.0, 77.0, 78.0, 79.0, 80.0, 81.0, 82.0, 83.0, 84.0, 85.0, 86.0, 87.0, 88.0, 89.0, 90.0, 91.0, 92.0, 93.0, 94.0, 95.0, 96.0, 97.0, 98.0, 99.0, 100.0, 101.0, 102.0, 103.0, 104.0, 105.0, 106.0, 107.0, 108.0, 109.0, 110.0, 111.0, 112.0, 113.0, 114.0, 115.0, 116.0, 117.0, 118.0, 119.0, 120.0, 121.0, 122.0, 123.0, 124.0, 125.0, 126.0, 127.0, 128.0, 129.0, 130.0, 131.0, 132.0, 133.0, 134.0, 135.0, 136.0, 137.0, 138.0, 139.0, 140.0, 141.0, 142.0, 143.0, 144.0, 145.0, 146.0, 147.0, 148.0, 149.0, 150.0, 151.0, 152.0, 153.0, 154.0, 155.0, 156.0, 157.0, 158.0, 159.0, 160.0, 161.0, 162.0, 163.0, 164.0, 165.0, 166.0, 167.0, 168.0, 169.0, 170.0, 171.0, 172.0, 173.0, 174.0, 175.0, 176.0, 177.0, 178.0, 179.0, 180.0, 181.0, 182.0, 183.0], \"textfont\": {\"size\": 10}, \"textposition\": \"top center\", \"type\": \"scatter\", \"x\": [-0.3053760958066823, -0.22404975802749885, -0.8460726474119991, 0.8153934010098806, -0.9112763974057712, 0.061791127260509754, -0.009180985662586313, -0.06693900131063761, -0.08804532379546319, 0.2592342243671997, 0.13200760665754493, 0.11621326154039684, -0.0794855717564741, -0.4300141956573331, -0.41178667662976753, -0.44002254048774203, -0.045281032811381586, -0.04187014971520882, 0.10820897454186144, 0.0015278539225428854, 0.959854830198676, 0.08371216576816881, -0.20078387442587295, 0.7538742276376227, 0.1555940606896626, 0.1748935785420223, -0.995150148768681, -0.08381668522625493, 0.819618751084368, -0.04693379500878188, -0.0021202113048160364, -0.09684023773393201, -0.10477488681114928, -0.04873641669103811, 0.6524808924704697, -0.028291159232216964, -0.2820247504249469, 0.7283535136156903, 0.018104449610882176, 0.06147699325087198, 0.020987852873670658, 0.15716295156561405, 0.059812246572723694, 0.7180597580594229, -0.11370880102418561, -0.8698766620985164, -0.11564356156424464, -0.17928444227353182, -0.2026214629779173, -0.20554303658417883, 0.0052989787136488815, -0.058959917616266316, 0.056422968164944465, 0.982312751788167, -0.004626957269381648, -0.09376888392804339, 0.054916386339231835, -0.06835275509217535, -0.5115266472047848, -0.6364635896177538, -0.06416023768320575, -0.09654035607563576, -0.09210520075352743, -0.059435136558095625, -0.05737947060015543, -0.06222111600024904, -0.11657320263482822, -0.030352431502559483, 0.7978660537188003, -0.027032038640550888, 0.5993506541045837, -0.05944785158417491, -0.1362666086176126, 0.00665208288341612, -0.3038410075499461, -0.14699229286897048, -0.09778162613036662, -0.021516912944154, -0.740948883005318, 0.2003910368912326, 0.2786406242445685, 0.0015666838803731872, -0.10454006771260613, 0.16804910884950428, -0.0932236090725361, -0.8320257398153657, -0.008741227202852623, -0.021197955990192686, -0.029477379413069597, 0.07117166498280708, -0.03864867092112275, 0.12230726591278249, 0.026255346767432592, -0.05263513394908113, 0.04079193564111641, 0.004594199691265823, -0.12685933992984552, 0.04987082912500304, 0.9168293411680727, 0.04376713513072373, 0.10131781002185844, 0.09610149729481736, 0.06951420363626727, 0.0001290653969096381, -0.0457296305512359, 0.1071181977287555, 0.0774115646929293, -0.987768094845489, -0.044879205105378454, 0.8919367045827171, 0.04553561082060511, 0.025139078558690037, 0.12891852136337031, 0.011615330354736851, -0.04162314538694668, -0.04736754984780746, -0.0724212060593034, 0.010282396206012808, 0.7469524999392215, 0.07661215859862615, -0.07409371248975366, -0.09854816723345655, -0.03987595939911223, -0.9555407662307855, -0.02732241667018175, 0.9644592856403443, 0.0025202666754051035, -0.06479823258549271, 0.5808915777253123, -0.1651602679450892, 0.06209695945940719, -0.07475967057635224, -0.01828027108607692, -0.07000909473175272, -0.010645963918469779, -0.1010006751721729, 0.41131175853018903, 0.03358773897590849, -0.019928570493757194, 0.05810657203436433, -0.9102751332901838, 0.0434227395395735, 0.6464074052690455, 0.02131572481172959, 0.05326995236169977, 0.12153820076340302, 0.013997672722655018, 0.14458798010317703, 0.8945140789454078, -0.10687927509769043, -0.145631153558427, 0.8594334447462828, 0.47973194400812724, 0.07193831294249597, -0.07591352271614883, 0.4900361548298159, -0.1111167862361388, -0.23265957039174143, 0.030660582465032775, -0.05486937877036051, 0.07394517690385609, -0.008720142567485002, -0.24238267142402034, -0.2696080924983311, -0.19030177482821692, -0.26891976242640364, 0.019488692259275686, -0.14264001235151016, -0.23771763707034307, -0.17537211489142937, 0.01893774073437846, -0.014227736832075925, -0.04034712207092415, 0.18525249429876803, 0.37746818881712424, 0.5548685203303388, -0.10315772287157868, -0.9782437434155061, 0.027771597380642894, -0.3154254811011125, -0.29635935499565896, -0.7658496254596115], \"y\": [0.02150759264947384, 0.013729774109609074, -0.5974026422814003, -0.15317412529242982, -0.44464104677540306, 0.023011458639723016, 0.05657566187490757, 0.10637644982316133, 0.19593605423896548, -0.9178083135006646, -0.009899040883356984, -0.035839240408858275, -0.24601983764869892, 0.7775570503055733, 0.7287137995187184, 0.7365218191590223, 0.2013753432840776, 0.018683362037641062, -0.02091763432526841, 0.032095756877487995, 0.27776157978763266, -0.1018317841441478, -0.23498798272216262, 0.5400027765280935, 0.0343958959597091, -0.9847042350828416, -0.22273740735737038, 0.01925354355745625, -0.6766205617913328, 0.11040733591348802, -0.024030476140154532, -0.031123440093827864, 0.10948398238217412, 0.04157129093663556, -0.604248338222189, 0.009747813033545508, -0.9901263548723983, -0.662023736971341, 0.07742354705173135, -0.0109473117103224, -0.03349462325112218, -0.002316498157844949, 1.0, 0.7136801665165986, -0.11628416517433651, -0.256528364958705, -0.0467437664135677, -0.0886118690711603, -0.062259939047365834, 0.11655185754107686, 0.004710248960822736, -0.043017294594320236, -0.042684498274881105, 0.0905681485848573, -0.08607589167284066, -0.01256423484152044, -0.08894462048653747, 0.0007324174525530838, 0.8538763297521264, 0.710875432519793, -0.030488963175715905, -0.09379853420250263, 0.1046607621423927, 0.013562129586326651, -0.24764055838390642, -0.16230485490355812, -0.02811514811153593, -0.1538109170608293, -0.5085295330153202, -0.06945797406197159, 0.6397731961968997, 0.04177282681198829, 0.09520741562189973, -0.15095276344136388, -0.0014446213154711166, 0.9410628702202207, 0.07171137727518094, -0.018665010061002088, 0.6784407998019373, -0.003731233742453892, -8.10548916527114e-05, -0.06968905573605497, -0.13884633225290569, 0.9361629695077819, -0.07236604843832767, 0.5862216858755228, -0.052161595565536054, -0.05745791917966554, -0.08765490073665703, -0.17162925497425227, -0.019682815850479544, 0.022363225319855483, -0.08630676523103266, -0.05959821037374742, -0.14318122502558658, -0.09402189801422985, -0.08025122201698884, 0.006878244098634228, -0.06292105586316739, -0.06864953316320788, 0.061712465485757734, 0.015339971581803686, 0.0020089009530309242, -0.009795849825951107, -0.0493203522666341, -0.04489093937239983, -0.07284954976114227, 0.2525917073416124, 0.05513048090909525, -0.32870860489628606, -0.04292248631664749, -0.09911169046248985, -0.09251998326163623, -0.05854674211512732, -0.14260683343617309, 0.1666204581728637, 0.16088599112552743, -0.03316240999329074, -0.44984171384062377, 0.04059045805482657, 0.018872792165201935, -0.9987402796037296, 0.08494012937042902, 0.3847151077104066, 0.05134726877708089, -0.22999117735039737, 0.059597373231644865, 0.029048344904688644, 0.7979272146469352, -0.04866897727482697, 0.1574149775775943, -0.035391740620783804, 0.06494535333082632, 0.08978340239526758, 0.0033856726588972165, 0.007063440623874999, -0.9650190289772987, 0.04392918373511421, 0.01714806083073243, 0.08959700631000932, 0.07879093666576624, -0.013805682413551991, -0.763252368660861, 0.1402090819296962, 0.04079751133169319, 0.11045723472075525, 0.023564009485678414, 0.13266667702907345, -0.45909064620834245, -0.20576695390072822, -0.20361638138164276, 0.44892060420064084, 0.7913492350047591, -0.0369233882813717, -0.12629464524415931, -0.907005196029077, -0.0855111738776797, -0.30148113841859414, -0.12893744267336407, -0.09384035644336178, 0.07788751583557248, -0.01568299203923696, 0.07680432909967369, 0.16373302153150518, 0.01693100965465017, 0.02573012544497747, 0.15362486181546753, 0.18353083322846483, -0.19560303631880813, -0.14657865578170973, -0.12349507362768782, -0.042792972167334124, 0.07838911253978155, 0.16577244105824285, 0.91065768779736, -0.8386854408921305, 0.18423094523925546, 0.14029333516226658, 0.0673059353539396, 0.9326829870720411, -0.9087416447529924, 0.5213726388957837]}],\n",
       "                        {\"autosize\": false, \"height\": 1000, \"showlegend\": false, \"template\": {\"data\": {\"bar\": [{\"error_x\": {\"color\": \"#2a3f5f\"}, \"error_y\": {\"color\": \"#2a3f5f\"}, \"marker\": {\"line\": {\"color\": \"#E5ECF6\", \"width\": 0.5}}, \"type\": \"bar\"}], \"barpolar\": [{\"marker\": {\"line\": {\"color\": \"#E5ECF6\", \"width\": 0.5}}, \"type\": \"barpolar\"}], \"carpet\": [{\"aaxis\": {\"endlinecolor\": \"#2a3f5f\", \"gridcolor\": \"white\", \"linecolor\": \"white\", \"minorgridcolor\": \"white\", \"startlinecolor\": \"#2a3f5f\"}, \"baxis\": {\"endlinecolor\": \"#2a3f5f\", \"gridcolor\": \"white\", \"linecolor\": \"white\", \"minorgridcolor\": \"white\", \"startlinecolor\": \"#2a3f5f\"}, \"type\": \"carpet\"}], \"choropleth\": [{\"colorbar\": {\"outlinewidth\": 0, \"ticks\": \"\"}, \"type\": \"choropleth\"}], \"contour\": [{\"colorbar\": {\"outlinewidth\": 0, \"ticks\": \"\"}, \"colorscale\": [[0.0, \"#0d0887\"], [0.1111111111111111, \"#46039f\"], [0.2222222222222222, \"#7201a8\"], [0.3333333333333333, \"#9c179e\"], [0.4444444444444444, \"#bd3786\"], [0.5555555555555556, \"#d8576b\"], [0.6666666666666666, \"#ed7953\"], [0.7777777777777778, \"#fb9f3a\"], [0.8888888888888888, \"#fdca26\"], [1.0, \"#f0f921\"]], \"type\": \"contour\"}], \"contourcarpet\": [{\"colorbar\": {\"outlinewidth\": 0, \"ticks\": \"\"}, \"type\": \"contourcarpet\"}], \"heatmap\": [{\"colorbar\": {\"outlinewidth\": 0, \"ticks\": \"\"}, \"colorscale\": [[0.0, \"#0d0887\"], [0.1111111111111111, \"#46039f\"], [0.2222222222222222, \"#7201a8\"], [0.3333333333333333, \"#9c179e\"], [0.4444444444444444, \"#bd3786\"], [0.5555555555555556, \"#d8576b\"], [0.6666666666666666, \"#ed7953\"], [0.7777777777777778, \"#fb9f3a\"], [0.8888888888888888, \"#fdca26\"], [1.0, \"#f0f921\"]], \"type\": \"heatmap\"}], \"heatmapgl\": [{\"colorbar\": {\"outlinewidth\": 0, \"ticks\": \"\"}, \"colorscale\": [[0.0, \"#0d0887\"], [0.1111111111111111, \"#46039f\"], [0.2222222222222222, \"#7201a8\"], [0.3333333333333333, \"#9c179e\"], [0.4444444444444444, \"#bd3786\"], [0.5555555555555556, \"#d8576b\"], [0.6666666666666666, \"#ed7953\"], [0.7777777777777778, \"#fb9f3a\"], [0.8888888888888888, \"#fdca26\"], [1.0, \"#f0f921\"]], \"type\": \"heatmapgl\"}], \"histogram\": [{\"marker\": {\"colorbar\": {\"outlinewidth\": 0, \"ticks\": \"\"}}, \"type\": \"histogram\"}], \"histogram2d\": [{\"colorbar\": {\"outlinewidth\": 0, \"ticks\": \"\"}, \"colorscale\": [[0.0, \"#0d0887\"], [0.1111111111111111, \"#46039f\"], [0.2222222222222222, \"#7201a8\"], [0.3333333333333333, \"#9c179e\"], [0.4444444444444444, \"#bd3786\"], [0.5555555555555556, \"#d8576b\"], [0.6666666666666666, \"#ed7953\"], [0.7777777777777778, \"#fb9f3a\"], [0.8888888888888888, \"#fdca26\"], [1.0, \"#f0f921\"]], \"type\": \"histogram2d\"}], \"histogram2dcontour\": [{\"colorbar\": {\"outlinewidth\": 0, \"ticks\": \"\"}, \"colorscale\": [[0.0, \"#0d0887\"], [0.1111111111111111, \"#46039f\"], [0.2222222222222222, \"#7201a8\"], [0.3333333333333333, \"#9c179e\"], [0.4444444444444444, \"#bd3786\"], [0.5555555555555556, \"#d8576b\"], [0.6666666666666666, \"#ed7953\"], [0.7777777777777778, \"#fb9f3a\"], [0.8888888888888888, \"#fdca26\"], [1.0, \"#f0f921\"]], \"type\": \"histogram2dcontour\"}], \"mesh3d\": [{\"colorbar\": {\"outlinewidth\": 0, \"ticks\": \"\"}, \"type\": \"mesh3d\"}], \"parcoords\": [{\"line\": {\"colorbar\": {\"outlinewidth\": 0, \"ticks\": \"\"}}, \"type\": \"parcoords\"}], \"pie\": [{\"automargin\": true, \"type\": \"pie\"}], \"scatter\": [{\"marker\": {\"colorbar\": {\"outlinewidth\": 0, \"ticks\": \"\"}}, \"type\": \"scatter\"}], \"scatter3d\": [{\"line\": {\"colorbar\": {\"outlinewidth\": 0, \"ticks\": \"\"}}, \"marker\": {\"colorbar\": {\"outlinewidth\": 0, \"ticks\": \"\"}}, \"type\": \"scatter3d\"}], \"scattercarpet\": [{\"marker\": {\"colorbar\": {\"outlinewidth\": 0, \"ticks\": \"\"}}, \"type\": \"scattercarpet\"}], \"scattergeo\": [{\"marker\": {\"colorbar\": {\"outlinewidth\": 0, \"ticks\": \"\"}}, \"type\": \"scattergeo\"}], \"scattergl\": [{\"marker\": {\"colorbar\": {\"outlinewidth\": 0, \"ticks\": \"\"}}, \"type\": \"scattergl\"}], \"scattermapbox\": [{\"marker\": {\"colorbar\": {\"outlinewidth\": 0, \"ticks\": \"\"}}, \"type\": \"scattermapbox\"}], \"scatterpolar\": [{\"marker\": {\"colorbar\": {\"outlinewidth\": 0, \"ticks\": \"\"}}, \"type\": \"scatterpolar\"}], \"scatterpolargl\": [{\"marker\": {\"colorbar\": {\"outlinewidth\": 0, \"ticks\": \"\"}}, \"type\": \"scatterpolargl\"}], \"scatterternary\": [{\"marker\": {\"colorbar\": {\"outlinewidth\": 0, \"ticks\": \"\"}}, \"type\": \"scatterternary\"}], \"surface\": [{\"colorbar\": {\"outlinewidth\": 0, \"ticks\": \"\"}, \"colorscale\": [[0.0, \"#0d0887\"], [0.1111111111111111, \"#46039f\"], [0.2222222222222222, \"#7201a8\"], [0.3333333333333333, \"#9c179e\"], [0.4444444444444444, \"#bd3786\"], [0.5555555555555556, \"#d8576b\"], [0.6666666666666666, \"#ed7953\"], [0.7777777777777778, \"#fb9f3a\"], [0.8888888888888888, \"#fdca26\"], [1.0, \"#f0f921\"]], \"type\": \"surface\"}], \"table\": [{\"cells\": {\"fill\": {\"color\": \"#EBF0F8\"}, \"line\": {\"color\": \"white\"}}, \"header\": {\"fill\": {\"color\": \"#C8D4E3\"}, \"line\": {\"color\": \"white\"}}, \"type\": \"table\"}]}, \"layout\": {\"annotationdefaults\": {\"arrowcolor\": \"#2a3f5f\", \"arrowhead\": 0, \"arrowwidth\": 1}, \"coloraxis\": {\"colorbar\": {\"outlinewidth\": 0, \"ticks\": \"\"}}, \"colorscale\": {\"diverging\": [[0, \"#8e0152\"], [0.1, \"#c51b7d\"], [0.2, \"#de77ae\"], [0.3, \"#f1b6da\"], [0.4, \"#fde0ef\"], [0.5, \"#f7f7f7\"], [0.6, \"#e6f5d0\"], [0.7, \"#b8e186\"], [0.8, \"#7fbc41\"], [0.9, \"#4d9221\"], [1, \"#276419\"]], \"sequential\": [[0.0, \"#0d0887\"], [0.1111111111111111, \"#46039f\"], [0.2222222222222222, \"#7201a8\"], [0.3333333333333333, \"#9c179e\"], [0.4444444444444444, \"#bd3786\"], [0.5555555555555556, \"#d8576b\"], [0.6666666666666666, \"#ed7953\"], [0.7777777777777778, \"#fb9f3a\"], [0.8888888888888888, \"#fdca26\"], [1.0, \"#f0f921\"]], \"sequentialminus\": [[0.0, \"#0d0887\"], [0.1111111111111111, \"#46039f\"], [0.2222222222222222, \"#7201a8\"], [0.3333333333333333, \"#9c179e\"], [0.4444444444444444, \"#bd3786\"], [0.5555555555555556, \"#d8576b\"], [0.6666666666666666, \"#ed7953\"], [0.7777777777777778, \"#fb9f3a\"], [0.8888888888888888, \"#fdca26\"], [1.0, \"#f0f921\"]]}, \"colorway\": [\"#636efa\", \"#EF553B\", \"#00cc96\", \"#ab63fa\", \"#FFA15A\", \"#19d3f3\", \"#FF6692\", \"#B6E880\", \"#FF97FF\", \"#FECB52\"], \"font\": {\"color\": \"#2a3f5f\"}, \"geo\": {\"bgcolor\": \"white\", \"lakecolor\": \"white\", \"landcolor\": \"#E5ECF6\", \"showlakes\": true, \"showland\": true, \"subunitcolor\": \"white\"}, \"hoverlabel\": {\"align\": \"left\"}, \"hovermode\": \"closest\", \"mapbox\": {\"style\": \"light\"}, \"paper_bgcolor\": \"white\", \"plot_bgcolor\": \"#E5ECF6\", \"polar\": {\"angularaxis\": {\"gridcolor\": \"white\", \"linecolor\": \"white\", \"ticks\": \"\"}, \"bgcolor\": \"#E5ECF6\", \"radialaxis\": {\"gridcolor\": \"white\", \"linecolor\": \"white\", \"ticks\": \"\"}}, \"scene\": {\"xaxis\": {\"backgroundcolor\": \"#E5ECF6\", \"gridcolor\": \"white\", \"gridwidth\": 2, \"linecolor\": \"white\", \"showbackground\": true, \"ticks\": \"\", \"zerolinecolor\": \"white\"}, \"yaxis\": {\"backgroundcolor\": \"#E5ECF6\", \"gridcolor\": \"white\", \"gridwidth\": 2, \"linecolor\": \"white\", \"showbackground\": true, \"ticks\": \"\", \"zerolinecolor\": \"white\"}, \"zaxis\": {\"backgroundcolor\": \"#E5ECF6\", \"gridcolor\": \"white\", \"gridwidth\": 2, \"linecolor\": \"white\", \"showbackground\": true, \"ticks\": \"\", \"zerolinecolor\": \"white\"}}, \"shapedefaults\": {\"line\": {\"color\": \"#2a3f5f\"}}, \"ternary\": {\"aaxis\": {\"gridcolor\": \"white\", \"linecolor\": \"white\", \"ticks\": \"\"}, \"baxis\": {\"gridcolor\": \"white\", \"linecolor\": \"white\", \"ticks\": \"\"}, \"bgcolor\": \"#E5ECF6\", \"caxis\": {\"gridcolor\": \"white\", \"linecolor\": \"white\", \"ticks\": \"\"}}, \"title\": {\"x\": 0.05}, \"xaxis\": {\"automargin\": true, \"gridcolor\": \"white\", \"linecolor\": \"white\", \"ticks\": \"\", \"title\": {\"standoff\": 15}, \"zerolinecolor\": \"white\", \"zerolinewidth\": 2}, \"yaxis\": {\"automargin\": true, \"gridcolor\": \"white\", \"linecolor\": \"white\", \"ticks\": \"\", \"title\": {\"standoff\": 15}, \"zerolinecolor\": \"white\", \"zerolinewidth\": 2}}}, \"width\": 1000, \"xaxis\": {\"showgrid\": false, \"showticklabels\": false, \"zeroline\": false}, \"yaxis\": {\"showgrid\": false, \"showticklabels\": false, \"zeroline\": false}},\n",
       "                        {\"responsive\": true}\n",
       "                    ).then(function(){\n",
       "                            \n",
       "var gd = document.getElementById('6f18f89d-6b47-450f-ab23-cef537a17c01');\n",
       "var x = new MutationObserver(function (mutations, observer) {{\n",
       "        var display = window.getComputedStyle(gd).display;\n",
       "        if (!display || display === 'none') {{\n",
       "            console.log([gd, 'removed!']);\n",
       "            Plotly.purge(gd);\n",
       "            observer.disconnect();\n",
       "        }}\n",
       "}});\n",
       "\n",
       "// Listen for the removal of the full notebook cells\n",
       "var notebookContainer = gd.closest('#notebook-container');\n",
       "if (notebookContainer) {{\n",
       "    x.observe(notebookContainer, {childList: true});\n",
       "}}\n",
       "\n",
       "// Listen for the clearing of the current output cell\n",
       "var outputEl = gd.closest('.output');\n",
       "if (outputEl) {{\n",
       "    x.observe(outputEl, {childList: true});\n",
       "}}\n",
       "\n",
       "                        })\n",
       "                };\n",
       "                });\n",
       "            </script>\n",
       "        </div>"
      ]
     },
     "metadata": {},
     "output_type": "display_data"
    },
    {
     "data": {
      "image/png": "[encoded data removed]",
      "text/plain": [
       "<Figure size 432x288 with 1 Axes>"
      ]
     },
     "metadata": {
      "needs_background": "light"
     },
     "output_type": "display_data"
    }
   ],
   "source": [
    "G_nx = nx.from_numpy_matrix(ad_mat_np)\n",
    "\n",
    "G_deg = nx.degree_histogram(G_nx)\n",
    "plt.plot(G_deg)\n",
    "G_deg_sum = [a * b for a, b in zip(G_deg, range(0, len(G_deg)))]\n",
    "print('average degree: {}'.format(sum(G_deg_sum) / G_nx.number_of_nodes()))\n",
    "\n",
    "partition = {}\n",
    "partition = community_louvain.best_partition(G_nx)\n",
    "\n",
    "num_comm = max(partition.values())\n",
    "print('num communities: {}'.format(num_comm))\n",
    "\n",
    "types = room_type\n",
    "info = stata_vill['HHnum_in_village'].values\n",
    "graph_vis(G_nx, types, partition, info)"
   ]
  },
  {
   "cell_type": "markdown",
   "metadata": {},
   "source": [
    "# Fitting Model"
   ]
  },
  {
   "cell_type": "markdown",
   "metadata": {},
   "source": [
    "## Metrics we care about\n",
    "\n",
    "triangle count/clustering coefficient \n",
    "\n",
    "attribute assortativity"
   ]
  },
  {
   "cell_type": "code",
   "execution_count": 34,
   "metadata": {},
   "outputs": [],
   "source": [
    "import sim_lib.util as util\n",
    "import sim_lib.attr_lib.util as alu\n",
    "from sim_lib.attr_lib.formation import *\n",
    "from math import isclose\n",
    "from scipy.stats import wasserstein_distance\n",
    "from itertools import combinations"
   ]
  },
  {
   "cell_type": "code",
   "execution_count": 35,
   "metadata": {},
   "outputs": [],
   "source": [
    "type_dict = {k: v for k, v in enumerate(types)}\n",
    "nx.set_node_attributes(G_nx, type_dict, \"type\")"
   ]
  },
  {
   "cell_type": "code",
   "execution_count": 36,
   "metadata": {},
   "outputs": [],
   "source": [
    "data_tri_cnt = sum((nx.triangles(G_nx)).values())/3\n",
    "data_assort = nx.attribute_assortativity_coefficient(G_nx, \"type\")\n",
    "data_max_clique = max((nx.node_clique_number(G_nx)).values())"
   ]
  },
  {
   "cell_type": "code",
   "execution_count": 37,
   "metadata": {},
   "outputs": [
    {
     "name": "stdout",
     "output_type": "stream",
     "text": [
      "105.0 0.17877006197362152\n",
      "0.7912087912087912\n"
     ]
    }
   ],
   "source": [
    "print(data_tri_cnt, data_assort)\n",
    "\n",
    "print(sum(types)/len(types))"
   ]
  },
  {
   "cell_type": "code",
   "execution_count": 38,
   "metadata": {},
   "outputs": [],
   "source": [
    "_N = G_nx.number_of_nodes()\n",
    "ctxt_likelihood = sum(types)/len(types)"
   ]
  },
  {
   "cell_type": "code",
   "execution_count": 39,
   "metadata": {},
   "outputs": [],
   "source": [
    "def count_stable_triads(G):\n",
    "    num_stable_triad = 0\n",
    "    num_em_ho_st = 0\n",
    "    num_sc_ho_st = 0\n",
    "    num_sc_he_st = 0\n",
    "    for triad in combinations(G.vertices, 3):\n",
    "        attr_funcs = [ t.data['attr'] for t in triad ]\n",
    "        if len(set(attr_funcs)) != 1:\n",
    "            continue\n",
    "            \n",
    "        struct_funcs = [ t.data['struct'] for t in triad ]\n",
    "        if len(set(struct_funcs)) != 1:\n",
    "            continue\n",
    "          \n",
    "        if triad[0].data['struct'] == 'em' and triad[0].data['attr'] == 'ho':\n",
    "            \n",
    "            # Homophily so all same type\n",
    "            if len(set([ t.data['type_name'] for t in triad ])) != 1:\n",
    "                continue\n",
    "                \n",
    "            # Triangle\n",
    "            if G.are_neighbors(triad[0], triad[1]) and G.are_neighbors(triad[0], triad[2]) \\\n",
    "                    and G.are_neighbors(triad[1], triad[2]):\n",
    "                num_em_ho_st += 1\n",
    "        elif triad[0].data['struct'] == 'sc' and triad[0].data['attr'] == 'ho':\n",
    "            \n",
    "            # Homophily all same type\n",
    "            if len(set([ t.data['type_name'] for t in triad ])) != 1:\n",
    "                continue\n",
    "                \n",
    "            # Exactly two edges\n",
    "            if sum([ G.are_neighbors(p[0], p[1]) for p in combinations(triad, 2) ]) == 2:\n",
    "                num_sc_ho_st += 1\n",
    "        elif triad[0].data['struct'] == 'sc' and triad[0].data['attr'] == 'he':\n",
    "            \n",
    "            # Heterophily so not all same type\n",
    "            if len(set([ t.data['type_name'] for t in triad ])) == 1:\n",
    "                continue\n",
    "                \n",
    "            # Exactly two edges\n",
    "            edge_pairs = []\n",
    "            for pair in combinations(triad, 2):\n",
    "                if G.are_neighbors(pair[0], pair[1]):\n",
    "                    edge_pairs.append(pair)\n",
    "            \n",
    "            if len(edge_pairs) != 2:\n",
    "                continue\n",
    "            if edge_pairs[0][0].data['type_name'] != edge_pairs[0][1].data['type_name'] and \\\n",
    "                    edge_pairs[1][0].data['type_name'] != edge_pairs[1][1].data['type_name']:\n",
    "                num_sc_he_st += 1\n",
    "                \n",
    "    return num_em_ho_st + num_sc_ho_st + num_sc_he_st\n",
    "\n",
    "def num_edges(G):\n",
    "    return np.sum(G.adj_matrix) / 2"
   ]
  },
  {
   "cell_type": "code",
   "execution_count": 17,
   "metadata": {},
   "outputs": [],
   "source": [
    "# Simul + some vis parameters\n",
    "num_iters = 40\n",
    "add_to_iter = 0\n",
    "show_last = 0\n",
    "show_every = 0"
   ]
  },
  {
   "cell_type": "code",
   "execution_count": 20,
   "metadata": {},
   "outputs": [],
   "source": [
    "def run_sim(sc_likelihood, ho_likelihood, clique_size):\n",
    "\n",
    "    # Create types\n",
    "    def type_dict(context, shape, context_p, attr, struct):\n",
    "        likelihood = context_p\n",
    "        if struct == 'em':\n",
    "            struct_func = alu.triangle_count\n",
    "            likelihood = likelihood * (1 - sc_likelihood)\n",
    "        else:\n",
    "            struct_func = alu.num_nbor_comp_nx\n",
    "            likelihood = likelihood * sc_likelihood\n",
    "        if attr == 'ho':\n",
    "            attr_edge_func = alu.homophily\n",
    "            likelihood = likelihood * ho_likelihood\n",
    "        else:\n",
    "            attr_edge_func = alu.heterophily\n",
    "            likelihood = likelihood * (1 - ho_likelihood)\n",
    "\n",
    "        #Base color is a rgb list\n",
    "        base_dict = {'likelihood' : likelihood,\n",
    "                  'struct_util' : struct_func,\n",
    "                  'struct' : struct,\n",
    "                  'init_attrs' : context,\n",
    "                  'attr' : attr,\n",
    "                  'edge_attr_util' : attr_edge_func,\n",
    "                  'total_attr_util' : alu.agg_attr_util,\n",
    "                  'optimistic' : False,\n",
    "                  #'color' : 'rgb({rgb})'.format(rgb=', '.join([ str(c) for c in color ])),\n",
    "                  'shape' :  shape\n",
    "                  #'{shape}'.format(shape=', '.join([str(s) for s in shape]))\n",
    "                  }\n",
    "\n",
    "        return base_dict\n",
    "\n",
    "    ctxt_types = [-1, 1]\n",
    "    ctxt_base_shapes = [0 , 2]\n",
    "    ctxt_p = [ctxt_likelihood, 1-ctxt_likelihood]\n",
    "    struct_types = ['em', 'sc']\n",
    "    attr_types = ['ho', 'he']\n",
    "    type_itr = [ (ctxt, shape, ct_p, at, st) for (ctxt, shape, ct_p) in zip(ctxt_types, ctxt_base_shapes, ctxt_p)\n",
    "                for (at, st) in [(a, s) for a in attr_types for s in struct_types] ]\n",
    "    type_list = [ type_dict(*t_args) for t_args \\\n",
    "                  in type_itr ]\n",
    "\n",
    "    type_counts = [ int(np.floor(_N * tl['likelihood'])) for tl in type_list ]\n",
    "\n",
    "    remaining_tc = _N - sum(type_counts)\n",
    "    for i in range(remaining_tc):\n",
    "        type_counts[i] = type_counts[i] + 1\n",
    "    assert sum(type_counts) == _N, 'Did that work?'\n",
    "\n",
    "    tc_dict = { f'type{idx}' : tc for idx, tc in enumerate(type_counts) }\n",
    "    vtx_types = { f'type{idx}' : tl for idx, tl in enumerate(type_list) }\n",
    "\n",
    "    params = {\n",
    "        'context_count' : 2, # Needed for simple utility\n",
    "        'edge_selection' : alu.seq_projection_edge_edit,\n",
    "        'seed_type' : 'trivial', # Type of seed network\n",
    "        'max_clique_size' : clique_size,\n",
    "        'revelation_proposals' : alu.indep_revelation,\n",
    "        'util_agg' : alu.linear_util_agg, # How to aggregate utility values\n",
    "        'vtx_types' : vtx_types\n",
    "    }\n",
    "\n",
    "    vtx_types_list = np.array([ np.repeat(t, tc) for t, tc in tc_dict.items() ])\n",
    "    vtx_types_list = np.hstack(vtx_types_list)\n",
    "    np.random.shuffle(vtx_types_list)\n",
    "\n",
    "    # Assign types to vertices before intialization\n",
    "    params['type_assignment'] = { i : vtx_types_list[i] for i in range(_N) }\n",
    "\n",
    "    assert isclose(sum([ t['likelihood'] for t in params['vtx_types'].values() ]), 1.0)\n",
    "    \n",
    "    G = attribute_network(_N, params)\n",
    "\n",
    "    st_counts = []\n",
    "    edge_counts = []\n",
    "\n",
    "    for it in range(num_iters):\n",
    "        if it < add_to_iter:\n",
    "            add_attr_graph_vtx(G)\n",
    "\n",
    "        G.sim_params['edge_selection'] = alu.seq_edge_sel_silent\n",
    "        \n",
    "        calc_edges(G)\n",
    "\n",
    "        st_counts.append(count_stable_triads(G))\n",
    "        edge_counts.append(num_edges(G))\n",
    "    \n",
    "    G_nx_sim = alu.graph_to_nx(G)\n",
    "    sim_tri_cnt = sum((nx.triangles(G_nx_sim)).values())/3\n",
    "    sim_assort = nx.attribute_assortativity_coefficient(G_nx_sim, \"shape\")\n",
    "    \n",
    "    diff_tri_cnt = (data_tri_cnt - sim_tri_cnt)/data_tri_cnt\n",
    "    diff_assort = (data_assort - sim_assort)\n",
    "    return (our mo)\n",
    "    "
   ]
  },
  {
   "cell_type": "code",
   "execution_count": 22,
   "metadata": {},
   "outputs": [
    {
     "name": "stderr",
     "output_type": "stream",
     "text": [
      "<ipython-input-20-6dffe73a2722>:65: VisibleDeprecationWarning:\n",
      "\n",
      "Creating an ndarray from ragged nested sequences (which is a list-or-tuple of lists-or-tuples-or ndarrays with different lengths or shapes) is deprecated. If you meant to do this, you must specify 'dtype=object' when creating the ndarray\n",
      "\n"
     ]
    },
    {
     "name": "stdout",
     "output_type": "stream",
     "text": [
      "1.0808375076431893 [1, 1, 4]\n"
     ]
    }
   ],
   "source": [
    "best_loss = np.inf\n",
    "best_params = [-1,-1,-1]\n",
    "\n",
    "for sc in [1]:\n",
    "    for ho in [1]:\n",
    "        for k in [4]:\n",
    "            new_loss = run_sim(sc,ho,k)\n",
    "            if new_loss<best_loss:\n",
    "                best_loss = new_loss\n",
    "                best_params = [sc,ho,k]\n",
    "\n",
    "print(best_loss, best_params)"
   ]
  },
  {
   "cell_type": "markdown",
   "metadata": {},
   "source": [
    "# Checking if the matrices are actually different"
   ]
  },
  {
   "cell_type": "code",
   "execution_count": 49,
   "metadata": {},
   "outputs": [
    {
     "name": "stdout",
     "output_type": "stream",
     "text": [
      "all different\n"
     ]
    }
   ],
   "source": [
    "money_hyp_files = ['borrowmoney', 'lendmoney', 'keroricecome', 'keroricego']\n",
    "trust_hyp_files = ['helpdecision', 'giveadvice', 'medic']\n",
    "trust_fact_files = ['visitcome','visitgo', 'templecompany']\n",
    "\n",
    "def check_mat(vill_no, files):\n",
    "\n",
    "    stata_vill = stata_household.where(stata_household['village'] == vill_no).dropna(how = 'all')\n",
    "\n",
    "    room_type = np.array(stata_vill['room_no']/np.sqrt((stata_vill['bed_no']+1))<=2)\n",
    "\n",
    "    old_file = 'banerjee_data/datav4.0/Data/1. Network Data/Adjacency Matrices/adj_' + files[0] +'_HH_vilno_' + str(vill_no) + '.csv'\n",
    "    ad_mat_old= (pd.read_csv(old_file, header=None)).to_numpy()\n",
    "\n",
    "    # union all the desired files together\n",
    "\n",
    "    for file in files[1:]:\n",
    "        new_file = 'banerjee_data/datav4.0/Data/1. Network Data/Adjacency Matrices/adj_' + file +'_HH_vilno_' + str(vill_no) + '.csv'\n",
    "        ad_mat_new = (pd.read_csv(new_file, header=None)).to_numpy()\n",
    "\n",
    "        ad_mat_old = np.bitwise_or(ad_mat_old, ad_mat_new)\n",
    "\n",
    "\n",
    "    return ad_mat_old\n",
    "    \n",
    "\n",
    "\n",
    "for vill_no in range(77):\n",
    "    vill_no = vill_no +1\n",
    "    if vill_no == 13 or vill_no == 22:\n",
    "        continue\n",
    "\n",
    "    assert(not np.array_equal(check_mat(vill_no,money_hyp_files), check_mat(vill_no, trust_hyp_files)))\n",
    "    assert(not np.array_equal(check_mat(vill_no,trust_hyp_files), check_mat(vill_no, trust_fact_files)))\n",
    "    assert(not np.array_equal(check_mat(vill_no,trust_fact_files), check_mat(vill_no, money_hyp_files)))\n",
    "\n",
    "print('all different')"
   ]
  },
  {
   "cell_type": "code",
   "execution_count": null,
   "metadata": {},
   "outputs": [],
   "source": []
  }
 ],
 "metadata": {
  "kernelspec": {
   "display_name": "Python 3",
   "language": "python",
   "name": "python3"
  },
  "language_info": {
   "codemirror_mode": {
    "name": "ipython",
    "version": 3
   },
   "file_extension": ".py",
   "mimetype": "text/x-python",
   "name": "python",
   "nbconvert_exporter": "python",
   "pygments_lexer": "ipython3",
   "version": "3.8.2"
  }
 },
 "nbformat": 4,
 "nbformat_minor": 4
}
